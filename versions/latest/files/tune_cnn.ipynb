{
 "cells": [
  {
   "cell_type": "markdown",
   "metadata": {},
   "source": [
    "# Tune a CNN on MNIST\n",
    "\n",
    "This tutorial walks through using Ax to tune two hyperparameters (learning rate and momentum) for a PyTorch CNN on the MNIST dataset trained using SGD with momentum.\n"
   ]
  },
  {
   "cell_type": "code",
   "execution_count": 1,
   "metadata": {},
   "outputs": [
    {
     "data": {
      "text/html": [
       "<script type='text/javascript'>/*\n",
       " * Copyright (c) Facebook, Inc. and its affiliates. All Rights Reserved.\n",
       " */\n",
       "\n",
       "requirejs.config({\n",
       "  paths: {\n",
       "    plotly: ['https://cdn.plot.ly/plotly-latest.min'],\n",
       "  },\n",
       "});\n",
       "if (!window.Plotly) {\n",
       "  require(['plotly'], function(plotly) {\n",
       "    window.Plotly = plotly;\n",
       "  });\n",
       "}\n",
       "/*\n",
       " * Copyright (c) Facebook, Inc. and its affiliates. All Rights Reserved.\n",
       " */\n",
       "\n",
       "// helper functions used across multiple plots\n",
       "function rgb(rgb_array) {\n",
       "  return 'rgb(' + rgb_array.join() + ')';\n",
       "}\n",
       "\n",
       "function copy_and_reverse(arr) {\n",
       "  const copy = arr.slice();\n",
       "  copy.reverse();\n",
       "  return copy;\n",
       "}\n",
       "\n",
       "function axis_range(grid, is_log) {\n",
       "  return is_log ?\n",
       "    [Math.log10(Math.min(...grid)), Math.log10(Math.max(...grid))]:\n",
       "    [Math.min(...grid), Math.max(...grid)];\n",
       "}\n",
       "\n",
       "function relativize_data(f, sd, rel, arm_data, metric) {\n",
       "  // if relative, extract status quo & compute ratio\n",
       "  const f_final = rel === true ? [] : f;\n",
       "  const sd_final = rel === true ? []: sd;\n",
       "\n",
       "  if (rel === true) {\n",
       "    const f_sq = (\n",
       "      arm_data['in_sample'][arm_data['status_quo_name']]['y'][metric]\n",
       "    );\n",
       "    const sd_sq = (\n",
       "      arm_data['in_sample'][arm_data['status_quo_name']]['se'][metric]\n",
       "    );\n",
       "\n",
       "    for (let i = 0; i < f.length; i++) {\n",
       "      res = relativize(f[i], sd[i], f_sq, sd_sq);\n",
       "      f_final.push(100 * res[0]);\n",
       "      sd_final.push(100 * res[1]);\n",
       "    }\n",
       "  }\n",
       "\n",
       "  return [f_final, sd_final];\n",
       "}\n",
       "\n",
       "function relativize(m_t, sem_t, m_c, sem_c) {\n",
       "  r_hat = (\n",
       "    (m_t - m_c) / Math.abs(m_c) -\n",
       "    Math.pow(sem_c, 2) * m_t / Math.pow(Math.abs(m_c), 3)\n",
       "  );\n",
       "  variance = (\n",
       "    (Math.pow(sem_t, 2) + Math.pow((m_t / m_c * sem_c), 2)) /\n",
       "    Math.pow(m_c, 2)\n",
       "   )\n",
       "   return [r_hat, Math.sqrt(variance)];\n",
       "}\n",
       "</script>"
      ]
     },
     "metadata": {},
     "output_type": "display_data"
    },
    {
     "name": "stderr",
     "output_type": "stream",
     "text": [
      "[INFO 08-09 06:27:42] ipy_plotting: Injecting Plotly library into cell. Do not overwrite or delete cell.\n"
     ]
    }
   ],
   "source": [
    "import torch\n",
    "import numpy as np\n",
    "\n",
    "from ax.plot.contour import plot_contour\n",
    "from ax.plot.trace import optimization_trace_single_method\n",
    "from ax.service.managed_loop import optimize\n",
    "from ax.utils.notebook.plotting import render, init_notebook_plotting\n",
    "from ax.utils.tutorials.cnn_utils import load_mnist, train, evaluate, CNN\n",
    "\n",
    "init_notebook_plotting()"
   ]
  },
  {
   "cell_type": "code",
   "execution_count": 2,
   "metadata": {
    "collapsed": true
   },
   "outputs": [],
   "source": [
    "torch.manual_seed(12345)\n",
    "dtype = torch.float\n",
    "device = torch.device(\"cuda\" if torch.cuda.is_available() else \"cpu\")"
   ]
  },
  {
   "cell_type": "markdown",
   "metadata": {},
   "source": [
    "## 1. Load MNIST data\n",
    "First, we need to load the MNIST data and partition it into training, validation, and test sets.\n",
    "\n",
    "Note: this will download the dataset if necessary."
   ]
  },
  {
   "cell_type": "code",
   "execution_count": 3,
   "metadata": {
    "scrolled": true
   },
   "outputs": [
    {
     "name": "stderr",
     "output_type": "stream",
     "text": [
      "\r",
      "0.0%"
     ]
    },
    {
     "name": "stderr",
     "output_type": "stream",
     "text": [
      "\r",
      "0.1%"
     ]
    },
    {
     "name": "stdout",
     "output_type": "stream",
     "text": [
      "Downloading http://yann.lecun.com/exdb/mnist/train-images-idx3-ubyte.gz to ./data/MNIST/raw/train-images-idx3-ubyte.gz\n"
     ]
    },
    {
     "name": "stderr",
     "output_type": "stream",
     "text": [
      "\r",
      "0.2%"
     ]
    },
    {
     "name": "stderr",
     "output_type": "stream",
     "text": [
      "\r",
      "0.2%"
     ]
    },
    {
     "name": "stderr",
     "output_type": "stream",
     "text": [
      "\r",
      "0.3%"
     ]
    },
    {
     "name": "stderr",
     "output_type": "stream",
     "text": [
      "\r",
      "0.4%"
     ]
    },
    {
     "name": "stderr",
     "output_type": "stream",
     "text": [
      "\r",
      "0.5%"
     ]
    },
    {
     "name": "stderr",
     "output_type": "stream",
     "text": [
      "\r",
      "0.6%"
     ]
    },
    {
     "name": "stderr",
     "output_type": "stream",
     "text": [
      "\r",
      "0.7%"
     ]
    },
    {
     "name": "stderr",
     "output_type": "stream",
     "text": [
      "\r",
      "0.7%"
     ]
    },
    {
     "name": "stderr",
     "output_type": "stream",
     "text": [
      "\r",
      "0.8%"
     ]
    },
    {
     "name": "stderr",
     "output_type": "stream",
     "text": [
      "\r",
      "0.9%"
     ]
    },
    {
     "name": "stderr",
     "output_type": "stream",
     "text": [
      "\r",
      "1.0%"
     ]
    },
    {
     "name": "stderr",
     "output_type": "stream",
     "text": [
      "\r",
      "1.1%"
     ]
    },
    {
     "name": "stderr",
     "output_type": "stream",
     "text": [
      "\r",
      "1.2%"
     ]
    },
    {
     "name": "stderr",
     "output_type": "stream",
     "text": [
      "\r",
      "1.2%"
     ]
    },
    {
     "name": "stderr",
     "output_type": "stream",
     "text": [
      "\r",
      "1.3%"
     ]
    },
    {
     "name": "stderr",
     "output_type": "stream",
     "text": [
      "\r",
      "1.4%"
     ]
    },
    {
     "name": "stderr",
     "output_type": "stream",
     "text": [
      "\r",
      "1.5%"
     ]
    },
    {
     "name": "stderr",
     "output_type": "stream",
     "text": [
      "\r",
      "1.6%"
     ]
    },
    {
     "name": "stderr",
     "output_type": "stream",
     "text": [
      "\r",
      "1.7%"
     ]
    },
    {
     "name": "stderr",
     "output_type": "stream",
     "text": [
      "\r",
      "1.7%"
     ]
    },
    {
     "name": "stderr",
     "output_type": "stream",
     "text": [
      "\r",
      "1.8%"
     ]
    },
    {
     "name": "stderr",
     "output_type": "stream",
     "text": [
      "\r",
      "1.9%"
     ]
    },
    {
     "name": "stderr",
     "output_type": "stream",
     "text": [
      "\r",
      "2.0%"
     ]
    },
    {
     "name": "stderr",
     "output_type": "stream",
     "text": [
      "\r",
      "2.1%"
     ]
    },
    {
     "name": "stderr",
     "output_type": "stream",
     "text": [
      "\r",
      "2.1%"
     ]
    },
    {
     "name": "stderr",
     "output_type": "stream",
     "text": [
      "\r",
      "2.2%"
     ]
    },
    {
     "name": "stderr",
     "output_type": "stream",
     "text": [
      "\r",
      "2.3%"
     ]
    },
    {
     "name": "stderr",
     "output_type": "stream",
     "text": [
      "\r",
      "2.4%"
     ]
    },
    {
     "name": "stderr",
     "output_type": "stream",
     "text": [
      "\r",
      "2.5%"
     ]
    },
    {
     "name": "stderr",
     "output_type": "stream",
     "text": [
      "\r",
      "2.6%"
     ]
    },
    {
     "name": "stderr",
     "output_type": "stream",
     "text": [
      "\r",
      "2.6%"
     ]
    },
    {
     "name": "stderr",
     "output_type": "stream",
     "text": [
      "\r",
      "2.7%"
     ]
    },
    {
     "name": "stderr",
     "output_type": "stream",
     "text": [
      "\r",
      "2.8%"
     ]
    },
    {
     "name": "stderr",
     "output_type": "stream",
     "text": [
      "\r",
      "2.9%"
     ]
    },
    {
     "name": "stderr",
     "output_type": "stream",
     "text": [
      "\r",
      "3.0%"
     ]
    },
    {
     "name": "stderr",
     "output_type": "stream",
     "text": [
      "\r",
      "3.1%"
     ]
    },
    {
     "name": "stderr",
     "output_type": "stream",
     "text": [
      "\r",
      "3.1%"
     ]
    },
    {
     "name": "stderr",
     "output_type": "stream",
     "text": [
      "\r",
      "3.2%"
     ]
    },
    {
     "name": "stderr",
     "output_type": "stream",
     "text": [
      "\r",
      "3.3%"
     ]
    },
    {
     "name": "stderr",
     "output_type": "stream",
     "text": [
      "\r",
      "3.4%"
     ]
    },
    {
     "name": "stderr",
     "output_type": "stream",
     "text": [
      "\r",
      "3.5%"
     ]
    },
    {
     "name": "stderr",
     "output_type": "stream",
     "text": [
      "\r",
      "3.6%"
     ]
    },
    {
     "name": "stderr",
     "output_type": "stream",
     "text": [
      "\r",
      "3.6%"
     ]
    },
    {
     "name": "stderr",
     "output_type": "stream",
     "text": [
      "\r",
      "3.7%"
     ]
    },
    {
     "name": "stderr",
     "output_type": "stream",
     "text": [
      "\r",
      "3.8%"
     ]
    },
    {
     "name": "stderr",
     "output_type": "stream",
     "text": [
      "\r",
      "3.9%"
     ]
    },
    {
     "name": "stderr",
     "output_type": "stream",
     "text": [
      "\r",
      "4.0%"
     ]
    },
    {
     "name": "stderr",
     "output_type": "stream",
     "text": [
      "\r",
      "4.0%"
     ]
    },
    {
     "name": "stderr",
     "output_type": "stream",
     "text": [
      "\r",
      "4.1%"
     ]
    },
    {
     "name": "stderr",
     "output_type": "stream",
     "text": [
      "\r",
      "4.2%"
     ]
    },
    {
     "name": "stderr",
     "output_type": "stream",
     "text": [
      "\r",
      "4.3%"
     ]
    },
    {
     "name": "stderr",
     "output_type": "stream",
     "text": [
      "\r",
      "4.4%"
     ]
    },
    {
     "name": "stderr",
     "output_type": "stream",
     "text": [
      "\r",
      "4.5%"
     ]
    },
    {
     "name": "stderr",
     "output_type": "stream",
     "text": [
      "\r",
      "4.5%"
     ]
    },
    {
     "name": "stderr",
     "output_type": "stream",
     "text": [
      "\r",
      "4.6%"
     ]
    },
    {
     "name": "stderr",
     "output_type": "stream",
     "text": [
      "\r",
      "4.7%"
     ]
    },
    {
     "name": "stderr",
     "output_type": "stream",
     "text": [
      "\r",
      "4.8%"
     ]
    },
    {
     "name": "stderr",
     "output_type": "stream",
     "text": [
      "\r",
      "4.9%"
     ]
    },
    {
     "name": "stderr",
     "output_type": "stream",
     "text": [
      "\r",
      "5.0%"
     ]
    },
    {
     "name": "stderr",
     "output_type": "stream",
     "text": [
      "\r",
      "5.0%"
     ]
    },
    {
     "name": "stderr",
     "output_type": "stream",
     "text": [
      "\r",
      "5.1%"
     ]
    },
    {
     "name": "stderr",
     "output_type": "stream",
     "text": [
      "\r",
      "5.2%"
     ]
    },
    {
     "name": "stderr",
     "output_type": "stream",
     "text": [
      "\r",
      "5.3%"
     ]
    },
    {
     "name": "stderr",
     "output_type": "stream",
     "text": [
      "\r",
      "5.4%"
     ]
    },
    {
     "name": "stderr",
     "output_type": "stream",
     "text": [
      "\r",
      "5.5%"
     ]
    },
    {
     "name": "stderr",
     "output_type": "stream",
     "text": [
      "\r",
      "5.5%"
     ]
    },
    {
     "name": "stderr",
     "output_type": "stream",
     "text": [
      "\r",
      "5.6%"
     ]
    },
    {
     "name": "stderr",
     "output_type": "stream",
     "text": [
      "\r",
      "5.7%"
     ]
    },
    {
     "name": "stderr",
     "output_type": "stream",
     "text": [
      "\r",
      "5.8%"
     ]
    },
    {
     "name": "stderr",
     "output_type": "stream",
     "text": [
      "\r",
      "5.9%"
     ]
    },
    {
     "name": "stderr",
     "output_type": "stream",
     "text": [
      "\r",
      "6.0%"
     ]
    },
    {
     "name": "stderr",
     "output_type": "stream",
     "text": [
      "\r",
      "6.0%"
     ]
    },
    {
     "name": "stderr",
     "output_type": "stream",
     "text": [
      "\r",
      "6.1%"
     ]
    },
    {
     "name": "stderr",
     "output_type": "stream",
     "text": [
      "\r",
      "6.2%"
     ]
    },
    {
     "name": "stderr",
     "output_type": "stream",
     "text": [
      "\r",
      "6.3%"
     ]
    },
    {
     "name": "stderr",
     "output_type": "stream",
     "text": [
      "\r",
      "6.4%"
     ]
    },
    {
     "name": "stderr",
     "output_type": "stream",
     "text": [
      "\r",
      "6.4%"
     ]
    },
    {
     "name": "stderr",
     "output_type": "stream",
     "text": [
      "\r",
      "6.5%"
     ]
    },
    {
     "name": "stderr",
     "output_type": "stream",
     "text": [
      "\r",
      "6.6%"
     ]
    },
    {
     "name": "stderr",
     "output_type": "stream",
     "text": [
      "\r",
      "6.7%"
     ]
    },
    {
     "name": "stderr",
     "output_type": "stream",
     "text": [
      "\r",
      "6.8%"
     ]
    },
    {
     "name": "stderr",
     "output_type": "stream",
     "text": [
      "\r",
      "6.9%"
     ]
    },
    {
     "name": "stderr",
     "output_type": "stream",
     "text": [
      "\r",
      "6.9%"
     ]
    },
    {
     "name": "stderr",
     "output_type": "stream",
     "text": [
      "\r",
      "7.0%"
     ]
    },
    {
     "name": "stderr",
     "output_type": "stream",
     "text": [
      "\r",
      "7.1%"
     ]
    },
    {
     "name": "stderr",
     "output_type": "stream",
     "text": [
      "\r",
      "7.2%"
     ]
    },
    {
     "name": "stderr",
     "output_type": "stream",
     "text": [
      "\r",
      "7.3%"
     ]
    },
    {
     "name": "stderr",
     "output_type": "stream",
     "text": [
      "\r",
      "7.4%"
     ]
    },
    {
     "name": "stderr",
     "output_type": "stream",
     "text": [
      "\r",
      "7.4%"
     ]
    },
    {
     "name": "stderr",
     "output_type": "stream",
     "text": [
      "\r",
      "7.5%"
     ]
    },
    {
     "name": "stderr",
     "output_type": "stream",
     "text": [
      "\r",
      "7.6%"
     ]
    },
    {
     "name": "stderr",
     "output_type": "stream",
     "text": [
      "\r",
      "7.7%"
     ]
    },
    {
     "name": "stderr",
     "output_type": "stream",
     "text": [
      "\r",
      "7.8%"
     ]
    },
    {
     "name": "stderr",
     "output_type": "stream",
     "text": [
      "\r",
      "7.9%"
     ]
    },
    {
     "name": "stderr",
     "output_type": "stream",
     "text": [
      "\r",
      "7.9%"
     ]
    },
    {
     "name": "stderr",
     "output_type": "stream",
     "text": [
      "\r",
      "8.0%"
     ]
    },
    {
     "name": "stderr",
     "output_type": "stream",
     "text": [
      "\r",
      "8.1%"
     ]
    },
    {
     "name": "stderr",
     "output_type": "stream",
     "text": [
      "\r",
      "8.2%"
     ]
    },
    {
     "name": "stderr",
     "output_type": "stream",
     "text": [
      "\r",
      "8.3%"
     ]
    },
    {
     "name": "stderr",
     "output_type": "stream",
     "text": [
      "\r",
      "8.3%"
     ]
    },
    {
     "name": "stderr",
     "output_type": "stream",
     "text": [
      "\r",
      "8.4%"
     ]
    },
    {
     "name": "stderr",
     "output_type": "stream",
     "text": [
      "\r",
      "8.5%"
     ]
    },
    {
     "name": "stderr",
     "output_type": "stream",
     "text": [
      "\r",
      "8.6%"
     ]
    },
    {
     "name": "stderr",
     "output_type": "stream",
     "text": [
      "\r",
      "8.7%"
     ]
    },
    {
     "name": "stderr",
     "output_type": "stream",
     "text": [
      "\r",
      "8.8%"
     ]
    },
    {
     "name": "stderr",
     "output_type": "stream",
     "text": [
      "\r",
      "8.8%"
     ]
    },
    {
     "name": "stderr",
     "output_type": "stream",
     "text": [
      "\r",
      "8.9%"
     ]
    },
    {
     "name": "stderr",
     "output_type": "stream",
     "text": [
      "\r",
      "9.0%"
     ]
    },
    {
     "name": "stderr",
     "output_type": "stream",
     "text": [
      "\r",
      "9.1%"
     ]
    },
    {
     "name": "stderr",
     "output_type": "stream",
     "text": [
      "\r",
      "9.2%"
     ]
    },
    {
     "name": "stderr",
     "output_type": "stream",
     "text": [
      "\r",
      "9.3%"
     ]
    },
    {
     "name": "stderr",
     "output_type": "stream",
     "text": [
      "\r",
      "9.3%"
     ]
    },
    {
     "name": "stderr",
     "output_type": "stream",
     "text": [
      "\r",
      "9.4%"
     ]
    },
    {
     "name": "stderr",
     "output_type": "stream",
     "text": [
      "\r",
      "9.5%"
     ]
    },
    {
     "name": "stderr",
     "output_type": "stream",
     "text": [
      "\r",
      "9.6%"
     ]
    },
    {
     "name": "stderr",
     "output_type": "stream",
     "text": [
      "\r",
      "9.7%"
     ]
    },
    {
     "name": "stderr",
     "output_type": "stream",
     "text": [
      "\r",
      "9.8%"
     ]
    },
    {
     "name": "stderr",
     "output_type": "stream",
     "text": [
      "\r",
      "9.8%"
     ]
    },
    {
     "name": "stderr",
     "output_type": "stream",
     "text": [
      "\r",
      "9.9%"
     ]
    },
    {
     "name": "stderr",
     "output_type": "stream",
     "text": [
      "\r",
      "10.0%"
     ]
    },
    {
     "name": "stderr",
     "output_type": "stream",
     "text": [
      "\r",
      "10.1%"
     ]
    },
    {
     "name": "stderr",
     "output_type": "stream",
     "text": [
      "\r",
      "10.2%"
     ]
    },
    {
     "name": "stderr",
     "output_type": "stream",
     "text": [
      "\r",
      "10.2%"
     ]
    },
    {
     "name": "stderr",
     "output_type": "stream",
     "text": [
      "\r",
      "10.3%"
     ]
    },
    {
     "name": "stderr",
     "output_type": "stream",
     "text": [
      "\r",
      "10.4%"
     ]
    },
    {
     "name": "stderr",
     "output_type": "stream",
     "text": [
      "\r",
      "10.5%"
     ]
    },
    {
     "name": "stderr",
     "output_type": "stream",
     "text": [
      "\r",
      "10.6%"
     ]
    },
    {
     "name": "stderr",
     "output_type": "stream",
     "text": [
      "\r",
      "10.7%"
     ]
    },
    {
     "name": "stderr",
     "output_type": "stream",
     "text": [
      "\r",
      "10.7%"
     ]
    },
    {
     "name": "stderr",
     "output_type": "stream",
     "text": [
      "\r",
      "10.8%"
     ]
    },
    {
     "name": "stderr",
     "output_type": "stream",
     "text": [
      "\r",
      "10.9%"
     ]
    },
    {
     "name": "stderr",
     "output_type": "stream",
     "text": [
      "\r",
      "11.0%"
     ]
    },
    {
     "name": "stderr",
     "output_type": "stream",
     "text": [
      "\r",
      "11.1%"
     ]
    },
    {
     "name": "stderr",
     "output_type": "stream",
     "text": [
      "\r",
      "11.2%"
     ]
    },
    {
     "name": "stderr",
     "output_type": "stream",
     "text": [
      "\r",
      "11.2%"
     ]
    },
    {
     "name": "stderr",
     "output_type": "stream",
     "text": [
      "\r",
      "11.3%"
     ]
    },
    {
     "name": "stderr",
     "output_type": "stream",
     "text": [
      "\r",
      "11.4%"
     ]
    },
    {
     "name": "stderr",
     "output_type": "stream",
     "text": [
      "\r",
      "11.5%"
     ]
    },
    {
     "name": "stderr",
     "output_type": "stream",
     "text": [
      "\r",
      "11.6%"
     ]
    },
    {
     "name": "stderr",
     "output_type": "stream",
     "text": [
      "\r",
      "11.7%"
     ]
    },
    {
     "name": "stderr",
     "output_type": "stream",
     "text": [
      "\r",
      "11.7%"
     ]
    },
    {
     "name": "stderr",
     "output_type": "stream",
     "text": [
      "\r",
      "11.8%"
     ]
    },
    {
     "name": "stderr",
     "output_type": "stream",
     "text": [
      "\r",
      "11.9%"
     ]
    },
    {
     "name": "stderr",
     "output_type": "stream",
     "text": [
      "\r",
      "12.0%"
     ]
    },
    {
     "name": "stderr",
     "output_type": "stream",
     "text": [
      "\r",
      "12.1%"
     ]
    },
    {
     "name": "stderr",
     "output_type": "stream",
     "text": [
      "\r",
      "12.1%"
     ]
    },
    {
     "name": "stderr",
     "output_type": "stream",
     "text": [
      "\r",
      "12.2%"
     ]
    },
    {
     "name": "stderr",
     "output_type": "stream",
     "text": [
      "\r",
      "12.3%"
     ]
    },
    {
     "name": "stderr",
     "output_type": "stream",
     "text": [
      "\r",
      "12.4%"
     ]
    },
    {
     "name": "stderr",
     "output_type": "stream",
     "text": [
      "\r",
      "12.5%"
     ]
    },
    {
     "name": "stderr",
     "output_type": "stream",
     "text": [
      "\r",
      "12.6%"
     ]
    },
    {
     "name": "stderr",
     "output_type": "stream",
     "text": [
      "\r",
      "12.6%"
     ]
    },
    {
     "name": "stderr",
     "output_type": "stream",
     "text": [
      "\r",
      "12.7%"
     ]
    },
    {
     "name": "stderr",
     "output_type": "stream",
     "text": [
      "\r",
      "12.8%"
     ]
    },
    {
     "name": "stderr",
     "output_type": "stream",
     "text": [
      "\r",
      "12.9%"
     ]
    },
    {
     "name": "stderr",
     "output_type": "stream",
     "text": [
      "\r",
      "13.0%"
     ]
    },
    {
     "name": "stderr",
     "output_type": "stream",
     "text": [
      "\r",
      "13.1%"
     ]
    },
    {
     "name": "stderr",
     "output_type": "stream",
     "text": [
      "\r",
      "13.1%"
     ]
    },
    {
     "name": "stderr",
     "output_type": "stream",
     "text": [
      "\r",
      "13.2%"
     ]
    },
    {
     "name": "stderr",
     "output_type": "stream",
     "text": [
      "\r",
      "13.3%"
     ]
    },
    {
     "name": "stderr",
     "output_type": "stream",
     "text": [
      "\r",
      "13.4%"
     ]
    },
    {
     "name": "stderr",
     "output_type": "stream",
     "text": [
      "\r",
      "13.5%"
     ]
    },
    {
     "name": "stderr",
     "output_type": "stream",
     "text": [
      "\r",
      "13.6%"
     ]
    },
    {
     "name": "stderr",
     "output_type": "stream",
     "text": [
      "\r",
      "13.6%"
     ]
    },
    {
     "name": "stderr",
     "output_type": "stream",
     "text": [
      "\r",
      "13.7%"
     ]
    },
    {
     "name": "stderr",
     "output_type": "stream",
     "text": [
      "\r",
      "13.8%"
     ]
    },
    {
     "name": "stderr",
     "output_type": "stream",
     "text": [
      "\r",
      "13.9%"
     ]
    },
    {
     "name": "stderr",
     "output_type": "stream",
     "text": [
      "\r",
      "14.0%"
     ]
    },
    {
     "name": "stderr",
     "output_type": "stream",
     "text": [
      "\r",
      "14.0%"
     ]
    },
    {
     "name": "stderr",
     "output_type": "stream",
     "text": [
      "\r",
      "14.1%"
     ]
    },
    {
     "name": "stderr",
     "output_type": "stream",
     "text": [
      "\r",
      "14.2%"
     ]
    },
    {
     "name": "stderr",
     "output_type": "stream",
     "text": [
      "\r",
      "14.3%"
     ]
    },
    {
     "name": "stderr",
     "output_type": "stream",
     "text": [
      "\r",
      "14.4%"
     ]
    },
    {
     "name": "stderr",
     "output_type": "stream",
     "text": [
      "\r",
      "14.5%"
     ]
    },
    {
     "name": "stderr",
     "output_type": "stream",
     "text": [
      "\r",
      "14.5%"
     ]
    },
    {
     "name": "stderr",
     "output_type": "stream",
     "text": [
      "\r",
      "14.6%"
     ]
    },
    {
     "name": "stderr",
     "output_type": "stream",
     "text": [
      "\r",
      "14.7%"
     ]
    },
    {
     "name": "stderr",
     "output_type": "stream",
     "text": [
      "\r",
      "14.8%"
     ]
    },
    {
     "name": "stderr",
     "output_type": "stream",
     "text": [
      "\r",
      "14.9%"
     ]
    },
    {
     "name": "stderr",
     "output_type": "stream",
     "text": [
      "\r",
      "15.0%"
     ]
    },
    {
     "name": "stderr",
     "output_type": "stream",
     "text": [
      "\r",
      "15.0%"
     ]
    },
    {
     "name": "stderr",
     "output_type": "stream",
     "text": [
      "\r",
      "15.1%"
     ]
    },
    {
     "name": "stderr",
     "output_type": "stream",
     "text": [
      "\r",
      "15.2%"
     ]
    },
    {
     "name": "stderr",
     "output_type": "stream",
     "text": [
      "\r",
      "15.3%"
     ]
    },
    {
     "name": "stderr",
     "output_type": "stream",
     "text": [
      "\r",
      "15.4%"
     ]
    },
    {
     "name": "stderr",
     "output_type": "stream",
     "text": [
      "\r",
      "15.5%"
     ]
    },
    {
     "name": "stderr",
     "output_type": "stream",
     "text": [
      "\r",
      "15.5%"
     ]
    },
    {
     "name": "stderr",
     "output_type": "stream",
     "text": [
      "\r",
      "15.6%"
     ]
    },
    {
     "name": "stderr",
     "output_type": "stream",
     "text": [
      "\r",
      "15.7%"
     ]
    },
    {
     "name": "stderr",
     "output_type": "stream",
     "text": [
      "\r",
      "15.8%"
     ]
    },
    {
     "name": "stderr",
     "output_type": "stream",
     "text": [
      "\r",
      "15.9%"
     ]
    },
    {
     "name": "stderr",
     "output_type": "stream",
     "text": [
      "\r",
      "16.0%"
     ]
    },
    {
     "name": "stderr",
     "output_type": "stream",
     "text": [
      "\r",
      "16.0%"
     ]
    },
    {
     "name": "stderr",
     "output_type": "stream",
     "text": [
      "\r",
      "16.1%"
     ]
    },
    {
     "name": "stderr",
     "output_type": "stream",
     "text": [
      "\r",
      "16.2%"
     ]
    },
    {
     "name": "stderr",
     "output_type": "stream",
     "text": [
      "\r",
      "16.3%"
     ]
    },
    {
     "name": "stderr",
     "output_type": "stream",
     "text": [
      "\r",
      "16.4%"
     ]
    },
    {
     "name": "stderr",
     "output_type": "stream",
     "text": [
      "\r",
      "16.4%"
     ]
    },
    {
     "name": "stderr",
     "output_type": "stream",
     "text": [
      "\r",
      "16.5%"
     ]
    },
    {
     "name": "stderr",
     "output_type": "stream",
     "text": [
      "\r",
      "16.6%"
     ]
    },
    {
     "name": "stderr",
     "output_type": "stream",
     "text": [
      "\r",
      "16.7%"
     ]
    },
    {
     "name": "stderr",
     "output_type": "stream",
     "text": [
      "\r",
      "16.8%"
     ]
    },
    {
     "name": "stderr",
     "output_type": "stream",
     "text": [
      "\r",
      "16.9%"
     ]
    },
    {
     "name": "stderr",
     "output_type": "stream",
     "text": [
      "\r",
      "16.9%"
     ]
    },
    {
     "name": "stderr",
     "output_type": "stream",
     "text": [
      "\r",
      "17.0%"
     ]
    },
    {
     "name": "stderr",
     "output_type": "stream",
     "text": [
      "\r",
      "17.1%"
     ]
    },
    {
     "name": "stderr",
     "output_type": "stream",
     "text": [
      "\r",
      "17.2%"
     ]
    },
    {
     "name": "stderr",
     "output_type": "stream",
     "text": [
      "\r",
      "17.3%"
     ]
    },
    {
     "name": "stderr",
     "output_type": "stream",
     "text": [
      "\r",
      "17.4%"
     ]
    },
    {
     "name": "stderr",
     "output_type": "stream",
     "text": [
      "\r",
      "17.4%"
     ]
    },
    {
     "name": "stderr",
     "output_type": "stream",
     "text": [
      "\r",
      "17.5%"
     ]
    },
    {
     "name": "stderr",
     "output_type": "stream",
     "text": [
      "\r",
      "17.6%"
     ]
    },
    {
     "name": "stderr",
     "output_type": "stream",
     "text": [
      "\r",
      "17.7%"
     ]
    },
    {
     "name": "stderr",
     "output_type": "stream",
     "text": [
      "\r",
      "17.8%"
     ]
    },
    {
     "name": "stderr",
     "output_type": "stream",
     "text": [
      "\r",
      "17.9%"
     ]
    },
    {
     "name": "stderr",
     "output_type": "stream",
     "text": [
      "\r",
      "17.9%"
     ]
    },
    {
     "name": "stderr",
     "output_type": "stream",
     "text": [
      "\r",
      "18.0%"
     ]
    },
    {
     "name": "stderr",
     "output_type": "stream",
     "text": [
      "\r",
      "18.1%"
     ]
    },
    {
     "name": "stderr",
     "output_type": "stream",
     "text": [
      "\r",
      "18.2%"
     ]
    },
    {
     "name": "stderr",
     "output_type": "stream",
     "text": [
      "\r",
      "18.3%"
     ]
    },
    {
     "name": "stderr",
     "output_type": "stream",
     "text": [
      "\r",
      "18.3%"
     ]
    },
    {
     "name": "stderr",
     "output_type": "stream",
     "text": [
      "\r",
      "18.4%"
     ]
    },
    {
     "name": "stderr",
     "output_type": "stream",
     "text": [
      "\r",
      "18.5%"
     ]
    },
    {
     "name": "stderr",
     "output_type": "stream",
     "text": [
      "\r",
      "18.6%"
     ]
    },
    {
     "name": "stderr",
     "output_type": "stream",
     "text": [
      "\r",
      "18.7%"
     ]
    },
    {
     "name": "stderr",
     "output_type": "stream",
     "text": [
      "\r",
      "18.8%"
     ]
    },
    {
     "name": "stderr",
     "output_type": "stream",
     "text": [
      "\r",
      "18.8%"
     ]
    },
    {
     "name": "stderr",
     "output_type": "stream",
     "text": [
      "\r",
      "18.9%"
     ]
    },
    {
     "name": "stderr",
     "output_type": "stream",
     "text": [
      "\r",
      "19.0%"
     ]
    },
    {
     "name": "stderr",
     "output_type": "stream",
     "text": [
      "\r",
      "19.1%"
     ]
    },
    {
     "name": "stderr",
     "output_type": "stream",
     "text": [
      "\r",
      "19.2%"
     ]
    },
    {
     "name": "stderr",
     "output_type": "stream",
     "text": [
      "\r",
      "19.3%"
     ]
    },
    {
     "name": "stderr",
     "output_type": "stream",
     "text": [
      "\r",
      "19.3%"
     ]
    },
    {
     "name": "stderr",
     "output_type": "stream",
     "text": [
      "\r",
      "19.4%"
     ]
    },
    {
     "name": "stderr",
     "output_type": "stream",
     "text": [
      "\r",
      "19.5%"
     ]
    },
    {
     "name": "stderr",
     "output_type": "stream",
     "text": [
      "\r",
      "19.6%"
     ]
    },
    {
     "name": "stderr",
     "output_type": "stream",
     "text": [
      "\r",
      "19.7%"
     ]
    },
    {
     "name": "stderr",
     "output_type": "stream",
     "text": [
      "\r",
      "19.8%"
     ]
    },
    {
     "name": "stderr",
     "output_type": "stream",
     "text": [
      "\r",
      "19.8%"
     ]
    },
    {
     "name": "stderr",
     "output_type": "stream",
     "text": [
      "\r",
      "19.9%"
     ]
    },
    {
     "name": "stderr",
     "output_type": "stream",
     "text": [
      "\r",
      "20.0%"
     ]
    },
    {
     "name": "stderr",
     "output_type": "stream",
     "text": [
      "\r",
      "20.1%"
     ]
    },
    {
     "name": "stderr",
     "output_type": "stream",
     "text": [
      "\r",
      "20.2%"
     ]
    },
    {
     "name": "stderr",
     "output_type": "stream",
     "text": [
      "\r",
      "20.2%"
     ]
    },
    {
     "name": "stderr",
     "output_type": "stream",
     "text": [
      "\r",
      "20.3%"
     ]
    },
    {
     "name": "stderr",
     "output_type": "stream",
     "text": [
      "\r",
      "20.4%"
     ]
    },
    {
     "name": "stderr",
     "output_type": "stream",
     "text": [
      "\r",
      "20.5%"
     ]
    },
    {
     "name": "stderr",
     "output_type": "stream",
     "text": [
      "\r",
      "20.6%"
     ]
    },
    {
     "name": "stderr",
     "output_type": "stream",
     "text": [
      "\r",
      "20.7%"
     ]
    },
    {
     "name": "stderr",
     "output_type": "stream",
     "text": [
      "\r",
      "20.7%"
     ]
    },
    {
     "name": "stderr",
     "output_type": "stream",
     "text": [
      "\r",
      "20.8%"
     ]
    },
    {
     "name": "stderr",
     "output_type": "stream",
     "text": [
      "\r",
      "20.9%"
     ]
    },
    {
     "name": "stderr",
     "output_type": "stream",
     "text": [
      "\r",
      "21.0%"
     ]
    },
    {
     "name": "stderr",
     "output_type": "stream",
     "text": [
      "\r",
      "21.1%"
     ]
    },
    {
     "name": "stderr",
     "output_type": "stream",
     "text": [
      "\r",
      "21.2%"
     ]
    },
    {
     "name": "stderr",
     "output_type": "stream",
     "text": [
      "\r",
      "21.2%"
     ]
    },
    {
     "name": "stderr",
     "output_type": "stream",
     "text": [
      "\r",
      "21.3%"
     ]
    },
    {
     "name": "stderr",
     "output_type": "stream",
     "text": [
      "\r",
      "21.4%"
     ]
    },
    {
     "name": "stderr",
     "output_type": "stream",
     "text": [
      "\r",
      "21.5%"
     ]
    },
    {
     "name": "stderr",
     "output_type": "stream",
     "text": [
      "\r",
      "21.6%"
     ]
    },
    {
     "name": "stderr",
     "output_type": "stream",
     "text": [
      "\r",
      "21.7%"
     ]
    },
    {
     "name": "stderr",
     "output_type": "stream",
     "text": [
      "\r",
      "21.7%"
     ]
    },
    {
     "name": "stderr",
     "output_type": "stream",
     "text": [
      "\r",
      "21.8%"
     ]
    },
    {
     "name": "stderr",
     "output_type": "stream",
     "text": [
      "\r",
      "21.9%"
     ]
    },
    {
     "name": "stderr",
     "output_type": "stream",
     "text": [
      "\r",
      "22.0%"
     ]
    },
    {
     "name": "stderr",
     "output_type": "stream",
     "text": [
      "\r",
      "22.1%"
     ]
    },
    {
     "name": "stderr",
     "output_type": "stream",
     "text": [
      "\r",
      "22.1%"
     ]
    },
    {
     "name": "stderr",
     "output_type": "stream",
     "text": [
      "\r",
      "22.2%"
     ]
    },
    {
     "name": "stderr",
     "output_type": "stream",
     "text": [
      "\r",
      "22.3%"
     ]
    },
    {
     "name": "stderr",
     "output_type": "stream",
     "text": [
      "\r",
      "22.4%"
     ]
    },
    {
     "name": "stderr",
     "output_type": "stream",
     "text": [
      "\r",
      "22.5%"
     ]
    },
    {
     "name": "stderr",
     "output_type": "stream",
     "text": [
      "\r",
      "22.6%"
     ]
    },
    {
     "name": "stderr",
     "output_type": "stream",
     "text": [
      "\r",
      "22.6%"
     ]
    },
    {
     "name": "stderr",
     "output_type": "stream",
     "text": [
      "\r",
      "22.7%"
     ]
    },
    {
     "name": "stderr",
     "output_type": "stream",
     "text": [
      "\r",
      "22.8%"
     ]
    },
    {
     "name": "stderr",
     "output_type": "stream",
     "text": [
      "\r",
      "22.9%"
     ]
    },
    {
     "name": "stderr",
     "output_type": "stream",
     "text": [
      "\r",
      "23.0%"
     ]
    },
    {
     "name": "stderr",
     "output_type": "stream",
     "text": [
      "\r",
      "23.1%"
     ]
    },
    {
     "name": "stderr",
     "output_type": "stream",
     "text": [
      "\r",
      "23.1%"
     ]
    },
    {
     "name": "stderr",
     "output_type": "stream",
     "text": [
      "\r",
      "23.2%"
     ]
    },
    {
     "name": "stderr",
     "output_type": "stream",
     "text": [
      "\r",
      "23.3%"
     ]
    },
    {
     "name": "stderr",
     "output_type": "stream",
     "text": [
      "\r",
      "23.4%"
     ]
    },
    {
     "name": "stderr",
     "output_type": "stream",
     "text": [
      "\r",
      "23.5%"
     ]
    },
    {
     "name": "stderr",
     "output_type": "stream",
     "text": [
      "\r",
      "23.6%"
     ]
    },
    {
     "name": "stderr",
     "output_type": "stream",
     "text": [
      "\r",
      "23.6%"
     ]
    },
    {
     "name": "stderr",
     "output_type": "stream",
     "text": [
      "\r",
      "23.7%"
     ]
    },
    {
     "name": "stderr",
     "output_type": "stream",
     "text": [
      "\r",
      "23.8%"
     ]
    },
    {
     "name": "stderr",
     "output_type": "stream",
     "text": [
      "\r",
      "23.9%"
     ]
    },
    {
     "name": "stderr",
     "output_type": "stream",
     "text": [
      "\r",
      "24.0%"
     ]
    },
    {
     "name": "stderr",
     "output_type": "stream",
     "text": [
      "\r",
      "24.0%"
     ]
    },
    {
     "name": "stderr",
     "output_type": "stream",
     "text": [
      "\r",
      "24.1%"
     ]
    },
    {
     "name": "stderr",
     "output_type": "stream",
     "text": [
      "\r",
      "24.2%"
     ]
    },
    {
     "name": "stderr",
     "output_type": "stream",
     "text": [
      "\r",
      "24.3%"
     ]
    },
    {
     "name": "stderr",
     "output_type": "stream",
     "text": [
      "\r",
      "24.4%"
     ]
    },
    {
     "name": "stderr",
     "output_type": "stream",
     "text": [
      "\r",
      "24.5%"
     ]
    },
    {
     "name": "stderr",
     "output_type": "stream",
     "text": [
      "\r",
      "24.5%"
     ]
    },
    {
     "name": "stderr",
     "output_type": "stream",
     "text": [
      "\r",
      "24.6%"
     ]
    },
    {
     "name": "stderr",
     "output_type": "stream",
     "text": [
      "\r",
      "24.7%"
     ]
    },
    {
     "name": "stderr",
     "output_type": "stream",
     "text": [
      "\r",
      "24.8%"
     ]
    },
    {
     "name": "stderr",
     "output_type": "stream",
     "text": [
      "\r",
      "24.9%"
     ]
    },
    {
     "name": "stderr",
     "output_type": "stream",
     "text": [
      "\r",
      "25.0%"
     ]
    },
    {
     "name": "stderr",
     "output_type": "stream",
     "text": [
      "\r",
      "25.0%"
     ]
    },
    {
     "name": "stderr",
     "output_type": "stream",
     "text": [
      "\r",
      "25.1%"
     ]
    },
    {
     "name": "stderr",
     "output_type": "stream",
     "text": [
      "\r",
      "25.2%"
     ]
    },
    {
     "name": "stderr",
     "output_type": "stream",
     "text": [
      "\r",
      "25.3%"
     ]
    },
    {
     "name": "stderr",
     "output_type": "stream",
     "text": [
      "\r",
      "25.4%"
     ]
    },
    {
     "name": "stderr",
     "output_type": "stream",
     "text": [
      "\r",
      "25.5%"
     ]
    },
    {
     "name": "stderr",
     "output_type": "stream",
     "text": [
      "\r",
      "25.5%"
     ]
    },
    {
     "name": "stderr",
     "output_type": "stream",
     "text": [
      "\r",
      "25.6%"
     ]
    },
    {
     "name": "stderr",
     "output_type": "stream",
     "text": [
      "\r",
      "25.7%"
     ]
    },
    {
     "name": "stderr",
     "output_type": "stream",
     "text": [
      "\r",
      "25.8%"
     ]
    },
    {
     "name": "stderr",
     "output_type": "stream",
     "text": [
      "\r",
      "25.9%"
     ]
    },
    {
     "name": "stderr",
     "output_type": "stream",
     "text": [
      "\r",
      "26.0%"
     ]
    },
    {
     "name": "stderr",
     "output_type": "stream",
     "text": [
      "\r",
      "26.0%"
     ]
    },
    {
     "name": "stderr",
     "output_type": "stream",
     "text": [
      "\r",
      "26.1%"
     ]
    },
    {
     "name": "stderr",
     "output_type": "stream",
     "text": [
      "\r",
      "26.2%"
     ]
    },
    {
     "name": "stderr",
     "output_type": "stream",
     "text": [
      "\r",
      "26.3%"
     ]
    },
    {
     "name": "stderr",
     "output_type": "stream",
     "text": [
      "\r",
      "26.4%"
     ]
    },
    {
     "name": "stderr",
     "output_type": "stream",
     "text": [
      "\r",
      "26.4%"
     ]
    },
    {
     "name": "stderr",
     "output_type": "stream",
     "text": [
      "\r",
      "26.5%"
     ]
    },
    {
     "name": "stderr",
     "output_type": "stream",
     "text": [
      "\r",
      "26.6%"
     ]
    },
    {
     "name": "stderr",
     "output_type": "stream",
     "text": [
      "\r",
      "26.7%"
     ]
    },
    {
     "name": "stderr",
     "output_type": "stream",
     "text": [
      "\r",
      "26.8%"
     ]
    },
    {
     "name": "stderr",
     "output_type": "stream",
     "text": [
      "\r",
      "26.9%"
     ]
    },
    {
     "name": "stderr",
     "output_type": "stream",
     "text": [
      "\r",
      "26.9%"
     ]
    },
    {
     "name": "stderr",
     "output_type": "stream",
     "text": [
      "\r",
      "27.0%"
     ]
    },
    {
     "name": "stderr",
     "output_type": "stream",
     "text": [
      "\r",
      "27.1%"
     ]
    },
    {
     "name": "stderr",
     "output_type": "stream",
     "text": [
      "\r",
      "27.2%"
     ]
    },
    {
     "name": "stderr",
     "output_type": "stream",
     "text": [
      "\r",
      "27.3%"
     ]
    },
    {
     "name": "stderr",
     "output_type": "stream",
     "text": [
      "\r",
      "27.4%"
     ]
    },
    {
     "name": "stderr",
     "output_type": "stream",
     "text": [
      "\r",
      "27.4%"
     ]
    },
    {
     "name": "stderr",
     "output_type": "stream",
     "text": [
      "\r",
      "27.5%"
     ]
    },
    {
     "name": "stderr",
     "output_type": "stream",
     "text": [
      "\r",
      "27.6%"
     ]
    },
    {
     "name": "stderr",
     "output_type": "stream",
     "text": [
      "\r",
      "27.7%"
     ]
    },
    {
     "name": "stderr",
     "output_type": "stream",
     "text": [
      "\r",
      "27.8%"
     ]
    },
    {
     "name": "stderr",
     "output_type": "stream",
     "text": [
      "\r",
      "27.9%"
     ]
    },
    {
     "name": "stderr",
     "output_type": "stream",
     "text": [
      "\r",
      "27.9%"
     ]
    },
    {
     "name": "stderr",
     "output_type": "stream",
     "text": [
      "\r",
      "28.0%"
     ]
    },
    {
     "name": "stderr",
     "output_type": "stream",
     "text": [
      "\r",
      "28.1%"
     ]
    },
    {
     "name": "stderr",
     "output_type": "stream",
     "text": [
      "\r",
      "28.2%"
     ]
    },
    {
     "name": "stderr",
     "output_type": "stream",
     "text": [
      "\r",
      "28.3%"
     ]
    },
    {
     "name": "stderr",
     "output_type": "stream",
     "text": [
      "\r",
      "28.3%"
     ]
    },
    {
     "name": "stderr",
     "output_type": "stream",
     "text": [
      "\r",
      "28.4%"
     ]
    },
    {
     "name": "stderr",
     "output_type": "stream",
     "text": [
      "\r",
      "28.5%"
     ]
    },
    {
     "name": "stderr",
     "output_type": "stream",
     "text": [
      "\r",
      "28.6%"
     ]
    },
    {
     "name": "stderr",
     "output_type": "stream",
     "text": [
      "\r",
      "28.7%"
     ]
    },
    {
     "name": "stderr",
     "output_type": "stream",
     "text": [
      "\r",
      "28.8%"
     ]
    },
    {
     "name": "stderr",
     "output_type": "stream",
     "text": [
      "\r",
      "28.8%"
     ]
    },
    {
     "name": "stderr",
     "output_type": "stream",
     "text": [
      "\r",
      "28.9%"
     ]
    },
    {
     "name": "stderr",
     "output_type": "stream",
     "text": [
      "\r",
      "29.0%"
     ]
    },
    {
     "name": "stderr",
     "output_type": "stream",
     "text": [
      "\r",
      "29.1%"
     ]
    },
    {
     "name": "stderr",
     "output_type": "stream",
     "text": [
      "\r",
      "29.2%"
     ]
    },
    {
     "name": "stderr",
     "output_type": "stream",
     "text": [
      "\r",
      "29.3%"
     ]
    },
    {
     "name": "stderr",
     "output_type": "stream",
     "text": [
      "\r",
      "29.3%"
     ]
    },
    {
     "name": "stderr",
     "output_type": "stream",
     "text": [
      "\r",
      "29.4%"
     ]
    },
    {
     "name": "stderr",
     "output_type": "stream",
     "text": [
      "\r",
      "29.5%"
     ]
    },
    {
     "name": "stderr",
     "output_type": "stream",
     "text": [
      "\r",
      "29.6%"
     ]
    },
    {
     "name": "stderr",
     "output_type": "stream",
     "text": [
      "\r",
      "29.7%"
     ]
    },
    {
     "name": "stderr",
     "output_type": "stream",
     "text": [
      "\r",
      "29.8%"
     ]
    },
    {
     "name": "stderr",
     "output_type": "stream",
     "text": [
      "\r",
      "29.8%"
     ]
    },
    {
     "name": "stderr",
     "output_type": "stream",
     "text": [
      "\r",
      "29.9%"
     ]
    },
    {
     "name": "stderr",
     "output_type": "stream",
     "text": [
      "\r",
      "30.0%"
     ]
    },
    {
     "name": "stderr",
     "output_type": "stream",
     "text": [
      "\r",
      "30.1%"
     ]
    },
    {
     "name": "stderr",
     "output_type": "stream",
     "text": [
      "\r",
      "30.2%"
     ]
    },
    {
     "name": "stderr",
     "output_type": "stream",
     "text": [
      "\r",
      "30.2%"
     ]
    },
    {
     "name": "stderr",
     "output_type": "stream",
     "text": [
      "\r",
      "30.3%"
     ]
    },
    {
     "name": "stderr",
     "output_type": "stream",
     "text": [
      "\r",
      "30.4%"
     ]
    },
    {
     "name": "stderr",
     "output_type": "stream",
     "text": [
      "\r",
      "30.5%"
     ]
    },
    {
     "name": "stderr",
     "output_type": "stream",
     "text": [
      "\r",
      "30.6%"
     ]
    },
    {
     "name": "stderr",
     "output_type": "stream",
     "text": [
      "\r",
      "30.7%"
     ]
    },
    {
     "name": "stderr",
     "output_type": "stream",
     "text": [
      "\r",
      "30.7%"
     ]
    },
    {
     "name": "stderr",
     "output_type": "stream",
     "text": [
      "\r",
      "30.8%"
     ]
    },
    {
     "name": "stderr",
     "output_type": "stream",
     "text": [
      "\r",
      "30.9%"
     ]
    },
    {
     "name": "stderr",
     "output_type": "stream",
     "text": [
      "\r",
      "31.0%"
     ]
    },
    {
     "name": "stderr",
     "output_type": "stream",
     "text": [
      "\r",
      "31.1%"
     ]
    },
    {
     "name": "stderr",
     "output_type": "stream",
     "text": [
      "\r",
      "31.2%"
     ]
    },
    {
     "name": "stderr",
     "output_type": "stream",
     "text": [
      "\r",
      "31.2%"
     ]
    },
    {
     "name": "stderr",
     "output_type": "stream",
     "text": [
      "\r",
      "31.3%"
     ]
    },
    {
     "name": "stderr",
     "output_type": "stream",
     "text": [
      "\r",
      "31.4%"
     ]
    },
    {
     "name": "stderr",
     "output_type": "stream",
     "text": [
      "\r",
      "31.5%"
     ]
    },
    {
     "name": "stderr",
     "output_type": "stream",
     "text": [
      "\r",
      "31.6%"
     ]
    },
    {
     "name": "stderr",
     "output_type": "stream",
     "text": [
      "\r",
      "31.7%"
     ]
    },
    {
     "name": "stderr",
     "output_type": "stream",
     "text": [
      "\r",
      "31.7%"
     ]
    },
    {
     "name": "stderr",
     "output_type": "stream",
     "text": [
      "\r",
      "31.8%"
     ]
    },
    {
     "name": "stderr",
     "output_type": "stream",
     "text": [
      "\r",
      "31.9%"
     ]
    },
    {
     "name": "stderr",
     "output_type": "stream",
     "text": [
      "\r",
      "32.0%"
     ]
    },
    {
     "name": "stderr",
     "output_type": "stream",
     "text": [
      "\r",
      "32.1%"
     ]
    },
    {
     "name": "stderr",
     "output_type": "stream",
     "text": [
      "\r",
      "32.1%"
     ]
    },
    {
     "name": "stderr",
     "output_type": "stream",
     "text": [
      "\r",
      "32.2%"
     ]
    },
    {
     "name": "stderr",
     "output_type": "stream",
     "text": [
      "\r",
      "32.3%"
     ]
    },
    {
     "name": "stderr",
     "output_type": "stream",
     "text": [
      "\r",
      "32.4%"
     ]
    },
    {
     "name": "stderr",
     "output_type": "stream",
     "text": [
      "\r",
      "32.5%"
     ]
    },
    {
     "name": "stderr",
     "output_type": "stream",
     "text": [
      "\r",
      "32.6%"
     ]
    },
    {
     "name": "stderr",
     "output_type": "stream",
     "text": [
      "\r",
      "32.6%"
     ]
    },
    {
     "name": "stderr",
     "output_type": "stream",
     "text": [
      "\r",
      "32.7%"
     ]
    },
    {
     "name": "stderr",
     "output_type": "stream",
     "text": [
      "\r",
      "32.8%"
     ]
    },
    {
     "name": "stderr",
     "output_type": "stream",
     "text": [
      "\r",
      "32.9%"
     ]
    },
    {
     "name": "stderr",
     "output_type": "stream",
     "text": [
      "\r",
      "33.0%"
     ]
    },
    {
     "name": "stderr",
     "output_type": "stream",
     "text": [
      "\r",
      "33.1%"
     ]
    },
    {
     "name": "stderr",
     "output_type": "stream",
     "text": [
      "\r",
      "33.1%"
     ]
    },
    {
     "name": "stderr",
     "output_type": "stream",
     "text": [
      "\r",
      "33.2%"
     ]
    },
    {
     "name": "stderr",
     "output_type": "stream",
     "text": [
      "\r",
      "33.3%"
     ]
    },
    {
     "name": "stderr",
     "output_type": "stream",
     "text": [
      "\r",
      "33.4%"
     ]
    },
    {
     "name": "stderr",
     "output_type": "stream",
     "text": [
      "\r",
      "33.5%"
     ]
    },
    {
     "name": "stderr",
     "output_type": "stream",
     "text": [
      "\r",
      "33.6%"
     ]
    },
    {
     "name": "stderr",
     "output_type": "stream",
     "text": [
      "\r",
      "33.6%"
     ]
    },
    {
     "name": "stderr",
     "output_type": "stream",
     "text": [
      "\r",
      "33.7%"
     ]
    },
    {
     "name": "stderr",
     "output_type": "stream",
     "text": [
      "\r",
      "33.8%"
     ]
    },
    {
     "name": "stderr",
     "output_type": "stream",
     "text": [
      "\r",
      "33.9%"
     ]
    },
    {
     "name": "stderr",
     "output_type": "stream",
     "text": [
      "\r",
      "34.0%"
     ]
    },
    {
     "name": "stderr",
     "output_type": "stream",
     "text": [
      "\r",
      "34.0%"
     ]
    },
    {
     "name": "stderr",
     "output_type": "stream",
     "text": [
      "\r",
      "34.1%"
     ]
    },
    {
     "name": "stderr",
     "output_type": "stream",
     "text": [
      "\r",
      "34.2%"
     ]
    },
    {
     "name": "stderr",
     "output_type": "stream",
     "text": [
      "\r",
      "34.3%"
     ]
    },
    {
     "name": "stderr",
     "output_type": "stream",
     "text": [
      "\r",
      "34.4%"
     ]
    },
    {
     "name": "stderr",
     "output_type": "stream",
     "text": [
      "\r",
      "34.5%"
     ]
    },
    {
     "name": "stderr",
     "output_type": "stream",
     "text": [
      "\r",
      "34.5%"
     ]
    },
    {
     "name": "stderr",
     "output_type": "stream",
     "text": [
      "\r",
      "34.6%"
     ]
    },
    {
     "name": "stderr",
     "output_type": "stream",
     "text": [
      "\r",
      "34.7%"
     ]
    },
    {
     "name": "stderr",
     "output_type": "stream",
     "text": [
      "\r",
      "34.8%"
     ]
    },
    {
     "name": "stderr",
     "output_type": "stream",
     "text": [
      "\r",
      "34.9%"
     ]
    },
    {
     "name": "stderr",
     "output_type": "stream",
     "text": [
      "\r",
      "35.0%"
     ]
    },
    {
     "name": "stderr",
     "output_type": "stream",
     "text": [
      "\r",
      "35.0%"
     ]
    },
    {
     "name": "stderr",
     "output_type": "stream",
     "text": [
      "\r",
      "35.1%"
     ]
    },
    {
     "name": "stderr",
     "output_type": "stream",
     "text": [
      "\r",
      "35.2%"
     ]
    },
    {
     "name": "stderr",
     "output_type": "stream",
     "text": [
      "\r",
      "35.3%"
     ]
    },
    {
     "name": "stderr",
     "output_type": "stream",
     "text": [
      "\r",
      "35.4%"
     ]
    },
    {
     "name": "stderr",
     "output_type": "stream",
     "text": [
      "\r",
      "35.5%"
     ]
    },
    {
     "name": "stderr",
     "output_type": "stream",
     "text": [
      "\r",
      "35.5%"
     ]
    },
    {
     "name": "stderr",
     "output_type": "stream",
     "text": [
      "\r",
      "35.6%"
     ]
    },
    {
     "name": "stderr",
     "output_type": "stream",
     "text": [
      "\r",
      "35.7%"
     ]
    },
    {
     "name": "stderr",
     "output_type": "stream",
     "text": [
      "\r",
      "35.8%"
     ]
    },
    {
     "name": "stderr",
     "output_type": "stream",
     "text": [
      "\r",
      "35.9%"
     ]
    },
    {
     "name": "stderr",
     "output_type": "stream",
     "text": [
      "\r",
      "36.0%"
     ]
    },
    {
     "name": "stderr",
     "output_type": "stream",
     "text": [
      "\r",
      "36.0%"
     ]
    },
    {
     "name": "stderr",
     "output_type": "stream",
     "text": [
      "\r",
      "36.1%"
     ]
    },
    {
     "name": "stderr",
     "output_type": "stream",
     "text": [
      "\r",
      "36.2%"
     ]
    },
    {
     "name": "stderr",
     "output_type": "stream",
     "text": [
      "\r",
      "36.3%"
     ]
    },
    {
     "name": "stderr",
     "output_type": "stream",
     "text": [
      "\r",
      "36.4%"
     ]
    },
    {
     "name": "stderr",
     "output_type": "stream",
     "text": [
      "\r",
      "36.4%"
     ]
    },
    {
     "name": "stderr",
     "output_type": "stream",
     "text": [
      "\r",
      "36.5%"
     ]
    },
    {
     "name": "stderr",
     "output_type": "stream",
     "text": [
      "\r",
      "36.6%"
     ]
    },
    {
     "name": "stderr",
     "output_type": "stream",
     "text": [
      "\r",
      "36.7%"
     ]
    },
    {
     "name": "stderr",
     "output_type": "stream",
     "text": [
      "\r",
      "36.8%"
     ]
    },
    {
     "name": "stderr",
     "output_type": "stream",
     "text": [
      "\r",
      "36.9%"
     ]
    },
    {
     "name": "stderr",
     "output_type": "stream",
     "text": [
      "\r",
      "36.9%"
     ]
    },
    {
     "name": "stderr",
     "output_type": "stream",
     "text": [
      "\r",
      "37.0%"
     ]
    },
    {
     "name": "stderr",
     "output_type": "stream",
     "text": [
      "\r",
      "37.1%"
     ]
    },
    {
     "name": "stderr",
     "output_type": "stream",
     "text": [
      "\r",
      "37.2%"
     ]
    },
    {
     "name": "stderr",
     "output_type": "stream",
     "text": [
      "\r",
      "37.3%"
     ]
    },
    {
     "name": "stderr",
     "output_type": "stream",
     "text": [
      "\r",
      "37.4%"
     ]
    },
    {
     "name": "stderr",
     "output_type": "stream",
     "text": [
      "\r",
      "37.4%"
     ]
    },
    {
     "name": "stderr",
     "output_type": "stream",
     "text": [
      "\r",
      "37.5%"
     ]
    },
    {
     "name": "stderr",
     "output_type": "stream",
     "text": [
      "\r",
      "37.6%"
     ]
    },
    {
     "name": "stderr",
     "output_type": "stream",
     "text": [
      "\r",
      "37.7%"
     ]
    },
    {
     "name": "stderr",
     "output_type": "stream",
     "text": [
      "\r",
      "37.8%"
     ]
    },
    {
     "name": "stderr",
     "output_type": "stream",
     "text": [
      "\r",
      "37.9%"
     ]
    },
    {
     "name": "stderr",
     "output_type": "stream",
     "text": [
      "\r",
      "37.9%"
     ]
    },
    {
     "name": "stderr",
     "output_type": "stream",
     "text": [
      "\r",
      "38.0%"
     ]
    },
    {
     "name": "stderr",
     "output_type": "stream",
     "text": [
      "\r",
      "38.1%"
     ]
    },
    {
     "name": "stderr",
     "output_type": "stream",
     "text": [
      "\r",
      "38.2%"
     ]
    },
    {
     "name": "stderr",
     "output_type": "stream",
     "text": [
      "\r",
      "38.3%"
     ]
    },
    {
     "name": "stderr",
     "output_type": "stream",
     "text": [
      "\r",
      "38.3%"
     ]
    },
    {
     "name": "stderr",
     "output_type": "stream",
     "text": [
      "\r",
      "38.4%"
     ]
    },
    {
     "name": "stderr",
     "output_type": "stream",
     "text": [
      "\r",
      "38.5%"
     ]
    },
    {
     "name": "stderr",
     "output_type": "stream",
     "text": [
      "\r",
      "38.6%"
     ]
    },
    {
     "name": "stderr",
     "output_type": "stream",
     "text": [
      "\r",
      "38.7%"
     ]
    },
    {
     "name": "stderr",
     "output_type": "stream",
     "text": [
      "\r",
      "38.8%"
     ]
    },
    {
     "name": "stderr",
     "output_type": "stream",
     "text": [
      "\r",
      "38.8%"
     ]
    },
    {
     "name": "stderr",
     "output_type": "stream",
     "text": [
      "\r",
      "38.9%"
     ]
    },
    {
     "name": "stderr",
     "output_type": "stream",
     "text": [
      "\r",
      "39.0%"
     ]
    },
    {
     "name": "stderr",
     "output_type": "stream",
     "text": [
      "\r",
      "39.1%"
     ]
    },
    {
     "name": "stderr",
     "output_type": "stream",
     "text": [
      "\r",
      "39.2%"
     ]
    },
    {
     "name": "stderr",
     "output_type": "stream",
     "text": [
      "\r",
      "39.3%"
     ]
    },
    {
     "name": "stderr",
     "output_type": "stream",
     "text": [
      "\r",
      "39.3%"
     ]
    },
    {
     "name": "stderr",
     "output_type": "stream",
     "text": [
      "\r",
      "39.4%"
     ]
    },
    {
     "name": "stderr",
     "output_type": "stream",
     "text": [
      "\r",
      "39.5%"
     ]
    },
    {
     "name": "stderr",
     "output_type": "stream",
     "text": [
      "\r",
      "39.6%"
     ]
    },
    {
     "name": "stderr",
     "output_type": "stream",
     "text": [
      "\r",
      "39.7%"
     ]
    },
    {
     "name": "stderr",
     "output_type": "stream",
     "text": [
      "\r",
      "39.8%"
     ]
    },
    {
     "name": "stderr",
     "output_type": "stream",
     "text": [
      "\r",
      "39.8%"
     ]
    },
    {
     "name": "stderr",
     "output_type": "stream",
     "text": [
      "\r",
      "39.9%"
     ]
    },
    {
     "name": "stderr",
     "output_type": "stream",
     "text": [
      "\r",
      "40.0%"
     ]
    },
    {
     "name": "stderr",
     "output_type": "stream",
     "text": [
      "\r",
      "40.1%"
     ]
    },
    {
     "name": "stderr",
     "output_type": "stream",
     "text": [
      "\r",
      "40.2%"
     ]
    },
    {
     "name": "stderr",
     "output_type": "stream",
     "text": [
      "\r",
      "40.2%"
     ]
    },
    {
     "name": "stderr",
     "output_type": "stream",
     "text": [
      "\r",
      "40.3%"
     ]
    },
    {
     "name": "stderr",
     "output_type": "stream",
     "text": [
      "\r",
      "40.4%"
     ]
    },
    {
     "name": "stderr",
     "output_type": "stream",
     "text": [
      "\r",
      "40.5%"
     ]
    },
    {
     "name": "stderr",
     "output_type": "stream",
     "text": [
      "\r",
      "40.6%"
     ]
    },
    {
     "name": "stderr",
     "output_type": "stream",
     "text": [
      "\r",
      "40.7%"
     ]
    },
    {
     "name": "stderr",
     "output_type": "stream",
     "text": [
      "\r",
      "40.7%"
     ]
    },
    {
     "name": "stderr",
     "output_type": "stream",
     "text": [
      "\r",
      "40.8%"
     ]
    },
    {
     "name": "stderr",
     "output_type": "stream",
     "text": [
      "\r",
      "40.9%"
     ]
    },
    {
     "name": "stderr",
     "output_type": "stream",
     "text": [
      "\r",
      "41.0%"
     ]
    },
    {
     "name": "stderr",
     "output_type": "stream",
     "text": [
      "\r",
      "41.1%"
     ]
    },
    {
     "name": "stderr",
     "output_type": "stream",
     "text": [
      "\r",
      "41.2%"
     ]
    },
    {
     "name": "stderr",
     "output_type": "stream",
     "text": [
      "\r",
      "41.2%"
     ]
    },
    {
     "name": "stderr",
     "output_type": "stream",
     "text": [
      "\r",
      "41.3%"
     ]
    },
    {
     "name": "stderr",
     "output_type": "stream",
     "text": [
      "\r",
      "41.4%"
     ]
    },
    {
     "name": "stderr",
     "output_type": "stream",
     "text": [
      "\r",
      "41.5%"
     ]
    },
    {
     "name": "stderr",
     "output_type": "stream",
     "text": [
      "\r",
      "41.6%"
     ]
    },
    {
     "name": "stderr",
     "output_type": "stream",
     "text": [
      "\r",
      "41.7%"
     ]
    },
    {
     "name": "stderr",
     "output_type": "stream",
     "text": [
      "\r",
      "41.7%"
     ]
    },
    {
     "name": "stderr",
     "output_type": "stream",
     "text": [
      "\r",
      "41.8%"
     ]
    },
    {
     "name": "stderr",
     "output_type": "stream",
     "text": [
      "\r",
      "41.9%"
     ]
    },
    {
     "name": "stderr",
     "output_type": "stream",
     "text": [
      "\r",
      "42.0%"
     ]
    },
    {
     "name": "stderr",
     "output_type": "stream",
     "text": [
      "\r",
      "42.1%"
     ]
    },
    {
     "name": "stderr",
     "output_type": "stream",
     "text": [
      "\r",
      "42.1%"
     ]
    },
    {
     "name": "stderr",
     "output_type": "stream",
     "text": [
      "\r",
      "42.2%"
     ]
    },
    {
     "name": "stderr",
     "output_type": "stream",
     "text": [
      "\r",
      "42.3%"
     ]
    },
    {
     "name": "stderr",
     "output_type": "stream",
     "text": [
      "\r",
      "42.4%"
     ]
    },
    {
     "name": "stderr",
     "output_type": "stream",
     "text": [
      "\r",
      "42.5%"
     ]
    },
    {
     "name": "stderr",
     "output_type": "stream",
     "text": [
      "\r",
      "42.6%"
     ]
    },
    {
     "name": "stderr",
     "output_type": "stream",
     "text": [
      "\r",
      "42.6%"
     ]
    },
    {
     "name": "stderr",
     "output_type": "stream",
     "text": [
      "\r",
      "42.7%"
     ]
    },
    {
     "name": "stderr",
     "output_type": "stream",
     "text": [
      "\r",
      "42.8%"
     ]
    },
    {
     "name": "stderr",
     "output_type": "stream",
     "text": [
      "\r",
      "42.9%"
     ]
    },
    {
     "name": "stderr",
     "output_type": "stream",
     "text": [
      "\r",
      "43.0%"
     ]
    },
    {
     "name": "stderr",
     "output_type": "stream",
     "text": [
      "\r",
      "43.1%"
     ]
    },
    {
     "name": "stderr",
     "output_type": "stream",
     "text": [
      "\r",
      "43.1%"
     ]
    },
    {
     "name": "stderr",
     "output_type": "stream",
     "text": [
      "\r",
      "43.2%"
     ]
    },
    {
     "name": "stderr",
     "output_type": "stream",
     "text": [
      "\r",
      "43.3%"
     ]
    },
    {
     "name": "stderr",
     "output_type": "stream",
     "text": [
      "\r",
      "43.4%"
     ]
    },
    {
     "name": "stderr",
     "output_type": "stream",
     "text": [
      "\r",
      "43.5%"
     ]
    },
    {
     "name": "stderr",
     "output_type": "stream",
     "text": [
      "\r",
      "43.6%"
     ]
    },
    {
     "name": "stderr",
     "output_type": "stream",
     "text": [
      "\r",
      "43.6%"
     ]
    },
    {
     "name": "stderr",
     "output_type": "stream",
     "text": [
      "\r",
      "43.7%"
     ]
    },
    {
     "name": "stderr",
     "output_type": "stream",
     "text": [
      "\r",
      "43.8%"
     ]
    },
    {
     "name": "stderr",
     "output_type": "stream",
     "text": [
      "\r",
      "43.9%"
     ]
    },
    {
     "name": "stderr",
     "output_type": "stream",
     "text": [
      "\r",
      "44.0%"
     ]
    },
    {
     "name": "stderr",
     "output_type": "stream",
     "text": [
      "\r",
      "44.0%"
     ]
    },
    {
     "name": "stderr",
     "output_type": "stream",
     "text": [
      "\r",
      "44.1%"
     ]
    },
    {
     "name": "stderr",
     "output_type": "stream",
     "text": [
      "\r",
      "44.2%"
     ]
    },
    {
     "name": "stderr",
     "output_type": "stream",
     "text": [
      "\r",
      "44.3%"
     ]
    },
    {
     "name": "stderr",
     "output_type": "stream",
     "text": [
      "\r",
      "44.4%"
     ]
    },
    {
     "name": "stderr",
     "output_type": "stream",
     "text": [
      "\r",
      "44.5%"
     ]
    },
    {
     "name": "stderr",
     "output_type": "stream",
     "text": [
      "\r",
      "44.5%"
     ]
    },
    {
     "name": "stderr",
     "output_type": "stream",
     "text": [
      "\r",
      "44.6%"
     ]
    },
    {
     "name": "stderr",
     "output_type": "stream",
     "text": [
      "\r",
      "44.7%"
     ]
    },
    {
     "name": "stderr",
     "output_type": "stream",
     "text": [
      "\r",
      "44.8%"
     ]
    },
    {
     "name": "stderr",
     "output_type": "stream",
     "text": [
      "\r",
      "44.9%"
     ]
    },
    {
     "name": "stderr",
     "output_type": "stream",
     "text": [
      "\r",
      "45.0%"
     ]
    },
    {
     "name": "stderr",
     "output_type": "stream",
     "text": [
      "\r",
      "45.0%"
     ]
    },
    {
     "name": "stderr",
     "output_type": "stream",
     "text": [
      "\r",
      "45.1%"
     ]
    },
    {
     "name": "stderr",
     "output_type": "stream",
     "text": [
      "\r",
      "45.2%"
     ]
    },
    {
     "name": "stderr",
     "output_type": "stream",
     "text": [
      "\r",
      "45.3%"
     ]
    },
    {
     "name": "stderr",
     "output_type": "stream",
     "text": [
      "\r",
      "45.4%"
     ]
    },
    {
     "name": "stderr",
     "output_type": "stream",
     "text": [
      "\r",
      "45.5%"
     ]
    },
    {
     "name": "stderr",
     "output_type": "stream",
     "text": [
      "\r",
      "45.5%"
     ]
    },
    {
     "name": "stderr",
     "output_type": "stream",
     "text": [
      "\r",
      "45.6%"
     ]
    },
    {
     "name": "stderr",
     "output_type": "stream",
     "text": [
      "\r",
      "45.7%"
     ]
    },
    {
     "name": "stderr",
     "output_type": "stream",
     "text": [
      "\r",
      "45.8%"
     ]
    },
    {
     "name": "stderr",
     "output_type": "stream",
     "text": [
      "\r",
      "45.9%"
     ]
    },
    {
     "name": "stderr",
     "output_type": "stream",
     "text": [
      "\r",
      "45.9%"
     ]
    },
    {
     "name": "stderr",
     "output_type": "stream",
     "text": [
      "\r",
      "46.0%"
     ]
    },
    {
     "name": "stderr",
     "output_type": "stream",
     "text": [
      "\r",
      "46.1%"
     ]
    },
    {
     "name": "stderr",
     "output_type": "stream",
     "text": [
      "\r",
      "46.2%"
     ]
    },
    {
     "name": "stderr",
     "output_type": "stream",
     "text": [
      "\r",
      "46.3%"
     ]
    },
    {
     "name": "stderr",
     "output_type": "stream",
     "text": [
      "\r",
      "46.4%"
     ]
    },
    {
     "name": "stderr",
     "output_type": "stream",
     "text": [
      "\r",
      "46.4%"
     ]
    },
    {
     "name": "stderr",
     "output_type": "stream",
     "text": [
      "\r",
      "46.5%"
     ]
    },
    {
     "name": "stderr",
     "output_type": "stream",
     "text": [
      "\r",
      "46.6%"
     ]
    },
    {
     "name": "stderr",
     "output_type": "stream",
     "text": [
      "\r",
      "46.7%"
     ]
    },
    {
     "name": "stderr",
     "output_type": "stream",
     "text": [
      "\r",
      "46.8%"
     ]
    },
    {
     "name": "stderr",
     "output_type": "stream",
     "text": [
      "\r",
      "46.9%"
     ]
    },
    {
     "name": "stderr",
     "output_type": "stream",
     "text": [
      "\r",
      "46.9%"
     ]
    },
    {
     "name": "stderr",
     "output_type": "stream",
     "text": [
      "\r",
      "47.0%"
     ]
    },
    {
     "name": "stderr",
     "output_type": "stream",
     "text": [
      "\r",
      "47.1%"
     ]
    },
    {
     "name": "stderr",
     "output_type": "stream",
     "text": [
      "\r",
      "47.2%"
     ]
    },
    {
     "name": "stderr",
     "output_type": "stream",
     "text": [
      "\r",
      "47.3%"
     ]
    },
    {
     "name": "stderr",
     "output_type": "stream",
     "text": [
      "\r",
      "47.4%"
     ]
    },
    {
     "name": "stderr",
     "output_type": "stream",
     "text": [
      "\r",
      "47.4%"
     ]
    },
    {
     "name": "stderr",
     "output_type": "stream",
     "text": [
      "\r",
      "47.5%"
     ]
    },
    {
     "name": "stderr",
     "output_type": "stream",
     "text": [
      "\r",
      "47.6%"
     ]
    },
    {
     "name": "stderr",
     "output_type": "stream",
     "text": [
      "\r",
      "47.7%"
     ]
    },
    {
     "name": "stderr",
     "output_type": "stream",
     "text": [
      "\r",
      "47.8%"
     ]
    },
    {
     "name": "stderr",
     "output_type": "stream",
     "text": [
      "\r",
      "47.9%"
     ]
    },
    {
     "name": "stderr",
     "output_type": "stream",
     "text": [
      "\r",
      "47.9%"
     ]
    },
    {
     "name": "stderr",
     "output_type": "stream",
     "text": [
      "\r",
      "48.0%"
     ]
    },
    {
     "name": "stderr",
     "output_type": "stream",
     "text": [
      "\r",
      "48.1%"
     ]
    },
    {
     "name": "stderr",
     "output_type": "stream",
     "text": [
      "\r",
      "48.2%"
     ]
    },
    {
     "name": "stderr",
     "output_type": "stream",
     "text": [
      "\r",
      "48.3%"
     ]
    },
    {
     "name": "stderr",
     "output_type": "stream",
     "text": [
      "\r",
      "48.3%"
     ]
    },
    {
     "name": "stderr",
     "output_type": "stream",
     "text": [
      "\r",
      "48.4%"
     ]
    },
    {
     "name": "stderr",
     "output_type": "stream",
     "text": [
      "\r",
      "48.5%"
     ]
    },
    {
     "name": "stderr",
     "output_type": "stream",
     "text": [
      "\r",
      "48.6%"
     ]
    },
    {
     "name": "stderr",
     "output_type": "stream",
     "text": [
      "\r",
      "48.7%"
     ]
    },
    {
     "name": "stderr",
     "output_type": "stream",
     "text": [
      "\r",
      "48.8%"
     ]
    },
    {
     "name": "stderr",
     "output_type": "stream",
     "text": [
      "\r",
      "48.8%"
     ]
    },
    {
     "name": "stderr",
     "output_type": "stream",
     "text": [
      "\r",
      "48.9%"
     ]
    },
    {
     "name": "stderr",
     "output_type": "stream",
     "text": [
      "\r",
      "49.0%"
     ]
    },
    {
     "name": "stderr",
     "output_type": "stream",
     "text": [
      "\r",
      "49.1%"
     ]
    },
    {
     "name": "stderr",
     "output_type": "stream",
     "text": [
      "\r",
      "49.2%"
     ]
    },
    {
     "name": "stderr",
     "output_type": "stream",
     "text": [
      "\r",
      "49.3%"
     ]
    },
    {
     "name": "stderr",
     "output_type": "stream",
     "text": [
      "\r",
      "49.3%"
     ]
    },
    {
     "name": "stderr",
     "output_type": "stream",
     "text": [
      "\r",
      "49.4%"
     ]
    },
    {
     "name": "stderr",
     "output_type": "stream",
     "text": [
      "\r",
      "49.5%"
     ]
    },
    {
     "name": "stderr",
     "output_type": "stream",
     "text": [
      "\r",
      "49.6%"
     ]
    },
    {
     "name": "stderr",
     "output_type": "stream",
     "text": [
      "\r",
      "49.7%"
     ]
    },
    {
     "name": "stderr",
     "output_type": "stream",
     "text": [
      "\r",
      "49.8%"
     ]
    },
    {
     "name": "stderr",
     "output_type": "stream",
     "text": [
      "\r",
      "49.8%"
     ]
    },
    {
     "name": "stderr",
     "output_type": "stream",
     "text": [
      "\r",
      "49.9%"
     ]
    },
    {
     "name": "stderr",
     "output_type": "stream",
     "text": [
      "\r",
      "50.0%"
     ]
    },
    {
     "name": "stderr",
     "output_type": "stream",
     "text": [
      "\r",
      "50.1%"
     ]
    },
    {
     "name": "stderr",
     "output_type": "stream",
     "text": [
      "\r",
      "50.2%"
     ]
    },
    {
     "name": "stderr",
     "output_type": "stream",
     "text": [
      "\r",
      "50.2%"
     ]
    },
    {
     "name": "stderr",
     "output_type": "stream",
     "text": [
      "\r",
      "50.3%"
     ]
    },
    {
     "name": "stderr",
     "output_type": "stream",
     "text": [
      "\r",
      "50.4%"
     ]
    },
    {
     "name": "stderr",
     "output_type": "stream",
     "text": [
      "\r",
      "50.5%"
     ]
    },
    {
     "name": "stderr",
     "output_type": "stream",
     "text": [
      "\r",
      "50.6%"
     ]
    },
    {
     "name": "stderr",
     "output_type": "stream",
     "text": [
      "\r",
      "50.7%"
     ]
    },
    {
     "name": "stderr",
     "output_type": "stream",
     "text": [
      "\r",
      "50.7%"
     ]
    },
    {
     "name": "stderr",
     "output_type": "stream",
     "text": [
      "\r",
      "50.8%"
     ]
    },
    {
     "name": "stderr",
     "output_type": "stream",
     "text": [
      "\r",
      "50.9%"
     ]
    },
    {
     "name": "stderr",
     "output_type": "stream",
     "text": [
      "\r",
      "51.0%"
     ]
    },
    {
     "name": "stderr",
     "output_type": "stream",
     "text": [
      "\r",
      "51.1%"
     ]
    },
    {
     "name": "stderr",
     "output_type": "stream",
     "text": [
      "\r",
      "51.2%"
     ]
    },
    {
     "name": "stderr",
     "output_type": "stream",
     "text": [
      "\r",
      "51.2%"
     ]
    },
    {
     "name": "stderr",
     "output_type": "stream",
     "text": [
      "\r",
      "51.3%"
     ]
    },
    {
     "name": "stderr",
     "output_type": "stream",
     "text": [
      "\r",
      "51.4%"
     ]
    },
    {
     "name": "stderr",
     "output_type": "stream",
     "text": [
      "\r",
      "51.5%"
     ]
    },
    {
     "name": "stderr",
     "output_type": "stream",
     "text": [
      "\r",
      "51.6%"
     ]
    },
    {
     "name": "stderr",
     "output_type": "stream",
     "text": [
      "\r",
      "51.7%"
     ]
    },
    {
     "name": "stderr",
     "output_type": "stream",
     "text": [
      "\r",
      "51.7%"
     ]
    },
    {
     "name": "stderr",
     "output_type": "stream",
     "text": [
      "\r",
      "51.8%"
     ]
    },
    {
     "name": "stderr",
     "output_type": "stream",
     "text": [
      "\r",
      "51.9%"
     ]
    },
    {
     "name": "stderr",
     "output_type": "stream",
     "text": [
      "\r",
      "52.0%"
     ]
    },
    {
     "name": "stderr",
     "output_type": "stream",
     "text": [
      "\r",
      "52.1%"
     ]
    },
    {
     "name": "stderr",
     "output_type": "stream",
     "text": [
      "\r",
      "52.1%"
     ]
    },
    {
     "name": "stderr",
     "output_type": "stream",
     "text": [
      "\r",
      "52.2%"
     ]
    },
    {
     "name": "stderr",
     "output_type": "stream",
     "text": [
      "\r",
      "52.3%"
     ]
    },
    {
     "name": "stderr",
     "output_type": "stream",
     "text": [
      "\r",
      "52.4%"
     ]
    },
    {
     "name": "stderr",
     "output_type": "stream",
     "text": [
      "\r",
      "52.5%"
     ]
    },
    {
     "name": "stderr",
     "output_type": "stream",
     "text": [
      "\r",
      "52.6%"
     ]
    },
    {
     "name": "stderr",
     "output_type": "stream",
     "text": [
      "\r",
      "52.6%"
     ]
    },
    {
     "name": "stderr",
     "output_type": "stream",
     "text": [
      "\r",
      "52.7%"
     ]
    },
    {
     "name": "stderr",
     "output_type": "stream",
     "text": [
      "\r",
      "52.8%"
     ]
    },
    {
     "name": "stderr",
     "output_type": "stream",
     "text": [
      "\r",
      "52.9%"
     ]
    },
    {
     "name": "stderr",
     "output_type": "stream",
     "text": [
      "\r",
      "53.0%"
     ]
    },
    {
     "name": "stderr",
     "output_type": "stream",
     "text": [
      "\r",
      "53.1%"
     ]
    },
    {
     "name": "stderr",
     "output_type": "stream",
     "text": [
      "\r",
      "53.1%"
     ]
    },
    {
     "name": "stderr",
     "output_type": "stream",
     "text": [
      "\r",
      "53.2%"
     ]
    },
    {
     "name": "stderr",
     "output_type": "stream",
     "text": [
      "\r",
      "53.3%"
     ]
    },
    {
     "name": "stderr",
     "output_type": "stream",
     "text": [
      "\r",
      "53.4%"
     ]
    },
    {
     "name": "stderr",
     "output_type": "stream",
     "text": [
      "\r",
      "53.5%"
     ]
    },
    {
     "name": "stderr",
     "output_type": "stream",
     "text": [
      "\r",
      "53.6%"
     ]
    },
    {
     "name": "stderr",
     "output_type": "stream",
     "text": [
      "\r",
      "53.6%"
     ]
    },
    {
     "name": "stderr",
     "output_type": "stream",
     "text": [
      "\r",
      "53.7%"
     ]
    },
    {
     "name": "stderr",
     "output_type": "stream",
     "text": [
      "\r",
      "53.8%"
     ]
    },
    {
     "name": "stderr",
     "output_type": "stream",
     "text": [
      "\r",
      "53.9%"
     ]
    },
    {
     "name": "stderr",
     "output_type": "stream",
     "text": [
      "\r",
      "54.0%"
     ]
    },
    {
     "name": "stderr",
     "output_type": "stream",
     "text": [
      "\r",
      "54.0%"
     ]
    },
    {
     "name": "stderr",
     "output_type": "stream",
     "text": [
      "\r",
      "54.1%"
     ]
    },
    {
     "name": "stderr",
     "output_type": "stream",
     "text": [
      "\r",
      "54.2%"
     ]
    },
    {
     "name": "stderr",
     "output_type": "stream",
     "text": [
      "\r",
      "54.3%"
     ]
    },
    {
     "name": "stderr",
     "output_type": "stream",
     "text": [
      "\r",
      "54.4%"
     ]
    },
    {
     "name": "stderr",
     "output_type": "stream",
     "text": [
      "\r",
      "54.5%"
     ]
    },
    {
     "name": "stderr",
     "output_type": "stream",
     "text": [
      "\r",
      "54.5%"
     ]
    },
    {
     "name": "stderr",
     "output_type": "stream",
     "text": [
      "\r",
      "54.6%"
     ]
    },
    {
     "name": "stderr",
     "output_type": "stream",
     "text": [
      "\r",
      "54.7%"
     ]
    },
    {
     "name": "stderr",
     "output_type": "stream",
     "text": [
      "\r",
      "54.8%"
     ]
    },
    {
     "name": "stderr",
     "output_type": "stream",
     "text": [
      "\r",
      "54.9%"
     ]
    },
    {
     "name": "stderr",
     "output_type": "stream",
     "text": [
      "\r",
      "55.0%"
     ]
    },
    {
     "name": "stderr",
     "output_type": "stream",
     "text": [
      "\r",
      "55.0%"
     ]
    },
    {
     "name": "stderr",
     "output_type": "stream",
     "text": [
      "\r",
      "55.1%"
     ]
    },
    {
     "name": "stderr",
     "output_type": "stream",
     "text": [
      "\r",
      "55.2%"
     ]
    },
    {
     "name": "stderr",
     "output_type": "stream",
     "text": [
      "\r",
      "55.3%"
     ]
    },
    {
     "name": "stderr",
     "output_type": "stream",
     "text": [
      "\r",
      "55.4%"
     ]
    },
    {
     "name": "stderr",
     "output_type": "stream",
     "text": [
      "\r",
      "55.5%"
     ]
    },
    {
     "name": "stderr",
     "output_type": "stream",
     "text": [
      "\r",
      "55.5%"
     ]
    },
    {
     "name": "stderr",
     "output_type": "stream",
     "text": [
      "\r",
      "55.6%"
     ]
    },
    {
     "name": "stderr",
     "output_type": "stream",
     "text": [
      "\r",
      "55.7%"
     ]
    },
    {
     "name": "stderr",
     "output_type": "stream",
     "text": [
      "\r",
      "55.8%"
     ]
    },
    {
     "name": "stderr",
     "output_type": "stream",
     "text": [
      "\r",
      "55.9%"
     ]
    },
    {
     "name": "stderr",
     "output_type": "stream",
     "text": [
      "\r",
      "55.9%"
     ]
    },
    {
     "name": "stderr",
     "output_type": "stream",
     "text": [
      "\r",
      "56.0%"
     ]
    },
    {
     "name": "stderr",
     "output_type": "stream",
     "text": [
      "\r",
      "56.1%"
     ]
    },
    {
     "name": "stderr",
     "output_type": "stream",
     "text": [
      "\r",
      "56.2%"
     ]
    },
    {
     "name": "stderr",
     "output_type": "stream",
     "text": [
      "\r",
      "56.3%"
     ]
    },
    {
     "name": "stderr",
     "output_type": "stream",
     "text": [
      "\r",
      "56.4%"
     ]
    },
    {
     "name": "stderr",
     "output_type": "stream",
     "text": [
      "\r",
      "56.4%"
     ]
    },
    {
     "name": "stderr",
     "output_type": "stream",
     "text": [
      "\r",
      "56.5%"
     ]
    },
    {
     "name": "stderr",
     "output_type": "stream",
     "text": [
      "\r",
      "56.6%"
     ]
    },
    {
     "name": "stderr",
     "output_type": "stream",
     "text": [
      "\r",
      "56.7%"
     ]
    },
    {
     "name": "stderr",
     "output_type": "stream",
     "text": [
      "\r",
      "56.8%"
     ]
    },
    {
     "name": "stderr",
     "output_type": "stream",
     "text": [
      "\r",
      "56.9%"
     ]
    },
    {
     "name": "stderr",
     "output_type": "stream",
     "text": [
      "\r",
      "56.9%"
     ]
    },
    {
     "name": "stderr",
     "output_type": "stream",
     "text": [
      "\r",
      "57.0%"
     ]
    },
    {
     "name": "stderr",
     "output_type": "stream",
     "text": [
      "\r",
      "57.1%"
     ]
    },
    {
     "name": "stderr",
     "output_type": "stream",
     "text": [
      "\r",
      "57.2%"
     ]
    },
    {
     "name": "stderr",
     "output_type": "stream",
     "text": [
      "\r",
      "57.3%"
     ]
    },
    {
     "name": "stderr",
     "output_type": "stream",
     "text": [
      "\r",
      "57.4%"
     ]
    },
    {
     "name": "stderr",
     "output_type": "stream",
     "text": [
      "\r",
      "57.4%"
     ]
    },
    {
     "name": "stderr",
     "output_type": "stream",
     "text": [
      "\r",
      "57.5%"
     ]
    },
    {
     "name": "stderr",
     "output_type": "stream",
     "text": [
      "\r",
      "57.6%"
     ]
    },
    {
     "name": "stderr",
     "output_type": "stream",
     "text": [
      "\r",
      "57.7%"
     ]
    },
    {
     "name": "stderr",
     "output_type": "stream",
     "text": [
      "\r",
      "57.8%"
     ]
    },
    {
     "name": "stderr",
     "output_type": "stream",
     "text": [
      "\r",
      "57.9%"
     ]
    },
    {
     "name": "stderr",
     "output_type": "stream",
     "text": [
      "\r",
      "57.9%"
     ]
    },
    {
     "name": "stderr",
     "output_type": "stream",
     "text": [
      "\r",
      "58.0%"
     ]
    },
    {
     "name": "stderr",
     "output_type": "stream",
     "text": [
      "\r",
      "58.1%"
     ]
    },
    {
     "name": "stderr",
     "output_type": "stream",
     "text": [
      "\r",
      "58.2%"
     ]
    },
    {
     "name": "stderr",
     "output_type": "stream",
     "text": [
      "\r",
      "58.3%"
     ]
    },
    {
     "name": "stderr",
     "output_type": "stream",
     "text": [
      "\r",
      "58.3%"
     ]
    },
    {
     "name": "stderr",
     "output_type": "stream",
     "text": [
      "\r",
      "58.4%"
     ]
    },
    {
     "name": "stderr",
     "output_type": "stream",
     "text": [
      "\r",
      "58.5%"
     ]
    },
    {
     "name": "stderr",
     "output_type": "stream",
     "text": [
      "\r",
      "58.6%"
     ]
    },
    {
     "name": "stderr",
     "output_type": "stream",
     "text": [
      "\r",
      "58.7%"
     ]
    },
    {
     "name": "stderr",
     "output_type": "stream",
     "text": [
      "\r",
      "58.8%"
     ]
    },
    {
     "name": "stderr",
     "output_type": "stream",
     "text": [
      "\r",
      "58.8%"
     ]
    },
    {
     "name": "stderr",
     "output_type": "stream",
     "text": [
      "\r",
      "58.9%"
     ]
    },
    {
     "name": "stderr",
     "output_type": "stream",
     "text": [
      "\r",
      "59.0%"
     ]
    },
    {
     "name": "stderr",
     "output_type": "stream",
     "text": [
      "\r",
      "59.1%"
     ]
    },
    {
     "name": "stderr",
     "output_type": "stream",
     "text": [
      "\r",
      "59.2%"
     ]
    },
    {
     "name": "stderr",
     "output_type": "stream",
     "text": [
      "\r",
      "59.3%"
     ]
    },
    {
     "name": "stderr",
     "output_type": "stream",
     "text": [
      "\r",
      "59.3%"
     ]
    },
    {
     "name": "stderr",
     "output_type": "stream",
     "text": [
      "\r",
      "59.4%"
     ]
    },
    {
     "name": "stderr",
     "output_type": "stream",
     "text": [
      "\r",
      "59.5%"
     ]
    },
    {
     "name": "stderr",
     "output_type": "stream",
     "text": [
      "\r",
      "59.6%"
     ]
    },
    {
     "name": "stderr",
     "output_type": "stream",
     "text": [
      "\r",
      "59.7%"
     ]
    },
    {
     "name": "stderr",
     "output_type": "stream",
     "text": [
      "\r",
      "59.8%"
     ]
    },
    {
     "name": "stderr",
     "output_type": "stream",
     "text": [
      "\r",
      "59.8%"
     ]
    },
    {
     "name": "stderr",
     "output_type": "stream",
     "text": [
      "\r",
      "59.9%"
     ]
    },
    {
     "name": "stderr",
     "output_type": "stream",
     "text": [
      "\r",
      "60.0%"
     ]
    },
    {
     "name": "stderr",
     "output_type": "stream",
     "text": [
      "\r",
      "60.1%"
     ]
    },
    {
     "name": "stderr",
     "output_type": "stream",
     "text": [
      "\r",
      "60.2%"
     ]
    },
    {
     "name": "stderr",
     "output_type": "stream",
     "text": [
      "\r",
      "60.2%"
     ]
    },
    {
     "name": "stderr",
     "output_type": "stream",
     "text": [
      "\r",
      "60.3%"
     ]
    },
    {
     "name": "stderr",
     "output_type": "stream",
     "text": [
      "\r",
      "60.4%"
     ]
    },
    {
     "name": "stderr",
     "output_type": "stream",
     "text": [
      "\r",
      "60.5%"
     ]
    },
    {
     "name": "stderr",
     "output_type": "stream",
     "text": [
      "\r",
      "60.6%"
     ]
    },
    {
     "name": "stderr",
     "output_type": "stream",
     "text": [
      "\r",
      "60.7%"
     ]
    },
    {
     "name": "stderr",
     "output_type": "stream",
     "text": [
      "\r",
      "60.7%"
     ]
    },
    {
     "name": "stderr",
     "output_type": "stream",
     "text": [
      "\r",
      "60.8%"
     ]
    },
    {
     "name": "stderr",
     "output_type": "stream",
     "text": [
      "\r",
      "60.9%"
     ]
    },
    {
     "name": "stderr",
     "output_type": "stream",
     "text": [
      "\r",
      "61.0%"
     ]
    },
    {
     "name": "stderr",
     "output_type": "stream",
     "text": [
      "\r",
      "61.1%"
     ]
    },
    {
     "name": "stderr",
     "output_type": "stream",
     "text": [
      "\r",
      "61.2%"
     ]
    },
    {
     "name": "stderr",
     "output_type": "stream",
     "text": [
      "\r",
      "61.2%"
     ]
    },
    {
     "name": "stderr",
     "output_type": "stream",
     "text": [
      "\r",
      "61.3%"
     ]
    },
    {
     "name": "stderr",
     "output_type": "stream",
     "text": [
      "\r",
      "61.4%"
     ]
    },
    {
     "name": "stderr",
     "output_type": "stream",
     "text": [
      "\r",
      "61.5%"
     ]
    },
    {
     "name": "stderr",
     "output_type": "stream",
     "text": [
      "\r",
      "61.6%"
     ]
    },
    {
     "name": "stderr",
     "output_type": "stream",
     "text": [
      "\r",
      "61.7%"
     ]
    },
    {
     "name": "stderr",
     "output_type": "stream",
     "text": [
      "\r",
      "61.7%"
     ]
    },
    {
     "name": "stderr",
     "output_type": "stream",
     "text": [
      "\r",
      "61.8%"
     ]
    },
    {
     "name": "stderr",
     "output_type": "stream",
     "text": [
      "\r",
      "61.9%"
     ]
    },
    {
     "name": "stderr",
     "output_type": "stream",
     "text": [
      "\r",
      "62.0%"
     ]
    },
    {
     "name": "stderr",
     "output_type": "stream",
     "text": [
      "\r",
      "62.1%"
     ]
    },
    {
     "name": "stderr",
     "output_type": "stream",
     "text": [
      "\r",
      "62.1%"
     ]
    },
    {
     "name": "stderr",
     "output_type": "stream",
     "text": [
      "\r",
      "62.2%"
     ]
    },
    {
     "name": "stderr",
     "output_type": "stream",
     "text": [
      "\r",
      "62.3%"
     ]
    },
    {
     "name": "stderr",
     "output_type": "stream",
     "text": [
      "\r",
      "62.4%"
     ]
    },
    {
     "name": "stderr",
     "output_type": "stream",
     "text": [
      "\r",
      "62.5%"
     ]
    },
    {
     "name": "stderr",
     "output_type": "stream",
     "text": [
      "\r",
      "62.6%"
     ]
    },
    {
     "name": "stderr",
     "output_type": "stream",
     "text": [
      "\r",
      "62.6%"
     ]
    },
    {
     "name": "stderr",
     "output_type": "stream",
     "text": [
      "\r",
      "62.7%"
     ]
    },
    {
     "name": "stderr",
     "output_type": "stream",
     "text": [
      "\r",
      "62.8%"
     ]
    },
    {
     "name": "stderr",
     "output_type": "stream",
     "text": [
      "\r",
      "62.9%"
     ]
    },
    {
     "name": "stderr",
     "output_type": "stream",
     "text": [
      "\r",
      "63.0%"
     ]
    },
    {
     "name": "stderr",
     "output_type": "stream",
     "text": [
      "\r",
      "63.1%"
     ]
    },
    {
     "name": "stderr",
     "output_type": "stream",
     "text": [
      "\r",
      "63.1%"
     ]
    },
    {
     "name": "stderr",
     "output_type": "stream",
     "text": [
      "\r",
      "63.2%"
     ]
    },
    {
     "name": "stderr",
     "output_type": "stream",
     "text": [
      "\r",
      "63.3%"
     ]
    },
    {
     "name": "stderr",
     "output_type": "stream",
     "text": [
      "\r",
      "63.4%"
     ]
    },
    {
     "name": "stderr",
     "output_type": "stream",
     "text": [
      "\r",
      "63.5%"
     ]
    },
    {
     "name": "stderr",
     "output_type": "stream",
     "text": [
      "\r",
      "63.6%"
     ]
    },
    {
     "name": "stderr",
     "output_type": "stream",
     "text": [
      "\r",
      "63.6%"
     ]
    },
    {
     "name": "stderr",
     "output_type": "stream",
     "text": [
      "\r",
      "63.7%"
     ]
    },
    {
     "name": "stderr",
     "output_type": "stream",
     "text": [
      "\r",
      "63.8%"
     ]
    },
    {
     "name": "stderr",
     "output_type": "stream",
     "text": [
      "\r",
      "63.9%"
     ]
    },
    {
     "name": "stderr",
     "output_type": "stream",
     "text": [
      "\r",
      "64.0%"
     ]
    },
    {
     "name": "stderr",
     "output_type": "stream",
     "text": [
      "\r",
      "64.0%"
     ]
    },
    {
     "name": "stderr",
     "output_type": "stream",
     "text": [
      "\r",
      "64.1%"
     ]
    },
    {
     "name": "stderr",
     "output_type": "stream",
     "text": [
      "\r",
      "64.2%"
     ]
    },
    {
     "name": "stderr",
     "output_type": "stream",
     "text": [
      "\r",
      "64.3%"
     ]
    },
    {
     "name": "stderr",
     "output_type": "stream",
     "text": [
      "\r",
      "64.4%"
     ]
    },
    {
     "name": "stderr",
     "output_type": "stream",
     "text": [
      "\r",
      "64.5%"
     ]
    },
    {
     "name": "stderr",
     "output_type": "stream",
     "text": [
      "\r",
      "64.5%"
     ]
    },
    {
     "name": "stderr",
     "output_type": "stream",
     "text": [
      "\r",
      "64.6%"
     ]
    },
    {
     "name": "stderr",
     "output_type": "stream",
     "text": [
      "\r",
      "64.7%"
     ]
    },
    {
     "name": "stderr",
     "output_type": "stream",
     "text": [
      "\r",
      "64.8%"
     ]
    },
    {
     "name": "stderr",
     "output_type": "stream",
     "text": [
      "\r",
      "64.9%"
     ]
    },
    {
     "name": "stderr",
     "output_type": "stream",
     "text": [
      "\r",
      "65.0%"
     ]
    },
    {
     "name": "stderr",
     "output_type": "stream",
     "text": [
      "\r",
      "65.0%"
     ]
    },
    {
     "name": "stderr",
     "output_type": "stream",
     "text": [
      "\r",
      "65.1%"
     ]
    },
    {
     "name": "stderr",
     "output_type": "stream",
     "text": [
      "\r",
      "65.2%"
     ]
    },
    {
     "name": "stderr",
     "output_type": "stream",
     "text": [
      "\r",
      "65.3%"
     ]
    },
    {
     "name": "stderr",
     "output_type": "stream",
     "text": [
      "\r",
      "65.4%"
     ]
    },
    {
     "name": "stderr",
     "output_type": "stream",
     "text": [
      "\r",
      "65.5%"
     ]
    },
    {
     "name": "stderr",
     "output_type": "stream",
     "text": [
      "\r",
      "65.5%"
     ]
    },
    {
     "name": "stderr",
     "output_type": "stream",
     "text": [
      "\r",
      "65.6%"
     ]
    },
    {
     "name": "stderr",
     "output_type": "stream",
     "text": [
      "\r",
      "65.7%"
     ]
    },
    {
     "name": "stderr",
     "output_type": "stream",
     "text": [
      "\r",
      "65.8%"
     ]
    },
    {
     "name": "stderr",
     "output_type": "stream",
     "text": [
      "\r",
      "65.9%"
     ]
    },
    {
     "name": "stderr",
     "output_type": "stream",
     "text": [
      "\r",
      "65.9%"
     ]
    },
    {
     "name": "stderr",
     "output_type": "stream",
     "text": [
      "\r",
      "66.0%"
     ]
    },
    {
     "name": "stderr",
     "output_type": "stream",
     "text": [
      "\r",
      "66.1%"
     ]
    },
    {
     "name": "stderr",
     "output_type": "stream",
     "text": [
      "\r",
      "66.2%"
     ]
    },
    {
     "name": "stderr",
     "output_type": "stream",
     "text": [
      "\r",
      "66.3%"
     ]
    },
    {
     "name": "stderr",
     "output_type": "stream",
     "text": [
      "\r",
      "66.4%"
     ]
    },
    {
     "name": "stderr",
     "output_type": "stream",
     "text": [
      "\r",
      "66.4%"
     ]
    },
    {
     "name": "stderr",
     "output_type": "stream",
     "text": [
      "\r",
      "66.5%"
     ]
    },
    {
     "name": "stderr",
     "output_type": "stream",
     "text": [
      "\r",
      "66.6%"
     ]
    },
    {
     "name": "stderr",
     "output_type": "stream",
     "text": [
      "\r",
      "66.7%"
     ]
    },
    {
     "name": "stderr",
     "output_type": "stream",
     "text": [
      "\r",
      "66.8%"
     ]
    },
    {
     "name": "stderr",
     "output_type": "stream",
     "text": [
      "\r",
      "66.9%"
     ]
    },
    {
     "name": "stderr",
     "output_type": "stream",
     "text": [
      "\r",
      "66.9%"
     ]
    },
    {
     "name": "stderr",
     "output_type": "stream",
     "text": [
      "\r",
      "67.0%"
     ]
    },
    {
     "name": "stderr",
     "output_type": "stream",
     "text": [
      "\r",
      "67.1%"
     ]
    },
    {
     "name": "stderr",
     "output_type": "stream",
     "text": [
      "\r",
      "67.2%"
     ]
    },
    {
     "name": "stderr",
     "output_type": "stream",
     "text": [
      "\r",
      "67.3%"
     ]
    },
    {
     "name": "stderr",
     "output_type": "stream",
     "text": [
      "\r",
      "67.4%"
     ]
    },
    {
     "name": "stderr",
     "output_type": "stream",
     "text": [
      "\r",
      "67.4%"
     ]
    },
    {
     "name": "stderr",
     "output_type": "stream",
     "text": [
      "\r",
      "67.5%"
     ]
    },
    {
     "name": "stderr",
     "output_type": "stream",
     "text": [
      "\r",
      "67.6%"
     ]
    },
    {
     "name": "stderr",
     "output_type": "stream",
     "text": [
      "\r",
      "67.7%"
     ]
    },
    {
     "name": "stderr",
     "output_type": "stream",
     "text": [
      "\r",
      "67.8%"
     ]
    },
    {
     "name": "stderr",
     "output_type": "stream",
     "text": [
      "\r",
      "67.9%"
     ]
    },
    {
     "name": "stderr",
     "output_type": "stream",
     "text": [
      "\r",
      "67.9%"
     ]
    },
    {
     "name": "stderr",
     "output_type": "stream",
     "text": [
      "\r",
      "68.0%"
     ]
    },
    {
     "name": "stderr",
     "output_type": "stream",
     "text": [
      "\r",
      "68.1%"
     ]
    },
    {
     "name": "stderr",
     "output_type": "stream",
     "text": [
      "\r",
      "68.2%"
     ]
    },
    {
     "name": "stderr",
     "output_type": "stream",
     "text": [
      "\r",
      "68.3%"
     ]
    },
    {
     "name": "stderr",
     "output_type": "stream",
     "text": [
      "\r",
      "68.3%"
     ]
    },
    {
     "name": "stderr",
     "output_type": "stream",
     "text": [
      "\r",
      "68.4%"
     ]
    },
    {
     "name": "stderr",
     "output_type": "stream",
     "text": [
      "\r",
      "68.5%"
     ]
    },
    {
     "name": "stderr",
     "output_type": "stream",
     "text": [
      "\r",
      "68.6%"
     ]
    },
    {
     "name": "stderr",
     "output_type": "stream",
     "text": [
      "\r",
      "68.7%"
     ]
    },
    {
     "name": "stderr",
     "output_type": "stream",
     "text": [
      "\r",
      "68.8%"
     ]
    },
    {
     "name": "stderr",
     "output_type": "stream",
     "text": [
      "\r",
      "68.8%"
     ]
    },
    {
     "name": "stderr",
     "output_type": "stream",
     "text": [
      "\r",
      "68.9%"
     ]
    },
    {
     "name": "stderr",
     "output_type": "stream",
     "text": [
      "\r",
      "69.0%"
     ]
    },
    {
     "name": "stderr",
     "output_type": "stream",
     "text": [
      "\r",
      "69.1%"
     ]
    },
    {
     "name": "stderr",
     "output_type": "stream",
     "text": [
      "\r",
      "69.2%"
     ]
    },
    {
     "name": "stderr",
     "output_type": "stream",
     "text": [
      "\r",
      "69.3%"
     ]
    },
    {
     "name": "stderr",
     "output_type": "stream",
     "text": [
      "\r",
      "69.3%"
     ]
    },
    {
     "name": "stderr",
     "output_type": "stream",
     "text": [
      "\r",
      "69.4%"
     ]
    },
    {
     "name": "stderr",
     "output_type": "stream",
     "text": [
      "\r",
      "69.5%"
     ]
    },
    {
     "name": "stderr",
     "output_type": "stream",
     "text": [
      "\r",
      "69.6%"
     ]
    },
    {
     "name": "stderr",
     "output_type": "stream",
     "text": [
      "\r",
      "69.7%"
     ]
    },
    {
     "name": "stderr",
     "output_type": "stream",
     "text": [
      "\r",
      "69.8%"
     ]
    },
    {
     "name": "stderr",
     "output_type": "stream",
     "text": [
      "\r",
      "69.8%"
     ]
    },
    {
     "name": "stderr",
     "output_type": "stream",
     "text": [
      "\r",
      "69.9%"
     ]
    },
    {
     "name": "stderr",
     "output_type": "stream",
     "text": [
      "\r",
      "70.0%"
     ]
    },
    {
     "name": "stderr",
     "output_type": "stream",
     "text": [
      "\r",
      "70.1%"
     ]
    },
    {
     "name": "stderr",
     "output_type": "stream",
     "text": [
      "\r",
      "70.2%"
     ]
    },
    {
     "name": "stderr",
     "output_type": "stream",
     "text": [
      "\r",
      "70.2%"
     ]
    },
    {
     "name": "stderr",
     "output_type": "stream",
     "text": [
      "\r",
      "70.3%"
     ]
    },
    {
     "name": "stderr",
     "output_type": "stream",
     "text": [
      "\r",
      "70.4%"
     ]
    },
    {
     "name": "stderr",
     "output_type": "stream",
     "text": [
      "\r",
      "70.5%"
     ]
    },
    {
     "name": "stderr",
     "output_type": "stream",
     "text": [
      "\r",
      "70.6%"
     ]
    },
    {
     "name": "stderr",
     "output_type": "stream",
     "text": [
      "\r",
      "70.7%"
     ]
    },
    {
     "name": "stderr",
     "output_type": "stream",
     "text": [
      "\r",
      "70.7%"
     ]
    },
    {
     "name": "stderr",
     "output_type": "stream",
     "text": [
      "\r",
      "70.8%"
     ]
    },
    {
     "name": "stderr",
     "output_type": "stream",
     "text": [
      "\r",
      "70.9%"
     ]
    },
    {
     "name": "stderr",
     "output_type": "stream",
     "text": [
      "\r",
      "71.0%"
     ]
    },
    {
     "name": "stderr",
     "output_type": "stream",
     "text": [
      "\r",
      "71.1%"
     ]
    },
    {
     "name": "stderr",
     "output_type": "stream",
     "text": [
      "\r",
      "71.2%"
     ]
    },
    {
     "name": "stderr",
     "output_type": "stream",
     "text": [
      "\r",
      "71.2%"
     ]
    },
    {
     "name": "stderr",
     "output_type": "stream",
     "text": [
      "\r",
      "71.3%"
     ]
    },
    {
     "name": "stderr",
     "output_type": "stream",
     "text": [
      "\r",
      "71.4%"
     ]
    },
    {
     "name": "stderr",
     "output_type": "stream",
     "text": [
      "\r",
      "71.5%"
     ]
    },
    {
     "name": "stderr",
     "output_type": "stream",
     "text": [
      "\r",
      "71.6%"
     ]
    },
    {
     "name": "stderr",
     "output_type": "stream",
     "text": [
      "\r",
      "71.7%"
     ]
    },
    {
     "name": "stderr",
     "output_type": "stream",
     "text": [
      "\r",
      "71.7%"
     ]
    },
    {
     "name": "stderr",
     "output_type": "stream",
     "text": [
      "\r",
      "71.8%"
     ]
    },
    {
     "name": "stderr",
     "output_type": "stream",
     "text": [
      "\r",
      "71.9%"
     ]
    },
    {
     "name": "stderr",
     "output_type": "stream",
     "text": [
      "\r",
      "72.0%"
     ]
    },
    {
     "name": "stderr",
     "output_type": "stream",
     "text": [
      "\r",
      "72.1%"
     ]
    },
    {
     "name": "stderr",
     "output_type": "stream",
     "text": [
      "\r",
      "72.1%"
     ]
    },
    {
     "name": "stderr",
     "output_type": "stream",
     "text": [
      "\r",
      "72.2%"
     ]
    },
    {
     "name": "stderr",
     "output_type": "stream",
     "text": [
      "\r",
      "72.3%"
     ]
    },
    {
     "name": "stderr",
     "output_type": "stream",
     "text": [
      "\r",
      "72.4%"
     ]
    },
    {
     "name": "stderr",
     "output_type": "stream",
     "text": [
      "\r",
      "72.5%"
     ]
    },
    {
     "name": "stderr",
     "output_type": "stream",
     "text": [
      "\r",
      "72.6%"
     ]
    },
    {
     "name": "stderr",
     "output_type": "stream",
     "text": [
      "\r",
      "72.6%"
     ]
    },
    {
     "name": "stderr",
     "output_type": "stream",
     "text": [
      "\r",
      "72.7%"
     ]
    },
    {
     "name": "stderr",
     "output_type": "stream",
     "text": [
      "\r",
      "72.8%"
     ]
    },
    {
     "name": "stderr",
     "output_type": "stream",
     "text": [
      "\r",
      "72.9%"
     ]
    },
    {
     "name": "stderr",
     "output_type": "stream",
     "text": [
      "\r",
      "73.0%"
     ]
    },
    {
     "name": "stderr",
     "output_type": "stream",
     "text": [
      "\r",
      "73.1%"
     ]
    },
    {
     "name": "stderr",
     "output_type": "stream",
     "text": [
      "\r",
      "73.1%"
     ]
    },
    {
     "name": "stderr",
     "output_type": "stream",
     "text": [
      "\r",
      "73.2%"
     ]
    },
    {
     "name": "stderr",
     "output_type": "stream",
     "text": [
      "\r",
      "73.3%"
     ]
    },
    {
     "name": "stderr",
     "output_type": "stream",
     "text": [
      "\r",
      "73.4%"
     ]
    },
    {
     "name": "stderr",
     "output_type": "stream",
     "text": [
      "\r",
      "73.5%"
     ]
    },
    {
     "name": "stderr",
     "output_type": "stream",
     "text": [
      "\r",
      "73.6%"
     ]
    },
    {
     "name": "stderr",
     "output_type": "stream",
     "text": [
      "\r",
      "73.6%"
     ]
    },
    {
     "name": "stderr",
     "output_type": "stream",
     "text": [
      "\r",
      "73.7%"
     ]
    },
    {
     "name": "stderr",
     "output_type": "stream",
     "text": [
      "\r",
      "73.8%"
     ]
    },
    {
     "name": "stderr",
     "output_type": "stream",
     "text": [
      "\r",
      "73.9%"
     ]
    },
    {
     "name": "stderr",
     "output_type": "stream",
     "text": [
      "\r",
      "74.0%"
     ]
    },
    {
     "name": "stderr",
     "output_type": "stream",
     "text": [
      "\r",
      "74.0%"
     ]
    },
    {
     "name": "stderr",
     "output_type": "stream",
     "text": [
      "\r",
      "74.1%"
     ]
    },
    {
     "name": "stderr",
     "output_type": "stream",
     "text": [
      "\r",
      "74.2%"
     ]
    },
    {
     "name": "stderr",
     "output_type": "stream",
     "text": [
      "\r",
      "74.3%"
     ]
    },
    {
     "name": "stderr",
     "output_type": "stream",
     "text": [
      "\r",
      "74.4%"
     ]
    },
    {
     "name": "stderr",
     "output_type": "stream",
     "text": [
      "\r",
      "74.5%"
     ]
    },
    {
     "name": "stderr",
     "output_type": "stream",
     "text": [
      "\r",
      "74.5%"
     ]
    },
    {
     "name": "stderr",
     "output_type": "stream",
     "text": [
      "\r",
      "74.6%"
     ]
    },
    {
     "name": "stderr",
     "output_type": "stream",
     "text": [
      "\r",
      "74.7%"
     ]
    },
    {
     "name": "stderr",
     "output_type": "stream",
     "text": [
      "\r",
      "74.8%"
     ]
    },
    {
     "name": "stderr",
     "output_type": "stream",
     "text": [
      "\r",
      "74.9%"
     ]
    },
    {
     "name": "stderr",
     "output_type": "stream",
     "text": [
      "\r",
      "75.0%"
     ]
    },
    {
     "name": "stderr",
     "output_type": "stream",
     "text": [
      "\r",
      "75.0%"
     ]
    },
    {
     "name": "stderr",
     "output_type": "stream",
     "text": [
      "\r",
      "75.1%"
     ]
    },
    {
     "name": "stderr",
     "output_type": "stream",
     "text": [
      "\r",
      "75.2%"
     ]
    },
    {
     "name": "stderr",
     "output_type": "stream",
     "text": [
      "\r",
      "75.3%"
     ]
    },
    {
     "name": "stderr",
     "output_type": "stream",
     "text": [
      "\r",
      "75.4%"
     ]
    },
    {
     "name": "stderr",
     "output_type": "stream",
     "text": [
      "\r",
      "75.5%"
     ]
    },
    {
     "name": "stderr",
     "output_type": "stream",
     "text": [
      "\r",
      "75.5%"
     ]
    },
    {
     "name": "stderr",
     "output_type": "stream",
     "text": [
      "\r",
      "75.6%"
     ]
    },
    {
     "name": "stderr",
     "output_type": "stream",
     "text": [
      "\r",
      "75.7%"
     ]
    },
    {
     "name": "stderr",
     "output_type": "stream",
     "text": [
      "\r",
      "75.8%"
     ]
    },
    {
     "name": "stderr",
     "output_type": "stream",
     "text": [
      "\r",
      "75.9%"
     ]
    },
    {
     "name": "stderr",
     "output_type": "stream",
     "text": [
      "\r",
      "75.9%"
     ]
    },
    {
     "name": "stderr",
     "output_type": "stream",
     "text": [
      "\r",
      "76.0%"
     ]
    },
    {
     "name": "stderr",
     "output_type": "stream",
     "text": [
      "\r",
      "76.1%"
     ]
    },
    {
     "name": "stderr",
     "output_type": "stream",
     "text": [
      "\r",
      "76.2%"
     ]
    },
    {
     "name": "stderr",
     "output_type": "stream",
     "text": [
      "\r",
      "76.3%"
     ]
    },
    {
     "name": "stderr",
     "output_type": "stream",
     "text": [
      "\r",
      "76.4%"
     ]
    },
    {
     "name": "stderr",
     "output_type": "stream",
     "text": [
      "\r",
      "76.4%"
     ]
    },
    {
     "name": "stderr",
     "output_type": "stream",
     "text": [
      "\r",
      "76.5%"
     ]
    },
    {
     "name": "stderr",
     "output_type": "stream",
     "text": [
      "\r",
      "76.6%"
     ]
    },
    {
     "name": "stderr",
     "output_type": "stream",
     "text": [
      "\r",
      "76.7%"
     ]
    },
    {
     "name": "stderr",
     "output_type": "stream",
     "text": [
      "\r",
      "76.8%"
     ]
    },
    {
     "name": "stderr",
     "output_type": "stream",
     "text": [
      "\r",
      "76.9%"
     ]
    },
    {
     "name": "stderr",
     "output_type": "stream",
     "text": [
      "\r",
      "76.9%"
     ]
    },
    {
     "name": "stderr",
     "output_type": "stream",
     "text": [
      "\r",
      "77.0%"
     ]
    },
    {
     "name": "stderr",
     "output_type": "stream",
     "text": [
      "\r",
      "77.1%"
     ]
    },
    {
     "name": "stderr",
     "output_type": "stream",
     "text": [
      "\r",
      "77.2%"
     ]
    },
    {
     "name": "stderr",
     "output_type": "stream",
     "text": [
      "\r",
      "77.3%"
     ]
    },
    {
     "name": "stderr",
     "output_type": "stream",
     "text": [
      "\r",
      "77.4%"
     ]
    },
    {
     "name": "stderr",
     "output_type": "stream",
     "text": [
      "\r",
      "77.4%"
     ]
    },
    {
     "name": "stderr",
     "output_type": "stream",
     "text": [
      "\r",
      "77.5%"
     ]
    },
    {
     "name": "stderr",
     "output_type": "stream",
     "text": [
      "\r",
      "77.6%"
     ]
    },
    {
     "name": "stderr",
     "output_type": "stream",
     "text": [
      "\r",
      "77.7%"
     ]
    },
    {
     "name": "stderr",
     "output_type": "stream",
     "text": [
      "\r",
      "77.8%"
     ]
    },
    {
     "name": "stderr",
     "output_type": "stream",
     "text": [
      "\r",
      "77.9%"
     ]
    },
    {
     "name": "stderr",
     "output_type": "stream",
     "text": [
      "\r",
      "77.9%"
     ]
    },
    {
     "name": "stderr",
     "output_type": "stream",
     "text": [
      "\r",
      "78.0%"
     ]
    },
    {
     "name": "stderr",
     "output_type": "stream",
     "text": [
      "\r",
      "78.1%"
     ]
    },
    {
     "name": "stderr",
     "output_type": "stream",
     "text": [
      "\r",
      "78.2%"
     ]
    },
    {
     "name": "stderr",
     "output_type": "stream",
     "text": [
      "\r",
      "78.3%"
     ]
    },
    {
     "name": "stderr",
     "output_type": "stream",
     "text": [
      "\r",
      "78.3%"
     ]
    },
    {
     "name": "stderr",
     "output_type": "stream",
     "text": [
      "\r",
      "78.4%"
     ]
    },
    {
     "name": "stderr",
     "output_type": "stream",
     "text": [
      "\r",
      "78.5%"
     ]
    },
    {
     "name": "stderr",
     "output_type": "stream",
     "text": [
      "\r",
      "78.6%"
     ]
    },
    {
     "name": "stderr",
     "output_type": "stream",
     "text": [
      "\r",
      "78.7%"
     ]
    },
    {
     "name": "stderr",
     "output_type": "stream",
     "text": [
      "\r",
      "78.8%"
     ]
    },
    {
     "name": "stderr",
     "output_type": "stream",
     "text": [
      "\r",
      "78.8%"
     ]
    },
    {
     "name": "stderr",
     "output_type": "stream",
     "text": [
      "\r",
      "78.9%"
     ]
    },
    {
     "name": "stderr",
     "output_type": "stream",
     "text": [
      "\r",
      "79.0%"
     ]
    },
    {
     "name": "stderr",
     "output_type": "stream",
     "text": [
      "\r",
      "79.1%"
     ]
    },
    {
     "name": "stderr",
     "output_type": "stream",
     "text": [
      "\r",
      "79.2%"
     ]
    },
    {
     "name": "stderr",
     "output_type": "stream",
     "text": [
      "\r",
      "79.3%"
     ]
    },
    {
     "name": "stderr",
     "output_type": "stream",
     "text": [
      "\r",
      "79.3%"
     ]
    },
    {
     "name": "stderr",
     "output_type": "stream",
     "text": [
      "\r",
      "79.4%"
     ]
    },
    {
     "name": "stderr",
     "output_type": "stream",
     "text": [
      "\r",
      "79.5%"
     ]
    },
    {
     "name": "stderr",
     "output_type": "stream",
     "text": [
      "\r",
      "79.6%"
     ]
    },
    {
     "name": "stderr",
     "output_type": "stream",
     "text": [
      "\r",
      "79.7%"
     ]
    },
    {
     "name": "stderr",
     "output_type": "stream",
     "text": [
      "\r",
      "79.8%"
     ]
    },
    {
     "name": "stderr",
     "output_type": "stream",
     "text": [
      "\r",
      "79.8%"
     ]
    },
    {
     "name": "stderr",
     "output_type": "stream",
     "text": [
      "\r",
      "79.9%"
     ]
    },
    {
     "name": "stderr",
     "output_type": "stream",
     "text": [
      "\r",
      "80.0%"
     ]
    },
    {
     "name": "stderr",
     "output_type": "stream",
     "text": [
      "\r",
      "80.1%"
     ]
    },
    {
     "name": "stderr",
     "output_type": "stream",
     "text": [
      "\r",
      "80.2%"
     ]
    },
    {
     "name": "stderr",
     "output_type": "stream",
     "text": [
      "\r",
      "80.2%"
     ]
    },
    {
     "name": "stderr",
     "output_type": "stream",
     "text": [
      "\r",
      "80.3%"
     ]
    },
    {
     "name": "stderr",
     "output_type": "stream",
     "text": [
      "\r",
      "80.4%"
     ]
    },
    {
     "name": "stderr",
     "output_type": "stream",
     "text": [
      "\r",
      "80.5%"
     ]
    },
    {
     "name": "stderr",
     "output_type": "stream",
     "text": [
      "\r",
      "80.6%"
     ]
    },
    {
     "name": "stderr",
     "output_type": "stream",
     "text": [
      "\r",
      "80.7%"
     ]
    },
    {
     "name": "stderr",
     "output_type": "stream",
     "text": [
      "\r",
      "80.7%"
     ]
    },
    {
     "name": "stderr",
     "output_type": "stream",
     "text": [
      "\r",
      "80.8%"
     ]
    },
    {
     "name": "stderr",
     "output_type": "stream",
     "text": [
      "\r",
      "80.9%"
     ]
    },
    {
     "name": "stderr",
     "output_type": "stream",
     "text": [
      "\r",
      "81.0%"
     ]
    },
    {
     "name": "stderr",
     "output_type": "stream",
     "text": [
      "\r",
      "81.1%"
     ]
    },
    {
     "name": "stderr",
     "output_type": "stream",
     "text": [
      "\r",
      "81.2%"
     ]
    },
    {
     "name": "stderr",
     "output_type": "stream",
     "text": [
      "\r",
      "81.2%"
     ]
    },
    {
     "name": "stderr",
     "output_type": "stream",
     "text": [
      "\r",
      "81.3%"
     ]
    },
    {
     "name": "stderr",
     "output_type": "stream",
     "text": [
      "\r",
      "81.4%"
     ]
    },
    {
     "name": "stderr",
     "output_type": "stream",
     "text": [
      "\r",
      "81.5%"
     ]
    },
    {
     "name": "stderr",
     "output_type": "stream",
     "text": [
      "\r",
      "81.6%"
     ]
    },
    {
     "name": "stderr",
     "output_type": "stream",
     "text": [
      "\r",
      "81.7%"
     ]
    },
    {
     "name": "stderr",
     "output_type": "stream",
     "text": [
      "\r",
      "81.7%"
     ]
    },
    {
     "name": "stderr",
     "output_type": "stream",
     "text": [
      "\r",
      "81.8%"
     ]
    },
    {
     "name": "stderr",
     "output_type": "stream",
     "text": [
      "\r",
      "81.9%"
     ]
    },
    {
     "name": "stderr",
     "output_type": "stream",
     "text": [
      "\r",
      "82.0%"
     ]
    },
    {
     "name": "stderr",
     "output_type": "stream",
     "text": [
      "\r",
      "82.1%"
     ]
    },
    {
     "name": "stderr",
     "output_type": "stream",
     "text": [
      "\r",
      "82.1%"
     ]
    },
    {
     "name": "stderr",
     "output_type": "stream",
     "text": [
      "\r",
      "82.2%"
     ]
    },
    {
     "name": "stderr",
     "output_type": "stream",
     "text": [
      "\r",
      "82.3%"
     ]
    },
    {
     "name": "stderr",
     "output_type": "stream",
     "text": [
      "\r",
      "82.4%"
     ]
    },
    {
     "name": "stderr",
     "output_type": "stream",
     "text": [
      "\r",
      "82.5%"
     ]
    },
    {
     "name": "stderr",
     "output_type": "stream",
     "text": [
      "\r",
      "82.6%"
     ]
    },
    {
     "name": "stderr",
     "output_type": "stream",
     "text": [
      "\r",
      "82.6%"
     ]
    },
    {
     "name": "stderr",
     "output_type": "stream",
     "text": [
      "\r",
      "82.7%"
     ]
    },
    {
     "name": "stderr",
     "output_type": "stream",
     "text": [
      "\r",
      "82.8%"
     ]
    },
    {
     "name": "stderr",
     "output_type": "stream",
     "text": [
      "\r",
      "82.9%"
     ]
    },
    {
     "name": "stderr",
     "output_type": "stream",
     "text": [
      "\r",
      "83.0%"
     ]
    },
    {
     "name": "stderr",
     "output_type": "stream",
     "text": [
      "\r",
      "83.1%"
     ]
    },
    {
     "name": "stderr",
     "output_type": "stream",
     "text": [
      "\r",
      "83.1%"
     ]
    },
    {
     "name": "stderr",
     "output_type": "stream",
     "text": [
      "\r",
      "83.2%"
     ]
    },
    {
     "name": "stderr",
     "output_type": "stream",
     "text": [
      "\r",
      "83.3%"
     ]
    },
    {
     "name": "stderr",
     "output_type": "stream",
     "text": [
      "\r",
      "83.4%"
     ]
    },
    {
     "name": "stderr",
     "output_type": "stream",
     "text": [
      "\r",
      "83.5%"
     ]
    },
    {
     "name": "stderr",
     "output_type": "stream",
     "text": [
      "\r",
      "83.6%"
     ]
    },
    {
     "name": "stderr",
     "output_type": "stream",
     "text": [
      "\r",
      "83.6%"
     ]
    },
    {
     "name": "stderr",
     "output_type": "stream",
     "text": [
      "\r",
      "83.7%"
     ]
    },
    {
     "name": "stderr",
     "output_type": "stream",
     "text": [
      "\r",
      "83.8%"
     ]
    },
    {
     "name": "stderr",
     "output_type": "stream",
     "text": [
      "\r",
      "83.9%"
     ]
    },
    {
     "name": "stderr",
     "output_type": "stream",
     "text": [
      "\r",
      "84.0%"
     ]
    },
    {
     "name": "stderr",
     "output_type": "stream",
     "text": [
      "\r",
      "84.0%"
     ]
    },
    {
     "name": "stderr",
     "output_type": "stream",
     "text": [
      "\r",
      "84.1%"
     ]
    },
    {
     "name": "stderr",
     "output_type": "stream",
     "text": [
      "\r",
      "84.2%"
     ]
    },
    {
     "name": "stderr",
     "output_type": "stream",
     "text": [
      "\r",
      "84.3%"
     ]
    },
    {
     "name": "stderr",
     "output_type": "stream",
     "text": [
      "\r",
      "84.4%"
     ]
    },
    {
     "name": "stderr",
     "output_type": "stream",
     "text": [
      "\r",
      "84.5%"
     ]
    },
    {
     "name": "stderr",
     "output_type": "stream",
     "text": [
      "\r",
      "84.5%"
     ]
    },
    {
     "name": "stderr",
     "output_type": "stream",
     "text": [
      "\r",
      "84.6%"
     ]
    },
    {
     "name": "stderr",
     "output_type": "stream",
     "text": [
      "\r",
      "84.7%"
     ]
    },
    {
     "name": "stderr",
     "output_type": "stream",
     "text": [
      "\r",
      "84.8%"
     ]
    },
    {
     "name": "stderr",
     "output_type": "stream",
     "text": [
      "\r",
      "84.9%"
     ]
    },
    {
     "name": "stderr",
     "output_type": "stream",
     "text": [
      "\r",
      "85.0%"
     ]
    },
    {
     "name": "stderr",
     "output_type": "stream",
     "text": [
      "\r",
      "85.0%"
     ]
    },
    {
     "name": "stderr",
     "output_type": "stream",
     "text": [
      "\r",
      "85.1%"
     ]
    },
    {
     "name": "stderr",
     "output_type": "stream",
     "text": [
      "\r",
      "85.2%"
     ]
    },
    {
     "name": "stderr",
     "output_type": "stream",
     "text": [
      "\r",
      "85.3%"
     ]
    },
    {
     "name": "stderr",
     "output_type": "stream",
     "text": [
      "\r",
      "85.4%"
     ]
    },
    {
     "name": "stderr",
     "output_type": "stream",
     "text": [
      "\r",
      "85.5%"
     ]
    },
    {
     "name": "stderr",
     "output_type": "stream",
     "text": [
      "\r",
      "85.5%"
     ]
    },
    {
     "name": "stderr",
     "output_type": "stream",
     "text": [
      "\r",
      "85.6%"
     ]
    },
    {
     "name": "stderr",
     "output_type": "stream",
     "text": [
      "\r",
      "85.7%"
     ]
    },
    {
     "name": "stderr",
     "output_type": "stream",
     "text": [
      "\r",
      "85.8%"
     ]
    },
    {
     "name": "stderr",
     "output_type": "stream",
     "text": [
      "\r",
      "85.9%"
     ]
    },
    {
     "name": "stderr",
     "output_type": "stream",
     "text": [
      "\r",
      "85.9%"
     ]
    },
    {
     "name": "stderr",
     "output_type": "stream",
     "text": [
      "\r",
      "86.0%"
     ]
    },
    {
     "name": "stderr",
     "output_type": "stream",
     "text": [
      "\r",
      "86.1%"
     ]
    },
    {
     "name": "stderr",
     "output_type": "stream",
     "text": [
      "\r",
      "86.2%"
     ]
    },
    {
     "name": "stderr",
     "output_type": "stream",
     "text": [
      "\r",
      "86.3%"
     ]
    },
    {
     "name": "stderr",
     "output_type": "stream",
     "text": [
      "\r",
      "86.4%"
     ]
    },
    {
     "name": "stderr",
     "output_type": "stream",
     "text": [
      "\r",
      "86.4%"
     ]
    },
    {
     "name": "stderr",
     "output_type": "stream",
     "text": [
      "\r",
      "86.5%"
     ]
    },
    {
     "name": "stderr",
     "output_type": "stream",
     "text": [
      "\r",
      "86.6%"
     ]
    },
    {
     "name": "stderr",
     "output_type": "stream",
     "text": [
      "\r",
      "86.7%"
     ]
    },
    {
     "name": "stderr",
     "output_type": "stream",
     "text": [
      "\r",
      "86.8%"
     ]
    },
    {
     "name": "stderr",
     "output_type": "stream",
     "text": [
      "\r",
      "86.9%"
     ]
    },
    {
     "name": "stderr",
     "output_type": "stream",
     "text": [
      "\r",
      "86.9%"
     ]
    },
    {
     "name": "stderr",
     "output_type": "stream",
     "text": [
      "\r",
      "87.0%"
     ]
    },
    {
     "name": "stderr",
     "output_type": "stream",
     "text": [
      "\r",
      "87.1%"
     ]
    },
    {
     "name": "stderr",
     "output_type": "stream",
     "text": [
      "\r",
      "87.2%"
     ]
    },
    {
     "name": "stderr",
     "output_type": "stream",
     "text": [
      "\r",
      "87.3%"
     ]
    },
    {
     "name": "stderr",
     "output_type": "stream",
     "text": [
      "\r",
      "87.4%"
     ]
    },
    {
     "name": "stderr",
     "output_type": "stream",
     "text": [
      "\r",
      "87.4%"
     ]
    },
    {
     "name": "stderr",
     "output_type": "stream",
     "text": [
      "\r",
      "87.5%"
     ]
    },
    {
     "name": "stderr",
     "output_type": "stream",
     "text": [
      "\r",
      "87.6%"
     ]
    },
    {
     "name": "stderr",
     "output_type": "stream",
     "text": [
      "\r",
      "87.7%"
     ]
    },
    {
     "name": "stderr",
     "output_type": "stream",
     "text": [
      "\r",
      "87.8%"
     ]
    },
    {
     "name": "stderr",
     "output_type": "stream",
     "text": [
      "\r",
      "87.9%"
     ]
    },
    {
     "name": "stderr",
     "output_type": "stream",
     "text": [
      "\r",
      "87.9%"
     ]
    },
    {
     "name": "stderr",
     "output_type": "stream",
     "text": [
      "\r",
      "88.0%"
     ]
    },
    {
     "name": "stderr",
     "output_type": "stream",
     "text": [
      "\r",
      "88.1%"
     ]
    },
    {
     "name": "stderr",
     "output_type": "stream",
     "text": [
      "\r",
      "88.2%"
     ]
    },
    {
     "name": "stderr",
     "output_type": "stream",
     "text": [
      "\r",
      "88.3%"
     ]
    },
    {
     "name": "stderr",
     "output_type": "stream",
     "text": [
      "\r",
      "88.3%"
     ]
    },
    {
     "name": "stderr",
     "output_type": "stream",
     "text": [
      "\r",
      "88.4%"
     ]
    },
    {
     "name": "stderr",
     "output_type": "stream",
     "text": [
      "\r",
      "88.5%"
     ]
    },
    {
     "name": "stderr",
     "output_type": "stream",
     "text": [
      "\r",
      "88.6%"
     ]
    },
    {
     "name": "stderr",
     "output_type": "stream",
     "text": [
      "\r",
      "88.7%"
     ]
    },
    {
     "name": "stderr",
     "output_type": "stream",
     "text": [
      "\r",
      "88.8%"
     ]
    },
    {
     "name": "stderr",
     "output_type": "stream",
     "text": [
      "\r",
      "88.8%"
     ]
    },
    {
     "name": "stderr",
     "output_type": "stream",
     "text": [
      "\r",
      "88.9%"
     ]
    },
    {
     "name": "stderr",
     "output_type": "stream",
     "text": [
      "\r",
      "89.0%"
     ]
    },
    {
     "name": "stderr",
     "output_type": "stream",
     "text": [
      "\r",
      "89.1%"
     ]
    },
    {
     "name": "stderr",
     "output_type": "stream",
     "text": [
      "\r",
      "89.2%"
     ]
    },
    {
     "name": "stderr",
     "output_type": "stream",
     "text": [
      "\r",
      "89.3%"
     ]
    },
    {
     "name": "stderr",
     "output_type": "stream",
     "text": [
      "\r",
      "89.3%"
     ]
    },
    {
     "name": "stderr",
     "output_type": "stream",
     "text": [
      "\r",
      "89.4%"
     ]
    },
    {
     "name": "stderr",
     "output_type": "stream",
     "text": [
      "\r",
      "89.5%"
     ]
    },
    {
     "name": "stderr",
     "output_type": "stream",
     "text": [
      "\r",
      "89.6%"
     ]
    },
    {
     "name": "stderr",
     "output_type": "stream",
     "text": [
      "\r",
      "89.7%"
     ]
    },
    {
     "name": "stderr",
     "output_type": "stream",
     "text": [
      "\r",
      "89.8%"
     ]
    },
    {
     "name": "stderr",
     "output_type": "stream",
     "text": [
      "\r",
      "89.8%"
     ]
    },
    {
     "name": "stderr",
     "output_type": "stream",
     "text": [
      "\r",
      "89.9%"
     ]
    },
    {
     "name": "stderr",
     "output_type": "stream",
     "text": [
      "\r",
      "90.0%"
     ]
    },
    {
     "name": "stderr",
     "output_type": "stream",
     "text": [
      "\r",
      "90.1%"
     ]
    },
    {
     "name": "stderr",
     "output_type": "stream",
     "text": [
      "\r",
      "90.2%"
     ]
    },
    {
     "name": "stderr",
     "output_type": "stream",
     "text": [
      "\r",
      "90.2%"
     ]
    },
    {
     "name": "stderr",
     "output_type": "stream",
     "text": [
      "\r",
      "90.3%"
     ]
    },
    {
     "name": "stderr",
     "output_type": "stream",
     "text": [
      "\r",
      "90.4%"
     ]
    },
    {
     "name": "stderr",
     "output_type": "stream",
     "text": [
      "\r",
      "90.5%"
     ]
    },
    {
     "name": "stderr",
     "output_type": "stream",
     "text": [
      "\r",
      "90.6%"
     ]
    },
    {
     "name": "stderr",
     "output_type": "stream",
     "text": [
      "\r",
      "90.7%"
     ]
    },
    {
     "name": "stderr",
     "output_type": "stream",
     "text": [
      "\r",
      "90.7%"
     ]
    },
    {
     "name": "stderr",
     "output_type": "stream",
     "text": [
      "\r",
      "90.8%"
     ]
    },
    {
     "name": "stderr",
     "output_type": "stream",
     "text": [
      "\r",
      "90.9%"
     ]
    },
    {
     "name": "stderr",
     "output_type": "stream",
     "text": [
      "\r",
      "91.0%"
     ]
    },
    {
     "name": "stderr",
     "output_type": "stream",
     "text": [
      "\r",
      "91.1%"
     ]
    },
    {
     "name": "stderr",
     "output_type": "stream",
     "text": [
      "\r",
      "91.2%"
     ]
    },
    {
     "name": "stderr",
     "output_type": "stream",
     "text": [
      "\r",
      "91.2%"
     ]
    },
    {
     "name": "stderr",
     "output_type": "stream",
     "text": [
      "\r",
      "91.3%"
     ]
    },
    {
     "name": "stderr",
     "output_type": "stream",
     "text": [
      "\r",
      "91.4%"
     ]
    },
    {
     "name": "stderr",
     "output_type": "stream",
     "text": [
      "\r",
      "91.5%"
     ]
    },
    {
     "name": "stderr",
     "output_type": "stream",
     "text": [
      "\r",
      "91.6%"
     ]
    },
    {
     "name": "stderr",
     "output_type": "stream",
     "text": [
      "\r",
      "91.7%"
     ]
    },
    {
     "name": "stderr",
     "output_type": "stream",
     "text": [
      "\r",
      "91.7%"
     ]
    },
    {
     "name": "stderr",
     "output_type": "stream",
     "text": [
      "\r",
      "91.8%"
     ]
    },
    {
     "name": "stderr",
     "output_type": "stream",
     "text": [
      "\r",
      "91.9%"
     ]
    },
    {
     "name": "stderr",
     "output_type": "stream",
     "text": [
      "\r",
      "92.0%"
     ]
    },
    {
     "name": "stderr",
     "output_type": "stream",
     "text": [
      "\r",
      "92.1%"
     ]
    },
    {
     "name": "stderr",
     "output_type": "stream",
     "text": [
      "\r",
      "92.1%"
     ]
    },
    {
     "name": "stderr",
     "output_type": "stream",
     "text": [
      "\r",
      "92.2%"
     ]
    },
    {
     "name": "stderr",
     "output_type": "stream",
     "text": [
      "\r",
      "92.3%"
     ]
    },
    {
     "name": "stderr",
     "output_type": "stream",
     "text": [
      "\r",
      "92.4%"
     ]
    },
    {
     "name": "stderr",
     "output_type": "stream",
     "text": [
      "\r",
      "92.5%"
     ]
    },
    {
     "name": "stderr",
     "output_type": "stream",
     "text": [
      "\r",
      "92.6%"
     ]
    },
    {
     "name": "stderr",
     "output_type": "stream",
     "text": [
      "\r",
      "92.6%"
     ]
    },
    {
     "name": "stderr",
     "output_type": "stream",
     "text": [
      "\r",
      "92.7%"
     ]
    },
    {
     "name": "stderr",
     "output_type": "stream",
     "text": [
      "\r",
      "92.8%"
     ]
    },
    {
     "name": "stderr",
     "output_type": "stream",
     "text": [
      "\r",
      "92.9%"
     ]
    },
    {
     "name": "stderr",
     "output_type": "stream",
     "text": [
      "\r",
      "93.0%"
     ]
    },
    {
     "name": "stderr",
     "output_type": "stream",
     "text": [
      "\r",
      "93.1%"
     ]
    },
    {
     "name": "stderr",
     "output_type": "stream",
     "text": [
      "\r",
      "93.1%"
     ]
    },
    {
     "name": "stderr",
     "output_type": "stream",
     "text": [
      "\r",
      "93.2%"
     ]
    },
    {
     "name": "stderr",
     "output_type": "stream",
     "text": [
      "\r",
      "93.3%"
     ]
    },
    {
     "name": "stderr",
     "output_type": "stream",
     "text": [
      "\r",
      "93.4%"
     ]
    },
    {
     "name": "stderr",
     "output_type": "stream",
     "text": [
      "\r",
      "93.5%"
     ]
    },
    {
     "name": "stderr",
     "output_type": "stream",
     "text": [
      "\r",
      "93.6%"
     ]
    },
    {
     "name": "stderr",
     "output_type": "stream",
     "text": [
      "\r",
      "93.6%"
     ]
    },
    {
     "name": "stderr",
     "output_type": "stream",
     "text": [
      "\r",
      "93.7%"
     ]
    },
    {
     "name": "stderr",
     "output_type": "stream",
     "text": [
      "\r",
      "93.8%"
     ]
    },
    {
     "name": "stderr",
     "output_type": "stream",
     "text": [
      "\r",
      "93.9%"
     ]
    },
    {
     "name": "stderr",
     "output_type": "stream",
     "text": [
      "\r",
      "94.0%"
     ]
    },
    {
     "name": "stderr",
     "output_type": "stream",
     "text": [
      "\r",
      "94.0%"
     ]
    },
    {
     "name": "stderr",
     "output_type": "stream",
     "text": [
      "\r",
      "94.1%"
     ]
    },
    {
     "name": "stderr",
     "output_type": "stream",
     "text": [
      "\r",
      "94.2%"
     ]
    },
    {
     "name": "stderr",
     "output_type": "stream",
     "text": [
      "\r",
      "94.3%"
     ]
    },
    {
     "name": "stderr",
     "output_type": "stream",
     "text": [
      "\r",
      "94.4%"
     ]
    },
    {
     "name": "stderr",
     "output_type": "stream",
     "text": [
      "\r",
      "94.5%"
     ]
    },
    {
     "name": "stderr",
     "output_type": "stream",
     "text": [
      "\r",
      "94.5%"
     ]
    },
    {
     "name": "stderr",
     "output_type": "stream",
     "text": [
      "\r",
      "94.6%"
     ]
    },
    {
     "name": "stderr",
     "output_type": "stream",
     "text": [
      "\r",
      "94.7%"
     ]
    },
    {
     "name": "stderr",
     "output_type": "stream",
     "text": [
      "\r",
      "94.8%"
     ]
    },
    {
     "name": "stderr",
     "output_type": "stream",
     "text": [
      "\r",
      "94.9%"
     ]
    },
    {
     "name": "stderr",
     "output_type": "stream",
     "text": [
      "\r",
      "95.0%"
     ]
    },
    {
     "name": "stderr",
     "output_type": "stream",
     "text": [
      "\r",
      "95.0%"
     ]
    },
    {
     "name": "stderr",
     "output_type": "stream",
     "text": [
      "\r",
      "95.1%"
     ]
    },
    {
     "name": "stderr",
     "output_type": "stream",
     "text": [
      "\r",
      "95.2%"
     ]
    },
    {
     "name": "stderr",
     "output_type": "stream",
     "text": [
      "\r",
      "95.3%"
     ]
    },
    {
     "name": "stderr",
     "output_type": "stream",
     "text": [
      "\r",
      "95.4%"
     ]
    },
    {
     "name": "stderr",
     "output_type": "stream",
     "text": [
      "\r",
      "95.5%"
     ]
    },
    {
     "name": "stderr",
     "output_type": "stream",
     "text": [
      "\r",
      "95.5%"
     ]
    },
    {
     "name": "stderr",
     "output_type": "stream",
     "text": [
      "\r",
      "95.6%"
     ]
    },
    {
     "name": "stderr",
     "output_type": "stream",
     "text": [
      "\r",
      "95.7%"
     ]
    },
    {
     "name": "stderr",
     "output_type": "stream",
     "text": [
      "\r",
      "95.8%"
     ]
    },
    {
     "name": "stderr",
     "output_type": "stream",
     "text": [
      "\r",
      "95.9%"
     ]
    },
    {
     "name": "stderr",
     "output_type": "stream",
     "text": [
      "\r",
      "95.9%"
     ]
    },
    {
     "name": "stderr",
     "output_type": "stream",
     "text": [
      "\r",
      "96.0%"
     ]
    },
    {
     "name": "stderr",
     "output_type": "stream",
     "text": [
      "\r",
      "96.1%"
     ]
    },
    {
     "name": "stderr",
     "output_type": "stream",
     "text": [
      "\r",
      "96.2%"
     ]
    },
    {
     "name": "stderr",
     "output_type": "stream",
     "text": [
      "\r",
      "96.3%"
     ]
    },
    {
     "name": "stderr",
     "output_type": "stream",
     "text": [
      "\r",
      "96.4%"
     ]
    },
    {
     "name": "stderr",
     "output_type": "stream",
     "text": [
      "\r",
      "96.4%"
     ]
    },
    {
     "name": "stderr",
     "output_type": "stream",
     "text": [
      "\r",
      "96.5%"
     ]
    },
    {
     "name": "stderr",
     "output_type": "stream",
     "text": [
      "\r",
      "96.6%"
     ]
    },
    {
     "name": "stderr",
     "output_type": "stream",
     "text": [
      "\r",
      "96.7%"
     ]
    },
    {
     "name": "stderr",
     "output_type": "stream",
     "text": [
      "\r",
      "96.8%"
     ]
    },
    {
     "name": "stderr",
     "output_type": "stream",
     "text": [
      "\r",
      "96.9%"
     ]
    },
    {
     "name": "stderr",
     "output_type": "stream",
     "text": [
      "\r",
      "96.9%"
     ]
    },
    {
     "name": "stderr",
     "output_type": "stream",
     "text": [
      "\r",
      "97.0%"
     ]
    },
    {
     "name": "stderr",
     "output_type": "stream",
     "text": [
      "\r",
      "97.1%"
     ]
    },
    {
     "name": "stderr",
     "output_type": "stream",
     "text": [
      "\r",
      "97.2%"
     ]
    },
    {
     "name": "stderr",
     "output_type": "stream",
     "text": [
      "\r",
      "97.3%"
     ]
    },
    {
     "name": "stderr",
     "output_type": "stream",
     "text": [
      "\r",
      "97.4%"
     ]
    },
    {
     "name": "stderr",
     "output_type": "stream",
     "text": [
      "\r",
      "97.4%"
     ]
    },
    {
     "name": "stderr",
     "output_type": "stream",
     "text": [
      "\r",
      "97.5%"
     ]
    },
    {
     "name": "stderr",
     "output_type": "stream",
     "text": [
      "\r",
      "97.6%"
     ]
    },
    {
     "name": "stderr",
     "output_type": "stream",
     "text": [
      "\r",
      "97.7%"
     ]
    },
    {
     "name": "stderr",
     "output_type": "stream",
     "text": [
      "\r",
      "97.8%"
     ]
    },
    {
     "name": "stderr",
     "output_type": "stream",
     "text": [
      "\r",
      "97.9%"
     ]
    },
    {
     "name": "stderr",
     "output_type": "stream",
     "text": [
      "\r",
      "97.9%"
     ]
    },
    {
     "name": "stderr",
     "output_type": "stream",
     "text": [
      "\r",
      "98.0%"
     ]
    },
    {
     "name": "stderr",
     "output_type": "stream",
     "text": [
      "\r",
      "98.1%"
     ]
    },
    {
     "name": "stderr",
     "output_type": "stream",
     "text": [
      "\r",
      "98.2%"
     ]
    },
    {
     "name": "stderr",
     "output_type": "stream",
     "text": [
      "\r",
      "98.3%"
     ]
    },
    {
     "name": "stderr",
     "output_type": "stream",
     "text": [
      "\r",
      "98.3%"
     ]
    },
    {
     "name": "stderr",
     "output_type": "stream",
     "text": [
      "\r",
      "98.4%"
     ]
    },
    {
     "name": "stderr",
     "output_type": "stream",
     "text": [
      "\r",
      "98.5%"
     ]
    },
    {
     "name": "stderr",
     "output_type": "stream",
     "text": [
      "\r",
      "98.6%"
     ]
    },
    {
     "name": "stderr",
     "output_type": "stream",
     "text": [
      "\r",
      "98.7%"
     ]
    },
    {
     "name": "stderr",
     "output_type": "stream",
     "text": [
      "\r",
      "98.8%"
     ]
    },
    {
     "name": "stderr",
     "output_type": "stream",
     "text": [
      "\r",
      "98.8%"
     ]
    },
    {
     "name": "stderr",
     "output_type": "stream",
     "text": [
      "\r",
      "98.9%"
     ]
    },
    {
     "name": "stderr",
     "output_type": "stream",
     "text": [
      "\r",
      "99.0%"
     ]
    },
    {
     "name": "stderr",
     "output_type": "stream",
     "text": [
      "\r",
      "99.1%"
     ]
    },
    {
     "name": "stderr",
     "output_type": "stream",
     "text": [
      "\r",
      "99.2%"
     ]
    },
    {
     "name": "stderr",
     "output_type": "stream",
     "text": [
      "\r",
      "99.3%"
     ]
    },
    {
     "name": "stderr",
     "output_type": "stream",
     "text": [
      "\r",
      "99.3%"
     ]
    },
    {
     "name": "stderr",
     "output_type": "stream",
     "text": [
      "\r",
      "99.4%"
     ]
    },
    {
     "name": "stderr",
     "output_type": "stream",
     "text": [
      "\r",
      "99.5%"
     ]
    },
    {
     "name": "stderr",
     "output_type": "stream",
     "text": [
      "\r",
      "99.6%"
     ]
    },
    {
     "name": "stderr",
     "output_type": "stream",
     "text": [
      "\r",
      "99.7%"
     ]
    },
    {
     "name": "stderr",
     "output_type": "stream",
     "text": [
      "\r",
      "99.8%"
     ]
    },
    {
     "name": "stderr",
     "output_type": "stream",
     "text": [
      "\r",
      "99.8%"
     ]
    },
    {
     "name": "stderr",
     "output_type": "stream",
     "text": [
      "\r",
      "99.9%"
     ]
    },
    {
     "name": "stderr",
     "output_type": "stream",
     "text": [
      "\r",
      "100.0%"
     ]
    },
    {
     "name": "stderr",
     "output_type": "stream",
     "text": [
      "\r",
      "100.1%"
     ]
    },
    {
     "name": "stdout",
     "output_type": "stream",
     "text": [
      "Extracting ./data/MNIST/raw/train-images-idx3-ubyte.gz to ./data/MNIST/raw\n"
     ]
    },
    {
     "name": "stderr",
     "output_type": "stream",
     "text": [
      "\r",
      "0.0%"
     ]
    },
    {
     "name": "stderr",
     "output_type": "stream",
     "text": [
      "\r",
      "28.4%"
     ]
    },
    {
     "name": "stderr",
     "output_type": "stream",
     "text": [
      "\r",
      "56.7%"
     ]
    },
    {
     "name": "stderr",
     "output_type": "stream",
     "text": [
      "\r",
      "85.1%"
     ]
    },
    {
     "name": "stderr",
     "output_type": "stream",
     "text": [
      "\r",
      "113.5%"
     ]
    },
    {
     "name": "stderr",
     "output_type": "stream",
     "text": [
      "\r",
      "0.0%"
     ]
    },
    {
     "name": "stderr",
     "output_type": "stream",
     "text": [
      "\r",
      "0.5%"
     ]
    },
    {
     "name": "stdout",
     "output_type": "stream",
     "text": [
      "Downloading http://yann.lecun.com/exdb/mnist/train-labels-idx1-ubyte.gz to ./data/MNIST/raw/train-labels-idx1-ubyte.gz\n",
      "Extracting ./data/MNIST/raw/train-labels-idx1-ubyte.gz to ./data/MNIST/raw\n",
      "Downloading http://yann.lecun.com/exdb/mnist/t10k-images-idx3-ubyte.gz to ./data/MNIST/raw/t10k-images-idx3-ubyte.gz\n"
     ]
    },
    {
     "name": "stderr",
     "output_type": "stream",
     "text": [
      "\r",
      "1.0%"
     ]
    },
    {
     "name": "stderr",
     "output_type": "stream",
     "text": [
      "\r",
      "1.5%"
     ]
    },
    {
     "name": "stderr",
     "output_type": "stream",
     "text": [
      "\r",
      "2.0%"
     ]
    },
    {
     "name": "stderr",
     "output_type": "stream",
     "text": [
      "\r",
      "2.5%"
     ]
    },
    {
     "name": "stderr",
     "output_type": "stream",
     "text": [
      "\r",
      "3.0%"
     ]
    },
    {
     "name": "stderr",
     "output_type": "stream",
     "text": [
      "\r",
      "3.5%"
     ]
    },
    {
     "name": "stderr",
     "output_type": "stream",
     "text": [
      "\r",
      "4.0%"
     ]
    },
    {
     "name": "stderr",
     "output_type": "stream",
     "text": [
      "\r",
      "4.5%"
     ]
    },
    {
     "name": "stderr",
     "output_type": "stream",
     "text": [
      "\r",
      "5.0%"
     ]
    },
    {
     "name": "stderr",
     "output_type": "stream",
     "text": [
      "\r",
      "5.5%"
     ]
    },
    {
     "name": "stderr",
     "output_type": "stream",
     "text": [
      "\r",
      "6.0%"
     ]
    },
    {
     "name": "stderr",
     "output_type": "stream",
     "text": [
      "\r",
      "6.5%"
     ]
    },
    {
     "name": "stderr",
     "output_type": "stream",
     "text": [
      "\r",
      "7.0%"
     ]
    },
    {
     "name": "stderr",
     "output_type": "stream",
     "text": [
      "\r",
      "7.5%"
     ]
    },
    {
     "name": "stderr",
     "output_type": "stream",
     "text": [
      "\r",
      "7.9%"
     ]
    },
    {
     "name": "stderr",
     "output_type": "stream",
     "text": [
      "\r",
      "8.4%"
     ]
    },
    {
     "name": "stderr",
     "output_type": "stream",
     "text": [
      "\r",
      "8.9%"
     ]
    },
    {
     "name": "stderr",
     "output_type": "stream",
     "text": [
      "\r",
      "9.4%"
     ]
    },
    {
     "name": "stderr",
     "output_type": "stream",
     "text": [
      "\r",
      "9.9%"
     ]
    },
    {
     "name": "stderr",
     "output_type": "stream",
     "text": [
      "\r",
      "10.4%"
     ]
    },
    {
     "name": "stderr",
     "output_type": "stream",
     "text": [
      "\r",
      "10.9%"
     ]
    },
    {
     "name": "stderr",
     "output_type": "stream",
     "text": [
      "\r",
      "11.4%"
     ]
    },
    {
     "name": "stderr",
     "output_type": "stream",
     "text": [
      "\r",
      "11.9%"
     ]
    },
    {
     "name": "stderr",
     "output_type": "stream",
     "text": [
      "\r",
      "12.4%"
     ]
    },
    {
     "name": "stderr",
     "output_type": "stream",
     "text": [
      "\r",
      "12.9%"
     ]
    },
    {
     "name": "stderr",
     "output_type": "stream",
     "text": [
      "\r",
      "13.4%"
     ]
    },
    {
     "name": "stderr",
     "output_type": "stream",
     "text": [
      "\r",
      "13.9%"
     ]
    },
    {
     "name": "stderr",
     "output_type": "stream",
     "text": [
      "\r",
      "14.4%"
     ]
    },
    {
     "name": "stderr",
     "output_type": "stream",
     "text": [
      "\r",
      "14.9%"
     ]
    },
    {
     "name": "stderr",
     "output_type": "stream",
     "text": [
      "\r",
      "15.4%"
     ]
    },
    {
     "name": "stderr",
     "output_type": "stream",
     "text": [
      "\r",
      "15.9%"
     ]
    },
    {
     "name": "stderr",
     "output_type": "stream",
     "text": [
      "\r",
      "16.4%"
     ]
    },
    {
     "name": "stderr",
     "output_type": "stream",
     "text": [
      "\r",
      "16.9%"
     ]
    },
    {
     "name": "stderr",
     "output_type": "stream",
     "text": [
      "\r",
      "17.4%"
     ]
    },
    {
     "name": "stderr",
     "output_type": "stream",
     "text": [
      "\r",
      "17.9%"
     ]
    },
    {
     "name": "stderr",
     "output_type": "stream",
     "text": [
      "\r",
      "18.4%"
     ]
    },
    {
     "name": "stderr",
     "output_type": "stream",
     "text": [
      "\r",
      "18.9%"
     ]
    },
    {
     "name": "stderr",
     "output_type": "stream",
     "text": [
      "\r",
      "19.4%"
     ]
    },
    {
     "name": "stderr",
     "output_type": "stream",
     "text": [
      "\r",
      "19.9%"
     ]
    },
    {
     "name": "stderr",
     "output_type": "stream",
     "text": [
      "\r",
      "20.4%"
     ]
    },
    {
     "name": "stderr",
     "output_type": "stream",
     "text": [
      "\r",
      "20.9%"
     ]
    },
    {
     "name": "stderr",
     "output_type": "stream",
     "text": [
      "\r",
      "21.4%"
     ]
    },
    {
     "name": "stderr",
     "output_type": "stream",
     "text": [
      "\r",
      "21.9%"
     ]
    },
    {
     "name": "stderr",
     "output_type": "stream",
     "text": [
      "\r",
      "22.4%"
     ]
    },
    {
     "name": "stderr",
     "output_type": "stream",
     "text": [
      "\r",
      "22.9%"
     ]
    },
    {
     "name": "stderr",
     "output_type": "stream",
     "text": [
      "\r",
      "23.4%"
     ]
    },
    {
     "name": "stderr",
     "output_type": "stream",
     "text": [
      "\r",
      "23.8%"
     ]
    },
    {
     "name": "stderr",
     "output_type": "stream",
     "text": [
      "\r",
      "24.3%"
     ]
    },
    {
     "name": "stderr",
     "output_type": "stream",
     "text": [
      "\r",
      "24.8%"
     ]
    },
    {
     "name": "stderr",
     "output_type": "stream",
     "text": [
      "\r",
      "25.3%"
     ]
    },
    {
     "name": "stderr",
     "output_type": "stream",
     "text": [
      "\r",
      "25.8%"
     ]
    },
    {
     "name": "stderr",
     "output_type": "stream",
     "text": [
      "\r",
      "26.3%"
     ]
    },
    {
     "name": "stderr",
     "output_type": "stream",
     "text": [
      "\r",
      "26.8%"
     ]
    },
    {
     "name": "stderr",
     "output_type": "stream",
     "text": [
      "\r",
      "27.3%"
     ]
    },
    {
     "name": "stderr",
     "output_type": "stream",
     "text": [
      "\r",
      "27.8%"
     ]
    },
    {
     "name": "stderr",
     "output_type": "stream",
     "text": [
      "\r",
      "28.3%"
     ]
    },
    {
     "name": "stderr",
     "output_type": "stream",
     "text": [
      "\r",
      "28.8%"
     ]
    },
    {
     "name": "stderr",
     "output_type": "stream",
     "text": [
      "\r",
      "29.3%"
     ]
    },
    {
     "name": "stderr",
     "output_type": "stream",
     "text": [
      "\r",
      "29.8%"
     ]
    },
    {
     "name": "stderr",
     "output_type": "stream",
     "text": [
      "\r",
      "30.3%"
     ]
    },
    {
     "name": "stderr",
     "output_type": "stream",
     "text": [
      "\r",
      "30.8%"
     ]
    },
    {
     "name": "stderr",
     "output_type": "stream",
     "text": [
      "\r",
      "31.3%"
     ]
    },
    {
     "name": "stderr",
     "output_type": "stream",
     "text": [
      "\r",
      "31.8%"
     ]
    },
    {
     "name": "stderr",
     "output_type": "stream",
     "text": [
      "\r",
      "32.3%"
     ]
    },
    {
     "name": "stderr",
     "output_type": "stream",
     "text": [
      "\r",
      "32.8%"
     ]
    },
    {
     "name": "stderr",
     "output_type": "stream",
     "text": [
      "\r",
      "33.3%"
     ]
    },
    {
     "name": "stderr",
     "output_type": "stream",
     "text": [
      "\r",
      "33.8%"
     ]
    },
    {
     "name": "stderr",
     "output_type": "stream",
     "text": [
      "\r",
      "34.3%"
     ]
    },
    {
     "name": "stderr",
     "output_type": "stream",
     "text": [
      "\r",
      "34.8%"
     ]
    },
    {
     "name": "stderr",
     "output_type": "stream",
     "text": [
      "\r",
      "35.3%"
     ]
    },
    {
     "name": "stderr",
     "output_type": "stream",
     "text": [
      "\r",
      "35.8%"
     ]
    },
    {
     "name": "stderr",
     "output_type": "stream",
     "text": [
      "\r",
      "36.3%"
     ]
    },
    {
     "name": "stderr",
     "output_type": "stream",
     "text": [
      "\r",
      "36.8%"
     ]
    },
    {
     "name": "stderr",
     "output_type": "stream",
     "text": [
      "\r",
      "37.3%"
     ]
    },
    {
     "name": "stderr",
     "output_type": "stream",
     "text": [
      "\r",
      "37.8%"
     ]
    },
    {
     "name": "stderr",
     "output_type": "stream",
     "text": [
      "\r",
      "38.3%"
     ]
    },
    {
     "name": "stderr",
     "output_type": "stream",
     "text": [
      "\r",
      "38.8%"
     ]
    },
    {
     "name": "stderr",
     "output_type": "stream",
     "text": [
      "\r",
      "39.2%"
     ]
    },
    {
     "name": "stderr",
     "output_type": "stream",
     "text": [
      "\r",
      "39.7%"
     ]
    },
    {
     "name": "stderr",
     "output_type": "stream",
     "text": [
      "\r",
      "40.2%"
     ]
    },
    {
     "name": "stderr",
     "output_type": "stream",
     "text": [
      "\r",
      "40.7%"
     ]
    },
    {
     "name": "stderr",
     "output_type": "stream",
     "text": [
      "\r",
      "41.2%"
     ]
    },
    {
     "name": "stderr",
     "output_type": "stream",
     "text": [
      "\r",
      "41.7%"
     ]
    },
    {
     "name": "stderr",
     "output_type": "stream",
     "text": [
      "\r",
      "42.2%"
     ]
    },
    {
     "name": "stderr",
     "output_type": "stream",
     "text": [
      "\r",
      "42.7%"
     ]
    },
    {
     "name": "stderr",
     "output_type": "stream",
     "text": [
      "\r",
      "43.2%"
     ]
    },
    {
     "name": "stderr",
     "output_type": "stream",
     "text": [
      "\r",
      "43.7%"
     ]
    },
    {
     "name": "stderr",
     "output_type": "stream",
     "text": [
      "\r",
      "44.2%"
     ]
    },
    {
     "name": "stderr",
     "output_type": "stream",
     "text": [
      "\r",
      "44.7%"
     ]
    },
    {
     "name": "stderr",
     "output_type": "stream",
     "text": [
      "\r",
      "45.2%"
     ]
    },
    {
     "name": "stderr",
     "output_type": "stream",
     "text": [
      "\r",
      "45.7%"
     ]
    },
    {
     "name": "stderr",
     "output_type": "stream",
     "text": [
      "\r",
      "46.2%"
     ]
    },
    {
     "name": "stderr",
     "output_type": "stream",
     "text": [
      "\r",
      "46.7%"
     ]
    },
    {
     "name": "stderr",
     "output_type": "stream",
     "text": [
      "\r",
      "47.2%"
     ]
    },
    {
     "name": "stderr",
     "output_type": "stream",
     "text": [
      "\r",
      "47.7%"
     ]
    },
    {
     "name": "stderr",
     "output_type": "stream",
     "text": [
      "\r",
      "48.2%"
     ]
    },
    {
     "name": "stderr",
     "output_type": "stream",
     "text": [
      "\r",
      "48.7%"
     ]
    },
    {
     "name": "stderr",
     "output_type": "stream",
     "text": [
      "\r",
      "49.2%"
     ]
    },
    {
     "name": "stderr",
     "output_type": "stream",
     "text": [
      "\r",
      "49.7%"
     ]
    },
    {
     "name": "stderr",
     "output_type": "stream",
     "text": [
      "\r",
      "50.2%"
     ]
    },
    {
     "name": "stderr",
     "output_type": "stream",
     "text": [
      "\r",
      "50.7%"
     ]
    },
    {
     "name": "stderr",
     "output_type": "stream",
     "text": [
      "\r",
      "51.2%"
     ]
    },
    {
     "name": "stderr",
     "output_type": "stream",
     "text": [
      "\r",
      "51.7%"
     ]
    },
    {
     "name": "stderr",
     "output_type": "stream",
     "text": [
      "\r",
      "52.2%"
     ]
    },
    {
     "name": "stderr",
     "output_type": "stream",
     "text": [
      "\r",
      "52.7%"
     ]
    },
    {
     "name": "stderr",
     "output_type": "stream",
     "text": [
      "\r",
      "53.2%"
     ]
    },
    {
     "name": "stderr",
     "output_type": "stream",
     "text": [
      "\r",
      "53.7%"
     ]
    },
    {
     "name": "stderr",
     "output_type": "stream",
     "text": [
      "\r",
      "54.2%"
     ]
    },
    {
     "name": "stderr",
     "output_type": "stream",
     "text": [
      "\r",
      "54.7%"
     ]
    },
    {
     "name": "stderr",
     "output_type": "stream",
     "text": [
      "\r",
      "55.1%"
     ]
    },
    {
     "name": "stderr",
     "output_type": "stream",
     "text": [
      "\r",
      "55.6%"
     ]
    },
    {
     "name": "stderr",
     "output_type": "stream",
     "text": [
      "\r",
      "56.1%"
     ]
    },
    {
     "name": "stderr",
     "output_type": "stream",
     "text": [
      "\r",
      "56.6%"
     ]
    },
    {
     "name": "stderr",
     "output_type": "stream",
     "text": [
      "\r",
      "57.1%"
     ]
    },
    {
     "name": "stderr",
     "output_type": "stream",
     "text": [
      "\r",
      "57.6%"
     ]
    },
    {
     "name": "stderr",
     "output_type": "stream",
     "text": [
      "\r",
      "58.1%"
     ]
    },
    {
     "name": "stderr",
     "output_type": "stream",
     "text": [
      "\r",
      "58.6%"
     ]
    },
    {
     "name": "stderr",
     "output_type": "stream",
     "text": [
      "\r",
      "59.1%"
     ]
    },
    {
     "name": "stderr",
     "output_type": "stream",
     "text": [
      "\r",
      "59.6%"
     ]
    },
    {
     "name": "stderr",
     "output_type": "stream",
     "text": [
      "\r",
      "60.1%"
     ]
    },
    {
     "name": "stderr",
     "output_type": "stream",
     "text": [
      "\r",
      "60.6%"
     ]
    },
    {
     "name": "stderr",
     "output_type": "stream",
     "text": [
      "\r",
      "61.1%"
     ]
    },
    {
     "name": "stderr",
     "output_type": "stream",
     "text": [
      "\r",
      "61.6%"
     ]
    },
    {
     "name": "stderr",
     "output_type": "stream",
     "text": [
      "\r",
      "62.1%"
     ]
    },
    {
     "name": "stderr",
     "output_type": "stream",
     "text": [
      "\r",
      "62.6%"
     ]
    },
    {
     "name": "stderr",
     "output_type": "stream",
     "text": [
      "\r",
      "63.1%"
     ]
    },
    {
     "name": "stderr",
     "output_type": "stream",
     "text": [
      "\r",
      "63.6%"
     ]
    },
    {
     "name": "stderr",
     "output_type": "stream",
     "text": [
      "\r",
      "64.1%"
     ]
    },
    {
     "name": "stderr",
     "output_type": "stream",
     "text": [
      "\r",
      "64.6%"
     ]
    },
    {
     "name": "stderr",
     "output_type": "stream",
     "text": [
      "\r",
      "65.1%"
     ]
    },
    {
     "name": "stderr",
     "output_type": "stream",
     "text": [
      "\r",
      "65.6%"
     ]
    },
    {
     "name": "stderr",
     "output_type": "stream",
     "text": [
      "\r",
      "66.1%"
     ]
    },
    {
     "name": "stderr",
     "output_type": "stream",
     "text": [
      "\r",
      "66.6%"
     ]
    },
    {
     "name": "stderr",
     "output_type": "stream",
     "text": [
      "\r",
      "67.1%"
     ]
    },
    {
     "name": "stderr",
     "output_type": "stream",
     "text": [
      "\r",
      "67.6%"
     ]
    },
    {
     "name": "stderr",
     "output_type": "stream",
     "text": [
      "\r",
      "68.1%"
     ]
    },
    {
     "name": "stderr",
     "output_type": "stream",
     "text": [
      "\r",
      "68.6%"
     ]
    },
    {
     "name": "stderr",
     "output_type": "stream",
     "text": [
      "\r",
      "69.1%"
     ]
    },
    {
     "name": "stderr",
     "output_type": "stream",
     "text": [
      "\r",
      "69.6%"
     ]
    },
    {
     "name": "stderr",
     "output_type": "stream",
     "text": [
      "\r",
      "70.1%"
     ]
    },
    {
     "name": "stderr",
     "output_type": "stream",
     "text": [
      "\r",
      "70.5%"
     ]
    },
    {
     "name": "stderr",
     "output_type": "stream",
     "text": [
      "\r",
      "71.0%"
     ]
    },
    {
     "name": "stderr",
     "output_type": "stream",
     "text": [
      "\r",
      "71.5%"
     ]
    },
    {
     "name": "stderr",
     "output_type": "stream",
     "text": [
      "\r",
      "72.0%"
     ]
    },
    {
     "name": "stderr",
     "output_type": "stream",
     "text": [
      "\r",
      "72.5%"
     ]
    },
    {
     "name": "stderr",
     "output_type": "stream",
     "text": [
      "\r",
      "73.0%"
     ]
    },
    {
     "name": "stderr",
     "output_type": "stream",
     "text": [
      "\r",
      "73.5%"
     ]
    },
    {
     "name": "stderr",
     "output_type": "stream",
     "text": [
      "\r",
      "74.0%"
     ]
    },
    {
     "name": "stderr",
     "output_type": "stream",
     "text": [
      "\r",
      "74.5%"
     ]
    },
    {
     "name": "stderr",
     "output_type": "stream",
     "text": [
      "\r",
      "75.0%"
     ]
    },
    {
     "name": "stderr",
     "output_type": "stream",
     "text": [
      "\r",
      "75.5%"
     ]
    },
    {
     "name": "stderr",
     "output_type": "stream",
     "text": [
      "\r",
      "76.0%"
     ]
    },
    {
     "name": "stderr",
     "output_type": "stream",
     "text": [
      "\r",
      "76.5%"
     ]
    },
    {
     "name": "stderr",
     "output_type": "stream",
     "text": [
      "\r",
      "77.0%"
     ]
    },
    {
     "name": "stderr",
     "output_type": "stream",
     "text": [
      "\r",
      "77.5%"
     ]
    },
    {
     "name": "stderr",
     "output_type": "stream",
     "text": [
      "\r",
      "78.0%"
     ]
    },
    {
     "name": "stderr",
     "output_type": "stream",
     "text": [
      "\r",
      "78.5%"
     ]
    },
    {
     "name": "stderr",
     "output_type": "stream",
     "text": [
      "\r",
      "79.0%"
     ]
    },
    {
     "name": "stderr",
     "output_type": "stream",
     "text": [
      "\r",
      "79.5%"
     ]
    },
    {
     "name": "stderr",
     "output_type": "stream",
     "text": [
      "\r",
      "80.0%"
     ]
    },
    {
     "name": "stderr",
     "output_type": "stream",
     "text": [
      "\r",
      "80.5%"
     ]
    },
    {
     "name": "stderr",
     "output_type": "stream",
     "text": [
      "\r",
      "81.0%"
     ]
    },
    {
     "name": "stderr",
     "output_type": "stream",
     "text": [
      "\r",
      "81.5%"
     ]
    },
    {
     "name": "stderr",
     "output_type": "stream",
     "text": [
      "\r",
      "82.0%"
     ]
    },
    {
     "name": "stderr",
     "output_type": "stream",
     "text": [
      "\r",
      "82.5%"
     ]
    },
    {
     "name": "stderr",
     "output_type": "stream",
     "text": [
      "\r",
      "83.0%"
     ]
    },
    {
     "name": "stderr",
     "output_type": "stream",
     "text": [
      "\r",
      "83.5%"
     ]
    },
    {
     "name": "stderr",
     "output_type": "stream",
     "text": [
      "\r",
      "84.0%"
     ]
    },
    {
     "name": "stderr",
     "output_type": "stream",
     "text": [
      "\r",
      "84.5%"
     ]
    },
    {
     "name": "stderr",
     "output_type": "stream",
     "text": [
      "\r",
      "85.0%"
     ]
    },
    {
     "name": "stderr",
     "output_type": "stream",
     "text": [
      "\r",
      "85.5%"
     ]
    },
    {
     "name": "stderr",
     "output_type": "stream",
     "text": [
      "\r",
      "86.0%"
     ]
    },
    {
     "name": "stderr",
     "output_type": "stream",
     "text": [
      "\r",
      "86.4%"
     ]
    },
    {
     "name": "stderr",
     "output_type": "stream",
     "text": [
      "\r",
      "86.9%"
     ]
    },
    {
     "name": "stderr",
     "output_type": "stream",
     "text": [
      "\r",
      "87.4%"
     ]
    },
    {
     "name": "stderr",
     "output_type": "stream",
     "text": [
      "\r",
      "87.9%"
     ]
    },
    {
     "name": "stderr",
     "output_type": "stream",
     "text": [
      "\r",
      "88.4%"
     ]
    },
    {
     "name": "stderr",
     "output_type": "stream",
     "text": [
      "\r",
      "88.9%"
     ]
    },
    {
     "name": "stderr",
     "output_type": "stream",
     "text": [
      "\r",
      "89.4%"
     ]
    },
    {
     "name": "stderr",
     "output_type": "stream",
     "text": [
      "\r",
      "89.9%"
     ]
    },
    {
     "name": "stderr",
     "output_type": "stream",
     "text": [
      "\r",
      "90.4%"
     ]
    },
    {
     "name": "stderr",
     "output_type": "stream",
     "text": [
      "\r",
      "90.9%"
     ]
    },
    {
     "name": "stderr",
     "output_type": "stream",
     "text": [
      "\r",
      "91.4%"
     ]
    },
    {
     "name": "stderr",
     "output_type": "stream",
     "text": [
      "\r",
      "91.9%"
     ]
    },
    {
     "name": "stderr",
     "output_type": "stream",
     "text": [
      "\r",
      "92.4%"
     ]
    },
    {
     "name": "stderr",
     "output_type": "stream",
     "text": [
      "\r",
      "92.9%"
     ]
    },
    {
     "name": "stderr",
     "output_type": "stream",
     "text": [
      "\r",
      "93.4%"
     ]
    },
    {
     "name": "stderr",
     "output_type": "stream",
     "text": [
      "\r",
      "93.9%"
     ]
    },
    {
     "name": "stderr",
     "output_type": "stream",
     "text": [
      "\r",
      "94.4%"
     ]
    },
    {
     "name": "stderr",
     "output_type": "stream",
     "text": [
      "\r",
      "94.9%"
     ]
    },
    {
     "name": "stderr",
     "output_type": "stream",
     "text": [
      "\r",
      "95.4%"
     ]
    },
    {
     "name": "stderr",
     "output_type": "stream",
     "text": [
      "\r",
      "95.9%"
     ]
    },
    {
     "name": "stderr",
     "output_type": "stream",
     "text": [
      "\r",
      "96.4%"
     ]
    },
    {
     "name": "stderr",
     "output_type": "stream",
     "text": [
      "\r",
      "96.9%"
     ]
    },
    {
     "name": "stderr",
     "output_type": "stream",
     "text": [
      "\r",
      "97.4%"
     ]
    },
    {
     "name": "stderr",
     "output_type": "stream",
     "text": [
      "\r",
      "97.9%"
     ]
    },
    {
     "name": "stderr",
     "output_type": "stream",
     "text": [
      "\r",
      "98.4%"
     ]
    },
    {
     "name": "stderr",
     "output_type": "stream",
     "text": [
      "\r",
      "98.9%"
     ]
    },
    {
     "name": "stderr",
     "output_type": "stream",
     "text": [
      "\r",
      "99.4%"
     ]
    },
    {
     "name": "stderr",
     "output_type": "stream",
     "text": [
      "\r",
      "99.9%"
     ]
    },
    {
     "name": "stderr",
     "output_type": "stream",
     "text": [
      "\r",
      "100.4%"
     ]
    },
    {
     "name": "stderr",
     "output_type": "stream",
     "text": [
      "\r",
      "0.0%"
     ]
    },
    {
     "name": "stderr",
     "output_type": "stream",
     "text": [
      "\r",
      "180.4%"
     ]
    },
    {
     "name": "stdout",
     "output_type": "stream",
     "text": [
      "Extracting ./data/MNIST/raw/t10k-images-idx3-ubyte.gz to ./data/MNIST/raw\n",
      "Downloading http://yann.lecun.com/exdb/mnist/t10k-labels-idx1-ubyte.gz to ./data/MNIST/raw/t10k-labels-idx1-ubyte.gz\n",
      "Extracting ./data/MNIST/raw/t10k-labels-idx1-ubyte.gz to ./data/MNIST/raw\n",
      "Processing...\n",
      "Done!\n"
     ]
    }
   ],
   "source": [
    "BATCH_SIZE = 128\n",
    "train_loader, valid_loader, test_loader = load_mnist(batch_size=BATCH_SIZE)"
   ]
  },
  {
   "cell_type": "markdown",
   "metadata": {},
   "source": [
    "## 2. Define function to optimize\n",
    "In this tutorial, we want to optimize classification accuracy on the validation set as a function of the learning rate and momentum. The function takes in a parameterization (set of parameter values), computes the classification accuracy, and returns a dictionary of metric name ('accuracy') to a tuple with the mean and standard error."
   ]
  },
  {
   "cell_type": "code",
   "execution_count": 4,
   "metadata": {
    "collapsed": true
   },
   "outputs": [],
   "source": [
    "def train_evaluate(parameterization):\n",
    "    net = CNN()\n",
    "    net = train(net=net, train_loader=train_loader, parameters=parameterization, dtype=dtype, device=device)\n",
    "    return evaluate(\n",
    "        net=net,\n",
    "        data_loader=valid_loader,\n",
    "        dtype=dtype,\n",
    "        device=device,\n",
    "    )"
   ]
  },
  {
   "cell_type": "markdown",
   "metadata": {},
   "source": [
    "## 3. Run the optimization loop\n",
    "Here, we set the bounds on the learning rate and momentum and set the parameter space for the learning rate to be on a log scale. "
   ]
  },
  {
   "cell_type": "code",
   "execution_count": 5,
   "metadata": {},
   "outputs": [
    {
     "name": "stderr",
     "output_type": "stream",
     "text": [
      "[INFO 08-09 06:27:45] ax.service.utils.dispatch: Using Bayesian Optimization generation strategy. Iterations after 5 will take longer to generate due to model-fitting.\n"
     ]
    },
    {
     "name": "stderr",
     "output_type": "stream",
     "text": [
      "[INFO 08-09 06:27:45] ax.service.managed_loop: Started full optimization with 20 steps.\n"
     ]
    },
    {
     "name": "stderr",
     "output_type": "stream",
     "text": [
      "[INFO 08-09 06:27:45] ax.service.managed_loop: Running optimization trial 1...\n"
     ]
    },
    {
     "name": "stderr",
     "output_type": "stream",
     "text": [
      "[INFO 08-09 06:27:58] ax.service.managed_loop: Running optimization trial 2...\n"
     ]
    },
    {
     "name": "stderr",
     "output_type": "stream",
     "text": [
      "[INFO 08-09 06:28:11] ax.service.managed_loop: Running optimization trial 3...\n"
     ]
    },
    {
     "name": "stderr",
     "output_type": "stream",
     "text": [
      "[INFO 08-09 06:28:23] ax.service.managed_loop: Running optimization trial 4...\n"
     ]
    },
    {
     "name": "stderr",
     "output_type": "stream",
     "text": [
      "[INFO 08-09 06:28:36] ax.service.managed_loop: Running optimization trial 5...\n"
     ]
    },
    {
     "name": "stderr",
     "output_type": "stream",
     "text": [
      "[INFO 08-09 06:28:48] ax.service.managed_loop: Running optimization trial 6...\n"
     ]
    },
    {
     "name": "stderr",
     "output_type": "stream",
     "text": [
      "[INFO 08-09 06:29:02] ax.service.managed_loop: Running optimization trial 7...\n"
     ]
    },
    {
     "name": "stderr",
     "output_type": "stream",
     "text": [
      "[INFO 08-09 06:29:15] ax.service.managed_loop: Running optimization trial 8...\n"
     ]
    },
    {
     "name": "stderr",
     "output_type": "stream",
     "text": [
      "[INFO 08-09 06:29:29] ax.service.managed_loop: Running optimization trial 9...\n"
     ]
    },
    {
     "name": "stderr",
     "output_type": "stream",
     "text": [
      "[INFO 08-09 06:29:41] ax.service.managed_loop: Running optimization trial 10...\n"
     ]
    },
    {
     "name": "stderr",
     "output_type": "stream",
     "text": [
      "[INFO 08-09 06:29:55] ax.service.managed_loop: Running optimization trial 11...\n"
     ]
    },
    {
     "name": "stderr",
     "output_type": "stream",
     "text": [
      "[INFO 08-09 06:30:09] ax.service.managed_loop: Running optimization trial 12...\n"
     ]
    },
    {
     "name": "stderr",
     "output_type": "stream",
     "text": [
      "[INFO 08-09 06:30:23] ax.service.managed_loop: Running optimization trial 13...\n"
     ]
    },
    {
     "name": "stderr",
     "output_type": "stream",
     "text": [
      "[INFO 08-09 06:30:37] ax.service.managed_loop: Running optimization trial 14...\n"
     ]
    },
    {
     "name": "stderr",
     "output_type": "stream",
     "text": [
      "/home/travis/virtualenv/python3.6.7/lib/python3.6/site-packages/gpytorch/utils/cholesky.py:42: RuntimeWarning:\n",
      "\n",
      "A not p.d., added jitter of 1e-08 to the diagonal\n",
      "\n"
     ]
    },
    {
     "name": "stderr",
     "output_type": "stream",
     "text": [
      "[INFO 08-09 06:30:52] ax.service.managed_loop: Running optimization trial 15...\n"
     ]
    },
    {
     "name": "stderr",
     "output_type": "stream",
     "text": [
      "/home/travis/virtualenv/python3.6.7/lib/python3.6/site-packages/gpytorch/utils/cholesky.py:42: RuntimeWarning:\n",
      "\n",
      "A not p.d., added jitter of 1e-08 to the diagonal\n",
      "\n"
     ]
    },
    {
     "name": "stderr",
     "output_type": "stream",
     "text": [
      "[INFO 08-09 06:31:07] ax.service.managed_loop: Running optimization trial 16...\n"
     ]
    },
    {
     "name": "stderr",
     "output_type": "stream",
     "text": [
      "/home/travis/virtualenv/python3.6.7/lib/python3.6/site-packages/gpytorch/utils/cholesky.py:42: RuntimeWarning:\n",
      "\n",
      "A not p.d., added jitter of 1e-08 to the diagonal\n",
      "\n"
     ]
    },
    {
     "name": "stderr",
     "output_type": "stream",
     "text": [
      "[INFO 08-09 06:31:22] ax.service.managed_loop: Running optimization trial 17...\n"
     ]
    },
    {
     "name": "stderr",
     "output_type": "stream",
     "text": [
      "/home/travis/virtualenv/python3.6.7/lib/python3.6/site-packages/gpytorch/utils/cholesky.py:42: RuntimeWarning:\n",
      "\n",
      "A not p.d., added jitter of 1e-08 to the diagonal\n",
      "\n"
     ]
    },
    {
     "name": "stderr",
     "output_type": "stream",
     "text": [
      "[INFO 08-09 06:31:38] ax.service.managed_loop: Running optimization trial 18...\n"
     ]
    },
    {
     "name": "stderr",
     "output_type": "stream",
     "text": [
      "/home/travis/virtualenv/python3.6.7/lib/python3.6/site-packages/gpytorch/utils/cholesky.py:42: RuntimeWarning:\n",
      "\n",
      "A not p.d., added jitter of 1e-08 to the diagonal\n",
      "\n"
     ]
    },
    {
     "name": "stderr",
     "output_type": "stream",
     "text": [
      "[INFO 08-09 06:31:53] ax.service.managed_loop: Running optimization trial 19...\n"
     ]
    },
    {
     "name": "stderr",
     "output_type": "stream",
     "text": [
      "[INFO 08-09 06:32:08] ax.service.managed_loop: Running optimization trial 20...\n"
     ]
    },
    {
     "name": "stderr",
     "output_type": "stream",
     "text": [
      "/home/travis/virtualenv/python3.6.7/lib/python3.6/site-packages/gpytorch/utils/cholesky.py:42: RuntimeWarning:\n",
      "\n",
      "A not p.d., added jitter of 1e-08 to the diagonal\n",
      "\n"
     ]
    }
   ],
   "source": [
    "best_parameters, values, experiment, model = optimize(\n",
    "    parameters=[\n",
    "        {\"name\": \"lr\", \"type\": \"range\", \"bounds\": [1e-6, 0.4], \"log_scale\": True},\n",
    "        {\"name\": \"momentum\", \"type\": \"range\", \"bounds\": [0.0, 1.0]},\n",
    "    ],\n",
    "    evaluation_function=train_evaluate,\n",
    "    objective_name='accuracy',\n",
    ")"
   ]
  },
  {
   "cell_type": "markdown",
   "metadata": {},
   "source": [
    "We can introspect the optimal parameters and their outcomes:"
   ]
  },
  {
   "cell_type": "code",
   "execution_count": 6,
   "metadata": {},
   "outputs": [
    {
     "data": {
      "text/plain": [
       "{'lr': 0.0009667122765750379, 'momentum': 0.8386405085975408}"
      ]
     },
     "execution_count": 6,
     "metadata": {},
     "output_type": "execute_result"
    }
   ],
   "source": [
    "best_parameters"
   ]
  },
  {
   "cell_type": "code",
   "execution_count": 7,
   "metadata": {},
   "outputs": [
    {
     "data": {
      "text/plain": [
       "({'accuracy': 0.9605002011905182},\n",
       " {'accuracy': {'accuracy': 1.0450562161918345e-08}})"
      ]
     },
     "execution_count": 7,
     "metadata": {},
     "output_type": "execute_result"
    }
   ],
   "source": [
    "means, covariances = values\n",
    "means, covariances"
   ]
  },
  {
   "cell_type": "markdown",
   "metadata": {},
   "source": [
    "## 4. Plot response surface\n",
    "\n",
    "Contour plot showing classification accuracy as a function of the two hyperparameters.\n",
    "\n",
    "The black squares show points that we have actually run, notice how they are clustered in the optimal region."
   ]
  },
  {
   "cell_type": "code",
   "execution_count": 8,
   "metadata": {},
   "outputs": [
    {
     "data": {
      "text/html": [
       "<div id=\"8fbfc22c6da04469a7fab7fcd609bda0\" style=\"width: 100%;\" class=\"plotly-graph-div\"></div><script type='text/javascript'>/*\n",
       " * Copyright (c) Facebook, Inc. and its affiliates. All Rights Reserved.\n",
       " */\n",
       "\n",
       "require(['plotly'], function(Plotly) {\n",
       "  window.PLOTLYENV = window.PLOTLYENV || {};\n",
       "  window.PLOTLYENV.BASE_URL = 'https://plot.ly';\n",
       "  /*\n",
       " * Copyright (c) Facebook, Inc. and its affiliates. All Rights Reserved.\n",
       " */\n",
       "\n",
       "const arm_data = {\"metrics\": [\"accuracy\"], \"in_sample\": {\"0_0\": {\"name\": \"0_0\", \"parameters\": {\"lr\": 0.00010484939635285457, \"momentum\": 0.7525497078895569}, \"y\": {\"accuracy\": 0.9208333333333333}, \"y_hat\": {\"accuracy\": 0.9208333041390908}, \"se\": {\"accuracy\": 0.0}, \"se_hat\": {\"accuracy\": 0.00010222825564817933}, \"context_stratum\": null}, \"1_0\": {\"name\": \"1_0\", \"parameters\": {\"lr\": 8.261313826330692e-06, \"momentum\": 0.46014925837516785}, \"y\": {\"accuracy\": 0.7073333333333334}, \"y_hat\": {\"accuracy\": 0.7073333151976782}, \"se\": {\"accuracy\": 0.0}, \"se_hat\": {\"accuracy\": 0.00010222827641798553}, \"context_stratum\": null}, \"2_0\": {\"name\": \"2_0\", \"parameters\": {\"lr\": 0.002593521618620952, \"momentum\": 0.633870005607605}, \"y\": {\"accuracy\": 0.8703333333333333}, \"y_hat\": {\"accuracy\": 0.8703333220566609}, \"se\": {\"accuracy\": 0.0}, \"se_hat\": {\"accuracy\": 0.00010222827221862615}, \"context_stratum\": null}, \"3_0\": {\"name\": \"3_0\", \"parameters\": {\"lr\": 0.007075874001767197, \"momentum\": 0.2990463972091675}, \"y\": {\"accuracy\": 0.111}, \"y_hat\": {\"accuracy\": 0.11100002205808435}, \"se\": {\"accuracy\": 0.0}, \"se_hat\": {\"accuracy\": 0.00010222827812042847}, \"context_stratum\": null}, \"4_0\": {\"name\": \"4_0\", \"parameters\": {\"lr\": 3.7104099015204512e-06, \"momentum\": 0.605580747127533}, \"y\": {\"accuracy\": 0.599}, \"y_hat\": {\"accuracy\": 0.5990000153371794}, \"se\": {\"accuracy\": 0.0}, \"se_hat\": {\"accuracy\": 0.00010222827573700834}, \"context_stratum\": null}, \"5_0\": {\"name\": \"5_0\", \"parameters\": {\"lr\": 0.0019371049548488279, \"momentum\": 0.8604361392678326}, \"y\": {\"accuracy\": 0.9375}, \"y_hat\": {\"accuracy\": 0.9374998685627647}, \"se\": {\"accuracy\": 0.0}, \"se_hat\": {\"accuracy\": 0.00010222816768857072}, \"context_stratum\": null}, \"6_0\": {\"name\": \"6_0\", \"parameters\": {\"lr\": 0.0001411636414193855, \"momentum\": 1.0}, \"y\": {\"accuracy\": 0.868}, \"y_hat\": {\"accuracy\": 0.8679997798903366}, \"se\": {\"accuracy\": 0.0}, \"se_hat\": {\"accuracy\": 0.0001022282186484048}, \"context_stratum\": null}, \"7_0\": {\"name\": \"7_0\", \"parameters\": {\"lr\": 0.0006357687248412535, \"momentum\": 0.759028565351523}, \"y\": {\"accuracy\": 0.9455}, \"y_hat\": {\"accuracy\": 0.945499957883793}, \"se\": {\"accuracy\": 0.0}, \"se_hat\": {\"accuracy\": 0.00010222821342757665}, \"context_stratum\": null}, \"8_0\": {\"name\": \"8_0\", \"parameters\": {\"lr\": 0.36212867304849267, \"momentum\": 1.0}, \"y\": {\"accuracy\": 0.1015}, \"y_hat\": {\"accuracy\": 0.10150000984689345}, \"se\": {\"accuracy\": 0.0}, \"se_hat\": {\"accuracy\": 0.00010222827834742087}, \"context_stratum\": null}, \"9_0\": {\"name\": \"9_0\", \"parameters\": {\"lr\": 0.00018582530387719376, \"momentum\": 0.5973983642137726}, \"y\": {\"accuracy\": 0.9156666666666666}, \"y_hat\": {\"accuracy\": 0.9156666430196563}, \"se\": {\"accuracy\": 0.0}, \"se_hat\": {\"accuracy\": 0.00010222826347941823}, \"context_stratum\": null}, \"10_0\": {\"name\": \"10_0\", \"parameters\": {\"lr\": 1.0000000000000082e-06, \"momentum\": 0.0}, \"y\": {\"accuracy\": 0.12483333333333334}, \"y_hat\": {\"accuracy\": 0.12483334936116064}, \"se\": {\"accuracy\": 0.0}, \"se_hat\": {\"accuracy\": 0.00010222827868790946}, \"context_stratum\": null}, \"11_0\": {\"name\": \"11_0\", \"parameters\": {\"lr\": 0.000628919100983513, \"momentum\": 0.894463006335231}, \"y\": {\"accuracy\": 0.9483333333333334}, \"y_hat\": {\"accuracy\": 0.9483330941218628}, \"se\": {\"accuracy\": 0.0}, \"se_hat\": {\"accuracy\": 0.00010222816848304495}, \"context_stratum\": null}, \"12_0\": {\"name\": \"12_0\", \"parameters\": {\"lr\": 0.001186662531289169, \"momentum\": 1.0}, \"y\": {\"accuracy\": 0.16516666666666666}, \"y_hat\": {\"accuracy\": 0.16516687476862835}, \"se\": {\"accuracy\": 0.0}, \"se_hat\": {\"accuracy\": 0.00010222826370641066}, \"context_stratum\": null}, \"13_0\": {\"name\": \"13_0\", \"parameters\": {\"lr\": 3.173926347392288e-05, \"momentum\": 0.9275332634523618}, \"y\": {\"accuracy\": 0.9285}, \"y_hat\": {\"accuracy\": 0.9284999148004487}, \"se\": {\"accuracy\": 0.0}, \"se_hat\": {\"accuracy\": 0.00010222822001035993}, \"context_stratum\": null}, \"14_0\": {\"name\": \"14_0\", \"parameters\": {\"lr\": 0.00030046855725922, \"momentum\": 0.8505013669880727}, \"y\": {\"accuracy\": 0.946}, \"y_hat\": {\"accuracy\": 0.9460000715902922}, \"se\": {\"accuracy\": 0.0}, \"se_hat\": {\"accuracy\": 0.00010222815338803366}, \"context_stratum\": null}, \"15_0\": {\"name\": \"15_0\", \"parameters\": {\"lr\": 2.8124607021187893e-05, \"momentum\": 0.9999999999999999}, \"y\": {\"accuracy\": 0.8835}, \"y_hat\": {\"accuracy\": 0.8835000705473529}, \"se\": {\"accuracy\": 0.0}, \"se_hat\": {\"accuracy\": 0.00010222824815742851}, \"context_stratum\": null}, \"16_0\": {\"name\": \"16_0\", \"parameters\": {\"lr\": 0.00010138013836159003, \"momentum\": 0.9353897169762087}, \"y\": {\"accuracy\": 0.9471666666666667}, \"y_hat\": {\"accuracy\": 0.9471668281882032}, \"se\": {\"accuracy\": 0.0}, \"se_hat\": {\"accuracy\": 0.00010222815429600433}, \"context_stratum\": null}, \"17_0\": {\"name\": \"17_0\", \"parameters\": {\"lr\": 0.0009667122765750379, \"momentum\": 0.8386405085975408}, \"y\": {\"accuracy\": 0.9605}, \"y_hat\": {\"accuracy\": 0.9605002011905182}, \"se\": {\"accuracy\": 0.0}, \"se_hat\": {\"accuracy\": 0.0001022279910881474}, \"context_stratum\": null}, \"18_0\": {\"name\": \"18_0\", \"parameters\": {\"lr\": 0.00035200803749245945, \"momentum\": 0.6758950327302912}, \"y\": {\"accuracy\": 0.9488333333333333}, \"y_hat\": {\"accuracy\": 0.9488333574402985}, \"se\": {\"accuracy\": 0.0}, \"se_hat\": {\"accuracy\": 0.00010222822909006031}, \"context_stratum\": null}}, \"out_of_sample\": {}, \"status_quo_name\": null};\n",
       "const density = 50;\n",
       "const grid_x = [1e-06, 1.3011511650442548e-06, 1.692994354296022e-06, 2.2028415765056147e-06, 2.866229883678204e-06, 3.729398352432554e-06, 4.852511011181743e-06, 6.3138503555892e-06, 8.215273746089953e-06, 1.0689313005882424e-05, 1.390841207112662e-05, 1.809694657026198e-05, 2.354686311364001e-05, 3.063802837345029e-05, 3.986470631277378e-05, 5.1870009063012666e-05, 6.749072272319499e-05, 8.781563250096393e-05, 0.00011426141253772724, 0.00014867137004306603, 0.00019344392634026088, 0.0002516997901283655, 0.0003274994751669172, 0.0004261263236648159, 0.0005544547624925005, 0.0007214294601814526, 0.000938688782612345, 0.0012213760031100258, 0.0015891948094037057, 0.002067782677737912, 0.0026904978401970136, 0.0035007443993213955, 0.004554997653699184, 0.005926740503884541, 0.007711585311544345, 0.010033938212454078, 0.013055670395116691, 0.01698740074503987, 0.02210317627048227, 0.028759573555516536, 0.03742055263793628, 0.04868979566145066, 0.06335278435066323, 0.0824315491666629, 0.10725590623460621, 0.13955614735503497, 0.18158364372009145, 0.23626776957937787, 0.3074200836506151, 0.4];\n",
       "const grid_y = [0.0, 0.02040816326530612, 0.04081632653061224, 0.061224489795918366, 0.08163265306122448, 0.1020408163265306, 0.12244897959183673, 0.14285714285714285, 0.16326530612244897, 0.18367346938775508, 0.2040816326530612, 0.22448979591836732, 0.24489795918367346, 0.26530612244897955, 0.2857142857142857, 0.3061224489795918, 0.32653061224489793, 0.3469387755102041, 0.36734693877551017, 0.3877551020408163, 0.4081632653061224, 0.42857142857142855, 0.44897959183673464, 0.4693877551020408, 0.4897959183673469, 0.5102040816326531, 0.5306122448979591, 0.5510204081632653, 0.5714285714285714, 0.5918367346938775, 0.6122448979591836, 0.6326530612244897, 0.6530612244897959, 0.673469387755102, 0.6938775510204082, 0.7142857142857142, 0.7346938775510203, 0.7551020408163265, 0.7755102040816326, 0.7959183673469387, 0.8163265306122448, 0.836734693877551, 0.8571428571428571, 0.8775510204081632, 0.8979591836734693, 0.9183673469387754, 0.9387755102040816, 0.9591836734693877, 0.9795918367346939, 1.0];\n",
       "const f = [0.12483334936116064, 0.1255523698808585, 0.1286262613598872, 0.1338209289047998, 0.14082535407992203, 0.14929450230343289, 0.15887883288025695, 0.16924385000976694, 0.18008234147723945, 0.19112132983417818, 0.20212527394557944, 0.2128966789342237, 0.2232749774273165, 0.23313431673339147, 0.24238071089193536, 0.25094888211414207, 0.25879901400191657, 0.2659135620315185, 0.2722942095919276, 0.2779590160837706, 0.28293977390395236, 0.2872795710300808, 0.29103054343911205, 0.29425179524814216, 0.2970074630567243, 0.2993649034874063, 0.3013929884344238, 0.3031605001145038, 0.30473462670107443, 0.30617956809416136, 0.30755526919246984, 0.30891630390224467, 0.3103109362036236, 0.31178038433203464, 0.31335831032297884, 0.3150705500487851, 0.3169350891123633, 0.31896227858000814, 0.3211552727759644, 0.32351066050697086, 0.32601925226835626, 0.32866698003379147, 0.3314358635789013, 0.33430499794426527, 0.33725152024257454, 0.34025151992049113, 0.34328086401068914, 0.34631591703932463, 0.3493341433493007, 0.35231458706456764, 0.12974747503081985, 0.13040152331313837, 0.13332493359292696, 0.13829958841926893, 0.14502771377735624, 0.15317402345336828, 0.16239581591124597, 0.17236317769118925, 0.18277179116791475, 0.19335036312387033, 0.20386422408829719, 0.21411627044150694, 0.2239461245792821, 0.2332281579532825, 0.24186884390964436, 0.2498037707281089, 0.25699454115304293, 0.2634257059320279, 0.26910181991661003, 0.27404466587515514, 0.27829066007850567, 0.2818884325117147, 0.2848965614288109, 0.28738143554676804, 0.28941521641241874, 0.2910738774656453, 0.292435304173665, 0.2935774503377167, 0.29457655811459665, 0.2955054620936352, 0.29643200941397757, 0.29741763685154327, 0.29851615065234277, 0.29977275461027475, 0.3012233660340347, 0.3028942480951186, 0.3048019716276818, 0.3069537014343586, 0.3093477836108245, 0.3119745934733494, 0.31481759021795774, 0.3178545157594757, 0.32105867187972076, 0.32440021171197453, 0.3278473879445488, 0.33136770976798824, 0.33492897216710277, 0.33850013335399176, 0.3420520278298669, 0.3455579129176876, 0.14107643906564948, 0.14162926077196925, 0.14426273489513575, 0.1487918601787125, 0.1549546608517034, 0.1624465164834189, 0.17094863311326436, 0.18014877433170629, 0.18975514567654328, 0.199504932182051, 0.2091688895862086, 0.21855313094486162, 0.22749899179913857, 0.23588163734366563, 0.24360789837279923, 0.25061368409788554, 0.2568612125066418, 0.262336216544369, 0.2670452218476569, 0.2710129449551188, 0.2742798267357042, 0.27689969191801234, 0.2789375104400807, 0.2804672287276999, 0.2815696381269893, 0.2823302528733067, 0.2828371804274822, 0.28317898177159884, 0.28344253697219635, 0.28371095018064263, 0.2840615460254316, 0.28456402359363286, 0.28527884250080937, 0.2862559159912231, 0.2875336775801602, 0.2891385706713146, 0.2910849864330581, 0.29337564676722133, 0.29600239997062705, 0.2989473703139715, 0.302184382353947, 0.30568056841157276, 0.30939806403767517, 0.3132957009057526, 0.31733061787273403, 0.32145972678337537, 0.32564098766058286, 0.3298344661256216, 0.3340031625793939, 0.3381136167492374, 0.1577530325422941, 0.1582019985207792, 0.16048488892072577, 0.16444814310616418, 0.16987074630167665, 0.17648876523922863, 0.1840187245277649, 0.19217669239463453, 0.2006923125668153, 0.20931823571686226, 0.21783582451621963, 0.226058039323064, 0.23383029592770177, 0.24102993289898422, 0.2475647779463125, 0.2533711749231156, 0.2584117282316857, 0.26267293760569677, 0.26616283045781963, 0.2689086481325362, 0.2709546039582024, 0.2723597030527616, 0.2731955951319561, 0.27354442134307616, 0.2734966140029195, 0.2731486138006992, 0.272600482165388, 0.2719534063220074, 0.27130711962718285, 0.27075728776159724, 0.270392939033918, 0.2702940404762586, 0.27052933642597105, 0.27115456926038134, 0.272211190635871, 0.2737256458673563, 0.27570927634684606, 0.27815883979403266, 0.2810576017733366, 0.28437691065405196, 0.28807813733498455, 0.29211484386646536, 0.2964350423790366, 0.30098341598092737, 0.3057033933847535, 0.31053899505139787, 0.31543639671027973, 0.32034518297599, 0.32521928712640374, 0.3300176316393066, 0.17851660038116102, 0.17888521722486084, 0.18081696458092178, 0.18418329318297155, 0.18879966514511537, 0.19444244211710748, 0.20086656862108676, 0.20782146863862527, 0.21506386381449527, 0.22236722349937732, 0.22952813382546006, 0.23637011887990883, 0.24274549517657357, 0.24853579105500428, 0.2536511747967434, 0.2580292398321366, 0.26163340634021315, 0.2644511209849274, 0.26649197149342757, 0.26778577957778177, 0.26838069319565444, 0.2683412663634918, 0.26774649112696053, 0.26668773179327154, 0.2652665064844495, 0.263592066035802, 0.2617787356836111, 0.25994301075566006, 0.25820043253877706, 0.25666231196119516, 0.25543241219554846, 0.2546037405658593, 0.25425562802337975, 0.25445128402430806, 0.2552360009850683, 0.25663614437392795, 0.25865900537257885, 0.2612935208582819, 0.2645117911370108, 0.26827126080469044, 0.27251738156975014, 0.27718655298810974, 0.28220913824498145, 0.2875123736649997, 0.2930230262556861, 0.2986696961881911, 0.3043847042675123, 0.31010554330516304, 0.31577590394400246, 0.32134630871171643, 0.20216853922408906, 0.20250168426119952, 0.20412484874087533, 0.20692774557394356, 0.2107549305534181, 0.2154174437896772, 0.2207057678716432, 0.2264023299772563, 0.23229237091282978, 0.2381726232524657, 0.24385771432741216, 0.24918449960221184, 0.2540146694984396, 0.25823600799943236, 0.26176265782774993, 0.2645346947797444, 0.2665172512100476, 0.26769936562858737, 0.2680926767317131, 0.2677300279637254, 0.2666640036214592, 0.26496537991658337, 0.2627214447973139, 0.2600341196405517, 0.25701780561618287, 0.253796879465819, 0.2505027795664649, 0.247270654870146, 0.24423559663661742, 0.2415285334212749, 0.23927193786159195, 0.23757556008865743, 0.23653245478084134, 0.23621559380626522, 0.23667534338345564, 0.23793802929786828, 0.24000572051967944, 0.242857244383137, 0.24645032543701734, 0.2507246363205499, 0.25560547907251324, 0.2610077871109409, 0.2668401503009658, 0.2730086092580253, 0.2794200277431648, 0.2859849209977684, 0.2926196828903124, 0.29924820917315337, 0.30580295491062104, 0.31222549099629465, 0.2276942507284715, 0.22805562484726966, 0.2294446355934583, 0.23176320031819475, 0.23487739521719264, 0.23862563372566148, 0.24282812791513703, 0.24729648439944574, 0.251842539711756, 0.2562858795647401, 0.2604598045779806, 0.26421574628101563, 0.26742628961260906, 0.2699870344038197, 0.2718175493135174, 0.2728616571698437, 0.2730872558586005, 0.2724858340864877, 0.2710717929183178, 0.2688816356790125, 0.26597304283074036, 0.26242380633647855, 0.2583305613541069, 0.25380722388601884, 0.2489830240179985, 0.24400001924887155, 0.2390099853989422, 0.23417061790210092, 0.2296410368302349, 0.22557667447853458, 0.22212372907783384, 0.21941347933749733, 0.21755685185041462, 0.2166396921053192, 0.21671918678769508, 0.2178218071887651, 0.2199429954465696, 0.22304862133886594, 0.22707803594956166, 0.23194838060639134, 0.23755970534351828, 0.24380042238955246, 0.2505526593403417, 0.2576971632493775, 0.26511751594306604, 0.27270353038928175, 0.28035379269375504, 0.2879773865922413, 0.2954948856285799, 0.3028387250292235, 0.2543044251781838, 0.2547755058138373, 0.2560298271753994, 0.25797626347674896, 0.26049550593917065, 0.263445993713361, 0.2666709251096716, 0.27000561270690304, 0.273284546686224, 0.2763477077701855, 0.2790458671038493, 0.281244784059192, 0.28282834367714865, 0.28370075917902704, 0.2837880071873938, 0.28303867323717036, 0.281424372150461, 0.2789398796146911, 0.2756030735686148, 0.2714547407578648, 0.2665582578591649, 0.2609991100713509, 0.2548841652048848, 0.24834058081825722, 0.24151418972431893, 0.23456719067006587, 0.22767497337580134, 0.22102193894764488, 0.21479624643275608, 0.20918352952877117, 0.20435978239748598, 0.20048379582023523, 0.1976897039631298, 0.19608033245424694, 0.19572207045784784, 0.1966418873094966, 0.19882687690690348, 0.20222638357169365, 0.20675641862738603, 0.2123058003569418, 0.2187432985316512, 0.2259250524166162, 0.23370163244251968, 0.24192428340487604, 0.2504500727717626, 0.2591458354450022, 0.26789093670410913, 0.27657896286355055, 0.2851184983678374, 0.29343316692004595, 0.28142958350334796, 0.282109489317494, 0.28334981407408877, 0.2850618318776248, 0.2871347709941129, 0.28944032044647783, 0.2918379925384435, 0.2941808607137508, 0.2963212286944498, 0.29811587861202554, 0.2994306639086687, 0.3001443314291924, 0.3001515587651914, 0.2993652687230779, 0.2977183307827221, 0.2951647818058067, 0.29168069916016987, 0.28726484333095775, 0.28193915801514474, 0.2757491769098467, 0.2687643404602877, 0.26107817483683876, 0.2528082314631078, 0.24409563122727113, 0.23510400718918473, 0.2260175996158026, 0.2170382373313795, 0.20838095337725127, 0.20026804793867836, 0.1929215449332934, 0.1865542016410373, 0.18135951651294602, 0.17750150071317083, 0.17510525698196688, 0.17424954005193882, 0.17496236139645704, 0.17722031864912202, 0.18095175187950374, 0.18604321825989878, 0.19234831212763104, 0.19969765000713025, 0.20790889491975117, 0.21679593317363144, 0.22617663285328393, 0.23587891736266114, 0.24574512851134933, 0.2556348159423857, 0.26542617995367096, 0.2750164296707186, 0.2843213162300399, 0.30868911845370905, 0.30969488044900384, 0.3110612205043917, 0.312697770113233, 0.3144969500961913, 0.31633762743812077, 0.31808943127155354, 0.3196173989044222, 0.32078663412328895, 0.32146671004578975, 0.3215356229995579, 0.3208831868601425, 0.31941383601196116, 0.31704887060806985, 0.3137282251685158, 0.3094118691559212, 0.30408095664478685, 0.2977388334693092, 0.2904119866879582, 0.2821509851831297, 0.27303141371636674, 0.26315474738027134, 0.2526490505301424, 0.24166931566567668, 0.23039718631985784, 0.2190397393915583, 0.20782694674268087, 0.19700741052445891, 0.18684199806719404, 0.1775951259457127, 0.16952369789623067, 0.1628641120747808, 0.15781829710810347, 0.15454030471483415, 0.15312537129259984, 0.15360331565151475, 0.15593752866260246, 0.16002975283025944, 0.16572971551070792, 0.17284788449029365, 0.18116937727504268, 0.19046731635333858, 0.20051445425356074, 0.21109246148991778, 0.22199873323871822, 0.23305087873027613, 0.2440892238206116, 0.2549777190881773, 0.26560364147909227, 0.27587643729762995, 0.33584771249517714, 0.3373144820076133, 0.33896524013640655, 0.340704268766014, 0.34242238949920256, 0.3440001967964628, 0.3453117938643989, 0.34622878367808263, 0.3466242701615558, 0.3463766562678965, 0.3453730788559583, 0.34351238504560777, 0.3407076212234118, 0.3368880655658579, 0.33200088163909774, 0.32601250065815807, 0.3189098519980688, 0.31070155598011984, 0.3014191713378742, 0.2911185540255584, 0.27988133590249215, 0.26781647247927143, 0.25506173884767436, 0.2417849722414514, 0.228184768848258, 0.21449024378777837, 0.2009593632185107, 0.18787527146495608, 0.1755399936458335, 0.1642649474736274, 0.15435792549720873, 0.14610670646355328, 0.13976028511866956, 0.13550979751872094, 0.13347221704667056, 0.13368019441174062, 0.13608048556268415, 0.14054137040408698, 0.14686722359930304, 0.15481702549722998, 0.16412351139017445, 0.17451048779610756, 0.1857069552673527, 0.1974576154720592, 0.20952994894773624, 0.22171835954514485, 0.233845985183545, 0.2457647597112319, 0.25735423909362515, 0.26851961401349955, 0.3627666322875523, 0.3648473494764792, 0.36695858895773475, 0.36899574684415337, 0.37084360168577934, 0.37237946975873215, 0.3734767490352122, 0.37400863507982535, 0.3738517921917617, 0.3728897891535008, 0.3710161565066709, 0.3681369838138734, 0.36417304170399667, 0.35906147546458284, 0.3527571668431623, 0.34523389333413235, 0.3364854271715097, 0.3265267096606417, 0.31539521224200806, 0.3031525563895181, 0.289886412453666, 0.2757126342225039, 0.26077751125282694, 0.24525993347049607, 0.2293731597017774, 0.2133657612225105, 0.197521172651541, 0.1821551311082955, 0.16761013983645356, 0.15424600227675478, 0.14242553769703004, 0.13249499368345985, 0.12475967912309571, 0.11945715714876548, 0.11673267248259056, 0.11662303924958362, 0.119054089424529, 0.12385257170593289, 0.1307685747144015, 0.1395022515114216, 0.14972943955228635, 0.16112303595507904, 0.17336905772417222, 0.18617759193339722, 0.19928941964387092, 0.21247925190240768, 0.22555646302097832, 0.23836407254699965, 0.2507765765270794, 0.2626970887641792, 0.3893540971914685, 0.39221809693841875, 0.39498228419361064, 0.3975296633480918, 0.39973467139183394, 0.40146656877069786, 0.4025931497612892, 0.4029845441892971, 0.4025168803483996, 0.40107560644369306, 0.39855832188936424, 0.39487704257031236, 0.38995990449625567, 0.383752385779439, 0.3762181866992365, 0.3673399444960207, 0.357119970666545, 0.345581185218441, 0.33276838861793107, 0.3187499630157194, 0.30362003404902205, 0.2875010555281823, 0.27054670163217054, 0.2529448623591424, 0.23492043316714972, 0.21673746254690796, 0.19870006443887323, 0.18115130972378368, 0.16446908169541363, 0.14905763033056696, 0.13533335059155482, 0.12370331784954103, 0.11453577568161144, 0.10812393899226336, 0.10464899231466751, 0.10415359640475463, 0.10653750434207854, 0.11157751197493204, 0.11896238903933054, 0.12833039858485584, 0.13930152943403384, 0.15150178493323574, 0.16457979865686134, 0.1782171108474786, 0.19213360131224877, 0.20608940642074514, 0.21988439660548842, 0.23335604728225134, 0.2463763282678077, 0.258848068965588, 0.41551709267078446, 0.4193470399772342, 0.4229705250449346, 0.42625458333788696, 0.42905897477603827, 0.4312401253279794, 0.43265537399346726, 0.433167243188446, 0.4326474420966976, 0.4309803452351123, 0.42806576086157994, 0.42382090561436064, 0.41818161549616906, 0.4111029288230186, 0.4025592564231322, 0.3925443973933292, 0.38107166279813887, 0.36817433986316433, 0.3539066747606096, 0.3383454830187439, 0.32159242080480444, 0.3037768720428654, 0.28505932566153847, 0.26563503063688926, 0.245737617291923, 0.22564225255095116, 0.20566774363057927, 0.18617680647557056, 0.16757345847800387, 0.15029616670032853, 0.13480497823424942, 0.12156041310535193, 0.11099161863723173, 0.10345208856739818, 0.09916632846195494, 0.09818484344950351, 0.10037599160911059, 0.10546130354983696, 0.11306894087019004, 0.12278210257920485, 0.13417521394016207, 0.14683858684110507, 0.16039398516141468, 0.17450344406246687, 0.18887325638386843, 0.2032546054094415, 0.2174419602174429, 0.2312700613179045, 0.24461009995723226, 0.25736552231668375, 0.4411162773293249, 0.4461027070446786, 0.4508011335208068, 0.45505894177738115, 0.4587167061388004, 0.4616130221677992, 0.46358970975910185, 0.4644970020849145, 0.4641983077473213, 0.46257417135905277, 0.45952516322728204, 0.4549735863026096, 0.4488640670491828, 0.44116325900908715, 0.4318590018383717, 0.4209593276857004, 0.4084916917875046, 0.3945027395042395, 0.379058828205611, 0.36224741862956467, 0.34417934984343435, 0.3249919204819192, 0.30485261547961606, 0.28396323591450306, 0.26256410034870353, 0.2409378776500538, 0.21941247076092485, 0.19836218399646066, 0.17820615726252131, 0.15940272073507444, 0.14243789133869267, 0.12780567193670012, 0.1159770973358013, 0.10735410677072887, 0.10220425569524394, 0.10058748200226653, 0.10233996706732718, 0.10713713266314961, 0.11456517985505577, 0.12417362293855372, 0.13551113999267894, 0.14814893821556896, 0.16169497834169233, 0.1758016227748247, 0.19016865382972403, 0.20454312578611344, 0.21871714000596554, 0.2325243435122613, 0.24583572996843134, 0.2585551533977349, 0.46592581080438505, 0.47225841647014905, 0.47824912830701977, 0.4837219824936865, 0.4884936440914939, 0.49237950050586676, 0.49520032190839103, 0.4967889383657328, 0.49699630808165235, 0.4956963852007476, 0.4927893539742382, 0.48820305520933216, 0.48189273091484075, 0.4738394785005294, 0.4640479753262305, 0.45254408183728273, 0.43937286939239006, 0.42459748458221364, 0.40829909856321855, 0.3905780319813518, 0.37155601250801656, 0.35137941739434925, 0.3302232718449576, 0.30829570351113383, 0.2858424794802746, 0.2631511595645027, 0.24055427323738526, 0.21843075185806404, 0.19720460665241257, 0.17733951822548355, 0.15932757396045194, 0.14366982972944387, 0.13084564997298453, 0.1212668571991794, 0.1152117174352133, 0.11274442558608877, 0.11369587282592253, 0.11773547213806201, 0.12444490309665257, 0.13337043637858093, 0.14405847127216043, 0.156078635708502, 0.16903779770801142, 0.1825875461595743, 0.1964270800721054, 0.21030296350835598, 0.2240068298142286, 0.23737183067456374, 0.2502684047404038, 0.2625997725648083, 0.4896009184413118, 0.4974556460592955, 0.5049460185702355, 0.5118692991884607, 0.5180134417739358, 0.5231648260328984, 0.5271169766423972, 0.5296794793455946, 0.5306861178006334, 0.530001250575528, 0.5275236835084334, 0.5231877383458771, 0.5169617515133913, 0.5088446929264752, 0.4988618475571097, 0.4870605164321803, 0.4735065199603928, 0.4582820177203119, 0.44148488149693943, 0.42322962652553214, 0.40364973893709044, 0.3829011299277433, 0.36116638102614385, 0.3386593977188005, 0.3156300388458307, 0.2923682170525939, 0.26920685387983634, 0.24652290600785787, 0.22473544150966973, 0.20429942154131586, 0.18569342055028892, 0.16939899941248415, 0.15586892533063212, 0.14548152987322616, 0.138482461083538, 0.13493168374640596, 0.13469339586480122, 0.13747840841603398, 0.1429039475670204, 0.15054430611411962, 0.15996724505565008, 0.1707582698323774, 0.1825357111324798, 0.19495910319117038, 0.20773280796998095, 0.22060636632108444, 0.2333726840371838, 0.24586486956051917, 0.2579523157698839, 0.26953644698429213, 0.5116577580224217, 0.521178839268953, 0.5303494011803183, 0.5389373943506397, 0.5466976385001112, 0.5533815055810964, 0.5587483744862736, 0.5625777777677227, 0.5646807130202561, 0.5649084404186473, 0.5631574161168952, 0.5593698089369324, 0.5535300502492919, 0.5456586851962099, 0.535805152348807, 0.5240409960733956, 0.5104545868277528, 0.4951479108977346, 0.4782355482544991, 0.4598456482856897, 0.44012253491367265, 0.4192304911549494, 0.39735824799737146, 0.3747236974426727, 0.3515783357827902, 0.32821089846128537, 0.3049495555101816, 0.2821618847495994, 0.260251623234805, 0.2396509235584504, 0.22080655379220215, 0.20415832285028246, 0.1901084075803947, 0.17898222823789756, 0.1709866299530044, 0.1661786979365607, 0.16446040648314053, 0.16560215058013272, 0.16928264012547756, 0.1751299160491464, 0.18275517564277188, 0.1917774309558039, 0.2018399200918799, 0.21261997947110822, 0.22383405065978723, 0.2352392234448325, 0.24663241609743092, 0.25784802784172905, 0.26875468109211864, 0.2792514996533379, 0.5314725158948327, 0.5427490871698593, 0.5537305511578661, 0.564154936028139, 0.5737408665388504, 0.5821992342750322, 0.5892479997025808, 0.5946288082078272, 0.598123103246475, 0.5995648061355607, 0.5988469802261512, 0.5959213812096738, 0.5907918163174388, 0.5835037673871025, 0.5741331442180561, 0.5627764669005304, 0.5495437958782832, 0.5345548230449595, 0.5179379161283464, 0.49983157473357087, 0.48038762996177775, 0.45977551441789927, 0.4381869790968999, 0.41584069217346675, 0.3929861914300546, 0.36990665702357617, 0.34691991373180925, 0.3243769616220505, 0.3026571876013877, 0.2821592738935732, 0.2632867969246768, 0.24642780750708304, 0.23192864476955094, 0.22006423918571638, 0.21101008979260427, 0.20482343547715365, 0.20144012171988712, 0.20068832722226893, 0.2023140988714348, 0.20601102494185564, 0.21144786430379847, 0.21829094360723422, 0.22622053388208718, 0.23494171855937984, 0.24419075942704865, 0.25373803268396267, 0.2633884902304886, 0.27298042812124174, 0.28238317099933813, 0.2914941297487717, 0.5483090939102016, 0.5613474792150119, 0.5741918680205609, 0.5865531578521573, 0.5981137922817578, 0.6085408613796299, 0.6175044025151798, 0.6246997493981539, 0.6298707636168449, 0.6328288534263222, 0.6334625417914106, 0.631735189764662, 0.6276729466092218, 0.6213479748127487, 0.6128619953425285, 0.6023333336884892, 0.589888636014569, 0.575659083566619, 0.5597802793562646, 0.5423947724286364, 0.5236562074483865, 0.5037342093416908, 0.4828192625457962, 0.46112698202597485, 0.438901274196401, 0.4164159358716945, 0.3939742350876632, 0.3719059712985347, 0.35056145846409276, 0.3303018777811238, 0.3114856103139883, 0.29445061993461064, 0.27949383639248665, 0.2668497638570417, 0.256671839617907, 0.24902059976199653, 0.24386168466027286, 0.24107419457003704, 0.24046710632751572, 0.24179984680358896, 0.24480317709971144, 0.24919768577933127, 0.2547085529479964, 0.26107630309452723, 0.26806388944058496, 0.27546073125132103, 0.2830843878235501, 0.2907805025464384, 0.2984215534000979, 0.3059048388067871, 0.5613857585831563, 0.576081530561702, 0.5907304241812263, 0.6050238578650282, 0.618613501888459, 0.6311243788971131, 0.6421756202434958, 0.651408949367718, 0.6585217982904232, 0.6632968668269433, 0.6656168826504517, 0.6654586437099601, 0.6628716058481434, 0.6579520325854935, 0.6508209670266971, 0.6416092117421253, 0.6304492782064637, 0.6174729818111321, 0.6028130687611661, 0.5866073560673275, 0.5690040852614642, 0.5501674412832467, 0.5302824355193754, 0.5095585753384135, 0.4882319221046043, 0.4665652598395069, 0.4448461536802719, 0.4233826871990144, 0.40249667058440314, 0.382514169852431, 0.36375339479050717, 0.346510362554364, 0.3310433318385977, 0.31755767377679045, 0.30619335883897386, 0.2970172607509023, 0.2900217927761164, 0.2851301228512882, 0.28220684017933534, 0.2810720135319909, 0.28151635852468043, 0.2833156083134987, 0.28624284738830935, 0.2900782324449701, 0.29461603077654636, 0.29966922011646435, 0.30507204583313385, 0.3106809727861561, 0.3163744459448699, 0.3220518192056558, 0.5699875241901426, 0.5861063986792673, 0.602365078515308, 0.6184482653376993, 0.6339893393975463, 0.6485816390387866, 0.661799087703945, 0.673228495094018, 0.6825135542172454, 0.6894013427099903, 0.6937672071484628, 0.6956008747343585, 0.6949694291752734, 0.6919813740348436, 0.6867613817350862, 0.6794358255842026, 0.6701267872269777, 0.6589520978973081, 0.6460292710028334, 0.6314815175100368, 0.6154443550862969, 0.5980716426347396, 0.5795402034630863, 0.5600525284195613, 0.5398373400517509, 0.5191480120477348, 0.49825895438140744, 0.47746010491816526, 0.45704965642609585, 0.4373251575071197, 0.41857321857772195, 0.401058263665786, 0.38501107705253784, 0.3706182157460729, 0.35801355509131916, 0.3472731635959933, 0.33841430065968997, 0.3313986737274685, 0.32613938078127747, 0.32251042758723164, 0.3203574850688987, 0.31950863953065095, 0.31978418244722906, 0.3210048539144071, 0.3229982915816385, 0.325603692323463, 0.3286748564823076, 0.3320818676489913, 0.3357116865227875, 0.33946792657935904, 0.5736182212164965, 0.5907996390422585, 0.6083336472466212, 0.6259140266023442, 0.6431739447348361, 0.6596946971418143, 0.6750242240144856, 0.6887088069328096, 0.7003418901343124, 0.7096299669118918, 0.7164368075519542, 0.7207533930322947, 0.7226426287227897, 0.7221995372694204, 0.7195273596370938, 0.7147255861317828, 0.7078866182625179, 0.6990983609869336, 0.6884504559841137, 0.6760421658643379, 0.6619901997306399, 0.6464351116077436, 0.6295453388942844, 0.6115184470806441, 0.5925796235447405, 0.5729778177687355, 0.5529800954294533, 0.5328647643414364, 0.5129137075896256, 0.4934042184038311, 0.4746005562073138, 0.4567454763875257, 0.4400521158410071, 0.42469678079034406, 0.41081329393087157, 0.3984895341971509, 0.38776660999681356, 0.37864077834186805, 0.3710678469621481, 0.3649694801575016, 0.3602406489303532, 0.3567574440584037, 0.3543845784999559, 0.3529820873241314, 0.35241093320722655, 0.3525374032596319, 0.3532363183340334, 0.35439316496525336, 0.35590530837482043, 0.35768246224227795, 0.5721626653912288, 0.5899578148676362, 0.6083296821473754, 0.6269973271778355, 0.6456133410700948, 0.6637704762844554, 0.6810185296484149, 0.6968951324962742, 0.7109745808004927, 0.7229356121085891, 0.7326089232801197, 0.739946807334475, 0.744968292636621, 0.7477209061754314, 0.7482583873554454, 0.746630365815536, 0.7428808138091655, 0.7370526256407276, 0.7291959479542671, 0.7193780032560986, 0.7076922826702495, 0.6942653034229032, 0.6792597244466481, 0.6628734310824355, 0.6453350315369314, 0.6268968054464933, 0.60782635642618, 0.5883980610655082, 0.5688850250598696, 0.5495518420023334, 0.5306481488139232, 0.5124028510312166, 0.4950189398255638, 0.47866897358739086, 0.4634914591175549, 0.44958845931613917, 0.4370247306985279, 0.4258285586665581, 0.4159942559132988, 0.40748608280593396, 0.40024319355186766, 0.39418513854169135, 0.38921746261010115, 0.38523701103172775, 0.3821366611019983, 0.3798093102834343, 0.3781510530382645, 0.37706355755270093, 0.3764557079303243, 0.37624460921665914, 0.5660066654388248, 0.5839470889241593, 0.602691735693884, 0.6220016360463276, 0.6415690891798599, 0.6610223933498888, 0.6799414943475417, 0.6978879099269178, 0.7144497564588512, 0.7292927395372012, 0.7421905937955158, 0.7530149444591966, 0.7617013358770743, 0.7682170292197597, 0.7725399265623498, 0.7746485919551029, 0.7745213062260906, 0.7721419155247857, 0.7675101355033485, 0.760653702276171, 0.7516395176091919, 0.7405810844992319, 0.7276403580649774, 0.713023579558408, 0.6969722248275456, 0.6797512491431773, 0.6616370009398209, 0.6429066197717596, 0.6238298241756721, 0.6046631310435382, 0.5856459705893955, 0.5669979412289285, 0.5489165382244983, 0.5315749732239186, 0.5151200396307415, 0.49967024827403006, 0.4853145855757818, 0.4721122216906536, 0.46009335986620337, 0.449261235493112, 0.43959510460412965, 0.4310539457612096, 0.42358054942937184, 0.41710567804615134, 0.4115520302172035, 0.40683781360671656, 0.40287980608097135, 0.3995958519083326, 0.3969067932342153, 0.3947378748915401, 0.5560656167256217, 0.573738808363973, 0.5924458712312644, 0.6120070472246611, 0.6321745807510972, 0.652634137372862, 0.6730167288395678, 0.6929232657753057, 0.7119595283570777, 0.7297723740720808, 0.7460733175560218, 0.7606410246506117, 0.7733070984671316, 0.783936491457865, 0.7924113623523559, 0.7986222339795701, 0.8024672149993978, 0.803858604927119, 0.8027352460510403, 0.7990778868034007, 0.7929236433573582, 0.784375104240151, 0.7736006407828869, 0.7608252127077664, 0.7463141590267387, 0.7303543807646917, 0.713237193640279, 0.6952455636490976, 0.6766465293833358, 0.6576881133572182, 0.638599190906843, 0.6195905916507989, 0.6008560119386722, 0.5825719179127103, 0.5648962864710201, 0.5479665558353755, 0.5318974188536482, 0.5167790896159086, 0.5026764931744627, 0.48962957991757305, 0.47765473782265944, 0.46674711369044947, 0.45688356920523626, 0.44802597830500873, 0.4401245990740588, 0.433121305928936, 0.4269525297412401, 0.4215518132977725, 0.4168519405145325, 0.4127866372631997, 0.5437090544301371, 0.5608162640663753, 0.5791859178701887, 0.5987118312812281, 0.6192218761480371, 0.6404727475189544, 0.6621539104081235, 0.6839035628371767, 0.7053350604626759, 0.7260667779938307, 0.7457459693683633, 0.7640602958286011, 0.7807370448581205, 0.7955349255719766, 0.8082344495038404, 0.8186315559464765, 0.8265373173220497, 0.8317850869457837, 0.8342450625597024, 0.8338442477081247, 0.8305868684244303, 0.8245675938184827, 0.8159703832850502, 0.8050512642515069, 0.7921106131083355, 0.7774639850530072, 0.7614188147740788, 0.7442603119133576, 0.7262464058100223, 0.7076095182612475, 0.688562069239213, 0.6693026382519989, 0.6500204126566762, 0.630896716806557, 0.6121036477335358, 0.5938007316812873, 0.57613085112105, 0.5592165482990432, 0.5431574222276099, 0.5280289202789079, 0.5138825040945423, 0.5007469735900405, 0.4886306449712475, 0.4775240663440055, 0.4674029870366276, 0.4582313509361482, 0.44996414437673743, 0.4425499859863637, 0.4359333944448207, 0.43005670841702975, 0.5306060575813656, 0.5469957862458239, 0.5648640833319616, 0.5841853703113993, 0.6048710184088337, 0.626753795654471, 0.6495796021228029, 0.6730137171462024, 0.6966632536808284, 0.7201085016181102, 0.7429320039100099, 0.7647378290169731, 0.7851595773175448, 0.8038599628485794, 0.8205264701197936, 0.8348674623906296, 0.8466123328165714, 0.8555185161091016, 0.8613873913773082, 0.8640893787132808, 0.8635939413451575, 0.8599921283954013, 0.8534950870684919, 0.8444033600578429, 0.8330606862735103, 0.8198111932035123, 0.80497063252519, 0.7888135854183964, 0.7715740043512734, 0.7534546799762241, 0.7346406638800099, 0.7153118742586462, 0.6956512462939803, 0.6758468655485675, 0.6560888028724324, 0.6365628101240076, 0.6174432256321983, 0.598886788332238, 0.5810282128962376, 0.5639777199624233, 0.5478203317347405, 0.5326165751505322, 0.5184041986774327, 0.5052005405835984, 0.4930052468535793, 0.4818031042275576, 0.47156681731427674, 0.46225961356795514, 0.4538376045669366, 0.4462518666307146, 0.5185208598350012, 0.5342050165827488, 0.5515544066521825, 0.5706197252222824, 0.591393804127081, 0.6137838489274653, 0.6375859327342274, 0.662479495655828, 0.6880519822407396, 0.7138395797775411, 0.7393642394401371, 0.7641585870083842, 0.7877789034353793, 0.8098094439052242, 0.8298620376859026, 0.8475747079275827, 0.862612624692136, 0.8746744524243413, 0.8835072779051257, 0.8889335315889326, 0.8908911375455153, 0.889473987776431, 0.8849340025997947, 0.8776262125595594, 0.8679355640307616, 0.8562215760345182, 0.8427887313775008, 0.8278790824524123, 0.8116812980450576, 0.7943500874051722, 0.7760296025115643, 0.7568739661112389, 0.7370590266806916, 0.7167831354676623, 0.696259431478161, 0.675704420666054, 0.6553268512408854, 0.6353189407211893, 0.6158504843970943, 0.5970655939723137, 0.5790815405434886, 0.5619891492456539, 0.5458542622587494, 0.5307198814438604, 0.5166086928489807, 0.5035257530372906, 0.4914611799715737, 0.4803927403445486, 0.47028826294161635, 0.4611078360374482, 0.5090710740363072, 0.52422444167752, 0.5411872156173665, 0.5600675886514648, 0.5809225605106871, 0.6037222520483411, 0.628304168837435, 0.6543502912348361, 0.6814229680295313, 0.7090198816026397, 0.7366155813595956, 0.7636881986702392, 0.7897349130960295, 0.814279795065167, 0.8368773787211458, 0.8571149467150933, 0.8746161519394792, 0.8890484488635484, 0.9001370868915216, 0.9076893684968069, 0.9116346946557784, 0.9120823217023123, 0.9093329669260323, 0.90378615136167, 0.8958439195842186, 0.8858524525614282, 0.8740770321777321, 0.8607024579842937, 0.8458511657732666, 0.82961261168435, 0.8120777010162993, 0.7933693042515981, 0.7736577263359342, 0.7531566977007889, 0.7321071078931619, 0.7107586568932862, 0.6893548366972589, 0.6681224071686475, 0.6472648192620535, 0.626958670974571, 0.6073523559005942, 0.5885662375454342, 0.5706938497577445, 0.553803758812063, 0.5379418244144064, 0.5231336708875849, 0.5093872328729385, 0.49669527808325714, 0.48503783758645813, 0.47438449505661795, 0.5034664718951303, 0.5183905928402689, 0.535223579586784, 0.5541024218092654, 0.5751138847399875, 0.5982566466228536, 0.6233893510473456, 0.6501993809558726, 0.67824249769071, 0.7069998378008793, 0.7359192994287993, 0.7644433415913113, 0.7920270663503219, 0.8181499994053499, 0.8423245344816443, 0.8641035375990197, 0.8830891706631566, 0.8989447294186375, 0.9114114074474852, 0.920332617574318, 0.9256893397458578, 0.927640101850668, 0.926511369673056, 0.9227054450780174, 0.91660146952147, 0.9084971679455645, 0.8985906475485552, 0.8869900854140564, 0.8737397913022457, 0.8588560307213586, 0.8423698905029909, 0.8243704095279107, 0.8050254312441563, 0.7845668553124937, 0.7632620609430993, 0.7413898765253777, 0.7192238296314988, 0.6970212119898885, 0.6750163456639371, 0.6534167988192121, 0.6324016480617114, 0.6121211565749092, 0.5926974338728208, 0.5742257773076862, 0.5567764833427019, 0.5403969725489522, 0.5251141079778271, 0.5109366104251825, 0.49785749164410376, 0.48585644098131975, 0.5023026827165181, 0.517339364586143, 0.5343366863732758, 0.55343057648333, 0.5747006852823017, 0.5981336303742948, 0.623584000935825, 0.6507570284220944, 0.6792301487111162, 0.7084949328160716, 0.7379959743050647, 0.7671602164346933, 0.7954182698521759, 0.822220731292193, 0.8470523502257539, 0.8694463626669495, 0.889000663362882, 0.9053968382962101, 0.9184224637675552, 0.9279959497210529, 0.9341890438357437, 0.9372307567044116, 0.9374671325446667, 0.9352755089390933, 0.9309757675607137, 0.9247819022288082, 0.9167992513741053, 0.9070478523461873, 0.895495336374963, 0.8820939234758733, 0.8668230400559235, 0.8497397088024603, 0.83100609569755, 0.8108609390238024, 0.7895838391860603, 0.7674702514677323, 0.744814559690376, 0.7218988030592856, 0.6989852977075157, 0.6763119434689232, 0.6540894196975541, 0.6324997598814174, 0.6116959763971793, 0.5918025121751748, 0.572916351755544, 0.5551086514003271, 0.538426761478473, 0.5228965234470826, 0.5085247331861786, 0.49530167398936287, 0.5055248343890485, 0.5209617671532883, 0.5383548506683236, 0.5578148661168494, 0.5793913305558045, 0.6030437283789409, 0.6286167201201158, 0.6558305079463875, 0.6842920801275036, 0.7135213588064665, 0.7429813746500652, 0.7721056330391723, 0.8003212057843941, 0.8270689920744254, 0.8518234712062775, 0.8741140336983955, 0.8935490392541323, 0.9098422439212369, 0.9228392008093643, 0.9325384871602383, 0.9390987077263431, 0.9428179605109399, 0.9440730145096775, 0.943221164223268, 0.9405077434404173, 0.9360399494800461, 0.9298176001414581, 0.9217745843874936, 0.9118153577548482, 0.8998492885795797, 0.8858283364275936, 0.8697864043570113, 0.8518577004732061, 0.8322586622618994, 0.811257442167996, 0.7891491499933474, 0.7662381541777661, 0.742825439048952, 0.7191994028608956, 0.6956290868751634, 0.6723592583618925, 0.6496070254123221, 0.6275597857261412, 0.6063743549822173, 0.5861771229686656, 0.5670650743256178, 0.5491075009386739, 0.5323482315131389, 0.5168082119763158, 0.5024882864761281, 0.5125803590365001, 0.5286080845513459, 0.5465320829986494, 0.5664257456486763, 0.5883013145710708, 0.6120895690908841, 0.6376242315199188, 0.6646362107832245, 0.6927599553868925, 0.7215497499689502, 0.7505012071619597, 0.7790738500260368, 0.8067130405655137, 0.8328717171411851, 0.8570336392306511, 0.8787399375195877, 0.8976196187048213, 0.9134221431679177, 0.9260465588410316, 0.935558191531361, 0.9421825517774514, 0.9462680805856897, 0.9482135537813428, 0.9483601612729381, 0.9468823394977353, 0.9437903457335491, 0.9389986690112655, 0.9323779895540595, 0.923790841925548, 0.9131201206729779, 0.9002967259765382, 0.8853245700525196, 0.8682932928461444, 0.8493730023108906, 0.8287972797746085, 0.8068436988675889, 0.7838162472886264, 0.7600303871782833, 0.7358004853994706, 0.711429370946354, 0.6871999330849514, 0.6633687346635712, 0.640161584555133, 0.6177709406966287, 0.5963549412461571, 0.5760378082258388, 0.556911342889165, 0.5390372329512478, 0.522449912442287, 0.5071597479375228, 0.5226460611435249, 0.5393648516931613, 0.5578757415138799, 0.5782108601717988, 0.6003446195881499, 0.6241800368424599, 0.6495390878386185, 0.6761595558061549, 0.703699387378949, 0.7317476541597194, 0.7598399519317156, 0.7874760773118258, 0.8141388643825377, 0.839314475161191, 0.8625156182445197, 0.8833096436363286, 0.9013526127898833, 0.9164273317997533, 0.9284773812959036, 0.9376226019180869, 0.9441408760465267, 0.9484105906618686, 0.9508208005916503, 0.9516656538905091, 0.951067206596896, 0.9489873007937377, 0.9452962420331938, 0.9398306156083949, 0.9324264368384105, 0.9229393963619186, 0.9112638565385862, 0.8973530211770803, 0.8812350678722297, 0.8630196356499653, 0.8428936410345336, 0.8211092027015943, 0.7979672459586862, 0.7737995882284882, 0.7489514390682968, 0.723765620868352, 0.6985693320357124, 0.6736638605479688, 0.6493173106668461, 0.6257601465794651, 0.603183190080453, 0.5817376263360026, 0.5615365542862908, 0.5426576457970779, 0.5251465315954934, 0.5090205975940605, 0.5348183741438521, 0.5522653137608626, 0.5713701628959498, 0.5921231889487613, 0.6144613357192016, 0.6382595455270613, 0.6633254172202656, 0.6893984371826932, 0.7161542174574106, 0.7432132256973145, 0.7701528283569238, 0.7965213904548394, 0.8218537030421597, 0.8456879511397463, 0.867585530170891, 0.8871559864723462, 0.9040897025747584, 0.9181992515206433, 0.9294629805931962, 0.9380485275251657, 0.9442849038929537, 0.9485771858564169, 0.9512954668196018, 0.9526801973329447, 0.9528010425892406, 0.9515848303837258, 0.9488810698335178, 0.944512184804549, 0.9382914424905167, 0.9300302875115158, 0.9195558400864966, 0.906739831795103, 0.8915286531818051, 0.8739639713367746, 0.8541887679692737, 0.8324393242935404, 0.8090270589445047, 0.7843150549636266, 0.7586935133161358, 0.7325571623764044, 0.7062864016764043, 0.6802329260786814, 0.65470984177093, 0.6299858318839942, 0.6062827008718964, 0.5837755578093938, 0.5625949308744187, 0.5428301926325676, 0.5245337858654949, 0.507725851669905, 0.5482306847063404, 0.566408737066663, 0.5860948741190398, 0.6072374949234204, 0.6297353033871829, 0.6534324500402662, 0.6781166633155503, 0.7035210191272521, 0.7293294688180484, 0.755185656459398, 0.780704113906436, 0.8054828009940651, 0.8291162408559819, 0.8512091715510903, 0.8713916186530656, 0.8893374925158111, 0.9047901325729313, 0.9175994339273152, 0.9277738839604037, 0.9355284598889737, 0.9412560292730966, 0.9454038220923138, 0.9483399133654545, 0.9502643624575016, 0.951186958898248, 0.9509789714739151, 0.9494602957869375, 0.9464360503288665, 0.9416741653167158, 0.9348966911246797, 0.9258124195666927, 0.9141729527039625, 0.8998270034418436, 0.8827556272993797, 0.8630822667449927, 0.8410604217436434, 0.8170463622549141, 0.7914650298868015, 0.7647757221294239, 0.737441829549593, 0.7099067462366909, 0.6825764834773931, 0.6558085258892925, 0.6299059639560481, 0.6051157671150902, 0.5816300953148874, 0.5595896864672935, 0.5390885375185765, 0.5201792787913421, 0.5028788038495224, 0.5621051809430732, 0.5810069564068169, 0.6012660019721066, 0.6227889482276874, 0.6454344500793543, 0.6690112229796251, 0.693279119139938, 0.7179536509643228, 0.742713927150223, 0.7672134595132724, 0.791092853790412, 0.8139931611013346, 0.8355687716905906, 0.8554992734505511, 0.8735007070497646, 0.8893380839408124, 0.9028427888653059, 0.9139404679343907, 0.9226972176398631, 0.9293820556197695, 0.9344430759065216, 0.93835801560307, 0.9414982715489605, 0.9440461235040449, 0.9459736580023022, 0.9470957687403938, 0.9471850923119478, 0.9459892281059203, 0.9431539844482753, 0.9382247919099547, 0.930722803036582, 0.9202456991109719, 0.9065503169038753, 0.8895947660551213, 0.8695385628871057, 0.8467119594847425, 0.8215691975998174, 0.7946381987671458, 0.7664748997425552, 0.7376263583205532, 0.7086037885866908, 0.6798649019410767, 0.6518040648716293, 0.6247485195269978, 0.5989589904183514, 0.5746332420356012, 0.5519114477300967, 0.53088251822572, 0.5115907882336698, 0.4940426605203305, 0.5757575371754994, 0.5953799474128865, 0.6162234313132328, 0.6381539797565329, 0.6609888135833056, 0.6844964348936484, 0.7084001287345666, 0.732385345927969, 0.7561109587475642, 0.7792238063980672, 0.8013753266673243, 0.8222385607810789, 0.8415236411361204, 0.8589902743511153, 0.8744569079220346, 0.8878082382802541, 0.8990052029416841, 0.9081036867114033, 0.9152857582840794, 0.9208846956495244, 0.9253481019707464, 0.9291290951470723, 0.9325734836491948, 0.9358507903510307, 0.9389402055085052, 0.9416671963620797, 0.9437536767192277, 0.944792472643446, 0.9441892888242072, 0.9412094974556254, 0.9351255998644963, 0.92537880473992, 0.9116843839215304, 0.8940593817943823, 0.8727885278146885, 0.8483570258923429, 0.8213750272582749, 0.7925091752585113, 0.7624281697259911, 0.7317637761860761, 0.7010857946156694, 0.6708883308637648, 0.6415845234279941, 0.6135071653650446, 0.5869131318327814, 0.5619900218762945, 0.5388638735549293, 0.5176071842733261, 0.49824675674377705, 0.4807711006918389, 0.5885732839032574, 0.608919910508432, 0.6303820900810523, 0.6527888958669733, 0.6759172892289602, 0.6994931944044561, 0.7231966920851743, 0.7466720597399988, 0.7695429585257811, 0.7914323685201187, 0.8119859283639431, 0.8308962881555915, 0.8479252613714858, 0.8629204581857925, 0.8758242012062611, 0.886675002598126, 0.8956049263970436, 0.9028373606248031, 0.9086849218922564, 0.9135350506003634, 0.9178047978790032, 0.9218658083147699, 0.925970403070786, 0.9302164968740707, 0.934562995064673, 0.9388554459821447, 0.9427870110591291, 0.9457822366892136, 0.9469384665134077, 0.9451673283418294, 0.939476731334209, 0.9292144311406421, 0.914170094895689, 0.894546098496527, 0.8708569265117732, 0.8438114603883538, 0.814208822379241, 0.7828589679069435, 0.7505284889835213, 0.7179076513765869, 0.6855935703707465, 0.6540847683741094, 0.6237832052376059, 0.5950008007465598, 0.567968305457708, 0.5428450653438345, 0.519728762468398, 0.4986646123659162, 0.47965377882499566, 0.46266094870073227, 0.5999746918258737, 0.6210438726841611, 0.6431678665367137, 0.66614657274336, 0.6897224788015679, 0.7135815524952769, 0.7373589504285122, 0.7606508433520329, 0.7830333651575732, 0.8040889606041552, 0.823439091393958, 0.8407803520695643, 0.8559188678056436, 0.8687962146601044, 0.8795002208003995, 0.8882567825858889, 0.8954037647882088, 0.9013526176752922, 0.906544195886711, 0.9114016174188881, 0.9162788539934371, 0.9214046478688718, 0.9268324851383409, 0.9324345722474909, 0.9379811743354567, 0.9432409175098206, 0.9479254744901243, 0.9514099243575944, 0.9525366567106819, 0.9498963766275561, 0.9423423840357936, 0.9293105389979235, 0.9108515332199846, 0.8874889078541646, 0.860034455305426, 0.8294300740547877, 0.7966342177893734, 0.7625493644227166, 0.727981144069738, 0.6936198100194213, 0.6600364260863267, 0.627688034987194, 0.5969277227535982, 0.5680168074478553, 0.5411373769765581, 0.5164041338301132, 0.4938750288132733, 0.47356052657319875, 0.4554315770884534, 0.439426494707341, 0.609397323464807, 0.6311570971128412, 0.653963929079525, 0.6776008552990702, 0.701787493759387, 0.7261793780832382, 0.750372444166015, 0.7739146980207627, 0.7963271706718671, 0.8171358275027071, 0.835914712527819, 0.852337806644329, 0.8662327360375126, 0.8776244944532845, 0.8867542851747477, 0.8940609214677429, 0.9001215861340545, 0.9055620792445574, 0.9109570821581316, 0.9167424754120626, 0.9231532581307291, 0.9301854224620056, 0.9375648266561819, 0.9447362319949749, 0.9510234037259503, 0.955921723592621, 0.9591451060481412, 0.9602139541847452, 0.9579645091394209, 0.9509616544881203, 0.9382272368766537, 0.919571621753549, 0.8954802612260193, 0.8668415495953473, 0.8347170422274517, 0.8001878178115936, 0.7642628264138229, 0.7278311342324776, 0.6916432469250303, 0.6563104983704864, 0.6223147232705544, 0.5900229401161845, 0.5597036273450968, 0.5315425073505817, 0.5056566888833143, 0.4821066668513035, 0.4609061210244899, 0.4420297460957664, 0.4254195168304771, 0.4109898610174025, 0.6162936308927917, 0.6386496727922083, 0.6620961366048451, 0.6864151046474288, 0.7113203593560121, 0.736453941454807, 0.7613874156425958, 0.7856304382893765, 0.8086498903521853, 0.8299032059892195, 0.8488889418445212, 0.8652149314523278, 0.878678043007731, 0.8893390456475955, 0.8975648358574906, 0.9040078059870714, 0.9095079107383209, 0.914933366633163, 0.9210029094467843, 0.9281392283326055, 0.9363851224886376, 0.9453803500835937, 0.9543668607136333, 0.962211723146403, 0.9676555376759761, 0.9697852538949662, 0.968214914747729, 0.9627152789715318, 0.9527076642133161, 0.937377729182573, 0.9163157130817463, 0.8898900901310276, 0.8589918230606822, 0.8247290402086127, 0.7882343218333833, 0.7505549368488669, 0.7125991173530555, 0.6751181267877807, 0.6387096292985821, 0.6038324473140542, 0.5708262238715422, 0.5399319533651986, 0.5113110258744067, 0.4850615553731624, 0.46123150643139355, 0.4398286303909165, 0.4208275601336154, 0.4041746418652942, 0.3897912180939752, 0.3775761111783552, 0.6201741183919371, 0.642942140366521, 0.6668808720194149, 0.6917882021995982, 0.717391923729612, 0.7433430263297262, 0.7692123439385669, 0.7944931699587177, 0.8186136493740466, 0.8409641747337716, 0.8609462239051107, 0.8780487812962686, 0.8919535401082203, 0.9026549707327558, 0.910553388516895, 0.9164558772729546, 0.9214403933285232, 0.9266053604201299, 0.9327856094567604, 0.9403299346522263, 0.9490019942892419, 0.9579952974434174, 0.9660067382922564, 0.9713700940450789, 0.9723644294171524, 0.9677444169275583, 0.9571918941445844, 0.9410877090223216, 0.9198654474097538, 0.8937972578796474, 0.8632841600965016, 0.8291009422484555, 0.7922777081078972, 0.7538901007826533, 0.7149263856635298, 0.6762254354476067, 0.6384593179149749, 0.6021410128382794, 0.5676445058765022, 0.5352293743227592, 0.5050652612649467, 0.47725374330206827, 0.4518463991148528, 0.4288586694283823, 0.4082795739502186, 0.39007766378389575, 0.37420382972033056, 0.36059179697839266, 0.3491573030570491, 0.3397970223730035, 0.6206831366261691, 0.6435800369322255, 0.6677403509399059, 0.6929914588041115, 0.7190931565987548, 0.7457283093101024, 0.7724950120007446, 0.7989022505194714, 0.824372359961885, 0.848255565118114, 0.8698646742548745, 0.8885412899500448, 0.9037668122584877, 0.9153240675625781, 0.9234737906347051, 0.9290224086418046, 0.9331569099218259, 0.9370899861530595, 0.9416538069494622, 0.9469914468168903, 0.9524846896163592, 0.9569033279635156, 0.9586261214623146, 0.9558645852060638, 0.9469583493063722, 0.930859525126366, 0.9077379794663443, 0.8787945768744593, 0.8454484109344177, 0.8089338793193542, 0.7702991659340317, 0.7305108168309291, 0.6904741988311844, 0.6509862355117272, 0.6126933385637423, 0.5760798874892562, 0.5414807433871609, 0.509105998796247, 0.4790693469856847, 0.4514151214843918, 0.4261415770375452, 0.4032194508878771, 0.38260561421770123, 0.364251995023335, 0.34811013325359497, 0.33413185816763363, 0.32226675040806957, 0.3124573109798454, 0.30463307533773043, 0.2987051538793424, 0.6176884584971504, 0.6403533172718693, 0.6643592195527962, 0.6895703687357168, 0.7157899573615741, 0.7427496704004672, 0.7700990701432316, 0.7973959233226386, 0.824099520171264, 0.8495708299493032, 0.8730864645692952, 0.893878468194637, 0.9112190492937646, 0.9245769663996043, 0.9338646352212465, 0.939626718099692, 0.9428499804022464, 0.9445546072260653, 0.9453407340867707, 0.9449820611986133, 0.9424337007363492, 0.93624452483287, 0.9249392631855187, 0.9072734728258602, 0.8824768843585729, 0.8505719021935737, 0.8126103544760918, 0.7704407819021609, 0.7261015919495808, 0.6813482157622567, 0.6374900388389972, 0.5954250927940901, 0.5557318844208823, 0.5187497490894121, 0.4846384757944736, 0.45342533503976645, 0.4250448853396029, 0.39937286739026506, 0.3762541218844561, 0.35552452404106955, 0.3370272539953397, 0.32062391280991615, 0.30620101225442115, 0.29367228008933677, 0.28297711317923474, 0.2740754619433732, 0.2669395338025496, 0.26154305199334055, 0.2578494250229984, 0.25580089325329325, 0.6113487360828852, 0.6333938086772192, 0.6568223939215804, 0.681536034395611, 0.7073844293435049, 0.734155431107842, 0.7615640340236933, 0.7892406307767887, 0.8167192790148395, 0.8434277744528966, 0.8686836698237398, 0.8917053798195536, 0.9116571492426307, 0.9277612712297519, 0.9395096210168956, 0.946845155225204, 0.9500313476252977, 0.9493487053155876, 0.9447562637922726, 0.9355214480882315, 0.9203615956651181, 0.898071842392065, 0.8679388961680596, 0.8299235394861049, 0.7847464262499092, 0.7339212478074022, 0.6796482633287493, 0.6244684697954488, 0.5707682507186027, 0.520379708594736, 0.47443235506422615, 0.4334246475959746, 0.39739461854804703, 0.366091888434635, 0.3391100325045553, 0.315976130260344, 0.29620767814810006, 0.2793476200779951, 0.26498527375684255, 0.252768102226852, 0.2424073409792058, 0.23367926989133092, 0.22642313946800474, 0.22053623240040388, 0.215966166823088, 0.2127003054167219, 0.21075208446460025, 0.21014438739447183, 0.21089101922692555, 0.2129789715648528, 0.6021215193843014, 0.6231980969197122, 0.6456604803625572, 0.6694439841052815, 0.6944422113932188, 0.72049872686137, 0.7473976349382224, 0.7748529929467355, 0.8024970564241731, 0.8298675645972841, 0.8563948958153703, 0.8813917440693203, 0.9040528716974161, 0.9234813445416432, 0.9387535761087314, 0.9489814367669331, 0.9532912560921687, 0.950720073991649, 0.9401038245040355, 0.9201052684967904, 0.8895774296843534, 0.848080502928021, 0.7961555347176116, 0.7353282346388581, 0.6679942661143545, 0.5972306829323984, 0.526476296784527, 0.45904499596884557, 0.3975837803621648, 0.3437240836138492, 0.2980775872843123, 0.26047523188857785, 0.23026076334206658, 0.20653280579504152, 0.188311911110282, 0.17464368437768274, 0.16465647621548185, 0.1575897540722837, 0.15280470846989525, 0.14978458511549608, 0.14812928066252484, 0.14754677836501473, 0.1478427371223151, 0.14890872298608837, 0.15070900440699764, 0.15326541526885495, 0.15663949669454402, 0.16091107846488706, 0.16615313785558938, 0.17240529755244305, 0.5906936810442659, 0.6105471712061321, 0.631758000877039, 0.6542911290345813, 0.678079742761432, 0.7030189605026677, 0.728958655167444, 0.7556951799986378, 0.7829615716400851, 0.8104153040453325, 0.8376214313830899, 0.8640259333449356, 0.8889074773082006, 0.9112890289472633, 0.9298252603042986, 0.9427787278027095, 0.9481119151408778, 0.9435886965932468, 0.9269303015843796, 0.8962042124083504, 0.8504839273574999, 0.7903241330940466, 0.7176827190369498, 0.6356197405102698, 0.5480189804291249, 0.4592958936180455, 0.37399170352271316, 0.2961762132467166, 0.22873203219247396, 0.17295918095175544, 0.12881868232873106, 0.0954281268676005, 0.07146814076384789, 0.05545675496575797, 0.045921474785876715, 0.04149933472699119, 0.040988582721595335, 0.04336940788786259, 0.04780593299482028, 0.05363762114244308, 0.06036523756855483, 0.0676343904972293, 0.07521823009613948, 0.0829999033945451, 0.09095467616541764, 0.09913111463690427, 0.10763028273163466, 0.11658150654951804, 0.12611297406101252, 0.13631643845941444, 0.5778501282000791, 0.5963418678042407, 0.6161464981714426, 0.6372551106601905, 0.6596357352479779, 0.6832284687534762, 0.7079395266875509, 0.7336335626092945, 0.7601229602931933, 0.7871515254121433, 0.8143674925704939, 0.8412760616918362, 0.8671536888979405, 0.8908951256763143, 0.9107824198354579, 0.924419872159711, 0.9289591096683486, 0.9213527607998409, 0.8986798469608859, 0.8586990933817726, 0.8007219029303859, 0.7261408715422027, 0.6379851543486025, 0.5404008027563274, 0.43827414637424433, 0.33687767600119084, 0.2414311953762327, 0.15648595025860124, 0.08508517711212593, 0.02825792230317259, -0.014472786396154569, -0.04444155531393246, -0.06339745112646011, -0.07321588796473233, -0.07571974551335225, -0.07257601333578678, -0.06524329330924405, -0.05495232102736525, -0.04270689114876158, -0.029296551349243805, -0.015315404546413669, -0.001183529109825776, 0.012830922983712911, 0.026589791595393653, 0.04006318889529792, 0.0533074488117381, 0.06644170421802809, 0.07962158738098957, 0.0930080614862886, 0.10672883818024304];\n",
       "const lower_is_better = false;\n",
       "const metric = \"accuracy\";\n",
       "const rel = false;\n",
       "const sd = [0.00010222827868790946, 0.040837407157862014, 0.08068447422318363, 0.11879414762206604, 0.15464041266371933, 0.1878817816807117, 0.21832743063388313, 0.24590651595335258, 0.2706409834389705, 0.29262203691898936, 0.31199023882926114, 0.32891905741093524, 0.34360157175670236, 0.3562399900780951, 0.36703761642668736, 0.3761929052437342, 0.38389526234683624, 0.3903222785541672, 0.39563811348393846, 0.39999277920095705, 0.4035221046009858, 0.4063481908957243, 0.4085801960564197, 0.4103153117448696, 0.4116398204655591, 0.41263014382595475, 0.4133538152275621, 0.41387033216086805, 0.4142318643770213, 0.4144838140405512, 0.41466524167557006, 0.41480918621057566, 0.4149429175639424, 0.41508816505909724, 0.41526136405389197, 0.4154739567338944, 0.4157327720396403, 0.41604049583418035, 0.41639622775004936, 0.41679610781716253, 0.41723398576501347, 0.41770209997543056, 0.41819173180733105, 0.41869380402924955, 0.41919939839755005, 0.4197001757020394, 0.42018869051166474, 0.42065860121541243, 0.4211047829132118, 0.42152335578712347, 0.06451013559584957, 0.07584703512172533, 0.10198021646861877, 0.133119945361572, 0.16488300624306762, 0.19546646486429228, 0.2240546750455479, 0.25027134784356647, 0.2739715267756318, 0.2951467000768209, 0.31387341935158125, 0.33028160321973876, 0.3445332748658093, 0.35680764588764247, 0.36729048591218927, 0.3761665944901032, 0.38361461027357613, 0.3898036136706732, 0.39489110892700424, 0.3990220555831736, 0.4023286784530855, 0.40493082999971786, 0.4069367148525435, 0.40844381663453583, 0.40953989460213064, 0.41030394359338457, 0.41080703668603363, 0.411112996512618, 0.41127886843349254, 0.41135519603137255, 0.4113861251733639, 0.41140938504820157, 0.41145621067980687, 0.41155127921016327, 0.4117127303212484, 0.41195232945741544, 0.4122758125539484, 0.41268342579522604, 0.41317064749413235, 0.41372905563258, 0.41434728735882165, 0.4150120278673898, 0.41570896600857105, 0.4164236615751365, 0.41714228230215616, 0.417852184518455, 0.41854232752988246, 0.4192035261394469, 0.4198285568958379, 0.42041214114033093, 0.1253093364341875, 0.1308170933245681, 0.14586318764671152, 0.1669641887919114, 0.1909564261462059, 0.21568392482237259, 0.23982903384573165, 0.26262647857299987, 0.28365784117138754, 0.3027237398715089, 0.3197650341454671, 0.3348127262842232, 0.34795490117874056, 0.35931424823993086, 0.3690325101476433, 0.37725969015754285, 0.3841466559609082, 0.3898402318002631, 0.39448013766241735, 0.39819729941929205, 0.4011131608128496, 0.40333970098718264, 0.404979913425769, 0.4061285419922634, 0.4068729029170196, 0.40729365212739327, 0.40746538836706275, 0.4074570161794046, 0.4073318299313307, 0.4071473200103122, 0.4069547428117398, 0.40679853320277565, 0.40671566679093635, 0.4067350944978297, 0.40687736992631945, 0.40715456974331526, 0.4075705711552251, 0.40812170424363675, 0.40879774839998606, 0.4095831996932078, 0.41045870649431626, 0.41140255779683665, 0.41239211256786995, 0.41340507618040023, 0.41442055659541416, 0.41541986300465766, 0.4163870382740967, 0.4173091402928698, 0.4181763044063641, 0.4189816291318119, 0.18011794803697986, 0.18334929129436286, 0.19272740123274246, 0.20683167767058824, 0.2239721503473613, 0.2426333716181571, 0.26164675901314205, 0.2801901806442778, 0.29772454911431473, 0.31392319016754944, 0.3286123530186994, 0.34172555038974667, 0.3532697142292692, 0.363300454519216, 0.37190412083532054, 0.37918493017641236, 0.38525589033654817, 0.3902325863591596, 0.39422913299284523, 0.3973557580369156, 0.39971759310543203, 0.40141432590849785, 0.4025404229805794, 0.4031856721648572, 0.4034358266817482, 0.40337316294621645, 0.40307679746962133, 0.40262264831035255, 0.4020829761948097, 0.4015254997173453, 0.40101214470248, 0.40059755291915095, 0.40032752982690667, 0.4002376436768233, 0.40035218969337516, 0.4006836990117325, 0.401233105890527, 0.401990599625166, 0.4029370961302835, 0.4040461859569424, 0.4052863644302114, 0.40662333236112247, 0.4080221710851401, 0.40944923562838487, 0.41087366346049226, 0.4122684523416424, 0.41361111035610604, 0.4148839189954341, 0.41607387422908537, 0.4171723816796926, 0.22779553765248736, 0.229799279700708, 0.23591087943020045, 0.24545280500007774, 0.2575127092942354, 0.2711440644404727, 0.2855025351943782, 0.29990752704434653, 0.31385111093415313, 0.32697988837096165, 0.3390671833768199, 0.34998467735069344, 0.35967733571616645, 0.36814276241023497, 0.37541491764746276, 0.38155169021996377, 0.3866257088525613, 0.3907178036051992, 0.3939125964256025, 0.3962957716768065, 0.39795263874449854, 0.3989676459710657, 0.3994245389870872, 0.3994068800997423, 0.3989986633827112, 0.39828477847927557, 0.3973511019595856, 0.3962840358097824, 0.395169374616956, 0.39409046924363134, 0.3931257622572852, 0.3923458879761625, 0.39181063826114126, 0.39156616934179167, 0.3916428414479972, 0.3920540280692662, 0.39279610859604236, 0.39384968935497805, 0.39518191996772545, 0.3967496236603115, 0.39850287119752154, 0.40038861030266176, 0.4023540086666878, 0.4043492584010019, 0.40632969752566955, 0.4082572070810213, 0.4101009253819627, 0.41183737694394956, 0.4134501428227262, 0.41492920604522776, 0.2680067299412393, 0.26922988327667247, 0.2732627216525436, 0.2797465596998217, 0.28816494577520624, 0.29793519965872717, 0.30848754523813565, 0.3193175900523289, 0.3300117880831918, 0.34025266648772684, 0.3498118155176798, 0.3585370050882921, 0.36633757759109775, 0.37317045957711187, 0.37902792888041675, 0.38392755870406203, 0.3879043725047151, 0.391005051153662, 0.3932839489058556, 0.3948006437789484, 0.39561874023266635, 0.3958056405257003, 0.39543299720361674, 0.39457754984678206, 0.39332203597235155, 0.39175585456612433, 0.38997516103115454, 0.3880820978481414, 0.3861829308972713, 0.38438497937237454, 0.3827924004529265, 0.3815011047547885, 0.380593300118069, 0.38013233576866007, 0.38015858695089283, 0.3806870390947039, 0.38170699715322653, 0.38318400617666204, 0.3850637078848564, 0.38727706732403483, 0.3897462496348709, 0.39239042816969116, 0.39513093406277333, 0.3978953587077463, 0.4006204356606173, 0.40325371277655003, 0.4057541557530436, 0.4080918967839659, 0.410247365382141, 0.41221002672140367, 0.3009415336929049, 0.30160765797715416, 0.304221574766848, 0.3085811479458807, 0.31438212296823376, 0.3212621037409851, 0.32884407610800875, 0.33677119938540473, 0.34472948907612, 0.35245895402892613, 0.3597558035585018, 0.3664688111208442, 0.372492514551289, 0.3777592282605346, 0.38223116249899114, 0.385893411203298, 0.3887481968598773, 0.39081051895222635, 0.3921052034718021, 0.39266526062967355, 0.39253140004902787, 0.3917525084003092, 0.3903868507681107, 0.38850370640341714, 0.38618508976164256, 0.38352714330103865, 0.3806407322480516, 0.37765074614287086, 0.3746936494772096, 0.3719129601076611, 0.36945259662448743, 0.3674484228785786, 0.36601877741304567, 0.3652551961719134, 0.3652147683551021, 0.36591547548858006, 0.3673354119504491, 0.36941606759819423, 0.37206908028037955, 0.3751852731035828, 0.3786445335071919, 0.38232518714842534, 0.3861118695587923, 0.3899013514287626, 0.3936061954003514, 0.39715643427921, 0.4004996406019085, 0.4035998225240882, 0.4064355651206296, 0.4089977743796082, 0.3270939267351487, 0.32731650475177004, 0.32890105163557903, 0.3317306321497453, 0.3356217924418179, 0.34034656262465063, 0.3456562632964755, 0.35130284348826235, 0.3570551321787964, 0.36270916604866, 0.3680930842516892, 0.37306778738386215, 0.3775247488934553, 0.3813822433648219, 0.384580995594999, 0.38707997285840073, 0.3888527978214465, 0.3898850696734257, 0.3901727432209606, 0.38972161746299283, 0.3885479110117649, 0.38667983613885665, 0.38416001197600347, 0.3810484684417603, 0.37742587746940537, 0.3733965055431595, 0.3690902219471453, 0.3646627504929817, 0.3602932756398192, 0.3561785919358573, 0.35252331691742256, 0.34952634057971904, 0.3473646269006206, 0.3461765116816946, 0.3460473807237807, 0.3470006458828822, 0.3489960489693522, 0.35193570723538625, 0.35567654222046946, 0.36004646487980363, 0.36486131010366735, 0.36993997692138497, 0.37511617818984977, 0.3802462160624309, 0.3852129895351748, 0.38992690507536315, 0.39432453380397, 0.3983658311727822, 0.4020306019825554, 0.4053147252453336, 0.3470960161496843, 0.3469204452086524, 0.3477049031001506, 0.34938339145955843, 0.35184567841631315, 0.3549483511624838, 0.35852768109254096, 0.36241215668704285, 0.3664330706897686, 0.37043229575241365, 0.3742670847847516, 0.3778122369656001, 0.3809602425464181, 0.38362009945453773, 0.38571545032964927, 0.3871825836838914, 0.3879687228006541, 0.3880309164412788, 0.387335756270429, 0.38586007620112606, 0.38359273085597906, 0.3805374919630975, 0.37671702753018654, 0.3721778212458617, 0.36699572924185747, 0.3612816398988296, 0.3551863905186324, 0.3489037179187106, 0.342669645121761, 0.33675648445909523, 0.3314598221104261, 0.32707775038736275, 0.3238834268381618, 0.32209454595861375, 0.3218456389171628, 0.32316992562988883, 0.32599572256048953, 0.33015845300437924, 0.3354248520100975, 0.3415230890560304, 0.3481722582234887, 0.3551064949374354, 0.3620915479378775, 0.36893381951077786, 0.37548318755827703, 0.38163138936554564, 0.3873076675930624, 0.39247304507598807, 0.39711420376907486, 0.4012375954482728, 0.36160104104027063, 0.36102102989780804, 0.36112598267020757, 0.3618839872450299, 0.36323285613854817, 0.3650852019568921, 0.36733491789905404, 0.3698640301194609, 0.3725490293829658, 0.3752660756378021, 0.37789479664427783, 0.3803206876001313, 0.3824363195236662, 0.38414167402203836, 0.38534395875607513, 0.38595724811120186, 0.38590226228705526, 0.3851065631867817, 0.3835054167618556, 0.38104355101514964, 0.3776780227456359, 0.3733823851181018, 0.36815230744209093, 0.3620127159803805, 0.3550263676988043, 0.34730349184376974, 0.3390116787493988, 0.33038450382662743, 0.32172643421195196, 0.31341050552720195, 0.30586450877297333, 0.2995418695839625, 0.2948762085583975, 0.2922243650814176, 0.29180999982374456, 0.29368449278983, 0.29771894925289805, 0.3036303212865152, 0.3110319790792475, 0.319492225388027, 0.32858589737862226, 0.33793095037494586, 0.34720875515806593, 0.35617099772361, 0.36463743295871404, 0.3724883960979776, 0.37965498048214263, 0.38610876987469916, 0.39185221111688817, 0.3969101625031006, 0.37120734315588305, 0.37016974280267834, 0.36963167052478557, 0.36958786795764187, 0.370011647252856, 0.3708562515343554, 0.3720572141075921, 0.3735353102126673, 0.3751996999155611, 0.3769509349318424, 0.37868361270969114, 0.3802885756785983, 0.3816546504800628, 0.3826699930595991, 0.3832231534545766, 0.38320400743092525, 0.3825047300765783, 0.3810210159896797, 0.3786537852737929, 0.3753116543881014, 0.37091449358327294, 0.36539843321279697, 0.358722710757304, 0.35087875227888166, 0.3419018239278875, 0.3318854090019115, 0.32099804986435243, 0.30950154843829525, 0.2977678620480242, 0.2862894789221605, 0.27567458490119884, 0.2666152422211726, 0.2598177830668948, 0.2558953311104628, 0.2552447874224191, 0.25795327173406246, 0.26377831569962396, 0.2722120661576616, 0.2825970815103396, 0.2942448711053135, 0.30652340572985165, 0.31890478066815214, 0.33098050412892516, 0.34245653030892137, 0.3531382707615066, 0.3629122464284152, 0.3717280349674195, 0.3795822060758874, 0.38650482681631415, 0.39254855417392653, 0.376416217856711, 0.37481944411401313, 0.37360079561522447, 0.3727802488951165, 0.37236219727469166, 0.3723340006295511, 0.3726651729111545, 0.37330723008162386, 0.3741941868000253, 0.3752436542641113, 0.37635845364451576, 0.3774286237348645, 0.3783336761142633, 0.37894494586644956, 0.3791279078470352, 0.378744379642636, 0.3776546091447965, 0.375719339560879, 0.3728020490916222, 0.3687716695087855, 0.36350619417179686, 0.3568976925919129, 0.34885935990938316, 0.33933535073771703, 0.3283142770097472, 0.31584736626414517, 0.3020722980653087, 0.28724343276799086, 0.27176796005066206, 0.2562442293970903, 0.24149111632190254, 0.2285437662757885, 0.21857484543448077, 0.2127017476795577, 0.21169653553773454, 0.21572508054574702, 0.22428862296686572, 0.23641215156711948, 0.25094262644214943, 0.2667923126434131, 0.28306452131542026, 0.2990850387944858, 0.3143836070021598, 0.3286574854437957, 0.3417333632940414, 0.3535339452200524, 0.36405076502684797, 0.3733228969716455, 0.3814206619876052, 0.3884333696194718, 0.3776183474613875, 0.3753067389987636, 0.37329700552487016, 0.3716376043619109, 0.370365830193492, 0.3695036461987751, 0.3690537562903578, 0.3689963453382487, 0.3692868973106913, 0.36985539487793273, 0.3706070211505901, 0.37142426475801726, 0.372170128227523, 0.372692007372525, 0.37282577598025657, 0.3723996771524064, 0.371237767841874, 0.3691628518718531, 0.36599903529443994, 0.36157422295965536, 0.35572303787071163, 0.3482907914808635, 0.3391392835145792, 0.32815539793423226, 0.31526373792201023, 0.300444981026223, 0.2837623375134659, 0.26539956625915095, 0.24571539914076554, 0.22532011773964758, 0.20517667031699396, 0.18670894819574485, 0.17183686981271262, 0.16274109672897386, 0.16115358488787143, 0.167451886482288, 0.18043164581847637, 0.19802760224417812, 0.21818644904457826, 0.2392934752128579, 0.26022306773710985, 0.2802468990974806, 0.2989259007707649, 0.31602306512461603, 0.33143996756061245, 0.34517180291414684, 0.3572755741294347, 0.3678474569243806, 0.3770066261915217, 0.3848837145737087, 0.37510566410434004, 0.37186141505983616, 0.3688721316731634, 0.36622233016422023, 0.3639898712016671, 0.3622385429805275, 0.36101026283382676, 0.36031784477800083, 0.36013936612057956, 0.3604150154020517, 0.3610469193406808, 0.3619019184503948, 0.36281673917262897, 0.3636046430676583, 0.3640625087920868, 0.36397742177384984, 0.36313214057035753, 0.36130917891981357, 0.35829360009632844, 0.35387491082711103, 0.3478486490991549, 0.34001839728815053, 0.33019905316363174, 0.3182223060606303, 0.30394546508287046, 0.2872651882817424, 0.26813849304540305, 0.24661517215945963, 0.2228894842411209, 0.1973871854311681, 0.17092164474232766, 0.1449853078108054, 0.12225612063755242, 0.10708650759214286, 0.10435013690840399, 0.1152408760288793, 0.1358791584064344, 0.16142395773513124, 0.18857949377669234, 0.21547118975192442, 0.24107619465157026, 0.2648534397250843, 0.2865436840967319, 0.3060599787784081, 0.3234236911750852, 0.3387244918427795, 0.3520939040486072, 0.3636871579386013, 0.37367050073526503, 0.3822122960292187, 0.369107485201006, 0.3646422254284789, 0.36039822482915385, 0.3565080755500971, 0.3531042895883311, 0.3503075328365765, 0.34821322108328784, 0.3468782105800495, 0.3463097245683563, 0.34645854264595144, 0.3472177581199871, 0.3484272516600008, 0.3498828191913884, 0.35134803731618575, 0.35256668800281593, 0.35327387596835647, 0.3532046436063524, 0.3520996521158058, 0.34970814920701776, 0.34578888700102073, 0.34010988461657876, 0.3324479968605614, 0.3225892179845958, 0.3103305779638867, 0.2954844295698973, 0.27788592912982807, 0.2574046617779558, 0.23396183581921495, 0.20755578547478173, 0.17830232966152532, 0.1465089334508977, 0.11284950868460217, 0.07893898229123261, 0.049996731314101414, 0.04363702220869905, 0.06730322227552638, 0.10079479891437411, 0.1354778329427122, 0.16897381216994714, 0.20038371192587168, 0.2293079776459388, 0.25558582413934916, 0.27919631467001743, 0.30020816858682675, 0.3187487196723445, 0.33498244780642344, 0.3490953308439241, 0.36128323974075915, 0.37174336580852074, 0.38066800857981603, 0.3598509899588277, 0.3538006386309224, 0.34793077528523064, 0.34243842595020696, 0.3375323824336388, 0.33341554838134235, 0.33026285645616954, 0.3281976574506727, 0.32727084734851064, 0.32744727626177755, 0.32860268942886234, 0.33053185243957833, 0.3329656325887081, 0.3355928427166121, 0.33808225204526227, 0.34010115315849687, 0.3413285398851802, 0.3414625725802156, 0.34022316269045344, 0.33735110839990073, 0.3326053703554219, 0.32575996378912553, 0.31660171028368683, 0.3049298390356688, 0.29055820996267256, 0.27332077844477315, 0.25308085623098797, 0.2297447924038765, 0.2032810561068791, 0.17374689831156828, 0.14132901668460154, 0.10642292519335775, 0.06988436293912073, 0.034734232966128833, 0.02591827795816678, 0.05806389414310773, 0.09531743199566668, 0.1317924132189585, 0.16630498010845765, 0.1983610108539593, 0.2277277021082849, 0.2543245004914794, 0.27817370673110203, 0.29936937822247744, 0.3180546660516795, 0.3344044147380764, 0.34861165642603026, 0.3608772118499957, 0.37140183474943805, 0.3803804460659591, 0.3476454145143983, 0.3395750502829968, 0.33160848885464395, 0.324026318727645, 0.3171435129805935, 0.3112846752510744, 0.30674859158522255, 0.30376626473273655, 0.3024607619912171, 0.30281937397880493, 0.30468653941451374, 0.30777975452966977, 0.3117232389047199, 0.3160893983217958, 0.32043798414217656, 0.3243461903955723, 0.3274272449060964, 0.3293384051027973, 0.3297810302675131, 0.32849585358397115, 0.32525628580925986, 0.31986201899743794, 0.3121346449259173, 0.3019165961090061, 0.2890745290337174, 0.2735083801131156, 0.2551679142988976, 0.2340801078498535, 0.21039433660088588, 0.1844612327228715, 0.15698386068845974, 0.12933844555404753, 0.10428085422979193, 0.08712303444014437, 0.08491557936046858, 0.09910263273095904, 0.1234691465375176, 0.15196624909433887, 0.1812666287167744, 0.20971250469555577, 0.23646617409610185, 0.2611125500810412, 0.2834749972669701, 0.3035212447877151, 0.3213096551402258, 0.3369555358577694, 0.3506085835789623, 0.36243718135511205, 0.372617280021992, 0.38132453335604777, 0.33298442376861936, 0.3224151709933764, 0.3117955574450371, 0.30150586738059343, 0.29200298584057455, 0.2837905861970558, 0.27736522389440155, 0.27314148618655376, 0.2713713004658232, 0.2720827303582085, 0.27506234769887883, 0.2798889174848699, 0.286004271559527, 0.2927949934158533, 0.29966166277862427, 0.3060642936602604, 0.3115437695662491, 0.31572506570341907, 0.31830939644889056, 0.3190613765170417, 0.3177955963207375, 0.3143655327952093, 0.3086566914299125, 0.3005853007209629, 0.29010371344370434, 0.27721391958253905, 0.26199135057425293, 0.24462268799222237, 0.22546400705306968, 0.2051292503671151, 0.1846209997060768, 0.16550135651077133, 0.1500221845685729, 0.14091921881572775, 0.14043129450075847, 0.14890662087323805, 0.16457916961190622, 0.18481582572206537, 0.20727963352238937, 0.23029555545149372, 0.25277561405820986, 0.27405459891256406, 0.2937537716172052, 0.3116859237039791, 0.32779158296955285, 0.3420958297191139, 0.35467850803247636, 0.36565331989762095, 0.3751530007077881, 0.38331879184565476, 0.316647786240949, 0.3031246040667428, 0.2892658098521606, 0.27554971393236316, 0.2626035903701602, 0.25118263330053175, 0.2421004641073204, 0.23609990621617494, 0.23368284692726912, 0.2349613484690219, 0.23960777202834685, 0.24693467581400125, 0.25605867702319685, 0.2660681813451142, 0.2761406812118229, 0.2855990153451247, 0.293921756868914, 0.30072780643281444, 0.3057504977302374, 0.3088104894974828, 0.30979237799847986, 0.30862745054034574, 0.3052837175934725, 0.2997637866057828, 0.2921109695010323, 0.2824240959247102, 0.2708817267349202, 0.25777661110118627, 0.24356070335168487, 0.2288982931805177, 0.2147163971654588, 0.20222231437717697, 0.19282806660174173, 0.1879089414086591, 0.18840325112873677, 0.19445184260840623, 0.20535670462728256, 0.219891663145102, 0.23670999999235925, 0.2546203386517494, 0.27269310389012347, 0.29026164341552196, 0.3068810781444697, 0.32227903711604655, 0.33631150678537247, 0.3489270917244914, 0.36013931160355994, 0.37000556663562395, 0.3786113619488726, 0.38605860363978145, 0.29975651368832223, 0.2829787034638822, 0.26540090374823516, 0.24755224870065357, 0.23021279791933544, 0.21444337270933364, 0.20154402560567725, 0.19286746781397332, 0.1894537177190063, 0.19161750626899124, 0.1987791823330466, 0.2096907959659989, 0.22286758373592333, 0.23693899015756664, 0.2508124521678813, 0.2636972157456142, 0.27506307268073293, 0.2845813798813965, 0.2920692402598022, 0.29744380039994195, 0.30068808414952, 0.30182802778609275, 0.3009199696043297, 0.2980477820477835, 0.2933287915122342, 0.2869275134510383, 0.2790759456636304, 0.2700984824230233, 0.2604379791743986, 0.25067644412234374, 0.2415388012040359, 0.23386233685733054, 0.2285132944694725, 0.22624632312657728, 0.22753851115644994, 0.23246814814515496, 0.24070436961180128, 0.2516124956607447, 0.2644147492008798, 0.2783350905986592, 0.2926917246315775, 0.3069375161787518, 0.3206648645957296, 0.33359187540385055, 0.34554130107251785, 0.35641855907082975, 0.36619173511189806, 0.37487460881053136, 0.3825128283128862, 0.38917296942179536, 0.28369687260219445, 0.2637133257747492, 0.24229771201022382, 0.21991168902738364, 0.19735184613460935, 0.1758984149074919, 0.15745683469598573, 0.14449482894504448, 0.1393708511994059, 0.14301148932338145, 0.1541631476389263, 0.17023590392855106, 0.18864034484131828, 0.20742659103565375, 0.22531698938889486, 0.24154627134026496, 0.255701232777504, 0.26760034480180755, 0.27720902341594506, 0.28458080181557555, 0.2898174541496042, 0.2930440066771303, 0.29439621667911253, 0.294018703563513, 0.2920718835032614, 0.2887455076963746, 0.28427609761438793, 0.2789649017665875, 0.27319205311220796, 0.2674213507013789, 0.2621889321368774, 0.2580693474244917, 0.2556164209407353, 0.25528551261229404, 0.2573562308995927, 0.2618822063920717, 0.2686881238915603, 0.27741455927104736, 0.28759147532452667, 0.29871457664950024, 0.31030577074446497, 0.321950894134953, 0.33331678000355097, 0.3441535024353813, 0.354287757829897, 0.3636119470528355, 0.3720719297656614, 0.37965515991513044, 0.38638006069233, 0.39228697831827924, 0.2698114202768164, 0.2472087084189746, 0.22252969789376123, 0.1960233364934044, 0.16823009316481133, 0.14021678782275254, 0.1140590389066365, 0.09369130361956991, 0.0850617260951224, 0.09170242365602291, 0.10980172776110164, 0.1330844430354268, 0.1574311386320985, 0.18072273258926352, 0.2019319367974542, 0.22060731576883036, 0.23661934325527875, 0.2500245312837948, 0.2609828840510718, 0.2697029384031538, 0.2764046839819472, 0.28129693813101203, 0.28456774681483027, 0.2863863600181604, 0.2869144580036167, 0.28632331607310585, 0.28481290306800394, 0.28262862573428293, 0.28007148080631855, 0.2774977092836328, 0.2753048647539421, 0.27390303000063654, 0.2736732782701049, 0.2749201648828016, 0.2778293163791749, 0.2824421390495189, 0.28865533647147124, 0.29624470065800657, 0.3049049212040459, 0.3142938973856778, 0.32407180968842875, 0.33392963579858903, 0.3436060909544975, 0.35289467525057405, 0.3616435511381121, 0.3697509270547428, 0.3771580884645062, 0.383841584914615, 0.3898055331547572, 0.3950745847585963, 0.2588469328549574, 0.23474464590272062, 0.20821790896455844, 0.17930285119662714, 0.14816374491391257, 0.11518390863448599, 0.0812132338294399, 0.048688607574386325, 0.029454640647768465, 0.04584806545808887, 0.07603118586128658, 0.10666728751890042, 0.1351419596846162, 0.16066168448131232, 0.18298045590067932, 0.20212669318039098, 0.21829623733327394, 0.23178501219216316, 0.24293509606263974, 0.2520894696778011, 0.25955702231246597, 0.26559098635626915, 0.2703829797328266, 0.2740722562738588, 0.2767667657753703, 0.2785703900014084, 0.2796099273676953, 0.28005600180772217, 0.28013355221402536, 0.2801193954761428, 0.2803263416695097, 0.28107556295032604, 0.28266143072173144, 0.28531542588631076, 0.2891769729896523, 0.29427802384654433, 0.3005446831126851, 0.30781437951111484, 0.31586316525824004, 0.3244362258174604, 0.3332756636198095, 0.3421419730668595, 0.3508280550318884, 0.35916635133880764, 0.3670305511534353, 0.3743335282146817, 0.381022995064047, 0.38707603609329033, 0.3924933422681143, 0.3972936801628128, 0.25040598325757174, 0.22608901252063088, 0.1995444059415687, 0.17083208845219033, 0.14011915524224838, 0.10775022022180494, 0.07443713431088833, 0.04217802446984176, 0.02291434309700737, 0.04167598658503504, 0.07133130225634735, 0.10024499647879806, 0.1265465054681432, 0.14969679293030236, 0.16960500408057316, 0.1864379072086378, 0.20053121038450725, 0.21231940603499436, 0.22226854746430116, 0.23081306364306575, 0.23830442360271112, 0.24498106027240837, 0.2509655868040874, 0.2562883819520121, 0.26092946306483833, 0.2648665634370911, 0.2681176385767768, 0.2707693866295696, 0.2729876585993659, 0.2750094029336802, 0.2771186896756585, 0.2796116597447559, 0.28275710346534316, 0.2867604163357968, 0.29173816052824153, 0.29770793217088043, 0.3045942339566338, 0.312247063778853, 0.32046749952977055, 0.32903432260822035, 0.3377271860190457, 0.3463439493691699, 0.354711676911065, 0.36269201059226025, 0.3701821848859663, 0.377113036572479, 0.38344519537538413, 0.38916437925638964, 0.3942764531563246, 0.3988026837752972, 0.24286052971771538, 0.2191809938155342, 0.19395396176439536, 0.16751059297042306, 0.14043201990758197, 0.11377329258741822, 0.08957371037486363, 0.07181981894755528, 0.06631917671713328, 0.07480725579615544, 0.09166147495810957, 0.11101841968731586, 0.12975216719918392, 0.1464876001042627, 0.1607556872904084, 0.17260119986482153, 0.18238347459230503, 0.19063914249702946, 0.19795868208262873, 0.20486895866971597, 0.21173680314425067, 0.2187170449347763, 0.22575950117197252, 0.23266879302936888, 0.23919274578923902, 0.24511036696416869, 0.2502980313492119, 0.2547642736744012, 0.2586528363762061, 0.26221874322148014, 0.2657847128791103, 0.2696869661720958, 0.27422086898607434, 0.2795969736197395, 0.2859156485823433, 0.29316352534647344, 0.30122910538950826, 0.3099305356478775, 0.31904731040774187, 0.3283492113203963, 0.3376186723328148, 0.34666547695205757, 0.35533450158928603, 0.363508048886373, 0.3711044543967276, 0.37807442878225317, 0.3843962538146433, 0.39007061369722135, 0.39511556611167314, 0.39956195011958817, 0.23397266090572166, 0.21092211361198093, 0.18719020078166473, 0.16346482676182356, 0.1407774205336541, 0.12065926913034372, 0.10523919365889434, 0.09685575370926351, 0.09667924497673415, 0.10342697715074908, 0.11416687699121866, 0.12607800329758723, 0.1372358879772945, 0.14659407907907823, 0.15378873013704775, 0.15897679112246868, 0.16270881870653134, 0.16579475778460773, 0.16912895106678297, 0.17347508821113986, 0.17926469577211962, 0.18649484247155385, 0.19477564584854967, 0.20349526931535766, 0.21201716901333403, 0.21983758363259762, 0.22667526083007464, 0.23249764168456083, 0.23749839699265707, 0.24204039416543072, 0.24657620272101036, 0.2515593174336901, 0.2573621768667996, 0.264217591677409, 0.2721948285915199, 0.2812110576668322, 0.2910683629358138, 0.3015014396473812, 0.3122227208526308, 0.32295713986228214, 0.3334643166785968, 0.34354958363486254, 0.3530667495804032, 0.3619155652832648, 0.3700362764287133, 0.37740293979766476, 0.38401656479707014, 0.3898986903577679, 0.39508570392433595, 0.39962401924162927, 0.22197069476486964, 0.19864293557501345, 0.17538345490840365, 0.15327052674342817, 0.1337856791104383, 0.11876768753161676, 0.1099818782859327, 0.10816170365615077, 0.11226239821569794, 0.11994821140948428, 0.12874807507522298, 0.13674325048017602, 0.14269401285848182, 0.14596780200360376, 0.14646646420380693, 0.1445937502905973, 0.1412429678339171, 0.13774758740049817, 0.1356967377951498, 0.1365279823674088, 0.1409892659633173, 0.14882626980290148, 0.15896879141811124, 0.1700367043921934, 0.1807940739915545, 0.19038916807255638, 0.1984207813619534, 0.20491020129677692, 0.21022514184352878, 0.21497174436124655, 0.21986093061399584, 0.22556266155485535, 0.2325757714615159, 0.24114688393299957, 0.2512583834109149, 0.26267812396319495, 0.2750418200664953, 0.28793612791724604, 0.3009623151120729, 0.3137749034232894, 0.3260988785302411, 0.3377321925773767, 0.3485398066744822, 0.35844379810793936, 0.36741235594369037, 0.3754492246694579, 0.38258434031734373, 0.38886592487710947, 0.3943540459016857, 0.3991155215299204, 0.20665600963718686, 0.18153186298373833, 0.15682213182748567, 0.13407017357622733, 0.11547463303014811, 0.10363274728005217, 0.10028766848360374, 0.10467284423249862, 0.11379114312307867, 0.12433739976057555, 0.13382962140813257, 0.14067834572841584, 0.14396470038407083, 0.14327281105728698, 0.1386228212092105, 0.13049157690081511, 0.11991611900107595, 0.10867058489816207, 0.09939648683340957, 0.09520530009222483, 0.0981354907301356, 0.10755358837749829, 0.12078370504355807, 0.1349796564511782, 0.14810465676051296, 0.15903169101353853, 0.16739320486335735, 0.1734289350514889, 0.17785276766919206, 0.18170127298844627, 0.18613055761179426, 0.19216734634123236, 0.20047896652736122, 0.21125532522686694, 0.2242478231472092, 0.23892059258326395, 0.2546247114783496, 0.2707307765069498, 0.28670263051575184, 0.3021242170751353, 0.31669829318059445, 0.3302317385696676, 0.3426163982288519, 0.35381004948857675, 0.3638194943919595, 0.3726864167010036, 0.38047599478174843, 0.3872679889217269, 0.39314993419892214, 0.3982120683957397, 0.1902955825399803, 0.16187563933245142, 0.13342591706168697, 0.106831929031848, 0.08546827871240964, 0.07440985259845503, 0.07684577451503866, 0.08915493678776693, 0.10498215948823693, 0.12001792989637332, 0.13196240732052117, 0.13960683882408095, 0.14233054197563122, 0.13988657783838285, 0.1323270246900062, 0.12001008234437244, 0.10369188408254729, 0.08478390566923984, 0.06604449851607173, 0.05308598803738131, 0.05348977405018145, 0.06672391426647879, 0.08492613930614341, 0.10272137221557166, 0.11766182149612638, 0.12878478259362283, 0.1360044642218717, 0.13991688356737983, 0.141727095790053, 0.14313787470647324, 0.14606753772173336, 0.15215521393861675, 0.1622495165086258, 0.17623153970710842, 0.19327475016707021, 0.21227584022673582, 0.23217794713115503, 0.2521186046615909, 0.27145981895570787, 0.2897652273066122, 0.3067616793587079, 0.32230111776925674, 0.33632793920504506, 0.34885269952355524, 0.3599315645861967, 0.36965055170437205, 0.3781136301149301, 0.3854338790960727, 0.3917270452729295, 0.3971069680646091, 0.1779044662777795, 0.14603292562974257, 0.11283356293099032, 0.07950682298469035, 0.049095572188647296, 0.03289846343600106, 0.045905130698242536, 0.0702431264309952, 0.09381668561075973, 0.11353190790769624, 0.12824121842521716, 0.13739982870480794, 0.14076584735861808, 0.13830676715115928, 0.13016755796857654, 0.11666710680633162, 0.09831455054376548, 0.07584782731699131, 0.05032690807865513, 0.023648720703184613, 0.012068004007683918, 0.03530515293835843, 0.05874466271255131, 0.07834960481594756, 0.09308574403539498, 0.10253617775671348, 0.10681317186404772, 0.10667259557914248, 0.10372050366523622, 0.10059531931133885, 0.10072527248902739, 0.10707639897563752, 0.12049660041634223, 0.1396344529940979, 0.1623292596688017, 0.18666569146500508, 0.2112514196552479, 0.23515413314279016, 0.2577814246699753, 0.2787814922548995, 0.2979715009768212, 0.31528681073181947, 0.33074454141313947, 0.3444170157857545, 0.35641220575641136, 0.3668592983860884, 0.37589809505684313, 0.3836713249424349, 0.39031919134908427, 0.39597563146669723, 0.17561435107789378, 0.14298889189543498, 0.1086552770479076, 0.07339447456793645, 0.038919975661311, 0.01678644859895407, 0.038126624840498106, 0.06674924540568039, 0.09218961457220366, 0.11289812028973231, 0.1282212288251492, 0.13784368762362106, 0.14167420736170896, 0.13980246328171753, 0.13248114542882772, 0.12012575869758559, 0.10333521055306438, 0.08294897571366078, 0.06020742620842781, 0.03740378915832779, 0.021930412335304576, 0.029151753702030225, 0.04672436735334035, 0.06294483757948621, 0.07490450712085071, 0.08143823736675898, 0.08205882770772208, 0.07694995969986845, 0.06734973281575063, 0.056601836931245535, 0.051901023160524876, 0.060928314376018436, 0.08201402510018514, 0.10910001051960447, 0.13836133607779139, 0.16780838779866825, 0.19633434420873402, 0.22329121223894313, 0.2483058178002211, 0.271186292463631, 0.291866106200013, 0.31036636508353144, 0.3267685908448196, 0.34119439409134633, 0.35379011978852276, 0.364715274765107, 0.37413390838318333, 0.38220832249025494, 0.3890946199613003, 0.3949396975536091, 0.18641465806340893, 0.15713986219786008, 0.12772885740188944, 0.1002067929994222, 0.07846402654718174, 0.06866924087518171, 0.07402903177506327, 0.08903234696113256, 0.10649641939070027, 0.12231771194141944, 0.13453660178047214, 0.14224649434089506, 0.14509740741465876, 0.14308136551983178, 0.13643181383587058, 0.12557567796529662, 0.1111200823282692, 0.09387882050977521, 0.07497389959671391, 0.056134175948676965, 0.04055875793098126, 0.034053404579902025, 0.03936058922340331, 0.04984455748990909, 0.05924772465382419, 0.06446183829503513, 0.06387152812979145, 0.05667371861967539, 0.042703744839309776, 0.02242572645296636, 0.004478891682510715, 0.033152017984218095, 0.06485304697559649, 0.09745894027012039, 0.12988358056424934, 0.1613203127558843, 0.19119092503082408, 0.21910712482897188, 0.24483500284457868, 0.2682628489468622, 0.2893729399120759, 0.3082175065645823, 0.32489875286035413, 0.3395525975138082, 0.35233571018436366, 0.3634153846379214, 0.3729618038725846, 0.3811422880613565, 0.38811716272668645, 0.3940369338517215, 0.2076179903012466, 0.1836494007126064, 0.16076812962902656, 0.14073401241282532, 0.125744695889009, 0.11776976888282624, 0.11727166388056132, 0.12254267931338286, 0.13067188991434645, 0.13893745703810104, 0.14540787147425738, 0.1489249091016939, 0.14891888910664863, 0.14523937505748297, 0.13802771114453571, 0.12761947628701364, 0.11446665052867182, 0.09908105406785521, 0.08201746711749217, 0.06394590226024881, 0.04596287180532923, 0.030722831746805825, 0.025047451985166804, 0.032248994661979474, 0.04311372087143904, 0.051419419862760794, 0.05490242883884586, 0.05305931501744095, 0.04702538694740358, 0.04090041986963439, 0.04306922199644201, 0.05830631107601252, 0.08217460278042352, 0.10996306933939927, 0.13910161887752776, 0.16814577570129433, 0.1962097293539699, 0.22273567583402148, 0.2473846589760164, 0.2699734439997501, 0.29043211332532337, 0.3087730133040386, 0.32506704443031664, 0.3394252612892753, 0.35198455730674316, 0.36289658903435074, 0.372319304064047, 0.3804105715082788, 0.38732351132706916, 0.3932031937217251, 0.233709759226388, 0.21463458684796796, 0.1968300629920288, 0.18134860182963494, 0.1691987866362702, 0.1610304941629559, 0.15680813598468063, 0.1557087819648932, 0.1563632291502882, 0.15727480843104782, 0.15716291838668167, 0.1551295897701387, 0.1506871670204114, 0.14371209687059744, 0.13436270642300016, 0.12297311548103905, 0.10992762611355776, 0.09553104324168692, 0.07991445755857064, 0.06303410828995652, 0.04480592500795005, 0.02537250492812578, 0.0058148401234171245, 0.01474743674941951, 0.03182368010134612, 0.04552780564424684, 0.05531584727548747, 0.061626658598445946, 0.06599466674979797, 0.07100834002898247, 0.07952782184119714, 0.09320817866288977, 0.1118158766275626, 0.1339843113124564, 0.15817327392859998, 0.18309818767564134, 0.20780190886505812, 0.23161123989812288, 0.25407631764117244, 0.2749177910969543, 0.2939848472976869, 0.31122244424899537, 0.3266457111604855, 0.3403198791152223, 0.35234452483324696, 0.36284122458089346, 0.37194393752790716, 0.37979159554027053, 0.38652249030161945, 0.39227013223184665, 0.25993902168183886, 0.24452793192932967, 0.2300570707810153, 0.21707143682359573, 0.20599196133353997, 0.19698798188699757, 0.18988363706348196, 0.18415258530946071, 0.1790180622077793, 0.173620310854204, 0.16718821316216148, 0.15916958417740476, 0.14930666597708006, 0.13766184228528805, 0.12459791499589755, 0.11070531044605454, 0.0966579224568932, 0.08299220008706487, 0.06987150104403374, 0.05700693040591182, 0.043940334065222256, 0.030851564680298166, 0.02065104293269872, 0.02154823192080307, 0.03261042671955927, 0.04583407716517458, 0.05842260913363758, 0.06992829112502505, 0.08085320065178796, 0.0921885693604844, 0.10500335367454057, 0.12003053629418563, 0.13744023313563788, 0.1568923898509939, 0.17775218858105163, 0.19930271736414062, 0.22087995412843778, 0.24193425037547153, 0.26204607761103416, 0.28091903043287436, 0.2983635958847193, 0.3142784621878189, 0.3286324233475918, 0.3414481018006955, 0.3527878614859752, 0.36274191108468934, 0.3714184468170542, 0.3789356342580756, 0.3854152220087659, 0.3909775901026604, 0.28337674599364426, 0.2704246352000913, 0.2579553569911957, 0.2462152607179272, 0.23533897109669358, 0.22529611948971992, 0.21586303939001214, 0.2066351592593398, 0.1970830541247614, 0.1866402189112877, 0.1748029174497154, 0.1612252461450793, 0.14580148162402454, 0.12873624200562683, 0.11060642332065837, 0.09241217155737812, 0.07557907830431199, 0.06176179094443785, 0.052139048898308504, 0.046306763681288526, 0.04223807851247729, 0.037992617661640735, 0.033372780731693925, 0.030647889455788224, 0.033489118640378214, 0.04273395751989781, 0.05597853538258667, 0.07101670331698431, 0.08673880896050143, 0.10280656545689974, 0.11930009455113826, 0.1364342969992806, 0.1543569499451702, 0.1730496086852242, 0.1923226048336171, 0.21186656262083245, 0.23131964192505058, 0.2503247790938446, 0.2685678581692271, 0.285797771405014, 0.3018329799358704, 0.31655936408698415, 0.3299231106924304, 0.34192121571618495, 0.3525912470150965, 0.36200135870820255, 0.3702411207244465, 0.37741345743116206, 0.383627823073698, 0.38899464003817996, 0.30258851237382944, 0.2911255319370747, 0.27972129867463563, 0.26846035299960336, 0.25734294988565287, 0.24626095836046408, 0.23498881994415938, 0.22319541636496998, 0.21047790737468244, 0.19641347059597636, 0.1806219088943801, 0.16283246747539357, 0.1429514199306253, 0.12113226489540606, 0.09785966531655457, 0.07408410064102496, 0.0515424215413917, 0.03374182831031687, 0.02707581442494699, 0.03156127248493764, 0.03734526756399909, 0.039132135448297134, 0.03590884164750343, 0.029097923899520397, 0.02404049261734739, 0.029856509236444242, 0.045445957317405826, 0.06465575561475874, 0.08469227611925949, 0.10455756318948362, 0.12399747052876316, 0.14308287262503988, 0.16198106176171878, 0.18081993527669174, 0.19962380349725, 0.21830511876283787, 0.23669110417063088, 0.25456417271846465, 0.2717008325186295, 0.28790125598554483, 0.30300753913724715, 0.31691194747769397, 0.32955766213415955, 0.3409345822199919, 0.3510722891917424, 0.3600317241040755, 0.3678966394797027, 0.3747655127333522, 0.3807443412536124, 0.3859405552166269, 0.3171060188520238, 0.3063864386095593, 0.29538109045183547, 0.28409832206791835, 0.27249021904564585, 0.2604408378075129, 0.24776280621274283, 0.2342050715707783, 0.21947283407189358, 0.20325881124529907, 0.18528365523520865, 0.16534295584902622, 0.14335863783652783, 0.11943317432258996, 0.09390542232730295, 0.0674073521800911, 0.040926843705465815, 0.015985833896140285, 0.007852667805297846, 0.024395445001514762, 0.0352064572567614, 0.03895942902124835, 0.03551755759032607, 0.025398196055204946, 0.010050988056944798, 0.011756636343954104, 0.03345719348588337, 0.056212617654728826, 0.078716194056002, 0.10046179471844242, 0.12133583067494304, 0.1414546453819485, 0.1610239677765739, 0.18022612686461106, 0.199151455934235, 0.21777797395866363, 0.23598850952218714, 0.2536072447890782, 0.2704393749935337, 0.28630381037921043, 0.30105507113783075, 0.314594623636608, 0.32687379558282054, 0.33789082980378843, 0.34768434291622197, 0.3563249366922012, 0.36390620911115845, 0.3705360142670722, 0.3763285315351886, 0.3813974998799819, 0.3270340573633471, 0.3164752819141223, 0.30536056592735933, 0.293675101164704, 0.28137552312225855, 0.2683847325580093, 0.25459065414552245, 0.23985035040807887, 0.22400062257298192, 0.20687603401820806, 0.1883353768000334, 0.16829808524834722, 0.146793152246876, 0.1240255442242002, 0.10047231833853479, 0.07704485238429479, 0.0554339560913748, 0.03889844981947757, 0.032348124406915896, 0.03543793824562929, 0.04048237281296064, 0.04229071731093943, 0.03910414085198247, 0.0309763932567603, 0.020121826075015347, 0.016892119583648866, 0.03072965602758859, 0.05046090740393741, 0.07136771936387794, 0.09219809937284229, 0.11258670151950799, 0.13254889654467095, 0.15223941500849164, 0.17178963120299953, 0.19122192277127234, 0.21043503905409605, 0.2292352457287988, 0.24738452611119421, 0.2646457030328174, 0.2808152498148699, 0.2957422804216423, 0.30933595648592277, 0.3215645861520076, 0.33244941417541235, 0.34205541262430167, 0.35048070547672566, 0.35784574327008983, 0.3642829949195359, 0.3699277003414756, 0.37491007617573635, 0.33281485010609224, 0.3219443127440346, 0.31029345425310506, 0.2978534279830177, 0.28461469650884424, 0.2705673041292389, 0.2557019597271343, 0.24001193483199493, 0.2234959954578037, 0.20616326669963672, 0.18804215848172556, 0.1691970578461603, 0.1497578283297497, 0.1299673677594201, 0.1102505720259745, 0.09130197280604413, 0.07416907021374425, 0.06023403548846663, 0.050808991273085406, 0.046088800600782034, 0.04441712219889855, 0.04325648759938421, 0.040607213691261544, 0.035585947643711535, 0.02896537664807618, 0.02483722463500216, 0.029881521946403967, 0.043378070599611365, 0.06048567172025415, 0.07876927959358661, 0.09747847095660736, 0.11657077195763643, 0.1361700230382755, 0.15628843870497194, 0.17674953532036097, 0.19722998413363765, 0.21734064743359874, 0.23669936355257948, 0.25497928156107724, 0.27193358748176644, 0.2874030079018499, 0.30131247145850937, 0.3136616357057585, 0.3245123079791261, 0.33397457241289175, 0.3421926903885092, 0.3493314523645853, 0.3555634977344962, 0.3610580745314976, 0.3659716914846041, 0.33510684074828556, 0.3235383118670093, 0.3109760330437913, 0.2974258484001962, 0.28291986802193037, 0.267523273588461, 0.25134016081508725, 0.2345163959242618, 0.21723692886965693, 0.1997151622443666, 0.18217351464030979, 0.16481775652984682, 0.14781251569076542, 0.13126903627747638, 0.11525480484448505, 0.09982615962416216, 0.08507517296511491, 0.07118419545189762, 0.058501479640086944, 0.04765185027679267, 0.03954789352079245, 0.03479984061262242, 0.03245148885894225, 0.029998538600953722, 0.02546558503284862, 0.019797423702406447, 0.019532275459258924, 0.029115121819406592, 0.043280372354050814, 0.05890605220181629, 0.07565758900425328, 0.09393986045010519, 0.11393800297494454, 0.13538698062334595, 0.15770752239826355, 0.1802106717202198, 0.20224338227579275, 0.2232630096009704, 0.24286364924603784, 0.2607762878002884, 0.2768565893136388, 0.29106769130032095, 0.30346153300093104, 0.31416019046857935, 0.3233377108466762, 0.3312025706304051, 0.3379808737793385, 0.3439005921999916, 0.34917740098535527, 0.3540028504640244, 0.3347236434347632, 0.32216839125146496, 0.3083910668231051, 0.2934038240758477, 0.27726773213868366, 0.2601078364628329, 0.24212801311718804, 0.22362188822758233, 0.2049733469994713, 0.18663695230404012, 0.16908689346245778, 0.15272766686292705, 0.13777712128173594, 0.12416261554114007, 0.11149288462572896, 0.09914697264062665, 0.08645699862710285, 0.07291405586550236, 0.058349520708397, 0.04312031427822727, 0.02844781047666314, 0.017401389610347075, 0.014960647750582378, 0.017244699564844798, 0.016417656479043967, 0.010566019730260886, 0.0017800557490756052, 0.010749066680423454, 0.02184248175176128, 0.033795223899194794, 0.04857818512947967, 0.0671362846180753, 0.08899728001889899, 0.11303631326682725, 0.13805500544890037, 0.16301244760638395, 0.18708647431925776, 0.20967263034622868, 0.23036280012527593, 0.24891865849625128, 0.26524535103509866, 0.2793670911170564, 0.29140479927359897, 0.30155523204498746, 0.31007083231439014, 0.3172396471138383, 0.3233650497180424, 0.32874560300689076, 0.3336560745866511, 0.33833114893334504, 0.33257881967343383, 0.31888111469465824, 0.3037149864176923, 0.28708054343423006, 0.2690400922248784, 0.24974112014590383, 0.22944295901873185, 0.20854447910882346, 0.1876056493293033, 0.16734682683264682, 0.14859518697092186, 0.13213547319814312, 0.11844438967530005, 0.1073919692423607, 0.09813242615713112, 0.08935791106370836, 0.07978586653552862, 0.06856684095118434, 0.0554544619576026, 0.04081055538309609, 0.02561659669076174, 0.011885666800243135, 0.0070909716930215375, 0.01244881912261339, 0.01522860382034695, 0.015004002161454835, 0.013848998821559114, 0.011999088663878676, 0.00700778011896377, 0.006666350309619609, 0.023245291641018094, 0.04517084287588272, 0.07027549979305235, 0.09703561895690117, 0.1241827426514507, 0.15069818120815678, 0.1758035956207079, 0.19894109365824592, 0.21974864836489036, 0.23803492402557178, 0.2537555583743605, 0.2669914854965347, 0.2779288817379488, 0.2868396671821438, 0.29406118427465194, 0.2999737721007588, 0.3049755571898519, 0.3094549132492575, 0.313762520524564, 0.31818631244173057, 0.3295967496097085, 0.3147661309680314, 0.2982278631223781, 0.2799546156549186, 0.2599824190090377, 0.23843673561883735, 0.21556616488011401, 0.1917854195394821, 0.16772788414770493, 0.14430148292881934, 0.12271825473678669, 0.10440467846754217, 0.0906036472468368, 0.08158157269563303, 0.07603292070395525, 0.07163332518456125, 0.06635393133673423, 0.059278138894020505, 0.05061703722277432, 0.0413348232382659, 0.032701362027252004, 0.025753616030238072, 0.020542244536058723, 0.01609714357821501, 0.012702817907066953, 0.013664765554751483, 0.01822084308570016, 0.021592486436002607, 0.02184526448590354, 0.02223911248784114, 0.030561803345753865, 0.048044477551597485, 0.07082772437087047, 0.09610349256859231, 0.12207832098662051, 0.1474962238160979, 0.17145437168905023, 0.19332249701298093, 0.2126958164878983, 0.22936157389496656, 0.2432731105060924, 0.25452887596124785, 0.26335434388768364, 0.27008446397905633, 0.27514380205866373, 0.27902137554928363, 0.28223790170916613, 0.28530520808794446, 0.28868092834379544, 0.29272537783475105, 0.3265865089637545, 0.31079153738627224, 0.29309825798625994, 0.2734530213178529, 0.2518598360399826, 0.22840326307680595, 0.20327812675769946, 0.17682930598706068, 0.14960799453532395, 0.1224573966517039, 0.09665214728447785, 0.0741115066605738, 0.057501218762143126, 0.04907870088912449, 0.04747183703014731, 0.04789187856522578, 0.04679948495544967, 0.043605783994933124, 0.039685217594799614, 0.03666961736543652, 0.034720715265853665, 0.03226734379936576, 0.027359031818355535, 0.0188987374218784, 0.007436237456139696, 0.008059206833020484, 0.020753156843042072, 0.031406550579159045, 0.039538841230123994, 0.04691574232150891, 0.056480663480415666, 0.07027658743277035, 0.08827083915066215, 0.10912383623776217, 0.13124805862519823, 0.1532705127723912, 0.17412857680074165, 0.1930528088972983, 0.20952922181621958, 0.22326479002664995, 0.23416070002384973, 0.24229297952181547, 0.24789847613798668, 0.25136283077596927, 0.25320550992909985, 0.2540553971980027, 0.25460998733617185, 0.2555737988101022, 0.25757901180611703, 0.261102624808053, 0.3241255996882922, 0.307631647295647, 0.2891254871425325, 0.2685457102891343, 0.24588722139800018, 0.22122088572280793, 0.19471666601971488, 0.16667062984336525, 0.13753673937073196, 0.10796629442064289, 0.07886553704963009, 0.051518706003628414, 0.028072164094535515, 0.014582220921226118, 0.018333972406360612, 0.023831066838946646, 0.024320874394785214, 0.021517132906517664, 0.020780078048258495, 0.02531803361915514, 0.031399765227425235, 0.035041370391060866, 0.034631760076238374, 0.0306757937212711, 0.026289247962467805, 0.026989390892329965, 0.03438826976229928, 0.044656626811738924, 0.055259876465000864, 0.06603802185874379, 0.07796115850393846, 0.09196186534772752, 0.10824821707288437, 0.12627482990177263, 0.14508139408056914, 0.16362387012191054, 0.1809654337392978, 0.1963550857710909, 0.20924772254793464, 0.219301098479238, 0.22636764325439082, 0.23048915722645524, 0.23189708332321213, 0.23101733605224395, 0.22847453161694364, 0.22508472741591332, 0.22181899033324448, 0.2197170210429199, 0.21974130005949466, 0.22259668153971626, 0.32252761202793007, 0.3056055729802308, 0.2866241427382239, 0.26553245568364914, 0.2423431005363551, 0.2171538793525697, 0.19017331414177865, 0.16175006864857203, 0.1324068090488689, 0.10288101493873404, 0.07418438299247346, 0.047738549947745616, 0.025939149647641224, 0.014913292569294426, 0.017998132634474015, 0.020745576077991604, 0.017333460484763148, 0.008317043003378988, 0.007127506528985214, 0.020335971816691684, 0.03217323327361137, 0.04046052276862508, 0.04460967504795928, 0.04525639762691131, 0.04424259531324324, 0.044221212573134105, 0.047396191298054245, 0.054258047652869346, 0.06407681896717461, 0.07614076085827416, 0.09010527066651988, 0.10572605771555116, 0.12259846299060555, 0.1400955744384216, 0.15744499249017024, 0.17384159942296934, 0.1885384317214779, 0.20090255609270533, 0.21044362420912674, 0.21682717308476218, 0.2198830283545165, 0.21961652551205166, 0.21622817234051653, 0.21014551638173856, 0.2020676651187746, 0.193014233196222, 0.18434961366802297, 0.1777164853713724, 0.17478590928046858, 0.1768060980906162, 0.32193142855823087, 0.3048003247099741, 0.28559008376998046, 0.2642594418991354, 0.24083724389287825, 0.21544749952574718, 0.18834016819754618, 0.15992958095883053, 0.13084505521394, 0.10200659992638804, 0.07476602131386456, 0.05123706998984431, 0.03496063262224294, 0.02962656193946544, 0.031467723985935364, 0.032564957215331716, 0.02969548615673747, 0.024062083623964687, 0.021109573010441217, 0.026274048570831772, 0.035867856666803026, 0.04483252861649521, 0.05085161935397642, 0.05325933926314717, 0.05253683748682755, 0.050244384588885416, 0.04903752870191909, 0.05200790459828188, 0.0607612588396219, 0.07451584119890195, 0.09151531782514272, 0.11020941307937439, 0.12942714715224987, 0.1482461166894963, 0.16588720933045087, 0.18166908758943418, 0.1949977818002328, 0.20537044933987553, 0.21238294243754718, 0.21573828858265795, 0.21525737355263516, 0.21089550346207683, 0.20277058373951382, 0.191211718864017, 0.1768422618814762, 0.16071804727474734, 0.14453743900360416, 0.13086532169552925, 0.1230231191363968, 0.12393747594281239, 0.322459371145283, 0.3053081634713763, 0.286058149408418, 0.2646609493010677, 0.24113517610334037, 0.21558992312413267, 0.1882530991805158, 0.15950590930701394, 0.12992695318540615, 0.10035732784597608, 0.07202942415877618, 0.046939748165137296, 0.02914571850937979, 0.02514460970438722, 0.030480081145457662, 0.03443507028164267, 0.03346279379105467, 0.028068539768198897, 0.021893414822480497, 0.022330976863226198, 0.03091349122764312, 0.04109119804952206, 0.04863846804018187, 0.05170486629665732, 0.04975840029495108, 0.04351325934174381, 0.03583931055748773, 0.03380448653730382, 0.04400133716075468, 0.06294604578533054, 0.08542877202263768, 0.10874451223952035, 0.13144618387921814, 0.1526064277547052, 0.17154505270671636, 0.18771995273247397, 0.20068037283879206, 0.21004748094040507, 0.2155079698677299, 0.21681455893345813, 0.21379131329432668, 0.20634417859564416, 0.19447928922053462, 0.1783349287247556, 0.1582408318505846, 0.1348408800617045, 0.10938662385326331, 0.08454113212728318, 0.06644033743630462, 0.06537613979956756, 0.32432572313565416, 0.30739241798936956, 0.28835824056449477, 0.2671592903619854, 0.24379020838953183, 0.21832391169104468, 0.1909342849459597, 0.16192153390052827, 0.13173959075959368, 0.1010246241433384, 0.07062344219818369, 0.041620483158526386, 0.01536205783047341, 0.006526919621391911, 0.02227663948908728, 0.030670731379149243, 0.03136718562424614, 0.024889463087135338, 0.012604991659681646, 0.0032785234513398854, 0.019807115761749445, 0.034119248776779236, 0.044006387088976535, 0.047957573343263095, 0.045138436083726904, 0.03536497847096148, 0.01908995450320477, 0.0025915603361502783, 0.02796650417658016, 0.05523775028210336, 0.08291935904235928, 0.10984203790767064, 0.1350995198099244, 0.15799103408006338, 0.17796913100956469, 0.1945981033116937, 0.2075240947609554, 0.21645565407821668, 0.2211526779115708, 0.22142182253503784, 0.2171170219250556, 0.20814437003128425, 0.19447112050422713, 0.1761388636120788, 0.15328105878772244, 0.1261450598144672, 0.09511860851964615, 0.0607605634372192, 0.023835579416531888, 0.014648808688126748];\n",
       "const xvar = \"lr\";\n",
       "const yvar = \"momentum\";\n",
       "const x_is_log = true;\n",
       "const y_is_log = false;\n",
       "\n",
       "const GREEN_SCALE = [[247, 252, 253], [229, 245, 249], [204, 236, 230], [153, 216, 201], [102, 194, 164], [65, 174, 118], [35, 139, 69], [0, 109, 44], [0, 68, 27]];\n",
       "const GREEN_PINK_SCALE = [[142, 1, 82], [197, 27, 125], [222, 119, 174], [241, 182, 218], [253, 224, 239], [247, 247, 247], [230, 245, 208], [184, 225, 134], [127, 188, 65], [77, 146, 33], [39, 100, 25]];\n",
       "const BLUE_SCALE = [[255, 247, 251], [236, 231, 242], [208, 209, 230], [166, 189, 219], [116, 169, 207], [54, 144, 192], [5, 112, 176], [3, 78, 123]];\n",
       "\n",
       "// format data\n",
       "const res = relativize_data(f, sd, rel, arm_data, metric);\n",
       "const f_final = res[0];\n",
       "const sd_final = res[1];\n",
       "\n",
       "// calculate max of abs(outcome), used for colorscale\n",
       "const f_absmax = Math.max(Math.abs(Math.min(...f_final)), Math.max(...f_final));\n",
       "\n",
       "// transform to nested array\n",
       "var f_plt = [];\n",
       "while(f_final.length) f_plt.push(f_final.splice(0, density));\n",
       "var sd_plt = [];\n",
       "while(sd_final.length) sd_plt.push(sd_final.splice(0, density));\n",
       "\n",
       "// create traces\n",
       "const CONTOUR_CONFIG = {\n",
       "  autocolorscale: false,\n",
       "  autocontour: true,\n",
       "  contours: {\n",
       "    coloring: 'heatmap',\n",
       "  },\n",
       "  hoverinfo: 'x+y+z',\n",
       "  ncontours: density / 2,\n",
       "  type: 'contour',\n",
       "  x: grid_x,\n",
       "  y: grid_y,\n",
       "};\n",
       "\n",
       "let f_scale;\n",
       "if (rel === true) {\n",
       "  f_scale = lower_is_better === true\n",
       "    ? GREEN_PINK_SCALE.reverse()\n",
       "    : GREEN_PINK_SCALE;\n",
       "} else {\n",
       "  f_scale = GREEN_SCALE;\n",
       "}\n",
       "\n",
       "const f_trace = {\n",
       "  colorbar: {\n",
       "    x: 0.45,\n",
       "    y: 0.5,\n",
       "    ticksuffix: rel === true ? '%' : '',\n",
       "    tickfont: {\n",
       "      size: 8,\n",
       "    },\n",
       "  },\n",
       "  colorscale: f_scale.map(\n",
       "    (v, i) => [i / (f_scale.length - 1), rgb(v)]\n",
       "  ),\n",
       "  xaxis: 'x',\n",
       "  yaxis: 'y',\n",
       "  z: f_plt,\n",
       "  // zmax and zmin are ignored if zauto is true\n",
       "  zauto: !rel,\n",
       "  zmax: f_absmax,\n",
       "  zmin: -f_absmax,\n",
       "};\n",
       "\n",
       "const sd_trace = {\n",
       "  colorbar: {\n",
       "      x: 1,\n",
       "      y: 0.5,\n",
       "      ticksuffix: rel === true ? '%' : '',\n",
       "      tickfont: {\n",
       "        size: 8,\n",
       "      },\n",
       "  },\n",
       "  colorscale: BLUE_SCALE.map(\n",
       "    (v, i) => [i / (BLUE_SCALE.length - 1), rgb(v)]\n",
       "  ),\n",
       "  xaxis: 'x2',\n",
       "  yaxis: 'y2',\n",
       "  z: sd_plt,\n",
       "};\n",
       "\n",
       "Object.keys(CONTOUR_CONFIG).forEach(key => {\n",
       "  f_trace[key] = CONTOUR_CONFIG[key];\n",
       "  sd_trace[key] = CONTOUR_CONFIG[key];\n",
       "});\n",
       "\n",
       "// get in-sample arms\n",
       "const arm_x = [];\n",
       "const arm_y = [];\n",
       "const arm_text = [];\n",
       "\n",
       "Object.keys(arm_data['in_sample']).forEach(arm_name => {\n",
       "  arm_x.push(arm_data['in_sample'][arm_name]['parameters'][xvar]);\n",
       "  arm_y.push(arm_data['in_sample'][arm_name]['parameters'][yvar]);\n",
       "  arm_text.push(arm_name);\n",
       "});\n",
       "\n",
       "// configs for in-sample arms\n",
       "const base_in_sample_arm_config = {\n",
       "  hoverinfo: 'text',\n",
       "  legendgroup: 'In-sample',\n",
       "  marker: {color: 'black', symbol: 1, opacity: 0.5},\n",
       "  mode: 'markers',\n",
       "  name: 'In-sample',\n",
       "  text: arm_text,\n",
       "  type: 'scatter',\n",
       "  x: arm_x,\n",
       "  y: arm_y,\n",
       "};\n",
       "\n",
       "const f_in_sample_arm_trace = {\n",
       "  xaxis: 'x',\n",
       "  yaxis: 'y',\n",
       "};\n",
       "\n",
       "const sd_in_sample_arm_trace = {\n",
       "  showlegend: false,\n",
       "  xaxis: 'x2',\n",
       "  yaxis: 'y2',\n",
       "};\n",
       "\n",
       "Object.keys(base_in_sample_arm_config).forEach(key => {\n",
       "  f_in_sample_arm_trace[key] = base_in_sample_arm_config[key];\n",
       "  sd_in_sample_arm_trace[key] = base_in_sample_arm_config[key];\n",
       "});\n",
       "\n",
       "const traces = [\n",
       "  f_trace,\n",
       "  sd_trace,\n",
       "  f_in_sample_arm_trace,\n",
       "  sd_in_sample_arm_trace,\n",
       "];\n",
       "\n",
       "// start symbol at 2 for candidate markers\n",
       "let i = 2;\n",
       "\n",
       "// iterate over out-of-sample arms\n",
       "Object.keys(arm_data['out_of_sample']).forEach(generator_run_name => {\n",
       "  const ax = [];\n",
       "  const ay = [];\n",
       "  const atext = [];\n",
       "\n",
       "  Object.keys(arm_data['out_of_sample'][generator_run_name]).forEach(arm_name => {\n",
       "    ax.push(\n",
       "      arm_data['out_of_sample'][generator_run_name][arm_name]['parameters'][xvar]\n",
       "    );\n",
       "    ay.push(\n",
       "      arm_data['out_of_sample'][generator_run_name][arm_name]['parameters'][yvar]\n",
       "    );\n",
       "    atext.push('<em>Candidate ' + arm_name + '</em>');\n",
       "  });\n",
       "\n",
       "  traces.push({\n",
       "    hoverinfo: 'text',\n",
       "    legendgroup: generator_run_name,\n",
       "    marker: {color: 'black', symbol: i, opacity: 0.5},\n",
       "    mode: 'markers',\n",
       "    name: generator_run_name,\n",
       "    text: atext,\n",
       "    type: 'scatter',\n",
       "    xaxis: 'x',\n",
       "    x: ax,\n",
       "    yaxis: 'y',\n",
       "    y: ay,\n",
       "  });\n",
       "  traces.push({\n",
       "    hoverinfo: 'text',\n",
       "    legendgroup: generator_run_name,\n",
       "    marker: {color: 'black', symbol: i, opacity: 0.5},\n",
       "    mode: 'markers',\n",
       "    name: 'In-sample',\n",
       "    showlegend: false,\n",
       "    text: atext,\n",
       "    type: 'scatter',\n",
       "    x: ax,\n",
       "    xaxis: 'x2',\n",
       "    y: ay,\n",
       "    yaxis: 'y2',\n",
       "  });\n",
       "  i += 1;\n",
       "});\n",
       "\n",
       "// layout\n",
       "const xrange = axis_range(grid_x, x_is_log);\n",
       "const yrange = axis_range(grid_y, y_is_log);\n",
       "\n",
       "const xtype = x_is_log ? 'log' : 'linear';\n",
       "const ytype = y_is_log ? 'log' : 'linear';\n",
       "\n",
       "const layout = {\n",
       "  autosize: false,\n",
       "    margin: {\n",
       "      l: 35,\n",
       "      r: 35,\n",
       "      t: 35,\n",
       "      b: 100,\n",
       "      pad: 0,\n",
       "  },\n",
       "  annotations: [\n",
       "    {\n",
       "      font: {size: 14},\n",
       "      showarrow: false,\n",
       "      text: 'Mean',\n",
       "      x: 0.25,\n",
       "      xanchor: 'center',\n",
       "      xref: 'paper',\n",
       "      y: 1,\n",
       "      yanchor: 'bottom',\n",
       "      yref: 'paper',\n",
       "    },\n",
       "    {\n",
       "      font: {size: 14},\n",
       "      showarrow: false,\n",
       "      text: 'Standard Error',\n",
       "      x: 0.8,\n",
       "      xanchor: 'center',\n",
       "      xref: 'paper',\n",
       "      y: 1,\n",
       "      yanchor: 'bottom',\n",
       "      yref: 'paper',\n",
       "    },\n",
       "  ],\n",
       "  hovermode: 'closest',\n",
       "  legend: {orientation: 'h', x: 0, y: -0.25},\n",
       "  height: 450,\n",
       "  width: 950,\n",
       "  xaxis: {\n",
       "    anchor: 'y',\n",
       "    autorange: false,\n",
       "    domain: [0.05, 0.45],\n",
       "    exponentformat: 'e',\n",
       "    range: xrange,\n",
       "    tickfont: {size: 11},\n",
       "    tickmode: 'auto',\n",
       "    title: xvar,\n",
       "    type: xtype,\n",
       "  },\n",
       "  xaxis2: {\n",
       "    anchor: 'y2',\n",
       "    autorange: false,\n",
       "    domain: [0.60, 1],\n",
       "    exponentformat: 'e',\n",
       "    range: xrange,\n",
       "    tickfont: {size: 11},\n",
       "    tickmode: 'auto',\n",
       "    title: xvar,\n",
       "    type: xtype,\n",
       "  },\n",
       "  yaxis: {\n",
       "    anchor: 'x',\n",
       "    autorange: false,\n",
       "    domain: [0, 1],\n",
       "    exponentformat: 'e',\n",
       "    range: yrange,\n",
       "    tickfont: {size: 11},\n",
       "    tickmode: 'auto',\n",
       "    title: yvar,\n",
       "    type: ytype,\n",
       "  },\n",
       "  yaxis2: {\n",
       "    anchor: 'x2',\n",
       "    autorange: false,\n",
       "    domain: [0, 1],\n",
       "    exponentformat: 'e',\n",
       "    range: yrange,\n",
       "    tickfont: {size: 11},\n",
       "    tickmode: 'auto',\n",
       "    type: ytype,\n",
       "  },\n",
       "};\n",
       "\n",
       "Plotly.newPlot(\"8fbfc22c6da04469a7fab7fcd609bda0\", traces, layout, {showLink: false});\n",
       "});</script>"
      ]
     },
     "metadata": {},
     "output_type": "display_data"
    }
   ],
   "source": [
    "render(plot_contour(model=model, param_x='lr', param_y='momentum', metric_name='accuracy'))"
   ]
  },
  {
   "cell_type": "markdown",
   "metadata": {},
   "source": [
    "## 5. Plot best objective as function of the iteration\n",
    "\n",
    "Show the model accuracy improving as we identify better hyperparameters."
   ]
  },
  {
   "cell_type": "code",
   "execution_count": 9,
   "metadata": {},
   "outputs": [
    {
     "data": {
      "text/html": [
       "<div id=\"b91b294231ad4785803bb822afd55a09\" style=\"width: 100%;\" class=\"plotly-graph-div\"></div><script type='text/javascript'>/*\n",
       " * Copyright (c) Facebook, Inc. and its affiliates. All Rights Reserved.\n",
       " */\n",
       "\n",
       "require(['plotly'], function(Plotly) {\n",
       "  window.PLOTLYENV = window.PLOTLYENV || {};\n",
       "  window.PLOTLYENV.BASE_URL = 'https://plot.ly';\n",
       "  /*\n",
       " * Copyright (c) Facebook, Inc. and its affiliates. All Rights Reserved.\n",
       " */\n",
       "\n",
       "Plotly.newPlot(\n",
       "  \"b91b294231ad4785803bb822afd55a09\",\n",
       "  [{\"hoverinfo\": \"none\", \"legendgroup\": \"\", \"line\": {\"width\": 0}, \"mode\": \"lines\", \"showlegend\": false, \"x\": [1, 2, 3, 4, 5, 6, 7, 8, 9, 10, 11, 12, 13, 14, 15, 16, 17, 18, 19, 20], \"y\": [92.08333333333333, 92.08333333333333, 92.08333333333333, 92.08333333333333, 92.08333333333333, 93.75, 93.75, 94.55, 94.55, 94.55, 94.55, 94.83333333333334, 94.83333333333334, 94.83333333333334, 94.83333333333334, 94.83333333333334, 94.83333333333334, 96.05, 96.05, 96.05], \"type\": \"scatter\"}, {\"fill\": \"tonexty\", \"fillcolor\": \"rgba(128,177,211,0.3)\", \"legendgroup\": \"mean\", \"line\": {\"color\": \"rgba(128,177,211,1)\"}, \"mode\": \"lines\", \"name\": \"mean\", \"x\": [1, 2, 3, 4, 5, 6, 7, 8, 9, 10, 11, 12, 13, 14, 15, 16, 17, 18, 19, 20], \"y\": [92.08333333333333, 92.08333333333333, 92.08333333333333, 92.08333333333333, 92.08333333333333, 93.75, 93.75, 94.55, 94.55, 94.55, 94.55, 94.83333333333334, 94.83333333333334, 94.83333333333334, 94.83333333333334, 94.83333333333334, 94.83333333333334, 96.05, 96.05, 96.05], \"type\": \"scatter\"}, {\"fill\": \"tonexty\", \"fillcolor\": \"rgba(128,177,211,0.3)\", \"hoverinfo\": \"none\", \"legendgroup\": \"\", \"line\": {\"width\": 0}, \"mode\": \"lines\", \"showlegend\": false, \"x\": [1, 2, 3, 4, 5, 6, 7, 8, 9, 10, 11, 12, 13, 14, 15, 16, 17, 18, 19, 20], \"y\": [92.08333333333333, 92.08333333333333, 92.08333333333333, 92.08333333333333, 92.08333333333333, 93.75, 93.75, 94.55, 94.55, 94.55, 94.55, 94.83333333333334, 94.83333333333334, 94.83333333333334, 94.83333333333334, 94.83333333333334, 94.83333333333334, 96.05, 96.05, 96.05], \"type\": \"scatter\"}],\n",
       "  {\"showlegend\": true, \"title\": {\"text\": \"Model performance vs. # of iterations\"}, \"xaxis\": {\"title\": {\"text\": \"Iteration\"}}, \"yaxis\": {\"title\": {\"text\": \"Classification Accuracy, %\"}}, \"template\": {\"data\": {\"barpolar\": [{\"marker\": {\"line\": {\"color\": \"#E5ECF6\", \"width\": 0.5}}, \"type\": \"barpolar\"}], \"bar\": [{\"error_x\": {\"color\": \"#2a3f5f\"}, \"error_y\": {\"color\": \"#2a3f5f\"}, \"marker\": {\"line\": {\"color\": \"#E5ECF6\", \"width\": 0.5}}, \"type\": \"bar\"}], \"carpet\": [{\"aaxis\": {\"endlinecolor\": \"#2a3f5f\", \"gridcolor\": \"white\", \"linecolor\": \"white\", \"minorgridcolor\": \"white\", \"startlinecolor\": \"#2a3f5f\"}, \"baxis\": {\"endlinecolor\": \"#2a3f5f\", \"gridcolor\": \"white\", \"linecolor\": \"white\", \"minorgridcolor\": \"white\", \"startlinecolor\": \"#2a3f5f\"}, \"type\": \"carpet\"}], \"choropleth\": [{\"colorbar\": {\"outlinewidth\": 0, \"ticks\": \"\"}, \"type\": \"choropleth\"}], \"contourcarpet\": [{\"colorbar\": {\"outlinewidth\": 0, \"ticks\": \"\"}, \"type\": \"contourcarpet\"}], \"contour\": [{\"colorbar\": {\"outlinewidth\": 0, \"ticks\": \"\"}, \"colorscale\": [[0.0, \"#0d0887\"], [0.1111111111111111, \"#46039f\"], [0.2222222222222222, \"#7201a8\"], [0.3333333333333333, \"#9c179e\"], [0.4444444444444444, \"#bd3786\"], [0.5555555555555556, \"#d8576b\"], [0.6666666666666666, \"#ed7953\"], [0.7777777777777778, \"#fb9f3a\"], [0.8888888888888888, \"#fdca26\"], [1.0, \"#f0f921\"]], \"type\": \"contour\"}], \"heatmapgl\": [{\"colorbar\": {\"outlinewidth\": 0, \"ticks\": \"\"}, \"colorscale\": [[0.0, \"#0d0887\"], [0.1111111111111111, \"#46039f\"], [0.2222222222222222, \"#7201a8\"], [0.3333333333333333, \"#9c179e\"], [0.4444444444444444, \"#bd3786\"], [0.5555555555555556, \"#d8576b\"], [0.6666666666666666, \"#ed7953\"], [0.7777777777777778, \"#fb9f3a\"], [0.8888888888888888, \"#fdca26\"], [1.0, \"#f0f921\"]], \"type\": \"heatmapgl\"}], \"heatmap\": [{\"colorbar\": {\"outlinewidth\": 0, \"ticks\": \"\"}, \"colorscale\": [[0.0, \"#0d0887\"], [0.1111111111111111, \"#46039f\"], [0.2222222222222222, \"#7201a8\"], [0.3333333333333333, \"#9c179e\"], [0.4444444444444444, \"#bd3786\"], [0.5555555555555556, \"#d8576b\"], [0.6666666666666666, \"#ed7953\"], [0.7777777777777778, \"#fb9f3a\"], [0.8888888888888888, \"#fdca26\"], [1.0, \"#f0f921\"]], \"type\": \"heatmap\"}], \"histogram2dcontour\": [{\"colorbar\": {\"outlinewidth\": 0, \"ticks\": \"\"}, \"colorscale\": [[0.0, \"#0d0887\"], [0.1111111111111111, \"#46039f\"], [0.2222222222222222, \"#7201a8\"], [0.3333333333333333, \"#9c179e\"], [0.4444444444444444, \"#bd3786\"], [0.5555555555555556, \"#d8576b\"], [0.6666666666666666, \"#ed7953\"], [0.7777777777777778, \"#fb9f3a\"], [0.8888888888888888, \"#fdca26\"], [1.0, \"#f0f921\"]], \"type\": \"histogram2dcontour\"}], \"histogram2d\": [{\"colorbar\": {\"outlinewidth\": 0, \"ticks\": \"\"}, \"colorscale\": [[0.0, \"#0d0887\"], [0.1111111111111111, \"#46039f\"], [0.2222222222222222, \"#7201a8\"], [0.3333333333333333, \"#9c179e\"], [0.4444444444444444, \"#bd3786\"], [0.5555555555555556, \"#d8576b\"], [0.6666666666666666, \"#ed7953\"], [0.7777777777777778, \"#fb9f3a\"], [0.8888888888888888, \"#fdca26\"], [1.0, \"#f0f921\"]], \"type\": \"histogram2d\"}], \"histogram\": [{\"marker\": {\"colorbar\": {\"outlinewidth\": 0, \"ticks\": \"\"}}, \"type\": \"histogram\"}], \"mesh3d\": [{\"colorbar\": {\"outlinewidth\": 0, \"ticks\": \"\"}, \"type\": \"mesh3d\"}], \"parcoords\": [{\"line\": {\"colorbar\": {\"outlinewidth\": 0, \"ticks\": \"\"}}, \"type\": \"parcoords\"}], \"scatter3d\": [{\"line\": {\"colorbar\": {\"outlinewidth\": 0, \"ticks\": \"\"}}, \"marker\": {\"colorbar\": {\"outlinewidth\": 0, \"ticks\": \"\"}}, \"type\": \"scatter3d\"}], \"scattercarpet\": [{\"marker\": {\"colorbar\": {\"outlinewidth\": 0, \"ticks\": \"\"}}, \"type\": \"scattercarpet\"}], \"scattergeo\": [{\"marker\": {\"colorbar\": {\"outlinewidth\": 0, \"ticks\": \"\"}}, \"type\": \"scattergeo\"}], \"scattergl\": [{\"marker\": {\"colorbar\": {\"outlinewidth\": 0, \"ticks\": \"\"}}, \"type\": \"scattergl\"}], \"scattermapbox\": [{\"marker\": {\"colorbar\": {\"outlinewidth\": 0, \"ticks\": \"\"}}, \"type\": \"scattermapbox\"}], \"scatterpolargl\": [{\"marker\": {\"colorbar\": {\"outlinewidth\": 0, \"ticks\": \"\"}}, \"type\": \"scatterpolargl\"}], \"scatterpolar\": [{\"marker\": {\"colorbar\": {\"outlinewidth\": 0, \"ticks\": \"\"}}, \"type\": \"scatterpolar\"}], \"scatter\": [{\"marker\": {\"colorbar\": {\"outlinewidth\": 0, \"ticks\": \"\"}}, \"type\": \"scatter\"}], \"scatterternary\": [{\"marker\": {\"colorbar\": {\"outlinewidth\": 0, \"ticks\": \"\"}}, \"type\": \"scatterternary\"}], \"surface\": [{\"colorbar\": {\"outlinewidth\": 0, \"ticks\": \"\"}, \"colorscale\": [[0.0, \"#0d0887\"], [0.1111111111111111, \"#46039f\"], [0.2222222222222222, \"#7201a8\"], [0.3333333333333333, \"#9c179e\"], [0.4444444444444444, \"#bd3786\"], [0.5555555555555556, \"#d8576b\"], [0.6666666666666666, \"#ed7953\"], [0.7777777777777778, \"#fb9f3a\"], [0.8888888888888888, \"#fdca26\"], [1.0, \"#f0f921\"]], \"type\": \"surface\"}], \"table\": [{\"cells\": {\"fill\": {\"color\": \"#EBF0F8\"}, \"line\": {\"color\": \"white\"}}, \"header\": {\"fill\": {\"color\": \"#C8D4E3\"}, \"line\": {\"color\": \"white\"}}, \"type\": \"table\"}]}, \"layout\": {\"annotationdefaults\": {\"arrowcolor\": \"#2a3f5f\", \"arrowhead\": 0, \"arrowwidth\": 1}, \"colorscale\": {\"diverging\": [[0, \"#8e0152\"], [0.1, \"#c51b7d\"], [0.2, \"#de77ae\"], [0.3, \"#f1b6da\"], [0.4, \"#fde0ef\"], [0.5, \"#f7f7f7\"], [0.6, \"#e6f5d0\"], [0.7, \"#b8e186\"], [0.8, \"#7fbc41\"], [0.9, \"#4d9221\"], [1, \"#276419\"]], \"sequential\": [[0.0, \"#0d0887\"], [0.1111111111111111, \"#46039f\"], [0.2222222222222222, \"#7201a8\"], [0.3333333333333333, \"#9c179e\"], [0.4444444444444444, \"#bd3786\"], [0.5555555555555556, \"#d8576b\"], [0.6666666666666666, \"#ed7953\"], [0.7777777777777778, \"#fb9f3a\"], [0.8888888888888888, \"#fdca26\"], [1.0, \"#f0f921\"]], \"sequentialminus\": [[0.0, \"#0d0887\"], [0.1111111111111111, \"#46039f\"], [0.2222222222222222, \"#7201a8\"], [0.3333333333333333, \"#9c179e\"], [0.4444444444444444, \"#bd3786\"], [0.5555555555555556, \"#d8576b\"], [0.6666666666666666, \"#ed7953\"], [0.7777777777777778, \"#fb9f3a\"], [0.8888888888888888, \"#fdca26\"], [1.0, \"#f0f921\"]]}, \"colorway\": [\"#636efa\", \"#EF553B\", \"#00cc96\", \"#ab63fa\", \"#FFA15A\", \"#19d3f3\", \"#FF6692\", \"#B6E880\", \"#FF97FF\", \"#FECB52\"], \"font\": {\"color\": \"#2a3f5f\"}, \"geo\": {\"bgcolor\": \"white\", \"lakecolor\": \"white\", \"landcolor\": \"#E5ECF6\", \"showlakes\": true, \"showland\": true, \"subunitcolor\": \"white\"}, \"hoverlabel\": {\"align\": \"left\"}, \"hovermode\": \"closest\", \"mapbox\": {\"style\": \"light\"}, \"paper_bgcolor\": \"white\", \"plot_bgcolor\": \"#E5ECF6\", \"polar\": {\"angularaxis\": {\"gridcolor\": \"white\", \"linecolor\": \"white\", \"ticks\": \"\"}, \"bgcolor\": \"#E5ECF6\", \"radialaxis\": {\"gridcolor\": \"white\", \"linecolor\": \"white\", \"ticks\": \"\"}}, \"scene\": {\"xaxis\": {\"backgroundcolor\": \"#E5ECF6\", \"gridcolor\": \"white\", \"gridwidth\": 2, \"linecolor\": \"white\", \"showbackground\": true, \"ticks\": \"\", \"zerolinecolor\": \"white\"}, \"yaxis\": {\"backgroundcolor\": \"#E5ECF6\", \"gridcolor\": \"white\", \"gridwidth\": 2, \"linecolor\": \"white\", \"showbackground\": true, \"ticks\": \"\", \"zerolinecolor\": \"white\"}, \"zaxis\": {\"backgroundcolor\": \"#E5ECF6\", \"gridcolor\": \"white\", \"gridwidth\": 2, \"linecolor\": \"white\", \"showbackground\": true, \"ticks\": \"\", \"zerolinecolor\": \"white\"}}, \"shapedefaults\": {\"line\": {\"color\": \"#2a3f5f\"}}, \"ternary\": {\"aaxis\": {\"gridcolor\": \"white\", \"linecolor\": \"white\", \"ticks\": \"\"}, \"baxis\": {\"gridcolor\": \"white\", \"linecolor\": \"white\", \"ticks\": \"\"}, \"bgcolor\": \"#E5ECF6\", \"caxis\": {\"gridcolor\": \"white\", \"linecolor\": \"white\", \"ticks\": \"\"}}, \"title\": {\"x\": 0.05}, \"xaxis\": {\"automargin\": true, \"gridcolor\": \"white\", \"linecolor\": \"white\", \"ticks\": \"\", \"zerolinecolor\": \"white\", \"zerolinewidth\": 2}, \"yaxis\": {\"automargin\": true, \"gridcolor\": \"white\", \"linecolor\": \"white\", \"ticks\": \"\", \"zerolinecolor\": \"white\", \"zerolinewidth\": 2}}}},\n",
       "  {\"showLink\": false}\n",
       ");\n",
       "});</script>"
      ]
     },
     "metadata": {},
     "output_type": "display_data"
    }
   ],
   "source": [
    "# `plot_single_method` expects a 2-d array of means, because it expects to average means from multiple \n",
    "# optimization runs, so we wrap out best objectives array in another array.\n",
    "best_objectives = np.array([[trial.objective_mean*100 for trial in experiment.trials.values()]])\n",
    "best_objective_plot = optimization_trace_single_method(\n",
    "    y=np.maximum.accumulate(best_objectives, axis=1),\n",
    "    title=\"Model performance vs. # of iterations\",\n",
    "    ylabel=\"Classification Accuracy, %\",\n",
    ")\n",
    "render(best_objective_plot)"
   ]
  },
  {
   "cell_type": "markdown",
   "metadata": {},
   "source": [
    "## 6. Train CNN with best hyperparameters and evaluate on test set\n",
    "Note that the resulting accuracy on the test set might not be exactly the same as the maximum accuracy achieved on the evaluation set throughout optimization. "
   ]
  },
  {
   "cell_type": "code",
   "execution_count": 10,
   "metadata": {},
   "outputs": [
    {
     "data": {
      "text/plain": [
       "Arm(name='17_0', parameters={'lr': 0.0009667122765750379, 'momentum': 0.8386405085975408})"
      ]
     },
     "execution_count": 10,
     "metadata": {},
     "output_type": "execute_result"
    }
   ],
   "source": [
    "data = experiment.fetch_data()\n",
    "df = data.df\n",
    "best_arm_name = df.arm_name[df['mean'] == df['mean'].max()].values[0]\n",
    "best_arm = experiment.arms_by_name[best_arm_name]\n",
    "best_arm"
   ]
  },
  {
   "cell_type": "code",
   "execution_count": 11,
   "metadata": {
    "collapsed": true
   },
   "outputs": [],
   "source": [
    "combined_train_valid_set = torch.utils.data.ConcatDataset([\n",
    "    train_loader.dataset.dataset, \n",
    "    valid_loader.dataset.dataset,\n",
    "])\n",
    "combined_train_valid_loader = torch.utils.data.DataLoader(\n",
    "    combined_train_valid_set, \n",
    "    batch_size=BATCH_SIZE, \n",
    "    shuffle=True,\n",
    ")"
   ]
  },
  {
   "cell_type": "code",
   "execution_count": 12,
   "metadata": {
    "collapsed": true
   },
   "outputs": [],
   "source": [
    "net = train(\n",
    "    net=CNN(),\n",
    "    train_loader=combined_train_valid_loader, \n",
    "    parameters=best_arm.parameters,\n",
    "    dtype=dtype,\n",
    "    device=device,\n",
    ")\n",
    "test_accuracy = evaluate(\n",
    "    net=net,\n",
    "    data_loader=test_loader,\n",
    "    dtype=dtype,\n",
    "    device=device,\n",
    ")"
   ]
  },
  {
   "cell_type": "code",
   "execution_count": 13,
   "metadata": {},
   "outputs": [
    {
     "name": "stdout",
     "output_type": "stream",
     "text": [
      "Classification Accuracy (test set): 97.24%\n"
     ]
    }
   ],
   "source": [
    "print(f\"Classification Accuracy (test set): {round(test_accuracy*100, 2)}%\")"
   ]
  },
  {
   "cell_type": "code",
   "execution_count": null,
   "metadata": {
    "collapsed": true
   },
   "outputs": [],
   "source": []
  }
 ],
 "metadata": {
  "kernelspec": {
   "display_name": "python3",
   "language": "python",
   "name": "python3"
  },
  "language_info": {
   "codemirror_mode": {
    "name": "ipython",
    "version": 3
   },
   "file_extension": ".py",
   "mimetype": "text/x-python",
   "name": "python",
   "nbconvert_exporter": "python",
   "pygments_lexer": "ipython3",
   "version": "3.6.7"
  }
 },
 "nbformat": 4,
 "nbformat_minor": 2
}
