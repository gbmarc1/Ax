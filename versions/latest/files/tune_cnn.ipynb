{
 "cells": [
  {
   "cell_type": "markdown",
   "metadata": {},
   "source": [
    "# Tune a CNN on MNIST\n",
    "\n",
    "This tutorial walks through using Ax to tune two hyperparameters (learning rate and momentum) for a PyTorch CNN on the MNIST dataset trained using SGD with momentum.\n"
   ]
  },
  {
   "cell_type": "code",
   "execution_count": 1,
   "metadata": {},
   "outputs": [
    {
     "data": {
      "text/html": [
       "<script type='text/javascript'>/*\n",
       " * Copyright (c) Facebook, Inc. and its affiliates. All Rights Reserved.\n",
       " */\n",
       "\n",
       "requirejs.config({\n",
       "  paths: {\n",
       "    plotly: ['https://cdn.plot.ly/plotly-latest.min'],\n",
       "  },\n",
       "});\n",
       "if (!window.Plotly) {\n",
       "  require(['plotly'], function(plotly) {\n",
       "    window.Plotly = plotly;\n",
       "  });\n",
       "}\n",
       "/*\n",
       " * Copyright (c) Facebook, Inc. and its affiliates. All Rights Reserved.\n",
       " */\n",
       "\n",
       "// helper functions used across multiple plots\n",
       "function rgb(rgb_array) {\n",
       "  return 'rgb(' + rgb_array.join() + ')';\n",
       "}\n",
       "\n",
       "function copy_and_reverse(arr) {\n",
       "  const copy = arr.slice();\n",
       "  copy.reverse();\n",
       "  return copy;\n",
       "}\n",
       "\n",
       "function axis_range(grid, is_log) {\n",
       "  return is_log ?\n",
       "    [Math.log10(Math.min(...grid)), Math.log10(Math.max(...grid))]:\n",
       "    [Math.min(...grid), Math.max(...grid)];\n",
       "}\n",
       "\n",
       "function relativize_data(f, sd, rel, arm_data, metric) {\n",
       "  // if relative, extract status quo & compute ratio\n",
       "  const f_final = rel === true ? [] : f;\n",
       "  const sd_final = rel === true ? []: sd;\n",
       "\n",
       "  if (rel === true) {\n",
       "    const f_sq = (\n",
       "      arm_data['in_sample'][arm_data['status_quo_name']]['y'][metric]\n",
       "    );\n",
       "    const sd_sq = (\n",
       "      arm_data['in_sample'][arm_data['status_quo_name']]['se'][metric]\n",
       "    );\n",
       "\n",
       "    for (let i = 0; i < f.length; i++) {\n",
       "      res = relativize(f[i], sd[i], f_sq, sd_sq);\n",
       "      f_final.push(100 * res[0]);\n",
       "      sd_final.push(100 * res[1]);\n",
       "    }\n",
       "  }\n",
       "\n",
       "  return [f_final, sd_final];\n",
       "}\n",
       "\n",
       "function relativize(m_t, sem_t, m_c, sem_c) {\n",
       "  r_hat = (\n",
       "    (m_t - m_c) / Math.abs(m_c) -\n",
       "    Math.pow(sem_c, 2) * m_t / Math.pow(Math.abs(m_c), 3)\n",
       "  );\n",
       "  variance = (\n",
       "    (Math.pow(sem_t, 2) + Math.pow((m_t / m_c * sem_c), 2)) /\n",
       "    Math.pow(m_c, 2)\n",
       "   )\n",
       "   return [r_hat, Math.sqrt(variance)];\n",
       "}\n",
       "</script>"
      ]
     },
     "metadata": {},
     "output_type": "display_data"
    },
    {
     "name": "stderr",
     "output_type": "stream",
     "text": [
      "[INFO 08-13 04:27:33] ipy_plotting: Injecting Plotly library into cell. Do not overwrite or delete cell.\n"
     ]
    }
   ],
   "source": [
    "import torch\n",
    "import numpy as np\n",
    "\n",
    "from ax.plot.contour import plot_contour\n",
    "from ax.plot.trace import optimization_trace_single_method\n",
    "from ax.service.managed_loop import optimize\n",
    "from ax.utils.notebook.plotting import render, init_notebook_plotting\n",
    "from ax.utils.tutorials.cnn_utils import load_mnist, train, evaluate, CNN\n",
    "\n",
    "init_notebook_plotting()"
   ]
  },
  {
   "cell_type": "code",
   "execution_count": 2,
   "metadata": {
    "collapsed": true
   },
   "outputs": [],
   "source": [
    "torch.manual_seed(12345)\n",
    "dtype = torch.float\n",
    "device = torch.device(\"cuda\" if torch.cuda.is_available() else \"cpu\")"
   ]
  },
  {
   "cell_type": "markdown",
   "metadata": {},
   "source": [
    "## 1. Load MNIST data\n",
    "First, we need to load the MNIST data and partition it into training, validation, and test sets.\n",
    "\n",
    "Note: this will download the dataset if necessary."
   ]
  },
  {
   "cell_type": "code",
   "execution_count": 3,
   "metadata": {
    "scrolled": true
   },
   "outputs": [
    {
     "name": "stderr",
     "output_type": "stream",
     "text": [
      "\r",
      "0.0%"
     ]
    },
    {
     "name": "stderr",
     "output_type": "stream",
     "text": [
      "\r",
      "0.1%"
     ]
    },
    {
     "name": "stdout",
     "output_type": "stream",
     "text": [
      "Downloading http://yann.lecun.com/exdb/mnist/train-images-idx3-ubyte.gz to ./data/MNIST/raw/train-images-idx3-ubyte.gz\n"
     ]
    },
    {
     "name": "stderr",
     "output_type": "stream",
     "text": [
      "\r",
      "0.2%"
     ]
    },
    {
     "name": "stderr",
     "output_type": "stream",
     "text": [
      "\r",
      "0.2%"
     ]
    },
    {
     "name": "stderr",
     "output_type": "stream",
     "text": [
      "\r",
      "0.3%"
     ]
    },
    {
     "name": "stderr",
     "output_type": "stream",
     "text": [
      "\r",
      "0.4%"
     ]
    },
    {
     "name": "stderr",
     "output_type": "stream",
     "text": [
      "\r",
      "0.5%"
     ]
    },
    {
     "name": "stderr",
     "output_type": "stream",
     "text": [
      "\r",
      "0.6%"
     ]
    },
    {
     "name": "stderr",
     "output_type": "stream",
     "text": [
      "\r",
      "0.7%"
     ]
    },
    {
     "name": "stderr",
     "output_type": "stream",
     "text": [
      "\r",
      "0.7%"
     ]
    },
    {
     "name": "stderr",
     "output_type": "stream",
     "text": [
      "\r",
      "0.8%"
     ]
    },
    {
     "name": "stderr",
     "output_type": "stream",
     "text": [
      "\r",
      "0.9%"
     ]
    },
    {
     "name": "stderr",
     "output_type": "stream",
     "text": [
      "\r",
      "1.0%"
     ]
    },
    {
     "name": "stderr",
     "output_type": "stream",
     "text": [
      "\r",
      "1.1%"
     ]
    },
    {
     "name": "stderr",
     "output_type": "stream",
     "text": [
      "\r",
      "1.2%"
     ]
    },
    {
     "name": "stderr",
     "output_type": "stream",
     "text": [
      "\r",
      "1.2%"
     ]
    },
    {
     "name": "stderr",
     "output_type": "stream",
     "text": [
      "\r",
      "1.3%"
     ]
    },
    {
     "name": "stderr",
     "output_type": "stream",
     "text": [
      "\r",
      "1.4%"
     ]
    },
    {
     "name": "stderr",
     "output_type": "stream",
     "text": [
      "\r",
      "1.5%"
     ]
    },
    {
     "name": "stderr",
     "output_type": "stream",
     "text": [
      "\r",
      "1.6%"
     ]
    },
    {
     "name": "stderr",
     "output_type": "stream",
     "text": [
      "\r",
      "1.7%"
     ]
    },
    {
     "name": "stderr",
     "output_type": "stream",
     "text": [
      "\r",
      "1.7%"
     ]
    },
    {
     "name": "stderr",
     "output_type": "stream",
     "text": [
      "\r",
      "1.8%"
     ]
    },
    {
     "name": "stderr",
     "output_type": "stream",
     "text": [
      "\r",
      "1.9%"
     ]
    },
    {
     "name": "stderr",
     "output_type": "stream",
     "text": [
      "\r",
      "2.0%"
     ]
    },
    {
     "name": "stderr",
     "output_type": "stream",
     "text": [
      "\r",
      "2.1%"
     ]
    },
    {
     "name": "stderr",
     "output_type": "stream",
     "text": [
      "\r",
      "2.1%"
     ]
    },
    {
     "name": "stderr",
     "output_type": "stream",
     "text": [
      "\r",
      "2.2%"
     ]
    },
    {
     "name": "stderr",
     "output_type": "stream",
     "text": [
      "\r",
      "2.3%"
     ]
    },
    {
     "name": "stderr",
     "output_type": "stream",
     "text": [
      "\r",
      "2.4%"
     ]
    },
    {
     "name": "stderr",
     "output_type": "stream",
     "text": [
      "\r",
      "2.5%"
     ]
    },
    {
     "name": "stderr",
     "output_type": "stream",
     "text": [
      "\r",
      "2.6%"
     ]
    },
    {
     "name": "stderr",
     "output_type": "stream",
     "text": [
      "\r",
      "2.6%"
     ]
    },
    {
     "name": "stderr",
     "output_type": "stream",
     "text": [
      "\r",
      "2.7%"
     ]
    },
    {
     "name": "stderr",
     "output_type": "stream",
     "text": [
      "\r",
      "2.8%"
     ]
    },
    {
     "name": "stderr",
     "output_type": "stream",
     "text": [
      "\r",
      "2.9%"
     ]
    },
    {
     "name": "stderr",
     "output_type": "stream",
     "text": [
      "\r",
      "3.0%"
     ]
    },
    {
     "name": "stderr",
     "output_type": "stream",
     "text": [
      "\r",
      "3.1%"
     ]
    },
    {
     "name": "stderr",
     "output_type": "stream",
     "text": [
      "\r",
      "3.1%"
     ]
    },
    {
     "name": "stderr",
     "output_type": "stream",
     "text": [
      "\r",
      "3.2%"
     ]
    },
    {
     "name": "stderr",
     "output_type": "stream",
     "text": [
      "\r",
      "3.3%"
     ]
    },
    {
     "name": "stderr",
     "output_type": "stream",
     "text": [
      "\r",
      "3.4%"
     ]
    },
    {
     "name": "stderr",
     "output_type": "stream",
     "text": [
      "\r",
      "3.5%"
     ]
    },
    {
     "name": "stderr",
     "output_type": "stream",
     "text": [
      "\r",
      "3.6%"
     ]
    },
    {
     "name": "stderr",
     "output_type": "stream",
     "text": [
      "\r",
      "3.6%"
     ]
    },
    {
     "name": "stderr",
     "output_type": "stream",
     "text": [
      "\r",
      "3.7%"
     ]
    },
    {
     "name": "stderr",
     "output_type": "stream",
     "text": [
      "\r",
      "3.8%"
     ]
    },
    {
     "name": "stderr",
     "output_type": "stream",
     "text": [
      "\r",
      "3.9%"
     ]
    },
    {
     "name": "stderr",
     "output_type": "stream",
     "text": [
      "\r",
      "4.0%"
     ]
    },
    {
     "name": "stderr",
     "output_type": "stream",
     "text": [
      "\r",
      "4.0%"
     ]
    },
    {
     "name": "stderr",
     "output_type": "stream",
     "text": [
      "\r",
      "4.1%"
     ]
    },
    {
     "name": "stderr",
     "output_type": "stream",
     "text": [
      "\r",
      "4.2%"
     ]
    },
    {
     "name": "stderr",
     "output_type": "stream",
     "text": [
      "\r",
      "4.3%"
     ]
    },
    {
     "name": "stderr",
     "output_type": "stream",
     "text": [
      "\r",
      "4.4%"
     ]
    },
    {
     "name": "stderr",
     "output_type": "stream",
     "text": [
      "\r",
      "4.5%"
     ]
    },
    {
     "name": "stderr",
     "output_type": "stream",
     "text": [
      "\r",
      "4.5%"
     ]
    },
    {
     "name": "stderr",
     "output_type": "stream",
     "text": [
      "\r",
      "4.6%"
     ]
    },
    {
     "name": "stderr",
     "output_type": "stream",
     "text": [
      "\r",
      "4.7%"
     ]
    },
    {
     "name": "stderr",
     "output_type": "stream",
     "text": [
      "\r",
      "4.8%"
     ]
    },
    {
     "name": "stderr",
     "output_type": "stream",
     "text": [
      "\r",
      "4.9%"
     ]
    },
    {
     "name": "stderr",
     "output_type": "stream",
     "text": [
      "\r",
      "5.0%"
     ]
    },
    {
     "name": "stderr",
     "output_type": "stream",
     "text": [
      "\r",
      "5.0%"
     ]
    },
    {
     "name": "stderr",
     "output_type": "stream",
     "text": [
      "\r",
      "5.1%"
     ]
    },
    {
     "name": "stderr",
     "output_type": "stream",
     "text": [
      "\r",
      "5.2%"
     ]
    },
    {
     "name": "stderr",
     "output_type": "stream",
     "text": [
      "\r",
      "5.3%"
     ]
    },
    {
     "name": "stderr",
     "output_type": "stream",
     "text": [
      "\r",
      "5.4%"
     ]
    },
    {
     "name": "stderr",
     "output_type": "stream",
     "text": [
      "\r",
      "5.5%"
     ]
    },
    {
     "name": "stderr",
     "output_type": "stream",
     "text": [
      "\r",
      "5.5%"
     ]
    },
    {
     "name": "stderr",
     "output_type": "stream",
     "text": [
      "\r",
      "5.6%"
     ]
    },
    {
     "name": "stderr",
     "output_type": "stream",
     "text": [
      "\r",
      "5.7%"
     ]
    },
    {
     "name": "stderr",
     "output_type": "stream",
     "text": [
      "\r",
      "5.8%"
     ]
    },
    {
     "name": "stderr",
     "output_type": "stream",
     "text": [
      "\r",
      "5.9%"
     ]
    },
    {
     "name": "stderr",
     "output_type": "stream",
     "text": [
      "\r",
      "6.0%"
     ]
    },
    {
     "name": "stderr",
     "output_type": "stream",
     "text": [
      "\r",
      "6.0%"
     ]
    },
    {
     "name": "stderr",
     "output_type": "stream",
     "text": [
      "\r",
      "6.1%"
     ]
    },
    {
     "name": "stderr",
     "output_type": "stream",
     "text": [
      "\r",
      "6.2%"
     ]
    },
    {
     "name": "stderr",
     "output_type": "stream",
     "text": [
      "\r",
      "6.3%"
     ]
    },
    {
     "name": "stderr",
     "output_type": "stream",
     "text": [
      "\r",
      "6.4%"
     ]
    },
    {
     "name": "stderr",
     "output_type": "stream",
     "text": [
      "\r",
      "6.4%"
     ]
    },
    {
     "name": "stderr",
     "output_type": "stream",
     "text": [
      "\r",
      "6.5%"
     ]
    },
    {
     "name": "stderr",
     "output_type": "stream",
     "text": [
      "\r",
      "6.6%"
     ]
    },
    {
     "name": "stderr",
     "output_type": "stream",
     "text": [
      "\r",
      "6.7%"
     ]
    },
    {
     "name": "stderr",
     "output_type": "stream",
     "text": [
      "\r",
      "6.8%"
     ]
    },
    {
     "name": "stderr",
     "output_type": "stream",
     "text": [
      "\r",
      "6.9%"
     ]
    },
    {
     "name": "stderr",
     "output_type": "stream",
     "text": [
      "\r",
      "6.9%"
     ]
    },
    {
     "name": "stderr",
     "output_type": "stream",
     "text": [
      "\r",
      "7.0%"
     ]
    },
    {
     "name": "stderr",
     "output_type": "stream",
     "text": [
      "\r",
      "7.1%"
     ]
    },
    {
     "name": "stderr",
     "output_type": "stream",
     "text": [
      "\r",
      "7.2%"
     ]
    },
    {
     "name": "stderr",
     "output_type": "stream",
     "text": [
      "\r",
      "7.3%"
     ]
    },
    {
     "name": "stderr",
     "output_type": "stream",
     "text": [
      "\r",
      "7.4%"
     ]
    },
    {
     "name": "stderr",
     "output_type": "stream",
     "text": [
      "\r",
      "7.4%"
     ]
    },
    {
     "name": "stderr",
     "output_type": "stream",
     "text": [
      "\r",
      "7.5%"
     ]
    },
    {
     "name": "stderr",
     "output_type": "stream",
     "text": [
      "\r",
      "7.6%"
     ]
    },
    {
     "name": "stderr",
     "output_type": "stream",
     "text": [
      "\r",
      "7.7%"
     ]
    },
    {
     "name": "stderr",
     "output_type": "stream",
     "text": [
      "\r",
      "7.8%"
     ]
    },
    {
     "name": "stderr",
     "output_type": "stream",
     "text": [
      "\r",
      "7.9%"
     ]
    },
    {
     "name": "stderr",
     "output_type": "stream",
     "text": [
      "\r",
      "7.9%"
     ]
    },
    {
     "name": "stderr",
     "output_type": "stream",
     "text": [
      "\r",
      "8.0%"
     ]
    },
    {
     "name": "stderr",
     "output_type": "stream",
     "text": [
      "\r",
      "8.1%"
     ]
    },
    {
     "name": "stderr",
     "output_type": "stream",
     "text": [
      "\r",
      "8.2%"
     ]
    },
    {
     "name": "stderr",
     "output_type": "stream",
     "text": [
      "\r",
      "8.3%"
     ]
    },
    {
     "name": "stderr",
     "output_type": "stream",
     "text": [
      "\r",
      "8.3%"
     ]
    },
    {
     "name": "stderr",
     "output_type": "stream",
     "text": [
      "\r",
      "8.4%"
     ]
    },
    {
     "name": "stderr",
     "output_type": "stream",
     "text": [
      "\r",
      "8.5%"
     ]
    },
    {
     "name": "stderr",
     "output_type": "stream",
     "text": [
      "\r",
      "8.6%"
     ]
    },
    {
     "name": "stderr",
     "output_type": "stream",
     "text": [
      "\r",
      "8.7%"
     ]
    },
    {
     "name": "stderr",
     "output_type": "stream",
     "text": [
      "\r",
      "8.8%"
     ]
    },
    {
     "name": "stderr",
     "output_type": "stream",
     "text": [
      "\r",
      "8.8%"
     ]
    },
    {
     "name": "stderr",
     "output_type": "stream",
     "text": [
      "\r",
      "8.9%"
     ]
    },
    {
     "name": "stderr",
     "output_type": "stream",
     "text": [
      "\r",
      "9.0%"
     ]
    },
    {
     "name": "stderr",
     "output_type": "stream",
     "text": [
      "\r",
      "9.1%"
     ]
    },
    {
     "name": "stderr",
     "output_type": "stream",
     "text": [
      "\r",
      "9.2%"
     ]
    },
    {
     "name": "stderr",
     "output_type": "stream",
     "text": [
      "\r",
      "9.3%"
     ]
    },
    {
     "name": "stderr",
     "output_type": "stream",
     "text": [
      "\r",
      "9.3%"
     ]
    },
    {
     "name": "stderr",
     "output_type": "stream",
     "text": [
      "\r",
      "9.4%"
     ]
    },
    {
     "name": "stderr",
     "output_type": "stream",
     "text": [
      "\r",
      "9.5%"
     ]
    },
    {
     "name": "stderr",
     "output_type": "stream",
     "text": [
      "\r",
      "9.6%"
     ]
    },
    {
     "name": "stderr",
     "output_type": "stream",
     "text": [
      "\r",
      "9.7%"
     ]
    },
    {
     "name": "stderr",
     "output_type": "stream",
     "text": [
      "\r",
      "9.8%"
     ]
    },
    {
     "name": "stderr",
     "output_type": "stream",
     "text": [
      "\r",
      "9.8%"
     ]
    },
    {
     "name": "stderr",
     "output_type": "stream",
     "text": [
      "\r",
      "9.9%"
     ]
    },
    {
     "name": "stderr",
     "output_type": "stream",
     "text": [
      "\r",
      "10.0%"
     ]
    },
    {
     "name": "stderr",
     "output_type": "stream",
     "text": [
      "\r",
      "10.1%"
     ]
    },
    {
     "name": "stderr",
     "output_type": "stream",
     "text": [
      "\r",
      "10.2%"
     ]
    },
    {
     "name": "stderr",
     "output_type": "stream",
     "text": [
      "\r",
      "10.2%"
     ]
    },
    {
     "name": "stderr",
     "output_type": "stream",
     "text": [
      "\r",
      "10.3%"
     ]
    },
    {
     "name": "stderr",
     "output_type": "stream",
     "text": [
      "\r",
      "10.4%"
     ]
    },
    {
     "name": "stderr",
     "output_type": "stream",
     "text": [
      "\r",
      "10.5%"
     ]
    },
    {
     "name": "stderr",
     "output_type": "stream",
     "text": [
      "\r",
      "10.6%"
     ]
    },
    {
     "name": "stderr",
     "output_type": "stream",
     "text": [
      "\r",
      "10.7%"
     ]
    },
    {
     "name": "stderr",
     "output_type": "stream",
     "text": [
      "\r",
      "10.7%"
     ]
    },
    {
     "name": "stderr",
     "output_type": "stream",
     "text": [
      "\r",
      "10.8%"
     ]
    },
    {
     "name": "stderr",
     "output_type": "stream",
     "text": [
      "\r",
      "10.9%"
     ]
    },
    {
     "name": "stderr",
     "output_type": "stream",
     "text": [
      "\r",
      "11.0%"
     ]
    },
    {
     "name": "stderr",
     "output_type": "stream",
     "text": [
      "\r",
      "11.1%"
     ]
    },
    {
     "name": "stderr",
     "output_type": "stream",
     "text": [
      "\r",
      "11.2%"
     ]
    },
    {
     "name": "stderr",
     "output_type": "stream",
     "text": [
      "\r",
      "11.2%"
     ]
    },
    {
     "name": "stderr",
     "output_type": "stream",
     "text": [
      "\r",
      "11.3%"
     ]
    },
    {
     "name": "stderr",
     "output_type": "stream",
     "text": [
      "\r",
      "11.4%"
     ]
    },
    {
     "name": "stderr",
     "output_type": "stream",
     "text": [
      "\r",
      "11.5%"
     ]
    },
    {
     "name": "stderr",
     "output_type": "stream",
     "text": [
      "\r",
      "11.6%"
     ]
    },
    {
     "name": "stderr",
     "output_type": "stream",
     "text": [
      "\r",
      "11.7%"
     ]
    },
    {
     "name": "stderr",
     "output_type": "stream",
     "text": [
      "\r",
      "11.7%"
     ]
    },
    {
     "name": "stderr",
     "output_type": "stream",
     "text": [
      "\r",
      "11.8%"
     ]
    },
    {
     "name": "stderr",
     "output_type": "stream",
     "text": [
      "\r",
      "11.9%"
     ]
    },
    {
     "name": "stderr",
     "output_type": "stream",
     "text": [
      "\r",
      "12.0%"
     ]
    },
    {
     "name": "stderr",
     "output_type": "stream",
     "text": [
      "\r",
      "12.1%"
     ]
    },
    {
     "name": "stderr",
     "output_type": "stream",
     "text": [
      "\r",
      "12.1%"
     ]
    },
    {
     "name": "stderr",
     "output_type": "stream",
     "text": [
      "\r",
      "12.2%"
     ]
    },
    {
     "name": "stderr",
     "output_type": "stream",
     "text": [
      "\r",
      "12.3%"
     ]
    },
    {
     "name": "stderr",
     "output_type": "stream",
     "text": [
      "\r",
      "12.4%"
     ]
    },
    {
     "name": "stderr",
     "output_type": "stream",
     "text": [
      "\r",
      "12.5%"
     ]
    },
    {
     "name": "stderr",
     "output_type": "stream",
     "text": [
      "\r",
      "12.6%"
     ]
    },
    {
     "name": "stderr",
     "output_type": "stream",
     "text": [
      "\r",
      "12.6%"
     ]
    },
    {
     "name": "stderr",
     "output_type": "stream",
     "text": [
      "\r",
      "12.7%"
     ]
    },
    {
     "name": "stderr",
     "output_type": "stream",
     "text": [
      "\r",
      "12.8%"
     ]
    },
    {
     "name": "stderr",
     "output_type": "stream",
     "text": [
      "\r",
      "12.9%"
     ]
    },
    {
     "name": "stderr",
     "output_type": "stream",
     "text": [
      "\r",
      "13.0%"
     ]
    },
    {
     "name": "stderr",
     "output_type": "stream",
     "text": [
      "\r",
      "13.1%"
     ]
    },
    {
     "name": "stderr",
     "output_type": "stream",
     "text": [
      "\r",
      "13.1%"
     ]
    },
    {
     "name": "stderr",
     "output_type": "stream",
     "text": [
      "\r",
      "13.2%"
     ]
    },
    {
     "name": "stderr",
     "output_type": "stream",
     "text": [
      "\r",
      "13.3%"
     ]
    },
    {
     "name": "stderr",
     "output_type": "stream",
     "text": [
      "\r",
      "13.4%"
     ]
    },
    {
     "name": "stderr",
     "output_type": "stream",
     "text": [
      "\r",
      "13.5%"
     ]
    },
    {
     "name": "stderr",
     "output_type": "stream",
     "text": [
      "\r",
      "13.6%"
     ]
    },
    {
     "name": "stderr",
     "output_type": "stream",
     "text": [
      "\r",
      "13.6%"
     ]
    },
    {
     "name": "stderr",
     "output_type": "stream",
     "text": [
      "\r",
      "13.7%"
     ]
    },
    {
     "name": "stderr",
     "output_type": "stream",
     "text": [
      "\r",
      "13.8%"
     ]
    },
    {
     "name": "stderr",
     "output_type": "stream",
     "text": [
      "\r",
      "13.9%"
     ]
    },
    {
     "name": "stderr",
     "output_type": "stream",
     "text": [
      "\r",
      "14.0%"
     ]
    },
    {
     "name": "stderr",
     "output_type": "stream",
     "text": [
      "\r",
      "14.0%"
     ]
    },
    {
     "name": "stderr",
     "output_type": "stream",
     "text": [
      "\r",
      "14.1%"
     ]
    },
    {
     "name": "stderr",
     "output_type": "stream",
     "text": [
      "\r",
      "14.2%"
     ]
    },
    {
     "name": "stderr",
     "output_type": "stream",
     "text": [
      "\r",
      "14.3%"
     ]
    },
    {
     "name": "stderr",
     "output_type": "stream",
     "text": [
      "\r",
      "14.4%"
     ]
    },
    {
     "name": "stderr",
     "output_type": "stream",
     "text": [
      "\r",
      "14.5%"
     ]
    },
    {
     "name": "stderr",
     "output_type": "stream",
     "text": [
      "\r",
      "14.5%"
     ]
    },
    {
     "name": "stderr",
     "output_type": "stream",
     "text": [
      "\r",
      "14.6%"
     ]
    },
    {
     "name": "stderr",
     "output_type": "stream",
     "text": [
      "\r",
      "14.7%"
     ]
    },
    {
     "name": "stderr",
     "output_type": "stream",
     "text": [
      "\r",
      "14.8%"
     ]
    },
    {
     "name": "stderr",
     "output_type": "stream",
     "text": [
      "\r",
      "14.9%"
     ]
    },
    {
     "name": "stderr",
     "output_type": "stream",
     "text": [
      "\r",
      "15.0%"
     ]
    },
    {
     "name": "stderr",
     "output_type": "stream",
     "text": [
      "\r",
      "15.0%"
     ]
    },
    {
     "name": "stderr",
     "output_type": "stream",
     "text": [
      "\r",
      "15.1%"
     ]
    },
    {
     "name": "stderr",
     "output_type": "stream",
     "text": [
      "\r",
      "15.2%"
     ]
    },
    {
     "name": "stderr",
     "output_type": "stream",
     "text": [
      "\r",
      "15.3%"
     ]
    },
    {
     "name": "stderr",
     "output_type": "stream",
     "text": [
      "\r",
      "15.4%"
     ]
    },
    {
     "name": "stderr",
     "output_type": "stream",
     "text": [
      "\r",
      "15.5%"
     ]
    },
    {
     "name": "stderr",
     "output_type": "stream",
     "text": [
      "\r",
      "15.5%"
     ]
    },
    {
     "name": "stderr",
     "output_type": "stream",
     "text": [
      "\r",
      "15.6%"
     ]
    },
    {
     "name": "stderr",
     "output_type": "stream",
     "text": [
      "\r",
      "15.7%"
     ]
    },
    {
     "name": "stderr",
     "output_type": "stream",
     "text": [
      "\r",
      "15.8%"
     ]
    },
    {
     "name": "stderr",
     "output_type": "stream",
     "text": [
      "\r",
      "15.9%"
     ]
    },
    {
     "name": "stderr",
     "output_type": "stream",
     "text": [
      "\r",
      "16.0%"
     ]
    },
    {
     "name": "stderr",
     "output_type": "stream",
     "text": [
      "\r",
      "16.0%"
     ]
    },
    {
     "name": "stderr",
     "output_type": "stream",
     "text": [
      "\r",
      "16.1%"
     ]
    },
    {
     "name": "stderr",
     "output_type": "stream",
     "text": [
      "\r",
      "16.2%"
     ]
    },
    {
     "name": "stderr",
     "output_type": "stream",
     "text": [
      "\r",
      "16.3%"
     ]
    },
    {
     "name": "stderr",
     "output_type": "stream",
     "text": [
      "\r",
      "16.4%"
     ]
    },
    {
     "name": "stderr",
     "output_type": "stream",
     "text": [
      "\r",
      "16.4%"
     ]
    },
    {
     "name": "stderr",
     "output_type": "stream",
     "text": [
      "\r",
      "16.5%"
     ]
    },
    {
     "name": "stderr",
     "output_type": "stream",
     "text": [
      "\r",
      "16.6%"
     ]
    },
    {
     "name": "stderr",
     "output_type": "stream",
     "text": [
      "\r",
      "16.7%"
     ]
    },
    {
     "name": "stderr",
     "output_type": "stream",
     "text": [
      "\r",
      "16.8%"
     ]
    },
    {
     "name": "stderr",
     "output_type": "stream",
     "text": [
      "\r",
      "16.9%"
     ]
    },
    {
     "name": "stderr",
     "output_type": "stream",
     "text": [
      "\r",
      "16.9%"
     ]
    },
    {
     "name": "stderr",
     "output_type": "stream",
     "text": [
      "\r",
      "17.0%"
     ]
    },
    {
     "name": "stderr",
     "output_type": "stream",
     "text": [
      "\r",
      "17.1%"
     ]
    },
    {
     "name": "stderr",
     "output_type": "stream",
     "text": [
      "\r",
      "17.2%"
     ]
    },
    {
     "name": "stderr",
     "output_type": "stream",
     "text": [
      "\r",
      "17.3%"
     ]
    },
    {
     "name": "stderr",
     "output_type": "stream",
     "text": [
      "\r",
      "17.4%"
     ]
    },
    {
     "name": "stderr",
     "output_type": "stream",
     "text": [
      "\r",
      "17.4%"
     ]
    },
    {
     "name": "stderr",
     "output_type": "stream",
     "text": [
      "\r",
      "17.5%"
     ]
    },
    {
     "name": "stderr",
     "output_type": "stream",
     "text": [
      "\r",
      "17.6%"
     ]
    },
    {
     "name": "stderr",
     "output_type": "stream",
     "text": [
      "\r",
      "17.7%"
     ]
    },
    {
     "name": "stderr",
     "output_type": "stream",
     "text": [
      "\r",
      "17.8%"
     ]
    },
    {
     "name": "stderr",
     "output_type": "stream",
     "text": [
      "\r",
      "17.9%"
     ]
    },
    {
     "name": "stderr",
     "output_type": "stream",
     "text": [
      "\r",
      "17.9%"
     ]
    },
    {
     "name": "stderr",
     "output_type": "stream",
     "text": [
      "\r",
      "18.0%"
     ]
    },
    {
     "name": "stderr",
     "output_type": "stream",
     "text": [
      "\r",
      "18.1%"
     ]
    },
    {
     "name": "stderr",
     "output_type": "stream",
     "text": [
      "\r",
      "18.2%"
     ]
    },
    {
     "name": "stderr",
     "output_type": "stream",
     "text": [
      "\r",
      "18.3%"
     ]
    },
    {
     "name": "stderr",
     "output_type": "stream",
     "text": [
      "\r",
      "18.3%"
     ]
    },
    {
     "name": "stderr",
     "output_type": "stream",
     "text": [
      "\r",
      "18.4%"
     ]
    },
    {
     "name": "stderr",
     "output_type": "stream",
     "text": [
      "\r",
      "18.5%"
     ]
    },
    {
     "name": "stderr",
     "output_type": "stream",
     "text": [
      "\r",
      "18.6%"
     ]
    },
    {
     "name": "stderr",
     "output_type": "stream",
     "text": [
      "\r",
      "18.7%"
     ]
    },
    {
     "name": "stderr",
     "output_type": "stream",
     "text": [
      "\r",
      "18.8%"
     ]
    },
    {
     "name": "stderr",
     "output_type": "stream",
     "text": [
      "\r",
      "18.8%"
     ]
    },
    {
     "name": "stderr",
     "output_type": "stream",
     "text": [
      "\r",
      "18.9%"
     ]
    },
    {
     "name": "stderr",
     "output_type": "stream",
     "text": [
      "\r",
      "19.0%"
     ]
    },
    {
     "name": "stderr",
     "output_type": "stream",
     "text": [
      "\r",
      "19.1%"
     ]
    },
    {
     "name": "stderr",
     "output_type": "stream",
     "text": [
      "\r",
      "19.2%"
     ]
    },
    {
     "name": "stderr",
     "output_type": "stream",
     "text": [
      "\r",
      "19.3%"
     ]
    },
    {
     "name": "stderr",
     "output_type": "stream",
     "text": [
      "\r",
      "19.3%"
     ]
    },
    {
     "name": "stderr",
     "output_type": "stream",
     "text": [
      "\r",
      "19.4%"
     ]
    },
    {
     "name": "stderr",
     "output_type": "stream",
     "text": [
      "\r",
      "19.5%"
     ]
    },
    {
     "name": "stderr",
     "output_type": "stream",
     "text": [
      "\r",
      "19.6%"
     ]
    },
    {
     "name": "stderr",
     "output_type": "stream",
     "text": [
      "\r",
      "19.7%"
     ]
    },
    {
     "name": "stderr",
     "output_type": "stream",
     "text": [
      "\r",
      "19.8%"
     ]
    },
    {
     "name": "stderr",
     "output_type": "stream",
     "text": [
      "\r",
      "19.8%"
     ]
    },
    {
     "name": "stderr",
     "output_type": "stream",
     "text": [
      "\r",
      "19.9%"
     ]
    },
    {
     "name": "stderr",
     "output_type": "stream",
     "text": [
      "\r",
      "20.0%"
     ]
    },
    {
     "name": "stderr",
     "output_type": "stream",
     "text": [
      "\r",
      "20.1%"
     ]
    },
    {
     "name": "stderr",
     "output_type": "stream",
     "text": [
      "\r",
      "20.2%"
     ]
    },
    {
     "name": "stderr",
     "output_type": "stream",
     "text": [
      "\r",
      "20.2%"
     ]
    },
    {
     "name": "stderr",
     "output_type": "stream",
     "text": [
      "\r",
      "20.3%"
     ]
    },
    {
     "name": "stderr",
     "output_type": "stream",
     "text": [
      "\r",
      "20.4%"
     ]
    },
    {
     "name": "stderr",
     "output_type": "stream",
     "text": [
      "\r",
      "20.5%"
     ]
    },
    {
     "name": "stderr",
     "output_type": "stream",
     "text": [
      "\r",
      "20.6%"
     ]
    },
    {
     "name": "stderr",
     "output_type": "stream",
     "text": [
      "\r",
      "20.7%"
     ]
    },
    {
     "name": "stderr",
     "output_type": "stream",
     "text": [
      "\r",
      "20.7%"
     ]
    },
    {
     "name": "stderr",
     "output_type": "stream",
     "text": [
      "\r",
      "20.8%"
     ]
    },
    {
     "name": "stderr",
     "output_type": "stream",
     "text": [
      "\r",
      "20.9%"
     ]
    },
    {
     "name": "stderr",
     "output_type": "stream",
     "text": [
      "\r",
      "21.0%"
     ]
    },
    {
     "name": "stderr",
     "output_type": "stream",
     "text": [
      "\r",
      "21.1%"
     ]
    },
    {
     "name": "stderr",
     "output_type": "stream",
     "text": [
      "\r",
      "21.2%"
     ]
    },
    {
     "name": "stderr",
     "output_type": "stream",
     "text": [
      "\r",
      "21.2%"
     ]
    },
    {
     "name": "stderr",
     "output_type": "stream",
     "text": [
      "\r",
      "21.3%"
     ]
    },
    {
     "name": "stderr",
     "output_type": "stream",
     "text": [
      "\r",
      "21.4%"
     ]
    },
    {
     "name": "stderr",
     "output_type": "stream",
     "text": [
      "\r",
      "21.5%"
     ]
    },
    {
     "name": "stderr",
     "output_type": "stream",
     "text": [
      "\r",
      "21.6%"
     ]
    },
    {
     "name": "stderr",
     "output_type": "stream",
     "text": [
      "\r",
      "21.7%"
     ]
    },
    {
     "name": "stderr",
     "output_type": "stream",
     "text": [
      "\r",
      "21.7%"
     ]
    },
    {
     "name": "stderr",
     "output_type": "stream",
     "text": [
      "\r",
      "21.8%"
     ]
    },
    {
     "name": "stderr",
     "output_type": "stream",
     "text": [
      "\r",
      "21.9%"
     ]
    },
    {
     "name": "stderr",
     "output_type": "stream",
     "text": [
      "\r",
      "22.0%"
     ]
    },
    {
     "name": "stderr",
     "output_type": "stream",
     "text": [
      "\r",
      "22.1%"
     ]
    },
    {
     "name": "stderr",
     "output_type": "stream",
     "text": [
      "\r",
      "22.1%"
     ]
    },
    {
     "name": "stderr",
     "output_type": "stream",
     "text": [
      "\r",
      "22.2%"
     ]
    },
    {
     "name": "stderr",
     "output_type": "stream",
     "text": [
      "\r",
      "22.3%"
     ]
    },
    {
     "name": "stderr",
     "output_type": "stream",
     "text": [
      "\r",
      "22.4%"
     ]
    },
    {
     "name": "stderr",
     "output_type": "stream",
     "text": [
      "\r",
      "22.5%"
     ]
    },
    {
     "name": "stderr",
     "output_type": "stream",
     "text": [
      "\r",
      "22.6%"
     ]
    },
    {
     "name": "stderr",
     "output_type": "stream",
     "text": [
      "\r",
      "22.6%"
     ]
    },
    {
     "name": "stderr",
     "output_type": "stream",
     "text": [
      "\r",
      "22.7%"
     ]
    },
    {
     "name": "stderr",
     "output_type": "stream",
     "text": [
      "\r",
      "22.8%"
     ]
    },
    {
     "name": "stderr",
     "output_type": "stream",
     "text": [
      "\r",
      "22.9%"
     ]
    },
    {
     "name": "stderr",
     "output_type": "stream",
     "text": [
      "\r",
      "23.0%"
     ]
    },
    {
     "name": "stderr",
     "output_type": "stream",
     "text": [
      "\r",
      "23.1%"
     ]
    },
    {
     "name": "stderr",
     "output_type": "stream",
     "text": [
      "\r",
      "23.1%"
     ]
    },
    {
     "name": "stderr",
     "output_type": "stream",
     "text": [
      "\r",
      "23.2%"
     ]
    },
    {
     "name": "stderr",
     "output_type": "stream",
     "text": [
      "\r",
      "23.3%"
     ]
    },
    {
     "name": "stderr",
     "output_type": "stream",
     "text": [
      "\r",
      "23.4%"
     ]
    },
    {
     "name": "stderr",
     "output_type": "stream",
     "text": [
      "\r",
      "23.5%"
     ]
    },
    {
     "name": "stderr",
     "output_type": "stream",
     "text": [
      "\r",
      "23.6%"
     ]
    },
    {
     "name": "stderr",
     "output_type": "stream",
     "text": [
      "\r",
      "23.6%"
     ]
    },
    {
     "name": "stderr",
     "output_type": "stream",
     "text": [
      "\r",
      "23.7%"
     ]
    },
    {
     "name": "stderr",
     "output_type": "stream",
     "text": [
      "\r",
      "23.8%"
     ]
    },
    {
     "name": "stderr",
     "output_type": "stream",
     "text": [
      "\r",
      "23.9%"
     ]
    },
    {
     "name": "stderr",
     "output_type": "stream",
     "text": [
      "\r",
      "24.0%"
     ]
    },
    {
     "name": "stderr",
     "output_type": "stream",
     "text": [
      "\r",
      "24.0%"
     ]
    },
    {
     "name": "stderr",
     "output_type": "stream",
     "text": [
      "\r",
      "24.1%"
     ]
    },
    {
     "name": "stderr",
     "output_type": "stream",
     "text": [
      "\r",
      "24.2%"
     ]
    },
    {
     "name": "stderr",
     "output_type": "stream",
     "text": [
      "\r",
      "24.3%"
     ]
    },
    {
     "name": "stderr",
     "output_type": "stream",
     "text": [
      "\r",
      "24.4%"
     ]
    },
    {
     "name": "stderr",
     "output_type": "stream",
     "text": [
      "\r",
      "24.5%"
     ]
    },
    {
     "name": "stderr",
     "output_type": "stream",
     "text": [
      "\r",
      "24.5%"
     ]
    },
    {
     "name": "stderr",
     "output_type": "stream",
     "text": [
      "\r",
      "24.6%"
     ]
    },
    {
     "name": "stderr",
     "output_type": "stream",
     "text": [
      "\r",
      "24.7%"
     ]
    },
    {
     "name": "stderr",
     "output_type": "stream",
     "text": [
      "\r",
      "24.8%"
     ]
    },
    {
     "name": "stderr",
     "output_type": "stream",
     "text": [
      "\r",
      "24.9%"
     ]
    },
    {
     "name": "stderr",
     "output_type": "stream",
     "text": [
      "\r",
      "25.0%"
     ]
    },
    {
     "name": "stderr",
     "output_type": "stream",
     "text": [
      "\r",
      "25.0%"
     ]
    },
    {
     "name": "stderr",
     "output_type": "stream",
     "text": [
      "\r",
      "25.1%"
     ]
    },
    {
     "name": "stderr",
     "output_type": "stream",
     "text": [
      "\r",
      "25.2%"
     ]
    },
    {
     "name": "stderr",
     "output_type": "stream",
     "text": [
      "\r",
      "25.3%"
     ]
    },
    {
     "name": "stderr",
     "output_type": "stream",
     "text": [
      "\r",
      "25.4%"
     ]
    },
    {
     "name": "stderr",
     "output_type": "stream",
     "text": [
      "\r",
      "25.5%"
     ]
    },
    {
     "name": "stderr",
     "output_type": "stream",
     "text": [
      "\r",
      "25.5%"
     ]
    },
    {
     "name": "stderr",
     "output_type": "stream",
     "text": [
      "\r",
      "25.6%"
     ]
    },
    {
     "name": "stderr",
     "output_type": "stream",
     "text": [
      "\r",
      "25.7%"
     ]
    },
    {
     "name": "stderr",
     "output_type": "stream",
     "text": [
      "\r",
      "25.8%"
     ]
    },
    {
     "name": "stderr",
     "output_type": "stream",
     "text": [
      "\r",
      "25.9%"
     ]
    },
    {
     "name": "stderr",
     "output_type": "stream",
     "text": [
      "\r",
      "26.0%"
     ]
    },
    {
     "name": "stderr",
     "output_type": "stream",
     "text": [
      "\r",
      "26.0%"
     ]
    },
    {
     "name": "stderr",
     "output_type": "stream",
     "text": [
      "\r",
      "26.1%"
     ]
    },
    {
     "name": "stderr",
     "output_type": "stream",
     "text": [
      "\r",
      "26.2%"
     ]
    },
    {
     "name": "stderr",
     "output_type": "stream",
     "text": [
      "\r",
      "26.3%"
     ]
    },
    {
     "name": "stderr",
     "output_type": "stream",
     "text": [
      "\r",
      "26.4%"
     ]
    },
    {
     "name": "stderr",
     "output_type": "stream",
     "text": [
      "\r",
      "26.4%"
     ]
    },
    {
     "name": "stderr",
     "output_type": "stream",
     "text": [
      "\r",
      "26.5%"
     ]
    },
    {
     "name": "stderr",
     "output_type": "stream",
     "text": [
      "\r",
      "26.6%"
     ]
    },
    {
     "name": "stderr",
     "output_type": "stream",
     "text": [
      "\r",
      "26.7%"
     ]
    },
    {
     "name": "stderr",
     "output_type": "stream",
     "text": [
      "\r",
      "26.8%"
     ]
    },
    {
     "name": "stderr",
     "output_type": "stream",
     "text": [
      "\r",
      "26.9%"
     ]
    },
    {
     "name": "stderr",
     "output_type": "stream",
     "text": [
      "\r",
      "26.9%"
     ]
    },
    {
     "name": "stderr",
     "output_type": "stream",
     "text": [
      "\r",
      "27.0%"
     ]
    },
    {
     "name": "stderr",
     "output_type": "stream",
     "text": [
      "\r",
      "27.1%"
     ]
    },
    {
     "name": "stderr",
     "output_type": "stream",
     "text": [
      "\r",
      "27.2%"
     ]
    },
    {
     "name": "stderr",
     "output_type": "stream",
     "text": [
      "\r",
      "27.3%"
     ]
    },
    {
     "name": "stderr",
     "output_type": "stream",
     "text": [
      "\r",
      "27.4%"
     ]
    },
    {
     "name": "stderr",
     "output_type": "stream",
     "text": [
      "\r",
      "27.4%"
     ]
    },
    {
     "name": "stderr",
     "output_type": "stream",
     "text": [
      "\r",
      "27.5%"
     ]
    },
    {
     "name": "stderr",
     "output_type": "stream",
     "text": [
      "\r",
      "27.6%"
     ]
    },
    {
     "name": "stderr",
     "output_type": "stream",
     "text": [
      "\r",
      "27.7%"
     ]
    },
    {
     "name": "stderr",
     "output_type": "stream",
     "text": [
      "\r",
      "27.8%"
     ]
    },
    {
     "name": "stderr",
     "output_type": "stream",
     "text": [
      "\r",
      "27.9%"
     ]
    },
    {
     "name": "stderr",
     "output_type": "stream",
     "text": [
      "\r",
      "27.9%"
     ]
    },
    {
     "name": "stderr",
     "output_type": "stream",
     "text": [
      "\r",
      "28.0%"
     ]
    },
    {
     "name": "stderr",
     "output_type": "stream",
     "text": [
      "\r",
      "28.1%"
     ]
    },
    {
     "name": "stderr",
     "output_type": "stream",
     "text": [
      "\r",
      "28.2%"
     ]
    },
    {
     "name": "stderr",
     "output_type": "stream",
     "text": [
      "\r",
      "28.3%"
     ]
    },
    {
     "name": "stderr",
     "output_type": "stream",
     "text": [
      "\r",
      "28.3%"
     ]
    },
    {
     "name": "stderr",
     "output_type": "stream",
     "text": [
      "\r",
      "28.4%"
     ]
    },
    {
     "name": "stderr",
     "output_type": "stream",
     "text": [
      "\r",
      "28.5%"
     ]
    },
    {
     "name": "stderr",
     "output_type": "stream",
     "text": [
      "\r",
      "28.6%"
     ]
    },
    {
     "name": "stderr",
     "output_type": "stream",
     "text": [
      "\r",
      "28.7%"
     ]
    },
    {
     "name": "stderr",
     "output_type": "stream",
     "text": [
      "\r",
      "28.8%"
     ]
    },
    {
     "name": "stderr",
     "output_type": "stream",
     "text": [
      "\r",
      "28.8%"
     ]
    },
    {
     "name": "stderr",
     "output_type": "stream",
     "text": [
      "\r",
      "28.9%"
     ]
    },
    {
     "name": "stderr",
     "output_type": "stream",
     "text": [
      "\r",
      "29.0%"
     ]
    },
    {
     "name": "stderr",
     "output_type": "stream",
     "text": [
      "\r",
      "29.1%"
     ]
    },
    {
     "name": "stderr",
     "output_type": "stream",
     "text": [
      "\r",
      "29.2%"
     ]
    },
    {
     "name": "stderr",
     "output_type": "stream",
     "text": [
      "\r",
      "29.3%"
     ]
    },
    {
     "name": "stderr",
     "output_type": "stream",
     "text": [
      "\r",
      "29.3%"
     ]
    },
    {
     "name": "stderr",
     "output_type": "stream",
     "text": [
      "\r",
      "29.4%"
     ]
    },
    {
     "name": "stderr",
     "output_type": "stream",
     "text": [
      "\r",
      "29.5%"
     ]
    },
    {
     "name": "stderr",
     "output_type": "stream",
     "text": [
      "\r",
      "29.6%"
     ]
    },
    {
     "name": "stderr",
     "output_type": "stream",
     "text": [
      "\r",
      "29.7%"
     ]
    },
    {
     "name": "stderr",
     "output_type": "stream",
     "text": [
      "\r",
      "29.8%"
     ]
    },
    {
     "name": "stderr",
     "output_type": "stream",
     "text": [
      "\r",
      "29.8%"
     ]
    },
    {
     "name": "stderr",
     "output_type": "stream",
     "text": [
      "\r",
      "29.9%"
     ]
    },
    {
     "name": "stderr",
     "output_type": "stream",
     "text": [
      "\r",
      "30.0%"
     ]
    },
    {
     "name": "stderr",
     "output_type": "stream",
     "text": [
      "\r",
      "30.1%"
     ]
    },
    {
     "name": "stderr",
     "output_type": "stream",
     "text": [
      "\r",
      "30.2%"
     ]
    },
    {
     "name": "stderr",
     "output_type": "stream",
     "text": [
      "\r",
      "30.2%"
     ]
    },
    {
     "name": "stderr",
     "output_type": "stream",
     "text": [
      "\r",
      "30.3%"
     ]
    },
    {
     "name": "stderr",
     "output_type": "stream",
     "text": [
      "\r",
      "30.4%"
     ]
    },
    {
     "name": "stderr",
     "output_type": "stream",
     "text": [
      "\r",
      "30.5%"
     ]
    },
    {
     "name": "stderr",
     "output_type": "stream",
     "text": [
      "\r",
      "30.6%"
     ]
    },
    {
     "name": "stderr",
     "output_type": "stream",
     "text": [
      "\r",
      "30.7%"
     ]
    },
    {
     "name": "stderr",
     "output_type": "stream",
     "text": [
      "\r",
      "30.7%"
     ]
    },
    {
     "name": "stderr",
     "output_type": "stream",
     "text": [
      "\r",
      "30.8%"
     ]
    },
    {
     "name": "stderr",
     "output_type": "stream",
     "text": [
      "\r",
      "30.9%"
     ]
    },
    {
     "name": "stderr",
     "output_type": "stream",
     "text": [
      "\r",
      "31.0%"
     ]
    },
    {
     "name": "stderr",
     "output_type": "stream",
     "text": [
      "\r",
      "31.1%"
     ]
    },
    {
     "name": "stderr",
     "output_type": "stream",
     "text": [
      "\r",
      "31.2%"
     ]
    },
    {
     "name": "stderr",
     "output_type": "stream",
     "text": [
      "\r",
      "31.2%"
     ]
    },
    {
     "name": "stderr",
     "output_type": "stream",
     "text": [
      "\r",
      "31.3%"
     ]
    },
    {
     "name": "stderr",
     "output_type": "stream",
     "text": [
      "\r",
      "31.4%"
     ]
    },
    {
     "name": "stderr",
     "output_type": "stream",
     "text": [
      "\r",
      "31.5%"
     ]
    },
    {
     "name": "stderr",
     "output_type": "stream",
     "text": [
      "\r",
      "31.6%"
     ]
    },
    {
     "name": "stderr",
     "output_type": "stream",
     "text": [
      "\r",
      "31.7%"
     ]
    },
    {
     "name": "stderr",
     "output_type": "stream",
     "text": [
      "\r",
      "31.7%"
     ]
    },
    {
     "name": "stderr",
     "output_type": "stream",
     "text": [
      "\r",
      "31.8%"
     ]
    },
    {
     "name": "stderr",
     "output_type": "stream",
     "text": [
      "\r",
      "31.9%"
     ]
    },
    {
     "name": "stderr",
     "output_type": "stream",
     "text": [
      "\r",
      "32.0%"
     ]
    },
    {
     "name": "stderr",
     "output_type": "stream",
     "text": [
      "\r",
      "32.1%"
     ]
    },
    {
     "name": "stderr",
     "output_type": "stream",
     "text": [
      "\r",
      "32.1%"
     ]
    },
    {
     "name": "stderr",
     "output_type": "stream",
     "text": [
      "\r",
      "32.2%"
     ]
    },
    {
     "name": "stderr",
     "output_type": "stream",
     "text": [
      "\r",
      "32.3%"
     ]
    },
    {
     "name": "stderr",
     "output_type": "stream",
     "text": [
      "\r",
      "32.4%"
     ]
    },
    {
     "name": "stderr",
     "output_type": "stream",
     "text": [
      "\r",
      "32.5%"
     ]
    },
    {
     "name": "stderr",
     "output_type": "stream",
     "text": [
      "\r",
      "32.6%"
     ]
    },
    {
     "name": "stderr",
     "output_type": "stream",
     "text": [
      "\r",
      "32.6%"
     ]
    },
    {
     "name": "stderr",
     "output_type": "stream",
     "text": [
      "\r",
      "32.7%"
     ]
    },
    {
     "name": "stderr",
     "output_type": "stream",
     "text": [
      "\r",
      "32.8%"
     ]
    },
    {
     "name": "stderr",
     "output_type": "stream",
     "text": [
      "\r",
      "32.9%"
     ]
    },
    {
     "name": "stderr",
     "output_type": "stream",
     "text": [
      "\r",
      "33.0%"
     ]
    },
    {
     "name": "stderr",
     "output_type": "stream",
     "text": [
      "\r",
      "33.1%"
     ]
    },
    {
     "name": "stderr",
     "output_type": "stream",
     "text": [
      "\r",
      "33.1%"
     ]
    },
    {
     "name": "stderr",
     "output_type": "stream",
     "text": [
      "\r",
      "33.2%"
     ]
    },
    {
     "name": "stderr",
     "output_type": "stream",
     "text": [
      "\r",
      "33.3%"
     ]
    },
    {
     "name": "stderr",
     "output_type": "stream",
     "text": [
      "\r",
      "33.4%"
     ]
    },
    {
     "name": "stderr",
     "output_type": "stream",
     "text": [
      "\r",
      "33.5%"
     ]
    },
    {
     "name": "stderr",
     "output_type": "stream",
     "text": [
      "\r",
      "33.6%"
     ]
    },
    {
     "name": "stderr",
     "output_type": "stream",
     "text": [
      "\r",
      "33.6%"
     ]
    },
    {
     "name": "stderr",
     "output_type": "stream",
     "text": [
      "\r",
      "33.7%"
     ]
    },
    {
     "name": "stderr",
     "output_type": "stream",
     "text": [
      "\r",
      "33.8%"
     ]
    },
    {
     "name": "stderr",
     "output_type": "stream",
     "text": [
      "\r",
      "33.9%"
     ]
    },
    {
     "name": "stderr",
     "output_type": "stream",
     "text": [
      "\r",
      "34.0%"
     ]
    },
    {
     "name": "stderr",
     "output_type": "stream",
     "text": [
      "\r",
      "34.0%"
     ]
    },
    {
     "name": "stderr",
     "output_type": "stream",
     "text": [
      "\r",
      "34.1%"
     ]
    },
    {
     "name": "stderr",
     "output_type": "stream",
     "text": [
      "\r",
      "34.2%"
     ]
    },
    {
     "name": "stderr",
     "output_type": "stream",
     "text": [
      "\r",
      "34.3%"
     ]
    },
    {
     "name": "stderr",
     "output_type": "stream",
     "text": [
      "\r",
      "34.4%"
     ]
    },
    {
     "name": "stderr",
     "output_type": "stream",
     "text": [
      "\r",
      "34.5%"
     ]
    },
    {
     "name": "stderr",
     "output_type": "stream",
     "text": [
      "\r",
      "34.5%"
     ]
    },
    {
     "name": "stderr",
     "output_type": "stream",
     "text": [
      "\r",
      "34.6%"
     ]
    },
    {
     "name": "stderr",
     "output_type": "stream",
     "text": [
      "\r",
      "34.7%"
     ]
    },
    {
     "name": "stderr",
     "output_type": "stream",
     "text": [
      "\r",
      "34.8%"
     ]
    },
    {
     "name": "stderr",
     "output_type": "stream",
     "text": [
      "\r",
      "34.9%"
     ]
    },
    {
     "name": "stderr",
     "output_type": "stream",
     "text": [
      "\r",
      "35.0%"
     ]
    },
    {
     "name": "stderr",
     "output_type": "stream",
     "text": [
      "\r",
      "35.0%"
     ]
    },
    {
     "name": "stderr",
     "output_type": "stream",
     "text": [
      "\r",
      "35.1%"
     ]
    },
    {
     "name": "stderr",
     "output_type": "stream",
     "text": [
      "\r",
      "35.2%"
     ]
    },
    {
     "name": "stderr",
     "output_type": "stream",
     "text": [
      "\r",
      "35.3%"
     ]
    },
    {
     "name": "stderr",
     "output_type": "stream",
     "text": [
      "\r",
      "35.4%"
     ]
    },
    {
     "name": "stderr",
     "output_type": "stream",
     "text": [
      "\r",
      "35.5%"
     ]
    },
    {
     "name": "stderr",
     "output_type": "stream",
     "text": [
      "\r",
      "35.5%"
     ]
    },
    {
     "name": "stderr",
     "output_type": "stream",
     "text": [
      "\r",
      "35.6%"
     ]
    },
    {
     "name": "stderr",
     "output_type": "stream",
     "text": [
      "\r",
      "35.7%"
     ]
    },
    {
     "name": "stderr",
     "output_type": "stream",
     "text": [
      "\r",
      "35.8%"
     ]
    },
    {
     "name": "stderr",
     "output_type": "stream",
     "text": [
      "\r",
      "35.9%"
     ]
    },
    {
     "name": "stderr",
     "output_type": "stream",
     "text": [
      "\r",
      "36.0%"
     ]
    },
    {
     "name": "stderr",
     "output_type": "stream",
     "text": [
      "\r",
      "36.0%"
     ]
    },
    {
     "name": "stderr",
     "output_type": "stream",
     "text": [
      "\r",
      "36.1%"
     ]
    },
    {
     "name": "stderr",
     "output_type": "stream",
     "text": [
      "\r",
      "36.2%"
     ]
    },
    {
     "name": "stderr",
     "output_type": "stream",
     "text": [
      "\r",
      "36.3%"
     ]
    },
    {
     "name": "stderr",
     "output_type": "stream",
     "text": [
      "\r",
      "36.4%"
     ]
    },
    {
     "name": "stderr",
     "output_type": "stream",
     "text": [
      "\r",
      "36.4%"
     ]
    },
    {
     "name": "stderr",
     "output_type": "stream",
     "text": [
      "\r",
      "36.5%"
     ]
    },
    {
     "name": "stderr",
     "output_type": "stream",
     "text": [
      "\r",
      "36.6%"
     ]
    },
    {
     "name": "stderr",
     "output_type": "stream",
     "text": [
      "\r",
      "36.7%"
     ]
    },
    {
     "name": "stderr",
     "output_type": "stream",
     "text": [
      "\r",
      "36.8%"
     ]
    },
    {
     "name": "stderr",
     "output_type": "stream",
     "text": [
      "\r",
      "36.9%"
     ]
    },
    {
     "name": "stderr",
     "output_type": "stream",
     "text": [
      "\r",
      "36.9%"
     ]
    },
    {
     "name": "stderr",
     "output_type": "stream",
     "text": [
      "\r",
      "37.0%"
     ]
    },
    {
     "name": "stderr",
     "output_type": "stream",
     "text": [
      "\r",
      "37.1%"
     ]
    },
    {
     "name": "stderr",
     "output_type": "stream",
     "text": [
      "\r",
      "37.2%"
     ]
    },
    {
     "name": "stderr",
     "output_type": "stream",
     "text": [
      "\r",
      "37.3%"
     ]
    },
    {
     "name": "stderr",
     "output_type": "stream",
     "text": [
      "\r",
      "37.4%"
     ]
    },
    {
     "name": "stderr",
     "output_type": "stream",
     "text": [
      "\r",
      "37.4%"
     ]
    },
    {
     "name": "stderr",
     "output_type": "stream",
     "text": [
      "\r",
      "37.5%"
     ]
    },
    {
     "name": "stderr",
     "output_type": "stream",
     "text": [
      "\r",
      "37.6%"
     ]
    },
    {
     "name": "stderr",
     "output_type": "stream",
     "text": [
      "\r",
      "37.7%"
     ]
    },
    {
     "name": "stderr",
     "output_type": "stream",
     "text": [
      "\r",
      "37.8%"
     ]
    },
    {
     "name": "stderr",
     "output_type": "stream",
     "text": [
      "\r",
      "37.9%"
     ]
    },
    {
     "name": "stderr",
     "output_type": "stream",
     "text": [
      "\r",
      "37.9%"
     ]
    },
    {
     "name": "stderr",
     "output_type": "stream",
     "text": [
      "\r",
      "38.0%"
     ]
    },
    {
     "name": "stderr",
     "output_type": "stream",
     "text": [
      "\r",
      "38.1%"
     ]
    },
    {
     "name": "stderr",
     "output_type": "stream",
     "text": [
      "\r",
      "38.2%"
     ]
    },
    {
     "name": "stderr",
     "output_type": "stream",
     "text": [
      "\r",
      "38.3%"
     ]
    },
    {
     "name": "stderr",
     "output_type": "stream",
     "text": [
      "\r",
      "38.3%"
     ]
    },
    {
     "name": "stderr",
     "output_type": "stream",
     "text": [
      "\r",
      "38.4%"
     ]
    },
    {
     "name": "stderr",
     "output_type": "stream",
     "text": [
      "\r",
      "38.5%"
     ]
    },
    {
     "name": "stderr",
     "output_type": "stream",
     "text": [
      "\r",
      "38.6%"
     ]
    },
    {
     "name": "stderr",
     "output_type": "stream",
     "text": [
      "\r",
      "38.7%"
     ]
    },
    {
     "name": "stderr",
     "output_type": "stream",
     "text": [
      "\r",
      "38.8%"
     ]
    },
    {
     "name": "stderr",
     "output_type": "stream",
     "text": [
      "\r",
      "38.8%"
     ]
    },
    {
     "name": "stderr",
     "output_type": "stream",
     "text": [
      "\r",
      "38.9%"
     ]
    },
    {
     "name": "stderr",
     "output_type": "stream",
     "text": [
      "\r",
      "39.0%"
     ]
    },
    {
     "name": "stderr",
     "output_type": "stream",
     "text": [
      "\r",
      "39.1%"
     ]
    },
    {
     "name": "stderr",
     "output_type": "stream",
     "text": [
      "\r",
      "39.2%"
     ]
    },
    {
     "name": "stderr",
     "output_type": "stream",
     "text": [
      "\r",
      "39.3%"
     ]
    },
    {
     "name": "stderr",
     "output_type": "stream",
     "text": [
      "\r",
      "39.3%"
     ]
    },
    {
     "name": "stderr",
     "output_type": "stream",
     "text": [
      "\r",
      "39.4%"
     ]
    },
    {
     "name": "stderr",
     "output_type": "stream",
     "text": [
      "\r",
      "39.5%"
     ]
    },
    {
     "name": "stderr",
     "output_type": "stream",
     "text": [
      "\r",
      "39.6%"
     ]
    },
    {
     "name": "stderr",
     "output_type": "stream",
     "text": [
      "\r",
      "39.7%"
     ]
    },
    {
     "name": "stderr",
     "output_type": "stream",
     "text": [
      "\r",
      "39.8%"
     ]
    },
    {
     "name": "stderr",
     "output_type": "stream",
     "text": [
      "\r",
      "39.8%"
     ]
    },
    {
     "name": "stderr",
     "output_type": "stream",
     "text": [
      "\r",
      "39.9%"
     ]
    },
    {
     "name": "stderr",
     "output_type": "stream",
     "text": [
      "\r",
      "40.0%"
     ]
    },
    {
     "name": "stderr",
     "output_type": "stream",
     "text": [
      "\r",
      "40.1%"
     ]
    },
    {
     "name": "stderr",
     "output_type": "stream",
     "text": [
      "\r",
      "40.2%"
     ]
    },
    {
     "name": "stderr",
     "output_type": "stream",
     "text": [
      "\r",
      "40.2%"
     ]
    },
    {
     "name": "stderr",
     "output_type": "stream",
     "text": [
      "\r",
      "40.3%"
     ]
    },
    {
     "name": "stderr",
     "output_type": "stream",
     "text": [
      "\r",
      "40.4%"
     ]
    },
    {
     "name": "stderr",
     "output_type": "stream",
     "text": [
      "\r",
      "40.5%"
     ]
    },
    {
     "name": "stderr",
     "output_type": "stream",
     "text": [
      "\r",
      "40.6%"
     ]
    },
    {
     "name": "stderr",
     "output_type": "stream",
     "text": [
      "\r",
      "40.7%"
     ]
    },
    {
     "name": "stderr",
     "output_type": "stream",
     "text": [
      "\r",
      "40.7%"
     ]
    },
    {
     "name": "stderr",
     "output_type": "stream",
     "text": [
      "\r",
      "40.8%"
     ]
    },
    {
     "name": "stderr",
     "output_type": "stream",
     "text": [
      "\r",
      "40.9%"
     ]
    },
    {
     "name": "stderr",
     "output_type": "stream",
     "text": [
      "\r",
      "41.0%"
     ]
    },
    {
     "name": "stderr",
     "output_type": "stream",
     "text": [
      "\r",
      "41.1%"
     ]
    },
    {
     "name": "stderr",
     "output_type": "stream",
     "text": [
      "\r",
      "41.2%"
     ]
    },
    {
     "name": "stderr",
     "output_type": "stream",
     "text": [
      "\r",
      "41.2%"
     ]
    },
    {
     "name": "stderr",
     "output_type": "stream",
     "text": [
      "\r",
      "41.3%"
     ]
    },
    {
     "name": "stderr",
     "output_type": "stream",
     "text": [
      "\r",
      "41.4%"
     ]
    },
    {
     "name": "stderr",
     "output_type": "stream",
     "text": [
      "\r",
      "41.5%"
     ]
    },
    {
     "name": "stderr",
     "output_type": "stream",
     "text": [
      "\r",
      "41.6%"
     ]
    },
    {
     "name": "stderr",
     "output_type": "stream",
     "text": [
      "\r",
      "41.7%"
     ]
    },
    {
     "name": "stderr",
     "output_type": "stream",
     "text": [
      "\r",
      "41.7%"
     ]
    },
    {
     "name": "stderr",
     "output_type": "stream",
     "text": [
      "\r",
      "41.8%"
     ]
    },
    {
     "name": "stderr",
     "output_type": "stream",
     "text": [
      "\r",
      "41.9%"
     ]
    },
    {
     "name": "stderr",
     "output_type": "stream",
     "text": [
      "\r",
      "42.0%"
     ]
    },
    {
     "name": "stderr",
     "output_type": "stream",
     "text": [
      "\r",
      "42.1%"
     ]
    },
    {
     "name": "stderr",
     "output_type": "stream",
     "text": [
      "\r",
      "42.1%"
     ]
    },
    {
     "name": "stderr",
     "output_type": "stream",
     "text": [
      "\r",
      "42.2%"
     ]
    },
    {
     "name": "stderr",
     "output_type": "stream",
     "text": [
      "\r",
      "42.3%"
     ]
    },
    {
     "name": "stderr",
     "output_type": "stream",
     "text": [
      "\r",
      "42.4%"
     ]
    },
    {
     "name": "stderr",
     "output_type": "stream",
     "text": [
      "\r",
      "42.5%"
     ]
    },
    {
     "name": "stderr",
     "output_type": "stream",
     "text": [
      "\r",
      "42.6%"
     ]
    },
    {
     "name": "stderr",
     "output_type": "stream",
     "text": [
      "\r",
      "42.6%"
     ]
    },
    {
     "name": "stderr",
     "output_type": "stream",
     "text": [
      "\r",
      "42.7%"
     ]
    },
    {
     "name": "stderr",
     "output_type": "stream",
     "text": [
      "\r",
      "42.8%"
     ]
    },
    {
     "name": "stderr",
     "output_type": "stream",
     "text": [
      "\r",
      "42.9%"
     ]
    },
    {
     "name": "stderr",
     "output_type": "stream",
     "text": [
      "\r",
      "43.0%"
     ]
    },
    {
     "name": "stderr",
     "output_type": "stream",
     "text": [
      "\r",
      "43.1%"
     ]
    },
    {
     "name": "stderr",
     "output_type": "stream",
     "text": [
      "\r",
      "43.1%"
     ]
    },
    {
     "name": "stderr",
     "output_type": "stream",
     "text": [
      "\r",
      "43.2%"
     ]
    },
    {
     "name": "stderr",
     "output_type": "stream",
     "text": [
      "\r",
      "43.3%"
     ]
    },
    {
     "name": "stderr",
     "output_type": "stream",
     "text": [
      "\r",
      "43.4%"
     ]
    },
    {
     "name": "stderr",
     "output_type": "stream",
     "text": [
      "\r",
      "43.5%"
     ]
    },
    {
     "name": "stderr",
     "output_type": "stream",
     "text": [
      "\r",
      "43.6%"
     ]
    },
    {
     "name": "stderr",
     "output_type": "stream",
     "text": [
      "\r",
      "43.6%"
     ]
    },
    {
     "name": "stderr",
     "output_type": "stream",
     "text": [
      "\r",
      "43.7%"
     ]
    },
    {
     "name": "stderr",
     "output_type": "stream",
     "text": [
      "\r",
      "43.8%"
     ]
    },
    {
     "name": "stderr",
     "output_type": "stream",
     "text": [
      "\r",
      "43.9%"
     ]
    },
    {
     "name": "stderr",
     "output_type": "stream",
     "text": [
      "\r",
      "44.0%"
     ]
    },
    {
     "name": "stderr",
     "output_type": "stream",
     "text": [
      "\r",
      "44.0%"
     ]
    },
    {
     "name": "stderr",
     "output_type": "stream",
     "text": [
      "\r",
      "44.1%"
     ]
    },
    {
     "name": "stderr",
     "output_type": "stream",
     "text": [
      "\r",
      "44.2%"
     ]
    },
    {
     "name": "stderr",
     "output_type": "stream",
     "text": [
      "\r",
      "44.3%"
     ]
    },
    {
     "name": "stderr",
     "output_type": "stream",
     "text": [
      "\r",
      "44.4%"
     ]
    },
    {
     "name": "stderr",
     "output_type": "stream",
     "text": [
      "\r",
      "44.5%"
     ]
    },
    {
     "name": "stderr",
     "output_type": "stream",
     "text": [
      "\r",
      "44.5%"
     ]
    },
    {
     "name": "stderr",
     "output_type": "stream",
     "text": [
      "\r",
      "44.6%"
     ]
    },
    {
     "name": "stderr",
     "output_type": "stream",
     "text": [
      "\r",
      "44.7%"
     ]
    },
    {
     "name": "stderr",
     "output_type": "stream",
     "text": [
      "\r",
      "44.8%"
     ]
    },
    {
     "name": "stderr",
     "output_type": "stream",
     "text": [
      "\r",
      "44.9%"
     ]
    },
    {
     "name": "stderr",
     "output_type": "stream",
     "text": [
      "\r",
      "45.0%"
     ]
    },
    {
     "name": "stderr",
     "output_type": "stream",
     "text": [
      "\r",
      "45.0%"
     ]
    },
    {
     "name": "stderr",
     "output_type": "stream",
     "text": [
      "\r",
      "45.1%"
     ]
    },
    {
     "name": "stderr",
     "output_type": "stream",
     "text": [
      "\r",
      "45.2%"
     ]
    },
    {
     "name": "stderr",
     "output_type": "stream",
     "text": [
      "\r",
      "45.3%"
     ]
    },
    {
     "name": "stderr",
     "output_type": "stream",
     "text": [
      "\r",
      "45.4%"
     ]
    },
    {
     "name": "stderr",
     "output_type": "stream",
     "text": [
      "\r",
      "45.5%"
     ]
    },
    {
     "name": "stderr",
     "output_type": "stream",
     "text": [
      "\r",
      "45.5%"
     ]
    },
    {
     "name": "stderr",
     "output_type": "stream",
     "text": [
      "\r",
      "45.6%"
     ]
    },
    {
     "name": "stderr",
     "output_type": "stream",
     "text": [
      "\r",
      "45.7%"
     ]
    },
    {
     "name": "stderr",
     "output_type": "stream",
     "text": [
      "\r",
      "45.8%"
     ]
    },
    {
     "name": "stderr",
     "output_type": "stream",
     "text": [
      "\r",
      "45.9%"
     ]
    },
    {
     "name": "stderr",
     "output_type": "stream",
     "text": [
      "\r",
      "45.9%"
     ]
    },
    {
     "name": "stderr",
     "output_type": "stream",
     "text": [
      "\r",
      "46.0%"
     ]
    },
    {
     "name": "stderr",
     "output_type": "stream",
     "text": [
      "\r",
      "46.1%"
     ]
    },
    {
     "name": "stderr",
     "output_type": "stream",
     "text": [
      "\r",
      "46.2%"
     ]
    },
    {
     "name": "stderr",
     "output_type": "stream",
     "text": [
      "\r",
      "46.3%"
     ]
    },
    {
     "name": "stderr",
     "output_type": "stream",
     "text": [
      "\r",
      "46.4%"
     ]
    },
    {
     "name": "stderr",
     "output_type": "stream",
     "text": [
      "\r",
      "46.4%"
     ]
    },
    {
     "name": "stderr",
     "output_type": "stream",
     "text": [
      "\r",
      "46.5%"
     ]
    },
    {
     "name": "stderr",
     "output_type": "stream",
     "text": [
      "\r",
      "46.6%"
     ]
    },
    {
     "name": "stderr",
     "output_type": "stream",
     "text": [
      "\r",
      "46.7%"
     ]
    },
    {
     "name": "stderr",
     "output_type": "stream",
     "text": [
      "\r",
      "46.8%"
     ]
    },
    {
     "name": "stderr",
     "output_type": "stream",
     "text": [
      "\r",
      "46.9%"
     ]
    },
    {
     "name": "stderr",
     "output_type": "stream",
     "text": [
      "\r",
      "46.9%"
     ]
    },
    {
     "name": "stderr",
     "output_type": "stream",
     "text": [
      "\r",
      "47.0%"
     ]
    },
    {
     "name": "stderr",
     "output_type": "stream",
     "text": [
      "\r",
      "47.1%"
     ]
    },
    {
     "name": "stderr",
     "output_type": "stream",
     "text": [
      "\r",
      "47.2%"
     ]
    },
    {
     "name": "stderr",
     "output_type": "stream",
     "text": [
      "\r",
      "47.3%"
     ]
    },
    {
     "name": "stderr",
     "output_type": "stream",
     "text": [
      "\r",
      "47.4%"
     ]
    },
    {
     "name": "stderr",
     "output_type": "stream",
     "text": [
      "\r",
      "47.4%"
     ]
    },
    {
     "name": "stderr",
     "output_type": "stream",
     "text": [
      "\r",
      "47.5%"
     ]
    },
    {
     "name": "stderr",
     "output_type": "stream",
     "text": [
      "\r",
      "47.6%"
     ]
    },
    {
     "name": "stderr",
     "output_type": "stream",
     "text": [
      "\r",
      "47.7%"
     ]
    },
    {
     "name": "stderr",
     "output_type": "stream",
     "text": [
      "\r",
      "47.8%"
     ]
    },
    {
     "name": "stderr",
     "output_type": "stream",
     "text": [
      "\r",
      "47.9%"
     ]
    },
    {
     "name": "stderr",
     "output_type": "stream",
     "text": [
      "\r",
      "47.9%"
     ]
    },
    {
     "name": "stderr",
     "output_type": "stream",
     "text": [
      "\r",
      "48.0%"
     ]
    },
    {
     "name": "stderr",
     "output_type": "stream",
     "text": [
      "\r",
      "48.1%"
     ]
    },
    {
     "name": "stderr",
     "output_type": "stream",
     "text": [
      "\r",
      "48.2%"
     ]
    },
    {
     "name": "stderr",
     "output_type": "stream",
     "text": [
      "\r",
      "48.3%"
     ]
    },
    {
     "name": "stderr",
     "output_type": "stream",
     "text": [
      "\r",
      "48.3%"
     ]
    },
    {
     "name": "stderr",
     "output_type": "stream",
     "text": [
      "\r",
      "48.4%"
     ]
    },
    {
     "name": "stderr",
     "output_type": "stream",
     "text": [
      "\r",
      "48.5%"
     ]
    },
    {
     "name": "stderr",
     "output_type": "stream",
     "text": [
      "\r",
      "48.6%"
     ]
    },
    {
     "name": "stderr",
     "output_type": "stream",
     "text": [
      "\r",
      "48.7%"
     ]
    },
    {
     "name": "stderr",
     "output_type": "stream",
     "text": [
      "\r",
      "48.8%"
     ]
    },
    {
     "name": "stderr",
     "output_type": "stream",
     "text": [
      "\r",
      "48.8%"
     ]
    },
    {
     "name": "stderr",
     "output_type": "stream",
     "text": [
      "\r",
      "48.9%"
     ]
    },
    {
     "name": "stderr",
     "output_type": "stream",
     "text": [
      "\r",
      "49.0%"
     ]
    },
    {
     "name": "stderr",
     "output_type": "stream",
     "text": [
      "\r",
      "49.1%"
     ]
    },
    {
     "name": "stderr",
     "output_type": "stream",
     "text": [
      "\r",
      "49.2%"
     ]
    },
    {
     "name": "stderr",
     "output_type": "stream",
     "text": [
      "\r",
      "49.3%"
     ]
    },
    {
     "name": "stderr",
     "output_type": "stream",
     "text": [
      "\r",
      "49.3%"
     ]
    },
    {
     "name": "stderr",
     "output_type": "stream",
     "text": [
      "\r",
      "49.4%"
     ]
    },
    {
     "name": "stderr",
     "output_type": "stream",
     "text": [
      "\r",
      "49.5%"
     ]
    },
    {
     "name": "stderr",
     "output_type": "stream",
     "text": [
      "\r",
      "49.6%"
     ]
    },
    {
     "name": "stderr",
     "output_type": "stream",
     "text": [
      "\r",
      "49.7%"
     ]
    },
    {
     "name": "stderr",
     "output_type": "stream",
     "text": [
      "\r",
      "49.8%"
     ]
    },
    {
     "name": "stderr",
     "output_type": "stream",
     "text": [
      "\r",
      "49.8%"
     ]
    },
    {
     "name": "stderr",
     "output_type": "stream",
     "text": [
      "\r",
      "49.9%"
     ]
    },
    {
     "name": "stderr",
     "output_type": "stream",
     "text": [
      "\r",
      "50.0%"
     ]
    },
    {
     "name": "stderr",
     "output_type": "stream",
     "text": [
      "\r",
      "50.1%"
     ]
    },
    {
     "name": "stderr",
     "output_type": "stream",
     "text": [
      "\r",
      "50.2%"
     ]
    },
    {
     "name": "stderr",
     "output_type": "stream",
     "text": [
      "\r",
      "50.2%"
     ]
    },
    {
     "name": "stderr",
     "output_type": "stream",
     "text": [
      "\r",
      "50.3%"
     ]
    },
    {
     "name": "stderr",
     "output_type": "stream",
     "text": [
      "\r",
      "50.4%"
     ]
    },
    {
     "name": "stderr",
     "output_type": "stream",
     "text": [
      "\r",
      "50.5%"
     ]
    },
    {
     "name": "stderr",
     "output_type": "stream",
     "text": [
      "\r",
      "50.6%"
     ]
    },
    {
     "name": "stderr",
     "output_type": "stream",
     "text": [
      "\r",
      "50.7%"
     ]
    },
    {
     "name": "stderr",
     "output_type": "stream",
     "text": [
      "\r",
      "50.7%"
     ]
    },
    {
     "name": "stderr",
     "output_type": "stream",
     "text": [
      "\r",
      "50.8%"
     ]
    },
    {
     "name": "stderr",
     "output_type": "stream",
     "text": [
      "\r",
      "50.9%"
     ]
    },
    {
     "name": "stderr",
     "output_type": "stream",
     "text": [
      "\r",
      "51.0%"
     ]
    },
    {
     "name": "stderr",
     "output_type": "stream",
     "text": [
      "\r",
      "51.1%"
     ]
    },
    {
     "name": "stderr",
     "output_type": "stream",
     "text": [
      "\r",
      "51.2%"
     ]
    },
    {
     "name": "stderr",
     "output_type": "stream",
     "text": [
      "\r",
      "51.2%"
     ]
    },
    {
     "name": "stderr",
     "output_type": "stream",
     "text": [
      "\r",
      "51.3%"
     ]
    },
    {
     "name": "stderr",
     "output_type": "stream",
     "text": [
      "\r",
      "51.4%"
     ]
    },
    {
     "name": "stderr",
     "output_type": "stream",
     "text": [
      "\r",
      "51.5%"
     ]
    },
    {
     "name": "stderr",
     "output_type": "stream",
     "text": [
      "\r",
      "51.6%"
     ]
    },
    {
     "name": "stderr",
     "output_type": "stream",
     "text": [
      "\r",
      "51.7%"
     ]
    },
    {
     "name": "stderr",
     "output_type": "stream",
     "text": [
      "\r",
      "51.7%"
     ]
    },
    {
     "name": "stderr",
     "output_type": "stream",
     "text": [
      "\r",
      "51.8%"
     ]
    },
    {
     "name": "stderr",
     "output_type": "stream",
     "text": [
      "\r",
      "51.9%"
     ]
    },
    {
     "name": "stderr",
     "output_type": "stream",
     "text": [
      "\r",
      "52.0%"
     ]
    },
    {
     "name": "stderr",
     "output_type": "stream",
     "text": [
      "\r",
      "52.1%"
     ]
    },
    {
     "name": "stderr",
     "output_type": "stream",
     "text": [
      "\r",
      "52.1%"
     ]
    },
    {
     "name": "stderr",
     "output_type": "stream",
     "text": [
      "\r",
      "52.2%"
     ]
    },
    {
     "name": "stderr",
     "output_type": "stream",
     "text": [
      "\r",
      "52.3%"
     ]
    },
    {
     "name": "stderr",
     "output_type": "stream",
     "text": [
      "\r",
      "52.4%"
     ]
    },
    {
     "name": "stderr",
     "output_type": "stream",
     "text": [
      "\r",
      "52.5%"
     ]
    },
    {
     "name": "stderr",
     "output_type": "stream",
     "text": [
      "\r",
      "52.6%"
     ]
    },
    {
     "name": "stderr",
     "output_type": "stream",
     "text": [
      "\r",
      "52.6%"
     ]
    },
    {
     "name": "stderr",
     "output_type": "stream",
     "text": [
      "\r",
      "52.7%"
     ]
    },
    {
     "name": "stderr",
     "output_type": "stream",
     "text": [
      "\r",
      "52.8%"
     ]
    },
    {
     "name": "stderr",
     "output_type": "stream",
     "text": [
      "\r",
      "52.9%"
     ]
    },
    {
     "name": "stderr",
     "output_type": "stream",
     "text": [
      "\r",
      "53.0%"
     ]
    },
    {
     "name": "stderr",
     "output_type": "stream",
     "text": [
      "\r",
      "53.1%"
     ]
    },
    {
     "name": "stderr",
     "output_type": "stream",
     "text": [
      "\r",
      "53.1%"
     ]
    },
    {
     "name": "stderr",
     "output_type": "stream",
     "text": [
      "\r",
      "53.2%"
     ]
    },
    {
     "name": "stderr",
     "output_type": "stream",
     "text": [
      "\r",
      "53.3%"
     ]
    },
    {
     "name": "stderr",
     "output_type": "stream",
     "text": [
      "\r",
      "53.4%"
     ]
    },
    {
     "name": "stderr",
     "output_type": "stream",
     "text": [
      "\r",
      "53.5%"
     ]
    },
    {
     "name": "stderr",
     "output_type": "stream",
     "text": [
      "\r",
      "53.6%"
     ]
    },
    {
     "name": "stderr",
     "output_type": "stream",
     "text": [
      "\r",
      "53.6%"
     ]
    },
    {
     "name": "stderr",
     "output_type": "stream",
     "text": [
      "\r",
      "53.7%"
     ]
    },
    {
     "name": "stderr",
     "output_type": "stream",
     "text": [
      "\r",
      "53.8%"
     ]
    },
    {
     "name": "stderr",
     "output_type": "stream",
     "text": [
      "\r",
      "53.9%"
     ]
    },
    {
     "name": "stderr",
     "output_type": "stream",
     "text": [
      "\r",
      "54.0%"
     ]
    },
    {
     "name": "stderr",
     "output_type": "stream",
     "text": [
      "\r",
      "54.0%"
     ]
    },
    {
     "name": "stderr",
     "output_type": "stream",
     "text": [
      "\r",
      "54.1%"
     ]
    },
    {
     "name": "stderr",
     "output_type": "stream",
     "text": [
      "\r",
      "54.2%"
     ]
    },
    {
     "name": "stderr",
     "output_type": "stream",
     "text": [
      "\r",
      "54.3%"
     ]
    },
    {
     "name": "stderr",
     "output_type": "stream",
     "text": [
      "\r",
      "54.4%"
     ]
    },
    {
     "name": "stderr",
     "output_type": "stream",
     "text": [
      "\r",
      "54.5%"
     ]
    },
    {
     "name": "stderr",
     "output_type": "stream",
     "text": [
      "\r",
      "54.5%"
     ]
    },
    {
     "name": "stderr",
     "output_type": "stream",
     "text": [
      "\r",
      "54.6%"
     ]
    },
    {
     "name": "stderr",
     "output_type": "stream",
     "text": [
      "\r",
      "54.7%"
     ]
    },
    {
     "name": "stderr",
     "output_type": "stream",
     "text": [
      "\r",
      "54.8%"
     ]
    },
    {
     "name": "stderr",
     "output_type": "stream",
     "text": [
      "\r",
      "54.9%"
     ]
    },
    {
     "name": "stderr",
     "output_type": "stream",
     "text": [
      "\r",
      "55.0%"
     ]
    },
    {
     "name": "stderr",
     "output_type": "stream",
     "text": [
      "\r",
      "55.0%"
     ]
    },
    {
     "name": "stderr",
     "output_type": "stream",
     "text": [
      "\r",
      "55.1%"
     ]
    },
    {
     "name": "stderr",
     "output_type": "stream",
     "text": [
      "\r",
      "55.2%"
     ]
    },
    {
     "name": "stderr",
     "output_type": "stream",
     "text": [
      "\r",
      "55.3%"
     ]
    },
    {
     "name": "stderr",
     "output_type": "stream",
     "text": [
      "\r",
      "55.4%"
     ]
    },
    {
     "name": "stderr",
     "output_type": "stream",
     "text": [
      "\r",
      "55.5%"
     ]
    },
    {
     "name": "stderr",
     "output_type": "stream",
     "text": [
      "\r",
      "55.5%"
     ]
    },
    {
     "name": "stderr",
     "output_type": "stream",
     "text": [
      "\r",
      "55.6%"
     ]
    },
    {
     "name": "stderr",
     "output_type": "stream",
     "text": [
      "\r",
      "55.7%"
     ]
    },
    {
     "name": "stderr",
     "output_type": "stream",
     "text": [
      "\r",
      "55.8%"
     ]
    },
    {
     "name": "stderr",
     "output_type": "stream",
     "text": [
      "\r",
      "55.9%"
     ]
    },
    {
     "name": "stderr",
     "output_type": "stream",
     "text": [
      "\r",
      "55.9%"
     ]
    },
    {
     "name": "stderr",
     "output_type": "stream",
     "text": [
      "\r",
      "56.0%"
     ]
    },
    {
     "name": "stderr",
     "output_type": "stream",
     "text": [
      "\r",
      "56.1%"
     ]
    },
    {
     "name": "stderr",
     "output_type": "stream",
     "text": [
      "\r",
      "56.2%"
     ]
    },
    {
     "name": "stderr",
     "output_type": "stream",
     "text": [
      "\r",
      "56.3%"
     ]
    },
    {
     "name": "stderr",
     "output_type": "stream",
     "text": [
      "\r",
      "56.4%"
     ]
    },
    {
     "name": "stderr",
     "output_type": "stream",
     "text": [
      "\r",
      "56.4%"
     ]
    },
    {
     "name": "stderr",
     "output_type": "stream",
     "text": [
      "\r",
      "56.5%"
     ]
    },
    {
     "name": "stderr",
     "output_type": "stream",
     "text": [
      "\r",
      "56.6%"
     ]
    },
    {
     "name": "stderr",
     "output_type": "stream",
     "text": [
      "\r",
      "56.7%"
     ]
    },
    {
     "name": "stderr",
     "output_type": "stream",
     "text": [
      "\r",
      "56.8%"
     ]
    },
    {
     "name": "stderr",
     "output_type": "stream",
     "text": [
      "\r",
      "56.9%"
     ]
    },
    {
     "name": "stderr",
     "output_type": "stream",
     "text": [
      "\r",
      "56.9%"
     ]
    },
    {
     "name": "stderr",
     "output_type": "stream",
     "text": [
      "\r",
      "57.0%"
     ]
    },
    {
     "name": "stderr",
     "output_type": "stream",
     "text": [
      "\r",
      "57.1%"
     ]
    },
    {
     "name": "stderr",
     "output_type": "stream",
     "text": [
      "\r",
      "57.2%"
     ]
    },
    {
     "name": "stderr",
     "output_type": "stream",
     "text": [
      "\r",
      "57.3%"
     ]
    },
    {
     "name": "stderr",
     "output_type": "stream",
     "text": [
      "\r",
      "57.4%"
     ]
    },
    {
     "name": "stderr",
     "output_type": "stream",
     "text": [
      "\r",
      "57.4%"
     ]
    },
    {
     "name": "stderr",
     "output_type": "stream",
     "text": [
      "\r",
      "57.5%"
     ]
    },
    {
     "name": "stderr",
     "output_type": "stream",
     "text": [
      "\r",
      "57.6%"
     ]
    },
    {
     "name": "stderr",
     "output_type": "stream",
     "text": [
      "\r",
      "57.7%"
     ]
    },
    {
     "name": "stderr",
     "output_type": "stream",
     "text": [
      "\r",
      "57.8%"
     ]
    },
    {
     "name": "stderr",
     "output_type": "stream",
     "text": [
      "\r",
      "57.9%"
     ]
    },
    {
     "name": "stderr",
     "output_type": "stream",
     "text": [
      "\r",
      "57.9%"
     ]
    },
    {
     "name": "stderr",
     "output_type": "stream",
     "text": [
      "\r",
      "58.0%"
     ]
    },
    {
     "name": "stderr",
     "output_type": "stream",
     "text": [
      "\r",
      "58.1%"
     ]
    },
    {
     "name": "stderr",
     "output_type": "stream",
     "text": [
      "\r",
      "58.2%"
     ]
    },
    {
     "name": "stderr",
     "output_type": "stream",
     "text": [
      "\r",
      "58.3%"
     ]
    },
    {
     "name": "stderr",
     "output_type": "stream",
     "text": [
      "\r",
      "58.3%"
     ]
    },
    {
     "name": "stderr",
     "output_type": "stream",
     "text": [
      "\r",
      "58.4%"
     ]
    },
    {
     "name": "stderr",
     "output_type": "stream",
     "text": [
      "\r",
      "58.5%"
     ]
    },
    {
     "name": "stderr",
     "output_type": "stream",
     "text": [
      "\r",
      "58.6%"
     ]
    },
    {
     "name": "stderr",
     "output_type": "stream",
     "text": [
      "\r",
      "58.7%"
     ]
    },
    {
     "name": "stderr",
     "output_type": "stream",
     "text": [
      "\r",
      "58.8%"
     ]
    },
    {
     "name": "stderr",
     "output_type": "stream",
     "text": [
      "\r",
      "58.8%"
     ]
    },
    {
     "name": "stderr",
     "output_type": "stream",
     "text": [
      "\r",
      "58.9%"
     ]
    },
    {
     "name": "stderr",
     "output_type": "stream",
     "text": [
      "\r",
      "59.0%"
     ]
    },
    {
     "name": "stderr",
     "output_type": "stream",
     "text": [
      "\r",
      "59.1%"
     ]
    },
    {
     "name": "stderr",
     "output_type": "stream",
     "text": [
      "\r",
      "59.2%"
     ]
    },
    {
     "name": "stderr",
     "output_type": "stream",
     "text": [
      "\r",
      "59.3%"
     ]
    },
    {
     "name": "stderr",
     "output_type": "stream",
     "text": [
      "\r",
      "59.3%"
     ]
    },
    {
     "name": "stderr",
     "output_type": "stream",
     "text": [
      "\r",
      "59.4%"
     ]
    },
    {
     "name": "stderr",
     "output_type": "stream",
     "text": [
      "\r",
      "59.5%"
     ]
    },
    {
     "name": "stderr",
     "output_type": "stream",
     "text": [
      "\r",
      "59.6%"
     ]
    },
    {
     "name": "stderr",
     "output_type": "stream",
     "text": [
      "\r",
      "59.7%"
     ]
    },
    {
     "name": "stderr",
     "output_type": "stream",
     "text": [
      "\r",
      "59.8%"
     ]
    },
    {
     "name": "stderr",
     "output_type": "stream",
     "text": [
      "\r",
      "59.8%"
     ]
    },
    {
     "name": "stderr",
     "output_type": "stream",
     "text": [
      "\r",
      "59.9%"
     ]
    },
    {
     "name": "stderr",
     "output_type": "stream",
     "text": [
      "\r",
      "60.0%"
     ]
    },
    {
     "name": "stderr",
     "output_type": "stream",
     "text": [
      "\r",
      "60.1%"
     ]
    },
    {
     "name": "stderr",
     "output_type": "stream",
     "text": [
      "\r",
      "60.2%"
     ]
    },
    {
     "name": "stderr",
     "output_type": "stream",
     "text": [
      "\r",
      "60.2%"
     ]
    },
    {
     "name": "stderr",
     "output_type": "stream",
     "text": [
      "\r",
      "60.3%"
     ]
    },
    {
     "name": "stderr",
     "output_type": "stream",
     "text": [
      "\r",
      "60.4%"
     ]
    },
    {
     "name": "stderr",
     "output_type": "stream",
     "text": [
      "\r",
      "60.5%"
     ]
    },
    {
     "name": "stderr",
     "output_type": "stream",
     "text": [
      "\r",
      "60.6%"
     ]
    },
    {
     "name": "stderr",
     "output_type": "stream",
     "text": [
      "\r",
      "60.7%"
     ]
    },
    {
     "name": "stderr",
     "output_type": "stream",
     "text": [
      "\r",
      "60.7%"
     ]
    },
    {
     "name": "stderr",
     "output_type": "stream",
     "text": [
      "\r",
      "60.8%"
     ]
    },
    {
     "name": "stderr",
     "output_type": "stream",
     "text": [
      "\r",
      "60.9%"
     ]
    },
    {
     "name": "stderr",
     "output_type": "stream",
     "text": [
      "\r",
      "61.0%"
     ]
    },
    {
     "name": "stderr",
     "output_type": "stream",
     "text": [
      "\r",
      "61.1%"
     ]
    },
    {
     "name": "stderr",
     "output_type": "stream",
     "text": [
      "\r",
      "61.2%"
     ]
    },
    {
     "name": "stderr",
     "output_type": "stream",
     "text": [
      "\r",
      "61.2%"
     ]
    },
    {
     "name": "stderr",
     "output_type": "stream",
     "text": [
      "\r",
      "61.3%"
     ]
    },
    {
     "name": "stderr",
     "output_type": "stream",
     "text": [
      "\r",
      "61.4%"
     ]
    },
    {
     "name": "stderr",
     "output_type": "stream",
     "text": [
      "\r",
      "61.5%"
     ]
    },
    {
     "name": "stderr",
     "output_type": "stream",
     "text": [
      "\r",
      "61.6%"
     ]
    },
    {
     "name": "stderr",
     "output_type": "stream",
     "text": [
      "\r",
      "61.7%"
     ]
    },
    {
     "name": "stderr",
     "output_type": "stream",
     "text": [
      "\r",
      "61.7%"
     ]
    },
    {
     "name": "stderr",
     "output_type": "stream",
     "text": [
      "\r",
      "61.8%"
     ]
    },
    {
     "name": "stderr",
     "output_type": "stream",
     "text": [
      "\r",
      "61.9%"
     ]
    },
    {
     "name": "stderr",
     "output_type": "stream",
     "text": [
      "\r",
      "62.0%"
     ]
    },
    {
     "name": "stderr",
     "output_type": "stream",
     "text": [
      "\r",
      "62.1%"
     ]
    },
    {
     "name": "stderr",
     "output_type": "stream",
     "text": [
      "\r",
      "62.1%"
     ]
    },
    {
     "name": "stderr",
     "output_type": "stream",
     "text": [
      "\r",
      "62.2%"
     ]
    },
    {
     "name": "stderr",
     "output_type": "stream",
     "text": [
      "\r",
      "62.3%"
     ]
    },
    {
     "name": "stderr",
     "output_type": "stream",
     "text": [
      "\r",
      "62.4%"
     ]
    },
    {
     "name": "stderr",
     "output_type": "stream",
     "text": [
      "\r",
      "62.5%"
     ]
    },
    {
     "name": "stderr",
     "output_type": "stream",
     "text": [
      "\r",
      "62.6%"
     ]
    },
    {
     "name": "stderr",
     "output_type": "stream",
     "text": [
      "\r",
      "62.6%"
     ]
    },
    {
     "name": "stderr",
     "output_type": "stream",
     "text": [
      "\r",
      "62.7%"
     ]
    },
    {
     "name": "stderr",
     "output_type": "stream",
     "text": [
      "\r",
      "62.8%"
     ]
    },
    {
     "name": "stderr",
     "output_type": "stream",
     "text": [
      "\r",
      "62.9%"
     ]
    },
    {
     "name": "stderr",
     "output_type": "stream",
     "text": [
      "\r",
      "63.0%"
     ]
    },
    {
     "name": "stderr",
     "output_type": "stream",
     "text": [
      "\r",
      "63.1%"
     ]
    },
    {
     "name": "stderr",
     "output_type": "stream",
     "text": [
      "\r",
      "63.1%"
     ]
    },
    {
     "name": "stderr",
     "output_type": "stream",
     "text": [
      "\r",
      "63.2%"
     ]
    },
    {
     "name": "stderr",
     "output_type": "stream",
     "text": [
      "\r",
      "63.3%"
     ]
    },
    {
     "name": "stderr",
     "output_type": "stream",
     "text": [
      "\r",
      "63.4%"
     ]
    },
    {
     "name": "stderr",
     "output_type": "stream",
     "text": [
      "\r",
      "63.5%"
     ]
    },
    {
     "name": "stderr",
     "output_type": "stream",
     "text": [
      "\r",
      "63.6%"
     ]
    },
    {
     "name": "stderr",
     "output_type": "stream",
     "text": [
      "\r",
      "63.6%"
     ]
    },
    {
     "name": "stderr",
     "output_type": "stream",
     "text": [
      "\r",
      "63.7%"
     ]
    },
    {
     "name": "stderr",
     "output_type": "stream",
     "text": [
      "\r",
      "63.8%"
     ]
    },
    {
     "name": "stderr",
     "output_type": "stream",
     "text": [
      "\r",
      "63.9%"
     ]
    },
    {
     "name": "stderr",
     "output_type": "stream",
     "text": [
      "\r",
      "64.0%"
     ]
    },
    {
     "name": "stderr",
     "output_type": "stream",
     "text": [
      "\r",
      "64.0%"
     ]
    },
    {
     "name": "stderr",
     "output_type": "stream",
     "text": [
      "\r",
      "64.1%"
     ]
    },
    {
     "name": "stderr",
     "output_type": "stream",
     "text": [
      "\r",
      "64.2%"
     ]
    },
    {
     "name": "stderr",
     "output_type": "stream",
     "text": [
      "\r",
      "64.3%"
     ]
    },
    {
     "name": "stderr",
     "output_type": "stream",
     "text": [
      "\r",
      "64.4%"
     ]
    },
    {
     "name": "stderr",
     "output_type": "stream",
     "text": [
      "\r",
      "64.5%"
     ]
    },
    {
     "name": "stderr",
     "output_type": "stream",
     "text": [
      "\r",
      "64.5%"
     ]
    },
    {
     "name": "stderr",
     "output_type": "stream",
     "text": [
      "\r",
      "64.6%"
     ]
    },
    {
     "name": "stderr",
     "output_type": "stream",
     "text": [
      "\r",
      "64.7%"
     ]
    },
    {
     "name": "stderr",
     "output_type": "stream",
     "text": [
      "\r",
      "64.8%"
     ]
    },
    {
     "name": "stderr",
     "output_type": "stream",
     "text": [
      "\r",
      "64.9%"
     ]
    },
    {
     "name": "stderr",
     "output_type": "stream",
     "text": [
      "\r",
      "65.0%"
     ]
    },
    {
     "name": "stderr",
     "output_type": "stream",
     "text": [
      "\r",
      "65.0%"
     ]
    },
    {
     "name": "stderr",
     "output_type": "stream",
     "text": [
      "\r",
      "65.1%"
     ]
    },
    {
     "name": "stderr",
     "output_type": "stream",
     "text": [
      "\r",
      "65.2%"
     ]
    },
    {
     "name": "stderr",
     "output_type": "stream",
     "text": [
      "\r",
      "65.3%"
     ]
    },
    {
     "name": "stderr",
     "output_type": "stream",
     "text": [
      "\r",
      "65.4%"
     ]
    },
    {
     "name": "stderr",
     "output_type": "stream",
     "text": [
      "\r",
      "65.5%"
     ]
    },
    {
     "name": "stderr",
     "output_type": "stream",
     "text": [
      "\r",
      "65.5%"
     ]
    },
    {
     "name": "stderr",
     "output_type": "stream",
     "text": [
      "\r",
      "65.6%"
     ]
    },
    {
     "name": "stderr",
     "output_type": "stream",
     "text": [
      "\r",
      "65.7%"
     ]
    },
    {
     "name": "stderr",
     "output_type": "stream",
     "text": [
      "\r",
      "65.8%"
     ]
    },
    {
     "name": "stderr",
     "output_type": "stream",
     "text": [
      "\r",
      "65.9%"
     ]
    },
    {
     "name": "stderr",
     "output_type": "stream",
     "text": [
      "\r",
      "65.9%"
     ]
    },
    {
     "name": "stderr",
     "output_type": "stream",
     "text": [
      "\r",
      "66.0%"
     ]
    },
    {
     "name": "stderr",
     "output_type": "stream",
     "text": [
      "\r",
      "66.1%"
     ]
    },
    {
     "name": "stderr",
     "output_type": "stream",
     "text": [
      "\r",
      "66.2%"
     ]
    },
    {
     "name": "stderr",
     "output_type": "stream",
     "text": [
      "\r",
      "66.3%"
     ]
    },
    {
     "name": "stderr",
     "output_type": "stream",
     "text": [
      "\r",
      "66.4%"
     ]
    },
    {
     "name": "stderr",
     "output_type": "stream",
     "text": [
      "\r",
      "66.4%"
     ]
    },
    {
     "name": "stderr",
     "output_type": "stream",
     "text": [
      "\r",
      "66.5%"
     ]
    },
    {
     "name": "stderr",
     "output_type": "stream",
     "text": [
      "\r",
      "66.6%"
     ]
    },
    {
     "name": "stderr",
     "output_type": "stream",
     "text": [
      "\r",
      "66.7%"
     ]
    },
    {
     "name": "stderr",
     "output_type": "stream",
     "text": [
      "\r",
      "66.8%"
     ]
    },
    {
     "name": "stderr",
     "output_type": "stream",
     "text": [
      "\r",
      "66.9%"
     ]
    },
    {
     "name": "stderr",
     "output_type": "stream",
     "text": [
      "\r",
      "66.9%"
     ]
    },
    {
     "name": "stderr",
     "output_type": "stream",
     "text": [
      "\r",
      "67.0%"
     ]
    },
    {
     "name": "stderr",
     "output_type": "stream",
     "text": [
      "\r",
      "67.1%"
     ]
    },
    {
     "name": "stderr",
     "output_type": "stream",
     "text": [
      "\r",
      "67.2%"
     ]
    },
    {
     "name": "stderr",
     "output_type": "stream",
     "text": [
      "\r",
      "67.3%"
     ]
    },
    {
     "name": "stderr",
     "output_type": "stream",
     "text": [
      "\r",
      "67.4%"
     ]
    },
    {
     "name": "stderr",
     "output_type": "stream",
     "text": [
      "\r",
      "67.4%"
     ]
    },
    {
     "name": "stderr",
     "output_type": "stream",
     "text": [
      "\r",
      "67.5%"
     ]
    },
    {
     "name": "stderr",
     "output_type": "stream",
     "text": [
      "\r",
      "67.6%"
     ]
    },
    {
     "name": "stderr",
     "output_type": "stream",
     "text": [
      "\r",
      "67.7%"
     ]
    },
    {
     "name": "stderr",
     "output_type": "stream",
     "text": [
      "\r",
      "67.8%"
     ]
    },
    {
     "name": "stderr",
     "output_type": "stream",
     "text": [
      "\r",
      "67.9%"
     ]
    },
    {
     "name": "stderr",
     "output_type": "stream",
     "text": [
      "\r",
      "67.9%"
     ]
    },
    {
     "name": "stderr",
     "output_type": "stream",
     "text": [
      "\r",
      "68.0%"
     ]
    },
    {
     "name": "stderr",
     "output_type": "stream",
     "text": [
      "\r",
      "68.1%"
     ]
    },
    {
     "name": "stderr",
     "output_type": "stream",
     "text": [
      "\r",
      "68.2%"
     ]
    },
    {
     "name": "stderr",
     "output_type": "stream",
     "text": [
      "\r",
      "68.3%"
     ]
    },
    {
     "name": "stderr",
     "output_type": "stream",
     "text": [
      "\r",
      "68.3%"
     ]
    },
    {
     "name": "stderr",
     "output_type": "stream",
     "text": [
      "\r",
      "68.4%"
     ]
    },
    {
     "name": "stderr",
     "output_type": "stream",
     "text": [
      "\r",
      "68.5%"
     ]
    },
    {
     "name": "stderr",
     "output_type": "stream",
     "text": [
      "\r",
      "68.6%"
     ]
    },
    {
     "name": "stderr",
     "output_type": "stream",
     "text": [
      "\r",
      "68.7%"
     ]
    },
    {
     "name": "stderr",
     "output_type": "stream",
     "text": [
      "\r",
      "68.8%"
     ]
    },
    {
     "name": "stderr",
     "output_type": "stream",
     "text": [
      "\r",
      "68.8%"
     ]
    },
    {
     "name": "stderr",
     "output_type": "stream",
     "text": [
      "\r",
      "68.9%"
     ]
    },
    {
     "name": "stderr",
     "output_type": "stream",
     "text": [
      "\r",
      "69.0%"
     ]
    },
    {
     "name": "stderr",
     "output_type": "stream",
     "text": [
      "\r",
      "69.1%"
     ]
    },
    {
     "name": "stderr",
     "output_type": "stream",
     "text": [
      "\r",
      "69.2%"
     ]
    },
    {
     "name": "stderr",
     "output_type": "stream",
     "text": [
      "\r",
      "69.3%"
     ]
    },
    {
     "name": "stderr",
     "output_type": "stream",
     "text": [
      "\r",
      "69.3%"
     ]
    },
    {
     "name": "stderr",
     "output_type": "stream",
     "text": [
      "\r",
      "69.4%"
     ]
    },
    {
     "name": "stderr",
     "output_type": "stream",
     "text": [
      "\r",
      "69.5%"
     ]
    },
    {
     "name": "stderr",
     "output_type": "stream",
     "text": [
      "\r",
      "69.6%"
     ]
    },
    {
     "name": "stderr",
     "output_type": "stream",
     "text": [
      "\r",
      "69.7%"
     ]
    },
    {
     "name": "stderr",
     "output_type": "stream",
     "text": [
      "\r",
      "69.8%"
     ]
    },
    {
     "name": "stderr",
     "output_type": "stream",
     "text": [
      "\r",
      "69.8%"
     ]
    },
    {
     "name": "stderr",
     "output_type": "stream",
     "text": [
      "\r",
      "69.9%"
     ]
    },
    {
     "name": "stderr",
     "output_type": "stream",
     "text": [
      "\r",
      "70.0%"
     ]
    },
    {
     "name": "stderr",
     "output_type": "stream",
     "text": [
      "\r",
      "70.1%"
     ]
    },
    {
     "name": "stderr",
     "output_type": "stream",
     "text": [
      "\r",
      "70.2%"
     ]
    },
    {
     "name": "stderr",
     "output_type": "stream",
     "text": [
      "\r",
      "70.2%"
     ]
    },
    {
     "name": "stderr",
     "output_type": "stream",
     "text": [
      "\r",
      "70.3%"
     ]
    },
    {
     "name": "stderr",
     "output_type": "stream",
     "text": [
      "\r",
      "70.4%"
     ]
    },
    {
     "name": "stderr",
     "output_type": "stream",
     "text": [
      "\r",
      "70.5%"
     ]
    },
    {
     "name": "stderr",
     "output_type": "stream",
     "text": [
      "\r",
      "70.6%"
     ]
    },
    {
     "name": "stderr",
     "output_type": "stream",
     "text": [
      "\r",
      "70.7%"
     ]
    },
    {
     "name": "stderr",
     "output_type": "stream",
     "text": [
      "\r",
      "70.7%"
     ]
    },
    {
     "name": "stderr",
     "output_type": "stream",
     "text": [
      "\r",
      "70.8%"
     ]
    },
    {
     "name": "stderr",
     "output_type": "stream",
     "text": [
      "\r",
      "70.9%"
     ]
    },
    {
     "name": "stderr",
     "output_type": "stream",
     "text": [
      "\r",
      "71.0%"
     ]
    },
    {
     "name": "stderr",
     "output_type": "stream",
     "text": [
      "\r",
      "71.1%"
     ]
    },
    {
     "name": "stderr",
     "output_type": "stream",
     "text": [
      "\r",
      "71.2%"
     ]
    },
    {
     "name": "stderr",
     "output_type": "stream",
     "text": [
      "\r",
      "71.2%"
     ]
    },
    {
     "name": "stderr",
     "output_type": "stream",
     "text": [
      "\r",
      "71.3%"
     ]
    },
    {
     "name": "stderr",
     "output_type": "stream",
     "text": [
      "\r",
      "71.4%"
     ]
    },
    {
     "name": "stderr",
     "output_type": "stream",
     "text": [
      "\r",
      "71.5%"
     ]
    },
    {
     "name": "stderr",
     "output_type": "stream",
     "text": [
      "\r",
      "71.6%"
     ]
    },
    {
     "name": "stderr",
     "output_type": "stream",
     "text": [
      "\r",
      "71.7%"
     ]
    },
    {
     "name": "stderr",
     "output_type": "stream",
     "text": [
      "\r",
      "71.7%"
     ]
    },
    {
     "name": "stderr",
     "output_type": "stream",
     "text": [
      "\r",
      "71.8%"
     ]
    },
    {
     "name": "stderr",
     "output_type": "stream",
     "text": [
      "\r",
      "71.9%"
     ]
    },
    {
     "name": "stderr",
     "output_type": "stream",
     "text": [
      "\r",
      "72.0%"
     ]
    },
    {
     "name": "stderr",
     "output_type": "stream",
     "text": [
      "\r",
      "72.1%"
     ]
    },
    {
     "name": "stderr",
     "output_type": "stream",
     "text": [
      "\r",
      "72.1%"
     ]
    },
    {
     "name": "stderr",
     "output_type": "stream",
     "text": [
      "\r",
      "72.2%"
     ]
    },
    {
     "name": "stderr",
     "output_type": "stream",
     "text": [
      "\r",
      "72.3%"
     ]
    },
    {
     "name": "stderr",
     "output_type": "stream",
     "text": [
      "\r",
      "72.4%"
     ]
    },
    {
     "name": "stderr",
     "output_type": "stream",
     "text": [
      "\r",
      "72.5%"
     ]
    },
    {
     "name": "stderr",
     "output_type": "stream",
     "text": [
      "\r",
      "72.6%"
     ]
    },
    {
     "name": "stderr",
     "output_type": "stream",
     "text": [
      "\r",
      "72.6%"
     ]
    },
    {
     "name": "stderr",
     "output_type": "stream",
     "text": [
      "\r",
      "72.7%"
     ]
    },
    {
     "name": "stderr",
     "output_type": "stream",
     "text": [
      "\r",
      "72.8%"
     ]
    },
    {
     "name": "stderr",
     "output_type": "stream",
     "text": [
      "\r",
      "72.9%"
     ]
    },
    {
     "name": "stderr",
     "output_type": "stream",
     "text": [
      "\r",
      "73.0%"
     ]
    },
    {
     "name": "stderr",
     "output_type": "stream",
     "text": [
      "\r",
      "73.1%"
     ]
    },
    {
     "name": "stderr",
     "output_type": "stream",
     "text": [
      "\r",
      "73.1%"
     ]
    },
    {
     "name": "stderr",
     "output_type": "stream",
     "text": [
      "\r",
      "73.2%"
     ]
    },
    {
     "name": "stderr",
     "output_type": "stream",
     "text": [
      "\r",
      "73.3%"
     ]
    },
    {
     "name": "stderr",
     "output_type": "stream",
     "text": [
      "\r",
      "73.4%"
     ]
    },
    {
     "name": "stderr",
     "output_type": "stream",
     "text": [
      "\r",
      "73.5%"
     ]
    },
    {
     "name": "stderr",
     "output_type": "stream",
     "text": [
      "\r",
      "73.6%"
     ]
    },
    {
     "name": "stderr",
     "output_type": "stream",
     "text": [
      "\r",
      "73.6%"
     ]
    },
    {
     "name": "stderr",
     "output_type": "stream",
     "text": [
      "\r",
      "73.7%"
     ]
    },
    {
     "name": "stderr",
     "output_type": "stream",
     "text": [
      "\r",
      "73.8%"
     ]
    },
    {
     "name": "stderr",
     "output_type": "stream",
     "text": [
      "\r",
      "73.9%"
     ]
    },
    {
     "name": "stderr",
     "output_type": "stream",
     "text": [
      "\r",
      "74.0%"
     ]
    },
    {
     "name": "stderr",
     "output_type": "stream",
     "text": [
      "\r",
      "74.0%"
     ]
    },
    {
     "name": "stderr",
     "output_type": "stream",
     "text": [
      "\r",
      "74.1%"
     ]
    },
    {
     "name": "stderr",
     "output_type": "stream",
     "text": [
      "\r",
      "74.2%"
     ]
    },
    {
     "name": "stderr",
     "output_type": "stream",
     "text": [
      "\r",
      "74.3%"
     ]
    },
    {
     "name": "stderr",
     "output_type": "stream",
     "text": [
      "\r",
      "74.4%"
     ]
    },
    {
     "name": "stderr",
     "output_type": "stream",
     "text": [
      "\r",
      "74.5%"
     ]
    },
    {
     "name": "stderr",
     "output_type": "stream",
     "text": [
      "\r",
      "74.5%"
     ]
    },
    {
     "name": "stderr",
     "output_type": "stream",
     "text": [
      "\r",
      "74.6%"
     ]
    },
    {
     "name": "stderr",
     "output_type": "stream",
     "text": [
      "\r",
      "74.7%"
     ]
    },
    {
     "name": "stderr",
     "output_type": "stream",
     "text": [
      "\r",
      "74.8%"
     ]
    },
    {
     "name": "stderr",
     "output_type": "stream",
     "text": [
      "\r",
      "74.9%"
     ]
    },
    {
     "name": "stderr",
     "output_type": "stream",
     "text": [
      "\r",
      "75.0%"
     ]
    },
    {
     "name": "stderr",
     "output_type": "stream",
     "text": [
      "\r",
      "75.0%"
     ]
    },
    {
     "name": "stderr",
     "output_type": "stream",
     "text": [
      "\r",
      "75.1%"
     ]
    },
    {
     "name": "stderr",
     "output_type": "stream",
     "text": [
      "\r",
      "75.2%"
     ]
    },
    {
     "name": "stderr",
     "output_type": "stream",
     "text": [
      "\r",
      "75.3%"
     ]
    },
    {
     "name": "stderr",
     "output_type": "stream",
     "text": [
      "\r",
      "75.4%"
     ]
    },
    {
     "name": "stderr",
     "output_type": "stream",
     "text": [
      "\r",
      "75.5%"
     ]
    },
    {
     "name": "stderr",
     "output_type": "stream",
     "text": [
      "\r",
      "75.5%"
     ]
    },
    {
     "name": "stderr",
     "output_type": "stream",
     "text": [
      "\r",
      "75.6%"
     ]
    },
    {
     "name": "stderr",
     "output_type": "stream",
     "text": [
      "\r",
      "75.7%"
     ]
    },
    {
     "name": "stderr",
     "output_type": "stream",
     "text": [
      "\r",
      "75.8%"
     ]
    },
    {
     "name": "stderr",
     "output_type": "stream",
     "text": [
      "\r",
      "75.9%"
     ]
    },
    {
     "name": "stderr",
     "output_type": "stream",
     "text": [
      "\r",
      "75.9%"
     ]
    },
    {
     "name": "stderr",
     "output_type": "stream",
     "text": [
      "\r",
      "76.0%"
     ]
    },
    {
     "name": "stderr",
     "output_type": "stream",
     "text": [
      "\r",
      "76.1%"
     ]
    },
    {
     "name": "stderr",
     "output_type": "stream",
     "text": [
      "\r",
      "76.2%"
     ]
    },
    {
     "name": "stderr",
     "output_type": "stream",
     "text": [
      "\r",
      "76.3%"
     ]
    },
    {
     "name": "stderr",
     "output_type": "stream",
     "text": [
      "\r",
      "76.4%"
     ]
    },
    {
     "name": "stderr",
     "output_type": "stream",
     "text": [
      "\r",
      "76.4%"
     ]
    },
    {
     "name": "stderr",
     "output_type": "stream",
     "text": [
      "\r",
      "76.5%"
     ]
    },
    {
     "name": "stderr",
     "output_type": "stream",
     "text": [
      "\r",
      "76.6%"
     ]
    },
    {
     "name": "stderr",
     "output_type": "stream",
     "text": [
      "\r",
      "76.7%"
     ]
    },
    {
     "name": "stderr",
     "output_type": "stream",
     "text": [
      "\r",
      "76.8%"
     ]
    },
    {
     "name": "stderr",
     "output_type": "stream",
     "text": [
      "\r",
      "76.9%"
     ]
    },
    {
     "name": "stderr",
     "output_type": "stream",
     "text": [
      "\r",
      "76.9%"
     ]
    },
    {
     "name": "stderr",
     "output_type": "stream",
     "text": [
      "\r",
      "77.0%"
     ]
    },
    {
     "name": "stderr",
     "output_type": "stream",
     "text": [
      "\r",
      "77.1%"
     ]
    },
    {
     "name": "stderr",
     "output_type": "stream",
     "text": [
      "\r",
      "77.2%"
     ]
    },
    {
     "name": "stderr",
     "output_type": "stream",
     "text": [
      "\r",
      "77.3%"
     ]
    },
    {
     "name": "stderr",
     "output_type": "stream",
     "text": [
      "\r",
      "77.4%"
     ]
    },
    {
     "name": "stderr",
     "output_type": "stream",
     "text": [
      "\r",
      "77.4%"
     ]
    },
    {
     "name": "stderr",
     "output_type": "stream",
     "text": [
      "\r",
      "77.5%"
     ]
    },
    {
     "name": "stderr",
     "output_type": "stream",
     "text": [
      "\r",
      "77.6%"
     ]
    },
    {
     "name": "stderr",
     "output_type": "stream",
     "text": [
      "\r",
      "77.7%"
     ]
    },
    {
     "name": "stderr",
     "output_type": "stream",
     "text": [
      "\r",
      "77.8%"
     ]
    },
    {
     "name": "stderr",
     "output_type": "stream",
     "text": [
      "\r",
      "77.9%"
     ]
    },
    {
     "name": "stderr",
     "output_type": "stream",
     "text": [
      "\r",
      "77.9%"
     ]
    },
    {
     "name": "stderr",
     "output_type": "stream",
     "text": [
      "\r",
      "78.0%"
     ]
    },
    {
     "name": "stderr",
     "output_type": "stream",
     "text": [
      "\r",
      "78.1%"
     ]
    },
    {
     "name": "stderr",
     "output_type": "stream",
     "text": [
      "\r",
      "78.2%"
     ]
    },
    {
     "name": "stderr",
     "output_type": "stream",
     "text": [
      "\r",
      "78.3%"
     ]
    },
    {
     "name": "stderr",
     "output_type": "stream",
     "text": [
      "\r",
      "78.3%"
     ]
    },
    {
     "name": "stderr",
     "output_type": "stream",
     "text": [
      "\r",
      "78.4%"
     ]
    },
    {
     "name": "stderr",
     "output_type": "stream",
     "text": [
      "\r",
      "78.5%"
     ]
    },
    {
     "name": "stderr",
     "output_type": "stream",
     "text": [
      "\r",
      "78.6%"
     ]
    },
    {
     "name": "stderr",
     "output_type": "stream",
     "text": [
      "\r",
      "78.7%"
     ]
    },
    {
     "name": "stderr",
     "output_type": "stream",
     "text": [
      "\r",
      "78.8%"
     ]
    },
    {
     "name": "stderr",
     "output_type": "stream",
     "text": [
      "\r",
      "78.8%"
     ]
    },
    {
     "name": "stderr",
     "output_type": "stream",
     "text": [
      "\r",
      "78.9%"
     ]
    },
    {
     "name": "stderr",
     "output_type": "stream",
     "text": [
      "\r",
      "79.0%"
     ]
    },
    {
     "name": "stderr",
     "output_type": "stream",
     "text": [
      "\r",
      "79.1%"
     ]
    },
    {
     "name": "stderr",
     "output_type": "stream",
     "text": [
      "\r",
      "79.2%"
     ]
    },
    {
     "name": "stderr",
     "output_type": "stream",
     "text": [
      "\r",
      "79.3%"
     ]
    },
    {
     "name": "stderr",
     "output_type": "stream",
     "text": [
      "\r",
      "79.3%"
     ]
    },
    {
     "name": "stderr",
     "output_type": "stream",
     "text": [
      "\r",
      "79.4%"
     ]
    },
    {
     "name": "stderr",
     "output_type": "stream",
     "text": [
      "\r",
      "79.5%"
     ]
    },
    {
     "name": "stderr",
     "output_type": "stream",
     "text": [
      "\r",
      "79.6%"
     ]
    },
    {
     "name": "stderr",
     "output_type": "stream",
     "text": [
      "\r",
      "79.7%"
     ]
    },
    {
     "name": "stderr",
     "output_type": "stream",
     "text": [
      "\r",
      "79.8%"
     ]
    },
    {
     "name": "stderr",
     "output_type": "stream",
     "text": [
      "\r",
      "79.8%"
     ]
    },
    {
     "name": "stderr",
     "output_type": "stream",
     "text": [
      "\r",
      "79.9%"
     ]
    },
    {
     "name": "stderr",
     "output_type": "stream",
     "text": [
      "\r",
      "80.0%"
     ]
    },
    {
     "name": "stderr",
     "output_type": "stream",
     "text": [
      "\r",
      "80.1%"
     ]
    },
    {
     "name": "stderr",
     "output_type": "stream",
     "text": [
      "\r",
      "80.2%"
     ]
    },
    {
     "name": "stderr",
     "output_type": "stream",
     "text": [
      "\r",
      "80.2%"
     ]
    },
    {
     "name": "stderr",
     "output_type": "stream",
     "text": [
      "\r",
      "80.3%"
     ]
    },
    {
     "name": "stderr",
     "output_type": "stream",
     "text": [
      "\r",
      "80.4%"
     ]
    },
    {
     "name": "stderr",
     "output_type": "stream",
     "text": [
      "\r",
      "80.5%"
     ]
    },
    {
     "name": "stderr",
     "output_type": "stream",
     "text": [
      "\r",
      "80.6%"
     ]
    },
    {
     "name": "stderr",
     "output_type": "stream",
     "text": [
      "\r",
      "80.7%"
     ]
    },
    {
     "name": "stderr",
     "output_type": "stream",
     "text": [
      "\r",
      "80.7%"
     ]
    },
    {
     "name": "stderr",
     "output_type": "stream",
     "text": [
      "\r",
      "80.8%"
     ]
    },
    {
     "name": "stderr",
     "output_type": "stream",
     "text": [
      "\r",
      "80.9%"
     ]
    },
    {
     "name": "stderr",
     "output_type": "stream",
     "text": [
      "\r",
      "81.0%"
     ]
    },
    {
     "name": "stderr",
     "output_type": "stream",
     "text": [
      "\r",
      "81.1%"
     ]
    },
    {
     "name": "stderr",
     "output_type": "stream",
     "text": [
      "\r",
      "81.2%"
     ]
    },
    {
     "name": "stderr",
     "output_type": "stream",
     "text": [
      "\r",
      "81.2%"
     ]
    },
    {
     "name": "stderr",
     "output_type": "stream",
     "text": [
      "\r",
      "81.3%"
     ]
    },
    {
     "name": "stderr",
     "output_type": "stream",
     "text": [
      "\r",
      "81.4%"
     ]
    },
    {
     "name": "stderr",
     "output_type": "stream",
     "text": [
      "\r",
      "81.5%"
     ]
    },
    {
     "name": "stderr",
     "output_type": "stream",
     "text": [
      "\r",
      "81.6%"
     ]
    },
    {
     "name": "stderr",
     "output_type": "stream",
     "text": [
      "\r",
      "81.7%"
     ]
    },
    {
     "name": "stderr",
     "output_type": "stream",
     "text": [
      "\r",
      "81.7%"
     ]
    },
    {
     "name": "stderr",
     "output_type": "stream",
     "text": [
      "\r",
      "81.8%"
     ]
    },
    {
     "name": "stderr",
     "output_type": "stream",
     "text": [
      "\r",
      "81.9%"
     ]
    },
    {
     "name": "stderr",
     "output_type": "stream",
     "text": [
      "\r",
      "82.0%"
     ]
    },
    {
     "name": "stderr",
     "output_type": "stream",
     "text": [
      "\r",
      "82.1%"
     ]
    },
    {
     "name": "stderr",
     "output_type": "stream",
     "text": [
      "\r",
      "82.1%"
     ]
    },
    {
     "name": "stderr",
     "output_type": "stream",
     "text": [
      "\r",
      "82.2%"
     ]
    },
    {
     "name": "stderr",
     "output_type": "stream",
     "text": [
      "\r",
      "82.3%"
     ]
    },
    {
     "name": "stderr",
     "output_type": "stream",
     "text": [
      "\r",
      "82.4%"
     ]
    },
    {
     "name": "stderr",
     "output_type": "stream",
     "text": [
      "\r",
      "82.5%"
     ]
    },
    {
     "name": "stderr",
     "output_type": "stream",
     "text": [
      "\r",
      "82.6%"
     ]
    },
    {
     "name": "stderr",
     "output_type": "stream",
     "text": [
      "\r",
      "82.6%"
     ]
    },
    {
     "name": "stderr",
     "output_type": "stream",
     "text": [
      "\r",
      "82.7%"
     ]
    },
    {
     "name": "stderr",
     "output_type": "stream",
     "text": [
      "\r",
      "82.8%"
     ]
    },
    {
     "name": "stderr",
     "output_type": "stream",
     "text": [
      "\r",
      "82.9%"
     ]
    },
    {
     "name": "stderr",
     "output_type": "stream",
     "text": [
      "\r",
      "83.0%"
     ]
    },
    {
     "name": "stderr",
     "output_type": "stream",
     "text": [
      "\r",
      "83.1%"
     ]
    },
    {
     "name": "stderr",
     "output_type": "stream",
     "text": [
      "\r",
      "83.1%"
     ]
    },
    {
     "name": "stderr",
     "output_type": "stream",
     "text": [
      "\r",
      "83.2%"
     ]
    },
    {
     "name": "stderr",
     "output_type": "stream",
     "text": [
      "\r",
      "83.3%"
     ]
    },
    {
     "name": "stderr",
     "output_type": "stream",
     "text": [
      "\r",
      "83.4%"
     ]
    },
    {
     "name": "stderr",
     "output_type": "stream",
     "text": [
      "\r",
      "83.5%"
     ]
    },
    {
     "name": "stderr",
     "output_type": "stream",
     "text": [
      "\r",
      "83.6%"
     ]
    },
    {
     "name": "stderr",
     "output_type": "stream",
     "text": [
      "\r",
      "83.6%"
     ]
    },
    {
     "name": "stderr",
     "output_type": "stream",
     "text": [
      "\r",
      "83.7%"
     ]
    },
    {
     "name": "stderr",
     "output_type": "stream",
     "text": [
      "\r",
      "83.8%"
     ]
    },
    {
     "name": "stderr",
     "output_type": "stream",
     "text": [
      "\r",
      "83.9%"
     ]
    },
    {
     "name": "stderr",
     "output_type": "stream",
     "text": [
      "\r",
      "84.0%"
     ]
    },
    {
     "name": "stderr",
     "output_type": "stream",
     "text": [
      "\r",
      "84.0%"
     ]
    },
    {
     "name": "stderr",
     "output_type": "stream",
     "text": [
      "\r",
      "84.1%"
     ]
    },
    {
     "name": "stderr",
     "output_type": "stream",
     "text": [
      "\r",
      "84.2%"
     ]
    },
    {
     "name": "stderr",
     "output_type": "stream",
     "text": [
      "\r",
      "84.3%"
     ]
    },
    {
     "name": "stderr",
     "output_type": "stream",
     "text": [
      "\r",
      "84.4%"
     ]
    },
    {
     "name": "stderr",
     "output_type": "stream",
     "text": [
      "\r",
      "84.5%"
     ]
    },
    {
     "name": "stderr",
     "output_type": "stream",
     "text": [
      "\r",
      "84.5%"
     ]
    },
    {
     "name": "stderr",
     "output_type": "stream",
     "text": [
      "\r",
      "84.6%"
     ]
    },
    {
     "name": "stderr",
     "output_type": "stream",
     "text": [
      "\r",
      "84.7%"
     ]
    },
    {
     "name": "stderr",
     "output_type": "stream",
     "text": [
      "\r",
      "84.8%"
     ]
    },
    {
     "name": "stderr",
     "output_type": "stream",
     "text": [
      "\r",
      "84.9%"
     ]
    },
    {
     "name": "stderr",
     "output_type": "stream",
     "text": [
      "\r",
      "85.0%"
     ]
    },
    {
     "name": "stderr",
     "output_type": "stream",
     "text": [
      "\r",
      "85.0%"
     ]
    },
    {
     "name": "stderr",
     "output_type": "stream",
     "text": [
      "\r",
      "85.1%"
     ]
    },
    {
     "name": "stderr",
     "output_type": "stream",
     "text": [
      "\r",
      "85.2%"
     ]
    },
    {
     "name": "stderr",
     "output_type": "stream",
     "text": [
      "\r",
      "85.3%"
     ]
    },
    {
     "name": "stderr",
     "output_type": "stream",
     "text": [
      "\r",
      "85.4%"
     ]
    },
    {
     "name": "stderr",
     "output_type": "stream",
     "text": [
      "\r",
      "85.5%"
     ]
    },
    {
     "name": "stderr",
     "output_type": "stream",
     "text": [
      "\r",
      "85.5%"
     ]
    },
    {
     "name": "stderr",
     "output_type": "stream",
     "text": [
      "\r",
      "85.6%"
     ]
    },
    {
     "name": "stderr",
     "output_type": "stream",
     "text": [
      "\r",
      "85.7%"
     ]
    },
    {
     "name": "stderr",
     "output_type": "stream",
     "text": [
      "\r",
      "85.8%"
     ]
    },
    {
     "name": "stderr",
     "output_type": "stream",
     "text": [
      "\r",
      "85.9%"
     ]
    },
    {
     "name": "stderr",
     "output_type": "stream",
     "text": [
      "\r",
      "85.9%"
     ]
    },
    {
     "name": "stderr",
     "output_type": "stream",
     "text": [
      "\r",
      "86.0%"
     ]
    },
    {
     "name": "stderr",
     "output_type": "stream",
     "text": [
      "\r",
      "86.1%"
     ]
    },
    {
     "name": "stderr",
     "output_type": "stream",
     "text": [
      "\r",
      "86.2%"
     ]
    },
    {
     "name": "stderr",
     "output_type": "stream",
     "text": [
      "\r",
      "86.3%"
     ]
    },
    {
     "name": "stderr",
     "output_type": "stream",
     "text": [
      "\r",
      "86.4%"
     ]
    },
    {
     "name": "stderr",
     "output_type": "stream",
     "text": [
      "\r",
      "86.4%"
     ]
    },
    {
     "name": "stderr",
     "output_type": "stream",
     "text": [
      "\r",
      "86.5%"
     ]
    },
    {
     "name": "stderr",
     "output_type": "stream",
     "text": [
      "\r",
      "86.6%"
     ]
    },
    {
     "name": "stderr",
     "output_type": "stream",
     "text": [
      "\r",
      "86.7%"
     ]
    },
    {
     "name": "stderr",
     "output_type": "stream",
     "text": [
      "\r",
      "86.8%"
     ]
    },
    {
     "name": "stderr",
     "output_type": "stream",
     "text": [
      "\r",
      "86.9%"
     ]
    },
    {
     "name": "stderr",
     "output_type": "stream",
     "text": [
      "\r",
      "86.9%"
     ]
    },
    {
     "name": "stderr",
     "output_type": "stream",
     "text": [
      "\r",
      "87.0%"
     ]
    },
    {
     "name": "stderr",
     "output_type": "stream",
     "text": [
      "\r",
      "87.1%"
     ]
    },
    {
     "name": "stderr",
     "output_type": "stream",
     "text": [
      "\r",
      "87.2%"
     ]
    },
    {
     "name": "stderr",
     "output_type": "stream",
     "text": [
      "\r",
      "87.3%"
     ]
    },
    {
     "name": "stderr",
     "output_type": "stream",
     "text": [
      "\r",
      "87.4%"
     ]
    },
    {
     "name": "stderr",
     "output_type": "stream",
     "text": [
      "\r",
      "87.4%"
     ]
    },
    {
     "name": "stderr",
     "output_type": "stream",
     "text": [
      "\r",
      "87.5%"
     ]
    },
    {
     "name": "stderr",
     "output_type": "stream",
     "text": [
      "\r",
      "87.6%"
     ]
    },
    {
     "name": "stderr",
     "output_type": "stream",
     "text": [
      "\r",
      "87.7%"
     ]
    },
    {
     "name": "stderr",
     "output_type": "stream",
     "text": [
      "\r",
      "87.8%"
     ]
    },
    {
     "name": "stderr",
     "output_type": "stream",
     "text": [
      "\r",
      "87.9%"
     ]
    },
    {
     "name": "stderr",
     "output_type": "stream",
     "text": [
      "\r",
      "87.9%"
     ]
    },
    {
     "name": "stderr",
     "output_type": "stream",
     "text": [
      "\r",
      "88.0%"
     ]
    },
    {
     "name": "stderr",
     "output_type": "stream",
     "text": [
      "\r",
      "88.1%"
     ]
    },
    {
     "name": "stderr",
     "output_type": "stream",
     "text": [
      "\r",
      "88.2%"
     ]
    },
    {
     "name": "stderr",
     "output_type": "stream",
     "text": [
      "\r",
      "88.3%"
     ]
    },
    {
     "name": "stderr",
     "output_type": "stream",
     "text": [
      "\r",
      "88.3%"
     ]
    },
    {
     "name": "stderr",
     "output_type": "stream",
     "text": [
      "\r",
      "88.4%"
     ]
    },
    {
     "name": "stderr",
     "output_type": "stream",
     "text": [
      "\r",
      "88.5%"
     ]
    },
    {
     "name": "stderr",
     "output_type": "stream",
     "text": [
      "\r",
      "88.6%"
     ]
    },
    {
     "name": "stderr",
     "output_type": "stream",
     "text": [
      "\r",
      "88.7%"
     ]
    },
    {
     "name": "stderr",
     "output_type": "stream",
     "text": [
      "\r",
      "88.8%"
     ]
    },
    {
     "name": "stderr",
     "output_type": "stream",
     "text": [
      "\r",
      "88.8%"
     ]
    },
    {
     "name": "stderr",
     "output_type": "stream",
     "text": [
      "\r",
      "88.9%"
     ]
    },
    {
     "name": "stderr",
     "output_type": "stream",
     "text": [
      "\r",
      "89.0%"
     ]
    },
    {
     "name": "stderr",
     "output_type": "stream",
     "text": [
      "\r",
      "89.1%"
     ]
    },
    {
     "name": "stderr",
     "output_type": "stream",
     "text": [
      "\r",
      "89.2%"
     ]
    },
    {
     "name": "stderr",
     "output_type": "stream",
     "text": [
      "\r",
      "89.3%"
     ]
    },
    {
     "name": "stderr",
     "output_type": "stream",
     "text": [
      "\r",
      "89.3%"
     ]
    },
    {
     "name": "stderr",
     "output_type": "stream",
     "text": [
      "\r",
      "89.4%"
     ]
    },
    {
     "name": "stderr",
     "output_type": "stream",
     "text": [
      "\r",
      "89.5%"
     ]
    },
    {
     "name": "stderr",
     "output_type": "stream",
     "text": [
      "\r",
      "89.6%"
     ]
    },
    {
     "name": "stderr",
     "output_type": "stream",
     "text": [
      "\r",
      "89.7%"
     ]
    },
    {
     "name": "stderr",
     "output_type": "stream",
     "text": [
      "\r",
      "89.8%"
     ]
    },
    {
     "name": "stderr",
     "output_type": "stream",
     "text": [
      "\r",
      "89.8%"
     ]
    },
    {
     "name": "stderr",
     "output_type": "stream",
     "text": [
      "\r",
      "89.9%"
     ]
    },
    {
     "name": "stderr",
     "output_type": "stream",
     "text": [
      "\r",
      "90.0%"
     ]
    },
    {
     "name": "stderr",
     "output_type": "stream",
     "text": [
      "\r",
      "90.1%"
     ]
    },
    {
     "name": "stderr",
     "output_type": "stream",
     "text": [
      "\r",
      "90.2%"
     ]
    },
    {
     "name": "stderr",
     "output_type": "stream",
     "text": [
      "\r",
      "90.2%"
     ]
    },
    {
     "name": "stderr",
     "output_type": "stream",
     "text": [
      "\r",
      "90.3%"
     ]
    },
    {
     "name": "stderr",
     "output_type": "stream",
     "text": [
      "\r",
      "90.4%"
     ]
    },
    {
     "name": "stderr",
     "output_type": "stream",
     "text": [
      "\r",
      "90.5%"
     ]
    },
    {
     "name": "stderr",
     "output_type": "stream",
     "text": [
      "\r",
      "90.6%"
     ]
    },
    {
     "name": "stderr",
     "output_type": "stream",
     "text": [
      "\r",
      "90.7%"
     ]
    },
    {
     "name": "stderr",
     "output_type": "stream",
     "text": [
      "\r",
      "90.7%"
     ]
    },
    {
     "name": "stderr",
     "output_type": "stream",
     "text": [
      "\r",
      "90.8%"
     ]
    },
    {
     "name": "stderr",
     "output_type": "stream",
     "text": [
      "\r",
      "90.9%"
     ]
    },
    {
     "name": "stderr",
     "output_type": "stream",
     "text": [
      "\r",
      "91.0%"
     ]
    },
    {
     "name": "stderr",
     "output_type": "stream",
     "text": [
      "\r",
      "91.1%"
     ]
    },
    {
     "name": "stderr",
     "output_type": "stream",
     "text": [
      "\r",
      "91.2%"
     ]
    },
    {
     "name": "stderr",
     "output_type": "stream",
     "text": [
      "\r",
      "91.2%"
     ]
    },
    {
     "name": "stderr",
     "output_type": "stream",
     "text": [
      "\r",
      "91.3%"
     ]
    },
    {
     "name": "stderr",
     "output_type": "stream",
     "text": [
      "\r",
      "91.4%"
     ]
    },
    {
     "name": "stderr",
     "output_type": "stream",
     "text": [
      "\r",
      "91.5%"
     ]
    },
    {
     "name": "stderr",
     "output_type": "stream",
     "text": [
      "\r",
      "91.6%"
     ]
    },
    {
     "name": "stderr",
     "output_type": "stream",
     "text": [
      "\r",
      "91.7%"
     ]
    },
    {
     "name": "stderr",
     "output_type": "stream",
     "text": [
      "\r",
      "91.7%"
     ]
    },
    {
     "name": "stderr",
     "output_type": "stream",
     "text": [
      "\r",
      "91.8%"
     ]
    },
    {
     "name": "stderr",
     "output_type": "stream",
     "text": [
      "\r",
      "91.9%"
     ]
    },
    {
     "name": "stderr",
     "output_type": "stream",
     "text": [
      "\r",
      "92.0%"
     ]
    },
    {
     "name": "stderr",
     "output_type": "stream",
     "text": [
      "\r",
      "92.1%"
     ]
    },
    {
     "name": "stderr",
     "output_type": "stream",
     "text": [
      "\r",
      "92.1%"
     ]
    },
    {
     "name": "stderr",
     "output_type": "stream",
     "text": [
      "\r",
      "92.2%"
     ]
    },
    {
     "name": "stderr",
     "output_type": "stream",
     "text": [
      "\r",
      "92.3%"
     ]
    },
    {
     "name": "stderr",
     "output_type": "stream",
     "text": [
      "\r",
      "92.4%"
     ]
    },
    {
     "name": "stderr",
     "output_type": "stream",
     "text": [
      "\r",
      "92.5%"
     ]
    },
    {
     "name": "stderr",
     "output_type": "stream",
     "text": [
      "\r",
      "92.6%"
     ]
    },
    {
     "name": "stderr",
     "output_type": "stream",
     "text": [
      "\r",
      "92.6%"
     ]
    },
    {
     "name": "stderr",
     "output_type": "stream",
     "text": [
      "\r",
      "92.7%"
     ]
    },
    {
     "name": "stderr",
     "output_type": "stream",
     "text": [
      "\r",
      "92.8%"
     ]
    },
    {
     "name": "stderr",
     "output_type": "stream",
     "text": [
      "\r",
      "92.9%"
     ]
    },
    {
     "name": "stderr",
     "output_type": "stream",
     "text": [
      "\r",
      "93.0%"
     ]
    },
    {
     "name": "stderr",
     "output_type": "stream",
     "text": [
      "\r",
      "93.1%"
     ]
    },
    {
     "name": "stderr",
     "output_type": "stream",
     "text": [
      "\r",
      "93.1%"
     ]
    },
    {
     "name": "stderr",
     "output_type": "stream",
     "text": [
      "\r",
      "93.2%"
     ]
    },
    {
     "name": "stderr",
     "output_type": "stream",
     "text": [
      "\r",
      "93.3%"
     ]
    },
    {
     "name": "stderr",
     "output_type": "stream",
     "text": [
      "\r",
      "93.4%"
     ]
    },
    {
     "name": "stderr",
     "output_type": "stream",
     "text": [
      "\r",
      "93.5%"
     ]
    },
    {
     "name": "stderr",
     "output_type": "stream",
     "text": [
      "\r",
      "93.6%"
     ]
    },
    {
     "name": "stderr",
     "output_type": "stream",
     "text": [
      "\r",
      "93.6%"
     ]
    },
    {
     "name": "stderr",
     "output_type": "stream",
     "text": [
      "\r",
      "93.7%"
     ]
    },
    {
     "name": "stderr",
     "output_type": "stream",
     "text": [
      "\r",
      "93.8%"
     ]
    },
    {
     "name": "stderr",
     "output_type": "stream",
     "text": [
      "\r",
      "93.9%"
     ]
    },
    {
     "name": "stderr",
     "output_type": "stream",
     "text": [
      "\r",
      "94.0%"
     ]
    },
    {
     "name": "stderr",
     "output_type": "stream",
     "text": [
      "\r",
      "94.0%"
     ]
    },
    {
     "name": "stderr",
     "output_type": "stream",
     "text": [
      "\r",
      "94.1%"
     ]
    },
    {
     "name": "stderr",
     "output_type": "stream",
     "text": [
      "\r",
      "94.2%"
     ]
    },
    {
     "name": "stderr",
     "output_type": "stream",
     "text": [
      "\r",
      "94.3%"
     ]
    },
    {
     "name": "stderr",
     "output_type": "stream",
     "text": [
      "\r",
      "94.4%"
     ]
    },
    {
     "name": "stderr",
     "output_type": "stream",
     "text": [
      "\r",
      "94.5%"
     ]
    },
    {
     "name": "stderr",
     "output_type": "stream",
     "text": [
      "\r",
      "94.5%"
     ]
    },
    {
     "name": "stderr",
     "output_type": "stream",
     "text": [
      "\r",
      "94.6%"
     ]
    },
    {
     "name": "stderr",
     "output_type": "stream",
     "text": [
      "\r",
      "94.7%"
     ]
    },
    {
     "name": "stderr",
     "output_type": "stream",
     "text": [
      "\r",
      "94.8%"
     ]
    },
    {
     "name": "stderr",
     "output_type": "stream",
     "text": [
      "\r",
      "94.9%"
     ]
    },
    {
     "name": "stderr",
     "output_type": "stream",
     "text": [
      "\r",
      "95.0%"
     ]
    },
    {
     "name": "stderr",
     "output_type": "stream",
     "text": [
      "\r",
      "95.0%"
     ]
    },
    {
     "name": "stderr",
     "output_type": "stream",
     "text": [
      "\r",
      "95.1%"
     ]
    },
    {
     "name": "stderr",
     "output_type": "stream",
     "text": [
      "\r",
      "95.2%"
     ]
    },
    {
     "name": "stderr",
     "output_type": "stream",
     "text": [
      "\r",
      "95.3%"
     ]
    },
    {
     "name": "stderr",
     "output_type": "stream",
     "text": [
      "\r",
      "95.4%"
     ]
    },
    {
     "name": "stderr",
     "output_type": "stream",
     "text": [
      "\r",
      "95.5%"
     ]
    },
    {
     "name": "stderr",
     "output_type": "stream",
     "text": [
      "\r",
      "95.5%"
     ]
    },
    {
     "name": "stderr",
     "output_type": "stream",
     "text": [
      "\r",
      "95.6%"
     ]
    },
    {
     "name": "stderr",
     "output_type": "stream",
     "text": [
      "\r",
      "95.7%"
     ]
    },
    {
     "name": "stderr",
     "output_type": "stream",
     "text": [
      "\r",
      "95.8%"
     ]
    },
    {
     "name": "stderr",
     "output_type": "stream",
     "text": [
      "\r",
      "95.9%"
     ]
    },
    {
     "name": "stderr",
     "output_type": "stream",
     "text": [
      "\r",
      "95.9%"
     ]
    },
    {
     "name": "stderr",
     "output_type": "stream",
     "text": [
      "\r",
      "96.0%"
     ]
    },
    {
     "name": "stderr",
     "output_type": "stream",
     "text": [
      "\r",
      "96.1%"
     ]
    },
    {
     "name": "stderr",
     "output_type": "stream",
     "text": [
      "\r",
      "96.2%"
     ]
    },
    {
     "name": "stderr",
     "output_type": "stream",
     "text": [
      "\r",
      "96.3%"
     ]
    },
    {
     "name": "stderr",
     "output_type": "stream",
     "text": [
      "\r",
      "96.4%"
     ]
    },
    {
     "name": "stderr",
     "output_type": "stream",
     "text": [
      "\r",
      "96.4%"
     ]
    },
    {
     "name": "stderr",
     "output_type": "stream",
     "text": [
      "\r",
      "96.5%"
     ]
    },
    {
     "name": "stderr",
     "output_type": "stream",
     "text": [
      "\r",
      "96.6%"
     ]
    },
    {
     "name": "stderr",
     "output_type": "stream",
     "text": [
      "\r",
      "96.7%"
     ]
    },
    {
     "name": "stderr",
     "output_type": "stream",
     "text": [
      "\r",
      "96.8%"
     ]
    },
    {
     "name": "stderr",
     "output_type": "stream",
     "text": [
      "\r",
      "96.9%"
     ]
    },
    {
     "name": "stderr",
     "output_type": "stream",
     "text": [
      "\r",
      "96.9%"
     ]
    },
    {
     "name": "stderr",
     "output_type": "stream",
     "text": [
      "\r",
      "97.0%"
     ]
    },
    {
     "name": "stderr",
     "output_type": "stream",
     "text": [
      "\r",
      "97.1%"
     ]
    },
    {
     "name": "stderr",
     "output_type": "stream",
     "text": [
      "\r",
      "97.2%"
     ]
    },
    {
     "name": "stderr",
     "output_type": "stream",
     "text": [
      "\r",
      "97.3%"
     ]
    },
    {
     "name": "stderr",
     "output_type": "stream",
     "text": [
      "\r",
      "97.4%"
     ]
    },
    {
     "name": "stderr",
     "output_type": "stream",
     "text": [
      "\r",
      "97.4%"
     ]
    },
    {
     "name": "stderr",
     "output_type": "stream",
     "text": [
      "\r",
      "97.5%"
     ]
    },
    {
     "name": "stderr",
     "output_type": "stream",
     "text": [
      "\r",
      "97.6%"
     ]
    },
    {
     "name": "stderr",
     "output_type": "stream",
     "text": [
      "\r",
      "97.7%"
     ]
    },
    {
     "name": "stderr",
     "output_type": "stream",
     "text": [
      "\r",
      "97.8%"
     ]
    },
    {
     "name": "stderr",
     "output_type": "stream",
     "text": [
      "\r",
      "97.9%"
     ]
    },
    {
     "name": "stderr",
     "output_type": "stream",
     "text": [
      "\r",
      "97.9%"
     ]
    },
    {
     "name": "stderr",
     "output_type": "stream",
     "text": [
      "\r",
      "98.0%"
     ]
    },
    {
     "name": "stderr",
     "output_type": "stream",
     "text": [
      "\r",
      "98.1%"
     ]
    },
    {
     "name": "stderr",
     "output_type": "stream",
     "text": [
      "\r",
      "98.2%"
     ]
    },
    {
     "name": "stderr",
     "output_type": "stream",
     "text": [
      "\r",
      "98.3%"
     ]
    },
    {
     "name": "stderr",
     "output_type": "stream",
     "text": [
      "\r",
      "98.3%"
     ]
    },
    {
     "name": "stderr",
     "output_type": "stream",
     "text": [
      "\r",
      "98.4%"
     ]
    },
    {
     "name": "stderr",
     "output_type": "stream",
     "text": [
      "\r",
      "98.5%"
     ]
    },
    {
     "name": "stderr",
     "output_type": "stream",
     "text": [
      "\r",
      "98.6%"
     ]
    },
    {
     "name": "stderr",
     "output_type": "stream",
     "text": [
      "\r",
      "98.7%"
     ]
    },
    {
     "name": "stderr",
     "output_type": "stream",
     "text": [
      "\r",
      "98.8%"
     ]
    },
    {
     "name": "stderr",
     "output_type": "stream",
     "text": [
      "\r",
      "98.8%"
     ]
    },
    {
     "name": "stderr",
     "output_type": "stream",
     "text": [
      "\r",
      "98.9%"
     ]
    },
    {
     "name": "stderr",
     "output_type": "stream",
     "text": [
      "\r",
      "99.0%"
     ]
    },
    {
     "name": "stderr",
     "output_type": "stream",
     "text": [
      "\r",
      "99.1%"
     ]
    },
    {
     "name": "stderr",
     "output_type": "stream",
     "text": [
      "\r",
      "99.2%"
     ]
    },
    {
     "name": "stderr",
     "output_type": "stream",
     "text": [
      "\r",
      "99.3%"
     ]
    },
    {
     "name": "stderr",
     "output_type": "stream",
     "text": [
      "\r",
      "99.3%"
     ]
    },
    {
     "name": "stderr",
     "output_type": "stream",
     "text": [
      "\r",
      "99.4%"
     ]
    },
    {
     "name": "stderr",
     "output_type": "stream",
     "text": [
      "\r",
      "99.5%"
     ]
    },
    {
     "name": "stderr",
     "output_type": "stream",
     "text": [
      "\r",
      "99.6%"
     ]
    },
    {
     "name": "stderr",
     "output_type": "stream",
     "text": [
      "\r",
      "99.7%"
     ]
    },
    {
     "name": "stderr",
     "output_type": "stream",
     "text": [
      "\r",
      "99.8%"
     ]
    },
    {
     "name": "stderr",
     "output_type": "stream",
     "text": [
      "\r",
      "99.8%"
     ]
    },
    {
     "name": "stderr",
     "output_type": "stream",
     "text": [
      "\r",
      "99.9%"
     ]
    },
    {
     "name": "stderr",
     "output_type": "stream",
     "text": [
      "\r",
      "100.0%"
     ]
    },
    {
     "name": "stderr",
     "output_type": "stream",
     "text": [
      "\r",
      "100.1%"
     ]
    },
    {
     "name": "stdout",
     "output_type": "stream",
     "text": [
      "Extracting ./data/MNIST/raw/train-images-idx3-ubyte.gz to ./data/MNIST/raw\n"
     ]
    },
    {
     "name": "stdout",
     "output_type": "stream",
     "text": [
      "Downloading http://yann.lecun.com/exdb/mnist/train-labels-idx1-ubyte.gz to ./data/MNIST/raw/train-labels-idx1-ubyte.gz\n"
     ]
    },
    {
     "name": "stderr",
     "output_type": "stream",
     "text": [
      "\r",
      "0.0%"
     ]
    },
    {
     "name": "stderr",
     "output_type": "stream",
     "text": [
      "\r",
      "28.4%"
     ]
    },
    {
     "name": "stderr",
     "output_type": "stream",
     "text": [
      "\r",
      "56.7%"
     ]
    },
    {
     "name": "stderr",
     "output_type": "stream",
     "text": [
      "\r",
      "85.1%"
     ]
    },
    {
     "name": "stderr",
     "output_type": "stream",
     "text": [
      "\r",
      "113.5%"
     ]
    },
    {
     "name": "stderr",
     "output_type": "stream",
     "text": [
      "\r",
      "0.0%"
     ]
    },
    {
     "name": "stderr",
     "output_type": "stream",
     "text": [
      "\r",
      "0.5%"
     ]
    },
    {
     "name": "stderr",
     "output_type": "stream",
     "text": [
      "\r",
      "1.0%"
     ]
    },
    {
     "name": "stderr",
     "output_type": "stream",
     "text": [
      "\r",
      "1.5%"
     ]
    },
    {
     "name": "stderr",
     "output_type": "stream",
     "text": [
      "\r",
      "2.0%"
     ]
    },
    {
     "name": "stderr",
     "output_type": "stream",
     "text": [
      "\r",
      "2.5%"
     ]
    },
    {
     "name": "stderr",
     "output_type": "stream",
     "text": [
      "\r",
      "3.0%"
     ]
    },
    {
     "name": "stderr",
     "output_type": "stream",
     "text": [
      "\r",
      "3.5%"
     ]
    },
    {
     "name": "stderr",
     "output_type": "stream",
     "text": [
      "\r",
      "4.0%"
     ]
    },
    {
     "name": "stderr",
     "output_type": "stream",
     "text": [
      "\r",
      "4.5%"
     ]
    },
    {
     "name": "stderr",
     "output_type": "stream",
     "text": [
      "\r",
      "5.0%"
     ]
    },
    {
     "name": "stderr",
     "output_type": "stream",
     "text": [
      "\r",
      "5.5%"
     ]
    },
    {
     "name": "stdout",
     "output_type": "stream",
     "text": [
      "Extracting ./data/MNIST/raw/train-labels-idx1-ubyte.gz to ./data/MNIST/raw\n",
      "Downloading http://yann.lecun.com/exdb/mnist/t10k-images-idx3-ubyte.gz to ./data/MNIST/raw/t10k-images-idx3-ubyte.gz\n"
     ]
    },
    {
     "name": "stderr",
     "output_type": "stream",
     "text": [
      "\r",
      "6.0%"
     ]
    },
    {
     "name": "stderr",
     "output_type": "stream",
     "text": [
      "\r",
      "6.5%"
     ]
    },
    {
     "name": "stderr",
     "output_type": "stream",
     "text": [
      "\r",
      "7.0%"
     ]
    },
    {
     "name": "stderr",
     "output_type": "stream",
     "text": [
      "\r",
      "7.5%"
     ]
    },
    {
     "name": "stderr",
     "output_type": "stream",
     "text": [
      "\r",
      "7.9%"
     ]
    },
    {
     "name": "stderr",
     "output_type": "stream",
     "text": [
      "\r",
      "8.4%"
     ]
    },
    {
     "name": "stderr",
     "output_type": "stream",
     "text": [
      "\r",
      "8.9%"
     ]
    },
    {
     "name": "stderr",
     "output_type": "stream",
     "text": [
      "\r",
      "9.4%"
     ]
    },
    {
     "name": "stderr",
     "output_type": "stream",
     "text": [
      "\r",
      "9.9%"
     ]
    },
    {
     "name": "stderr",
     "output_type": "stream",
     "text": [
      "\r",
      "10.4%"
     ]
    },
    {
     "name": "stderr",
     "output_type": "stream",
     "text": [
      "\r",
      "10.9%"
     ]
    },
    {
     "name": "stderr",
     "output_type": "stream",
     "text": [
      "\r",
      "11.4%"
     ]
    },
    {
     "name": "stderr",
     "output_type": "stream",
     "text": [
      "\r",
      "11.9%"
     ]
    },
    {
     "name": "stderr",
     "output_type": "stream",
     "text": [
      "\r",
      "12.4%"
     ]
    },
    {
     "name": "stderr",
     "output_type": "stream",
     "text": [
      "\r",
      "12.9%"
     ]
    },
    {
     "name": "stderr",
     "output_type": "stream",
     "text": [
      "\r",
      "13.4%"
     ]
    },
    {
     "name": "stderr",
     "output_type": "stream",
     "text": [
      "\r",
      "13.9%"
     ]
    },
    {
     "name": "stderr",
     "output_type": "stream",
     "text": [
      "\r",
      "14.4%"
     ]
    },
    {
     "name": "stderr",
     "output_type": "stream",
     "text": [
      "\r",
      "14.9%"
     ]
    },
    {
     "name": "stderr",
     "output_type": "stream",
     "text": [
      "\r",
      "15.4%"
     ]
    },
    {
     "name": "stderr",
     "output_type": "stream",
     "text": [
      "\r",
      "15.9%"
     ]
    },
    {
     "name": "stderr",
     "output_type": "stream",
     "text": [
      "\r",
      "16.4%"
     ]
    },
    {
     "name": "stderr",
     "output_type": "stream",
     "text": [
      "\r",
      "16.9%"
     ]
    },
    {
     "name": "stderr",
     "output_type": "stream",
     "text": [
      "\r",
      "17.4%"
     ]
    },
    {
     "name": "stderr",
     "output_type": "stream",
     "text": [
      "\r",
      "17.9%"
     ]
    },
    {
     "name": "stderr",
     "output_type": "stream",
     "text": [
      "\r",
      "18.4%"
     ]
    },
    {
     "name": "stderr",
     "output_type": "stream",
     "text": [
      "\r",
      "18.9%"
     ]
    },
    {
     "name": "stderr",
     "output_type": "stream",
     "text": [
      "\r",
      "19.4%"
     ]
    },
    {
     "name": "stderr",
     "output_type": "stream",
     "text": [
      "\r",
      "19.9%"
     ]
    },
    {
     "name": "stderr",
     "output_type": "stream",
     "text": [
      "\r",
      "20.4%"
     ]
    },
    {
     "name": "stderr",
     "output_type": "stream",
     "text": [
      "\r",
      "20.9%"
     ]
    },
    {
     "name": "stderr",
     "output_type": "stream",
     "text": [
      "\r",
      "21.4%"
     ]
    },
    {
     "name": "stderr",
     "output_type": "stream",
     "text": [
      "\r",
      "21.9%"
     ]
    },
    {
     "name": "stderr",
     "output_type": "stream",
     "text": [
      "\r",
      "22.4%"
     ]
    },
    {
     "name": "stderr",
     "output_type": "stream",
     "text": [
      "\r",
      "22.9%"
     ]
    },
    {
     "name": "stderr",
     "output_type": "stream",
     "text": [
      "\r",
      "23.4%"
     ]
    },
    {
     "name": "stderr",
     "output_type": "stream",
     "text": [
      "\r",
      "23.8%"
     ]
    },
    {
     "name": "stderr",
     "output_type": "stream",
     "text": [
      "\r",
      "24.3%"
     ]
    },
    {
     "name": "stderr",
     "output_type": "stream",
     "text": [
      "\r",
      "24.8%"
     ]
    },
    {
     "name": "stderr",
     "output_type": "stream",
     "text": [
      "\r",
      "25.3%"
     ]
    },
    {
     "name": "stderr",
     "output_type": "stream",
     "text": [
      "\r",
      "25.8%"
     ]
    },
    {
     "name": "stderr",
     "output_type": "stream",
     "text": [
      "\r",
      "26.3%"
     ]
    },
    {
     "name": "stderr",
     "output_type": "stream",
     "text": [
      "\r",
      "26.8%"
     ]
    },
    {
     "name": "stderr",
     "output_type": "stream",
     "text": [
      "\r",
      "27.3%"
     ]
    },
    {
     "name": "stderr",
     "output_type": "stream",
     "text": [
      "\r",
      "27.8%"
     ]
    },
    {
     "name": "stderr",
     "output_type": "stream",
     "text": [
      "\r",
      "28.3%"
     ]
    },
    {
     "name": "stderr",
     "output_type": "stream",
     "text": [
      "\r",
      "28.8%"
     ]
    },
    {
     "name": "stderr",
     "output_type": "stream",
     "text": [
      "\r",
      "29.3%"
     ]
    },
    {
     "name": "stderr",
     "output_type": "stream",
     "text": [
      "\r",
      "29.8%"
     ]
    },
    {
     "name": "stderr",
     "output_type": "stream",
     "text": [
      "\r",
      "30.3%"
     ]
    },
    {
     "name": "stderr",
     "output_type": "stream",
     "text": [
      "\r",
      "30.8%"
     ]
    },
    {
     "name": "stderr",
     "output_type": "stream",
     "text": [
      "\r",
      "31.3%"
     ]
    },
    {
     "name": "stderr",
     "output_type": "stream",
     "text": [
      "\r",
      "31.8%"
     ]
    },
    {
     "name": "stderr",
     "output_type": "stream",
     "text": [
      "\r",
      "32.3%"
     ]
    },
    {
     "name": "stderr",
     "output_type": "stream",
     "text": [
      "\r",
      "32.8%"
     ]
    },
    {
     "name": "stderr",
     "output_type": "stream",
     "text": [
      "\r",
      "33.3%"
     ]
    },
    {
     "name": "stderr",
     "output_type": "stream",
     "text": [
      "\r",
      "33.8%"
     ]
    },
    {
     "name": "stderr",
     "output_type": "stream",
     "text": [
      "\r",
      "34.3%"
     ]
    },
    {
     "name": "stderr",
     "output_type": "stream",
     "text": [
      "\r",
      "34.8%"
     ]
    },
    {
     "name": "stderr",
     "output_type": "stream",
     "text": [
      "\r",
      "35.3%"
     ]
    },
    {
     "name": "stderr",
     "output_type": "stream",
     "text": [
      "\r",
      "35.8%"
     ]
    },
    {
     "name": "stderr",
     "output_type": "stream",
     "text": [
      "\r",
      "36.3%"
     ]
    },
    {
     "name": "stderr",
     "output_type": "stream",
     "text": [
      "\r",
      "36.8%"
     ]
    },
    {
     "name": "stderr",
     "output_type": "stream",
     "text": [
      "\r",
      "37.3%"
     ]
    },
    {
     "name": "stderr",
     "output_type": "stream",
     "text": [
      "\r",
      "37.8%"
     ]
    },
    {
     "name": "stderr",
     "output_type": "stream",
     "text": [
      "\r",
      "38.3%"
     ]
    },
    {
     "name": "stderr",
     "output_type": "stream",
     "text": [
      "\r",
      "38.8%"
     ]
    },
    {
     "name": "stderr",
     "output_type": "stream",
     "text": [
      "\r",
      "39.2%"
     ]
    },
    {
     "name": "stderr",
     "output_type": "stream",
     "text": [
      "\r",
      "39.7%"
     ]
    },
    {
     "name": "stderr",
     "output_type": "stream",
     "text": [
      "\r",
      "40.2%"
     ]
    },
    {
     "name": "stderr",
     "output_type": "stream",
     "text": [
      "\r",
      "40.7%"
     ]
    },
    {
     "name": "stderr",
     "output_type": "stream",
     "text": [
      "\r",
      "41.2%"
     ]
    },
    {
     "name": "stderr",
     "output_type": "stream",
     "text": [
      "\r",
      "41.7%"
     ]
    },
    {
     "name": "stderr",
     "output_type": "stream",
     "text": [
      "\r",
      "42.2%"
     ]
    },
    {
     "name": "stderr",
     "output_type": "stream",
     "text": [
      "\r",
      "42.7%"
     ]
    },
    {
     "name": "stderr",
     "output_type": "stream",
     "text": [
      "\r",
      "43.2%"
     ]
    },
    {
     "name": "stderr",
     "output_type": "stream",
     "text": [
      "\r",
      "43.7%"
     ]
    },
    {
     "name": "stderr",
     "output_type": "stream",
     "text": [
      "\r",
      "44.2%"
     ]
    },
    {
     "name": "stderr",
     "output_type": "stream",
     "text": [
      "\r",
      "44.7%"
     ]
    },
    {
     "name": "stderr",
     "output_type": "stream",
     "text": [
      "\r",
      "45.2%"
     ]
    },
    {
     "name": "stderr",
     "output_type": "stream",
     "text": [
      "\r",
      "45.7%"
     ]
    },
    {
     "name": "stderr",
     "output_type": "stream",
     "text": [
      "\r",
      "46.2%"
     ]
    },
    {
     "name": "stderr",
     "output_type": "stream",
     "text": [
      "\r",
      "46.7%"
     ]
    },
    {
     "name": "stderr",
     "output_type": "stream",
     "text": [
      "\r",
      "47.2%"
     ]
    },
    {
     "name": "stderr",
     "output_type": "stream",
     "text": [
      "\r",
      "47.7%"
     ]
    },
    {
     "name": "stderr",
     "output_type": "stream",
     "text": [
      "\r",
      "48.2%"
     ]
    },
    {
     "name": "stderr",
     "output_type": "stream",
     "text": [
      "\r",
      "48.7%"
     ]
    },
    {
     "name": "stderr",
     "output_type": "stream",
     "text": [
      "\r",
      "49.2%"
     ]
    },
    {
     "name": "stderr",
     "output_type": "stream",
     "text": [
      "\r",
      "49.7%"
     ]
    },
    {
     "name": "stderr",
     "output_type": "stream",
     "text": [
      "\r",
      "50.2%"
     ]
    },
    {
     "name": "stderr",
     "output_type": "stream",
     "text": [
      "\r",
      "50.7%"
     ]
    },
    {
     "name": "stderr",
     "output_type": "stream",
     "text": [
      "\r",
      "51.2%"
     ]
    },
    {
     "name": "stderr",
     "output_type": "stream",
     "text": [
      "\r",
      "51.7%"
     ]
    },
    {
     "name": "stderr",
     "output_type": "stream",
     "text": [
      "\r",
      "52.2%"
     ]
    },
    {
     "name": "stderr",
     "output_type": "stream",
     "text": [
      "\r",
      "52.7%"
     ]
    },
    {
     "name": "stderr",
     "output_type": "stream",
     "text": [
      "\r",
      "53.2%"
     ]
    },
    {
     "name": "stderr",
     "output_type": "stream",
     "text": [
      "\r",
      "53.7%"
     ]
    },
    {
     "name": "stderr",
     "output_type": "stream",
     "text": [
      "\r",
      "54.2%"
     ]
    },
    {
     "name": "stderr",
     "output_type": "stream",
     "text": [
      "\r",
      "54.7%"
     ]
    },
    {
     "name": "stderr",
     "output_type": "stream",
     "text": [
      "\r",
      "55.1%"
     ]
    },
    {
     "name": "stderr",
     "output_type": "stream",
     "text": [
      "\r",
      "55.6%"
     ]
    },
    {
     "name": "stderr",
     "output_type": "stream",
     "text": [
      "\r",
      "56.1%"
     ]
    },
    {
     "name": "stderr",
     "output_type": "stream",
     "text": [
      "\r",
      "56.6%"
     ]
    },
    {
     "name": "stderr",
     "output_type": "stream",
     "text": [
      "\r",
      "57.1%"
     ]
    },
    {
     "name": "stderr",
     "output_type": "stream",
     "text": [
      "\r",
      "57.6%"
     ]
    },
    {
     "name": "stderr",
     "output_type": "stream",
     "text": [
      "\r",
      "58.1%"
     ]
    },
    {
     "name": "stderr",
     "output_type": "stream",
     "text": [
      "\r",
      "58.6%"
     ]
    },
    {
     "name": "stderr",
     "output_type": "stream",
     "text": [
      "\r",
      "59.1%"
     ]
    },
    {
     "name": "stderr",
     "output_type": "stream",
     "text": [
      "\r",
      "59.6%"
     ]
    },
    {
     "name": "stderr",
     "output_type": "stream",
     "text": [
      "\r",
      "60.1%"
     ]
    },
    {
     "name": "stderr",
     "output_type": "stream",
     "text": [
      "\r",
      "60.6%"
     ]
    },
    {
     "name": "stderr",
     "output_type": "stream",
     "text": [
      "\r",
      "61.1%"
     ]
    },
    {
     "name": "stderr",
     "output_type": "stream",
     "text": [
      "\r",
      "61.6%"
     ]
    },
    {
     "name": "stderr",
     "output_type": "stream",
     "text": [
      "\r",
      "62.1%"
     ]
    },
    {
     "name": "stderr",
     "output_type": "stream",
     "text": [
      "\r",
      "62.6%"
     ]
    },
    {
     "name": "stderr",
     "output_type": "stream",
     "text": [
      "\r",
      "63.1%"
     ]
    },
    {
     "name": "stderr",
     "output_type": "stream",
     "text": [
      "\r",
      "63.6%"
     ]
    },
    {
     "name": "stderr",
     "output_type": "stream",
     "text": [
      "\r",
      "64.1%"
     ]
    },
    {
     "name": "stderr",
     "output_type": "stream",
     "text": [
      "\r",
      "64.6%"
     ]
    },
    {
     "name": "stderr",
     "output_type": "stream",
     "text": [
      "\r",
      "65.1%"
     ]
    },
    {
     "name": "stderr",
     "output_type": "stream",
     "text": [
      "\r",
      "65.6%"
     ]
    },
    {
     "name": "stderr",
     "output_type": "stream",
     "text": [
      "\r",
      "66.1%"
     ]
    },
    {
     "name": "stderr",
     "output_type": "stream",
     "text": [
      "\r",
      "66.6%"
     ]
    },
    {
     "name": "stderr",
     "output_type": "stream",
     "text": [
      "\r",
      "67.1%"
     ]
    },
    {
     "name": "stderr",
     "output_type": "stream",
     "text": [
      "\r",
      "67.6%"
     ]
    },
    {
     "name": "stderr",
     "output_type": "stream",
     "text": [
      "\r",
      "68.1%"
     ]
    },
    {
     "name": "stderr",
     "output_type": "stream",
     "text": [
      "\r",
      "68.6%"
     ]
    },
    {
     "name": "stderr",
     "output_type": "stream",
     "text": [
      "\r",
      "69.1%"
     ]
    },
    {
     "name": "stderr",
     "output_type": "stream",
     "text": [
      "\r",
      "69.6%"
     ]
    },
    {
     "name": "stderr",
     "output_type": "stream",
     "text": [
      "\r",
      "70.1%"
     ]
    },
    {
     "name": "stderr",
     "output_type": "stream",
     "text": [
      "\r",
      "70.5%"
     ]
    },
    {
     "name": "stderr",
     "output_type": "stream",
     "text": [
      "\r",
      "71.0%"
     ]
    },
    {
     "name": "stderr",
     "output_type": "stream",
     "text": [
      "\r",
      "71.5%"
     ]
    },
    {
     "name": "stderr",
     "output_type": "stream",
     "text": [
      "\r",
      "72.0%"
     ]
    },
    {
     "name": "stderr",
     "output_type": "stream",
     "text": [
      "\r",
      "72.5%"
     ]
    },
    {
     "name": "stderr",
     "output_type": "stream",
     "text": [
      "\r",
      "73.0%"
     ]
    },
    {
     "name": "stderr",
     "output_type": "stream",
     "text": [
      "\r",
      "73.5%"
     ]
    },
    {
     "name": "stderr",
     "output_type": "stream",
     "text": [
      "\r",
      "74.0%"
     ]
    },
    {
     "name": "stderr",
     "output_type": "stream",
     "text": [
      "\r",
      "74.5%"
     ]
    },
    {
     "name": "stderr",
     "output_type": "stream",
     "text": [
      "\r",
      "75.0%"
     ]
    },
    {
     "name": "stderr",
     "output_type": "stream",
     "text": [
      "\r",
      "75.5%"
     ]
    },
    {
     "name": "stderr",
     "output_type": "stream",
     "text": [
      "\r",
      "76.0%"
     ]
    },
    {
     "name": "stderr",
     "output_type": "stream",
     "text": [
      "\r",
      "76.5%"
     ]
    },
    {
     "name": "stderr",
     "output_type": "stream",
     "text": [
      "\r",
      "77.0%"
     ]
    },
    {
     "name": "stderr",
     "output_type": "stream",
     "text": [
      "\r",
      "77.5%"
     ]
    },
    {
     "name": "stderr",
     "output_type": "stream",
     "text": [
      "\r",
      "78.0%"
     ]
    },
    {
     "name": "stderr",
     "output_type": "stream",
     "text": [
      "\r",
      "78.5%"
     ]
    },
    {
     "name": "stderr",
     "output_type": "stream",
     "text": [
      "\r",
      "79.0%"
     ]
    },
    {
     "name": "stderr",
     "output_type": "stream",
     "text": [
      "\r",
      "79.5%"
     ]
    },
    {
     "name": "stderr",
     "output_type": "stream",
     "text": [
      "\r",
      "80.0%"
     ]
    },
    {
     "name": "stderr",
     "output_type": "stream",
     "text": [
      "\r",
      "80.5%"
     ]
    },
    {
     "name": "stderr",
     "output_type": "stream",
     "text": [
      "\r",
      "81.0%"
     ]
    },
    {
     "name": "stderr",
     "output_type": "stream",
     "text": [
      "\r",
      "81.5%"
     ]
    },
    {
     "name": "stderr",
     "output_type": "stream",
     "text": [
      "\r",
      "82.0%"
     ]
    },
    {
     "name": "stderr",
     "output_type": "stream",
     "text": [
      "\r",
      "82.5%"
     ]
    },
    {
     "name": "stderr",
     "output_type": "stream",
     "text": [
      "\r",
      "83.0%"
     ]
    },
    {
     "name": "stderr",
     "output_type": "stream",
     "text": [
      "\r",
      "83.5%"
     ]
    },
    {
     "name": "stderr",
     "output_type": "stream",
     "text": [
      "\r",
      "84.0%"
     ]
    },
    {
     "name": "stderr",
     "output_type": "stream",
     "text": [
      "\r",
      "84.5%"
     ]
    },
    {
     "name": "stderr",
     "output_type": "stream",
     "text": [
      "\r",
      "85.0%"
     ]
    },
    {
     "name": "stderr",
     "output_type": "stream",
     "text": [
      "\r",
      "85.5%"
     ]
    },
    {
     "name": "stderr",
     "output_type": "stream",
     "text": [
      "\r",
      "86.0%"
     ]
    },
    {
     "name": "stderr",
     "output_type": "stream",
     "text": [
      "\r",
      "86.4%"
     ]
    },
    {
     "name": "stderr",
     "output_type": "stream",
     "text": [
      "\r",
      "86.9%"
     ]
    },
    {
     "name": "stderr",
     "output_type": "stream",
     "text": [
      "\r",
      "87.4%"
     ]
    },
    {
     "name": "stderr",
     "output_type": "stream",
     "text": [
      "\r",
      "87.9%"
     ]
    },
    {
     "name": "stderr",
     "output_type": "stream",
     "text": [
      "\r",
      "88.4%"
     ]
    },
    {
     "name": "stderr",
     "output_type": "stream",
     "text": [
      "\r",
      "88.9%"
     ]
    },
    {
     "name": "stderr",
     "output_type": "stream",
     "text": [
      "\r",
      "89.4%"
     ]
    },
    {
     "name": "stderr",
     "output_type": "stream",
     "text": [
      "\r",
      "89.9%"
     ]
    },
    {
     "name": "stderr",
     "output_type": "stream",
     "text": [
      "\r",
      "90.4%"
     ]
    },
    {
     "name": "stderr",
     "output_type": "stream",
     "text": [
      "\r",
      "90.9%"
     ]
    },
    {
     "name": "stderr",
     "output_type": "stream",
     "text": [
      "\r",
      "91.4%"
     ]
    },
    {
     "name": "stderr",
     "output_type": "stream",
     "text": [
      "\r",
      "91.9%"
     ]
    },
    {
     "name": "stderr",
     "output_type": "stream",
     "text": [
      "\r",
      "92.4%"
     ]
    },
    {
     "name": "stderr",
     "output_type": "stream",
     "text": [
      "\r",
      "92.9%"
     ]
    },
    {
     "name": "stderr",
     "output_type": "stream",
     "text": [
      "\r",
      "93.4%"
     ]
    },
    {
     "name": "stderr",
     "output_type": "stream",
     "text": [
      "\r",
      "93.9%"
     ]
    },
    {
     "name": "stderr",
     "output_type": "stream",
     "text": [
      "\r",
      "94.4%"
     ]
    },
    {
     "name": "stderr",
     "output_type": "stream",
     "text": [
      "\r",
      "94.9%"
     ]
    },
    {
     "name": "stderr",
     "output_type": "stream",
     "text": [
      "\r",
      "95.4%"
     ]
    },
    {
     "name": "stderr",
     "output_type": "stream",
     "text": [
      "\r",
      "95.9%"
     ]
    },
    {
     "name": "stderr",
     "output_type": "stream",
     "text": [
      "\r",
      "96.4%"
     ]
    },
    {
     "name": "stderr",
     "output_type": "stream",
     "text": [
      "\r",
      "96.9%"
     ]
    },
    {
     "name": "stderr",
     "output_type": "stream",
     "text": [
      "\r",
      "97.4%"
     ]
    },
    {
     "name": "stderr",
     "output_type": "stream",
     "text": [
      "\r",
      "97.9%"
     ]
    },
    {
     "name": "stderr",
     "output_type": "stream",
     "text": [
      "\r",
      "98.4%"
     ]
    },
    {
     "name": "stderr",
     "output_type": "stream",
     "text": [
      "\r",
      "98.9%"
     ]
    },
    {
     "name": "stderr",
     "output_type": "stream",
     "text": [
      "\r",
      "99.4%"
     ]
    },
    {
     "name": "stderr",
     "output_type": "stream",
     "text": [
      "\r",
      "99.9%"
     ]
    },
    {
     "name": "stderr",
     "output_type": "stream",
     "text": [
      "\r",
      "100.4%"
     ]
    },
    {
     "name": "stderr",
     "output_type": "stream",
     "text": [
      "\r",
      "0.0%"
     ]
    },
    {
     "name": "stderr",
     "output_type": "stream",
     "text": [
      "\r",
      "180.4%"
     ]
    },
    {
     "name": "stdout",
     "output_type": "stream",
     "text": [
      "Extracting ./data/MNIST/raw/t10k-images-idx3-ubyte.gz to ./data/MNIST/raw\n",
      "Downloading http://yann.lecun.com/exdb/mnist/t10k-labels-idx1-ubyte.gz to ./data/MNIST/raw/t10k-labels-idx1-ubyte.gz\n",
      "Extracting ./data/MNIST/raw/t10k-labels-idx1-ubyte.gz to ./data/MNIST/raw\n",
      "Processing...\n"
     ]
    },
    {
     "name": "stdout",
     "output_type": "stream",
     "text": [
      "Done!\n"
     ]
    }
   ],
   "source": [
    "BATCH_SIZE = 512\n",
    "train_loader, valid_loader, test_loader = load_mnist(batch_size=BATCH_SIZE)"
   ]
  },
  {
   "cell_type": "markdown",
   "metadata": {},
   "source": [
    "## 2. Define function to optimize\n",
    "In this tutorial, we want to optimize classification accuracy on the validation set as a function of the learning rate and momentum. The function takes in a parameterization (set of parameter values), computes the classification accuracy, and returns a dictionary of metric name ('accuracy') to a tuple with the mean and standard error."
   ]
  },
  {
   "cell_type": "code",
   "execution_count": 4,
   "metadata": {
    "collapsed": true
   },
   "outputs": [],
   "source": [
    "def train_evaluate(parameterization):\n",
    "    net = CNN()\n",
    "    net = train(net=net, train_loader=train_loader, parameters=parameterization, dtype=dtype, device=device)\n",
    "    return evaluate(\n",
    "        net=net,\n",
    "        data_loader=valid_loader,\n",
    "        dtype=dtype,\n",
    "        device=device,\n",
    "    )"
   ]
  },
  {
   "cell_type": "markdown",
   "metadata": {},
   "source": [
    "## 3. Run the optimization loop\n",
    "Here, we set the bounds on the learning rate and momentum and set the parameter space for the learning rate to be on a log scale. "
   ]
  },
  {
   "cell_type": "code",
   "execution_count": 5,
   "metadata": {},
   "outputs": [
    {
     "name": "stderr",
     "output_type": "stream",
     "text": [
      "[INFO 08-13 04:27:38] ax.service.utils.dispatch: Using Bayesian Optimization generation strategy. Iterations after 5 will take longer to generate due to model-fitting.\n"
     ]
    },
    {
     "name": "stderr",
     "output_type": "stream",
     "text": [
      "[INFO 08-13 04:27:38] ax.service.managed_loop: Started full optimization with 20 steps.\n"
     ]
    },
    {
     "name": "stderr",
     "output_type": "stream",
     "text": [
      "[INFO 08-13 04:27:38] ax.service.managed_loop: Running optimization trial 1...\n"
     ]
    },
    {
     "name": "stderr",
     "output_type": "stream",
     "text": [
      "[INFO 08-13 04:27:51] ax.service.managed_loop: Running optimization trial 2...\n"
     ]
    },
    {
     "name": "stderr",
     "output_type": "stream",
     "text": [
      "[INFO 08-13 04:28:04] ax.service.managed_loop: Running optimization trial 3...\n"
     ]
    },
    {
     "name": "stderr",
     "output_type": "stream",
     "text": [
      "[INFO 08-13 04:28:17] ax.service.managed_loop: Running optimization trial 4...\n"
     ]
    },
    {
     "name": "stderr",
     "output_type": "stream",
     "text": [
      "[INFO 08-13 04:28:30] ax.service.managed_loop: Running optimization trial 5...\n"
     ]
    },
    {
     "name": "stderr",
     "output_type": "stream",
     "text": [
      "[INFO 08-13 04:28:43] ax.service.managed_loop: Running optimization trial 6...\n"
     ]
    },
    {
     "name": "stderr",
     "output_type": "stream",
     "text": [
      "[INFO 08-13 04:28:57] ax.service.managed_loop: Running optimization trial 7...\n"
     ]
    },
    {
     "name": "stderr",
     "output_type": "stream",
     "text": [
      "[INFO 08-13 04:29:10] ax.service.managed_loop: Running optimization trial 8...\n"
     ]
    },
    {
     "name": "stderr",
     "output_type": "stream",
     "text": [
      "[INFO 08-13 04:29:23] ax.service.managed_loop: Running optimization trial 9...\n"
     ]
    },
    {
     "name": "stderr",
     "output_type": "stream",
     "text": [
      "[INFO 08-13 04:29:38] ax.service.managed_loop: Running optimization trial 10...\n"
     ]
    },
    {
     "name": "stderr",
     "output_type": "stream",
     "text": [
      "[INFO 08-13 04:29:51] ax.service.managed_loop: Running optimization trial 11...\n"
     ]
    },
    {
     "name": "stderr",
     "output_type": "stream",
     "text": [
      "[INFO 08-13 04:30:05] ax.service.managed_loop: Running optimization trial 12...\n"
     ]
    },
    {
     "name": "stderr",
     "output_type": "stream",
     "text": [
      "[INFO 08-13 04:30:19] ax.service.managed_loop: Running optimization trial 13...\n"
     ]
    },
    {
     "name": "stderr",
     "output_type": "stream",
     "text": [
      "[INFO 08-13 04:30:33] ax.service.managed_loop: Running optimization trial 14...\n"
     ]
    },
    {
     "name": "stderr",
     "output_type": "stream",
     "text": [
      "[INFO 08-13 04:30:46] ax.service.managed_loop: Running optimization trial 15...\n"
     ]
    },
    {
     "name": "stderr",
     "output_type": "stream",
     "text": [
      "[INFO 08-13 04:31:01] ax.service.managed_loop: Running optimization trial 16...\n"
     ]
    },
    {
     "name": "stderr",
     "output_type": "stream",
     "text": [
      "[INFO 08-13 04:31:14] ax.service.managed_loop: Running optimization trial 17...\n"
     ]
    },
    {
     "name": "stderr",
     "output_type": "stream",
     "text": [
      "[INFO 08-13 04:31:28] ax.service.managed_loop: Running optimization trial 18...\n"
     ]
    },
    {
     "name": "stderr",
     "output_type": "stream",
     "text": [
      "[INFO 08-13 04:31:43] ax.service.managed_loop: Running optimization trial 19...\n"
     ]
    },
    {
     "name": "stderr",
     "output_type": "stream",
     "text": [
      "[INFO 08-13 04:31:57] ax.service.managed_loop: Running optimization trial 20...\n"
     ]
    }
   ],
   "source": [
    "best_parameters, values, experiment, model = optimize(\n",
    "    parameters=[\n",
    "        {\"name\": \"lr\", \"type\": \"range\", \"bounds\": [1e-6, 0.4], \"log_scale\": True},\n",
    "        {\"name\": \"momentum\", \"type\": \"range\", \"bounds\": [0.0, 1.0]},\n",
    "    ],\n",
    "    evaluation_function=train_evaluate,\n",
    "    objective_name='accuracy',\n",
    ")"
   ]
  },
  {
   "cell_type": "markdown",
   "metadata": {},
   "source": [
    "We can introspect the optimal parameters and their outcomes:"
   ]
  },
  {
   "cell_type": "code",
   "execution_count": 6,
   "metadata": {},
   "outputs": [
    {
     "data": {
      "text/plain": [
       "{'lr': 0.0001831283125306528, 'momentum': 0.8650175333023071}"
      ]
     },
     "execution_count": 6,
     "metadata": {},
     "output_type": "execute_result"
    }
   ],
   "source": [
    "best_parameters"
   ]
  },
  {
   "cell_type": "code",
   "execution_count": 7,
   "metadata": {},
   "outputs": [
    {
     "data": {
      "text/plain": [
       "({'accuracy': 0.9456655829184433},\n",
       " {'accuracy': {'accuracy': 1.0414382718087435e-08}})"
      ]
     },
     "execution_count": 7,
     "metadata": {},
     "output_type": "execute_result"
    }
   ],
   "source": [
    "means, covariances = values\n",
    "means, covariances"
   ]
  },
  {
   "cell_type": "markdown",
   "metadata": {},
   "source": [
    "## 4. Plot response surface\n",
    "\n",
    "Contour plot showing classification accuracy as a function of the two hyperparameters.\n",
    "\n",
    "The black squares show points that we have actually run, notice how they are clustered in the optimal region."
   ]
  },
  {
   "cell_type": "code",
   "execution_count": 8,
   "metadata": {},
   "outputs": [
    {
     "data": {
      "text/html": [
       "<div id=\"8774e17b62e6488db433fc9d3fc034cb\" style=\"width: 100%;\" class=\"plotly-graph-div\"></div><script type='text/javascript'>/*\n",
       " * Copyright (c) Facebook, Inc. and its affiliates. All Rights Reserved.\n",
       " */\n",
       "\n",
       "require(['plotly'], function(Plotly) {\n",
       "  window.PLOTLYENV = window.PLOTLYENV || {};\n",
       "  window.PLOTLYENV.BASE_URL = 'https://plot.ly';\n",
       "  /*\n",
       " * Copyright (c) Facebook, Inc. and its affiliates. All Rights Reserved.\n",
       " */\n",
       "\n",
       "const arm_data = {\"metrics\": [\"accuracy\"], \"in_sample\": {\"0_0\": {\"name\": \"0_0\", \"parameters\": {\"lr\": 2.59027121388501e-06, \"momentum\": 0.5958731770515442}, \"y\": {\"accuracy\": 0.45816666666666667}, \"y_hat\": {\"accuracy\": 0.4581666694372608}, \"se\": {\"accuracy\": 0.0}, \"se_hat\": {\"accuracy\": 0.00010205182927385799}, \"context_stratum\": null}, \"1_0\": {\"name\": \"1_0\", \"parameters\": {\"lr\": 5.070485007808044e-05, \"momentum\": 0.08504391461610794}, \"y\": {\"accuracy\": 0.8278333333333333}, \"y_hat\": {\"accuracy\": 0.8278332990972536}, \"se\": {\"accuracy\": 0.0}, \"se_hat\": {\"accuracy\": 0.00010205180967290368}, \"context_stratum\": null}, \"2_0\": {\"name\": \"2_0\", \"parameters\": {\"lr\": 0.24281978136540266, \"momentum\": 0.8827338814735413}, \"y\": {\"accuracy\": 0.091}, \"y_hat\": {\"accuracy\": 0.09100002049753442}, \"se\": {\"accuracy\": 0.0}, \"se_hat\": {\"accuracy\": 0.0001020518295004586}, \"context_stratum\": null}, \"3_0\": {\"name\": \"3_0\", \"parameters\": {\"lr\": 0.0671358510246527, \"momentum\": 0.16135233640670776}, \"y\": {\"accuracy\": 0.097}, \"y_hat\": {\"accuracy\": 0.09700001907862155}, \"se\": {\"accuracy\": 0.0}, \"se_hat\": {\"accuracy\": 0.00010205182972705921}, \"context_stratum\": null}, \"4_0\": {\"name\": \"4_0\", \"parameters\": {\"lr\": 0.0001831283125306528, \"momentum\": 0.8650175333023071}, \"y\": {\"accuracy\": 0.9456666666666667}, \"y_hat\": {\"accuracy\": 0.9456655829184433}, \"se\": {\"accuracy\": 0.0}, \"se_hat\": {\"accuracy\": 0.0001020508829853394}, \"context_stratum\": null}, \"5_0\": {\"name\": \"5_0\", \"parameters\": {\"lr\": 0.0001681272619200508, \"momentum\": 0.5377328267525484}, \"y\": {\"accuracy\": 0.9205}, \"y_hat\": {\"accuracy\": 0.9204997981305314}, \"se\": {\"accuracy\": 0.0}, \"se_hat\": {\"accuracy\": 0.0001020515836385053}, \"context_stratum\": null}, \"6_0\": {\"name\": \"6_0\", \"parameters\": {\"lr\": 6.589410769526662e-05, \"momentum\": 0.774560508634309}, \"y\": {\"accuracy\": 0.8878333333333334}, \"y_hat\": {\"accuracy\": 0.8878332800931843}, \"se\": {\"accuracy\": 0.0}, \"se_hat\": {\"accuracy\": 0.00010205167813114176}, \"context_stratum\": null}, \"7_0\": {\"name\": \"7_0\", \"parameters\": {\"lr\": 0.0006393939932164015, \"momentum\": 0.9999999999999999}, \"y\": {\"accuracy\": 0.1015}, \"y_hat\": {\"accuracy\": 0.10150011931114944}, \"se\": {\"accuracy\": 0.0}, \"se_hat\": {\"accuracy\": 0.00010205182224923895}, \"context_stratum\": null}, \"8_0\": {\"name\": \"8_0\", \"parameters\": {\"lr\": 0.00012610531747910472, \"momentum\": 0.7688760552843885}, \"y\": {\"accuracy\": 0.926}, \"y_hat\": {\"accuracy\": 0.9259999898617981}, \"se\": {\"accuracy\": 0.0}, \"se_hat\": {\"accuracy\": 0.00010205154024437555}, \"context_stratum\": null}, \"9_0\": {\"name\": \"9_0\", \"parameters\": {\"lr\": 0.0016086160190897237, \"momentum\": 0.6044316577944989}, \"y\": {\"accuracy\": 0.099}, \"y_hat\": {\"accuracy\": 0.09899999843363094}, \"se\": {\"accuracy\": 0.0}, \"se_hat\": {\"accuracy\": 0.0001020518270078519}, \"context_stratum\": null}, \"10_0\": {\"name\": \"10_0\", \"parameters\": {\"lr\": 2.5257160011544158e-05, \"momentum\": 0.5330418017519462}, \"y\": {\"accuracy\": 0.8346666666666667}, \"y_hat\": {\"accuracy\": 0.8346666758510184}, \"se\": {\"accuracy\": 0.0}, \"se_hat\": {\"accuracy\": 0.00010205180321478496}, \"context_stratum\": null}, \"11_0\": {\"name\": \"11_0\", \"parameters\": {\"lr\": 0.00015539801703119902, \"momentum\": 0.0}, \"y\": {\"accuracy\": 0.8308333333333333}, \"y_hat\": {\"accuracy\": 0.8308333114520626}, \"se\": {\"accuracy\": 0.0}, \"se_hat\": {\"accuracy\": 0.00010205181148570886}, \"context_stratum\": null}, \"12_0\": {\"name\": \"12_0\", \"parameters\": {\"lr\": 0.0001421261501046639, \"momentum\": 1.0}, \"y\": {\"accuracy\": 0.812}, \"y_hat\": {\"accuracy\": 0.8120004036732443}, \"se\": {\"accuracy\": 0.0}, \"se_hat\": {\"accuracy\": 0.00010205167054000994}, \"context_stratum\": null}, \"13_0\": {\"name\": \"13_0\", \"parameters\": {\"lr\": 6.667420727750304e-05, \"momentum\": 0.45434899727518396}, \"y\": {\"accuracy\": 0.8918333333333334}, \"y_hat\": {\"accuracy\": 0.891833366894374}, \"se\": {\"accuracy\": 0.0}, \"se_hat\": {\"accuracy\": 0.0001020517393133777}, \"context_stratum\": null}, \"14_0\": {\"name\": \"14_0\", \"parameters\": {\"lr\": 0.0001803539436243674, \"momentum\": 0.7467661502814997}, \"y\": {\"accuracy\": 0.9408333333333333}, \"y_hat\": {\"accuracy\": 0.9408341389334076}, \"se\": {\"accuracy\": 0.0}, \"se_hat\": {\"accuracy\": 0.00010205055441088478}, \"context_stratum\": null}, \"15_0\": {\"name\": \"15_0\", \"parameters\": {\"lr\": 0.00011728286214695198, \"momentum\": 0.2963234356110895}, \"y\": {\"accuracy\": 0.9008333333333334}, \"y_hat\": {\"accuracy\": 0.9008333721266806}, \"se\": {\"accuracy\": 0.0}, \"se_hat\": {\"accuracy\": 0.00010205170577645291}, \"context_stratum\": null}, \"16_0\": {\"name\": \"16_0\", \"parameters\": {\"lr\": 1.4133819259352319e-05, \"momentum\": 0.0}, \"y\": {\"accuracy\": 0.5861666666666666}, \"y_hat\": {\"accuracy\": 0.5861666724958784}, \"se\": {\"accuracy\": 0.0}, \"se_hat\": {\"accuracy\": 0.00010205182485514608}, \"context_stratum\": null}, \"17_0\": {\"name\": \"17_0\", \"parameters\": {\"lr\": 2.0020451926885337e-05, \"momentum\": 0.9999999999999999}, \"y\": {\"accuracy\": 0.865}, \"y_hat\": {\"accuracy\": 0.8649999636528966}, \"se\": {\"accuracy\": 0.0}, \"se_hat\": {\"accuracy\": 0.00010205180604729322}, \"context_stratum\": null}, \"18_0\": {\"name\": \"18_0\", \"parameters\": {\"lr\": 3.403390859403031e-05, \"momentum\": 0.8461512002801537}, \"y\": {\"accuracy\": 0.8985}, \"y_hat\": {\"accuracy\": 0.8984999847274853}, \"se\": {\"accuracy\": 0.0}, \"se_hat\": {\"accuracy\": 0.00010205172583062887}, \"context_stratum\": null}}, \"out_of_sample\": {}, \"status_quo_name\": null};\n",
       "const density = 50;\n",
       "const grid_x = [1e-06, 1.3011511650442548e-06, 1.692994354296022e-06, 2.2028415765056147e-06, 2.866229883678204e-06, 3.729398352432554e-06, 4.852511011181743e-06, 6.3138503555892e-06, 8.215273746089953e-06, 1.0689313005882424e-05, 1.390841207112662e-05, 1.809694657026198e-05, 2.354686311364001e-05, 3.063802837345029e-05, 3.986470631277378e-05, 5.1870009063012666e-05, 6.749072272319499e-05, 8.781563250096393e-05, 0.00011426141253772724, 0.00014867137004306603, 0.00019344392634026088, 0.0002516997901283655, 0.0003274994751669172, 0.0004261263236648159, 0.0005544547624925005, 0.0007214294601814526, 0.000938688782612345, 0.0012213760031100258, 0.0015891948094037057, 0.002067782677737912, 0.0026904978401970136, 0.0035007443993213955, 0.004554997653699184, 0.005926740503884541, 0.007711585311544345, 0.010033938212454078, 0.013055670395116691, 0.01698740074503987, 0.02210317627048227, 0.028759573555516536, 0.03742055263793628, 0.04868979566145066, 0.06335278435066323, 0.0824315491666629, 0.10725590623460621, 0.13955614735503497, 0.18158364372009145, 0.23626776957937787, 0.3074200836506151, 0.4];\n",
       "const grid_y = [0.0, 0.02040816326530612, 0.04081632653061224, 0.061224489795918366, 0.08163265306122448, 0.1020408163265306, 0.12244897959183673, 0.14285714285714285, 0.16326530612244897, 0.18367346938775508, 0.2040816326530612, 0.22448979591836732, 0.24489795918367346, 0.26530612244897955, 0.2857142857142857, 0.3061224489795918, 0.32653061224489793, 0.3469387755102041, 0.36734693877551017, 0.3877551020408163, 0.4081632653061224, 0.42857142857142855, 0.44897959183673464, 0.4693877551020408, 0.4897959183673469, 0.5102040816326531, 0.5306122448979591, 0.5510204081632653, 0.5714285714285714, 0.5918367346938775, 0.6122448979591836, 0.6326530612244897, 0.6530612244897959, 0.673469387755102, 0.6938775510204082, 0.7142857142857142, 0.7346938775510203, 0.7551020408163265, 0.7755102040816326, 0.7959183673469387, 0.8163265306122448, 0.836734693877551, 0.8571428571428571, 0.8775510204081632, 0.8979591836734693, 0.9183673469387754, 0.9387755102040816, 0.9591836734693877, 0.9795918367346939, 1.0];\n",
       "const f = [0.383148873201341, 0.38787585716315526, 0.39461823180493544, 0.40389473473090964, 0.4162208968344978, 0.43208609351823923, 0.45197167466272636, 0.47640849844327016, 0.5060305988204148, 0.5415368368502841, 0.5834060400323058, 0.63111709795794, 0.6822391928144372, 0.7326880850305294, 0.777409199755819, 0.8115706823631055, 0.8332179436558199, 0.8442050740296094, 0.8455864580509762, 0.8343416678009188, 0.8055673564737657, 0.758192261277378, 0.6961504926947547, 0.6261083661288488, 0.5552287277338109, 0.4895788151646224, 0.4332770804438961, 0.3882596535863915, 0.35451555977481664, 0.3306099864590343, 0.31429257709410774, 0.30302626037995223, 0.2943579503763862, 0.28613275713048025, 0.2765970674405039, 0.26444703570407746, 0.24887308692313614, 0.22963772127783766, 0.20720485042947562, 0.18290857881365952, 0.1590942500345972, 0.13906092889034982, 0.12646058718383957, 0.12377180776600372, 0.13076384649165007, 0.14513170681506105, 0.16418450749380886, 0.18571870120552836, 0.20816058010626037, 0.2304263790899333, 0.3834012317060266, 0.38827480057216013, 0.39523230133700127, 0.4048099830168528, 0.41753425505609426, 0.4338924351369063, 0.4543475796910867, 0.4793970513833118, 0.509630267261558, 0.5456964530811836, 0.5880278085843951, 0.6360699725255436, 0.6873849086675666, 0.7378996121235232, 0.7825797977923675, 0.8166056630929419, 0.8380959555239316, 0.8491315244185148, 0.8508273278650578, 0.8399262350805159, 0.8110960086717222, 0.7629523227211941, 0.6994539138366384, 0.6275407968864292, 0.554720012383867, 0.48735839591476304, 0.42977172525692325, 0.3839720821435466, 0.3499178232649769, 0.3260747863040216, 0.3100670810351709, 0.299237792422983, 0.29103612799453477, 0.2832357365424738, 0.2740348504163853, 0.26209912428344057, 0.2466006048186573, 0.22729187009919383, 0.20463480837850867, 0.17997321269055877, 0.15568365759498515, 0.13513516419013205, 0.12210429027276404, 0.11919483973260425, 0.12616277980239288, 0.14062222796322954, 0.15984230283596423, 0.1816140125822609, 0.20436611757108958, 0.22700850793652555, 0.38366393462649734, 0.38868808763394885, 0.39586685742810507, 0.4057550422294968, 0.41889075025730066, 0.43575920822663017, 0.4568038133174018, 0.4824854621365523, 0.5133439622096385, 0.5499711836333301, 0.5927414372922771, 0.641056104490619, 0.6924738968946708, 0.742943555760297, 0.7874699260362348, 0.82128054432065, 0.8425927481652562, 0.8536983485342197, 0.8557484129336251, 0.8452378403001408, 0.8163979364115547, 0.7675042770008169, 0.702534642480966, 0.6287169859200422, 0.5539186433216636, 0.4848198386686711, 0.42594265099196466, 0.37937716181906544, 0.3450469131557958, 0.3213111931214118, 0.30566160013767746, 0.2953164578800214, 0.28762476191890873, 0.28028817069929635, 0.27145756089390805, 0.25976960958515727, 0.24437972326302515, 0.22503204612796907, 0.2021871347832973, 0.1771975724942756, 0.15246748950670186, 0.1314281686471921, 0.1179711993298791, 0.11482346674015254, 0.12172937963223107, 0.13623168369402727, 0.1555712944341795, 0.17754132415047075, 0.2005761860747859, 0.22357922676920083, 0.3839373239441153, 0.3891160451578994, 0.3965221737787298, 0.406730135115728, 0.42029062674837925, 0.4376868124885555, 0.4593410986722555, 0.48567496117179904, 0.5171735779508775, 0.5543636172336635, 0.5975501605538616, 0.6460801459731139, 0.69751166475119, 0.7478249714783203, 0.7920822668082684, 0.825596451514417, 0.8467153103122215, 0.8579183305637484, 0.8603659412512084, 0.8502938024867822, 0.821484828243719, 0.7718522959515526, 0.7053910145814156, 0.6296312813722861, 0.5528162678459558, 0.48195335905383546, 0.4217801074357521, 0.37446648043641073, 0.3398965118532813, 0.31631512430624187, 0.3010740089769628, 0.29126164933425014, 0.2841243462747575, 0.27729135721996157, 0.26886715760958335, 0.25746113421069294, 0.24221396044760024, 0.22286301549749188, 0.19986841971334912, 0.17459087098834158, 0.14945853887436, 0.12795694415574, 0.11408104968197075, 0.11067609271707435, 0.1174778000151786, 0.13196996513791281, 0.15137808955657073, 0.17350500405520297, 0.19679380510552347, 0.2201408563861879, 0.3842217461172337, 0.38955899718237214, 0.39719849987766664, 0.40773541911750055, 0.42173400170207614, 0.43967543881922266, 0.4619598517850677, 0.4889663671082542, 0.5211205033635307, 0.5588757932220957, 0.6024569119218552, 0.6511472249819127, 0.7025054843694125, 0.7525523894321262, 0.7964250403498885, 0.8295610606178417, 0.8504767949222539, 0.8618094828405634, 0.8647008777427225, 0.8551156036767658, 0.8263712293576945, 0.7760020653890463, 0.7080223175809833, 0.630278770384195, 0.5514051022534933, 0.47874960400561617, 0.4172747220705635, 0.36923202291883367, 0.3344607371413481, 0.3110829440823088, 0.2963025986542449, 0.28707311082882403, 0.28053563955345384, 0.2742467585166043, 0.2662656555467154, 0.25517627662608566, 0.2401066296381854, 0.22078916524459824, 0.19768465241999544, 0.17216144593556937, 0.14666843688871012, 0.1247372116635227, 0.11045251133182443, 0.1067699790228902, 0.11342106791892981, 0.1278461295214256, 0.14726877315100895, 0.16950914687288887, 0.19302190223167387, 0.2166957489041882, 0.3845175513170507, 0.39001726501879, 0.39789606139960354, 0.40877098559395025, 0.42322086112534935, 0.4417250600497772, 0.46466016633749246, 0.4923600688663424, 0.5251856153327887, 0.563509251512396, 0.6074644744099152, 0.6562629975781519, 0.7074643817512404, 0.7571378603550657, 0.8005123929262973, 0.8331897781969937, 0.8538966429618984, 0.8653947354521061, 0.8687782500291588, 0.8597276815074844, 0.8310736541026087, 0.779960377856667, 0.7104286611902433, 0.6306552810719135, 0.549677973124697, 0.47519970127797523, 0.41241755496770266, 0.36366623096199824, 0.328734201614241, 0.3056115163649668, 0.29134611910982794, 0.28275096865653243, 0.27685968470844785, 0.27115601257546224, 0.2636551284008851, 0.25291754516984255, 0.2380608225828944, 0.218814470542677, 0.1956411604416301, 0.16991664637083492, 0.1441074365482996, 0.12178302069945834, 0.10710271868946275, 0.10312079502048965, 0.10957081406372093, 0.12386827246903032, 0.14324885460237102, 0.1655575582720339, 0.18926331680243735, 0.21324629995211364, 0.38482509232899836, 0.3904911670774224, 0.3986150606558598, 0.4098368594050844, 0.42475105645233024, 0.4438354225551554, 0.46744179975457245, 0.4958560104380453, 0.5293692777106443, 0.5682650867325495, 0.6125755787796832, 0.6614336770877182, 0.7123990678938152, 0.7615968594616501, 0.8043644232545573, 0.8365064929353068, 0.8570003642076147, 0.868701415319861, 0.8726263019485108, 0.8641562541747936, 0.8356096146039611, 0.7837346739956355, 0.7126108417843803, 0.6307573891120968, 0.5476283617001985, 0.47129531109051637, 0.40720015675068355, 0.35776206663175025, 0.3227120758529168, 0.29989826042164863, 0.28620382316408277, 0.27829576307332116, 0.27309782973947216, 0.26802094415886557, 0.2610377117616371, 0.2506873734796814, 0.23607939560426333, 0.21694246677636697, 0.1937425571393539, 0.16786273273735586, 0.14178421452381162, 0.11910635159398297, 0.1040467216468628, 0.09974212216091538, 0.10593701942268208, 0.12004341825088227, 0.13932322689231968, 0.16165374777731134, 0.18552080895139716, 0.20979496426921734, 0.38514472305312253, 0.39098101838416777, 0.39935567701148345, 0.4109329987890471, 0.42632430168828045, 0.4460060385980555, 0.47030416027107386, 0.4994536771505583, 0.5336713418249315, 0.5731439920906597, 0.617792953143995, 0.6666660239281716, 0.7173218054885445, 0.7659480381217185, 0.8080067725379274, 0.8395426281230081, 0.8598189330519165, 0.87176051609353, 0.8762755160642713, 0.8684281640296607, 0.8399966358262204, 0.7873325638720565, 0.7145702137297258, 0.6305824334279768, 0.5452504521277339, 0.46702867992863994, 0.4016146297722139, 0.35151308010775595, 0.3163901554690588, 0.2939412093125495, 0.2808755121804048, 0.273708480803089, 0.2692517486459524, 0.26484357634978517, 0.2584156069951503, 0.24848811741962895, 0.2341649586292613, 0.21517622707541695, 0.19199269916310996, 0.166004794808989, 0.13970570252257497, 0.1167167404973164, 0.10129684868250766, 0.09664493882253411, 0.10252779572260895, 0.11637743414748125, 0.1354961404221634, 0.15780093054907007, 0.1817970742801529, 0.20634427483228662, 0.3854767965331112, 0.39148712968494154, 0.4001180671630959, 0.41205929544511904, 0.42794017101224474, 0.44823617924273373, 0.47324629456350176, 0.5031520822206857, 0.5380911447019835, 0.5781462839782519, 0.6231193273635599, 0.6719672878256979, 0.7222462081732149, 0.7702128263521815, 0.811469816355803, 0.8423353010688545, 0.8623878309405204, 0.8746057708104946, 0.8797575338899246, 0.8725697261840815, 0.8442512987422068, 0.7907613609569525, 0.7163085820878141, 0.6301285453246412, 0.5425391840305192, 0.46239269637768016, 0.39565369263988404, 0.3449134818031032, 0.3097649321274374, 0.28773907106476176, 0.27536158321387766, 0.26899058817515376, 0.26532346260932727, 0.26162614234212345, 0.25579108579250726, 0.24632205355807785, 0.23231986735294308, 0.21351834580654588, 0.19039465509708736, 0.164346690815122, 0.1378769591056629, 0.11462096794121202, 0.09886197975459021, 0.09383714571382495, 0.0993492193393617, 0.11287497446427641, 0.13177119339022458, 0.15400203890517594, 0.1780947644997064, 0.20289686557462977, 0.38582166244123706, 0.3920098060216784, 0.4009023651514187, 0.413215574713348, 0.42959809672463356, 0.45052486765104527, 0.4762668755216409, 0.506949752434769, 0.5426275017596018, 0.5832719029942801, 0.6285573958761279, 0.6773451004067041, 0.7271869732568277, 0.7744149016039873, 0.8147875833167768, 0.8449255600979346, 0.8647458280245436, 0.8772725489903179, 0.8831039904907718, 0.8766055721932955, 0.8483883386129665, 0.7940276608741944, 0.7178281314244422, 0.6293946948591117, 0.539490309371816, 0.4573809487108751, 0.3893107482198931, 0.33795821909982476, 0.3028336686399008, 0.28129129249886897, 0.2696630774753265, 0.2641440647074016, 0.26131536124139226, 0.2583710973607903, 0.253166495326879, 0.24419137921393708, 0.23054621866629332, 0.2119709283820133, 0.18895068621105227, 0.16289101039927856, 0.13630109109008937, 0.11282285549668114, 0.09674681609919078, 0.09132322850368313, 0.09640523597558481, 0.1095394585346473, 0.12815134011590867, 0.15025974408763, 0.174416514192417, 0.19945549768969084, 0.3861796639459826, 0.3925493446518758, 0.40170868196027926, 0.41440159571881574, 0.43129736740494107, 0.45287087255777503, 0.47936418974707984, 0.5108447119269601, 0.5472786915670331, 0.5885203902613418, 0.6341097427685368, 0.6828073201179885, 0.7321595526106918, 0.7785795484886929, 0.8179965401923899, 0.8473567772407571, 0.8669336192489966, 0.8797966085418657, 0.8863452714273683, 0.8805574845242813, 0.8524198221164005, 0.7971369955215997, 0.7191314048346921, 0.628380757203221, 0.536100452968324, 0.45198778377525206, 0.38257995525090155, 0.3306430579513479, 0.2955944782012018, 0.2745981255868111, 0.2637817299027005, 0.25917143691771116, 0.2572302237120522, 0.25508113057599663, 0.2505442639411223, 0.24209821405276005, 0.22884584940831004, 0.21053558758734037, 0.18766223986708247, 0.16163906302500308, 0.13497923047277394, 0.11132320560566744, 0.09495157351889061, 0.08910415878159295, 0.09369764797746472, 0.10637308536808487, 0.12463891809867067, 0.14657648852076666, 0.17076497372985477, 0.19602308943512647, 0.38655113389105983, 0.3931060321727153, 0.40253710453009234, 0.4156170513237384, 0.4330371261239048, 0.4552727017136049, 0.48253612440749244, 0.5148344632452841, 0.5520424311903127, 0.5938908398500257, 0.6397787330656619, 0.6883618337985682, 0.7371797695791847, 0.7827329387655765, 0.8211343475229539, 0.8496731808248774, 0.8689924186255559, 0.8822127418071593, 0.8895091946396048, 0.8844432268626161, 0.8563544305289807, 0.8000935913936921, 0.7202213457611477, 0.6270876002375482, 0.5323671752520832, 0.4462083665428914, 0.37545630371543265, 0.32296466961457976, 0.28804640780724167, 0.2676606961733337, 0.25772001959031443, 0.254075812113292, 0.2530712395450316, 0.25175917685632093, 0.24792690726538608, 0.24004460317871468, 0.22722033842891315, 0.2092134464647163, 0.18652995571980235, 0.16059089227456147, 0.13391056862969508, 0.11011989622867113, 0.09347242899489827, 0.08717757223899891, 0.09122618782164083, 0.1033768855906183, 0.12123569392781519, 0.1429545285310143, 0.16714284824469183, 0.19260274926986137, 0.38693639021959203, 0.3936801407019488, 0.4033876939884466, 0.4168615677034925, 0.4348163685330182, 0.4577285950810189, 0.48578015314079004, 0.5189159651649495, 0.5569158415259922, 0.5993818292577345, 0.6455663743540132, 0.6940163205878007, 0.7422633920499663, 0.7869013613229554, 0.8242386449532682, 0.8519185128564275, 0.870962589509947, 0.8845533669084582, 0.8926196167822639, 0.888275391893253, 0.8601968828389384, 0.8029002591059867, 0.7211014126968649, 0.6255171925943622, 0.528289035025097, 0.44003873953605827, 0.3679356941496274, 0.31492072278629846, 0.28018952585837154, 0.2604810748398336, 0.2514812207809602, 0.24886091187245452, 0.24884202884440654, 0.24840842818537212, 0.24531703464276816, 0.23803252163241356, 0.22567101187531347, 0.20800514762018313, 0.18555368442704406, 0.15974531527278812, 0.1330924450468809, 0.10920811323907353, 0.09230228457026868, 0.0855381683640829, 0.08898867204413086, 0.10055080921018178, 0.11794292746292667, 0.13939598721179292, 0.16355294241133256, 0.18919781206800096, 0.3873357305860242, 0.39427192296207325, 0.40426048287374394, 0.41813470333280506, 0.436633940631711, 0.46023651756956174, 0.4890933207875655, 0.5230856070069059, 0.5618954028077153, 0.6049913305459964, 0.6514741529751502, 0.69977798457583, 0.7474256731632324, 0.7911104292591539, 0.8273458931724803, 0.8541347967015975, 0.8728823633171077, 0.8868471331872568, 0.8956949616843135, 0.8920603175167039, 0.8639475398993706, 0.8055584390887081, 0.721775773360433, 0.6236727288612802, 0.5238656490364771, 0.43347588121530645, 0.3600150211275752, 0.30650998142939273, 0.27202501390277, 0.25306234962828833, 0.24506945407638847, 0.2435311048955872, 0.2445466616884024, 0.2450323445476767, 0.24271735572056702, 0.2360638801700521, 0.22419895154251596, 0.206910868659123, 0.18473251818236303, 0.15909998532277103, 0.1325204837992957, 0.10858068228640883, 0.0914314928786153, 0.08417822625376181, 0.08698122196008895, 0.09789384576514681, 0.11476145303120244, 0.1359029168328949, 0.1599982106435961, 0.18581187806039595, 0.387749426111654, 0.3948816061133598, 0.4051554711003469, 0.4194359471352014, 0.43848853598776527, 0.4627941511005237, 0.492472226828625, 0.5273391795256143, 0.566976901123179, 0.6107166051397149, 0.6575028491163984, 0.7056532628880541, 0.7526808716041171, 0.7953842870237108, 0.8304902813369629, 0.8563612004610921, 0.8747866789737947, 0.8891176326242926, 0.8987466673601823, 0.8957971691988018, 0.8676022361521833, 0.80806842580742, 0.7222495803015784, 0.6215587657095486, 0.5190977442995007, 0.4265177623650246, 0.35169226123772596, 0.297732408581948, 0.2635552624153466, 0.24540870027390022, 0.23848973746786317, 0.23809143886191658, 0.24018967640004568, 0.2416346640710642, 0.24013068704562218, 0.2341405321669464, 0.22280500606120224, 0.2059303433029127, 0.18406483201484003, 0.15865147486390507, 0.1321887680409357, 0.1082284551856777, 0.09084848978987381, 0.08308814528961073, 0.0851985326222151, 0.09540417179383776, 0.1116917757801601, 0.13247736992285308, 0.1564818121716628, 0.18244885405799127, 0.3881777142581716, 0.39550938418690434, 0.40607262038630093, 0.420764715511803, 0.44037869215856595, 0.4653988857956972, 0.49591300751236117, 0.5316718427267804, 0.5721553673043615, 0.6165540855562682, 0.6636523352026522, 0.7116475158647968, 0.7580417631673596, 0.7997448362001612, 0.8337027008899464, 0.8586329807436248, 0.8767061591459826, 0.8913823288036139, 0.9017775535095923, 0.8994773434536913, 0.8711523869560727, 0.8104297891997316, 0.722529324003372, 0.6191813594042553, 0.5139871982329213, 0.4191633995476373, 0.34296656597802416, 0.288589276443342, 0.25478397043400974, 0.23752547351746273, 0.23174803673009842, 0.2325476708856825, 0.23577609637738467, 0.23821941219593756, 0.2375599584853027, 0.23226428145941957, 0.22148980463546586, 0.20506288760611352, 0.18354833449524327, 0.15839537513202295, 0.132090041228338, 0.1081407115372427, 0.09054033923403415, 0.08225695743751793, 0.08363417007899121, 0.09307931943982906, 0.10873418081659747, 0.12912147790486195, 0.1530071703173722, 0.17911299641152867, 0.3886207908179117, 0.3961554089834064, 0.4070118468389854, 0.42212034792401704, 0.4423027860284361, 0.4680478100891225, 0.4994113167708387, 0.5360780912520581, 0.5774250099651843, 0.6224992475280751, 0.6699213620697096, 0.7177647057343645, 0.7635191544934989, 0.8042109947010896, 0.8370097847424448, 0.8609804906985212, 0.8786662242082484, 0.8936518117623571, 0.9047804072273257, 0.903084381535538, 0.874585415783412, 0.8126420067620077, 0.7226232522402039, 0.6165481916199935, 0.5085370610521767, 0.41141290485232784, 0.3338383601320005, 0.27908328302128765, 0.245716248785038, 0.22941925898226456, 0.22485131465861702, 0.22690629611966634, 0.2313114451393753, 0.23479090962681542, 0.23500821928133153, 0.23043689091388836, 0.22025377299081444, 0.2043074305832993, 0.18318012625525865, 0.1583264084561219, 0.13221592364732948, 0.10830554745121734, 0.09049319923001753, 0.08167278795175958, 0.08228087850560517, 0.09091635943413767, 0.10588885237775125, 0.1258375359490913, 0.14957803514903545, 0.17580895506029326, 0.38907880105007875, 0.3968197793296216, 0.4079730113725238, 0.4235021006579534, 0.4442590277393511, 0.47073769956426353, 0.5029623061417751, 0.5405517182163757, 0.5827791447753553, 0.6285464761439943, 0.6763073374999117, 0.7240070697575101, 0.7691214087219359, 0.8087980012338466, 0.8404330124535077, 0.8634282359420149, 0.8806863294903566, 0.8959294427614409, 0.907738216787465, 0.906594543242163, 0.8778855366202121, 0.8147053122766519, 0.7225418356033774, 0.6136686669210326, 0.5027515544605022, 0.40326753146078, 0.3243094463459096, 0.2692186755965983, 0.23635872651994522, 0.22109796500540513, 0.21780757856160454, 0.22117457400554213, 0.22680175921794865, 0.23135377880893893, 0.23247864353240416, 0.2286600914916581, 0.21909715115091755, 0.20366254847117088, 0.18295676457610544, 0.15843854897001652, 0.13255713376418277, 0.1087102343173092, 0.09069271762518993, 0.08132325764460624, 0.08113088202176699, 0.08891209163719271, 0.10315600002687886, 0.12262809252092954, 0.14619854856541525, 0.17254181791860812, 0.38955183002915117, 0.3975025286255558, 0.40895590761757983, 0.4249091383458141, 0.44624545284745865, 0.4734650043226909, 0.5065606040359241, 0.545085778600673, 0.5882101222931339, 0.634688929777703, 0.6828061018516828, 0.7303747933277052, 0.7748539914222154, 0.8135167748626195, 0.8439878860745859, 0.8659939637799837, 0.8827792956792506, 0.8982113741027946, 0.9106261288022807, 0.9099780736576939, 0.8810349146805885, 0.8166217567561664, 0.7222982486763776, 0.6105539619395174, 0.49663604071706346, 0.39472971500941595, 0.3143831167977215, 0.2590013812101277, 0.22671966005512423, 0.2125708937099542, 0.21062592534168706, 0.21536055161912643, 0.2222535985028078, 0.2279129486632812, 0.22997453489385888, 0.22693559156297638, 0.2180200126308809, 0.20312650179690622, 0.18287433223559058, 0.15872514762169843, 0.13310370557180806, 0.10934153901084154, 0.09112436521140943, 0.08119582728973107, 0.08017616983619202, 0.08706323668328242, 0.10053598873871883, 0.11949604195729246, 0.14287331073407084, 0.16931715474288367, 0.39003989231470076, 0.3982036106747904, 0.40996024698554795, 0.42634052276050416, 0.44825991228482803, 0.47622583469732116, 0.5102002948169513, 0.549672553487034, 0.5937092568455655, 0.6409184056981623, 0.6894117057418341, 0.7368656880510033, 0.7807190436399436, 0.818373338118753, 0.8476831868955013, 0.8686877772117424, 0.8849506877811035, 0.9004868528296328, 0.9134137099444692, 0.9132010764494422, 0.8840152161195998, 0.8183964626524093, 0.7219088244564366, 0.6072170035573258, 0.49019695671137337, 0.38580311135458883, 0.30406427301703026, 0.2484391442892414, 0.21680904435005116, 0.20384881449287906, 0.20331658341898584, 0.20947308350486382, 0.2176740536242462, 0.22447365730751428, 0.2274993302789533, 0.2252650862146695, 0.2170222846159553, 0.20269727439810753, 0.18292850881378597, 0.1591790576779989, 0.13384519505319858, 0.11018600248578247, 0.09177371307696558, 0.08127808765948341, 0.07940875696593308, 0.08536662291900032, 0.09802946972501159, 0.11644471828986147, 0.13960744669130543, 0.16614105951394653, 0.3905429211000771, 0.3989228838709697, 0.41098564057479287, 0.42779519833391305, 0.4503000596434562, 0.47901594514014567, 0.513874898296458, 0.5543035165735418, 0.599266759050498, 0.647225211362138, 0.6961161950603807, 0.7434748795483594, 0.7867149872768465, 0.8233683111030417, 0.8515203296327334, 0.8715112791782218, 0.8871981866026277, 0.9027386823972596, 0.9160672063122768, 0.9162278639159918, 0.8868095478220257, 0.8200390320496612, 0.7213934266925294, 0.6036723517103761, 0.48344170886537485, 0.3764926321410716, 0.29335955505937217, 0.23754167139746485, 0.20663872527803123, 0.1949440349843931, 0.19589095065194168, 0.20352184733832734, 0.21307074994177422, 0.2210414524890163, 0.2250566023468849, 0.2236502662924476, 0.21610376868754866, 0.20237261354204833, 0.18311464273758826, 0.15979275738650212, 0.13477087083058215, 0.11123017701147164, 0.09262666032076727, 0.08155799963639232, 0.07882091576284633, 0.08381936363280618, 0.0956375089236875, 0.1134779884508551, 0.13640667179826493, 0.1630201902588584, 0.391060757049187, 0.3996600939176224, 0.4120315776706685, 0.4292719737768749, 0.4523633352256331, 0.4818307161533735, 0.5175773503935792, 0.5589693045225186, 0.6048716746249877, 0.6535980454581142, 0.7029094090098656, 0.7501945098309553, 0.7928361663359166, 0.8284964831295506, 0.8554928365548389, 0.8744567786115636, 0.8895108897664639, 0.9049437327015593, 0.9185517996546431, 0.9190236846123935, 0.8894047831094799, 0.8215650411244738, 0.7207756716865479, 0.5999359623112366, 0.47637852661140845, 0.3668044805158113, 0.2822774813302004, 0.22632078289564383, 0.1962225121334959, 0.1858704684074825, 0.18836162730334627, 0.19751735469946896, 0.20845184769416863, 0.21762218945967865, 0.22265006056785647, 0.22209282692179527, 0.21526416166293477, 0.2021500703197947, 0.18342782248064743, 0.16055846700898113, 0.13586988581495807, 0.11246082411135361, 0.0936696175980486, 0.08202408893920643, 0.07840537572943229, 0.08241902042087934, 0.09336171021048811, 0.11060034293737742, 0.1332773546382121, 0.15996180512300673, 0.3915931370834242, 0.4004148553864562, 0.4130974007135912, 0.4307694991011456, 0.45444694622037296, 0.48466513421448254, 0.5212999858689804, 0.5636596927767996, 0.6105118321208256, 0.6600238927854083, 0.7097787973297875, 0.7570134598791397, 0.7990725258088607, 0.8337464676055675, 0.859585958295896, 0.8775066289476438, 0.8918684774852995, 0.9070734372024143, 0.9208338316751796, 0.9215577836524015, 0.8917942673364097, 0.8229975140145449, 0.7200829192051729, 0.5960248077962352, 0.469016274910931, 0.3567461903793065, 0.27082860035734274, 0.21479057102800464, 0.18557628898183154, 0.17664369613025488, 0.18074244297191017, 0.1914709561852151, 0.20382603786133335, 0.2142220260315118, 0.22028355066538946, 0.22059447526009296, 0.21450307613027336, 0.2020270395407675, 0.18386294551336102, 0.1614682580264073, 0.13713142812341006, 0.11386507614347219, 0.09488965138219141, 0.08266559976720922, 0.07815549068191363, 0.08116374933895121, 0.09120433056096466, 0.10781698196673828, 0.13022657583072528, 0.15697379338640993, 0.3921396834313215, 0.40118663256815446, 0.4141822768168271, 0.43228623726537085, 0.456547842269173, 0.4875137698019163, 0.5250345242169993, 0.5683635785224985, 0.6161738021700561, 0.6664879369898687, 0.7167092633125848, 0.7639170998414684, 0.8054093281754809, 0.8391004453447564, 0.8637764693189988, 0.880632810212642, 0.8942401904998715, 0.9090942659869965, 0.9228829143490112, 0.9238067913458825, 0.8939808938077967, 0.8243682176171736, 0.7193459435747842, 0.5919563375120995, 0.46136422978437186, 0.34632667366527387, 0.25902565568514063, 0.20296756356748202, 0.17471812329223513, 0.16728102405339662, 0.1730484762604465, 0.18539484004128176, 0.19920253329200371, 0.21084741456768985, 0.21796105225077816, 0.2191569372470074, 0.21382006028543504, 0.2020007984214236, 0.18441478380324594, 0.16251415289113003, 0.1385448506697624, 0.11543056481131042, 0.09627459331026811, 0.08347261131195971, 0.07806537334904373, 0.08005242719543582, 0.08916838456826981, 0.10513389511891957, 0.12726218112630905, 0.15406469999772432, 0.3926998932975134, 0.40197472023199965, 0.4152851662387773, 0.43382042960045053, 0.4586626855764262, 0.49037075390606916, 0.5287720599816648, 0.5730689724800765, 0.6218428707106083, 0.672973495015703, 0.7236830395131699, 0.7708870773026314, 0.811826905685789, 0.8445340024824315, 0.8680326632917226, 0.8837968770614967, 0.8965840132447472, 0.9109681851598328, 0.9246737738897295, 0.9257584465145723, 0.895980520923061, 0.8257185561539108, 0.7185981935438172, 0.587747768045105, 0.4534318250373777, 0.3355562812004711, 0.2468837647644021, 0.19087089163797855, 0.16366837000456358, 0.15780153129668428, 0.16529606577810652, 0.17930202345481783, 0.19459105466598875, 0.2075050906860842, 0.2156866744840908, 0.21778196313978754, 0.21321461671030112, 0.20206854344362168, 0.18507804488565327, 0.16368821423608348, 0.14009977968063625, 0.11714551994759315, 0.09781311852611674, 0.08443612070944995, 0.07812999812129451, 0.07908475591966979, 0.08725773588556973, 0.10255793242462741, 0.12439282702570154, 0.15124374207537816, 0.39327312954038574, 0.402778225072976, 0.41640478868132763, 0.43537005414957697, 0.4607878146044392, 0.49322975386998735, 0.5325030589390358, 0.5777630011643229, 0.6275030284947395, 0.679461976854522, 0.7306796030352941, 0.7779011581495372, 0.8183004451924734, 0.8500160740515637, 0.8723145670743295, 0.8869503475340494, 0.8988474294698108, 0.9126530898050262, 0.9261875974130273, 0.9274156134229774, 0.8978256228732882, 0.8270997787690798, 0.7178745563102196, 0.5834152049586429, 0.44522838311770796, 0.32444688361393703, 0.23442061219710725, 0.17852245962571656, 0.15244976887311612, 0.14822610941112568, 0.1575028108785992, 0.17320633562855092, 0.19000181088728868, 0.20420205848195372, 0.213464649620215, 0.216471331644416, 0.21268621977215224, 0.20222742484949946, 0.18584742774669077, 0.16498262292438182, 0.14178620298730238, 0.11899884181276421, 0.09949479653987481, 0.0855480956513125, 0.07834527301096583, 0.07826134338388968, 0.0854771732935804, 0.1000968648095577, 0.12162801703806514, 0.1485208156985195, 0.3938586127645183, 0.40359604876769917, 0.41753958890437737, 0.43693277618164733, 0.4629192002872098, 0.4960839501052743, 0.5362173617362304, 0.5824319211635604, 0.633136978962257, 0.685932873769784, 0.7376756367801252, 0.7849331385288016, 0.8247998045620395, 0.8555090164227365, 0.8765743826522345, 0.8900355150807459, 0.9009691139971013, 0.9141031479514508, 0.9274125860434583, 0.9288003299755896, 0.899568804403677, 0.8285721630085471, 0.7172095604404292, 0.5789726122335684, 0.43676284803513515, 0.31301197940991593, 0.22165665692816422, 0.16594711412014918, 0.1410875326125811, 0.13857748998198793, 0.14968756033103536, 0.16712239176169286, 0.18544547354712632, 0.2009455721135074, 0.2112993243269562, 0.2152268524818643, 0.21223433136889092, 0.2024745783362435, 0.18671767297491948, 0.16638974472593182, 0.14359453934308286, 0.12098014997418216, 0.1013101177827217, 0.08680149956116279, 0.07870808204938762, 0.07758375937715045, 0.08383246918046727, 0.09775943173937796, 0.1189781265469606, 0.14590649118297538, 0.39445541523032385, 0.40442687365887625, 0.41868770387614646, 0.43850589068035434, 0.46505239367378903, 0.4989260161886445, 0.5399041966628066, 0.5870611468446763, 0.6387261662900748, 0.6923637776531385, 0.7446450419543188, 0.7919528478478707, 0.8312893916437889, 0.860968850110539, 0.8807571558362437, 0.8929865898015945, 0.9028804885396883, 0.9152689623973184, 0.9283434000353347, 0.929956914964552, 0.9012851344681913, 0.8302028283758813, 0.7166349867940519, 0.5744306635669814, 0.42804354312548715, 0.30126683754870215, 0.20861535193779274, 0.15317280747589168, 0.12960942305710565, 0.12888025788469648, 0.14187038693224796, 0.16106555710212744, 0.1809331451551066, 0.1977431136384763, 0.2091951486946429, 0.2140503672603679, 0.21185841479358236, 0.20280715361213886, 0.1876836068386752, 0.1679021857386479, 0.14551569026281097, 0.12307981162679105, 0.10325049874616132, 0.08819029198073836, 0.07921629940951591, 0.07705456564295021, 0.08233041825464638, 0.09555537381821566, 0.11645441408843626, 0.14341199491312562, 0.3950624569560086, 0.4052691521156478, 0.41984693439486775, 0.44008625832374226, 0.46718246431857047, 0.5017481059621767, 0.5435522032126623, 0.5916352926907015, 0.6442508251151757, 0.6987304335502657, 0.7515590054590351, 0.7989262590007761, 0.8377282615595194, 0.866345722465572, 0.8848016605692526, 0.8957310572102443, 0.9045070886041933, 0.9160974790355407, 0.928979244591122, 0.9309518888525126, 0.9030712890251619, 0.8320618928477579, 0.7161769071483773, 0.5697955296194467, 0.4190779806322169, 0.289228681544505, 0.19532337367585312, 0.1402307497451395, 0.11804581224945632, 0.1191608464401448, 0.1340725459455493, 0.15505190031724636, 0.17647632091341448, 0.19460236704131822, 0.2071566628926576, 0.21294374855880438, 0.21155794654253424, 0.2032223395715927, 0.1887401791268264, 0.16951283693366193, 0.1475410760147008, 0.12528895200592327, 0.10530826835239193, 0.0897094066043711, 0.07986877655888824, 0.07667731902552066, 0.08097885428611329, 0.09349544796941256, 0.11406901665765679, 0.14104917568596376, 0.3956785043348331, 0.40612110055172157, 0.4210147245961504, 0.44167024096946317, 0.46930393130029635, 0.5045418522257704, 0.5471494679358796, 0.5961382312211542, 0.6496900530770359, 0.7050068267138649, 0.7583861236679436, 0.8058157122084126, 0.844070608283835, 0.8715846124098028, 0.8886414793967061, 0.8981911728636429, 0.9057698100028777, 0.9165316390702802, 0.9293205020495141, 0.9318684065648026, 0.9050396456117045, 0.8342168198703257, 0.7158522360722386, 0.5650676757622743, 0.409872753027105, 0.2769169210418695, 0.1818108569130315, 0.12715554039222488, 0.10642972512654192, 0.10944750917770052, 0.1263164152539722, 0.1490981355642258, 0.17208684390313356, 0.19153118844868627, 0.205188481467104, 0.21190889716219546, 0.2113324259425074, 0.20371738593868755, 0.18988249474946323, 0.1712149084028618, 0.14966265744779483, 0.12759944934091194, 0.10747663800193075, 0.09135470925071332, 0.08066530376292336, 0.07645654685359737, 0.0797866425879814, 0.09159142266533149, 0.11183492644574367, 0.13883045342931055, 0.39630217151476677, 0.4069806989132782, 0.4221881527220587, 0.4432536513707882, 0.47141069991417917, 0.5072983818990364, 0.5506835737558831, 0.6005531671352091, 0.6550219069464658, 0.7111653048468638, 0.7650925818323016, 0.8125802459611244, 0.8502665210878898, 0.876626244742693, 0.8922062546134297, 0.9002855537789718, 0.9065861153584587, 0.9165098601659364, 0.9293640419694332, 0.9327956074184415, 0.9073076016248444, 0.8367249959215479, 0.7156649593893292, 0.5602407637347974, 0.4004335370627406, 0.2643534349411019, 0.16811162889466957, 0.1139852687395504, 0.09479686025676781, 0.0997702611478618, 0.11862541531262771, 0.1432215528278894, 0.16777685366253192, 0.18853757259430276, 0.20329527531478903, 0.21094773742719775, 0.21118138252330576, 0.20428962131425382, 0.1911058392301409, 0.17300195403105112, 0.15187294533462947, 0.13000391661059052, 0.10974965758224009, 0.09312293796696003, 0.08160654730575423, 0.07639769376041916, 0.07876364580929895, 0.08985605046785683, 0.10976594616395496, 0.136768748098257, 0.3969319246917824, 0.407845696179662, 0.4233639357658895, 0.4448317398500573, 0.4734960415371804, 0.5100083516143765, 0.5541416634404871, 0.6048627279606861, 0.6602235227088997, 0.7171767355390982, 0.7716423862662198, 0.8191760177543714, 0.856262808699555, 0.8814081457541305, 0.8954230807022254, 0.9019308604319609, 0.9068712887091885, 0.915965512532859, 0.9290975820352197, 0.9338153110862824, 0.9099840393622984, 0.8396247946283757, 0.7156022863940575, 0.555300765257334, 0.39076524013001146, 0.2515629073079544, 0.15426343469962644, 0.10076157044897549, 0.08318557738473709, 0.0901607818731005, 0.11102390742017021, 0.13743993633376572, 0.16355872826233508, 0.18562961566227482, 0.20148175141094904, 0.21006221079245646, 0.211104381110783, 0.20493646763889517, 0.1924056983328446, 0.17486788741237225, 0.1541649988671253, 0.13249567219051284, 0.112122159591589, 0.0950116274204802, 0.08269396390108819, 0.07650703923559532, 0.07792066041950607, 0.08830301488849535, 0.10787661983640118, 0.13487738655670556, 0.3975660893583983, 0.40871362207663825, 0.4245384491509216, 0.44639923358494166, 0.47555265333904734, 0.5126620054715945, 0.5575105173018966, 0.609049071098109, 0.6652712595582447, 0.7230106983192971, 0.7779976448697837, 0.8255567923310879, 0.8620038318622354, 0.8858657750770504, 0.8982180062883525, 0.9030435812564502, 0.9065398286396117, 0.9148266149587305, 0.9284936796631579, 0.9349877934316456, 0.9131544682406101, 0.8429255984254654, 0.7156310543176748, 0.5502254031470154, 0.38087231405930727, 0.2385732134675871, 0.14030814354073073, 0.0875296276092895, 0.07163679003168488, 0.08065227369955819, 0.10353706949993169, 0.13177147112763488, 0.15944502011931805, 0.1828154747085099, 0.1997526304108776, 0.20925426748501896, 0.21110102466135156, 0.20565545115292788, 0.19377777215583575, 0.17680698988944343, 0.15653241487732328, 0.13506870132677662, 0.11458969343056613, 0.09701901974145644, 0.08392969394892824, 0.07679158537607744, 0.07726932103622264, 0.08694684827258992, 0.10618213563594248, 0.13316998534939972, 0.39820286043361697, 0.40958180482543044, 0.4257077607894481, 0.4479504208785061, 0.47757277911761375, 0.5152492537298647, 0.5607766445261673, 0.613094006731664, 0.6701408673366847, 0.728635710270838, 0.7841188906283076, 0.8316744759857362, 0.8674323357056759, 0.8899336892802339, 0.9005176119370768, 0.9035419369985421, 0.9055070661185691, 0.9130160040096913, 0.9275040849878655, 0.9363372813279105, 0.9168654075416285, 0.8465974703078762, 0.7156947811140494, 0.544984032971105, 0.3707592537037433, 0.22541584885118665, 0.12629192338324846, 0.07433810223240633, 0.06019374349241402, 0.07127927375863341, 0.09619074942209926, 0.12623463822764547, 0.15544838593292576, 0.18010332393165002, 0.19811262228786242, 0.2085258565090216, 0.2111709549015175, 0.20644420999325774, 0.19521798409250712, 0.178813911621299, 0.15896930927270625, 0.13771761023091, 0.1171484518335063, 0.09914396403101144, 0.08531643556855761, 0.07725891460561007, 0.0768219695023713, 0.08580281705206472, 0.10469819700562943, 0.13166030751334645, 0.3988403150879066, 0.41044739438947175, 0.42686767721741486, 0.4494792576339729, 0.479548346751284, 0.5177597685856343, 0.5639263868776349, 0.6169791356519609, 0.6748076765267123, 0.7340194838040106, 0.7899654425212222, 0.8374796796236164, 0.8724902799864771, 0.8935467098767229, 0.9022506277212436, 0.903347916906184, 0.9036910818553182, 0.9104522203406655, 0.9260552824950454, 0.9378374832041133, 0.9211080360273834, 0.8505614301209086, 0.7157118023882317, 0.5395380633329617, 0.3604312863803446, 0.21212638740854767, 0.11226536868782022, 0.061238995621500036, 0.04890173850606516, 0.06207742267658989, 0.08901129679722075, 0.12084809908366001, 0.15158151127504116, 0.1775013081357869, 0.19656640021059296, 0.2078789140357904, 0.21131385087426935, 0.20730049861670052, 0.19672248510838675, 0.18088366658919824, 0.1614702920849106, 0.14043757446206795, 0.11979519134734551, 0.10138580683307374, 0.08685730170983963, 0.07791701762988323, 0.07659148539314009, 0.08488677029168146, 0.10344085796368752, 0.13036209203318028, 0.39947642797571564, 0.4113073903800507, 0.42801379844477827, 0.4509794770764384, 0.4814711000038475, 0.5201830917227765, 0.5669460329626814, 0.6206860006129951, 0.6792468094606796, 0.7391292149253478, 0.7954957986971036, 0.8429222980807748, 0.8771196657622542, 0.8966410782923001, 0.9033495511211397, 0.902389441519702, 0.9010149797492593, 0.9070513033513911, 0.9240460904043222, 0.9393977865577365, 0.9258009531106024, 0.8546816153805691, 0.7155749241007348, 0.5338419841015546, 0.3498952437451914, 0.19874494987060393, 0.09828356331603372, 0.04828742741107195, 0.03780781139210454, 0.053083195894872204, 0.08202537500815488, 0.11563057040289659, 0.1478570305053215, 0.17501749379520692, 0.1951185729016372, 0.20731535034483173, 0.21152942552785248, 0.20822218927930103, 0.1982876538156324, 0.1830116224330916, 0.1640304374348155, 0.14322428314394986, 0.12252714870929426, 0.10374427597264291, 0.08855566310965457, 0.07877409266010416, 0.07659107449387381, 0.08421494697087206, 0.10242631816390946, 0.12928885529940426, 0.4001090885052061, 0.4121586735736384, 0.4291415778556518, 0.45244469343846827, 0.48333271955048895, 0.5225087481807369, 0.5698219408202125, 0.6241962494398404, 0.683433410953622, 0.7439319001582428, 0.8006680576634893, 0.847952097239549, 0.8812633567191758, 0.8991555859180572, 0.9037522219919634, 0.90060261311138, 0.897409549156396, 0.9027295855622745, 0.9213481485758571, 0.9408517085159711, 0.9307719600823112, 0.8587609504807544, 0.7151529587558774, 0.5278450293872246, 0.339160590527, 0.1853166550630811, 0.08440605774937981, 0.03554132782644326, 0.02696036725495532, 0.044333603621833584, 0.07525975593749257, 0.11060069070380574, 0.14428744281857486, 0.1726598181946304, 0.19377365575368471, 0.2068370354923293, 0.21181742051131797, 0.20920727083222984, 0.19991009284398248, 0.18519348598064206, 0.16664524961899996, 0.14607388045147385, 0.1253419549202831, 0.10621936027319767, 0.09041498040163343, 0.07983831804353414, 0.07683401185581307, 0.08380373689259224, 0.10167067304044719, 0.1284536650855832, 0.4007361197151875, 0.4129980398907521, 0.43024638380440505, 0.45386849647714667, 0.48512493291749936, 0.5247263618518095, 0.5725406663508803, 0.6274918077244201, 0.6873428960773115, 0.7483946800892695, 0.8054403644243642, 0.852519303380786, 0.8848658924675759, 0.9010326714885587, 0.9034033085824329, 0.8979339581762698, 0.8928163214797888, 0.8974074339117875, 0.9178099555641555, 0.941950854837091, 0.9357398950042171, 0.8625421442128982, 0.714294378342986, 0.5214934479475788, 0.32824056568213095, 0.17189202012155835, 0.07069673693850698, 0.023061035953904963, 0.01640876407377767, 0.03586586450158846, 0.0687411003612336, 0.10577688022866782, 0.1408850253515732, 0.17043603717478373, 0.1925360410112027, 0.20644578390732043, 0.2121775993650591, 0.2102538451173972, 0.2015866220123692, 0.18742528528883068, 0.16931062642399897, 0.14898290569351247, 0.12823754875153848, 0.10881118776421195, 0.09243862927364865, 0.08111760194373974, 0.07733333652327179, 0.08366938948767666, 0.10118961434356488, 0.1278688892302512, 0.4013552982947952, 0.4138222356834174, 0.4313235602139216, 0.4552445362696647, 0.48683961392619934, 0.5268257690250497, 0.5750890949912061, 0.6305550586016759, 0.6909512122688337, 0.7524852072636955, 0.8097713798107168, 0.8565751912563124, 0.8878742893845859, 0.9022194820834984, 0.9022556589474304, 0.894342488160383, 0.8871909984660136, 0.8910137139662035, 0.9132647531327418, 0.9423692502494403, 0.9403044759546539, 0.8657156147021384, 0.7128331128933199, 0.5147332923005933, 0.31715337220848716, 0.15852726816424212, 0.0572235526015441, 0.010908796763663742, 0.006202847276993051, 0.02771705736866159, 0.062495727337983364, 0.10117719607011988, 0.1376617443803959, 0.1683536720611828, 0.19140996735121796, 0.20614333813529928, 0.21260973931339605, 0.21136012126071352, 0.2033142688002259, 0.1897033489683373, 0.1720228206765394, 0.15194823321034145, 0.13121209135038114, 0.1115199050570651, 0.09462972315003337, 0.08261931463323657, 0.07810149631717622, 0.08382766408260389, 0.10099807685878004, 0.12754592347850757, 0.4019643752718772, 0.4146279932567514, 0.4323684842342995, 0.4565665986195032, 0.48846887231335545, 0.5287971274395256, 0.5774545740514898, 0.6333690267938107, 0.6942351123989788, 0.7561720357415852, 0.8136207725415199, 0.8600726690072563, 0.8902388218140243, 0.9026688982585124, 0.9002714767062485, 0.8898013343011213, 0.8805071059866132, 0.8834905932119941, 0.9075419634449855, 0.9417222278617385, 0.94396326430001, 0.8679350833746451, 0.7105962667065608, 0.5075135755051536, 0.3059233335075574, 0.14528449508421937, 0.04405809203160016, -0.0008518490248250465, -0.003607563438757344, 0.0199237553802758, 0.056549376170599075, 0.0968191845436166, 0.13462916572254735, 0.16641995639202212, 0.19039948921741562, 0.20593135196435308, 0.21311362188012956, 0.21252440816867685, 0.20509025660385066, 0.1920242835054553, 0.17477840094056163, 0.1549670131957035, 0.134263883522715, 0.11434556058462864, 0.09699093838914707, 0.0843500112344967, 0.07914994381097873, 0.08429341441444205, 0.10110982869405971, 0.1274949058182373, 0.4025610969088525, 0.41541206568431294, 0.43337661970027397, 0.4578286716567387, 0.490005134125164, 0.5306310191204215, 0.5796250432307953, 0.6359175638515813, 0.6971724348152457, 0.7594250289572245, 0.816949734667447, 0.8629668597629341, 0.8919137729141253, 0.9023405267078862, 0.8974232866598899, 0.8842987149481809, 0.8727585000092896, 0.8747982023996277, 0.9004811721572303, 0.9395998712247728, 0.9461589060544773, 0.8688401364372929, 0.7074132514156117, 0.4997895891750739, 0.2945819183014446, 0.13223164095069007, 0.031274955008752325, -0.012156785143838333, -0.012973230777174716, 0.012521647273377567, 0.05092696469767877, 0.09271973296493985, 0.131798365518212, 0.16464178308802713, 0.18950844627620006, 0.20581137317986875, 0.21368902255708194, 0.2137451055354676, 0.20691199124263504, 0.1943849492371082, 0.17757421217548341, 0.15803661444189532, 0.1373912871591555, 0.11728799434844084, 0.09952434735400639, 0.08631515518432198, 0.0804886898637619, 0.08508009930265614, 0.10153700641698948, 0.12772442799236516, 0.40314322537593883, 0.4161712601407189, 0.43434356566352783, 0.45902500424911963, 0.49144121338345187, 0.5323185458310407, 0.5815891609656596, 0.6381855313158394, 0.6997423857332123, 0.762215781510315, 0.81972152177896, 0.8652156819208625, 0.8928581414251869, 0.9012016583137555, 0.8936946550970606, 0.8778381139239368, 0.8639590410596558, 0.8649186707167944, 0.8919471624807983, 0.9356100515513305, 0.9463383479762304, 0.8680834090604075, 0.7031255963748972, 0.49152613609550905, 0.2831685240561069, 0.11944220633593194, 0.018950912008195764, -0.022942148231218318, -0.02184609294487705, 0.005545151247347446, 0.04565234781183258, 0.08889492306985647, 0.12917984260038795, 0.1630256527220496, 0.18874043337130753, 0.20578482620031402, 0.2143356997602105, 0.21502069366376592, 0.2087770461540454, 0.19678243557313096, 0.18040733707511641, 0.16115456989100874, 0.1405926521364127, 0.1203467366832196, 0.10223126485274092, 0.08851885495219103, 0.08212583006051988, 0.08619921041631795, 0.10228960470764903, 0.1282412582904432, 0.4037085588164079, 0.41690246914666373, 0.4352650996646382, 0.4601501568025134, 0.492770375431544, 0.5338514163332226, 0.5833364244383906, 0.6401589783776284, 0.7019258187041242, 0.7645180490924542, 0.8219020193884994, 0.8667804329885459, 0.8930362905184737, 0.8992281483980848, 0.8890806069428658, 0.8704377293145358, 0.8541411070450017, 0.8538591237542095, 0.8818442658691256, 0.9294235862515233, 0.9440143852859034, 0.8653587275028956, 0.6975965451143525, 0.48270041326834356, 0.2717309017097842, 0.10699464991725227, 0.007163821624277977, -0.03314525631004461, -0.03017988319236975, -0.0009729721756149834, 0.04074808020694931, 0.08535988834319641, 0.12678343367364597, 0.16157762354861238, 0.18809877135491704, 0.20585299484853314, 0.21505338330815188, 0.21634972239383887, 0.2106831466862183, 0.19921403599750837, 0.18327505871301197, 0.16431852575597283, 0.1438662498642892, 0.12352091832245049, 0.10511211328357817, 0.09096362810985148, 0.08406707294585136, 0.08765960700398268, 0.10337494617804821, 0.12905009252879474, 0.40425495047203, 0.4176026992849753, 0.43613721567144526, 0.46119904497202074, 0.4939863922908093, 0.535222024872189, 0.5848572812528315, 0.6418253105422667, 0.7037055052792554, 0.7663081789016206, 0.8234603357398905, 0.8676263855395585, 0.8924185304333573, 0.8964050611168998, 0.8835876447460375, 0.8621293736293923, 0.8433539502291713, 0.8416533356002687, 0.8701281406343526, 0.9208134517036087, 0.9388270200023421, 0.8604259797410826, 0.6907195218878356, 0.47330429172433536, 0.2603251029513052, 0.09497140108170843, -0.004008705533096846, -0.04270562112318532, -0.03793076287204711, -0.007002001161800386, 0.0362351874177248, 0.08212867750758668, 0.12461823250537085, 0.1603032639432752, 0.18758647916778082, 0.20601700551056984, 0.21584176265443517, 0.21773079942279944, 0.21262815386404116, 0.20167722331771326, 0.18617482502808114, 0.16752619485164089, 0.1472102144625288, 0.12680919372938415, 0.10816631130729659, 0.0936502071460068, 0.08631531537442116, 0.08946674639732377, 0.10479718233369317, 0.13015335138998618, 0.4047803265946169, 0.41826909709192855, 0.4369561567771158, 0.46216697674721885, 0.49508359029902704, 0.5364235204432485, 0.5861432309764351, 0.6431734458136569, 0.7050663904828319, 0.7675655306888135, 0.824369418265192, 0.8677234081607352, 0.8909816388273774, 0.892726861425993, 0.8772332944431581, 0.8529570201309123, 0.8316618726009991, 0.828361831758687, 0.8568132287325629, 0.9096803601534718, 0.9305913162851234, 0.8531289404268049, 0.6824246686099068, 0.46334578035829105, 0.24901483572747019, 0.0834574201315822, -0.01449089336333198, -0.051566019066647484, -0.045057952406473256, -0.012513619664753284, 0.03213294921376897, 0.07921412635879943, 0.12269251429230343, 0.15920760787877808, 0.18720624752885429, 0.20627781092732322, 0.21670047509738904, 0.2191625782800396, 0.21461004796959904, 0.2041696255694484, 0.18910421559449825, 0.17077531464975748, 0.15062249234387903, 0.13020967925187743, 0.11139218999873957, 0.09657739996078907, 0.08887032291813857, 0.09162181106790446, 0.10655690464496259, 0.13155104109665638, 0.4052827029278781, 0.41889897195111353, 0.4377184428506533, 0.4630496833234202, 0.4960568902582614, 0.537449866495842, 0.5871869149483545, 0.6441939550222937, 0.7059958263690689, 0.7682728762004492, 0.8246066851390894, 0.8670466288653964, 0.8887093388340517, 0.8881971738681493, 0.8700452273029132, 0.8429751434583973, 0.8191421665117496, 0.8140703576532398, 0.8419746506553446, 0.8960597311588128, 0.9193017630130065, 0.8434037589010751, 0.6726828910686079, 0.45284953106346654, 0.23787012466195528, 0.07253823948258142, -0.024210609665927474, -0.05967358595652794, -0.051524342375443455, -0.017482262446146035, 0.028458699326342707, 0.07662774002524064, 0.12101366629968391, 0.1582951140298411, 0.18696041457653134, 0.2066361748536803, 0.21762909418138343, 0.22064374620627403, 0.21662691224170771, 0.206689002923659, 0.19206091103257894, 0.17406361044369578, 0.15410080075523824, 0.13371990718258608, 0.1147869392370735, 0.09974201459232634, 0.09172857075480101, 0.09412101927425642, 0.10865095323982321, 0.13324069026268592, 0.40576019959969023, 0.41948981591684714, 0.43842089338755386, 0.4638433441277332, 0.4969018402921458, 0.5382958908101173, 0.5879821929682835, 0.6448791831345867, 0.7064837768555263, 0.7684167625565357, 0.8241546540888405, 0.865577162614907, 0.8855927679269181, 0.8828283398302424, 0.8620601191012383, 0.8322469533141535, 0.8058828137374557, 0.7988867742134559, 0.8257440441807876, 0.8801104242658638, 0.9050996892180725, 0.831277896765569, 0.6615071668333571, 0.4418563361899054, 0.22696519315646513, 0.06229742373549574, -0.033101336386681224, -0.06698089203532887, -0.057297065520872104, -0.021885429791365096, 0.025227645301083568, 0.07437958757429208, 0.1195881257818816, 0.1575696290519879, 0.18685094377913236, 0.20709265780537, 0.21862711848989724, 0.22217301216308133, 0.21867691696265734, 0.20923322588420185, 0.19504266533321013, 0.17738876388136604, 0.15764259559441662, 0.13733679628137885, 0.11834658567025924, 0.10313885274246515, 0.0948832752861487, 0.09695587753348234, 0.11107247529144826, 0.13521736904509285, 0.4062110543164141, 0.4200393204719681, 0.4390606458349742, 0.46454460633449846, 0.49761464159915747, 0.5389573253578384, 0.5885242057137127, 0.6452233487091292, 0.7065229872703866, 0.7679878235017327, 0.823001537730958, 0.8633029266416636, 0.8816309712957933, 0.8766409214645059, 0.8533224014190374, 0.8208425892659965, 0.7919799817601311, 0.7829366120796435, 0.8082996989425815, 0.8620901216839884, 0.8882340538792516, 0.8168611797164227, 0.6489511931441941, 0.43042167691157857, 0.21637552331878673, 0.05281340197090001, -0.04110419538728649, -0.07344694691975129, -0.06234801008656343, -0.025703963994113788, 0.022452711972715145, 0.07247821068937876, 0.11842132608388856, 0.15703435552282707, 0.18687940440244666, 0.20764760409609456, 0.21969396101535332, 0.22374909517774283, 0.22075830416384368, 0.21180025500855976, 0.19804728128807592, 0.1807483869999258, 0.1612450485837632, 0.1410566387731187, 0.12206600205993356, 0.10676077088664293, 0.09832460643188001, 0.10011402491774513, 0.11381121511004688, 0.1374737886718329, 0.4066336337967922, 0.42054539028358773, 0.43963516967531663, 0.465150599178937, 0.4981921672881485, 0.539430836041124, 0.5888094219867349, 0.6452226191079087, 0.706109112681796, 0.7669810220235596, 0.8211417599698012, 0.8602195606751755, 0.8768314279329437, 0.8696631782521669, 0.8438829964189046, 0.8088373293659378, 0.7775353947689554, 0.7663576805216982, 0.7898522213013489, 0.8423231044087991, 0.869025455883403, 0.8003316531049716, 0.6351057316456051, 0.41861348745911464, 0.2061741439316116, 0.0441556817911305, -0.04816987869578582, -0.07903808121212763, -0.06665425574498929, -0.028922280369123587, 0.020144411644219096, 0.07093054790138087, 0.1175176516949048, 0.1566918249681596, 0.18704695478739414, 0.2083011303468627, 0.22082893927317, 0.225370713205149, 0.22286937314622152, 0.21438812233091564, 0.201072589142193, 0.18414000177639256, 0.16490503365222864, 0.14487510330258968, 0.1259389463246604, 0.11059880224375862, 0.1020400356326433, 0.10358004155684575, 0.11685396060044262, 0.14000047182041764, 0.4070264434226802, 0.4210061540632122, 0.4401422765518676, 0.46565894335978775, 0.4986319744934086, 0.5397140422928539, 0.5888356701653817, 0.6448751596199165, 0.7052408001159637, 0.7653958090412374, 0.8185763360757197, 0.856331423263555, 0.8712105443736107, 0.861930494634092, 0.8337980783124911, 0.7963098572701521, 0.762653683662437, 0.7492942466938518, 0.7706278623096727, 0.8211644869080281, 0.8478347975658037, 0.7819190037123983, 0.6200931970649327, 0.40650938573637635, 0.19642744051149025, 0.03638065894004883, -0.054260298052164146, -0.0837286536354579, -0.07019841549976946, -0.031528546610643526, 0.018310743527853224, 0.06974187558071399, 0.11688040288119239, 0.1565438763214072, 0.18735432865204638, 0.20905311562637569, 0.22203126630843678, 0.22703657266493837, 0.2250084669768848, 0.216994914617131, 0.20411642851478817, 0.1875610250964056, 0.16861912216264818, 0.14878725283980831, 0.12995812729201406, 0.11464232862527057, 0.10601476075980998, 0.10733614895540966, 0.12018505874032648, 0.14278597876830446];\n",
       "const lower_is_better = false;\n",
       "const metric = \"accuracy\";\n",
       "const rel = false;\n",
       "const sd = [0.29838267560877413, 0.2873727670535329, 0.2757851030723074, 0.26404698309975416, 0.2514145201138213, 0.23537662669945614, 0.21202316407947625, 0.17738055206379877, 0.1291905625312618, 0.06887744153977184, 0.003826887799222833, 0.05090910495137144, 0.08048112557724116, 0.07978221340852165, 0.055392776066917136, 0.03947888635220919, 0.059689953696139504, 0.06995576431932507, 0.05258814358120405, 0.00922400156962703, 0.04956181726270076, 0.10957748401715768, 0.16222922055522285, 0.2036141750441072, 0.23274539099852232, 0.2506651738124545, 0.2599465161080888, 0.2642066154864289, 0.2672758066514513, 0.27198009740269946, 0.27919512934014246, 0.28795428473371937, 0.2964141919768993, 0.302762131437093, 0.30555563060316493, 0.3036117795228349, 0.2957496091025372, 0.2806116345314189, 0.25671791212495604, 0.22293988602424258, 0.17983183913756318, 0.13325553437163834, 0.1036148677169056, 0.11891796463409095, 0.16236232576328244, 0.2068372815777278, 0.24314192059476028, 0.2701496342366344, 0.28934619922180677, 0.30276893278168704, 0.296140289896055, 0.28439501825588687, 0.2721583868377437, 0.26007049596273424, 0.24754924654950483, 0.23208190713772864, 0.2096048027782839, 0.17596693658680293, 0.12883331526525607, 0.06980818011934849, 0.01204094391785161, 0.050362072382777574, 0.0786296579561844, 0.07668360891355233, 0.04952767867951236, 0.02971651060089825, 0.05396261548249519, 0.06575475256457043, 0.04933153856104282, 0.010054862711715545, 0.051104028455158206, 0.10955111246469865, 0.16128667494080184, 0.20207903550167944, 0.23068788128994333, 0.24800001219390996, 0.25657488009228435, 0.2601710208469143, 0.26285903162835367, 0.26764821421885315, 0.2753924137912084, 0.284922909746084, 0.29416768027329465, 0.3011656337915459, 0.3044132133530956, 0.3027143015748195, 0.29488191463460983, 0.2795284395335722, 0.2550900305964059, 0.2202546995778461, 0.1752011909702231, 0.12514947756976386, 0.09153047582206533, 0.10889757441725252, 0.15619562142092805, 0.20290906781445261, 0.2403945900998186, 0.2680502161020423, 0.2876517252763067, 0.3013847384550238, 0.29379361121824804, 0.28125675241870973, 0.2683143704747002, 0.255847567143751, 0.24346658102328486, 0.22866942512179578, 0.20723571261678334, 0.17484928133595476, 0.129175672907514, 0.07234024132774083, 0.022495923317492103, 0.05155679880931049, 0.07762150407414703, 0.07448422580889001, 0.04510274644226088, 0.02028192071771948, 0.04908786796318327, 0.06194883448806665, 0.04654876914293965, 0.01457219275369037, 0.053647510321969974, 0.10994262742456622, 0.16052782541547306, 0.2006100713262558, 0.22861958646446875, 0.24525382638005383, 0.2530466747955167, 0.2559061187566141, 0.2581689493928056, 0.2630502943979982, 0.2713755642117995, 0.28174506608526545, 0.2918345470369179, 0.2995273390275962, 0.30326242955049904, 0.30183807210698177, 0.29406995973630845, 0.27855020044465095, 0.2536430230767568, 0.21786598680448832, 0.1710170843826311, 0.11750305385087462, 0.07921929154468817, 0.09906337446651729, 0.1503965357310236, 0.1992037100198028, 0.23773429960070933, 0.2659499927303853, 0.2859100811285402, 0.29993694446365615, 0.29134334133815515, 0.27795510267282925, 0.2642442409483643, 0.2513635728264121, 0.23914989505739556, 0.2251241224444949, 0.20490040136371734, 0.1740005664263067, 0.13014431580517646, 0.07614869390968956, 0.032657938577318656, 0.05410755187460825, 0.07733052078227758, 0.07313042486985101, 0.04238556114612093, 0.011397756234588687, 0.04517818961026241, 0.05848118773478642, 0.04407356022470008, 0.01962155634790229, 0.05674918679093068, 0.11062183573811182, 0.15989809593571064, 0.19918300671840491, 0.22652975627259897, 0.24242104538194442, 0.24935607286424893, 0.2514024677778086, 0.2531932508864671, 0.25817591414037594, 0.2671397148898117, 0.2784209188755004, 0.28941748118217714, 0.2978505611998908, 0.30210653170350316, 0.3009865101894008, 0.2933182812633247, 0.27768455235834416, 0.25239191483957457, 0.2158067408905124, 0.16736018773691536, 0.11051381320798961, 0.06675386349957217, 0.08960643213955055, 0.1450613104049027, 0.19575242909220755, 0.2351674718489645, 0.2638457849964768, 0.2841150055295626, 0.2984193222253046, 0.2887911535126977, 0.2744882478844429, 0.2599398382576229, 0.24660385218476455, 0.2345821705654406, 0.22143043447930053, 0.2025817233595914, 0.17338803246576773, 0.13164860096353082, 0.08087393005384735, 0.04231968655803544, 0.05755333938495245, 0.0775914915900399, 0.07251262616681343, 0.041461737115868445, 0.004401253955464827, 0.042291181422238706, 0.055282955483977166, 0.041724600163339794, 0.024232172531142886, 0.060031044888007756, 0.11145708229647466, 0.15934112296276226, 0.19777292406296595, 0.22440770461420384, 0.23949664549815775, 0.24549799752422796, 0.24665113773161162, 0.2479198266341675, 0.25301512730902814, 0.26268105942642905, 0.27495187598755794, 0.28692017011384413, 0.29613923977890166, 0.30094906002956284, 0.3001630238996986, 0.29263106674340494, 0.27693826628878115, 0.25134995783156966, 0.21410667178077306, 0.1643077904979966, 0.10441042145936424, 0.05424995734621643, 0.08078784566014315, 0.1402883421354854, 0.19258304070563512, 0.23269801301598528, 0.2617327593001105, 0.28225918319921295, 0.2968250345129092, 0.2861398194106854, 0.2708556167666826, 0.25539387449804807, 0.2415538648828283, 0.22974617615301343, 0.2175726196953217, 0.2002614459130084, 0.17297462819573664, 0.13358757002010246, 0.08618144106260178, 0.051396189543080874, 0.06146638650342125, 0.07821836632375784, 0.07247664212520752, 0.042148583247736994, 0.0073839970628711464, 0.04039572793057192, 0.052280220246264164, 0.03932742434549454, 0.028127136592272103, 0.06320281610578993, 0.11232289081416685, 0.15880106815602707, 0.19635509464728387, 0.22224314319790692, 0.23647634730980463, 0.24146831535677316, 0.24164387840731222, 0.24233688327479488, 0.2475586302067864, 0.2579970820029162, 0.27134077857295463, 0.28434740306471484, 0.2943979781291686, 0.2997938450120641, 0.2993709890637604, 0.292012100773753, 0.2763171201330563, 0.25052828287839674, 0.21279110028346826, 0.16192952131909094, 0.09944199502448187, 0.04192260711822721, 0.07295923943513373, 0.13617312884732252, 0.1897186541253044, 0.2303269571920009, 0.25960431357615843, 0.28033421202589853, 0.2951466412726348, 0.2833933406595466, 0.26705811342130287, 0.2506001857730984, 0.23619936954042461, 0.22462466444431062, 0.21353513489652484, 0.19792088780129954, 0.17272061784012865, 0.1358567892249067, 0.0917901607776639, 0.059833296676127905, 0.06549993492539395, 0.07902171658058413, 0.0728415458662229, 0.04404302277090493, 0.014315294233339207, 0.03935712156818993, 0.049401884691761606, 0.03673184907210249, 0.03121892871390996, 0.06605555337524315, 0.11310552919488738, 0.15822473142376656, 0.19490578057482633, 0.22002650314356137, 0.23335680849974125, 0.23726404071680934, 0.23637330761573733, 0.23643307226053042, 0.24179795130561918, 0.2530868218770858, 0.267592107334378, 0.2817051743753122, 0.2926320773315128, 0.2986450065539888, 0.2986137279409293, 0.29146471684281705, 0.2758257860535412, 0.2499355931537835, 0.21187993403904024, 0.16028276478202141, 0.09585454727122882, 0.030267887235209148, 0.06657116746671748, 0.132801749789959, 0.18717641888529798, 0.22805216806392056, 0.2574519920083488, 0.27833058596522287, 0.29337611624423643, 0.28055708315794653, 0.26309836514872326, 0.2455540218387473, 0.23052662505575308, 0.21920059007676562, 0.20930305548846398, 0.1955416104495298, 0.17258523308131932, 0.13835421064971343, 0.09747789681206825, 0.06759342845903912, 0.06939217925878549, 0.07982207621115782, 0.07341862994712774, 0.04666535715180255, 0.020901914019725677, 0.038955138049746395, 0.04658734684541096, 0.03382288835691088, 0.033494883145098124, 0.06844603975156419, 0.11370651269942564, 0.1575633657901817, 0.1934029716158225, 0.2177492306596709, 0.2301358061060716, 0.23288355043224246, 0.23083312072915838, 0.23019763131449741, 0.23572567024477015, 0.2479511757586052, 0.26371220385704675, 0.2790007842463243, 0.29084756368722364, 0.29750694908558506, 0.2978944880074289, 0.2909917558055172, 0.2754677384721557, 0.2495779149717532, 0.2113868056173865, 0.15940833350815228, 0.09385399099915381, 0.020750301903250456, 0.06213738909656997, 0.13024343108886138, 0.18496642103962188, 0.2258681157956909, 0.25526543266871876, 0.27623769516863567, 0.2915048753759766, 0.2776379116818216, 0.2589809929791771, 0.2402523794425674, 0.22452261732231374, 0.21345734825090393, 0.2048625411108642, 0.19310614211943306, 0.17252826624464315, 0.14098464750182096, 0.103075675085939, 0.0746518403136327, 0.07295278929057095, 0.0804582540679584, 0.074027109245169, 0.049581302350638914, 0.026757856122510807, 0.038927353995630146, 0.043793055953119935, 0.030525801561370837, 0.0349841268320945, 0.07028130696455072, 0.11404437864886206, 0.1567741396976744, 0.1918270263605633, 0.21540404360617882, 0.22681240144742815, 0.2283268071200151, 0.22501832440698316, 0.22362053923482073, 0.22933567162168675, 0.24259324336404287, 0.2597095055291856, 0.2762429338784685, 0.2890512080581161, 0.2963843519655897, 0.29721642096733225, 0.2905955320730604, 0.27524518623536204, 0.24945841977397604, 0.2113184474090251, 0.15932705316299475, 0.0935636898417433, 0.017500212030869263, 0.060115254378835435, 0.12854326033022392, 0.18309083286365352, 0.223765744277088, 0.2530323512681895, 0.2740438445497075, 0.2895238179613456, 0.27464432158602076, 0.2547129047679634, 0.2346943866529178, 0.21817531481786553, 0.2073790341625648, 0.20020134864143985, 0.19059871650851853, 0.17251152247116158, 0.14366280611743676, 0.1084587771869735, 0.08099530685804969, 0.07604709172911928, 0.08079137080857449, 0.07450473739635913, 0.052452172671532384, 0.03177066874071656, 0.03901460024940998, 0.04099738682801255, 0.026807193181342996, 0.03574473322626304, 0.07150596959328735, 0.11405518444233058, 0.15582122974465526, 0.1901611935356106, 0.21298513691555823, 0.22338708064609794, 0.2235955890339526, 0.2189254979363308, 0.21669268462042832, 0.2226234407640176, 0.2370187221180272, 0.2555947914849994, 0.27344181122440736, 0.28725053503690984, 0.2952821545208385, 0.2965825620948473, 0.29027780836212214, 0.2751590316475584, 0.24957732771195398, 0.2116743615477832, 0.16003786042900275, 0.09499341555277187, 0.02327277071097477, 0.06071965522782381, 0.12771646864340938, 0.1815434071340341, 0.22173243964301054, 0.25073856297663794, 0.2717362916459545, 0.2874233813636392, 0.2715865635561268, 0.25030360977190386, 0.2288817471091505, 0.21147395790683166, 0.2009507243353477, 0.19530939694274857, 0.18800600914241938, 0.17250007398506678, 0.14631504084460942, 0.11353807053487976, 0.08662154701310011, 0.07858318275553379, 0.0807059773284534, 0.07471362691169486, 0.055035746158663336, 0.03588637431942931, 0.038991084517478035, 0.038203595481819314, 0.02267431645078516, 0.03585642998494531, 0.07209248217799595, 0.11369216704603645, 0.1546765537235053, 0.1883919960048695, 0.21048832641590656, 0.21986186341488553, 0.21869372376596133, 0.21255308657719238, 0.20940604906713997, 0.215586410992308, 0.23123635757107874, 0.25138143552759185, 0.27060916282670655, 0.2854538198235891, 0.2942055351023483, 0.29599580998736674, 0.2900397795924888, 0.27520885802922507, 0.24993189873099486, 0.21244681740621627, 0.16151777912262505, 0.09803581999669847, 0.033582352195488364, 0.06380360281248677, 0.12774564194161686, 0.18030937927700671, 0.2197521056517297, 0.2483680429345803, 0.2693013042807736, 0.28519361014508054, 0.2684767563967144, 0.2457655522607371, 0.22281925509010655, 0.20440938868828554, 0.19415878190266203, 0.19017939086651123, 0.18531785733733974, 0.17246328426390403, 0.14888009594578222, 0.1182527961940341, 0.09153891088834931, 0.08050275374144014, 0.08010951949656453, 0.07454256067555212, 0.057169787003232025, 0.03908085509145514, 0.038676560188887106, 0.03544080125124153, 0.018175056141513653, 0.03541432801187102, 0.07203376513463144, 0.11292492546983494, 0.15332016943093504, 0.1865094663279548, 0.20791112251252056, 0.21624037256382073, 0.21362732228307138, 0.20590173257395308, 0.20175390533793072, 0.20822437515869158, 0.22525845650824475, 0.2470856600379762, 0.2677583464306112, 0.2836700706243392, 0.2931598836021855, 0.29545890678800996, 0.28988206623919105, 0.275392946300251, 0.2505165119659802, 0.2136211780351145, 0.16372378463909087, 0.10249251479953395, 0.04526780646877017, 0.06892738250241194, 0.12858164346220527, 0.1793658012772968, 0.21780534567136337, 0.24590302472623382, 0.26672423819682506, 0.282824240388068, 0.2653289817678276, 0.24111445976102444, 0.2165153945934946, 0.1969744311625231, 0.18699118941188866, 0.18480751603913317, 0.18252795176180495, 0.17237559073022662, 0.15130910744664672, 0.12256490647629414, 0.09576614844921405, 0.08177502026111748, 0.07893106008249662, 0.07390718216686223, 0.058754668572174686, 0.041353779309389445, 0.03793659502170611, 0.03276295103641651, 0.013404201333831304, 0.03452191647660965, 0.07133767175000041, 0.11173839298828578, 0.15174037041848498, 0.1845072285682023, 0.20525272739052375, 0.2125278565384712, 0.20840500860989108, 0.19897465119136076, 0.1937310309451271, 0.200539978920823, 0.21910146968079808, 0.24272678235095252, 0.2649043582835057, 0.28190899441211476, 0.2921507669789729, 0.2949744189215887, 0.2898047171487855, 0.27570831989593986, 0.25132282906827896, 0.2151765254770607, 0.1665962081354419, 0.10811589949777661, 0.05731290381055447, 0.07554620073241347, 0.13014810084959996, 0.1786822870159027, 0.2158697452762406, 0.24332413481091492, 0.263989634543247, 0.2803047999960423, 0.2621593536346655, 0.2363696987898809, 0.20998303816649713, 0.18916433590171047, 0.17943791499484266, 0.1791942209241693, 0.17963448917925998, 0.1722170499127662, 0.15356509917600902, 0.12645468306899016, 0.09933216533060829, 0.08239295626154733, 0.07711981706661798, 0.07274914388895598, 0.05973993053566316, 0.04272762787645208, 0.03667765976466335, 0.030245593653434922, 0.008543851782313818, 0.033282721494148064, 0.07002295914237419, 0.11013177442534465, 0.14993350815034467, 0.1823824263524522, 0.20251395187101692, 0.20873115726123642, 0.20303813885527044, 0.1917780614100728, 0.18533393749176144, 0.1925393199493874, 0.2127866501926781, 0.23832744189037028, 0.2620638283285649, 0.2801809440155074, 0.2911838874838996, 0.2945447183810137, 0.2898072215348537, 0.27615081617498555, 0.2523400323246371, 0.21708652844597778, 0.1700630875983593, 0.11464877901547438, 0.06934810225268925, 0.0831604552759393, 0.1323484316259721, 0.17822210787482745, 0.21392024441179464, 0.24061055980418686, 0.26108133687724, 0.2776247257989916, 0.25898605403739017, 0.2315546271896155, 0.20324026380034732, 0.18097731015152776, 0.17149132121454697, 0.1733451086604484, 0.17664077626827504, 0.17197365869572567, 0.15562215242566765, 0.129917304511941, 0.10227569331728373, 0.08237118425917359, 0.0746438229893796, 0.07103492598427066, 0.06011492317396332, 0.043248573412373904, 0.034841272109137816, 0.02798009805553778, 0.004208027527491165, 0.031791028849116394, 0.06811660090709665, 0.10811754176454479, 0.1479035639681698, 0.18013550218303687, 0.1996970507713673, 0.20485861567991465, 0.19754100111729914, 0.18432168398881002, 0.1765611160032169, 0.18423268707627263, 0.20634079113949425, 0.23391379245228092, 0.25925497595805047, 0.2784968447593408, 0.2902650334650032, 0.2941719646035921, 0.28988852959005723, 0.2767151814524666, 0.2535551245612194, 0.21932047841627839, 0.1740448050800142, 0.12185136407341483, 0.08120163009086494, 0.09137402989467822, 0.1350739233383234, 0.17794354737366064, 0.21192958426075686, 0.23774024263289836, 0.25798262720653303, 0.2747734983721476, 0.255829325715492, 0.22669692718876205, 0.19631131028064136, 0.17241516479638086, 0.16314663134425167, 0.16727196816084786, 0.17355577299483108, 0.1716374700523057, 0.15746437590524023, 0.13296007260207687, 0.1046448031559644, 0.08174505352000717, 0.07148885913309633, 0.06875475807499497, 0.05990248595419638, 0.042988431719645365, 0.032399120725211894, 0.02606480757184847, 0.004026241898048847, 0.030123286281556833, 0.06565238746730656, 0.10572050736423835, 0.14566148699768072, 0.17776983797575188, 0.19680547857353, 0.20091990784028052, 0.19193098496410055, 0.17661932375281497, 0.1674132983412825, 0.17563548778019722, 0.19979704106616955, 0.2295156394303758, 0.2564975187295835, 0.27686809928845263, 0.28940002285444766, 0.2938580869892129, 0.2900470809050218, 0.2773951859515009, 0.25495327517359, 0.22184441351041212, 0.17845844289953341, 0.12951461862486302, 0.09277686072295317, 0.09989334003534063, 0.1382114627292287, 0.17780140876943146, 0.20986881167315236, 0.2346901030068312, 0.2546763805710605, 0.2717407956138653, 0.25271141127541724, 0.22182889688880433, 0.18922769192246225, 0.16348412634195558, 0.15440247667741513, 0.1609939815673298, 0.17039456040577586, 0.17120652278819457, 0.15908475997902563, 0.13560007127471094, 0.10649617976409645, 0.08057056324948204, 0.06765775032988385, 0.06592191468499849, 0.05915454915456901, 0.042047453973663836, 0.02934975335562139, 0.024592792821529246, 0.008069573951449601, 0.028332873920420453, 0.06267079609203462, 0.10297692507858598, 0.14322430879265524, 0.17529127201219982, 0.1938435703660989, 0.1969258051375272, 0.18622870558018284, 0.1686895585669465, 0.15789373464124995, 0.16676943363080465, 0.19319578656295436, 0.22516649666168762, 0.25381252661098724, 0.2753064697827248, 0.28859463970783494, 0.29360476813499664, 0.2902808396795712, 0.27818375436102705, 0.2565181953373513, 0.22462225317555387, 0.1832214786821885, 0.13746378898321152, 0.10401218282398518, 0.1085063321088029, 0.14164995878250458, 0.17774857062334048, 0.20770782343631927, 0.2314362773750862, 0.2511452377555428, 0.26851666632748766, 0.2496564281619504, 0.21698766992181132, 0.1820294906341585, 0.15419588927866337, 0.14526156333020407, 0.1545391523212542, 0.16717871157568687, 0.17068460367457847, 0.16048396843444684, 0.13786209197549046, 0.10789407190270894, 0.07892483287603265, 0.0631701043782073, 0.06257259065825263, 0.05794870877007449, 0.04055772349239885, 0.025716814310277152, 0.023636865704442313, 0.012489944573662922, 0.02645098769155154, 0.059220088811308, 0.09993350425341141, 0.1406140450241253, 0.1727075130834495, 0.19081615633836455, 0.19288785384821436, 0.1804580632482588, 0.16055656492409326, 0.14800848657515264, 0.15766408465542056, 0.18658557552420038, 0.22090353232787674, 0.2512222150705087, 0.2738239375253361, 0.28785456445934593, 0.29341342789260383, 0.29058733555793714, 0.2790731073386335, 0.2582325255082561, 0.2276168781479207, 0.1882546424456052, 0.14555652793930635, 0.1148654057461558, 0.11706069915893359, 0.14528505362905936, 0.1777374995571436, 0.20541593368401512, 0.22795437356179468, 0.24737179595376382, 0.2650917253188372, 0.24669016892349152, 0.21221532370702909, 0.17476683320167077, 0.144569029496302, 0.13573152289318613, 0.1479460022582071, 0.16393653561698313, 0.17008085821251026, 0.16166910117600441, 0.13977671054722476, 0.10890882633122355, 0.07690677024322193, 0.05806264837773578, 0.05876657314477842, 0.05638492249069577, 0.0386864668000466, 0.02154865795197957, 0.023234724558721376, 0.01665488632302078, 0.024494935369422266, 0.05535853554389091, 0.0966461626532415, 0.13785640134689645, 0.1700274784607389, 0.18772812146381262, 0.18881797130722963, 0.1746462136872012, 0.15225111983175293, 0.13776673618022006, 0.14835889960165788, 0.180024029119878, 0.21676736870531574, 0.24874967183905625, 0.2724325407135732, 0.28718529887131455, 0.2932852083931535, 0.2909637088216116, 0.28005490920819986, 0.26007821953822213, 0.23079110635683278, 0.1934839242952025, 0.15367877864880056, 0.12530676897542264, 0.12544687108315328, 0.14902215394277704, 0.1777216519536012, 0.2029624501413506, 0.22421973557441638, 0.24333881758520884, 0.2614573718618745, 0.24383981742658709, 0.20755882667595296, 0.16750153855060887, 0.13463097664879403, 0.1258260581505816, 0.14126558177054205, 0.16070315338334148, 0.16940926423489586, 0.16265245014896476, 0.14137844320304893, 0.10961492753574392, 0.07463741645632278, 0.05239049855035137, 0.05458898664588162, 0.054581454387240644, 0.036637394342301344, 0.016919411969237227, 0.02337930922910137, 0.020416149431610388, 0.02248299709532901, 0.05115758487227793, 0.09317830101230391, 0.13497931621718087, 0.16726058804697735, 0.18458392525666673, 0.18472795937910574, 0.16882341919697758, 0.14381183084656426, 0.12718111013185518, 0.13890600531597544, 0.1735786516752215, 0.2128016976703842, 0.2464185145890382, 0.2711441924817143, 0.2865920869778245, 0.2932209602278051, 0.2914067586327907, 0.2811204172535861, 0.26203691183590777, 0.23410853296728987, 0.1988418270179377, 0.16174019497784392, 0.1353154000925009, 0.13358596186407115, 0.15277806560003634, 0.17765672192302293, 0.20031724834670234, 0.22020771460198202, 0.23902945801396402, 0.25760603380462, 0.2411335740637383, 0.2030697653846438, 0.1603088739574632, 0.12442087808569988, 0.11556658343549224, 0.1345638132743466, 0.15752035067770215, 0.1686879814852193, 0.16345026623536651, 0.142703945658895, 0.1100884961911757, 0.07225913011344519, 0.046230145922494824, 0.05015345379513093, 0.05266910240811152, 0.034645863521467445, 0.01193315621759735, 0.024018530050800256, 0.023716355843418434, 0.02045352337968235, 0.04670572289600203, 0.08959837180088331, 0.13201139770912407, 0.1644160519096512, 0.18138709940586334, 0.18062894034145313, 0.16302274525049126, 0.13528665991998387, 0.1162680199755921, 0.1293739895644728, 0.16732739209631603, 0.20905267436455627, 0.24425248019354986, 0.26997048229779025, 0.28607983363214834, 0.2932212300160699, 0.2919129930356876, 0.2822606283665843, 0.2640902566620235, 0.23753421910820058, 0.2042680073418738, 0.16966991290932162, 0.14487731127034445, 0.141421509931961, 0.15648159798611266, 0.1775017170461093, 0.19745133713418794, 0.21589394291271324, 0.23442751366539386, 0.2535314400882714, 0.23860018685932455, 0.19880378595225975, 0.1532792769074553, 0.11399392695570086, 0.10498473343220623, 0.12792412482231463, 0.15443614245640275, 0.1679385908382182, 0.1640815548086709, 0.1437902517445321, 0.11040425921176984, 0.06993233714135073, 0.03968607823946381, 0.045606957230825806, 0.05078272045547964, 0.03296067231029103, 0.006745712478538855, 0.025063605336310864, 0.026535598962836048, 0.01848528199275373, 0.042112630661020035, 0.08597656518674254, 0.128980341564001, 0.16150219139532454, 0.17813974343745353, 0.1765307260081148, 0.15727956334954415, 0.12673481903414852, 0.10504802063424518, 0.11985313397190767, 0.1613587376393174, 0.20556805733362088, 0.24227495064176027, 0.268922465137823, 0.2856530225480479, 0.2932862496348826, 0.29247867948700695, 0.28346641932381783, 0.26622023155002195, 0.2410352273469555, 0.209709458264048, 0.17741295181120353, 0.15398414548178146, 0.14891384496977056, 0.1600734828245823, 0.17721986332815506, 0.19433741319600062, 0.2112546081591949, 0.22951769301962324, 0.24922892503333013, 0.23626839085013282, 0.19481968431720434, 0.1465197636702407, 0.10342816109358106, 0.09412647548042716, 0.12145019383863559, 0.1515039733290935, 0.16718523930730997, 0.1645669203236582, 0.14467307630378604, 0.11063209317637909, 0.06782818520942184, 0.032906140155769724, 0.04113611446836215, 0.0490493758821573, 0.03180528493887179, 0.001958604460657387, 0.026400885263980232, 0.02887409298457458, 0.016713947623329842, 0.03751292445738138, 0.0823805788159372, 0.12591144793145786, 0.15852583413319532, 0.17484204007568827, 0.1724411377529834, 0.15163082058279942, 0.11822911767804914, 0.09354619412088692, 0.11046260361662456, 0.1557710374676633, 0.20239607690145994, 0.24050842593460553, 0.2680104440487257, 0.2853156359546831, 0.2934159274152791, 0.2930998947928079, 0.2847286775920624, 0.2684093997060629, 0.2445810119495723, 0.21512036974875018, 0.18492726989291905, 0.16263231650190213, 0.15603620819712433, 0.16350588366286828, 0.17677935516495752, 0.19095040726186796, 0.20626672644596616, 0.22428591424714744, 0.24469576839916599, 0.23416626514046138, 0.19117809100219527, 0.14015454355279464, 0.09283552452973842, 0.08305935182311179, 0.11526836153075534, 0.14878148109721911, 0.1664537114669572, 0.16492748420913272, 0.14538523108947532, 0.11083335287746052, 0.0661155476410793, 0.026120547482475765, 0.03697247477532579, 0.04757351557050121, 0.03132179180705248, 0.004396409617478081, 0.027902523603483897, 0.030741363913898697, 0.015331451644932355, 0.03306787695725992, 0.07887069859270326, 0.12282637564593143, 0.1554918196074698, 0.17149181245112993, 0.16836530268795227, 0.1461140421504748, 0.10985881307009653, 0.08179257718055381, 0.10136007522780043, 0.1506706808107198, 0.19958403613971917, 0.2389739600262476, 0.2672437527836804, 0.28507107814405436, 0.2936098416362155, 0.29377257346735136, 0.2860384202436529, 0.2706411288585104, 0.24814367843541937, 0.22046177978792733, 0.19218139752819294, 0.17082236981857968, 0.16277203198730308, 0.16674169422638055, 0.17615397487293588, 0.18726802924762764, 0.20090841335837314, 0.21871963494225308, 0.23993157592712902, 0.23232052526154084, 0.18793972331149164, 0.13432409810177698, 0.08238035369812674, 0.07188621718561385, 0.10952884546042169, 0.14632876821123034, 0.1657704540852668, 0.1651839040434339, 0.14595521979759343, 0.11105730629021794, 0.06494211224985783, 0.019751536357326377, 0.03338896749180718, 0.04642133826210123, 0.03152246660773159, 0.009299774451876689, 0.02943472978467153, 0.03214759531020547, 0.014541104691320847, 0.028961404407079266, 0.07549478036422907, 0.11974227499090588, 0.15240264429692185, 0.1680841446150171, 0.16430495894182592, 0.1407660485466922, 0.10173290817229082, 0.06982268336391641, 0.09275377221322156, 0.1461687359226972, 0.19717668075111544, 0.2376905815691039, 0.2666305460216536, 0.2849221052605996, 0.29386723665311804, 0.29449255369006455, 0.28738689925676925, 0.2728997662609773, 0.25169813037619737, 0.22570110092856224, 0.19915254545007877, 0.1785584749445584, 0.16911298797003438, 0.16975375559391592, 0.17532361016765527, 0.18327132469346913, 0.19515915295371897, 0.2128082216602537, 0.23493870578926185, 0.23075577720668408, 0.18516322459609946, 0.1291817338116385, 0.07231052032270673, 0.060773359508338086, 0.10440427113675597, 0.14420616793522234, 0.16516158787125043, 0.16535552431677464, 0.14640608711520164, 0.11133807335925347, 0.06441216030737817, 0.014721146760226558, 0.030670396337719133, 0.045608471190718855, 0.03228297142539543, 0.013894797997087757, 0.030864490869042235, 0.03309691847737183, 0.014453103912019892, 0.025382821353752555, 0.07228409810328956, 0.11667141375953045, 0.14925826413827972, 0.16461108496621776, 0.16025780983377177, 0.13562139747492322, 0.09398357109016453, 0.05767826464583977, 0.08491507593846967, 0.14237575779011483, 0.1952144132355627, 0.23667472615119514, 0.2661776051582544, 0.28487076365082975, 0.2941870219894821, 0.29525562020908896, 0.28876569214054476, 0.27517077133717244, 0.2552221224841142, 0.23081158339682753, 0.2058250893749195, 0.18584800005188618, 0.17505754850849456, 0.17252406961058686, 0.17427469786089766, 0.1789452601438117, 0.18900006545201462, 0.20654337001378728, 0.2297227470048966, 0.22949376772272886, 0.18290267582673048, 0.12488654539836293, 0.06300795761643734, 0.05001239060996756, 0.10008344042197578, 0.14247156157702012, 0.16465194713071005, 0.16545968904201042, 0.14675459486515746, 0.11169247360352252, 0.0645670956626571, 0.012837053850318796, 0.029038954709407067, 0.04509545655422338, 0.03338428368084532, 0.017947036026392083, 0.03206568293466696, 0.033583326180330976, 0.014985226642578491, 0.02248620742765046, 0.06925123652616673, 0.1136213535402045, 0.14605605872041547, 0.16106144933577526, 0.15621697158410572, 0.1307106038806137, 0.08676876483516441, 0.045408785547422316, 0.07818539834321095, 0.1393947651775926, 0.19373146738133437, 0.23593971008254727, 0.26589016768721463, 0.28491833894855406, 0.294567774691565, 0.29605754371435117, 0.2901667774322724, 0.2774408087800804, 0.25869623849026696, 0.2357717565788709, 0.21218934776550633, 0.19270114052080442, 0.18060989410082692, 0.17504304862586914, 0.1730006189001291, 0.1742793611822916, 0.18241417502680973, 0.19991959029561168, 0.22429305631364096, 0.2285526718139285, 0.18120494178652033, 0.12159212007568587, 0.055058157534572126, 0.04016248227225415, 0.09675818836944518, 0.14117739648387173, 0.16426419331012196, 0.1655112434217275, 0.1470107854926233, 0.11211910552853219, 0.06537607743369127, 0.015120058772453508, 0.028550026301044425, 0.044793315439742104, 0.034573974099953254, 0.021314423551173058, 0.03292482013534404, 0.033589838241703016, 0.01587812706449439, 0.0203263902763054, 0.06639104645105494, 0.11059564922967541, 0.14279094847969379, 0.1574207369050073, 0.1521705608834294, 0.1260582482568445, 0.08027210913709376, 0.03307550902250465, 0.07296299966659676, 0.13731289479138983, 0.19275419288311657, 0.23549527683397678, 0.26577178772012094, 0.28506531781727784, 0.2950077451985479, 0.2968941163711607, 0.2915825951431851, 0.27969780581270776, 0.26210381075230843, 0.24056487596697165, 0.21824058618833753, 0.1991305840756284, 0.1857790553316475, 0.17730881652160024, 0.17150206434375956, 0.16926843416102189, 0.1753866797005128, 0.19293477952516105, 0.21866335996262018, 0.22794646160160054, 0.18010708707282483, 0.1194314513247355, 0.04929438392097846, 0.03234871338259629, 0.09460255444430224, 0.14036765577257354, 0.1640180503042246, 0.16552224550624364, 0.14717797059733922, 0.11259881671631669, 0.0667409312246287, 0.01985062320518329, 0.02903631446149406, 0.0445775297336895, 0.03561451760195511, 0.023887624606005388, 0.03334637276645723, 0.03309107018177713, 0.016808487151193666, 0.01880547279190261, 0.06368504118094456, 0.10759495105012176, 0.13945564605997932, 0.15367116826411886, 0.14810146621474524, 0.12168114656429131, 0.07469647815406077, 0.020769061171914013, 0.06964883665547383, 0.13619286618611395, 0.19229961672399568, 0.23534724540492757, 0.2658242341999722, 0.2853113639126651, 0.29550486691437305, 0.29776118336008356, 0.2930060926689112, 0.2819309778384352, 0.26543079643967027, 0.2451783921305304, 0.22397819663953714, 0.2051512013942307, 0.1905782139686222, 0.1793265597359338, 0.16978738424053524, 0.16391341195888534, 0.16790522593416313, 0.18559090930857977, 0.2128524259760029, 0.2276843995645151, 0.1796341438891393, 0.11850035598589694, 0.04666078617665948, 0.028529226265161425, 0.09374694420459445, 0.14007511178134485, 0.16392970665982967, 0.16550189957103686, 0.1472531532446704, 0.11309651645636401, 0.06851327322877183, 0.02529694242173043, 0.03016397239430871, 0.04430584363029513, 0.03630853731653822, 0.025583344509776392, 0.0332576810136397, 0.0320587475084478, 0.017489797180979882, 0.01768655246063884, 0.06110861601359059, 0.1046183092472919, 0.1360410186265211, 0.1497918512018731, 0.14398733989091791, 0.1175868110490201, 0.07024670382798312, 0.008771244363670867, 0.06854322689693107, 0.13606588350661222, 0.19237443940421836, 0.23549728500902567, 0.2660474318866258, 0.28565530917947773, 0.2960567695850336, 0.29865467040504307, 0.294430757027075, 0.2841308269237781, 0.26866562287641627, 0.24960345097933498, 0.2294050123906363, 0.2107797547369525, 0.19502411112589366, 0.18110791680259158, 0.16787292158507597, 0.15822237623012486, 0.15996019115124316, 0.17789487124521047, 0.2068848100794587, 0.2277706931985935, 0.17979751275202727, 0.11884343826384262, 0.047737067139334684, 0.030359660471395777, 0.09425441621264599, 0.14031922234483848, 0.1640114216920707, 0.1654567115618852, 0.14722786202401492, 0.11356409027639583, 0.07051705408448092, 0.03066556355019224, 0.03155128113999006, 0.0438351170530036, 0.03650719822205281, 0.0263431455143047, 0.03261373560690428, 0.030469253987638143, 0.017716680609558135, 0.016681701313434157, 0.05863947529545717, 0.10166444361372177, 0.13253654116173938, 0.14575907668121768, 0.13980083670283652, 0.11377246150192465, 0.06709837887059746, 0.005220011821205253, 0.06973265900786983, 0.1369276353991364, 0.19297458681366392, 0.23594283279558048, 0.26643944831698435, 0.2860951610812889, 0.2966607964898142, 0.29957060738588953, 0.29585063453998, 0.2862891175349264, 0.271799012406379, 0.2538344297338361, 0.234526728428564, 0.2160346194271316, 0.19913652582826816, 0.18267038880255446, 0.16578332116793548, 0.15221182448242482, 0.1515449783013453, 0.16985953976486073, 0.20079167354431113, 0.22820433751631564, 0.1805942171037654, 0.12044699773940806, 0.0522860592410985, 0.03700494349180501, 0.09610825440410822, 0.1411049772184617, 0.16427135923673442, 0.1653908545106536, 0.14708934721137865, 0.11394404927533562, 0.07256949083404766, 0.03559706764192505, 0.03285818226034717, 0.043034432510729304, 0.0361107532985566, 0.026133272131230324, 0.031402384971759435, 0.028312229215938334, 0.01737297358124106, 0.0155515582562798, 0.05626505759044386, 0.09873276316686487, 0.12893083208188047, 0.1415467452543155, 0.13551011111440478, 0.11022483355351254, 0.0653571024670323, 0.016487981952983947, 0.0730475919950405, 0.13873845447760194, 0.1940853768008342, 0.2366771616265144, 0.26699652780369487, 0.2866281258053385, 0.2973140253512233, 0.30050514822238206, 0.297260339251777, 0.2883988337570161, 0.27482379511736377, 0.2578685099158028, 0.23935140485634238, 0.2209355145562433, 0.20293779778506404, 0.1840367497946909, 0.16355178766689885, 0.1459082706289369, 0.14265632793806438, 0.1615051391845365, 0.19461166228592147, 0.22897915766580276, 0.18200711976803305, 0.12324139154054627, 0.05945613015888424, 0.04636733046192156, 0.09921639575020101, 0.14242287045235003, 0.16471365554101622, 0.16530671957275858, 0.14682206899379124, 0.11417351191760704, 0.0744964017325846, 0.0399004934660588, 0.03381948013152481, 0.04179396530947766, 0.035067374360892974, 0.02494470618412131, 0.029650952318320666, 0.025599681081472595, 0.01642813362250211, 0.01416431990290547, 0.05398680264871217, 0.09582401173291966, 0.12521228065729537, 0.13712692317536104, 0.1310795701055958, 0.10692096617612971, 0.06502394366280242, 0.02817283637224636, 0.07812894751239437, 0.141427628846656, 0.19568228499906787, 0.23768959432594516, 0.2677131712988667, 0.28725064692040625, 0.2980132927611528, 0.30145458728349456, 0.29865505146672067, 0.290454121918288, 0.2777347159864788, 0.2617052867878927, 0.2438890361545071, 0.22550324042456887, 0.20645237560086982, 0.185234435075643, 0.1612202482527016, 0.1393502920095749, 0.1332946557113095, 0.15286104175284182, 0.18839182144529115, 0.2300840481168014, 0.18400606857461496, 0.12711198262999857, 0.06833372091752084, 0.057014877936977945, 0.103430564103148, 0.14424999306652958, 0.16533870878618864, 0.16520561745189252, 0.146409396768168, 0.11418816494668196, 0.07614129677068261, 0.04346195022088406, 0.03424407005844334, 0.040030640069559725, 0.03337380613099369, 0.022793350781935784, 0.02743600465974041, 0.022376281314134383, 0.014934162964494579, 0.012514872320394152, 0.051819829971943475, 0.09294055968169752, 0.12136979795504607, 0.13247052793122657, 0.12647086556882545, 0.10383004264384646, 0.0659873747458967, 0.03963087729065534, 0.0845477487781814, 0.1449007895093496, 0.1977322230804459, 0.2389658506096692, 0.26858225879176495, 0.28795845842458384, 0.2987552218154844, 0.3024153726203324, 0.3000305078293494, 0.29245022216649735, 0.2805282415063284, 0.2653464136066695, 0.24815117339528492, 0.22975942115228243, 0.20970637720452454, 0.18629488578206527, 0.15883935233682198, 0.13259116087545061, 0.12346442779125066, 0.14396818250220514, 0.18218849555365857, 0.23150338952692792, 0.18654980636716006, 0.1319149604824993, 0.07822683132873871, 0.06822165643139316, 0.108571916411424, 0.14655206018128017, 0.16614365955258809, 0.16508858633944146, 0.14583543707482693, 0.11392595383518023, 0.0773694808300068, 0.04621125432979705, 0.034003695150465016, 0.03769229743089024, 0.031080662596777546, 0.01972060717818504, 0.024899257145994672, 0.018734443038220982, 0.013029046328958476, 0.010726352301846358, 0.049787908432598026, 0.09008652764543536, 0.11739374580316232, 0.12754814520001667, 0.12164410126800494, 0.10091623246044493, 0.06804903503127387, 0.05076158381583758, 0.09190024183646409, 0.14904869853779615, 0.20019518913999682, 0.24048850430560612, 0.26959520900005624, 0.2887466506324844, 0.299536252551198, 0.30338411634484597, 0.30138298435044564, 0.29438339213823805, 0.28320236961267187, 0.26879527852800267, 0.25215058968702125, 0.2337262517084593, 0.21272715372132295, 0.18725283094987913, 0.15646821611237924, 0.12570221317736985, 0.11317459600757306, 0.1348823621146109, 0.17606812791318308, 0.2332176116502738, 0.18958838969782968, 0.13749356078931563, 0.08867431569148979, 0.07961893551073042, 0.11445461257638262, 0.1492860584635302, 0.16712301669345742, 0.16495725656965257, 0.14508691381183403, 0.11333037617900085, 0.07806890148450993, 0.04810797057831278, 0.03302226670973112, 0.034762588204548944, 0.028306487212978265, 0.01579557010902791, 0.02227355795917147, 0.014846545572665858, 0.010953556888968886, 0.009043256398022012, 0.04791533087512329, 0.08726806679711348, 0.11327711829798222, 0.12233098410699371, 0.11655922733573268, 0.09814236927736814, 0.07096955397324407, 0.06151544721908762, 0.09985149128883884, 0.15375580054231203, 0.20302612347274449, 0.24223752241655305, 0.2707421695918983, 0.28960974694350183, 0.30035267469385735, 0.30435760248276467, 0.302709273725837, 0.2962508254498483, 0.2857564457332958, 0.27205671181993296, 0.2559009815607078, 0.23742624935731674, 0.21554285181083221, 0.18814549289317264, 0.15417379565253286, 0.11877708487101973, 0.10243913409227529, 0.12567882618511197, 0.17010782112487424, 0.2352038620222045, 0.19306582793470337, 0.14369141961480264, 0.09937746145055165, 0.09100305690071861, 0.12090253098480314, 0.1524031519570264, 0.16826937345082912, 0.1648147190138554, 0.14415503468280605, 0.11235336556281679, 0.07814920310967456, 0.049134597430921245, 0.03126913077518302, 0.0312700096430974, 0.02526809136070409, 0.011125215401997093, 0.019917881641671575, 0.011057581478551334, 0.009086891612798504, 0.007782076052038919, 0.04621906847469039, 0.08449418024693046, 0.10901706566764786, 0.11679198659260037, 0.11117760265945324, 0.09547422908850672, 0.07451227283000011, 0.07186134845758226, 0.10814178487516561, 0.1589073963279356, 0.20617680483876524, 0.24419085453145478, 0.2720122301354921, 0.2905417892236448, 0.3012006621532685, 0.3053327926209645, 0.30400665820897926, 0.2980505673398079, 0.2881909869834105, 0.27513672106189235, 0.2594167008828247, 0.24088201022983272, 0.21818197290704364, 0.18901170885645793, 0.15202975621419199, 0.111936824909664, 0.09127776056694117, 0.11645865065435336, 0.16439545340366823, 0.23743673637174323, 0.19692267771503183, 0.15036172570969433, 0.11014012201133751, 0.1022511363525999, 0.12775851948316727, 0.15585151498817912, 0.16957415510671275, 0.16466634351569417, 0.14303728844320526, 0.11095784368820481, 0.07753999448861999, 0.049292669148265654, 0.028757454205917965, 0.027308074221221234, 0.022337481102437703, 0.005929142918754587, 0.018328710396935007, 0.008165782838015537, 0.007950016717278893, 0.0071486152793031, 0.0447055227244494, 0.08177841129131598, 0.10461686086338734, 0.11090712272899289, 0.105463725519485, 0.09288515346914977, 0.0784714620474833, 0.08178001697409784, 0.11657668058670571, 0.16439492808488293, 0.20959764678097567, 0.2463250410581234, 0.27339364945600597, 0.2915364293350526, 0.3020763086542249, 0.3063068296501902, 0.30527287919209517, 0.2997814294189974, 0.29050751591150875, 0.27804225215071887, 0.2627125133262408, 0.24411597239093935, 0.22067293094481355, 0.18989097134013405, 0.15011470763394796, 0.10533555386713031, 0.07971704138251702, 0.1073575742728849, 0.15902906868871064, 0.23988902763274664, 0.2010983892634101, 0.15737236371527777, 0.12082997926636846, 0.1132835744866846, 0.13488788013394665, 0.1595788442573494, 0.17102834184896792, 0.16452049495961574, 0.1417391245770327, 0.10912008183134007, 0.07618895890921012, 0.04860025740956204, 0.025550167381381536, 0.023083626533584544, 0.02011579065086484, 0.002358269650720419, 0.018023129754599458, 0.007662041150888816, 0.007945080282902202, 0.006993997731753759, 0.043375282524371596, 0.07914153399309172, 0.10008841657998228, 0.1046569327059025, 0.09938717114021015, 0.09036078069347177, 0.0826841632973328, 0.09126173402419496, 0.12501333764560665, 0.17011937692733764, 0.2132392912526347, 0.2486158113140124, 0.27487408907747674, 0.2925870242633845, 0.30297566385958186, 0.30727703987697813, 0.30650610453231925, 0.30144290514374555, 0.2927084047196081, 0.2807809741337753, 0.26580338055156544, 0.24715018736946773, 0.22304361304080966, 0.19082240095104216, 0.1485097099533586, 0.09916557582892666, 0.06779235524052399, 0.09855780857204466, 0.15411519161515663, 0.24253245519860123, 0.20553327827115583, 0.1646079867374047, 0.13135534175902563, 0.12404623349345185, 0.1421782748043304, 0.16353440482542256, 0.17262311782520426, 0.16438909747610891, 0.14027546721142045, 0.10683205288291688, 0.07406019681401593, 0.04709047231416506, 0.021781589971291634, 0.019034184953767765, 0.01940125089879928, 0.007268938928169607, 0.019240352875564668, 0.00984905726728288, 0.00889874729228995, 0.006904028272876355, 0.04223619685682829, 0.0766150815073474, 0.09545546507186392, 0.09802842925340997, 0.0929248432124992, 0.08790366959806749, 0.08703101836534484, 0.10030506457827386, 0.13334823421325173, 0.17599306941839113, 0.21705393803332795, 0.2510386469844358, 0.27644084488500165, 0.2936867323200451, 0.3038947693352019, 0.30824093374683414, 0.30770489453530697, 0.3030350873203967, 0.29479673051480537, 0.28336108610917815, 0.26870426411453, 0.25000610262282424, 0.2253209501389057, 0.1918436782361277, 0.14729503266205335, 0.09365943605240268, 0.05555209524402261, 0.09030249360198966, 0.14976569949943233, 0.2453383434287887, 0.21017007023684087, 0.171970080643857, 0.14165134723169986, 0.134501290301722, 0.14953780918711335, 0.16767055875628697, 0.174350408047328, 0.16428800166835608, 0.13867200580237946, 0.10410397765537127, 0.07113307838291023, 0.04481124968906061, 0.01772080590710251, 0.016063484067738554, 0.020802274810084082, 0.013748443478323819, 0.021771979737305873, 0.013184331169917915, 0.010246374505545733, 0.00655562793652558, 0.04132086212659752, 0.07424518578356286, 0.09075750894984588, 0.09101757422273306, 0.08606377102463214, 0.08553758102968004, 0.09143166144387238, 0.10891588060277432, 0.14150751760327723, 0.1819402933311607, 0.2209963856974804, 0.25356929204286544, 0.2780810699730814, 0.2948286080232448, 0.3048296937202149, 0.3091962053869046, 0.3088681673842659, 0.3045585886796535, 0.2967761418706636, 0.28579114464814154, 0.2714299497696135, 0.25270435778986766, 0.22753050669306601, 0.19298997331116557, 0.14654628000607853, 0.0890843839450413, 0.04306875179053193, 0.08290966288080656, 0.14609297115556455, 0.24827822700645968, 0.21495502151892032, 0.1793758943711103, 0.1516715885331469, 0.14462217324537704, 0.1568924239014117, 0.17194379531500043, 0.1762032772661363, 0.16423711580356087, 0.13696618494767115, 0.10096727501590957, 0.06740187897789937, 0.04182746285519949, 0.013954405885924805, 0.015591812492210437, 0.02426500388340694, 0.020499986189322507, 0.025175055828328755, 0.016627380953160128, 0.011514336702633124, 0.005959495473963197, 0.0407012163314678, 0.0720958364935931, 0.08605461375787563, 0.08363273760131848, 0.07880492360683887, 0.08331107038198408, 0.09583826293854439, 0.11710645749027723, 0.1494397948810188, 0.18789710502380935, 0.2250247890066937, 0.25618419616622984, 0.2797819827435529, 0.2960056934736954, 0.30577656650008, 0.3101407311428169, 0.30999516468130234, 0.30601446632295376, 0.298650736766829, 0.288079910389834, 0.27399489132120003, 0.25526459781329697, 0.2296960998835845, 0.1942929223362632, 0.14633016039863259, 0.08572313095208464, 0.030477034921395533, 0.07677602398402587, 0.14320328956420894, 0.25132436935975366, 0.2198386588662488, 0.18675684266268253, 0.16138286498500143, 0.15439054685086107, 0.16418321068301647, 0.1763153242599267, 0.17817617771150265, 0.1642602702289079, 0.13520778490035243, 0.09747810493013659, 0.06287659041937267, 0.03822765982260371, 0.011775520306429785, 0.018382436345022266, 0.02925744245812102, 0.02734364928633987, 0.029041176678346523, 0.019738164420199687, 0.012415185713527377, 0.005654111361696875, 0.04049186789328358, 0.07025035920951267, 0.08143297993633077, 0.07589994087437578, 0.07116900478636107, 0.08129980430769126, 0.10022897066291987, 0.12489456929893764, 0.1571108163988786, 0.1938106381717496, 0.22910115725539146, 0.2588608843492171, 0.28153105557072733, 0.2972111043184508, 0.306731609831775, 0.3110725672528223, 0.3110854176532255, 0.3074041506392704, 0.30042495181684414, 0.2902362126263786, 0.2764130735067515, 0.2577053060618781, 0.23183945949124443, 0.1957797059812337, 0.14670034184448497, 0.08383668147890615, 0.01816912793952682, 0.07235067338698581, 0.1411889265012854, 0.25445018810326325, 0.22477619849306718, 0.19405675349184842, 0.17076176787562014, 0.1637943862719649, 0.1713639415913284, 0.1807513128615655, 0.18026504458129375, 0.16438479568193337, 0.13345894628585875, 0.09372161504425623, 0.05758564329614393, 0.034140337213461054, 0.012857414912566662, 0.023640435914856775, 0.03524215363093222, 0.03418639255045012, 0.03308614283297665, 0.022313465061147925, 0.012776410310641462, 0.006603558610491067, 0.040836095621883124, 0.0688097586213851, 0.07701087336519827, 0.0678715175074057, 0.06320627132831967, 0.07960665218993852, 0.10460188810560204, 0.13230255839852137, 0.16449952922774144, 0.19963813985668738, 0.23319162910011787, 0.2615782503936056, 0.28331618065871855, 0.2984381087196615, 0.3076911679370409, 0.3119899467741662, 0.31213871446750285, 0.3087293791160913, 0.3021034625742278, 0.2922688308306181, 0.2786978936019794, 0.2600436604372871, 0.23397993927762445, 0.1974722852079908, 0.14769393876907014, 0.08361390246012496, 0.008701727898147464, 0.07005544135690926, 0.14011990542055072, 0.2576305877969358, 0.2297277112312077, 0.2012301644631746, 0.17979237055558192, 0.1728266639352304, 0.17839891379822465, 0.1852228498051896, 0.18246724862512592, 0.164640811488682, 0.131793455500151, 0.08981679385948689, 0.051582141326047375, 0.02977043417298525, 0.01705000454874572, 0.030292956493485176, 0.04184473304408225, 0.04096836865605715, 0.03713850470653301, 0.02426325416024545, 0.012484467015870844, 0.009127243769384081, 0.041875165877310404, 0.0678867580857397, 0.07294369708514595, 0.05964164807568933, 0.05501491515062069, 0.07835823659444748, 0.10896971514977145, 0.13935637685380098, 0.17159509581570448, 0.20534588665088652, 0.23726656358930165, 0.2643167759816828, 0.2851258109885376, 0.2996801980935256, 0.30865173365749454, 0.31289127585256676, 0.3131550690071393, 0.30999213531983255, 0.303691094615303, 0.2941863921810392, 0.2808620615330331, 0.2622954151070575, 0.23613428950090073, 0.19938684299878734, 0.1493291610308282, 0.08512613120927141, 0.013272694340299911, 0.07015727853453294, 0.1400369106381909, 0.2608422050512901, 0.2346580968325085, 0.20824076555317445, 0.18846460350845112, 0.18148439835185545, 0.18526112010858853, 0.18970571195966296, 0.18478142368698666, 0.16506023927961996, 0.13029508690818462, 0.0859213648650578, 0.04495748893232528, 0.02547796781842349, 0.022967404783787854, 0.03769962454584315, 0.04882674217384973, 0.047652904432200646, 0.04111169153739486, 0.02558089745725161, 0.01146299809668113, 0.012769810625297204, 0.0437116658851475, 0.06759516800149024, 0.06942553699722952, 0.05137632186172598, 0.046778558929745306, 0.07769656805721135, 0.11335500088555533, 0.1460846088294768, 0.17839458958904003, 0.21090807726802632, 0.24130048658212772, 0.26705868006104544, 0.28694907542246784, 0.3009311487397004, 0.309609971850886, 0.3137751294062313, 0.31413469136651173, 0.31119459319549164, 0.3051927450261975, 0.295997284208006, 0.28291751828143236, 0.26447480997558676, 0.23831649809173314, 0.2015334672962212, 0.15160449862450112, 0.0883105399251578, 0.025190149177147195, 0.0726611600400356, 0.14094689885529357, 0.2640635741716206, 0.2395369222882384, 0.21506002334943308, 0.19677306742612846, 0.18976792822016247, 0.1919307155808391, 0.19417999841994377, 0.18720719344640013, 0.16567558129855814, 0.1290548181270396, 0.0822352358642472, 0.037872769963198334, 0.021925009821995137, 0.029758837851468947, 0.04552407425038157, 0.056035018148266585, 0.054222308752379704, 0.04498247123446839, 0.026344531337644136, 0.009684040438688446, 0.017123100640524958, 0.04638407605470016, 0.06803578663169688, 0.06668258306165893, 0.043374058706047616, 0.03884740333814887, 0.07776512792147895, 0.11778594132826221, 0.15251749116409372, 0.18490116993011746, 0.21630575905456373, 0.24527192837896378, 0.2697880053166755, 0.28877586805414873, 0.3021850738265007, 0.3105627393971398, 0.3146402462810555, 0.31507796025379065, 0.31233906673007295, 0.3066133138652166, 0.29770958172605927, 0.2848753722900591, 0.26659450931588263, 0.24053770518009548, 0.2039160919399148, 0.15449954741472055, 0.09299183045984806, 0.038035737920836366, 0.07731041968180712, 0.14282249267551364, 0.26727522332849796, 0.24433816908091585, 0.22166598878920876, 0.2047161353349422, 0.19768033390505055, 0.19839373792962953, 0.19862968369091838, 0.1897448257710567, 0.16651852780557447, 0.12816682396212675, 0.07899951656669303, 0.03063799544727363, 0.02019812858392958, 0.03705018594625644, 0.053577904644994644, 0.06336810894625841, 0.06067471662120745, 0.04877555751244844, 0.02673071102719961, 0.0072496164827787766, 0.02197054663791675, 0.049864378440581, 0.06928197035403745, 0.06495284609761233, 0.03618713690318495, 0.03191032725423915, 0.07869064455358737, 0.1222926961313291, 0.1586859547260834, 0.19112260385536858, 0.2215258197449472, 0.2491631836281859, 0.2724906497059998, 0.29059691273855226, 0.3034364655190857, 0.31150710167256634, 0.3154855239232965, 0.31598539741935183, 0.31342796493659675, 0.30795764512635637, 0.2993309872324678, 0.28674585343976167, 0.2686655701758346, 0.24280619234597065, 0.20653269142734315, 0.15797728396489863, 0.09892857662003884, 0.0510121788391394, 0.08369378026726512, 0.14560530323010215, 0.27045971194138857, 0.2490399244507425, 0.22804227461764362, 0.2122952517055418, 0.2052269603693187, 0.20464103933402936, 0.2030421302497608, 0.19239484508653482, 0.16761848217501157, 0.12772333461821686, 0.07648638387047643, 0.023927862369821598, 0.021386675642898353, 0.044666406146326096, 0.06174627893908221, 0.07075728222741033, 0.06702102131727006, 0.05255096461652051, 0.027028171704009864, 0.00484876428356833, 0.027206288598315958, 0.054075918710244156, 0.07136912657693333, 0.06444982774382343, 0.030811424586887397, 0.02725499782883416, 0.08056437315446528, 0.12690424620306395, 0.16462071254312322, 0.19707004635745007, 0.2265600597718321, 0.25296001941624, 0.2751543515408167, 0.2924038043978425, 0.3046802273265479, 0.31244034543762567, 0.316310012609669, 0.31685764417308093, 0.31446375204302973, 0.3092304766923664, 0.3008687839472718, 0.2885382839834585, 0.2706974402949155, 0.2451274444692627, 0.20937570506064437, 0.161987365632966, 0.10586062853524561, 0.06391703171388703, 0.09137192567561167, 0.14921233162751354, 0.27360161985489884, 0.2536240430225605, 0.23417718272543145, 0.2195143702578315, 0.21241501361302675, 0.21066739226715905, 0.20740759079565635, 0.19515763306600997, 0.169001110606971, 0.12780870870237176, 0.07497470077974412, 0.019291807486924557, 0.025573268180258613, 0.052514272294163826, 0.06995498305959412, 0.07815577612729067, 0.07328171199567486, 0.05639184182254078, 0.027630856570758387, 0.005318799651800545, 0.03278333701981435, 0.05891863489474541, 0.07429146396370476, 0.06531776763278657, 0.02868523214062666, 0.026581630107451872, 0.08342832298880751, 0.13164584373053634, 0.17035142185000327, 0.20275702145936136, 0.23140435084241387, 0.2566513524926461, 0.2777686365806029, 0.2941890291816985, 0.3059116969927132, 0.3133599881651573, 0.31711290927187197, 0.3176954400060874, 0.31544891271125186, 0.3104363987348285, 0.30232980064999915, 0.2902610656157558, 0.2726979843769059, 0.2475042787007267, 0.21243264942951626, 0.16646992761079749, 0.11354224845595065, 0.07665583779762401, 0.09995618364334143, 0.1535439706293415];\n",
       "const xvar = \"lr\";\n",
       "const yvar = \"momentum\";\n",
       "const x_is_log = true;\n",
       "const y_is_log = false;\n",
       "\n",
       "const GREEN_SCALE = [[247, 252, 253], [229, 245, 249], [204, 236, 230], [153, 216, 201], [102, 194, 164], [65, 174, 118], [35, 139, 69], [0, 109, 44], [0, 68, 27]];\n",
       "const GREEN_PINK_SCALE = [[142, 1, 82], [197, 27, 125], [222, 119, 174], [241, 182, 218], [253, 224, 239], [247, 247, 247], [230, 245, 208], [184, 225, 134], [127, 188, 65], [77, 146, 33], [39, 100, 25]];\n",
       "const BLUE_SCALE = [[255, 247, 251], [236, 231, 242], [208, 209, 230], [166, 189, 219], [116, 169, 207], [54, 144, 192], [5, 112, 176], [3, 78, 123]];\n",
       "\n",
       "// format data\n",
       "const res = relativize_data(f, sd, rel, arm_data, metric);\n",
       "const f_final = res[0];\n",
       "const sd_final = res[1];\n",
       "\n",
       "// calculate max of abs(outcome), used for colorscale\n",
       "const f_absmax = Math.max(Math.abs(Math.min(...f_final)), Math.max(...f_final));\n",
       "\n",
       "// transform to nested array\n",
       "var f_plt = [];\n",
       "while(f_final.length) f_plt.push(f_final.splice(0, density));\n",
       "var sd_plt = [];\n",
       "while(sd_final.length) sd_plt.push(sd_final.splice(0, density));\n",
       "\n",
       "// create traces\n",
       "const CONTOUR_CONFIG = {\n",
       "  autocolorscale: false,\n",
       "  autocontour: true,\n",
       "  contours: {\n",
       "    coloring: 'heatmap',\n",
       "  },\n",
       "  hoverinfo: 'x+y+z',\n",
       "  ncontours: density / 2,\n",
       "  type: 'contour',\n",
       "  x: grid_x,\n",
       "  y: grid_y,\n",
       "};\n",
       "\n",
       "let f_scale;\n",
       "if (rel === true) {\n",
       "  f_scale = lower_is_better === true\n",
       "    ? GREEN_PINK_SCALE.reverse()\n",
       "    : GREEN_PINK_SCALE;\n",
       "} else {\n",
       "  f_scale = GREEN_SCALE;\n",
       "}\n",
       "\n",
       "const f_trace = {\n",
       "  colorbar: {\n",
       "    x: 0.45,\n",
       "    y: 0.5,\n",
       "    ticksuffix: rel === true ? '%' : '',\n",
       "    tickfont: {\n",
       "      size: 8,\n",
       "    },\n",
       "  },\n",
       "  colorscale: f_scale.map(\n",
       "    (v, i) => [i / (f_scale.length - 1), rgb(v)]\n",
       "  ),\n",
       "  xaxis: 'x',\n",
       "  yaxis: 'y',\n",
       "  z: f_plt,\n",
       "  // zmax and zmin are ignored if zauto is true\n",
       "  zauto: !rel,\n",
       "  zmax: f_absmax,\n",
       "  zmin: -f_absmax,\n",
       "};\n",
       "\n",
       "const sd_trace = {\n",
       "  colorbar: {\n",
       "      x: 1,\n",
       "      y: 0.5,\n",
       "      ticksuffix: rel === true ? '%' : '',\n",
       "      tickfont: {\n",
       "        size: 8,\n",
       "      },\n",
       "  },\n",
       "  colorscale: BLUE_SCALE.map(\n",
       "    (v, i) => [i / (BLUE_SCALE.length - 1), rgb(v)]\n",
       "  ),\n",
       "  xaxis: 'x2',\n",
       "  yaxis: 'y2',\n",
       "  z: sd_plt,\n",
       "};\n",
       "\n",
       "Object.keys(CONTOUR_CONFIG).forEach(key => {\n",
       "  f_trace[key] = CONTOUR_CONFIG[key];\n",
       "  sd_trace[key] = CONTOUR_CONFIG[key];\n",
       "});\n",
       "\n",
       "// get in-sample arms\n",
       "const arm_x = [];\n",
       "const arm_y = [];\n",
       "const arm_text = [];\n",
       "\n",
       "Object.keys(arm_data['in_sample']).forEach(arm_name => {\n",
       "  arm_x.push(arm_data['in_sample'][arm_name]['parameters'][xvar]);\n",
       "  arm_y.push(arm_data['in_sample'][arm_name]['parameters'][yvar]);\n",
       "  arm_text.push(arm_name);\n",
       "});\n",
       "\n",
       "// configs for in-sample arms\n",
       "const base_in_sample_arm_config = {\n",
       "  hoverinfo: 'text',\n",
       "  legendgroup: 'In-sample',\n",
       "  marker: {color: 'black', symbol: 1, opacity: 0.5},\n",
       "  mode: 'markers',\n",
       "  name: 'In-sample',\n",
       "  text: arm_text,\n",
       "  type: 'scatter',\n",
       "  x: arm_x,\n",
       "  y: arm_y,\n",
       "};\n",
       "\n",
       "const f_in_sample_arm_trace = {\n",
       "  xaxis: 'x',\n",
       "  yaxis: 'y',\n",
       "};\n",
       "\n",
       "const sd_in_sample_arm_trace = {\n",
       "  showlegend: false,\n",
       "  xaxis: 'x2',\n",
       "  yaxis: 'y2',\n",
       "};\n",
       "\n",
       "Object.keys(base_in_sample_arm_config).forEach(key => {\n",
       "  f_in_sample_arm_trace[key] = base_in_sample_arm_config[key];\n",
       "  sd_in_sample_arm_trace[key] = base_in_sample_arm_config[key];\n",
       "});\n",
       "\n",
       "const traces = [\n",
       "  f_trace,\n",
       "  sd_trace,\n",
       "  f_in_sample_arm_trace,\n",
       "  sd_in_sample_arm_trace,\n",
       "];\n",
       "\n",
       "// start symbol at 2 for candidate markers\n",
       "let i = 2;\n",
       "\n",
       "// iterate over out-of-sample arms\n",
       "Object.keys(arm_data['out_of_sample']).forEach(generator_run_name => {\n",
       "  const ax = [];\n",
       "  const ay = [];\n",
       "  const atext = [];\n",
       "\n",
       "  Object.keys(arm_data['out_of_sample'][generator_run_name]).forEach(arm_name => {\n",
       "    ax.push(\n",
       "      arm_data['out_of_sample'][generator_run_name][arm_name]['parameters'][xvar]\n",
       "    );\n",
       "    ay.push(\n",
       "      arm_data['out_of_sample'][generator_run_name][arm_name]['parameters'][yvar]\n",
       "    );\n",
       "    atext.push('<em>Candidate ' + arm_name + '</em>');\n",
       "  });\n",
       "\n",
       "  traces.push({\n",
       "    hoverinfo: 'text',\n",
       "    legendgroup: generator_run_name,\n",
       "    marker: {color: 'black', symbol: i, opacity: 0.5},\n",
       "    mode: 'markers',\n",
       "    name: generator_run_name,\n",
       "    text: atext,\n",
       "    type: 'scatter',\n",
       "    xaxis: 'x',\n",
       "    x: ax,\n",
       "    yaxis: 'y',\n",
       "    y: ay,\n",
       "  });\n",
       "  traces.push({\n",
       "    hoverinfo: 'text',\n",
       "    legendgroup: generator_run_name,\n",
       "    marker: {color: 'black', symbol: i, opacity: 0.5},\n",
       "    mode: 'markers',\n",
       "    name: 'In-sample',\n",
       "    showlegend: false,\n",
       "    text: atext,\n",
       "    type: 'scatter',\n",
       "    x: ax,\n",
       "    xaxis: 'x2',\n",
       "    y: ay,\n",
       "    yaxis: 'y2',\n",
       "  });\n",
       "  i += 1;\n",
       "});\n",
       "\n",
       "// layout\n",
       "const xrange = axis_range(grid_x, x_is_log);\n",
       "const yrange = axis_range(grid_y, y_is_log);\n",
       "\n",
       "const xtype = x_is_log ? 'log' : 'linear';\n",
       "const ytype = y_is_log ? 'log' : 'linear';\n",
       "\n",
       "const layout = {\n",
       "  autosize: false,\n",
       "    margin: {\n",
       "      l: 35,\n",
       "      r: 35,\n",
       "      t: 35,\n",
       "      b: 100,\n",
       "      pad: 0,\n",
       "  },\n",
       "  annotations: [\n",
       "    {\n",
       "      font: {size: 14},\n",
       "      showarrow: false,\n",
       "      text: 'Mean',\n",
       "      x: 0.25,\n",
       "      xanchor: 'center',\n",
       "      xref: 'paper',\n",
       "      y: 1,\n",
       "      yanchor: 'bottom',\n",
       "      yref: 'paper',\n",
       "    },\n",
       "    {\n",
       "      font: {size: 14},\n",
       "      showarrow: false,\n",
       "      text: 'Standard Error',\n",
       "      x: 0.8,\n",
       "      xanchor: 'center',\n",
       "      xref: 'paper',\n",
       "      y: 1,\n",
       "      yanchor: 'bottom',\n",
       "      yref: 'paper',\n",
       "    },\n",
       "  ],\n",
       "  hovermode: 'closest',\n",
       "  legend: {orientation: 'h', x: 0, y: -0.25},\n",
       "  height: 450,\n",
       "  width: 950,\n",
       "  xaxis: {\n",
       "    anchor: 'y',\n",
       "    autorange: false,\n",
       "    domain: [0.05, 0.45],\n",
       "    exponentformat: 'e',\n",
       "    range: xrange,\n",
       "    tickfont: {size: 11},\n",
       "    tickmode: 'auto',\n",
       "    title: xvar,\n",
       "    type: xtype,\n",
       "  },\n",
       "  xaxis2: {\n",
       "    anchor: 'y2',\n",
       "    autorange: false,\n",
       "    domain: [0.60, 1],\n",
       "    exponentformat: 'e',\n",
       "    range: xrange,\n",
       "    tickfont: {size: 11},\n",
       "    tickmode: 'auto',\n",
       "    title: xvar,\n",
       "    type: xtype,\n",
       "  },\n",
       "  yaxis: {\n",
       "    anchor: 'x',\n",
       "    autorange: false,\n",
       "    domain: [0, 1],\n",
       "    exponentformat: 'e',\n",
       "    range: yrange,\n",
       "    tickfont: {size: 11},\n",
       "    tickmode: 'auto',\n",
       "    title: yvar,\n",
       "    type: ytype,\n",
       "  },\n",
       "  yaxis2: {\n",
       "    anchor: 'x2',\n",
       "    autorange: false,\n",
       "    domain: [0, 1],\n",
       "    exponentformat: 'e',\n",
       "    range: yrange,\n",
       "    tickfont: {size: 11},\n",
       "    tickmode: 'auto',\n",
       "    type: ytype,\n",
       "  },\n",
       "};\n",
       "\n",
       "Plotly.newPlot(\"8774e17b62e6488db433fc9d3fc034cb\", traces, layout, {showLink: false});\n",
       "});</script>"
      ]
     },
     "metadata": {},
     "output_type": "display_data"
    }
   ],
   "source": [
    "render(plot_contour(model=model, param_x='lr', param_y='momentum', metric_name='accuracy'))"
   ]
  },
  {
   "cell_type": "markdown",
   "metadata": {},
   "source": [
    "## 5. Plot best objective as function of the iteration\n",
    "\n",
    "Show the model accuracy improving as we identify better hyperparameters."
   ]
  },
  {
   "cell_type": "code",
   "execution_count": 9,
   "metadata": {},
   "outputs": [
    {
     "data": {
      "text/html": [
       "<div id=\"a992fe5d20db4a5e886faa914b48bcf8\" style=\"width: 100%;\" class=\"plotly-graph-div\"></div><script type='text/javascript'>/*\n",
       " * Copyright (c) Facebook, Inc. and its affiliates. All Rights Reserved.\n",
       " */\n",
       "\n",
       "require(['plotly'], function(Plotly) {\n",
       "  window.PLOTLYENV = window.PLOTLYENV || {};\n",
       "  window.PLOTLYENV.BASE_URL = 'https://plot.ly';\n",
       "  /*\n",
       " * Copyright (c) Facebook, Inc. and its affiliates. All Rights Reserved.\n",
       " */\n",
       "\n",
       "Plotly.newPlot(\n",
       "  \"a992fe5d20db4a5e886faa914b48bcf8\",\n",
       "  [{\"hoverinfo\": \"none\", \"legendgroup\": \"\", \"line\": {\"width\": 0}, \"mode\": \"lines\", \"showlegend\": false, \"x\": [1, 2, 3, 4, 5, 6, 7, 8, 9, 10, 11, 12, 13, 14, 15, 16, 17, 18, 19, 20], \"y\": [45.81666666666667, 82.78333333333333, 82.78333333333333, 82.78333333333333, 94.56666666666666, 94.56666666666666, 94.56666666666666, 94.56666666666666, 94.56666666666666, 94.56666666666666, 94.56666666666666, 94.56666666666666, 94.56666666666666, 94.56666666666666, 94.56666666666666, 94.56666666666666, 94.56666666666666, 94.56666666666666, 94.56666666666666, 94.56666666666666], \"type\": \"scatter\"}, {\"fill\": \"tonexty\", \"fillcolor\": \"rgba(128,177,211,0.3)\", \"legendgroup\": \"mean\", \"line\": {\"color\": \"rgba(128,177,211,1)\"}, \"mode\": \"lines\", \"name\": \"mean\", \"x\": [1, 2, 3, 4, 5, 6, 7, 8, 9, 10, 11, 12, 13, 14, 15, 16, 17, 18, 19, 20], \"y\": [45.81666666666667, 82.78333333333333, 82.78333333333333, 82.78333333333333, 94.56666666666666, 94.56666666666666, 94.56666666666666, 94.56666666666666, 94.56666666666666, 94.56666666666666, 94.56666666666666, 94.56666666666666, 94.56666666666666, 94.56666666666666, 94.56666666666666, 94.56666666666666, 94.56666666666666, 94.56666666666666, 94.56666666666666, 94.56666666666666], \"type\": \"scatter\"}, {\"fill\": \"tonexty\", \"fillcolor\": \"rgba(128,177,211,0.3)\", \"hoverinfo\": \"none\", \"legendgroup\": \"\", \"line\": {\"width\": 0}, \"mode\": \"lines\", \"showlegend\": false, \"x\": [1, 2, 3, 4, 5, 6, 7, 8, 9, 10, 11, 12, 13, 14, 15, 16, 17, 18, 19, 20], \"y\": [45.81666666666667, 82.78333333333333, 82.78333333333333, 82.78333333333333, 94.56666666666666, 94.56666666666666, 94.56666666666666, 94.56666666666666, 94.56666666666666, 94.56666666666666, 94.56666666666666, 94.56666666666666, 94.56666666666666, 94.56666666666666, 94.56666666666666, 94.56666666666666, 94.56666666666666, 94.56666666666666, 94.56666666666666, 94.56666666666666], \"type\": \"scatter\"}],\n",
       "  {\"showlegend\": true, \"title\": {\"text\": \"Model performance vs. # of iterations\"}, \"xaxis\": {\"title\": {\"text\": \"Iteration\"}}, \"yaxis\": {\"title\": {\"text\": \"Classification Accuracy, %\"}}, \"template\": {\"data\": {\"barpolar\": [{\"marker\": {\"line\": {\"color\": \"#E5ECF6\", \"width\": 0.5}}, \"type\": \"barpolar\"}], \"bar\": [{\"error_x\": {\"color\": \"#2a3f5f\"}, \"error_y\": {\"color\": \"#2a3f5f\"}, \"marker\": {\"line\": {\"color\": \"#E5ECF6\", \"width\": 0.5}}, \"type\": \"bar\"}], \"carpet\": [{\"aaxis\": {\"endlinecolor\": \"#2a3f5f\", \"gridcolor\": \"white\", \"linecolor\": \"white\", \"minorgridcolor\": \"white\", \"startlinecolor\": \"#2a3f5f\"}, \"baxis\": {\"endlinecolor\": \"#2a3f5f\", \"gridcolor\": \"white\", \"linecolor\": \"white\", \"minorgridcolor\": \"white\", \"startlinecolor\": \"#2a3f5f\"}, \"type\": \"carpet\"}], \"choropleth\": [{\"colorbar\": {\"outlinewidth\": 0, \"ticks\": \"\"}, \"type\": \"choropleth\"}], \"contourcarpet\": [{\"colorbar\": {\"outlinewidth\": 0, \"ticks\": \"\"}, \"type\": \"contourcarpet\"}], \"contour\": [{\"colorbar\": {\"outlinewidth\": 0, \"ticks\": \"\"}, \"colorscale\": [[0.0, \"#0d0887\"], [0.1111111111111111, \"#46039f\"], [0.2222222222222222, \"#7201a8\"], [0.3333333333333333, \"#9c179e\"], [0.4444444444444444, \"#bd3786\"], [0.5555555555555556, \"#d8576b\"], [0.6666666666666666, \"#ed7953\"], [0.7777777777777778, \"#fb9f3a\"], [0.8888888888888888, \"#fdca26\"], [1.0, \"#f0f921\"]], \"type\": \"contour\"}], \"heatmapgl\": [{\"colorbar\": {\"outlinewidth\": 0, \"ticks\": \"\"}, \"colorscale\": [[0.0, \"#0d0887\"], [0.1111111111111111, \"#46039f\"], [0.2222222222222222, \"#7201a8\"], [0.3333333333333333, \"#9c179e\"], [0.4444444444444444, \"#bd3786\"], [0.5555555555555556, \"#d8576b\"], [0.6666666666666666, \"#ed7953\"], [0.7777777777777778, \"#fb9f3a\"], [0.8888888888888888, \"#fdca26\"], [1.0, \"#f0f921\"]], \"type\": \"heatmapgl\"}], \"heatmap\": [{\"colorbar\": {\"outlinewidth\": 0, \"ticks\": \"\"}, \"colorscale\": [[0.0, \"#0d0887\"], [0.1111111111111111, \"#46039f\"], [0.2222222222222222, \"#7201a8\"], [0.3333333333333333, \"#9c179e\"], [0.4444444444444444, \"#bd3786\"], [0.5555555555555556, \"#d8576b\"], [0.6666666666666666, \"#ed7953\"], [0.7777777777777778, \"#fb9f3a\"], [0.8888888888888888, \"#fdca26\"], [1.0, \"#f0f921\"]], \"type\": \"heatmap\"}], \"histogram2dcontour\": [{\"colorbar\": {\"outlinewidth\": 0, \"ticks\": \"\"}, \"colorscale\": [[0.0, \"#0d0887\"], [0.1111111111111111, \"#46039f\"], [0.2222222222222222, \"#7201a8\"], [0.3333333333333333, \"#9c179e\"], [0.4444444444444444, \"#bd3786\"], [0.5555555555555556, \"#d8576b\"], [0.6666666666666666, \"#ed7953\"], [0.7777777777777778, \"#fb9f3a\"], [0.8888888888888888, \"#fdca26\"], [1.0, \"#f0f921\"]], \"type\": \"histogram2dcontour\"}], \"histogram2d\": [{\"colorbar\": {\"outlinewidth\": 0, \"ticks\": \"\"}, \"colorscale\": [[0.0, \"#0d0887\"], [0.1111111111111111, \"#46039f\"], [0.2222222222222222, \"#7201a8\"], [0.3333333333333333, \"#9c179e\"], [0.4444444444444444, \"#bd3786\"], [0.5555555555555556, \"#d8576b\"], [0.6666666666666666, \"#ed7953\"], [0.7777777777777778, \"#fb9f3a\"], [0.8888888888888888, \"#fdca26\"], [1.0, \"#f0f921\"]], \"type\": \"histogram2d\"}], \"histogram\": [{\"marker\": {\"colorbar\": {\"outlinewidth\": 0, \"ticks\": \"\"}}, \"type\": \"histogram\"}], \"mesh3d\": [{\"colorbar\": {\"outlinewidth\": 0, \"ticks\": \"\"}, \"type\": \"mesh3d\"}], \"parcoords\": [{\"line\": {\"colorbar\": {\"outlinewidth\": 0, \"ticks\": \"\"}}, \"type\": \"parcoords\"}], \"scatter3d\": [{\"line\": {\"colorbar\": {\"outlinewidth\": 0, \"ticks\": \"\"}}, \"marker\": {\"colorbar\": {\"outlinewidth\": 0, \"ticks\": \"\"}}, \"type\": \"scatter3d\"}], \"scattercarpet\": [{\"marker\": {\"colorbar\": {\"outlinewidth\": 0, \"ticks\": \"\"}}, \"type\": \"scattercarpet\"}], \"scattergeo\": [{\"marker\": {\"colorbar\": {\"outlinewidth\": 0, \"ticks\": \"\"}}, \"type\": \"scattergeo\"}], \"scattergl\": [{\"marker\": {\"colorbar\": {\"outlinewidth\": 0, \"ticks\": \"\"}}, \"type\": \"scattergl\"}], \"scattermapbox\": [{\"marker\": {\"colorbar\": {\"outlinewidth\": 0, \"ticks\": \"\"}}, \"type\": \"scattermapbox\"}], \"scatterpolargl\": [{\"marker\": {\"colorbar\": {\"outlinewidth\": 0, \"ticks\": \"\"}}, \"type\": \"scatterpolargl\"}], \"scatterpolar\": [{\"marker\": {\"colorbar\": {\"outlinewidth\": 0, \"ticks\": \"\"}}, \"type\": \"scatterpolar\"}], \"scatter\": [{\"marker\": {\"colorbar\": {\"outlinewidth\": 0, \"ticks\": \"\"}}, \"type\": \"scatter\"}], \"scatterternary\": [{\"marker\": {\"colorbar\": {\"outlinewidth\": 0, \"ticks\": \"\"}}, \"type\": \"scatterternary\"}], \"surface\": [{\"colorbar\": {\"outlinewidth\": 0, \"ticks\": \"\"}, \"colorscale\": [[0.0, \"#0d0887\"], [0.1111111111111111, \"#46039f\"], [0.2222222222222222, \"#7201a8\"], [0.3333333333333333, \"#9c179e\"], [0.4444444444444444, \"#bd3786\"], [0.5555555555555556, \"#d8576b\"], [0.6666666666666666, \"#ed7953\"], [0.7777777777777778, \"#fb9f3a\"], [0.8888888888888888, \"#fdca26\"], [1.0, \"#f0f921\"]], \"type\": \"surface\"}], \"table\": [{\"cells\": {\"fill\": {\"color\": \"#EBF0F8\"}, \"line\": {\"color\": \"white\"}}, \"header\": {\"fill\": {\"color\": \"#C8D4E3\"}, \"line\": {\"color\": \"white\"}}, \"type\": \"table\"}]}, \"layout\": {\"annotationdefaults\": {\"arrowcolor\": \"#2a3f5f\", \"arrowhead\": 0, \"arrowwidth\": 1}, \"colorscale\": {\"diverging\": [[0, \"#8e0152\"], [0.1, \"#c51b7d\"], [0.2, \"#de77ae\"], [0.3, \"#f1b6da\"], [0.4, \"#fde0ef\"], [0.5, \"#f7f7f7\"], [0.6, \"#e6f5d0\"], [0.7, \"#b8e186\"], [0.8, \"#7fbc41\"], [0.9, \"#4d9221\"], [1, \"#276419\"]], \"sequential\": [[0.0, \"#0d0887\"], [0.1111111111111111, \"#46039f\"], [0.2222222222222222, \"#7201a8\"], [0.3333333333333333, \"#9c179e\"], [0.4444444444444444, \"#bd3786\"], [0.5555555555555556, \"#d8576b\"], [0.6666666666666666, \"#ed7953\"], [0.7777777777777778, \"#fb9f3a\"], [0.8888888888888888, \"#fdca26\"], [1.0, \"#f0f921\"]], \"sequentialminus\": [[0.0, \"#0d0887\"], [0.1111111111111111, \"#46039f\"], [0.2222222222222222, \"#7201a8\"], [0.3333333333333333, \"#9c179e\"], [0.4444444444444444, \"#bd3786\"], [0.5555555555555556, \"#d8576b\"], [0.6666666666666666, \"#ed7953\"], [0.7777777777777778, \"#fb9f3a\"], [0.8888888888888888, \"#fdca26\"], [1.0, \"#f0f921\"]]}, \"colorway\": [\"#636efa\", \"#EF553B\", \"#00cc96\", \"#ab63fa\", \"#FFA15A\", \"#19d3f3\", \"#FF6692\", \"#B6E880\", \"#FF97FF\", \"#FECB52\"], \"font\": {\"color\": \"#2a3f5f\"}, \"geo\": {\"bgcolor\": \"white\", \"lakecolor\": \"white\", \"landcolor\": \"#E5ECF6\", \"showlakes\": true, \"showland\": true, \"subunitcolor\": \"white\"}, \"hoverlabel\": {\"align\": \"left\"}, \"hovermode\": \"closest\", \"mapbox\": {\"style\": \"light\"}, \"paper_bgcolor\": \"white\", \"plot_bgcolor\": \"#E5ECF6\", \"polar\": {\"angularaxis\": {\"gridcolor\": \"white\", \"linecolor\": \"white\", \"ticks\": \"\"}, \"bgcolor\": \"#E5ECF6\", \"radialaxis\": {\"gridcolor\": \"white\", \"linecolor\": \"white\", \"ticks\": \"\"}}, \"scene\": {\"xaxis\": {\"backgroundcolor\": \"#E5ECF6\", \"gridcolor\": \"white\", \"gridwidth\": 2, \"linecolor\": \"white\", \"showbackground\": true, \"ticks\": \"\", \"zerolinecolor\": \"white\"}, \"yaxis\": {\"backgroundcolor\": \"#E5ECF6\", \"gridcolor\": \"white\", \"gridwidth\": 2, \"linecolor\": \"white\", \"showbackground\": true, \"ticks\": \"\", \"zerolinecolor\": \"white\"}, \"zaxis\": {\"backgroundcolor\": \"#E5ECF6\", \"gridcolor\": \"white\", \"gridwidth\": 2, \"linecolor\": \"white\", \"showbackground\": true, \"ticks\": \"\", \"zerolinecolor\": \"white\"}}, \"shapedefaults\": {\"line\": {\"color\": \"#2a3f5f\"}}, \"ternary\": {\"aaxis\": {\"gridcolor\": \"white\", \"linecolor\": \"white\", \"ticks\": \"\"}, \"baxis\": {\"gridcolor\": \"white\", \"linecolor\": \"white\", \"ticks\": \"\"}, \"bgcolor\": \"#E5ECF6\", \"caxis\": {\"gridcolor\": \"white\", \"linecolor\": \"white\", \"ticks\": \"\"}}, \"title\": {\"x\": 0.05}, \"xaxis\": {\"automargin\": true, \"gridcolor\": \"white\", \"linecolor\": \"white\", \"ticks\": \"\", \"zerolinecolor\": \"white\", \"zerolinewidth\": 2}, \"yaxis\": {\"automargin\": true, \"gridcolor\": \"white\", \"linecolor\": \"white\", \"ticks\": \"\", \"zerolinecolor\": \"white\", \"zerolinewidth\": 2}}}},\n",
       "  {\"showLink\": false}\n",
       ");\n",
       "});</script>"
      ]
     },
     "metadata": {},
     "output_type": "display_data"
    }
   ],
   "source": [
    "# `plot_single_method` expects a 2-d array of means, because it expects to average means from multiple \n",
    "# optimization runs, so we wrap out best objectives array in another array.\n",
    "best_objectives = np.array([[trial.objective_mean*100 for trial in experiment.trials.values()]])\n",
    "best_objective_plot = optimization_trace_single_method(\n",
    "    y=np.maximum.accumulate(best_objectives, axis=1),\n",
    "    title=\"Model performance vs. # of iterations\",\n",
    "    ylabel=\"Classification Accuracy, %\",\n",
    ")\n",
    "render(best_objective_plot)"
   ]
  },
  {
   "cell_type": "markdown",
   "metadata": {},
   "source": [
    "## 6. Train CNN with best hyperparameters and evaluate on test set\n",
    "Note that the resulting accuracy on the test set might not be exactly the same as the maximum accuracy achieved on the evaluation set throughout optimization. "
   ]
  },
  {
   "cell_type": "code",
   "execution_count": 10,
   "metadata": {},
   "outputs": [
    {
     "data": {
      "text/plain": [
       "Arm(name='4_0', parameters={'lr': 0.0001831283125306528, 'momentum': 0.8650175333023071})"
      ]
     },
     "execution_count": 10,
     "metadata": {},
     "output_type": "execute_result"
    }
   ],
   "source": [
    "data = experiment.fetch_data()\n",
    "df = data.df\n",
    "best_arm_name = df.arm_name[df['mean'] == df['mean'].max()].values[0]\n",
    "best_arm = experiment.arms_by_name[best_arm_name]\n",
    "best_arm"
   ]
  },
  {
   "cell_type": "code",
   "execution_count": 11,
   "metadata": {
    "collapsed": true
   },
   "outputs": [],
   "source": [
    "combined_train_valid_set = torch.utils.data.ConcatDataset([\n",
    "    train_loader.dataset.dataset, \n",
    "    valid_loader.dataset.dataset,\n",
    "])\n",
    "combined_train_valid_loader = torch.utils.data.DataLoader(\n",
    "    combined_train_valid_set, \n",
    "    batch_size=BATCH_SIZE, \n",
    "    shuffle=True,\n",
    ")"
   ]
  },
  {
   "cell_type": "code",
   "execution_count": 12,
   "metadata": {
    "collapsed": true
   },
   "outputs": [],
   "source": [
    "net = train(\n",
    "    net=CNN(),\n",
    "    train_loader=combined_train_valid_loader, \n",
    "    parameters=best_arm.parameters,\n",
    "    dtype=dtype,\n",
    "    device=device,\n",
    ")\n",
    "test_accuracy = evaluate(\n",
    "    net=net,\n",
    "    data_loader=test_loader,\n",
    "    dtype=dtype,\n",
    "    device=device,\n",
    ")"
   ]
  },
  {
   "cell_type": "code",
   "execution_count": 13,
   "metadata": {},
   "outputs": [
    {
     "name": "stdout",
     "output_type": "stream",
     "text": [
      "Classification Accuracy (test set): 97.9%\n"
     ]
    }
   ],
   "source": [
    "print(f\"Classification Accuracy (test set): {round(test_accuracy*100, 2)}%\")"
   ]
  }
 ],
 "metadata": {
  "kernelspec": {
   "display_name": "python3",
   "language": "python",
   "name": "python3"
  },
  "language_info": {
   "codemirror_mode": {
    "name": "ipython",
    "version": 3
   },
   "file_extension": ".py",
   "mimetype": "text/x-python",
   "name": "python",
   "nbconvert_exporter": "python",
   "pygments_lexer": "ipython3",
   "version": "3.6.7"
  }
 },
 "nbformat": 4,
 "nbformat_minor": 2
}
