{
 "cells": [
  {
   "cell_type": "markdown",
   "metadata": {},
   "source": [
    "# Tune a CNN on MNIST\n",
    "\n",
    "This tutorial walks through using Ax to tune two hyperparameters (learning rate and momentum) for a PyTorch CNN on the MNIST dataset trained using SGD with momentum.\n"
   ]
  },
  {
   "cell_type": "code",
   "execution_count": 1,
   "metadata": {},
   "outputs": [
    {
     "data": {
      "text/html": [
       "<script type='text/javascript'>/*\n",
       " * Copyright (c) Facebook, Inc. and its affiliates. All Rights Reserved.\n",
       " */\n",
       "\n",
       "requirejs.config({\n",
       "  paths: {\n",
       "    plotly: ['https://cdn.plot.ly/plotly-latest.min'],\n",
       "  },\n",
       "});\n",
       "if (!window.Plotly) {\n",
       "  require(['plotly'], function(plotly) {\n",
       "    window.Plotly = plotly;\n",
       "  });\n",
       "}\n",
       "/*\n",
       " * Copyright (c) Facebook, Inc. and its affiliates. All Rights Reserved.\n",
       " */\n",
       "\n",
       "// helper functions used across multiple plots\n",
       "function rgb(rgb_array) {\n",
       "  return 'rgb(' + rgb_array.join() + ')';\n",
       "}\n",
       "\n",
       "function copy_and_reverse(arr) {\n",
       "  const copy = arr.slice();\n",
       "  copy.reverse();\n",
       "  return copy;\n",
       "}\n",
       "\n",
       "function axis_range(grid, is_log) {\n",
       "  return is_log ?\n",
       "    [Math.log10(Math.min(...grid)), Math.log10(Math.max(...grid))]:\n",
       "    [Math.min(...grid), Math.max(...grid)];\n",
       "}\n",
       "\n",
       "function relativize_data(f, sd, rel, arm_data, metric) {\n",
       "  // if relative, extract status quo & compute ratio\n",
       "  const f_final = rel === true ? [] : f;\n",
       "  const sd_final = rel === true ? []: sd;\n",
       "\n",
       "  if (rel === true) {\n",
       "    const f_sq = (\n",
       "      arm_data['in_sample'][arm_data['status_quo_name']]['y'][metric]\n",
       "    );\n",
       "    const sd_sq = (\n",
       "      arm_data['in_sample'][arm_data['status_quo_name']]['se'][metric]\n",
       "    );\n",
       "\n",
       "    for (let i = 0; i < f.length; i++) {\n",
       "      res = relativize(f[i], sd[i], f_sq, sd_sq);\n",
       "      f_final.push(100 * res[0]);\n",
       "      sd_final.push(100 * res[1]);\n",
       "    }\n",
       "  }\n",
       "\n",
       "  return [f_final, sd_final];\n",
       "}\n",
       "\n",
       "function relativize(m_t, sem_t, m_c, sem_c) {\n",
       "  r_hat = (\n",
       "    (m_t - m_c) / Math.abs(m_c) -\n",
       "    Math.pow(sem_c, 2) * m_t / Math.pow(Math.abs(m_c), 3)\n",
       "  );\n",
       "  variance = (\n",
       "    (Math.pow(sem_t, 2) + Math.pow((m_t / m_c * sem_c), 2)) /\n",
       "    Math.pow(m_c, 2)\n",
       "   )\n",
       "   return [r_hat, Math.sqrt(variance)];\n",
       "}\n",
       "</script>"
      ]
     },
     "metadata": {},
     "output_type": "display_data"
    },
    {
     "name": "stderr",
     "output_type": "stream",
     "text": [
      "[INFO 08-11 19:15:47] ipy_plotting: Injecting Plotly library into cell. Do not overwrite or delete cell.\n"
     ]
    }
   ],
   "source": [
    "import torch\n",
    "import numpy as np\n",
    "\n",
    "from ax.plot.contour import plot_contour\n",
    "from ax.plot.trace import optimization_trace_single_method\n",
    "from ax.service.managed_loop import optimize\n",
    "from ax.utils.notebook.plotting import render, init_notebook_plotting\n",
    "from ax.utils.tutorials.cnn_utils import load_mnist, train, evaluate, CNN\n",
    "\n",
    "init_notebook_plotting()"
   ]
  },
  {
   "cell_type": "code",
   "execution_count": 2,
   "metadata": {
    "collapsed": true
   },
   "outputs": [],
   "source": [
    "torch.manual_seed(12345)\n",
    "dtype = torch.float\n",
    "device = torch.device(\"cuda\" if torch.cuda.is_available() else \"cpu\")"
   ]
  },
  {
   "cell_type": "markdown",
   "metadata": {},
   "source": [
    "## 1. Load MNIST data\n",
    "First, we need to load the MNIST data and partition it into training, validation, and test sets.\n",
    "\n",
    "Note: this will download the dataset if necessary."
   ]
  },
  {
   "cell_type": "code",
   "execution_count": 3,
   "metadata": {
    "scrolled": true
   },
   "outputs": [
    {
     "name": "stderr",
     "output_type": "stream",
     "text": [
      "\r",
      "0.0%"
     ]
    },
    {
     "name": "stderr",
     "output_type": "stream",
     "text": [
      "\r",
      "0.1%"
     ]
    },
    {
     "name": "stdout",
     "output_type": "stream",
     "text": [
      "Downloading http://yann.lecun.com/exdb/mnist/train-images-idx3-ubyte.gz to ./data/MNIST/raw/train-images-idx3-ubyte.gz\n"
     ]
    },
    {
     "name": "stderr",
     "output_type": "stream",
     "text": [
      "\r",
      "0.2%"
     ]
    },
    {
     "name": "stderr",
     "output_type": "stream",
     "text": [
      "\r",
      "0.2%"
     ]
    },
    {
     "name": "stderr",
     "output_type": "stream",
     "text": [
      "\r",
      "0.3%"
     ]
    },
    {
     "name": "stderr",
     "output_type": "stream",
     "text": [
      "\r",
      "0.4%"
     ]
    },
    {
     "name": "stderr",
     "output_type": "stream",
     "text": [
      "\r",
      "0.5%"
     ]
    },
    {
     "name": "stderr",
     "output_type": "stream",
     "text": [
      "\r",
      "0.6%"
     ]
    },
    {
     "name": "stderr",
     "output_type": "stream",
     "text": [
      "\r",
      "0.7%"
     ]
    },
    {
     "name": "stderr",
     "output_type": "stream",
     "text": [
      "\r",
      "0.7%"
     ]
    },
    {
     "name": "stderr",
     "output_type": "stream",
     "text": [
      "\r",
      "0.8%"
     ]
    },
    {
     "name": "stderr",
     "output_type": "stream",
     "text": [
      "\r",
      "0.9%"
     ]
    },
    {
     "name": "stderr",
     "output_type": "stream",
     "text": [
      "\r",
      "1.0%"
     ]
    },
    {
     "name": "stderr",
     "output_type": "stream",
     "text": [
      "\r",
      "1.1%"
     ]
    },
    {
     "name": "stderr",
     "output_type": "stream",
     "text": [
      "\r",
      "1.2%"
     ]
    },
    {
     "name": "stderr",
     "output_type": "stream",
     "text": [
      "\r",
      "1.2%"
     ]
    },
    {
     "name": "stderr",
     "output_type": "stream",
     "text": [
      "\r",
      "1.3%"
     ]
    },
    {
     "name": "stderr",
     "output_type": "stream",
     "text": [
      "\r",
      "1.4%"
     ]
    },
    {
     "name": "stderr",
     "output_type": "stream",
     "text": [
      "\r",
      "1.5%"
     ]
    },
    {
     "name": "stderr",
     "output_type": "stream",
     "text": [
      "\r",
      "1.6%"
     ]
    },
    {
     "name": "stderr",
     "output_type": "stream",
     "text": [
      "\r",
      "1.7%"
     ]
    },
    {
     "name": "stderr",
     "output_type": "stream",
     "text": [
      "\r",
      "1.7%"
     ]
    },
    {
     "name": "stderr",
     "output_type": "stream",
     "text": [
      "\r",
      "1.8%"
     ]
    },
    {
     "name": "stderr",
     "output_type": "stream",
     "text": [
      "\r",
      "1.9%"
     ]
    },
    {
     "name": "stderr",
     "output_type": "stream",
     "text": [
      "\r",
      "2.0%"
     ]
    },
    {
     "name": "stderr",
     "output_type": "stream",
     "text": [
      "\r",
      "2.1%"
     ]
    },
    {
     "name": "stderr",
     "output_type": "stream",
     "text": [
      "\r",
      "2.1%"
     ]
    },
    {
     "name": "stderr",
     "output_type": "stream",
     "text": [
      "\r",
      "2.2%"
     ]
    },
    {
     "name": "stderr",
     "output_type": "stream",
     "text": [
      "\r",
      "2.3%"
     ]
    },
    {
     "name": "stderr",
     "output_type": "stream",
     "text": [
      "\r",
      "2.4%"
     ]
    },
    {
     "name": "stderr",
     "output_type": "stream",
     "text": [
      "\r",
      "2.5%"
     ]
    },
    {
     "name": "stderr",
     "output_type": "stream",
     "text": [
      "\r",
      "2.6%"
     ]
    },
    {
     "name": "stderr",
     "output_type": "stream",
     "text": [
      "\r",
      "2.6%"
     ]
    },
    {
     "name": "stderr",
     "output_type": "stream",
     "text": [
      "\r",
      "2.7%"
     ]
    },
    {
     "name": "stderr",
     "output_type": "stream",
     "text": [
      "\r",
      "2.8%"
     ]
    },
    {
     "name": "stderr",
     "output_type": "stream",
     "text": [
      "\r",
      "2.9%"
     ]
    },
    {
     "name": "stderr",
     "output_type": "stream",
     "text": [
      "\r",
      "3.0%"
     ]
    },
    {
     "name": "stderr",
     "output_type": "stream",
     "text": [
      "\r",
      "3.1%"
     ]
    },
    {
     "name": "stderr",
     "output_type": "stream",
     "text": [
      "\r",
      "3.1%"
     ]
    },
    {
     "name": "stderr",
     "output_type": "stream",
     "text": [
      "\r",
      "3.2%"
     ]
    },
    {
     "name": "stderr",
     "output_type": "stream",
     "text": [
      "\r",
      "3.3%"
     ]
    },
    {
     "name": "stderr",
     "output_type": "stream",
     "text": [
      "\r",
      "3.4%"
     ]
    },
    {
     "name": "stderr",
     "output_type": "stream",
     "text": [
      "\r",
      "3.5%"
     ]
    },
    {
     "name": "stderr",
     "output_type": "stream",
     "text": [
      "\r",
      "3.6%"
     ]
    },
    {
     "name": "stderr",
     "output_type": "stream",
     "text": [
      "\r",
      "3.6%"
     ]
    },
    {
     "name": "stderr",
     "output_type": "stream",
     "text": [
      "\r",
      "3.7%"
     ]
    },
    {
     "name": "stderr",
     "output_type": "stream",
     "text": [
      "\r",
      "3.8%"
     ]
    },
    {
     "name": "stderr",
     "output_type": "stream",
     "text": [
      "\r",
      "3.9%"
     ]
    },
    {
     "name": "stderr",
     "output_type": "stream",
     "text": [
      "\r",
      "4.0%"
     ]
    },
    {
     "name": "stderr",
     "output_type": "stream",
     "text": [
      "\r",
      "4.0%"
     ]
    },
    {
     "name": "stderr",
     "output_type": "stream",
     "text": [
      "\r",
      "4.1%"
     ]
    },
    {
     "name": "stderr",
     "output_type": "stream",
     "text": [
      "\r",
      "4.2%"
     ]
    },
    {
     "name": "stderr",
     "output_type": "stream",
     "text": [
      "\r",
      "4.3%"
     ]
    },
    {
     "name": "stderr",
     "output_type": "stream",
     "text": [
      "\r",
      "4.4%"
     ]
    },
    {
     "name": "stderr",
     "output_type": "stream",
     "text": [
      "\r",
      "4.5%"
     ]
    },
    {
     "name": "stderr",
     "output_type": "stream",
     "text": [
      "\r",
      "4.5%"
     ]
    },
    {
     "name": "stderr",
     "output_type": "stream",
     "text": [
      "\r",
      "4.6%"
     ]
    },
    {
     "name": "stderr",
     "output_type": "stream",
     "text": [
      "\r",
      "4.7%"
     ]
    },
    {
     "name": "stderr",
     "output_type": "stream",
     "text": [
      "\r",
      "4.8%"
     ]
    },
    {
     "name": "stderr",
     "output_type": "stream",
     "text": [
      "\r",
      "4.9%"
     ]
    },
    {
     "name": "stderr",
     "output_type": "stream",
     "text": [
      "\r",
      "5.0%"
     ]
    },
    {
     "name": "stderr",
     "output_type": "stream",
     "text": [
      "\r",
      "5.0%"
     ]
    },
    {
     "name": "stderr",
     "output_type": "stream",
     "text": [
      "\r",
      "5.1%"
     ]
    },
    {
     "name": "stderr",
     "output_type": "stream",
     "text": [
      "\r",
      "5.2%"
     ]
    },
    {
     "name": "stderr",
     "output_type": "stream",
     "text": [
      "\r",
      "5.3%"
     ]
    },
    {
     "name": "stderr",
     "output_type": "stream",
     "text": [
      "\r",
      "5.4%"
     ]
    },
    {
     "name": "stderr",
     "output_type": "stream",
     "text": [
      "\r",
      "5.5%"
     ]
    },
    {
     "name": "stderr",
     "output_type": "stream",
     "text": [
      "\r",
      "5.5%"
     ]
    },
    {
     "name": "stderr",
     "output_type": "stream",
     "text": [
      "\r",
      "5.6%"
     ]
    },
    {
     "name": "stderr",
     "output_type": "stream",
     "text": [
      "\r",
      "5.7%"
     ]
    },
    {
     "name": "stderr",
     "output_type": "stream",
     "text": [
      "\r",
      "5.8%"
     ]
    },
    {
     "name": "stderr",
     "output_type": "stream",
     "text": [
      "\r",
      "5.9%"
     ]
    },
    {
     "name": "stderr",
     "output_type": "stream",
     "text": [
      "\r",
      "6.0%"
     ]
    },
    {
     "name": "stderr",
     "output_type": "stream",
     "text": [
      "\r",
      "6.0%"
     ]
    },
    {
     "name": "stderr",
     "output_type": "stream",
     "text": [
      "\r",
      "6.1%"
     ]
    },
    {
     "name": "stderr",
     "output_type": "stream",
     "text": [
      "\r",
      "6.2%"
     ]
    },
    {
     "name": "stderr",
     "output_type": "stream",
     "text": [
      "\r",
      "6.3%"
     ]
    },
    {
     "name": "stderr",
     "output_type": "stream",
     "text": [
      "\r",
      "6.4%"
     ]
    },
    {
     "name": "stderr",
     "output_type": "stream",
     "text": [
      "\r",
      "6.4%"
     ]
    },
    {
     "name": "stderr",
     "output_type": "stream",
     "text": [
      "\r",
      "6.5%"
     ]
    },
    {
     "name": "stderr",
     "output_type": "stream",
     "text": [
      "\r",
      "6.6%"
     ]
    },
    {
     "name": "stderr",
     "output_type": "stream",
     "text": [
      "\r",
      "6.7%"
     ]
    },
    {
     "name": "stderr",
     "output_type": "stream",
     "text": [
      "\r",
      "6.8%"
     ]
    },
    {
     "name": "stderr",
     "output_type": "stream",
     "text": [
      "\r",
      "6.9%"
     ]
    },
    {
     "name": "stderr",
     "output_type": "stream",
     "text": [
      "\r",
      "6.9%"
     ]
    },
    {
     "name": "stderr",
     "output_type": "stream",
     "text": [
      "\r",
      "7.0%"
     ]
    },
    {
     "name": "stderr",
     "output_type": "stream",
     "text": [
      "\r",
      "7.1%"
     ]
    },
    {
     "name": "stderr",
     "output_type": "stream",
     "text": [
      "\r",
      "7.2%"
     ]
    },
    {
     "name": "stderr",
     "output_type": "stream",
     "text": [
      "\r",
      "7.3%"
     ]
    },
    {
     "name": "stderr",
     "output_type": "stream",
     "text": [
      "\r",
      "7.4%"
     ]
    },
    {
     "name": "stderr",
     "output_type": "stream",
     "text": [
      "\r",
      "7.4%"
     ]
    },
    {
     "name": "stderr",
     "output_type": "stream",
     "text": [
      "\r",
      "7.5%"
     ]
    },
    {
     "name": "stderr",
     "output_type": "stream",
     "text": [
      "\r",
      "7.6%"
     ]
    },
    {
     "name": "stderr",
     "output_type": "stream",
     "text": [
      "\r",
      "7.7%"
     ]
    },
    {
     "name": "stderr",
     "output_type": "stream",
     "text": [
      "\r",
      "7.8%"
     ]
    },
    {
     "name": "stderr",
     "output_type": "stream",
     "text": [
      "\r",
      "7.9%"
     ]
    },
    {
     "name": "stderr",
     "output_type": "stream",
     "text": [
      "\r",
      "7.9%"
     ]
    },
    {
     "name": "stderr",
     "output_type": "stream",
     "text": [
      "\r",
      "8.0%"
     ]
    },
    {
     "name": "stderr",
     "output_type": "stream",
     "text": [
      "\r",
      "8.1%"
     ]
    },
    {
     "name": "stderr",
     "output_type": "stream",
     "text": [
      "\r",
      "8.2%"
     ]
    },
    {
     "name": "stderr",
     "output_type": "stream",
     "text": [
      "\r",
      "8.3%"
     ]
    },
    {
     "name": "stderr",
     "output_type": "stream",
     "text": [
      "\r",
      "8.3%"
     ]
    },
    {
     "name": "stderr",
     "output_type": "stream",
     "text": [
      "\r",
      "8.4%"
     ]
    },
    {
     "name": "stderr",
     "output_type": "stream",
     "text": [
      "\r",
      "8.5%"
     ]
    },
    {
     "name": "stderr",
     "output_type": "stream",
     "text": [
      "\r",
      "8.6%"
     ]
    },
    {
     "name": "stderr",
     "output_type": "stream",
     "text": [
      "\r",
      "8.7%"
     ]
    },
    {
     "name": "stderr",
     "output_type": "stream",
     "text": [
      "\r",
      "8.8%"
     ]
    },
    {
     "name": "stderr",
     "output_type": "stream",
     "text": [
      "\r",
      "8.8%"
     ]
    },
    {
     "name": "stderr",
     "output_type": "stream",
     "text": [
      "\r",
      "8.9%"
     ]
    },
    {
     "name": "stderr",
     "output_type": "stream",
     "text": [
      "\r",
      "9.0%"
     ]
    },
    {
     "name": "stderr",
     "output_type": "stream",
     "text": [
      "\r",
      "9.1%"
     ]
    },
    {
     "name": "stderr",
     "output_type": "stream",
     "text": [
      "\r",
      "9.2%"
     ]
    },
    {
     "name": "stderr",
     "output_type": "stream",
     "text": [
      "\r",
      "9.3%"
     ]
    },
    {
     "name": "stderr",
     "output_type": "stream",
     "text": [
      "\r",
      "9.3%"
     ]
    },
    {
     "name": "stderr",
     "output_type": "stream",
     "text": [
      "\r",
      "9.4%"
     ]
    },
    {
     "name": "stderr",
     "output_type": "stream",
     "text": [
      "\r",
      "9.5%"
     ]
    },
    {
     "name": "stderr",
     "output_type": "stream",
     "text": [
      "\r",
      "9.6%"
     ]
    },
    {
     "name": "stderr",
     "output_type": "stream",
     "text": [
      "\r",
      "9.7%"
     ]
    },
    {
     "name": "stderr",
     "output_type": "stream",
     "text": [
      "\r",
      "9.8%"
     ]
    },
    {
     "name": "stderr",
     "output_type": "stream",
     "text": [
      "\r",
      "9.8%"
     ]
    },
    {
     "name": "stderr",
     "output_type": "stream",
     "text": [
      "\r",
      "9.9%"
     ]
    },
    {
     "name": "stderr",
     "output_type": "stream",
     "text": [
      "\r",
      "10.0%"
     ]
    },
    {
     "name": "stderr",
     "output_type": "stream",
     "text": [
      "\r",
      "10.1%"
     ]
    },
    {
     "name": "stderr",
     "output_type": "stream",
     "text": [
      "\r",
      "10.2%"
     ]
    },
    {
     "name": "stderr",
     "output_type": "stream",
     "text": [
      "\r",
      "10.2%"
     ]
    },
    {
     "name": "stderr",
     "output_type": "stream",
     "text": [
      "\r",
      "10.3%"
     ]
    },
    {
     "name": "stderr",
     "output_type": "stream",
     "text": [
      "\r",
      "10.4%"
     ]
    },
    {
     "name": "stderr",
     "output_type": "stream",
     "text": [
      "\r",
      "10.5%"
     ]
    },
    {
     "name": "stderr",
     "output_type": "stream",
     "text": [
      "\r",
      "10.6%"
     ]
    },
    {
     "name": "stderr",
     "output_type": "stream",
     "text": [
      "\r",
      "10.7%"
     ]
    },
    {
     "name": "stderr",
     "output_type": "stream",
     "text": [
      "\r",
      "10.7%"
     ]
    },
    {
     "name": "stderr",
     "output_type": "stream",
     "text": [
      "\r",
      "10.8%"
     ]
    },
    {
     "name": "stderr",
     "output_type": "stream",
     "text": [
      "\r",
      "10.9%"
     ]
    },
    {
     "name": "stderr",
     "output_type": "stream",
     "text": [
      "\r",
      "11.0%"
     ]
    },
    {
     "name": "stderr",
     "output_type": "stream",
     "text": [
      "\r",
      "11.1%"
     ]
    },
    {
     "name": "stderr",
     "output_type": "stream",
     "text": [
      "\r",
      "11.2%"
     ]
    },
    {
     "name": "stderr",
     "output_type": "stream",
     "text": [
      "\r",
      "11.2%"
     ]
    },
    {
     "name": "stderr",
     "output_type": "stream",
     "text": [
      "\r",
      "11.3%"
     ]
    },
    {
     "name": "stderr",
     "output_type": "stream",
     "text": [
      "\r",
      "11.4%"
     ]
    },
    {
     "name": "stderr",
     "output_type": "stream",
     "text": [
      "\r",
      "11.5%"
     ]
    },
    {
     "name": "stderr",
     "output_type": "stream",
     "text": [
      "\r",
      "11.6%"
     ]
    },
    {
     "name": "stderr",
     "output_type": "stream",
     "text": [
      "\r",
      "11.7%"
     ]
    },
    {
     "name": "stderr",
     "output_type": "stream",
     "text": [
      "\r",
      "11.7%"
     ]
    },
    {
     "name": "stderr",
     "output_type": "stream",
     "text": [
      "\r",
      "11.8%"
     ]
    },
    {
     "name": "stderr",
     "output_type": "stream",
     "text": [
      "\r",
      "11.9%"
     ]
    },
    {
     "name": "stderr",
     "output_type": "stream",
     "text": [
      "\r",
      "12.0%"
     ]
    },
    {
     "name": "stderr",
     "output_type": "stream",
     "text": [
      "\r",
      "12.1%"
     ]
    },
    {
     "name": "stderr",
     "output_type": "stream",
     "text": [
      "\r",
      "12.1%"
     ]
    },
    {
     "name": "stderr",
     "output_type": "stream",
     "text": [
      "\r",
      "12.2%"
     ]
    },
    {
     "name": "stderr",
     "output_type": "stream",
     "text": [
      "\r",
      "12.3%"
     ]
    },
    {
     "name": "stderr",
     "output_type": "stream",
     "text": [
      "\r",
      "12.4%"
     ]
    },
    {
     "name": "stderr",
     "output_type": "stream",
     "text": [
      "\r",
      "12.5%"
     ]
    },
    {
     "name": "stderr",
     "output_type": "stream",
     "text": [
      "\r",
      "12.6%"
     ]
    },
    {
     "name": "stderr",
     "output_type": "stream",
     "text": [
      "\r",
      "12.6%"
     ]
    },
    {
     "name": "stderr",
     "output_type": "stream",
     "text": [
      "\r",
      "12.7%"
     ]
    },
    {
     "name": "stderr",
     "output_type": "stream",
     "text": [
      "\r",
      "12.8%"
     ]
    },
    {
     "name": "stderr",
     "output_type": "stream",
     "text": [
      "\r",
      "12.9%"
     ]
    },
    {
     "name": "stderr",
     "output_type": "stream",
     "text": [
      "\r",
      "13.0%"
     ]
    },
    {
     "name": "stderr",
     "output_type": "stream",
     "text": [
      "\r",
      "13.1%"
     ]
    },
    {
     "name": "stderr",
     "output_type": "stream",
     "text": [
      "\r",
      "13.1%"
     ]
    },
    {
     "name": "stderr",
     "output_type": "stream",
     "text": [
      "\r",
      "13.2%"
     ]
    },
    {
     "name": "stderr",
     "output_type": "stream",
     "text": [
      "\r",
      "13.3%"
     ]
    },
    {
     "name": "stderr",
     "output_type": "stream",
     "text": [
      "\r",
      "13.4%"
     ]
    },
    {
     "name": "stderr",
     "output_type": "stream",
     "text": [
      "\r",
      "13.5%"
     ]
    },
    {
     "name": "stderr",
     "output_type": "stream",
     "text": [
      "\r",
      "13.6%"
     ]
    },
    {
     "name": "stderr",
     "output_type": "stream",
     "text": [
      "\r",
      "13.6%"
     ]
    },
    {
     "name": "stderr",
     "output_type": "stream",
     "text": [
      "\r",
      "13.7%"
     ]
    },
    {
     "name": "stderr",
     "output_type": "stream",
     "text": [
      "\r",
      "13.8%"
     ]
    },
    {
     "name": "stderr",
     "output_type": "stream",
     "text": [
      "\r",
      "13.9%"
     ]
    },
    {
     "name": "stderr",
     "output_type": "stream",
     "text": [
      "\r",
      "14.0%"
     ]
    },
    {
     "name": "stderr",
     "output_type": "stream",
     "text": [
      "\r",
      "14.0%"
     ]
    },
    {
     "name": "stderr",
     "output_type": "stream",
     "text": [
      "\r",
      "14.1%"
     ]
    },
    {
     "name": "stderr",
     "output_type": "stream",
     "text": [
      "\r",
      "14.2%"
     ]
    },
    {
     "name": "stderr",
     "output_type": "stream",
     "text": [
      "\r",
      "14.3%"
     ]
    },
    {
     "name": "stderr",
     "output_type": "stream",
     "text": [
      "\r",
      "14.4%"
     ]
    },
    {
     "name": "stderr",
     "output_type": "stream",
     "text": [
      "\r",
      "14.5%"
     ]
    },
    {
     "name": "stderr",
     "output_type": "stream",
     "text": [
      "\r",
      "14.5%"
     ]
    },
    {
     "name": "stderr",
     "output_type": "stream",
     "text": [
      "\r",
      "14.6%"
     ]
    },
    {
     "name": "stderr",
     "output_type": "stream",
     "text": [
      "\r",
      "14.7%"
     ]
    },
    {
     "name": "stderr",
     "output_type": "stream",
     "text": [
      "\r",
      "14.8%"
     ]
    },
    {
     "name": "stderr",
     "output_type": "stream",
     "text": [
      "\r",
      "14.9%"
     ]
    },
    {
     "name": "stderr",
     "output_type": "stream",
     "text": [
      "\r",
      "15.0%"
     ]
    },
    {
     "name": "stderr",
     "output_type": "stream",
     "text": [
      "\r",
      "15.0%"
     ]
    },
    {
     "name": "stderr",
     "output_type": "stream",
     "text": [
      "\r",
      "15.1%"
     ]
    },
    {
     "name": "stderr",
     "output_type": "stream",
     "text": [
      "\r",
      "15.2%"
     ]
    },
    {
     "name": "stderr",
     "output_type": "stream",
     "text": [
      "\r",
      "15.3%"
     ]
    },
    {
     "name": "stderr",
     "output_type": "stream",
     "text": [
      "\r",
      "15.4%"
     ]
    },
    {
     "name": "stderr",
     "output_type": "stream",
     "text": [
      "\r",
      "15.5%"
     ]
    },
    {
     "name": "stderr",
     "output_type": "stream",
     "text": [
      "\r",
      "15.5%"
     ]
    },
    {
     "name": "stderr",
     "output_type": "stream",
     "text": [
      "\r",
      "15.6%"
     ]
    },
    {
     "name": "stderr",
     "output_type": "stream",
     "text": [
      "\r",
      "15.7%"
     ]
    },
    {
     "name": "stderr",
     "output_type": "stream",
     "text": [
      "\r",
      "15.8%"
     ]
    },
    {
     "name": "stderr",
     "output_type": "stream",
     "text": [
      "\r",
      "15.9%"
     ]
    },
    {
     "name": "stderr",
     "output_type": "stream",
     "text": [
      "\r",
      "16.0%"
     ]
    },
    {
     "name": "stderr",
     "output_type": "stream",
     "text": [
      "\r",
      "16.0%"
     ]
    },
    {
     "name": "stderr",
     "output_type": "stream",
     "text": [
      "\r",
      "16.1%"
     ]
    },
    {
     "name": "stderr",
     "output_type": "stream",
     "text": [
      "\r",
      "16.2%"
     ]
    },
    {
     "name": "stderr",
     "output_type": "stream",
     "text": [
      "\r",
      "16.3%"
     ]
    },
    {
     "name": "stderr",
     "output_type": "stream",
     "text": [
      "\r",
      "16.4%"
     ]
    },
    {
     "name": "stderr",
     "output_type": "stream",
     "text": [
      "\r",
      "16.4%"
     ]
    },
    {
     "name": "stderr",
     "output_type": "stream",
     "text": [
      "\r",
      "16.5%"
     ]
    },
    {
     "name": "stderr",
     "output_type": "stream",
     "text": [
      "\r",
      "16.6%"
     ]
    },
    {
     "name": "stderr",
     "output_type": "stream",
     "text": [
      "\r",
      "16.7%"
     ]
    },
    {
     "name": "stderr",
     "output_type": "stream",
     "text": [
      "\r",
      "16.8%"
     ]
    },
    {
     "name": "stderr",
     "output_type": "stream",
     "text": [
      "\r",
      "16.9%"
     ]
    },
    {
     "name": "stderr",
     "output_type": "stream",
     "text": [
      "\r",
      "16.9%"
     ]
    },
    {
     "name": "stderr",
     "output_type": "stream",
     "text": [
      "\r",
      "17.0%"
     ]
    },
    {
     "name": "stderr",
     "output_type": "stream",
     "text": [
      "\r",
      "17.1%"
     ]
    },
    {
     "name": "stderr",
     "output_type": "stream",
     "text": [
      "\r",
      "17.2%"
     ]
    },
    {
     "name": "stderr",
     "output_type": "stream",
     "text": [
      "\r",
      "17.3%"
     ]
    },
    {
     "name": "stderr",
     "output_type": "stream",
     "text": [
      "\r",
      "17.4%"
     ]
    },
    {
     "name": "stderr",
     "output_type": "stream",
     "text": [
      "\r",
      "17.4%"
     ]
    },
    {
     "name": "stderr",
     "output_type": "stream",
     "text": [
      "\r",
      "17.5%"
     ]
    },
    {
     "name": "stderr",
     "output_type": "stream",
     "text": [
      "\r",
      "17.6%"
     ]
    },
    {
     "name": "stderr",
     "output_type": "stream",
     "text": [
      "\r",
      "17.7%"
     ]
    },
    {
     "name": "stderr",
     "output_type": "stream",
     "text": [
      "\r",
      "17.8%"
     ]
    },
    {
     "name": "stderr",
     "output_type": "stream",
     "text": [
      "\r",
      "17.9%"
     ]
    },
    {
     "name": "stderr",
     "output_type": "stream",
     "text": [
      "\r",
      "17.9%"
     ]
    },
    {
     "name": "stderr",
     "output_type": "stream",
     "text": [
      "\r",
      "18.0%"
     ]
    },
    {
     "name": "stderr",
     "output_type": "stream",
     "text": [
      "\r",
      "18.1%"
     ]
    },
    {
     "name": "stderr",
     "output_type": "stream",
     "text": [
      "\r",
      "18.2%"
     ]
    },
    {
     "name": "stderr",
     "output_type": "stream",
     "text": [
      "\r",
      "18.3%"
     ]
    },
    {
     "name": "stderr",
     "output_type": "stream",
     "text": [
      "\r",
      "18.3%"
     ]
    },
    {
     "name": "stderr",
     "output_type": "stream",
     "text": [
      "\r",
      "18.4%"
     ]
    },
    {
     "name": "stderr",
     "output_type": "stream",
     "text": [
      "\r",
      "18.5%"
     ]
    },
    {
     "name": "stderr",
     "output_type": "stream",
     "text": [
      "\r",
      "18.6%"
     ]
    },
    {
     "name": "stderr",
     "output_type": "stream",
     "text": [
      "\r",
      "18.7%"
     ]
    },
    {
     "name": "stderr",
     "output_type": "stream",
     "text": [
      "\r",
      "18.8%"
     ]
    },
    {
     "name": "stderr",
     "output_type": "stream",
     "text": [
      "\r",
      "18.8%"
     ]
    },
    {
     "name": "stderr",
     "output_type": "stream",
     "text": [
      "\r",
      "18.9%"
     ]
    },
    {
     "name": "stderr",
     "output_type": "stream",
     "text": [
      "\r",
      "19.0%"
     ]
    },
    {
     "name": "stderr",
     "output_type": "stream",
     "text": [
      "\r",
      "19.1%"
     ]
    },
    {
     "name": "stderr",
     "output_type": "stream",
     "text": [
      "\r",
      "19.2%"
     ]
    },
    {
     "name": "stderr",
     "output_type": "stream",
     "text": [
      "\r",
      "19.3%"
     ]
    },
    {
     "name": "stderr",
     "output_type": "stream",
     "text": [
      "\r",
      "19.3%"
     ]
    },
    {
     "name": "stderr",
     "output_type": "stream",
     "text": [
      "\r",
      "19.4%"
     ]
    },
    {
     "name": "stderr",
     "output_type": "stream",
     "text": [
      "\r",
      "19.5%"
     ]
    },
    {
     "name": "stderr",
     "output_type": "stream",
     "text": [
      "\r",
      "19.6%"
     ]
    },
    {
     "name": "stderr",
     "output_type": "stream",
     "text": [
      "\r",
      "19.7%"
     ]
    },
    {
     "name": "stderr",
     "output_type": "stream",
     "text": [
      "\r",
      "19.8%"
     ]
    },
    {
     "name": "stderr",
     "output_type": "stream",
     "text": [
      "\r",
      "19.8%"
     ]
    },
    {
     "name": "stderr",
     "output_type": "stream",
     "text": [
      "\r",
      "19.9%"
     ]
    },
    {
     "name": "stderr",
     "output_type": "stream",
     "text": [
      "\r",
      "20.0%"
     ]
    },
    {
     "name": "stderr",
     "output_type": "stream",
     "text": [
      "\r",
      "20.1%"
     ]
    },
    {
     "name": "stderr",
     "output_type": "stream",
     "text": [
      "\r",
      "20.2%"
     ]
    },
    {
     "name": "stderr",
     "output_type": "stream",
     "text": [
      "\r",
      "20.2%"
     ]
    },
    {
     "name": "stderr",
     "output_type": "stream",
     "text": [
      "\r",
      "20.3%"
     ]
    },
    {
     "name": "stderr",
     "output_type": "stream",
     "text": [
      "\r",
      "20.4%"
     ]
    },
    {
     "name": "stderr",
     "output_type": "stream",
     "text": [
      "\r",
      "20.5%"
     ]
    },
    {
     "name": "stderr",
     "output_type": "stream",
     "text": [
      "\r",
      "20.6%"
     ]
    },
    {
     "name": "stderr",
     "output_type": "stream",
     "text": [
      "\r",
      "20.7%"
     ]
    },
    {
     "name": "stderr",
     "output_type": "stream",
     "text": [
      "\r",
      "20.7%"
     ]
    },
    {
     "name": "stderr",
     "output_type": "stream",
     "text": [
      "\r",
      "20.8%"
     ]
    },
    {
     "name": "stderr",
     "output_type": "stream",
     "text": [
      "\r",
      "20.9%"
     ]
    },
    {
     "name": "stderr",
     "output_type": "stream",
     "text": [
      "\r",
      "21.0%"
     ]
    },
    {
     "name": "stderr",
     "output_type": "stream",
     "text": [
      "\r",
      "21.1%"
     ]
    },
    {
     "name": "stderr",
     "output_type": "stream",
     "text": [
      "\r",
      "21.2%"
     ]
    },
    {
     "name": "stderr",
     "output_type": "stream",
     "text": [
      "\r",
      "21.2%"
     ]
    },
    {
     "name": "stderr",
     "output_type": "stream",
     "text": [
      "\r",
      "21.3%"
     ]
    },
    {
     "name": "stderr",
     "output_type": "stream",
     "text": [
      "\r",
      "21.4%"
     ]
    },
    {
     "name": "stderr",
     "output_type": "stream",
     "text": [
      "\r",
      "21.5%"
     ]
    },
    {
     "name": "stderr",
     "output_type": "stream",
     "text": [
      "\r",
      "21.6%"
     ]
    },
    {
     "name": "stderr",
     "output_type": "stream",
     "text": [
      "\r",
      "21.7%"
     ]
    },
    {
     "name": "stderr",
     "output_type": "stream",
     "text": [
      "\r",
      "21.7%"
     ]
    },
    {
     "name": "stderr",
     "output_type": "stream",
     "text": [
      "\r",
      "21.8%"
     ]
    },
    {
     "name": "stderr",
     "output_type": "stream",
     "text": [
      "\r",
      "21.9%"
     ]
    },
    {
     "name": "stderr",
     "output_type": "stream",
     "text": [
      "\r",
      "22.0%"
     ]
    },
    {
     "name": "stderr",
     "output_type": "stream",
     "text": [
      "\r",
      "22.1%"
     ]
    },
    {
     "name": "stderr",
     "output_type": "stream",
     "text": [
      "\r",
      "22.1%"
     ]
    },
    {
     "name": "stderr",
     "output_type": "stream",
     "text": [
      "\r",
      "22.2%"
     ]
    },
    {
     "name": "stderr",
     "output_type": "stream",
     "text": [
      "\r",
      "22.3%"
     ]
    },
    {
     "name": "stderr",
     "output_type": "stream",
     "text": [
      "\r",
      "22.4%"
     ]
    },
    {
     "name": "stderr",
     "output_type": "stream",
     "text": [
      "\r",
      "22.5%"
     ]
    },
    {
     "name": "stderr",
     "output_type": "stream",
     "text": [
      "\r",
      "22.6%"
     ]
    },
    {
     "name": "stderr",
     "output_type": "stream",
     "text": [
      "\r",
      "22.6%"
     ]
    },
    {
     "name": "stderr",
     "output_type": "stream",
     "text": [
      "\r",
      "22.7%"
     ]
    },
    {
     "name": "stderr",
     "output_type": "stream",
     "text": [
      "\r",
      "22.8%"
     ]
    },
    {
     "name": "stderr",
     "output_type": "stream",
     "text": [
      "\r",
      "22.9%"
     ]
    },
    {
     "name": "stderr",
     "output_type": "stream",
     "text": [
      "\r",
      "23.0%"
     ]
    },
    {
     "name": "stderr",
     "output_type": "stream",
     "text": [
      "\r",
      "23.1%"
     ]
    },
    {
     "name": "stderr",
     "output_type": "stream",
     "text": [
      "\r",
      "23.1%"
     ]
    },
    {
     "name": "stderr",
     "output_type": "stream",
     "text": [
      "\r",
      "23.2%"
     ]
    },
    {
     "name": "stderr",
     "output_type": "stream",
     "text": [
      "\r",
      "23.3%"
     ]
    },
    {
     "name": "stderr",
     "output_type": "stream",
     "text": [
      "\r",
      "23.4%"
     ]
    },
    {
     "name": "stderr",
     "output_type": "stream",
     "text": [
      "\r",
      "23.5%"
     ]
    },
    {
     "name": "stderr",
     "output_type": "stream",
     "text": [
      "\r",
      "23.6%"
     ]
    },
    {
     "name": "stderr",
     "output_type": "stream",
     "text": [
      "\r",
      "23.6%"
     ]
    },
    {
     "name": "stderr",
     "output_type": "stream",
     "text": [
      "\r",
      "23.7%"
     ]
    },
    {
     "name": "stderr",
     "output_type": "stream",
     "text": [
      "\r",
      "23.8%"
     ]
    },
    {
     "name": "stderr",
     "output_type": "stream",
     "text": [
      "\r",
      "23.9%"
     ]
    },
    {
     "name": "stderr",
     "output_type": "stream",
     "text": [
      "\r",
      "24.0%"
     ]
    },
    {
     "name": "stderr",
     "output_type": "stream",
     "text": [
      "\r",
      "24.0%"
     ]
    },
    {
     "name": "stderr",
     "output_type": "stream",
     "text": [
      "\r",
      "24.1%"
     ]
    },
    {
     "name": "stderr",
     "output_type": "stream",
     "text": [
      "\r",
      "24.2%"
     ]
    },
    {
     "name": "stderr",
     "output_type": "stream",
     "text": [
      "\r",
      "24.3%"
     ]
    },
    {
     "name": "stderr",
     "output_type": "stream",
     "text": [
      "\r",
      "24.4%"
     ]
    },
    {
     "name": "stderr",
     "output_type": "stream",
     "text": [
      "\r",
      "24.5%"
     ]
    },
    {
     "name": "stderr",
     "output_type": "stream",
     "text": [
      "\r",
      "24.5%"
     ]
    },
    {
     "name": "stderr",
     "output_type": "stream",
     "text": [
      "\r",
      "24.6%"
     ]
    },
    {
     "name": "stderr",
     "output_type": "stream",
     "text": [
      "\r",
      "24.7%"
     ]
    },
    {
     "name": "stderr",
     "output_type": "stream",
     "text": [
      "\r",
      "24.8%"
     ]
    },
    {
     "name": "stderr",
     "output_type": "stream",
     "text": [
      "\r",
      "24.9%"
     ]
    },
    {
     "name": "stderr",
     "output_type": "stream",
     "text": [
      "\r",
      "25.0%"
     ]
    },
    {
     "name": "stderr",
     "output_type": "stream",
     "text": [
      "\r",
      "25.0%"
     ]
    },
    {
     "name": "stderr",
     "output_type": "stream",
     "text": [
      "\r",
      "25.1%"
     ]
    },
    {
     "name": "stderr",
     "output_type": "stream",
     "text": [
      "\r",
      "25.2%"
     ]
    },
    {
     "name": "stderr",
     "output_type": "stream",
     "text": [
      "\r",
      "25.3%"
     ]
    },
    {
     "name": "stderr",
     "output_type": "stream",
     "text": [
      "\r",
      "25.4%"
     ]
    },
    {
     "name": "stderr",
     "output_type": "stream",
     "text": [
      "\r",
      "25.5%"
     ]
    },
    {
     "name": "stderr",
     "output_type": "stream",
     "text": [
      "\r",
      "25.5%"
     ]
    },
    {
     "name": "stderr",
     "output_type": "stream",
     "text": [
      "\r",
      "25.6%"
     ]
    },
    {
     "name": "stderr",
     "output_type": "stream",
     "text": [
      "\r",
      "25.7%"
     ]
    },
    {
     "name": "stderr",
     "output_type": "stream",
     "text": [
      "\r",
      "25.8%"
     ]
    },
    {
     "name": "stderr",
     "output_type": "stream",
     "text": [
      "\r",
      "25.9%"
     ]
    },
    {
     "name": "stderr",
     "output_type": "stream",
     "text": [
      "\r",
      "26.0%"
     ]
    },
    {
     "name": "stderr",
     "output_type": "stream",
     "text": [
      "\r",
      "26.0%"
     ]
    },
    {
     "name": "stderr",
     "output_type": "stream",
     "text": [
      "\r",
      "26.1%"
     ]
    },
    {
     "name": "stderr",
     "output_type": "stream",
     "text": [
      "\r",
      "26.2%"
     ]
    },
    {
     "name": "stderr",
     "output_type": "stream",
     "text": [
      "\r",
      "26.3%"
     ]
    },
    {
     "name": "stderr",
     "output_type": "stream",
     "text": [
      "\r",
      "26.4%"
     ]
    },
    {
     "name": "stderr",
     "output_type": "stream",
     "text": [
      "\r",
      "26.4%"
     ]
    },
    {
     "name": "stderr",
     "output_type": "stream",
     "text": [
      "\r",
      "26.5%"
     ]
    },
    {
     "name": "stderr",
     "output_type": "stream",
     "text": [
      "\r",
      "26.6%"
     ]
    },
    {
     "name": "stderr",
     "output_type": "stream",
     "text": [
      "\r",
      "26.7%"
     ]
    },
    {
     "name": "stderr",
     "output_type": "stream",
     "text": [
      "\r",
      "26.8%"
     ]
    },
    {
     "name": "stderr",
     "output_type": "stream",
     "text": [
      "\r",
      "26.9%"
     ]
    },
    {
     "name": "stderr",
     "output_type": "stream",
     "text": [
      "\r",
      "26.9%"
     ]
    },
    {
     "name": "stderr",
     "output_type": "stream",
     "text": [
      "\r",
      "27.0%"
     ]
    },
    {
     "name": "stderr",
     "output_type": "stream",
     "text": [
      "\r",
      "27.1%"
     ]
    },
    {
     "name": "stderr",
     "output_type": "stream",
     "text": [
      "\r",
      "27.2%"
     ]
    },
    {
     "name": "stderr",
     "output_type": "stream",
     "text": [
      "\r",
      "27.3%"
     ]
    },
    {
     "name": "stderr",
     "output_type": "stream",
     "text": [
      "\r",
      "27.4%"
     ]
    },
    {
     "name": "stderr",
     "output_type": "stream",
     "text": [
      "\r",
      "27.4%"
     ]
    },
    {
     "name": "stderr",
     "output_type": "stream",
     "text": [
      "\r",
      "27.5%"
     ]
    },
    {
     "name": "stderr",
     "output_type": "stream",
     "text": [
      "\r",
      "27.6%"
     ]
    },
    {
     "name": "stderr",
     "output_type": "stream",
     "text": [
      "\r",
      "27.7%"
     ]
    },
    {
     "name": "stderr",
     "output_type": "stream",
     "text": [
      "\r",
      "27.8%"
     ]
    },
    {
     "name": "stderr",
     "output_type": "stream",
     "text": [
      "\r",
      "27.9%"
     ]
    },
    {
     "name": "stderr",
     "output_type": "stream",
     "text": [
      "\r",
      "27.9%"
     ]
    },
    {
     "name": "stderr",
     "output_type": "stream",
     "text": [
      "\r",
      "28.0%"
     ]
    },
    {
     "name": "stderr",
     "output_type": "stream",
     "text": [
      "\r",
      "28.1%"
     ]
    },
    {
     "name": "stderr",
     "output_type": "stream",
     "text": [
      "\r",
      "28.2%"
     ]
    },
    {
     "name": "stderr",
     "output_type": "stream",
     "text": [
      "\r",
      "28.3%"
     ]
    },
    {
     "name": "stderr",
     "output_type": "stream",
     "text": [
      "\r",
      "28.3%"
     ]
    },
    {
     "name": "stderr",
     "output_type": "stream",
     "text": [
      "\r",
      "28.4%"
     ]
    },
    {
     "name": "stderr",
     "output_type": "stream",
     "text": [
      "\r",
      "28.5%"
     ]
    },
    {
     "name": "stderr",
     "output_type": "stream",
     "text": [
      "\r",
      "28.6%"
     ]
    },
    {
     "name": "stderr",
     "output_type": "stream",
     "text": [
      "\r",
      "28.7%"
     ]
    },
    {
     "name": "stderr",
     "output_type": "stream",
     "text": [
      "\r",
      "28.8%"
     ]
    },
    {
     "name": "stderr",
     "output_type": "stream",
     "text": [
      "\r",
      "28.8%"
     ]
    },
    {
     "name": "stderr",
     "output_type": "stream",
     "text": [
      "\r",
      "28.9%"
     ]
    },
    {
     "name": "stderr",
     "output_type": "stream",
     "text": [
      "\r",
      "29.0%"
     ]
    },
    {
     "name": "stderr",
     "output_type": "stream",
     "text": [
      "\r",
      "29.1%"
     ]
    },
    {
     "name": "stderr",
     "output_type": "stream",
     "text": [
      "\r",
      "29.2%"
     ]
    },
    {
     "name": "stderr",
     "output_type": "stream",
     "text": [
      "\r",
      "29.3%"
     ]
    },
    {
     "name": "stderr",
     "output_type": "stream",
     "text": [
      "\r",
      "29.3%"
     ]
    },
    {
     "name": "stderr",
     "output_type": "stream",
     "text": [
      "\r",
      "29.4%"
     ]
    },
    {
     "name": "stderr",
     "output_type": "stream",
     "text": [
      "\r",
      "29.5%"
     ]
    },
    {
     "name": "stderr",
     "output_type": "stream",
     "text": [
      "\r",
      "29.6%"
     ]
    },
    {
     "name": "stderr",
     "output_type": "stream",
     "text": [
      "\r",
      "29.7%"
     ]
    },
    {
     "name": "stderr",
     "output_type": "stream",
     "text": [
      "\r",
      "29.8%"
     ]
    },
    {
     "name": "stderr",
     "output_type": "stream",
     "text": [
      "\r",
      "29.8%"
     ]
    },
    {
     "name": "stderr",
     "output_type": "stream",
     "text": [
      "\r",
      "29.9%"
     ]
    },
    {
     "name": "stderr",
     "output_type": "stream",
     "text": [
      "\r",
      "30.0%"
     ]
    },
    {
     "name": "stderr",
     "output_type": "stream",
     "text": [
      "\r",
      "30.1%"
     ]
    },
    {
     "name": "stderr",
     "output_type": "stream",
     "text": [
      "\r",
      "30.2%"
     ]
    },
    {
     "name": "stderr",
     "output_type": "stream",
     "text": [
      "\r",
      "30.2%"
     ]
    },
    {
     "name": "stderr",
     "output_type": "stream",
     "text": [
      "\r",
      "30.3%"
     ]
    },
    {
     "name": "stderr",
     "output_type": "stream",
     "text": [
      "\r",
      "30.4%"
     ]
    },
    {
     "name": "stderr",
     "output_type": "stream",
     "text": [
      "\r",
      "30.5%"
     ]
    },
    {
     "name": "stderr",
     "output_type": "stream",
     "text": [
      "\r",
      "30.6%"
     ]
    },
    {
     "name": "stderr",
     "output_type": "stream",
     "text": [
      "\r",
      "30.7%"
     ]
    },
    {
     "name": "stderr",
     "output_type": "stream",
     "text": [
      "\r",
      "30.7%"
     ]
    },
    {
     "name": "stderr",
     "output_type": "stream",
     "text": [
      "\r",
      "30.8%"
     ]
    },
    {
     "name": "stderr",
     "output_type": "stream",
     "text": [
      "\r",
      "30.9%"
     ]
    },
    {
     "name": "stderr",
     "output_type": "stream",
     "text": [
      "\r",
      "31.0%"
     ]
    },
    {
     "name": "stderr",
     "output_type": "stream",
     "text": [
      "\r",
      "31.1%"
     ]
    },
    {
     "name": "stderr",
     "output_type": "stream",
     "text": [
      "\r",
      "31.2%"
     ]
    },
    {
     "name": "stderr",
     "output_type": "stream",
     "text": [
      "\r",
      "31.2%"
     ]
    },
    {
     "name": "stderr",
     "output_type": "stream",
     "text": [
      "\r",
      "31.3%"
     ]
    },
    {
     "name": "stderr",
     "output_type": "stream",
     "text": [
      "\r",
      "31.4%"
     ]
    },
    {
     "name": "stderr",
     "output_type": "stream",
     "text": [
      "\r",
      "31.5%"
     ]
    },
    {
     "name": "stderr",
     "output_type": "stream",
     "text": [
      "\r",
      "31.6%"
     ]
    },
    {
     "name": "stderr",
     "output_type": "stream",
     "text": [
      "\r",
      "31.7%"
     ]
    },
    {
     "name": "stderr",
     "output_type": "stream",
     "text": [
      "\r",
      "31.7%"
     ]
    },
    {
     "name": "stderr",
     "output_type": "stream",
     "text": [
      "\r",
      "31.8%"
     ]
    },
    {
     "name": "stderr",
     "output_type": "stream",
     "text": [
      "\r",
      "31.9%"
     ]
    },
    {
     "name": "stderr",
     "output_type": "stream",
     "text": [
      "\r",
      "32.0%"
     ]
    },
    {
     "name": "stderr",
     "output_type": "stream",
     "text": [
      "\r",
      "32.1%"
     ]
    },
    {
     "name": "stderr",
     "output_type": "stream",
     "text": [
      "\r",
      "32.1%"
     ]
    },
    {
     "name": "stderr",
     "output_type": "stream",
     "text": [
      "\r",
      "32.2%"
     ]
    },
    {
     "name": "stderr",
     "output_type": "stream",
     "text": [
      "\r",
      "32.3%"
     ]
    },
    {
     "name": "stderr",
     "output_type": "stream",
     "text": [
      "\r",
      "32.4%"
     ]
    },
    {
     "name": "stderr",
     "output_type": "stream",
     "text": [
      "\r",
      "32.5%"
     ]
    },
    {
     "name": "stderr",
     "output_type": "stream",
     "text": [
      "\r",
      "32.6%"
     ]
    },
    {
     "name": "stderr",
     "output_type": "stream",
     "text": [
      "\r",
      "32.6%"
     ]
    },
    {
     "name": "stderr",
     "output_type": "stream",
     "text": [
      "\r",
      "32.7%"
     ]
    },
    {
     "name": "stderr",
     "output_type": "stream",
     "text": [
      "\r",
      "32.8%"
     ]
    },
    {
     "name": "stderr",
     "output_type": "stream",
     "text": [
      "\r",
      "32.9%"
     ]
    },
    {
     "name": "stderr",
     "output_type": "stream",
     "text": [
      "\r",
      "33.0%"
     ]
    },
    {
     "name": "stderr",
     "output_type": "stream",
     "text": [
      "\r",
      "33.1%"
     ]
    },
    {
     "name": "stderr",
     "output_type": "stream",
     "text": [
      "\r",
      "33.1%"
     ]
    },
    {
     "name": "stderr",
     "output_type": "stream",
     "text": [
      "\r",
      "33.2%"
     ]
    },
    {
     "name": "stderr",
     "output_type": "stream",
     "text": [
      "\r",
      "33.3%"
     ]
    },
    {
     "name": "stderr",
     "output_type": "stream",
     "text": [
      "\r",
      "33.4%"
     ]
    },
    {
     "name": "stderr",
     "output_type": "stream",
     "text": [
      "\r",
      "33.5%"
     ]
    },
    {
     "name": "stderr",
     "output_type": "stream",
     "text": [
      "\r",
      "33.6%"
     ]
    },
    {
     "name": "stderr",
     "output_type": "stream",
     "text": [
      "\r",
      "33.6%"
     ]
    },
    {
     "name": "stderr",
     "output_type": "stream",
     "text": [
      "\r",
      "33.7%"
     ]
    },
    {
     "name": "stderr",
     "output_type": "stream",
     "text": [
      "\r",
      "33.8%"
     ]
    },
    {
     "name": "stderr",
     "output_type": "stream",
     "text": [
      "\r",
      "33.9%"
     ]
    },
    {
     "name": "stderr",
     "output_type": "stream",
     "text": [
      "\r",
      "34.0%"
     ]
    },
    {
     "name": "stderr",
     "output_type": "stream",
     "text": [
      "\r",
      "34.0%"
     ]
    },
    {
     "name": "stderr",
     "output_type": "stream",
     "text": [
      "\r",
      "34.1%"
     ]
    },
    {
     "name": "stderr",
     "output_type": "stream",
     "text": [
      "\r",
      "34.2%"
     ]
    },
    {
     "name": "stderr",
     "output_type": "stream",
     "text": [
      "\r",
      "34.3%"
     ]
    },
    {
     "name": "stderr",
     "output_type": "stream",
     "text": [
      "\r",
      "34.4%"
     ]
    },
    {
     "name": "stderr",
     "output_type": "stream",
     "text": [
      "\r",
      "34.5%"
     ]
    },
    {
     "name": "stderr",
     "output_type": "stream",
     "text": [
      "\r",
      "34.5%"
     ]
    },
    {
     "name": "stderr",
     "output_type": "stream",
     "text": [
      "\r",
      "34.6%"
     ]
    },
    {
     "name": "stderr",
     "output_type": "stream",
     "text": [
      "\r",
      "34.7%"
     ]
    },
    {
     "name": "stderr",
     "output_type": "stream",
     "text": [
      "\r",
      "34.8%"
     ]
    },
    {
     "name": "stderr",
     "output_type": "stream",
     "text": [
      "\r",
      "34.9%"
     ]
    },
    {
     "name": "stderr",
     "output_type": "stream",
     "text": [
      "\r",
      "35.0%"
     ]
    },
    {
     "name": "stderr",
     "output_type": "stream",
     "text": [
      "\r",
      "35.0%"
     ]
    },
    {
     "name": "stderr",
     "output_type": "stream",
     "text": [
      "\r",
      "35.1%"
     ]
    },
    {
     "name": "stderr",
     "output_type": "stream",
     "text": [
      "\r",
      "35.2%"
     ]
    },
    {
     "name": "stderr",
     "output_type": "stream",
     "text": [
      "\r",
      "35.3%"
     ]
    },
    {
     "name": "stderr",
     "output_type": "stream",
     "text": [
      "\r",
      "35.4%"
     ]
    },
    {
     "name": "stderr",
     "output_type": "stream",
     "text": [
      "\r",
      "35.5%"
     ]
    },
    {
     "name": "stderr",
     "output_type": "stream",
     "text": [
      "\r",
      "35.5%"
     ]
    },
    {
     "name": "stderr",
     "output_type": "stream",
     "text": [
      "\r",
      "35.6%"
     ]
    },
    {
     "name": "stderr",
     "output_type": "stream",
     "text": [
      "\r",
      "35.7%"
     ]
    },
    {
     "name": "stderr",
     "output_type": "stream",
     "text": [
      "\r",
      "35.8%"
     ]
    },
    {
     "name": "stderr",
     "output_type": "stream",
     "text": [
      "\r",
      "35.9%"
     ]
    },
    {
     "name": "stderr",
     "output_type": "stream",
     "text": [
      "\r",
      "36.0%"
     ]
    },
    {
     "name": "stderr",
     "output_type": "stream",
     "text": [
      "\r",
      "36.0%"
     ]
    },
    {
     "name": "stderr",
     "output_type": "stream",
     "text": [
      "\r",
      "36.1%"
     ]
    },
    {
     "name": "stderr",
     "output_type": "stream",
     "text": [
      "\r",
      "36.2%"
     ]
    },
    {
     "name": "stderr",
     "output_type": "stream",
     "text": [
      "\r",
      "36.3%"
     ]
    },
    {
     "name": "stderr",
     "output_type": "stream",
     "text": [
      "\r",
      "36.4%"
     ]
    },
    {
     "name": "stderr",
     "output_type": "stream",
     "text": [
      "\r",
      "36.4%"
     ]
    },
    {
     "name": "stderr",
     "output_type": "stream",
     "text": [
      "\r",
      "36.5%"
     ]
    },
    {
     "name": "stderr",
     "output_type": "stream",
     "text": [
      "\r",
      "36.6%"
     ]
    },
    {
     "name": "stderr",
     "output_type": "stream",
     "text": [
      "\r",
      "36.7%"
     ]
    },
    {
     "name": "stderr",
     "output_type": "stream",
     "text": [
      "\r",
      "36.8%"
     ]
    },
    {
     "name": "stderr",
     "output_type": "stream",
     "text": [
      "\r",
      "36.9%"
     ]
    },
    {
     "name": "stderr",
     "output_type": "stream",
     "text": [
      "\r",
      "36.9%"
     ]
    },
    {
     "name": "stderr",
     "output_type": "stream",
     "text": [
      "\r",
      "37.0%"
     ]
    },
    {
     "name": "stderr",
     "output_type": "stream",
     "text": [
      "\r",
      "37.1%"
     ]
    },
    {
     "name": "stderr",
     "output_type": "stream",
     "text": [
      "\r",
      "37.2%"
     ]
    },
    {
     "name": "stderr",
     "output_type": "stream",
     "text": [
      "\r",
      "37.3%"
     ]
    },
    {
     "name": "stderr",
     "output_type": "stream",
     "text": [
      "\r",
      "37.4%"
     ]
    },
    {
     "name": "stderr",
     "output_type": "stream",
     "text": [
      "\r",
      "37.4%"
     ]
    },
    {
     "name": "stderr",
     "output_type": "stream",
     "text": [
      "\r",
      "37.5%"
     ]
    },
    {
     "name": "stderr",
     "output_type": "stream",
     "text": [
      "\r",
      "37.6%"
     ]
    },
    {
     "name": "stderr",
     "output_type": "stream",
     "text": [
      "\r",
      "37.7%"
     ]
    },
    {
     "name": "stderr",
     "output_type": "stream",
     "text": [
      "\r",
      "37.8%"
     ]
    },
    {
     "name": "stderr",
     "output_type": "stream",
     "text": [
      "\r",
      "37.9%"
     ]
    },
    {
     "name": "stderr",
     "output_type": "stream",
     "text": [
      "\r",
      "37.9%"
     ]
    },
    {
     "name": "stderr",
     "output_type": "stream",
     "text": [
      "\r",
      "38.0%"
     ]
    },
    {
     "name": "stderr",
     "output_type": "stream",
     "text": [
      "\r",
      "38.1%"
     ]
    },
    {
     "name": "stderr",
     "output_type": "stream",
     "text": [
      "\r",
      "38.2%"
     ]
    },
    {
     "name": "stderr",
     "output_type": "stream",
     "text": [
      "\r",
      "38.3%"
     ]
    },
    {
     "name": "stderr",
     "output_type": "stream",
     "text": [
      "\r",
      "38.3%"
     ]
    },
    {
     "name": "stderr",
     "output_type": "stream",
     "text": [
      "\r",
      "38.4%"
     ]
    },
    {
     "name": "stderr",
     "output_type": "stream",
     "text": [
      "\r",
      "38.5%"
     ]
    },
    {
     "name": "stderr",
     "output_type": "stream",
     "text": [
      "\r",
      "38.6%"
     ]
    },
    {
     "name": "stderr",
     "output_type": "stream",
     "text": [
      "\r",
      "38.7%"
     ]
    },
    {
     "name": "stderr",
     "output_type": "stream",
     "text": [
      "\r",
      "38.8%"
     ]
    },
    {
     "name": "stderr",
     "output_type": "stream",
     "text": [
      "\r",
      "38.8%"
     ]
    },
    {
     "name": "stderr",
     "output_type": "stream",
     "text": [
      "\r",
      "38.9%"
     ]
    },
    {
     "name": "stderr",
     "output_type": "stream",
     "text": [
      "\r",
      "39.0%"
     ]
    },
    {
     "name": "stderr",
     "output_type": "stream",
     "text": [
      "\r",
      "39.1%"
     ]
    },
    {
     "name": "stderr",
     "output_type": "stream",
     "text": [
      "\r",
      "39.2%"
     ]
    },
    {
     "name": "stderr",
     "output_type": "stream",
     "text": [
      "\r",
      "39.3%"
     ]
    },
    {
     "name": "stderr",
     "output_type": "stream",
     "text": [
      "\r",
      "39.3%"
     ]
    },
    {
     "name": "stderr",
     "output_type": "stream",
     "text": [
      "\r",
      "39.4%"
     ]
    },
    {
     "name": "stderr",
     "output_type": "stream",
     "text": [
      "\r",
      "39.5%"
     ]
    },
    {
     "name": "stderr",
     "output_type": "stream",
     "text": [
      "\r",
      "39.6%"
     ]
    },
    {
     "name": "stderr",
     "output_type": "stream",
     "text": [
      "\r",
      "39.7%"
     ]
    },
    {
     "name": "stderr",
     "output_type": "stream",
     "text": [
      "\r",
      "39.8%"
     ]
    },
    {
     "name": "stderr",
     "output_type": "stream",
     "text": [
      "\r",
      "39.8%"
     ]
    },
    {
     "name": "stderr",
     "output_type": "stream",
     "text": [
      "\r",
      "39.9%"
     ]
    },
    {
     "name": "stderr",
     "output_type": "stream",
     "text": [
      "\r",
      "40.0%"
     ]
    },
    {
     "name": "stderr",
     "output_type": "stream",
     "text": [
      "\r",
      "40.1%"
     ]
    },
    {
     "name": "stderr",
     "output_type": "stream",
     "text": [
      "\r",
      "40.2%"
     ]
    },
    {
     "name": "stderr",
     "output_type": "stream",
     "text": [
      "\r",
      "40.2%"
     ]
    },
    {
     "name": "stderr",
     "output_type": "stream",
     "text": [
      "\r",
      "40.3%"
     ]
    },
    {
     "name": "stderr",
     "output_type": "stream",
     "text": [
      "\r",
      "40.4%"
     ]
    },
    {
     "name": "stderr",
     "output_type": "stream",
     "text": [
      "\r",
      "40.5%"
     ]
    },
    {
     "name": "stderr",
     "output_type": "stream",
     "text": [
      "\r",
      "40.6%"
     ]
    },
    {
     "name": "stderr",
     "output_type": "stream",
     "text": [
      "\r",
      "40.7%"
     ]
    },
    {
     "name": "stderr",
     "output_type": "stream",
     "text": [
      "\r",
      "40.7%"
     ]
    },
    {
     "name": "stderr",
     "output_type": "stream",
     "text": [
      "\r",
      "40.8%"
     ]
    },
    {
     "name": "stderr",
     "output_type": "stream",
     "text": [
      "\r",
      "40.9%"
     ]
    },
    {
     "name": "stderr",
     "output_type": "stream",
     "text": [
      "\r",
      "41.0%"
     ]
    },
    {
     "name": "stderr",
     "output_type": "stream",
     "text": [
      "\r",
      "41.1%"
     ]
    },
    {
     "name": "stderr",
     "output_type": "stream",
     "text": [
      "\r",
      "41.2%"
     ]
    },
    {
     "name": "stderr",
     "output_type": "stream",
     "text": [
      "\r",
      "41.2%"
     ]
    },
    {
     "name": "stderr",
     "output_type": "stream",
     "text": [
      "\r",
      "41.3%"
     ]
    },
    {
     "name": "stderr",
     "output_type": "stream",
     "text": [
      "\r",
      "41.4%"
     ]
    },
    {
     "name": "stderr",
     "output_type": "stream",
     "text": [
      "\r",
      "41.5%"
     ]
    },
    {
     "name": "stderr",
     "output_type": "stream",
     "text": [
      "\r",
      "41.6%"
     ]
    },
    {
     "name": "stderr",
     "output_type": "stream",
     "text": [
      "\r",
      "41.7%"
     ]
    },
    {
     "name": "stderr",
     "output_type": "stream",
     "text": [
      "\r",
      "41.7%"
     ]
    },
    {
     "name": "stderr",
     "output_type": "stream",
     "text": [
      "\r",
      "41.8%"
     ]
    },
    {
     "name": "stderr",
     "output_type": "stream",
     "text": [
      "\r",
      "41.9%"
     ]
    },
    {
     "name": "stderr",
     "output_type": "stream",
     "text": [
      "\r",
      "42.0%"
     ]
    },
    {
     "name": "stderr",
     "output_type": "stream",
     "text": [
      "\r",
      "42.1%"
     ]
    },
    {
     "name": "stderr",
     "output_type": "stream",
     "text": [
      "\r",
      "42.1%"
     ]
    },
    {
     "name": "stderr",
     "output_type": "stream",
     "text": [
      "\r",
      "42.2%"
     ]
    },
    {
     "name": "stderr",
     "output_type": "stream",
     "text": [
      "\r",
      "42.3%"
     ]
    },
    {
     "name": "stderr",
     "output_type": "stream",
     "text": [
      "\r",
      "42.4%"
     ]
    },
    {
     "name": "stderr",
     "output_type": "stream",
     "text": [
      "\r",
      "42.5%"
     ]
    },
    {
     "name": "stderr",
     "output_type": "stream",
     "text": [
      "\r",
      "42.6%"
     ]
    },
    {
     "name": "stderr",
     "output_type": "stream",
     "text": [
      "\r",
      "42.6%"
     ]
    },
    {
     "name": "stderr",
     "output_type": "stream",
     "text": [
      "\r",
      "42.7%"
     ]
    },
    {
     "name": "stderr",
     "output_type": "stream",
     "text": [
      "\r",
      "42.8%"
     ]
    },
    {
     "name": "stderr",
     "output_type": "stream",
     "text": [
      "\r",
      "42.9%"
     ]
    },
    {
     "name": "stderr",
     "output_type": "stream",
     "text": [
      "\r",
      "43.0%"
     ]
    },
    {
     "name": "stderr",
     "output_type": "stream",
     "text": [
      "\r",
      "43.1%"
     ]
    },
    {
     "name": "stderr",
     "output_type": "stream",
     "text": [
      "\r",
      "43.1%"
     ]
    },
    {
     "name": "stderr",
     "output_type": "stream",
     "text": [
      "\r",
      "43.2%"
     ]
    },
    {
     "name": "stderr",
     "output_type": "stream",
     "text": [
      "\r",
      "43.3%"
     ]
    },
    {
     "name": "stderr",
     "output_type": "stream",
     "text": [
      "\r",
      "43.4%"
     ]
    },
    {
     "name": "stderr",
     "output_type": "stream",
     "text": [
      "\r",
      "43.5%"
     ]
    },
    {
     "name": "stderr",
     "output_type": "stream",
     "text": [
      "\r",
      "43.6%"
     ]
    },
    {
     "name": "stderr",
     "output_type": "stream",
     "text": [
      "\r",
      "43.6%"
     ]
    },
    {
     "name": "stderr",
     "output_type": "stream",
     "text": [
      "\r",
      "43.7%"
     ]
    },
    {
     "name": "stderr",
     "output_type": "stream",
     "text": [
      "\r",
      "43.8%"
     ]
    },
    {
     "name": "stderr",
     "output_type": "stream",
     "text": [
      "\r",
      "43.9%"
     ]
    },
    {
     "name": "stderr",
     "output_type": "stream",
     "text": [
      "\r",
      "44.0%"
     ]
    },
    {
     "name": "stderr",
     "output_type": "stream",
     "text": [
      "\r",
      "44.0%"
     ]
    },
    {
     "name": "stderr",
     "output_type": "stream",
     "text": [
      "\r",
      "44.1%"
     ]
    },
    {
     "name": "stderr",
     "output_type": "stream",
     "text": [
      "\r",
      "44.2%"
     ]
    },
    {
     "name": "stderr",
     "output_type": "stream",
     "text": [
      "\r",
      "44.3%"
     ]
    },
    {
     "name": "stderr",
     "output_type": "stream",
     "text": [
      "\r",
      "44.4%"
     ]
    },
    {
     "name": "stderr",
     "output_type": "stream",
     "text": [
      "\r",
      "44.5%"
     ]
    },
    {
     "name": "stderr",
     "output_type": "stream",
     "text": [
      "\r",
      "44.5%"
     ]
    },
    {
     "name": "stderr",
     "output_type": "stream",
     "text": [
      "\r",
      "44.6%"
     ]
    },
    {
     "name": "stderr",
     "output_type": "stream",
     "text": [
      "\r",
      "44.7%"
     ]
    },
    {
     "name": "stderr",
     "output_type": "stream",
     "text": [
      "\r",
      "44.8%"
     ]
    },
    {
     "name": "stderr",
     "output_type": "stream",
     "text": [
      "\r",
      "44.9%"
     ]
    },
    {
     "name": "stderr",
     "output_type": "stream",
     "text": [
      "\r",
      "45.0%"
     ]
    },
    {
     "name": "stderr",
     "output_type": "stream",
     "text": [
      "\r",
      "45.0%"
     ]
    },
    {
     "name": "stderr",
     "output_type": "stream",
     "text": [
      "\r",
      "45.1%"
     ]
    },
    {
     "name": "stderr",
     "output_type": "stream",
     "text": [
      "\r",
      "45.2%"
     ]
    },
    {
     "name": "stderr",
     "output_type": "stream",
     "text": [
      "\r",
      "45.3%"
     ]
    },
    {
     "name": "stderr",
     "output_type": "stream",
     "text": [
      "\r",
      "45.4%"
     ]
    },
    {
     "name": "stderr",
     "output_type": "stream",
     "text": [
      "\r",
      "45.5%"
     ]
    },
    {
     "name": "stderr",
     "output_type": "stream",
     "text": [
      "\r",
      "45.5%"
     ]
    },
    {
     "name": "stderr",
     "output_type": "stream",
     "text": [
      "\r",
      "45.6%"
     ]
    },
    {
     "name": "stderr",
     "output_type": "stream",
     "text": [
      "\r",
      "45.7%"
     ]
    },
    {
     "name": "stderr",
     "output_type": "stream",
     "text": [
      "\r",
      "45.8%"
     ]
    },
    {
     "name": "stderr",
     "output_type": "stream",
     "text": [
      "\r",
      "45.9%"
     ]
    },
    {
     "name": "stderr",
     "output_type": "stream",
     "text": [
      "\r",
      "45.9%"
     ]
    },
    {
     "name": "stderr",
     "output_type": "stream",
     "text": [
      "\r",
      "46.0%"
     ]
    },
    {
     "name": "stderr",
     "output_type": "stream",
     "text": [
      "\r",
      "46.1%"
     ]
    },
    {
     "name": "stderr",
     "output_type": "stream",
     "text": [
      "\r",
      "46.2%"
     ]
    },
    {
     "name": "stderr",
     "output_type": "stream",
     "text": [
      "\r",
      "46.3%"
     ]
    },
    {
     "name": "stderr",
     "output_type": "stream",
     "text": [
      "\r",
      "46.4%"
     ]
    },
    {
     "name": "stderr",
     "output_type": "stream",
     "text": [
      "\r",
      "46.4%"
     ]
    },
    {
     "name": "stderr",
     "output_type": "stream",
     "text": [
      "\r",
      "46.5%"
     ]
    },
    {
     "name": "stderr",
     "output_type": "stream",
     "text": [
      "\r",
      "46.6%"
     ]
    },
    {
     "name": "stderr",
     "output_type": "stream",
     "text": [
      "\r",
      "46.7%"
     ]
    },
    {
     "name": "stderr",
     "output_type": "stream",
     "text": [
      "\r",
      "46.8%"
     ]
    },
    {
     "name": "stderr",
     "output_type": "stream",
     "text": [
      "\r",
      "46.9%"
     ]
    },
    {
     "name": "stderr",
     "output_type": "stream",
     "text": [
      "\r",
      "46.9%"
     ]
    },
    {
     "name": "stderr",
     "output_type": "stream",
     "text": [
      "\r",
      "47.0%"
     ]
    },
    {
     "name": "stderr",
     "output_type": "stream",
     "text": [
      "\r",
      "47.1%"
     ]
    },
    {
     "name": "stderr",
     "output_type": "stream",
     "text": [
      "\r",
      "47.2%"
     ]
    },
    {
     "name": "stderr",
     "output_type": "stream",
     "text": [
      "\r",
      "47.3%"
     ]
    },
    {
     "name": "stderr",
     "output_type": "stream",
     "text": [
      "\r",
      "47.4%"
     ]
    },
    {
     "name": "stderr",
     "output_type": "stream",
     "text": [
      "\r",
      "47.4%"
     ]
    },
    {
     "name": "stderr",
     "output_type": "stream",
     "text": [
      "\r",
      "47.5%"
     ]
    },
    {
     "name": "stderr",
     "output_type": "stream",
     "text": [
      "\r",
      "47.6%"
     ]
    },
    {
     "name": "stderr",
     "output_type": "stream",
     "text": [
      "\r",
      "47.7%"
     ]
    },
    {
     "name": "stderr",
     "output_type": "stream",
     "text": [
      "\r",
      "47.8%"
     ]
    },
    {
     "name": "stderr",
     "output_type": "stream",
     "text": [
      "\r",
      "47.9%"
     ]
    },
    {
     "name": "stderr",
     "output_type": "stream",
     "text": [
      "\r",
      "47.9%"
     ]
    },
    {
     "name": "stderr",
     "output_type": "stream",
     "text": [
      "\r",
      "48.0%"
     ]
    },
    {
     "name": "stderr",
     "output_type": "stream",
     "text": [
      "\r",
      "48.1%"
     ]
    },
    {
     "name": "stderr",
     "output_type": "stream",
     "text": [
      "\r",
      "48.2%"
     ]
    },
    {
     "name": "stderr",
     "output_type": "stream",
     "text": [
      "\r",
      "48.3%"
     ]
    },
    {
     "name": "stderr",
     "output_type": "stream",
     "text": [
      "\r",
      "48.3%"
     ]
    },
    {
     "name": "stderr",
     "output_type": "stream",
     "text": [
      "\r",
      "48.4%"
     ]
    },
    {
     "name": "stderr",
     "output_type": "stream",
     "text": [
      "\r",
      "48.5%"
     ]
    },
    {
     "name": "stderr",
     "output_type": "stream",
     "text": [
      "\r",
      "48.6%"
     ]
    },
    {
     "name": "stderr",
     "output_type": "stream",
     "text": [
      "\r",
      "48.7%"
     ]
    },
    {
     "name": "stderr",
     "output_type": "stream",
     "text": [
      "\r",
      "48.8%"
     ]
    },
    {
     "name": "stderr",
     "output_type": "stream",
     "text": [
      "\r",
      "48.8%"
     ]
    },
    {
     "name": "stderr",
     "output_type": "stream",
     "text": [
      "\r",
      "48.9%"
     ]
    },
    {
     "name": "stderr",
     "output_type": "stream",
     "text": [
      "\r",
      "49.0%"
     ]
    },
    {
     "name": "stderr",
     "output_type": "stream",
     "text": [
      "\r",
      "49.1%"
     ]
    },
    {
     "name": "stderr",
     "output_type": "stream",
     "text": [
      "\r",
      "49.2%"
     ]
    },
    {
     "name": "stderr",
     "output_type": "stream",
     "text": [
      "\r",
      "49.3%"
     ]
    },
    {
     "name": "stderr",
     "output_type": "stream",
     "text": [
      "\r",
      "49.3%"
     ]
    },
    {
     "name": "stderr",
     "output_type": "stream",
     "text": [
      "\r",
      "49.4%"
     ]
    },
    {
     "name": "stderr",
     "output_type": "stream",
     "text": [
      "\r",
      "49.5%"
     ]
    },
    {
     "name": "stderr",
     "output_type": "stream",
     "text": [
      "\r",
      "49.6%"
     ]
    },
    {
     "name": "stderr",
     "output_type": "stream",
     "text": [
      "\r",
      "49.7%"
     ]
    },
    {
     "name": "stderr",
     "output_type": "stream",
     "text": [
      "\r",
      "49.8%"
     ]
    },
    {
     "name": "stderr",
     "output_type": "stream",
     "text": [
      "\r",
      "49.8%"
     ]
    },
    {
     "name": "stderr",
     "output_type": "stream",
     "text": [
      "\r",
      "49.9%"
     ]
    },
    {
     "name": "stderr",
     "output_type": "stream",
     "text": [
      "\r",
      "50.0%"
     ]
    },
    {
     "name": "stderr",
     "output_type": "stream",
     "text": [
      "\r",
      "50.1%"
     ]
    },
    {
     "name": "stderr",
     "output_type": "stream",
     "text": [
      "\r",
      "50.2%"
     ]
    },
    {
     "name": "stderr",
     "output_type": "stream",
     "text": [
      "\r",
      "50.2%"
     ]
    },
    {
     "name": "stderr",
     "output_type": "stream",
     "text": [
      "\r",
      "50.3%"
     ]
    },
    {
     "name": "stderr",
     "output_type": "stream",
     "text": [
      "\r",
      "50.4%"
     ]
    },
    {
     "name": "stderr",
     "output_type": "stream",
     "text": [
      "\r",
      "50.5%"
     ]
    },
    {
     "name": "stderr",
     "output_type": "stream",
     "text": [
      "\r",
      "50.6%"
     ]
    },
    {
     "name": "stderr",
     "output_type": "stream",
     "text": [
      "\r",
      "50.7%"
     ]
    },
    {
     "name": "stderr",
     "output_type": "stream",
     "text": [
      "\r",
      "50.7%"
     ]
    },
    {
     "name": "stderr",
     "output_type": "stream",
     "text": [
      "\r",
      "50.8%"
     ]
    },
    {
     "name": "stderr",
     "output_type": "stream",
     "text": [
      "\r",
      "50.9%"
     ]
    },
    {
     "name": "stderr",
     "output_type": "stream",
     "text": [
      "\r",
      "51.0%"
     ]
    },
    {
     "name": "stderr",
     "output_type": "stream",
     "text": [
      "\r",
      "51.1%"
     ]
    },
    {
     "name": "stderr",
     "output_type": "stream",
     "text": [
      "\r",
      "51.2%"
     ]
    },
    {
     "name": "stderr",
     "output_type": "stream",
     "text": [
      "\r",
      "51.2%"
     ]
    },
    {
     "name": "stderr",
     "output_type": "stream",
     "text": [
      "\r",
      "51.3%"
     ]
    },
    {
     "name": "stderr",
     "output_type": "stream",
     "text": [
      "\r",
      "51.4%"
     ]
    },
    {
     "name": "stderr",
     "output_type": "stream",
     "text": [
      "\r",
      "51.5%"
     ]
    },
    {
     "name": "stderr",
     "output_type": "stream",
     "text": [
      "\r",
      "51.6%"
     ]
    },
    {
     "name": "stderr",
     "output_type": "stream",
     "text": [
      "\r",
      "51.7%"
     ]
    },
    {
     "name": "stderr",
     "output_type": "stream",
     "text": [
      "\r",
      "51.7%"
     ]
    },
    {
     "name": "stderr",
     "output_type": "stream",
     "text": [
      "\r",
      "51.8%"
     ]
    },
    {
     "name": "stderr",
     "output_type": "stream",
     "text": [
      "\r",
      "51.9%"
     ]
    },
    {
     "name": "stderr",
     "output_type": "stream",
     "text": [
      "\r",
      "52.0%"
     ]
    },
    {
     "name": "stderr",
     "output_type": "stream",
     "text": [
      "\r",
      "52.1%"
     ]
    },
    {
     "name": "stderr",
     "output_type": "stream",
     "text": [
      "\r",
      "52.1%"
     ]
    },
    {
     "name": "stderr",
     "output_type": "stream",
     "text": [
      "\r",
      "52.2%"
     ]
    },
    {
     "name": "stderr",
     "output_type": "stream",
     "text": [
      "\r",
      "52.3%"
     ]
    },
    {
     "name": "stderr",
     "output_type": "stream",
     "text": [
      "\r",
      "52.4%"
     ]
    },
    {
     "name": "stderr",
     "output_type": "stream",
     "text": [
      "\r",
      "52.5%"
     ]
    },
    {
     "name": "stderr",
     "output_type": "stream",
     "text": [
      "\r",
      "52.6%"
     ]
    },
    {
     "name": "stderr",
     "output_type": "stream",
     "text": [
      "\r",
      "52.6%"
     ]
    },
    {
     "name": "stderr",
     "output_type": "stream",
     "text": [
      "\r",
      "52.7%"
     ]
    },
    {
     "name": "stderr",
     "output_type": "stream",
     "text": [
      "\r",
      "52.8%"
     ]
    },
    {
     "name": "stderr",
     "output_type": "stream",
     "text": [
      "\r",
      "52.9%"
     ]
    },
    {
     "name": "stderr",
     "output_type": "stream",
     "text": [
      "\r",
      "53.0%"
     ]
    },
    {
     "name": "stderr",
     "output_type": "stream",
     "text": [
      "\r",
      "53.1%"
     ]
    },
    {
     "name": "stderr",
     "output_type": "stream",
     "text": [
      "\r",
      "53.1%"
     ]
    },
    {
     "name": "stderr",
     "output_type": "stream",
     "text": [
      "\r",
      "53.2%"
     ]
    },
    {
     "name": "stderr",
     "output_type": "stream",
     "text": [
      "\r",
      "53.3%"
     ]
    },
    {
     "name": "stderr",
     "output_type": "stream",
     "text": [
      "\r",
      "53.4%"
     ]
    },
    {
     "name": "stderr",
     "output_type": "stream",
     "text": [
      "\r",
      "53.5%"
     ]
    },
    {
     "name": "stderr",
     "output_type": "stream",
     "text": [
      "\r",
      "53.6%"
     ]
    },
    {
     "name": "stderr",
     "output_type": "stream",
     "text": [
      "\r",
      "53.6%"
     ]
    },
    {
     "name": "stderr",
     "output_type": "stream",
     "text": [
      "\r",
      "53.7%"
     ]
    },
    {
     "name": "stderr",
     "output_type": "stream",
     "text": [
      "\r",
      "53.8%"
     ]
    },
    {
     "name": "stderr",
     "output_type": "stream",
     "text": [
      "\r",
      "53.9%"
     ]
    },
    {
     "name": "stderr",
     "output_type": "stream",
     "text": [
      "\r",
      "54.0%"
     ]
    },
    {
     "name": "stderr",
     "output_type": "stream",
     "text": [
      "\r",
      "54.0%"
     ]
    },
    {
     "name": "stderr",
     "output_type": "stream",
     "text": [
      "\r",
      "54.1%"
     ]
    },
    {
     "name": "stderr",
     "output_type": "stream",
     "text": [
      "\r",
      "54.2%"
     ]
    },
    {
     "name": "stderr",
     "output_type": "stream",
     "text": [
      "\r",
      "54.3%"
     ]
    },
    {
     "name": "stderr",
     "output_type": "stream",
     "text": [
      "\r",
      "54.4%"
     ]
    },
    {
     "name": "stderr",
     "output_type": "stream",
     "text": [
      "\r",
      "54.5%"
     ]
    },
    {
     "name": "stderr",
     "output_type": "stream",
     "text": [
      "\r",
      "54.5%"
     ]
    },
    {
     "name": "stderr",
     "output_type": "stream",
     "text": [
      "\r",
      "54.6%"
     ]
    },
    {
     "name": "stderr",
     "output_type": "stream",
     "text": [
      "\r",
      "54.7%"
     ]
    },
    {
     "name": "stderr",
     "output_type": "stream",
     "text": [
      "\r",
      "54.8%"
     ]
    },
    {
     "name": "stderr",
     "output_type": "stream",
     "text": [
      "\r",
      "54.9%"
     ]
    },
    {
     "name": "stderr",
     "output_type": "stream",
     "text": [
      "\r",
      "55.0%"
     ]
    },
    {
     "name": "stderr",
     "output_type": "stream",
     "text": [
      "\r",
      "55.0%"
     ]
    },
    {
     "name": "stderr",
     "output_type": "stream",
     "text": [
      "\r",
      "55.1%"
     ]
    },
    {
     "name": "stderr",
     "output_type": "stream",
     "text": [
      "\r",
      "55.2%"
     ]
    },
    {
     "name": "stderr",
     "output_type": "stream",
     "text": [
      "\r",
      "55.3%"
     ]
    },
    {
     "name": "stderr",
     "output_type": "stream",
     "text": [
      "\r",
      "55.4%"
     ]
    },
    {
     "name": "stderr",
     "output_type": "stream",
     "text": [
      "\r",
      "55.5%"
     ]
    },
    {
     "name": "stderr",
     "output_type": "stream",
     "text": [
      "\r",
      "55.5%"
     ]
    },
    {
     "name": "stderr",
     "output_type": "stream",
     "text": [
      "\r",
      "55.6%"
     ]
    },
    {
     "name": "stderr",
     "output_type": "stream",
     "text": [
      "\r",
      "55.7%"
     ]
    },
    {
     "name": "stderr",
     "output_type": "stream",
     "text": [
      "\r",
      "55.8%"
     ]
    },
    {
     "name": "stderr",
     "output_type": "stream",
     "text": [
      "\r",
      "55.9%"
     ]
    },
    {
     "name": "stderr",
     "output_type": "stream",
     "text": [
      "\r",
      "55.9%"
     ]
    },
    {
     "name": "stderr",
     "output_type": "stream",
     "text": [
      "\r",
      "56.0%"
     ]
    },
    {
     "name": "stderr",
     "output_type": "stream",
     "text": [
      "\r",
      "56.1%"
     ]
    },
    {
     "name": "stderr",
     "output_type": "stream",
     "text": [
      "\r",
      "56.2%"
     ]
    },
    {
     "name": "stderr",
     "output_type": "stream",
     "text": [
      "\r",
      "56.3%"
     ]
    },
    {
     "name": "stderr",
     "output_type": "stream",
     "text": [
      "\r",
      "56.4%"
     ]
    },
    {
     "name": "stderr",
     "output_type": "stream",
     "text": [
      "\r",
      "56.4%"
     ]
    },
    {
     "name": "stderr",
     "output_type": "stream",
     "text": [
      "\r",
      "56.5%"
     ]
    },
    {
     "name": "stderr",
     "output_type": "stream",
     "text": [
      "\r",
      "56.6%"
     ]
    },
    {
     "name": "stderr",
     "output_type": "stream",
     "text": [
      "\r",
      "56.7%"
     ]
    },
    {
     "name": "stderr",
     "output_type": "stream",
     "text": [
      "\r",
      "56.8%"
     ]
    },
    {
     "name": "stderr",
     "output_type": "stream",
     "text": [
      "\r",
      "56.9%"
     ]
    },
    {
     "name": "stderr",
     "output_type": "stream",
     "text": [
      "\r",
      "56.9%"
     ]
    },
    {
     "name": "stderr",
     "output_type": "stream",
     "text": [
      "\r",
      "57.0%"
     ]
    },
    {
     "name": "stderr",
     "output_type": "stream",
     "text": [
      "\r",
      "57.1%"
     ]
    },
    {
     "name": "stderr",
     "output_type": "stream",
     "text": [
      "\r",
      "57.2%"
     ]
    },
    {
     "name": "stderr",
     "output_type": "stream",
     "text": [
      "\r",
      "57.3%"
     ]
    },
    {
     "name": "stderr",
     "output_type": "stream",
     "text": [
      "\r",
      "57.4%"
     ]
    },
    {
     "name": "stderr",
     "output_type": "stream",
     "text": [
      "\r",
      "57.4%"
     ]
    },
    {
     "name": "stderr",
     "output_type": "stream",
     "text": [
      "\r",
      "57.5%"
     ]
    },
    {
     "name": "stderr",
     "output_type": "stream",
     "text": [
      "\r",
      "57.6%"
     ]
    },
    {
     "name": "stderr",
     "output_type": "stream",
     "text": [
      "\r",
      "57.7%"
     ]
    },
    {
     "name": "stderr",
     "output_type": "stream",
     "text": [
      "\r",
      "57.8%"
     ]
    },
    {
     "name": "stderr",
     "output_type": "stream",
     "text": [
      "\r",
      "57.9%"
     ]
    },
    {
     "name": "stderr",
     "output_type": "stream",
     "text": [
      "\r",
      "57.9%"
     ]
    },
    {
     "name": "stderr",
     "output_type": "stream",
     "text": [
      "\r",
      "58.0%"
     ]
    },
    {
     "name": "stderr",
     "output_type": "stream",
     "text": [
      "\r",
      "58.1%"
     ]
    },
    {
     "name": "stderr",
     "output_type": "stream",
     "text": [
      "\r",
      "58.2%"
     ]
    },
    {
     "name": "stderr",
     "output_type": "stream",
     "text": [
      "\r",
      "58.3%"
     ]
    },
    {
     "name": "stderr",
     "output_type": "stream",
     "text": [
      "\r",
      "58.3%"
     ]
    },
    {
     "name": "stderr",
     "output_type": "stream",
     "text": [
      "\r",
      "58.4%"
     ]
    },
    {
     "name": "stderr",
     "output_type": "stream",
     "text": [
      "\r",
      "58.5%"
     ]
    },
    {
     "name": "stderr",
     "output_type": "stream",
     "text": [
      "\r",
      "58.6%"
     ]
    },
    {
     "name": "stderr",
     "output_type": "stream",
     "text": [
      "\r",
      "58.7%"
     ]
    },
    {
     "name": "stderr",
     "output_type": "stream",
     "text": [
      "\r",
      "58.8%"
     ]
    },
    {
     "name": "stderr",
     "output_type": "stream",
     "text": [
      "\r",
      "58.8%"
     ]
    },
    {
     "name": "stderr",
     "output_type": "stream",
     "text": [
      "\r",
      "58.9%"
     ]
    },
    {
     "name": "stderr",
     "output_type": "stream",
     "text": [
      "\r",
      "59.0%"
     ]
    },
    {
     "name": "stderr",
     "output_type": "stream",
     "text": [
      "\r",
      "59.1%"
     ]
    },
    {
     "name": "stderr",
     "output_type": "stream",
     "text": [
      "\r",
      "59.2%"
     ]
    },
    {
     "name": "stderr",
     "output_type": "stream",
     "text": [
      "\r",
      "59.3%"
     ]
    },
    {
     "name": "stderr",
     "output_type": "stream",
     "text": [
      "\r",
      "59.3%"
     ]
    },
    {
     "name": "stderr",
     "output_type": "stream",
     "text": [
      "\r",
      "59.4%"
     ]
    },
    {
     "name": "stderr",
     "output_type": "stream",
     "text": [
      "\r",
      "59.5%"
     ]
    },
    {
     "name": "stderr",
     "output_type": "stream",
     "text": [
      "\r",
      "59.6%"
     ]
    },
    {
     "name": "stderr",
     "output_type": "stream",
     "text": [
      "\r",
      "59.7%"
     ]
    },
    {
     "name": "stderr",
     "output_type": "stream",
     "text": [
      "\r",
      "59.8%"
     ]
    },
    {
     "name": "stderr",
     "output_type": "stream",
     "text": [
      "\r",
      "59.8%"
     ]
    },
    {
     "name": "stderr",
     "output_type": "stream",
     "text": [
      "\r",
      "59.9%"
     ]
    },
    {
     "name": "stderr",
     "output_type": "stream",
     "text": [
      "\r",
      "60.0%"
     ]
    },
    {
     "name": "stderr",
     "output_type": "stream",
     "text": [
      "\r",
      "60.1%"
     ]
    },
    {
     "name": "stderr",
     "output_type": "stream",
     "text": [
      "\r",
      "60.2%"
     ]
    },
    {
     "name": "stderr",
     "output_type": "stream",
     "text": [
      "\r",
      "60.2%"
     ]
    },
    {
     "name": "stderr",
     "output_type": "stream",
     "text": [
      "\r",
      "60.3%"
     ]
    },
    {
     "name": "stderr",
     "output_type": "stream",
     "text": [
      "\r",
      "60.4%"
     ]
    },
    {
     "name": "stderr",
     "output_type": "stream",
     "text": [
      "\r",
      "60.5%"
     ]
    },
    {
     "name": "stderr",
     "output_type": "stream",
     "text": [
      "\r",
      "60.6%"
     ]
    },
    {
     "name": "stderr",
     "output_type": "stream",
     "text": [
      "\r",
      "60.7%"
     ]
    },
    {
     "name": "stderr",
     "output_type": "stream",
     "text": [
      "\r",
      "60.7%"
     ]
    },
    {
     "name": "stderr",
     "output_type": "stream",
     "text": [
      "\r",
      "60.8%"
     ]
    },
    {
     "name": "stderr",
     "output_type": "stream",
     "text": [
      "\r",
      "60.9%"
     ]
    },
    {
     "name": "stderr",
     "output_type": "stream",
     "text": [
      "\r",
      "61.0%"
     ]
    },
    {
     "name": "stderr",
     "output_type": "stream",
     "text": [
      "\r",
      "61.1%"
     ]
    },
    {
     "name": "stderr",
     "output_type": "stream",
     "text": [
      "\r",
      "61.2%"
     ]
    },
    {
     "name": "stderr",
     "output_type": "stream",
     "text": [
      "\r",
      "61.2%"
     ]
    },
    {
     "name": "stderr",
     "output_type": "stream",
     "text": [
      "\r",
      "61.3%"
     ]
    },
    {
     "name": "stderr",
     "output_type": "stream",
     "text": [
      "\r",
      "61.4%"
     ]
    },
    {
     "name": "stderr",
     "output_type": "stream",
     "text": [
      "\r",
      "61.5%"
     ]
    },
    {
     "name": "stderr",
     "output_type": "stream",
     "text": [
      "\r",
      "61.6%"
     ]
    },
    {
     "name": "stderr",
     "output_type": "stream",
     "text": [
      "\r",
      "61.7%"
     ]
    },
    {
     "name": "stderr",
     "output_type": "stream",
     "text": [
      "\r",
      "61.7%"
     ]
    },
    {
     "name": "stderr",
     "output_type": "stream",
     "text": [
      "\r",
      "61.8%"
     ]
    },
    {
     "name": "stderr",
     "output_type": "stream",
     "text": [
      "\r",
      "61.9%"
     ]
    },
    {
     "name": "stderr",
     "output_type": "stream",
     "text": [
      "\r",
      "62.0%"
     ]
    },
    {
     "name": "stderr",
     "output_type": "stream",
     "text": [
      "\r",
      "62.1%"
     ]
    },
    {
     "name": "stderr",
     "output_type": "stream",
     "text": [
      "\r",
      "62.1%"
     ]
    },
    {
     "name": "stderr",
     "output_type": "stream",
     "text": [
      "\r",
      "62.2%"
     ]
    },
    {
     "name": "stderr",
     "output_type": "stream",
     "text": [
      "\r",
      "62.3%"
     ]
    },
    {
     "name": "stderr",
     "output_type": "stream",
     "text": [
      "\r",
      "62.4%"
     ]
    },
    {
     "name": "stderr",
     "output_type": "stream",
     "text": [
      "\r",
      "62.5%"
     ]
    },
    {
     "name": "stderr",
     "output_type": "stream",
     "text": [
      "\r",
      "62.6%"
     ]
    },
    {
     "name": "stderr",
     "output_type": "stream",
     "text": [
      "\r",
      "62.6%"
     ]
    },
    {
     "name": "stderr",
     "output_type": "stream",
     "text": [
      "\r",
      "62.7%"
     ]
    },
    {
     "name": "stderr",
     "output_type": "stream",
     "text": [
      "\r",
      "62.8%"
     ]
    },
    {
     "name": "stderr",
     "output_type": "stream",
     "text": [
      "\r",
      "62.9%"
     ]
    },
    {
     "name": "stderr",
     "output_type": "stream",
     "text": [
      "\r",
      "63.0%"
     ]
    },
    {
     "name": "stderr",
     "output_type": "stream",
     "text": [
      "\r",
      "63.1%"
     ]
    },
    {
     "name": "stderr",
     "output_type": "stream",
     "text": [
      "\r",
      "63.1%"
     ]
    },
    {
     "name": "stderr",
     "output_type": "stream",
     "text": [
      "\r",
      "63.2%"
     ]
    },
    {
     "name": "stderr",
     "output_type": "stream",
     "text": [
      "\r",
      "63.3%"
     ]
    },
    {
     "name": "stderr",
     "output_type": "stream",
     "text": [
      "\r",
      "63.4%"
     ]
    },
    {
     "name": "stderr",
     "output_type": "stream",
     "text": [
      "\r",
      "63.5%"
     ]
    },
    {
     "name": "stderr",
     "output_type": "stream",
     "text": [
      "\r",
      "63.6%"
     ]
    },
    {
     "name": "stderr",
     "output_type": "stream",
     "text": [
      "\r",
      "63.6%"
     ]
    },
    {
     "name": "stderr",
     "output_type": "stream",
     "text": [
      "\r",
      "63.7%"
     ]
    },
    {
     "name": "stderr",
     "output_type": "stream",
     "text": [
      "\r",
      "63.8%"
     ]
    },
    {
     "name": "stderr",
     "output_type": "stream",
     "text": [
      "\r",
      "63.9%"
     ]
    },
    {
     "name": "stderr",
     "output_type": "stream",
     "text": [
      "\r",
      "64.0%"
     ]
    },
    {
     "name": "stderr",
     "output_type": "stream",
     "text": [
      "\r",
      "64.0%"
     ]
    },
    {
     "name": "stderr",
     "output_type": "stream",
     "text": [
      "\r",
      "64.1%"
     ]
    },
    {
     "name": "stderr",
     "output_type": "stream",
     "text": [
      "\r",
      "64.2%"
     ]
    },
    {
     "name": "stderr",
     "output_type": "stream",
     "text": [
      "\r",
      "64.3%"
     ]
    },
    {
     "name": "stderr",
     "output_type": "stream",
     "text": [
      "\r",
      "64.4%"
     ]
    },
    {
     "name": "stderr",
     "output_type": "stream",
     "text": [
      "\r",
      "64.5%"
     ]
    },
    {
     "name": "stderr",
     "output_type": "stream",
     "text": [
      "\r",
      "64.5%"
     ]
    },
    {
     "name": "stderr",
     "output_type": "stream",
     "text": [
      "\r",
      "64.6%"
     ]
    },
    {
     "name": "stderr",
     "output_type": "stream",
     "text": [
      "\r",
      "64.7%"
     ]
    },
    {
     "name": "stderr",
     "output_type": "stream",
     "text": [
      "\r",
      "64.8%"
     ]
    },
    {
     "name": "stderr",
     "output_type": "stream",
     "text": [
      "\r",
      "64.9%"
     ]
    },
    {
     "name": "stderr",
     "output_type": "stream",
     "text": [
      "\r",
      "65.0%"
     ]
    },
    {
     "name": "stderr",
     "output_type": "stream",
     "text": [
      "\r",
      "65.0%"
     ]
    },
    {
     "name": "stderr",
     "output_type": "stream",
     "text": [
      "\r",
      "65.1%"
     ]
    },
    {
     "name": "stderr",
     "output_type": "stream",
     "text": [
      "\r",
      "65.2%"
     ]
    },
    {
     "name": "stderr",
     "output_type": "stream",
     "text": [
      "\r",
      "65.3%"
     ]
    },
    {
     "name": "stderr",
     "output_type": "stream",
     "text": [
      "\r",
      "65.4%"
     ]
    },
    {
     "name": "stderr",
     "output_type": "stream",
     "text": [
      "\r",
      "65.5%"
     ]
    },
    {
     "name": "stderr",
     "output_type": "stream",
     "text": [
      "\r",
      "65.5%"
     ]
    },
    {
     "name": "stderr",
     "output_type": "stream",
     "text": [
      "\r",
      "65.6%"
     ]
    },
    {
     "name": "stderr",
     "output_type": "stream",
     "text": [
      "\r",
      "65.7%"
     ]
    },
    {
     "name": "stderr",
     "output_type": "stream",
     "text": [
      "\r",
      "65.8%"
     ]
    },
    {
     "name": "stderr",
     "output_type": "stream",
     "text": [
      "\r",
      "65.9%"
     ]
    },
    {
     "name": "stderr",
     "output_type": "stream",
     "text": [
      "\r",
      "65.9%"
     ]
    },
    {
     "name": "stderr",
     "output_type": "stream",
     "text": [
      "\r",
      "66.0%"
     ]
    },
    {
     "name": "stderr",
     "output_type": "stream",
     "text": [
      "\r",
      "66.1%"
     ]
    },
    {
     "name": "stderr",
     "output_type": "stream",
     "text": [
      "\r",
      "66.2%"
     ]
    },
    {
     "name": "stderr",
     "output_type": "stream",
     "text": [
      "\r",
      "66.3%"
     ]
    },
    {
     "name": "stderr",
     "output_type": "stream",
     "text": [
      "\r",
      "66.4%"
     ]
    },
    {
     "name": "stderr",
     "output_type": "stream",
     "text": [
      "\r",
      "66.4%"
     ]
    },
    {
     "name": "stderr",
     "output_type": "stream",
     "text": [
      "\r",
      "66.5%"
     ]
    },
    {
     "name": "stderr",
     "output_type": "stream",
     "text": [
      "\r",
      "66.6%"
     ]
    },
    {
     "name": "stderr",
     "output_type": "stream",
     "text": [
      "\r",
      "66.7%"
     ]
    },
    {
     "name": "stderr",
     "output_type": "stream",
     "text": [
      "\r",
      "66.8%"
     ]
    },
    {
     "name": "stderr",
     "output_type": "stream",
     "text": [
      "\r",
      "66.9%"
     ]
    },
    {
     "name": "stderr",
     "output_type": "stream",
     "text": [
      "\r",
      "66.9%"
     ]
    },
    {
     "name": "stderr",
     "output_type": "stream",
     "text": [
      "\r",
      "67.0%"
     ]
    },
    {
     "name": "stderr",
     "output_type": "stream",
     "text": [
      "\r",
      "67.1%"
     ]
    },
    {
     "name": "stderr",
     "output_type": "stream",
     "text": [
      "\r",
      "67.2%"
     ]
    },
    {
     "name": "stderr",
     "output_type": "stream",
     "text": [
      "\r",
      "67.3%"
     ]
    },
    {
     "name": "stderr",
     "output_type": "stream",
     "text": [
      "\r",
      "67.4%"
     ]
    },
    {
     "name": "stderr",
     "output_type": "stream",
     "text": [
      "\r",
      "67.4%"
     ]
    },
    {
     "name": "stderr",
     "output_type": "stream",
     "text": [
      "\r",
      "67.5%"
     ]
    },
    {
     "name": "stderr",
     "output_type": "stream",
     "text": [
      "\r",
      "67.6%"
     ]
    },
    {
     "name": "stderr",
     "output_type": "stream",
     "text": [
      "\r",
      "67.7%"
     ]
    },
    {
     "name": "stderr",
     "output_type": "stream",
     "text": [
      "\r",
      "67.8%"
     ]
    },
    {
     "name": "stderr",
     "output_type": "stream",
     "text": [
      "\r",
      "67.9%"
     ]
    },
    {
     "name": "stderr",
     "output_type": "stream",
     "text": [
      "\r",
      "67.9%"
     ]
    },
    {
     "name": "stderr",
     "output_type": "stream",
     "text": [
      "\r",
      "68.0%"
     ]
    },
    {
     "name": "stderr",
     "output_type": "stream",
     "text": [
      "\r",
      "68.1%"
     ]
    },
    {
     "name": "stderr",
     "output_type": "stream",
     "text": [
      "\r",
      "68.2%"
     ]
    },
    {
     "name": "stderr",
     "output_type": "stream",
     "text": [
      "\r",
      "68.3%"
     ]
    },
    {
     "name": "stderr",
     "output_type": "stream",
     "text": [
      "\r",
      "68.3%"
     ]
    },
    {
     "name": "stderr",
     "output_type": "stream",
     "text": [
      "\r",
      "68.4%"
     ]
    },
    {
     "name": "stderr",
     "output_type": "stream",
     "text": [
      "\r",
      "68.5%"
     ]
    },
    {
     "name": "stderr",
     "output_type": "stream",
     "text": [
      "\r",
      "68.6%"
     ]
    },
    {
     "name": "stderr",
     "output_type": "stream",
     "text": [
      "\r",
      "68.7%"
     ]
    },
    {
     "name": "stderr",
     "output_type": "stream",
     "text": [
      "\r",
      "68.8%"
     ]
    },
    {
     "name": "stderr",
     "output_type": "stream",
     "text": [
      "\r",
      "68.8%"
     ]
    },
    {
     "name": "stderr",
     "output_type": "stream",
     "text": [
      "\r",
      "68.9%"
     ]
    },
    {
     "name": "stderr",
     "output_type": "stream",
     "text": [
      "\r",
      "69.0%"
     ]
    },
    {
     "name": "stderr",
     "output_type": "stream",
     "text": [
      "\r",
      "69.1%"
     ]
    },
    {
     "name": "stderr",
     "output_type": "stream",
     "text": [
      "\r",
      "69.2%"
     ]
    },
    {
     "name": "stderr",
     "output_type": "stream",
     "text": [
      "\r",
      "69.3%"
     ]
    },
    {
     "name": "stderr",
     "output_type": "stream",
     "text": [
      "\r",
      "69.3%"
     ]
    },
    {
     "name": "stderr",
     "output_type": "stream",
     "text": [
      "\r",
      "69.4%"
     ]
    },
    {
     "name": "stderr",
     "output_type": "stream",
     "text": [
      "\r",
      "69.5%"
     ]
    },
    {
     "name": "stderr",
     "output_type": "stream",
     "text": [
      "\r",
      "69.6%"
     ]
    },
    {
     "name": "stderr",
     "output_type": "stream",
     "text": [
      "\r",
      "69.7%"
     ]
    },
    {
     "name": "stderr",
     "output_type": "stream",
     "text": [
      "\r",
      "69.8%"
     ]
    },
    {
     "name": "stderr",
     "output_type": "stream",
     "text": [
      "\r",
      "69.8%"
     ]
    },
    {
     "name": "stderr",
     "output_type": "stream",
     "text": [
      "\r",
      "69.9%"
     ]
    },
    {
     "name": "stderr",
     "output_type": "stream",
     "text": [
      "\r",
      "70.0%"
     ]
    },
    {
     "name": "stderr",
     "output_type": "stream",
     "text": [
      "\r",
      "70.1%"
     ]
    },
    {
     "name": "stderr",
     "output_type": "stream",
     "text": [
      "\r",
      "70.2%"
     ]
    },
    {
     "name": "stderr",
     "output_type": "stream",
     "text": [
      "\r",
      "70.2%"
     ]
    },
    {
     "name": "stderr",
     "output_type": "stream",
     "text": [
      "\r",
      "70.3%"
     ]
    },
    {
     "name": "stderr",
     "output_type": "stream",
     "text": [
      "\r",
      "70.4%"
     ]
    },
    {
     "name": "stderr",
     "output_type": "stream",
     "text": [
      "\r",
      "70.5%"
     ]
    },
    {
     "name": "stderr",
     "output_type": "stream",
     "text": [
      "\r",
      "70.6%"
     ]
    },
    {
     "name": "stderr",
     "output_type": "stream",
     "text": [
      "\r",
      "70.7%"
     ]
    },
    {
     "name": "stderr",
     "output_type": "stream",
     "text": [
      "\r",
      "70.7%"
     ]
    },
    {
     "name": "stderr",
     "output_type": "stream",
     "text": [
      "\r",
      "70.8%"
     ]
    },
    {
     "name": "stderr",
     "output_type": "stream",
     "text": [
      "\r",
      "70.9%"
     ]
    },
    {
     "name": "stderr",
     "output_type": "stream",
     "text": [
      "\r",
      "71.0%"
     ]
    },
    {
     "name": "stderr",
     "output_type": "stream",
     "text": [
      "\r",
      "71.1%"
     ]
    },
    {
     "name": "stderr",
     "output_type": "stream",
     "text": [
      "\r",
      "71.2%"
     ]
    },
    {
     "name": "stderr",
     "output_type": "stream",
     "text": [
      "\r",
      "71.2%"
     ]
    },
    {
     "name": "stderr",
     "output_type": "stream",
     "text": [
      "\r",
      "71.3%"
     ]
    },
    {
     "name": "stderr",
     "output_type": "stream",
     "text": [
      "\r",
      "71.4%"
     ]
    },
    {
     "name": "stderr",
     "output_type": "stream",
     "text": [
      "\r",
      "71.5%"
     ]
    },
    {
     "name": "stderr",
     "output_type": "stream",
     "text": [
      "\r",
      "71.6%"
     ]
    },
    {
     "name": "stderr",
     "output_type": "stream",
     "text": [
      "\r",
      "71.7%"
     ]
    },
    {
     "name": "stderr",
     "output_type": "stream",
     "text": [
      "\r",
      "71.7%"
     ]
    },
    {
     "name": "stderr",
     "output_type": "stream",
     "text": [
      "\r",
      "71.8%"
     ]
    },
    {
     "name": "stderr",
     "output_type": "stream",
     "text": [
      "\r",
      "71.9%"
     ]
    },
    {
     "name": "stderr",
     "output_type": "stream",
     "text": [
      "\r",
      "72.0%"
     ]
    },
    {
     "name": "stderr",
     "output_type": "stream",
     "text": [
      "\r",
      "72.1%"
     ]
    },
    {
     "name": "stderr",
     "output_type": "stream",
     "text": [
      "\r",
      "72.1%"
     ]
    },
    {
     "name": "stderr",
     "output_type": "stream",
     "text": [
      "\r",
      "72.2%"
     ]
    },
    {
     "name": "stderr",
     "output_type": "stream",
     "text": [
      "\r",
      "72.3%"
     ]
    },
    {
     "name": "stderr",
     "output_type": "stream",
     "text": [
      "\r",
      "72.4%"
     ]
    },
    {
     "name": "stderr",
     "output_type": "stream",
     "text": [
      "\r",
      "72.5%"
     ]
    },
    {
     "name": "stderr",
     "output_type": "stream",
     "text": [
      "\r",
      "72.6%"
     ]
    },
    {
     "name": "stderr",
     "output_type": "stream",
     "text": [
      "\r",
      "72.6%"
     ]
    },
    {
     "name": "stderr",
     "output_type": "stream",
     "text": [
      "\r",
      "72.7%"
     ]
    },
    {
     "name": "stderr",
     "output_type": "stream",
     "text": [
      "\r",
      "72.8%"
     ]
    },
    {
     "name": "stderr",
     "output_type": "stream",
     "text": [
      "\r",
      "72.9%"
     ]
    },
    {
     "name": "stderr",
     "output_type": "stream",
     "text": [
      "\r",
      "73.0%"
     ]
    },
    {
     "name": "stderr",
     "output_type": "stream",
     "text": [
      "\r",
      "73.1%"
     ]
    },
    {
     "name": "stderr",
     "output_type": "stream",
     "text": [
      "\r",
      "73.1%"
     ]
    },
    {
     "name": "stderr",
     "output_type": "stream",
     "text": [
      "\r",
      "73.2%"
     ]
    },
    {
     "name": "stderr",
     "output_type": "stream",
     "text": [
      "\r",
      "73.3%"
     ]
    },
    {
     "name": "stderr",
     "output_type": "stream",
     "text": [
      "\r",
      "73.4%"
     ]
    },
    {
     "name": "stderr",
     "output_type": "stream",
     "text": [
      "\r",
      "73.5%"
     ]
    },
    {
     "name": "stderr",
     "output_type": "stream",
     "text": [
      "\r",
      "73.6%"
     ]
    },
    {
     "name": "stderr",
     "output_type": "stream",
     "text": [
      "\r",
      "73.6%"
     ]
    },
    {
     "name": "stderr",
     "output_type": "stream",
     "text": [
      "\r",
      "73.7%"
     ]
    },
    {
     "name": "stderr",
     "output_type": "stream",
     "text": [
      "\r",
      "73.8%"
     ]
    },
    {
     "name": "stderr",
     "output_type": "stream",
     "text": [
      "\r",
      "73.9%"
     ]
    },
    {
     "name": "stderr",
     "output_type": "stream",
     "text": [
      "\r",
      "74.0%"
     ]
    },
    {
     "name": "stderr",
     "output_type": "stream",
     "text": [
      "\r",
      "74.0%"
     ]
    },
    {
     "name": "stderr",
     "output_type": "stream",
     "text": [
      "\r",
      "74.1%"
     ]
    },
    {
     "name": "stderr",
     "output_type": "stream",
     "text": [
      "\r",
      "74.2%"
     ]
    },
    {
     "name": "stderr",
     "output_type": "stream",
     "text": [
      "\r",
      "74.3%"
     ]
    },
    {
     "name": "stderr",
     "output_type": "stream",
     "text": [
      "\r",
      "74.4%"
     ]
    },
    {
     "name": "stderr",
     "output_type": "stream",
     "text": [
      "\r",
      "74.5%"
     ]
    },
    {
     "name": "stderr",
     "output_type": "stream",
     "text": [
      "\r",
      "74.5%"
     ]
    },
    {
     "name": "stderr",
     "output_type": "stream",
     "text": [
      "\r",
      "74.6%"
     ]
    },
    {
     "name": "stderr",
     "output_type": "stream",
     "text": [
      "\r",
      "74.7%"
     ]
    },
    {
     "name": "stderr",
     "output_type": "stream",
     "text": [
      "\r",
      "74.8%"
     ]
    },
    {
     "name": "stderr",
     "output_type": "stream",
     "text": [
      "\r",
      "74.9%"
     ]
    },
    {
     "name": "stderr",
     "output_type": "stream",
     "text": [
      "\r",
      "75.0%"
     ]
    },
    {
     "name": "stderr",
     "output_type": "stream",
     "text": [
      "\r",
      "75.0%"
     ]
    },
    {
     "name": "stderr",
     "output_type": "stream",
     "text": [
      "\r",
      "75.1%"
     ]
    },
    {
     "name": "stderr",
     "output_type": "stream",
     "text": [
      "\r",
      "75.2%"
     ]
    },
    {
     "name": "stderr",
     "output_type": "stream",
     "text": [
      "\r",
      "75.3%"
     ]
    },
    {
     "name": "stderr",
     "output_type": "stream",
     "text": [
      "\r",
      "75.4%"
     ]
    },
    {
     "name": "stderr",
     "output_type": "stream",
     "text": [
      "\r",
      "75.5%"
     ]
    },
    {
     "name": "stderr",
     "output_type": "stream",
     "text": [
      "\r",
      "75.5%"
     ]
    },
    {
     "name": "stderr",
     "output_type": "stream",
     "text": [
      "\r",
      "75.6%"
     ]
    },
    {
     "name": "stderr",
     "output_type": "stream",
     "text": [
      "\r",
      "75.7%"
     ]
    },
    {
     "name": "stderr",
     "output_type": "stream",
     "text": [
      "\r",
      "75.8%"
     ]
    },
    {
     "name": "stderr",
     "output_type": "stream",
     "text": [
      "\r",
      "75.9%"
     ]
    },
    {
     "name": "stderr",
     "output_type": "stream",
     "text": [
      "\r",
      "75.9%"
     ]
    },
    {
     "name": "stderr",
     "output_type": "stream",
     "text": [
      "\r",
      "76.0%"
     ]
    },
    {
     "name": "stderr",
     "output_type": "stream",
     "text": [
      "\r",
      "76.1%"
     ]
    },
    {
     "name": "stderr",
     "output_type": "stream",
     "text": [
      "\r",
      "76.2%"
     ]
    },
    {
     "name": "stderr",
     "output_type": "stream",
     "text": [
      "\r",
      "76.3%"
     ]
    },
    {
     "name": "stderr",
     "output_type": "stream",
     "text": [
      "\r",
      "76.4%"
     ]
    },
    {
     "name": "stderr",
     "output_type": "stream",
     "text": [
      "\r",
      "76.4%"
     ]
    },
    {
     "name": "stderr",
     "output_type": "stream",
     "text": [
      "\r",
      "76.5%"
     ]
    },
    {
     "name": "stderr",
     "output_type": "stream",
     "text": [
      "\r",
      "76.6%"
     ]
    },
    {
     "name": "stderr",
     "output_type": "stream",
     "text": [
      "\r",
      "76.7%"
     ]
    },
    {
     "name": "stderr",
     "output_type": "stream",
     "text": [
      "\r",
      "76.8%"
     ]
    },
    {
     "name": "stderr",
     "output_type": "stream",
     "text": [
      "\r",
      "76.9%"
     ]
    },
    {
     "name": "stderr",
     "output_type": "stream",
     "text": [
      "\r",
      "76.9%"
     ]
    },
    {
     "name": "stderr",
     "output_type": "stream",
     "text": [
      "\r",
      "77.0%"
     ]
    },
    {
     "name": "stderr",
     "output_type": "stream",
     "text": [
      "\r",
      "77.1%"
     ]
    },
    {
     "name": "stderr",
     "output_type": "stream",
     "text": [
      "\r",
      "77.2%"
     ]
    },
    {
     "name": "stderr",
     "output_type": "stream",
     "text": [
      "\r",
      "77.3%"
     ]
    },
    {
     "name": "stderr",
     "output_type": "stream",
     "text": [
      "\r",
      "77.4%"
     ]
    },
    {
     "name": "stderr",
     "output_type": "stream",
     "text": [
      "\r",
      "77.4%"
     ]
    },
    {
     "name": "stderr",
     "output_type": "stream",
     "text": [
      "\r",
      "77.5%"
     ]
    },
    {
     "name": "stderr",
     "output_type": "stream",
     "text": [
      "\r",
      "77.6%"
     ]
    },
    {
     "name": "stderr",
     "output_type": "stream",
     "text": [
      "\r",
      "77.7%"
     ]
    },
    {
     "name": "stderr",
     "output_type": "stream",
     "text": [
      "\r",
      "77.8%"
     ]
    },
    {
     "name": "stderr",
     "output_type": "stream",
     "text": [
      "\r",
      "77.9%"
     ]
    },
    {
     "name": "stderr",
     "output_type": "stream",
     "text": [
      "\r",
      "77.9%"
     ]
    },
    {
     "name": "stderr",
     "output_type": "stream",
     "text": [
      "\r",
      "78.0%"
     ]
    },
    {
     "name": "stderr",
     "output_type": "stream",
     "text": [
      "\r",
      "78.1%"
     ]
    },
    {
     "name": "stderr",
     "output_type": "stream",
     "text": [
      "\r",
      "78.2%"
     ]
    },
    {
     "name": "stderr",
     "output_type": "stream",
     "text": [
      "\r",
      "78.3%"
     ]
    },
    {
     "name": "stderr",
     "output_type": "stream",
     "text": [
      "\r",
      "78.3%"
     ]
    },
    {
     "name": "stderr",
     "output_type": "stream",
     "text": [
      "\r",
      "78.4%"
     ]
    },
    {
     "name": "stderr",
     "output_type": "stream",
     "text": [
      "\r",
      "78.5%"
     ]
    },
    {
     "name": "stderr",
     "output_type": "stream",
     "text": [
      "\r",
      "78.6%"
     ]
    },
    {
     "name": "stderr",
     "output_type": "stream",
     "text": [
      "\r",
      "78.7%"
     ]
    },
    {
     "name": "stderr",
     "output_type": "stream",
     "text": [
      "\r",
      "78.8%"
     ]
    },
    {
     "name": "stderr",
     "output_type": "stream",
     "text": [
      "\r",
      "78.8%"
     ]
    },
    {
     "name": "stderr",
     "output_type": "stream",
     "text": [
      "\r",
      "78.9%"
     ]
    },
    {
     "name": "stderr",
     "output_type": "stream",
     "text": [
      "\r",
      "79.0%"
     ]
    },
    {
     "name": "stderr",
     "output_type": "stream",
     "text": [
      "\r",
      "79.1%"
     ]
    },
    {
     "name": "stderr",
     "output_type": "stream",
     "text": [
      "\r",
      "79.2%"
     ]
    },
    {
     "name": "stderr",
     "output_type": "stream",
     "text": [
      "\r",
      "79.3%"
     ]
    },
    {
     "name": "stderr",
     "output_type": "stream",
     "text": [
      "\r",
      "79.3%"
     ]
    },
    {
     "name": "stderr",
     "output_type": "stream",
     "text": [
      "\r",
      "79.4%"
     ]
    },
    {
     "name": "stderr",
     "output_type": "stream",
     "text": [
      "\r",
      "79.5%"
     ]
    },
    {
     "name": "stderr",
     "output_type": "stream",
     "text": [
      "\r",
      "79.6%"
     ]
    },
    {
     "name": "stderr",
     "output_type": "stream",
     "text": [
      "\r",
      "79.7%"
     ]
    },
    {
     "name": "stderr",
     "output_type": "stream",
     "text": [
      "\r",
      "79.8%"
     ]
    },
    {
     "name": "stderr",
     "output_type": "stream",
     "text": [
      "\r",
      "79.8%"
     ]
    },
    {
     "name": "stderr",
     "output_type": "stream",
     "text": [
      "\r",
      "79.9%"
     ]
    },
    {
     "name": "stderr",
     "output_type": "stream",
     "text": [
      "\r",
      "80.0%"
     ]
    },
    {
     "name": "stderr",
     "output_type": "stream",
     "text": [
      "\r",
      "80.1%"
     ]
    },
    {
     "name": "stderr",
     "output_type": "stream",
     "text": [
      "\r",
      "80.2%"
     ]
    },
    {
     "name": "stderr",
     "output_type": "stream",
     "text": [
      "\r",
      "80.2%"
     ]
    },
    {
     "name": "stderr",
     "output_type": "stream",
     "text": [
      "\r",
      "80.3%"
     ]
    },
    {
     "name": "stderr",
     "output_type": "stream",
     "text": [
      "\r",
      "80.4%"
     ]
    },
    {
     "name": "stderr",
     "output_type": "stream",
     "text": [
      "\r",
      "80.5%"
     ]
    },
    {
     "name": "stderr",
     "output_type": "stream",
     "text": [
      "\r",
      "80.6%"
     ]
    },
    {
     "name": "stderr",
     "output_type": "stream",
     "text": [
      "\r",
      "80.7%"
     ]
    },
    {
     "name": "stderr",
     "output_type": "stream",
     "text": [
      "\r",
      "80.7%"
     ]
    },
    {
     "name": "stderr",
     "output_type": "stream",
     "text": [
      "\r",
      "80.8%"
     ]
    },
    {
     "name": "stderr",
     "output_type": "stream",
     "text": [
      "\r",
      "80.9%"
     ]
    },
    {
     "name": "stderr",
     "output_type": "stream",
     "text": [
      "\r",
      "81.0%"
     ]
    },
    {
     "name": "stderr",
     "output_type": "stream",
     "text": [
      "\r",
      "81.1%"
     ]
    },
    {
     "name": "stderr",
     "output_type": "stream",
     "text": [
      "\r",
      "81.2%"
     ]
    },
    {
     "name": "stderr",
     "output_type": "stream",
     "text": [
      "\r",
      "81.2%"
     ]
    },
    {
     "name": "stderr",
     "output_type": "stream",
     "text": [
      "\r",
      "81.3%"
     ]
    },
    {
     "name": "stderr",
     "output_type": "stream",
     "text": [
      "\r",
      "81.4%"
     ]
    },
    {
     "name": "stderr",
     "output_type": "stream",
     "text": [
      "\r",
      "81.5%"
     ]
    },
    {
     "name": "stderr",
     "output_type": "stream",
     "text": [
      "\r",
      "81.6%"
     ]
    },
    {
     "name": "stderr",
     "output_type": "stream",
     "text": [
      "\r",
      "81.7%"
     ]
    },
    {
     "name": "stderr",
     "output_type": "stream",
     "text": [
      "\r",
      "81.7%"
     ]
    },
    {
     "name": "stderr",
     "output_type": "stream",
     "text": [
      "\r",
      "81.8%"
     ]
    },
    {
     "name": "stderr",
     "output_type": "stream",
     "text": [
      "\r",
      "81.9%"
     ]
    },
    {
     "name": "stderr",
     "output_type": "stream",
     "text": [
      "\r",
      "82.0%"
     ]
    },
    {
     "name": "stderr",
     "output_type": "stream",
     "text": [
      "\r",
      "82.1%"
     ]
    },
    {
     "name": "stderr",
     "output_type": "stream",
     "text": [
      "\r",
      "82.1%"
     ]
    },
    {
     "name": "stderr",
     "output_type": "stream",
     "text": [
      "\r",
      "82.2%"
     ]
    },
    {
     "name": "stderr",
     "output_type": "stream",
     "text": [
      "\r",
      "82.3%"
     ]
    },
    {
     "name": "stderr",
     "output_type": "stream",
     "text": [
      "\r",
      "82.4%"
     ]
    },
    {
     "name": "stderr",
     "output_type": "stream",
     "text": [
      "\r",
      "82.5%"
     ]
    },
    {
     "name": "stderr",
     "output_type": "stream",
     "text": [
      "\r",
      "82.6%"
     ]
    },
    {
     "name": "stderr",
     "output_type": "stream",
     "text": [
      "\r",
      "82.6%"
     ]
    },
    {
     "name": "stderr",
     "output_type": "stream",
     "text": [
      "\r",
      "82.7%"
     ]
    },
    {
     "name": "stderr",
     "output_type": "stream",
     "text": [
      "\r",
      "82.8%"
     ]
    },
    {
     "name": "stderr",
     "output_type": "stream",
     "text": [
      "\r",
      "82.9%"
     ]
    },
    {
     "name": "stderr",
     "output_type": "stream",
     "text": [
      "\r",
      "83.0%"
     ]
    },
    {
     "name": "stderr",
     "output_type": "stream",
     "text": [
      "\r",
      "83.1%"
     ]
    },
    {
     "name": "stderr",
     "output_type": "stream",
     "text": [
      "\r",
      "83.1%"
     ]
    },
    {
     "name": "stderr",
     "output_type": "stream",
     "text": [
      "\r",
      "83.2%"
     ]
    },
    {
     "name": "stderr",
     "output_type": "stream",
     "text": [
      "\r",
      "83.3%"
     ]
    },
    {
     "name": "stderr",
     "output_type": "stream",
     "text": [
      "\r",
      "83.4%"
     ]
    },
    {
     "name": "stderr",
     "output_type": "stream",
     "text": [
      "\r",
      "83.5%"
     ]
    },
    {
     "name": "stderr",
     "output_type": "stream",
     "text": [
      "\r",
      "83.6%"
     ]
    },
    {
     "name": "stderr",
     "output_type": "stream",
     "text": [
      "\r",
      "83.6%"
     ]
    },
    {
     "name": "stderr",
     "output_type": "stream",
     "text": [
      "\r",
      "83.7%"
     ]
    },
    {
     "name": "stderr",
     "output_type": "stream",
     "text": [
      "\r",
      "83.8%"
     ]
    },
    {
     "name": "stderr",
     "output_type": "stream",
     "text": [
      "\r",
      "83.9%"
     ]
    },
    {
     "name": "stderr",
     "output_type": "stream",
     "text": [
      "\r",
      "84.0%"
     ]
    },
    {
     "name": "stderr",
     "output_type": "stream",
     "text": [
      "\r",
      "84.0%"
     ]
    },
    {
     "name": "stderr",
     "output_type": "stream",
     "text": [
      "\r",
      "84.1%"
     ]
    },
    {
     "name": "stderr",
     "output_type": "stream",
     "text": [
      "\r",
      "84.2%"
     ]
    },
    {
     "name": "stderr",
     "output_type": "stream",
     "text": [
      "\r",
      "84.3%"
     ]
    },
    {
     "name": "stderr",
     "output_type": "stream",
     "text": [
      "\r",
      "84.4%"
     ]
    },
    {
     "name": "stderr",
     "output_type": "stream",
     "text": [
      "\r",
      "84.5%"
     ]
    },
    {
     "name": "stderr",
     "output_type": "stream",
     "text": [
      "\r",
      "84.5%"
     ]
    },
    {
     "name": "stderr",
     "output_type": "stream",
     "text": [
      "\r",
      "84.6%"
     ]
    },
    {
     "name": "stderr",
     "output_type": "stream",
     "text": [
      "\r",
      "84.7%"
     ]
    },
    {
     "name": "stderr",
     "output_type": "stream",
     "text": [
      "\r",
      "84.8%"
     ]
    },
    {
     "name": "stderr",
     "output_type": "stream",
     "text": [
      "\r",
      "84.9%"
     ]
    },
    {
     "name": "stderr",
     "output_type": "stream",
     "text": [
      "\r",
      "85.0%"
     ]
    },
    {
     "name": "stderr",
     "output_type": "stream",
     "text": [
      "\r",
      "85.0%"
     ]
    },
    {
     "name": "stderr",
     "output_type": "stream",
     "text": [
      "\r",
      "85.1%"
     ]
    },
    {
     "name": "stderr",
     "output_type": "stream",
     "text": [
      "\r",
      "85.2%"
     ]
    },
    {
     "name": "stderr",
     "output_type": "stream",
     "text": [
      "\r",
      "85.3%"
     ]
    },
    {
     "name": "stderr",
     "output_type": "stream",
     "text": [
      "\r",
      "85.4%"
     ]
    },
    {
     "name": "stderr",
     "output_type": "stream",
     "text": [
      "\r",
      "85.5%"
     ]
    },
    {
     "name": "stderr",
     "output_type": "stream",
     "text": [
      "\r",
      "85.5%"
     ]
    },
    {
     "name": "stderr",
     "output_type": "stream",
     "text": [
      "\r",
      "85.6%"
     ]
    },
    {
     "name": "stderr",
     "output_type": "stream",
     "text": [
      "\r",
      "85.7%"
     ]
    },
    {
     "name": "stderr",
     "output_type": "stream",
     "text": [
      "\r",
      "85.8%"
     ]
    },
    {
     "name": "stderr",
     "output_type": "stream",
     "text": [
      "\r",
      "85.9%"
     ]
    },
    {
     "name": "stderr",
     "output_type": "stream",
     "text": [
      "\r",
      "85.9%"
     ]
    },
    {
     "name": "stderr",
     "output_type": "stream",
     "text": [
      "\r",
      "86.0%"
     ]
    },
    {
     "name": "stderr",
     "output_type": "stream",
     "text": [
      "\r",
      "86.1%"
     ]
    },
    {
     "name": "stderr",
     "output_type": "stream",
     "text": [
      "\r",
      "86.2%"
     ]
    },
    {
     "name": "stderr",
     "output_type": "stream",
     "text": [
      "\r",
      "86.3%"
     ]
    },
    {
     "name": "stderr",
     "output_type": "stream",
     "text": [
      "\r",
      "86.4%"
     ]
    },
    {
     "name": "stderr",
     "output_type": "stream",
     "text": [
      "\r",
      "86.4%"
     ]
    },
    {
     "name": "stderr",
     "output_type": "stream",
     "text": [
      "\r",
      "86.5%"
     ]
    },
    {
     "name": "stderr",
     "output_type": "stream",
     "text": [
      "\r",
      "86.6%"
     ]
    },
    {
     "name": "stderr",
     "output_type": "stream",
     "text": [
      "\r",
      "86.7%"
     ]
    },
    {
     "name": "stderr",
     "output_type": "stream",
     "text": [
      "\r",
      "86.8%"
     ]
    },
    {
     "name": "stderr",
     "output_type": "stream",
     "text": [
      "\r",
      "86.9%"
     ]
    },
    {
     "name": "stderr",
     "output_type": "stream",
     "text": [
      "\r",
      "86.9%"
     ]
    },
    {
     "name": "stderr",
     "output_type": "stream",
     "text": [
      "\r",
      "87.0%"
     ]
    },
    {
     "name": "stderr",
     "output_type": "stream",
     "text": [
      "\r",
      "87.1%"
     ]
    },
    {
     "name": "stderr",
     "output_type": "stream",
     "text": [
      "\r",
      "87.2%"
     ]
    },
    {
     "name": "stderr",
     "output_type": "stream",
     "text": [
      "\r",
      "87.3%"
     ]
    },
    {
     "name": "stderr",
     "output_type": "stream",
     "text": [
      "\r",
      "87.4%"
     ]
    },
    {
     "name": "stderr",
     "output_type": "stream",
     "text": [
      "\r",
      "87.4%"
     ]
    },
    {
     "name": "stderr",
     "output_type": "stream",
     "text": [
      "\r",
      "87.5%"
     ]
    },
    {
     "name": "stderr",
     "output_type": "stream",
     "text": [
      "\r",
      "87.6%"
     ]
    },
    {
     "name": "stderr",
     "output_type": "stream",
     "text": [
      "\r",
      "87.7%"
     ]
    },
    {
     "name": "stderr",
     "output_type": "stream",
     "text": [
      "\r",
      "87.8%"
     ]
    },
    {
     "name": "stderr",
     "output_type": "stream",
     "text": [
      "\r",
      "87.9%"
     ]
    },
    {
     "name": "stderr",
     "output_type": "stream",
     "text": [
      "\r",
      "87.9%"
     ]
    },
    {
     "name": "stderr",
     "output_type": "stream",
     "text": [
      "\r",
      "88.0%"
     ]
    },
    {
     "name": "stderr",
     "output_type": "stream",
     "text": [
      "\r",
      "88.1%"
     ]
    },
    {
     "name": "stderr",
     "output_type": "stream",
     "text": [
      "\r",
      "88.2%"
     ]
    },
    {
     "name": "stderr",
     "output_type": "stream",
     "text": [
      "\r",
      "88.3%"
     ]
    },
    {
     "name": "stderr",
     "output_type": "stream",
     "text": [
      "\r",
      "88.3%"
     ]
    },
    {
     "name": "stderr",
     "output_type": "stream",
     "text": [
      "\r",
      "88.4%"
     ]
    },
    {
     "name": "stderr",
     "output_type": "stream",
     "text": [
      "\r",
      "88.5%"
     ]
    },
    {
     "name": "stderr",
     "output_type": "stream",
     "text": [
      "\r",
      "88.6%"
     ]
    },
    {
     "name": "stderr",
     "output_type": "stream",
     "text": [
      "\r",
      "88.7%"
     ]
    },
    {
     "name": "stderr",
     "output_type": "stream",
     "text": [
      "\r",
      "88.8%"
     ]
    },
    {
     "name": "stderr",
     "output_type": "stream",
     "text": [
      "\r",
      "88.8%"
     ]
    },
    {
     "name": "stderr",
     "output_type": "stream",
     "text": [
      "\r",
      "88.9%"
     ]
    },
    {
     "name": "stderr",
     "output_type": "stream",
     "text": [
      "\r",
      "89.0%"
     ]
    },
    {
     "name": "stderr",
     "output_type": "stream",
     "text": [
      "\r",
      "89.1%"
     ]
    },
    {
     "name": "stderr",
     "output_type": "stream",
     "text": [
      "\r",
      "89.2%"
     ]
    },
    {
     "name": "stderr",
     "output_type": "stream",
     "text": [
      "\r",
      "89.3%"
     ]
    },
    {
     "name": "stderr",
     "output_type": "stream",
     "text": [
      "\r",
      "89.3%"
     ]
    },
    {
     "name": "stderr",
     "output_type": "stream",
     "text": [
      "\r",
      "89.4%"
     ]
    },
    {
     "name": "stderr",
     "output_type": "stream",
     "text": [
      "\r",
      "89.5%"
     ]
    },
    {
     "name": "stderr",
     "output_type": "stream",
     "text": [
      "\r",
      "89.6%"
     ]
    },
    {
     "name": "stderr",
     "output_type": "stream",
     "text": [
      "\r",
      "89.7%"
     ]
    },
    {
     "name": "stderr",
     "output_type": "stream",
     "text": [
      "\r",
      "89.8%"
     ]
    },
    {
     "name": "stderr",
     "output_type": "stream",
     "text": [
      "\r",
      "89.8%"
     ]
    },
    {
     "name": "stderr",
     "output_type": "stream",
     "text": [
      "\r",
      "89.9%"
     ]
    },
    {
     "name": "stderr",
     "output_type": "stream",
     "text": [
      "\r",
      "90.0%"
     ]
    },
    {
     "name": "stderr",
     "output_type": "stream",
     "text": [
      "\r",
      "90.1%"
     ]
    },
    {
     "name": "stderr",
     "output_type": "stream",
     "text": [
      "\r",
      "90.2%"
     ]
    },
    {
     "name": "stderr",
     "output_type": "stream",
     "text": [
      "\r",
      "90.2%"
     ]
    },
    {
     "name": "stderr",
     "output_type": "stream",
     "text": [
      "\r",
      "90.3%"
     ]
    },
    {
     "name": "stderr",
     "output_type": "stream",
     "text": [
      "\r",
      "90.4%"
     ]
    },
    {
     "name": "stderr",
     "output_type": "stream",
     "text": [
      "\r",
      "90.5%"
     ]
    },
    {
     "name": "stderr",
     "output_type": "stream",
     "text": [
      "\r",
      "90.6%"
     ]
    },
    {
     "name": "stderr",
     "output_type": "stream",
     "text": [
      "\r",
      "90.7%"
     ]
    },
    {
     "name": "stderr",
     "output_type": "stream",
     "text": [
      "\r",
      "90.7%"
     ]
    },
    {
     "name": "stderr",
     "output_type": "stream",
     "text": [
      "\r",
      "90.8%"
     ]
    },
    {
     "name": "stderr",
     "output_type": "stream",
     "text": [
      "\r",
      "90.9%"
     ]
    },
    {
     "name": "stderr",
     "output_type": "stream",
     "text": [
      "\r",
      "91.0%"
     ]
    },
    {
     "name": "stderr",
     "output_type": "stream",
     "text": [
      "\r",
      "91.1%"
     ]
    },
    {
     "name": "stderr",
     "output_type": "stream",
     "text": [
      "\r",
      "91.2%"
     ]
    },
    {
     "name": "stderr",
     "output_type": "stream",
     "text": [
      "\r",
      "91.2%"
     ]
    },
    {
     "name": "stderr",
     "output_type": "stream",
     "text": [
      "\r",
      "91.3%"
     ]
    },
    {
     "name": "stderr",
     "output_type": "stream",
     "text": [
      "\r",
      "91.4%"
     ]
    },
    {
     "name": "stderr",
     "output_type": "stream",
     "text": [
      "\r",
      "91.5%"
     ]
    },
    {
     "name": "stderr",
     "output_type": "stream",
     "text": [
      "\r",
      "91.6%"
     ]
    },
    {
     "name": "stderr",
     "output_type": "stream",
     "text": [
      "\r",
      "91.7%"
     ]
    },
    {
     "name": "stderr",
     "output_type": "stream",
     "text": [
      "\r",
      "91.7%"
     ]
    },
    {
     "name": "stderr",
     "output_type": "stream",
     "text": [
      "\r",
      "91.8%"
     ]
    },
    {
     "name": "stderr",
     "output_type": "stream",
     "text": [
      "\r",
      "91.9%"
     ]
    },
    {
     "name": "stderr",
     "output_type": "stream",
     "text": [
      "\r",
      "92.0%"
     ]
    },
    {
     "name": "stderr",
     "output_type": "stream",
     "text": [
      "\r",
      "92.1%"
     ]
    },
    {
     "name": "stderr",
     "output_type": "stream",
     "text": [
      "\r",
      "92.1%"
     ]
    },
    {
     "name": "stderr",
     "output_type": "stream",
     "text": [
      "\r",
      "92.2%"
     ]
    },
    {
     "name": "stderr",
     "output_type": "stream",
     "text": [
      "\r",
      "92.3%"
     ]
    },
    {
     "name": "stderr",
     "output_type": "stream",
     "text": [
      "\r",
      "92.4%"
     ]
    },
    {
     "name": "stderr",
     "output_type": "stream",
     "text": [
      "\r",
      "92.5%"
     ]
    },
    {
     "name": "stderr",
     "output_type": "stream",
     "text": [
      "\r",
      "92.6%"
     ]
    },
    {
     "name": "stderr",
     "output_type": "stream",
     "text": [
      "\r",
      "92.6%"
     ]
    },
    {
     "name": "stderr",
     "output_type": "stream",
     "text": [
      "\r",
      "92.7%"
     ]
    },
    {
     "name": "stderr",
     "output_type": "stream",
     "text": [
      "\r",
      "92.8%"
     ]
    },
    {
     "name": "stderr",
     "output_type": "stream",
     "text": [
      "\r",
      "92.9%"
     ]
    },
    {
     "name": "stderr",
     "output_type": "stream",
     "text": [
      "\r",
      "93.0%"
     ]
    },
    {
     "name": "stderr",
     "output_type": "stream",
     "text": [
      "\r",
      "93.1%"
     ]
    },
    {
     "name": "stderr",
     "output_type": "stream",
     "text": [
      "\r",
      "93.1%"
     ]
    },
    {
     "name": "stderr",
     "output_type": "stream",
     "text": [
      "\r",
      "93.2%"
     ]
    },
    {
     "name": "stderr",
     "output_type": "stream",
     "text": [
      "\r",
      "93.3%"
     ]
    },
    {
     "name": "stderr",
     "output_type": "stream",
     "text": [
      "\r",
      "93.4%"
     ]
    },
    {
     "name": "stderr",
     "output_type": "stream",
     "text": [
      "\r",
      "93.5%"
     ]
    },
    {
     "name": "stderr",
     "output_type": "stream",
     "text": [
      "\r",
      "93.6%"
     ]
    },
    {
     "name": "stderr",
     "output_type": "stream",
     "text": [
      "\r",
      "93.6%"
     ]
    },
    {
     "name": "stderr",
     "output_type": "stream",
     "text": [
      "\r",
      "93.7%"
     ]
    },
    {
     "name": "stderr",
     "output_type": "stream",
     "text": [
      "\r",
      "93.8%"
     ]
    },
    {
     "name": "stderr",
     "output_type": "stream",
     "text": [
      "\r",
      "93.9%"
     ]
    },
    {
     "name": "stderr",
     "output_type": "stream",
     "text": [
      "\r",
      "94.0%"
     ]
    },
    {
     "name": "stderr",
     "output_type": "stream",
     "text": [
      "\r",
      "94.0%"
     ]
    },
    {
     "name": "stderr",
     "output_type": "stream",
     "text": [
      "\r",
      "94.1%"
     ]
    },
    {
     "name": "stderr",
     "output_type": "stream",
     "text": [
      "\r",
      "94.2%"
     ]
    },
    {
     "name": "stderr",
     "output_type": "stream",
     "text": [
      "\r",
      "94.3%"
     ]
    },
    {
     "name": "stderr",
     "output_type": "stream",
     "text": [
      "\r",
      "94.4%"
     ]
    },
    {
     "name": "stderr",
     "output_type": "stream",
     "text": [
      "\r",
      "94.5%"
     ]
    },
    {
     "name": "stderr",
     "output_type": "stream",
     "text": [
      "\r",
      "94.5%"
     ]
    },
    {
     "name": "stderr",
     "output_type": "stream",
     "text": [
      "\r",
      "94.6%"
     ]
    },
    {
     "name": "stderr",
     "output_type": "stream",
     "text": [
      "\r",
      "94.7%"
     ]
    },
    {
     "name": "stderr",
     "output_type": "stream",
     "text": [
      "\r",
      "94.8%"
     ]
    },
    {
     "name": "stderr",
     "output_type": "stream",
     "text": [
      "\r",
      "94.9%"
     ]
    },
    {
     "name": "stderr",
     "output_type": "stream",
     "text": [
      "\r",
      "95.0%"
     ]
    },
    {
     "name": "stderr",
     "output_type": "stream",
     "text": [
      "\r",
      "95.0%"
     ]
    },
    {
     "name": "stderr",
     "output_type": "stream",
     "text": [
      "\r",
      "95.1%"
     ]
    },
    {
     "name": "stderr",
     "output_type": "stream",
     "text": [
      "\r",
      "95.2%"
     ]
    },
    {
     "name": "stderr",
     "output_type": "stream",
     "text": [
      "\r",
      "95.3%"
     ]
    },
    {
     "name": "stderr",
     "output_type": "stream",
     "text": [
      "\r",
      "95.4%"
     ]
    },
    {
     "name": "stderr",
     "output_type": "stream",
     "text": [
      "\r",
      "95.5%"
     ]
    },
    {
     "name": "stderr",
     "output_type": "stream",
     "text": [
      "\r",
      "95.5%"
     ]
    },
    {
     "name": "stderr",
     "output_type": "stream",
     "text": [
      "\r",
      "95.6%"
     ]
    },
    {
     "name": "stderr",
     "output_type": "stream",
     "text": [
      "\r",
      "95.7%"
     ]
    },
    {
     "name": "stderr",
     "output_type": "stream",
     "text": [
      "\r",
      "95.8%"
     ]
    },
    {
     "name": "stderr",
     "output_type": "stream",
     "text": [
      "\r",
      "95.9%"
     ]
    },
    {
     "name": "stderr",
     "output_type": "stream",
     "text": [
      "\r",
      "95.9%"
     ]
    },
    {
     "name": "stderr",
     "output_type": "stream",
     "text": [
      "\r",
      "96.0%"
     ]
    },
    {
     "name": "stderr",
     "output_type": "stream",
     "text": [
      "\r",
      "96.1%"
     ]
    },
    {
     "name": "stderr",
     "output_type": "stream",
     "text": [
      "\r",
      "96.2%"
     ]
    },
    {
     "name": "stderr",
     "output_type": "stream",
     "text": [
      "\r",
      "96.3%"
     ]
    },
    {
     "name": "stderr",
     "output_type": "stream",
     "text": [
      "\r",
      "96.4%"
     ]
    },
    {
     "name": "stderr",
     "output_type": "stream",
     "text": [
      "\r",
      "96.4%"
     ]
    },
    {
     "name": "stderr",
     "output_type": "stream",
     "text": [
      "\r",
      "96.5%"
     ]
    },
    {
     "name": "stderr",
     "output_type": "stream",
     "text": [
      "\r",
      "96.6%"
     ]
    },
    {
     "name": "stderr",
     "output_type": "stream",
     "text": [
      "\r",
      "96.7%"
     ]
    },
    {
     "name": "stderr",
     "output_type": "stream",
     "text": [
      "\r",
      "96.8%"
     ]
    },
    {
     "name": "stderr",
     "output_type": "stream",
     "text": [
      "\r",
      "96.9%"
     ]
    },
    {
     "name": "stderr",
     "output_type": "stream",
     "text": [
      "\r",
      "96.9%"
     ]
    },
    {
     "name": "stderr",
     "output_type": "stream",
     "text": [
      "\r",
      "97.0%"
     ]
    },
    {
     "name": "stderr",
     "output_type": "stream",
     "text": [
      "\r",
      "97.1%"
     ]
    },
    {
     "name": "stderr",
     "output_type": "stream",
     "text": [
      "\r",
      "97.2%"
     ]
    },
    {
     "name": "stderr",
     "output_type": "stream",
     "text": [
      "\r",
      "97.3%"
     ]
    },
    {
     "name": "stderr",
     "output_type": "stream",
     "text": [
      "\r",
      "97.4%"
     ]
    },
    {
     "name": "stderr",
     "output_type": "stream",
     "text": [
      "\r",
      "97.4%"
     ]
    },
    {
     "name": "stderr",
     "output_type": "stream",
     "text": [
      "\r",
      "97.5%"
     ]
    },
    {
     "name": "stderr",
     "output_type": "stream",
     "text": [
      "\r",
      "97.6%"
     ]
    },
    {
     "name": "stderr",
     "output_type": "stream",
     "text": [
      "\r",
      "97.7%"
     ]
    },
    {
     "name": "stderr",
     "output_type": "stream",
     "text": [
      "\r",
      "97.8%"
     ]
    },
    {
     "name": "stderr",
     "output_type": "stream",
     "text": [
      "\r",
      "97.9%"
     ]
    },
    {
     "name": "stderr",
     "output_type": "stream",
     "text": [
      "\r",
      "97.9%"
     ]
    },
    {
     "name": "stderr",
     "output_type": "stream",
     "text": [
      "\r",
      "98.0%"
     ]
    },
    {
     "name": "stderr",
     "output_type": "stream",
     "text": [
      "\r",
      "98.1%"
     ]
    },
    {
     "name": "stderr",
     "output_type": "stream",
     "text": [
      "\r",
      "98.2%"
     ]
    },
    {
     "name": "stderr",
     "output_type": "stream",
     "text": [
      "\r",
      "98.3%"
     ]
    },
    {
     "name": "stderr",
     "output_type": "stream",
     "text": [
      "\r",
      "98.3%"
     ]
    },
    {
     "name": "stderr",
     "output_type": "stream",
     "text": [
      "\r",
      "98.4%"
     ]
    },
    {
     "name": "stderr",
     "output_type": "stream",
     "text": [
      "\r",
      "98.5%"
     ]
    },
    {
     "name": "stderr",
     "output_type": "stream",
     "text": [
      "\r",
      "98.6%"
     ]
    },
    {
     "name": "stderr",
     "output_type": "stream",
     "text": [
      "\r",
      "98.7%"
     ]
    },
    {
     "name": "stderr",
     "output_type": "stream",
     "text": [
      "\r",
      "98.8%"
     ]
    },
    {
     "name": "stderr",
     "output_type": "stream",
     "text": [
      "\r",
      "98.8%"
     ]
    },
    {
     "name": "stderr",
     "output_type": "stream",
     "text": [
      "\r",
      "98.9%"
     ]
    },
    {
     "name": "stderr",
     "output_type": "stream",
     "text": [
      "\r",
      "99.0%"
     ]
    },
    {
     "name": "stderr",
     "output_type": "stream",
     "text": [
      "\r",
      "99.1%"
     ]
    },
    {
     "name": "stderr",
     "output_type": "stream",
     "text": [
      "\r",
      "99.2%"
     ]
    },
    {
     "name": "stderr",
     "output_type": "stream",
     "text": [
      "\r",
      "99.3%"
     ]
    },
    {
     "name": "stderr",
     "output_type": "stream",
     "text": [
      "\r",
      "99.3%"
     ]
    },
    {
     "name": "stderr",
     "output_type": "stream",
     "text": [
      "\r",
      "99.4%"
     ]
    },
    {
     "name": "stderr",
     "output_type": "stream",
     "text": [
      "\r",
      "99.5%"
     ]
    },
    {
     "name": "stderr",
     "output_type": "stream",
     "text": [
      "\r",
      "99.6%"
     ]
    },
    {
     "name": "stderr",
     "output_type": "stream",
     "text": [
      "\r",
      "99.7%"
     ]
    },
    {
     "name": "stderr",
     "output_type": "stream",
     "text": [
      "\r",
      "99.8%"
     ]
    },
    {
     "name": "stderr",
     "output_type": "stream",
     "text": [
      "\r",
      "99.8%"
     ]
    },
    {
     "name": "stderr",
     "output_type": "stream",
     "text": [
      "\r",
      "99.9%"
     ]
    },
    {
     "name": "stderr",
     "output_type": "stream",
     "text": [
      "\r",
      "100.0%"
     ]
    },
    {
     "name": "stderr",
     "output_type": "stream",
     "text": [
      "\r",
      "100.1%"
     ]
    },
    {
     "name": "stdout",
     "output_type": "stream",
     "text": [
      "Extracting ./data/MNIST/raw/train-images-idx3-ubyte.gz to ./data/MNIST/raw\n"
     ]
    },
    {
     "name": "stderr",
     "output_type": "stream",
     "text": [
      "\r",
      "0.0%"
     ]
    },
    {
     "name": "stderr",
     "output_type": "stream",
     "text": [
      "\r",
      "28.4%"
     ]
    },
    {
     "name": "stderr",
     "output_type": "stream",
     "text": [
      "\r",
      "56.7%"
     ]
    },
    {
     "name": "stderr",
     "output_type": "stream",
     "text": [
      "\r",
      "85.1%"
     ]
    },
    {
     "name": "stderr",
     "output_type": "stream",
     "text": [
      "\r",
      "113.5%"
     ]
    },
    {
     "name": "stderr",
     "output_type": "stream",
     "text": [
      "\r",
      "0.0%"
     ]
    },
    {
     "name": "stderr",
     "output_type": "stream",
     "text": [
      "\r",
      "0.5%"
     ]
    },
    {
     "name": "stdout",
     "output_type": "stream",
     "text": [
      "Downloading http://yann.lecun.com/exdb/mnist/train-labels-idx1-ubyte.gz to ./data/MNIST/raw/train-labels-idx1-ubyte.gz\n",
      "Extracting ./data/MNIST/raw/train-labels-idx1-ubyte.gz to ./data/MNIST/raw\n",
      "Downloading http://yann.lecun.com/exdb/mnist/t10k-images-idx3-ubyte.gz to ./data/MNIST/raw/t10k-images-idx3-ubyte.gz\n"
     ]
    },
    {
     "name": "stderr",
     "output_type": "stream",
     "text": [
      "\r",
      "1.0%"
     ]
    },
    {
     "name": "stderr",
     "output_type": "stream",
     "text": [
      "\r",
      "1.5%"
     ]
    },
    {
     "name": "stderr",
     "output_type": "stream",
     "text": [
      "\r",
      "2.0%"
     ]
    },
    {
     "name": "stderr",
     "output_type": "stream",
     "text": [
      "\r",
      "2.5%"
     ]
    },
    {
     "name": "stderr",
     "output_type": "stream",
     "text": [
      "\r",
      "3.0%"
     ]
    },
    {
     "name": "stderr",
     "output_type": "stream",
     "text": [
      "\r",
      "3.5%"
     ]
    },
    {
     "name": "stderr",
     "output_type": "stream",
     "text": [
      "\r",
      "4.0%"
     ]
    },
    {
     "name": "stderr",
     "output_type": "stream",
     "text": [
      "\r",
      "4.5%"
     ]
    },
    {
     "name": "stderr",
     "output_type": "stream",
     "text": [
      "\r",
      "5.0%"
     ]
    },
    {
     "name": "stderr",
     "output_type": "stream",
     "text": [
      "\r",
      "5.5%"
     ]
    },
    {
     "name": "stderr",
     "output_type": "stream",
     "text": [
      "\r",
      "6.0%"
     ]
    },
    {
     "name": "stderr",
     "output_type": "stream",
     "text": [
      "\r",
      "6.5%"
     ]
    },
    {
     "name": "stderr",
     "output_type": "stream",
     "text": [
      "\r",
      "7.0%"
     ]
    },
    {
     "name": "stderr",
     "output_type": "stream",
     "text": [
      "\r",
      "7.5%"
     ]
    },
    {
     "name": "stderr",
     "output_type": "stream",
     "text": [
      "\r",
      "7.9%"
     ]
    },
    {
     "name": "stderr",
     "output_type": "stream",
     "text": [
      "\r",
      "8.4%"
     ]
    },
    {
     "name": "stderr",
     "output_type": "stream",
     "text": [
      "\r",
      "8.9%"
     ]
    },
    {
     "name": "stderr",
     "output_type": "stream",
     "text": [
      "\r",
      "9.4%"
     ]
    },
    {
     "name": "stderr",
     "output_type": "stream",
     "text": [
      "\r",
      "9.9%"
     ]
    },
    {
     "name": "stderr",
     "output_type": "stream",
     "text": [
      "\r",
      "10.4%"
     ]
    },
    {
     "name": "stderr",
     "output_type": "stream",
     "text": [
      "\r",
      "10.9%"
     ]
    },
    {
     "name": "stderr",
     "output_type": "stream",
     "text": [
      "\r",
      "11.4%"
     ]
    },
    {
     "name": "stderr",
     "output_type": "stream",
     "text": [
      "\r",
      "11.9%"
     ]
    },
    {
     "name": "stderr",
     "output_type": "stream",
     "text": [
      "\r",
      "12.4%"
     ]
    },
    {
     "name": "stderr",
     "output_type": "stream",
     "text": [
      "\r",
      "12.9%"
     ]
    },
    {
     "name": "stderr",
     "output_type": "stream",
     "text": [
      "\r",
      "13.4%"
     ]
    },
    {
     "name": "stderr",
     "output_type": "stream",
     "text": [
      "\r",
      "13.9%"
     ]
    },
    {
     "name": "stderr",
     "output_type": "stream",
     "text": [
      "\r",
      "14.4%"
     ]
    },
    {
     "name": "stderr",
     "output_type": "stream",
     "text": [
      "\r",
      "14.9%"
     ]
    },
    {
     "name": "stderr",
     "output_type": "stream",
     "text": [
      "\r",
      "15.4%"
     ]
    },
    {
     "name": "stderr",
     "output_type": "stream",
     "text": [
      "\r",
      "15.9%"
     ]
    },
    {
     "name": "stderr",
     "output_type": "stream",
     "text": [
      "\r",
      "16.4%"
     ]
    },
    {
     "name": "stderr",
     "output_type": "stream",
     "text": [
      "\r",
      "16.9%"
     ]
    },
    {
     "name": "stderr",
     "output_type": "stream",
     "text": [
      "\r",
      "17.4%"
     ]
    },
    {
     "name": "stderr",
     "output_type": "stream",
     "text": [
      "\r",
      "17.9%"
     ]
    },
    {
     "name": "stderr",
     "output_type": "stream",
     "text": [
      "\r",
      "18.4%"
     ]
    },
    {
     "name": "stderr",
     "output_type": "stream",
     "text": [
      "\r",
      "18.9%"
     ]
    },
    {
     "name": "stderr",
     "output_type": "stream",
     "text": [
      "\r",
      "19.4%"
     ]
    },
    {
     "name": "stderr",
     "output_type": "stream",
     "text": [
      "\r",
      "19.9%"
     ]
    },
    {
     "name": "stderr",
     "output_type": "stream",
     "text": [
      "\r",
      "20.4%"
     ]
    },
    {
     "name": "stderr",
     "output_type": "stream",
     "text": [
      "\r",
      "20.9%"
     ]
    },
    {
     "name": "stderr",
     "output_type": "stream",
     "text": [
      "\r",
      "21.4%"
     ]
    },
    {
     "name": "stderr",
     "output_type": "stream",
     "text": [
      "\r",
      "21.9%"
     ]
    },
    {
     "name": "stderr",
     "output_type": "stream",
     "text": [
      "\r",
      "22.4%"
     ]
    },
    {
     "name": "stderr",
     "output_type": "stream",
     "text": [
      "\r",
      "22.9%"
     ]
    },
    {
     "name": "stderr",
     "output_type": "stream",
     "text": [
      "\r",
      "23.4%"
     ]
    },
    {
     "name": "stderr",
     "output_type": "stream",
     "text": [
      "\r",
      "23.8%"
     ]
    },
    {
     "name": "stderr",
     "output_type": "stream",
     "text": [
      "\r",
      "24.3%"
     ]
    },
    {
     "name": "stderr",
     "output_type": "stream",
     "text": [
      "\r",
      "24.8%"
     ]
    },
    {
     "name": "stderr",
     "output_type": "stream",
     "text": [
      "\r",
      "25.3%"
     ]
    },
    {
     "name": "stderr",
     "output_type": "stream",
     "text": [
      "\r",
      "25.8%"
     ]
    },
    {
     "name": "stderr",
     "output_type": "stream",
     "text": [
      "\r",
      "26.3%"
     ]
    },
    {
     "name": "stderr",
     "output_type": "stream",
     "text": [
      "\r",
      "26.8%"
     ]
    },
    {
     "name": "stderr",
     "output_type": "stream",
     "text": [
      "\r",
      "27.3%"
     ]
    },
    {
     "name": "stderr",
     "output_type": "stream",
     "text": [
      "\r",
      "27.8%"
     ]
    },
    {
     "name": "stderr",
     "output_type": "stream",
     "text": [
      "\r",
      "28.3%"
     ]
    },
    {
     "name": "stderr",
     "output_type": "stream",
     "text": [
      "\r",
      "28.8%"
     ]
    },
    {
     "name": "stderr",
     "output_type": "stream",
     "text": [
      "\r",
      "29.3%"
     ]
    },
    {
     "name": "stderr",
     "output_type": "stream",
     "text": [
      "\r",
      "29.8%"
     ]
    },
    {
     "name": "stderr",
     "output_type": "stream",
     "text": [
      "\r",
      "30.3%"
     ]
    },
    {
     "name": "stderr",
     "output_type": "stream",
     "text": [
      "\r",
      "30.8%"
     ]
    },
    {
     "name": "stderr",
     "output_type": "stream",
     "text": [
      "\r",
      "31.3%"
     ]
    },
    {
     "name": "stderr",
     "output_type": "stream",
     "text": [
      "\r",
      "31.8%"
     ]
    },
    {
     "name": "stderr",
     "output_type": "stream",
     "text": [
      "\r",
      "32.3%"
     ]
    },
    {
     "name": "stderr",
     "output_type": "stream",
     "text": [
      "\r",
      "32.8%"
     ]
    },
    {
     "name": "stderr",
     "output_type": "stream",
     "text": [
      "\r",
      "33.3%"
     ]
    },
    {
     "name": "stderr",
     "output_type": "stream",
     "text": [
      "\r",
      "33.8%"
     ]
    },
    {
     "name": "stderr",
     "output_type": "stream",
     "text": [
      "\r",
      "34.3%"
     ]
    },
    {
     "name": "stderr",
     "output_type": "stream",
     "text": [
      "\r",
      "34.8%"
     ]
    },
    {
     "name": "stderr",
     "output_type": "stream",
     "text": [
      "\r",
      "35.3%"
     ]
    },
    {
     "name": "stderr",
     "output_type": "stream",
     "text": [
      "\r",
      "35.8%"
     ]
    },
    {
     "name": "stderr",
     "output_type": "stream",
     "text": [
      "\r",
      "36.3%"
     ]
    },
    {
     "name": "stderr",
     "output_type": "stream",
     "text": [
      "\r",
      "36.8%"
     ]
    },
    {
     "name": "stderr",
     "output_type": "stream",
     "text": [
      "\r",
      "37.3%"
     ]
    },
    {
     "name": "stderr",
     "output_type": "stream",
     "text": [
      "\r",
      "37.8%"
     ]
    },
    {
     "name": "stderr",
     "output_type": "stream",
     "text": [
      "\r",
      "38.3%"
     ]
    },
    {
     "name": "stderr",
     "output_type": "stream",
     "text": [
      "\r",
      "38.8%"
     ]
    },
    {
     "name": "stderr",
     "output_type": "stream",
     "text": [
      "\r",
      "39.2%"
     ]
    },
    {
     "name": "stderr",
     "output_type": "stream",
     "text": [
      "\r",
      "39.7%"
     ]
    },
    {
     "name": "stderr",
     "output_type": "stream",
     "text": [
      "\r",
      "40.2%"
     ]
    },
    {
     "name": "stderr",
     "output_type": "stream",
     "text": [
      "\r",
      "40.7%"
     ]
    },
    {
     "name": "stderr",
     "output_type": "stream",
     "text": [
      "\r",
      "41.2%"
     ]
    },
    {
     "name": "stderr",
     "output_type": "stream",
     "text": [
      "\r",
      "41.7%"
     ]
    },
    {
     "name": "stderr",
     "output_type": "stream",
     "text": [
      "\r",
      "42.2%"
     ]
    },
    {
     "name": "stderr",
     "output_type": "stream",
     "text": [
      "\r",
      "42.7%"
     ]
    },
    {
     "name": "stderr",
     "output_type": "stream",
     "text": [
      "\r",
      "43.2%"
     ]
    },
    {
     "name": "stderr",
     "output_type": "stream",
     "text": [
      "\r",
      "43.7%"
     ]
    },
    {
     "name": "stderr",
     "output_type": "stream",
     "text": [
      "\r",
      "44.2%"
     ]
    },
    {
     "name": "stderr",
     "output_type": "stream",
     "text": [
      "\r",
      "44.7%"
     ]
    },
    {
     "name": "stderr",
     "output_type": "stream",
     "text": [
      "\r",
      "45.2%"
     ]
    },
    {
     "name": "stderr",
     "output_type": "stream",
     "text": [
      "\r",
      "45.7%"
     ]
    },
    {
     "name": "stderr",
     "output_type": "stream",
     "text": [
      "\r",
      "46.2%"
     ]
    },
    {
     "name": "stderr",
     "output_type": "stream",
     "text": [
      "\r",
      "46.7%"
     ]
    },
    {
     "name": "stderr",
     "output_type": "stream",
     "text": [
      "\r",
      "47.2%"
     ]
    },
    {
     "name": "stderr",
     "output_type": "stream",
     "text": [
      "\r",
      "47.7%"
     ]
    },
    {
     "name": "stderr",
     "output_type": "stream",
     "text": [
      "\r",
      "48.2%"
     ]
    },
    {
     "name": "stderr",
     "output_type": "stream",
     "text": [
      "\r",
      "48.7%"
     ]
    },
    {
     "name": "stderr",
     "output_type": "stream",
     "text": [
      "\r",
      "49.2%"
     ]
    },
    {
     "name": "stderr",
     "output_type": "stream",
     "text": [
      "\r",
      "49.7%"
     ]
    },
    {
     "name": "stderr",
     "output_type": "stream",
     "text": [
      "\r",
      "50.2%"
     ]
    },
    {
     "name": "stderr",
     "output_type": "stream",
     "text": [
      "\r",
      "50.7%"
     ]
    },
    {
     "name": "stderr",
     "output_type": "stream",
     "text": [
      "\r",
      "51.2%"
     ]
    },
    {
     "name": "stderr",
     "output_type": "stream",
     "text": [
      "\r",
      "51.7%"
     ]
    },
    {
     "name": "stderr",
     "output_type": "stream",
     "text": [
      "\r",
      "52.2%"
     ]
    },
    {
     "name": "stderr",
     "output_type": "stream",
     "text": [
      "\r",
      "52.7%"
     ]
    },
    {
     "name": "stderr",
     "output_type": "stream",
     "text": [
      "\r",
      "53.2%"
     ]
    },
    {
     "name": "stderr",
     "output_type": "stream",
     "text": [
      "\r",
      "53.7%"
     ]
    },
    {
     "name": "stderr",
     "output_type": "stream",
     "text": [
      "\r",
      "54.2%"
     ]
    },
    {
     "name": "stderr",
     "output_type": "stream",
     "text": [
      "\r",
      "54.7%"
     ]
    },
    {
     "name": "stderr",
     "output_type": "stream",
     "text": [
      "\r",
      "55.1%"
     ]
    },
    {
     "name": "stderr",
     "output_type": "stream",
     "text": [
      "\r",
      "55.6%"
     ]
    },
    {
     "name": "stderr",
     "output_type": "stream",
     "text": [
      "\r",
      "56.1%"
     ]
    },
    {
     "name": "stderr",
     "output_type": "stream",
     "text": [
      "\r",
      "56.6%"
     ]
    },
    {
     "name": "stderr",
     "output_type": "stream",
     "text": [
      "\r",
      "57.1%"
     ]
    },
    {
     "name": "stderr",
     "output_type": "stream",
     "text": [
      "\r",
      "57.6%"
     ]
    },
    {
     "name": "stderr",
     "output_type": "stream",
     "text": [
      "\r",
      "58.1%"
     ]
    },
    {
     "name": "stderr",
     "output_type": "stream",
     "text": [
      "\r",
      "58.6%"
     ]
    },
    {
     "name": "stderr",
     "output_type": "stream",
     "text": [
      "\r",
      "59.1%"
     ]
    },
    {
     "name": "stderr",
     "output_type": "stream",
     "text": [
      "\r",
      "59.6%"
     ]
    },
    {
     "name": "stderr",
     "output_type": "stream",
     "text": [
      "\r",
      "60.1%"
     ]
    },
    {
     "name": "stderr",
     "output_type": "stream",
     "text": [
      "\r",
      "60.6%"
     ]
    },
    {
     "name": "stderr",
     "output_type": "stream",
     "text": [
      "\r",
      "61.1%"
     ]
    },
    {
     "name": "stderr",
     "output_type": "stream",
     "text": [
      "\r",
      "61.6%"
     ]
    },
    {
     "name": "stderr",
     "output_type": "stream",
     "text": [
      "\r",
      "62.1%"
     ]
    },
    {
     "name": "stderr",
     "output_type": "stream",
     "text": [
      "\r",
      "62.6%"
     ]
    },
    {
     "name": "stderr",
     "output_type": "stream",
     "text": [
      "\r",
      "63.1%"
     ]
    },
    {
     "name": "stderr",
     "output_type": "stream",
     "text": [
      "\r",
      "63.6%"
     ]
    },
    {
     "name": "stderr",
     "output_type": "stream",
     "text": [
      "\r",
      "64.1%"
     ]
    },
    {
     "name": "stderr",
     "output_type": "stream",
     "text": [
      "\r",
      "64.6%"
     ]
    },
    {
     "name": "stderr",
     "output_type": "stream",
     "text": [
      "\r",
      "65.1%"
     ]
    },
    {
     "name": "stderr",
     "output_type": "stream",
     "text": [
      "\r",
      "65.6%"
     ]
    },
    {
     "name": "stderr",
     "output_type": "stream",
     "text": [
      "\r",
      "66.1%"
     ]
    },
    {
     "name": "stderr",
     "output_type": "stream",
     "text": [
      "\r",
      "66.6%"
     ]
    },
    {
     "name": "stderr",
     "output_type": "stream",
     "text": [
      "\r",
      "67.1%"
     ]
    },
    {
     "name": "stderr",
     "output_type": "stream",
     "text": [
      "\r",
      "67.6%"
     ]
    },
    {
     "name": "stderr",
     "output_type": "stream",
     "text": [
      "\r",
      "68.1%"
     ]
    },
    {
     "name": "stderr",
     "output_type": "stream",
     "text": [
      "\r",
      "68.6%"
     ]
    },
    {
     "name": "stderr",
     "output_type": "stream",
     "text": [
      "\r",
      "69.1%"
     ]
    },
    {
     "name": "stderr",
     "output_type": "stream",
     "text": [
      "\r",
      "69.6%"
     ]
    },
    {
     "name": "stderr",
     "output_type": "stream",
     "text": [
      "\r",
      "70.1%"
     ]
    },
    {
     "name": "stderr",
     "output_type": "stream",
     "text": [
      "\r",
      "70.5%"
     ]
    },
    {
     "name": "stderr",
     "output_type": "stream",
     "text": [
      "\r",
      "71.0%"
     ]
    },
    {
     "name": "stderr",
     "output_type": "stream",
     "text": [
      "\r",
      "71.5%"
     ]
    },
    {
     "name": "stderr",
     "output_type": "stream",
     "text": [
      "\r",
      "72.0%"
     ]
    },
    {
     "name": "stderr",
     "output_type": "stream",
     "text": [
      "\r",
      "72.5%"
     ]
    },
    {
     "name": "stderr",
     "output_type": "stream",
     "text": [
      "\r",
      "73.0%"
     ]
    },
    {
     "name": "stderr",
     "output_type": "stream",
     "text": [
      "\r",
      "73.5%"
     ]
    },
    {
     "name": "stderr",
     "output_type": "stream",
     "text": [
      "\r",
      "74.0%"
     ]
    },
    {
     "name": "stderr",
     "output_type": "stream",
     "text": [
      "\r",
      "74.5%"
     ]
    },
    {
     "name": "stderr",
     "output_type": "stream",
     "text": [
      "\r",
      "75.0%"
     ]
    },
    {
     "name": "stderr",
     "output_type": "stream",
     "text": [
      "\r",
      "75.5%"
     ]
    },
    {
     "name": "stderr",
     "output_type": "stream",
     "text": [
      "\r",
      "76.0%"
     ]
    },
    {
     "name": "stderr",
     "output_type": "stream",
     "text": [
      "\r",
      "76.5%"
     ]
    },
    {
     "name": "stderr",
     "output_type": "stream",
     "text": [
      "\r",
      "77.0%"
     ]
    },
    {
     "name": "stderr",
     "output_type": "stream",
     "text": [
      "\r",
      "77.5%"
     ]
    },
    {
     "name": "stderr",
     "output_type": "stream",
     "text": [
      "\r",
      "78.0%"
     ]
    },
    {
     "name": "stderr",
     "output_type": "stream",
     "text": [
      "\r",
      "78.5%"
     ]
    },
    {
     "name": "stderr",
     "output_type": "stream",
     "text": [
      "\r",
      "79.0%"
     ]
    },
    {
     "name": "stderr",
     "output_type": "stream",
     "text": [
      "\r",
      "79.5%"
     ]
    },
    {
     "name": "stderr",
     "output_type": "stream",
     "text": [
      "\r",
      "80.0%"
     ]
    },
    {
     "name": "stderr",
     "output_type": "stream",
     "text": [
      "\r",
      "80.5%"
     ]
    },
    {
     "name": "stderr",
     "output_type": "stream",
     "text": [
      "\r",
      "81.0%"
     ]
    },
    {
     "name": "stderr",
     "output_type": "stream",
     "text": [
      "\r",
      "81.5%"
     ]
    },
    {
     "name": "stderr",
     "output_type": "stream",
     "text": [
      "\r",
      "82.0%"
     ]
    },
    {
     "name": "stderr",
     "output_type": "stream",
     "text": [
      "\r",
      "82.5%"
     ]
    },
    {
     "name": "stderr",
     "output_type": "stream",
     "text": [
      "\r",
      "83.0%"
     ]
    },
    {
     "name": "stderr",
     "output_type": "stream",
     "text": [
      "\r",
      "83.5%"
     ]
    },
    {
     "name": "stderr",
     "output_type": "stream",
     "text": [
      "\r",
      "84.0%"
     ]
    },
    {
     "name": "stderr",
     "output_type": "stream",
     "text": [
      "\r",
      "84.5%"
     ]
    },
    {
     "name": "stderr",
     "output_type": "stream",
     "text": [
      "\r",
      "85.0%"
     ]
    },
    {
     "name": "stderr",
     "output_type": "stream",
     "text": [
      "\r",
      "85.5%"
     ]
    },
    {
     "name": "stderr",
     "output_type": "stream",
     "text": [
      "\r",
      "86.0%"
     ]
    },
    {
     "name": "stderr",
     "output_type": "stream",
     "text": [
      "\r",
      "86.4%"
     ]
    },
    {
     "name": "stderr",
     "output_type": "stream",
     "text": [
      "\r",
      "86.9%"
     ]
    },
    {
     "name": "stderr",
     "output_type": "stream",
     "text": [
      "\r",
      "87.4%"
     ]
    },
    {
     "name": "stderr",
     "output_type": "stream",
     "text": [
      "\r",
      "87.9%"
     ]
    },
    {
     "name": "stderr",
     "output_type": "stream",
     "text": [
      "\r",
      "88.4%"
     ]
    },
    {
     "name": "stderr",
     "output_type": "stream",
     "text": [
      "\r",
      "88.9%"
     ]
    },
    {
     "name": "stderr",
     "output_type": "stream",
     "text": [
      "\r",
      "89.4%"
     ]
    },
    {
     "name": "stderr",
     "output_type": "stream",
     "text": [
      "\r",
      "89.9%"
     ]
    },
    {
     "name": "stderr",
     "output_type": "stream",
     "text": [
      "\r",
      "90.4%"
     ]
    },
    {
     "name": "stderr",
     "output_type": "stream",
     "text": [
      "\r",
      "90.9%"
     ]
    },
    {
     "name": "stderr",
     "output_type": "stream",
     "text": [
      "\r",
      "91.4%"
     ]
    },
    {
     "name": "stderr",
     "output_type": "stream",
     "text": [
      "\r",
      "91.9%"
     ]
    },
    {
     "name": "stderr",
     "output_type": "stream",
     "text": [
      "\r",
      "92.4%"
     ]
    },
    {
     "name": "stderr",
     "output_type": "stream",
     "text": [
      "\r",
      "92.9%"
     ]
    },
    {
     "name": "stderr",
     "output_type": "stream",
     "text": [
      "\r",
      "93.4%"
     ]
    },
    {
     "name": "stderr",
     "output_type": "stream",
     "text": [
      "\r",
      "93.9%"
     ]
    },
    {
     "name": "stderr",
     "output_type": "stream",
     "text": [
      "\r",
      "94.4%"
     ]
    },
    {
     "name": "stderr",
     "output_type": "stream",
     "text": [
      "\r",
      "94.9%"
     ]
    },
    {
     "name": "stderr",
     "output_type": "stream",
     "text": [
      "\r",
      "95.4%"
     ]
    },
    {
     "name": "stderr",
     "output_type": "stream",
     "text": [
      "\r",
      "95.9%"
     ]
    },
    {
     "name": "stderr",
     "output_type": "stream",
     "text": [
      "\r",
      "96.4%"
     ]
    },
    {
     "name": "stderr",
     "output_type": "stream",
     "text": [
      "\r",
      "96.9%"
     ]
    },
    {
     "name": "stderr",
     "output_type": "stream",
     "text": [
      "\r",
      "97.4%"
     ]
    },
    {
     "name": "stderr",
     "output_type": "stream",
     "text": [
      "\r",
      "97.9%"
     ]
    },
    {
     "name": "stderr",
     "output_type": "stream",
     "text": [
      "\r",
      "98.4%"
     ]
    },
    {
     "name": "stderr",
     "output_type": "stream",
     "text": [
      "\r",
      "98.9%"
     ]
    },
    {
     "name": "stderr",
     "output_type": "stream",
     "text": [
      "\r",
      "99.4%"
     ]
    },
    {
     "name": "stderr",
     "output_type": "stream",
     "text": [
      "\r",
      "99.9%"
     ]
    },
    {
     "name": "stderr",
     "output_type": "stream",
     "text": [
      "\r",
      "100.4%"
     ]
    },
    {
     "name": "stderr",
     "output_type": "stream",
     "text": [
      "\r",
      "0.0%"
     ]
    },
    {
     "name": "stderr",
     "output_type": "stream",
     "text": [
      "\r",
      "180.4%"
     ]
    },
    {
     "name": "stdout",
     "output_type": "stream",
     "text": [
      "Extracting ./data/MNIST/raw/t10k-images-idx3-ubyte.gz to ./data/MNIST/raw\n",
      "Downloading http://yann.lecun.com/exdb/mnist/t10k-labels-idx1-ubyte.gz to ./data/MNIST/raw/t10k-labels-idx1-ubyte.gz\n",
      "Extracting ./data/MNIST/raw/t10k-labels-idx1-ubyte.gz to ./data/MNIST/raw\n",
      "Processing...\n"
     ]
    },
    {
     "name": "stdout",
     "output_type": "stream",
     "text": [
      "Done!\n"
     ]
    }
   ],
   "source": [
    "BATCH_SIZE = 512\n",
    "train_loader, valid_loader, test_loader = load_mnist(batch_size=BATCH_SIZE)"
   ]
  },
  {
   "cell_type": "markdown",
   "metadata": {},
   "source": [
    "## 2. Define function to optimize\n",
    "In this tutorial, we want to optimize classification accuracy on the validation set as a function of the learning rate and momentum. The function takes in a parameterization (set of parameter values), computes the classification accuracy, and returns a dictionary of metric name ('accuracy') to a tuple with the mean and standard error."
   ]
  },
  {
   "cell_type": "code",
   "execution_count": 4,
   "metadata": {
    "collapsed": true
   },
   "outputs": [],
   "source": [
    "def train_evaluate(parameterization):\n",
    "    net = CNN()\n",
    "    net = train(net=net, train_loader=train_loader, parameters=parameterization, dtype=dtype, device=device)\n",
    "    return evaluate(\n",
    "        net=net,\n",
    "        data_loader=valid_loader,\n",
    "        dtype=dtype,\n",
    "        device=device,\n",
    "    )"
   ]
  },
  {
   "cell_type": "markdown",
   "metadata": {},
   "source": [
    "## 3. Run the optimization loop\n",
    "Here, we set the bounds on the learning rate and momentum and set the parameter space for the learning rate to be on a log scale. "
   ]
  },
  {
   "cell_type": "code",
   "execution_count": 5,
   "metadata": {},
   "outputs": [
    {
     "name": "stderr",
     "output_type": "stream",
     "text": [
      "[INFO 08-11 19:15:51] ax.service.utils.dispatch: Using Bayesian Optimization generation strategy. Iterations after 5 will take longer to generate due to model-fitting.\n"
     ]
    },
    {
     "name": "stderr",
     "output_type": "stream",
     "text": [
      "[INFO 08-11 19:15:51] ax.service.managed_loop: Started full optimization with 20 steps.\n"
     ]
    },
    {
     "name": "stderr",
     "output_type": "stream",
     "text": [
      "[INFO 08-11 19:15:51] ax.service.managed_loop: Running optimization trial 1...\n"
     ]
    },
    {
     "name": "stderr",
     "output_type": "stream",
     "text": [
      "[INFO 08-11 19:16:04] ax.service.managed_loop: Running optimization trial 2...\n"
     ]
    },
    {
     "name": "stderr",
     "output_type": "stream",
     "text": [
      "[INFO 08-11 19:16:17] ax.service.managed_loop: Running optimization trial 3...\n"
     ]
    },
    {
     "name": "stderr",
     "output_type": "stream",
     "text": [
      "[INFO 08-11 19:16:30] ax.service.managed_loop: Running optimization trial 4...\n"
     ]
    },
    {
     "name": "stderr",
     "output_type": "stream",
     "text": [
      "[INFO 08-11 19:16:43] ax.service.managed_loop: Running optimization trial 5...\n"
     ]
    },
    {
     "name": "stderr",
     "output_type": "stream",
     "text": [
      "[INFO 08-11 19:16:55] ax.service.managed_loop: Running optimization trial 6...\n"
     ]
    },
    {
     "name": "stderr",
     "output_type": "stream",
     "text": [
      "[INFO 08-11 19:17:10] ax.service.managed_loop: Running optimization trial 7...\n"
     ]
    },
    {
     "name": "stderr",
     "output_type": "stream",
     "text": [
      "[INFO 08-11 19:17:24] ax.service.managed_loop: Running optimization trial 8...\n"
     ]
    },
    {
     "name": "stderr",
     "output_type": "stream",
     "text": [
      "[INFO 08-11 19:17:37] ax.service.managed_loop: Running optimization trial 9...\n"
     ]
    },
    {
     "name": "stderr",
     "output_type": "stream",
     "text": [
      "[INFO 08-11 19:17:51] ax.service.managed_loop: Running optimization trial 10...\n"
     ]
    },
    {
     "name": "stderr",
     "output_type": "stream",
     "text": [
      "[INFO 08-11 19:18:04] ax.service.managed_loop: Running optimization trial 11...\n"
     ]
    },
    {
     "name": "stderr",
     "output_type": "stream",
     "text": [
      "[INFO 08-11 19:18:18] ax.service.managed_loop: Running optimization trial 12...\n"
     ]
    },
    {
     "name": "stderr",
     "output_type": "stream",
     "text": [
      "[INFO 08-11 19:18:32] ax.service.managed_loop: Running optimization trial 13...\n"
     ]
    },
    {
     "name": "stderr",
     "output_type": "stream",
     "text": [
      "[INFO 08-11 19:18:46] ax.service.managed_loop: Running optimization trial 14...\n"
     ]
    },
    {
     "name": "stderr",
     "output_type": "stream",
     "text": [
      "[INFO 08-11 19:19:00] ax.service.managed_loop: Running optimization trial 15...\n"
     ]
    },
    {
     "name": "stderr",
     "output_type": "stream",
     "text": [
      "[INFO 08-11 19:19:14] ax.service.managed_loop: Running optimization trial 16...\n"
     ]
    },
    {
     "name": "stderr",
     "output_type": "stream",
     "text": [
      "[INFO 08-11 19:19:28] ax.service.managed_loop: Running optimization trial 17...\n"
     ]
    },
    {
     "name": "stderr",
     "output_type": "stream",
     "text": [
      "[INFO 08-11 19:19:42] ax.service.managed_loop: Running optimization trial 18...\n"
     ]
    },
    {
     "name": "stderr",
     "output_type": "stream",
     "text": [
      "[INFO 08-11 19:19:57] ax.service.managed_loop: Running optimization trial 19...\n"
     ]
    },
    {
     "name": "stderr",
     "output_type": "stream",
     "text": [
      "[INFO 08-11 19:20:11] ax.service.managed_loop: Running optimization trial 20...\n"
     ]
    }
   ],
   "source": [
    "best_parameters, values, experiment, model = optimize(\n",
    "    parameters=[\n",
    "        {\"name\": \"lr\", \"type\": \"range\", \"bounds\": [1e-6, 0.4], \"log_scale\": True},\n",
    "        {\"name\": \"momentum\", \"type\": \"range\", \"bounds\": [0.0, 1.0]},\n",
    "    ],\n",
    "    evaluation_function=train_evaluate,\n",
    "    objective_name='accuracy',\n",
    ")"
   ]
  },
  {
   "cell_type": "markdown",
   "metadata": {},
   "source": [
    "We can introspect the optimal parameters and their outcomes:"
   ]
  },
  {
   "cell_type": "code",
   "execution_count": 6,
   "metadata": {},
   "outputs": [
    {
     "data": {
      "text/plain": [
       "{'lr': 0.00010437741258297173, 'momentum': 0.7460324116260116}"
      ]
     },
     "execution_count": 6,
     "metadata": {},
     "output_type": "execute_result"
    }
   ],
   "source": [
    "best_parameters"
   ]
  },
  {
   "cell_type": "code",
   "execution_count": 7,
   "metadata": {},
   "outputs": [
    {
     "data": {
      "text/plain": [
       "({'accuracy': 0.9298254060805002},\n",
       " {'accuracy': {'accuracy': 9.239210091814495e-09}})"
      ]
     },
     "execution_count": 7,
     "metadata": {},
     "output_type": "execute_result"
    }
   ],
   "source": [
    "means, covariances = values\n",
    "means, covariances"
   ]
  },
  {
   "cell_type": "markdown",
   "metadata": {},
   "source": [
    "## 4. Plot response surface\n",
    "\n",
    "Contour plot showing classification accuracy as a function of the two hyperparameters.\n",
    "\n",
    "The black squares show points that we have actually run, notice how they are clustered in the optimal region."
   ]
  },
  {
   "cell_type": "code",
   "execution_count": 8,
   "metadata": {},
   "outputs": [
    {
     "data": {
      "text/html": [
       "<div id=\"059e3eae90f842f581ec24cfae7b65a9\" style=\"width: 100%;\" class=\"plotly-graph-div\"></div><script type='text/javascript'>/*\n",
       " * Copyright (c) Facebook, Inc. and its affiliates. All Rights Reserved.\n",
       " */\n",
       "\n",
       "require(['plotly'], function(Plotly) {\n",
       "  window.PLOTLYENV = window.PLOTLYENV || {};\n",
       "  window.PLOTLYENV.BASE_URL = 'https://plot.ly';\n",
       "  /*\n",
       " * Copyright (c) Facebook, Inc. and its affiliates. All Rights Reserved.\n",
       " */\n",
       "\n",
       "const arm_data = {\"metrics\": [\"accuracy\"], \"in_sample\": {\"0_0\": {\"name\": \"0_0\", \"parameters\": {\"lr\": 0.01011163281930224, \"momentum\": 0.641338586807251}, \"y\": {\"accuracy\": 0.10983333333333334}, \"y_hat\": {\"accuracy\": 0.10983337608842236}, \"se\": {\"accuracy\": 0.0}, \"se_hat\": {\"accuracy\": 9.621622849475869e-05}, \"context_stratum\": null}, \"1_0\": {\"name\": \"1_0\", \"parameters\": {\"lr\": 0.03501525509901435, \"momentum\": 0.07112861424684525}, \"y\": {\"accuracy\": 0.10983333333333334}, \"y_hat\": {\"accuracy\": 0.10983335524559634}, \"se\": {\"accuracy\": 0.0}, \"se_hat\": {\"accuracy\": 9.621623169940359e-05}, \"context_stratum\": null}, \"2_0\": {\"name\": \"2_0\", \"parameters\": {\"lr\": 1.2744938939397625e-06, \"momentum\": 0.8954043388366699}, \"y\": {\"accuracy\": 0.5228333333333334}, \"y_hat\": {\"accuracy\": 0.5228333279666092}, \"se\": {\"accuracy\": 0.0}, \"se_hat\": {\"accuracy\": 9.621622731972221e-05}, \"context_stratum\": null}, \"3_0\": {\"name\": \"3_0\", \"parameters\": {\"lr\": 2.2684688481999786e-05, \"momentum\": 0.24129164218902588}, \"y\": {\"accuracy\": 0.7268333333333333}, \"y_hat\": {\"accuracy\": 0.7268332411620242}, \"se\": {\"accuracy\": 0.0}, \"se_hat\": {\"accuracy\": 9.621612081862822e-05}, \"context_stratum\": null}, \"4_0\": {\"name\": \"4_0\", \"parameters\": {\"lr\": 0.24849559289827733, \"momentum\": 0.7921303510665894}, \"y\": {\"accuracy\": 0.1015}, \"y_hat\": {\"accuracy\": 0.10150000025596373}, \"se\": {\"accuracy\": 0.0}, \"se_hat\": {\"accuracy\": 9.62162334085475e-05}, \"context_stratum\": null}, \"5_0\": {\"name\": \"5_0\", \"parameters\": {\"lr\": 2.1997588294498437e-06, \"momentum\": 0.23554419789566605}, \"y\": {\"accuracy\": 0.23983333333333334}, \"y_hat\": {\"accuracy\": 0.23983341367962835}, \"se\": {\"accuracy\": 0.0}, \"se_hat\": {\"accuracy\": 9.621622368779116e-05}, \"context_stratum\": null}, \"6_0\": {\"name\": \"6_0\", \"parameters\": {\"lr\": 6.28394023554842e-05, \"momentum\": 0.32176809368823683}, \"y\": {\"accuracy\": 0.87}, \"y_hat\": {\"accuracy\": 0.8700003142068905}, \"se\": {\"accuracy\": 0.0}, \"se_hat\": {\"accuracy\": 9.621575826537437e-05}, \"context_stratum\": null}, \"7_0\": {\"name\": \"7_0\", \"parameters\": {\"lr\": 5.30544243929246e-05, \"momentum\": 0.5443657477374659}, \"y\": {\"accuracy\": 0.8883333333333333}, \"y_hat\": {\"accuracy\": 0.8883327505680103}, \"se\": {\"accuracy\": 0.0}, \"se_hat\": {\"accuracy\": 9.621558179523498e-05}, \"context_stratum\": null}, \"8_0\": {\"name\": \"8_0\", \"parameters\": {\"lr\": 0.00012110938843606047, \"momentum\": 0.5100365244840419}, \"y\": {\"accuracy\": 0.911}, \"y_hat\": {\"accuracy\": 0.9109995388696616}, \"se\": {\"accuracy\": 0.0}, \"se_hat\": {\"accuracy\": 9.62146109900362e-05}, \"context_stratum\": null}, \"9_0\": {\"name\": \"9_0\", \"parameters\": {\"lr\": 7.222118387696925e-05, \"momentum\": 1.0}, \"y\": {\"accuracy\": 0.8903333333333333}, \"y_hat\": {\"accuracy\": 0.8903331390777901}, \"se\": {\"accuracy\": 0.0}, \"se_hat\": {\"accuracy\": 9.621591358446653e-05}, \"context_stratum\": null}, \"10_0\": {\"name\": \"10_0\", \"parameters\": {\"lr\": 0.00010437741258297173, \"momentum\": 0.7460324116260116}, \"y\": {\"accuracy\": 0.9298333333333333}, \"y_hat\": {\"accuracy\": 0.9298254060805002}, \"se\": {\"accuracy\": 0.0}, \"se_hat\": {\"accuracy\": 9.612080987910212e-05}, \"context_stratum\": null}, \"11_0\": {\"name\": \"11_0\", \"parameters\": {\"lr\": 0.00021720680589458032, \"momentum\": 1.0}, \"y\": {\"accuracy\": 0.7793333333333333}, \"y_hat\": {\"accuracy\": 0.779333508051319}, \"se\": {\"accuracy\": 0.0}, \"se_hat\": {\"accuracy\": 9.621609902701572e-05}, \"context_stratum\": null}, \"12_0\": {\"name\": \"12_0\", \"parameters\": {\"lr\": 0.0002021603337040669, \"momentum\": 0.0}, \"y\": {\"accuracy\": 0.8763333333333333}, \"y_hat\": {\"accuracy\": 0.8763332907688489}, \"se\": {\"accuracy\": 0.0}, \"se_hat\": {\"accuracy\": 9.62161562833988e-05}, \"context_stratum\": null}, \"13_0\": {\"name\": \"13_0\", \"parameters\": {\"lr\": 7.536689354666621e-05, \"momentum\": 0.7614748008227797}, \"y\": {\"accuracy\": 0.9186666666666666}, \"y_hat\": {\"accuracy\": 0.9186688434311203}, \"se\": {\"accuracy\": 0.0}, \"se_hat\": {\"accuracy\": 9.621178205397402e-05}, \"context_stratum\": null}, \"14_0\": {\"name\": \"14_0\", \"parameters\": {\"lr\": 1.676418942070453e-05, \"momentum\": 0.999999999999995}, \"y\": {\"accuracy\": 0.8531666666666666}, \"y_hat\": {\"accuracy\": 0.8531666077520484}, \"se\": {\"accuracy\": 0.0}, \"se_hat\": {\"accuracy\": 9.621617946367851e-05}, \"context_stratum\": null}, \"15_0\": {\"name\": \"15_0\", \"parameters\": {\"lr\": 0.00010902097431583973, \"momentum\": 0.6809990807134568}, \"y\": {\"accuracy\": 0.9188333333333333}, \"y_hat\": {\"accuracy\": 0.9188378172277882}, \"se\": {\"accuracy\": 0.0}, \"se_hat\": {\"accuracy\": 9.618803897884428e-05}, \"context_stratum\": null}, \"16_0\": {\"name\": \"16_0\", \"parameters\": {\"lr\": 0.0002740134262216627, \"momentum\": 0.253775081732334}, \"y\": {\"accuracy\": 0.9101666666666667}, \"y_hat\": {\"accuracy\": 0.9101665826787066}, \"se\": {\"accuracy\": 0.0}, \"se_hat\": {\"accuracy\": 9.62160748853216e-05}, \"context_stratum\": null}, \"17_0\": {\"name\": \"17_0\", \"parameters\": {\"lr\": 0.00010946911944181772, \"momentum\": 0.8026074108457635}, \"y\": {\"accuracy\": 0.9291666666666667}, \"y_hat\": {\"accuracy\": 0.929168808850861}, \"se\": {\"accuracy\": 0.0}, \"se_hat\": {\"accuracy\": 9.619449502231059e-05}, \"context_stratum\": null}, \"18_0\": {\"name\": \"18_0\", \"parameters\": {\"lr\": 0.0006419400717643271, \"momentum\": 1.8371362522660484e-17}, \"y\": {\"accuracy\": 0.7955}, \"y_hat\": {\"accuracy\": 0.7955000113715857}, \"se\": {\"accuracy\": 0.0}, \"se_hat\": {\"accuracy\": 9.621617892957075e-05}, \"context_stratum\": null}}, \"out_of_sample\": {}, \"status_quo_name\": null};\n",
       "const density = 50;\n",
       "const grid_x = [1e-06, 1.3011511650442548e-06, 1.692994354296022e-06, 2.2028415765056147e-06, 2.866229883678204e-06, 3.729398352432554e-06, 4.852511011181743e-06, 6.3138503555892e-06, 8.215273746089953e-06, 1.0689313005882424e-05, 1.390841207112662e-05, 1.809694657026198e-05, 2.354686311364001e-05, 3.063802837345029e-05, 3.986470631277378e-05, 5.1870009063012666e-05, 6.749072272319499e-05, 8.781563250096393e-05, 0.00011426141253772724, 0.00014867137004306603, 0.00019344392634026088, 0.0002516997901283655, 0.0003274994751669172, 0.0004261263236648159, 0.0005544547624925005, 0.0007214294601814526, 0.000938688782612345, 0.0012213760031100258, 0.0015891948094037057, 0.002067782677737912, 0.0026904978401970136, 0.0035007443993213955, 0.004554997653699184, 0.005926740503884541, 0.007711585311544345, 0.010033938212454078, 0.013055670395116691, 0.01698740074503987, 0.02210317627048227, 0.028759573555516536, 0.03742055263793628, 0.04868979566145066, 0.06335278435066323, 0.0824315491666629, 0.10725590623460621, 0.13955614735503497, 0.18158364372009145, 0.23626776957937787, 0.3074200836506151, 0.4];\n",
       "const grid_y = [0.0, 0.02040816326530612, 0.04081632653061224, 0.061224489795918366, 0.08163265306122448, 0.1020408163265306, 0.12244897959183673, 0.14285714285714285, 0.16326530612244897, 0.18367346938775508, 0.2040816326530612, 0.22448979591836732, 0.24489795918367346, 0.26530612244897955, 0.2857142857142857, 0.3061224489795918, 0.32653061224489793, 0.3469387755102041, 0.36734693877551017, 0.3877551020408163, 0.4081632653061224, 0.42857142857142855, 0.44897959183673464, 0.4693877551020408, 0.4897959183673469, 0.5102040816326531, 0.5306122448979591, 0.5510204081632653, 0.5714285714285714, 0.5918367346938775, 0.6122448979591836, 0.6326530612244897, 0.6530612244897959, 0.673469387755102, 0.6938775510204082, 0.7142857142857142, 0.7346938775510203, 0.7551020408163265, 0.7755102040816326, 0.7959183673469387, 0.8163265306122448, 0.836734693877551, 0.8571428571428571, 0.8775510204081632, 0.8979591836734693, 0.9183673469387754, 0.9387755102040816, 0.9591836734693877, 0.9795918367346939, 1.0];\n",
       "const f = [0.1331234241403627, 0.1529276049727042, 0.17947937727108942, 0.2128115904357618, 0.2525497559795132, 0.2978870593637578, 0.34763549163248214, 0.4003387753458627, 0.45441550830462385, 0.5083081004472241, 0.560625185447063, 0.6102672799375372, 0.6565148463907846, 0.6990418960973362, 0.7378183852458545, 0.7729027208996289, 0.8041863912434797, 0.8311897744382195, 0.8529950743111031, 0.8683494099874824, 0.8759126016056935, 0.8745911123892048, 0.8638418436192886, 0.8437495226992138, 0.8149412867094797, 0.7784419876217659, 0.7355056926258738, 0.6874854828278245, 0.6357604472124575, 0.58168516289073, 0.5265536562264509, 0.47157498626195726, 0.41785734490530124, 0.3663980578651047, 0.31807748916012085, 0.2736552771346356, 0.23376738557501336, 0.1989220638977942, 0.16949200611417958, 0.1456989599980424, 0.12758688008702013, 0.11499023086577365, 0.10753827396400373, 0.10471382895406034, 0.10592085797196638, 0.1105365067072469, 0.11794767553540675, 0.1275753951451294, 0.1388899173370587, 0.1514188934341163, 0.13123555017281707, 0.15127640313895818, 0.17822290376362127, 0.21212613998167484, 0.2526082114719914, 0.2988317974520411, 0.3495555389577973, 0.4032567624543059, 0.45828361592822, 0.5130106554300936, 0.5659878041702442, 0.6160752787127171, 0.6625442040104412, 0.7051008203544894, 0.7437868704916623, 0.7787515264256548, 0.8099641751420903, 0.8369825301744578, 0.8588750745074751, 0.8743336687320834, 0.881943126583989, 0.8805383867904774, 0.8695242408860282, 0.8489645987320646, 0.8194964429465367, 0.7821747728528983, 0.7382936484774341, 0.6892485184077453, 0.6364585799314274, 0.5813146843177178, 0.5251428742678952, 0.4691799096969812, 0.4145573350487012, 0.3622913628346233, 0.3132766069428238, 0.26828220713857076, 0.22794897348284032, 0.1927857665554228, 0.1631624481632541, 0.13929553654933602, 0.12122174866419555, 0.1087629258155618, 0.10152889624187522, 0.09898238188949127, 0.10050943369425303, 0.10547189449100858, 0.11324395329603909, 0.12323636271213068, 0.13491129727975615, 0.14779026270072082, 0.12985365095454693, 0.15012865044388435, 0.1774591096870035, 0.2119158161637376, 0.2531187066488425, 0.30020009905689027, 0.3518650804560459, 0.40652503413783697, 0.46245863289613465, 0.5179731651414137, 0.571559100297608, 0.6220339729290141, 0.6686567204330093, 0.7111651780307309, 0.7496763782047051, 0.7844369034947921, 0.8155008180785616, 0.8424672956231873, 0.8643920203306852, 0.8799112474622781, 0.8875354881245652, 0.886029452625344, 0.8747435587424752, 0.8537181482295768, 0.8235987995214251, 0.7854694747063293, 0.7406633509522371, 0.690617922037414, 0.6367919166424943, 0.5806117756535721, 0.5234349685362586, 0.46652552825513055, 0.4110380582471931, 0.35800741101145417, 0.3083421271957323, 0.2628203127860085, 0.22208675120114035, 0.18664960767747163, 0.15687412133043255, 0.13296935979714686, 0.1149627256237693, 0.10266258962140395, 0.09565988432491279, 0.09339864251357588, 0.09524834293552864, 0.10055663266008252, 0.1086858905679502, 0.11903732381233745, 0.13106562375889452, 0.1442866292051499, 0.12901366272628945, 0.14952188500791963, 0.1772255356451924, 0.2122163801668822, 0.2541135046577984, 0.3020191586633663, 0.3545851039637405, 0.4101580260439359, 0.46694902600974875, 0.523199572948545, 0.5773405626531047, 0.6281445828397407, 0.6748549450192713, 0.7172394545580149, 0.7554930665354711, 0.7899658428579356, 0.8208030098835989, 0.8476491492165474, 0.869547981516275, 0.8850800988911718, 0.892682853468329, 0.891051789282549, 0.879482178719383, 0.8579892329838075, 0.8272261430794478, 0.7883046253897794, 0.7425955947332835, 0.6915774436721351, 0.6367474051791776, 0.5795665713747435, 0.5214231114531633, 0.4636078421437822, 0.4072981202855243, 0.3535472101201542, 0.3032772899404587, 0.25727493283732916, 0.21618804995948077, 0.18052281497463962, 0.15063803376527074, 0.12673298147001233, 0.10882316874946385, 0.09670236664691789, 0.08994375741474303, 0.08797437240914441, 0.09014852764869996, 0.09580081337731838, 0.10428272245311765, 0.1149866681039391, 0.1273604680391771, 0.14091478477796593, 0.1287503217861884, 0.14949275912522386, 0.17755907939004223, 0.21306300578808707, 0.2556241141188314, 0.3043150406644264, 0.3577349834420486, 0.4141680907068583, 0.4717607987881186, 0.5286911341440805, 0.5833310455659626, 0.6344061919902982, 0.6811402940456063, 0.7233283839157468, 0.7612448400287414, 0.7953483799502205, 0.8258813918558926, 0.8525375808099038, 0.8743494576519754, 0.8898422436151449, 0.8973817329321797, 0.895595603323683, 0.8837245707542949, 0.8617585284361277, 0.8303576854281237, 0.7906601663876358, 0.7440726168344118, 0.6921123258549189, 0.6363134828895036, 0.5781706312284622, 0.5191017839197353, 0.4604239987762412, 0.4033370726620571, 0.3489124729746143, 0.29808575950361466, 0.251651506905732, 0.21025993257949366, 0.17441393216475232, 0.14446406243320786, 0.12059742761056447, 0.10281475206820656, 0.09089377796827547, 0.08439163597625499, 0.0827201619176694, 0.08521995441903119, 0.09121371507590192, 0.10004300213414319, 0.11109221078382991, 0.12380291497308449, 0.13768110752345042, 0.12909655453237445, 0.15007642270766985, 0.17849541333705699, 0.21448973223950601, 0.2576807620724987, 0.3071121695978913, 0.3613320172628442, 0.4185651125225695, 0.4768971744723003, 0.5344461198550432, 0.5895264339452819, 0.6408153583339358, 0.687512667214203, 0.7294366568926449, 0.7669411898118208, 0.8005975107798554, 0.8307504510133922, 0.8571462700421777, 0.8788069395264653, 0.8942030278900801, 0.9016310934586971, 0.8996530906140547, 0.8874569765109096, 0.8650084015403726, 0.8329744269145961, 0.7925179251052676, 0.745078544414584, 0.6922096740689805, 0.6354803766520254, 0.576417182761958, 0.5164669724823823, 0.45697245437967765, 0.3991555455533162, 0.34410572581423926, 0.2927717094938307, 0.24595563539880333, 0.20430922251292283, 0.16833080316108673, 0.1383608580583453, 0.11457192793818383, 0.09694705349071331, 0.08524652999323978, 0.07901314368423418, 0.0776453699322035, 0.08047157191567, 0.08680376913967458, 0.09597457297439838, 0.10736116832217202, 0.12039954151271226, 0.13459154267622653, 0.1300827929709465, 0.15130580488811007, 0.18006829321868412, 0.2165288116749544, 0.2603117662940126, 0.3104327361858063, 0.36539092102343623, 0.4233561232832999, 0.48235831978628807, 0.5404595879937708, 0.595919373143291, 0.647365752497298, 0.6939700442603015, 0.7355685769342767, 0.77259295942786, 0.8057290031128795, 0.8354282767847049, 0.861492708245624, 0.8829343338172115, 0.8981703654574563, 0.9054316098033477, 0.9032178295315423, 0.8906671433915718, 0.8677230287261688, 0.8350595295062111, 0.7938620877080934, 0.7455998578925522, 0.6918588436939147, 0.6342404116710445, 0.5743013669960679, 0.5135163677394624, 0.4532531380170084, 0.39475538675361355, 0.33913042834713275, 0.2873399278287737, 0.2401931718611336, 0.19834258479852074, 0.16228064226878558, 0.13233590503037562, 0.10866396724382277, 0.09122759802573577, 0.07976854121943411, 0.07381642253651899, 0.07275812996268971, 0.07591131002234819, 0.08257855399287317, 0.09208455921047354, 0.1038001471096045, 0.11715640436528196, 0.13165159004322868, 0.13173622408780183, 0.15321078849023517, 0.1823087431405992, 0.21920993569731823, 0.2635427912574744, 0.31429601209753333, 0.3699232808825819, 0.4285449306442783, 0.4881411252498674, 0.5467232446651336, 0.6024990978031861, 0.654047855944769, 0.70050808071389, 0.7417276669055557, 0.7782120220471065, 0.8107610766783375, 0.8399361548546329, 0.8655976550384981, 0.8867482789376293, 0.9017540118667929, 0.9087850557418767, 0.906284355276924, 0.8933441931448721, 0.8698886027481237, 0.8365987321433399, 0.7946796797463469, 0.7456258505643082, 0.6910518244892103, 0.6325883154610543, 0.5718204777507505, 0.5102495572409113, 0.44926761313452734, 0.39013980297994516, 0.3339911027645704, 0.2817959396614752, 0.23437034594183276, 0.19236665737002168, 0.15627018884319743, 0.12639573426971562, 0.10287965313867586, 0.08566234360584368, 0.07446618441783959, 0.0688082598725831, 0.06806542161503337, 0.07154612000980298, 0.07854481612652986, 0.08837937489437986, 0.10041514477705238, 0.1140790366311254, 0.1288662979276035, 0.13407999171413287, 0.15581727950673263, 0.18524410170918904, 0.22255932340125667, 0.2673959710975148, 0.31871757295715175, 0.37493698181087165, 0.43413177547020043, 0.494239055973065, 0.5532254152966547, 0.6092513960489814, 0.660848762164104, 0.7071197315522818, 0.7479162335569395, 0.7838108451985035, 0.8157139124639836, 0.8442979600978285, 0.8694844043220971, 0.8902673493548693, 0.9049648766842613, 0.9116938473018588, 0.9088479444384673, 0.8954786868082802, 0.87149367962636, 0.837580836787755, 0.7949610610641493, 0.7451490728528658, 0.6897836052677297, 0.6305215029392677, 0.5689741843780366, 0.5066682054892488, 0.4450192311607807, 0.3853134992608793, 0.3286934680410294, 0.2761461445012501, 0.22849391236433575, 0.18638822525705523, 0.15030593043357587, 0.12054624126980018, 0.09722419103050217, 0.0802561965000137, 0.06934464920004935, 0.06399430151870311, 0.06357319774004933, 0.06738205117985308, 0.07470851561251812, 0.0848647496633772, 0.09721156332303504, 0.11117245288484323, 0.12624026319573856, 0.13713238364991964, 0.15914618910885447, 0.18889691530545316, 0.22659865176459498, 0.27188888413525725, 0.3237084438013968, 0.3804356375673016, 0.4401130379174906, 0.500642082976422, 0.5599511349635375, 0.6161587406021947, 0.6677521357184211, 0.7137949450416591, 0.7541349006254235, 0.7894019023417624, 0.8206089327841063, 0.8485392953555732, 0.8731778156590989, 0.8935111199161292, 0.9078143642983346, 0.9141607616346177, 0.9109046451296845, 0.8970629372130419, 0.8725297083079261, 0.837998279045866, 0.7947004311998715, 0.7441657490069811, 0.6880525027251233, 0.628040328779941, 0.565764727480357, 0.5027762133673704, 0.44051327131981655, 0.38028281161553634, 0.32324457503488757, 0.27039796248758063, 0.22257131890562265, 0.18041442574211852, 0.14439436959820584, 0.11479304810670032, 0.09170233648182313, 0.07501346207385562, 0.06440832895912885, 0.059379313395615085, 0.059286551312237035, 0.06342435626330678, 0.07107489196674333, 0.08154576895877441, 0.09419423261824234, 0.10844116181515484, 0.12377763693106669, 0.14090605386145294, 0.1632123742719731, 0.193283673437168, 0.23134380743202027, 0.2770333725222533, 0.3292742092038606, 0.3864180649181709, 0.44648101567446263, 0.5073366995683188, 0.5668823513234817, 0.6232005995167404, 0.674738394282286, 0.7205204877022711, 0.7603821228903803, 0.7949968634396171, 0.8254677720277313, 0.8526863078155668, 0.8767030502835198, 0.8964990458155613, 0.9103137289093306, 0.9161888653074219, 0.9124516009206489, 0.8980916181177625, 0.8729917662979864, 0.8378477747344397, 0.79389632842986, 0.7426761500874914, 0.6858604387758208, 0.6251482938169599, 0.5621970775062554, 0.498579849398165, 0.43575706071140335, 0.37505582791127107, 0.31765293731521593, 0.2645599837892575, 0.2166108848121609, 0.17445297025689355, 0.13854230809732115, 0.10914186234235979, 0.08631879275247845, 0.06993823202647453, 0.05966118070691895, 0.05496745622885468, 0.05520990382019131, 0.05967761598809895, 0.0676485450271127, 0.07842692557528241, 0.09136744239698436, 0.10588918524813595, 0.12148213493188964, 0.14540734590472948, 0.1680236282483577, 0.19841341780702704, 0.23680343713532315, 0.282834237914089, 0.3354141748968676, 0.3928778602250283, 0.4532237998571251, 0.5143060213938242, 0.5739982134876885, 0.630353897295761, 0.6817851744073948, 0.7272799860294263, 0.7666536773288265, 0.8006054593694083, 0.8303108365594346, 0.8567641030155846, 0.880083940532413, 0.899249112315885, 0.9124734265260929, 0.917781684516951, 0.9134877310955822, 0.8985627183129625, 0.8728794878286864, 0.8371310044330027, 0.792552091880747, 0.7406849023672257, 0.6832131506807504, 0.6218521931962434, 0.5582790468542624, 0.4940878456612665, 0.43076006885047896, 0.3696424916851841, 0.31192865230492167, 0.2586421145385034, 0.2106219804012759, 0.16851236869731445, 0.13275712600802558, 0.10359880579768377, 0.08107855011874776, 0.065034711874008, 0.055107038883727366, 0.050762547621803655, 0.05134719811881305, 0.056145872752634274, 0.06443352490646792, 0.07551217895650342, 0.08873498052218276, 0.10352008216138231, 0.11935705216453851, 0.15063579249599202, 0.17357986495389022, 0.20428638038214486, 0.2429772729425344, 0.2892879680308475, 0.3421207199125833, 0.3998031454317917, 0.4603252732569947, 0.5215299644112488, 0.5812754028787432, 0.6375935316957808, 0.6888680669069274, 0.7340543010329701, 0.7729420533274692, 0.806233880907377, 0.8351553377976273, 0.8607946710098873, 0.8833409226841049, 0.9017762298272812, 0.9143024480036956, 0.9189436135851573, 0.9140148422413652, 0.8984788730338324, 0.8721981058747271, 0.8358552663501718, 0.7906762447797853, 0.7382012068716685, 0.6801203184910539, 0.6181621952375076, 0.5540213472330984, 0.48931145192807, 0.4255339712414743, 0.3640546838239659, 0.3060835072521438, 0.2526557125724316, 0.20461519873214662, 0.16260214330843104, 0.12704703918814964, 0.09817070041566955, 0.07598716864889032, 0.06030749196937557, 0.05074987831357691, 0.04676829582004316, 0.0477020818928231, 0.052832764012537115, 0.0614334250500953, 0.07280501847631682, 0.0863001751404755, 0.10133697616300241, 0.11740528018535135, 0.156583859301353, 0.17987266788192957, 0.21089306322787438, 0.24985445685832308, 0.29638190241792284, 0.34937900440706177, 0.4071765447587025, 0.4677652508658172, 0.5289854942134816, 0.5886884583294284, 0.6448927932430296, 0.695961329059837, 0.7408222603632958, 0.7792355009048059, 0.8118825825329897, 0.8400126837798875, 0.8647942420606891, 0.8864884861859516, 0.9040904083979667, 0.9158076341181443, 0.9196804576052182, 0.9140392268859853, 0.8978489909525535, 0.8709594366964207, 0.8340340038575019, 0.7882827514478928, 0.7352389451061301, 0.6765955955206835, 0.6140918416877588, 0.5494375855013787, 0.4842644425923224, 0.4200926771646459, 0.35830627730462883, 0.30013106470436324, 0.2466137064825537, 0.1986025109656947, 0.15673302154957158, 0.12142132405411799, 0.09286530607268972, 0.0710510066801685, 0.05576176485762496, 0.04659402637128174, 0.04298849696824314, 0.04427807168853548, 0.04974164741076437, 0.0586514728713744, 0.0703085270403947, 0.08406593832570908, 0.09934258486308956, 0.115629326498222, 0.1632369745178761, 0.18688532829198323, 0.21821427683860728, 0.2574135523511708, 0.3040943440107972, 0.35716715328016835, 0.41497542894246714, 0.47551977376087884, 0.5366469435932295, 0.5962100659113992, 0.6522235515070219, 0.7030379333824045, 0.7475604769696321, 0.785516429121589, 0.8175434804964488, 0.8448851416823628, 0.8687700005034196, 0.8895321624046693, 0.9061948560703731, 0.9169930261249382, 0.9199998805519058, 0.913573343787017, 0.8966896618136134, 0.8691825661428786, 0.8316871117552469, 0.7853911037685253, 0.7318166487462933, 0.6726565300488089, 0.609657962327823, 0.5445441930245662, 0.47896307223478407, 0.4144523176406115, 0.3524131606732577, 0.2940867225156965, 0.24053069197161064, 0.1925973981102247, 0.15091709973698608, 0.1158905028322762, 0.08769150869629416, 0.0662773969994137, 0.05140349132468247, 0.0426443259308632, 0.039427192335736105, 0.04107869096727623, 0.046875711443810086, 0.05609061321189124, 0.06802544165803859, 0.082034808928524, 0.09753924960202731, 0.11403133481781913, 0.17057384492444294, 0.19459337681210476, 0.22622216356497438, 0.26562439445889585, 0.31239564122932983, 0.3654569174394437, 0.42317242546114076, 0.48356155575958637, 0.5444864017210702, 0.603811321775625, 0.6595562028492639, 0.7100687342460479, 0.7542412529138323, 0.7917592503891234, 0.8231968140124966, 0.8497617652308866, 0.8727161032774607, 0.8924652584898525, 0.9080843096399127, 0.917859402331227, 0.9199115804521178, 0.9126361503875425, 0.8950254848107541, 0.8668940468835206, 0.828840953057536, 0.782026204788044, 0.727957317033207, 0.6683243702555299, 0.6048804997389834, 0.539360285705941, 0.4734259771231645, 0.40863119047479907, 0.34639322653962057, 0.2879677439127663, 0.2344230001777456, 0.1866149530362281, 0.14516797136650605, 0.11046648521504432, 0.08265945844349376, 0.06167477234004881, 0.04723951711035956, 0.038906251040432105, 0.03608878465140786, 0.038107578434930955, 0.04423806724472934, 0.05375358082860027, 0.0659582081130412, 0.08020899258232317, 0.09592896411095742, 0.11261310525955648, 0.17856701756094362, 0.20296548823967153, 0.23488170204158515, 0.2744500045999258, 0.3212497440021408, 0.37421469250313344, 0.4317361539011901, 0.4918605699760952, 0.5524741844558051, 0.6114620173282297, 0.6668595416854468, 0.7170214405551556, 0.7608306693487908, 0.797928384041693, 0.828808341579927, 0.8546138885036977, 0.8766089880063241, 0.8952659567646724, 0.9097440868372392, 0.918404263585786, 0.919427339388744, 0.9112523100311897, 0.8928884043115225, 0.8641275996752082, 0.8255280674187218, 0.7782180347037532, 0.7236880738093193, 0.6636237492270772, 0.5997822433667963, 0.5339074542196869, 0.4676740215660397, 0.40264966032404764, 0.3402663220445281, 0.28179325371237984, 0.22830873334129165, 0.18067194776806328, 0.13950081566766348, 0.1051626639938551, 0.07778065810702528, 0.05725274141495007, 0.043277641935858924, 0.03538597730049209, 0.03297811414649676, 0.035368564975063466, 0.04183181868903607, 0.05164295912389105, 0.0641090274385504, 0.07859039713233906, 0.09451340085037052, 0.11137611356844312, 0.1871836182430877, 0.21196458636876264, 0.24415225316442907, 0.28384826511661715, 0.3306157965882671, 0.38340272237918127, 0.44063211893342663, 0.5003847517823017, 0.5605793973112553, 0.6191310196527089, 0.6741007935727811, 0.7238601163409452, 0.7672877999443786, 0.8039772630546684, 0.834327878685081, 0.859391640745572, 0.8804027110636388, 0.8978960465783848, 0.9111504505843739, 0.9186225923394251, 0.9185613716017332, 0.9094517277206384, 0.8903169185716269, 0.8609234802913154, 0.8217865994302377, 0.7740011023801343, 0.719039665057308, 0.6585822522761352, 0.5943884756741277, 0.5282094865216188, 0.46173008975928387, 0.39653001282762257, 0.334054158968166, 0.27558419736439776, 0.22220776387736607, 0.17478686201146587, 0.1339324431041662, 0.09999396309650066, 0.07306800188696816, 0.05302211634767329, 0.039526642252922795, 0.03209040888498971, 0.030100495710241315, 0.0328657189880629, 0.03966010941092313, 0.04976122331802735, 0.06247989252150221, 0.07718066212478025, 0.09329393398883523, 0.11032152862297806, 0.19638618983697498, 0.22154899798676614, 0.25398897141717214, 0.29377337103904233, 0.3404495886137899, 0.3929803365744019, 0.4498236849725036, 0.5091007870108124, 0.5687705980503868, 0.6267868152673698, 0.681246002181945, 0.7305454875902562, 0.7735651389319866, 0.80984886811592, 0.8396901151417244, 0.8640246121356122, 0.8840293105784581, 0.9003028109381134, 0.9122727832820507, 0.9185086676876935, 0.9173313416339957, 0.907269737601796, 0.8873555673342515, 0.8573276942059578, 0.8176594978003658, 0.7694136986649238, 0.7140458060271658, 0.6532298743231759, 0.5887265369736425, 0.522292027343867, 0.4556188255319895, 0.3902962629652997, 0.3277801818452659, 0.26936326002957683, 0.216141693504656, 0.16897986960491906, 0.12848129527024366, 0.09497683679663249, 0.0685357644437099, 0.04899489206962504, 0.03599624897408216, 0.029027164146092188, 0.027461719054054146, 0.030603360978881833, 0.03772614644446448, 0.048110767162336976, 0.0610726137804114, 0.07598118138887944, 0.09227165822770489, 0.10945022759806877, 0.20613356119755344, 0.23167355777480864, 0.264344040344112, 0.30417707680538536, 0.3507048206617921, 0.4029051213714423, 0.45927306310115523, 0.5179749496297757, 0.577016554834852, 0.6343982559477988, 0.6882608578924764, 0.737036074624245, 0.7796102179506386, 0.815477926871418, 0.844818018466184, 0.8684279247597584, 0.8874071379820747, 0.9024245915643554, 0.9130777595290605, 0.9180590771822097, 0.9157601988541795, 0.904747853106553, 0.8840546836768136, 0.8533911499591005, 0.8131935302134196, 0.7644969739297708, 0.7087423937083204, 0.6475983803100915, 0.5828253192887495, 0.5161821820033664, 0.44936632416513933, 0.383973918912694, 0.32146939310525524, 0.2631547433497184, 0.21013376953249957, 0.16327278007189916, 0.12316739701121315, 0.09012921888044989, 0.06419953985865956, 0.04518417804331443, 0.032697081417349394, 0.026204521836238448, 0.02506801414268789, 0.028586048992848778, 0.03603320110574082, 0.04669391308063919, 0.05988883344579321, 0.07499311814239484, 0.09144740293549103, 0.1087628083330312, 0.21638169395250856, 0.24229061260133294, 0.2751677323811064, 0.31500975427277084, 0.361334182673887, 0.4131339705657795, 0.46894225461851113, 0.5269739508377614, 0.5852870805968274, 0.6419355038733427, 0.6951119553875078, 0.743290057277473, 0.7853682858553694, 0.8207946092609506, 0.8496283243753764, 0.8725110260155312, 0.8904514134958013, 0.9041990667584412, 0.9135353200551245, 0.9172768795061925, 0.9138787691052497, 0.9019349027783014, 0.8804702593859391, 0.8491687376259347, 0.8084381351537855, 0.7592938627092704, 0.7031666054868024, 0.6417205863780717, 0.5767147031605979, 0.5099080743744265, 0.44299978217690655, 0.3775897037428702, 0.3151481348383213, 0.2569843978945843, 0.204208755688021, 0.1576889327089015, 0.11801225869603416, 0.08547042037024233, 0.0600761298422563, 0.04160408258895165, 0.02964053882263651, 0.023631330195242772, 0.02292598449237704, 0.02681853707882398, 0.03458458845007695, 0.045512906298207256, 0.05893002850405804, 0.07421741243152247, 0.09082174131259113, 0.1082595986188335, 0.22708447181999375, 0.253350904013438, 0.28640930381332036, 0.32622127712257126, 0.37229025404588134, 0.42362399070727524, 0.47879391005258237, 0.5360657607342609, 0.5935539080992243, 0.6493711319179598, 0.7017683924697815, 0.7492677115386388, 0.7907858340962656, 0.825729357036945, 0.8540382183714545, 0.8761867731543793, 0.8930844754383742, 0.9055728704154985, 0.9136259814312105, 0.9161767008610366, 0.9117288906799982, 0.8988882909275255, 0.8766637122002443, 0.8447182480624182, 0.8034441073270994, 0.7538478766421985, 0.697355908969368, 0.6356295838338801, 0.5704249545898851, 0.5034983712136559, 0.43654711260729717, 0.3711712383723577, 0.3088438273109043, 0.25087920946023656, 0.19839275496765107, 0.1522530406878756, 0.11303872645111956, 0.0810209740990121, 0.05618338030812775, 0.03826955018435341, 0.026838651110384526, 0.02131688150878175, 0.021042511307841627, 0.025305709440738844, 0.03338362721230481, 0.04456989407876033, 0.05819750283146474, 0.07365478106579537, 0.09039499455279532, 0.1079406622848268, 0.23819441196928853, 0.26480432449906716, 0.2980177379749478, 0.33776174573148543, 0.38352623651096474, 0.4343332516400308, 0.48879207433672356, 0.5452203639564702, 0.6017915561307396, 0.6566813011714714, 0.7082035711520561, 0.7549342030024289, 0.7958146781537604, 0.8302184122235379, 0.8579724083799374, 0.8793800089271429, 0.895245573072214, 0.9065116733853205, 0.9133489340921748, 0.9147904245122884, 0.9093667452929596, 0.8956750247342253, 0.8727012992248389, 0.8400990152012827, 0.7982620992557801, 0.7482017871263786, 0.6913470120982093, 0.6293579318298294, 0.5639861021763224, 0.49698178709367014, 0.43003653487036436, 0.36474669019991873, 0.3025846648456206, 0.24486713744878297, 0.19271298191487862, 0.14699098250386755, 0.10827077787302108, 0.07680242406543192, 0.05253996534737759, 0.03519615244627039, 0.02430389109698583, 0.0192707552616882, 0.01942463186035559, 0.02405249336368831, 0.03243358260229723, 0.04386689164574642, 0.057692369439751534, 0.07330571051675083, 0.0901672311931746, 0.10780580212152135, 0.24966328890838918, 0.2766005515902275, 0.30994235003132437, 0.3495820657627058, 0.39499653101821636, 0.4452213809957763, 0.4989027974992125, 0.5544104119869118, 0.6099781277477464, 0.6638469152036717, 0.7143970300613883, 0.7602624811221708, 0.8004162518756359, 0.8342096156423435, 0.8613700697108794, 0.8820353729806427, 0.896900068877628, 0.9070102667609786, 0.9127304088063228, 0.9131730519609959, 0.9068658693605978, 0.8923720419996204, 0.8686528944837487, 0.8353701623545827, 0.7929409237470819, 0.742396224108447, 0.6851747876107389, 0.6229368482535425, 0.55742731690128, 0.4903865859243557, 0.42349614965270715, 0.3583443929913192, 0.2963992702283723, 0.23897680351389844, 0.18719748146508863, 0.14192953777752715, 0.10373326031048413, 0.07283705713623956, 0.04916511779726318, 0.0323998341793692, 0.022048951198383793, 0.01750263368990812, 0.01807939599834607, 0.023063754392428137, 0.03173759470209703, 0.04340573672820103, 0.05741552407740047, 0.07317044351092483, 0.09013826204126463, 0.10785455981887493, 0.26144266884415973, 0.288689567948651, 0.32213326639190704, 0.3616343931533269, 0.4066571695750093, 0.4562500052003291, 0.5090945964865555, 0.5636117375997831, 0.6180959777693099, 0.6708546402057292, 0.7203361219586767, 0.7652359907803825, 0.804565727903837, 0.837668062422319, 0.8641913784052597, 0.8841241513452777, 0.8980477015854371, 0.9071021564729854, 0.9118318205005232, 0.9114082224353862, 0.9043190840789556, 0.8890652747043035, 0.8645898545583779, 0.8305883625553268, 0.7875256614160477, 0.7364682284190021, 0.6788712119107744, 0.6163954314895657, 0.5507763187540821, 0.48374009631666093, 0.4169535106106766, 0.3519924448114688, 0.29031630955787135, 0.23323712858961515, 0.1818747910716766, 0.13709606394983276, 0.09945156826695523, 0.06914757439536923, 0.0460783061625748, 0.02989661701171409, 0.02008648877654151, 0.016022094368184914, 0.017013705218235975, 0.02234417760027485, 0.031298595508858607, 0.04318803494758505, 0.057367611681295005, 0.07324896025858985, 0.09030763123474761, 0.10808621322226597, 0.2734843572393235, 0.3010220774210725, 0.3345417914483441, 0.3738724578409636, 0.41846611296328073, 0.4673830418729026, 0.5193387588072137, 0.5728037015594083, 0.6261321893633494, 0.6776976818935352, 0.7260173516542849, 0.7698509084787396, 0.808255538601916, 0.8405811571587534, 0.8664234676774026, 0.8856499735792831, 0.8987292789637528, 0.9068675843671004, 0.9107571687675527, 0.9096125603102612, 0.9018382304980773, 0.8858468371923068, 0.860581754289372, 0.8258050832820889, 0.7820556126442162, 0.7304498113781485, 0.6724643651347357, 0.6097599482049653, 0.5440588353470817, 0.47706825876883113, 0.4104352057236319, 0.3457182923019916, 0.2843640706504696, 0.2276769164997292, 0.17677354225421793, 0.1325181097947511, 0.09545125585045566, 0.06575669942367779, 0.043298858865485124, 0.027702264846739877, 0.018428845723450715, 0.014838385422753397, 0.01623413927409234, 0.021898139103586067, 0.031119217890134387, 0.043215098457353496, 0.0575489873543491, 0.0735409554187264, 0.09067460411896344, 0.10849977131022881, 0.2857407652120202, 0.31354982781380103, 0.34712067404323854, 0.38625177847967357, 0.43038342552550507, 0.47858685045134497, 0.5296094835153673, 0.581969348476532, 0.6340788083605351, 0.6843762232906162, 0.731447208679412, 0.7741176262666386, 0.8114978485209642, 0.8429624696136989, 0.8680855554745883, 0.8866532518032075, 0.8990308268960996, 0.9064376458696742, 0.9096586575730813, 0.9079367550779522, 0.8995502666468004, 0.8828098065148855, 0.8566919029167953, 0.8210633766510625, 0.7765621802529096, 0.724366594745107, 0.665977545589111, 0.6030532236592479, 0.537298137571365, 0.4703952226973199, 0.40396646204307846, 0.3395483114449191, 0.27857001010612636, 0.22232438290896495, 0.17192199703748523, 0.12822296094328012, 0.0917575795220823, 0.06268672134650122, 0.04084553902064736, 0.025831917764398304, 0.017087749598650226, 0.013960189969099535, 0.01574677582539974, 0.021729572229960525, 0.031201699861793553, 0.04348788036317064, 0.05795967365712873, 0.07404581200835225, 0.09123815272268054, 0.10909396737517696, 0.29816520211969444, 0.32622585137778093, 0.35982428587881626, 0.3987297805166641, 0.44237133887631647, 0.4898302500315862, 0.5398838602325112, 0.5910953576363924, 0.641932798163282, 0.6908974509577339, 0.7366423659897444, 0.7780612549069912, 0.8143255529954213, 0.8448536007962458, 0.8692323962948122, 0.8872144709493728, 0.8990835947488665, 0.9059910154259555, 0.9087341801509122, 0.9065589597476114, 0.8975883670963323, 0.8800403394904586, 0.8529717570899527, 0.8163943910313802, 0.7710668212309582, 0.7182366228938939, 0.659428556261886, 0.5962941706428955, 0.5305146759672676, 0.46374301055712686, 0.3975707881376856, 0.33350739718273964, 0.2729602773753683, 0.21720663007744345, 0.16734751408309745, 0.12423711176695074, 0.08839496574789807, 0.05995897222723667, 0.03873607661527678, 0.024299704130502642, 0.01607400553756111, 0.0133953873469832, 0.015557009052109216, 0.0218418329086133, 0.031547787656089565, 0.044006907489326896, 0.05859931604910851, 0.07476257352052507, 0.09199693967053069, 0.10986725094147043, 0.3107121025884834, 0.33900463398553815, 0.3726087239609394, 0.41126583029007835, 0.4543942173761665, 0.501084415922896, 0.550141692624383, 0.6001717852743255, 0.6496956965441572, 0.6972751288268157, 0.7416291689868487, 0.7817210026696111, 0.8167914890057529, 0.8463232241720909, 0.869953885145528, 0.8874555858860246, 0.8990568528736305, 0.9057405678611524, 0.9082084814718184, 0.9056673588439156, 0.8960775249923982, 0.8776073664036308, 0.8494546172774715, 0.8118139048061023, 0.7655792540519581, 0.7120694529607559, 0.6528292220016054, 0.5894974903762455, 0.5237258385972579, 0.45713126456791575, 0.39126966860704726, 0.3276185767723744, 0.2675592290819625, 0.21234907193842956, 0.16307593896046801, 0.12058565702526847, 0.08538639777797696, 0.05759324252035758, 0.036986670583324055, 0.023118344402025315, 0.015397190032688357, 0.013150819532731783, 0.01566937343881336, 0.022237568889085346, 0.032158641007442035, 0.044772214016486234, 0.05946713829912276, 0.07568991552428617, 0.09294930139319257, 0.11081777898332068, 0.323337196670496, 0.3518422238431786, 0.38543184910628403, 0.4238211982060898, 0.4664184394049612, 0.5123226692482851, 0.5603651788893911, 0.60919160653713, 0.6573729766205315, 0.7035287155336741, 0.7464424035681559, 0.7851484025246769, 0.8189657632352516, 0.8474628355688584, 0.8703681262444891, 0.8875294929716978, 0.8991396187595511, 0.9059098742881057, 0.9083050396153387, 0.9054344451407812, 0.8951155392899464, 0.8755507463790173, 0.8461492890171517, 0.8073192952579187, 0.7600961415952706, 0.7058656330414513, 0.6461851915407212, 0.5826735730447523, 0.5169458466753318, 0.4505770887755496, 0.3850823244037952, 0.3219026641915794, 0.26238895360940556, 0.2077748224841096, 0.15913091397326662, 0.1172915956472772, 0.0827527164890437, 0.055607146941408, 0.035611480996384226, 0.022298764048294673, 0.015065359267230294, 0.013232071598902162, 0.016087378974475874, 0.022918597280398467, 0.033034743940586364, 0.045783278398234595, 0.060561899609307024, 0.07682611798250982, 0.09409323148641058, 0.1119434070098847, 0.3359976319175696, 0.36469629036192014, 0.39825327248254794, 0.43635896447788375, 0.4784122097590983, 0.5235201768628575, 0.5705384680507553, 0.6181500773724726, 0.6649731359277166, 0.7096820592847991, 0.7511234002283255, 0.7884044917073647, 0.820931393155238, 0.8483795559152123, 0.8706081902410787, 0.8875945481602302, 0.8995116222639377, 0.9067015115345575, 0.9092138430168268, 0.9059868941729866, 0.8947514949416834, 0.8738694352487499, 0.8430346487578562, 0.8028874272085692, 0.7546004773713106, 0.6996166693963687, 0.6394960676241657, 0.5758286168572596, 0.5101857980292692, 0.44409499530662805, 0.3790255510999679, 0.31637797462565614, 0.25746883390744785, 0.20350407597135134, 0.1555331089055776, 0.11437503790239234, 0.08051183524407046, 0.05401546922149214, 0.03462214082682913, 0.021849736390716412, 0.015084785576541693, 0.013643275114335829, 0.01681336377382392, 0.023885794618161982, 0.03417582409425246, 0.0470389657717285, 0.06188185506731647, 0.07816903944551568, 0.09542636502804314, 0.11324168056748063, 0.34865205605270416, 0.3775261435265101, 0.4110343020532277, 0.4488438812806708, 0.4903453197114672, 0.5346535816729904, 0.5806471167291515, 0.627043947885572, 0.6725065578109589, 0.7157617397811046, 0.7557175943042185, 0.7915561686387508, 0.8227787320078008, 0.8491871679715955, 0.8708065513786509, 0.8877892084597339, 0.9003096066367411, 0.9082594987670877, 0.9110554257000343, 0.9073730858981567, 0.8949647376336107, 0.8725117707880997, 0.8400562017247443, 0.7984739485063532, 0.7490618756727631, 0.6933055586908186, 0.632755890721842, 0.5689649727356131, 0.5034538608344141, 0.43769695877256437, 0.373113644432609, 0.3110601181105723, 0.252815183555372, 0.19955353114188606, 0.15229939776806667, 0.11185230602724605, 0.07867789038207551, 0.05282953947700031, 0.03402732532129238, 0.021777577927118985, 0.015459735449115941, 0.014386942805594383, 0.017848369561786592, 0.025139003203241472, 0.03558078325728942, 0.04853747781716522, 0.06342472086157003, 0.07971609416394254, 0.09694596459475457, 0.11470982767238613, 0.3612606686616515, 0.3902927237378383, 0.42373786061566915, 0.46124220540644334, 0.5021888722590735, 0.545700585842057, 0.5906774761342614, 0.6358705683723933, 0.679984206475321, 0.72179515581171, 0.7602717116654981, 0.7946720385045203, 0.8245993143180792, 0.8499969237147802, 0.8710814110992404, 0.8882127506315803, 0.9015962663874291, 0.9106281129527649, 0.9138413532292461, 0.9095303014643458, 0.8956483240549775, 0.871370289951637, 0.837125681882045, 0.7940143909710792, 0.743437900300291, 0.6869079206422157, 0.6259539778693765, 0.562081707574881, 0.49675561136488666, 0.4313925770581634, 0.36735841835655614, 0.3059618888377825, 0.2484409937245497, 0.1959359373020414, 0.14944208017091176, 0.10973491847775407, 0.07726042271727207, 0.05205672650459581, 0.033832421050551065, 0.022085917713601355, 0.01619230096902713, 0.015463841576157766, 0.019192044570674582, 0.026676956820391617, 0.03724764134367742, 0.050276311701860754, 0.06518764547452827, 0.08146423301896888, 0.0986489086278527, 0.11634475263483024, 0.37378524995488827, 0.402958571661065, 0.4363283868086399, 0.47352151550886756, 0.5139149906898421, 0.5566395110971046, 0.6006160428188251, 0.6446269365016151, 0.6874162295183747, 0.7278084770043692, 0.7648307785649197, 0.7978180958781497, 0.8264797726538712, 0.8509094279512972, 0.871527185639929, 0.8889146570448921, 0.9033391780753518, 0.9137105296401885, 0.9174314854825494, 0.9122565615755234, 0.8966021383506579, 0.870283371692153, 0.834124463951934, 0.7894272894164046, 0.7376764647234537, 0.6803937131046623, 0.6190760899675796, 0.555175363516162, 0.4900945003586337, 0.42518933052719665, 0.36176931554169917, 0.3010932608943566, 0.2443558229052304, 0.19265984893598076, 0.14696837800867457, 0.10802863728628986, 0.07626383195604314, 0.051700138986072064, 0.03403933179082996, 0.02277555790752228, 0.017282293680344507, 0.016872909134332814, 0.02084257721435745, 0.028497228165646038, 0.03917349550662663, 0.05225222937995566, 0.06716718781550379, 0.08340992899862576, 0.10053168268831081, 0.11814303166942453, 0.3861891741780295, 0.4154877870660481, 0.4487717299889859, 0.48565052774463924, 0.5254965286961588, 0.5674488611975554, 0.6104488089435252, 0.6533087384241985, 0.6948105487061166, 0.7338245874018536, 0.7694351619610541, 0.8010535805864737, 0.8284963641264829, 0.8520083588639444, 0.8722097393802347, 0.8898943483182484, 0.9054083624702804, 0.9172380276117247, 0.92148908889252, 0.9151993480302789, 0.8975414389738703, 0.8690452049409093, 0.8309110204911625, 0.7846192639626494, 0.7317192104530116, 0.6737294515782886, 0.6121058712822677, 0.5482408752691718, 0.4834724237423531, 0.4190929254829442, 0.35635360419103246, 0.29646149264398, 0.24056584565358846, 0.18972964579635476, 0.14488045497838442, 0.10673353120893203, 0.07568737761563027, 0.05175859933416127, 0.03464644273431572, 0.023844434843554696, 0.01872720575751341, 0.01861121715158165, 0.022796662501714304, 0.030596199428078674, 0.041354495517236356, 0.05446123812920467, 0.06935930298054982, 0.0855491677625192, 0.10259037401693805, 0.1201009106162858, 0.3984374146971522, 0.4278459849966683, 0.46103504920968696, 0.49759892298570707, 0.5369067997475658, 0.5781069114251619, 0.62016064819148, 0.6619094376601963, 0.7021715208375612, 0.7398611469964417, 0.7741178342576915, 0.8044272934745994, 0.8307104714249742, 0.8533562383299678, 0.8731657563581172, 0.8911106727007376, 0.907599956562053, 0.9207798345395405, 0.9254608067234223, 0.9178822299889503, 0.8981246525631129, 0.867423973845835, 0.8273319263128673, 0.779491703968628, 0.7255056391459688, 0.66688079659543, 0.605026477491947, 0.5412725938451503, 0.47689036574622445, 0.4131077020950927, 0.35111664890061123, 0.29207133191232715, 0.2370740545448805, 0.18714581098216676, 0.1431759322219166, 0.10584490831543036, 0.07552569781549012, 0.052226884768322046, 0.035648741623651836, 0.025287680361407605, 0.02052223862503233, 0.02067398129202891, 0.025049501638751637, 0.03296905653974358, 0.043785835940302165, 0.056898582811896636, 0.07175933604405271, 0.08787744364105132, 0.10482066968453141, 0.12221430502773034, 0.41049654715869327, 0.4400002568432976, 0.47308672565829485, 0.5093371977637615, 0.5481193422439183, 0.5885913486225289, 0.6297347719681965, 0.6704194634565279, 0.7094987460702786, 0.7459288863214827, 0.7789020285948677, 0.807974588872538, 0.8331652714057127, 0.8549920875046026, 0.8744048667122832, 0.8924972650960874, 0.9096845515395466, 0.9238290311670887, 0.9286778486520743, 0.9197837588827803, 0.8979983465158974, 0.8651859663997812, 0.8232351467416391, 0.7739484084329327, 0.718977661031994, 0.6598153244584241, 0.5978222871067885, 0.5342653547073755, 0.470349076651531, 0.4072370825315038, 0.3460622378469974, 0.2879253046462148, 0.2338805882753099, 0.1849053985726481, 0.14184863430882289, 0.10535424005102478, 0.07576955624990811, 0.05309616486450741, 0.0370380731633847, 0.027097773625293975, 0.02266039449009949, 0.023054615898231656, 0.02759483377056171, 0.03560980668717961, 0.04646176506455002, 0.05955874997849808, 0.07436202401282599, 0.09038976121642506, 0.10721785848258902, 0.1244788028222219, 0.42233475643579843, 0.4519191430260812, 0.484896296840021, 0.520836549692468, 0.559107735062474, 0.59887898282594, 0.6391522871826127, 0.6788255451852946, 0.7167860918239696, 0.7520302307458824, 0.7837994131819559, 0.8117151857055486, 0.8358836315054474, 0.8569306420265713, 0.8759129591353247, 0.8939774833358889, 0.911462175028503, 0.9259490894315268, 0.9305568952493879, 0.9204496131721773, 0.896849197639398, 0.8621213000744107, 0.8184837720946779, 0.7679033464693851, 0.7120841502030489, 0.6525052674720484, 0.5904805785857553, 0.5272155226577991, 0.4638497442233923, 0.40148403220803724, 0.3411929446329422, 0.28402406271832387, 0.23098314534531056, 0.18300259953218811, 0.14088935243032752, 0.10524996793900043, 0.07640659823180052, 0.054354541762656305, 0.03880348896985952, 0.029264766403416465, 0.02513262232673774, 0.02574482886695806, 0.03042499745312066, 0.03851131782561246, 0.049375610013017046, 0.06243548361683959, 0.07716150583715298, 0.09308064243934322, 0.10977683658171689, 0.12688966969355986, 0.43392185233431174, 0.4635726230365901, 0.4964344195205118, 0.5320688062859962, 0.5698454754940437, 0.6089455479648698, 0.6483918819054177, 0.687110231721763, 0.7240209874459111, 0.7581583277310329, 0.7888088710176381, 0.8156518692179886, 0.8388672076421627, 0.8591628131598883, 0.8776555906902374, 0.8954738475981144, 0.9127937945287949, 0.9269006715663839, 0.9307870688450168, 0.919587346428111, 0.8944476917290606, 0.8580661140364831, 0.8129681891989331, 0.761287655220262, 0.704785081751117, 0.644930004480414, 0.5829930540487296, 0.5201219456042456, 0.45739461770255907, 0.39585150623168214, 0.33651050116137665, 0.28036676318680753, 0.22837743954541667, 0.1814293281880741, 0.14028654038844912, 0.1055182033229577, 0.07742203700429018, 0.05598761528239682, 0.0409316520331382, 0.03177656088885661, 0.02792800716883237, 0.02873475051714558, 0.03353101832259631, 0.0416653782020493, 0.05251981699440589, 0.0655218121107326, 0.08015134023716275, 0.09594413905288124, 0.1124921169051345, 0.1294418575167139, 0.44522929825614543, 0.4749321275528342, 0.5076728670076924, 0.5430064038396031, 0.5803059282503815, 0.6187656045505074, 0.6574296588008048, 0.6952516251828459, 0.7311840294744683, 0.7642965244977203, 0.7939159290158085, 0.8197700945725136, 0.842096664316706, 0.8616571684093846, 0.8795811952986902, 0.8969118389849494, 0.9135975907405337, 0.926655660875729, 0.9293646048265575, 0.917098408676065, 0.8906708603257838, 0.8529169978884522, 0.8066150000866223, 0.7540551075326938, 0.6970548706887797, 0.6370781025307429, 0.5753571006611149, 0.512986754916707, 0.45098754618839293, 0.39034285438076904, 0.3320161581185642, 0.2769514516560174, 0.2260576584804907, 0.18017577870779256, 0.14002692313145082, 0.10614332995764131, 0.07879925462880011, 0.05797902433951063, 0.043407259764403516, 0.03461921869385076, 0.031033990322492766, 0.0320130891638184, 0.03690271861560257, 0.04506277330953046, 0.05588600526250065, 0.0688100857992342, 0.08332453119209149, 0.09897384993331182, 0.11535784228482959, 0.13213001611849284, 0.45623025620929847, 0.48597057626765805, 0.5185845647648587, 0.5536224203150208, 0.5904623502841563, 0.6283125519368583, 0.6662391287568015, 0.7032233475394095, 0.738248920822971, 0.7704183175858705, 0.7990928412245091, 0.8240384530997482, 0.8455329011403501, 0.8643622691758591, 0.8816242847263235, 0.8982214415378973, 0.9138379950994254, 0.9253151333262505, 0.9264669908395375, 0.9130435054350549, 0.8855006654195157, 0.8466357948993991, 0.7993917132707996, 0.7461855290349865, 0.6888846290276731, 0.6289487529072431, 0.5675767014852231, 0.5058159609416465, 0.44463439912621244, 0.3849621612265213, 0.32771101185727075, 0.2737754256395717, 0.22401689551061937, 0.1792309246447239, 0.1400960177855468, 0.10710851848140324, 0.08052031966205442, 0.060310940223577525, 0.04621345871518456, 0.03777728181599971, 0.03443660818858596, 0.0355673056836503, 0.04052884371481236, 0.04869337728014966, 0.059465033024243, 0.07229202436116755, 0.08667356132347714, 0.10216294323371966, 0.11836780320821694, 0.13494850889338217, 0.4668996506902099, 0.4966624439852291, 0.529143666583483, 0.5638906628695297, 0.6002879916977332, 0.6375587518525935, 0.6747913689510445, 0.7109947470224054, 0.74518275062376, 0.776487771548237, 0.8042992966949217, 0.8284099216580976, 0.8491191397945519, 0.8672097029484427, 0.8837087726167894, 0.8993381768896029, 0.9135149852054292, 0.9230226542051871, 0.9223162132636261, 0.9075773586105287, 0.879004466647814, 0.8392456291171124, 0.791307100314656, 0.7376859592348901, 0.6802831858645324, 0.620552503082038, 0.5596629363957955, 0.4986198073449418, 0.4383433449090711, 0.37971450292947856, 0.3235962802592745, 0.2708355588527089, 0.22224753524089624, 0.17858295008518466, 0.14047857256995222, 0.1083961611429537, 0.0825664280798124, 0.06296450231531736, 0.04933223329976988, 0.04123409000580569, 0.038120738486837946, 0.0393837995185754, 0.044397200742592124, 0.05254625548249281, 0.06324707327352763, 0.07595877299106168, 0.09019043357956558, 0.1055041867088744, 0.12151546200635599, 0.1378914326312899, 0.4772142528814801, 0.5069838564877777, 0.5393256713844787, 0.5737858066035333, 0.6097562682328515, 0.646475758786734, 0.6830553410524435, 0.7185313394022381, 0.7519466056334545, 0.782460382890306, 0.8094836951067775, 0.8328237856834098, 0.8527837015995312, 0.8701176126812207, 0.8857512659452342, 0.9002029021552712, 0.9126469064850292, 0.9199143978092947, 0.9171157450076548, 0.9008922540244304, 0.8713083630835466, 0.8308208860995548, 0.7824078525813283, 0.7285896569880237, 0.6712768516970594, 0.6119112518005208, 0.5516340471432751, 0.4914128657930153, 0.4321249735635242, 0.37460610836371183, 0.3196735149731855, 0.2681285730733714, 0.22074158113156694, 0.1782196097473422, 0.1411589303463252, 0.10998823459217211, 0.0849182746602799, 0.06592019484128298, 0.052744758440240735, 0.04497208302238298, 0.04207034440863733, 0.043448099182834765, 0.04849480435939513, 0.05660977501425024, 0.06722169733142358, 0.07980096595688457, 0.09386672068126678, 0.10898998858555997, 0.1247939840165665, 0.14095264145742947, 0.4871527845479674, 0.5169127166930183, 0.5491075772548686, 0.5832835761606168, 0.6188409960942627, 0.6550346468411736, 0.6909983567503447, 0.7257954674742072, 0.7584964894249115, 0.7882843481917639, 0.8145849133670549, 0.8372081076430935, 0.8564432940278293, 0.8729945107234585, 0.8876640923844819, 0.9007601564311581, 0.9112549022686351, 0.9161027807946949, 0.9110414066017974, 0.893184965402682, 0.8625722295964386, 0.8214743889634742, 0.7727726036324896, 0.7189532846946269, 0.661908030349968, 0.6030575389038463, 0.5435150750949489, 0.48421387131748717, 0.4259922602205488, 0.3696444189600321, 0.31594474270238715, 0.26565124981336474, 0.2194909203281395, 0.17812852011583424, 0.14212132380782372, 0.11186659806233257, 0.08755636190146998, 0.06915816716208012, 0.05643171152309301, 0.048973080049778295, 0.04626870923169668, 0.047745051263901384, 0.05280802528618056, 0.06087171985640982, 0.07137796376743155, 0.08380879575832711, 0.09769362032939632, 0.11261244316003416, 0.12819627340527495, 0.144125774198546, 0.49669603499993953, 0.5264288607534111, 0.5584680618858348, 0.5923609564299918, 0.6275166757262238, 0.6632064172607346, 0.698586669705075, 0.7327471506635428, 0.7647845120086523, 0.793902182273733, 0.8195344743610011, 0.841482604876279, 0.8600066282242931, 0.8757431934515403, 0.8893580104526705, 0.9009561484501769, 0.9093538010388611, 0.9116752479239228, 0.9042418767316874, 0.8846415329647178, 0.8529705443566231, 0.8113444042641356, 0.7625044653218743, 0.7088527377243633, 0.6522328750059516, 0.594033217435089, 0.535337112072078, 0.4770453167743318, 0.41996037663681046, 0.3648380484336586, 0.31241253345537795, 0.26340057905463615, 0.21848752554856649, 0.17829738619840685, 0.14335010926321623, 0.11401323385091511, 0.09046125318330267, 0.07265850182677691, 0.060373542669193925, 0.05321853170897117, 0.05069865592886125, 0.052259002989397785, 0.057322737593732076, 0.06531940766014999, 0.07570451038016923, 0.08797208591557726, 0.10166201379422968, 0.11636337818186493, 0.13171501123511964, 0.14740428417605578, 0.5058269682839042, 0.5355142379242892, 0.5673876639114813, 0.6009964144780822, 0.63575880831225, 0.6709624664365189, 0.7057861657452131, 0.7393450857535375, 0.7707602994539655, 0.7992526225179287, 0.8242590245417027, 0.8455618032407767, 0.8633782062262019, 0.8782646262755922, 0.8907447496217169, 0.9007375857462576, 0.9069488202633301, 0.9066972441294596, 0.896841099840829, 0.8754312306739698, 0.8426793064173158, 0.8005830310694525, 0.751723048949584, 0.6983781208978922, 0.6423182434092779, 0.5848876383401479, 0.5271362311737435, 0.46993284053976236, 0.4140463675615693, 0.3601966498280379, 0.30907999846593176, 0.26137384649571205, 0.2177235971728293, 0.1787141698197069, 0.14482994582880582, 0.11641043663139161, 0.09361377647617242, 0.07640143528533772, 0.06455070454638212, 0.05768974254300108, 0.05534274811370876, 0.05697397455118036, 0.06202446142177287, 0.0699398054452256, 0.08018964703648013, 0.09228036547240626, 0.10576252605216319, 0.12023440323520118, 0.13534269457066372, 0.15078147047289892, 0.5145307791931207, 0.544153032851081, 0.5758489274633325, 0.6091701147311195, 0.6435442277330538, 0.678275091101878, 0.712563117178358, 0.7455477496906294, 0.7763725595697714, 0.8042727467002313, 0.8286830291879277, 0.849358343622995, 0.8664621381151573, 0.8804617095723614, 0.8917395806980708, 0.9000519261483025, 0.904036035572735, 0.9012161907677236, 0.8889414300515204, 0.865704630678234, 0.8318676353003336, 0.7893465292933698, 0.740556649372684, 0.6876283425680817, 0.6322382337940678, 0.5756755054149176, 0.5189521835381415, 0.46290445373392086, 0.408268716506184, 0.35573070261285417, 0.3059507245513136, 0.25956866405619733, 0.21719165091339776, 0.17936720606022494, 0.14654592666395783, 0.11904095778151413, 0.0969951844911694, 0.0803675362862124, 0.06894384423754962, 0.06236806362744529, 0.06018347019710846, 0.061873818441221196, 0.06689849844855422, 0.07471964186607494, 0.08482144738557951, 0.09672294351362842, 0.10998558616953369, 0.12421695843847469, 0.13907167597877745, 0.1542505099264695, 0.5227948768936419, 0.5523316447284978, 0.5838364896372178, 0.6168641146064121, 0.6508514315246093, 0.6851180059275647, 0.7188849629762432, 0.7513145469598195, 0.7815707250492305, 0.8089002191931297, 0.8327316011744701, 0.8527863347986824, 0.8691658652675922, 0.8822428392048058, 0.8922640187836623, 0.8988490681892652, 0.9006050430055369, 0.8952658527853538, 0.880627046762993, 0.8555933932261561, 0.8206923824668375, 0.7777874823007215, 0.7291349923220427, 0.6767057378314452, 0.622070584083588, 0.5664545697731217, 0.5108269575703973, 0.45598966102867633, 0.40264683095601556, 0.3514512365950018, 0.303028654822332, 0.25798295080997724, 0.21688455787869504, 0.1802452747726947, 0.14848366867969653, 0.12188811058266447, 0.10058727677736368, 0.08453784686838017, 0.07353396034944948, 0.0672350561790277, 0.06520338585504948, 0.06694236400820996, 0.07193005808164299, 0.07964551411792642, 0.0895878377449969, 0.10128898226776806, 0.11432148692795097, 0.12830236281370522, 0.14289420292375, 0.15780448928908863, 0.5306088230857463, 0.5600386326889355, 0.5913371265801014, 0.6240625353918987, 0.6576608964560415, 0.691466848842753, 0.7247210749325128, 0.7566069384826057, 0.7863065805154503, 0.813075556397212, 0.8363333860785114, 0.8557646662254079, 0.8714036629077867, 0.8835251405169477, 0.8922485849142474, 0.8970841760037661, 0.8966429550756906, 0.8888710626194825, 0.8719674302387157, 0.8452106774544809, 0.8092943806209069, 0.7660483688939852, 0.7175827792004814, 0.665711076256972, 0.6118931987483578, 0.5572833298802081, 0.502803299041618, 0.4492185321333943, 0.3972004799870531, 0.34736951194749893, 0.30031792780023775, 0.25661487312690356, 0.21679554467188167, 0.18133763418446258, 0.15062936690735107, 0.12493584181528838, 0.10437248889429263, 0.08889399062080194, 0.07830252883725275, 0.07227262782552646, 0.07038527484372281, 0.07216354625684518, 0.0771043729482852, 0.08470398798004553, 0.09447668176371782, 0.10596756762708848, 0.11876044285371945, 0.13248186172338894, 0.14680245660676983, 0.16143643712137945, 0.537964259158527, 0.5672646731930193, 0.5983397829962208, 0.630751708382447, 0.6639553668495095, 0.6972996510902403, 0.7300434711690248, 0.7613894882209483, 0.7905357687666569, 0.8167442606532067, 0.8394234096572305, 0.8582202149726709, 0.8730997539178822, 0.8842372050174683, 0.8916353728687946, 0.8947210956535218, 0.8921393448844712, 0.8820527937169514, 0.863020715378897, 0.8346517242868304, 0.7977953526314406, 0.7542560781504957, 0.7060142620773396, 0.6547392647248009, 0.6017810335421783, 0.5482188866179594, 0.494923284179713, 0.4426207794801995, 0.39194921758995693, 0.3434966756812901, 0.29782268812829704, 0.2554627536717664, 0.21691816151900334, 0.18263402348550362, 0.152969819429571, 0.12816877493974344, 0.10833395342092789, 0.09341825258903236, 0.08323160107551575, 0.07746314367463969, 0.0757122488786337, 0.07752151857763512, 0.08240680280603074, 0.08988168990114886, 0.09947585977446394, 0.11074777615196074, 0.12329264594269729, 0.13674667283092845, 0.15078858983712617, 0.16513935506062227];\n",
       "const lower_is_better = false;\n",
       "const metric = \"accuracy\";\n",
       "const rel = false;\n",
       "const sd = [0.1324746354335689, 0.12130842103850689, 0.11332319555591881, 0.1086366662535038, 0.1065389512188666, 0.10572269280320878, 0.10481659296580376, 0.10284763952390442, 0.09944696809775834, 0.09482718730898228, 0.0895863262723446, 0.08436566665731322, 0.07945101089154841, 0.07454403738280685, 0.06890154580858456, 0.06173480178300808, 0.05255743109368656, 0.04132705977137691, 0.028460811303395946, 0.014855906349530103, 0.0019577265344680114, 0.00822097842733597, 0.013627237004327046, 0.01303406522902323, 0.0062175685491633135, 0.005960968762419197, 0.02170876004265798, 0.03912133581332312, 0.05653917473378104, 0.07258780728506341, 0.08617430527073255, 0.09646641103679449, 0.10286614531904051, 0.10498633905517912, 0.10263707416679858, 0.09583047675123707, 0.08482075677724289, 0.07022993762844197, 0.05345476943546753, 0.038198424978948965, 0.03410531947201277, 0.04726861800860547, 0.06875391214227998, 0.09228865236031453, 0.11561759486775317, 0.1378064701905178, 0.15842310205734522, 0.17728497770759186, 0.19435414120190253, 0.20968004984694308, 0.12510507831210485, 0.11304454887069502, 0.10447291050688742, 0.09964551697098209, 0.09781094363001606, 0.09745943685079256, 0.09699781229586356, 0.09531643263750293, 0.09201631971871217, 0.08737323574532621, 0.08212063442822208, 0.07706144765213403, 0.07258394488543383, 0.06836573583653065, 0.06355035722963982, 0.057251483612258444, 0.04895499126687273, 0.038638018514466514, 0.026751646317459986, 0.014318483608832736, 0.00468897943581913, 0.009281178902560595, 0.013930440979267713, 0.013304099523794206, 0.007681618269782706, 0.008689646095841318, 0.02290281926098243, 0.039767350506654, 0.05679041199124117, 0.07248933361983291, 0.08574513677440387, 0.09571639537073941, 0.10179831845954648, 0.10359306137062803, 0.10089049611434404, 0.09366411839934187, 0.08209260622592103, 0.06663995199106326, 0.04834313637007724, 0.03026202339888794, 0.024562086251383067, 0.040776349649040075, 0.0643629604881589, 0.08895626969969184, 0.1128494962157266, 0.13535656667411805, 0.15616167117228322, 0.17514395437597108, 0.19230128011611808, 0.20770480284976886, 0.11779766367894594, 0.10473892423475994, 0.09548443832569048, 0.0904859491477959, 0.08896372883203064, 0.08916041387956068, 0.08921226853055607, 0.08785148066882352, 0.08464646961067321, 0.07994329999754902, 0.07462968269544214, 0.0697021004627437, 0.06567657703198722, 0.062198597710845696, 0.05827119848306644, 0.05290333151344039, 0.04557632191742664, 0.0363268234139198, 0.025699409650099796, 0.014996563024383904, 0.008319112683300546, 0.011232452485294895, 0.014867781863879019, 0.01447130986184549, 0.010973086540715358, 0.01325828617321798, 0.025581949118924127, 0.04146553982621134, 0.05783219564797494, 0.07300809225205494, 0.08581473054431289, 0.0953883715301301, 0.10111304881168949, 0.10258082420952087, 0.09956601740628263, 0.09201313138796977, 0.0800426561512626, 0.0639886067101093, 0.04453767277763653, 0.02360493976959387, 0.015433762972911234, 0.03586298378373394, 0.06118780240960214, 0.086477924032812, 0.11067975860707037, 0.1333231043119776, 0.15418381783252405, 0.17318801077166376, 0.19036038863709356, 0.20578789147084225, 0.11062068946427212, 0.09644889776901494, 0.08639096934169462, 0.08117819574795995, 0.0800289518506742, 0.08087652688052166, 0.08152297047854745, 0.08051939982735054, 0.07740112528516677, 0.07259124915308338, 0.06715057934013867, 0.062307697448896485, 0.058740496881037, 0.056049845655592824, 0.05305885005767937, 0.048661606060920244, 0.04236113950156607, 0.034287592334977204, 0.025092915231717177, 0.01624689969404755, 0.011338268483496346, 0.013095557278585314, 0.015860081694604147, 0.015886309398523982, 0.014410207681949665, 0.01790842064124382, 0.02907936422963825, 0.043927302426733705, 0.05950590344311881, 0.07404195063780158, 0.08630920766142176, 0.09542382693319396, 0.10076083054315273, 0.10190626862619429, 0.09862623615228715, 0.09084939491329351, 0.07866333045825019, 0.06232634523025982, 0.042302399601669594, 0.019415383637125097, 0.007893731227118192, 0.03315330491978625, 0.05937582828835343, 0.08489394578273099, 0.10911672401889476, 0.1317025811238257, 0.15248110133903228, 0.1714066611619148, 0.18852038420411268, 0.20391847105750407, 0.10365598457010197, 0.08824794839413198, 0.07723499243964962, 0.07174562355797993, 0.07104671682356026, 0.0726741103713706, 0.07401053384534825, 0.07340430772902269, 0.0703613051638709, 0.06538720540824546, 0.05973249743606033, 0.054904422502126654, 0.05179143915629606, 0.04993171217887845, 0.047911475097096874, 0.044497304248393266, 0.03924545894603824, 0.03240688703062193, 0.024709615071545364, 0.01755943090249459, 0.013641422387530359, 0.014465186593770153, 0.0165457159193186, 0.017151098864598764, 0.01754816494344734, 0.022275442253371174, 0.0329148109063393, 0.046877260795741886, 0.06164498648783129, 0.07547920566998254, 0.08714591730376549, 0.09575597293636216, 0.1006835453183818, 0.10151598746536505, 0.09802062913289987, 0.09012558221718732, 0.0779150229442873, 0.06164082617727308, 0.04175931386884883, 0.01910155777303766, 0.008124458435983518, 0.03304944120153892, 0.058974879943012724, 0.08420205694635993, 0.10814725346898464, 0.1304792347908998, 0.15103743707908682, 0.16978434834196243, 0.1867666791179082, 0.2020832212899033, 0.09700058865301987, 0.08023120727174365, 0.06807245284343831, 0.062214988236845334, 0.06206966632271273, 0.06464207320977032, 0.06677958124710344, 0.0666131842055241, 0.06363085878588093, 0.05842387222331592, 0.05244212832614588, 0.04752659095288395, 0.04485005131327002, 0.04386331804130717, 0.042832773110056795, 0.04038397724488237, 0.036167270461770824, 0.030577548696913422, 0.024358013828047732, 0.018639896925614307, 0.015222483916100354, 0.015187467754279224, 0.01673418750295023, 0.01807924744100243, 0.020289978120071432, 0.02627829260261895, 0.03680445410801936, 0.050091246950542345, 0.06409416977563087, 0.07720848977589613, 0.08823918885640686, 0.09631355794171965, 0.10081734468595362, 0.10134899213226567, 0.09768789896109795, 0.08977749018885489, 0.07772775311821947, 0.06185175992170794, 0.042808253670176544, 0.02251330291373432, 0.015344957957284994, 0.03538691916543232, 0.05990823530226888, 0.08435423346481004, 0.10773639446407567, 0.12962517027471998, 0.1498292794146207, 0.1683006055814502, 0.18508131405876824, 0.2002664582247841, 0.09076766152142637, 0.07252306119511583, 0.05898024714102094, 0.05261669957220476, 0.05317071949006171, 0.05690350211183524, 0.05996741934839336, 0.060282308854207683, 0.057343319556170766, 0.051825715215026304, 0.04537300520901951, 0.040220127107085425, 0.03794262943784857, 0.03787316362232794, 0.03783448140123861, 0.03630060783673949, 0.03307194096033384, 0.028710173694026658, 0.023899473869066896, 0.019350752611491887, 0.016112761343791582, 0.0152144011095477, 0.016343987929854472, 0.01862041166892234, 0.02264934082819843, 0.02991739274736202, 0.040596088891800386, 0.053404121233127315, 0.06672028830521445, 0.07912613616107267, 0.08950523722829126, 0.09702442091630326, 0.1010955471832698, 0.10133941681048236, 0.09755890277821339, 0.08972776017166381, 0.07800677182501808, 0.06282117040651339, 0.04515112076119024, 0.028023092774172812, 0.023516478104779068, 0.03952449138985062, 0.061988977369860185, 0.08526097492348463, 0.1078291634555411, 0.1291012730753333, 0.1488261535690083, 0.1669303949468911, 0.18344319021405106, 0.19845030658105248, 0.0850855736683474, 0.06528696328721333, 0.05007067979123886, 0.04298509548306478, 0.044458947679110246, 0.049634262044325354, 0.0537544286329857, 0.05458331443014335, 0.05166881957569897, 0.045761337460448546, 0.038662010620692, 0.033049545200552755, 0.031101823777155826, 0.032002893826374175, 0.032939438431200625, 0.032234386258488706, 0.029916737167236723, 0.026740789295889498, 0.023252237448200604, 0.019651655540608836, 0.016372641460544023, 0.014553274898333175, 0.01536740488700467, 0.018818010044778056, 0.024692265442699982, 0.03322859642747954, 0.04421660731106708, 0.05670262150405089, 0.06941600447807557, 0.08114064044203327, 0.09086581902774289, 0.0978184677370695, 0.10145127456489623, 0.10141916886200336, 0.09755977527658369, 0.08989033584955704, 0.0786406838466769, 0.06437480594115101, 0.04840161482198522, 0.03434786821413617, 0.031590735578679786, 0.04474673595400448, 0.064965440290485, 0.08680172193906507, 0.10835413431360932, 0.1288588047723971, 0.147991494035072, 0.16564460197573327, 0.1818283897470968, 0.1966149268263927, 0.08009357775384543, 0.05873604183606183, 0.041521188643183576, 0.0333587236648876, 0.03611485550249684, 0.043090566414960674, 0.04837245852996171, 0.0497244515934065, 0.04681672003370087, 0.040456665277754836, 0.032518449040723305, 0.02611431958421531, 0.02436740693860972, 0.026314024109631958, 0.028185759323276802, 0.02818334558004654, 0.02667416991751548, 0.02463488660391837, 0.022386043622145566, 0.01956341164423972, 0.01609070743652569, 0.013248572057055279, 0.013859161874765375, 0.018791215298867806, 0.02651580074908389, 0.03626680159475368, 0.04763981565765443, 0.05991405486183089, 0.0720990039124926, 0.08317462997369877, 0.09225059077080729, 0.09862993127276456, 0.10181965770338976, 0.10152030622146004, 0.09761490281164677, 0.09017496990187222, 0.07951017191510772, 0.06632595223307562, 0.05218964670913734, 0.040839577908775175, 0.03933783021608225, 0.05050143102350993, 0.06857153224869471, 0.08883818861326097, 0.10922816835213958, 0.12884148857343633, 0.1472837188480365, 0.16441065600945687, 0.1802105697345027, 0.19473878945905665, 0.07593215483045121, 0.05313880415174933, 0.0336381199003483, 0.023780633972413916, 0.028473950798000434, 0.03763986259499207, 0.04410031144272068, 0.045937828505105575, 0.043024067729883736, 0.03619807220647956, 0.027269639873711032, 0.01959380392277155, 0.017787582341655134, 0.02090218623135933, 0.02363339074210625, 0.0241590391410737, 0.023334160962546417, 0.02238888116742141, 0.021313438671750045, 0.019147006992820424, 0.0153849065823269, 0.011376935011324255, 0.011948458077358497, 0.018724880100498394, 0.02823394026083543, 0.03909658788858757, 0.050867241831627066, 0.0629955672437631, 0.07470894777684087, 0.08516505264924094, 0.09359834779839472, 0.0993989228635829, 0.10213954897138905, 0.10157701602555758, 0.09764950839193137, 0.09049123779713214, 0.08049570545699478, 0.0684944051043121, 0.05621121428133687, 0.04718045439243845, 0.04666207255947737, 0.056418191324436026, 0.07256189412782955, 0.09122714623825477, 0.11036149174894916, 0.1289878477890048, 0.146657452500506, 0.16319323862551582, 0.17856141155863453, 0.19279898736083126, 0.07272679924107073, 0.04880583341838224, 0.026987655789861273, 0.014298717130057308, 0.02221872225208644, 0.03376058842033365, 0.04122601960416207, 0.043440552925970884, 0.04051574670983074, 0.03329864248119238, 0.023400776531824628, 0.013889520422216061, 0.01142350483151012, 0.015931976122182615, 0.019375786925531206, 0.02018987098098163, 0.019905269881561303, 0.020030301245546694, 0.02008028658052537, 0.018489159629273576, 0.014404125709544356, 0.009053456911656828, 0.009891571979908772, 0.01885051873129437, 0.029963286160450367, 0.04178470635303016, 0.05391603107642904, 0.06592531778868019, 0.07720365894870987, 0.08706227790840447, 0.09485741937358466, 0.10007237562883967, 0.10235476093699042, 0.10152715610412254, 0.09759172685098084, 0.09075174970567985, 0.08148335035914311, 0.07071790842272985, 0.060234832753814894, 0.05319967715433837, 0.053506950481078036, 0.06225678861042985, 0.07672800393793529, 0.09383039005057595, 0.11166242653744228, 0.12923356411244086, 0.14606480690547385, 0.1619550400859028, 0.17685110627606887, 0.19077157631845534, 0.0705664948997507, 0.04603594756079615, 0.022570697238270866, 0.0049667025165439325, 0.018637945508322228, 0.03192709802017113, 0.03996096281128918, 0.04236848700356063, 0.03943290402249173, 0.03199728939878685, 0.021471050637330482, 0.010054150190765287, 0.005382962640670093, 0.011728710625746912, 0.015561854459050865, 0.016326694921922028, 0.016415417500297878, 0.017617828827735764, 0.018755567914392774, 0.01768905092510386, 0.013327421447509214, 0.00646999172988068, 0.008202750163933402, 0.01940250400571141, 0.03180764510344452, 0.04439334979928872, 0.056810732739525395, 0.06869557773210938, 0.07955533699786355, 0.08882864766395418, 0.0959855001048417, 0.10060452124312609, 0.1024149028544169, 0.10131338632321553, 0.09737415225401182, 0.0908744746461596, 0.08236852028168146, 0.07285699339118867, 0.06408985445968486, 0.05879578820579556, 0.05983333846011091, 0.06785963434779944, 0.08090092677272685, 0.09652118129137585, 0.11304132203817523, 0.12951366523337193, 0.145456638235834, 0.16065752533018526, 0.175048856668535, 0.1886319337838595, 0.06948222252119864, 0.0450154247224046, 0.02158255428613158, 0.004164315455351493, 0.01904702829750182, 0.03234294415765707, 0.04033687919491724, 0.04271229226802651, 0.039762102638927155, 0.03232167510275583, 0.021748318781009232, 0.009891369125549918, 0.0014961679535793807, 0.008969184947008836, 0.012432348201692601, 0.012655126185283394, 0.012912905916113144, 0.015241825667463321, 0.017419362334277943, 0.01684333987455027, 0.012353971013811985, 0.004101295515049804, 0.007746171481641777, 0.02055128400207756, 0.0338439763390015, 0.0469744137142172, 0.05957745876263618, 0.07130744395651102, 0.08174716684962333, 0.09043684192439388, 0.09694915501648493, 0.1009570459859406, 0.10227590973242803, 0.10088395601359386, 0.09693490960913648, 0.09078424909280317, 0.0830579734981461, 0.07479551762802782, 0.06765189141577922, 0.06390397832541597, 0.06561269352102336, 0.073120906639206, 0.0849475449654002, 0.09918756845296102, 0.11441349986444332, 0.1297644145110791, 0.14478371417955888, 0.15926167596448318, 0.1731233783012461, 0.18635512660984438, 0.06943389903976402, 0.045719180722914185, 0.02417272844864032, 0.013020577769975243, 0.022964509688376843, 0.03475370945541035, 0.0421695193984639, 0.04430533509552484, 0.04132283916522248, 0.03404032711127621, 0.023884152157313376, 0.013042419931415422, 0.00618391342717563, 0.008537808424605064, 0.010340054344028468, 0.009327805838832519, 0.009469923251147675, 0.01302457292382554, 0.01614782439934995, 0.01602913774393226, 0.011672016191379616, 0.0035072964220751466, 0.00908597374571009, 0.02234956195994238, 0.03611332373401981, 0.04956534135835647, 0.06223975385200802, 0.07376686278972443, 0.08377045594366192, 0.09186828300566793, 0.09772317784332835, 0.10109905517117644, 0.10190036191838221, 0.10019323071048236, 0.09621833942229621, 0.09041362396884291, 0.08347053752067492, 0.07643901585523062, 0.0708307527601828, 0.06848138437677158, 0.07082447398724237, 0.07796824394034263, 0.0887647724798759, 0.10173345501012572, 0.11570123592816674, 0.12992484093029213, 0.14399774684445424, 0.15772868177366187, 0.17104338461060384, 0.18391627974615046, 0.07031239386577148, 0.047899470868012016, 0.02912094168142954, 0.021551524684977574, 0.0287290796036047, 0.038600218875632926, 0.04512962641834126, 0.04687744668656167, 0.04382922829720083, 0.03676756182008444, 0.02717815524843787, 0.01740503449227462, 0.011092468336036774, 0.010188246936532341, 0.00959781433043531, 0.006652698538052178, 0.0061980972772372744, 0.011115149085348091, 0.014995466202565704, 0.01528807789310152, 0.011403198941690262, 0.005542723884770208, 0.011758467331831017, 0.02473186979092756, 0.03861917432986049, 0.05218705792617431, 0.06481590021441357, 0.07608173531554839, 0.08562232413686371, 0.09311170271698468, 0.09828992722297207, 0.10100695003391713, 0.10125768489637915, 0.09920204337449194, 0.09517539426941611, 0.0897032250926405, 0.08353703092922239, 0.07771227475111711, 0.07356174231072085, 0.07250001782721384, 0.07545503759487535, 0.08235206194926388, 0.09227393048489238, 0.10407828481934607, 0.11683492743275503, 0.1299379024794563, 0.14305226731175236, 0.15602056328825353, 0.1687780444072451, 0.18129093957219317, 0.0719563413192293, 0.051177947936244396, 0.03516765341642332, 0.029703425237331913, 0.035190292511381144, 0.043310852899359764, 0.048856200911361614, 0.050132522314695026, 0.04697552267899203, 0.04011226436127113, 0.031015617427181993, 0.021920727096450217, 0.015554190953152075, 0.012697861725810514, 0.010092015228650277, 0.005228515160428787, 0.00334327526349185, 0.009664333609127699, 0.013978510833067937, 0.014617634713765013, 0.011553552963773757, 0.008454355882054669, 0.015068086338025618, 0.02756083432385818, 0.04133289073569894, 0.05484412809603476, 0.06731750121696768, 0.07825993560554977, 0.08730392037295605, 0.09416193158158077, 0.0986387202747325, 0.10066429546425541, 0.1003243062922841, 0.0978779494021684, 0.09376384143039744, 0.08860178677803766, 0.0831997539838986, 0.07855690625363951, 0.07579974942209752, 0.07594318205438184, 0.07949715446589785, 0.0862392515812116, 0.09541605672696277, 0.1061560181103207, 0.1177536407007857, 0.1297513145660644, 0.14190333588625734, 0.15410071480849352, 0.16629740381137864, 0.17845542753513144, 0.074176522011318, 0.05516111740069806, 0.04156827867989863, 0.037429109525535666, 0.041784953923048006, 0.04844691275475002, 0.05303283008873641, 0.053803736903125746, 0.05049343466687277, 0.043759501214864126, 0.03499685287336707, 0.026216669388151703, 0.01950945338755307, 0.015274843528666577, 0.011271395352723859, 0.005477078781555661, 0.0020221023329146, 0.008760797640603066, 0.013066622188282362, 0.01397517184738748, 0.012022408396028448, 0.011474436393382765, 0.018600147600792316, 0.030679313870337885, 0.044203445439382816, 0.05752682307794808, 0.06974917784600239, 0.08030810216970827, 0.08881911659710524, 0.09501892750856301, 0.09876532841708516, 0.10006173428834675, 0.09908383443003042, 0.09619545684066788, 0.0919483535427467, 0.08706598702272297, 0.08241180785687541, 0.07892927477619294, 0.07751537645192927, 0.0788036171123996, 0.0829498193478138, 0.08960939344500449, 0.09814826454779658, 0.10791384260369082, 0.11840523237673474, 0.12931809702207964, 0.14051009597406344, 0.1519343642557621, 0.16357276820023187, 0.17538718193370503, 0.07677894720911912, 0.05950970545094283, 0.04793003535723286, 0.0446867584686333, 0.04823486605088483, 0.05370762933405919, 0.05741198219341464, 0.05767520764609412, 0.05417185730333611, 0.04748344874097539, 0.038888301377831176, 0.030150951990950022, 0.02294043075533699, 0.017582477078556657, 0.012593153470502313, 0.006686217946140733, 0.003373438613325478, 0.008352855344164144, 0.01218939448498758, 0.013294700352450721, 0.012666860980121732, 0.014389429273569157, 0.02213735690775334, 0.033942901525257356, 0.047168046895066394, 0.06021445221336026, 0.07210915440094787, 0.08223106838112683, 0.0901736165251339, 0.09568703470187707, 0.09867159444561589, 0.09919698510929684, 0.09752731264852904, 0.09413629739923694, 0.08970055654393295, 0.08506017886372318, 0.08113641022998791, 0.07879890792036655, 0.0786924966071969, 0.0810825743840279, 0.08581823558360806, 0.0924524494009522, 0.10044102451599096, 0.10931088035350216, 0.11874620756890646, 0.1285969019223651, 0.1388351889510303, 0.1494889518445889, 0.16057704300230757, 0.17206508795654038, 0.07958123624724565, 0.06395745709528865, 0.05403547728976979, 0.05143960142072937, 0.05438754084283634, 0.058892374619437395, 0.061809920227088214, 0.06158196130056527, 0.05785420974480187, 0.05113144288319998, 0.042559135339609346, 0.03367003066207107, 0.025851650360632614, 0.01948376814325548, 0.01371814831255525, 0.007970483719359428, 0.005122544615935599, 0.008249553060564692, 0.011256730842465233, 0.012510373731647222, 0.013365408714860387, 0.01711852246885847, 0.025559602257950773, 0.0372327053640687, 0.05016118166311548, 0.06287920524183895, 0.07439046060739855, 0.08403179283106953, 0.09137440862020241, 0.09617444620117128, 0.09836517047991865, 0.0980749455056584, 0.09565359694050961, 0.09168980303137711, 0.0869990951328493, 0.08255608275144398, 0.07934631219292694, 0.07814742088378815, 0.07932682609346223, 0.08278944046909684, 0.08811391584952721, 0.09476735002597667, 0.10227618615889945, 0.11031702643055065, 0.11874144209291826, 0.1275521842496038, 0.13684505287857104, 0.14673443369606182, 0.15728503498532134, 0.1684697984191284, 0.08242138525087245, 0.0683037464407826, 0.05975325983383761, 0.057655667943935875, 0.06015004601922825, 0.06386593738347492, 0.0660928443711018, 0.06540142289345305, 0.06142804802654501, 0.05460402913989253, 0.045940160121968006, 0.03676352166480634, 0.028267235903235533, 0.020932971036974883, 0.014467659595990641, 0.008910223104369655, 0.006497410359902056, 0.008224634963345717, 0.010184644343335538, 0.011579718358397889, 0.014047609226982734, 0.01963102614997262, 0.028797991380731434, 0.04045693720737298, 0.05312101454335188, 0.0654898504005411, 0.07658246450374837, 0.0857116468570966, 0.09242948765165591, 0.09649283192433702, 0.09785936117889314, 0.09670790925918242, 0.09346990124636367, 0.08885345954407303, 0.08382977381554327, 0.07953248148653619, 0.07702338691761454, 0.07696795852060263, 0.07942524795838822, 0.08394172157947204, 0.089854875077923, 0.09656114776850601, 0.10364557261511755, 0.11091198078679315, 0.11836386242917009, 0.12615427251461409, 0.13451013041141957, 0.14364351921361837, 0.15367371801988183, 0.16458405008346294, 0.08516068382903927, 0.0723990706226331, 0.0649972861922542, 0.06330755165408618, 0.06546086847495047, 0.06853511821033612, 0.07016360472811463, 0.06904369136245982, 0.06481423494627167, 0.05783884802982928, 0.04900014398383816, 0.039446715695997364, 0.030229831305900172, 0.02193856983848284, 0.01476416783996073, 0.009339892131079018, 0.007378126915559948, 0.008115862240266492, 0.008917299815794382, 0.010503341393391343, 0.014695524758084784, 0.021923106060348616, 0.03181400200361425, 0.04354789280453188, 0.05599316111691814, 0.06801484977602765, 0.0786724787406876, 0.08727092072136589, 0.09334776787730147, 0.09665708664980573, 0.09717304384034625, 0.09511589329092424, 0.09099255391700817, 0.08563372570121262, 0.08018583997641357, 0.07597494229497362, 0.07415845171188462, 0.07526517443898274, 0.07900573527391268, 0.08456529234589767, 0.09106590380626785, 0.09784854405113638, 0.10455001582504393, 0.11108449441372067, 0.11759415069592981, 0.12437939000068768, 0.1318050117915747, 0.14019185251713967, 0.14972246921416957, 0.16039298310622377, 0.0876831232166966, 0.07613164825860556, 0.06970745083521704, 0.06837218470020005, 0.07027699935759567, 0.07283425093871754, 0.07395145364143414, 0.07244324183761955, 0.06795798866608548, 0.06079899446099166, 0.051731825223909754, 0.041751688330653916, 0.031798865846308096, 0.022550221168243425, 0.014601523556203101, 0.009204632065692364, 0.007765393462065922, 0.007858313404594966, 0.007441392849819175, 0.009342022797423917, 0.015330374964350909, 0.024006152204638274, 0.03458827671629644, 0.046457604663209424, 0.05873236523959562, 0.07042468698173333, 0.08064724112949087, 0.08870942418424874, 0.09413911370794562, 0.09668514819845192, 0.09633062533331237, 0.09332705462814939, 0.0882480081024253, 0.08204723744697194, 0.0760685005251897, 0.07187557892169726, 0.0707514024079618, 0.07305580944994192, 0.0780977974594932, 0.08469485770861537, 0.09177891423785899, 0.09865167580404406, 0.10499873440030313, 0.11083183225240459, 0.11642052381517524, 0.1222096716011968, 0.12870853846959152, 0.13635814874530822, 0.14541328294072617, 0.15588447426567204, 0.08989315349626018, 0.07941718419421488, 0.07384000041386446, 0.07283062770369929, 0.07456750171224058, 0.07671637455385676, 0.07740472589331489, 0.07555252361074771, 0.07082202924260955, 0.06346473841694644, 0.0541428882371609, 0.043721109223634175, 0.0330472386086153, 0.02285258772020906, 0.014035028532408522, 0.0085100919626277, 0.007717233816134792, 0.007476006592202525, 0.005794977112055866, 0.008231840206687003, 0.01599188588040469, 0.025897991937995645, 0.03711336702265961, 0.049153496903403815, 0.06130272926916629, 0.07269338847864117, 0.08249414096532277, 0.09002707991261108, 0.09481442069533091, 0.09659783481657801, 0.09536198445335213, 0.0913781569032549, 0.08527414334081508, 0.07812256732092346, 0.07148781783119428, 0.06723285893474765, 0.06681179127592198, 0.07036999939269979, 0.07674342354097109, 0.08437459444178473, 0.09203334936981601, 0.09900008972190358, 0.10500898431560313, 0.1101594490746349, 0.11483862546584996, 0.11963321778938052, 0.1252038925993171, 0.13212429586310823, 0.14073097183012842, 0.1510494985235736, 0.09171294047996653, 0.08219159480574513, 0.0773623886491678, 0.07666788165423086, 0.07831005634121135, 0.08014777577266176, 0.08048573380922912, 0.07833719510278864, 0.07338143833698868, 0.0658275079487466, 0.05624951339357055, 0.04540276862972433, 0.034055909224437686, 0.022958807013526383, 0.01318257046770313, 0.007303706030295651, 0.007336398310080896, 0.007057008878270264, 0.0040799630245721835, 0.0073841488376491455, 0.016715135559999022, 0.027615591157412547, 0.039388511784533835, 0.05161452772585656, 0.063677064820994, 0.07479933648854743, 0.08420213011859451, 0.09122443567293603, 0.0953856902635501, 0.09641865237785704, 0.0943023370832174, 0.0893150159860499, 0.0821218760665246, 0.07390278447408703, 0.06646423969840169, 0.06205145664781722, 0.06236009127635508, 0.0672535385944117, 0.07499852114877684, 0.08365893685042619, 0.09187663772582334, 0.0989308546606956, 0.10460593278561008, 0.10908087479281307, 0.1128515652425099, 0.11664422724095605, 0.12127869835826657, 0.12747543200353695, 0.13566336560479345, 0.1458825387486117, 0.09307971597470299, 0.08440596949089722, 0.08025036076287421, 0.07987272899274747, 0.08148898403904781, 0.08310453295179171, 0.08316720984288227, 0.080772607886664, 0.0756198014543662, 0.06788539123913623, 0.05807138889962399, 0.046844269220066924, 0.034906352191923284, 0.022999211124417645, 0.012230477106961356, 0.0056665656805877165, 0.006765324494068087, 0.006712576760456944, 0.002516570458435413, 0.007021097879880904, 0.017511156109656884, 0.02916977175880004, 0.041415905849725425, 0.0538279894146232, 0.06583579314463582, 0.07672552503565208, 0.08576231217293068, 0.09230304959583827, 0.09586605480704255, 0.09617352666766346, 0.09319195127526418, 0.08719281187781337, 0.07885704577922635, 0.06944916227453521, 0.06103123794331129, 0.05634214941161854, 0.05743011875549719, 0.06377145333005177, 0.07293484070147917, 0.08261344862069904, 0.09136466103673227, 0.09848877061426568, 0.10382271814195823, 0.10761780849733552, 0.11047014054438578, 0.11324325414385343, 0.11692516383667514, 0.12240000755055548, 0.1302015211460028, 0.14038207093501284, 0.09394347078140922, 0.0860230972175939, 0.08248621470512414, 0.08243761171527035, 0.08409405826908567, 0.08557027307527938, 0.08542980865610345, 0.08284121091813956, 0.07752630385169898, 0.06963972480940833, 0.05962774167896217, 0.04808799597237757, 0.03567156027706618, 0.023102787709090418, 0.011430335657998718, 0.00371254043009033, 0.0061770386170311685, 0.006517602389292043, 0.001685770684323346, 0.007216213131454854, 0.01835821752421489, 0.030562758805243815, 0.043198341726572095, 0.055787009932991204, 0.06776568891649797, 0.07845941951033855, 0.0871682402671908, 0.09326572870881919, 0.0962697244770939, 0.09589042399560803, 0.09207563221987819, 0.08507609739505731, 0.07556243164300726, 0.06484648922393489, 0.055239985414305685, 0.05012175417709005, 0.05207356961527981, 0.06001338511082378, 0.07064230518758635, 0.08131567412051016, 0.09056217714138333, 0.09772662914938293, 0.10270066294680756, 0.10580042304124507, 0.10771328208756309, 0.10943764673268164, 0.11214029862505434, 0.11688984032910851, 0.12433996118850783, 0.1345511633607075, 0.0942650578679989, 0.087015059674594, 0.08405772429171544, 0.08435855514020907, 0.08611977797368649, 0.08753469133976577, 0.08726034240201722, 0.08453063745609837, 0.07909355941561891, 0.07109253761952974, 0.06093427734143726, 0.04916681873935889, 0.03640714133580408, 0.023372733027869633, 0.011053476002376703, 0.0016292313449685185, 0.005745485212687689, 0.0064594662688761545, 0.002111818219366191, 0.007805327789425732, 0.019206971048288675, 0.03178884875921605, 0.04473812306915524, 0.057488724371308246, 0.06945864908202032, 0.0799925631551782, 0.08841597568478332, 0.09411662240122484, 0.09661184208566262, 0.09559883506975722, 0.09100189697387162, 0.08303826766530487, 0.07233953783706455, 0.060210468337322263, 0.04916797724468065, 0.04341310276022104, 0.04636868360987096, 0.056101363646795334, 0.06823148971771971, 0.07985577964105554, 0.08954310266780781, 0.09670546517991273, 0.10128960275807909, 0.10366788121338795, 0.1046087723703401, 0.10524224224436718, 0.10692625466245556, 0.11094017160225336, 0.11807696581440405, 0.1283982450040094, 0.09401469068341915, 0.08736154896774592, 0.0849574611844399, 0.08563514727873311, 0.0875649355616569, 0.0889925745403327, 0.0886505390246611, 0.08583231350883816, 0.08031603022761255, 0.07224473180984603, 0.06200105563045685, 0.050101086113413594, 0.03714462188521837, 0.023863414759956264, 0.011276128084996147, 0.001081526918623955, 0.005579813158884895, 0.006443173189532269, 0.0028476188611139975, 0.008518964196510445, 0.019996045135380718, 0.03283758610163384, 0.04603699620713488, 0.05893302029744388, 0.0709105825039134, 0.08132004577026629, 0.08950396803842722, 0.09486118870682377, 0.09690824711556395, 0.09532911268879361, 0.09002177151917319, 0.08116019433144146, 0.0693094196027151, 0.05569736880424661, 0.04293564865335, 0.036245061337177455, 0.04043746048640971, 0.05220028075417324, 0.06583564251423214, 0.07833667307363198, 0.088390508307695, 0.09549471260633595, 0.09964827651508631, 0.10126905644423369, 0.10119429586455138, 0.10068042354977584, 0.10129086072337692, 0.10454973033033428, 0.11141495281190826, 0.12193812462105767, 0.09317079268138995, 0.08704868213547295, 0.08518237726327743, 0.08627058588169016, 0.08843239705678188, 0.08994317864948582, 0.08959619008207267, 0.08674048006847701, 0.08118894182221847, 0.07309492686777566, 0.06283133882064348, 0.0508973451269763, 0.03788885052581391, 0.024569503477387487, 0.012071007680216168, 0.0030394343844307925, 0.005660324412269759, 0.006350686481818959, 0.003279825912258578, 0.009146457328394727, 0.02067015548242858, 0.03369803988724739, 0.04709668324177903, 0.06012171225327413, 0.0721204556385966, 0.08243992055909122, 0.09043281824861388, 0.095506062362352, 0.09717516301181112, 0.09511167312720882, 0.08918717473555231, 0.0795277100801905, 0.06661130805440821, 0.05151473459477018, 0.03673969046134144, 0.028652626778212707, 0.03448132638645721, 0.04852999897517276, 0.06361105219222109, 0.07687313901409316, 0.08719611699346828, 0.09417213631342475, 0.09784469312039135, 0.09866342949985576, 0.09751888577740091, 0.09578568873063895, 0.09524846220468149, 0.0977208137234291, 0.10436100443172631, 0.11519338266940152, 0.09171915165742586, 0.08606816210491994, 0.08473357460724218, 0.08627180871735005, 0.08872905507078974, 0.09038987440283865, 0.09009660362584813, 0.08725155571381625, 0.08170762320610576, 0.07363889906451968, 0.06342138510681428, 0.05154891542760515, 0.03862025187868872, 0.025433326992259385, 0.013239358966382208, 0.004939802053864275, 0.005859287830254936, 0.006100207419939235, 0.003274151017176275, 0.009587481085417406, 0.021193081692918732, 0.034362510305127394, 0.04791953724590179, 0.06105798167560175, 0.07308949273445017, 0.08335263005460512, 0.09120498110810728, 0.09605886011483807, 0.09742883298221398, 0.09497609298840677, 0.08854890999621523, 0.07822770882061202, 0.06439729899895988, 0.04792826506268415, 0.030920225980448645, 0.020677259753403593, 0.02885595032357678, 0.04537402070654126, 0.061733811870524076, 0.07558939032275032, 0.08605903539600898, 0.09282336328891924, 0.09595633929888701, 0.09592208873688947, 0.09364482551510796, 0.09060395227383526, 0.08882125324559624, 0.0904593943031665, 0.09692763801724222, 0.10819632237110101, 0.08965234257285384, 0.08441668543915284, 0.08361622816037435, 0.08564972824466002, 0.0884659411033201, 0.09034001293378975, 0.09015430899996221, 0.08736378745415099, 0.08186721058291484, 0.07386953224877942, 0.06376106123343472, 0.0520380698450332, 0.039301120081154176, 0.026366127561251965, 0.014540632863745868, 0.006548083072104594, 0.006027230924487716, 0.005672865179419797, 0.002855889580042065, 0.009836140130224665, 0.021551593220144785, 0.034828407077017266, 0.04850892287139189, 0.06174593727220076, 0.07382051359740398, 0.08406048396464466, 0.09182445778980872, 0.09652796143948246, 0.09768513771586941, 0.09495015545710943, 0.0881543642059546, 0.07734286459255775, 0.06282139459094221, 0.04525301414869683, 0.026081069408451733, 0.012368539312336344, 0.02421132220505292, 0.0430716831637216, 0.060390531910138955, 0.07461442020152562, 0.08508342170914172, 0.09154078660944322, 0.09407002599851999, 0.09312868329551717, 0.08965002426049065, 0.08519688886142732, 0.0820414288059379, 0.08277526921412463, 0.08913399507231669, 0.10099176658801425, 0.08696939945071562, 0.08209553015330333, 0.08183965170605591, 0.08441960082179382, 0.08765850168548862, 0.08980498815694178, 0.08977498125839715, 0.08707715145154726, 0.08166265726365965, 0.07377717591628592, 0.06383505895428505, 0.05233926414996966, 0.03988398756382518, 0.02727254749535417, 0.015782253456855595, 0.007793823118817681, 0.006049606455004082, 0.0051085584613244275, 0.002151264868996007, 0.00994462107556365, 0.021750653879791075, 0.035097919525601214, 0.04886912608575507, 0.06219020152962113, 0.07431739335121701, 0.08456722073562545, 0.09229652181944899, 0.09692230234079892, 0.09795923302153453, 0.09505891872841599, 0.08804510463715672, 0.07694538526376833, 0.062022521741936114, 0.04381105578154012, 0.0231937569599673, 0.003808291037005574, 0.02161513716785082, 0.041973481701757874, 0.05976128489739901, 0.07407480055944773, 0.08437484626464006, 0.09042159032859227, 0.09228109252674174, 0.09038005408877338, 0.0856307791597484, 0.07964673966066917, 0.07495475390419909, 0.07468228052994624, 0.08100777876575942, 0.09364114104494721, 0.08367574027323485, 0.07911027826438626, 0.07941752013909367, 0.08260157491066199, 0.08632705858163568, 0.08880049046691164, 0.08896756821716768, 0.08639347580880509, 0.08108899546731323, 0.0733502939466262, 0.06362444839716955, 0.05242271787195077, 0.040319864591080556, 0.02806966539497513, 0.01684320498931208, 0.008655497649166427, 0.005854199949531726, 0.004477209191292537, 0.0014129477111326574, 0.00997901810759863, 0.02180337607324342, 0.03517603119101511, 0.04900483111102838, 0.062395493774700134, 0.07458464055447007, 0.08487767930944556, 0.09262751545978685, 0.09725121671179641, 0.09826524579542015, 0.09532389061192283, 0.08825464217715777, 0.07709071445865853, 0.06210421741807976, 0.04384913402844723, 0.02327854670229346, 0.00511935815893245, 0.022146746789381975, 0.04235156268551543, 0.05999611684700889, 0.07408525001022256, 0.08403529149910859, 0.08956467768975321, 0.09069162359754192, 0.08778609382102637, 0.08170460118892302, 0.07406307736710141, 0.06762667885604118, 0.06619866657804062, 0.07258859983068139, 0.086228506724766, 0.07978338272837783, 0.07547064176017247, 0.0763682877134894, 0.08022148561529821, 0.08449749022690577, 0.08734696156409501, 0.08774461638774979, 0.08531676813294697, 0.08014180275725295, 0.07257628948356265, 0.06310830140634421, 0.052257696350293044, 0.040564696504186065, 0.02869755400820872, 0.01766789788370542, 0.00915424203610957, 0.0054013926893948586, 0.0038309372699005754, 0.001112046743383652, 0.009977637013371772, 0.02172082699520498, 0.03506801189766475, 0.04892037480956282, 0.062366237446919257, 0.07462710574055395, 0.08499760582590643, 0.09282474709371814, 0.09752435412293943, 0.09861606262518154, 0.09576239293070207, 0.08880666466194947, 0.07781245282774152, 0.063117212005912, 0.045451457466117146, 0.026479627994959273, 0.014082039404441353, 0.025830186503928373, 0.04430516915466543, 0.061191349684453604, 0.07473832242923471, 0.08415708952472852, 0.08906642296980541, 0.0894073323101105, 0.08546819143091283, 0.07801233791367451, 0.06859190469273167, 0.060153199570290396, 0.05734768495170583, 0.06393413377598942, 0.07886947715057997, 0.07531154354505055, 0.07119037008348578, 0.07271588242330408, 0.0773119995414983, 0.08220219260335766, 0.08547027554685674, 0.08612280561617168, 0.08385374339181807, 0.07881783912252174, 0.07144241003562253, 0.06226516558306848, 0.051815031070807836, 0.04058324740711068, 0.029122282833655318, 0.01825352091438968, 0.009356169928808982, 0.004681514879951776, 0.003164716341349006, 0.0013736284745764459, 0.009931726456991684, 0.0215063764327705, 0.03477751235999254, 0.04861903784709663, 0.06210625348982075, 0.07444984647236078, 0.08493361968734983, 0.09289651358654777, 0.09775169512022752, 0.0990232368489966, 0.09638718516715601, 0.08971401040395191, 0.0791197225403152, 0.06505202414039743, 0.04851377816859, 0.03195644429772869, 0.023171477189279192, 0.03169919901965875, 0.04773493482563652, 0.0633750586571787, 0.07609550701347943, 0.08481654879172933, 0.08901543385711956, 0.0885328900407492, 0.08355548637974537, 0.07471812341733314, 0.06342669753859541, 0.052680805028626015, 0.04815887940998252, 0.05513227746920551, 0.07172412291236538, 0.07028781243493656, 0.06628722394807535, 0.06849082721267234, 0.07391427276485703, 0.07948140518184668, 0.08320268852173275, 0.0841237179203127, 0.0820145644102277, 0.07711584135220319, 0.06993666991671371, 0.06107424910024216, 0.051068659657903574, 0.040350376633455656, 0.02933349966218592, 0.018636603143853618, 0.009374718766713768, 0.003731412937320573, 0.002441972085945282, 0.0016312660028673445, 0.009801435842354697, 0.021156446218808075, 0.03430584297780213, 0.04810256098363372, 0.061618610245350536, 0.07405818458407695, 0.08469336260978678, 0.0928522641192491, 0.0979436753524467, 0.09949702770998589, 0.09720638968657275, 0.09097854537953065, 0.08099764238409217, 0.06784479485265292, 0.052800420110449525, 0.03877990201268618, 0.03231714254828571, 0.03882280409612941, 0.05240651664070899, 0.06650827514691043, 0.0781821950087396, 0.08606839846736578, 0.08948687373545693, 0.08816580218494577, 0.08217826636534983, 0.07200485364411335, 0.058818647739690144, 0.04544379142181552, 0.03867113555137458, 0.04632707054915596, 0.0650144204310272, 0.06475028232327915, 0.06078300594817258, 0.0637320718152474, 0.070080378586372, 0.07638502266214112, 0.08058411840588041, 0.08177488489760514, 0.07981382967399583, 0.07503749003489063, 0.0680487705584769, 0.05951626714788505, 0.049996197564816325, 0.039850166006994266, 0.02933854077577303, 0.018878145671160956, 0.009363587011287339, 0.0026949809889254823, 0.0017050857713952923, 0.0016815704330226853, 0.009550296753947574, 0.020665657991416425, 0.033652277730028574, 0.04737094533313242, 0.060905692758478104, 0.0734579964734474, 0.08428585171556766, 0.09270291297466798, 0.09811141842906144, 0.1000465706420589, 0.09822372502946729, 0.09259195242709352, 0.08341071702939032, 0.07139326039174107, 0.058032637142343774, 0.04634442320598949, 0.04146967740783491, 0.04663442419319658, 0.058043740422770045, 0.07050052355221936, 0.08098795756570364, 0.08794224289003597, 0.09053723129618862, 0.0883894261158286, 0.08145840354775928, 0.07006250836406738, 0.055078126783738614, 0.03883183284457146, 0.02894186246717339, 0.03777840446575571, 0.059043791893345514, 0.058751412700227185, 0.054703645077565664, 0.058490084804787755, 0.06587690870869237, 0.07297505381664783, 0.07766383657354971, 0.07911118029248865, 0.07727187236993514, 0.07258860246955763, 0.06577104937947521, 0.057573985237233206, 0.048578728392705606, 0.03907360733169504, 0.029154651124780773, 0.019046265198320627, 0.009486217819040094, 0.0020294299307913994, 0.0012308409237919834, 0.0015861952250388704, 0.00916680369187434, 0.0200323923648297, 0.032814713696557085, 0.046422490536366094, 0.05996954721755397, 0.07265627984906789, 0.08372205240717646, 0.092461297652044, 0.09826706477282228, 0.10068016238719171, 0.09943901596363741, 0.09453728336542015, 0.08630818513102587, 0.07557595878862217, 0.06395193037936178, 0.05430315263116862, 0.05058664509932899, 0.054818057129439, 0.06439214179740252, 0.07523179634744218, 0.08447180000870755, 0.0904418309873224, 0.09220055727858213, 0.08926625746544252, 0.08149782238544687, 0.06906790074848407, 0.05255200561591056, 0.03349015279622341, 0.019084921346009334, 0.030006207019855607, 0.0542072449247156, 0.052365271859865746, 0.048079344346984645, 0.05283231286338815, 0.06139036894791959, 0.06932892241727827, 0.07450266663530883, 0.07617664775445887, 0.074416472130291, 0.06978065507745698, 0.06309954428684349, 0.05523256122681136, 0.04680010413640695, 0.03801565214036831, 0.02880077652400485, 0.01919748044130129, 0.00985835790341674, 0.002455599136156762, 0.0013968832280216274, 0.0013512867020756595, 0.008667544332265782, 0.019261932462487447, 0.031789958505015745, 0.0452540042453426, 0.058812563565931376, 0.07166204179557871, 0.08301567768211746, 0.0921427649854617, 0.09842417047128682, 0.10140563044268179, 0.10084891659554542, 0.09679101214424225, 0.0896300500819078, 0.08026861847267032, 0.070345626491795, 0.06245379349169023, 0.05963105900495511, 0.06318967091975435, 0.07124294577997334, 0.08057268393877479, 0.08857052473359943, 0.09354721599635296, 0.09448697620076212, 0.0908328971328234, 0.08236730762706566, 0.06915837113159012, 0.051561029619404286, 0.03035943685852879, 0.009547175994572306, 0.02410090588769305, 0.050963580165906644, 0.04570181943330205, 0.04094483128817956, 0.04685333594482512, 0.0567352661898516, 0.0655437935805534, 0.07117577474664469, 0.07302687106913988, 0.07128512701125055, 0.06663280796767379, 0.06003532935991816, 0.05247983369180117, 0.044646083208761525, 0.03667242024387681, 0.028290435445558957, 0.019360658058871154, 0.010496003698774709, 0.0036444664711311947, 0.001963222932320848, 0.0009251254011710926, 0.008102766426585263, 0.018366480357904245, 0.03057321585941444, 0.04386119307205693, 0.057438587155199824, 0.07048755298707024, 0.08218420619021671, 0.0917658512538088, 0.09859813702311661, 0.10223074501439182, 0.10244776166432788, 0.09932528563755831, 0.09331267690282294, 0.0853550437608482, 0.07704860293534564, 0.07067098007192527, 0.06857086469948644, 0.07163377287302272, 0.07843359443554515, 0.08639834590475573, 0.09320783143448842, 0.09721913704071265, 0.09738375059753265, 0.09309789875855859, 0.08409869916354874, 0.07040737933180072, 0.052306112026168534, 0.030342994888106902, 0.005571253913593292, 0.021921845616820073, 0.049732958488331355, 0.03893673732465415, 0.033339849249373193, 0.040694804935010195, 0.05206596617262765, 0.061741954085108, 0.06777605935496288, 0.06973198588010679, 0.06792808352094044, 0.06317470319568602, 0.05658637503560772, 0.04930673522178507, 0.04210361452559543, 0.03503929217607009, 0.027627123206915103, 0.019528770874221026, 0.011314557660042803, 0.004989639130944502, 0.0026672773755797327, 0.0008520726305027824, 0.007568738959265855, 0.017361942065359674, 0.0291567655640041, 0.042239394938038306, 0.05585459520845999, 0.06915000771581968, 0.0812500893800651, 0.09135300241737845, 0.09880662091412072, 0.10316362458176322, 0.10422845390822538, 0.10211009634139896, 0.09729327386621006, 0.09073271351483206, 0.08393579216998359, 0.07887202926630626, 0.07737858240632271, 0.08007260310213572, 0.08583983960896308, 0.09259604566692548, 0.09830229513361051, 0.10140452547129851, 0.10085854014252327, 0.09604297121089947, 0.0866828946018296, 0.07281234743661634, 0.054796920474807116, 0.03357928256539856, 0.0138814769281734, 0.024650484674538946, 0.05073357235735634, 0.03237663177399429, 0.025310426128421225, 0.034586353346769516, 0.047592873626322446, 0.05807676469489923, 0.06441792476756372, 0.06638035429648607, 0.06441235889334425, 0.05945045224183738, 0.05277035145954674, 0.0457080440266193, 0.039160517379330385, 0.033110505763233655, 0.02680335978640088, 0.019661297295631697, 0.012174152918436746, 0.006243695817526783, 0.0034788030205460127, 0.0018517510670782173, 0.0071974016628545195, 0.016261260727185985, 0.02752825917557262, 0.04038500192926662, 0.05407312516148151, 0.06767361147169977, 0.08024208542654448, 0.09093125794365157, 0.09906986243779203, 0.1042130842227014, 0.10618330144761189, 0.10511517424372041, 0.1015130327659249, 0.09631459622701849, 0.09091322535117402, 0.08699962050547046, 0.08603098286447868, 0.08845084700894311, 0.09336685234960763, 0.09906795157648451, 0.10377331011369473, 0.10604204265013353, 0.10486403329323521, 0.0996270831227296, 0.09007413634766212, 0.07630039409084163, 0.05885980455562955, 0.0393389641185788, 0.02409767371837454, 0.031083551293397568, 0.05387518556037423, 0.026598259956043976, 0.016913727104291714, 0.028929557796607178, 0.04360040795973081, 0.05473746862486446, 0.06124071765152921, 0.06308268902508607, 0.06082695819533695, 0.055524428540605, 0.04861910619995582, 0.04168376870012605, 0.03580573273937981, 0.030880810670449985, 0.025803924657449906, 0.01969576985429503, 0.012926720467729254, 0.007279935756460696, 0.004355972488548123, 0.0032450715012839514, 0.007097587395424683, 0.015065420876967474, 0.02566944593743498, 0.03829813410255534, 0.0521156837577882, 0.0660920747064415, 0.07919661095806443, 0.09053279760192671, 0.099410867762935, 0.10538887931785021, 0.10830473526140309, 0.10831148313703583, 0.10591902248111805, 0.10202875374062055, 0.09791038031848055, 0.0950126452091093, 0.09450876907148652, 0.09672762379554765, 0.10094181972343247, 0.1057311509307684, 0.10954490889900886, 0.1110668715716446, 0.10934299523811847, 0.10379232917109595, 0.09419889055812151, 0.08074839751292734, 0.06421561682652802, 0.046714192308376944, 0.03457800750032639, 0.03945079536757749, 0.05881678418812764, 0.022663538482900775, 0.00825368160344302, 0.024444005700134257, 0.04045492193480509, 0.05194883137655148, 0.05841016925506492, 0.05997587484300152, 0.05728925378176058, 0.05148970850819239, 0.044186169270525766, 0.03724169440253255, 0.03203026802087334, 0.028349865112854044, 0.024613342215484002, 0.019564271165136007, 0.013442317076036837, 0.007996682800872783, 0.005189552699385498, 0.0047103024378874385, 0.007280052387741929, 0.013755760843185695, 0.02355646227502131, 0.0359873766222406, 0.05001737303882389, 0.0644514049444721, 0.07815893891043128, 0.09019522836837353, 0.09985537899284477, 0.10670180596830108, 0.11058585868183685, 0.11167228558557317, 0.11046508611584971, 0.10781688485635711, 0.10487433502375478, 0.10288108266635554, 0.10279625833940362, 0.10487201131887469, 0.10850837927196019, 0.11251632677637162, 0.11554782547113401, 0.1164143939583851, 0.11423294387599936, 0.10847023531213613, 0.09896648868169373, 0.08600782887435073, 0.07056556690056519, 0.05504249480388026, 0.04510588960349052, 0.04873178945464224, 0.06512541058063166, 0.021989146299185428, 0.0020078608972473565, 0.022243178999703087, 0.03857391375314283, 0.04995874863836754, 0.05611486429089366, 0.05722472663041738, 0.05395176966255799, 0.04748006825304266, 0.0395598813057831, 0.03240230192615096, 0.02782899738007141, 0.025530728623958245, 0.023227698560284823, 0.01921137697549949, 0.013620930014093133, 0.008296239255202705, 0.005841421628178321, 0.006081099315431359, 0.007647865932204329, 0.012292563897344283, 0.02116307242154533, 0.03347775513865355, 0.04783289059532295, 0.06281273543087917, 0.07718399457361587, 0.08996147411537882, 0.10043157609014063, 0.1081636327787074, 0.11302080420166041, 0.11517379824867222, 0.11511202395095348, 0.1136325032993467, 0.11176547792837753, 0.11058294343574816, 0.11088106512361051, 0.11286037566439072, 0.11602258730202629, 0.11936596918900956, 0.1217203101476847, 0.12202271897818188, 0.1194699833418468, 0.11358745087195847, 0.10427897334594972, 0.0919258192119589, 0.07764311540988192, 0.06391383321487114, 0.05559948164119225, 0.058437361687156346, 0.07240180495842893, 0.02510242613175216, 0.010361844958905927, 0.023288203983677796, 0.03832428568739973, 0.04900687037323644, 0.054553803801662734, 0.05501848993018835, 0.051006940855083345, 0.04368565050042535, 0.03488707323344351, 0.027209385792778217, 0.02320383191364112, 0.02246582316706492, 0.021671681942646192, 0.018612897437956813, 0.013401935049871982, 0.008086616300164925, 0.006189297346960796, 0.007249813200402019, 0.008068940770481998, 0.010624314440056052, 0.018468872786462923, 0.030823703764053835, 0.045643779041774565, 0.06125468261008819, 0.07633642426578631, 0.08987913303845632, 0.10116947397080937, 0.10978685549879032, 0.11560489457171745, 0.11879549330833178, 0.11982730986721958, 0.11943911116448248, 0.11855438685707596, 0.11810232400314295, 0.11875378686768504, 0.1206746694790811, 0.12345002078544913, 0.12623256858194556, 0.1280081567379184, 0.12783422590144947, 0.12499163621741606, 0.11907024967967188, 0.11003868866471382, 0.0983588061788895, 0.08523115146949103, 0.07307861693811092, 0.06600860413096452, 0.06831960071336902, 0.08032844776572552, 0.03102193786525814, 0.019686461506171135, 0.02739555794846652, 0.039876572470115175, 0.049275978781699974, 0.05391251022165341, 0.053557859165464516, 0.048684518700656106, 0.040368904430689447, 0.030415490242819584, 0.02175703379246477, 0.01817037246695044, 0.019259108195109193, 0.020023251271021322, 0.01779773872553477, 0.012780813588333736, 0.007292182275004065, 0.006166998308150732, 0.008175391217484868, 0.00846173149010698, 0.00871348647589599, 0.015477275076955963, 0.028129518281165253, 0.04356607033923438, 0.05987438455918015, 0.07568956081919788, 0.0899991978678874, 0.10210000850863929, 0.11158428483959457, 0.11833462319316917, 0.12252011649848137, 0.12458453140374243, 0.12520852716037195, 0.12521953873703523, 0.12542808682113255, 0.12640769555148487, 0.12830127671511113, 0.13076367892456572, 0.13307698434160234, 0.13436428847351795, 0.13379635576839521, 0.1307387338121279, 0.12484769940569795, 0.11615327468761794, 0.1051792347416954, 0.09316004569769916, 0.08237893562030052, 0.07629554967874257, 0.07823852406476066, 0.0886687699772351, 0.03853618669970206, 0.029155604007181788, 0.03355775953229608, 0.04313408365593636, 0.05084544384130714, 0.05433095313793457, 0.05302982726366833, 0.04723344742860004, 0.037868028486460634, 0.02656115595653355, 0.01627335306512223, 0.012778634832205121, 0.016145771460258303, 0.018448856002730277, 0.016876728216173906, 0.011843856703891594, 0.00587377208979716, 0.005824588651508009, 0.008906936414960025, 0.008852539849583356, 0.006604758912652413, 0.01226013961295094, 0.02557950235383484, 0.04175591881932016, 0.05878601184207389, 0.07532293662001971, 0.0903741015883308, 0.10325384502850748, 0.11356849659045759, 0.12120748227117055, 0.1263334938695253, 0.12936268746375673, 0.13091942137575643, 0.13174559936448826, 0.1325529088490066, 0.13383843759739444, 0.13573018091093617, 0.1379424404161949, 0.13986704848390774, 0.14074813416742046, 0.13986188161823712, 0.13665653410276415, 0.13085363948197226, 0.12253842528759107, 0.11227748053788221, 0.10129914784110249, 0.0917094428613003, 0.08642959162504567, 0.08810655614535495, 0.09725020020339846, 0.0468960117812917, 0.03868747551067886, 0.04089954147534527, 0.04780939757876817, 0.05367510294345156, 0.0558750212512598, 0.05357406810473852, 0.046882204577405925, 0.03656099551955517, 0.023967170037136065, 0.01143428815244302, 0.007229643939726539, 0.01363292344549365, 0.017243732105690624, 0.016078169279392634, 0.01083659226629037, 0.003898824842764766, 0.005453553273715641, 0.009608607399445806, 0.00940342338295962, 0.00468103620837434, 0.009098634203008216, 0.023473273686520066, 0.040408271798476406, 0.058115393404387886, 0.07531815992630618, 0.09105515883099419, 0.1046599872602053, 0.11575118962111676, 0.12422167592224356, 0.13022419359234272, 0.1341454325408592, 0.13655605737131543, 0.1381221181108912, 0.1394725577507728, 0.14104374457621596, 0.14295433461627924, 0.1449699072534901, 0.14657640177888312, 0.1471249355921928, 0.14598884541397808, 0.14269526514115866, 0.13702772936581833, 0.12911902329839262, 0.11956113177879811, 0.10954781588337686, 0.1009962106405891, 0.09638490578928814, 0.09786421521334888, 0.10594669594186946, 0.055701926397044556, 0.048231743354807094, 0.048899549796787636, 0.05356241976262137, 0.05762987576772458, 0.058526058723171494, 0.055253587243714694, 0.0477851061429681, 0.03676690480229162, 0.023387820938309642, 0.009305778430581215, 0.0034291915928011973, 0.01262527251341108, 0.016835265894113414, 0.01576735711283449, 0.010258704123964938, 0.002178926477393287, 0.005727970856310741, 0.01055940267945779, 0.010389804009535887, 0.004413266063245227, 0.006958996746919664, 0.022235030734897642, 0.03974134075514958, 0.057989885018488514, 0.07575331384038181, 0.09208960734324405, 0.10634430553970031, 0.11814250907276144, 0.12737575966247333, 0.1341830998958722, 0.13892032372531607, 0.14210722202274012, 0.14434250863852988, 0.14618531601821158, 0.14802315687020676, 0.14996916027513507, 0.15183352009228868, 0.15318353529144008, 0.15346506463915827, 0.1521403001498393, 0.14881027335984937, 0.14331584082792165, 0.135829242005481, 0.12695311473089327, 0.117827994433361, 0.11018513670187095, 0.10613958702801114, 0.10746859890945953, 0.1146651646796753];\n",
       "const xvar = \"lr\";\n",
       "const yvar = \"momentum\";\n",
       "const x_is_log = true;\n",
       "const y_is_log = false;\n",
       "\n",
       "const GREEN_SCALE = [[247, 252, 253], [229, 245, 249], [204, 236, 230], [153, 216, 201], [102, 194, 164], [65, 174, 118], [35, 139, 69], [0, 109, 44], [0, 68, 27]];\n",
       "const GREEN_PINK_SCALE = [[142, 1, 82], [197, 27, 125], [222, 119, 174], [241, 182, 218], [253, 224, 239], [247, 247, 247], [230, 245, 208], [184, 225, 134], [127, 188, 65], [77, 146, 33], [39, 100, 25]];\n",
       "const BLUE_SCALE = [[255, 247, 251], [236, 231, 242], [208, 209, 230], [166, 189, 219], [116, 169, 207], [54, 144, 192], [5, 112, 176], [3, 78, 123]];\n",
       "\n",
       "// format data\n",
       "const res = relativize_data(f, sd, rel, arm_data, metric);\n",
       "const f_final = res[0];\n",
       "const sd_final = res[1];\n",
       "\n",
       "// calculate max of abs(outcome), used for colorscale\n",
       "const f_absmax = Math.max(Math.abs(Math.min(...f_final)), Math.max(...f_final));\n",
       "\n",
       "// transform to nested array\n",
       "var f_plt = [];\n",
       "while(f_final.length) f_plt.push(f_final.splice(0, density));\n",
       "var sd_plt = [];\n",
       "while(sd_final.length) sd_plt.push(sd_final.splice(0, density));\n",
       "\n",
       "// create traces\n",
       "const CONTOUR_CONFIG = {\n",
       "  autocolorscale: false,\n",
       "  autocontour: true,\n",
       "  contours: {\n",
       "    coloring: 'heatmap',\n",
       "  },\n",
       "  hoverinfo: 'x+y+z',\n",
       "  ncontours: density / 2,\n",
       "  type: 'contour',\n",
       "  x: grid_x,\n",
       "  y: grid_y,\n",
       "};\n",
       "\n",
       "let f_scale;\n",
       "if (rel === true) {\n",
       "  f_scale = lower_is_better === true\n",
       "    ? GREEN_PINK_SCALE.reverse()\n",
       "    : GREEN_PINK_SCALE;\n",
       "} else {\n",
       "  f_scale = GREEN_SCALE;\n",
       "}\n",
       "\n",
       "const f_trace = {\n",
       "  colorbar: {\n",
       "    x: 0.45,\n",
       "    y: 0.5,\n",
       "    ticksuffix: rel === true ? '%' : '',\n",
       "    tickfont: {\n",
       "      size: 8,\n",
       "    },\n",
       "  },\n",
       "  colorscale: f_scale.map(\n",
       "    (v, i) => [i / (f_scale.length - 1), rgb(v)]\n",
       "  ),\n",
       "  xaxis: 'x',\n",
       "  yaxis: 'y',\n",
       "  z: f_plt,\n",
       "  // zmax and zmin are ignored if zauto is true\n",
       "  zauto: !rel,\n",
       "  zmax: f_absmax,\n",
       "  zmin: -f_absmax,\n",
       "};\n",
       "\n",
       "const sd_trace = {\n",
       "  colorbar: {\n",
       "      x: 1,\n",
       "      y: 0.5,\n",
       "      ticksuffix: rel === true ? '%' : '',\n",
       "      tickfont: {\n",
       "        size: 8,\n",
       "      },\n",
       "  },\n",
       "  colorscale: BLUE_SCALE.map(\n",
       "    (v, i) => [i / (BLUE_SCALE.length - 1), rgb(v)]\n",
       "  ),\n",
       "  xaxis: 'x2',\n",
       "  yaxis: 'y2',\n",
       "  z: sd_plt,\n",
       "};\n",
       "\n",
       "Object.keys(CONTOUR_CONFIG).forEach(key => {\n",
       "  f_trace[key] = CONTOUR_CONFIG[key];\n",
       "  sd_trace[key] = CONTOUR_CONFIG[key];\n",
       "});\n",
       "\n",
       "// get in-sample arms\n",
       "const arm_x = [];\n",
       "const arm_y = [];\n",
       "const arm_text = [];\n",
       "\n",
       "Object.keys(arm_data['in_sample']).forEach(arm_name => {\n",
       "  arm_x.push(arm_data['in_sample'][arm_name]['parameters'][xvar]);\n",
       "  arm_y.push(arm_data['in_sample'][arm_name]['parameters'][yvar]);\n",
       "  arm_text.push(arm_name);\n",
       "});\n",
       "\n",
       "// configs for in-sample arms\n",
       "const base_in_sample_arm_config = {\n",
       "  hoverinfo: 'text',\n",
       "  legendgroup: 'In-sample',\n",
       "  marker: {color: 'black', symbol: 1, opacity: 0.5},\n",
       "  mode: 'markers',\n",
       "  name: 'In-sample',\n",
       "  text: arm_text,\n",
       "  type: 'scatter',\n",
       "  x: arm_x,\n",
       "  y: arm_y,\n",
       "};\n",
       "\n",
       "const f_in_sample_arm_trace = {\n",
       "  xaxis: 'x',\n",
       "  yaxis: 'y',\n",
       "};\n",
       "\n",
       "const sd_in_sample_arm_trace = {\n",
       "  showlegend: false,\n",
       "  xaxis: 'x2',\n",
       "  yaxis: 'y2',\n",
       "};\n",
       "\n",
       "Object.keys(base_in_sample_arm_config).forEach(key => {\n",
       "  f_in_sample_arm_trace[key] = base_in_sample_arm_config[key];\n",
       "  sd_in_sample_arm_trace[key] = base_in_sample_arm_config[key];\n",
       "});\n",
       "\n",
       "const traces = [\n",
       "  f_trace,\n",
       "  sd_trace,\n",
       "  f_in_sample_arm_trace,\n",
       "  sd_in_sample_arm_trace,\n",
       "];\n",
       "\n",
       "// start symbol at 2 for candidate markers\n",
       "let i = 2;\n",
       "\n",
       "// iterate over out-of-sample arms\n",
       "Object.keys(arm_data['out_of_sample']).forEach(generator_run_name => {\n",
       "  const ax = [];\n",
       "  const ay = [];\n",
       "  const atext = [];\n",
       "\n",
       "  Object.keys(arm_data['out_of_sample'][generator_run_name]).forEach(arm_name => {\n",
       "    ax.push(\n",
       "      arm_data['out_of_sample'][generator_run_name][arm_name]['parameters'][xvar]\n",
       "    );\n",
       "    ay.push(\n",
       "      arm_data['out_of_sample'][generator_run_name][arm_name]['parameters'][yvar]\n",
       "    );\n",
       "    atext.push('<em>Candidate ' + arm_name + '</em>');\n",
       "  });\n",
       "\n",
       "  traces.push({\n",
       "    hoverinfo: 'text',\n",
       "    legendgroup: generator_run_name,\n",
       "    marker: {color: 'black', symbol: i, opacity: 0.5},\n",
       "    mode: 'markers',\n",
       "    name: generator_run_name,\n",
       "    text: atext,\n",
       "    type: 'scatter',\n",
       "    xaxis: 'x',\n",
       "    x: ax,\n",
       "    yaxis: 'y',\n",
       "    y: ay,\n",
       "  });\n",
       "  traces.push({\n",
       "    hoverinfo: 'text',\n",
       "    legendgroup: generator_run_name,\n",
       "    marker: {color: 'black', symbol: i, opacity: 0.5},\n",
       "    mode: 'markers',\n",
       "    name: 'In-sample',\n",
       "    showlegend: false,\n",
       "    text: atext,\n",
       "    type: 'scatter',\n",
       "    x: ax,\n",
       "    xaxis: 'x2',\n",
       "    y: ay,\n",
       "    yaxis: 'y2',\n",
       "  });\n",
       "  i += 1;\n",
       "});\n",
       "\n",
       "// layout\n",
       "const xrange = axis_range(grid_x, x_is_log);\n",
       "const yrange = axis_range(grid_y, y_is_log);\n",
       "\n",
       "const xtype = x_is_log ? 'log' : 'linear';\n",
       "const ytype = y_is_log ? 'log' : 'linear';\n",
       "\n",
       "const layout = {\n",
       "  autosize: false,\n",
       "    margin: {\n",
       "      l: 35,\n",
       "      r: 35,\n",
       "      t: 35,\n",
       "      b: 100,\n",
       "      pad: 0,\n",
       "  },\n",
       "  annotations: [\n",
       "    {\n",
       "      font: {size: 14},\n",
       "      showarrow: false,\n",
       "      text: 'Mean',\n",
       "      x: 0.25,\n",
       "      xanchor: 'center',\n",
       "      xref: 'paper',\n",
       "      y: 1,\n",
       "      yanchor: 'bottom',\n",
       "      yref: 'paper',\n",
       "    },\n",
       "    {\n",
       "      font: {size: 14},\n",
       "      showarrow: false,\n",
       "      text: 'Standard Error',\n",
       "      x: 0.8,\n",
       "      xanchor: 'center',\n",
       "      xref: 'paper',\n",
       "      y: 1,\n",
       "      yanchor: 'bottom',\n",
       "      yref: 'paper',\n",
       "    },\n",
       "  ],\n",
       "  hovermode: 'closest',\n",
       "  legend: {orientation: 'h', x: 0, y: -0.25},\n",
       "  height: 450,\n",
       "  width: 950,\n",
       "  xaxis: {\n",
       "    anchor: 'y',\n",
       "    autorange: false,\n",
       "    domain: [0.05, 0.45],\n",
       "    exponentformat: 'e',\n",
       "    range: xrange,\n",
       "    tickfont: {size: 11},\n",
       "    tickmode: 'auto',\n",
       "    title: xvar,\n",
       "    type: xtype,\n",
       "  },\n",
       "  xaxis2: {\n",
       "    anchor: 'y2',\n",
       "    autorange: false,\n",
       "    domain: [0.60, 1],\n",
       "    exponentformat: 'e',\n",
       "    range: xrange,\n",
       "    tickfont: {size: 11},\n",
       "    tickmode: 'auto',\n",
       "    title: xvar,\n",
       "    type: xtype,\n",
       "  },\n",
       "  yaxis: {\n",
       "    anchor: 'x',\n",
       "    autorange: false,\n",
       "    domain: [0, 1],\n",
       "    exponentformat: 'e',\n",
       "    range: yrange,\n",
       "    tickfont: {size: 11},\n",
       "    tickmode: 'auto',\n",
       "    title: yvar,\n",
       "    type: ytype,\n",
       "  },\n",
       "  yaxis2: {\n",
       "    anchor: 'x2',\n",
       "    autorange: false,\n",
       "    domain: [0, 1],\n",
       "    exponentformat: 'e',\n",
       "    range: yrange,\n",
       "    tickfont: {size: 11},\n",
       "    tickmode: 'auto',\n",
       "    type: ytype,\n",
       "  },\n",
       "};\n",
       "\n",
       "Plotly.newPlot(\"059e3eae90f842f581ec24cfae7b65a9\", traces, layout, {showLink: false});\n",
       "});</script>"
      ]
     },
     "metadata": {},
     "output_type": "display_data"
    }
   ],
   "source": [
    "render(plot_contour(model=model, param_x='lr', param_y='momentum', metric_name='accuracy'))"
   ]
  },
  {
   "cell_type": "markdown",
   "metadata": {},
   "source": [
    "## 5. Plot best objective as function of the iteration\n",
    "\n",
    "Show the model accuracy improving as we identify better hyperparameters."
   ]
  },
  {
   "cell_type": "code",
   "execution_count": 9,
   "metadata": {},
   "outputs": [
    {
     "data": {
      "text/html": [
       "<div id=\"de3f7d0ac70a42fabec956ca153979a7\" style=\"width: 100%;\" class=\"plotly-graph-div\"></div><script type='text/javascript'>/*\n",
       " * Copyright (c) Facebook, Inc. and its affiliates. All Rights Reserved.\n",
       " */\n",
       "\n",
       "require(['plotly'], function(Plotly) {\n",
       "  window.PLOTLYENV = window.PLOTLYENV || {};\n",
       "  window.PLOTLYENV.BASE_URL = 'https://plot.ly';\n",
       "  /*\n",
       " * Copyright (c) Facebook, Inc. and its affiliates. All Rights Reserved.\n",
       " */\n",
       "\n",
       "Plotly.newPlot(\n",
       "  \"de3f7d0ac70a42fabec956ca153979a7\",\n",
       "  [{\"hoverinfo\": \"none\", \"legendgroup\": \"\", \"line\": {\"width\": 0}, \"mode\": \"lines\", \"showlegend\": false, \"x\": [1, 2, 3, 4, 5, 6, 7, 8, 9, 10, 11, 12, 13, 14, 15, 16, 17, 18, 19, 20], \"y\": [10.983333333333334, 10.983333333333334, 52.28333333333334, 72.68333333333334, 72.68333333333334, 72.68333333333334, 87.0, 88.83333333333333, 91.10000000000001, 91.10000000000001, 92.98333333333333, 92.98333333333333, 92.98333333333333, 92.98333333333333, 92.98333333333333, 92.98333333333333, 92.98333333333333, 92.98333333333333, 92.98333333333333, 92.98333333333333], \"type\": \"scatter\"}, {\"fill\": \"tonexty\", \"fillcolor\": \"rgba(128,177,211,0.3)\", \"legendgroup\": \"mean\", \"line\": {\"color\": \"rgba(128,177,211,1)\"}, \"mode\": \"lines\", \"name\": \"mean\", \"x\": [1, 2, 3, 4, 5, 6, 7, 8, 9, 10, 11, 12, 13, 14, 15, 16, 17, 18, 19, 20], \"y\": [10.983333333333334, 10.983333333333334, 52.28333333333334, 72.68333333333334, 72.68333333333334, 72.68333333333334, 87.0, 88.83333333333333, 91.10000000000001, 91.10000000000001, 92.98333333333333, 92.98333333333333, 92.98333333333333, 92.98333333333333, 92.98333333333333, 92.98333333333333, 92.98333333333333, 92.98333333333333, 92.98333333333333, 92.98333333333333], \"type\": \"scatter\"}, {\"fill\": \"tonexty\", \"fillcolor\": \"rgba(128,177,211,0.3)\", \"hoverinfo\": \"none\", \"legendgroup\": \"\", \"line\": {\"width\": 0}, \"mode\": \"lines\", \"showlegend\": false, \"x\": [1, 2, 3, 4, 5, 6, 7, 8, 9, 10, 11, 12, 13, 14, 15, 16, 17, 18, 19, 20], \"y\": [10.983333333333334, 10.983333333333334, 52.28333333333334, 72.68333333333334, 72.68333333333334, 72.68333333333334, 87.0, 88.83333333333333, 91.10000000000001, 91.10000000000001, 92.98333333333333, 92.98333333333333, 92.98333333333333, 92.98333333333333, 92.98333333333333, 92.98333333333333, 92.98333333333333, 92.98333333333333, 92.98333333333333, 92.98333333333333], \"type\": \"scatter\"}],\n",
       "  {\"showlegend\": true, \"title\": {\"text\": \"Model performance vs. # of iterations\"}, \"xaxis\": {\"title\": {\"text\": \"Iteration\"}}, \"yaxis\": {\"title\": {\"text\": \"Classification Accuracy, %\"}}, \"template\": {\"data\": {\"barpolar\": [{\"marker\": {\"line\": {\"color\": \"#E5ECF6\", \"width\": 0.5}}, \"type\": \"barpolar\"}], \"bar\": [{\"error_x\": {\"color\": \"#2a3f5f\"}, \"error_y\": {\"color\": \"#2a3f5f\"}, \"marker\": {\"line\": {\"color\": \"#E5ECF6\", \"width\": 0.5}}, \"type\": \"bar\"}], \"carpet\": [{\"aaxis\": {\"endlinecolor\": \"#2a3f5f\", \"gridcolor\": \"white\", \"linecolor\": \"white\", \"minorgridcolor\": \"white\", \"startlinecolor\": \"#2a3f5f\"}, \"baxis\": {\"endlinecolor\": \"#2a3f5f\", \"gridcolor\": \"white\", \"linecolor\": \"white\", \"minorgridcolor\": \"white\", \"startlinecolor\": \"#2a3f5f\"}, \"type\": \"carpet\"}], \"choropleth\": [{\"colorbar\": {\"outlinewidth\": 0, \"ticks\": \"\"}, \"type\": \"choropleth\"}], \"contourcarpet\": [{\"colorbar\": {\"outlinewidth\": 0, \"ticks\": \"\"}, \"type\": \"contourcarpet\"}], \"contour\": [{\"colorbar\": {\"outlinewidth\": 0, \"ticks\": \"\"}, \"colorscale\": [[0.0, \"#0d0887\"], [0.1111111111111111, \"#46039f\"], [0.2222222222222222, \"#7201a8\"], [0.3333333333333333, \"#9c179e\"], [0.4444444444444444, \"#bd3786\"], [0.5555555555555556, \"#d8576b\"], [0.6666666666666666, \"#ed7953\"], [0.7777777777777778, \"#fb9f3a\"], [0.8888888888888888, \"#fdca26\"], [1.0, \"#f0f921\"]], \"type\": \"contour\"}], \"heatmapgl\": [{\"colorbar\": {\"outlinewidth\": 0, \"ticks\": \"\"}, \"colorscale\": [[0.0, \"#0d0887\"], [0.1111111111111111, \"#46039f\"], [0.2222222222222222, \"#7201a8\"], [0.3333333333333333, \"#9c179e\"], [0.4444444444444444, \"#bd3786\"], [0.5555555555555556, \"#d8576b\"], [0.6666666666666666, \"#ed7953\"], [0.7777777777777778, \"#fb9f3a\"], [0.8888888888888888, \"#fdca26\"], [1.0, \"#f0f921\"]], \"type\": \"heatmapgl\"}], \"heatmap\": [{\"colorbar\": {\"outlinewidth\": 0, \"ticks\": \"\"}, \"colorscale\": [[0.0, \"#0d0887\"], [0.1111111111111111, \"#46039f\"], [0.2222222222222222, \"#7201a8\"], [0.3333333333333333, \"#9c179e\"], [0.4444444444444444, \"#bd3786\"], [0.5555555555555556, \"#d8576b\"], [0.6666666666666666, \"#ed7953\"], [0.7777777777777778, \"#fb9f3a\"], [0.8888888888888888, \"#fdca26\"], [1.0, \"#f0f921\"]], \"type\": \"heatmap\"}], \"histogram2dcontour\": [{\"colorbar\": {\"outlinewidth\": 0, \"ticks\": \"\"}, \"colorscale\": [[0.0, \"#0d0887\"], [0.1111111111111111, \"#46039f\"], [0.2222222222222222, \"#7201a8\"], [0.3333333333333333, \"#9c179e\"], [0.4444444444444444, \"#bd3786\"], [0.5555555555555556, \"#d8576b\"], [0.6666666666666666, \"#ed7953\"], [0.7777777777777778, \"#fb9f3a\"], [0.8888888888888888, \"#fdca26\"], [1.0, \"#f0f921\"]], \"type\": \"histogram2dcontour\"}], \"histogram2d\": [{\"colorbar\": {\"outlinewidth\": 0, \"ticks\": \"\"}, \"colorscale\": [[0.0, \"#0d0887\"], [0.1111111111111111, \"#46039f\"], [0.2222222222222222, \"#7201a8\"], [0.3333333333333333, \"#9c179e\"], [0.4444444444444444, \"#bd3786\"], [0.5555555555555556, \"#d8576b\"], [0.6666666666666666, \"#ed7953\"], [0.7777777777777778, \"#fb9f3a\"], [0.8888888888888888, \"#fdca26\"], [1.0, \"#f0f921\"]], \"type\": \"histogram2d\"}], \"histogram\": [{\"marker\": {\"colorbar\": {\"outlinewidth\": 0, \"ticks\": \"\"}}, \"type\": \"histogram\"}], \"mesh3d\": [{\"colorbar\": {\"outlinewidth\": 0, \"ticks\": \"\"}, \"type\": \"mesh3d\"}], \"parcoords\": [{\"line\": {\"colorbar\": {\"outlinewidth\": 0, \"ticks\": \"\"}}, \"type\": \"parcoords\"}], \"scatter3d\": [{\"line\": {\"colorbar\": {\"outlinewidth\": 0, \"ticks\": \"\"}}, \"marker\": {\"colorbar\": {\"outlinewidth\": 0, \"ticks\": \"\"}}, \"type\": \"scatter3d\"}], \"scattercarpet\": [{\"marker\": {\"colorbar\": {\"outlinewidth\": 0, \"ticks\": \"\"}}, \"type\": \"scattercarpet\"}], \"scattergeo\": [{\"marker\": {\"colorbar\": {\"outlinewidth\": 0, \"ticks\": \"\"}}, \"type\": \"scattergeo\"}], \"scattergl\": [{\"marker\": {\"colorbar\": {\"outlinewidth\": 0, \"ticks\": \"\"}}, \"type\": \"scattergl\"}], \"scattermapbox\": [{\"marker\": {\"colorbar\": {\"outlinewidth\": 0, \"ticks\": \"\"}}, \"type\": \"scattermapbox\"}], \"scatterpolargl\": [{\"marker\": {\"colorbar\": {\"outlinewidth\": 0, \"ticks\": \"\"}}, \"type\": \"scatterpolargl\"}], \"scatterpolar\": [{\"marker\": {\"colorbar\": {\"outlinewidth\": 0, \"ticks\": \"\"}}, \"type\": \"scatterpolar\"}], \"scatter\": [{\"marker\": {\"colorbar\": {\"outlinewidth\": 0, \"ticks\": \"\"}}, \"type\": \"scatter\"}], \"scatterternary\": [{\"marker\": {\"colorbar\": {\"outlinewidth\": 0, \"ticks\": \"\"}}, \"type\": \"scatterternary\"}], \"surface\": [{\"colorbar\": {\"outlinewidth\": 0, \"ticks\": \"\"}, \"colorscale\": [[0.0, \"#0d0887\"], [0.1111111111111111, \"#46039f\"], [0.2222222222222222, \"#7201a8\"], [0.3333333333333333, \"#9c179e\"], [0.4444444444444444, \"#bd3786\"], [0.5555555555555556, \"#d8576b\"], [0.6666666666666666, \"#ed7953\"], [0.7777777777777778, \"#fb9f3a\"], [0.8888888888888888, \"#fdca26\"], [1.0, \"#f0f921\"]], \"type\": \"surface\"}], \"table\": [{\"cells\": {\"fill\": {\"color\": \"#EBF0F8\"}, \"line\": {\"color\": \"white\"}}, \"header\": {\"fill\": {\"color\": \"#C8D4E3\"}, \"line\": {\"color\": \"white\"}}, \"type\": \"table\"}]}, \"layout\": {\"annotationdefaults\": {\"arrowcolor\": \"#2a3f5f\", \"arrowhead\": 0, \"arrowwidth\": 1}, \"colorscale\": {\"diverging\": [[0, \"#8e0152\"], [0.1, \"#c51b7d\"], [0.2, \"#de77ae\"], [0.3, \"#f1b6da\"], [0.4, \"#fde0ef\"], [0.5, \"#f7f7f7\"], [0.6, \"#e6f5d0\"], [0.7, \"#b8e186\"], [0.8, \"#7fbc41\"], [0.9, \"#4d9221\"], [1, \"#276419\"]], \"sequential\": [[0.0, \"#0d0887\"], [0.1111111111111111, \"#46039f\"], [0.2222222222222222, \"#7201a8\"], [0.3333333333333333, \"#9c179e\"], [0.4444444444444444, \"#bd3786\"], [0.5555555555555556, \"#d8576b\"], [0.6666666666666666, \"#ed7953\"], [0.7777777777777778, \"#fb9f3a\"], [0.8888888888888888, \"#fdca26\"], [1.0, \"#f0f921\"]], \"sequentialminus\": [[0.0, \"#0d0887\"], [0.1111111111111111, \"#46039f\"], [0.2222222222222222, \"#7201a8\"], [0.3333333333333333, \"#9c179e\"], [0.4444444444444444, \"#bd3786\"], [0.5555555555555556, \"#d8576b\"], [0.6666666666666666, \"#ed7953\"], [0.7777777777777778, \"#fb9f3a\"], [0.8888888888888888, \"#fdca26\"], [1.0, \"#f0f921\"]]}, \"colorway\": [\"#636efa\", \"#EF553B\", \"#00cc96\", \"#ab63fa\", \"#FFA15A\", \"#19d3f3\", \"#FF6692\", \"#B6E880\", \"#FF97FF\", \"#FECB52\"], \"font\": {\"color\": \"#2a3f5f\"}, \"geo\": {\"bgcolor\": \"white\", \"lakecolor\": \"white\", \"landcolor\": \"#E5ECF6\", \"showlakes\": true, \"showland\": true, \"subunitcolor\": \"white\"}, \"hoverlabel\": {\"align\": \"left\"}, \"hovermode\": \"closest\", \"mapbox\": {\"style\": \"light\"}, \"paper_bgcolor\": \"white\", \"plot_bgcolor\": \"#E5ECF6\", \"polar\": {\"angularaxis\": {\"gridcolor\": \"white\", \"linecolor\": \"white\", \"ticks\": \"\"}, \"bgcolor\": \"#E5ECF6\", \"radialaxis\": {\"gridcolor\": \"white\", \"linecolor\": \"white\", \"ticks\": \"\"}}, \"scene\": {\"xaxis\": {\"backgroundcolor\": \"#E5ECF6\", \"gridcolor\": \"white\", \"gridwidth\": 2, \"linecolor\": \"white\", \"showbackground\": true, \"ticks\": \"\", \"zerolinecolor\": \"white\"}, \"yaxis\": {\"backgroundcolor\": \"#E5ECF6\", \"gridcolor\": \"white\", \"gridwidth\": 2, \"linecolor\": \"white\", \"showbackground\": true, \"ticks\": \"\", \"zerolinecolor\": \"white\"}, \"zaxis\": {\"backgroundcolor\": \"#E5ECF6\", \"gridcolor\": \"white\", \"gridwidth\": 2, \"linecolor\": \"white\", \"showbackground\": true, \"ticks\": \"\", \"zerolinecolor\": \"white\"}}, \"shapedefaults\": {\"line\": {\"color\": \"#2a3f5f\"}}, \"ternary\": {\"aaxis\": {\"gridcolor\": \"white\", \"linecolor\": \"white\", \"ticks\": \"\"}, \"baxis\": {\"gridcolor\": \"white\", \"linecolor\": \"white\", \"ticks\": \"\"}, \"bgcolor\": \"#E5ECF6\", \"caxis\": {\"gridcolor\": \"white\", \"linecolor\": \"white\", \"ticks\": \"\"}}, \"title\": {\"x\": 0.05}, \"xaxis\": {\"automargin\": true, \"gridcolor\": \"white\", \"linecolor\": \"white\", \"ticks\": \"\", \"zerolinecolor\": \"white\", \"zerolinewidth\": 2}, \"yaxis\": {\"automargin\": true, \"gridcolor\": \"white\", \"linecolor\": \"white\", \"ticks\": \"\", \"zerolinecolor\": \"white\", \"zerolinewidth\": 2}}}},\n",
       "  {\"showLink\": false}\n",
       ");\n",
       "});</script>"
      ]
     },
     "metadata": {},
     "output_type": "display_data"
    }
   ],
   "source": [
    "# `plot_single_method` expects a 2-d array of means, because it expects to average means from multiple \n",
    "# optimization runs, so we wrap out best objectives array in another array.\n",
    "best_objectives = np.array([[trial.objective_mean*100 for trial in experiment.trials.values()]])\n",
    "best_objective_plot = optimization_trace_single_method(\n",
    "    y=np.maximum.accumulate(best_objectives, axis=1),\n",
    "    title=\"Model performance vs. # of iterations\",\n",
    "    ylabel=\"Classification Accuracy, %\",\n",
    ")\n",
    "render(best_objective_plot)"
   ]
  },
  {
   "cell_type": "markdown",
   "metadata": {},
   "source": [
    "## 6. Train CNN with best hyperparameters and evaluate on test set\n",
    "Note that the resulting accuracy on the test set might not be exactly the same as the maximum accuracy achieved on the evaluation set throughout optimization. "
   ]
  },
  {
   "cell_type": "code",
   "execution_count": 10,
   "metadata": {},
   "outputs": [
    {
     "data": {
      "text/plain": [
       "Arm(name='10_0', parameters={'lr': 0.00010437741258297173, 'momentum': 0.7460324116260116})"
      ]
     },
     "execution_count": 10,
     "metadata": {},
     "output_type": "execute_result"
    }
   ],
   "source": [
    "data = experiment.fetch_data()\n",
    "df = data.df\n",
    "best_arm_name = df.arm_name[df['mean'] == df['mean'].max()].values[0]\n",
    "best_arm = experiment.arms_by_name[best_arm_name]\n",
    "best_arm"
   ]
  },
  {
   "cell_type": "code",
   "execution_count": 11,
   "metadata": {
    "collapsed": true
   },
   "outputs": [],
   "source": [
    "combined_train_valid_set = torch.utils.data.ConcatDataset([\n",
    "    train_loader.dataset.dataset, \n",
    "    valid_loader.dataset.dataset,\n",
    "])\n",
    "combined_train_valid_loader = torch.utils.data.DataLoader(\n",
    "    combined_train_valid_set, \n",
    "    batch_size=BATCH_SIZE, \n",
    "    shuffle=True,\n",
    ")"
   ]
  },
  {
   "cell_type": "code",
   "execution_count": 12,
   "metadata": {
    "collapsed": true
   },
   "outputs": [],
   "source": [
    "net = train(\n",
    "    net=CNN(),\n",
    "    train_loader=combined_train_valid_loader, \n",
    "    parameters=best_arm.parameters,\n",
    "    dtype=dtype,\n",
    "    device=device,\n",
    ")\n",
    "test_accuracy = evaluate(\n",
    "    net=net,\n",
    "    data_loader=test_loader,\n",
    "    dtype=dtype,\n",
    "    device=device,\n",
    ")"
   ]
  },
  {
   "cell_type": "code",
   "execution_count": 13,
   "metadata": {},
   "outputs": [
    {
     "name": "stdout",
     "output_type": "stream",
     "text": [
      "Classification Accuracy (test set): 96.52%\n"
     ]
    }
   ],
   "source": [
    "print(f\"Classification Accuracy (test set): {round(test_accuracy*100, 2)}%\")"
   ]
  }
 ],
 "metadata": {
  "kernelspec": {
   "display_name": "python3",
   "language": "python",
   "name": "python3"
  },
  "language_info": {
   "codemirror_mode": {
    "name": "ipython",
    "version": 3
   },
   "file_extension": ".py",
   "mimetype": "text/x-python",
   "name": "python",
   "nbconvert_exporter": "python",
   "pygments_lexer": "ipython3",
   "version": "3.6.7"
  }
 },
 "nbformat": 4,
 "nbformat_minor": 2
}
