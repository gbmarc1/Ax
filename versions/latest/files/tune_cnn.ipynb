{
 "cells": [
  {
   "cell_type": "markdown",
   "metadata": {},
   "source": [
    "# Tune a CNN on MNIST\n",
    "\n",
    "This tutorial walks through using Ax to tune two hyperparameters (learning rate and momentum) for a PyTorch CNN on the MNIST dataset trained using SGD with momentum.\n"
   ]
  },
  {
   "cell_type": "code",
   "execution_count": 1,
   "metadata": {},
   "outputs": [
    {
     "data": {
      "text/html": [
       "<script type='text/javascript'>/*\n",
       " * Copyright (c) Facebook, Inc. and its affiliates. All Rights Reserved.\n",
       " */\n",
       "\n",
       "requirejs.config({\n",
       "  paths: {\n",
       "    plotly: ['https://cdn.plot.ly/plotly-latest.min'],\n",
       "  },\n",
       "});\n",
       "if (!window.Plotly) {\n",
       "  require(['plotly'], function(plotly) {\n",
       "    window.Plotly = plotly;\n",
       "  });\n",
       "}\n",
       "/*\n",
       " * Copyright (c) Facebook, Inc. and its affiliates. All Rights Reserved.\n",
       " */\n",
       "\n",
       "// helper functions used across multiple plots\n",
       "function rgb(rgb_array) {\n",
       "  return 'rgb(' + rgb_array.join() + ')';\n",
       "}\n",
       "\n",
       "function copy_and_reverse(arr) {\n",
       "  const copy = arr.slice();\n",
       "  copy.reverse();\n",
       "  return copy;\n",
       "}\n",
       "\n",
       "function axis_range(grid, is_log) {\n",
       "  return is_log ?\n",
       "    [Math.log10(Math.min(...grid)), Math.log10(Math.max(...grid))]:\n",
       "    [Math.min(...grid), Math.max(...grid)];\n",
       "}\n",
       "\n",
       "function relativize_data(f, sd, rel, arm_data, metric) {\n",
       "  // if relative, extract status quo & compute ratio\n",
       "  const f_final = rel === true ? [] : f;\n",
       "  const sd_final = rel === true ? []: sd;\n",
       "\n",
       "  if (rel === true) {\n",
       "    const f_sq = (\n",
       "      arm_data['in_sample'][arm_data['status_quo_name']]['y'][metric]\n",
       "    );\n",
       "    const sd_sq = (\n",
       "      arm_data['in_sample'][arm_data['status_quo_name']]['se'][metric]\n",
       "    );\n",
       "\n",
       "    for (let i = 0; i < f.length; i++) {\n",
       "      res = relativize(f[i], sd[i], f_sq, sd_sq);\n",
       "      f_final.push(100 * res[0]);\n",
       "      sd_final.push(100 * res[1]);\n",
       "    }\n",
       "  }\n",
       "\n",
       "  return [f_final, sd_final];\n",
       "}\n",
       "\n",
       "function relativize(m_t, sem_t, m_c, sem_c) {\n",
       "  r_hat = (\n",
       "    (m_t - m_c) / Math.abs(m_c) -\n",
       "    Math.pow(sem_c, 2) * m_t / Math.pow(Math.abs(m_c), 3)\n",
       "  );\n",
       "  variance = (\n",
       "    (Math.pow(sem_t, 2) + Math.pow((m_t / m_c * sem_c), 2)) /\n",
       "    Math.pow(m_c, 2)\n",
       "   )\n",
       "   return [r_hat, Math.sqrt(variance)];\n",
       "}\n",
       "</script>"
      ]
     },
     "metadata": {},
     "output_type": "display_data"
    },
    {
     "name": "stderr",
     "output_type": "stream",
     "text": [
      "[INFO 08-10 19:44:57] ipy_plotting: Injecting Plotly library into cell. Do not overwrite or delete cell.\n"
     ]
    }
   ],
   "source": [
    "import torch\n",
    "import numpy as np\n",
    "\n",
    "from ax.plot.contour import plot_contour\n",
    "from ax.plot.trace import optimization_trace_single_method\n",
    "from ax.service.managed_loop import optimize\n",
    "from ax.utils.notebook.plotting import render, init_notebook_plotting\n",
    "from ax.utils.tutorials.cnn_utils import load_mnist, train, evaluate, CNN\n",
    "\n",
    "init_notebook_plotting()"
   ]
  },
  {
   "cell_type": "code",
   "execution_count": 2,
   "metadata": {
    "collapsed": true
   },
   "outputs": [],
   "source": [
    "torch.manual_seed(12345)\n",
    "dtype = torch.float\n",
    "device = torch.device(\"cuda\" if torch.cuda.is_available() else \"cpu\")"
   ]
  },
  {
   "cell_type": "markdown",
   "metadata": {},
   "source": [
    "## 1. Load MNIST data\n",
    "First, we need to load the MNIST data and partition it into training, validation, and test sets.\n",
    "\n",
    "Note: this will download the dataset if necessary."
   ]
  },
  {
   "cell_type": "code",
   "execution_count": 3,
   "metadata": {
    "scrolled": true
   },
   "outputs": [
    {
     "name": "stdout",
     "output_type": "stream",
     "text": [
      "Downloading http://yann.lecun.com/exdb/mnist/train-images-idx3-ubyte.gz to ./data/MNIST/raw/train-images-idx3-ubyte.gz\n"
     ]
    },
    {
     "name": "stderr",
     "output_type": "stream",
     "text": [
      "\r",
      "0.0%"
     ]
    },
    {
     "name": "stderr",
     "output_type": "stream",
     "text": [
      "\r",
      "0.1%"
     ]
    },
    {
     "name": "stderr",
     "output_type": "stream",
     "text": [
      "\r",
      "0.2%"
     ]
    },
    {
     "name": "stderr",
     "output_type": "stream",
     "text": [
      "\r",
      "0.2%"
     ]
    },
    {
     "name": "stderr",
     "output_type": "stream",
     "text": [
      "\r",
      "0.3%"
     ]
    },
    {
     "name": "stderr",
     "output_type": "stream",
     "text": [
      "\r",
      "0.4%"
     ]
    },
    {
     "name": "stderr",
     "output_type": "stream",
     "text": [
      "\r",
      "0.5%"
     ]
    },
    {
     "name": "stderr",
     "output_type": "stream",
     "text": [
      "\r",
      "0.6%"
     ]
    },
    {
     "name": "stderr",
     "output_type": "stream",
     "text": [
      "\r",
      "0.7%"
     ]
    },
    {
     "name": "stderr",
     "output_type": "stream",
     "text": [
      "\r",
      "0.7%"
     ]
    },
    {
     "name": "stderr",
     "output_type": "stream",
     "text": [
      "\r",
      "0.8%"
     ]
    },
    {
     "name": "stderr",
     "output_type": "stream",
     "text": [
      "\r",
      "0.9%"
     ]
    },
    {
     "name": "stderr",
     "output_type": "stream",
     "text": [
      "\r",
      "1.0%"
     ]
    },
    {
     "name": "stderr",
     "output_type": "stream",
     "text": [
      "\r",
      "1.1%"
     ]
    },
    {
     "name": "stderr",
     "output_type": "stream",
     "text": [
      "\r",
      "1.2%"
     ]
    },
    {
     "name": "stderr",
     "output_type": "stream",
     "text": [
      "\r",
      "1.2%"
     ]
    },
    {
     "name": "stderr",
     "output_type": "stream",
     "text": [
      "\r",
      "1.3%"
     ]
    },
    {
     "name": "stderr",
     "output_type": "stream",
     "text": [
      "\r",
      "1.4%"
     ]
    },
    {
     "name": "stderr",
     "output_type": "stream",
     "text": [
      "\r",
      "1.5%"
     ]
    },
    {
     "name": "stderr",
     "output_type": "stream",
     "text": [
      "\r",
      "1.6%"
     ]
    },
    {
     "name": "stderr",
     "output_type": "stream",
     "text": [
      "\r",
      "1.7%"
     ]
    },
    {
     "name": "stderr",
     "output_type": "stream",
     "text": [
      "\r",
      "1.7%"
     ]
    },
    {
     "name": "stderr",
     "output_type": "stream",
     "text": [
      "\r",
      "1.8%"
     ]
    },
    {
     "name": "stderr",
     "output_type": "stream",
     "text": [
      "\r",
      "1.9%"
     ]
    },
    {
     "name": "stderr",
     "output_type": "stream",
     "text": [
      "\r",
      "2.0%"
     ]
    },
    {
     "name": "stderr",
     "output_type": "stream",
     "text": [
      "\r",
      "2.1%"
     ]
    },
    {
     "name": "stderr",
     "output_type": "stream",
     "text": [
      "\r",
      "2.1%"
     ]
    },
    {
     "name": "stderr",
     "output_type": "stream",
     "text": [
      "\r",
      "2.2%"
     ]
    },
    {
     "name": "stderr",
     "output_type": "stream",
     "text": [
      "\r",
      "2.3%"
     ]
    },
    {
     "name": "stderr",
     "output_type": "stream",
     "text": [
      "\r",
      "2.4%"
     ]
    },
    {
     "name": "stderr",
     "output_type": "stream",
     "text": [
      "\r",
      "2.5%"
     ]
    },
    {
     "name": "stderr",
     "output_type": "stream",
     "text": [
      "\r",
      "2.6%"
     ]
    },
    {
     "name": "stderr",
     "output_type": "stream",
     "text": [
      "\r",
      "2.6%"
     ]
    },
    {
     "name": "stderr",
     "output_type": "stream",
     "text": [
      "\r",
      "2.7%"
     ]
    },
    {
     "name": "stderr",
     "output_type": "stream",
     "text": [
      "\r",
      "2.8%"
     ]
    },
    {
     "name": "stderr",
     "output_type": "stream",
     "text": [
      "\r",
      "2.9%"
     ]
    },
    {
     "name": "stderr",
     "output_type": "stream",
     "text": [
      "\r",
      "3.0%"
     ]
    },
    {
     "name": "stderr",
     "output_type": "stream",
     "text": [
      "\r",
      "3.1%"
     ]
    },
    {
     "name": "stderr",
     "output_type": "stream",
     "text": [
      "\r",
      "3.1%"
     ]
    },
    {
     "name": "stderr",
     "output_type": "stream",
     "text": [
      "\r",
      "3.2%"
     ]
    },
    {
     "name": "stderr",
     "output_type": "stream",
     "text": [
      "\r",
      "3.3%"
     ]
    },
    {
     "name": "stderr",
     "output_type": "stream",
     "text": [
      "\r",
      "3.4%"
     ]
    },
    {
     "name": "stderr",
     "output_type": "stream",
     "text": [
      "\r",
      "3.5%"
     ]
    },
    {
     "name": "stderr",
     "output_type": "stream",
     "text": [
      "\r",
      "3.6%"
     ]
    },
    {
     "name": "stderr",
     "output_type": "stream",
     "text": [
      "\r",
      "3.6%"
     ]
    },
    {
     "name": "stderr",
     "output_type": "stream",
     "text": [
      "\r",
      "3.7%"
     ]
    },
    {
     "name": "stderr",
     "output_type": "stream",
     "text": [
      "\r",
      "3.8%"
     ]
    },
    {
     "name": "stderr",
     "output_type": "stream",
     "text": [
      "\r",
      "3.9%"
     ]
    },
    {
     "name": "stderr",
     "output_type": "stream",
     "text": [
      "\r",
      "4.0%"
     ]
    },
    {
     "name": "stderr",
     "output_type": "stream",
     "text": [
      "\r",
      "4.0%"
     ]
    },
    {
     "name": "stderr",
     "output_type": "stream",
     "text": [
      "\r",
      "4.1%"
     ]
    },
    {
     "name": "stderr",
     "output_type": "stream",
     "text": [
      "\r",
      "4.2%"
     ]
    },
    {
     "name": "stderr",
     "output_type": "stream",
     "text": [
      "\r",
      "4.3%"
     ]
    },
    {
     "name": "stderr",
     "output_type": "stream",
     "text": [
      "\r",
      "4.4%"
     ]
    },
    {
     "name": "stderr",
     "output_type": "stream",
     "text": [
      "\r",
      "4.5%"
     ]
    },
    {
     "name": "stderr",
     "output_type": "stream",
     "text": [
      "\r",
      "4.5%"
     ]
    },
    {
     "name": "stderr",
     "output_type": "stream",
     "text": [
      "\r",
      "4.6%"
     ]
    },
    {
     "name": "stderr",
     "output_type": "stream",
     "text": [
      "\r",
      "4.7%"
     ]
    },
    {
     "name": "stderr",
     "output_type": "stream",
     "text": [
      "\r",
      "4.8%"
     ]
    },
    {
     "name": "stderr",
     "output_type": "stream",
     "text": [
      "\r",
      "4.9%"
     ]
    },
    {
     "name": "stderr",
     "output_type": "stream",
     "text": [
      "\r",
      "5.0%"
     ]
    },
    {
     "name": "stderr",
     "output_type": "stream",
     "text": [
      "\r",
      "5.0%"
     ]
    },
    {
     "name": "stderr",
     "output_type": "stream",
     "text": [
      "\r",
      "5.1%"
     ]
    },
    {
     "name": "stderr",
     "output_type": "stream",
     "text": [
      "\r",
      "5.2%"
     ]
    },
    {
     "name": "stderr",
     "output_type": "stream",
     "text": [
      "\r",
      "5.3%"
     ]
    },
    {
     "name": "stderr",
     "output_type": "stream",
     "text": [
      "\r",
      "5.4%"
     ]
    },
    {
     "name": "stderr",
     "output_type": "stream",
     "text": [
      "\r",
      "5.5%"
     ]
    },
    {
     "name": "stderr",
     "output_type": "stream",
     "text": [
      "\r",
      "5.5%"
     ]
    },
    {
     "name": "stderr",
     "output_type": "stream",
     "text": [
      "\r",
      "5.6%"
     ]
    },
    {
     "name": "stderr",
     "output_type": "stream",
     "text": [
      "\r",
      "5.7%"
     ]
    },
    {
     "name": "stderr",
     "output_type": "stream",
     "text": [
      "\r",
      "5.8%"
     ]
    },
    {
     "name": "stderr",
     "output_type": "stream",
     "text": [
      "\r",
      "5.9%"
     ]
    },
    {
     "name": "stderr",
     "output_type": "stream",
     "text": [
      "\r",
      "6.0%"
     ]
    },
    {
     "name": "stderr",
     "output_type": "stream",
     "text": [
      "\r",
      "6.0%"
     ]
    },
    {
     "name": "stderr",
     "output_type": "stream",
     "text": [
      "\r",
      "6.1%"
     ]
    },
    {
     "name": "stderr",
     "output_type": "stream",
     "text": [
      "\r",
      "6.2%"
     ]
    },
    {
     "name": "stderr",
     "output_type": "stream",
     "text": [
      "\r",
      "6.3%"
     ]
    },
    {
     "name": "stderr",
     "output_type": "stream",
     "text": [
      "\r",
      "6.4%"
     ]
    },
    {
     "name": "stderr",
     "output_type": "stream",
     "text": [
      "\r",
      "6.4%"
     ]
    },
    {
     "name": "stderr",
     "output_type": "stream",
     "text": [
      "\r",
      "6.5%"
     ]
    },
    {
     "name": "stderr",
     "output_type": "stream",
     "text": [
      "\r",
      "6.6%"
     ]
    },
    {
     "name": "stderr",
     "output_type": "stream",
     "text": [
      "\r",
      "6.7%"
     ]
    },
    {
     "name": "stderr",
     "output_type": "stream",
     "text": [
      "\r",
      "6.8%"
     ]
    },
    {
     "name": "stderr",
     "output_type": "stream",
     "text": [
      "\r",
      "6.9%"
     ]
    },
    {
     "name": "stderr",
     "output_type": "stream",
     "text": [
      "\r",
      "6.9%"
     ]
    },
    {
     "name": "stderr",
     "output_type": "stream",
     "text": [
      "\r",
      "7.0%"
     ]
    },
    {
     "name": "stderr",
     "output_type": "stream",
     "text": [
      "\r",
      "7.1%"
     ]
    },
    {
     "name": "stderr",
     "output_type": "stream",
     "text": [
      "\r",
      "7.2%"
     ]
    },
    {
     "name": "stderr",
     "output_type": "stream",
     "text": [
      "\r",
      "7.3%"
     ]
    },
    {
     "name": "stderr",
     "output_type": "stream",
     "text": [
      "\r",
      "7.4%"
     ]
    },
    {
     "name": "stderr",
     "output_type": "stream",
     "text": [
      "\r",
      "7.4%"
     ]
    },
    {
     "name": "stderr",
     "output_type": "stream",
     "text": [
      "\r",
      "7.5%"
     ]
    },
    {
     "name": "stderr",
     "output_type": "stream",
     "text": [
      "\r",
      "7.6%"
     ]
    },
    {
     "name": "stderr",
     "output_type": "stream",
     "text": [
      "\r",
      "7.7%"
     ]
    },
    {
     "name": "stderr",
     "output_type": "stream",
     "text": [
      "\r",
      "7.8%"
     ]
    },
    {
     "name": "stderr",
     "output_type": "stream",
     "text": [
      "\r",
      "7.9%"
     ]
    },
    {
     "name": "stderr",
     "output_type": "stream",
     "text": [
      "\r",
      "7.9%"
     ]
    },
    {
     "name": "stderr",
     "output_type": "stream",
     "text": [
      "\r",
      "8.0%"
     ]
    },
    {
     "name": "stderr",
     "output_type": "stream",
     "text": [
      "\r",
      "8.1%"
     ]
    },
    {
     "name": "stderr",
     "output_type": "stream",
     "text": [
      "\r",
      "8.2%"
     ]
    },
    {
     "name": "stderr",
     "output_type": "stream",
     "text": [
      "\r",
      "8.3%"
     ]
    },
    {
     "name": "stderr",
     "output_type": "stream",
     "text": [
      "\r",
      "8.3%"
     ]
    },
    {
     "name": "stderr",
     "output_type": "stream",
     "text": [
      "\r",
      "8.4%"
     ]
    },
    {
     "name": "stderr",
     "output_type": "stream",
     "text": [
      "\r",
      "8.5%"
     ]
    },
    {
     "name": "stderr",
     "output_type": "stream",
     "text": [
      "\r",
      "8.6%"
     ]
    },
    {
     "name": "stderr",
     "output_type": "stream",
     "text": [
      "\r",
      "8.7%"
     ]
    },
    {
     "name": "stderr",
     "output_type": "stream",
     "text": [
      "\r",
      "8.8%"
     ]
    },
    {
     "name": "stderr",
     "output_type": "stream",
     "text": [
      "\r",
      "8.8%"
     ]
    },
    {
     "name": "stderr",
     "output_type": "stream",
     "text": [
      "\r",
      "8.9%"
     ]
    },
    {
     "name": "stderr",
     "output_type": "stream",
     "text": [
      "\r",
      "9.0%"
     ]
    },
    {
     "name": "stderr",
     "output_type": "stream",
     "text": [
      "\r",
      "9.1%"
     ]
    },
    {
     "name": "stderr",
     "output_type": "stream",
     "text": [
      "\r",
      "9.2%"
     ]
    },
    {
     "name": "stderr",
     "output_type": "stream",
     "text": [
      "\r",
      "9.3%"
     ]
    },
    {
     "name": "stderr",
     "output_type": "stream",
     "text": [
      "\r",
      "9.3%"
     ]
    },
    {
     "name": "stderr",
     "output_type": "stream",
     "text": [
      "\r",
      "9.4%"
     ]
    },
    {
     "name": "stderr",
     "output_type": "stream",
     "text": [
      "\r",
      "9.5%"
     ]
    },
    {
     "name": "stderr",
     "output_type": "stream",
     "text": [
      "\r",
      "9.6%"
     ]
    },
    {
     "name": "stderr",
     "output_type": "stream",
     "text": [
      "\r",
      "9.7%"
     ]
    },
    {
     "name": "stderr",
     "output_type": "stream",
     "text": [
      "\r",
      "9.8%"
     ]
    },
    {
     "name": "stderr",
     "output_type": "stream",
     "text": [
      "\r",
      "9.8%"
     ]
    },
    {
     "name": "stderr",
     "output_type": "stream",
     "text": [
      "\r",
      "9.9%"
     ]
    },
    {
     "name": "stderr",
     "output_type": "stream",
     "text": [
      "\r",
      "10.0%"
     ]
    },
    {
     "name": "stderr",
     "output_type": "stream",
     "text": [
      "\r",
      "10.1%"
     ]
    },
    {
     "name": "stderr",
     "output_type": "stream",
     "text": [
      "\r",
      "10.2%"
     ]
    },
    {
     "name": "stderr",
     "output_type": "stream",
     "text": [
      "\r",
      "10.2%"
     ]
    },
    {
     "name": "stderr",
     "output_type": "stream",
     "text": [
      "\r",
      "10.3%"
     ]
    },
    {
     "name": "stderr",
     "output_type": "stream",
     "text": [
      "\r",
      "10.4%"
     ]
    },
    {
     "name": "stderr",
     "output_type": "stream",
     "text": [
      "\r",
      "10.5%"
     ]
    },
    {
     "name": "stderr",
     "output_type": "stream",
     "text": [
      "\r",
      "10.6%"
     ]
    },
    {
     "name": "stderr",
     "output_type": "stream",
     "text": [
      "\r",
      "10.7%"
     ]
    },
    {
     "name": "stderr",
     "output_type": "stream",
     "text": [
      "\r",
      "10.7%"
     ]
    },
    {
     "name": "stderr",
     "output_type": "stream",
     "text": [
      "\r",
      "10.8%"
     ]
    },
    {
     "name": "stderr",
     "output_type": "stream",
     "text": [
      "\r",
      "10.9%"
     ]
    },
    {
     "name": "stderr",
     "output_type": "stream",
     "text": [
      "\r",
      "11.0%"
     ]
    },
    {
     "name": "stderr",
     "output_type": "stream",
     "text": [
      "\r",
      "11.1%"
     ]
    },
    {
     "name": "stderr",
     "output_type": "stream",
     "text": [
      "\r",
      "11.2%"
     ]
    },
    {
     "name": "stderr",
     "output_type": "stream",
     "text": [
      "\r",
      "11.2%"
     ]
    },
    {
     "name": "stderr",
     "output_type": "stream",
     "text": [
      "\r",
      "11.3%"
     ]
    },
    {
     "name": "stderr",
     "output_type": "stream",
     "text": [
      "\r",
      "11.4%"
     ]
    },
    {
     "name": "stderr",
     "output_type": "stream",
     "text": [
      "\r",
      "11.5%"
     ]
    },
    {
     "name": "stderr",
     "output_type": "stream",
     "text": [
      "\r",
      "11.6%"
     ]
    },
    {
     "name": "stderr",
     "output_type": "stream",
     "text": [
      "\r",
      "11.7%"
     ]
    },
    {
     "name": "stderr",
     "output_type": "stream",
     "text": [
      "\r",
      "11.7%"
     ]
    },
    {
     "name": "stderr",
     "output_type": "stream",
     "text": [
      "\r",
      "11.8%"
     ]
    },
    {
     "name": "stderr",
     "output_type": "stream",
     "text": [
      "\r",
      "11.9%"
     ]
    },
    {
     "name": "stderr",
     "output_type": "stream",
     "text": [
      "\r",
      "12.0%"
     ]
    },
    {
     "name": "stderr",
     "output_type": "stream",
     "text": [
      "\r",
      "12.1%"
     ]
    },
    {
     "name": "stderr",
     "output_type": "stream",
     "text": [
      "\r",
      "12.1%"
     ]
    },
    {
     "name": "stderr",
     "output_type": "stream",
     "text": [
      "\r",
      "12.2%"
     ]
    },
    {
     "name": "stderr",
     "output_type": "stream",
     "text": [
      "\r",
      "12.3%"
     ]
    },
    {
     "name": "stderr",
     "output_type": "stream",
     "text": [
      "\r",
      "12.4%"
     ]
    },
    {
     "name": "stderr",
     "output_type": "stream",
     "text": [
      "\r",
      "12.5%"
     ]
    },
    {
     "name": "stderr",
     "output_type": "stream",
     "text": [
      "\r",
      "12.6%"
     ]
    },
    {
     "name": "stderr",
     "output_type": "stream",
     "text": [
      "\r",
      "12.6%"
     ]
    },
    {
     "name": "stderr",
     "output_type": "stream",
     "text": [
      "\r",
      "12.7%"
     ]
    },
    {
     "name": "stderr",
     "output_type": "stream",
     "text": [
      "\r",
      "12.8%"
     ]
    },
    {
     "name": "stderr",
     "output_type": "stream",
     "text": [
      "\r",
      "12.9%"
     ]
    },
    {
     "name": "stderr",
     "output_type": "stream",
     "text": [
      "\r",
      "13.0%"
     ]
    },
    {
     "name": "stderr",
     "output_type": "stream",
     "text": [
      "\r",
      "13.1%"
     ]
    },
    {
     "name": "stderr",
     "output_type": "stream",
     "text": [
      "\r",
      "13.1%"
     ]
    },
    {
     "name": "stderr",
     "output_type": "stream",
     "text": [
      "\r",
      "13.2%"
     ]
    },
    {
     "name": "stderr",
     "output_type": "stream",
     "text": [
      "\r",
      "13.3%"
     ]
    },
    {
     "name": "stderr",
     "output_type": "stream",
     "text": [
      "\r",
      "13.4%"
     ]
    },
    {
     "name": "stderr",
     "output_type": "stream",
     "text": [
      "\r",
      "13.5%"
     ]
    },
    {
     "name": "stderr",
     "output_type": "stream",
     "text": [
      "\r",
      "13.6%"
     ]
    },
    {
     "name": "stderr",
     "output_type": "stream",
     "text": [
      "\r",
      "13.6%"
     ]
    },
    {
     "name": "stderr",
     "output_type": "stream",
     "text": [
      "\r",
      "13.7%"
     ]
    },
    {
     "name": "stderr",
     "output_type": "stream",
     "text": [
      "\r",
      "13.8%"
     ]
    },
    {
     "name": "stderr",
     "output_type": "stream",
     "text": [
      "\r",
      "13.9%"
     ]
    },
    {
     "name": "stderr",
     "output_type": "stream",
     "text": [
      "\r",
      "14.0%"
     ]
    },
    {
     "name": "stderr",
     "output_type": "stream",
     "text": [
      "\r",
      "14.0%"
     ]
    },
    {
     "name": "stderr",
     "output_type": "stream",
     "text": [
      "\r",
      "14.1%"
     ]
    },
    {
     "name": "stderr",
     "output_type": "stream",
     "text": [
      "\r",
      "14.2%"
     ]
    },
    {
     "name": "stderr",
     "output_type": "stream",
     "text": [
      "\r",
      "14.3%"
     ]
    },
    {
     "name": "stderr",
     "output_type": "stream",
     "text": [
      "\r",
      "14.4%"
     ]
    },
    {
     "name": "stderr",
     "output_type": "stream",
     "text": [
      "\r",
      "14.5%"
     ]
    },
    {
     "name": "stderr",
     "output_type": "stream",
     "text": [
      "\r",
      "14.5%"
     ]
    },
    {
     "name": "stderr",
     "output_type": "stream",
     "text": [
      "\r",
      "14.6%"
     ]
    },
    {
     "name": "stderr",
     "output_type": "stream",
     "text": [
      "\r",
      "14.7%"
     ]
    },
    {
     "name": "stderr",
     "output_type": "stream",
     "text": [
      "\r",
      "14.8%"
     ]
    },
    {
     "name": "stderr",
     "output_type": "stream",
     "text": [
      "\r",
      "14.9%"
     ]
    },
    {
     "name": "stderr",
     "output_type": "stream",
     "text": [
      "\r",
      "15.0%"
     ]
    },
    {
     "name": "stderr",
     "output_type": "stream",
     "text": [
      "\r",
      "15.0%"
     ]
    },
    {
     "name": "stderr",
     "output_type": "stream",
     "text": [
      "\r",
      "15.1%"
     ]
    },
    {
     "name": "stderr",
     "output_type": "stream",
     "text": [
      "\r",
      "15.2%"
     ]
    },
    {
     "name": "stderr",
     "output_type": "stream",
     "text": [
      "\r",
      "15.3%"
     ]
    },
    {
     "name": "stderr",
     "output_type": "stream",
     "text": [
      "\r",
      "15.4%"
     ]
    },
    {
     "name": "stderr",
     "output_type": "stream",
     "text": [
      "\r",
      "15.5%"
     ]
    },
    {
     "name": "stderr",
     "output_type": "stream",
     "text": [
      "\r",
      "15.5%"
     ]
    },
    {
     "name": "stderr",
     "output_type": "stream",
     "text": [
      "\r",
      "15.6%"
     ]
    },
    {
     "name": "stderr",
     "output_type": "stream",
     "text": [
      "\r",
      "15.7%"
     ]
    },
    {
     "name": "stderr",
     "output_type": "stream",
     "text": [
      "\r",
      "15.8%"
     ]
    },
    {
     "name": "stderr",
     "output_type": "stream",
     "text": [
      "\r",
      "15.9%"
     ]
    },
    {
     "name": "stderr",
     "output_type": "stream",
     "text": [
      "\r",
      "16.0%"
     ]
    },
    {
     "name": "stderr",
     "output_type": "stream",
     "text": [
      "\r",
      "16.0%"
     ]
    },
    {
     "name": "stderr",
     "output_type": "stream",
     "text": [
      "\r",
      "16.1%"
     ]
    },
    {
     "name": "stderr",
     "output_type": "stream",
     "text": [
      "\r",
      "16.2%"
     ]
    },
    {
     "name": "stderr",
     "output_type": "stream",
     "text": [
      "\r",
      "16.3%"
     ]
    },
    {
     "name": "stderr",
     "output_type": "stream",
     "text": [
      "\r",
      "16.4%"
     ]
    },
    {
     "name": "stderr",
     "output_type": "stream",
     "text": [
      "\r",
      "16.4%"
     ]
    },
    {
     "name": "stderr",
     "output_type": "stream",
     "text": [
      "\r",
      "16.5%"
     ]
    },
    {
     "name": "stderr",
     "output_type": "stream",
     "text": [
      "\r",
      "16.6%"
     ]
    },
    {
     "name": "stderr",
     "output_type": "stream",
     "text": [
      "\r",
      "16.7%"
     ]
    },
    {
     "name": "stderr",
     "output_type": "stream",
     "text": [
      "\r",
      "16.8%"
     ]
    },
    {
     "name": "stderr",
     "output_type": "stream",
     "text": [
      "\r",
      "16.9%"
     ]
    },
    {
     "name": "stderr",
     "output_type": "stream",
     "text": [
      "\r",
      "16.9%"
     ]
    },
    {
     "name": "stderr",
     "output_type": "stream",
     "text": [
      "\r",
      "17.0%"
     ]
    },
    {
     "name": "stderr",
     "output_type": "stream",
     "text": [
      "\r",
      "17.1%"
     ]
    },
    {
     "name": "stderr",
     "output_type": "stream",
     "text": [
      "\r",
      "17.2%"
     ]
    },
    {
     "name": "stderr",
     "output_type": "stream",
     "text": [
      "\r",
      "17.3%"
     ]
    },
    {
     "name": "stderr",
     "output_type": "stream",
     "text": [
      "\r",
      "17.4%"
     ]
    },
    {
     "name": "stderr",
     "output_type": "stream",
     "text": [
      "\r",
      "17.4%"
     ]
    },
    {
     "name": "stderr",
     "output_type": "stream",
     "text": [
      "\r",
      "17.5%"
     ]
    },
    {
     "name": "stderr",
     "output_type": "stream",
     "text": [
      "\r",
      "17.6%"
     ]
    },
    {
     "name": "stderr",
     "output_type": "stream",
     "text": [
      "\r",
      "17.7%"
     ]
    },
    {
     "name": "stderr",
     "output_type": "stream",
     "text": [
      "\r",
      "17.8%"
     ]
    },
    {
     "name": "stderr",
     "output_type": "stream",
     "text": [
      "\r",
      "17.9%"
     ]
    },
    {
     "name": "stderr",
     "output_type": "stream",
     "text": [
      "\r",
      "17.9%"
     ]
    },
    {
     "name": "stderr",
     "output_type": "stream",
     "text": [
      "\r",
      "18.0%"
     ]
    },
    {
     "name": "stderr",
     "output_type": "stream",
     "text": [
      "\r",
      "18.1%"
     ]
    },
    {
     "name": "stderr",
     "output_type": "stream",
     "text": [
      "\r",
      "18.2%"
     ]
    },
    {
     "name": "stderr",
     "output_type": "stream",
     "text": [
      "\r",
      "18.3%"
     ]
    },
    {
     "name": "stderr",
     "output_type": "stream",
     "text": [
      "\r",
      "18.3%"
     ]
    },
    {
     "name": "stderr",
     "output_type": "stream",
     "text": [
      "\r",
      "18.4%"
     ]
    },
    {
     "name": "stderr",
     "output_type": "stream",
     "text": [
      "\r",
      "18.5%"
     ]
    },
    {
     "name": "stderr",
     "output_type": "stream",
     "text": [
      "\r",
      "18.6%"
     ]
    },
    {
     "name": "stderr",
     "output_type": "stream",
     "text": [
      "\r",
      "18.7%"
     ]
    },
    {
     "name": "stderr",
     "output_type": "stream",
     "text": [
      "\r",
      "18.8%"
     ]
    },
    {
     "name": "stderr",
     "output_type": "stream",
     "text": [
      "\r",
      "18.8%"
     ]
    },
    {
     "name": "stderr",
     "output_type": "stream",
     "text": [
      "\r",
      "18.9%"
     ]
    },
    {
     "name": "stderr",
     "output_type": "stream",
     "text": [
      "\r",
      "19.0%"
     ]
    },
    {
     "name": "stderr",
     "output_type": "stream",
     "text": [
      "\r",
      "19.1%"
     ]
    },
    {
     "name": "stderr",
     "output_type": "stream",
     "text": [
      "\r",
      "19.2%"
     ]
    },
    {
     "name": "stderr",
     "output_type": "stream",
     "text": [
      "\r",
      "19.3%"
     ]
    },
    {
     "name": "stderr",
     "output_type": "stream",
     "text": [
      "\r",
      "19.3%"
     ]
    },
    {
     "name": "stderr",
     "output_type": "stream",
     "text": [
      "\r",
      "19.4%"
     ]
    },
    {
     "name": "stderr",
     "output_type": "stream",
     "text": [
      "\r",
      "19.5%"
     ]
    },
    {
     "name": "stderr",
     "output_type": "stream",
     "text": [
      "\r",
      "19.6%"
     ]
    },
    {
     "name": "stderr",
     "output_type": "stream",
     "text": [
      "\r",
      "19.7%"
     ]
    },
    {
     "name": "stderr",
     "output_type": "stream",
     "text": [
      "\r",
      "19.8%"
     ]
    },
    {
     "name": "stderr",
     "output_type": "stream",
     "text": [
      "\r",
      "19.8%"
     ]
    },
    {
     "name": "stderr",
     "output_type": "stream",
     "text": [
      "\r",
      "19.9%"
     ]
    },
    {
     "name": "stderr",
     "output_type": "stream",
     "text": [
      "\r",
      "20.0%"
     ]
    },
    {
     "name": "stderr",
     "output_type": "stream",
     "text": [
      "\r",
      "20.1%"
     ]
    },
    {
     "name": "stderr",
     "output_type": "stream",
     "text": [
      "\r",
      "20.2%"
     ]
    },
    {
     "name": "stderr",
     "output_type": "stream",
     "text": [
      "\r",
      "20.2%"
     ]
    },
    {
     "name": "stderr",
     "output_type": "stream",
     "text": [
      "\r",
      "20.3%"
     ]
    },
    {
     "name": "stderr",
     "output_type": "stream",
     "text": [
      "\r",
      "20.4%"
     ]
    },
    {
     "name": "stderr",
     "output_type": "stream",
     "text": [
      "\r",
      "20.5%"
     ]
    },
    {
     "name": "stderr",
     "output_type": "stream",
     "text": [
      "\r",
      "20.6%"
     ]
    },
    {
     "name": "stderr",
     "output_type": "stream",
     "text": [
      "\r",
      "20.7%"
     ]
    },
    {
     "name": "stderr",
     "output_type": "stream",
     "text": [
      "\r",
      "20.7%"
     ]
    },
    {
     "name": "stderr",
     "output_type": "stream",
     "text": [
      "\r",
      "20.8%"
     ]
    },
    {
     "name": "stderr",
     "output_type": "stream",
     "text": [
      "\r",
      "20.9%"
     ]
    },
    {
     "name": "stderr",
     "output_type": "stream",
     "text": [
      "\r",
      "21.0%"
     ]
    },
    {
     "name": "stderr",
     "output_type": "stream",
     "text": [
      "\r",
      "21.1%"
     ]
    },
    {
     "name": "stderr",
     "output_type": "stream",
     "text": [
      "\r",
      "21.2%"
     ]
    },
    {
     "name": "stderr",
     "output_type": "stream",
     "text": [
      "\r",
      "21.2%"
     ]
    },
    {
     "name": "stderr",
     "output_type": "stream",
     "text": [
      "\r",
      "21.3%"
     ]
    },
    {
     "name": "stderr",
     "output_type": "stream",
     "text": [
      "\r",
      "21.4%"
     ]
    },
    {
     "name": "stderr",
     "output_type": "stream",
     "text": [
      "\r",
      "21.5%"
     ]
    },
    {
     "name": "stderr",
     "output_type": "stream",
     "text": [
      "\r",
      "21.6%"
     ]
    },
    {
     "name": "stderr",
     "output_type": "stream",
     "text": [
      "\r",
      "21.7%"
     ]
    },
    {
     "name": "stderr",
     "output_type": "stream",
     "text": [
      "\r",
      "21.7%"
     ]
    },
    {
     "name": "stderr",
     "output_type": "stream",
     "text": [
      "\r",
      "21.8%"
     ]
    },
    {
     "name": "stderr",
     "output_type": "stream",
     "text": [
      "\r",
      "21.9%"
     ]
    },
    {
     "name": "stderr",
     "output_type": "stream",
     "text": [
      "\r",
      "22.0%"
     ]
    },
    {
     "name": "stderr",
     "output_type": "stream",
     "text": [
      "\r",
      "22.1%"
     ]
    },
    {
     "name": "stderr",
     "output_type": "stream",
     "text": [
      "\r",
      "22.1%"
     ]
    },
    {
     "name": "stderr",
     "output_type": "stream",
     "text": [
      "\r",
      "22.2%"
     ]
    },
    {
     "name": "stderr",
     "output_type": "stream",
     "text": [
      "\r",
      "22.3%"
     ]
    },
    {
     "name": "stderr",
     "output_type": "stream",
     "text": [
      "\r",
      "22.4%"
     ]
    },
    {
     "name": "stderr",
     "output_type": "stream",
     "text": [
      "\r",
      "22.5%"
     ]
    },
    {
     "name": "stderr",
     "output_type": "stream",
     "text": [
      "\r",
      "22.6%"
     ]
    },
    {
     "name": "stderr",
     "output_type": "stream",
     "text": [
      "\r",
      "22.6%"
     ]
    },
    {
     "name": "stderr",
     "output_type": "stream",
     "text": [
      "\r",
      "22.7%"
     ]
    },
    {
     "name": "stderr",
     "output_type": "stream",
     "text": [
      "\r",
      "22.8%"
     ]
    },
    {
     "name": "stderr",
     "output_type": "stream",
     "text": [
      "\r",
      "22.9%"
     ]
    },
    {
     "name": "stderr",
     "output_type": "stream",
     "text": [
      "\r",
      "23.0%"
     ]
    },
    {
     "name": "stderr",
     "output_type": "stream",
     "text": [
      "\r",
      "23.1%"
     ]
    },
    {
     "name": "stderr",
     "output_type": "stream",
     "text": [
      "\r",
      "23.1%"
     ]
    },
    {
     "name": "stderr",
     "output_type": "stream",
     "text": [
      "\r",
      "23.2%"
     ]
    },
    {
     "name": "stderr",
     "output_type": "stream",
     "text": [
      "\r",
      "23.3%"
     ]
    },
    {
     "name": "stderr",
     "output_type": "stream",
     "text": [
      "\r",
      "23.4%"
     ]
    },
    {
     "name": "stderr",
     "output_type": "stream",
     "text": [
      "\r",
      "23.5%"
     ]
    },
    {
     "name": "stderr",
     "output_type": "stream",
     "text": [
      "\r",
      "23.6%"
     ]
    },
    {
     "name": "stderr",
     "output_type": "stream",
     "text": [
      "\r",
      "23.6%"
     ]
    },
    {
     "name": "stderr",
     "output_type": "stream",
     "text": [
      "\r",
      "23.7%"
     ]
    },
    {
     "name": "stderr",
     "output_type": "stream",
     "text": [
      "\r",
      "23.8%"
     ]
    },
    {
     "name": "stderr",
     "output_type": "stream",
     "text": [
      "\r",
      "23.9%"
     ]
    },
    {
     "name": "stderr",
     "output_type": "stream",
     "text": [
      "\r",
      "24.0%"
     ]
    },
    {
     "name": "stderr",
     "output_type": "stream",
     "text": [
      "\r",
      "24.0%"
     ]
    },
    {
     "name": "stderr",
     "output_type": "stream",
     "text": [
      "\r",
      "24.1%"
     ]
    },
    {
     "name": "stderr",
     "output_type": "stream",
     "text": [
      "\r",
      "24.2%"
     ]
    },
    {
     "name": "stderr",
     "output_type": "stream",
     "text": [
      "\r",
      "24.3%"
     ]
    },
    {
     "name": "stderr",
     "output_type": "stream",
     "text": [
      "\r",
      "24.4%"
     ]
    },
    {
     "name": "stderr",
     "output_type": "stream",
     "text": [
      "\r",
      "24.5%"
     ]
    },
    {
     "name": "stderr",
     "output_type": "stream",
     "text": [
      "\r",
      "24.5%"
     ]
    },
    {
     "name": "stderr",
     "output_type": "stream",
     "text": [
      "\r",
      "24.6%"
     ]
    },
    {
     "name": "stderr",
     "output_type": "stream",
     "text": [
      "\r",
      "24.7%"
     ]
    },
    {
     "name": "stderr",
     "output_type": "stream",
     "text": [
      "\r",
      "24.8%"
     ]
    },
    {
     "name": "stderr",
     "output_type": "stream",
     "text": [
      "\r",
      "24.9%"
     ]
    },
    {
     "name": "stderr",
     "output_type": "stream",
     "text": [
      "\r",
      "25.0%"
     ]
    },
    {
     "name": "stderr",
     "output_type": "stream",
     "text": [
      "\r",
      "25.0%"
     ]
    },
    {
     "name": "stderr",
     "output_type": "stream",
     "text": [
      "\r",
      "25.1%"
     ]
    },
    {
     "name": "stderr",
     "output_type": "stream",
     "text": [
      "\r",
      "25.2%"
     ]
    },
    {
     "name": "stderr",
     "output_type": "stream",
     "text": [
      "\r",
      "25.3%"
     ]
    },
    {
     "name": "stderr",
     "output_type": "stream",
     "text": [
      "\r",
      "25.4%"
     ]
    },
    {
     "name": "stderr",
     "output_type": "stream",
     "text": [
      "\r",
      "25.5%"
     ]
    },
    {
     "name": "stderr",
     "output_type": "stream",
     "text": [
      "\r",
      "25.5%"
     ]
    },
    {
     "name": "stderr",
     "output_type": "stream",
     "text": [
      "\r",
      "25.6%"
     ]
    },
    {
     "name": "stderr",
     "output_type": "stream",
     "text": [
      "\r",
      "25.7%"
     ]
    },
    {
     "name": "stderr",
     "output_type": "stream",
     "text": [
      "\r",
      "25.8%"
     ]
    },
    {
     "name": "stderr",
     "output_type": "stream",
     "text": [
      "\r",
      "25.9%"
     ]
    },
    {
     "name": "stderr",
     "output_type": "stream",
     "text": [
      "\r",
      "26.0%"
     ]
    },
    {
     "name": "stderr",
     "output_type": "stream",
     "text": [
      "\r",
      "26.0%"
     ]
    },
    {
     "name": "stderr",
     "output_type": "stream",
     "text": [
      "\r",
      "26.1%"
     ]
    },
    {
     "name": "stderr",
     "output_type": "stream",
     "text": [
      "\r",
      "26.2%"
     ]
    },
    {
     "name": "stderr",
     "output_type": "stream",
     "text": [
      "\r",
      "26.3%"
     ]
    },
    {
     "name": "stderr",
     "output_type": "stream",
     "text": [
      "\r",
      "26.4%"
     ]
    },
    {
     "name": "stderr",
     "output_type": "stream",
     "text": [
      "\r",
      "26.4%"
     ]
    },
    {
     "name": "stderr",
     "output_type": "stream",
     "text": [
      "\r",
      "26.5%"
     ]
    },
    {
     "name": "stderr",
     "output_type": "stream",
     "text": [
      "\r",
      "26.6%"
     ]
    },
    {
     "name": "stderr",
     "output_type": "stream",
     "text": [
      "\r",
      "26.7%"
     ]
    },
    {
     "name": "stderr",
     "output_type": "stream",
     "text": [
      "\r",
      "26.8%"
     ]
    },
    {
     "name": "stderr",
     "output_type": "stream",
     "text": [
      "\r",
      "26.9%"
     ]
    },
    {
     "name": "stderr",
     "output_type": "stream",
     "text": [
      "\r",
      "26.9%"
     ]
    },
    {
     "name": "stderr",
     "output_type": "stream",
     "text": [
      "\r",
      "27.0%"
     ]
    },
    {
     "name": "stderr",
     "output_type": "stream",
     "text": [
      "\r",
      "27.1%"
     ]
    },
    {
     "name": "stderr",
     "output_type": "stream",
     "text": [
      "\r",
      "27.2%"
     ]
    },
    {
     "name": "stderr",
     "output_type": "stream",
     "text": [
      "\r",
      "27.3%"
     ]
    },
    {
     "name": "stderr",
     "output_type": "stream",
     "text": [
      "\r",
      "27.4%"
     ]
    },
    {
     "name": "stderr",
     "output_type": "stream",
     "text": [
      "\r",
      "27.4%"
     ]
    },
    {
     "name": "stderr",
     "output_type": "stream",
     "text": [
      "\r",
      "27.5%"
     ]
    },
    {
     "name": "stderr",
     "output_type": "stream",
     "text": [
      "\r",
      "27.6%"
     ]
    },
    {
     "name": "stderr",
     "output_type": "stream",
     "text": [
      "\r",
      "27.7%"
     ]
    },
    {
     "name": "stderr",
     "output_type": "stream",
     "text": [
      "\r",
      "27.8%"
     ]
    },
    {
     "name": "stderr",
     "output_type": "stream",
     "text": [
      "\r",
      "27.9%"
     ]
    },
    {
     "name": "stderr",
     "output_type": "stream",
     "text": [
      "\r",
      "27.9%"
     ]
    },
    {
     "name": "stderr",
     "output_type": "stream",
     "text": [
      "\r",
      "28.0%"
     ]
    },
    {
     "name": "stderr",
     "output_type": "stream",
     "text": [
      "\r",
      "28.1%"
     ]
    },
    {
     "name": "stderr",
     "output_type": "stream",
     "text": [
      "\r",
      "28.2%"
     ]
    },
    {
     "name": "stderr",
     "output_type": "stream",
     "text": [
      "\r",
      "28.3%"
     ]
    },
    {
     "name": "stderr",
     "output_type": "stream",
     "text": [
      "\r",
      "28.3%"
     ]
    },
    {
     "name": "stderr",
     "output_type": "stream",
     "text": [
      "\r",
      "28.4%"
     ]
    },
    {
     "name": "stderr",
     "output_type": "stream",
     "text": [
      "\r",
      "28.5%"
     ]
    },
    {
     "name": "stderr",
     "output_type": "stream",
     "text": [
      "\r",
      "28.6%"
     ]
    },
    {
     "name": "stderr",
     "output_type": "stream",
     "text": [
      "\r",
      "28.7%"
     ]
    },
    {
     "name": "stderr",
     "output_type": "stream",
     "text": [
      "\r",
      "28.8%"
     ]
    },
    {
     "name": "stderr",
     "output_type": "stream",
     "text": [
      "\r",
      "28.8%"
     ]
    },
    {
     "name": "stderr",
     "output_type": "stream",
     "text": [
      "\r",
      "28.9%"
     ]
    },
    {
     "name": "stderr",
     "output_type": "stream",
     "text": [
      "\r",
      "29.0%"
     ]
    },
    {
     "name": "stderr",
     "output_type": "stream",
     "text": [
      "\r",
      "29.1%"
     ]
    },
    {
     "name": "stderr",
     "output_type": "stream",
     "text": [
      "\r",
      "29.2%"
     ]
    },
    {
     "name": "stderr",
     "output_type": "stream",
     "text": [
      "\r",
      "29.3%"
     ]
    },
    {
     "name": "stderr",
     "output_type": "stream",
     "text": [
      "\r",
      "29.3%"
     ]
    },
    {
     "name": "stderr",
     "output_type": "stream",
     "text": [
      "\r",
      "29.4%"
     ]
    },
    {
     "name": "stderr",
     "output_type": "stream",
     "text": [
      "\r",
      "29.5%"
     ]
    },
    {
     "name": "stderr",
     "output_type": "stream",
     "text": [
      "\r",
      "29.6%"
     ]
    },
    {
     "name": "stderr",
     "output_type": "stream",
     "text": [
      "\r",
      "29.7%"
     ]
    },
    {
     "name": "stderr",
     "output_type": "stream",
     "text": [
      "\r",
      "29.8%"
     ]
    },
    {
     "name": "stderr",
     "output_type": "stream",
     "text": [
      "\r",
      "29.8%"
     ]
    },
    {
     "name": "stderr",
     "output_type": "stream",
     "text": [
      "\r",
      "29.9%"
     ]
    },
    {
     "name": "stderr",
     "output_type": "stream",
     "text": [
      "\r",
      "30.0%"
     ]
    },
    {
     "name": "stderr",
     "output_type": "stream",
     "text": [
      "\r",
      "30.1%"
     ]
    },
    {
     "name": "stderr",
     "output_type": "stream",
     "text": [
      "\r",
      "30.2%"
     ]
    },
    {
     "name": "stderr",
     "output_type": "stream",
     "text": [
      "\r",
      "30.2%"
     ]
    },
    {
     "name": "stderr",
     "output_type": "stream",
     "text": [
      "\r",
      "30.3%"
     ]
    },
    {
     "name": "stderr",
     "output_type": "stream",
     "text": [
      "\r",
      "30.4%"
     ]
    },
    {
     "name": "stderr",
     "output_type": "stream",
     "text": [
      "\r",
      "30.5%"
     ]
    },
    {
     "name": "stderr",
     "output_type": "stream",
     "text": [
      "\r",
      "30.6%"
     ]
    },
    {
     "name": "stderr",
     "output_type": "stream",
     "text": [
      "\r",
      "30.7%"
     ]
    },
    {
     "name": "stderr",
     "output_type": "stream",
     "text": [
      "\r",
      "30.7%"
     ]
    },
    {
     "name": "stderr",
     "output_type": "stream",
     "text": [
      "\r",
      "30.8%"
     ]
    },
    {
     "name": "stderr",
     "output_type": "stream",
     "text": [
      "\r",
      "30.9%"
     ]
    },
    {
     "name": "stderr",
     "output_type": "stream",
     "text": [
      "\r",
      "31.0%"
     ]
    },
    {
     "name": "stderr",
     "output_type": "stream",
     "text": [
      "\r",
      "31.1%"
     ]
    },
    {
     "name": "stderr",
     "output_type": "stream",
     "text": [
      "\r",
      "31.2%"
     ]
    },
    {
     "name": "stderr",
     "output_type": "stream",
     "text": [
      "\r",
      "31.2%"
     ]
    },
    {
     "name": "stderr",
     "output_type": "stream",
     "text": [
      "\r",
      "31.3%"
     ]
    },
    {
     "name": "stderr",
     "output_type": "stream",
     "text": [
      "\r",
      "31.4%"
     ]
    },
    {
     "name": "stderr",
     "output_type": "stream",
     "text": [
      "\r",
      "31.5%"
     ]
    },
    {
     "name": "stderr",
     "output_type": "stream",
     "text": [
      "\r",
      "31.6%"
     ]
    },
    {
     "name": "stderr",
     "output_type": "stream",
     "text": [
      "\r",
      "31.7%"
     ]
    },
    {
     "name": "stderr",
     "output_type": "stream",
     "text": [
      "\r",
      "31.7%"
     ]
    },
    {
     "name": "stderr",
     "output_type": "stream",
     "text": [
      "\r",
      "31.8%"
     ]
    },
    {
     "name": "stderr",
     "output_type": "stream",
     "text": [
      "\r",
      "31.9%"
     ]
    },
    {
     "name": "stderr",
     "output_type": "stream",
     "text": [
      "\r",
      "32.0%"
     ]
    },
    {
     "name": "stderr",
     "output_type": "stream",
     "text": [
      "\r",
      "32.1%"
     ]
    },
    {
     "name": "stderr",
     "output_type": "stream",
     "text": [
      "\r",
      "32.1%"
     ]
    },
    {
     "name": "stderr",
     "output_type": "stream",
     "text": [
      "\r",
      "32.2%"
     ]
    },
    {
     "name": "stderr",
     "output_type": "stream",
     "text": [
      "\r",
      "32.3%"
     ]
    },
    {
     "name": "stderr",
     "output_type": "stream",
     "text": [
      "\r",
      "32.4%"
     ]
    },
    {
     "name": "stderr",
     "output_type": "stream",
     "text": [
      "\r",
      "32.5%"
     ]
    },
    {
     "name": "stderr",
     "output_type": "stream",
     "text": [
      "\r",
      "32.6%"
     ]
    },
    {
     "name": "stderr",
     "output_type": "stream",
     "text": [
      "\r",
      "32.6%"
     ]
    },
    {
     "name": "stderr",
     "output_type": "stream",
     "text": [
      "\r",
      "32.7%"
     ]
    },
    {
     "name": "stderr",
     "output_type": "stream",
     "text": [
      "\r",
      "32.8%"
     ]
    },
    {
     "name": "stderr",
     "output_type": "stream",
     "text": [
      "\r",
      "32.9%"
     ]
    },
    {
     "name": "stderr",
     "output_type": "stream",
     "text": [
      "\r",
      "33.0%"
     ]
    },
    {
     "name": "stderr",
     "output_type": "stream",
     "text": [
      "\r",
      "33.1%"
     ]
    },
    {
     "name": "stderr",
     "output_type": "stream",
     "text": [
      "\r",
      "33.1%"
     ]
    },
    {
     "name": "stderr",
     "output_type": "stream",
     "text": [
      "\r",
      "33.2%"
     ]
    },
    {
     "name": "stderr",
     "output_type": "stream",
     "text": [
      "\r",
      "33.3%"
     ]
    },
    {
     "name": "stderr",
     "output_type": "stream",
     "text": [
      "\r",
      "33.4%"
     ]
    },
    {
     "name": "stderr",
     "output_type": "stream",
     "text": [
      "\r",
      "33.5%"
     ]
    },
    {
     "name": "stderr",
     "output_type": "stream",
     "text": [
      "\r",
      "33.6%"
     ]
    },
    {
     "name": "stderr",
     "output_type": "stream",
     "text": [
      "\r",
      "33.6%"
     ]
    },
    {
     "name": "stderr",
     "output_type": "stream",
     "text": [
      "\r",
      "33.7%"
     ]
    },
    {
     "name": "stderr",
     "output_type": "stream",
     "text": [
      "\r",
      "33.8%"
     ]
    },
    {
     "name": "stderr",
     "output_type": "stream",
     "text": [
      "\r",
      "33.9%"
     ]
    },
    {
     "name": "stderr",
     "output_type": "stream",
     "text": [
      "\r",
      "34.0%"
     ]
    },
    {
     "name": "stderr",
     "output_type": "stream",
     "text": [
      "\r",
      "34.0%"
     ]
    },
    {
     "name": "stderr",
     "output_type": "stream",
     "text": [
      "\r",
      "34.1%"
     ]
    },
    {
     "name": "stderr",
     "output_type": "stream",
     "text": [
      "\r",
      "34.2%"
     ]
    },
    {
     "name": "stderr",
     "output_type": "stream",
     "text": [
      "\r",
      "34.3%"
     ]
    },
    {
     "name": "stderr",
     "output_type": "stream",
     "text": [
      "\r",
      "34.4%"
     ]
    },
    {
     "name": "stderr",
     "output_type": "stream",
     "text": [
      "\r",
      "34.5%"
     ]
    },
    {
     "name": "stderr",
     "output_type": "stream",
     "text": [
      "\r",
      "34.5%"
     ]
    },
    {
     "name": "stderr",
     "output_type": "stream",
     "text": [
      "\r",
      "34.6%"
     ]
    },
    {
     "name": "stderr",
     "output_type": "stream",
     "text": [
      "\r",
      "34.7%"
     ]
    },
    {
     "name": "stderr",
     "output_type": "stream",
     "text": [
      "\r",
      "34.8%"
     ]
    },
    {
     "name": "stderr",
     "output_type": "stream",
     "text": [
      "\r",
      "34.9%"
     ]
    },
    {
     "name": "stderr",
     "output_type": "stream",
     "text": [
      "\r",
      "35.0%"
     ]
    },
    {
     "name": "stderr",
     "output_type": "stream",
     "text": [
      "\r",
      "35.0%"
     ]
    },
    {
     "name": "stderr",
     "output_type": "stream",
     "text": [
      "\r",
      "35.1%"
     ]
    },
    {
     "name": "stderr",
     "output_type": "stream",
     "text": [
      "\r",
      "35.2%"
     ]
    },
    {
     "name": "stderr",
     "output_type": "stream",
     "text": [
      "\r",
      "35.3%"
     ]
    },
    {
     "name": "stderr",
     "output_type": "stream",
     "text": [
      "\r",
      "35.4%"
     ]
    },
    {
     "name": "stderr",
     "output_type": "stream",
     "text": [
      "\r",
      "35.5%"
     ]
    },
    {
     "name": "stderr",
     "output_type": "stream",
     "text": [
      "\r",
      "35.5%"
     ]
    },
    {
     "name": "stderr",
     "output_type": "stream",
     "text": [
      "\r",
      "35.6%"
     ]
    },
    {
     "name": "stderr",
     "output_type": "stream",
     "text": [
      "\r",
      "35.7%"
     ]
    },
    {
     "name": "stderr",
     "output_type": "stream",
     "text": [
      "\r",
      "35.8%"
     ]
    },
    {
     "name": "stderr",
     "output_type": "stream",
     "text": [
      "\r",
      "35.9%"
     ]
    },
    {
     "name": "stderr",
     "output_type": "stream",
     "text": [
      "\r",
      "36.0%"
     ]
    },
    {
     "name": "stderr",
     "output_type": "stream",
     "text": [
      "\r",
      "36.0%"
     ]
    },
    {
     "name": "stderr",
     "output_type": "stream",
     "text": [
      "\r",
      "36.1%"
     ]
    },
    {
     "name": "stderr",
     "output_type": "stream",
     "text": [
      "\r",
      "36.2%"
     ]
    },
    {
     "name": "stderr",
     "output_type": "stream",
     "text": [
      "\r",
      "36.3%"
     ]
    },
    {
     "name": "stderr",
     "output_type": "stream",
     "text": [
      "\r",
      "36.4%"
     ]
    },
    {
     "name": "stderr",
     "output_type": "stream",
     "text": [
      "\r",
      "36.4%"
     ]
    },
    {
     "name": "stderr",
     "output_type": "stream",
     "text": [
      "\r",
      "36.5%"
     ]
    },
    {
     "name": "stderr",
     "output_type": "stream",
     "text": [
      "\r",
      "36.6%"
     ]
    },
    {
     "name": "stderr",
     "output_type": "stream",
     "text": [
      "\r",
      "36.7%"
     ]
    },
    {
     "name": "stderr",
     "output_type": "stream",
     "text": [
      "\r",
      "36.8%"
     ]
    },
    {
     "name": "stderr",
     "output_type": "stream",
     "text": [
      "\r",
      "36.9%"
     ]
    },
    {
     "name": "stderr",
     "output_type": "stream",
     "text": [
      "\r",
      "36.9%"
     ]
    },
    {
     "name": "stderr",
     "output_type": "stream",
     "text": [
      "\r",
      "37.0%"
     ]
    },
    {
     "name": "stderr",
     "output_type": "stream",
     "text": [
      "\r",
      "37.1%"
     ]
    },
    {
     "name": "stderr",
     "output_type": "stream",
     "text": [
      "\r",
      "37.2%"
     ]
    },
    {
     "name": "stderr",
     "output_type": "stream",
     "text": [
      "\r",
      "37.3%"
     ]
    },
    {
     "name": "stderr",
     "output_type": "stream",
     "text": [
      "\r",
      "37.4%"
     ]
    },
    {
     "name": "stderr",
     "output_type": "stream",
     "text": [
      "\r",
      "37.4%"
     ]
    },
    {
     "name": "stderr",
     "output_type": "stream",
     "text": [
      "\r",
      "37.5%"
     ]
    },
    {
     "name": "stderr",
     "output_type": "stream",
     "text": [
      "\r",
      "37.6%"
     ]
    },
    {
     "name": "stderr",
     "output_type": "stream",
     "text": [
      "\r",
      "37.7%"
     ]
    },
    {
     "name": "stderr",
     "output_type": "stream",
     "text": [
      "\r",
      "37.8%"
     ]
    },
    {
     "name": "stderr",
     "output_type": "stream",
     "text": [
      "\r",
      "37.9%"
     ]
    },
    {
     "name": "stderr",
     "output_type": "stream",
     "text": [
      "\r",
      "37.9%"
     ]
    },
    {
     "name": "stderr",
     "output_type": "stream",
     "text": [
      "\r",
      "38.0%"
     ]
    },
    {
     "name": "stderr",
     "output_type": "stream",
     "text": [
      "\r",
      "38.1%"
     ]
    },
    {
     "name": "stderr",
     "output_type": "stream",
     "text": [
      "\r",
      "38.2%"
     ]
    },
    {
     "name": "stderr",
     "output_type": "stream",
     "text": [
      "\r",
      "38.3%"
     ]
    },
    {
     "name": "stderr",
     "output_type": "stream",
     "text": [
      "\r",
      "38.3%"
     ]
    },
    {
     "name": "stderr",
     "output_type": "stream",
     "text": [
      "\r",
      "38.4%"
     ]
    },
    {
     "name": "stderr",
     "output_type": "stream",
     "text": [
      "\r",
      "38.5%"
     ]
    },
    {
     "name": "stderr",
     "output_type": "stream",
     "text": [
      "\r",
      "38.6%"
     ]
    },
    {
     "name": "stderr",
     "output_type": "stream",
     "text": [
      "\r",
      "38.7%"
     ]
    },
    {
     "name": "stderr",
     "output_type": "stream",
     "text": [
      "\r",
      "38.8%"
     ]
    },
    {
     "name": "stderr",
     "output_type": "stream",
     "text": [
      "\r",
      "38.8%"
     ]
    },
    {
     "name": "stderr",
     "output_type": "stream",
     "text": [
      "\r",
      "38.9%"
     ]
    },
    {
     "name": "stderr",
     "output_type": "stream",
     "text": [
      "\r",
      "39.0%"
     ]
    },
    {
     "name": "stderr",
     "output_type": "stream",
     "text": [
      "\r",
      "39.1%"
     ]
    },
    {
     "name": "stderr",
     "output_type": "stream",
     "text": [
      "\r",
      "39.2%"
     ]
    },
    {
     "name": "stderr",
     "output_type": "stream",
     "text": [
      "\r",
      "39.3%"
     ]
    },
    {
     "name": "stderr",
     "output_type": "stream",
     "text": [
      "\r",
      "39.3%"
     ]
    },
    {
     "name": "stderr",
     "output_type": "stream",
     "text": [
      "\r",
      "39.4%"
     ]
    },
    {
     "name": "stderr",
     "output_type": "stream",
     "text": [
      "\r",
      "39.5%"
     ]
    },
    {
     "name": "stderr",
     "output_type": "stream",
     "text": [
      "\r",
      "39.6%"
     ]
    },
    {
     "name": "stderr",
     "output_type": "stream",
     "text": [
      "\r",
      "39.7%"
     ]
    },
    {
     "name": "stderr",
     "output_type": "stream",
     "text": [
      "\r",
      "39.8%"
     ]
    },
    {
     "name": "stderr",
     "output_type": "stream",
     "text": [
      "\r",
      "39.8%"
     ]
    },
    {
     "name": "stderr",
     "output_type": "stream",
     "text": [
      "\r",
      "39.9%"
     ]
    },
    {
     "name": "stderr",
     "output_type": "stream",
     "text": [
      "\r",
      "40.0%"
     ]
    },
    {
     "name": "stderr",
     "output_type": "stream",
     "text": [
      "\r",
      "40.1%"
     ]
    },
    {
     "name": "stderr",
     "output_type": "stream",
     "text": [
      "\r",
      "40.2%"
     ]
    },
    {
     "name": "stderr",
     "output_type": "stream",
     "text": [
      "\r",
      "40.2%"
     ]
    },
    {
     "name": "stderr",
     "output_type": "stream",
     "text": [
      "\r",
      "40.3%"
     ]
    },
    {
     "name": "stderr",
     "output_type": "stream",
     "text": [
      "\r",
      "40.4%"
     ]
    },
    {
     "name": "stderr",
     "output_type": "stream",
     "text": [
      "\r",
      "40.5%"
     ]
    },
    {
     "name": "stderr",
     "output_type": "stream",
     "text": [
      "\r",
      "40.6%"
     ]
    },
    {
     "name": "stderr",
     "output_type": "stream",
     "text": [
      "\r",
      "40.7%"
     ]
    },
    {
     "name": "stderr",
     "output_type": "stream",
     "text": [
      "\r",
      "40.7%"
     ]
    },
    {
     "name": "stderr",
     "output_type": "stream",
     "text": [
      "\r",
      "40.8%"
     ]
    },
    {
     "name": "stderr",
     "output_type": "stream",
     "text": [
      "\r",
      "40.9%"
     ]
    },
    {
     "name": "stderr",
     "output_type": "stream",
     "text": [
      "\r",
      "41.0%"
     ]
    },
    {
     "name": "stderr",
     "output_type": "stream",
     "text": [
      "\r",
      "41.1%"
     ]
    },
    {
     "name": "stderr",
     "output_type": "stream",
     "text": [
      "\r",
      "41.2%"
     ]
    },
    {
     "name": "stderr",
     "output_type": "stream",
     "text": [
      "\r",
      "41.2%"
     ]
    },
    {
     "name": "stderr",
     "output_type": "stream",
     "text": [
      "\r",
      "41.3%"
     ]
    },
    {
     "name": "stderr",
     "output_type": "stream",
     "text": [
      "\r",
      "41.4%"
     ]
    },
    {
     "name": "stderr",
     "output_type": "stream",
     "text": [
      "\r",
      "41.5%"
     ]
    },
    {
     "name": "stderr",
     "output_type": "stream",
     "text": [
      "\r",
      "41.6%"
     ]
    },
    {
     "name": "stderr",
     "output_type": "stream",
     "text": [
      "\r",
      "41.7%"
     ]
    },
    {
     "name": "stderr",
     "output_type": "stream",
     "text": [
      "\r",
      "41.7%"
     ]
    },
    {
     "name": "stderr",
     "output_type": "stream",
     "text": [
      "\r",
      "41.8%"
     ]
    },
    {
     "name": "stderr",
     "output_type": "stream",
     "text": [
      "\r",
      "41.9%"
     ]
    },
    {
     "name": "stderr",
     "output_type": "stream",
     "text": [
      "\r",
      "42.0%"
     ]
    },
    {
     "name": "stderr",
     "output_type": "stream",
     "text": [
      "\r",
      "42.1%"
     ]
    },
    {
     "name": "stderr",
     "output_type": "stream",
     "text": [
      "\r",
      "42.1%"
     ]
    },
    {
     "name": "stderr",
     "output_type": "stream",
     "text": [
      "\r",
      "42.2%"
     ]
    },
    {
     "name": "stderr",
     "output_type": "stream",
     "text": [
      "\r",
      "42.3%"
     ]
    },
    {
     "name": "stderr",
     "output_type": "stream",
     "text": [
      "\r",
      "42.4%"
     ]
    },
    {
     "name": "stderr",
     "output_type": "stream",
     "text": [
      "\r",
      "42.5%"
     ]
    },
    {
     "name": "stderr",
     "output_type": "stream",
     "text": [
      "\r",
      "42.6%"
     ]
    },
    {
     "name": "stderr",
     "output_type": "stream",
     "text": [
      "\r",
      "42.6%"
     ]
    },
    {
     "name": "stderr",
     "output_type": "stream",
     "text": [
      "\r",
      "42.7%"
     ]
    },
    {
     "name": "stderr",
     "output_type": "stream",
     "text": [
      "\r",
      "42.8%"
     ]
    },
    {
     "name": "stderr",
     "output_type": "stream",
     "text": [
      "\r",
      "42.9%"
     ]
    },
    {
     "name": "stderr",
     "output_type": "stream",
     "text": [
      "\r",
      "43.0%"
     ]
    },
    {
     "name": "stderr",
     "output_type": "stream",
     "text": [
      "\r",
      "43.1%"
     ]
    },
    {
     "name": "stderr",
     "output_type": "stream",
     "text": [
      "\r",
      "43.1%"
     ]
    },
    {
     "name": "stderr",
     "output_type": "stream",
     "text": [
      "\r",
      "43.2%"
     ]
    },
    {
     "name": "stderr",
     "output_type": "stream",
     "text": [
      "\r",
      "43.3%"
     ]
    },
    {
     "name": "stderr",
     "output_type": "stream",
     "text": [
      "\r",
      "43.4%"
     ]
    },
    {
     "name": "stderr",
     "output_type": "stream",
     "text": [
      "\r",
      "43.5%"
     ]
    },
    {
     "name": "stderr",
     "output_type": "stream",
     "text": [
      "\r",
      "43.6%"
     ]
    },
    {
     "name": "stderr",
     "output_type": "stream",
     "text": [
      "\r",
      "43.6%"
     ]
    },
    {
     "name": "stderr",
     "output_type": "stream",
     "text": [
      "\r",
      "43.7%"
     ]
    },
    {
     "name": "stderr",
     "output_type": "stream",
     "text": [
      "\r",
      "43.8%"
     ]
    },
    {
     "name": "stderr",
     "output_type": "stream",
     "text": [
      "\r",
      "43.9%"
     ]
    },
    {
     "name": "stderr",
     "output_type": "stream",
     "text": [
      "\r",
      "44.0%"
     ]
    },
    {
     "name": "stderr",
     "output_type": "stream",
     "text": [
      "\r",
      "44.0%"
     ]
    },
    {
     "name": "stderr",
     "output_type": "stream",
     "text": [
      "\r",
      "44.1%"
     ]
    },
    {
     "name": "stderr",
     "output_type": "stream",
     "text": [
      "\r",
      "44.2%"
     ]
    },
    {
     "name": "stderr",
     "output_type": "stream",
     "text": [
      "\r",
      "44.3%"
     ]
    },
    {
     "name": "stderr",
     "output_type": "stream",
     "text": [
      "\r",
      "44.4%"
     ]
    },
    {
     "name": "stderr",
     "output_type": "stream",
     "text": [
      "\r",
      "44.5%"
     ]
    },
    {
     "name": "stderr",
     "output_type": "stream",
     "text": [
      "\r",
      "44.5%"
     ]
    },
    {
     "name": "stderr",
     "output_type": "stream",
     "text": [
      "\r",
      "44.6%"
     ]
    },
    {
     "name": "stderr",
     "output_type": "stream",
     "text": [
      "\r",
      "44.7%"
     ]
    },
    {
     "name": "stderr",
     "output_type": "stream",
     "text": [
      "\r",
      "44.8%"
     ]
    },
    {
     "name": "stderr",
     "output_type": "stream",
     "text": [
      "\r",
      "44.9%"
     ]
    },
    {
     "name": "stderr",
     "output_type": "stream",
     "text": [
      "\r",
      "45.0%"
     ]
    },
    {
     "name": "stderr",
     "output_type": "stream",
     "text": [
      "\r",
      "45.0%"
     ]
    },
    {
     "name": "stderr",
     "output_type": "stream",
     "text": [
      "\r",
      "45.1%"
     ]
    },
    {
     "name": "stderr",
     "output_type": "stream",
     "text": [
      "\r",
      "45.2%"
     ]
    },
    {
     "name": "stderr",
     "output_type": "stream",
     "text": [
      "\r",
      "45.3%"
     ]
    },
    {
     "name": "stderr",
     "output_type": "stream",
     "text": [
      "\r",
      "45.4%"
     ]
    },
    {
     "name": "stderr",
     "output_type": "stream",
     "text": [
      "\r",
      "45.5%"
     ]
    },
    {
     "name": "stderr",
     "output_type": "stream",
     "text": [
      "\r",
      "45.5%"
     ]
    },
    {
     "name": "stderr",
     "output_type": "stream",
     "text": [
      "\r",
      "45.6%"
     ]
    },
    {
     "name": "stderr",
     "output_type": "stream",
     "text": [
      "\r",
      "45.7%"
     ]
    },
    {
     "name": "stderr",
     "output_type": "stream",
     "text": [
      "\r",
      "45.8%"
     ]
    },
    {
     "name": "stderr",
     "output_type": "stream",
     "text": [
      "\r",
      "45.9%"
     ]
    },
    {
     "name": "stderr",
     "output_type": "stream",
     "text": [
      "\r",
      "45.9%"
     ]
    },
    {
     "name": "stderr",
     "output_type": "stream",
     "text": [
      "\r",
      "46.0%"
     ]
    },
    {
     "name": "stderr",
     "output_type": "stream",
     "text": [
      "\r",
      "46.1%"
     ]
    },
    {
     "name": "stderr",
     "output_type": "stream",
     "text": [
      "\r",
      "46.2%"
     ]
    },
    {
     "name": "stderr",
     "output_type": "stream",
     "text": [
      "\r",
      "46.3%"
     ]
    },
    {
     "name": "stderr",
     "output_type": "stream",
     "text": [
      "\r",
      "46.4%"
     ]
    },
    {
     "name": "stderr",
     "output_type": "stream",
     "text": [
      "\r",
      "46.4%"
     ]
    },
    {
     "name": "stderr",
     "output_type": "stream",
     "text": [
      "\r",
      "46.5%"
     ]
    },
    {
     "name": "stderr",
     "output_type": "stream",
     "text": [
      "\r",
      "46.6%"
     ]
    },
    {
     "name": "stderr",
     "output_type": "stream",
     "text": [
      "\r",
      "46.7%"
     ]
    },
    {
     "name": "stderr",
     "output_type": "stream",
     "text": [
      "\r",
      "46.8%"
     ]
    },
    {
     "name": "stderr",
     "output_type": "stream",
     "text": [
      "\r",
      "46.9%"
     ]
    },
    {
     "name": "stderr",
     "output_type": "stream",
     "text": [
      "\r",
      "46.9%"
     ]
    },
    {
     "name": "stderr",
     "output_type": "stream",
     "text": [
      "\r",
      "47.0%"
     ]
    },
    {
     "name": "stderr",
     "output_type": "stream",
     "text": [
      "\r",
      "47.1%"
     ]
    },
    {
     "name": "stderr",
     "output_type": "stream",
     "text": [
      "\r",
      "47.2%"
     ]
    },
    {
     "name": "stderr",
     "output_type": "stream",
     "text": [
      "\r",
      "47.3%"
     ]
    },
    {
     "name": "stderr",
     "output_type": "stream",
     "text": [
      "\r",
      "47.4%"
     ]
    },
    {
     "name": "stderr",
     "output_type": "stream",
     "text": [
      "\r",
      "47.4%"
     ]
    },
    {
     "name": "stderr",
     "output_type": "stream",
     "text": [
      "\r",
      "47.5%"
     ]
    },
    {
     "name": "stderr",
     "output_type": "stream",
     "text": [
      "\r",
      "47.6%"
     ]
    },
    {
     "name": "stderr",
     "output_type": "stream",
     "text": [
      "\r",
      "47.7%"
     ]
    },
    {
     "name": "stderr",
     "output_type": "stream",
     "text": [
      "\r",
      "47.8%"
     ]
    },
    {
     "name": "stderr",
     "output_type": "stream",
     "text": [
      "\r",
      "47.9%"
     ]
    },
    {
     "name": "stderr",
     "output_type": "stream",
     "text": [
      "\r",
      "47.9%"
     ]
    },
    {
     "name": "stderr",
     "output_type": "stream",
     "text": [
      "\r",
      "48.0%"
     ]
    },
    {
     "name": "stderr",
     "output_type": "stream",
     "text": [
      "\r",
      "48.1%"
     ]
    },
    {
     "name": "stderr",
     "output_type": "stream",
     "text": [
      "\r",
      "48.2%"
     ]
    },
    {
     "name": "stderr",
     "output_type": "stream",
     "text": [
      "\r",
      "48.3%"
     ]
    },
    {
     "name": "stderr",
     "output_type": "stream",
     "text": [
      "\r",
      "48.3%"
     ]
    },
    {
     "name": "stderr",
     "output_type": "stream",
     "text": [
      "\r",
      "48.4%"
     ]
    },
    {
     "name": "stderr",
     "output_type": "stream",
     "text": [
      "\r",
      "48.5%"
     ]
    },
    {
     "name": "stderr",
     "output_type": "stream",
     "text": [
      "\r",
      "48.6%"
     ]
    },
    {
     "name": "stderr",
     "output_type": "stream",
     "text": [
      "\r",
      "48.7%"
     ]
    },
    {
     "name": "stderr",
     "output_type": "stream",
     "text": [
      "\r",
      "48.8%"
     ]
    },
    {
     "name": "stderr",
     "output_type": "stream",
     "text": [
      "\r",
      "48.8%"
     ]
    },
    {
     "name": "stderr",
     "output_type": "stream",
     "text": [
      "\r",
      "48.9%"
     ]
    },
    {
     "name": "stderr",
     "output_type": "stream",
     "text": [
      "\r",
      "49.0%"
     ]
    },
    {
     "name": "stderr",
     "output_type": "stream",
     "text": [
      "\r",
      "49.1%"
     ]
    },
    {
     "name": "stderr",
     "output_type": "stream",
     "text": [
      "\r",
      "49.2%"
     ]
    },
    {
     "name": "stderr",
     "output_type": "stream",
     "text": [
      "\r",
      "49.3%"
     ]
    },
    {
     "name": "stderr",
     "output_type": "stream",
     "text": [
      "\r",
      "49.3%"
     ]
    },
    {
     "name": "stderr",
     "output_type": "stream",
     "text": [
      "\r",
      "49.4%"
     ]
    },
    {
     "name": "stderr",
     "output_type": "stream",
     "text": [
      "\r",
      "49.5%"
     ]
    },
    {
     "name": "stderr",
     "output_type": "stream",
     "text": [
      "\r",
      "49.6%"
     ]
    },
    {
     "name": "stderr",
     "output_type": "stream",
     "text": [
      "\r",
      "49.7%"
     ]
    },
    {
     "name": "stderr",
     "output_type": "stream",
     "text": [
      "\r",
      "49.8%"
     ]
    },
    {
     "name": "stderr",
     "output_type": "stream",
     "text": [
      "\r",
      "49.8%"
     ]
    },
    {
     "name": "stderr",
     "output_type": "stream",
     "text": [
      "\r",
      "49.9%"
     ]
    },
    {
     "name": "stderr",
     "output_type": "stream",
     "text": [
      "\r",
      "50.0%"
     ]
    },
    {
     "name": "stderr",
     "output_type": "stream",
     "text": [
      "\r",
      "50.1%"
     ]
    },
    {
     "name": "stderr",
     "output_type": "stream",
     "text": [
      "\r",
      "50.2%"
     ]
    },
    {
     "name": "stderr",
     "output_type": "stream",
     "text": [
      "\r",
      "50.2%"
     ]
    },
    {
     "name": "stderr",
     "output_type": "stream",
     "text": [
      "\r",
      "50.3%"
     ]
    },
    {
     "name": "stderr",
     "output_type": "stream",
     "text": [
      "\r",
      "50.4%"
     ]
    },
    {
     "name": "stderr",
     "output_type": "stream",
     "text": [
      "\r",
      "50.5%"
     ]
    },
    {
     "name": "stderr",
     "output_type": "stream",
     "text": [
      "\r",
      "50.6%"
     ]
    },
    {
     "name": "stderr",
     "output_type": "stream",
     "text": [
      "\r",
      "50.7%"
     ]
    },
    {
     "name": "stderr",
     "output_type": "stream",
     "text": [
      "\r",
      "50.7%"
     ]
    },
    {
     "name": "stderr",
     "output_type": "stream",
     "text": [
      "\r",
      "50.8%"
     ]
    },
    {
     "name": "stderr",
     "output_type": "stream",
     "text": [
      "\r",
      "50.9%"
     ]
    },
    {
     "name": "stderr",
     "output_type": "stream",
     "text": [
      "\r",
      "51.0%"
     ]
    },
    {
     "name": "stderr",
     "output_type": "stream",
     "text": [
      "\r",
      "51.1%"
     ]
    },
    {
     "name": "stderr",
     "output_type": "stream",
     "text": [
      "\r",
      "51.2%"
     ]
    },
    {
     "name": "stderr",
     "output_type": "stream",
     "text": [
      "\r",
      "51.2%"
     ]
    },
    {
     "name": "stderr",
     "output_type": "stream",
     "text": [
      "\r",
      "51.3%"
     ]
    },
    {
     "name": "stderr",
     "output_type": "stream",
     "text": [
      "\r",
      "51.4%"
     ]
    },
    {
     "name": "stderr",
     "output_type": "stream",
     "text": [
      "\r",
      "51.5%"
     ]
    },
    {
     "name": "stderr",
     "output_type": "stream",
     "text": [
      "\r",
      "51.6%"
     ]
    },
    {
     "name": "stderr",
     "output_type": "stream",
     "text": [
      "\r",
      "51.7%"
     ]
    },
    {
     "name": "stderr",
     "output_type": "stream",
     "text": [
      "\r",
      "51.7%"
     ]
    },
    {
     "name": "stderr",
     "output_type": "stream",
     "text": [
      "\r",
      "51.8%"
     ]
    },
    {
     "name": "stderr",
     "output_type": "stream",
     "text": [
      "\r",
      "51.9%"
     ]
    },
    {
     "name": "stderr",
     "output_type": "stream",
     "text": [
      "\r",
      "52.0%"
     ]
    },
    {
     "name": "stderr",
     "output_type": "stream",
     "text": [
      "\r",
      "52.1%"
     ]
    },
    {
     "name": "stderr",
     "output_type": "stream",
     "text": [
      "\r",
      "52.1%"
     ]
    },
    {
     "name": "stderr",
     "output_type": "stream",
     "text": [
      "\r",
      "52.2%"
     ]
    },
    {
     "name": "stderr",
     "output_type": "stream",
     "text": [
      "\r",
      "52.3%"
     ]
    },
    {
     "name": "stderr",
     "output_type": "stream",
     "text": [
      "\r",
      "52.4%"
     ]
    },
    {
     "name": "stderr",
     "output_type": "stream",
     "text": [
      "\r",
      "52.5%"
     ]
    },
    {
     "name": "stderr",
     "output_type": "stream",
     "text": [
      "\r",
      "52.6%"
     ]
    },
    {
     "name": "stderr",
     "output_type": "stream",
     "text": [
      "\r",
      "52.6%"
     ]
    },
    {
     "name": "stderr",
     "output_type": "stream",
     "text": [
      "\r",
      "52.7%"
     ]
    },
    {
     "name": "stderr",
     "output_type": "stream",
     "text": [
      "\r",
      "52.8%"
     ]
    },
    {
     "name": "stderr",
     "output_type": "stream",
     "text": [
      "\r",
      "52.9%"
     ]
    },
    {
     "name": "stderr",
     "output_type": "stream",
     "text": [
      "\r",
      "53.0%"
     ]
    },
    {
     "name": "stderr",
     "output_type": "stream",
     "text": [
      "\r",
      "53.1%"
     ]
    },
    {
     "name": "stderr",
     "output_type": "stream",
     "text": [
      "\r",
      "53.1%"
     ]
    },
    {
     "name": "stderr",
     "output_type": "stream",
     "text": [
      "\r",
      "53.2%"
     ]
    },
    {
     "name": "stderr",
     "output_type": "stream",
     "text": [
      "\r",
      "53.3%"
     ]
    },
    {
     "name": "stderr",
     "output_type": "stream",
     "text": [
      "\r",
      "53.4%"
     ]
    },
    {
     "name": "stderr",
     "output_type": "stream",
     "text": [
      "\r",
      "53.5%"
     ]
    },
    {
     "name": "stderr",
     "output_type": "stream",
     "text": [
      "\r",
      "53.6%"
     ]
    },
    {
     "name": "stderr",
     "output_type": "stream",
     "text": [
      "\r",
      "53.6%"
     ]
    },
    {
     "name": "stderr",
     "output_type": "stream",
     "text": [
      "\r",
      "53.7%"
     ]
    },
    {
     "name": "stderr",
     "output_type": "stream",
     "text": [
      "\r",
      "53.8%"
     ]
    },
    {
     "name": "stderr",
     "output_type": "stream",
     "text": [
      "\r",
      "53.9%"
     ]
    },
    {
     "name": "stderr",
     "output_type": "stream",
     "text": [
      "\r",
      "54.0%"
     ]
    },
    {
     "name": "stderr",
     "output_type": "stream",
     "text": [
      "\r",
      "54.0%"
     ]
    },
    {
     "name": "stderr",
     "output_type": "stream",
     "text": [
      "\r",
      "54.1%"
     ]
    },
    {
     "name": "stderr",
     "output_type": "stream",
     "text": [
      "\r",
      "54.2%"
     ]
    },
    {
     "name": "stderr",
     "output_type": "stream",
     "text": [
      "\r",
      "54.3%"
     ]
    },
    {
     "name": "stderr",
     "output_type": "stream",
     "text": [
      "\r",
      "54.4%"
     ]
    },
    {
     "name": "stderr",
     "output_type": "stream",
     "text": [
      "\r",
      "54.5%"
     ]
    },
    {
     "name": "stderr",
     "output_type": "stream",
     "text": [
      "\r",
      "54.5%"
     ]
    },
    {
     "name": "stderr",
     "output_type": "stream",
     "text": [
      "\r",
      "54.6%"
     ]
    },
    {
     "name": "stderr",
     "output_type": "stream",
     "text": [
      "\r",
      "54.7%"
     ]
    },
    {
     "name": "stderr",
     "output_type": "stream",
     "text": [
      "\r",
      "54.8%"
     ]
    },
    {
     "name": "stderr",
     "output_type": "stream",
     "text": [
      "\r",
      "54.9%"
     ]
    },
    {
     "name": "stderr",
     "output_type": "stream",
     "text": [
      "\r",
      "55.0%"
     ]
    },
    {
     "name": "stderr",
     "output_type": "stream",
     "text": [
      "\r",
      "55.0%"
     ]
    },
    {
     "name": "stderr",
     "output_type": "stream",
     "text": [
      "\r",
      "55.1%"
     ]
    },
    {
     "name": "stderr",
     "output_type": "stream",
     "text": [
      "\r",
      "55.2%"
     ]
    },
    {
     "name": "stderr",
     "output_type": "stream",
     "text": [
      "\r",
      "55.3%"
     ]
    },
    {
     "name": "stderr",
     "output_type": "stream",
     "text": [
      "\r",
      "55.4%"
     ]
    },
    {
     "name": "stderr",
     "output_type": "stream",
     "text": [
      "\r",
      "55.5%"
     ]
    },
    {
     "name": "stderr",
     "output_type": "stream",
     "text": [
      "\r",
      "55.5%"
     ]
    },
    {
     "name": "stderr",
     "output_type": "stream",
     "text": [
      "\r",
      "55.6%"
     ]
    },
    {
     "name": "stderr",
     "output_type": "stream",
     "text": [
      "\r",
      "55.7%"
     ]
    },
    {
     "name": "stderr",
     "output_type": "stream",
     "text": [
      "\r",
      "55.8%"
     ]
    },
    {
     "name": "stderr",
     "output_type": "stream",
     "text": [
      "\r",
      "55.9%"
     ]
    },
    {
     "name": "stderr",
     "output_type": "stream",
     "text": [
      "\r",
      "55.9%"
     ]
    },
    {
     "name": "stderr",
     "output_type": "stream",
     "text": [
      "\r",
      "56.0%"
     ]
    },
    {
     "name": "stderr",
     "output_type": "stream",
     "text": [
      "\r",
      "56.1%"
     ]
    },
    {
     "name": "stderr",
     "output_type": "stream",
     "text": [
      "\r",
      "56.2%"
     ]
    },
    {
     "name": "stderr",
     "output_type": "stream",
     "text": [
      "\r",
      "56.3%"
     ]
    },
    {
     "name": "stderr",
     "output_type": "stream",
     "text": [
      "\r",
      "56.4%"
     ]
    },
    {
     "name": "stderr",
     "output_type": "stream",
     "text": [
      "\r",
      "56.4%"
     ]
    },
    {
     "name": "stderr",
     "output_type": "stream",
     "text": [
      "\r",
      "56.5%"
     ]
    },
    {
     "name": "stderr",
     "output_type": "stream",
     "text": [
      "\r",
      "56.6%"
     ]
    },
    {
     "name": "stderr",
     "output_type": "stream",
     "text": [
      "\r",
      "56.7%"
     ]
    },
    {
     "name": "stderr",
     "output_type": "stream",
     "text": [
      "\r",
      "56.8%"
     ]
    },
    {
     "name": "stderr",
     "output_type": "stream",
     "text": [
      "\r",
      "56.9%"
     ]
    },
    {
     "name": "stderr",
     "output_type": "stream",
     "text": [
      "\r",
      "56.9%"
     ]
    },
    {
     "name": "stderr",
     "output_type": "stream",
     "text": [
      "\r",
      "57.0%"
     ]
    },
    {
     "name": "stderr",
     "output_type": "stream",
     "text": [
      "\r",
      "57.1%"
     ]
    },
    {
     "name": "stderr",
     "output_type": "stream",
     "text": [
      "\r",
      "57.2%"
     ]
    },
    {
     "name": "stderr",
     "output_type": "stream",
     "text": [
      "\r",
      "57.3%"
     ]
    },
    {
     "name": "stderr",
     "output_type": "stream",
     "text": [
      "\r",
      "57.4%"
     ]
    },
    {
     "name": "stderr",
     "output_type": "stream",
     "text": [
      "\r",
      "57.4%"
     ]
    },
    {
     "name": "stderr",
     "output_type": "stream",
     "text": [
      "\r",
      "57.5%"
     ]
    },
    {
     "name": "stderr",
     "output_type": "stream",
     "text": [
      "\r",
      "57.6%"
     ]
    },
    {
     "name": "stderr",
     "output_type": "stream",
     "text": [
      "\r",
      "57.7%"
     ]
    },
    {
     "name": "stderr",
     "output_type": "stream",
     "text": [
      "\r",
      "57.8%"
     ]
    },
    {
     "name": "stderr",
     "output_type": "stream",
     "text": [
      "\r",
      "57.9%"
     ]
    },
    {
     "name": "stderr",
     "output_type": "stream",
     "text": [
      "\r",
      "57.9%"
     ]
    },
    {
     "name": "stderr",
     "output_type": "stream",
     "text": [
      "\r",
      "58.0%"
     ]
    },
    {
     "name": "stderr",
     "output_type": "stream",
     "text": [
      "\r",
      "58.1%"
     ]
    },
    {
     "name": "stderr",
     "output_type": "stream",
     "text": [
      "\r",
      "58.2%"
     ]
    },
    {
     "name": "stderr",
     "output_type": "stream",
     "text": [
      "\r",
      "58.3%"
     ]
    },
    {
     "name": "stderr",
     "output_type": "stream",
     "text": [
      "\r",
      "58.3%"
     ]
    },
    {
     "name": "stderr",
     "output_type": "stream",
     "text": [
      "\r",
      "58.4%"
     ]
    },
    {
     "name": "stderr",
     "output_type": "stream",
     "text": [
      "\r",
      "58.5%"
     ]
    },
    {
     "name": "stderr",
     "output_type": "stream",
     "text": [
      "\r",
      "58.6%"
     ]
    },
    {
     "name": "stderr",
     "output_type": "stream",
     "text": [
      "\r",
      "58.7%"
     ]
    },
    {
     "name": "stderr",
     "output_type": "stream",
     "text": [
      "\r",
      "58.8%"
     ]
    },
    {
     "name": "stderr",
     "output_type": "stream",
     "text": [
      "\r",
      "58.8%"
     ]
    },
    {
     "name": "stderr",
     "output_type": "stream",
     "text": [
      "\r",
      "58.9%"
     ]
    },
    {
     "name": "stderr",
     "output_type": "stream",
     "text": [
      "\r",
      "59.0%"
     ]
    },
    {
     "name": "stderr",
     "output_type": "stream",
     "text": [
      "\r",
      "59.1%"
     ]
    },
    {
     "name": "stderr",
     "output_type": "stream",
     "text": [
      "\r",
      "59.2%"
     ]
    },
    {
     "name": "stderr",
     "output_type": "stream",
     "text": [
      "\r",
      "59.3%"
     ]
    },
    {
     "name": "stderr",
     "output_type": "stream",
     "text": [
      "\r",
      "59.3%"
     ]
    },
    {
     "name": "stderr",
     "output_type": "stream",
     "text": [
      "\r",
      "59.4%"
     ]
    },
    {
     "name": "stderr",
     "output_type": "stream",
     "text": [
      "\r",
      "59.5%"
     ]
    },
    {
     "name": "stderr",
     "output_type": "stream",
     "text": [
      "\r",
      "59.6%"
     ]
    },
    {
     "name": "stderr",
     "output_type": "stream",
     "text": [
      "\r",
      "59.7%"
     ]
    },
    {
     "name": "stderr",
     "output_type": "stream",
     "text": [
      "\r",
      "59.8%"
     ]
    },
    {
     "name": "stderr",
     "output_type": "stream",
     "text": [
      "\r",
      "59.8%"
     ]
    },
    {
     "name": "stderr",
     "output_type": "stream",
     "text": [
      "\r",
      "59.9%"
     ]
    },
    {
     "name": "stderr",
     "output_type": "stream",
     "text": [
      "\r",
      "60.0%"
     ]
    },
    {
     "name": "stderr",
     "output_type": "stream",
     "text": [
      "\r",
      "60.1%"
     ]
    },
    {
     "name": "stderr",
     "output_type": "stream",
     "text": [
      "\r",
      "60.2%"
     ]
    },
    {
     "name": "stderr",
     "output_type": "stream",
     "text": [
      "\r",
      "60.2%"
     ]
    },
    {
     "name": "stderr",
     "output_type": "stream",
     "text": [
      "\r",
      "60.3%"
     ]
    },
    {
     "name": "stderr",
     "output_type": "stream",
     "text": [
      "\r",
      "60.4%"
     ]
    },
    {
     "name": "stderr",
     "output_type": "stream",
     "text": [
      "\r",
      "60.5%"
     ]
    },
    {
     "name": "stderr",
     "output_type": "stream",
     "text": [
      "\r",
      "60.6%"
     ]
    },
    {
     "name": "stderr",
     "output_type": "stream",
     "text": [
      "\r",
      "60.7%"
     ]
    },
    {
     "name": "stderr",
     "output_type": "stream",
     "text": [
      "\r",
      "60.7%"
     ]
    },
    {
     "name": "stderr",
     "output_type": "stream",
     "text": [
      "\r",
      "60.8%"
     ]
    },
    {
     "name": "stderr",
     "output_type": "stream",
     "text": [
      "\r",
      "60.9%"
     ]
    },
    {
     "name": "stderr",
     "output_type": "stream",
     "text": [
      "\r",
      "61.0%"
     ]
    },
    {
     "name": "stderr",
     "output_type": "stream",
     "text": [
      "\r",
      "61.1%"
     ]
    },
    {
     "name": "stderr",
     "output_type": "stream",
     "text": [
      "\r",
      "61.2%"
     ]
    },
    {
     "name": "stderr",
     "output_type": "stream",
     "text": [
      "\r",
      "61.2%"
     ]
    },
    {
     "name": "stderr",
     "output_type": "stream",
     "text": [
      "\r",
      "61.3%"
     ]
    },
    {
     "name": "stderr",
     "output_type": "stream",
     "text": [
      "\r",
      "61.4%"
     ]
    },
    {
     "name": "stderr",
     "output_type": "stream",
     "text": [
      "\r",
      "61.5%"
     ]
    },
    {
     "name": "stderr",
     "output_type": "stream",
     "text": [
      "\r",
      "61.6%"
     ]
    },
    {
     "name": "stderr",
     "output_type": "stream",
     "text": [
      "\r",
      "61.7%"
     ]
    },
    {
     "name": "stderr",
     "output_type": "stream",
     "text": [
      "\r",
      "61.7%"
     ]
    },
    {
     "name": "stderr",
     "output_type": "stream",
     "text": [
      "\r",
      "61.8%"
     ]
    },
    {
     "name": "stderr",
     "output_type": "stream",
     "text": [
      "\r",
      "61.9%"
     ]
    },
    {
     "name": "stderr",
     "output_type": "stream",
     "text": [
      "\r",
      "62.0%"
     ]
    },
    {
     "name": "stderr",
     "output_type": "stream",
     "text": [
      "\r",
      "62.1%"
     ]
    },
    {
     "name": "stderr",
     "output_type": "stream",
     "text": [
      "\r",
      "62.1%"
     ]
    },
    {
     "name": "stderr",
     "output_type": "stream",
     "text": [
      "\r",
      "62.2%"
     ]
    },
    {
     "name": "stderr",
     "output_type": "stream",
     "text": [
      "\r",
      "62.3%"
     ]
    },
    {
     "name": "stderr",
     "output_type": "stream",
     "text": [
      "\r",
      "62.4%"
     ]
    },
    {
     "name": "stderr",
     "output_type": "stream",
     "text": [
      "\r",
      "62.5%"
     ]
    },
    {
     "name": "stderr",
     "output_type": "stream",
     "text": [
      "\r",
      "62.6%"
     ]
    },
    {
     "name": "stderr",
     "output_type": "stream",
     "text": [
      "\r",
      "62.6%"
     ]
    },
    {
     "name": "stderr",
     "output_type": "stream",
     "text": [
      "\r",
      "62.7%"
     ]
    },
    {
     "name": "stderr",
     "output_type": "stream",
     "text": [
      "\r",
      "62.8%"
     ]
    },
    {
     "name": "stderr",
     "output_type": "stream",
     "text": [
      "\r",
      "62.9%"
     ]
    },
    {
     "name": "stderr",
     "output_type": "stream",
     "text": [
      "\r",
      "63.0%"
     ]
    },
    {
     "name": "stderr",
     "output_type": "stream",
     "text": [
      "\r",
      "63.1%"
     ]
    },
    {
     "name": "stderr",
     "output_type": "stream",
     "text": [
      "\r",
      "63.1%"
     ]
    },
    {
     "name": "stderr",
     "output_type": "stream",
     "text": [
      "\r",
      "63.2%"
     ]
    },
    {
     "name": "stderr",
     "output_type": "stream",
     "text": [
      "\r",
      "63.3%"
     ]
    },
    {
     "name": "stderr",
     "output_type": "stream",
     "text": [
      "\r",
      "63.4%"
     ]
    },
    {
     "name": "stderr",
     "output_type": "stream",
     "text": [
      "\r",
      "63.5%"
     ]
    },
    {
     "name": "stderr",
     "output_type": "stream",
     "text": [
      "\r",
      "63.6%"
     ]
    },
    {
     "name": "stderr",
     "output_type": "stream",
     "text": [
      "\r",
      "63.6%"
     ]
    },
    {
     "name": "stderr",
     "output_type": "stream",
     "text": [
      "\r",
      "63.7%"
     ]
    },
    {
     "name": "stderr",
     "output_type": "stream",
     "text": [
      "\r",
      "63.8%"
     ]
    },
    {
     "name": "stderr",
     "output_type": "stream",
     "text": [
      "\r",
      "63.9%"
     ]
    },
    {
     "name": "stderr",
     "output_type": "stream",
     "text": [
      "\r",
      "64.0%"
     ]
    },
    {
     "name": "stderr",
     "output_type": "stream",
     "text": [
      "\r",
      "64.0%"
     ]
    },
    {
     "name": "stderr",
     "output_type": "stream",
     "text": [
      "\r",
      "64.1%"
     ]
    },
    {
     "name": "stderr",
     "output_type": "stream",
     "text": [
      "\r",
      "64.2%"
     ]
    },
    {
     "name": "stderr",
     "output_type": "stream",
     "text": [
      "\r",
      "64.3%"
     ]
    },
    {
     "name": "stderr",
     "output_type": "stream",
     "text": [
      "\r",
      "64.4%"
     ]
    },
    {
     "name": "stderr",
     "output_type": "stream",
     "text": [
      "\r",
      "64.5%"
     ]
    },
    {
     "name": "stderr",
     "output_type": "stream",
     "text": [
      "\r",
      "64.5%"
     ]
    },
    {
     "name": "stderr",
     "output_type": "stream",
     "text": [
      "\r",
      "64.6%"
     ]
    },
    {
     "name": "stderr",
     "output_type": "stream",
     "text": [
      "\r",
      "64.7%"
     ]
    },
    {
     "name": "stderr",
     "output_type": "stream",
     "text": [
      "\r",
      "64.8%"
     ]
    },
    {
     "name": "stderr",
     "output_type": "stream",
     "text": [
      "\r",
      "64.9%"
     ]
    },
    {
     "name": "stderr",
     "output_type": "stream",
     "text": [
      "\r",
      "65.0%"
     ]
    },
    {
     "name": "stderr",
     "output_type": "stream",
     "text": [
      "\r",
      "65.0%"
     ]
    },
    {
     "name": "stderr",
     "output_type": "stream",
     "text": [
      "\r",
      "65.1%"
     ]
    },
    {
     "name": "stderr",
     "output_type": "stream",
     "text": [
      "\r",
      "65.2%"
     ]
    },
    {
     "name": "stderr",
     "output_type": "stream",
     "text": [
      "\r",
      "65.3%"
     ]
    },
    {
     "name": "stderr",
     "output_type": "stream",
     "text": [
      "\r",
      "65.4%"
     ]
    },
    {
     "name": "stderr",
     "output_type": "stream",
     "text": [
      "\r",
      "65.5%"
     ]
    },
    {
     "name": "stderr",
     "output_type": "stream",
     "text": [
      "\r",
      "65.5%"
     ]
    },
    {
     "name": "stderr",
     "output_type": "stream",
     "text": [
      "\r",
      "65.6%"
     ]
    },
    {
     "name": "stderr",
     "output_type": "stream",
     "text": [
      "\r",
      "65.7%"
     ]
    },
    {
     "name": "stderr",
     "output_type": "stream",
     "text": [
      "\r",
      "65.8%"
     ]
    },
    {
     "name": "stderr",
     "output_type": "stream",
     "text": [
      "\r",
      "65.9%"
     ]
    },
    {
     "name": "stderr",
     "output_type": "stream",
     "text": [
      "\r",
      "65.9%"
     ]
    },
    {
     "name": "stderr",
     "output_type": "stream",
     "text": [
      "\r",
      "66.0%"
     ]
    },
    {
     "name": "stderr",
     "output_type": "stream",
     "text": [
      "\r",
      "66.1%"
     ]
    },
    {
     "name": "stderr",
     "output_type": "stream",
     "text": [
      "\r",
      "66.2%"
     ]
    },
    {
     "name": "stderr",
     "output_type": "stream",
     "text": [
      "\r",
      "66.3%"
     ]
    },
    {
     "name": "stderr",
     "output_type": "stream",
     "text": [
      "\r",
      "66.4%"
     ]
    },
    {
     "name": "stderr",
     "output_type": "stream",
     "text": [
      "\r",
      "66.4%"
     ]
    },
    {
     "name": "stderr",
     "output_type": "stream",
     "text": [
      "\r",
      "66.5%"
     ]
    },
    {
     "name": "stderr",
     "output_type": "stream",
     "text": [
      "\r",
      "66.6%"
     ]
    },
    {
     "name": "stderr",
     "output_type": "stream",
     "text": [
      "\r",
      "66.7%"
     ]
    },
    {
     "name": "stderr",
     "output_type": "stream",
     "text": [
      "\r",
      "66.8%"
     ]
    },
    {
     "name": "stderr",
     "output_type": "stream",
     "text": [
      "\r",
      "66.9%"
     ]
    },
    {
     "name": "stderr",
     "output_type": "stream",
     "text": [
      "\r",
      "66.9%"
     ]
    },
    {
     "name": "stderr",
     "output_type": "stream",
     "text": [
      "\r",
      "67.0%"
     ]
    },
    {
     "name": "stderr",
     "output_type": "stream",
     "text": [
      "\r",
      "67.1%"
     ]
    },
    {
     "name": "stderr",
     "output_type": "stream",
     "text": [
      "\r",
      "67.2%"
     ]
    },
    {
     "name": "stderr",
     "output_type": "stream",
     "text": [
      "\r",
      "67.3%"
     ]
    },
    {
     "name": "stderr",
     "output_type": "stream",
     "text": [
      "\r",
      "67.4%"
     ]
    },
    {
     "name": "stderr",
     "output_type": "stream",
     "text": [
      "\r",
      "67.4%"
     ]
    },
    {
     "name": "stderr",
     "output_type": "stream",
     "text": [
      "\r",
      "67.5%"
     ]
    },
    {
     "name": "stderr",
     "output_type": "stream",
     "text": [
      "\r",
      "67.6%"
     ]
    },
    {
     "name": "stderr",
     "output_type": "stream",
     "text": [
      "\r",
      "67.7%"
     ]
    },
    {
     "name": "stderr",
     "output_type": "stream",
     "text": [
      "\r",
      "67.8%"
     ]
    },
    {
     "name": "stderr",
     "output_type": "stream",
     "text": [
      "\r",
      "67.9%"
     ]
    },
    {
     "name": "stderr",
     "output_type": "stream",
     "text": [
      "\r",
      "67.9%"
     ]
    },
    {
     "name": "stderr",
     "output_type": "stream",
     "text": [
      "\r",
      "68.0%"
     ]
    },
    {
     "name": "stderr",
     "output_type": "stream",
     "text": [
      "\r",
      "68.1%"
     ]
    },
    {
     "name": "stderr",
     "output_type": "stream",
     "text": [
      "\r",
      "68.2%"
     ]
    },
    {
     "name": "stderr",
     "output_type": "stream",
     "text": [
      "\r",
      "68.3%"
     ]
    },
    {
     "name": "stderr",
     "output_type": "stream",
     "text": [
      "\r",
      "68.3%"
     ]
    },
    {
     "name": "stderr",
     "output_type": "stream",
     "text": [
      "\r",
      "68.4%"
     ]
    },
    {
     "name": "stderr",
     "output_type": "stream",
     "text": [
      "\r",
      "68.5%"
     ]
    },
    {
     "name": "stderr",
     "output_type": "stream",
     "text": [
      "\r",
      "68.6%"
     ]
    },
    {
     "name": "stderr",
     "output_type": "stream",
     "text": [
      "\r",
      "68.7%"
     ]
    },
    {
     "name": "stderr",
     "output_type": "stream",
     "text": [
      "\r",
      "68.8%"
     ]
    },
    {
     "name": "stderr",
     "output_type": "stream",
     "text": [
      "\r",
      "68.8%"
     ]
    },
    {
     "name": "stderr",
     "output_type": "stream",
     "text": [
      "\r",
      "68.9%"
     ]
    },
    {
     "name": "stderr",
     "output_type": "stream",
     "text": [
      "\r",
      "69.0%"
     ]
    },
    {
     "name": "stderr",
     "output_type": "stream",
     "text": [
      "\r",
      "69.1%"
     ]
    },
    {
     "name": "stderr",
     "output_type": "stream",
     "text": [
      "\r",
      "69.2%"
     ]
    },
    {
     "name": "stderr",
     "output_type": "stream",
     "text": [
      "\r",
      "69.3%"
     ]
    },
    {
     "name": "stderr",
     "output_type": "stream",
     "text": [
      "\r",
      "69.3%"
     ]
    },
    {
     "name": "stderr",
     "output_type": "stream",
     "text": [
      "\r",
      "69.4%"
     ]
    },
    {
     "name": "stderr",
     "output_type": "stream",
     "text": [
      "\r",
      "69.5%"
     ]
    },
    {
     "name": "stderr",
     "output_type": "stream",
     "text": [
      "\r",
      "69.6%"
     ]
    },
    {
     "name": "stderr",
     "output_type": "stream",
     "text": [
      "\r",
      "69.7%"
     ]
    },
    {
     "name": "stderr",
     "output_type": "stream",
     "text": [
      "\r",
      "69.8%"
     ]
    },
    {
     "name": "stderr",
     "output_type": "stream",
     "text": [
      "\r",
      "69.8%"
     ]
    },
    {
     "name": "stderr",
     "output_type": "stream",
     "text": [
      "\r",
      "69.9%"
     ]
    },
    {
     "name": "stderr",
     "output_type": "stream",
     "text": [
      "\r",
      "70.0%"
     ]
    },
    {
     "name": "stderr",
     "output_type": "stream",
     "text": [
      "\r",
      "70.1%"
     ]
    },
    {
     "name": "stderr",
     "output_type": "stream",
     "text": [
      "\r",
      "70.2%"
     ]
    },
    {
     "name": "stderr",
     "output_type": "stream",
     "text": [
      "\r",
      "70.2%"
     ]
    },
    {
     "name": "stderr",
     "output_type": "stream",
     "text": [
      "\r",
      "70.3%"
     ]
    },
    {
     "name": "stderr",
     "output_type": "stream",
     "text": [
      "\r",
      "70.4%"
     ]
    },
    {
     "name": "stderr",
     "output_type": "stream",
     "text": [
      "\r",
      "70.5%"
     ]
    },
    {
     "name": "stderr",
     "output_type": "stream",
     "text": [
      "\r",
      "70.6%"
     ]
    },
    {
     "name": "stderr",
     "output_type": "stream",
     "text": [
      "\r",
      "70.7%"
     ]
    },
    {
     "name": "stderr",
     "output_type": "stream",
     "text": [
      "\r",
      "70.7%"
     ]
    },
    {
     "name": "stderr",
     "output_type": "stream",
     "text": [
      "\r",
      "70.8%"
     ]
    },
    {
     "name": "stderr",
     "output_type": "stream",
     "text": [
      "\r",
      "70.9%"
     ]
    },
    {
     "name": "stderr",
     "output_type": "stream",
     "text": [
      "\r",
      "71.0%"
     ]
    },
    {
     "name": "stderr",
     "output_type": "stream",
     "text": [
      "\r",
      "71.1%"
     ]
    },
    {
     "name": "stderr",
     "output_type": "stream",
     "text": [
      "\r",
      "71.2%"
     ]
    },
    {
     "name": "stderr",
     "output_type": "stream",
     "text": [
      "\r",
      "71.2%"
     ]
    },
    {
     "name": "stderr",
     "output_type": "stream",
     "text": [
      "\r",
      "71.3%"
     ]
    },
    {
     "name": "stderr",
     "output_type": "stream",
     "text": [
      "\r",
      "71.4%"
     ]
    },
    {
     "name": "stderr",
     "output_type": "stream",
     "text": [
      "\r",
      "71.5%"
     ]
    },
    {
     "name": "stderr",
     "output_type": "stream",
     "text": [
      "\r",
      "71.6%"
     ]
    },
    {
     "name": "stderr",
     "output_type": "stream",
     "text": [
      "\r",
      "71.7%"
     ]
    },
    {
     "name": "stderr",
     "output_type": "stream",
     "text": [
      "\r",
      "71.7%"
     ]
    },
    {
     "name": "stderr",
     "output_type": "stream",
     "text": [
      "\r",
      "71.8%"
     ]
    },
    {
     "name": "stderr",
     "output_type": "stream",
     "text": [
      "\r",
      "71.9%"
     ]
    },
    {
     "name": "stderr",
     "output_type": "stream",
     "text": [
      "\r",
      "72.0%"
     ]
    },
    {
     "name": "stderr",
     "output_type": "stream",
     "text": [
      "\r",
      "72.1%"
     ]
    },
    {
     "name": "stderr",
     "output_type": "stream",
     "text": [
      "\r",
      "72.1%"
     ]
    },
    {
     "name": "stderr",
     "output_type": "stream",
     "text": [
      "\r",
      "72.2%"
     ]
    },
    {
     "name": "stderr",
     "output_type": "stream",
     "text": [
      "\r",
      "72.3%"
     ]
    },
    {
     "name": "stderr",
     "output_type": "stream",
     "text": [
      "\r",
      "72.4%"
     ]
    },
    {
     "name": "stderr",
     "output_type": "stream",
     "text": [
      "\r",
      "72.5%"
     ]
    },
    {
     "name": "stderr",
     "output_type": "stream",
     "text": [
      "\r",
      "72.6%"
     ]
    },
    {
     "name": "stderr",
     "output_type": "stream",
     "text": [
      "\r",
      "72.6%"
     ]
    },
    {
     "name": "stderr",
     "output_type": "stream",
     "text": [
      "\r",
      "72.7%"
     ]
    },
    {
     "name": "stderr",
     "output_type": "stream",
     "text": [
      "\r",
      "72.8%"
     ]
    },
    {
     "name": "stderr",
     "output_type": "stream",
     "text": [
      "\r",
      "72.9%"
     ]
    },
    {
     "name": "stderr",
     "output_type": "stream",
     "text": [
      "\r",
      "73.0%"
     ]
    },
    {
     "name": "stderr",
     "output_type": "stream",
     "text": [
      "\r",
      "73.1%"
     ]
    },
    {
     "name": "stderr",
     "output_type": "stream",
     "text": [
      "\r",
      "73.1%"
     ]
    },
    {
     "name": "stderr",
     "output_type": "stream",
     "text": [
      "\r",
      "73.2%"
     ]
    },
    {
     "name": "stderr",
     "output_type": "stream",
     "text": [
      "\r",
      "73.3%"
     ]
    },
    {
     "name": "stderr",
     "output_type": "stream",
     "text": [
      "\r",
      "73.4%"
     ]
    },
    {
     "name": "stderr",
     "output_type": "stream",
     "text": [
      "\r",
      "73.5%"
     ]
    },
    {
     "name": "stderr",
     "output_type": "stream",
     "text": [
      "\r",
      "73.6%"
     ]
    },
    {
     "name": "stderr",
     "output_type": "stream",
     "text": [
      "\r",
      "73.6%"
     ]
    },
    {
     "name": "stderr",
     "output_type": "stream",
     "text": [
      "\r",
      "73.7%"
     ]
    },
    {
     "name": "stderr",
     "output_type": "stream",
     "text": [
      "\r",
      "73.8%"
     ]
    },
    {
     "name": "stderr",
     "output_type": "stream",
     "text": [
      "\r",
      "73.9%"
     ]
    },
    {
     "name": "stderr",
     "output_type": "stream",
     "text": [
      "\r",
      "74.0%"
     ]
    },
    {
     "name": "stderr",
     "output_type": "stream",
     "text": [
      "\r",
      "74.0%"
     ]
    },
    {
     "name": "stderr",
     "output_type": "stream",
     "text": [
      "\r",
      "74.1%"
     ]
    },
    {
     "name": "stderr",
     "output_type": "stream",
     "text": [
      "\r",
      "74.2%"
     ]
    },
    {
     "name": "stderr",
     "output_type": "stream",
     "text": [
      "\r",
      "74.3%"
     ]
    },
    {
     "name": "stderr",
     "output_type": "stream",
     "text": [
      "\r",
      "74.4%"
     ]
    },
    {
     "name": "stderr",
     "output_type": "stream",
     "text": [
      "\r",
      "74.5%"
     ]
    },
    {
     "name": "stderr",
     "output_type": "stream",
     "text": [
      "\r",
      "74.5%"
     ]
    },
    {
     "name": "stderr",
     "output_type": "stream",
     "text": [
      "\r",
      "74.6%"
     ]
    },
    {
     "name": "stderr",
     "output_type": "stream",
     "text": [
      "\r",
      "74.7%"
     ]
    },
    {
     "name": "stderr",
     "output_type": "stream",
     "text": [
      "\r",
      "74.8%"
     ]
    },
    {
     "name": "stderr",
     "output_type": "stream",
     "text": [
      "\r",
      "74.9%"
     ]
    },
    {
     "name": "stderr",
     "output_type": "stream",
     "text": [
      "\r",
      "75.0%"
     ]
    },
    {
     "name": "stderr",
     "output_type": "stream",
     "text": [
      "\r",
      "75.0%"
     ]
    },
    {
     "name": "stderr",
     "output_type": "stream",
     "text": [
      "\r",
      "75.1%"
     ]
    },
    {
     "name": "stderr",
     "output_type": "stream",
     "text": [
      "\r",
      "75.2%"
     ]
    },
    {
     "name": "stderr",
     "output_type": "stream",
     "text": [
      "\r",
      "75.3%"
     ]
    },
    {
     "name": "stderr",
     "output_type": "stream",
     "text": [
      "\r",
      "75.4%"
     ]
    },
    {
     "name": "stderr",
     "output_type": "stream",
     "text": [
      "\r",
      "75.5%"
     ]
    },
    {
     "name": "stderr",
     "output_type": "stream",
     "text": [
      "\r",
      "75.5%"
     ]
    },
    {
     "name": "stderr",
     "output_type": "stream",
     "text": [
      "\r",
      "75.6%"
     ]
    },
    {
     "name": "stderr",
     "output_type": "stream",
     "text": [
      "\r",
      "75.7%"
     ]
    },
    {
     "name": "stderr",
     "output_type": "stream",
     "text": [
      "\r",
      "75.8%"
     ]
    },
    {
     "name": "stderr",
     "output_type": "stream",
     "text": [
      "\r",
      "75.9%"
     ]
    },
    {
     "name": "stderr",
     "output_type": "stream",
     "text": [
      "\r",
      "75.9%"
     ]
    },
    {
     "name": "stderr",
     "output_type": "stream",
     "text": [
      "\r",
      "76.0%"
     ]
    },
    {
     "name": "stderr",
     "output_type": "stream",
     "text": [
      "\r",
      "76.1%"
     ]
    },
    {
     "name": "stderr",
     "output_type": "stream",
     "text": [
      "\r",
      "76.2%"
     ]
    },
    {
     "name": "stderr",
     "output_type": "stream",
     "text": [
      "\r",
      "76.3%"
     ]
    },
    {
     "name": "stderr",
     "output_type": "stream",
     "text": [
      "\r",
      "76.4%"
     ]
    },
    {
     "name": "stderr",
     "output_type": "stream",
     "text": [
      "\r",
      "76.4%"
     ]
    },
    {
     "name": "stderr",
     "output_type": "stream",
     "text": [
      "\r",
      "76.5%"
     ]
    },
    {
     "name": "stderr",
     "output_type": "stream",
     "text": [
      "\r",
      "76.6%"
     ]
    },
    {
     "name": "stderr",
     "output_type": "stream",
     "text": [
      "\r",
      "76.7%"
     ]
    },
    {
     "name": "stderr",
     "output_type": "stream",
     "text": [
      "\r",
      "76.8%"
     ]
    },
    {
     "name": "stderr",
     "output_type": "stream",
     "text": [
      "\r",
      "76.9%"
     ]
    },
    {
     "name": "stderr",
     "output_type": "stream",
     "text": [
      "\r",
      "76.9%"
     ]
    },
    {
     "name": "stderr",
     "output_type": "stream",
     "text": [
      "\r",
      "77.0%"
     ]
    },
    {
     "name": "stderr",
     "output_type": "stream",
     "text": [
      "\r",
      "77.1%"
     ]
    },
    {
     "name": "stderr",
     "output_type": "stream",
     "text": [
      "\r",
      "77.2%"
     ]
    },
    {
     "name": "stderr",
     "output_type": "stream",
     "text": [
      "\r",
      "77.3%"
     ]
    },
    {
     "name": "stderr",
     "output_type": "stream",
     "text": [
      "\r",
      "77.4%"
     ]
    },
    {
     "name": "stderr",
     "output_type": "stream",
     "text": [
      "\r",
      "77.4%"
     ]
    },
    {
     "name": "stderr",
     "output_type": "stream",
     "text": [
      "\r",
      "77.5%"
     ]
    },
    {
     "name": "stderr",
     "output_type": "stream",
     "text": [
      "\r",
      "77.6%"
     ]
    },
    {
     "name": "stderr",
     "output_type": "stream",
     "text": [
      "\r",
      "77.7%"
     ]
    },
    {
     "name": "stderr",
     "output_type": "stream",
     "text": [
      "\r",
      "77.8%"
     ]
    },
    {
     "name": "stderr",
     "output_type": "stream",
     "text": [
      "\r",
      "77.9%"
     ]
    },
    {
     "name": "stderr",
     "output_type": "stream",
     "text": [
      "\r",
      "77.9%"
     ]
    },
    {
     "name": "stderr",
     "output_type": "stream",
     "text": [
      "\r",
      "78.0%"
     ]
    },
    {
     "name": "stderr",
     "output_type": "stream",
     "text": [
      "\r",
      "78.1%"
     ]
    },
    {
     "name": "stderr",
     "output_type": "stream",
     "text": [
      "\r",
      "78.2%"
     ]
    },
    {
     "name": "stderr",
     "output_type": "stream",
     "text": [
      "\r",
      "78.3%"
     ]
    },
    {
     "name": "stderr",
     "output_type": "stream",
     "text": [
      "\r",
      "78.3%"
     ]
    },
    {
     "name": "stderr",
     "output_type": "stream",
     "text": [
      "\r",
      "78.4%"
     ]
    },
    {
     "name": "stderr",
     "output_type": "stream",
     "text": [
      "\r",
      "78.5%"
     ]
    },
    {
     "name": "stderr",
     "output_type": "stream",
     "text": [
      "\r",
      "78.6%"
     ]
    },
    {
     "name": "stderr",
     "output_type": "stream",
     "text": [
      "\r",
      "78.7%"
     ]
    },
    {
     "name": "stderr",
     "output_type": "stream",
     "text": [
      "\r",
      "78.8%"
     ]
    },
    {
     "name": "stderr",
     "output_type": "stream",
     "text": [
      "\r",
      "78.8%"
     ]
    },
    {
     "name": "stderr",
     "output_type": "stream",
     "text": [
      "\r",
      "78.9%"
     ]
    },
    {
     "name": "stderr",
     "output_type": "stream",
     "text": [
      "\r",
      "79.0%"
     ]
    },
    {
     "name": "stderr",
     "output_type": "stream",
     "text": [
      "\r",
      "79.1%"
     ]
    },
    {
     "name": "stderr",
     "output_type": "stream",
     "text": [
      "\r",
      "79.2%"
     ]
    },
    {
     "name": "stderr",
     "output_type": "stream",
     "text": [
      "\r",
      "79.3%"
     ]
    },
    {
     "name": "stderr",
     "output_type": "stream",
     "text": [
      "\r",
      "79.3%"
     ]
    },
    {
     "name": "stderr",
     "output_type": "stream",
     "text": [
      "\r",
      "79.4%"
     ]
    },
    {
     "name": "stderr",
     "output_type": "stream",
     "text": [
      "\r",
      "79.5%"
     ]
    },
    {
     "name": "stderr",
     "output_type": "stream",
     "text": [
      "\r",
      "79.6%"
     ]
    },
    {
     "name": "stderr",
     "output_type": "stream",
     "text": [
      "\r",
      "79.7%"
     ]
    },
    {
     "name": "stderr",
     "output_type": "stream",
     "text": [
      "\r",
      "79.8%"
     ]
    },
    {
     "name": "stderr",
     "output_type": "stream",
     "text": [
      "\r",
      "79.8%"
     ]
    },
    {
     "name": "stderr",
     "output_type": "stream",
     "text": [
      "\r",
      "79.9%"
     ]
    },
    {
     "name": "stderr",
     "output_type": "stream",
     "text": [
      "\r",
      "80.0%"
     ]
    },
    {
     "name": "stderr",
     "output_type": "stream",
     "text": [
      "\r",
      "80.1%"
     ]
    },
    {
     "name": "stderr",
     "output_type": "stream",
     "text": [
      "\r",
      "80.2%"
     ]
    },
    {
     "name": "stderr",
     "output_type": "stream",
     "text": [
      "\r",
      "80.2%"
     ]
    },
    {
     "name": "stderr",
     "output_type": "stream",
     "text": [
      "\r",
      "80.3%"
     ]
    },
    {
     "name": "stderr",
     "output_type": "stream",
     "text": [
      "\r",
      "80.4%"
     ]
    },
    {
     "name": "stderr",
     "output_type": "stream",
     "text": [
      "\r",
      "80.5%"
     ]
    },
    {
     "name": "stderr",
     "output_type": "stream",
     "text": [
      "\r",
      "80.6%"
     ]
    },
    {
     "name": "stderr",
     "output_type": "stream",
     "text": [
      "\r",
      "80.7%"
     ]
    },
    {
     "name": "stderr",
     "output_type": "stream",
     "text": [
      "\r",
      "80.7%"
     ]
    },
    {
     "name": "stderr",
     "output_type": "stream",
     "text": [
      "\r",
      "80.8%"
     ]
    },
    {
     "name": "stderr",
     "output_type": "stream",
     "text": [
      "\r",
      "80.9%"
     ]
    },
    {
     "name": "stderr",
     "output_type": "stream",
     "text": [
      "\r",
      "81.0%"
     ]
    },
    {
     "name": "stderr",
     "output_type": "stream",
     "text": [
      "\r",
      "81.1%"
     ]
    },
    {
     "name": "stderr",
     "output_type": "stream",
     "text": [
      "\r",
      "81.2%"
     ]
    },
    {
     "name": "stderr",
     "output_type": "stream",
     "text": [
      "\r",
      "81.2%"
     ]
    },
    {
     "name": "stderr",
     "output_type": "stream",
     "text": [
      "\r",
      "81.3%"
     ]
    },
    {
     "name": "stderr",
     "output_type": "stream",
     "text": [
      "\r",
      "81.4%"
     ]
    },
    {
     "name": "stderr",
     "output_type": "stream",
     "text": [
      "\r",
      "81.5%"
     ]
    },
    {
     "name": "stderr",
     "output_type": "stream",
     "text": [
      "\r",
      "81.6%"
     ]
    },
    {
     "name": "stderr",
     "output_type": "stream",
     "text": [
      "\r",
      "81.7%"
     ]
    },
    {
     "name": "stderr",
     "output_type": "stream",
     "text": [
      "\r",
      "81.7%"
     ]
    },
    {
     "name": "stderr",
     "output_type": "stream",
     "text": [
      "\r",
      "81.8%"
     ]
    },
    {
     "name": "stderr",
     "output_type": "stream",
     "text": [
      "\r",
      "81.9%"
     ]
    },
    {
     "name": "stderr",
     "output_type": "stream",
     "text": [
      "\r",
      "82.0%"
     ]
    },
    {
     "name": "stderr",
     "output_type": "stream",
     "text": [
      "\r",
      "82.1%"
     ]
    },
    {
     "name": "stderr",
     "output_type": "stream",
     "text": [
      "\r",
      "82.1%"
     ]
    },
    {
     "name": "stderr",
     "output_type": "stream",
     "text": [
      "\r",
      "82.2%"
     ]
    },
    {
     "name": "stderr",
     "output_type": "stream",
     "text": [
      "\r",
      "82.3%"
     ]
    },
    {
     "name": "stderr",
     "output_type": "stream",
     "text": [
      "\r",
      "82.4%"
     ]
    },
    {
     "name": "stderr",
     "output_type": "stream",
     "text": [
      "\r",
      "82.5%"
     ]
    },
    {
     "name": "stderr",
     "output_type": "stream",
     "text": [
      "\r",
      "82.6%"
     ]
    },
    {
     "name": "stderr",
     "output_type": "stream",
     "text": [
      "\r",
      "82.6%"
     ]
    },
    {
     "name": "stderr",
     "output_type": "stream",
     "text": [
      "\r",
      "82.7%"
     ]
    },
    {
     "name": "stderr",
     "output_type": "stream",
     "text": [
      "\r",
      "82.8%"
     ]
    },
    {
     "name": "stderr",
     "output_type": "stream",
     "text": [
      "\r",
      "82.9%"
     ]
    },
    {
     "name": "stderr",
     "output_type": "stream",
     "text": [
      "\r",
      "83.0%"
     ]
    },
    {
     "name": "stderr",
     "output_type": "stream",
     "text": [
      "\r",
      "83.1%"
     ]
    },
    {
     "name": "stderr",
     "output_type": "stream",
     "text": [
      "\r",
      "83.1%"
     ]
    },
    {
     "name": "stderr",
     "output_type": "stream",
     "text": [
      "\r",
      "83.2%"
     ]
    },
    {
     "name": "stderr",
     "output_type": "stream",
     "text": [
      "\r",
      "83.3%"
     ]
    },
    {
     "name": "stderr",
     "output_type": "stream",
     "text": [
      "\r",
      "83.4%"
     ]
    },
    {
     "name": "stderr",
     "output_type": "stream",
     "text": [
      "\r",
      "83.5%"
     ]
    },
    {
     "name": "stderr",
     "output_type": "stream",
     "text": [
      "\r",
      "83.6%"
     ]
    },
    {
     "name": "stderr",
     "output_type": "stream",
     "text": [
      "\r",
      "83.6%"
     ]
    },
    {
     "name": "stderr",
     "output_type": "stream",
     "text": [
      "\r",
      "83.7%"
     ]
    },
    {
     "name": "stderr",
     "output_type": "stream",
     "text": [
      "\r",
      "83.8%"
     ]
    },
    {
     "name": "stderr",
     "output_type": "stream",
     "text": [
      "\r",
      "83.9%"
     ]
    },
    {
     "name": "stderr",
     "output_type": "stream",
     "text": [
      "\r",
      "84.0%"
     ]
    },
    {
     "name": "stderr",
     "output_type": "stream",
     "text": [
      "\r",
      "84.0%"
     ]
    },
    {
     "name": "stderr",
     "output_type": "stream",
     "text": [
      "\r",
      "84.1%"
     ]
    },
    {
     "name": "stderr",
     "output_type": "stream",
     "text": [
      "\r",
      "84.2%"
     ]
    },
    {
     "name": "stderr",
     "output_type": "stream",
     "text": [
      "\r",
      "84.3%"
     ]
    },
    {
     "name": "stderr",
     "output_type": "stream",
     "text": [
      "\r",
      "84.4%"
     ]
    },
    {
     "name": "stderr",
     "output_type": "stream",
     "text": [
      "\r",
      "84.5%"
     ]
    },
    {
     "name": "stderr",
     "output_type": "stream",
     "text": [
      "\r",
      "84.5%"
     ]
    },
    {
     "name": "stderr",
     "output_type": "stream",
     "text": [
      "\r",
      "84.6%"
     ]
    },
    {
     "name": "stderr",
     "output_type": "stream",
     "text": [
      "\r",
      "84.7%"
     ]
    },
    {
     "name": "stderr",
     "output_type": "stream",
     "text": [
      "\r",
      "84.8%"
     ]
    },
    {
     "name": "stderr",
     "output_type": "stream",
     "text": [
      "\r",
      "84.9%"
     ]
    },
    {
     "name": "stderr",
     "output_type": "stream",
     "text": [
      "\r",
      "85.0%"
     ]
    },
    {
     "name": "stderr",
     "output_type": "stream",
     "text": [
      "\r",
      "85.0%"
     ]
    },
    {
     "name": "stderr",
     "output_type": "stream",
     "text": [
      "\r",
      "85.1%"
     ]
    },
    {
     "name": "stderr",
     "output_type": "stream",
     "text": [
      "\r",
      "85.2%"
     ]
    },
    {
     "name": "stderr",
     "output_type": "stream",
     "text": [
      "\r",
      "85.3%"
     ]
    },
    {
     "name": "stderr",
     "output_type": "stream",
     "text": [
      "\r",
      "85.4%"
     ]
    },
    {
     "name": "stderr",
     "output_type": "stream",
     "text": [
      "\r",
      "85.5%"
     ]
    },
    {
     "name": "stderr",
     "output_type": "stream",
     "text": [
      "\r",
      "85.5%"
     ]
    },
    {
     "name": "stderr",
     "output_type": "stream",
     "text": [
      "\r",
      "85.6%"
     ]
    },
    {
     "name": "stderr",
     "output_type": "stream",
     "text": [
      "\r",
      "85.7%"
     ]
    },
    {
     "name": "stderr",
     "output_type": "stream",
     "text": [
      "\r",
      "85.8%"
     ]
    },
    {
     "name": "stderr",
     "output_type": "stream",
     "text": [
      "\r",
      "85.9%"
     ]
    },
    {
     "name": "stderr",
     "output_type": "stream",
     "text": [
      "\r",
      "85.9%"
     ]
    },
    {
     "name": "stderr",
     "output_type": "stream",
     "text": [
      "\r",
      "86.0%"
     ]
    },
    {
     "name": "stderr",
     "output_type": "stream",
     "text": [
      "\r",
      "86.1%"
     ]
    },
    {
     "name": "stderr",
     "output_type": "stream",
     "text": [
      "\r",
      "86.2%"
     ]
    },
    {
     "name": "stderr",
     "output_type": "stream",
     "text": [
      "\r",
      "86.3%"
     ]
    },
    {
     "name": "stderr",
     "output_type": "stream",
     "text": [
      "\r",
      "86.4%"
     ]
    },
    {
     "name": "stderr",
     "output_type": "stream",
     "text": [
      "\r",
      "86.4%"
     ]
    },
    {
     "name": "stderr",
     "output_type": "stream",
     "text": [
      "\r",
      "86.5%"
     ]
    },
    {
     "name": "stderr",
     "output_type": "stream",
     "text": [
      "\r",
      "86.6%"
     ]
    },
    {
     "name": "stderr",
     "output_type": "stream",
     "text": [
      "\r",
      "86.7%"
     ]
    },
    {
     "name": "stderr",
     "output_type": "stream",
     "text": [
      "\r",
      "86.8%"
     ]
    },
    {
     "name": "stderr",
     "output_type": "stream",
     "text": [
      "\r",
      "86.9%"
     ]
    },
    {
     "name": "stderr",
     "output_type": "stream",
     "text": [
      "\r",
      "86.9%"
     ]
    },
    {
     "name": "stderr",
     "output_type": "stream",
     "text": [
      "\r",
      "87.0%"
     ]
    },
    {
     "name": "stderr",
     "output_type": "stream",
     "text": [
      "\r",
      "87.1%"
     ]
    },
    {
     "name": "stderr",
     "output_type": "stream",
     "text": [
      "\r",
      "87.2%"
     ]
    },
    {
     "name": "stderr",
     "output_type": "stream",
     "text": [
      "\r",
      "87.3%"
     ]
    },
    {
     "name": "stderr",
     "output_type": "stream",
     "text": [
      "\r",
      "87.4%"
     ]
    },
    {
     "name": "stderr",
     "output_type": "stream",
     "text": [
      "\r",
      "87.4%"
     ]
    },
    {
     "name": "stderr",
     "output_type": "stream",
     "text": [
      "\r",
      "87.5%"
     ]
    },
    {
     "name": "stderr",
     "output_type": "stream",
     "text": [
      "\r",
      "87.6%"
     ]
    },
    {
     "name": "stderr",
     "output_type": "stream",
     "text": [
      "\r",
      "87.7%"
     ]
    },
    {
     "name": "stderr",
     "output_type": "stream",
     "text": [
      "\r",
      "87.8%"
     ]
    },
    {
     "name": "stderr",
     "output_type": "stream",
     "text": [
      "\r",
      "87.9%"
     ]
    },
    {
     "name": "stderr",
     "output_type": "stream",
     "text": [
      "\r",
      "87.9%"
     ]
    },
    {
     "name": "stderr",
     "output_type": "stream",
     "text": [
      "\r",
      "88.0%"
     ]
    },
    {
     "name": "stderr",
     "output_type": "stream",
     "text": [
      "\r",
      "88.1%"
     ]
    },
    {
     "name": "stderr",
     "output_type": "stream",
     "text": [
      "\r",
      "88.2%"
     ]
    },
    {
     "name": "stderr",
     "output_type": "stream",
     "text": [
      "\r",
      "88.3%"
     ]
    },
    {
     "name": "stderr",
     "output_type": "stream",
     "text": [
      "\r",
      "88.3%"
     ]
    },
    {
     "name": "stderr",
     "output_type": "stream",
     "text": [
      "\r",
      "88.4%"
     ]
    },
    {
     "name": "stderr",
     "output_type": "stream",
     "text": [
      "\r",
      "88.5%"
     ]
    },
    {
     "name": "stderr",
     "output_type": "stream",
     "text": [
      "\r",
      "88.6%"
     ]
    },
    {
     "name": "stderr",
     "output_type": "stream",
     "text": [
      "\r",
      "88.7%"
     ]
    },
    {
     "name": "stderr",
     "output_type": "stream",
     "text": [
      "\r",
      "88.8%"
     ]
    },
    {
     "name": "stderr",
     "output_type": "stream",
     "text": [
      "\r",
      "88.8%"
     ]
    },
    {
     "name": "stderr",
     "output_type": "stream",
     "text": [
      "\r",
      "88.9%"
     ]
    },
    {
     "name": "stderr",
     "output_type": "stream",
     "text": [
      "\r",
      "89.0%"
     ]
    },
    {
     "name": "stderr",
     "output_type": "stream",
     "text": [
      "\r",
      "89.1%"
     ]
    },
    {
     "name": "stderr",
     "output_type": "stream",
     "text": [
      "\r",
      "89.2%"
     ]
    },
    {
     "name": "stderr",
     "output_type": "stream",
     "text": [
      "\r",
      "89.3%"
     ]
    },
    {
     "name": "stderr",
     "output_type": "stream",
     "text": [
      "\r",
      "89.3%"
     ]
    },
    {
     "name": "stderr",
     "output_type": "stream",
     "text": [
      "\r",
      "89.4%"
     ]
    },
    {
     "name": "stderr",
     "output_type": "stream",
     "text": [
      "\r",
      "89.5%"
     ]
    },
    {
     "name": "stderr",
     "output_type": "stream",
     "text": [
      "\r",
      "89.6%"
     ]
    },
    {
     "name": "stderr",
     "output_type": "stream",
     "text": [
      "\r",
      "89.7%"
     ]
    },
    {
     "name": "stderr",
     "output_type": "stream",
     "text": [
      "\r",
      "89.8%"
     ]
    },
    {
     "name": "stderr",
     "output_type": "stream",
     "text": [
      "\r",
      "89.8%"
     ]
    },
    {
     "name": "stderr",
     "output_type": "stream",
     "text": [
      "\r",
      "89.9%"
     ]
    },
    {
     "name": "stderr",
     "output_type": "stream",
     "text": [
      "\r",
      "90.0%"
     ]
    },
    {
     "name": "stderr",
     "output_type": "stream",
     "text": [
      "\r",
      "90.1%"
     ]
    },
    {
     "name": "stderr",
     "output_type": "stream",
     "text": [
      "\r",
      "90.2%"
     ]
    },
    {
     "name": "stderr",
     "output_type": "stream",
     "text": [
      "\r",
      "90.2%"
     ]
    },
    {
     "name": "stderr",
     "output_type": "stream",
     "text": [
      "\r",
      "90.3%"
     ]
    },
    {
     "name": "stderr",
     "output_type": "stream",
     "text": [
      "\r",
      "90.4%"
     ]
    },
    {
     "name": "stderr",
     "output_type": "stream",
     "text": [
      "\r",
      "90.5%"
     ]
    },
    {
     "name": "stderr",
     "output_type": "stream",
     "text": [
      "\r",
      "90.6%"
     ]
    },
    {
     "name": "stderr",
     "output_type": "stream",
     "text": [
      "\r",
      "90.7%"
     ]
    },
    {
     "name": "stderr",
     "output_type": "stream",
     "text": [
      "\r",
      "90.7%"
     ]
    },
    {
     "name": "stderr",
     "output_type": "stream",
     "text": [
      "\r",
      "90.8%"
     ]
    },
    {
     "name": "stderr",
     "output_type": "stream",
     "text": [
      "\r",
      "90.9%"
     ]
    },
    {
     "name": "stderr",
     "output_type": "stream",
     "text": [
      "\r",
      "91.0%"
     ]
    },
    {
     "name": "stderr",
     "output_type": "stream",
     "text": [
      "\r",
      "91.1%"
     ]
    },
    {
     "name": "stderr",
     "output_type": "stream",
     "text": [
      "\r",
      "91.2%"
     ]
    },
    {
     "name": "stderr",
     "output_type": "stream",
     "text": [
      "\r",
      "91.2%"
     ]
    },
    {
     "name": "stderr",
     "output_type": "stream",
     "text": [
      "\r",
      "91.3%"
     ]
    },
    {
     "name": "stderr",
     "output_type": "stream",
     "text": [
      "\r",
      "91.4%"
     ]
    },
    {
     "name": "stderr",
     "output_type": "stream",
     "text": [
      "\r",
      "91.5%"
     ]
    },
    {
     "name": "stderr",
     "output_type": "stream",
     "text": [
      "\r",
      "91.6%"
     ]
    },
    {
     "name": "stderr",
     "output_type": "stream",
     "text": [
      "\r",
      "91.7%"
     ]
    },
    {
     "name": "stderr",
     "output_type": "stream",
     "text": [
      "\r",
      "91.7%"
     ]
    },
    {
     "name": "stderr",
     "output_type": "stream",
     "text": [
      "\r",
      "91.8%"
     ]
    },
    {
     "name": "stderr",
     "output_type": "stream",
     "text": [
      "\r",
      "91.9%"
     ]
    },
    {
     "name": "stderr",
     "output_type": "stream",
     "text": [
      "\r",
      "92.0%"
     ]
    },
    {
     "name": "stderr",
     "output_type": "stream",
     "text": [
      "\r",
      "92.1%"
     ]
    },
    {
     "name": "stderr",
     "output_type": "stream",
     "text": [
      "\r",
      "92.1%"
     ]
    },
    {
     "name": "stderr",
     "output_type": "stream",
     "text": [
      "\r",
      "92.2%"
     ]
    },
    {
     "name": "stderr",
     "output_type": "stream",
     "text": [
      "\r",
      "92.3%"
     ]
    },
    {
     "name": "stderr",
     "output_type": "stream",
     "text": [
      "\r",
      "92.4%"
     ]
    },
    {
     "name": "stderr",
     "output_type": "stream",
     "text": [
      "\r",
      "92.5%"
     ]
    },
    {
     "name": "stderr",
     "output_type": "stream",
     "text": [
      "\r",
      "92.6%"
     ]
    },
    {
     "name": "stderr",
     "output_type": "stream",
     "text": [
      "\r",
      "92.6%"
     ]
    },
    {
     "name": "stderr",
     "output_type": "stream",
     "text": [
      "\r",
      "92.7%"
     ]
    },
    {
     "name": "stderr",
     "output_type": "stream",
     "text": [
      "\r",
      "92.8%"
     ]
    },
    {
     "name": "stderr",
     "output_type": "stream",
     "text": [
      "\r",
      "92.9%"
     ]
    },
    {
     "name": "stderr",
     "output_type": "stream",
     "text": [
      "\r",
      "93.0%"
     ]
    },
    {
     "name": "stderr",
     "output_type": "stream",
     "text": [
      "\r",
      "93.1%"
     ]
    },
    {
     "name": "stderr",
     "output_type": "stream",
     "text": [
      "\r",
      "93.1%"
     ]
    },
    {
     "name": "stderr",
     "output_type": "stream",
     "text": [
      "\r",
      "93.2%"
     ]
    },
    {
     "name": "stderr",
     "output_type": "stream",
     "text": [
      "\r",
      "93.3%"
     ]
    },
    {
     "name": "stderr",
     "output_type": "stream",
     "text": [
      "\r",
      "93.4%"
     ]
    },
    {
     "name": "stderr",
     "output_type": "stream",
     "text": [
      "\r",
      "93.5%"
     ]
    },
    {
     "name": "stderr",
     "output_type": "stream",
     "text": [
      "\r",
      "93.6%"
     ]
    },
    {
     "name": "stderr",
     "output_type": "stream",
     "text": [
      "\r",
      "93.6%"
     ]
    },
    {
     "name": "stderr",
     "output_type": "stream",
     "text": [
      "\r",
      "93.7%"
     ]
    },
    {
     "name": "stderr",
     "output_type": "stream",
     "text": [
      "\r",
      "93.8%"
     ]
    },
    {
     "name": "stderr",
     "output_type": "stream",
     "text": [
      "\r",
      "93.9%"
     ]
    },
    {
     "name": "stderr",
     "output_type": "stream",
     "text": [
      "\r",
      "94.0%"
     ]
    },
    {
     "name": "stderr",
     "output_type": "stream",
     "text": [
      "\r",
      "94.0%"
     ]
    },
    {
     "name": "stderr",
     "output_type": "stream",
     "text": [
      "\r",
      "94.1%"
     ]
    },
    {
     "name": "stderr",
     "output_type": "stream",
     "text": [
      "\r",
      "94.2%"
     ]
    },
    {
     "name": "stderr",
     "output_type": "stream",
     "text": [
      "\r",
      "94.3%"
     ]
    },
    {
     "name": "stderr",
     "output_type": "stream",
     "text": [
      "\r",
      "94.4%"
     ]
    },
    {
     "name": "stderr",
     "output_type": "stream",
     "text": [
      "\r",
      "94.5%"
     ]
    },
    {
     "name": "stderr",
     "output_type": "stream",
     "text": [
      "\r",
      "94.5%"
     ]
    },
    {
     "name": "stderr",
     "output_type": "stream",
     "text": [
      "\r",
      "94.6%"
     ]
    },
    {
     "name": "stderr",
     "output_type": "stream",
     "text": [
      "\r",
      "94.7%"
     ]
    },
    {
     "name": "stderr",
     "output_type": "stream",
     "text": [
      "\r",
      "94.8%"
     ]
    },
    {
     "name": "stderr",
     "output_type": "stream",
     "text": [
      "\r",
      "94.9%"
     ]
    },
    {
     "name": "stderr",
     "output_type": "stream",
     "text": [
      "\r",
      "95.0%"
     ]
    },
    {
     "name": "stderr",
     "output_type": "stream",
     "text": [
      "\r",
      "95.0%"
     ]
    },
    {
     "name": "stderr",
     "output_type": "stream",
     "text": [
      "\r",
      "95.1%"
     ]
    },
    {
     "name": "stderr",
     "output_type": "stream",
     "text": [
      "\r",
      "95.2%"
     ]
    },
    {
     "name": "stderr",
     "output_type": "stream",
     "text": [
      "\r",
      "95.3%"
     ]
    },
    {
     "name": "stderr",
     "output_type": "stream",
     "text": [
      "\r",
      "95.4%"
     ]
    },
    {
     "name": "stderr",
     "output_type": "stream",
     "text": [
      "\r",
      "95.5%"
     ]
    },
    {
     "name": "stderr",
     "output_type": "stream",
     "text": [
      "\r",
      "95.5%"
     ]
    },
    {
     "name": "stderr",
     "output_type": "stream",
     "text": [
      "\r",
      "95.6%"
     ]
    },
    {
     "name": "stderr",
     "output_type": "stream",
     "text": [
      "\r",
      "95.7%"
     ]
    },
    {
     "name": "stderr",
     "output_type": "stream",
     "text": [
      "\r",
      "95.8%"
     ]
    },
    {
     "name": "stderr",
     "output_type": "stream",
     "text": [
      "\r",
      "95.9%"
     ]
    },
    {
     "name": "stderr",
     "output_type": "stream",
     "text": [
      "\r",
      "95.9%"
     ]
    },
    {
     "name": "stderr",
     "output_type": "stream",
     "text": [
      "\r",
      "96.0%"
     ]
    },
    {
     "name": "stderr",
     "output_type": "stream",
     "text": [
      "\r",
      "96.1%"
     ]
    },
    {
     "name": "stderr",
     "output_type": "stream",
     "text": [
      "\r",
      "96.2%"
     ]
    },
    {
     "name": "stderr",
     "output_type": "stream",
     "text": [
      "\r",
      "96.3%"
     ]
    },
    {
     "name": "stderr",
     "output_type": "stream",
     "text": [
      "\r",
      "96.4%"
     ]
    },
    {
     "name": "stderr",
     "output_type": "stream",
     "text": [
      "\r",
      "96.4%"
     ]
    },
    {
     "name": "stderr",
     "output_type": "stream",
     "text": [
      "\r",
      "96.5%"
     ]
    },
    {
     "name": "stderr",
     "output_type": "stream",
     "text": [
      "\r",
      "96.6%"
     ]
    },
    {
     "name": "stderr",
     "output_type": "stream",
     "text": [
      "\r",
      "96.7%"
     ]
    },
    {
     "name": "stderr",
     "output_type": "stream",
     "text": [
      "\r",
      "96.8%"
     ]
    },
    {
     "name": "stderr",
     "output_type": "stream",
     "text": [
      "\r",
      "96.9%"
     ]
    },
    {
     "name": "stderr",
     "output_type": "stream",
     "text": [
      "\r",
      "96.9%"
     ]
    },
    {
     "name": "stderr",
     "output_type": "stream",
     "text": [
      "\r",
      "97.0%"
     ]
    },
    {
     "name": "stderr",
     "output_type": "stream",
     "text": [
      "\r",
      "97.1%"
     ]
    },
    {
     "name": "stderr",
     "output_type": "stream",
     "text": [
      "\r",
      "97.2%"
     ]
    },
    {
     "name": "stderr",
     "output_type": "stream",
     "text": [
      "\r",
      "97.3%"
     ]
    },
    {
     "name": "stderr",
     "output_type": "stream",
     "text": [
      "\r",
      "97.4%"
     ]
    },
    {
     "name": "stderr",
     "output_type": "stream",
     "text": [
      "\r",
      "97.4%"
     ]
    },
    {
     "name": "stderr",
     "output_type": "stream",
     "text": [
      "\r",
      "97.5%"
     ]
    },
    {
     "name": "stderr",
     "output_type": "stream",
     "text": [
      "\r",
      "97.6%"
     ]
    },
    {
     "name": "stderr",
     "output_type": "stream",
     "text": [
      "\r",
      "97.7%"
     ]
    },
    {
     "name": "stderr",
     "output_type": "stream",
     "text": [
      "\r",
      "97.8%"
     ]
    },
    {
     "name": "stderr",
     "output_type": "stream",
     "text": [
      "\r",
      "97.9%"
     ]
    },
    {
     "name": "stderr",
     "output_type": "stream",
     "text": [
      "\r",
      "97.9%"
     ]
    },
    {
     "name": "stderr",
     "output_type": "stream",
     "text": [
      "\r",
      "98.0%"
     ]
    },
    {
     "name": "stderr",
     "output_type": "stream",
     "text": [
      "\r",
      "98.1%"
     ]
    },
    {
     "name": "stderr",
     "output_type": "stream",
     "text": [
      "\r",
      "98.2%"
     ]
    },
    {
     "name": "stderr",
     "output_type": "stream",
     "text": [
      "\r",
      "98.3%"
     ]
    },
    {
     "name": "stderr",
     "output_type": "stream",
     "text": [
      "\r",
      "98.3%"
     ]
    },
    {
     "name": "stderr",
     "output_type": "stream",
     "text": [
      "\r",
      "98.4%"
     ]
    },
    {
     "name": "stderr",
     "output_type": "stream",
     "text": [
      "\r",
      "98.5%"
     ]
    },
    {
     "name": "stderr",
     "output_type": "stream",
     "text": [
      "\r",
      "98.6%"
     ]
    },
    {
     "name": "stderr",
     "output_type": "stream",
     "text": [
      "\r",
      "98.7%"
     ]
    },
    {
     "name": "stderr",
     "output_type": "stream",
     "text": [
      "\r",
      "98.8%"
     ]
    },
    {
     "name": "stderr",
     "output_type": "stream",
     "text": [
      "\r",
      "98.8%"
     ]
    },
    {
     "name": "stderr",
     "output_type": "stream",
     "text": [
      "\r",
      "98.9%"
     ]
    },
    {
     "name": "stderr",
     "output_type": "stream",
     "text": [
      "\r",
      "99.0%"
     ]
    },
    {
     "name": "stderr",
     "output_type": "stream",
     "text": [
      "\r",
      "99.1%"
     ]
    },
    {
     "name": "stderr",
     "output_type": "stream",
     "text": [
      "\r",
      "99.2%"
     ]
    },
    {
     "name": "stderr",
     "output_type": "stream",
     "text": [
      "\r",
      "99.3%"
     ]
    },
    {
     "name": "stderr",
     "output_type": "stream",
     "text": [
      "\r",
      "99.3%"
     ]
    },
    {
     "name": "stderr",
     "output_type": "stream",
     "text": [
      "\r",
      "99.4%"
     ]
    },
    {
     "name": "stderr",
     "output_type": "stream",
     "text": [
      "\r",
      "99.5%"
     ]
    },
    {
     "name": "stderr",
     "output_type": "stream",
     "text": [
      "\r",
      "99.6%"
     ]
    },
    {
     "name": "stderr",
     "output_type": "stream",
     "text": [
      "\r",
      "99.7%"
     ]
    },
    {
     "name": "stderr",
     "output_type": "stream",
     "text": [
      "\r",
      "99.8%"
     ]
    },
    {
     "name": "stderr",
     "output_type": "stream",
     "text": [
      "\r",
      "99.8%"
     ]
    },
    {
     "name": "stderr",
     "output_type": "stream",
     "text": [
      "\r",
      "99.9%"
     ]
    },
    {
     "name": "stderr",
     "output_type": "stream",
     "text": [
      "\r",
      "100.0%"
     ]
    },
    {
     "name": "stderr",
     "output_type": "stream",
     "text": [
      "\r",
      "100.1%"
     ]
    },
    {
     "name": "stdout",
     "output_type": "stream",
     "text": [
      "Extracting ./data/MNIST/raw/train-images-idx3-ubyte.gz to ./data/MNIST/raw\n"
     ]
    },
    {
     "name": "stderr",
     "output_type": "stream",
     "text": [
      "\r",
      "0.0%"
     ]
    },
    {
     "name": "stderr",
     "output_type": "stream",
     "text": [
      "\r",
      "28.4%"
     ]
    },
    {
     "name": "stderr",
     "output_type": "stream",
     "text": [
      "\r",
      "56.7%"
     ]
    },
    {
     "name": "stderr",
     "output_type": "stream",
     "text": [
      "\r",
      "85.1%"
     ]
    },
    {
     "name": "stderr",
     "output_type": "stream",
     "text": [
      "\r",
      "113.5%"
     ]
    },
    {
     "name": "stderr",
     "output_type": "stream",
     "text": [
      "\r",
      "0.0%"
     ]
    },
    {
     "name": "stderr",
     "output_type": "stream",
     "text": [
      "\r",
      "0.5%"
     ]
    },
    {
     "name": "stdout",
     "output_type": "stream",
     "text": [
      "Downloading http://yann.lecun.com/exdb/mnist/train-labels-idx1-ubyte.gz to ./data/MNIST/raw/train-labels-idx1-ubyte.gz\n",
      "Extracting ./data/MNIST/raw/train-labels-idx1-ubyte.gz to ./data/MNIST/raw\n",
      "Downloading http://yann.lecun.com/exdb/mnist/t10k-images-idx3-ubyte.gz to ./data/MNIST/raw/t10k-images-idx3-ubyte.gz\n"
     ]
    },
    {
     "name": "stderr",
     "output_type": "stream",
     "text": [
      "\r",
      "1.0%"
     ]
    },
    {
     "name": "stderr",
     "output_type": "stream",
     "text": [
      "\r",
      "1.5%"
     ]
    },
    {
     "name": "stderr",
     "output_type": "stream",
     "text": [
      "\r",
      "2.0%"
     ]
    },
    {
     "name": "stderr",
     "output_type": "stream",
     "text": [
      "\r",
      "2.5%"
     ]
    },
    {
     "name": "stderr",
     "output_type": "stream",
     "text": [
      "\r",
      "3.0%"
     ]
    },
    {
     "name": "stderr",
     "output_type": "stream",
     "text": [
      "\r",
      "3.5%"
     ]
    },
    {
     "name": "stderr",
     "output_type": "stream",
     "text": [
      "\r",
      "4.0%"
     ]
    },
    {
     "name": "stderr",
     "output_type": "stream",
     "text": [
      "\r",
      "4.5%"
     ]
    },
    {
     "name": "stderr",
     "output_type": "stream",
     "text": [
      "\r",
      "5.0%"
     ]
    },
    {
     "name": "stderr",
     "output_type": "stream",
     "text": [
      "\r",
      "5.5%"
     ]
    },
    {
     "name": "stderr",
     "output_type": "stream",
     "text": [
      "\r",
      "6.0%"
     ]
    },
    {
     "name": "stderr",
     "output_type": "stream",
     "text": [
      "\r",
      "6.5%"
     ]
    },
    {
     "name": "stderr",
     "output_type": "stream",
     "text": [
      "\r",
      "7.0%"
     ]
    },
    {
     "name": "stderr",
     "output_type": "stream",
     "text": [
      "\r",
      "7.5%"
     ]
    },
    {
     "name": "stderr",
     "output_type": "stream",
     "text": [
      "\r",
      "7.9%"
     ]
    },
    {
     "name": "stderr",
     "output_type": "stream",
     "text": [
      "\r",
      "8.4%"
     ]
    },
    {
     "name": "stderr",
     "output_type": "stream",
     "text": [
      "\r",
      "8.9%"
     ]
    },
    {
     "name": "stderr",
     "output_type": "stream",
     "text": [
      "\r",
      "9.4%"
     ]
    },
    {
     "name": "stderr",
     "output_type": "stream",
     "text": [
      "\r",
      "9.9%"
     ]
    },
    {
     "name": "stderr",
     "output_type": "stream",
     "text": [
      "\r",
      "10.4%"
     ]
    },
    {
     "name": "stderr",
     "output_type": "stream",
     "text": [
      "\r",
      "10.9%"
     ]
    },
    {
     "name": "stderr",
     "output_type": "stream",
     "text": [
      "\r",
      "11.4%"
     ]
    },
    {
     "name": "stderr",
     "output_type": "stream",
     "text": [
      "\r",
      "11.9%"
     ]
    },
    {
     "name": "stderr",
     "output_type": "stream",
     "text": [
      "\r",
      "12.4%"
     ]
    },
    {
     "name": "stderr",
     "output_type": "stream",
     "text": [
      "\r",
      "12.9%"
     ]
    },
    {
     "name": "stderr",
     "output_type": "stream",
     "text": [
      "\r",
      "13.4%"
     ]
    },
    {
     "name": "stderr",
     "output_type": "stream",
     "text": [
      "\r",
      "13.9%"
     ]
    },
    {
     "name": "stderr",
     "output_type": "stream",
     "text": [
      "\r",
      "14.4%"
     ]
    },
    {
     "name": "stderr",
     "output_type": "stream",
     "text": [
      "\r",
      "14.9%"
     ]
    },
    {
     "name": "stderr",
     "output_type": "stream",
     "text": [
      "\r",
      "15.4%"
     ]
    },
    {
     "name": "stderr",
     "output_type": "stream",
     "text": [
      "\r",
      "15.9%"
     ]
    },
    {
     "name": "stderr",
     "output_type": "stream",
     "text": [
      "\r",
      "16.4%"
     ]
    },
    {
     "name": "stderr",
     "output_type": "stream",
     "text": [
      "\r",
      "16.9%"
     ]
    },
    {
     "name": "stderr",
     "output_type": "stream",
     "text": [
      "\r",
      "17.4%"
     ]
    },
    {
     "name": "stderr",
     "output_type": "stream",
     "text": [
      "\r",
      "17.9%"
     ]
    },
    {
     "name": "stderr",
     "output_type": "stream",
     "text": [
      "\r",
      "18.4%"
     ]
    },
    {
     "name": "stderr",
     "output_type": "stream",
     "text": [
      "\r",
      "18.9%"
     ]
    },
    {
     "name": "stderr",
     "output_type": "stream",
     "text": [
      "\r",
      "19.4%"
     ]
    },
    {
     "name": "stderr",
     "output_type": "stream",
     "text": [
      "\r",
      "19.9%"
     ]
    },
    {
     "name": "stderr",
     "output_type": "stream",
     "text": [
      "\r",
      "20.4%"
     ]
    },
    {
     "name": "stderr",
     "output_type": "stream",
     "text": [
      "\r",
      "20.9%"
     ]
    },
    {
     "name": "stderr",
     "output_type": "stream",
     "text": [
      "\r",
      "21.4%"
     ]
    },
    {
     "name": "stderr",
     "output_type": "stream",
     "text": [
      "\r",
      "21.9%"
     ]
    },
    {
     "name": "stderr",
     "output_type": "stream",
     "text": [
      "\r",
      "22.4%"
     ]
    },
    {
     "name": "stderr",
     "output_type": "stream",
     "text": [
      "\r",
      "22.9%"
     ]
    },
    {
     "name": "stderr",
     "output_type": "stream",
     "text": [
      "\r",
      "23.4%"
     ]
    },
    {
     "name": "stderr",
     "output_type": "stream",
     "text": [
      "\r",
      "23.8%"
     ]
    },
    {
     "name": "stderr",
     "output_type": "stream",
     "text": [
      "\r",
      "24.3%"
     ]
    },
    {
     "name": "stderr",
     "output_type": "stream",
     "text": [
      "\r",
      "24.8%"
     ]
    },
    {
     "name": "stderr",
     "output_type": "stream",
     "text": [
      "\r",
      "25.3%"
     ]
    },
    {
     "name": "stderr",
     "output_type": "stream",
     "text": [
      "\r",
      "25.8%"
     ]
    },
    {
     "name": "stderr",
     "output_type": "stream",
     "text": [
      "\r",
      "26.3%"
     ]
    },
    {
     "name": "stderr",
     "output_type": "stream",
     "text": [
      "\r",
      "26.8%"
     ]
    },
    {
     "name": "stderr",
     "output_type": "stream",
     "text": [
      "\r",
      "27.3%"
     ]
    },
    {
     "name": "stderr",
     "output_type": "stream",
     "text": [
      "\r",
      "27.8%"
     ]
    },
    {
     "name": "stderr",
     "output_type": "stream",
     "text": [
      "\r",
      "28.3%"
     ]
    },
    {
     "name": "stderr",
     "output_type": "stream",
     "text": [
      "\r",
      "28.8%"
     ]
    },
    {
     "name": "stderr",
     "output_type": "stream",
     "text": [
      "\r",
      "29.3%"
     ]
    },
    {
     "name": "stderr",
     "output_type": "stream",
     "text": [
      "\r",
      "29.8%"
     ]
    },
    {
     "name": "stderr",
     "output_type": "stream",
     "text": [
      "\r",
      "30.3%"
     ]
    },
    {
     "name": "stderr",
     "output_type": "stream",
     "text": [
      "\r",
      "30.8%"
     ]
    },
    {
     "name": "stderr",
     "output_type": "stream",
     "text": [
      "\r",
      "31.3%"
     ]
    },
    {
     "name": "stderr",
     "output_type": "stream",
     "text": [
      "\r",
      "31.8%"
     ]
    },
    {
     "name": "stderr",
     "output_type": "stream",
     "text": [
      "\r",
      "32.3%"
     ]
    },
    {
     "name": "stderr",
     "output_type": "stream",
     "text": [
      "\r",
      "32.8%"
     ]
    },
    {
     "name": "stderr",
     "output_type": "stream",
     "text": [
      "\r",
      "33.3%"
     ]
    },
    {
     "name": "stderr",
     "output_type": "stream",
     "text": [
      "\r",
      "33.8%"
     ]
    },
    {
     "name": "stderr",
     "output_type": "stream",
     "text": [
      "\r",
      "34.3%"
     ]
    },
    {
     "name": "stderr",
     "output_type": "stream",
     "text": [
      "\r",
      "34.8%"
     ]
    },
    {
     "name": "stderr",
     "output_type": "stream",
     "text": [
      "\r",
      "35.3%"
     ]
    },
    {
     "name": "stderr",
     "output_type": "stream",
     "text": [
      "\r",
      "35.8%"
     ]
    },
    {
     "name": "stderr",
     "output_type": "stream",
     "text": [
      "\r",
      "36.3%"
     ]
    },
    {
     "name": "stderr",
     "output_type": "stream",
     "text": [
      "\r",
      "36.8%"
     ]
    },
    {
     "name": "stderr",
     "output_type": "stream",
     "text": [
      "\r",
      "37.3%"
     ]
    },
    {
     "name": "stderr",
     "output_type": "stream",
     "text": [
      "\r",
      "37.8%"
     ]
    },
    {
     "name": "stderr",
     "output_type": "stream",
     "text": [
      "\r",
      "38.3%"
     ]
    },
    {
     "name": "stderr",
     "output_type": "stream",
     "text": [
      "\r",
      "38.8%"
     ]
    },
    {
     "name": "stderr",
     "output_type": "stream",
     "text": [
      "\r",
      "39.2%"
     ]
    },
    {
     "name": "stderr",
     "output_type": "stream",
     "text": [
      "\r",
      "39.7%"
     ]
    },
    {
     "name": "stderr",
     "output_type": "stream",
     "text": [
      "\r",
      "40.2%"
     ]
    },
    {
     "name": "stderr",
     "output_type": "stream",
     "text": [
      "\r",
      "40.7%"
     ]
    },
    {
     "name": "stderr",
     "output_type": "stream",
     "text": [
      "\r",
      "41.2%"
     ]
    },
    {
     "name": "stderr",
     "output_type": "stream",
     "text": [
      "\r",
      "41.7%"
     ]
    },
    {
     "name": "stderr",
     "output_type": "stream",
     "text": [
      "\r",
      "42.2%"
     ]
    },
    {
     "name": "stderr",
     "output_type": "stream",
     "text": [
      "\r",
      "42.7%"
     ]
    },
    {
     "name": "stderr",
     "output_type": "stream",
     "text": [
      "\r",
      "43.2%"
     ]
    },
    {
     "name": "stderr",
     "output_type": "stream",
     "text": [
      "\r",
      "43.7%"
     ]
    },
    {
     "name": "stderr",
     "output_type": "stream",
     "text": [
      "\r",
      "44.2%"
     ]
    },
    {
     "name": "stderr",
     "output_type": "stream",
     "text": [
      "\r",
      "44.7%"
     ]
    },
    {
     "name": "stderr",
     "output_type": "stream",
     "text": [
      "\r",
      "45.2%"
     ]
    },
    {
     "name": "stderr",
     "output_type": "stream",
     "text": [
      "\r",
      "45.7%"
     ]
    },
    {
     "name": "stderr",
     "output_type": "stream",
     "text": [
      "\r",
      "46.2%"
     ]
    },
    {
     "name": "stderr",
     "output_type": "stream",
     "text": [
      "\r",
      "46.7%"
     ]
    },
    {
     "name": "stderr",
     "output_type": "stream",
     "text": [
      "\r",
      "47.2%"
     ]
    },
    {
     "name": "stderr",
     "output_type": "stream",
     "text": [
      "\r",
      "47.7%"
     ]
    },
    {
     "name": "stderr",
     "output_type": "stream",
     "text": [
      "\r",
      "48.2%"
     ]
    },
    {
     "name": "stderr",
     "output_type": "stream",
     "text": [
      "\r",
      "48.7%"
     ]
    },
    {
     "name": "stderr",
     "output_type": "stream",
     "text": [
      "\r",
      "49.2%"
     ]
    },
    {
     "name": "stderr",
     "output_type": "stream",
     "text": [
      "\r",
      "49.7%"
     ]
    },
    {
     "name": "stderr",
     "output_type": "stream",
     "text": [
      "\r",
      "50.2%"
     ]
    },
    {
     "name": "stderr",
     "output_type": "stream",
     "text": [
      "\r",
      "50.7%"
     ]
    },
    {
     "name": "stderr",
     "output_type": "stream",
     "text": [
      "\r",
      "51.2%"
     ]
    },
    {
     "name": "stderr",
     "output_type": "stream",
     "text": [
      "\r",
      "51.7%"
     ]
    },
    {
     "name": "stderr",
     "output_type": "stream",
     "text": [
      "\r",
      "52.2%"
     ]
    },
    {
     "name": "stderr",
     "output_type": "stream",
     "text": [
      "\r",
      "52.7%"
     ]
    },
    {
     "name": "stderr",
     "output_type": "stream",
     "text": [
      "\r",
      "53.2%"
     ]
    },
    {
     "name": "stderr",
     "output_type": "stream",
     "text": [
      "\r",
      "53.7%"
     ]
    },
    {
     "name": "stderr",
     "output_type": "stream",
     "text": [
      "\r",
      "54.2%"
     ]
    },
    {
     "name": "stderr",
     "output_type": "stream",
     "text": [
      "\r",
      "54.7%"
     ]
    },
    {
     "name": "stderr",
     "output_type": "stream",
     "text": [
      "\r",
      "55.1%"
     ]
    },
    {
     "name": "stderr",
     "output_type": "stream",
     "text": [
      "\r",
      "55.6%"
     ]
    },
    {
     "name": "stderr",
     "output_type": "stream",
     "text": [
      "\r",
      "56.1%"
     ]
    },
    {
     "name": "stderr",
     "output_type": "stream",
     "text": [
      "\r",
      "56.6%"
     ]
    },
    {
     "name": "stderr",
     "output_type": "stream",
     "text": [
      "\r",
      "57.1%"
     ]
    },
    {
     "name": "stderr",
     "output_type": "stream",
     "text": [
      "\r",
      "57.6%"
     ]
    },
    {
     "name": "stderr",
     "output_type": "stream",
     "text": [
      "\r",
      "58.1%"
     ]
    },
    {
     "name": "stderr",
     "output_type": "stream",
     "text": [
      "\r",
      "58.6%"
     ]
    },
    {
     "name": "stderr",
     "output_type": "stream",
     "text": [
      "\r",
      "59.1%"
     ]
    },
    {
     "name": "stderr",
     "output_type": "stream",
     "text": [
      "\r",
      "59.6%"
     ]
    },
    {
     "name": "stderr",
     "output_type": "stream",
     "text": [
      "\r",
      "60.1%"
     ]
    },
    {
     "name": "stderr",
     "output_type": "stream",
     "text": [
      "\r",
      "60.6%"
     ]
    },
    {
     "name": "stderr",
     "output_type": "stream",
     "text": [
      "\r",
      "61.1%"
     ]
    },
    {
     "name": "stderr",
     "output_type": "stream",
     "text": [
      "\r",
      "61.6%"
     ]
    },
    {
     "name": "stderr",
     "output_type": "stream",
     "text": [
      "\r",
      "62.1%"
     ]
    },
    {
     "name": "stderr",
     "output_type": "stream",
     "text": [
      "\r",
      "62.6%"
     ]
    },
    {
     "name": "stderr",
     "output_type": "stream",
     "text": [
      "\r",
      "63.1%"
     ]
    },
    {
     "name": "stderr",
     "output_type": "stream",
     "text": [
      "\r",
      "63.6%"
     ]
    },
    {
     "name": "stderr",
     "output_type": "stream",
     "text": [
      "\r",
      "64.1%"
     ]
    },
    {
     "name": "stderr",
     "output_type": "stream",
     "text": [
      "\r",
      "64.6%"
     ]
    },
    {
     "name": "stderr",
     "output_type": "stream",
     "text": [
      "\r",
      "65.1%"
     ]
    },
    {
     "name": "stderr",
     "output_type": "stream",
     "text": [
      "\r",
      "65.6%"
     ]
    },
    {
     "name": "stderr",
     "output_type": "stream",
     "text": [
      "\r",
      "66.1%"
     ]
    },
    {
     "name": "stderr",
     "output_type": "stream",
     "text": [
      "\r",
      "66.6%"
     ]
    },
    {
     "name": "stderr",
     "output_type": "stream",
     "text": [
      "\r",
      "67.1%"
     ]
    },
    {
     "name": "stderr",
     "output_type": "stream",
     "text": [
      "\r",
      "67.6%"
     ]
    },
    {
     "name": "stderr",
     "output_type": "stream",
     "text": [
      "\r",
      "68.1%"
     ]
    },
    {
     "name": "stderr",
     "output_type": "stream",
     "text": [
      "\r",
      "68.6%"
     ]
    },
    {
     "name": "stderr",
     "output_type": "stream",
     "text": [
      "\r",
      "69.1%"
     ]
    },
    {
     "name": "stderr",
     "output_type": "stream",
     "text": [
      "\r",
      "69.6%"
     ]
    },
    {
     "name": "stderr",
     "output_type": "stream",
     "text": [
      "\r",
      "70.1%"
     ]
    },
    {
     "name": "stderr",
     "output_type": "stream",
     "text": [
      "\r",
      "70.5%"
     ]
    },
    {
     "name": "stderr",
     "output_type": "stream",
     "text": [
      "\r",
      "71.0%"
     ]
    },
    {
     "name": "stderr",
     "output_type": "stream",
     "text": [
      "\r",
      "71.5%"
     ]
    },
    {
     "name": "stderr",
     "output_type": "stream",
     "text": [
      "\r",
      "72.0%"
     ]
    },
    {
     "name": "stderr",
     "output_type": "stream",
     "text": [
      "\r",
      "72.5%"
     ]
    },
    {
     "name": "stderr",
     "output_type": "stream",
     "text": [
      "\r",
      "73.0%"
     ]
    },
    {
     "name": "stderr",
     "output_type": "stream",
     "text": [
      "\r",
      "73.5%"
     ]
    },
    {
     "name": "stderr",
     "output_type": "stream",
     "text": [
      "\r",
      "74.0%"
     ]
    },
    {
     "name": "stderr",
     "output_type": "stream",
     "text": [
      "\r",
      "74.5%"
     ]
    },
    {
     "name": "stderr",
     "output_type": "stream",
     "text": [
      "\r",
      "75.0%"
     ]
    },
    {
     "name": "stderr",
     "output_type": "stream",
     "text": [
      "\r",
      "75.5%"
     ]
    },
    {
     "name": "stderr",
     "output_type": "stream",
     "text": [
      "\r",
      "76.0%"
     ]
    },
    {
     "name": "stderr",
     "output_type": "stream",
     "text": [
      "\r",
      "76.5%"
     ]
    },
    {
     "name": "stderr",
     "output_type": "stream",
     "text": [
      "\r",
      "77.0%"
     ]
    },
    {
     "name": "stderr",
     "output_type": "stream",
     "text": [
      "\r",
      "77.5%"
     ]
    },
    {
     "name": "stderr",
     "output_type": "stream",
     "text": [
      "\r",
      "78.0%"
     ]
    },
    {
     "name": "stderr",
     "output_type": "stream",
     "text": [
      "\r",
      "78.5%"
     ]
    },
    {
     "name": "stderr",
     "output_type": "stream",
     "text": [
      "\r",
      "79.0%"
     ]
    },
    {
     "name": "stderr",
     "output_type": "stream",
     "text": [
      "\r",
      "79.5%"
     ]
    },
    {
     "name": "stderr",
     "output_type": "stream",
     "text": [
      "\r",
      "80.0%"
     ]
    },
    {
     "name": "stderr",
     "output_type": "stream",
     "text": [
      "\r",
      "80.5%"
     ]
    },
    {
     "name": "stderr",
     "output_type": "stream",
     "text": [
      "\r",
      "81.0%"
     ]
    },
    {
     "name": "stderr",
     "output_type": "stream",
     "text": [
      "\r",
      "81.5%"
     ]
    },
    {
     "name": "stderr",
     "output_type": "stream",
     "text": [
      "\r",
      "82.0%"
     ]
    },
    {
     "name": "stderr",
     "output_type": "stream",
     "text": [
      "\r",
      "82.5%"
     ]
    },
    {
     "name": "stderr",
     "output_type": "stream",
     "text": [
      "\r",
      "83.0%"
     ]
    },
    {
     "name": "stderr",
     "output_type": "stream",
     "text": [
      "\r",
      "83.5%"
     ]
    },
    {
     "name": "stderr",
     "output_type": "stream",
     "text": [
      "\r",
      "84.0%"
     ]
    },
    {
     "name": "stderr",
     "output_type": "stream",
     "text": [
      "\r",
      "84.5%"
     ]
    },
    {
     "name": "stderr",
     "output_type": "stream",
     "text": [
      "\r",
      "85.0%"
     ]
    },
    {
     "name": "stderr",
     "output_type": "stream",
     "text": [
      "\r",
      "85.5%"
     ]
    },
    {
     "name": "stderr",
     "output_type": "stream",
     "text": [
      "\r",
      "86.0%"
     ]
    },
    {
     "name": "stderr",
     "output_type": "stream",
     "text": [
      "\r",
      "86.4%"
     ]
    },
    {
     "name": "stderr",
     "output_type": "stream",
     "text": [
      "\r",
      "86.9%"
     ]
    },
    {
     "name": "stderr",
     "output_type": "stream",
     "text": [
      "\r",
      "87.4%"
     ]
    },
    {
     "name": "stderr",
     "output_type": "stream",
     "text": [
      "\r",
      "87.9%"
     ]
    },
    {
     "name": "stderr",
     "output_type": "stream",
     "text": [
      "\r",
      "88.4%"
     ]
    },
    {
     "name": "stderr",
     "output_type": "stream",
     "text": [
      "\r",
      "88.9%"
     ]
    },
    {
     "name": "stderr",
     "output_type": "stream",
     "text": [
      "\r",
      "89.4%"
     ]
    },
    {
     "name": "stderr",
     "output_type": "stream",
     "text": [
      "\r",
      "89.9%"
     ]
    },
    {
     "name": "stderr",
     "output_type": "stream",
     "text": [
      "\r",
      "90.4%"
     ]
    },
    {
     "name": "stderr",
     "output_type": "stream",
     "text": [
      "\r",
      "90.9%"
     ]
    },
    {
     "name": "stderr",
     "output_type": "stream",
     "text": [
      "\r",
      "91.4%"
     ]
    },
    {
     "name": "stderr",
     "output_type": "stream",
     "text": [
      "\r",
      "91.9%"
     ]
    },
    {
     "name": "stderr",
     "output_type": "stream",
     "text": [
      "\r",
      "92.4%"
     ]
    },
    {
     "name": "stderr",
     "output_type": "stream",
     "text": [
      "\r",
      "92.9%"
     ]
    },
    {
     "name": "stderr",
     "output_type": "stream",
     "text": [
      "\r",
      "93.4%"
     ]
    },
    {
     "name": "stderr",
     "output_type": "stream",
     "text": [
      "\r",
      "93.9%"
     ]
    },
    {
     "name": "stderr",
     "output_type": "stream",
     "text": [
      "\r",
      "94.4%"
     ]
    },
    {
     "name": "stderr",
     "output_type": "stream",
     "text": [
      "\r",
      "94.9%"
     ]
    },
    {
     "name": "stderr",
     "output_type": "stream",
     "text": [
      "\r",
      "95.4%"
     ]
    },
    {
     "name": "stderr",
     "output_type": "stream",
     "text": [
      "\r",
      "95.9%"
     ]
    },
    {
     "name": "stderr",
     "output_type": "stream",
     "text": [
      "\r",
      "96.4%"
     ]
    },
    {
     "name": "stderr",
     "output_type": "stream",
     "text": [
      "\r",
      "96.9%"
     ]
    },
    {
     "name": "stderr",
     "output_type": "stream",
     "text": [
      "\r",
      "97.4%"
     ]
    },
    {
     "name": "stderr",
     "output_type": "stream",
     "text": [
      "\r",
      "97.9%"
     ]
    },
    {
     "name": "stderr",
     "output_type": "stream",
     "text": [
      "\r",
      "98.4%"
     ]
    },
    {
     "name": "stderr",
     "output_type": "stream",
     "text": [
      "\r",
      "98.9%"
     ]
    },
    {
     "name": "stderr",
     "output_type": "stream",
     "text": [
      "\r",
      "99.4%"
     ]
    },
    {
     "name": "stderr",
     "output_type": "stream",
     "text": [
      "\r",
      "99.9%"
     ]
    },
    {
     "name": "stderr",
     "output_type": "stream",
     "text": [
      "\r",
      "100.4%"
     ]
    },
    {
     "name": "stderr",
     "output_type": "stream",
     "text": [
      "\r",
      "0.0%"
     ]
    },
    {
     "name": "stderr",
     "output_type": "stream",
     "text": [
      "\r",
      "180.4%"
     ]
    },
    {
     "name": "stdout",
     "output_type": "stream",
     "text": [
      "Extracting ./data/MNIST/raw/t10k-images-idx3-ubyte.gz to ./data/MNIST/raw\n",
      "Downloading http://yann.lecun.com/exdb/mnist/t10k-labels-idx1-ubyte.gz to ./data/MNIST/raw/t10k-labels-idx1-ubyte.gz\n",
      "Extracting ./data/MNIST/raw/t10k-labels-idx1-ubyte.gz to ./data/MNIST/raw\n",
      "Processing...\n"
     ]
    },
    {
     "name": "stdout",
     "output_type": "stream",
     "text": [
      "Done!\n"
     ]
    }
   ],
   "source": [
    "BATCH_SIZE = 512\n",
    "train_loader, valid_loader, test_loader = load_mnist(batch_size=BATCH_SIZE)"
   ]
  },
  {
   "cell_type": "markdown",
   "metadata": {},
   "source": [
    "## 2. Define function to optimize\n",
    "In this tutorial, we want to optimize classification accuracy on the validation set as a function of the learning rate and momentum. The function takes in a parameterization (set of parameter values), computes the classification accuracy, and returns a dictionary of metric name ('accuracy') to a tuple with the mean and standard error."
   ]
  },
  {
   "cell_type": "code",
   "execution_count": 4,
   "metadata": {
    "collapsed": true
   },
   "outputs": [],
   "source": [
    "def train_evaluate(parameterization):\n",
    "    net = CNN()\n",
    "    net = train(net=net, train_loader=train_loader, parameters=parameterization, dtype=dtype, device=device)\n",
    "    return evaluate(\n",
    "        net=net,\n",
    "        data_loader=valid_loader,\n",
    "        dtype=dtype,\n",
    "        device=device,\n",
    "    )"
   ]
  },
  {
   "cell_type": "markdown",
   "metadata": {},
   "source": [
    "## 3. Run the optimization loop\n",
    "Here, we set the bounds on the learning rate and momentum and set the parameter space for the learning rate to be on a log scale. "
   ]
  },
  {
   "cell_type": "code",
   "execution_count": 5,
   "metadata": {},
   "outputs": [
    {
     "name": "stderr",
     "output_type": "stream",
     "text": [
      "[INFO 08-10 19:45:01] ax.service.utils.dispatch: Using Bayesian Optimization generation strategy. Iterations after 5 will take longer to generate due to model-fitting.\n"
     ]
    },
    {
     "name": "stderr",
     "output_type": "stream",
     "text": [
      "[INFO 08-10 19:45:01] ax.service.managed_loop: Started full optimization with 20 steps.\n"
     ]
    },
    {
     "name": "stderr",
     "output_type": "stream",
     "text": [
      "[INFO 08-10 19:45:01] ax.service.managed_loop: Running optimization trial 1...\n"
     ]
    },
    {
     "name": "stderr",
     "output_type": "stream",
     "text": [
      "[INFO 08-10 19:45:14] ax.service.managed_loop: Running optimization trial 2...\n"
     ]
    },
    {
     "name": "stderr",
     "output_type": "stream",
     "text": [
      "[INFO 08-10 19:45:27] ax.service.managed_loop: Running optimization trial 3...\n"
     ]
    },
    {
     "name": "stderr",
     "output_type": "stream",
     "text": [
      "[INFO 08-10 19:45:40] ax.service.managed_loop: Running optimization trial 4...\n"
     ]
    },
    {
     "name": "stderr",
     "output_type": "stream",
     "text": [
      "[INFO 08-10 19:45:53] ax.service.managed_loop: Running optimization trial 5...\n"
     ]
    },
    {
     "name": "stderr",
     "output_type": "stream",
     "text": [
      "[INFO 08-10 19:46:06] ax.service.managed_loop: Running optimization trial 6...\n"
     ]
    },
    {
     "name": "stderr",
     "output_type": "stream",
     "text": [
      "[INFO 08-10 19:46:19] ax.service.managed_loop: Running optimization trial 7...\n"
     ]
    },
    {
     "name": "stderr",
     "output_type": "stream",
     "text": [
      "[INFO 08-10 19:46:33] ax.service.managed_loop: Running optimization trial 8...\n"
     ]
    },
    {
     "name": "stderr",
     "output_type": "stream",
     "text": [
      "[INFO 08-10 19:46:48] ax.service.managed_loop: Running optimization trial 9...\n"
     ]
    },
    {
     "name": "stderr",
     "output_type": "stream",
     "text": [
      "[INFO 08-10 19:47:02] ax.service.managed_loop: Running optimization trial 10...\n"
     ]
    },
    {
     "name": "stderr",
     "output_type": "stream",
     "text": [
      "[INFO 08-10 19:47:16] ax.service.managed_loop: Running optimization trial 11...\n"
     ]
    },
    {
     "name": "stderr",
     "output_type": "stream",
     "text": [
      "[INFO 08-10 19:47:30] ax.service.managed_loop: Running optimization trial 12...\n"
     ]
    },
    {
     "name": "stderr",
     "output_type": "stream",
     "text": [
      "[INFO 08-10 19:47:44] ax.service.managed_loop: Running optimization trial 13...\n"
     ]
    },
    {
     "name": "stderr",
     "output_type": "stream",
     "text": [
      "[INFO 08-10 19:47:57] ax.service.managed_loop: Running optimization trial 14...\n"
     ]
    },
    {
     "name": "stderr",
     "output_type": "stream",
     "text": [
      "[INFO 08-10 19:48:11] ax.service.managed_loop: Running optimization trial 15...\n"
     ]
    },
    {
     "name": "stderr",
     "output_type": "stream",
     "text": [
      "[INFO 08-10 19:48:26] ax.service.managed_loop: Running optimization trial 16...\n"
     ]
    },
    {
     "name": "stderr",
     "output_type": "stream",
     "text": [
      "[INFO 08-10 19:48:39] ax.service.managed_loop: Running optimization trial 17...\n"
     ]
    },
    {
     "name": "stderr",
     "output_type": "stream",
     "text": [
      "[INFO 08-10 19:48:53] ax.service.managed_loop: Running optimization trial 18...\n"
     ]
    },
    {
     "name": "stderr",
     "output_type": "stream",
     "text": [
      "[INFO 08-10 19:49:08] ax.service.managed_loop: Running optimization trial 19...\n"
     ]
    },
    {
     "name": "stderr",
     "output_type": "stream",
     "text": [
      "[INFO 08-10 19:49:23] ax.service.managed_loop: Running optimization trial 20...\n"
     ]
    }
   ],
   "source": [
    "best_parameters, values, experiment, model = optimize(\n",
    "    parameters=[\n",
    "        {\"name\": \"lr\", \"type\": \"range\", \"bounds\": [1e-6, 0.4], \"log_scale\": True},\n",
    "        {\"name\": \"momentum\", \"type\": \"range\", \"bounds\": [0.0, 1.0]},\n",
    "    ],\n",
    "    evaluation_function=train_evaluate,\n",
    "    objective_name='accuracy',\n",
    ")"
   ]
  },
  {
   "cell_type": "markdown",
   "metadata": {},
   "source": [
    "We can introspect the optimal parameters and their outcomes:"
   ]
  },
  {
   "cell_type": "code",
   "execution_count": 6,
   "metadata": {},
   "outputs": [
    {
     "data": {
      "text/plain": [
       "{'lr': 0.00020605478566810832, 'momentum': 0.5800885198799027}"
      ]
     },
     "execution_count": 6,
     "metadata": {},
     "output_type": "execute_result"
    }
   ],
   "source": [
    "best_parameters"
   ]
  },
  {
   "cell_type": "code",
   "execution_count": 7,
   "metadata": {},
   "outputs": [
    {
     "data": {
      "text/plain": [
       "({'accuracy': 0.9374996998951289},\n",
       " {'accuracy': {'accuracy': 8.904721084248554e-09}})"
      ]
     },
     "execution_count": 7,
     "metadata": {},
     "output_type": "execute_result"
    }
   ],
   "source": [
    "means, covariances = values\n",
    "means, covariances"
   ]
  },
  {
   "cell_type": "markdown",
   "metadata": {},
   "source": [
    "## 4. Plot response surface\n",
    "\n",
    "Contour plot showing classification accuracy as a function of the two hyperparameters.\n",
    "\n",
    "The black squares show points that we have actually run, notice how they are clustered in the optimal region."
   ]
  },
  {
   "cell_type": "code",
   "execution_count": 8,
   "metadata": {},
   "outputs": [
    {
     "data": {
      "text/html": [
       "<div id=\"7b143225150d4016b863916df76c20bf\" style=\"width: 100%;\" class=\"plotly-graph-div\"></div><script type='text/javascript'>/*\n",
       " * Copyright (c) Facebook, Inc. and its affiliates. All Rights Reserved.\n",
       " */\n",
       "\n",
       "require(['plotly'], function(Plotly) {\n",
       "  window.PLOTLYENV = window.PLOTLYENV || {};\n",
       "  window.PLOTLYENV.BASE_URL = 'https://plot.ly';\n",
       "  /*\n",
       " * Copyright (c) Facebook, Inc. and its affiliates. All Rights Reserved.\n",
       " */\n",
       "\n",
       "const arm_data = {\"metrics\": [\"accuracy\"], \"in_sample\": {\"0_0\": {\"name\": \"0_0\", \"parameters\": {\"lr\": 1.0643625826291688e-05, \"momentum\": 0.3784918487071991}, \"y\": {\"accuracy\": 0.6808333333333333}, \"y_hat\": {\"accuracy\": 0.6808333377402158}, \"se\": {\"accuracy\": 0.0}, \"se_hat\": {\"accuracy\": 9.43649090076486e-05}, \"context_stratum\": null}, \"1_0\": {\"name\": \"1_0\", \"parameters\": {\"lr\": 4.75261951228043e-05, \"momentum\": 0.9786854386329651}, \"y\": {\"accuracy\": 0.8658333333333333}, \"y_hat\": {\"accuracy\": 0.865833304833145}, \"se\": {\"accuracy\": 0.0}, \"se_hat\": {\"accuracy\": 9.436490272168213e-05}, \"context_stratum\": null}, \"2_0\": {\"name\": \"2_0\", \"parameters\": {\"lr\": 0.06972928313462798, \"momentum\": 0.003892902284860611}, \"y\": {\"accuracy\": 0.093}, \"y_hat\": {\"accuracy\": 0.0930000169560673}, \"se\": {\"accuracy\": 0.0}, \"se_hat\": {\"accuracy\": 9.436491057914015e-05}, \"context_stratum\": null}, \"3_0\": {\"name\": \"3_0\", \"parameters\": {\"lr\": 0.3121574733843467, \"momentum\": 0.7941274642944336}, \"y\": {\"accuracy\": 0.111}, \"y_hat\": {\"accuracy\": 0.11100001439746898}, \"se\": {\"accuracy\": 0.0}, \"se_hat\": {\"accuracy\": 9.436491047437406e-05}, \"context_stratum\": null}, \"4_0\": {\"name\": \"4_0\", \"parameters\": {\"lr\": 0.00021821160838682253, \"momentum\": 0.19238188862800598}, \"y\": {\"accuracy\": 0.91}, \"y_hat\": {\"accuracy\": 0.9099999266146116}, \"se\": {\"accuracy\": 0.0}, \"se_hat\": {\"accuracy\": 9.436486909175446e-05}, \"context_stratum\": null}, \"5_0\": {\"name\": \"5_0\", \"parameters\": {\"lr\": 0.00020605478566810832, \"momentum\": 0.5800885198799027}, \"y\": {\"accuracy\": 0.9375}, \"y_hat\": {\"accuracy\": 0.9374996998951289}, \"se\": {\"accuracy\": 0.0}, \"se_hat\": {\"accuracy\": 9.436482969967441e-05}, \"context_stratum\": null}, \"6_0\": {\"name\": \"6_0\", \"parameters\": {\"lr\": 0.0003774785799819944, \"momentum\": 1.0}, \"y\": {\"accuracy\": 0.093}, \"y_hat\": {\"accuracy\": 0.09300004478061508}, \"se\": {\"accuracy\": 0.0}, \"se_hat\": {\"accuracy\": 9.436490890288249e-05}, \"context_stratum\": null}, \"7_0\": {\"name\": \"7_0\", \"parameters\": {\"lr\": 7.623875644612203e-05, \"momentum\": 0.5058928787550231}, \"y\": {\"accuracy\": 0.904}, \"y_hat\": {\"accuracy\": 0.9039999116803437}, \"se\": {\"accuracy\": 0.0}, \"se_hat\": {\"accuracy\": 9.436486081522838e-05}, \"context_stratum\": null}, \"8_0\": {\"name\": \"8_0\", \"parameters\": {\"lr\": 1.1125668436857937e-05, \"momentum\": 0.8917213118083964}, \"y\": {\"accuracy\": 0.8445}, \"y_hat\": {\"accuracy\": 0.8444999872949643}, \"se\": {\"accuracy\": 0.0}, \"se_hat\": {\"accuracy\": 9.436490795998756e-05}, \"context_stratum\": null}, \"9_0\": {\"name\": \"9_0\", \"parameters\": {\"lr\": 0.0002904762099576347, \"momentum\": 0.3987773689678219}, \"y\": {\"accuracy\": 0.9155}, \"y_hat\": {\"accuracy\": 0.9154998962521778}, \"se\": {\"accuracy\": 0.0}, \"se_hat\": {\"accuracy\": 9.436482488042944e-05}, \"context_stratum\": null}, \"10_0\": {\"name\": \"10_0\", \"parameters\": {\"lr\": 4.0785272688169716e-05, \"momentum\": 0.7667428701091736}, \"y\": {\"accuracy\": 0.9033333333333333}, \"y_hat\": {\"accuracy\": 0.9033333447382501}, \"se\": {\"accuracy\": 0.0}, \"se_hat\": {\"accuracy\": 9.436489046404634e-05}, \"context_stratum\": null}, \"11_0\": {\"name\": \"11_0\", \"parameters\": {\"lr\": 0.00016041116656014657, \"momentum\": 0.48516619436885905}, \"y\": {\"accuracy\": 0.9051666666666667}, \"y_hat\": {\"accuracy\": 0.905166973278521}, \"se\": {\"accuracy\": 0.0}, \"se_hat\": {\"accuracy\": 9.436477804992751e-05}, \"context_stratum\": null}, \"12_0\": {\"name\": \"12_0\", \"parameters\": {\"lr\": 0.0008993410676900694, \"momentum\": 0.17757886126681244}, \"y\": {\"accuracy\": 0.9361666666666667}, \"y_hat\": {\"accuracy\": 0.9361666165851517}, \"se\": {\"accuracy\": 0.0}, \"se_hat\": {\"accuracy\": 9.436486416774536e-05}, \"context_stratum\": null}, \"13_0\": {\"name\": \"13_0\", \"parameters\": {\"lr\": 0.00045041577797901906, \"momentum\": 3.4266206316996394e-16}, \"y\": {\"accuracy\": 0.6961666666666667}, \"y_hat\": {\"accuracy\": 0.6961667164969684}, \"se\": {\"accuracy\": 0.0}, \"se_hat\": {\"accuracy\": 9.436489800720703e-05}, \"context_stratum\": null}, \"14_0\": {\"name\": \"14_0\", \"parameters\": {\"lr\": 0.0006648844817673925, \"momentum\": 0.2749977324910003}, \"y\": {\"accuracy\": 0.904}, \"y_hat\": {\"accuracy\": 0.903999893164984}, \"se\": {\"accuracy\": 0.0}, \"se_hat\": {\"accuracy\": 9.436477165918607e-05}, \"context_stratum\": null}, \"15_0\": {\"name\": \"15_0\", \"parameters\": {\"lr\": 9.770797118745644e-05, \"momentum\": 0.6350559002736024}, \"y\": {\"accuracy\": 0.9106666666666666}, \"y_hat\": {\"accuracy\": 0.9106667294763376}, \"se\": {\"accuracy\": 0.0}, \"se_hat\": {\"accuracy\": 9.436485128150755e-05}, \"context_stratum\": null}, \"16_0\": {\"name\": \"16_0\", \"parameters\": {\"lr\": 0.000649702453382717, \"momentum\": 0.5241330670851152}, \"y\": {\"accuracy\": 0.4075}, \"y_hat\": {\"accuracy\": 0.40750015178492177}, \"se\": {\"accuracy\": 0.0}, \"se_hat\": {\"accuracy\": 9.436489308319941e-05}, \"context_stratum\": null}, \"17_0\": {\"name\": \"17_0\", \"parameters\": {\"lr\": 0.00039328264831876267, \"momentum\": 0.23258227660287822}, \"y\": {\"accuracy\": 0.923}, \"y_hat\": {\"accuracy\": 0.9230001118056015}, \"se\": {\"accuracy\": 0.0}, \"se_hat\": {\"accuracy\": 9.436476956386091e-05}, \"context_stratum\": null}, \"18_0\": {\"name\": \"18_0\", \"parameters\": {\"lr\": 5.112845229701247e-05, \"momentum\": 0.1640093020205944}, \"y\": {\"accuracy\": 0.8518333333333333}, \"y_hat\": {\"accuracy\": 0.8518333222244951}, \"se\": {\"accuracy\": 0.0}, \"se_hat\": {\"accuracy\": 9.436490502653656e-05}, \"context_stratum\": null}}, \"out_of_sample\": {}, \"status_quo_name\": null};\n",
       "const density = 50;\n",
       "const grid_x = [1e-06, 1.3011511650442548e-06, 1.692994354296022e-06, 2.2028415765056147e-06, 2.866229883678204e-06, 3.729398352432554e-06, 4.852511011181743e-06, 6.3138503555892e-06, 8.215273746089953e-06, 1.0689313005882424e-05, 1.390841207112662e-05, 1.809694657026198e-05, 2.354686311364001e-05, 3.063802837345029e-05, 3.986470631277378e-05, 5.1870009063012666e-05, 6.749072272319499e-05, 8.781563250096393e-05, 0.00011426141253772724, 0.00014867137004306603, 0.00019344392634026088, 0.0002516997901283655, 0.0003274994751669172, 0.0004261263236648159, 0.0005544547624925005, 0.0007214294601814526, 0.000938688782612345, 0.0012213760031100258, 0.0015891948094037057, 0.002067782677737912, 0.0026904978401970136, 0.0035007443993213955, 0.004554997653699184, 0.005926740503884541, 0.007711585311544345, 0.010033938212454078, 0.013055670395116691, 0.01698740074503987, 0.02210317627048227, 0.028759573555516536, 0.03742055263793628, 0.04868979566145066, 0.06335278435066323, 0.0824315491666629, 0.10725590623460621, 0.13955614735503497, 0.18158364372009145, 0.23626776957937787, 0.3074200836506151, 0.4];\n",
       "const grid_y = [0.0, 0.02040816326530612, 0.04081632653061224, 0.061224489795918366, 0.08163265306122448, 0.1020408163265306, 0.12244897959183673, 0.14285714285714285, 0.16326530612244897, 0.18367346938775508, 0.2040816326530612, 0.22448979591836732, 0.24489795918367346, 0.26530612244897955, 0.2857142857142857, 0.3061224489795918, 0.32653061224489793, 0.3469387755102041, 0.36734693877551017, 0.3877551020408163, 0.4081632653061224, 0.42857142857142855, 0.44897959183673464, 0.4693877551020408, 0.4897959183673469, 0.5102040816326531, 0.5306122448979591, 0.5510204081632653, 0.5714285714285714, 0.5918367346938775, 0.6122448979591836, 0.6326530612244897, 0.6530612244897959, 0.673469387755102, 0.6938775510204082, 0.7142857142857142, 0.7346938775510203, 0.7551020408163265, 0.7755102040816326, 0.7959183673469387, 0.8163265306122448, 0.836734693877551, 0.8571428571428571, 0.8775510204081632, 0.8979591836734693, 0.9183673469387754, 0.9387755102040816, 0.9591836734693877, 0.9795918367346939, 1.0];\n",
       "const f = [0.43340195108016416, 0.43982052482845413, 0.44782669632202526, 0.457783183125818, 0.4701066007963891, 0.48524789627336956, 0.5036478092237422, 0.5256575974658653, 0.5514208628713071, 0.580726706545742, 0.6128653124740581, 0.6465335059627205, 0.6798399529482949, 0.7104540143055862, 0.7359401862623653, 0.7542856847337489, 0.7644301251998511, 0.7662960642373499, 0.7601780540657691, 0.7463874160271007, 0.7262589612141629, 0.7044363822909312, 0.689979131425031, 0.6928462803311733, 0.7158941228506939, 0.7489228743505834, 0.7754815586138352, 0.7834612146005608, 0.7691989843471541, 0.7356024479884381, 0.6883573672897321, 0.6331424770620169, 0.5743540040103914, 0.5148465029830069, 0.45617335802696396, 0.39900836543598195, 0.34359398569320504, 0.2901567609884355, 0.23927129985221496, 0.19215742734819496, 0.1508674674626691, 0.11825834495339971, 0.09753091228928235, 0.09093531818649003, 0.09781686711010162, 0.1150434881618323, 0.13894251550275327, 0.1663003389243246, 0.19467885269675445, 0.2224080663207323, 0.4343430187666591, 0.44096995627781893, 0.44922609179463147, 0.4594851703189747, 0.47217996623967384, 0.4877843842186944, 0.5067696168795596, 0.5295229191376722, 0.5562229119324322, 0.5866811390511679, 0.6201840414872778, 0.6553891008897857, 0.6903298632792411, 0.7225754030815321, 0.7495900373191589, 0.7693174232372006, 0.7808004120616134, 0.7842126891595035, 0.7800414279481326, 0.7684802599925837, 0.7504017661139006, 0.7300303126387486, 0.7165702870131299, 0.720449558803048, 0.7444344829714772, 0.7775524183891497, 0.8025285989626624, 0.8071499343731634, 0.7884557618191785, 0.7502589766342377, 0.6988793798533987, 0.6402810065292335, 0.5788986100280018, 0.517495224479934, 0.457484471335228, 0.39939807259106147, 0.34335514661172817, 0.28948423581499066, 0.23828663562876484, 0.19092979691751932, 0.14942984166651663, 0.11661861448403743, 0.09567757374627106, 0.08883999646366358, 0.09546491531510315, 0.1124519226636489, 0.13615371588325353, 0.16337565415792554, 0.19169175271646244, 0.21943668311206743, 0.43532018830299857, 0.44216008474660756, 0.4506691380958186, 0.46123081544684, 0.4742925129254631, 0.49034957296336384, 0.5099025504584416, 0.533374461543881, 0.5609796024856247, 0.5925527145116776, 0.6273759448464227, 0.6640647464679463, 0.700573392294235, 0.7343666461512036, 0.7628057628951617, 0.783790893084254, 0.7964871555626215, 0.8013743113669521, 0.7991984957364131, 0.7900667598094834, 0.7743335042680219, 0.755675850371943, 0.7433699161315687, 0.7482905990460414, 0.7730194880399003, 0.8058313166274421, 0.8287335103295068, 0.8295414584639359, 0.8061302531088765, 0.7632605762017073, 0.7078449263641329, 0.6460667516044308, 0.5823433398514177, 0.5193094053902705, 0.4582192897096128, 0.3994553971791487, 0.34301365462022193, 0.28892820393468305, 0.237630869953443, 0.1902377719480226, 0.1487234285606972, 0.11587755974423941, 0.09482573334980715, 0.08773159027976796, 0.09398433358310221, 0.11057423533278321, 0.13391598563057994, 0.1608533737396881, 0.18898156500918062, 0.2166426420081452, 0.4363361202248562, 0.4433943890388523, 0.4521601851062247, 0.4630252516147391, 0.47644982568696637, 0.492948807120129, 0.5130505743397747, 0.5372132284798938, 0.5656870833489729, 0.5983306348228727, 0.6344208791417069, 0.6725279242703504, 0.710521714515886, 0.7457578381890754, 0.7754912858930469, 0.7975776773020645, 0.8113203262985348, 0.8175596031240149, 0.8173720040116623, 0.8108217374926439, 0.7976965677421154, 0.7809802972592791, 0.7699250461097197, 0.7758383790023835, 0.801076989428148, 0.833165613033111, 0.8535002337882402, 0.8500790508603611, 0.8217475869331881, 0.7742325101647803, 0.7149743089728002, 0.6502988253576568, 0.5845476203293745, 0.5201922206431102, 0.4583114240279637, 0.3991342611898828, 0.3425362066744225, 0.2884624716925187, 0.23728045140133114, 0.19005659563716915, 0.14871856788969162, 0.1159968454913316, 0.09492627605359683, 0.08756321407386047, 0.09333859845019665, 0.10938188278123473, 0.13220634495485872, 0.15871446072624829, 0.1865322499136305, 0.21401241514240044, 0.43739356971353494, 0.4446765552340525, 0.45370396406934954, 0.4648742455885777, 0.47865846395239553, 0.4955888295625173, 0.5162195263076703, 0.5410425743312789, 0.5703443038620506, 0.6040073579849714, 0.6413024987704762, 0.6807506194449806, 0.7201313963487427, 0.7566853835030478, 0.787557682625701, 0.81055785104077, 0.8251394990447282, 0.8325548414104376, 0.8342847606481862, 0.830408349977392, 0.820111727645185, 0.8055236600112889, 0.7957481668897168, 0.8025190163700269, 0.8279773367699353, 0.8588974146656014, 0.8761750984888774, 0.8681665539300025, 0.8348146312217515, 0.7827968876365561, 0.719992608864868, 0.65278403791785, 0.5853786346140907, 0.5200532422376675, 0.45769889993956864, 0.39839074877530184, 0.34188921524860777, 0.28805782623174064, 0.23720558323985635, 0.19035128227022546, 0.14937040660550183, 0.11691730312313975, 0.09590596915360228, 0.088263932871388, 0.0934712885142327, 0.10883156627819268, 0.13099122081939085, 0.1569323770035035, 0.18432251071774597, 0.21152884046852893, 0.4384953481565152, 0.44601043180047273, 0.45530554009251617, 0.46678415629413134, 0.48092594182474613, 0.4982778065554989, 0.5194172157923724, 0.5448683995842002, 0.5749533227639183, 0.6095790438297259, 0.6480088997273765, 0.6887103023792946, 0.7293659851011848, 0.7670945453916087, 0.7989268316939501, 0.8226250163331197, 0.8378010732812993, 0.8461633654044544, 0.849671007934999, 0.8484904763927855, 0.8411915051566551, 0.828877515870132, 0.8203467677068553, 0.8277515780023844, 0.8530642177311674, 0.8823247074325473, 0.8960619496128803, 0.8831835604105063, 0.844834142022969, 0.7885838643275384, 0.7226377493268735, 0.6533424102383595, 0.5847149878170728, 0.5188108490476484, 0.4563257572371908, 0.39718421778230645, 0.3410396725437857, 0.2876828559248155, 0.23737122095071117, 0.19107811626118631, 0.15062150453220247, 0.11856386400793117, 0.09767537064056797, 0.08974613337176429, 0.09431020716891514, 0.10886740949345042, 0.13022767485868258, 0.1554738236629618, 0.18232626955452436, 0.20917144802917187, 0.4396442777579132, 0.4473999739774001, 0.45697024860340135, 0.4687618702980423, 0.4832606769808832, 0.5010253139134969, 0.5226534780041847, 0.5486992999056373, 0.5795195656928549, 0.6150459329854925, 0.6545331665702, 0.6963907753180604, 0.738197461406014, 0.7769420167278306, 0.809535421128185, 0.8336918183074841, 0.8491861580457778, 0.8582159020686342, 0.8632895217386833, 0.8647480401381408, 0.8605564385167221, 0.8506263434866188, 0.8432535911760753, 0.8509798472198397, 0.8756837263917462, 0.9027244756553502, 0.9124420757923691, 0.8945054006125766, 0.8513219030708713, 0.7912442637869108, 0.7226691372267363, 0.6518128734458446, 0.582450395302586, 0.5163946076546018, 0.45414362143461545, 0.39547841143686846, 0.3399560614607402, 0.2873048856370436, 0.23773828430065402, 0.1921865069507942, 0.15240493567611924, 0.1208507014461927, 0.10013525417045033, 0.09191187386589239, 0.0957719149686388, 0.10942362595275545, 0.1298649757453545, 0.15429970569412121, 0.18051328894862795, 0.20691688252557705, 0.4408431393255748, 0.44884917731218016, 0.4587036150816083, 0.47081471243660816, 0.48567190449744285, 0.5038422772249473, 0.5259401735557302, 0.5525466557384502, 0.5840520157416687, 0.6204126374288181, 0.6608737852234166, 0.7037828100751885, 0.746607407096015, 0.7861982716211415, 0.8193392025562907, 0.8436958864542985, 0.859208776221696, 0.8685811406244931, 0.8749378424395534, 0.8788952007330428, 0.8778543696631002, 0.8703902065430129, 0.8640549707083404, 0.8716994185930494, 0.8952098790249376, 0.9193782295150644, 0.9245994186335497, 0.9015281518632234, 0.8538263135623216, 0.7904630956434707, 0.7198765255666242, 0.6480589290435825, 0.5784972559642112, 0.5127475400509574, 0.4511131944170117, 0.39324253276753035, 0.3386092794842147, 0.2868909827741535, 0.2382650060584906, 0.19362103452191026, 0.15464751136912835, 0.1236859026187993, 0.10318170731984089, 0.09465801272184515, 0.09776605360474255, 0.11042737998808261, 0.12984638836623486, 0.15336626382092333, 0.17884991221372293, 0.2047394092257011, 0.44209461356639146, 0.4503620005501469, 0.46051125783671043, 0.47295033034562617, 0.4881695523070905, 0.5067408594374307, 0.529291122658311, 0.5564246483072748, 0.5885633210361254, 0.6256883220652195, 0.6670348874834702, 0.7108845063849559, 0.7545877267230556, 0.7948493429541179, 0.8283171210888842, 0.8526061552490272, 0.8678237174755705, 0.8771756942028502, 0.8844666636869436, 0.8907008544282773, 0.8927832863838153, 0.8878482237032488, 0.8824149223701363, 0.8894787296263656, 0.9110653113415796, 0.9315997384883603, 0.9318520657337859, 0.9036982104243562, 0.8519493762401873, 0.7859732588305052, 0.7140886709799592, 0.6419740198433361, 0.57278996387146, 0.5078281912208634, 0.44720561008604687, 0.39045224341649765, 0.33697353971428684, 0.2864089867274542, 0.23890833606488848, 0.19532353098103195, 0.15727284135578112, 0.12697540789510875, 0.10671012388625423, 0.09788025449821713, 0.10019914311747968, 0.11180159769729026, 0.13011105440153625, 0.15262631207320332, 0.17729989233474508, 0.20261148793762473, 0.4434012164424973, 0.4519422784273296, 0.4623987741451685, 0.47517655241609097, 0.4907640759157046, 0.5097342898042233, 0.5327219628051575, 0.5603501868725881, 0.5930698028657078, 0.630886758687096, 0.6730262994513069, 0.7177013139779702, 0.7621407754586149, 0.802897599272596, 0.8364743393508275, 0.8604294209061027, 0.8750327985362196, 0.8839724240705029, 0.8917930372962327, 0.9000098167748902, 0.9051186739515154, 0.9027627978818584, 0.8980917186292494, 0.9039718765563478, 0.9227358053540834, 0.9387643209325357, 0.9335915915126476, 0.9005443818190192, 0.8453675257708015, 0.7775685825810229, 0.7051813210805845, 0.6334863512388655, 0.565287810593883, 0.5016124110509852, 0.4424036025003356, 0.3870905494116863, 0.3350272135117104, 0.2858285148126078, 0.23962532443063428, 0.1972350672848191, 0.16020405691530104, 0.1306261841886841, 0.11061828321722245, 0.10147628922355789, 0.10297774741604626, 0.11346756074062259, 0.1305958562480951, 0.15203052195278122, 0.17582527812706428, 0.20050439863518488, 0.4447652293712796, 0.45359362529648106, 0.46437161067615373, 0.47750121965389525, 0.49346625131277283, 0.5128366295006492, 0.5362499192412974, 0.5643427310411244, 0.5975913472597603, 0.636026235952087, 0.6788633749920465, 0.7242456851291672, 0.7692787973961922, 0.8103611554792919, 0.8438425552307838, 0.8672138671914446, 0.880887845326391, 0.8890061200028223, 0.8969108544545221, 0.9067614606727391, 0.9147451252081373, 0.9150034113371319, 0.9109421096899457, 0.9149204622762022, 0.9297779872834885, 0.9403363470144178, 0.9293292234236566, 0.8917081355021308, 0.8338504421866639, 0.765115318682447, 0.6930840666766662, 0.6225629098519647, 0.5559773381126273, 0.4940947710038931, 0.4367024381914216, 0.38314853926826903, 0.332753581503888, 0.28512190160297485, 0.2403744188234619, 0.1992977530397364, 0.16336611194930395, 0.13454869582502527, 0.1148086798987944, 0.10534818442024951, 0.10601101932400758, 0.11534718919302422, 0.1312371817132295, 0.15152870128364315, 0.17438732803076185, 0.19838890230448614, 0.446188625283047, 0.45531933091214577, 0.4664349198091452, 0.479931993036398, 0.4962869267042537, 0.5160624712856978, 0.5398934788032711, 0.5684239910989837, 0.6021511617937331, 0.6411293110910898, 0.6845666053810339, 0.7305363556194322, 0.7760226624558881, 0.8172717871332436, 0.8504766486641132, 0.8730437670150618, 0.8854893032478646, 0.8923757753810466, 0.8998972140979529, 0.9110014790794424, 0.9216817670574793, 0.924560435338584, 0.9209081107316192, 0.9221414094900608, 0.9318222215134259, 0.9358899373401702, 0.9187279274239546, 0.8769668600300818, 0.8172761375150404, 0.7485612767691512, 0.6777856360503693, 0.6092124522260094, 0.5448740185696712, 0.48528954643913175, 0.430110571025443, 0.3786259443334081, 0.330141463767606, 0.2842650348797295, 0.2411166253744751, 0.20145629042868685, 0.16668764233319566, 0.13865876704077618, 0.11919024107979415, 0.10940416668046737, 0.10921268780011573, 0.11736497706639926, 0.13197253420683308, 0.1510710260761664, 0.17294742531583196, 0.19623592152583946, 0.44767299177208364, 0.45712225009232055, 0.46859340414350087, 0.4824761391918768, 0.49923673576978944, 0.5194265735492448, 0.5436719603642761, 0.5726174890802025, 0.606775377550264, 0.6462223901363049, 0.6901610057059663, 0.7365972860239715, 0.7823999893365123, 0.823671545296105, 0.8564484925044396, 0.8780303853616708, 0.888980832714166, 0.8942430895294455, 0.9009138535697838, 0.9128836699648573, 0.9260789667146468, 0.9315325555382108, 0.9279868982092803, 0.9254988466889942, 0.9285775917250843, 0.9251248253699145, 0.9016107672099554, 0.8562479211619345, 0.7956411868456912, 0.7279419758825734, 0.6593372881796676, 0.593487278488956, 0.5320231614575827, 0.4752312099958547, 0.42264998692440237, 0.3735314973507589, 0.3271857054868332, 0.283238059332622, 0.24181649823739404, 0.2036592541237786, 0.1701024028457887, 0.14287893283325082, 0.12367954631949807, 0.11355990804110183, 0.11250256666854763, 0.11944958292918473, 0.13274195789688203, 0.1506091951069326, 0.17146797307495343, 0.19401722698426438, 0.4492194527792687, 0.45900468834238706, 0.4708511521825717, 0.48514029851126755, 0.5023257775158754, 0.5229434330137099, 0.5476049797342339, 0.5769479644674962, 0.6114924733485139, 0.6513351227620136, 0.6956752853956053, 0.7424563265602201, 0.7884428315787211, 0.8296085274098076, 0.8618395517044138, 0.8823025708227619, 0.891540986451011, 0.8948272061170778, 0.9002036217088881, 0.9126623669107662, 0.9281905560187611, 0.9360949011365444, 0.9322000265086064, 0.9248752525817152, 0.919849705146832, 0.9078886494801285, 0.8779703732009546, 0.8296352532288888, 0.7690657004678613, 0.7033834230224423, 0.637854067982627, 0.5754836612774691, 0.5174999797960895, 0.4639743993573745, 0.41435621655263116, 0.3678830724795701, 0.3238875008403064, 0.2820259277605242, 0.24244293744875095, 0.2058600919664968, 0.17355032135904935, 0.14713936689289187, 0.12820164569776726, 0.11773941339685001, 0.1158076643481184, 0.12153510102515852, 0.13348926720463106, 0.15009748791510458, 0.16991325250309064, 0.19170611824593609, 0.4508285904171932, 0.46096828584986715, 0.4732114687965587, 0.4879302410422969, 0.50556327030986, 0.5266268051673892, 0.5517118140511269, 0.5814406126478514, 0.6163324956606399, 0.656499594635488, 0.7011408129171981, 0.7481436933529086, 0.7941851641135383, 0.8351323555513128, 0.8667333760273573, 0.8859970868446037, 0.8933727709793291, 0.8943959207754661, 0.8980826583772072, 0.9106794254126129, 0.9283462286346165, 0.9384715628522451, 0.9335865454102593, 0.9201874749748233, 0.9055770063046833, 0.8842151584421094, 0.8479825495560847, 0.7973706881095789, 0.7377931432416805, 0.6751013667317728, 0.6135138055739461, 0.5553408640727614, 0.5014087824394017, 0.45159334306077575, 0.40527800618680393, 0.3617075980715945, 0.32025454485426075, 0.2806187880966311, 0.24296978736541408, 0.20801785719672428, 0.176978218278678, 0.1513784641254362, 0.1326905555755784, 0.12187558875000415, 0.11906296715376696, 0.12356204970225326, 0.134163084487546, 0.14949371653607368, 0.16825023303709474, 0.18927808947975633, 0.4525003686822784, 0.4630139025153253, 0.4756767045810189, 0.49085061660235263, 0.508957190101873, 0.5304891868733936, 0.5560106808310801, 0.5861201542127732, 0.6213260439031548, 0.6617492939430456, 0.7065903830287683, 0.7536903609782394, 0.799660431608265, 0.8402898766405902, 0.8712085354003519, 0.8892487166279962, 0.894691466571209, 0.893253636834256, 0.8949291859849829, 0.9073499592318837, 0.9269330017495278, 0.938921332441932, 0.9322197758392328, 0.9114359508220194, 0.8858717745843274, 0.8543672861502265, 0.8120148685470225, 0.7598502722489562, 0.7021852902295046, 0.6433970729578903, 0.5865538605233221, 0.5332387505184121, 0.4838812976918185, 0.4381807496902701, 0.39547664981152325, 0.3550407419682485, 0.31630101003757677, 0.2790122025671357, 0.2433762381182734, 0.21009769307104376, 0.18034024043051544, 0.1555431437576642, 0.1370894974428214, 0.12591055595674905, 0.12221195930016104, 0.1254781177225306, 0.13471769918689536, 0.14876006899777916, 0.16644932751823138, 0.186711473099329, 0.45423406088499596, 0.46514150685747047, 0.47824808858640633, 0.4939047063592923, 0.5125139048699108, 0.5345412808933296, 0.560517959584805, 0.5910097526936215, 0.6265029902315263, 0.6671178192032603, 0.7120567919862562, 0.7591264881796513, 0.8048994115887224, 0.8451215108999574, 0.8753323606648425, 0.8921803640943533, 0.8957109447500775, 0.8917262758439713, 0.8911695415414772, 0.9031489805879517, 0.9243846948445491, 0.9377334565629036, 0.9282269270237, 0.8987401435995558, 0.8610372888527453, 0.8188384050827839, 0.7706217396978181, 0.7176146247889401, 0.6627126175286242, 0.6086498232982432, 0.5572657225353228, 0.5093940527756384, 0.4650741716101044, 0.42384618762398923, 0.3850249983655707, 0.3479263775051683, 0.3120473514300688, 0.2772072023250168, 0.24364704018215227, 0.21207109622262765, 0.18359805596467926, 0.15958892834056304, 0.14135093339404403, 0.1297957674882947, 0.1252069328420895, 0.12723870809930837, 0.1351137669649486, 0.1478638482313116, 0.1644850893556723, 0.18398805634882975, 0.4560281826635226, 0.46735007170619447, 0.48092556906241224, 0.4970941835604229, 0.5162378186246523, 0.5387914663534736, 0.5652473976083373, 0.5961298308480443, 0.6318909161696852, 0.672637282608674, 0.717571233081863, 0.7644800051021144, 0.809928612737681, 0.8496585873636459, 0.8791558638322279, 0.8948935890191735, 0.8966288294827426, 0.8901432591176348, 0.8872614505865645, 0.8985986550231981, 0.9211761457711557, 0.9352276825325825, 0.9218000547231137, 0.8823516878653144, 0.8315541944264703, 0.7783105711890008, 0.7245241918674491, 0.6713327656555884, 0.6199404589694596, 0.5713064550006035, 0.5259876776171043, 0.4840554288760752, 0.4451657206064505, 0.4087140033241522, 0.37400617435555783, 0.34041584639498357, 0.3075199499359801, 0.27521018678876, 0.24377254755212274, 0.2139159873980805, 0.1867208524080295, 0.16347984447915775, 0.14543644163531533, 0.1334919642954142, 0.1280091313284888, 0.1288073155139562, 0.1353188693893007, 0.14677811367962756, 0.16233685154861544, 0.18109366750123268, 0.457880432425556, 0.46963747956980445, 0.48370766681868405, 0.5004188910619253, 0.520131038587822, 0.5432453013586085, 0.5702093528426471, 0.6014968798615624, 0.63751330645642, 0.6783363472247311, 0.723161573474477, 0.7697755022663197, 0.8147693773987652, 0.853921926257671, 0.8827102711835217, 0.8974602539782655, 0.8976111166131111, 0.88881668599119, 0.8836738338632895, 0.8942539889015084, 0.9178178621840107, 0.931754324907165, 0.9131982775506196, 0.8626509652983285, 0.7980532447675676, 0.7336108670493028, 0.6745793345894728, 0.6217798951155058, 0.5745113839663696, 0.5318683644678861, 0.4930958325667509, 0.4574974936234215, 0.4243520503576374, 0.392920844886618, 0.36251203114335084, 0.33256704183531877, 0.3027506092509809, 0.2730326815934081, 0.2437486084889401, 0.21561661834186907, 0.18968517490292158, 0.16718818288278203, 0.14931646679556454, 0.13696901089629776, 0.13058876225851224, 0.1301557683833484, 0.13530795441319676, 0.14548223474705768, 0.15998930930982314, 0.17801872946917585, 0.4597876409883855, 0.4720004404339074, 0.4865913455507673, 0.5038766427985034, 0.5241930782306369, 0.5479050830466466, 0.5754101308881455, 0.6071223981676491, 0.6433877055363988, 0.6842378190212384, 0.7288507213473682, 0.7750335637756443, 0.8194377882518032, 0.8579218414154133, 0.8860056354251961, 0.8999162091226531, 0.8987772729184247, 0.8880180802578431, 0.8808618857718935, 0.8906835016939603, 0.9148454984141519, 0.9276922747456191, 0.9027452737212898, 0.8401328238783976, 0.7612858352463628, 0.6856749214424908, 0.6217455512674737, 0.5698103788268007, 0.5271244277756325, 0.49087649100385966, 0.4589938605686711, 0.4300140528713929, 0.40284268000676526, 0.3766128732532728, 0.35064140556430295, 0.3244433412476161, 0.2977759261574237, 0.27069097254990715, 0.24357632473257645, 0.21716334240034318, 0.19247463657099606, 0.17069414827654994, 0.152969972483755, 0.1402056340869825, 0.1329249055852394, 0.13126436104539108, 0.13506367595464797, 0.14396236558934394, 0.15743304893457, 0.17475877917587201, 0.46174573206246944, 0.4744344245292759, 0.4895719030393072, 0.5074630553754242, 0.5284206067380892, 0.5527694859201893, 0.5808514661503436, 0.6130121081672215, 0.6495243126557344, 0.6903560484717829, 0.7346555288590466, 0.7802706564467298, 0.8239453920277134, 0.8616596221045866, 0.8890319501397118, 0.9022581611817566, 0.9001873730368009, 0.8879537099326771, 0.8792359740614866, 0.8884407015047124, 0.9127967794961056, 0.9234425765256187, 0.890825596795926, 0.8153834859122305, 0.7220935416756662, 0.6355141592008402, 0.5670466175319197, 0.5163273500976079, 0.4785119694992941, 0.4488948859096996, 0.42410188651651964, 0.4019108054262391, 0.3808558309706528, 0.3599427553749336, 0.33849821970924165, 0.3161124227519166, 0.29263655735763694, 0.26820563538490794, 0.2432617008370162, 0.21855227446158865, 0.19507952816989793, 0.17398542373820947, 0.1563840173269725, 0.14318908502550232, 0.13500533848098517, 0.13212189573458533, 0.13457664781490575, 0.1422118498651308, 0.15466502552659933, 0.17131495095294458, 0.4637496950552822, 0.47693361231161824, 0.49264288654538413, 0.5111714146690629, 0.5328072523916115, 0.557833291691788, 0.5865301776922002, 0.6191655523267554, 0.6559255438424335, 0.6966964796336681, 0.7405866971717767, 0.7854996015223151, 0.828300651313361, 0.8651304018794554, 0.8917630250354025, 0.9044449909139284, 0.9018334615302568, 0.8887406444528145, 0.8791233459273797, 0.8880219629425293, 0.9121673774991563, 0.9194049259110342, 0.8778712159650353, 0.7890469007268311, 0.681374635494915, 0.5841831929905237, 0.5115350800608356, 0.4622501056116963, 0.42941518171786836, 0.4064935495655571, 0.38884497098682325, 0.3734977990953786, 0.35861355241747095, 0.3430665411364724, 0.32618949238909295, 0.30764500265790806, 0.2873764082930879, 0.26560098240310437, 0.24281520515370497, 0.219784863524623, 0.1974963499254695, 0.17705666901390926, 0.15955327050680268, 0.1459147387270655, 0.136826290283944, 0.13272564825322886, 0.13384562335699157, 0.14023156218322053, 0.15168899129222146, 0.16769442149900404, 0.46579357146834394, 0.47949086354962034, 0.495796035054656, 0.5149925808488823, 0.5373434637868345, 0.563087214465967, 0.5924380027826324, 0.6255760715090418, 0.6625865824161552, 0.7032575634631646, 0.7466496602157466, 0.790730527497091, 0.8325109297169815, 0.86832713675881, 0.8941630556735901, 0.9064046604710514, 0.9036379502247984, 0.8903874289585358, 0.8807232229441273, 0.8898066536802266, 0.9133390675489899, 0.915912647829402, 0.8643104092308824, 0.7617786640684554, 0.6400454695198052, 0.5327444004666301, 0.4562538243170977, 0.408480248076496, 0.3805590856498445, 0.3642312795203301, 0.3536416740019713, 0.34508193640885926, 0.3363368600632408, 0.32614052869056387, 0.31382332281642483, 0.29911353281824526, 0.2820417705622397, 0.26290444769750987, 0.24225126322934865, 0.2208673987544083, 0.19972728468026169, 0.17990896822093605, 0.1624794784775906, 0.1483856401269924, 0.1383921359132867, 0.1330812656042315, 0.13287760801419546, 0.13803019026061025, 0.1485158744076276, 0.16391081253024709, 0.46787045593022447, 0.4820977070429329, 0.4990212503344509, 0.5189149337736003, 0.5420164292982538, 0.5685178157954902, 0.5985615835382818, 0.6322310676923766, 0.6694963950688486, 0.7100325222680163, 0.7528459039782347, 0.795972082050192, 0.8365847237110134, 0.8712452196171043, 0.8961953301761251, 0.9080472551966906, 0.9054623027429941, 0.8927852608841139, 0.8840596719560337, 0.8939758603207851, 0.9164798308766722, 0.9131333434329097, 0.8504842499400526, 0.7341902061510966, 0.5989953814838782, 0.4822271880306451, 0.4021946323797531, 0.35586761754248364, 0.33262836061514717, 0.3226393076710798, 0.3188931805483691, 0.31695982040877296, 0.3142410611130004, 0.3093182209034611, 0.3015069083424882, 0.29059089664120885, 0.2766804346482735, 0.26014593225290256, 0.2415877031764661, 0.22181046748444821, 0.20177962830648866, 0.1825492389794784, 0.1651708910253148, 0.15061200175744127, 0.13971503101229132, 0.13320259837030834, 0.13168790694298538, 0.13562445837243908, 0.1451641059995471, 0.15998454516449134, 0.46997251266056267, 0.4847443521115365, 0.5023065981243126, 0.5229243594520705, 0.5468100523379379, 0.5741074969511039, 0.6048825628249159, 0.6391124026974749, 0.6766387010166002, 0.7170105544394252, 0.7591741713928633, 0.8012326205108014, 0.8405337962174042, 0.8738870940122332, 0.8978319254068816, 0.9092833207596785, 0.9071292293646257, 0.8957169760157866, 0.8889436248643474, 0.9004073439019555, 0.9214284780610531, 0.9109784643160397, 0.8365732337512513, 0.7067914251410483, 0.559034485845501, 0.433579662133895, 0.3502535079895887, 0.305177540075953, 0.2862451708233592, 0.28220650320094104, 0.28497344591634505, 0.2894112112236758, 0.2925314260988705, 0.29274746905490656, 0.28934465478166865, 0.2821491409681206, 0.2713408037827581, 0.2573571293653347, 0.24084517106721282, 0.22262838136803798, 0.20366519066613897, 0.1849896123584025, 0.1676416520620233, 0.1526106547185735, 0.14081448763514637, 0.13311146530832152, 0.13030010502896927, 0.13303928858978575, 0.1416598895788308, 0.15594313727696596, 0.4720910079019567, 0.4874197226299806, 0.5056383402315199, 0.5270042773404259, 0.5517049781669587, 0.5798345519969764, 0.6113777392350107, 0.646196794976626, 0.6839926579890481, 0.7241775313984529, 0.7656312614261628, 0.8065211008390225, 0.8443748575951389, 0.8762661504339613, 0.8990627333823433, 0.9100443668522452, 0.9084600955771125, 0.8988897195005583, 0.8949630592224869, 0.9085657278453645, 0.9276047063253332, 0.909055994460998, 0.8225576491029363, 0.6799422376634968, 0.5208343230056531, 0.387610489709501, 0.30118488718782926, 0.2570616659419639, 0.24195033710187536, 0.24336686662941626, 0.2522207679196415, 0.2626933302478746, 0.27139934863859433, 0.27656788916010766, 0.2774364321709692, 0.27385827802840473, 0.26607103301622176, 0.2545708493537081, 0.24004653270236292, 0.22333858480157054, 0.20539967822822336, 0.18724679101445085, 0.16991115852301997, 0.15440445201916353, 0.14171688545909966, 0.13283734249086998, 0.12874597100534024, 0.13030789157793665, 0.13803740332548675, 0.1518214315100277, 0.47421635859284766, 0.49011151403478515, 0.509000997876591, 0.53113570775072, 0.5566786675174141, 0.585673265391983, 0.6180192368275159, 0.6534561218778197, 0.6915332145835483, 0.7315162380747944, 0.7722123210489975, 0.8118474774477002, 0.8481304843261961, 0.878409234646851, 0.8999019863202644, 0.910300041896224, 0.9093203579516951, 0.9019865488709229, 0.9015186627184161, 0.9175039452243583, 0.9340156995185258, 0.9066849162446767, 0.8082181583638626, 0.6538227780188343, 0.48486430388299984, 0.3449200448803714, 0.25556071608128594, 0.2120352964555946, 0.20018911719023869, 0.20648992730661142, 0.22093111468502313, 0.2370362019584405, 0.2510191078174543, 0.2609086219320141, 0.2658760211028612, 0.2657851874944268, 0.26091821507936913, 0.2518203606806914, 0.23921627630076236, 0.22396105787022214, 0.20700206773233742, 0.189341391501898, 0.17200338943517357, 0.1560216215688549, 0.142454910367811, 0.13241696442275308, 0.12706527163371184, 0.1274717733352072, 0.13433892090682187, 0.14766173725182807, 0.47633819728741633, 0.4928062734124707, 0.5123774463311528, 0.5352973785729783, 0.5617055130299877, 0.5915940413578124, 0.6247746592484632, 0.6608575850290824, 0.6992311528673153, 0.739006209563471, 0.7789106181860618, 0.8172224679771013, 0.8518290578388898, 0.880357284325435, 0.9003908247375483, 0.910066243018356, 0.9096452016620069, 0.904711624837668, 0.9079036032703022, 0.9260402871980584, 0.939389448255958, 0.9029774470310036, 0.7931754189981333, 0.6284295367960442, 0.45134119171734177, 0.30583482684406504, 0.21374414061431846, 0.1704640956272161, 0.1613025950104373, 0.17187447808983825, 0.19135343395416848, 0.21263916622135748, 0.23154531650202093, 0.24588649031661125, 0.2547497854868142, 0.25799264351982326, 0.2559276315548815, 0.24913876243736738, 0.23837992880330766, 0.2245177244015515, 0.20849397897440103, 0.19129727588604428, 0.1739462066579972, 0.15749506521206136, 0.14306690997712235, 0.13189382001463335, 0.12530547571251027, 0.12458063812067088, 0.13061483095052473, 0.14351386464140925, 0.47844545305758546, 0.49548950247207496, 0.5157490406864966, 0.5394658707858234, 0.5667569962490587, 0.5975635580984551, 0.6316072149559486, 0.6683637362281661, 0.7070528708601874, 0.7466232218268631, 0.7857168276089936, 0.8226566490466282, 0.8555036288670743, 0.8821639041652014, 0.9005953443456849, 0.9094018267909498, 0.909429576398952, 0.906811200486041, 0.9134035243854147, 0.932975313860975, 0.9423870219321793, 0.8969802146918885, 0.7769598410569062, 0.603599798487605, 0.4202283656312965, 0.2703972990132828, 0.17588685875175247, 0.13256208144551707, 0.12552520117702226, 0.1397458465881659, 0.16368704948052404, 0.18966863000280632, 0.21311110433178515, 0.23160458970683712, 0.24413559726027234, 0.25053848584317895, 0.2511420844059748, 0.24655840078109142, 0.237563496638253, 0.22503187424828397, 0.2098990538368838, 0.193140877462586, 0.1757706289680413, 0.15886160031605556, 0.14359615451076413, 0.13131752235661875, 0.1235213211408962, 0.12169216084488133, 0.12692352879222235, 0.13943502240702477, 0.48052644783495485, 0.49814578290499395, 0.5190957724377459, 0.5436158027125608, 0.5718018852418105, 0.6035449468606003, 0.6384758168359655, 0.6759323880869363, 0.714959965009798, 0.7543385024550436, 0.7926178913222239, 0.8281589106681289, 0.859189743819732, 0.8838920188126015, 0.9006006325649654, 0.9083964246397089, 0.9087053428611827, 0.908082376632082, 0.9173866851195741, 0.937270445594279, 0.9418447180692022, 0.8878463050270069, 0.7590948492257996, 0.5790590740683997, 0.39129314587641884, 0.2384275151032237, 0.1419515228757008, 0.0984009329307236, 0.09298826103120195, 0.11025663737021396, 0.13808112235167236, 0.1682570612454911, 0.1958270485704039, 0.21815132645696755, 0.23410202774474864, 0.24347494787469875, 0.24660131919421224, 0.2441103394448106, 0.23679293998920176, 0.22552760764191848, 0.21124234803973252, 0.19490052551069004, 0.17751008205274166, 0.16016114168717488, 0.14408999172231318, 0.13074302832527118, 0.12177421149322898, 0.1188715942505636, 0.12333114653921451, 0.1354895439740652, 0.48256900736327557, 0.5007589233173237, 0.5223964564028017, 0.5477200534927201, 0.5768064753549524, 0.6094980026438106, 0.6453351735065548, 0.6835164506935405, 0.7229086792339376, 0.7621177375226145, 0.799595540414864, 0.8337343613572508, 0.862922385852428, 0.8856090216020882, 0.9005021265102404, 0.9071543186800602, 0.9075209393965149, 0.9083767339041644, 0.9193632728825171, 0.9381639554128083, 0.9369899019678416, 0.8749810771397439, 0.7391731434265345, 0.5544794971526787, 0.3641841764010739, 0.20960134230463257, 0.11175134300876988, 0.06792863845974251, 0.06372882815949732, 0.08349061995296825, 0.11463603221114393, 0.14850316424944465, 0.1797808316789795, 0.2055999012776939, 0.2247078095912155, 0.23684814845864022, 0.24234154753224302, 0.24182389194671056, 0.23609368787275253, 0.2260293083421796, 0.21254974169163954, 0.19660577452039685, 0.17919962856505955, 0.16143582409685708, 0.14459888672439003, 0.13022968285440917, 0.12013140185832505, 0.11619116714348965, 0.11991107867097484, 0.13174839764113733, 0.4845605856315618, 0.5033121265652016, 0.5256289472484748, 0.551750026594005, 0.5817348777362461, 0.6153794392155941, 0.6521359003868522, 0.6910637463204938, 0.7308492927196027, 0.7699199614482252, 0.8066245887116769, 0.8393818260036373, 0.8667322673698892, 0.887380999806499, 0.9003959302067299, 0.9057787165548341, 0.9059246484863616, 0.9075940067219399, 0.9190054969821844, 0.9352110028770309, 0.9274880804968155, 0.858098557680221, 0.7169092305866323, 0.5295357757231494, 0.33850021707679623, 0.1835165203493152, 0.08499576005477816, 0.040994170237693695, 0.03770255997594407, 0.0594692209149994, 0.0934064276237131, 0.13047311998027344, 0.1650375735201015, 0.19400821652400901, 0.2160015631122697, 0.23069774800367243, 0.238395072613035, 0.23972622070067945, 0.23549019969162233, 0.22656115132774302, 0.213847374509754, 0.1982867441444387, 0.1808751845831923, 0.16272906950552235, 0.14517534209410543, 0.12984006420777672, 0.11866492774034021, 0.1137292196071229, 0.11674325012805398, 0.12828842655960204, 0.4864884013424184, 0.5057881759145734, 0.5287703845049628, 0.5556759542084446, 0.5865493616266806, 0.6211432053392304, 0.6588246861801693, 0.6985168612936342, 0.7387255240965314, 0.7776964275010768, 0.813671129651971, 0.8450911166337047, 0.8706417553226693, 0.8892666405484254, 0.9003695431135005, 0.9043590100612022, 0.9039516458655251, 0.9056629795754257, 0.916132918239536, 0.9282579548670118, 0.913344991052208, 0.8371890879110759, 0.6921620620452641, 0.5039492502469298, 0.31384320866609816, 0.15974414576612872, 0.06133380339541605, 0.017374578284873654, 0.014799127818182156, 0.038159934055525535, 0.07440561612551855, 0.1142027302738059, 0.15164076030498896, 0.18341917117992634, 0.20802177172236802, 0.22505676415084785, 0.23479001817505846, 0.2378420059293634, 0.23500557739729122, 0.22714664990194566, 0.21516111147848072, 0.19997347711681135, 0.18257273147732445, 0.16408460812320158, 0.1458727009034717, 0.12963861219832395, 0.11745022693962426, 0.1115690094712396, 0.11391306188007488, 0.12519125262662611, 0.48833958464101734, 0.5081696379728653, 0.5317974643654321, 0.5594672429144774, 0.5912107567517886, 0.6267408813586668, 0.6653445550011402, 0.705813098993966, 0.7464740347730909, 0.7853895663360171, 0.8206907860044053, 0.8508402841828185, 0.8746607204779047, 0.8913113251380022, 0.9004939722013278, 0.9029620807213817, 0.9016166778419834, 0.9025230042597654, 0.9106829086983783, 0.9173816333336551, 0.8948024932126626, 0.8124522876350136, 0.6649324880071114, 0.4775163792816159, 0.2898558728844166, 0.13786714691044177, 0.04039093153613382, -0.0031985404249282867, -0.0051413545459458865, 0.019485903258159354, 0.05761091865989265, 0.09970027456442399, 0.1396136730528279, 0.17386129517469096, 0.20079698357417752, 0.21995153731444828, 0.2315501581196744, 0.2361931851694985, 0.2346612309844167, 0.22780824629252505, 0.2165160446589639, 0.20169532341866492, 0.18432753509255784, 0.16554546852347274, 0.14674384561927067, 0.12969003273961144, 0.11656440503656729, 0.10979711144283966, 0.11150993502290829, 0.1225417651921007, 0.49010133199282313, 0.5104390798009982, 0.5346867357651144, 0.5630928599491041, 0.5956789211781821, 0.6321221751947539, 0.671635266052194, 0.7128846012014985, 0.7540241188859105, 0.7929321479214845, 0.8276271765897103, 0.8565930801231769, 0.8787825919286031, 0.8935417512484667, 0.9008176371189694, 0.9016276001867933, 0.8989135088963123, 0.898126566255183, 0.9026883512015015, 0.9028229961540475, 0.8722573005508245, 0.7842327987751058, 0.6353454689907041, 0.4501225418571259, 0.2662458535312221, 0.11750758785964122, 0.021798078543493804, -0.021015292857329282, -0.022312206386563282, 0.003335954553171039, 0.04296960117061388, 0.08694987260798148, 0.128961206140774, 0.16534966596282186, 0.194346210549331, 0.21540183244164657, 0.22869484128366785, 0.23479876227785507, 0.2344765987535628, 0.22856694907588326, 0.2179360367630062, 0.20348035990106283, 0.18617338702389208, 0.16715295869740743, 0.1478398189758352, 0.1300574912202237, 0.11608410482061216, 0.10850131702633081, 0.10962535819907426, 0.12042610105557061, 0.4917610667629213, 0.51257929702242, 0.537414917219402, 0.566521757790128, 0.5999132776265601, 0.637235534132437, 0.6776338913154367, 0.7196587066005595, 0.7612976712364009, 0.8002467678376228, 0.8344107743084345, 0.8622968725614706, 0.8829808897609084, 0.8959612428443757, 0.9013619779732388, 0.9003664517303529, 0.8958194251835399, 0.8924516273791672, 0.892262790422969, 0.884930767314406, 0.8462002998007381, 0.752969159259557, 0.6036262911644195, 0.4217444304553557, 0.24279890436070084, 0.09834461865933175, 0.005213116290482489, -0.036367617203072355, -0.036925373396795025, -0.010425560432622993, 0.03040501475874713, 0.07591514619742978, 0.1196719615630154, 0.15788704522770458, 0.18867949167482578, 0.21142106029227747, 0.22623900364921734, 0.23367468322674806, 0.23446892262110042, 0.2294420200251695, 0.21944331189457988, 0.2053548552306822, 0.18814188523327569, 0.168945666517057, 0.14920840813812708, 0.1308006352411043, 0.11608296596805234, 0.10776793233173787, 0.10835032417378077, 0.11892900823611119, 0.49330660273165194, 0.514573549127199, 0.539959229712361, 0.5697233325406001, 0.6038734174343253, 0.6420288833021739, 0.6832756065990566, 0.7260586146721769, 0.7682095276031339, 0.8072457817361683, 0.8409583343690841, 0.8678812717790093, 0.8872065214758889, 0.8985457886512028, 0.9021183133530984, 0.8991609362278238, 0.8923012372425211, 0.8855076707396285, 0.8795848683137959, 0.8641186190171964, 0.8171727753223158, 0.7191557625000877, 0.5700767699807379, 0.3924448670686226, 0.2193836887844839, 0.08012480458389071, -0.009664440665558827, -0.04953371175844923, -0.04919861390710634, -0.02194962157885605, 0.01982261849445288, 0.06654298524983104, 0.11172050629738961, 0.1514651720320892, 0.18379858581101638, 0.20801659948072948, 0.224193258579518, 0.23283377463855193, 0.23465307772463534, 0.23045071224305008, 0.2210580984743209, 0.20734279025221447, 0.1902617729559104, 0.17095851366882198, 0.15089274904977945, 0.1319735237760884, 0.11662871366601846, 0.10767837046303363, 0.107772019280583, 0.11813047832633217, 0.49472630749942914, 0.5164057975623918, 0.5422977396397142, 0.5726679089587872, 0.6075197662697058, 0.6464504933550173, 0.6884947215320593, 0.7320044190950703, 0.7746682738066138, 0.8138318116162657, 0.8471730693961611, 0.8732577200844461, 0.8913861654853407, 0.9012408916005648, 0.9030452951698156, 0.8979654797189082, 0.8883199434135545, 0.8773345306094991, 0.8648811061772456, 0.8408341290072362, 0.7857358744901439, 0.683315599325385, 0.5350543446872695, 0.3623633718230627, 0.19595054308565674, 0.06266642536394718, -0.023084470210451014, -0.06076670389157057, -0.05934504249935557, -0.03139446743310359, 0.01111561763858393, 0.0587672461267118, 0.10506968775153125, 0.14606615042343396, 0.17969775800268128, 0.20519019943375605, 0.22256405450718653, 0.2322857399550261, 0.23504145466580306, 0.23160806067656953, 0.22279832874898775, 0.20946544352945518, 0.19255835539498267, 0.17322190067833476, 0.15293002116622878, 0.13362258092416912, 0.1177800039677569, 0.10830497076717105, 0.10796960365412156, 0.11810155127914013, 0.49600926251018207, 0.5180609416537796, 0.5444097045283536, 0.5753272420904039, 0.610814299614974, 0.650449968580748, 0.6932259585691333, 0.7374145647524423, 0.7805776205945454, 0.8198989447307751, 0.8529457379540105, 0.8783202805283382, 0.895422099885286, 0.9039596390797593, 0.9040662563025802, 0.8967072597634926, 0.8838330983412264, 0.867996866545987, 0.8484090596517017, 0.8155366415761323, 0.752449984217957, 0.6459813132299399, 0.498954965776348, 0.3317049087278269, 0.17252617281806648, 0.04585914247817602, -0.03524200319117099, -0.07028721450283404, -0.06756514428910276, -0.03891882205878716, 0.004170016554690292, 0.052512239434235, 0.09967291437377845, 0.14166387391994195, 0.17636462501779004, 0.20293844423765695, 0.22135388885573282, 0.2320372073641372, 0.23564389194575341, 0.23292672531366898, 0.22467939842262907, 0.21174105085085027, 0.19505301282058818, 0.17576098118327144, 0.15535031050848191, 0.13578472942568565, 0.11958327969480542, 0.10970611957262688, 0.10900889009237302, 0.11889930976564356, 0.4971454162807936, 0.5195250469737256, 0.5462759131055147, 0.577675022611166, 0.613721289454032, 0.653979333082775, 0.6974059686709763, 0.7422077624326626, 0.7858384398071276, 0.825334741175547, 0.8581567945182644, 0.8829478066265309, 0.899193804579935, 0.9065829413232114, 0.9050667033219644, 0.8952874207795252, 0.878795370094379, 0.8575767792696413, 0.8304423909088846, 0.7886816046379699, 0.717861209554813, 0.6076823773629443, 0.4621996213613997, 0.3007283267578914, 0.14920579670014167, 0.029660204982482008, -0.04627678185988526, -0.07827933399926768, -0.07404118854590469, -0.04467652667141053, -0.0011310470587331256, 0.04769589761822246, 0.0954763237664884, 0.13822543585460711, 0.17378102806728635, 0.20125325797307902, 0.2205615668019868, 0.23209182309998916, 0.23646765547762677, 0.2344168865294073, 0.22671398882971, 0.21418454584238766, 0.19776282622149322, 0.17859510039531767, 0.15817571791011242, 0.13848587892561626, 0.12207002502278275, 0.11192114364838268, 0.11093569440291084, 0.12056146843974191, 0.4981257273848758, 0.5207855605108799, 0.547879010413392, 0.5796873705049042, 0.6162080572110424, 0.6569941776345606, 0.700975041735717, 0.7463053591700286, 0.7903515499287924, 0.8300231609140207, 0.8626797222778348, 0.8870075810194344, 0.9025615107907161, 0.9089629435166469, 0.9058975367190503, 0.8935842719109546, 0.8731583157079162, 0.8461663432393542, 0.8112585790600566, 0.7607095973642772, 0.6824927126263424, 0.5689365490920415, 0.42522387513632504, 0.26973527966802774, 0.12614379843682355, 0.014088123853784329, -0.0562758084653765, -0.0848894772380081, -0.07893384648335922, -0.04881257865925315, -0.00490375716782121, 0.04423254652695163, 0.09242077762892709, 0.13571248258783963, 0.17192390420709702, 0.20012243343419533, 0.22018249373289067, 0.2324503834682904, 0.23751746150097997, 0.23608619119555396, 0.22891195273209763, 0.21680738657252552, 0.20070032765200363, 0.1817374255156795, 0.16141977741034386, 0.14173993301782095, 0.1252548781597429, 0.11496617563692102, 0.1137678872937935, 0.12310182978742024, 0.4989422938208738, 0.521831506959332, 0.5492037981926892, 0.5813432999327495, 0.6182457026412365, 0.659454815240268, 0.7038789345425005, 0.7496341023293948, 0.7940213154042147, 0.8338485171132255, 0.8663856338278408, 0.8903603700967921, 0.9053716044800021, 0.9109295912208207, 0.9063847835014094, 0.8914587370429065, 0.8668703015365123, 0.8338611854795989, 0.7911294304705507, 0.7320387486538968, 0.6468391856441028, 0.5302440828488638, 0.38846961875829034, 0.2390598781344525, 0.10354354163835544, -0.000785486417206327, -0.06527820080947677, -0.09022758806108055, -0.08238074309097632, -0.05146050197355534, -0.0072608794220625494, 0.04203523740157156, 0.09044364029892737, 0.13408247546635088, 0.17076613215601943, 0.19953016795219858, 0.2202089908454785, 0.2331109989030436, 0.23879553877231469, 0.2379397473105221, 0.2312802633184589, 0.21961747028613865, 0.2038733821294625, 0.185194785190828, 0.1650872271704108, 0.14554843058987466, 0.12913498279342583, 0.11883266282325744, 0.11749112589856125, 0.126508619720884, 0.4995884656082161, 0.5226536606645844, 0.5502375008020342, 0.5826251374126377, 0.6198097749819834, 0.6613273816192917, 0.7060707024136109, 0.7521291468928369, 0.7967600541451952, 0.8367005626044498, 0.8691491648513004, 0.8928666542088962, 0.9074635069888686, 0.9122992002590166, 0.9063395334713342, 0.8887608870505457, 0.8598771495819555, 0.8207557303246141, 0.770314231122925, 0.7030595747729976, 0.6113631557107404, 0.4920834584509718, 0.3523782113625876, 0.20905897312155752, 0.08164666853462443, -0.014845402680735864, -0.07328178409534525, -0.09437019250385958, -0.08449663395883411, -0.0527409169005465, -0.00830979713735902, 0.04101762473456261, 0.0894803144693479, 0.13328983650828108, 0.17027733290931535, 0.19945759223545034, 0.22063062420965884, 0.23406928349879313, 0.2403017255613143, 0.23998016407565398, 0.2338230243956836, 0.22261913535660593, 0.20728520182467325, 0.18896772205607937, 0.16917414502736117, 0.14990085756818494, 0.1336907093548887, 0.1234892690235263, 0.12206437362680933, 0.13074666469523188, 0.50005893780407, 0.5232446882598544, 0.5509699875695124, 0.5835188759659278, 0.6208808520466144, 0.6625848105860893, 0.7075123911688127, 0.7537370449546995, 0.7984930609930466, 0.8384808225488827, 0.8708555369135824, 0.8943935689877304, 0.9086774667668098, 0.9128838252887113, 0.9055670772180082, 0.8853365779450383, 0.8521238126636399, 0.8069403562932529, 0.7490552182584591, 0.6741314953369832, 0.5764921564429597, 0.45490760724405593, 0.31738420285492236, 0.180102742240972, 0.06072194531241204, -0.027943285010746943, -0.08025093741185385, -0.09736483683075325, -0.08537488398163906, -0.052761141001503975, -0.008151259835121882, 0.04109539999346257, 0.0894655229809026, 0.13328696161542097, 0.17042461029996636, 0.19988328054793147, 0.22143453868320873, 0.23531856375427496, 0.24203359674251734, 0.24220763357168645, 0.2365415381814469, 0.22581324642879264, 0.2109344869360712, 0.19305074864942606, 0.1736684280703863, 0.15477557517823848, 0.138887560099629, 0.12888614299259094, 0.1274275747988337, 0.13576210306364989, 0.5003498216106561, 0.5235992577945725, 0.5513939437031914, 0.5840144498087886, 0.6214449956157951, 0.6632076160384334, 0.708176433963084, 0.7544183566966453, 0.7991636495528327, 0.8391102934637102, 0.8714082179391169, 0.8948218729631099, 0.908862635658245, 0.9125007900245097, 0.903875684873898, 0.8810340956666642, 0.8435572611740562, 0.7925004476418394, 0.727574973995344, 0.6455804677928864, 0.5426160799857034, 0.41913980376319643, 0.28390887340774384, 0.1525651070554126, 0.0410535356443783, -0.03990892237941679, -0.08612527159749361, -0.09923548281394912, -0.08508992712690988, -0.051615633102379155, -0.006878756722029311, 0.04218731076871285, 0.09033433884323094, 0.13402509323881984, 0.17117322130709556, 0.20078373303326869, 0.2226057892633755, 0.23685010067501222, 0.24398661613526895, 0.24462004951012173, 0.2394344256334155, 0.22919735578560357, 0.2148156816793887, 0.19743278428282995, 0.1785505664161835, 0.16014123572569683, 0.14467884841027379, 0.1349598888301402, 0.13350790919045152, 0.1414876623381307, 0.5004586918326808, 0.5237141111690016, 0.5515049836723313, 0.5841059174122193, 0.6214940575223036, 0.6631844232435786, 0.7080466127765725, 0.7541494933767955, 0.7987370584730049, 0.8385378718547322, 0.8707356170265449, 0.8940521366000141, 0.9078848323846991, 0.9109821534967213, 0.9010855295816511, 0.8757112186823182, 0.8341307223950687, 0.7775171255038011, 0.7060753190441126, 0.6176973394979254, 0.5100842783461017, 0.38516856355933776, 0.25235284943801894, 0.126813414439643, 0.022928485682266353, -0.05056200985732806, -0.09082874067336633, -0.09998846426953423, -0.08370039941756036, -0.049387085358722715, -0.00457841253654967, 0.044215809342771584, 0.09202297645708113, 0.13545505155030324, 0.17248717022956883, 0.20213382343020314, 0.2241276637115016, 0.23865331988294153, 0.2461543092087402, 0.24721315798028975, 0.2424977929761712, 0.23276593143363838, 0.21891932882932985, 0.202097740403269, 0.18379464058438333, 0.16595851500803638, 0.15100869502402725, 0.1416381776716168, 0.14022475867881123, 0.14784741086302466, 0.5003846096206882, 0.5235880978929847, 0.5513017032009955, 0.583791545091015, 0.621025819748442, 0.6625122116339806, 0.7071184893900333, 0.7529235008589074, 0.797201961331562, 0.8367437369349656, 0.8687945731759905, 0.892009447524564, 0.9056334587432995, 0.9081839554836806, 0.8970382834829784, 0.8692432828814074, 0.8238093096625853, 0.7620692679026648, 0.6847372878301821, 0.5907366662840563, 0.479202247127824, 0.3533410999799368, 0.22308706871738515, 0.10319674535719003, 0.006623217339231102, -0.059724169131129656, -0.09427878551077362, -0.09961863633880708, -0.08125265764591172, -0.04614797182210373, -0.0013292962977852207, 0.04710738419577043, 0.09446936525855287, 0.13752782910509498, 0.17432972467866614, 0.20390720771565962, 0.22598199153652332, 0.24071604494151416, 0.24852845133007861, 0.24998073471041216, 0.2457254370878869, 0.23651064044985987, 0.22323250264308592, 0.20702521559168618, 0.18936946202254867, 0.1721819858151873, 0.15781497302195113, 0.1488436240003953, 0.14749360620360985, 0.1547606785773875, 0.5001281201662638, 0.523222169512559, 0.5507856685305849, 0.5830737883193877, 0.6200439626495353, 0.6611962565715128, 0.7053992776257341, 0.7507497086154629, 0.7945692661897812, 0.8337350707891202, 0.8655699583402964, 0.8886462612306348, 0.9020270998786573, 0.9039948668832074, 0.8916078491217967, 0.8615328793359649, 0.81257675844269, 0.7462362542565886, 0.6637217889431746, 0.564915888114784, 0.4502280140336031, 0.3239552332741827, 0.19644136855520755, 0.08203215694416888, -0.007610974443623797, -0.06723077132945976, -0.09639508788034457, -0.09811537619061383, -0.0777844226460801, -0.04196237334861974, 0.0027959666130109584, 0.050792632995203646, 0.09761353271207829, 0.14019505862563741, 0.17666385459422407, 0.20607669127581463, 0.22814943562028656, 0.24302472969874306, 0.2510992668869736, 0.25291478312783977, 0.24910908173795226, 0.24042067487586516, 0.22773929800124781, 0.21219125897502455, 0.19523977715020724, 0.17876198100691099, 0.16503197041616235, 0.15649688941530138, 0.15522905332408365, 0.16214516258181233, 0.49969122576148994, 0.5226193354130446, 0.5499613442141804, 0.5819591732207622, 0.6185578667205796, 0.6592497841521586, 0.7029072002648278, 0.7476524107038969, 0.7908691235672085, 0.8295408142079694, 0.8610720137032515, 0.8839434287314645, 0.897017411460317, 0.8983434527753953, 0.8847121893195605, 0.8525217557931474, 0.800442318053786, 0.7301007258431456, 0.6431705981916768, 0.5404148769546538, 0.4233686533379034, 0.2972502378040085, 0.1726900113226536, 0.06358813574421984, -0.019562912333807914, -0.07294191088760704, -0.09710749578672007, -0.09546812646952896, -0.07332831781129945, -0.03688791633395383, 0.007730383208753744, 0.055206136743948475, 0.10139782690704424, 0.1434093668864892, 0.17945259809906344, 0.20861455399010975, 0.23060976387356918, 0.24556468605564097, 0.2538556348534139, 0.2560057474475786, 0.25263863634928757, 0.24448310692990682, 0.2324213532316231, 0.2175691621530078, 0.20136746443858766, 0.18564633343000336, 0.17259265991626593, 0.1645190920767443, 0.1633471136009771, 0.1699193211995681, 0.4990773353589333, 0.5217845820252073, 0.5488359632013531, 0.5804580856297573, 0.6165822637017169, 0.6566933764411781, 0.699670431340926, 0.7436688995286467, 0.7861473549202184, 0.8242073998274215, 0.8553331162163453, 0.8779096916179061, 0.8905910015015158, 0.8912028631576716, 0.8763241137800906, 0.84220406498664, 0.787445969199438, 0.713750617064296, 0.6232074004795283, 0.5173759629625438, 0.39877759418980396, 0.27339801816997944, 0.15203391747255923, 0.04806480136783309, -0.02907558574291058, -0.07675168910885044, -0.09636269247297247, -0.09167121670781764, -0.06791511085781232, -0.030977685136398758, 0.01341167699145096, 0.06028619264475432, 0.10576701022549528, 0.1471246297983998, 0.18265935996470872, 0.21149283408739483, 0.23334209929858202, 0.24832030416430562, 0.25678529667919836, 0.25924273513627066, 0.25630246899212294, 0.24868326049848322, 0.2372583851630619, 0.22313024398388226, 0.20771266821148404, 0.19278192098218472, 0.1804305478861521, 0.17283362632388166, 0.17176691420004064, 0.17800417195223672];\n",
       "const lower_is_better = false;\n",
       "const metric = \"accuracy\";\n",
       "const rel = false;\n",
       "const sd = [0.3890175024101603, 0.3842920434044413, 0.3779821996813548, 0.3698879874776558, 0.3599748305358467, 0.34845319806292446, 0.3357814956664045, 0.32249399836261966, 0.3088016112310817, 0.29410909834137827, 0.27685832536629734, 0.2551394994986383, 0.22817271392187072, 0.19834174395424306, 0.17270814443803498, 0.1601949057562366, 0.16139878747639463, 0.16551998748601837, 0.16203770522427144, 0.14786741406005915, 0.1252279469955403, 0.09577811568310714, 0.057633102679763695, 0.01049765778736269, 0.03786899164399836, 0.07793598301045233, 0.11082363879490242, 0.14450858594791827, 0.1829479916866815, 0.2233680569935171, 0.261113094754572, 0.2928390693705108, 0.31687995032021354, 0.3326505873654486, 0.34000537359711525, 0.33877641147045684, 0.32850570517858085, 0.3083520128680704, 0.2771668920868739, 0.2337590475548396, 0.17738933982036142, 0.10855508143294483, 0.030258049416313076, 0.05219724959329782, 0.1287235164066707, 0.19496352886458096, 0.24905017318644757, 0.2912932422149361, 0.323125158657879, 0.34641523509078676, 0.3882253235145377, 0.38308347616715177, 0.37618267267176536, 0.3672845583764584, 0.3563364201618261, 0.3435771543485032, 0.3295683865139817, 0.315026536193783, 0.30036234570322834, 0.2850592065781038, 0.2673776300690759, 0.24495388108655625, 0.21643769549113204, 0.1838746811148004, 0.15503433227570773, 0.14132371287682513, 0.1444752220048565, 0.1511114481680381, 0.1488698288652176, 0.13504357689012816, 0.1134638413928686, 0.08712723993932886, 0.05393969971311792, 0.01651541731827089, 0.03594020677322523, 0.0694971237121972, 0.09801934994360385, 0.13086007265975824, 0.1713217515470062, 0.2145996374740096, 0.25489930765722124, 0.2885884081705589, 0.3140429037585272, 0.3307990966368097, 0.3388307817031343, 0.3380678581264263, 0.3281284565288404, 0.30823152112721913, 0.27728115216085886, 0.2341444285369624, 0.1781816168373468, 0.11020032896212732, 0.036172087158491746, 0.05545359175879406, 0.12965443933705614, 0.19521325006217236, 0.24895006835883463, 0.29098338887831593, 0.3226902213424629, 0.3459172334935393, 0.38741201388934837, 0.3818358942504775, 0.37431303073318284, 0.3645592964303609, 0.35249536795375624, 0.3383832527319807, 0.3228950001183034, 0.30696113461602204, 0.2912508398011152, 0.27538533610930405, 0.2574598744001252, 0.23460846160246804, 0.2047968939525316, 0.16951915330583991, 0.13702275440088627, 0.12177600397534287, 0.12735347513857945, 0.13687604579323157, 0.1358155239493345, 0.12204470202646343, 0.10140036492784185, 0.07872335573558002, 0.05186100016122012, 0.025565184936470572, 0.037377384210142486, 0.062136832623564106, 0.08510872857839377, 0.1171345896766548, 0.16004499564386848, 0.20635103521549528, 0.24917317573248407, 0.2847309191867662, 0.31151177104141037, 0.32919850329842476, 0.33789311205936184, 0.33763027847710414, 0.32811707602617596, 0.3086579689012741, 0.2782586399754821, 0.23594492091458308, 0.18141816338996294, 0.11659319521687994, 0.05404173210627814, 0.06790544920156612, 0.13438330628807552, 0.19743577378160185, 0.2499493176327321, 0.2912884644141051, 0.3225859760336902, 0.3455815078764799, 0.3865826330118755, 0.38055691177281403, 0.37238401225282125, 0.36172590384610115, 0.3484663419783362, 0.3328818968743416, 0.31575880835429987, 0.2982743492221231, 0.28142509154771433, 0.26504702943544406, 0.2470990403304934, 0.2241686722650471, 0.1934298912313484, 0.1555943206290022, 0.11897576432561849, 0.10168885924581342, 0.11034148684858783, 0.12314145021433721, 0.12312454503083944, 0.10899108033020419, 0.08895219037820183, 0.07026392655312888, 0.05031919214808127, 0.032813840981620504, 0.04003545508944324, 0.05562669614132167, 0.07205932628797374, 0.1035736697034837, 0.14944497132019402, 0.1988558245262913, 0.24407377615536027, 0.28134529564978894, 0.3093303860535301, 0.32787265529236886, 0.33720411913292947, 0.3374669123598784, 0.3284667204807151, 0.3096153710968144, 0.28006270143842715, 0.23907587042758083, 0.1868688820331292, 0.12679944083924025, 0.07535837976647615, 0.08521489845548169, 0.14233503408341794, 0.20145921786704651, 0.25196935222503253, 0.2921621403486974, 0.3227803766455125, 0.3453838669666785, 0.38574293491419526, 0.37925544461127464, 0.370408699447794, 0.3588020711382939, 0.3442702460891116, 0.3270920191412297, 0.3081666191605482, 0.28894951910604, 0.2708444419236117, 0.2540009418149615, 0.23628612047856898, 0.21370060362323515, 0.18253167364128323, 0.14249387489692494, 0.10134293299713111, 0.08123813961929705, 0.09388857601834676, 0.11032928289377739, 0.1111264816315109, 0.09609360551447954, 0.07608326781969957, 0.06148467337349926, 0.048364477976922074, 0.03745704920652987, 0.04230251896074178, 0.04972711209391366, 0.05888122092999375, 0.09057299569940647, 0.13992485257712384, 0.1923577646848315, 0.23973291147599, 0.2785016769680613, 0.3075358928890525, 0.32684029830013966, 0.33677103321133633, 0.33757579118939557, 0.32916489306879254, 0.3110745984514676, 0.2826317890055551, 0.2434011640325645, 0.19418678077643406, 0.13967077282659374, 0.0973254050115433, 0.10448595682905124, 0.1527224003535337, 0.20702073379434874, 0.25489093390442064, 0.29353752524148746, 0.3232299054976116, 0.3452932360895279, 0.3848993078484483, 0.37794165034828847, 0.3684025140266035, 0.3558096708970528, 0.3399348971486496, 0.32104264000905136, 0.30013718812799606, 0.2789797304172892, 0.25947156054813875, 0.24220164674986405, 0.22500928213967986, 0.20326857729960426, 0.17230297147907828, 0.13068057355443732, 0.08481351513495293, 0.060644354499200304, 0.07866532091488672, 0.09895564733846286, 0.10023477882545362, 0.08369427656960782, 0.06284078060953018, 0.05222145550991061, 0.04536470493362979, 0.03933760208912205, 0.043340877585158956, 0.044254522470278335, 0.045651679179667566, 0.07875061627633333, 0.13194044602041424, 0.18708812343534842, 0.23626398943411087, 0.27625669558503035, 0.3061565454736235, 0.3261141128916569, 0.3365962174252866, 0.3379498209481854, 0.33019205039795657, 0.3129950568783114, 0.28588405878139267, 0.2487478094036268, 0.20296797411341605, 0.15417446701582715, 0.11900708683432953, 0.12426756601416003, 0.16474757243875182, 0.21380342828365406, 0.25856380975991555, 0.2953303860316101, 0.32388078936537146, 0.3452721354856694, 0.38405868422652517, 0.3766268133561672, 0.3663831193382424, 0.35277481393766563, 0.33549555852672025, 0.31477442330485633, 0.29170421116147915, 0.26837156489555347, 0.24727512767685617, 0.2296029589443754, 0.21325492080660502, 0.19293323545650684, 0.16293614989772923, 0.12065594080559096, 0.07046569137163959, 0.04018253283211939, 0.0656768490715295, 0.08959429741090355, 0.09092581281631006, 0.0723146869940881, 0.049403843656820316, 0.042468387396645935, 0.04103253375486118, 0.03853453165176299, 0.04283685547608867, 0.03911604788412717, 0.03254784261402631, 0.06900503539220046, 0.12594261561855366, 0.1832365969081043, 0.23375063410184985, 0.2746489858078978, 0.30520988245641767, 0.32570000426056683, 0.33667701762026137, 0.3385770668672218, 0.33152250636844816, 0.31532690826814075, 0.2897230293720845, 0.25492212904988587, 0.2128045513752415, 0.16950875053846848, 0.13998719645994134, 0.1438210929986845, 0.17771747159274734, 0.2214725032769337, 0.26281780483535766, 0.2974431148963795, 0.32467056599278626, 0.3452773287529033, 0.3832284197950956, 0.3753231698739349, 0.364370212738508, 0.3497277263735818, 0.3309952453482721, 0.30834111015541293, 0.2829196574257373, 0.25714980408160126, 0.23423340115080532, 0.21615985327980203, 0.20100996642927985, 0.1827508276832001, 0.15459728666438446, 0.11288922795565125, 0.059898915318050784, 0.020223803075184506, 0.05631143980302019, 0.08276676440394064, 0.08366764724299422, 0.06268980894671167, 0.03618640414645468, 0.03245068732771491, 0.0353938047583431, 0.035282635581140295, 0.04078048394664628, 0.03428960131803409, 0.019943129510682642, 0.06244998041133371, 0.12228359356803926, 0.1809211501741774, 0.2322369657051416, 0.27369578349500895, 0.3047014902874332, 0.3255967178547568, 0.3370058228758649, 0.33944122145121486, 0.33312555886453454, 0.31801360928680045, 0.29404356752459376, 0.2617247919184273, 0.22332036276085152, 0.18509208044101286, 0.16003956563753224, 0.16273788748002974, 0.19107868370558184, 0.22970348332469348, 0.26747363357738035, 0.2997689772931919, 0.32552985356335107, 0.3452605892915745, 0.38241614246876965, 0.3740436703949608, 0.3623851950329951, 0.3467024065140907, 0.3264847025264199, 0.30181066469727796, 0.2738573343649159, 0.24536329227781636, 0.22033894214677946, 0.20183103610632622, 0.1882658746584817, 0.1727744652477643, 0.14740682743496133, 0.10770303099368653, 0.0549087579865457, 0.0031622362093223946, 0.051939767793242095, 0.07874981750451328, 0.07878181399086565, 0.05570160303288869, 0.024175032633562545, 0.022799601557581647, 0.028772095905161423, 0.029950566754658372, 0.03733351935614031, 0.029747757918057668, 0.009184695376025996, 0.060014642258227884, 0.12111271118234683, 0.1801650122663315, 0.23172157110106534, 0.27339116284289816, 0.30462451763671017, 0.3257958285604711, 0.3375703394899545, 0.34052222589826325, 0.3349667537843735, 0.32099454036861785, 0.2987375570065705, 0.2689629223000207, 0.2341894662067354, 0.20051491635018862, 0.17902825963281882, 0.1807752211556438, 0.2044090935264737, 0.23820024291419703, 0.2723521818766723, 0.3021962204408495, 0.3263841751611585, 0.34516952954915514, 0.38162957298608174, 0.3728016799671639, 0.36045070909247173, 0.34373602523671326, 0.32202194724797145, 0.2952659065734107, 0.26461646668352606, 0.23309218498521148, 0.20560493019083673, 0.1865821956491671, 0.17502485050967037, 0.1630580610132816, 0.1414231506126152, 0.10515164335358561, 0.05613977816569774, 0.01764462127639754, 0.052792082168412344, 0.0773869883262704, 0.076276244511962, 0.052055361325045756, 0.01623250948720659, 0.015186231604524123, 0.021857450309907035, 0.023047296954707076, 0.032755416185156004, 0.025359087096043918, 0.008885088947582827, 0.06178511908919166, 0.12231440624592105, 0.18088882588037933, 0.23215663629467045, 0.27370624224854684, 0.3049600235336351, 0.32628211773003185, 0.3383540654194, 0.3417970065180045, 0.3370091996115142, 0.3242075236920712, 0.30369879125737875, 0.2764586353359828, 0.24514178646962495, 0.21549296819266348, 0.19686970186548977, 0.19778329866402025, 0.2173948391112795, 0.24670396798718314, 0.27728161634764115, 0.30461172209639714, 0.32715570760677765, 0.34494844064910823, 0.38087632150043493, 0.37161062103397163, 0.3585900472365577, 0.3408680439696019, 0.31767126801007567, 0.2888043452758619, 0.2553249007060133, 0.22045679319454223, 0.19007379096098745, 0.17038992413484158, 0.1613090823078379, 0.15366341031412178, 0.13663434639647695, 0.10496582227766095, 0.06212265191984851, 0.033974020412983884, 0.05740144414946482, 0.07806503636341848, 0.07576091443050721, 0.0517376387941689, 0.017333728398552167, 0.013343298609434642, 0.015997704510048744, 0.015301619259236343, 0.02737726845267579, 0.020852770972151262, 0.017807178646344395, 0.06683288624528688, 0.12553106990191457, 0.18292144074780756, 0.2334526138447093, 0.2745913873304398, 0.30567814337720606, 0.3270343159470312, 0.3393369373556566, 0.34324028307638277, 0.3392148532934265, 0.3275910757953722, 0.30882684085879325, 0.2840541774455521, 0.2559611659224918, 0.22983152157454706, 0.21351517007564716, 0.21366977655565533, 0.22980641537709146, 0.2549955806564816, 0.28210220743316555, 0.3069039835562872, 0.3277648534911509, 0.34453909759425866, 0.3801636662580237, 0.37048356802914795, 0.356826436647204, 0.3381390416702017, 0.3135015883580337, 0.2825368829197349, 0.2461412980938233, 0.20762810188696476, 0.17382941632870613, 0.15324626873020594, 0.14717424166446935, 0.14467032468712288, 0.13296223586127956, 0.10661406682949982, 0.07049107060262606, 0.04844654541108552, 0.0636717965727865, 0.07989965308709043, 0.07653204149479603, 0.05382099255222391, 0.02454491404299107, 0.017693746426013717, 0.013520598415138264, 0.008245600556127329, 0.02165363565422591, 0.01595841300211587, 0.026948619425060775, 0.07382701623758854, 0.13025972023433538, 0.18602608027306777, 0.23548753150006113, 0.2759801224978405, 0.30673995997197406, 0.32802615540977037, 0.3404961105194668, 0.34482540514914056, 0.3415457121125997, 0.33108629555118213, 0.314029832481391, 0.2916142932748523, 0.26647974578272215, 0.24340020657965722, 0.2289411998698847, 0.22838074083744733, 0.24147859799394467, 0.2628941560712981, 0.28666910722820366, 0.3089653894064952, 0.32813157021240813, 0.343881496134813, 0.3794983224981312, 0.369432807777904, 0.3551822234546581, 0.3355892664877626, 0.3095841411310731, 0.2765850382091479, 0.23725535838979986, 0.19483962822668613, 0.15701532006779334, 0.1351638352642168, 0.13272946914930872, 0.13618882013543598, 0.13027892505282077, 0.10944696084033195, 0.07938056773285346, 0.060744404895693466, 0.06993859612194353, 0.08198300114397279, 0.07776889918643803, 0.056942214826831386, 0.03231699858562271, 0.023510637559558595, 0.015386015437965373, 0.007323055440439206, 0.016405290645059176, 0.010888926830205727, 0.03533855763093096, 0.08165063148987399, 0.1359673496485529, 0.18993363089840912, 0.23811909756582994, 0.2777942159183576, 0.3080998894599894, 0.3292276491113379, 0.341806823153923, 0.34652517513172115, 0.3439648635616341, 0.33463834113840796, 0.3192262100854705, 0.2990265690748986, 0.2765711132942865, 0.2561154770225847, 0.24314353498319735, 0.24188950784433808, 0.2522948622149933, 0.27025327252633324, 0.2908534964783153, 0.3106937514993946, 0.3281764245374171, 0.34291449994257245, 0.37888621146189344, 0.3684693844326505, 0.3536779883716957, 0.3332569582056448, 0.3059894625843271, 0.27107639829817476, 0.22888475497600833, 0.18239927061607564, 0.1398630969344073, 0.1161813419266342, 0.11816789796991553, 0.12837095839042323, 0.1284316352129697, 0.11284109610118936, 0.08765980592645924, 0.07068287578467172, 0.07514251506339609, 0.08354545556135767, 0.07871276791968089, 0.059874779312138006, 0.03866901910697896, 0.028290930327846412, 0.018948230562191703, 0.012925528170574766, 0.013388363185073273, 0.008074647096600076, 0.043043071374183894, 0.0895757811787006, 0.14217577242030788, 0.19437418398347894, 0.24119743861289547, 0.27994928298515537, 0.30970834745217557, 0.3306064979899452, 0.3432432942206186, 0.34831262177877775, 0.3464373632108668, 0.3381974935869681, 0.3243456273381941, 0.3062004423444384, 0.28614350758370544, 0.26792836444390755, 0.2561328988742019, 0.25418946745073023, 0.262175660030594, 0.276956573983165, 0.2945425535688234, 0.31199321911288885, 0.32782137150864665, 0.3415763894569941, 0.3783322407249688, 0.36760265168130263, 0.35233163856186606, 0.3311765214954129, 0.3027838050946477, 0.2661381642905848, 0.22126722497892365, 0.17069767358198473, 0.12273920940620243, 0.09636950544273225, 0.10381482866796674, 0.12141793980990451, 0.12726868238979652, 0.11628809790380876, 0.09470935601764918, 0.07816476857441261, 0.07865914934690715, 0.08401133684339179, 0.0787628067428839, 0.06174952451270901, 0.04294428310899076, 0.031141205222865904, 0.021799267305513653, 0.018857499997527696, 0.014661749190674086, 0.01182277005272135, 0.05024417017047992, 0.09718502921643109, 0.14850123672163412, 0.19910098606792873, 0.24457661498893113, 0.28236027192999275, 0.31151445318376697, 0.33212952316526534, 0.3447796039279432, 0.3501616951214618, 0.3489309270528548, 0.3417198363267468, 0.3293291516099159, 0.3130654278394792, 0.2951336667024705, 0.27881577146388514, 0.2679318314755897, 0.26528919963820136, 0.2710696889905693, 0.2829132983325755, 0.29763865767014064, 0.3127746728306625, 0.3269902801483481, 0.33980531553622095, 0.3778401077965772, 0.3668398577729352, 0.35115753022653023, 0.3293766631315651, 0.30002517469660306, 0.2618889461423706, 0.21464639927046011, 0.16020591777372462, 0.10622345531445779, 0.07583715590555412, 0.09020382752008739, 0.11557572225209001, 0.12665968771022162, 0.11942613090433198, 0.10022650152123229, 0.08317498926875197, 0.080142451991729, 0.08299561464676443, 0.0775035517858794, 0.062036646495154356, 0.04493298185850009, 0.03173117245265321, 0.022888299835744506, 0.023735940503903603, 0.0192905305005136, 0.01911650137705286, 0.05703172124458452, 0.1042487819983337, 0.15465949349395913, 0.20390502577324568, 0.2481237457878791, 0.28494632138948156, 0.31346855483085617, 0.3337640273759026, 0.3463905118282804, 0.3520478614270501, 0.3514164384846082, 0.3451675998351672, 0.33412895881413074, 0.3195689586216862, 0.3035015101757817, 0.28877415482746155, 0.2785722278096506, 0.27520898297214996, 0.27894740153607134, 0.28805417057731936, 0.30005816390731016, 0.3129557324742147, 0.3256092447876754, 0.3375396711522949, 0.3774121389023295, 0.36618579001322404, 0.3501656824912804, 0.3278786328571013, 0.2977593084746831, 0.2584293722785382, 0.20925087816639726, 0.15145063283483026, 0.0912331178412585, 0.054737598486601896, 0.07818440514932694, 0.11111126880101557, 0.12650574717806812, 0.12203515365467503, 0.1041133206394405, 0.0857815616216278, 0.07943274004970684, 0.0802822822472764, 0.07469990913606664, 0.060470636808267045, 0.044666579671567196, 0.03004942000160437, 0.02191319341187661, 0.027396508177410808, 0.024957515176033687, 0.026887718660031566, 0.06333607327606225, 0.11063258011484826, 0.16045352334261495, 0.20862149602519503, 0.2517253174006338, 0.2876346600645512, 0.3155244069157344, 0.33547900527577784, 0.34805217529835075, 0.353948584736772, 0.3538682803674025, 0.3485092297086099, 0.33870767848438715, 0.3256741100311074, 0.3112256613467605, 0.2978148525793716, 0.28809338727509226, 0.283978228411004, 0.28579618525795186, 0.29232784562578007, 0.3017300092573458, 0.31246050681120296, 0.3236067305515639, 0.3347184025209616, 0.37704917399611415, 0.3656425044172091, 0.349361144069808, 0.32669472136246114, 0.29601599159664854, 0.2558325329153606, 0.2052680200058938, 0.1449529329061913, 0.07916559734012929, 0.03327610535725903, 0.06900727963695473, 0.10826491154406959, 0.1267386793032518, 0.12401547826953249, 0.10641638634560756, 0.08613987833971115, 0.0765083036323055, 0.07580308680179389, 0.07028397916564544, 0.05698576384779701, 0.04235694828987104, 0.026375861407593192, 0.01909476682538239, 0.03001702380900748, 0.030323885037979947, 0.03393842219987774, 0.06895278720293153, 0.11624563779262742, 0.16575717389478792, 0.21313066726682386, 0.2552908184369316, 0.2903634000521513, 0.3176408885557912, 0.3372461429939482, 0.34974274107636927, 0.355843688845877, 0.3562645095037765, 0.3517192378582957, 0.34303752039514085, 0.3313573741057848, 0.31829973274415224, 0.30596057064687576, 0.2965404625676766, 0.29163357599108936, 0.2916168045045236, 0.29569796624473044, 0.30259433850241463, 0.31121920146055165, 0.3209136057920426, 0.33128128730201767, 0.37675050730622056, 0.36520916299851297, 0.34874356892509106, 0.3258271647112228, 0.29480614648550374, 0.25413562928595723, 0.2028166253266197, 0.14112779808609893, 0.07184198584144004, 0.011734310568991446, 0.06415273775018561, 0.10718569010924894, 0.12731126501334392, 0.12536039361872683, 0.10729151507335208, 0.08449987528634335, 0.07146150989332856, 0.0696220747212591, 0.06434513935422805, 0.051671268098358286, 0.03837012073625869, 0.02135621393400508, 0.0153189145928174, 0.03193458602077852, 0.03470079182169392, 0.03956946589194557, 0.07361719278721324, 0.12102391282693575, 0.1705018323349949, 0.21735566130257894, 0.2587541523754433, 0.2930832213523921, 0.31978320813979616, 0.33904056995967985, 0.3514427930159727, 0.3577155999837254, 0.3585868947988047, 0.3547778926853491, 0.3470992846397937, 0.3366065805521823, 0.3247292715772122, 0.31324270858401354, 0.3039632363033298, 0.2982174967876619, 0.2964208145010249, 0.2981408414744027, 0.30260128532667896, 0.30916768657445565, 0.3174631145311018, 0.32716921215041056, 0.3765138901775213, 0.36488199580936925, 0.3483070456080664, 0.32526758009922074, 0.29412008604996204, 0.25333428036096795, 0.2019249666874614, 0.1401688501758362, 0.07075978256885758, 0.009751963021967852, 0.06457958718184277, 0.10787256393521456, 0.12818211316102612, 0.1261270938665146, 0.10697803220941059, 0.08121584969965547, 0.0644896455139254, 0.06192673344680461, 0.057128728672883954, 0.044742825836823735, 0.0332108018812025, 0.016262313642083956, 0.012746677004583403, 0.033519069853498035, 0.03768183708538046, 0.04329220977346129, 0.07708779737876062, 0.12493644026509244, 0.17466835110048715, 0.2212588857093, 0.2620733556778324, 0.2957580404238822, 0.3219235883799322, 0.3408413476850567, 0.3531356493593165, 0.3595494757087071, 0.3608208419274748, 0.35767079728098566, 0.3508813302272567, 0.3414190122691453, 0.3305292616122115, 0.3196993074831355, 0.31041517303570754, 0.3037772981829905, 0.30022874450192133, 0.2996437244774179, 0.30171000484641136, 0.30624711104064456, 0.31319083962362376, 0.32232448542169123, 0.37633559977521364, 0.36465439768644214, 0.3480402079902983, 0.3249970145961721, 0.29392720479397155, 0.25338062904881226, 0.20252069433000122, 0.14197342451593642, 0.07585509916993662, 0.03049900914285809, 0.06988447850412442, 0.11015060475538069, 0.12929943745454514, 0.12640722618346914, 0.10577310140007033, 0.07675696048413916, 0.05589817678919523, 0.053026516938946694, 0.04904797145347114, 0.03652867280118432, 0.027517544226867037, 0.013461595670685748, 0.01431958321898614, 0.0350493310865906, 0.03901702437024372, 0.0447739812668922, 0.07921799853252846, 0.12800338229748012, 0.17828335897266348, 0.22483800949312022, 0.2652290768703111, 0.2983648034773012, 0.3240414622370003, 0.3426316991299156, 0.3548075119241032, 0.36133322960141645, 0.3629552271533921, 0.3603883966395665, 0.35437855464625206, 0.34579973248894086, 0.3357220869558704, 0.3253734681767239, 0.31595270418869814, 0.3083644603925389, 0.30306890475641113, 0.3002036607930744, 0.29988802866930564, 0.30240363734019476, 0.30803470352530243, 0.31669122384439125, 0.37621057358995463, 0.36451716130772843, 0.34792663450110767, 0.32498663217747475, 0.2941772043965245, 0.25418572292841823, 0.20443612824496543, 0.14615527622381297, 0.08545084719477639, 0.0503706688171919, 0.07856615696032813, 0.1136952861040854, 0.13058772013063355, 0.1262979126059559, 0.10399986885444733, 0.07171144592463709, 0.046122920805234904, 0.04336326590405144, 0.04071575555823257, 0.02747679114317424, 0.022073802017605466, 0.01496336616584554, 0.019478411721232703, 0.036637668903745826, 0.038584302076699044, 0.04383415873889774, 0.08001356764429675, 0.1303158813547469, 0.18141754999663523, 0.22812164375558736, 0.26822214150008994, 0.3008925589290552, 0.32612323501247314, 0.34439899752455566, 0.35644747721244036, 0.36305746427272084, 0.36498216162150593, 0.3629254467328467, 0.3575914188521711, 0.3497601215938358, 0.3403358754381518, 0.33031212929862946, 0.32063470803165256, 0.31203424789732837, 0.30497671061772447, 0.299826879079664, 0.2971109996599893, 0.29758836217313855, 0.30193504910851254, 0.31021585519244066, 0.376132605902673, 0.36445883939433404, 0.3479455211540462, 0.3251990036911263, 0.294802751722678, 0.2556258182410768, 0.20742749259027235, 0.15213836757863194, 0.09750765811340982, 0.06904695375785373, 0.08899688899121637, 0.11809062616369366, 0.13194011130878397, 0.12587491700743086, 0.10196628313392087, 0.06676654382731442, 0.035799171457517445, 0.03354938580235569, 0.032997838404108484, 0.01822305962722991, 0.017788989422587, 0.01904299813048489, 0.02563948181018666, 0.038254125597605014, 0.036415174294874036, 0.04046883974974044, 0.07967973842907158, 0.13204987993816916, 0.1841831389035848, 0.23116446810435082, 0.27107040842459423, 0.3033409593788163, 0.3281616830852572, 0.3461345449135046, 0.35804742539398815, 0.36471532711532867, 0.36689670545840175, 0.36528047078179365, 0.36052503843037204, 0.3533166106456346, 0.34440315121559245, 0.3345651214737708, 0.3245221484798147, 0.3148455466898614, 0.3059944413311484, 0.29852870127339487, 0.29336283892611215, 0.29175748347387886, 0.29483483849201947, 0.3028477833205174, 0.37609459872207507, 0.36446622051963656, 0.34807259321975326, 0.3255899091895443, 0.29572329218152155, 0.2575515492764868, 0.21120246882055096, 0.15927736641101808, 0.1104490276583912, 0.08628189548284493, 0.09993613673494961, 0.1228931584646316, 0.13321779691094104, 0.12517073303370307, 0.09991647292499299, 0.06263060235457082, 0.025978632538135146, 0.024481113845512808, 0.027021904208381547, 0.010011766263228099, 0.015392222012399873, 0.02313605494323089, 0.03134145931068474, 0.0398381698935919, 0.03278617629144891, 0.0349295022848036, 0.07865713785459146, 0.13346768695186034, 0.18672805966772435, 0.23404143066646713, 0.27380505403450855, 0.30571833522322606, 0.3301550681672845, 0.3478331784917585, 0.35960180737835146, 0.36630230425808546, 0.3686965487159895, 0.3674552215406323, 0.3631883516565633, 0.35648959284142184, 0.3479597367757458, 0.3381844313801629, 0.32767783640964654, 0.3168608800536929, 0.30617136435880593, 0.2963339543651809, 0.28863640073395463, 0.28487277547072776, 0.28668000368292224, 0.2945402685685898, 0.37608885647617335, 0.3645248957728075, 0.3482812036882415, 0.3261105205914647, 0.2968496265473037, 0.25979853718731544, 0.215449138692402, 0.16695315009887488, 0.12323215265431742, 0.10187363133221436, 0.1105469921307119, 0.12768114974054637, 0.1342559673236831, 0.12416088714035445, 0.09798356506062916, 0.059866724825248324, 0.018760654420448494, 0.017604073133503817, 0.02382064433035752, 0.00713743858870367, 0.014652161540211872, 0.025937252430296955, 0.03598280892803136, 0.04142789639263897, 0.02844113703839416, 0.02797169383701923, 0.07763028858401529, 0.13490244332280782, 0.1892254296565195, 0.2368407967769383, 0.2764664135094896, 0.30803947762694045, 0.3321060499981602, 0.3494927475062837, 0.36110735286549017, 0.3678159684720851, 0.37038167383241904, 0.36945416300158995, 0.36559336811332055, 0.3593024916017768, 0.3510438535080558, 0.3412236211438965, 0.33016627606536797, 0.31814655357274146, 0.3055641605166425, 0.29327786924774224, 0.28293468137387207, 0.2769024415221867, 0.27741997913121624, 0.2852515872768696, 0.3761074111532468, 0.36461988804887996, 0.3485435552673771, 0.3267098098280473, 0.2980888215521315, 0.26219804117022905, 0.21986093390712097, 0.17462534690529294, 0.1351870293901468, 0.11565870115997669, 0.12027773507986178, 0.13208356298286353, 0.13487490301483177, 0.12276107870615251, 0.09615846239568025, 0.05867628030777441, 0.017442599994150133, 0.014800783563039998, 0.023335949122196012, 0.011532972385942076, 0.014255315475270987, 0.026929492962847544, 0.039451014710021944, 0.04323810656620075, 0.025029828671605244, 0.021688787984380918, 0.0774682828657215, 0.13672312039602655, 0.19185814538077087, 0.23965614105145835, 0.279099550494392, 0.31032327005991484, 0.3340204815684446, 0.3511135055500267, 0.36256272349093077, 0.3692556964536146, 0.37195401200722616, 0.37128398061493956, 0.36775449678255606, 0.3617809635808854, 0.3536953776014726, 0.34373735672302225, 0.3320535575418372, 0.31877287517593256, 0.3042375816023133, 0.28940745084858877, 0.27627266520387195, 0.2678224322968754, 0.2670084430949373, 0.27494655182662, 0.37614236281247065, 0.3647363123509231, 0.34883197725338827, 0.3273370241764405, 0.29934905795896244, 0.2645865821056491, 0.2241550118025092, 0.18184997057215535, 0.14587609315472627, 0.1275079207033145, 0.12876155387579502, 0.13579296023449441, 0.13489426385153264, 0.12083592881249895, 0.09428788082772804, 0.05878308969784299, 0.021676765897831306, 0.01583878069845573, 0.0241052813457776, 0.016475033866560056, 0.012866045768993053, 0.026129048438775507, 0.04200525416766669, 0.04564696285731022, 0.02521263809683138, 0.020888580046303548, 0.07905046068054655, 0.1392828551616453, 0.19480002112314476, 0.24257775986506738, 0.28174979299009106, 0.3125903121368332, 0.3359061696703463, 0.352697462826907, 0.3639681351197167, 0.37062237007857135, 0.373417103773751, 0.37295312579131024, 0.3696879495616942, 0.36395221577919484, 0.35595521455249685, 0.34578100510962384, 0.33340725477784783, 0.3188143890359718, 0.3022652607588657, 0.2847832948161263, 0.26867991514289324, 0.25761834938732264, 0.25540429194598363, 0.26359850207753943, 0.37618621950691483, 0.3648600342819809, 0.3491201889186787, 0.3279440833696642, 0.3005441022060741, 0.2668139209898571, 0.22808393179371056, 0.18827723949405895, 0.15500712077185785, 0.13732265361853963, 0.13575316749753516, 0.13856886554945436, 0.13414881697726777, 0.11821781075319167, 0.09210487909099961, 0.05954373877234243, 0.027406954078195305, 0.017743178261941245, 0.024466116592383177, 0.020023738579358345, 0.009897700750889332, 0.02418614728490842, 0.04421433573008343, 0.049082587895500795, 0.030552370712422675, 0.02844802985646779, 0.0829986473798593, 0.14286106330217427, 0.19819628127788408, 0.24568430761628093, 0.28445853273006755, 0.31486068148851887, 0.3377716794599178, 0.35424774063361286, 0.3653249721408443, 0.3719180749761708, 0.3747757721291214, 0.37447139796796053, 0.37141121449475617, 0.36584441764763936, 0.3578647613514447, 0.3474102653829106, 0.33429628756393065, 0.31835005393631266, 0.29973057640649475, 0.2794818046676895, 0.26020404504291195, 0.24628811064175027, 0.2425728691102331, 0.25119192890047803, 0.37623222069143786, 0.3649782947362559, 0.349384486095576, 0.32848777691088854, 0.301597190746124, 0.2687491964269102, 0.23144190608190765, 0.1936412954127856, 0.1623829614575409, 0.1450313399402335, 0.14109123998482048, 0.1402366465636456, 0.13250428844480594, 0.11473252856195175, 0.0892820633420361, 0.060203865325271, 0.03234676881526981, 0.01838426721427589, 0.02343030875441238, 0.02221879000073488, 0.00650460464415848, 0.02270616052511508, 0.0468365549362882, 0.053854953779256004, 0.039851893171912456, 0.04089364085680281, 0.08946869365802154, 0.14761596923499337, 0.20214697740997353, 0.2490356235864695, 0.2872596100018337, 0.31715197296489406, 0.3396252541092216, 0.3557679660418601, 0.36663541442227904, 0.37314580818427334, 0.37603581484882814, 0.37584956572459827, 0.37294259231127896, 0.3674861912898627, 0.3594654307518739, 0.3486808036482196, 0.33479070644408504, 0.3174632885354058, 0.2967274432489047, 0.273597722666146, 0.2509152444278111, 0.2338456497761969, 0.22848746814097176, 0.23772597646894267, 0.3762746290685896, 0.3650802713638888, 0.3496047959831223, 0.3289316687489657, 0.30244421480885997, 0.27028532877767164, 0.23406732625893029, 0.19774840738485894, 0.16787245662780045, 0.15058627628036603, 0.14467586001204688, 0.14068481030711896, 0.12987251116058926, 0.11022819814329837, 0.08549070699636517, 0.060119826428155304, 0.03577985963564176, 0.017092342789744988, 0.02082883912604998, 0.023863680590104887, 0.008800958274779988, 0.024104583076898858, 0.0505871314977304, 0.0600313677431187, 0.05128882386828726, 0.05526961552429547, 0.0981586875337477, 0.15356308449700323, 0.2066965949150241, 0.2526676508420269, 0.2901765784904573, 0.31947773553366704, 0.3414739090622684, 0.3572617387510166, 0.36790209456570705, 0.37430920479746116, 0.37720372105244954, 0.3770990271814703, 0.3743007898471129, 0.3689061653957396, 0.36079821714506266, 0.34964786726364905, 0.33496136185475023, 0.3162417995985102, 0.29336086967433306, 0.2672468182551432, 0.2409120523338578, 0.2203260894460633, 0.21313112749073956, 0.2232192218477846, 0.3763089774515056, 0.3651575512861534, 0.34976555538817067, 0.32924764478182245, 0.3030361709645005, 0.27134196258296683, 0.23584311848182918, 0.20046663816962124, 0.17139327800650395, 0.15396067268253083, 0.14645445349895886, 0.13986197787289506, 0.12622539591515092, 0.10460460251620074, 0.08045149406698363, 0.05886846525637803, 0.037706851977537925, 0.014331116147293856, 0.017579426628921355, 0.02625500659783295, 0.017112356875520405, 0.02967944736314138, 0.05586591390042419, 0.06742518097568995, 0.063653602110434, 0.07025003326184893, 0.10849700213773743, 0.16058508179637349, 0.21183170550828165, 0.25659005695665854, 0.2932210632421036, 0.3218463949114808, 0.3433227449969348, 0.35873219459750383, 0.36912779943378804, 0.3754122914769268, 0.378286415678714, 0.37823150907278863, 0.3755045643641397, 0.3701325812355296, 0.3619032886058052, 0.35036585987976243, 0.3348794242219082, 0.3147771072442743, 0.28974708299725527, 0.2605684679424036, 0.23032857180914937, 0.20579312016904655, 0.1964987332081553, 0.20771640593727042, 0.3763322594591659, 0.36520449437056274, 0.3498563783652801, 0.3294170628778397, 0.3033408924995024, 0.2718672650439198, 0.23669610714616673, 0.20171804097627088, 0.17290176242790123, 0.15514602813609504, 0.14641244026142192, 0.13777385538025574, 0.12160737963694683, 0.09784209858674388, 0.07397022371607764, 0.05627535523784498, 0.038553098107134254, 0.012400028770940387, 0.016482153375298552, 0.030613602960109544, 0.027607440670421722, 0.03849565659376385, 0.06262899682615493, 0.07567206884769667, 0.0761975621872743, 0.0851368105021819, 0.1198452492975782, 0.16846564837578612, 0.2174865162258488, 0.2607867255706568, 0.2963923028745195, 0.32426070690828085, 0.34517450519573634, 0.36018168168421244, 0.3703152258262179, 0.37645927253927997, 0.3792910342540302, 0.37925880335138196, 0.37657241351966647, 0.3711929417961179, 0.36281959470785247, 0.3508878659088605, 0.33461573077614015, 0.3131636867557778, 0.286012989195507, 0.2537276989598322, 0.21934322403499038, 0.19034984202453736, 0.1785994462183382, 0.19129830347847654, 0.37634305556021946, 0.36521847177912514, 0.3498724896668456, 0.3294314835102452, 0.30334409877133295, 0.27183886295482024, 0.236596173881643, 0.20147362985458186, 0.17238724891178522, 0.154149888710402, 0.14456668346858714, 0.13448008288883018, 0.11614581710044508, 0.09003136775732332, 0.06595878245140756, 0.05241382998499659, 0.03903717811827926, 0.015342704717461993, 0.020801182935406698, 0.03738867867544567, 0.039110970236972936, 0.04904392197905931, 0.07047891896988509, 0.08432301097264451, 0.08840584467467255, 0.09947711245635978, 0.1316199038078822, 0.17693288894474465, 0.22355437706384493, 0.2652188240139628, 0.2996778295087501, 0.32671773820279176, 0.347029383174915, 0.3616115561034384, 0.371466795899417, 0.3774543521676317, 0.3802247291876757, 0.3801925398547689, 0.3775223066240691, 0.37211369784402376, 0.3635844846959377, 0.35126512110010194, 0.3342399480298257, 0.31149766310057364, 0.2822947139731516, 0.24691605304573727, 0.20818884475353677, 0.1741552726380912, 0.15945947654143205, 0.17409690151134813, 0.37634158900271975, 0.3651999702013108, 0.34981491013271, 0.32929297172725897, 0.3030497996815616, 0.27126411728367356, 0.2355556619323066, 0.1997510950401298, 0.16986975999864554, 0.1509940812429363, 0.14096081689444745, 0.13009074781127652, 0.1100581215526591, 0.08140759640276618, 0.05644539844962936, 0.04761158507053773, 0.040010512203060934, 0.0231907105986943, 0.029760223654187668, 0.046230000228479146, 0.05103548373070026, 0.06021072504029711, 0.07885054015135487, 0.09291213343011949, 0.09988728682045536, 0.11294168527960184, 0.1433373176669409, 0.18569939693726095, 0.22990238094473056, 0.2698297907751903, 0.303055114672878, 0.32920932470499337, 0.3488850670508791, 0.3630220954346306, 0.37258453372021827, 0.37840159418546315, 0.3810945077953633, 0.3810439933762435, 0.3783714537566828, 0.37291996724782844, 0.3642333354258764, 0.35154643468680685, 0.3338195561725324, 0.309875025219315, 0.2787349848400145, 0.2403503777722102, 0.19716320945891613, 0.15745041250693023, 0.1391252482271272, 0.1563199615935957, 0.3763297093735256, 0.36515255798884333, 0.3496903891252405, 0.32901396942786315, 0.3024800778127207, 0.27017982824758996, 0.233629199323539, 0.19661519959512347, 0.1654006797424282, 0.145713549125151, 0.1356622403193764, 0.12476249805720334, 0.10365307020893759, 0.07239419727041829, 0.04557930009320362, 0.04248397654804868, 0.04219579510294606, 0.03339979002477326, 0.041048373137178434, 0.05646153012542078, 0.0629404595583271, 0.07124504293613144, 0.0871573052046569, 0.10099523436586466, 0.1103270090006137, 0.12528039053635937, 0.15461798299059595, 0.1944922587797535, 0.23638626083568415, 0.2745514048334706, 0.30649391959219086, 0.3317229193360503, 0.3507369901984751, 0.3644125202748565, 0.37367000047487364, 0.3793048188937087, 0.3819071013438149, 0.38182392338130783, 0.37913611019537624, 0.3736352861758217, 0.3647991929451847, 0.3517775775982648, 0.333418682310814, 0.3083893740734283, 0.2754791813752731, 0.23426844236055014, 0.1866376026655092, 0.1406005707883603, 0.11766707013966887, 0.13829270468865032, 0.3763108047980195, 0.3650827152062103, 0.3495110876340884, 0.3286167430193032, 0.30167424999920617, 0.2686513505432185, 0.23091386960071691, 0.19218082508254486, 0.15906670248509175, 0.13835595176113502, 0.12876118493217406, 0.1186945354467651, 0.09732136756175438, 0.06365731062273515, 0.033636181121706195, 0.03797593396142995, 0.04591091173829553, 0.0445226631509223, 0.05327421455742923, 0.06740968490980186, 0.07445858319816391, 0.08161418450365583, 0.09486512353941089, 0.10816878045387147, 0.11946618606254426, 0.13630342992464153, 0.16517609988068752, 0.20307196823553644, 0.24286354247777198, 0.2793101055313287, 0.30995904579242195, 0.33424271563474867, 0.3525787448920238, 0.3657811075910361, 0.37472428255087487, 0.380167534778141, 0.38266886362949337, 0.382542444548688, 0.37983141438335644, 0.3742813926945293, 0.36531243542710723, 0.3520006597573392, 0.3330968318025367, 0.30712928000416634, 0.2726700231258864, 0.2289202513560067, 0.17705849253396636, 0.12416427496554196, 0.09518367885549739, 0.1205308223754281, 0.37628964700022877, 0.3649995353192408, 0.349294024151027, 0.32813241806591037, 0.30068739156210417, 0.26677099047874914, 0.2275494099230174, 0.1866186189324202, 0.15099800009343606, 0.12898222607812027, 0.12037296696714113, 0.1121252515004223, 0.0915078217979732, 0.056144896175183694, 0.021043962594419974, 0.035270028834106404, 0.05098793723166874, 0.0557848891501533, 0.06564181187745238, 0.07850409664986889, 0.085279503780371, 0.09092267097271317, 0.10151779963166704, 0.11407841250065733, 0.12709396047302265, 0.145872803232005, 0.17480663159847842, 0.211242306760114, 0.2492038736572196, 0.2840328792772602, 0.31341318634154697, 0.3367509230553704, 0.3544026078126553, 0.36712537508937837, 0.37574802414869946, 0.3809929015162429, 0.38338569696352215, 0.38320892626753333, 0.3804712582538077, 0.3748780447318065, 0.36580046810994105, 0.35225352661166076, 0.3329075882548135, 0.30617539521360426, 0.2704410886529329, 0.22455431766663964, 0.1689339765481011, 0.10899853874599012, 0.07180906622690737, 0.10386661639031378, 0.37627217647874184, 0.3649143117789423, 0.3490603042235313, 0.327599621904551, 0.29958819824202076, 0.26465546712611115, 0.22371783256726982, 0.1801630065354868, 0.14138252774951865, 0.11766836101935231, 0.1106456591261271, 0.10533071329875361, 0.08665713444797549, 0.05099621889102403, 0.008649513894937916, 0.035270363671357004, 0.05693111866088582, 0.06667471337336077, 0.0776277738153691, 0.08928856289018258, 0.09514751169134364, 0.09887335499161795, 0.10674020824374437, 0.11842233088613906, 0.13304529519473812, 0.1538987056364754, 0.18337408474224726, 0.21885402285200792, 0.25529626410840683, 0.2886522458725082, 0.3168196191558376, 0.33922907341273584, 0.3562001238138873, 0.36844231328612814, 0.3767414943730718, 0.38178371969746633, 0.3840630029394396, 0.3838319191700885, 0.3810681891233091, 0.375442875257165, 0.3662874626690802, 0.3525692098125153, 0.3328973696992402, 0.3055975350263036, 0.2689096438364616, 0.2213991740303839, 0.16279453136812055, 0.09638173913999813, 0.047728956046702554, 0.08963726588295384, 0.3762652377945931, 0.3648400279888419, 0.3488341639022678, 0.32706276916573324, 0.29845617037760086, 0.26244216660333297, 0.21964153946969647, 0.17312175627340592, 0.1304899833110526, 0.10450876101013071, 0.09977753261466862, 0.09862618949626871, 0.08313354075508425, 0.04911644466199916, 0.006301931187345936, 0.03785589877282779, 0.06313241365741895, 0.07681537243839462, 0.08886293292111942, 0.09941294963162965, 0.10386383602433559, 0.10524936321521351, 0.11023387976608878, 0.12095236017786003, 0.13720218569933856, 0.1603387905028976, 0.1908038877777945, 0.22580473064757312, 0.2610534861212261, 0.2931100968858526, 0.32014454662383185, 0.34165925283642246, 0.357962696732458, 0.3697286415173059, 0.3777046779313932, 0.3825424420398224, 0.3847056550144826, 0.3844191067128911, 0.38163334253188064, 0.37599128782795505, 0.36679415386599323, 0.35297546851741707, 0.33310433749888546, 0.30545199187168137, 0.26816954230544454, 0.2196420521776472, 0.15912189186781092, 0.08801549229997742, 0.023277280341558047, 0.07981325208753008, 0.37627627728758906, 0.364790773869669, 0.34864186693022736, 0.3265700443684116, 0.29737813674163605, 0.2602839278784357, 0.21557867155242189, 0.16588498045033742, 0.1187114930665653, 0.08962197444021172, 0.08805321059785014, 0.09237058833604773, 0.08113588210337992, 0.05053084687246115, 0.016974607587608343, 0.04191093863373891, 0.06900972907897876, 0.0859251144035873, 0.09908905238841666, 0.1086245118298513, 0.11129072570577678, 0.1099068422671339, 0.11177141615578075, 0.12147419568096543, 0.13949727662437914, 0.16519935559501767, 0.1970760633948149, 0.23203669630991125, 0.26641411932959547, 0.2973603190287634, 0.32335895549836097, 0.3440251758998006, 0.359682142365214, 0.3709810655271215, 0.37863737858874946, 0.38327120063413794, 0.38531798973687964, 0.3849772797373468, 0.3821764053535972, 0.376536395352013, 0.3673377052921825, 0.3534944556023711, 0.33355755278811205, 0.3057793628164524, 0.26828515162272204, 0.21940847591655796, 0.158256038969727, 0.08556547089090234, 0.005294741585556249, 0.07656223917674762, 0.37631301730898664, 0.36478111617619136, 0.34851050490049174, 0.3261711594244298, 0.2964441938509244, 0.25834220012280884, 0.21181423377727593, 0.1589289975847385, 0.10662421622746024, 0.07316103426106464, 0.07591774266500075, 0.08696987463331829, 0.08065191557757605, 0.05428478373542243, 0.026781825816900404, 0.04608235787879786, 0.07406928064265203, 0.0938058842921952, 0.10814129301482606, 0.11676138699647684, 0.11735623736223447, 0.11277435184086751, 0.11119229482733306, 0.11984779399404759, 0.13991979486215544, 0.16853791589510284, 0.20222055006615816, 0.2375334968529806, 0.27134276092821813, 0.30137026055859106, 0.3264399361368115, 0.3463130442491395, 0.36135116777017556, 0.3721965171608606, 0.3795393252887891, 0.3839718448452026, 0.38590381339339797, 0.3855123318460878, 0.3827056082483347, 0.3770890040730372, 0.3679316536159708, 0.3541425370369288, 0.3342764613109561, 0.30660314364372576, 0.26928725837813283, 0.22074753822276164, 0.1603135202937327, 0.08966912338472167, 0.027695428394952943, 0.08083445817272564, 0.3763831221590844, 0.36482545253971654, 0.3484667577656095, 0.3259149894532264, 0.2957432169904126, 0.25677862924983885, 0.2086457068865299, 0.15280682595500245, 0.09508881440733995, 0.05533709449434521, 0.06412818826290906, 0.08286879331432058, 0.08148783187372256, 0.059091177423614534, 0.034617196147605424, 0.04926960351538703, 0.07793394628705089, 0.10034385056574732, 0.11594056155378571, 0.12374783853562893, 0.1220592552696547, 0.11385743439688455, 0.10840125318486885, 0.11598875518095972, 0.13852429277779899, 0.1704667082965816, 0.20631345116273359, 0.24231603772316962, 0.27582885722156825, 0.3051211710460804, 0.3293714539863395, 0.34851215763542037, 0.36296375149866833, 0.3733723606101772, 0.38041027219579004, 0.38464598489584223, 0.3864664209194097, 0.38602927333270715, 0.3832277461104188, 0.3776576434900746, 0.3685859371589675, 0.35493028325376436, 0.3352707621675067, 0.3079292682642748, 0.2711716628348673, 0.22362690835742768, 0.16515867196678014, 0.09943082754403788, 0.052279772809816764, 0.09146648633122036, 0.3764938712465653, 0.36493738055400043, 0.34853567777190086, 0.3258472136166005, 0.295358190453441, 0.25574546245983626, 0.20636271400052364, 0.1481138372310061, 0.08535975226131581, 0.03650355594446327, 0.054035769261300964, 0.08051432826110379, 0.08336300548063329, 0.06392011272869301, 0.04009587746122999, 0.05070407523924162, 0.08036411740987083, 0.10551568837482256, 0.12248993919077414, 0.1295903912287266, 0.12547438118028012, 0.11324825278489457, 0.10337040140577193, 0.10987180260672995, 0.1354431721449961, 0.17115653374865095, 0.20947346857127708, 0.2464380963344452, 0.27988451265137837, 0.3086077768528275, 0.33214460627983144, 0.35061526828962547, 0.3645154100592711, 0.3745065541483482, 0.3812500856671591, 0.3852950367904263, 0.38700862408927106, 0.38653226130987467, 0.3837482246448327, 0.378248641313879, 0.3693070102302145, 0.3558626395174194, 0.3365406822633822, 0.30974666234740045, 0.2739007262374662, 0.22793903748280497, 0.17244441183295917, 0.11313928380297218, 0.07650361163278155, 0.10627307556213846, 0.37665185447781535, 0.36512911278847854, 0.34873956181949384, 0.3260081035474791, 0.29536168750457437, 0.25537555344991547, 0.20522204601420316, 0.1454192861194788, 0.07907778707298725, 0.017772324739424715, 0.04787146157596111, 0.0802812433330248, 0.08601962445905363, 0.06817361091289985, 0.04305979590016491, 0.04990097458818754, 0.0812816770830322, 0.10939722358170889, 0.12787235796649293, 0.1343739010303317, 0.12775606895563987, 0.11114090699387416, 0.09614728232009015, 0.10153836562052698, 0.1309043170916463, 0.17083997434297832, 0.2118577580797243, 0.24998138064922248, 0.2835415391000103, 0.31183716113321974, 0.33475742385915774, 0.35261868866340645, 0.3660033459256229, 0.37559776091390146, 0.38205881314288576, 0.3859202650252171, 0.38753278626548826, 0.38702464360620803, 0.3842711306254967, 0.3788662408050902, 0.3700980398820581, 0.3569392694418584, 0.3380776410652155, 0.3120287557548185, 0.2774076061996457, 0.23351672310390553, 0.18169877509669105, 0.12919035651305394, 0.10008360907909634, 0.12337030082560957, 0.3768627035279644, 0.36541096621679753, 0.3490969743489164, 0.32643060521010625, 0.2958118812353853, 0.25577309793940894, 0.20542167678552295, 0.1451690549939927, 0.07784207300711972, 0.01147515555975433, 0.048079012138077935, 0.08238076114216106, 0.08930032981907703, 0.07165521353144721, 0.04358529687179712, 0.04662112347046556, 0.08080107136683172, 0.11217130476463297, 0.1322474381115176, 0.1382564028502148, 0.12914072231539792, 0.10785300454431807, 0.08687419294692893, 0.09111276147513078, 0.12525505815380514, 0.16981239638538667, 0.2136564401867024, 0.25305002094738566, 0.2868479406259621, 0.3148271107376907, 0.3372142941367238, 0.3545221771422874, 0.36742648108300185, 0.37664540668581303, 0.38283673096544385, 0.3865228204098444, 0.3880408613067256, 0.38750901395707693, 0.38479932282453316, 0.3795127561068644, 0.3709591771160737, 0.3581550534694424, 0.33986525525409794, 0.3147357854074652, 0.2816024692510078, 0.24015381132840047, 0.19241506706389785, 0.14641942010821854, 0.12284851946120061, 0.14150330154425725, 0.37713087049579275, 0.3657909501891159, 0.34962197459390404, 0.3271388469734214, 0.296749463311031, 0.2570063837073031, 0.20707930288212212, 0.1475906681772015, 0.08232299506493411, 0.02918929888356267, 0.055081547551226406, 0.08680683659154398, 0.09317690593762816, 0.07450604897478856, 0.042071456574554036, 0.04088263167378946, 0.07926792021716998, 0.11413092569585193, 0.13584542002842054, 0.1414612983883815, 0.1299444183953367, 0.10385218120740387, 0.07583256604983075, 0.07883863221947743, 0.11899198619020276, 0.16842830644358678, 0.21508506545611433, 0.2557644268646673, 0.28986399229630844, 0.3176040817797725, 0.3395250891615555, 0.35632863650712493, 0.368785387087644, 0.3776496864632118, 0.3835843700704076, 0.3871037712172621, 0.3885344345928376, 0.38798727600865623, 0.3853345401043699, 0.3801887596432529, 0.37188789052660715, 0.3595007137508848, 0.3418806051902788, 0.3178176407800792, 0.28637972845244003, 0.2476263369052925, 0.20411682288522084, 0.16405487054459278, 0.14467493322323025, 0.1598947370272687, 0.37745946262709246, 0.36627447097350574, 0.35032358864469826, 0.32814717637305774, 0.2981957763981144, 0.25910368187640875, 0.21022102577350332, 0.15264697835981617, 0.09182211095982266, 0.04995746686605497, 0.06693958718061249, 0.09335993392466092, 0.09773586317526178, 0.07714233112591223, 0.039426128064361333, 0.033089108968714934, 0.07729714298726681, 0.11567213760233834, 0.13895602867994658, 0.14426524419296222, 0.13055267311897437, 0.09977992425039033, 0.0635509840337967, 0.0651699048782633, 0.1127900871829115, 0.1670898352049085, 0.21637454373181744, 0.2582545254267064, 0.29265806360617114, 0.32020092554745594, 0.3417040849849265, 0.3580436661032567, 0.3700821277384353, 0.3786115248312772, 0.3843025201965555, 0.3876641267283313, 0.3890147644968684, 0.3884607136953, 0.38587752278489423, 0.38089329444266484, 0.3728793473013694, 0.3609635295588288, 0.3440956682744139, 0.32121697039112973, 0.29162535372872067, 0.2557105682612611, 0.21639164800540442, 0.18159614019456308, 0.165473840048482, 0.17806357769318057, 0.3778501384958119, 0.36686416348781276, 0.351205549308645, 0.32945978312718815, 0.3001523330974085, 0.26205291983529666, 0.2147833458981034, 0.16006460697202063, 0.10489131206796677, 0.07096767701356925, 0.08151555549181454, 0.10172781898401488, 0.10313476524369143, 0.08017301239338077, 0.03734056465310731, 0.02458488654056919, 0.07577977410982048, 0.1172701245244164, 0.14191035612582076, 0.14698026749655993, 0.13139796857794978, 0.09645064535394475, 0.051089153428485155, 0.0510290147971088, 0.10750985788894558, 0.16622407553260887, 0.21775847245532826, 0.260652532736326, 0.29530234927960397, 0.32265450827878306, 0.34376875677815505, 0.35967501144864, 0.3713200337517964, 0.37953249746354634, 0.38499221467172284, 0.3882048529936005, 0.3894828229992222, 0.3889300656416068, 0.38642814317125124, 0.38162410346061987, 0.3739268246460356, 0.362528103722938, 0.34647881957834986, 0.3248722791469625, 0.2972234918552174, 0.2641962444065507, 0.22890156301404568, 0.1987178143756802, 0.18518435264973776, 0.19570735259694708, 0.3783030674990378, 0.3675598527629545, 0.3522663070451874, 0.33107091250184684, 0.3026017236512364, 0.2658050845104994, 0.22062756865367034, 0.16941854341928597, 0.12013522017304216, 0.09172451510554994, 0.09743863171564252, 0.11156870659084858, 0.10954499955276584, 0.0842717810757083, 0.03823416230395717, 0.01968364341628751, 0.07579103213050024, 0.11943318621581585, 0.14505493248464926, 0.14992954675582573, 0.13292210021976725, 0.0947842144025693, 0.04076318557255187, 0.038599272509999005, 0.10413770470040985, 0.16624780369510042, 0.2194584566801238, 0.26308557669587895, 0.2978686921015871, 0.3250033511549821, 0.34573852949599015, 0.36123195495138455, 0.37250343041950396, 0.3804147226541031, 0.38565469888934745, 0.38872688126475985, 0.38993933448143997, 0.3893956013825908, 0.3869855410740703, 0.38237786766650717, 0.37502213414992386, 0.3641771406331584, 0.34899630655398356, 0.3287207927798473, 0.30306191500306734, 0.2728948596413999, 0.2413800064568934, 0.21520805884103253, 0.20376927294376895, 0.21263430977557418, 0.37881695101549456, 0.36835863964897425, 0.3534992955461328, 0.33296561929056623, 0.3055097432543742, 0.27028062922409407, 0.22756215582082237, 0.18022811306006978, 0.13651725903505205, 0.11199306013627897, 0.11393378079593779, 0.12256274522435598, 0.11709749109558062, 0.09001098101270721, 0.043958947454101616, 0.025075885892173643, 0.07833416990194444, 0.12263617658224485, 0.1487194080441774, 0.15341817816838668, 0.13552534376102346, 0.09563305901535589, 0.03701704610099839, 0.03295602702959632, 0.10360915160962374, 0.16752260203267166, 0.22166879972107786, 0.2656686424806695, 0.30042470145144623, 0.32728540850679233, 0.3476335568073348, 0.36272468903616145, 0.37363733931704324, 0.38126073252499476, 0.3862913862846998, 0.3892311100316184, 0.390384812043844, 0.38985719738468305, 0.3875482602762182, 0.38315044482442145, 0.3761560422982258, 0.3658921996700609, 0.35161361957301807, 0.3327009313372384, 0.3090360981326375, 0.2816437779814112, 0.25362304628760773, 0.2309307656814563, 0.22121140729613942, 0.22872452614071379];\n",
       "const xvar = \"lr\";\n",
       "const yvar = \"momentum\";\n",
       "const x_is_log = true;\n",
       "const y_is_log = false;\n",
       "\n",
       "const GREEN_SCALE = [[247, 252, 253], [229, 245, 249], [204, 236, 230], [153, 216, 201], [102, 194, 164], [65, 174, 118], [35, 139, 69], [0, 109, 44], [0, 68, 27]];\n",
       "const GREEN_PINK_SCALE = [[142, 1, 82], [197, 27, 125], [222, 119, 174], [241, 182, 218], [253, 224, 239], [247, 247, 247], [230, 245, 208], [184, 225, 134], [127, 188, 65], [77, 146, 33], [39, 100, 25]];\n",
       "const BLUE_SCALE = [[255, 247, 251], [236, 231, 242], [208, 209, 230], [166, 189, 219], [116, 169, 207], [54, 144, 192], [5, 112, 176], [3, 78, 123]];\n",
       "\n",
       "// format data\n",
       "const res = relativize_data(f, sd, rel, arm_data, metric);\n",
       "const f_final = res[0];\n",
       "const sd_final = res[1];\n",
       "\n",
       "// calculate max of abs(outcome), used for colorscale\n",
       "const f_absmax = Math.max(Math.abs(Math.min(...f_final)), Math.max(...f_final));\n",
       "\n",
       "// transform to nested array\n",
       "var f_plt = [];\n",
       "while(f_final.length) f_plt.push(f_final.splice(0, density));\n",
       "var sd_plt = [];\n",
       "while(sd_final.length) sd_plt.push(sd_final.splice(0, density));\n",
       "\n",
       "// create traces\n",
       "const CONTOUR_CONFIG = {\n",
       "  autocolorscale: false,\n",
       "  autocontour: true,\n",
       "  contours: {\n",
       "    coloring: 'heatmap',\n",
       "  },\n",
       "  hoverinfo: 'x+y+z',\n",
       "  ncontours: density / 2,\n",
       "  type: 'contour',\n",
       "  x: grid_x,\n",
       "  y: grid_y,\n",
       "};\n",
       "\n",
       "let f_scale;\n",
       "if (rel === true) {\n",
       "  f_scale = lower_is_better === true\n",
       "    ? GREEN_PINK_SCALE.reverse()\n",
       "    : GREEN_PINK_SCALE;\n",
       "} else {\n",
       "  f_scale = GREEN_SCALE;\n",
       "}\n",
       "\n",
       "const f_trace = {\n",
       "  colorbar: {\n",
       "    x: 0.45,\n",
       "    y: 0.5,\n",
       "    ticksuffix: rel === true ? '%' : '',\n",
       "    tickfont: {\n",
       "      size: 8,\n",
       "    },\n",
       "  },\n",
       "  colorscale: f_scale.map(\n",
       "    (v, i) => [i / (f_scale.length - 1), rgb(v)]\n",
       "  ),\n",
       "  xaxis: 'x',\n",
       "  yaxis: 'y',\n",
       "  z: f_plt,\n",
       "  // zmax and zmin are ignored if zauto is true\n",
       "  zauto: !rel,\n",
       "  zmax: f_absmax,\n",
       "  zmin: -f_absmax,\n",
       "};\n",
       "\n",
       "const sd_trace = {\n",
       "  colorbar: {\n",
       "      x: 1,\n",
       "      y: 0.5,\n",
       "      ticksuffix: rel === true ? '%' : '',\n",
       "      tickfont: {\n",
       "        size: 8,\n",
       "      },\n",
       "  },\n",
       "  colorscale: BLUE_SCALE.map(\n",
       "    (v, i) => [i / (BLUE_SCALE.length - 1), rgb(v)]\n",
       "  ),\n",
       "  xaxis: 'x2',\n",
       "  yaxis: 'y2',\n",
       "  z: sd_plt,\n",
       "};\n",
       "\n",
       "Object.keys(CONTOUR_CONFIG).forEach(key => {\n",
       "  f_trace[key] = CONTOUR_CONFIG[key];\n",
       "  sd_trace[key] = CONTOUR_CONFIG[key];\n",
       "});\n",
       "\n",
       "// get in-sample arms\n",
       "const arm_x = [];\n",
       "const arm_y = [];\n",
       "const arm_text = [];\n",
       "\n",
       "Object.keys(arm_data['in_sample']).forEach(arm_name => {\n",
       "  arm_x.push(arm_data['in_sample'][arm_name]['parameters'][xvar]);\n",
       "  arm_y.push(arm_data['in_sample'][arm_name]['parameters'][yvar]);\n",
       "  arm_text.push(arm_name);\n",
       "});\n",
       "\n",
       "// configs for in-sample arms\n",
       "const base_in_sample_arm_config = {\n",
       "  hoverinfo: 'text',\n",
       "  legendgroup: 'In-sample',\n",
       "  marker: {color: 'black', symbol: 1, opacity: 0.5},\n",
       "  mode: 'markers',\n",
       "  name: 'In-sample',\n",
       "  text: arm_text,\n",
       "  type: 'scatter',\n",
       "  x: arm_x,\n",
       "  y: arm_y,\n",
       "};\n",
       "\n",
       "const f_in_sample_arm_trace = {\n",
       "  xaxis: 'x',\n",
       "  yaxis: 'y',\n",
       "};\n",
       "\n",
       "const sd_in_sample_arm_trace = {\n",
       "  showlegend: false,\n",
       "  xaxis: 'x2',\n",
       "  yaxis: 'y2',\n",
       "};\n",
       "\n",
       "Object.keys(base_in_sample_arm_config).forEach(key => {\n",
       "  f_in_sample_arm_trace[key] = base_in_sample_arm_config[key];\n",
       "  sd_in_sample_arm_trace[key] = base_in_sample_arm_config[key];\n",
       "});\n",
       "\n",
       "const traces = [\n",
       "  f_trace,\n",
       "  sd_trace,\n",
       "  f_in_sample_arm_trace,\n",
       "  sd_in_sample_arm_trace,\n",
       "];\n",
       "\n",
       "// start symbol at 2 for candidate markers\n",
       "let i = 2;\n",
       "\n",
       "// iterate over out-of-sample arms\n",
       "Object.keys(arm_data['out_of_sample']).forEach(generator_run_name => {\n",
       "  const ax = [];\n",
       "  const ay = [];\n",
       "  const atext = [];\n",
       "\n",
       "  Object.keys(arm_data['out_of_sample'][generator_run_name]).forEach(arm_name => {\n",
       "    ax.push(\n",
       "      arm_data['out_of_sample'][generator_run_name][arm_name]['parameters'][xvar]\n",
       "    );\n",
       "    ay.push(\n",
       "      arm_data['out_of_sample'][generator_run_name][arm_name]['parameters'][yvar]\n",
       "    );\n",
       "    atext.push('<em>Candidate ' + arm_name + '</em>');\n",
       "  });\n",
       "\n",
       "  traces.push({\n",
       "    hoverinfo: 'text',\n",
       "    legendgroup: generator_run_name,\n",
       "    marker: {color: 'black', symbol: i, opacity: 0.5},\n",
       "    mode: 'markers',\n",
       "    name: generator_run_name,\n",
       "    text: atext,\n",
       "    type: 'scatter',\n",
       "    xaxis: 'x',\n",
       "    x: ax,\n",
       "    yaxis: 'y',\n",
       "    y: ay,\n",
       "  });\n",
       "  traces.push({\n",
       "    hoverinfo: 'text',\n",
       "    legendgroup: generator_run_name,\n",
       "    marker: {color: 'black', symbol: i, opacity: 0.5},\n",
       "    mode: 'markers',\n",
       "    name: 'In-sample',\n",
       "    showlegend: false,\n",
       "    text: atext,\n",
       "    type: 'scatter',\n",
       "    x: ax,\n",
       "    xaxis: 'x2',\n",
       "    y: ay,\n",
       "    yaxis: 'y2',\n",
       "  });\n",
       "  i += 1;\n",
       "});\n",
       "\n",
       "// layout\n",
       "const xrange = axis_range(grid_x, x_is_log);\n",
       "const yrange = axis_range(grid_y, y_is_log);\n",
       "\n",
       "const xtype = x_is_log ? 'log' : 'linear';\n",
       "const ytype = y_is_log ? 'log' : 'linear';\n",
       "\n",
       "const layout = {\n",
       "  autosize: false,\n",
       "    margin: {\n",
       "      l: 35,\n",
       "      r: 35,\n",
       "      t: 35,\n",
       "      b: 100,\n",
       "      pad: 0,\n",
       "  },\n",
       "  annotations: [\n",
       "    {\n",
       "      font: {size: 14},\n",
       "      showarrow: false,\n",
       "      text: 'Mean',\n",
       "      x: 0.25,\n",
       "      xanchor: 'center',\n",
       "      xref: 'paper',\n",
       "      y: 1,\n",
       "      yanchor: 'bottom',\n",
       "      yref: 'paper',\n",
       "    },\n",
       "    {\n",
       "      font: {size: 14},\n",
       "      showarrow: false,\n",
       "      text: 'Standard Error',\n",
       "      x: 0.8,\n",
       "      xanchor: 'center',\n",
       "      xref: 'paper',\n",
       "      y: 1,\n",
       "      yanchor: 'bottom',\n",
       "      yref: 'paper',\n",
       "    },\n",
       "  ],\n",
       "  hovermode: 'closest',\n",
       "  legend: {orientation: 'h', x: 0, y: -0.25},\n",
       "  height: 450,\n",
       "  width: 950,\n",
       "  xaxis: {\n",
       "    anchor: 'y',\n",
       "    autorange: false,\n",
       "    domain: [0.05, 0.45],\n",
       "    exponentformat: 'e',\n",
       "    range: xrange,\n",
       "    tickfont: {size: 11},\n",
       "    tickmode: 'auto',\n",
       "    title: xvar,\n",
       "    type: xtype,\n",
       "  },\n",
       "  xaxis2: {\n",
       "    anchor: 'y2',\n",
       "    autorange: false,\n",
       "    domain: [0.60, 1],\n",
       "    exponentformat: 'e',\n",
       "    range: xrange,\n",
       "    tickfont: {size: 11},\n",
       "    tickmode: 'auto',\n",
       "    title: xvar,\n",
       "    type: xtype,\n",
       "  },\n",
       "  yaxis: {\n",
       "    anchor: 'x',\n",
       "    autorange: false,\n",
       "    domain: [0, 1],\n",
       "    exponentformat: 'e',\n",
       "    range: yrange,\n",
       "    tickfont: {size: 11},\n",
       "    tickmode: 'auto',\n",
       "    title: yvar,\n",
       "    type: ytype,\n",
       "  },\n",
       "  yaxis2: {\n",
       "    anchor: 'x2',\n",
       "    autorange: false,\n",
       "    domain: [0, 1],\n",
       "    exponentformat: 'e',\n",
       "    range: yrange,\n",
       "    tickfont: {size: 11},\n",
       "    tickmode: 'auto',\n",
       "    type: ytype,\n",
       "  },\n",
       "};\n",
       "\n",
       "Plotly.newPlot(\"7b143225150d4016b863916df76c20bf\", traces, layout, {showLink: false});\n",
       "});</script>"
      ]
     },
     "metadata": {},
     "output_type": "display_data"
    }
   ],
   "source": [
    "render(plot_contour(model=model, param_x='lr', param_y='momentum', metric_name='accuracy'))"
   ]
  },
  {
   "cell_type": "markdown",
   "metadata": {},
   "source": [
    "## 5. Plot best objective as function of the iteration\n",
    "\n",
    "Show the model accuracy improving as we identify better hyperparameters."
   ]
  },
  {
   "cell_type": "code",
   "execution_count": 9,
   "metadata": {},
   "outputs": [
    {
     "data": {
      "text/html": [
       "<div id=\"dc8bc328e9844a60baa7bffd6d2f2acc\" style=\"width: 100%;\" class=\"plotly-graph-div\"></div><script type='text/javascript'>/*\n",
       " * Copyright (c) Facebook, Inc. and its affiliates. All Rights Reserved.\n",
       " */\n",
       "\n",
       "require(['plotly'], function(Plotly) {\n",
       "  window.PLOTLYENV = window.PLOTLYENV || {};\n",
       "  window.PLOTLYENV.BASE_URL = 'https://plot.ly';\n",
       "  /*\n",
       " * Copyright (c) Facebook, Inc. and its affiliates. All Rights Reserved.\n",
       " */\n",
       "\n",
       "Plotly.newPlot(\n",
       "  \"dc8bc328e9844a60baa7bffd6d2f2acc\",\n",
       "  [{\"hoverinfo\": \"none\", \"legendgroup\": \"\", \"line\": {\"width\": 0}, \"mode\": \"lines\", \"showlegend\": false, \"x\": [1, 2, 3, 4, 5, 6, 7, 8, 9, 10, 11, 12, 13, 14, 15, 16, 17, 18, 19, 20], \"y\": [68.08333333333333, 86.58333333333333, 86.58333333333333, 86.58333333333333, 91.0, 93.75, 93.75, 93.75, 93.75, 93.75, 93.75, 93.75, 93.75, 93.75, 93.75, 93.75, 93.75, 93.75, 93.75, 93.75], \"type\": \"scatter\"}, {\"fill\": \"tonexty\", \"fillcolor\": \"rgba(128,177,211,0.3)\", \"legendgroup\": \"mean\", \"line\": {\"color\": \"rgba(128,177,211,1)\"}, \"mode\": \"lines\", \"name\": \"mean\", \"x\": [1, 2, 3, 4, 5, 6, 7, 8, 9, 10, 11, 12, 13, 14, 15, 16, 17, 18, 19, 20], \"y\": [68.08333333333333, 86.58333333333333, 86.58333333333333, 86.58333333333333, 91.0, 93.75, 93.75, 93.75, 93.75, 93.75, 93.75, 93.75, 93.75, 93.75, 93.75, 93.75, 93.75, 93.75, 93.75, 93.75], \"type\": \"scatter\"}, {\"fill\": \"tonexty\", \"fillcolor\": \"rgba(128,177,211,0.3)\", \"hoverinfo\": \"none\", \"legendgroup\": \"\", \"line\": {\"width\": 0}, \"mode\": \"lines\", \"showlegend\": false, \"x\": [1, 2, 3, 4, 5, 6, 7, 8, 9, 10, 11, 12, 13, 14, 15, 16, 17, 18, 19, 20], \"y\": [68.08333333333333, 86.58333333333333, 86.58333333333333, 86.58333333333333, 91.0, 93.75, 93.75, 93.75, 93.75, 93.75, 93.75, 93.75, 93.75, 93.75, 93.75, 93.75, 93.75, 93.75, 93.75, 93.75], \"type\": \"scatter\"}],\n",
       "  {\"showlegend\": true, \"title\": {\"text\": \"Model performance vs. # of iterations\"}, \"xaxis\": {\"title\": {\"text\": \"Iteration\"}}, \"yaxis\": {\"title\": {\"text\": \"Classification Accuracy, %\"}}, \"template\": {\"data\": {\"barpolar\": [{\"marker\": {\"line\": {\"color\": \"#E5ECF6\", \"width\": 0.5}}, \"type\": \"barpolar\"}], \"bar\": [{\"error_x\": {\"color\": \"#2a3f5f\"}, \"error_y\": {\"color\": \"#2a3f5f\"}, \"marker\": {\"line\": {\"color\": \"#E5ECF6\", \"width\": 0.5}}, \"type\": \"bar\"}], \"carpet\": [{\"aaxis\": {\"endlinecolor\": \"#2a3f5f\", \"gridcolor\": \"white\", \"linecolor\": \"white\", \"minorgridcolor\": \"white\", \"startlinecolor\": \"#2a3f5f\"}, \"baxis\": {\"endlinecolor\": \"#2a3f5f\", \"gridcolor\": \"white\", \"linecolor\": \"white\", \"minorgridcolor\": \"white\", \"startlinecolor\": \"#2a3f5f\"}, \"type\": \"carpet\"}], \"choropleth\": [{\"colorbar\": {\"outlinewidth\": 0, \"ticks\": \"\"}, \"type\": \"choropleth\"}], \"contourcarpet\": [{\"colorbar\": {\"outlinewidth\": 0, \"ticks\": \"\"}, \"type\": \"contourcarpet\"}], \"contour\": [{\"colorbar\": {\"outlinewidth\": 0, \"ticks\": \"\"}, \"colorscale\": [[0.0, \"#0d0887\"], [0.1111111111111111, \"#46039f\"], [0.2222222222222222, \"#7201a8\"], [0.3333333333333333, \"#9c179e\"], [0.4444444444444444, \"#bd3786\"], [0.5555555555555556, \"#d8576b\"], [0.6666666666666666, \"#ed7953\"], [0.7777777777777778, \"#fb9f3a\"], [0.8888888888888888, \"#fdca26\"], [1.0, \"#f0f921\"]], \"type\": \"contour\"}], \"heatmapgl\": [{\"colorbar\": {\"outlinewidth\": 0, \"ticks\": \"\"}, \"colorscale\": [[0.0, \"#0d0887\"], [0.1111111111111111, \"#46039f\"], [0.2222222222222222, \"#7201a8\"], [0.3333333333333333, \"#9c179e\"], [0.4444444444444444, \"#bd3786\"], [0.5555555555555556, \"#d8576b\"], [0.6666666666666666, \"#ed7953\"], [0.7777777777777778, \"#fb9f3a\"], [0.8888888888888888, \"#fdca26\"], [1.0, \"#f0f921\"]], \"type\": \"heatmapgl\"}], \"heatmap\": [{\"colorbar\": {\"outlinewidth\": 0, \"ticks\": \"\"}, \"colorscale\": [[0.0, \"#0d0887\"], [0.1111111111111111, \"#46039f\"], [0.2222222222222222, \"#7201a8\"], [0.3333333333333333, \"#9c179e\"], [0.4444444444444444, \"#bd3786\"], [0.5555555555555556, \"#d8576b\"], [0.6666666666666666, \"#ed7953\"], [0.7777777777777778, \"#fb9f3a\"], [0.8888888888888888, \"#fdca26\"], [1.0, \"#f0f921\"]], \"type\": \"heatmap\"}], \"histogram2dcontour\": [{\"colorbar\": {\"outlinewidth\": 0, \"ticks\": \"\"}, \"colorscale\": [[0.0, \"#0d0887\"], [0.1111111111111111, \"#46039f\"], [0.2222222222222222, \"#7201a8\"], [0.3333333333333333, \"#9c179e\"], [0.4444444444444444, \"#bd3786\"], [0.5555555555555556, \"#d8576b\"], [0.6666666666666666, \"#ed7953\"], [0.7777777777777778, \"#fb9f3a\"], [0.8888888888888888, \"#fdca26\"], [1.0, \"#f0f921\"]], \"type\": \"histogram2dcontour\"}], \"histogram2d\": [{\"colorbar\": {\"outlinewidth\": 0, \"ticks\": \"\"}, \"colorscale\": [[0.0, \"#0d0887\"], [0.1111111111111111, \"#46039f\"], [0.2222222222222222, \"#7201a8\"], [0.3333333333333333, \"#9c179e\"], [0.4444444444444444, \"#bd3786\"], [0.5555555555555556, \"#d8576b\"], [0.6666666666666666, \"#ed7953\"], [0.7777777777777778, \"#fb9f3a\"], [0.8888888888888888, \"#fdca26\"], [1.0, \"#f0f921\"]], \"type\": \"histogram2d\"}], \"histogram\": [{\"marker\": {\"colorbar\": {\"outlinewidth\": 0, \"ticks\": \"\"}}, \"type\": \"histogram\"}], \"mesh3d\": [{\"colorbar\": {\"outlinewidth\": 0, \"ticks\": \"\"}, \"type\": \"mesh3d\"}], \"parcoords\": [{\"line\": {\"colorbar\": {\"outlinewidth\": 0, \"ticks\": \"\"}}, \"type\": \"parcoords\"}], \"scatter3d\": [{\"line\": {\"colorbar\": {\"outlinewidth\": 0, \"ticks\": \"\"}}, \"marker\": {\"colorbar\": {\"outlinewidth\": 0, \"ticks\": \"\"}}, \"type\": \"scatter3d\"}], \"scattercarpet\": [{\"marker\": {\"colorbar\": {\"outlinewidth\": 0, \"ticks\": \"\"}}, \"type\": \"scattercarpet\"}], \"scattergeo\": [{\"marker\": {\"colorbar\": {\"outlinewidth\": 0, \"ticks\": \"\"}}, \"type\": \"scattergeo\"}], \"scattergl\": [{\"marker\": {\"colorbar\": {\"outlinewidth\": 0, \"ticks\": \"\"}}, \"type\": \"scattergl\"}], \"scattermapbox\": [{\"marker\": {\"colorbar\": {\"outlinewidth\": 0, \"ticks\": \"\"}}, \"type\": \"scattermapbox\"}], \"scatterpolargl\": [{\"marker\": {\"colorbar\": {\"outlinewidth\": 0, \"ticks\": \"\"}}, \"type\": \"scatterpolargl\"}], \"scatterpolar\": [{\"marker\": {\"colorbar\": {\"outlinewidth\": 0, \"ticks\": \"\"}}, \"type\": \"scatterpolar\"}], \"scatter\": [{\"marker\": {\"colorbar\": {\"outlinewidth\": 0, \"ticks\": \"\"}}, \"type\": \"scatter\"}], \"scatterternary\": [{\"marker\": {\"colorbar\": {\"outlinewidth\": 0, \"ticks\": \"\"}}, \"type\": \"scatterternary\"}], \"surface\": [{\"colorbar\": {\"outlinewidth\": 0, \"ticks\": \"\"}, \"colorscale\": [[0.0, \"#0d0887\"], [0.1111111111111111, \"#46039f\"], [0.2222222222222222, \"#7201a8\"], [0.3333333333333333, \"#9c179e\"], [0.4444444444444444, \"#bd3786\"], [0.5555555555555556, \"#d8576b\"], [0.6666666666666666, \"#ed7953\"], [0.7777777777777778, \"#fb9f3a\"], [0.8888888888888888, \"#fdca26\"], [1.0, \"#f0f921\"]], \"type\": \"surface\"}], \"table\": [{\"cells\": {\"fill\": {\"color\": \"#EBF0F8\"}, \"line\": {\"color\": \"white\"}}, \"header\": {\"fill\": {\"color\": \"#C8D4E3\"}, \"line\": {\"color\": \"white\"}}, \"type\": \"table\"}]}, \"layout\": {\"annotationdefaults\": {\"arrowcolor\": \"#2a3f5f\", \"arrowhead\": 0, \"arrowwidth\": 1}, \"colorscale\": {\"diverging\": [[0, \"#8e0152\"], [0.1, \"#c51b7d\"], [0.2, \"#de77ae\"], [0.3, \"#f1b6da\"], [0.4, \"#fde0ef\"], [0.5, \"#f7f7f7\"], [0.6, \"#e6f5d0\"], [0.7, \"#b8e186\"], [0.8, \"#7fbc41\"], [0.9, \"#4d9221\"], [1, \"#276419\"]], \"sequential\": [[0.0, \"#0d0887\"], [0.1111111111111111, \"#46039f\"], [0.2222222222222222, \"#7201a8\"], [0.3333333333333333, \"#9c179e\"], [0.4444444444444444, \"#bd3786\"], [0.5555555555555556, \"#d8576b\"], [0.6666666666666666, \"#ed7953\"], [0.7777777777777778, \"#fb9f3a\"], [0.8888888888888888, \"#fdca26\"], [1.0, \"#f0f921\"]], \"sequentialminus\": [[0.0, \"#0d0887\"], [0.1111111111111111, \"#46039f\"], [0.2222222222222222, \"#7201a8\"], [0.3333333333333333, \"#9c179e\"], [0.4444444444444444, \"#bd3786\"], [0.5555555555555556, \"#d8576b\"], [0.6666666666666666, \"#ed7953\"], [0.7777777777777778, \"#fb9f3a\"], [0.8888888888888888, \"#fdca26\"], [1.0, \"#f0f921\"]]}, \"colorway\": [\"#636efa\", \"#EF553B\", \"#00cc96\", \"#ab63fa\", \"#FFA15A\", \"#19d3f3\", \"#FF6692\", \"#B6E880\", \"#FF97FF\", \"#FECB52\"], \"font\": {\"color\": \"#2a3f5f\"}, \"geo\": {\"bgcolor\": \"white\", \"lakecolor\": \"white\", \"landcolor\": \"#E5ECF6\", \"showlakes\": true, \"showland\": true, \"subunitcolor\": \"white\"}, \"hoverlabel\": {\"align\": \"left\"}, \"hovermode\": \"closest\", \"mapbox\": {\"style\": \"light\"}, \"paper_bgcolor\": \"white\", \"plot_bgcolor\": \"#E5ECF6\", \"polar\": {\"angularaxis\": {\"gridcolor\": \"white\", \"linecolor\": \"white\", \"ticks\": \"\"}, \"bgcolor\": \"#E5ECF6\", \"radialaxis\": {\"gridcolor\": \"white\", \"linecolor\": \"white\", \"ticks\": \"\"}}, \"scene\": {\"xaxis\": {\"backgroundcolor\": \"#E5ECF6\", \"gridcolor\": \"white\", \"gridwidth\": 2, \"linecolor\": \"white\", \"showbackground\": true, \"ticks\": \"\", \"zerolinecolor\": \"white\"}, \"yaxis\": {\"backgroundcolor\": \"#E5ECF6\", \"gridcolor\": \"white\", \"gridwidth\": 2, \"linecolor\": \"white\", \"showbackground\": true, \"ticks\": \"\", \"zerolinecolor\": \"white\"}, \"zaxis\": {\"backgroundcolor\": \"#E5ECF6\", \"gridcolor\": \"white\", \"gridwidth\": 2, \"linecolor\": \"white\", \"showbackground\": true, \"ticks\": \"\", \"zerolinecolor\": \"white\"}}, \"shapedefaults\": {\"line\": {\"color\": \"#2a3f5f\"}}, \"ternary\": {\"aaxis\": {\"gridcolor\": \"white\", \"linecolor\": \"white\", \"ticks\": \"\"}, \"baxis\": {\"gridcolor\": \"white\", \"linecolor\": \"white\", \"ticks\": \"\"}, \"bgcolor\": \"#E5ECF6\", \"caxis\": {\"gridcolor\": \"white\", \"linecolor\": \"white\", \"ticks\": \"\"}}, \"title\": {\"x\": 0.05}, \"xaxis\": {\"automargin\": true, \"gridcolor\": \"white\", \"linecolor\": \"white\", \"ticks\": \"\", \"zerolinecolor\": \"white\", \"zerolinewidth\": 2}, \"yaxis\": {\"automargin\": true, \"gridcolor\": \"white\", \"linecolor\": \"white\", \"ticks\": \"\", \"zerolinecolor\": \"white\", \"zerolinewidth\": 2}}}},\n",
       "  {\"showLink\": false}\n",
       ");\n",
       "});</script>"
      ]
     },
     "metadata": {},
     "output_type": "display_data"
    }
   ],
   "source": [
    "# `plot_single_method` expects a 2-d array of means, because it expects to average means from multiple \n",
    "# optimization runs, so we wrap out best objectives array in another array.\n",
    "best_objectives = np.array([[trial.objective_mean*100 for trial in experiment.trials.values()]])\n",
    "best_objective_plot = optimization_trace_single_method(\n",
    "    y=np.maximum.accumulate(best_objectives, axis=1),\n",
    "    title=\"Model performance vs. # of iterations\",\n",
    "    ylabel=\"Classification Accuracy, %\",\n",
    ")\n",
    "render(best_objective_plot)"
   ]
  },
  {
   "cell_type": "markdown",
   "metadata": {},
   "source": [
    "## 6. Train CNN with best hyperparameters and evaluate on test set\n",
    "Note that the resulting accuracy on the test set might not be exactly the same as the maximum accuracy achieved on the evaluation set throughout optimization. "
   ]
  },
  {
   "cell_type": "code",
   "execution_count": 10,
   "metadata": {},
   "outputs": [
    {
     "data": {
      "text/plain": [
       "Arm(name='5_0', parameters={'lr': 0.00020605478566810832, 'momentum': 0.5800885198799027})"
      ]
     },
     "execution_count": 10,
     "metadata": {},
     "output_type": "execute_result"
    }
   ],
   "source": [
    "data = experiment.fetch_data()\n",
    "df = data.df\n",
    "best_arm_name = df.arm_name[df['mean'] == df['mean'].max()].values[0]\n",
    "best_arm = experiment.arms_by_name[best_arm_name]\n",
    "best_arm"
   ]
  },
  {
   "cell_type": "code",
   "execution_count": 11,
   "metadata": {
    "collapsed": true
   },
   "outputs": [],
   "source": [
    "combined_train_valid_set = torch.utils.data.ConcatDataset([\n",
    "    train_loader.dataset.dataset, \n",
    "    valid_loader.dataset.dataset,\n",
    "])\n",
    "combined_train_valid_loader = torch.utils.data.DataLoader(\n",
    "    combined_train_valid_set, \n",
    "    batch_size=BATCH_SIZE, \n",
    "    shuffle=True,\n",
    ")"
   ]
  },
  {
   "cell_type": "code",
   "execution_count": 12,
   "metadata": {
    "collapsed": true
   },
   "outputs": [],
   "source": [
    "net = train(\n",
    "    net=CNN(),\n",
    "    train_loader=combined_train_valid_loader, \n",
    "    parameters=best_arm.parameters,\n",
    "    dtype=dtype,\n",
    "    device=device,\n",
    ")\n",
    "test_accuracy = evaluate(\n",
    "    net=net,\n",
    "    data_loader=test_loader,\n",
    "    dtype=dtype,\n",
    "    device=device,\n",
    ")"
   ]
  },
  {
   "cell_type": "code",
   "execution_count": 13,
   "metadata": {},
   "outputs": [
    {
     "name": "stdout",
     "output_type": "stream",
     "text": [
      "Classification Accuracy (test set): 97.06%\n"
     ]
    }
   ],
   "source": [
    "print(f\"Classification Accuracy (test set): {round(test_accuracy*100, 2)}%\")"
   ]
  }
 ],
 "metadata": {
  "kernelspec": {
   "display_name": "python3",
   "language": "python",
   "name": "python3"
  },
  "language_info": {
   "codemirror_mode": {
    "name": "ipython",
    "version": 3
   },
   "file_extension": ".py",
   "mimetype": "text/x-python",
   "name": "python",
   "nbconvert_exporter": "python",
   "pygments_lexer": "ipython3",
   "version": "3.6.7"
  }
 },
 "nbformat": 4,
 "nbformat_minor": 2
}
