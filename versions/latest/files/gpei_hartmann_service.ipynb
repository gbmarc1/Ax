{
 "cells": [
  {
   "cell_type": "markdown",
   "metadata": {},
   "source": [
    "#  Service API Example on Hartmann6\n",
    "\n",
    "The Ax Service API is designed to allow the user to control scheduling of trials and data computation while having an easy to use interface with Ax.\n",
    "\n",
    "The user iteratively:\n",
    "- Queries Ax for candidates\n",
    "- Schedules / deploys them however they choose\n",
    "- Computes data and logs to Ax\n",
    "- Repeat"
   ]
  },
  {
   "cell_type": "code",
   "execution_count": 1,
   "metadata": {},
   "outputs": [
    {
     "data": {
      "text/html": [
       "<script type='text/javascript'>/*\n",
       " * Copyright (c) Facebook, Inc. and its affiliates. All Rights Reserved.\n",
       " */\n",
       "\n",
       "requirejs.config({\n",
       "  paths: {\n",
       "    plotly: ['https://cdn.plot.ly/plotly-latest.min'],\n",
       "  },\n",
       "});\n",
       "if (!window.Plotly) {\n",
       "  require(['plotly'], function(plotly) {\n",
       "    window.Plotly = plotly;\n",
       "  });\n",
       "}\n",
       "/*\n",
       " * Copyright (c) Facebook, Inc. and its affiliates. All Rights Reserved.\n",
       " */\n",
       "\n",
       "// helper functions used across multiple plots\n",
       "function rgb(rgb_array) {\n",
       "  return 'rgb(' + rgb_array.join() + ')';\n",
       "}\n",
       "\n",
       "function copy_and_reverse(arr) {\n",
       "  const copy = arr.slice();\n",
       "  copy.reverse();\n",
       "  return copy;\n",
       "}\n",
       "\n",
       "function axis_range(grid, is_log) {\n",
       "  return is_log ?\n",
       "    [Math.log10(Math.min(...grid)), Math.log10(Math.max(...grid))]:\n",
       "    [Math.min(...grid), Math.max(...grid)];\n",
       "}\n",
       "\n",
       "function relativize_data(f, sd, rel, arm_data, metric) {\n",
       "  // if relative, extract status quo & compute ratio\n",
       "  const f_final = rel === true ? [] : f;\n",
       "  const sd_final = rel === true ? []: sd;\n",
       "\n",
       "  if (rel === true) {\n",
       "    const f_sq = (\n",
       "      arm_data['in_sample'][arm_data['status_quo_name']]['y'][metric]\n",
       "    );\n",
       "    const sd_sq = (\n",
       "      arm_data['in_sample'][arm_data['status_quo_name']]['se'][metric]\n",
       "    );\n",
       "\n",
       "    for (let i = 0; i < f.length; i++) {\n",
       "      res = relativize(f[i], sd[i], f_sq, sd_sq);\n",
       "      f_final.push(100 * res[0]);\n",
       "      sd_final.push(100 * res[1]);\n",
       "    }\n",
       "  }\n",
       "\n",
       "  return [f_final, sd_final];\n",
       "}\n",
       "\n",
       "function relativize(m_t, sem_t, m_c, sem_c) {\n",
       "  r_hat = (\n",
       "    (m_t - m_c) / Math.abs(m_c) -\n",
       "    Math.pow(sem_c, 2) * m_t / Math.pow(Math.abs(m_c), 3)\n",
       "  );\n",
       "  variance = (\n",
       "    (Math.pow(sem_t, 2) + Math.pow((m_t / m_c * sem_c), 2)) /\n",
       "    Math.pow(m_c, 2)\n",
       "   )\n",
       "   return [r_hat, Math.sqrt(variance)];\n",
       "}\n",
       "</script>"
      ]
     },
     "metadata": {},
     "output_type": "display_data"
    },
    {
     "name": "stderr",
     "output_type": "stream",
     "text": [
      "[INFO 08-07 15:50:05] ipy_plotting: Injecting Plotly library into cell. Do not overwrite or delete cell.\n"
     ]
    }
   ],
   "source": [
    "import numpy as np\n",
    "\n",
    "from ax.plot.contour import plot_contour\n",
    "from ax.plot.trace import optimization_trace_single_method\n",
    "from ax.service.ax_client import AxClient\n",
    "from ax.metrics.branin import branin\n",
    "from ax.utils.measurement.synthetic_functions import hartmann6\n",
    "from ax.utils.notebook.plotting import render, init_notebook_plotting\n",
    "\n",
    "init_notebook_plotting()"
   ]
  },
  {
   "cell_type": "markdown",
   "metadata": {},
   "source": [
    "## 1. Initialize client\n",
    "\n",
    "Create a client object to interface with Ax APIs. By default this runs locally without storage."
   ]
  },
  {
   "cell_type": "code",
   "execution_count": 2,
   "metadata": {
    "collapsed": true
   },
   "outputs": [],
   "source": [
    "ax = AxClient()"
   ]
  },
  {
   "cell_type": "markdown",
   "metadata": {},
   "source": [
    "## 2. Set up experiment\n",
    "An experiment consists of a **search space** (parameters and parameter constraints) and **optimization configuration** (objective name, minimization setting, and outcome constraints). Note that:\n",
    "- Only `name`, `parameters`, and `objective_name` arguments are required.\n",
    "- Dictionaries in `parameters` have the following required keys: \"name\" - parameter name, \"type\" - parameter type (\"range\", \"choice\" or \"fixed\"), \"bounds\" for range parameters, \"values\" for choice parameters, and \"value\" for fixed parameters.\n",
    "- Dictionaries in `parameters` can optionally include \"value_type\" (\"int\", \"float\", \"bool\" or \"str\"), \"log_scale\" flag for range parameters, and \"is_ordered\" flag for choice parameters.\n",
    "- `parameter_constraints` should be a list of strings of form \"p1 >= p2\" or \"p1 + p2 <= some_bound\".\n",
    "- `outcome_constraints` should be a list of strings of form \"constrained_metric <= some_bound\"."
   ]
  },
  {
   "cell_type": "code",
   "execution_count": 3,
   "metadata": {},
   "outputs": [
    {
     "name": "stderr",
     "output_type": "stream",
     "text": [
      "[INFO 08-07 15:50:05] ax.service.utils.dispatch: Using Bayesian Optimization generation strategy. Iterations after 6 will take longer to generate due to model-fitting.\n"
     ]
    }
   ],
   "source": [
    "ax.create_experiment(\n",
    "    name=\"hartmann_test_experiment\",\n",
    "    parameters=[\n",
    "        {\n",
    "            \"name\": \"x1\",\n",
    "            \"type\": \"range\",\n",
    "            \"bounds\": [0.0, 1.0],\n",
    "            \"value_type\": \"float\",  # Optional, defaults to inference from type of \"bounds\".\n",
    "            \"log_scale\": False,  # Optional, defaults to False.\n",
    "        },\n",
    "        {\n",
    "            \"name\": \"x2\",\n",
    "            \"type\": \"range\",\n",
    "            \"bounds\": [0.0, 1.0],\n",
    "        },\n",
    "        {\n",
    "            \"name\": \"x3\",\n",
    "            \"type\": \"range\",\n",
    "            \"bounds\": [0.0, 1.0],\n",
    "        },\n",
    "        {\n",
    "            \"name\": \"x4\",\n",
    "            \"type\": \"range\",\n",
    "            \"bounds\": [0.0, 1.0],\n",
    "        },\n",
    "        {\n",
    "            \"name\": \"x5\",\n",
    "            \"type\": \"range\",\n",
    "            \"bounds\": [0.0, 1.0],\n",
    "        },\n",
    "        {\n",
    "            \"name\": \"x6\",\n",
    "            \"type\": \"range\",\n",
    "            \"bounds\": [0.0, 1.0],\n",
    "        },\n",
    "    ],\n",
    "    objective_name=\"hartmann6\",\n",
    "    minimize=True,  # Optional, defaults to False.\n",
    "    parameter_constraints=[\"x1 + x2 <= 2.0\"],  # Optional.\n",
    "    outcome_constraints=[\"l2norm <= 1.25\"],  # Optional.\n",
    ")"
   ]
  },
  {
   "cell_type": "markdown",
   "metadata": {},
   "source": [
    "## 3. Define how to evaluate trials\n",
    "When using Ax a service, evaluation of parameterizations suggested by Ax is done either locally or, more commonly, using an external scheduler. Below is a dummy evaluation function that outputs data for two metrics \"hartmann6\" and \"l2norm\". Note that all returned metrics correspond to either the `objective_name` set on experiment creation or the metric names mentioned in `outcome_constraints`."
   ]
  },
  {
   "cell_type": "code",
   "execution_count": 4,
   "metadata": {
    "collapsed": true
   },
   "outputs": [],
   "source": [
    "def evaluate(parameters):\n",
    "    x = np.array([parameters.get(f\"x{i+1}\") for i in range(6)])\n",
    "    # In our case, standard error is 0, since we are computing a synthetic function.\n",
    "    return {\"hartmann6\": (hartmann6(x), 0.0), \"l2norm\": (np.sqrt((x ** 2).sum()), 0.0)}"
   ]
  },
  {
   "cell_type": "markdown",
   "metadata": {},
   "source": [
    "Result of the evaluation should generally be a mapping of the format: `{metric_name -> (mean, SEM)}`. If there is only one metric in the experiment – the objective – then evaluation function can return a single tuple of mean and SEM, in which case Ax will assume that evaluation corresponds to the objective. It can also return only the mean as a float, in which case Ax will assume that SEM is 0.0. For more details on evaluation function, refer to the \"Trial Evaluation\" section in the docs."
   ]
  },
  {
   "cell_type": "markdown",
   "metadata": {},
   "source": [
    "## 4. Run optimization loop\n",
    "With the experiment set up, we can start the optimization loop.\n",
    "\n",
    "At each step, the user queries the client for a new trial then submits the evaluation of that trial back to the client.\n",
    "\n",
    "Note that Ax auto-selects an appropriate optimization algorithm based on the search space. For more advance use cases that require a specific optimization algorithm, pass a `generation_strategy` argument into the `AxClient` constructor. Note that when Bayesian Optimization is used, generating new trials may take a few minutes."
   ]
  },
  {
   "cell_type": "code",
   "execution_count": 5,
   "metadata": {},
   "outputs": [
    {
     "name": "stdout",
     "output_type": "stream",
     "text": [
      "Running trial 1/30...\n",
      "Running trial 2/30...\n",
      "Running trial 3/30...\n",
      "Running trial 4/30...\n",
      "Running trial 5/30...\n",
      "Running trial 6/30...\n",
      "Running trial 7/30...\n"
     ]
    },
    {
     "name": "stdout",
     "output_type": "stream",
     "text": [
      "Running trial 8/30...\n"
     ]
    },
    {
     "name": "stdout",
     "output_type": "stream",
     "text": [
      "Running trial 9/30...\n"
     ]
    },
    {
     "name": "stdout",
     "output_type": "stream",
     "text": [
      "Running trial 10/30...\n"
     ]
    },
    {
     "name": "stdout",
     "output_type": "stream",
     "text": [
      "Running trial 11/30...\n"
     ]
    },
    {
     "name": "stdout",
     "output_type": "stream",
     "text": [
      "Running trial 12/30...\n"
     ]
    },
    {
     "name": "stdout",
     "output_type": "stream",
     "text": [
      "Running trial 13/30...\n"
     ]
    },
    {
     "name": "stdout",
     "output_type": "stream",
     "text": [
      "Running trial 14/30...\n"
     ]
    },
    {
     "name": "stdout",
     "output_type": "stream",
     "text": [
      "Running trial 15/30...\n"
     ]
    },
    {
     "name": "stdout",
     "output_type": "stream",
     "text": [
      "Running trial 16/30...\n"
     ]
    },
    {
     "name": "stdout",
     "output_type": "stream",
     "text": [
      "Running trial 17/30...\n"
     ]
    },
    {
     "name": "stdout",
     "output_type": "stream",
     "text": [
      "Running trial 18/30...\n"
     ]
    },
    {
     "name": "stdout",
     "output_type": "stream",
     "text": [
      "Running trial 19/30...\n"
     ]
    },
    {
     "name": "stdout",
     "output_type": "stream",
     "text": [
      "Running trial 20/30...\n"
     ]
    },
    {
     "name": "stdout",
     "output_type": "stream",
     "text": [
      "Running trial 21/30...\n"
     ]
    },
    {
     "name": "stdout",
     "output_type": "stream",
     "text": [
      "Running trial 22/30...\n"
     ]
    },
    {
     "name": "stdout",
     "output_type": "stream",
     "text": [
      "Running trial 23/30...\n"
     ]
    },
    {
     "name": "stdout",
     "output_type": "stream",
     "text": [
      "Running trial 24/30...\n"
     ]
    },
    {
     "name": "stdout",
     "output_type": "stream",
     "text": [
      "Running trial 25/30...\n"
     ]
    },
    {
     "name": "stdout",
     "output_type": "stream",
     "text": [
      "Running trial 26/30...\n"
     ]
    },
    {
     "name": "stdout",
     "output_type": "stream",
     "text": [
      "Running trial 27/30...\n"
     ]
    },
    {
     "name": "stdout",
     "output_type": "stream",
     "text": [
      "Running trial 28/30...\n"
     ]
    },
    {
     "name": "stdout",
     "output_type": "stream",
     "text": [
      "Running trial 29/30...\n"
     ]
    },
    {
     "name": "stderr",
     "output_type": "stream",
     "text": [
      "/home/travis/virtualenv/python3.6.7/lib/python3.6/site-packages/botorch/optim/optimize.py:275: BadInitialCandidatesWarning:\n",
      "\n",
      "Unable to find non-zero acquisition function values - initial conditions are being selected randomly.\n",
      "\n"
     ]
    },
    {
     "name": "stdout",
     "output_type": "stream",
     "text": [
      "Running trial 30/30...\n"
     ]
    },
    {
     "name": "stderr",
     "output_type": "stream",
     "text": [
      "/home/travis/virtualenv/python3.6.7/lib/python3.6/site-packages/botorch/optim/optimize.py:275: BadInitialCandidatesWarning:\n",
      "\n",
      "Unable to find non-zero acquisition function values - initial conditions are being selected randomly.\n",
      "\n"
     ]
    }
   ],
   "source": [
    "for i in range(30):\n",
    "    print(f\"Running trial {i+1}/30...\")\n",
    "    parameters, trial_index = ax.get_next_trial()\n",
    "     # Local evaluation here can be replaced with deployment to external system.\n",
    "    ax.complete_trial(trial_index=trial_index, raw_data=evaluate(parameters))"
   ]
  },
  {
   "cell_type": "markdown",
   "metadata": {},
   "source": [
    "## 5. Retrieve best parameters\n",
    "\n",
    "Once it's complete, we can access the best parameters found, as well as the corresponding metric values."
   ]
  },
  {
   "cell_type": "code",
   "execution_count": 6,
   "metadata": {},
   "outputs": [
    {
     "data": {
      "text/plain": [
       "{'x1': 0.1970445575375179,\n",
       " 'x2': 0.1563205632789241,\n",
       " 'x3': 0.47119131366481515,\n",
       " 'x4': 0.26803273997312904,\n",
       " 'x5': 0.316010345642697,\n",
       " 'x6': 0.6603107978571239}"
      ]
     },
     "execution_count": 6,
     "metadata": {},
     "output_type": "execute_result"
    }
   ],
   "source": [
    "best_parameters, values = ax.get_best_parameters()\n",
    "best_parameters"
   ]
  },
  {
   "cell_type": "code",
   "execution_count": 7,
   "metadata": {},
   "outputs": [
    {
     "data": {
      "text/plain": [
       "{'l2norm': 0.9449829138070237, 'hartmann6': -3.318454049263358}"
      ]
     },
     "execution_count": 7,
     "metadata": {},
     "output_type": "execute_result"
    }
   ],
   "source": [
    "means, covariances = values\n",
    "means"
   ]
  },
  {
   "cell_type": "markdown",
   "metadata": {},
   "source": [
    "For comparison, Hartmann6 minimum:"
   ]
  },
  {
   "cell_type": "code",
   "execution_count": 8,
   "metadata": {},
   "outputs": [
    {
     "data": {
      "text/plain": [
       "-3.32237"
      ]
     },
     "execution_count": 8,
     "metadata": {},
     "output_type": "execute_result"
    }
   ],
   "source": [
    "hartmann6.fmin"
   ]
  },
  {
   "cell_type": "markdown",
   "metadata": {},
   "source": [
    "## 6. Plot the response surface and optimization trace\n",
    "Here we arbitrarily select \"x1\" and \"x2\" as the two parameters to plot for both metrics, \"hartmann6\" and \"l2norm\"."
   ]
  },
  {
   "cell_type": "code",
   "execution_count": 9,
   "metadata": {},
   "outputs": [
    {
     "data": {
      "text/html": [
       "<div id=\"5804b7c3bf13446b8338d7f9c0c04bbe\" style=\"width: 100%;\" class=\"plotly-graph-div\"></div><script type='text/javascript'>/*\n",
       " * Copyright (c) Facebook, Inc. and its affiliates. All Rights Reserved.\n",
       " */\n",
       "\n",
       "require(['plotly'], function(Plotly) {\n",
       "  window.PLOTLYENV = window.PLOTLYENV || {};\n",
       "  window.PLOTLYENV.BASE_URL = 'https://plot.ly';\n",
       "  /*\n",
       " * Copyright (c) Facebook, Inc. and its affiliates. All Rights Reserved.\n",
       " */\n",
       "\n",
       "const arm_data = {\"metrics\": [\"hartmann6\"], \"in_sample\": {\"0_0\": {\"name\": \"0_0\", \"parameters\": {\"x1\": 0.5357932448387146, \"x2\": 0.004420148208737373, \"x3\": 0.2694511115550995, \"x4\": 0.3039794862270355, \"x5\": 0.2336191087961197, \"x6\": 0.6618184447288513}, \"y\": {\"hartmann6\": -1.947283077894468}, \"y_hat\": {\"hartmann6\": -1.9472821007597036}, \"se\": {\"hartmann6\": 0.0}, \"se_hat\": {\"hartmann6\": 0.0003803311368342884}, \"context_stratum\": null}, \"1_0\": {\"name\": \"1_0\", \"parameters\": {\"x1\": 0.7820396423339844, \"x2\": 0.9388650059700012, \"x3\": 0.24866987764835358, \"x4\": 0.5440092086791992, \"x5\": 0.3416318893432617, \"x6\": 0.23927734792232513}, \"y\": {\"hartmann6\": -0.1679030311915296}, \"y_hat\": {\"hartmann6\": -0.16790307469908683}, \"se\": {\"hartmann6\": 0.0}, \"se_hat\": {\"hartmann6\": 0.00038033374923193046}, \"context_stratum\": null}, \"2_0\": {\"name\": \"2_0\", \"parameters\": {\"x1\": 0.49856728315353394, \"x2\": 0.41199204325675964, \"x3\": 0.9321701526641846, \"x4\": 0.13129715621471405, \"x5\": 0.8638875484466553, \"x6\": 0.946504533290863}, \"y\": {\"hartmann6\": -0.01800300479888319}, \"y_hat\": {\"hartmann6\": -0.018003086613852748}, \"se\": {\"hartmann6\": 0.0}, \"se_hat\": {\"hartmann6\": 0.00038033375197659065}, \"context_stratum\": null}, \"3_0\": {\"name\": \"3_0\", \"parameters\": {\"x1\": 0.27485623955726624, \"x2\": 0.7609661817550659, \"x3\": 0.403904527425766, \"x4\": 0.8551257252693176, \"x5\": 0.4409007728099823, \"x6\": 0.8302543759346008}, \"y\": {\"hartmann6\": -0.03068163834254475}, \"y_hat\": {\"hartmann6\": -0.03068176775892484}, \"se\": {\"hartmann6\": 0.0}, \"se_hat\": {\"hartmann6\": 0.00038033374479824863}, \"context_stratum\": null}, \"4_0\": {\"name\": \"4_0\", \"parameters\": {\"x1\": 0.9445363283157349, \"x2\": 0.3591245710849762, \"x3\": 0.7125881910324097, \"x4\": 0.43824800848960876, \"x5\": 0.9787032604217529, \"x6\": 0.10749563574790955}, \"y\": {\"hartmann6\": -0.0018872364995324129}, \"y_hat\": {\"hartmann6\": -0.0018872963099747508}, \"se\": {\"hartmann6\": 0.0}, \"se_hat\": {\"hartmann6\": 0.0003803337504986967}, \"context_stratum\": null}, \"5_0\": {\"name\": \"5_0\", \"parameters\": {\"x1\": 0.6907863020896912, \"x2\": 0.6663712859153748, \"x3\": 0.8017314672470093, \"x4\": 0.7134502530097961, \"x5\": 0.5867778062820435, \"x6\": 0.5611799359321594}, \"y\": {\"hartmann6\": -0.03419187562348249}, \"y_hat\": {\"hartmann6\": -0.03419195852486734}, \"se\": {\"hartmann6\": 0.0}, \"se_hat\": {\"hartmann6\": 0.0003803337412090776}, \"context_stratum\": null}, \"6_0\": {\"name\": \"6_0\", \"parameters\": {\"x1\": 0.5845518342037959, \"x2\": 2.038877814999442e-18, \"x3\": 0.19759623781219124, \"x4\": 0.3065685951221028, \"x5\": 0.13758986746865454, \"x6\": 0.6464409176148211}, \"y\": {\"hartmann6\": -1.1504634925042303}, \"y_hat\": {\"hartmann6\": -1.150464139692487}, \"se\": {\"hartmann6\": 0.0}, \"se_hat\": {\"hartmann6\": 0.0003803332299629831}, \"context_stratum\": null}, \"7_0\": {\"name\": \"7_0\", \"parameters\": {\"x1\": 0.5002422158051667, \"x2\": 1.3947802614776234e-17, \"x3\": 0.31061309885836336, \"x4\": 0.31835629295077267, \"x5\": 0.3063157125754579, \"x6\": 0.6630855122082828}, \"y\": {\"hartmann6\": -2.265554295872256}, \"y_hat\": {\"hartmann6\": -2.2655540645000634}, \"se\": {\"hartmann6\": 0.0}, \"se_hat\": {\"hartmann6\": 0.00038033074255038485}, \"context_stratum\": null}, \"8_0\": {\"name\": \"8_0\", \"parameters\": {\"x1\": 0.46318852299606444, \"x2\": 0.0, \"x3\": 0.3787278829214666, \"x4\": 0.23564409371587483, \"x5\": 0.33197589355188745, \"x6\": 0.7154400277079713}, \"y\": {\"hartmann6\": -2.3277970983692065}, \"y_hat\": {\"hartmann6\": -2.3277976754880707}, \"se\": {\"hartmann6\": 0.0}, \"se_hat\": {\"hartmann6\": 0.0003803327776209864}, \"context_stratum\": null}, \"9_0\": {\"name\": \"9_0\", \"parameters\": {\"x1\": 0.49607245736941646, \"x2\": 0.0, \"x3\": 0.45173406269213934, \"x4\": 0.2979567718994949, \"x5\": 0.3133889119465382, \"x6\": 0.6217031975617376}, \"y\": {\"hartmann6\": -2.2918956184185943}, \"y_hat\": {\"hartmann6\": -2.2918962458380605}, \"se\": {\"hartmann6\": 0.0}, \"se_hat\": {\"hartmann6\": 0.00038033250938245613}, \"context_stratum\": null}, \"10_0\": {\"name\": \"10_0\", \"parameters\": {\"x1\": 0.3872933806894481, \"x2\": 0.013897057936664152, \"x3\": 0.3640645018851731, \"x4\": 0.25385390053343765, \"x5\": 0.3203756567062262, \"x6\": 0.6013570548216498}, \"y\": {\"hartmann6\": -2.6442578378453216}, \"y_hat\": {\"hartmann6\": -2.644257578534424}, \"se\": {\"hartmann6\": 0.0}, \"se_hat\": {\"hartmann6\": 0.0003803312829356364}, \"context_stratum\": null}, \"11_0\": {\"name\": \"11_0\", \"parameters\": {\"x1\": 0.2771817209196069, \"x2\": 0.007433810015885427, \"x3\": 0.38358853127768366, \"x4\": 0.3111857754706187, \"x5\": 0.2963420930588248, \"x6\": 0.626482289624555}, \"y\": {\"hartmann6\": -2.938359704699817}, \"y_hat\": {\"hartmann6\": -2.9383599154701177}, \"se\": {\"hartmann6\": 0.0}, \"se_hat\": {\"hartmann6\": 0.0003803272680839539}, \"context_stratum\": null}, \"12_0\": {\"name\": \"12_0\", \"parameters\": {\"x1\": 0.20330965951245955, \"x2\": 0.08359557336413494, \"x3\": 0.3915737395083902, \"x4\": 0.3409137385668846, \"x5\": 0.3047703494716398, \"x6\": 0.6346917931851274}, \"y\": {\"hartmann6\": -3.0910901678081526}, \"y_hat\": {\"hartmann6\": -3.091089361051465}, \"se\": {\"hartmann6\": 0.0}, \"se_hat\": {\"hartmann6\": 0.0003803167662679106}, \"context_stratum\": null}, \"13_0\": {\"name\": \"13_0\", \"parameters\": {\"x1\": 0.08028408698799185, \"x2\": 0.04373519235887085, \"x3\": 0.37988834647412884, \"x4\": 0.30608402664843337, \"x5\": 0.3291377262023764, \"x6\": 0.5821285620803779}, \"y\": {\"hartmann6\": -2.7775150231546637}, \"y_hat\": {\"hartmann6\": -2.777515488358785}, \"se\": {\"hartmann6\": 0.0}, \"se_hat\": {\"hartmann6\": 0.0003803325996398339}, \"context_stratum\": null}, \"14_0\": {\"name\": \"14_0\", \"parameters\": {\"x1\": 0.1960358773908217, \"x2\": 0.10821338958177863, \"x3\": 0.4283869850080148, \"x4\": 0.2900599121755538, \"x5\": 0.2458862252263603, \"x6\": 0.6616687192510423}, \"y\": {\"hartmann6\": -3.074171099090789}, \"y_hat\": {\"hartmann6\": -3.074171246293974}, \"se\": {\"hartmann6\": 0.0}, \"se_hat\": {\"hartmann6\": 0.0003803284551678571}, \"context_stratum\": null}, \"15_0\": {\"name\": \"15_0\", \"parameters\": {\"x1\": 0.2084962494859976, \"x2\": 0.0991947456955337, \"x3\": 0.4121424996164726, \"x4\": 0.38943350738187116, \"x5\": 0.24466294552623305, \"x6\": 0.5997352719135001}, \"y\": {\"hartmann6\": -2.6474248521106483}, \"y_hat\": {\"hartmann6\": -2.6474255802915834}, \"se\": {\"hartmann6\": 0.0}, \"se_hat\": {\"hartmann6\": 0.00038033186121773344}, \"context_stratum\": null}, \"16_0\": {\"name\": \"16_0\", \"parameters\": {\"x1\": 0.20005072613289768, \"x2\": 0.10440293620335149, \"x3\": 0.39472892898367784, \"x4\": 0.28862719594485775, \"x5\": 0.31166848268408126, \"x6\": 0.6861102914841901}, \"y\": {\"hartmann6\": -3.2244312396647743}, \"y_hat\": {\"hartmann6\": -3.22442958693353}, \"se\": {\"hartmann6\": 0.0}, \"se_hat\": {\"hartmann6\": 0.00038030073882706775}, \"context_stratum\": null}, \"17_0\": {\"name\": \"17_0\", \"parameters\": {\"x1\": 0.17921810178735328, \"x2\": 0.09601909730153105, \"x3\": 0.49145997247117934, \"x4\": 0.29762676153051754, \"x5\": 0.3245399227194371, \"x6\": 0.7061482023542326}, \"y\": {\"hartmann6\": -3.1957759708957365}, \"y_hat\": {\"hartmann6\": -3.1957762543397177}, \"se\": {\"hartmann6\": 0.0}, \"se_hat\": {\"hartmann6\": 0.0003803212292584598}, \"context_stratum\": null}, \"18_0\": {\"name\": \"18_0\", \"parameters\": {\"x1\": 0.15121861910833034, \"x2\": 0.08164445605347029, \"x3\": 0.3950570957385528, \"x4\": 0.3135191573719741, \"x5\": 0.29603176074798815, \"x6\": 0.756752795773483}, \"y\": {\"hartmann6\": -2.9077966806572415}, \"y_hat\": {\"hartmann6\": -2.907797364361099}, \"se\": {\"hartmann6\": 0.0}, \"se_hat\": {\"hartmann6\": 0.0003803302910499483}, \"context_stratum\": null}, \"19_0\": {\"name\": \"19_0\", \"parameters\": {\"x1\": 0.19530249062846922, \"x2\": 0.11534468262923993, \"x3\": 0.46240977889087603, \"x4\": 0.2579203035454751, \"x5\": 0.3212159806374562, \"x6\": 0.6639805767076459}, \"y\": {\"hartmann6\": -3.291156897664622}, \"y_hat\": {\"hartmann6\": -3.2911570615250882}, \"se\": {\"hartmann6\": 0.0}, \"se_hat\": {\"hartmann6\": 0.0003802930915687646}, \"context_stratum\": null}, \"20_0\": {\"name\": \"20_0\", \"parameters\": {\"x1\": 0.22411444728205662, \"x2\": 0.18239160618475353, \"x3\": 0.4862142388991233, \"x4\": 0.26299138175146736, \"x5\": 0.31986666727567126, \"x6\": 0.6712317637154624}, \"y\": {\"hartmann6\": -3.290688252963388}, \"y_hat\": {\"hartmann6\": -3.2906888096526545}, \"se\": {\"hartmann6\": 0.0}, \"se_hat\": {\"hartmann6\": 0.00038030790019960965}, \"context_stratum\": null}, \"21_0\": {\"name\": \"21_0\", \"parameters\": {\"x1\": 0.1970445575375179, \"x2\": 0.1563205632789241, \"x3\": 0.47119131366481515, \"x4\": 0.26803273997312904, \"x5\": 0.316010345642697, \"x6\": 0.6603107978571239}, \"y\": {\"hartmann6\": -3.3184537163411894}, \"y_hat\": {\"hartmann6\": -3.318454049263358}, \"se\": {\"hartmann6\": 0.0}, \"se_hat\": {\"hartmann6\": 0.00037984837847538017}, \"context_stratum\": null}, \"22_0\": {\"name\": \"22_0\", \"parameters\": {\"x1\": 0.14278044558523517, \"x2\": 0.20522354353302077, \"x3\": 0.4735146615709723, \"x4\": 0.23528831855753465, \"x5\": 0.3130322783633194, \"x6\": 0.6720768186643091}, \"y\": {\"hartmann6\": -3.1954821182586732}, \"y_hat\": {\"hartmann6\": -3.1954819778420376}, \"se\": {\"hartmann6\": 0.0}, \"se_hat\": {\"hartmann6\": 0.0003803231045518529}, \"context_stratum\": null}, \"23_0\": {\"name\": \"23_0\", \"parameters\": {\"x1\": 0.20592192045285898, \"x2\": 0.1640923175311232, \"x3\": 0.4671747656046645, \"x4\": 0.28100463832208633, \"x5\": 0.336017728221405, \"x6\": 0.6435700421913985}, \"y\": {\"hartmann6\": -3.2836104793082894}, \"y_hat\": {\"hartmann6\": -3.2836111815332485}, \"se\": {\"hartmann6\": 0.0}, \"se_hat\": {\"hartmann6\": 0.0003803099305362012}, \"context_stratum\": null}, \"24_0\": {\"name\": \"24_0\", \"parameters\": {\"x1\": 0.20786131998924512, \"x2\": 0.14718026652971544, \"x3\": 0.5124329243781801, \"x4\": 0.27311055625720254, \"x5\": 0.30670675886237725, \"x6\": 0.6487417705797188}, \"y\": {\"hartmann6\": -3.3052567264444277}, \"y_hat\": {\"hartmann6\": -3.3052520938118413}, \"se\": {\"hartmann6\": 0.0}, \"se_hat\": {\"hartmann6\": 0.00038029122932432856}, \"context_stratum\": null}, \"25_0\": {\"name\": \"25_0\", \"parameters\": {\"x1\": 0.21509177425212778, \"x2\": 0.1555731268669234, \"x3\": 0.4554274040028143, \"x4\": 0.2685134102887709, \"x5\": 0.30758248225955764, \"x6\": 0.6506301083706607}, \"y\": {\"hartmann6\": -3.312278113400589}, \"y_hat\": {\"hartmann6\": -3.3122795588840397}, \"se\": {\"hartmann6\": 0.0}, \"se_hat\": {\"hartmann6\": 0.0003802005038867379}, \"context_stratum\": null}, \"26_0\": {\"name\": \"26_0\", \"parameters\": {\"x1\": 0.10850797901811307, \"x2\": 0.1265369336506374, \"x3\": 0.8949540955750628, \"x4\": 0.24548262844990718, \"x5\": 0.3293631972107217, \"x6\": 0.6790812672385249}, \"y\": {\"hartmann6\": -1.8282105819147791}, \"y_hat\": {\"hartmann6\": -1.8282110112670111}, \"se\": {\"hartmann6\": 0.0}, \"se_hat\": {\"hartmann6\": 0.0003803335971143879}, \"context_stratum\": null}, \"27_0\": {\"name\": \"27_0\", \"parameters\": {\"x1\": 0.22278676173468198, \"x2\": 0.2416660757348747, \"x3\": 0.5481344471869808, \"x4\": 0.12172681320065196, \"x5\": 0.24328603311866237, \"x6\": 0.5230068622548697}, \"y\": {\"hartmann6\": -2.1210939377110294}, \"y_hat\": {\"hartmann6\": -2.121094267814993}, \"se\": {\"hartmann6\": 0.0}, \"se_hat\": {\"hartmann6\": 0.0003803335126632624}, \"context_stratum\": null}, \"28_0\": {\"name\": \"28_0\", \"parameters\": {\"x1\": 0.6158821452409029, \"x2\": 0.9874006602913141, \"x3\": 0.15794755052775145, \"x4\": 0.5313914706930518, \"x5\": 0.943895984441042, \"x6\": 0.3816654859110713}, \"y\": {\"hartmann6\": -0.2351394805106223}, \"y_hat\": {\"hartmann6\": -0.2351394525580739}, \"se\": {\"hartmann6\": 0.0}, \"se_hat\": {\"hartmann6\": 0.00038033374933749435}, \"context_stratum\": null}}, \"out_of_sample\": {}, \"status_quo_name\": null};\n",
       "const density = 50;\n",
       "const grid_x = [0.0, 0.02040816326530612, 0.04081632653061224, 0.061224489795918366, 0.08163265306122448, 0.1020408163265306, 0.12244897959183673, 0.14285714285714285, 0.16326530612244897, 0.18367346938775508, 0.2040816326530612, 0.22448979591836732, 0.24489795918367346, 0.26530612244897955, 0.2857142857142857, 0.3061224489795918, 0.32653061224489793, 0.3469387755102041, 0.36734693877551017, 0.3877551020408163, 0.4081632653061224, 0.42857142857142855, 0.44897959183673464, 0.4693877551020408, 0.4897959183673469, 0.5102040816326531, 0.5306122448979591, 0.5510204081632653, 0.5714285714285714, 0.5918367346938775, 0.6122448979591836, 0.6326530612244897, 0.6530612244897959, 0.673469387755102, 0.6938775510204082, 0.7142857142857142, 0.7346938775510203, 0.7551020408163265, 0.7755102040816326, 0.7959183673469387, 0.8163265306122448, 0.836734693877551, 0.8571428571428571, 0.8775510204081632, 0.8979591836734693, 0.9183673469387754, 0.9387755102040816, 0.9591836734693877, 0.9795918367346939, 1.0];\n",
       "const grid_y = [0.0, 0.02040816326530612, 0.04081632653061224, 0.061224489795918366, 0.08163265306122448, 0.1020408163265306, 0.12244897959183673, 0.14285714285714285, 0.16326530612244897, 0.18367346938775508, 0.2040816326530612, 0.22448979591836732, 0.24489795918367346, 0.26530612244897955, 0.2857142857142857, 0.3061224489795918, 0.32653061224489793, 0.3469387755102041, 0.36734693877551017, 0.3877551020408163, 0.4081632653061224, 0.42857142857142855, 0.44897959183673464, 0.4693877551020408, 0.4897959183673469, 0.5102040816326531, 0.5306122448979591, 0.5510204081632653, 0.5714285714285714, 0.5918367346938775, 0.6122448979591836, 0.6326530612244897, 0.6530612244897959, 0.673469387755102, 0.6938775510204082, 0.7142857142857142, 0.7346938775510203, 0.7551020408163265, 0.7755102040816326, 0.7959183673469387, 0.8163265306122448, 0.836734693877551, 0.8571428571428571, 0.8775510204081632, 0.8979591836734693, 0.9183673469387754, 0.9387755102040816, 0.9591836734693877, 0.9795918367346939, 1.0];\n",
       "const f = [-2.4832857709903777, -2.5426496596203094, -2.5983693618300405, -2.6498024815686163, -2.6962940018683117, -2.73719176290861, -2.771866040756344, -2.7997325998965716, -2.820277702132559, -2.833082800342382, -2.8378462833155353, -2.8343997992932817, -2.8227173667669567, -2.802916536404454, -2.775252019033099, -2.7401031161869605, -2.6979567574402736, -2.649387936370517, -2.5950389930766615, -2.5355987331613647, -2.4717819854387266, -2.4043099873763234, -2.333891973105727, -2.261208487445462, -2.1868971710530105, -2.111541904742707, -2.035666073792096, -1.9597302112684276, -1.8841335494884985, -1.8092184053811917, -1.7352761195197957, -1.6625534447026984, -1.5912586361342766, -1.5215668447970845, -1.4536246733819642, -1.3875539123514669, -1.3234545553341315, -1.2614072244454717, -1.2014751379013433, -1.1437057384357958, -1.0881320804475538, -1.0347740518123736, -0.9836394858832971, -0.9347252017913545, -0.8880179972289788, -0.8434956073554247, -0.8011276359187021, -0.7608764596277142, -0.7226981037008708, -0.686543084874762, -2.5200921205852524, -2.5809390818021507, -2.6380909081539725, -2.690884858419904, -2.738643737537916, -2.7806919072268395, -2.8163757395867197, -2.84508789389844, -2.8662938102574866, -2.8795579643045928, -2.8845670035091193, -2.88114704181534, -2.8692731355650287, -2.8490701464341006, -2.820805496131981, -2.7848753493798974, -2.74178626546599, -2.6921343131836006, -2.636583230153508, -2.5758426768317797, -2.5106471925992073, -2.4417362154678526, -2.3698354984532823, -2.295640400033075, -2.219801746057533, -2.142915101636063, -2.0655141675363566, -1.988068529304156, -1.9109852823129205, -1.8346134725132364, -1.759250091007324, -1.6851465292371595, -1.6125147484641777, -1.5415327613056276, -1.4723492794110347, -1.4050875402720058, -1.3398484091341616, -1.2767128846549998, -1.215744139698557, -1.1569892154789312, -1.1004804671108745, -1.0462368368993409, -0.9942650114254554, -0.9445605011380274, -0.8971086672393949, -0.8518857100897888, -0.8088596257696725, -0.767991132330428, -0.7292345641045999, -0.6925387307533664, -2.5526229974882253, -2.614758127083185, -2.673150549321871, -2.727119896700154, -2.7759700112587007, -2.8190054610057267, -2.8555527540460224, -2.884985627921634, -2.906752738294411, -2.9204051502198345, -2.9256205599267457, -2.922221323645994, -2.910184167857498, -2.8896407421331785, -2.8608695946680145, -2.8242812712956886, -2.780398772919672, -2.7298355368738085, -2.673272640472148, -2.6114363373457365, -2.5450765494227423, -2.4749466625699377, -2.401784927758885, -2.326297899336228, -2.2491465434732962, -2.1709357715415476, -2.0922080264523912, -2.0134410970272634, -1.9350496910480623, -1.8573897627078724, -1.7807643963167554, -1.705430192894785, -1.6316034241206898, -1.5594655438930993, -1.489167897598163, -1.4208356285292085, -1.354570866889644, -1.290455322767286, -1.228552409929591, -1.168909016110267, -1.1115570166806836, -1.056514607773477, -1.003787515206387, -0.9533701185193928, -0.9052465156692238, -0.8593915434056747, -0.8157717607493544, -0.7743463978240765, -0.7350682690625281, -0.69788464802896, -2.580547149584465, -2.6437521746648507, -2.703169936066748, -2.758105538615039, -2.807847569366079, -2.851685098913938, -2.888929528160517, -2.918940637759439, -2.941155112504078, -2.9551148523915565, -2.960491875084357, -2.9571067623096954, -2.9449384401001306, -2.924124435822305, -2.89495224235709, -2.8578435922901306, -2.8133340041328947, -2.762049889213637, -2.704685014622594, -2.641977495026824, -2.5746879659132444, -2.5035792899044673, -2.429398079011559, -2.352858419715798, -2.27462835657872, -2.1953197804470235, -2.115482236415775, -2.0356007605257465, -1.956097293161546, -1.877334749437441, -1.7996226452056066, -1.7232232893542996, -1.648357828310916, -1.575211725418609, -1.503939495655536, -1.4346686744725134, -1.3675030891817874, -1.3025255419841897, -1.239800023348357, -1.1793735664875475, -1.1212778371960979, -1.0655305340317232, -1.0121366551026791, -0.9610896712763937, -0.9123726321726964, -0.8659592209174958, -0.8218147660435298, -0.7798972137052667, -0.7401580600510347, -0.7025432417161284, -2.6035693668937214, -2.667605788744237, -2.727813303923611, -2.7834859536534413, -2.8339012178364014, -2.878337473291802, -2.9160963297258533, -2.946529159213725, -2.9690660525023356, -2.9832444703522176, -2.988734349029535, -2.9853565853968504, -2.97309269639542, -2.952084817247886, -2.922626685055635, -2.885147427265258, -2.840190555078577, -2.7883905145807493, -2.7304486650625446, -2.667109922442582, -2.599140765782828, -2.527308979912394, -2.452365410017631, -2.3750280723658803, -2.2959690916527338, -2.215804989833453, -2.1350907187917003, -2.0543174771748633, -1.9739138824366977, -1.8942496760940797, -1.815640975373232, -1.7383561629826207, -1.6626217336539462, -1.5886276765426195, -1.5165321928125282, -1.4464657022046756, -1.378534185082144, -1.312821952326257, -1.2493939502086737, -1.1882977035848998, -1.1295649873922249, -1.0732132993440624, -1.0192471894311406, -0.9676594862967782, -0.9184324476102705, -0.8715388514213498, -0.8269430379642919, -0.7846019061302354, -0.7444658654136451, -0.7064797421431339, -2.6214393562061202, -2.6860526936063818, -2.7467986334826504, -2.8029639513106392, -2.853819527698943, -2.898638213984374, -2.9367174941502663, -2.967406198189158, -2.9901334700319615, -3.004437257297145, -3.0099891141299726, -3.0066123210928404, -2.9942912241686517, -2.9731710259539006, -2.9435486544699736, -2.905856449677142, -2.8606410072931467, -2.808539532191283, -2.750255618661092, -2.6865357609934977, -2.6181473513445783, -2.5458585749919256, -2.4704204827732252, -2.3925515458628293, -2.3129250772184604, -2.2321599233690805, -2.150814700305859, -2.0693855506517496, -1.9883070185293152, -1.9079553183551496, -1.8286531292460917, -1.7506750967147595, -1.67425340301322, -1.5995829885312405, -1.5268262048329424, -1.456116827060884, -1.3875634473640979, -1.3212523216689542, -1.2572497622998058, -1.195604169982503, -1.1363477891761162, -1.079498256338034, -1.0250599953363806, -0.9730254999017578, -0.9233765307989463, -0.8760852456469768, -0.83111527196102, -0.788422728754743, -0.7479571985590319, -0.7096626496035061, -2.633959828482731, -2.6988848026055257, -2.759907655316166, -2.8163119682189204, -2.867366779277338, -2.9123447734743726, -2.9505450837545184, -2.9813198841853197, -3.0041029573743163, -3.0184375414692846, -3.0240003527623758, -3.0206189640318453, -3.008280640910746, -2.9871319809753425, -2.957469927190931, -2.919725731257098, -2.8744440554728947, -2.822259500532863, -2.763872492488934, -2.700025891181731, -2.6314831434332895, -2.5590084398443067, -2.483349168626301, -2.4052209390834163, -2.3252954792739717, -2.2441917007051484, -2.162470099045528, -2.080630415051345, -1.9991121776172043, -1.9182974960265455, -1.8385153457597845, -1.7600466208665888, -1.6831293639884963, -1.6079637675328686, -1.5347167130019228, -1.463525751958283, -1.3945025247925713, -1.327735667621725, -1.2632932829144132, -1.2012250554408503, -1.1415640897233577, -1.0843285340119984, -1.0295230426991504, -0.9771401163012372, -0.9271613468904891, -0.8795585876608119, -0.8342950582261786, -0.791326392097367, -0.7506016292689437, -0.7120641546434507, -2.6409930802146557, -2.705959438740851, -2.7669936801500743, -2.823380445359268, -2.8743917941659687, -2.9193056015162178, -2.9574282866883603, -2.988120981283151, -3.0108273119591007, -3.0251001818542744, -3.0306246165571977, -3.0272341049455957, -3.0149187962944457, -2.993825033516937, -2.964246721823095, -2.9266098922880017, -2.8814524326885436, -2.829401149127364, -2.7711480680306306, -2.7074273819597248, -2.6389939271751945, -2.5666037066574536, -2.4909967739909145, -2.412882727535796, -2.3329290521389723, -2.2517525077949463, -2.1699136483593553, -2.0879143536394373, -2.006198021415436, -1.9251518664320808, -1.845110672097988, -1.7663613549985993, -1.6891478063802063, -1.6136756220950885, -1.540116480811168, -1.468612053636126, -1.3992774172023958, -1.3322039981459968, -1.2674621063401428, -1.205103124934309, -1.145161424077572, -1.0876560574904823, -1.0325922905139358, -0.9799629972869981, -0.929749954652973, -0.8819250519220587, -0.8364514289284382, -0.7932845498368084, -0.7523732166643806, -0.7136605242187193, -2.6424654483727923, -2.7072040248251317, -2.767986432464155, -2.8241026835781207, -2.8748326698663123, -2.9194646107131215, -2.9573174820381904, -2.98776646339367, -3.0102695971145392, -3.024393166518786, -3.0298330842941628, -3.026430012877652, -3.0141768486300684, -2.993218180553197, -2.963842149878361, -2.9264658476815795, -2.8816159763866365, -2.8299067660881088, -2.77201698581257, -2.708667465239866, -2.6406000676889345, -2.568558682684567, -2.4932725817870685, -2.4154423750665153, -2.3357287546166754, -2.25474415201173, -2.1730473274980437, -2.091140745723624, -2.009470408306064, -1.9284276588645075, -1.848352394363689, -1.7695371223486187, -1.6922313812950511, -1.6166461585570788, -1.5429580647689087, -1.4713131325085786, -1.4018301900245271, -1.3346038165486407, -1.269706918040554, -1.2071929769248468, -1.1470980322348703, -1.0894424423343232, -1.0342324745862221, -0.9814617573720721, -0.9311126211985639, -0.8831573480521333, -0.8375593419989358, -0.7942742293138063, -0.7532508930286128, -0.7144324445125716, -2.6383692512214356, -2.7026178280653457, -2.7628934630139463, -2.818495769144038, -2.8687170566079905, -2.912860654716974, -2.950262806853368, -2.9803171254631105, -3.0024998504709712, -3.0163935858119304, -3.0217070714293306, -3.0182890124600896, -3.0061348381231037, -2.985386104694443, -2.956322908564017, -2.919350254864385, -2.87497986442367, -2.8238092048626164, -2.7664994713029234, -2.7037539078702406, -2.6362974429397443, -2.564858254042295, -2.4901516374773367, -2.4128664189785822, -2.3336540585829617, -2.2531205256567266, -2.171820916584526, -2.0902566531068896, -2.0088749549331357, -1.9280701606476913, -1.848186405889586, -1.769521168786932, -1.6923292504799865, -1.6168268510860275, -1.5431955042970587, -1.4715857282323088, -1.4021203258330115, -1.3348973219639577, -1.2699925582275071, -1.2074619843376673, -1.147343691301051, -1.0896597307063134, -1.0344177593680006, -0.9816125417186639, -0.9312273352048577, -0.8832351774013993, -0.8376000880476655, -0.7942781948669482, -0.7532187888117552, -0.7143653121463134, -2.628762123341816, -2.6922707166368176, -2.7517981756334366, -2.8066577162528805, -2.856158272536187, -2.8996225038180046, -2.9364079341684777, -2.965930186261133, -2.987686636869144, -3.001278373158777, -3.0064282940223443, -3.0029936609811028, -2.990972162971261, -2.9705012779351323, -2.9418512524128966, -2.905412498083355, -2.861678671075536, -2.8112270028112807, -2.7546974580591295, -2.692772050239646, -2.6261552926122267, -2.555556435615309, -2.4816738955644206, -2.4051821187991034, -2.3267210174600392, -2.2468880218451557, -2.166232694666114, -2.0852537389702586, -2.004398116905951, -1.9240619034299287, -1.8445924475973725, -1.7662914127119012, -1.6894183098818982, -1.6141942122575759, -1.5408054214394493, -1.4694069382002861, -1.400125657296326, -1.333063256885001, -1.2682987871460256, -1.2058909826781385, -1.1458803325469187, -1.0882909438678585, -1.0331322323677985, -0.980400468632485, -0.9300802032099833, -0.8821455883348486, -0.8365616092850507, -0.7932852345073242, -0.7522664906835894, -0.7134494667890712, -2.6137639331688964, -2.6762992197347577, -2.734854892276874, -2.788761413795228, -2.837348038714275, -2.879960321699838, -2.9159803092125958, -2.9448483796875795, -2.966085173855835, -2.979311720591862, -2.9842658881866475, -2.980813717031673, -2.96895484321659, -2.9488218354477036, -2.920673732169319, -2.8848844701703973, -2.8419272883022795, -2.7923564656344007, -2.7367878013749567, -2.6758790754156574, -2.610311446264345, -2.5407724533633935, -2.4679410534084347, -2.3924749475603924, -2.315000331807817, -2.2361041012135745, -2.156328441525262, -2.0761676428745526, -1.9960668770593473, -1.9164226062354894, -1.837584249822932, -1.7598567338947964, -1.6835035798458735, -1.608750246262074, -1.5357875064629476, -1.4647747123207908, -1.395842854462603, -1.329097375719928, -1.2646207279460144, -1.2024746834719062, -1.1427024239660786, -1.085330433966415, -1.0303702262805103, -0.9778199237367966, -0.9276657178309669, -0.8798832205969391, -0.8344387221115153, -0.7912903627115921, -0.750389226368605, -0.7116803597157946, -2.593551679765584, -2.6549004121621516, -2.7122816230215356, -2.7650462071930897, -2.8125468418562747, -2.8541548331525357, -2.889279209096947, -2.917387056014369, -2.938023675753829, -2.9508308998136377, -2.9555619573606347, -2.95209166952313, -2.9404212907656513, -2.9206778414375316, -2.893108188074549, -2.8580684794399622, -2.816009871948307, -2.7674617148131953, -2.713013432187256, -2.653296231137403, -2.588965546438315, -2.520684886866302, -2.449111527678138, -2.3748843198499268, -2.2986137532225257, -2.2208743028466453, -2.14219899227525, -2.063076018996327, -1.9839472088388606, -1.905208006241357, -1.827208673821319, -1.7502563713936552, -1.6746178090607942, -1.600522213864993, -1.5281644050764962, -1.45770783028525, -1.389287466163006, -1.3230125300941822, -1.2589689805068236, -1.1972218052266494, -1.1378171101537482, -1.080784027048011, -1.0261364611787187, -0.9738746987274642, -0.9239868914285276, -0.8764504329071505, -0.8312332381288039, -0.7882949346458552, -0.7475879720836989, -0.7090586545897177, -2.5683528813280123, -2.628324252691901, -2.6843512962238467, -2.735807999253695, -2.782072931384431, -2.822545295022005, -2.856662816158217, -2.8839205265676, -2.9038891608276924, -2.9162317253543937, -2.9207168753749224, -2.917228056283345, -2.905767820204623, -2.886457175164948, -2.8595301934719055, -2.8253244162021236, -2.7842678623564083, -2.7368636490070517, -2.68367330002451, -2.625299755043385, -2.5623709267342285, -2.495524451397391, -2.425394081542766, -2.352598002026878, -2.2777292163027476, -2.2013480391804445, -2.123976638837684, -2.0460954893866705, -1.9681415270990998, -1.8905077528306347, -1.8135439948839696, -1.7375585424850721, -1.6628203782877589, -1.5895617734961653, -1.517981054121441, -1.4482453944368974, -1.3804935381719394, -1.3148383857620232, -1.2513694154472264, -1.1901549271659901, -1.131244112009266, -1.074668957951835, -1.0204460062214329, -0.9685779734164373, -0.9190552534885479, -0.8718573118291133, -0.8269539815271059, -0.784306669774959, -0.7438694805887975, -0.7055902585681446, -2.5384379974957905, -2.596865009939147, -2.651382172377639, -2.7013886742453552, -2.7462908180087133, -2.785517174655432, -2.8185352150372616, -2.844868537693017, -2.8641135632310304, -2.8759544549681078, -2.880175109794464, -2.87666733230479, -2.8654346799127643, -2.8465918467702953, -2.82035978284677, -2.7870570198101032, -2.747087905028585, -2.7009286097055285, -2.6491118453629596, -2.592211185074167, -2.5308257650340606, -2.4655659783251407, -2.397040602680782, -2.32584564984877, -2.2525550934309653, -2.177713523373091, -2.1018306843279158, -2.025377779027153, -1.9487853565529003, -1.872442561086939, -1.7966974916625384, -1.721858418401387, -1.6481956139387246, -1.5759435861459838, -1.5053035344255634, -1.4364458912328777, -1.369512848429833, -1.3046208013883585, -1.24186267076764, -1.1813100821943139, -1.1230153981895747, -1.0670136056203057, -1.0133240668938122, -0.9619521452193764, -0.9128907145143028, -0.8661215637149737, -0.8216167039298672, -0.7793395854199969, -0.7392462300419353, -0.7012862836596092, -2.5041123922728272, -2.5608523432620087, -2.6137280611660088, -2.662165502240267, -2.7055999488632203, -2.7434902062904856, -2.7753339577305036, -2.8006834763604633, -2.8191607043786506, -2.830470638859095, -2.8344120468552467, -2.830884756465487, -2.8198930793908294, -2.801545242754109, -2.77604899701843, -2.7437038103477063, -2.704890256582314, -2.6600573426485754, -2.609708583802142, -2.5543876152652034, -2.494664040276748, -2.4311200843934393, -2.364338481868863, -2.2948918819231405, -2.2233339404903467, -2.1501921589354818, -2.075962444132917, -2.001105292750668, -1.9260434463179246, -1.8511608234740193, -1.7768025126220894, -1.7032756019741453, -1.6308506330065429, -1.5597634844202246, -1.4902175226247505, -1.4223858871887676, -1.3564138118388969, -1.2924209106705464, -1.2305033836282422, -1.1707361144126183, -1.1131746479413984, -1.0578570439807222, -1.0048056094442435, -0.9540285150431298, -0.9055213032860732, -0.859268294958613, -0.815243900676214, -0.7734138432750879, -0.7337362959203695, -0.6961629400142639, -2.465708269287422, -2.5206425024285073, -2.5717688263176277, -2.6185410151086144, -2.660424041918383, -2.6969072852545777, -2.7275186236562448, -2.751838697861958, -2.769514479713798, -2.7802712446929876, -2.783922122474407, -2.7803745865319085, -2.769633498707961, -2.7518005966881502, -2.727070563704597, -2.695724033757925, -2.658118055927851, -2.6146746598865236, -2.5658682215365434, -2.5122123193634387, -2.454246707401902, -2.392524928021083, -2.3276029676960603, -2.260029238233929, -2.1903360547526667, -2.1190326845463376, -2.0465999588709054, -1.9734863724931877, -1.90010554346355, -1.826834868223068, -1.7540151849715642, -1.681951250659135, -1.6109128424191739, -1.5411363100957272, -1.472826429414476, -1.4061584318470415, -1.341280114232554, -1.278313956372609, -1.217359196582498, -1.1584938328448027, -1.1017765307006078, -1.0472484286988877, -0.9949348387194108, -0.9448468424868419, -0.896982787775799, -0.8513296887517197, -0.807864535066577, -0.766555514079847, -0.7273631501442825, -0.6902413644376448, -2.423576918161134, -2.47660999428009, -2.525901525537224, -2.570933689496427, -2.611201393280468, -2.6462244851984282, -2.6755606293480607, -2.698818201690991, -2.715668463069262, -2.725856241581027, -2.7292084275195094, -2.725639739615585, -2.71515543209373, -2.6978508408364137, -2.673907883373868, -2.643588814000445, -2.6072276833125776, -2.565220054231873, -2.5180115782796246, -2.4660860351019505, -2.4099533911580657, -2.3501383528203634, -2.287169790149368, -2.221571303852303, -2.153853108961447, -2.084505319988975, -2.013992646150028, -1.942750442536596, -1.8711820141273412, -1.7996570342896343, -1.7285109177476219, -1.6580449790876366, -1.5885272102494659, -1.5201935219013571, -1.4532493114394185, -1.3878712418018542, -1.3242091378048366, -1.2623879282647428, -1.2025095813780842, -1.1446549969289537, -1.088885831656561, -1.0352462437076426, -0.9837645489236451, -0.9344547862870285, -0.8873181927054405, -0.8423445889315755, -0.7995136792066777, -0.758796267492712, -0.7201553931545515, -0.6835473888258163, -2.3780815160109747, -2.4291399543044436, -2.47653240906698, -2.519769638670535, -2.558376332498333, -2.5919023448382457, -2.619934407089934, -2.642107751740385, -2.6581170065693076, -2.667725707536687, -2.670773842488721, -2.6671829677391505, -2.65695861422177, -2.6401898917778865, -2.6170463850009704, -2.587772595607879, -2.5526803150464095, -2.5121394009819005, -2.4665674786222667, -2.4164190922088538, -2.3621747980377266, -2.3043306272154944, -2.243388265334325, -2.1798462081827945, -2.114192065937555, -2.0468961085670725, -1.9784060755540749, -1.909143215032804, -1.83949947166683, -1.7698357091795016, -1.700480832077665, -1.631731660976862, -1.5638534156823791, -1.49708066794499, -1.4316186393976968, -1.3676447373161231, -1.3053102394283687, -1.2447420573021157, -1.1860445246062694, -1.1293011710253058, -1.0745764544740344, -1.0219174335347294, -0.971355368957457, -0.9229072479929981, -0.8765772286718578, -0.8323580032956601, -0.7902320817115036, -0.7501729956771708, -0.7121464260088919, -0.6761112543886798, -2.3295906417381835, -2.3786213652582875, -2.4240698977395647, -2.4654754085946116, -2.5023918938188197, -2.53439846537679, -2.561109969785075, -2.5821874385386314, -2.5973478190551296, -2.606372433471269, -2.609113669369842, -2.6054995153248566, -2.5955356991332255, -2.579305347200165, -2.5569662405258975, -2.5287458817600483, -2.494934699628779, -2.455877796122465, -2.4119656852834814, -2.3636244803442326, -2.3113059619146865, -2.2554779106544127, -2.1966150219239964, -2.135190645859706, -2.071669521372567, -2.006501602002124, -1.9401170087357704, -1.872922091760787, -1.8052965405796204, -1.7375914502534773, -1.6701282304907643, -1.60319823313547, -1.537062971151125, -1.471954806873823, -1.408077997309601, -1.345609997704329, -1.2847029397670344, -1.2254852163046708, -1.1680631185129213, -1.1125224850353914, -1.0589303327765314, -1.0073364482429699, -0.9577749250092857, -0.9102656379997158, -0.8648156489461329, -0.8214205399337431, -0.7800656736628004, -0.7407273801790206, -0.7033740705501135, -0.6679672784361932, -2.2784725880419106, -2.325441187655964, -2.3689185816446994, -2.4084718937182856, -2.4436836932206023, -2.4741613846344817, -2.4995468075776923, -2.5195256126681995, -2.5338359403220077, -2.5422759338170566, -2.5447096681899106, -2.5410711678871407, -2.531366306680029, -2.5156725176332064, -2.4941363736790123, -2.466969218397684, -2.4344411235195027, -2.3968735193012254, -2.3546308838364207, -2.3081118876769384, -2.257740373651688, -2.2039565135631216, -2.1472084300414886, -2.0879445100288527, -2.0266065722001, -1.9636239888568352, -1.8994088067864894, -1.834351863359935, -1.7688198548878336, -1.7031532843944786, -1.6376651953690773, -1.572640586123665, -1.5083363951322548, -1.444981949843365, -1.3827797784497287, -1.3219066944131614, -1.2625150757140307, -1.2047342735623465, -1.148672097683964, -1.094416336595182, -1.0420362811023531, -0.9915842274506774, -0.9430969431212848, -0.8965970833822816, -0.8520945505480604, -0.8095877907268256, -0.7690650248661319, -0.7305054123436947, -0.6938801463638891, -0.6591534811422124, -2.2250904988017655, -2.2699794084163334, -2.311474222496615, -2.34916933194013, -2.3826749481227845, -2.4116256445613042, -2.4356890159157496, -2.4545740758382406, -2.4680389884574625, -2.475897736036208, -2.4780253696003935, -2.4743615662148906, -2.4649123170654526, -2.4497496827439265, -2.429009664108972, -2.4028883386598707, -2.371636496111556, -2.3355530681238417, -2.2949776836904685, -2.250282693555368, -2.201864996315391, -2.1501379694829965, -2.0955237657553645, -2.038446183461217, -1.9793242656507486, -1.9185667287200765, -1.856567271940011, -1.7937007758995342, -1.7303203619327139, -1.6667552566353367, -1.6033093856070353, -1.5402606081382602, -1.477860498901981, -1.4163345827390543, -1.3558829331099436, -1.2966810524378936, -1.2388809621621009, -1.1826124407744794, -1.1279843585614575, -1.0750860675781473, -1.0239888141419191, -0.9747471486433532, -0.9274003136895768, -0.8819735965876503, -0.8384796360808748, -0.7969196762404605, -0.7572847626654349, -0.7195568778211849, -0.683710013594631, -0.649711180079378, -2.169798317094873, -2.2126049725224766, -2.2521197035244804, -2.2879633020606684, -2.319772544171822, -2.3472079400521073, -2.3699615294739433, -2.3877643938005773, -2.4003935376477314, -2.4076778030017008, -2.4095025174637983, -2.405812643117649, -2.396614276405426, -2.381974443231816, -2.3620192278053054, -2.336930360139448, -2.306940459317912, -2.2723271834157197, -2.2334065702998553, -2.190525866259825, -2.144056133117156, -2.0943849021125094, -2.041909108392309, -1.9870284976095314, -1.930139650152605, -1.8716307224021818, -1.8118769610107854, -1.7512370075265071, -1.690049978027635, -1.628633276458816, -1.5672810812007978, -1.506263431783017, -1.4458258359473861, -1.3861893156338676, -1.3275508128779272, -1.2700838820218951, -1.2139396020201403, -1.1592476510391887, -1.1061174942569616, -1.0546396441703825, -1.0048869604338893, -0.9569159630438491, -0.9107681384653474, -0.86647122307914, -0.8240404521870828, -0.7834797658720891, -0.7447829653963589, -0.7079348156702323, -0.6729120907525163, -0.6396845604523733, -2.1129374998709407, -2.153672535472605, -2.191221846612704, -2.225231626453923, -2.2553640366164482, -2.2813042236514063, -2.3027673261914288, -2.31950518774933, -2.331312478213417, -2.33803193781596, -2.339558491381361, -2.3358420354290415, -2.326888770873152, -2.312761032560347, -2.293575646222851, -2.269500916808293, -2.240752414214167, -2.207587769559547, -2.170300725358324, -2.1292146960202083, -2.0846760921240617, -2.037047645158305, -1.9867019419681735, -1.9340153434209184, -1.8793624231931239, -1.8231110231424794, -1.7656179839454982, -1.707225575436857, -1.6482586216374682, -1.5890222915214283, -1.52980050838786, -1.4708549181291506, -1.41242434927172, -1.3547246947371692, -1.2979491460171282, -1.2422687140014252, -1.1878329761876532, -1.1347709966472312, -1.0831923722631418, -1.0331883658652241, -0.9848330935941247, -0.9381847398860095, -0.8932867787653909, -0.8501691846315345, -0.8088496194590038, -0.7693345863786631, -0.7316205420570552, -0.6956949622490076, -0.6615373564566243, -0.6291202288712932, -2.054834436882127, -2.093519958586201, -2.129129003902034, -2.1613320726016156, -2.189815468096835, -2.214287638191292, -2.2344854658428828, -2.250180263158883, -2.2611832144599946, -2.267350025273535, -2.2685845638504993, -2.2648413281532696, -2.256126630061765, -2.2424984542830306, -2.224065016193098, -2.2009821050866134, -2.173449352580344, -2.1417056070610445, -2.1060236223396855, -2.066704281663103, -2.024070577709872, -1.9784615568843884, -1.9302264145135861, -1.8797188991856362, -1.8272921522296501, -1.7732940747838393, -1.718063282209707, -1.661925675478306, -1.605191632779226, -1.5481538027159158, -1.4910854633676727, -1.4342393991900648, -1.3778472398824104, -1.322119201460537, -1.26724416918911, -1.2133900640390451, -1.1607044382290799, -1.1093152505233284, -1.0593317777109303, -1.0108456246232145, -0.9639318007963789, -0.9186498372253211, -0.8750449214359339, -0.8331490332683273, -0.7929820673110655, -0.7545529308954264, -0.7178606090115378, -0.6828951895180659, -0.6496388436577683, -0.6180667582313464, -1.995798501463439, -2.032466462037581, -2.066169326924408, -2.096600746089854, -2.123469886569091, -2.146507153925062, -2.1654698342743792, -2.1801474434138686, -2.19036656545603, -2.1959949742471716, -2.196944856779749, -2.193174997104671, -2.184691828618782, -2.1715493177232617, -2.153847698017662, -2.1317311269628805, -2.1053843826043637, -2.075028753799063, -2.0409173018640074, -2.0033296841783703, -1.962566731521981, -1.9189449621110524, -1.8727911982625964, -1.8244374285684248, -1.7742160316594926, -1.7224554492360784, -1.6694763679019426, -1.615588442978763, -1.5610875740019217, -1.5062537217307859, -1.4513492406100732, -1.39661768875195, -1.3422830694798495, -1.2885494539059725, -1.235600932400685, -1.1836018435795659, -1.1326972319968887, -1.0830134895327963, -1.034659139999911, -0.9877257313587662, -0.9422888047985198, -0.8984089145775316, -0.8561326767785231, -0.8154938289339682, -0.7765142857926539, -0.7392051793392962, -0.7035678735817272, -0.6695949466349209, -0.6372711343119504, -0.6065742308330264, -1.936120657003174, -1.9708113493702106, -2.0026496179426756, -2.0313510719055996, -2.056646453747034, -2.0782867954830655, -2.0960484749102624, -2.1097379873359072, -2.1191962464232885, -2.1243022382071746, -2.124975874931727, -2.121179928726255, -2.112920966664497, -2.100249255038784, -2.0832576479833, -2.062079520309653, -2.0368858435133967, -2.007881535087251, -1.9753012331368147, -1.9394046603238222, -1.9004717436492577, -1.858797650491467, -1.8146878880769473, -1.7684535949278641, -1.720407130647457, -1.6708580464602993, -1.620109494816298, -1.5684551134198639, -1.5161763982698706, -1.4635405623813393, -1.4107988621955658, -1.3581853623937268, -1.305916101813282, -1.2541886181581874, -1.2031817868075718, -1.153055928807271, -1.1039531445948862, -1.055997832695284, -1.0092973561053804, -0.9639428230014551, -0.9200099524569094, -0.877559999834044, -0.8366407202581989, -0.7972873520040811, -0.7595236046767129, -0.7233626397441755, -0.6888080332908619, -0.655854712839272, -0.6244898617727319, -0.5946937863216029, -1.8760725435871441, -1.9088332202178664, -1.9388546734409982, -1.965873268306841, -1.9896400438093091, -2.0099253549743947, -2.0265234014293014, -2.039256482944711, -2.047978822239833, -2.0525798051369812, -2.0529865078200165, -2.0491654093216507, -2.0411232223668665, -2.028906814628474, -2.0126022323265893, -1.9923328760276793, -1.9682569119561557, -1.9405640291976805, -1.9094716726180976, -1.875220892627671, -1.8380719562282157, -1.7982998597862576, -1.7561898737953128, -1.71203323490794, -1.6661230822336943, -1.6187507147944262, -1.5702022264574431, -1.520755554782102, -1.4706779619223638, -1.420223949672927, -1.3696335973246097, -1.3191313003733425, -1.2689248802801725, -1.2192050302305366, -1.170145058900501, -1.1219008932498908, -1.074611301939245, -1.0283983027230565, -0.9833677197462556, -0.9396098597486717, -0.8972002795020353, -0.8562006201618926, -0.8166594874647957, -0.7786133597396467, -0.7420875084750111, -0.7070969186654279, -0.673647198349101, -0.6417354686603978, -0.6113512273778849, -0.5824771803794284, -1.8159059728685496, -1.8467895934943808, -1.8750470371295531, -1.900434226675017, -1.922721242746979, -1.941696499417644, -1.9571707983239053, -1.9689811232849694, -1.9769940384604807, -1.9811085621647824, -1.9812584055586049, -1.9774134896008007, -1.969580683198787, -1.9578037382927123, -1.9421624312634962, -1.9227709522265415, -1.8997756123993694, -1.87335196319758, -1.843701437948949, -1.811047637619059, -1.7756323857501073, -1.7377116754250472, -1.6975516233381998, -1.6554245340758833, -1.611605162700401, -1.5663672469111805, -1.5199803625700146, -1.4727071392158035, -1.4248008561618828, -1.3765034254601907, -1.3280437558184803, -1.2796364816646668, -1.2314810339941327, -1.1837610243046364, -1.1366439096117247, -1.0902809049705273, -1.0448071097986216, -1.00034181528177, -0.9569889619486689, -0.9148377188494461, -0.8739631584359135, -0.8344270040320507, -0.796278429560469, -0.7595548938540435, -0.7242829943670612, -0.69047932737174, -0.6581513437697271, -0.6272981914661984, -0.5979115368585564, -0.5699763593996907, -1.7558527645756914, -1.7849168702839173, -1.8114670882924269, -1.8352777205517963, -1.856136669647635, -1.8738491925143752, -1.8882415285765666, -1.8991642831498052, -1.9064954485400447, -1.9101429536134553, -1.9100466474796451, -1.906179643537639, -1.8985489751375244, -1.8871955417896789, -1.872193353295795, -1.8536481064901158, -1.8316951537734647, -1.8064969429486706, -1.7782400230973079, -1.7471317209051989, -1.7133965959121389, -1.677272781979014, -1.6390083164842166, -1.5988575492447576, -1.5570777108846143, -1.5139257063503804, -1.4696551844594665, -1.4245139196099212, -1.3787415277884987, -1.3325675263248464, -1.2862097358242548, -1.2398730135785672, -1.1937483005709502, -1.148011958903098, -1.1028253729397115, -1.05833478547824, -1.0146713395685656, -0.9719512969699617, -0.9302764053908266, -0.8897343883778606, -0.8503995338042414, -0.8123333591832187, -0.775585334372275, -0.7401936445359889, -0.7061859784347351, -0.6735803291589928, -0.6423857963122939, -0.6126033803521858, -0.5842267613297383, -0.5572430556338108, -1.6961248643880105, -1.7234305732642485, -1.7483334000677009, -1.770624876827406, -1.7901095518094812, -1.806608362032574, -1.8199618794280594, -1.8300333276022585, -1.8367112682058, -1.8399118634977327, -1.8395806346167416, -1.835693652671123, -1.8282581209511535, -1.8173123299684462, -1.802924991099646, -1.785193977823556, -1.7642445245064506, -1.740226950284346, -1.7133139890191285, -1.6836978151348168, -1.6515868592917904, -1.6172025075662282, -1.5807757735629229, -1.5425440253791667, -1.502747839343861, -1.461628040803343, -1.4194229797145748, -1.3763660761603629, -1.3326836587362512, -1.2885931075572032, -1.2443013037413815, -1.2000033788612812, -1.1558817511004111, -1.1121054297067277, -1.0688295656986941, -1.0261952245055166, -0.9843293551210253, -0.943344930214765, -0.9033412322673122, -0.8644042619840571, -0.8266072468182366, -0.790011229250956, -0.7546657164125525, -0.7206093745922784, -0.6878707541040172, -0.6564690318076325, -0.6264147602997057, -0.5977106143691198, -0.5703521267561062, -0.5443284065605762, -1.6369146895946893, -1.6625258071773295, -1.6858433108103146, -1.706674851352189, -1.724840495484361, -1.740175754434975, -1.7525344879138638, -1.7617915941198057, -1.7678453989738654, -1.770619664588297, -1.770065148212154, -1.7661606579476032, -1.7589135695245817, -1.7483597882412674, -1.7345631605833396, -1.7176143597825835, -1.6976292875295607, -1.6747470492789769, -1.6491275724010137, -1.6209489444458898, -1.590404552896485, -1.5577001081380237, -1.5230506283453988, -1.486677459106338, -1.448805392494834, -1.40965994065699, -1.3694648084370526, -1.328439598767864, -1.2867977740097574, -1.2447448865742685, -1.2024770833336584, -1.1601798807029389, -1.118027200996306, -1.0761806557227036, -1.0347890578436678, -0.9939881425629904, -0.9539004748095941, -0.9146355210490349, -0.8762898632469787, -0.8389475335463152, -0.8026804493594841, -0.7675489299878482, -0.7336022774523066, -0.7008794058659962, -0.6694095053350126, -0.6392127279875908, -0.6103008852746559, -0.5826781471332816, -0.5563417349495483, -0.5312826014939369, -1.578395655594968, -1.6023778922667526, -1.6241736597461727, -1.6436056598389082, -1.6605084030667157, -1.674730927720892, -1.6861393974006758, -1.694619499884502, -1.700078572579886, -1.7024473859643825, -1.7016815261922382, -1.697762330932905, -1.6906973478135368, -1.6805203016541568, -1.6672905740085469, -1.6510922153443106, -1.6320325255813786, -1.6102402518793135, -1.585863462942446, -1.5590671663486433, -1.5300307393824766, -1.4989452446609721, -1.4660106997538507, -1.4314333654336249, -1.3954231106478638, -1.358190904335976, -1.319946475367267, -1.2808961726738617, -1.2412410485487708, -1.2011751794542145, -1.1608842308288576, -1.1205442654955262, -1.0803207894683393, -1.0403680242808506, -1.000828391381118, -0.9618321915945949, -0.9234974610348472, -0.885929984019207, -0.8492234433853556, -0.8134596889712047, -0.7787091057879103, -0.7450310644709315, -0.7124744378404786, -0.6810781687598335, -0.6508718758857102, -0.6218764853101753, -0.5941048774649198, -0.5675625399715643, -0.5422482183612212, -0.5181545577442317, -1.5207228426428516, -1.5431431295119211, -1.5634816455100753, -1.5815751226846628, -1.5972714955947267, -1.610432341706403, -1.6209352047502925, -1.628675734223124, -1.6335695766211045, -1.635553959518327, -1.6345889180889817, -1.6306581247286311, -1.6237692954717349, -1.6139541611967287, -1.6012680063415048, -1.5857887921982572, -1.5676158950513264, -1.546868500817756, -1.5236837069563143, -1.4982143889181074, -1.470626892195947, -1.4410986121419178, -1.4098155223641742, -1.37696970900483, -1.342756962943008, -1.3073744754066599, -1.2710186750691008, -1.2338832368873671, -1.1961572850997502, -1.1580238052714973, -1.1196582733207399, -1.081227503260021, -1.042888710070434, -1.0047887797388453, -0.9670637350334004, -0.9298383830250614, -0.8932261286062313, -0.8573289372160526, -0.82223742954705, -0.7880310910703034, -0.7547785796702327, -0.7225381154284432, -0.6913579375542134, -0.6612768145546484, -0.6323245949122849, -0.6045227867450373, -0.5778851561285043, -0.5524183349375065, -0.5281224301947587, -0.5049916279876081, -1.464033768124449, -1.4849596627868302, -1.5039057727909586, -1.520721889229501, -1.535268406504665, -1.5474185121700388, -1.5570602650213416, -1.5640985035295616, -1.568456529056998, -1.570077513232572, -1.5689255862406375, -1.5649865722728507, -1.5582683495245624, -1.5488008242881703, -1.536635521243399, -1.5218448042958197, -1.504520753641144, -1.4847737345948757, -1.4627307017092719, -1.4385332875305314, -1.4123357289065699, -1.3843026850600522, -1.354607000838959, -1.3234274658942773, -1.2909466163308188, -1.2573486199940738, -1.2228172803690631, -1.1875341874402288, -1.1516770371291467, -1.1154181343751692, -1.078923088787451, -1.0423497062479696, -1.005847075000688, -0.9695548406841235, -0.9336026614685577, -0.8981098319222636, -0.8631850624011428, -0.8289263995612906, -0.795421272949729, -0.7627466524471138, -0.7309693015295444, -0.7001461118031875, -0.6703245049714981, -0.6415428892564696, -0.6138311582589857, -0.5872112212655463, -0.561697555054842, -0.5372977683015732, -0.5140131706967335, -0.49183933988904394, -1.4084492349996944, -1.427948408706429, -1.4455668581698307, -1.4611665129960412, -1.474619318719765, -1.485809201501866, -1.4946339268679998, -1.501006802268777, -1.5048581754880406, -1.5061366853232143, -1.504810227379223, -1.5008666059828992, -1.4943138527418802, -1.4851802026533494, -1.473513729372272, -1.4593816517253289, -1.4428693332886282, -1.4240790053846046, -1.403128250846381, -1.38014829110787, -1.3552821224891336, -1.3286825489586942, -1.3005101582713041, -1.2709312863913038, -1.2401160117699628, -1.2082362166431113, -1.1754637473606, -1.141968700156772, -1.107917853003185, -1.0734732585005906, -1.0387910073719173, -1.004020167170426, -0.9693018964291227, -0.9347687307144537, -0.900544033936582, -0.8667416058024862, -0.8334654344442598, -0.8008095819603678, -0.7688581898088076, -0.7376855906172737, -0.7073565129557642, -0.6779263658827799, -0.6494415905645625, -0.6219400669215929, -0.5954515640301283, -0.5699982238577372, -0.5455950688090221, -0.5222505244733961, -0.4999669498813242, -0.47874116847250026, -1.3540742318112593, -1.372214029892897, -1.3885690713508718, -1.4030125546683414, -1.4154271224285528, -1.4257066237967813, -1.433757777107539, -1.439501688971733, -1.44287518843722, -1.4438319386462084, -1.4423432940174767, -1.438398878012188, -1.4320068646920827, -1.423193956148269, -1.4120050570251803, -1.3985026563357412, -1.3827659351335915, -1.3648896260028347, -1.34498265644848, -1.3231666129155035, -1.2995740652221288, -1.2743467926500822, -1.2476339528636005, -1.219590233373916, -1.1903740226272943, -1.1601456342071106, -1.129065613356954, -1.0972931503060896, -1.0649846199490063, -1.0322922625115571, -0.99936301510794, -0.9663374996981762, -0.9333491690001057, -0.900523608460202, -0.8679779894773494, -0.8358206667081451, -0.8041509104424946, -0.7730587636879556, -0.7426250126932947, -0.7129212591202752, -0.6840100818815218, -0.6559452767441811, -0.6287721621013553, -0.6025279397874064, -0.5772421004166317, -0.5529368634209835, -0.5296276427206343, -0.5073235297559637, -0.4860277864199536, -0.4657383412398495, -1.3009988638653645, -1.3178459317236153, -1.3330009924014221, -1.3463476940335812, -1.357778575394153, -1.3671966468211965, -1.3745168774065306, -1.3796675505943936, -1.3825914523096081, -1.3832468592068816, -1.3816082994953924, -1.3776670648538958, -1.3714314589420693, -1.3629267756039427, -1.3521950076865887, -1.3392942950902456, -1.3242981278721278, -1.3072943266343744, -1.2883838277861726, -1.2676793054027105, -1.2453036642096165, -1.221388439678075, -1.196072141372112, -1.1694985746551743, -1.1418151737949607, -1.1131713765929974, -1.0837170671154959, -1.0536011091244593, -1.022969988604587, -0.9919665795347108, -0.9607290429204887, -0.929389865215287, -0.8980750387058072, -0.8669033832942306, -0.8359860064068669, -0.8054258955143037, -0.7753176359512699, -0.7457472453538785, -0.71679211505181, -0.6885210481222521, -0.6609943834857144, -0.634264195355037, -0.6083745574940578, -0.5833618620603598, -0.5592551832596799, -0.5360766765960907, -0.5138420051327344, -0.49256078485918975, -0.47223704197329264, -0.4528696756098587, -1.2492992988470486, -1.2649192663557578, -1.2789366693919706, -1.2912448359006925, -1.3017454514224451, -1.3103499770510847, -1.316980979780673, -1.3215733423359817, -1.3240753214100174, -1.3244494263096334, -1.322673094245923, -1.3187391437384628, -1.3126559936069757, -1.3044476415297517, -1.2941534028571504, -1.2818274169739057, -1.2675379347148703, -1.251366405895554, -1.2334063907097916, -1.2137623224183596, -1.1925481513138723, -1.1698859013708518, -1.1459041713082723, -1.120736611085642, -1.09452040324822, -1.0673947761821525, -1.0394995734062935, -1.0109738996872102, -0.9819548611871403, -0.9525764131969849, -0.9229683254047159, -0.8932552712174628, -0.8635560444812891, -0.8339829040899214, -0.8046410444818066, -0.7756281879129177, -0.7470342926612248, -0.7189413699543972, -0.6914234013915848, -0.6645463479214266, -0.6383682410076141, -0.6129393464229123, -0.5883023911267957, -0.5644928438662102, -0.5415392404611845, -0.519463545168656, -0.49828154003311176, -0.478003234709234, -0.45863328986014107, -0.4401714478783991, -1.1990387132861402, -1.2134959310117341, -1.226436664027824, -1.2377631982023254, -1.247385665786553, -1.2552233171193325, -1.2612057107123815, -1.2652737930928737, -1.267380841459696, -1.2674932449359355, -1.26559110389245, -1.2616686313393024, -1.2557343455471512, -1.2478110486458935, -1.2379355917064085, -1.2261584324906822, -1.2125429974144522, -1.1971648640880794, -1.1801107849072332, -1.1614775754226105, -1.141370893546354, -1.1199039370217516, -1.0971960870113149, -1.0733715252081233, -1.0485578506419047, -1.0228847204571487, -0.9964825365222709, -0.9694811969302382, -0.9420089284138324, -0.9141912125552454, -0.8861498155380116, -0.8580019281693758, -0.8298594200732854, -0.8018282093774467, -0.7740077469325661, -0.7464906121302604, -0.7193622157345008, -0.6927006038050436, -0.6665763557538962, -0.6410525688162776, -0.6161849207086414, -0.5920218019599772, -0.5686045093093732, -0.5459674916341553, -0.5241386400820307, -0.5031396144021327, -0.48298619788149866, -0.4636886737740318, -0.445252216641038, -0.42767729258899, -1.1502682289848638, -1.1636255502131547, -1.1755490755566145, -1.1859493731541189, -1.1947443690398394, -1.2018604876081027, -1.207233716251904, -1.2108105692560922, -1.2125489275624688, -1.2124187334371364, -1.2104025222907473, -1.2064957778150296, -1.2007071010487986, -1.1930581887885443, -1.1835836217086113, -1.1723304674457902, -1.1593577085317377, -1.1447355092431912, -1.1285443390341512, -1.1108739731019888, -1.0918223927482724, -1.0714946094950943, -1.050001437417652, -1.0274582378998889, -1.0039836600864387, -0.9796983987882364, -0.9547239896124013, -0.9291816587476824, -0.903191242262831, -0.8768701870792954, -0.8503326430627594, -0.8236886530277929, -0.7970434449382946, -0.7704968282679536, -0.7441426943994656, -0.7180686191121308, -0.6923555636461887, -0.6670776695389093, -0.6423021413934011, -0.6180892109518066, -0.594492175280251, -0.5715575015126342, -0.5493249904199837, -0.527827991049602, -0.5070936587902315, -0.48714324944513887, -0.4679924422140118, -0.44965168487864915, -0.43212655493955765, -0.4154181309452256, -1.1030278308020411, -1.115346433923797, -1.1263105354838705, -1.1358383545587178, -1.1438550028225918, -1.150293507254206, -1.1550957625627882, -1.1582133916237602, -1.1596084936124458, -1.1592542616590389, -1.1571354546585748, -1.153248711259254, -1.1476026978910379, -1.140218086830744, -1.1311273645609083, -1.1203744748949476, -1.1080143053430336, -1.0941120288314299, -1.0787423160344956, -1.061988436136646, -1.0439412657462879, -1.0246982269056244, -1.0043621756824594, -0.9830402627252521, -0.9608427864691318, -0.9378820584752496, -0.9142712987591268, -0.8901235770129274, -0.8655508134499594, -0.8406628506918654, -0.8155666057671664, -0.7903653089693987, -0.7651578340986109, -0.7400381225314412, -0.71509470166949, -0.6904102966286683, -0.66606153256684, -0.642118723808258, -0.6186457449075882, -0.5956999779947667, -0.5733323301411932, -0.5515873140718515, -0.5305031852990676, -0.5101121286536914, -0.4904404872195034, -0.4715090268195725, -0.4533332294407031, -0.4359236092984935, -0.41928604562501604, -0.4034221266891407, -1.0573472591111783, -1.068686505460149, -1.0787471674924762, -1.0874545261647806, -1.09474031304772, -1.100543627373524, -1.1048117880723491, -1.1075011018693, -1.1085775297825529, -1.1080172362505933, -1.1058070075712385, -1.1019445292748038, -1.0964385153692955, -1.0893086859601628, -1.0805855934201143, -1.0703103009226669, -1.05853392061707, -1.045317021886221, -1.0307289228846603, -1.014846880818404, -0.9977551981444097, -0.9795442630073676, -0.9603095427932835, -0.940150549686543, -0.9191697966147494, -0.8974717610142888, -0.8751618725231989, -0.8523455390849015, -0.82912722410977, -0.8056095853699077, -0.7818926842703176, -0.7580732721128582, -0.7342441580041377, -0.7104936612004624, -0.6869051489670104, -0.663556659479466, -0.6405206079298396, -0.6178635728213637, -0.5956461584514863, -0.5739229287822021, -0.5527424072748779, -0.5321471368115127, -0.5121737935223882, -0.4928533481774675, -0.47421126876093256, -0.45626775791988217, -0.43903801914486706, -0.42253254578711164, -0.40675742733109566, -0.39171466770804964, -1.0132468718552496, -1.0236641946014817, -1.0328755084957078, -1.0408126074819817, -1.0474133172971405, -1.052622317715172, -1.056391904756001, -1.0586826763441826, -1.05946412605004, -1.0587151312147065, -1.0564243239058502, -1.052590335702798, -1.0472219101775184, -1.040337880015411, -1.0319670088898951, -1.0221477013488882, -1.010927586972818, -0.9983629878170714, -0.9845182805660333, -0.9694651668295933, -0.9532818665562901, -0.9360522505937461, -0.9178649289919745, -0.8988123117350519, -0.8789896582355259, -0.858494131182389, -0.8374238692558893, -0.8158770918767977, -0.7939512476106227, -0.771742216166418, -0.7493435721771515, -0.7268459171818358, -0.7043362844973367, -0.6818976200114757, -0.6596083403807607, -0.6375419686997916, -0.6157668464418522, -0.5943459193602794, -0.5733365940922106, -0.5527906614193849, -0.532754281509819, -0.5132680259828908, -0.49436697129868934, -0.4760808377605765, -0.45843416832555706, -0.4414465414289286, -0.4251328121348765, -0.4095033761110003, -0.3945644511797941, -0.380318371511297, -0.9707384724536752, -0.9802892926267228, -0.9887033880070188, -0.9959185546621723, -1.0018782244267823, -1.0065322020821865, -1.009837347175211, -1.0117581860570415, -1.0122674407581793, -1.0113464627909374, -1.0089855618468624, -1.0051842215744586, -0.9999511971059205, -0.9933044916617788, -0.9852712123020586, -0.975887307612894, -0.9651971927206662, -0.9532532694240814, -0.940115351350203, -0.9258500058130132, -0.9105298254387315, -0.8942326435961789, -0.8770407082268037, -0.8590398288181436, -0.8403185110327571, -0.8209670929298614, -0.8010768958464254, -0.7807394018914686, -0.7600454687075329, -0.7390845907225481, -0.7179442146068866, -0.6967091151127272, -0.675460835949522, -0.6542771988762206, -0.6332318827979422, -0.6123940733648174, -0.5918281823998925, -0.571593635442788, -0.5517447247914395, -0.5323305246583625, -0.5133948644284902, -0.49497635550924834, -0.4771084668937744, -0.4598196443079916, -0.4431334676726433, -0.4270688415731796, -0.4116402134830852, -0.39685781461954805, -0.38272791851307164, -0.369253112633537, -0.9298261009149738, -0.9385637670641762, -0.9462307640261571, -0.9527704150307663, -0.9581313053102494, -0.962267942949828, -0.9651413687505124, -0.9667197025062881, -0.9669786140299423, -0.9659017085657835, -0.963480817869373, -0.9597161901638891, -0.9546165743356649, -0.9481991960340295, -0.9404896257111441, -0.9315215409936748, -0.9213363880385859, -0.9099829486155508, -0.8975168215135401, -0.8839998284369064, -0.8694993557985777, -0.8540876447124504, -0.837841042026179, -0.820839225425996, -0.8031644155066395, -0.7849005872617376, -0.766132692750696, -0.7469459057808687, -0.7274248983541836, -0.7076531574120484, -0.687712349116089, -0.6676817365667731, -0.6476376555244825, -0.6276530513905128, -0.6077970794554413, -0.5881347692508003, -0.5687267527633162, -0.5496290553004575, -0.5308929469395713, -0.5125648517540651, -0.49468631138998087, -0.4772939990641545, -0.46041977966674486, -0.44409081137238315, -0.42832968398868165, -0.4131545891914259, -0.39857951780426704, -0.38461447936791626, -0.3712657394006682, -0.35853606996783904, -0.890506786407482, -0.8984825347993763, -0.9054505144592091, -0.9113591346290855, -0.9161617143893928, -0.9198170750155166, -0.9222900854237281, -0.923552149692116, -0.9235816264807446, -0.9223641713277302, -0.9198929942357705, -0.9161690266439557, -0.9112009937483332, -0.9050053901299888, -0.8976063587031089, -0.8890354750385103, -0.8793314410828668, -0.8685396941169787, -0.8567119384239494, -0.8439056085243535, -0.8301832739484623, -0.8156119963337713, -0.8002626501524102, -0.7842092185905372, -0.7675280760356757, -0.7502972683006186, -0.7325958011549916, -0.714502946982311, -0.696097578469141, -0.677457537202709, -0.6586590439412656, -0.6397761561632767, -0.6208802773294835, -0.6020397211342237, -0.5833193329030637, -0.5647801692331151, -0.5464792359852337, -0.5284692838363507, -0.5107986597931844, -0.4935112123614711, -0.4766462474603934, -0.46023853167085016, -0.4443183390076739, -0.4289115371070802, -0.41403970851753735, -0.3997203026696927, -0.38596681407223055, -0.3727889823286967, -0.36019300968661194, -0.3481817920060746, -0.8527712602708866, -0.8600341928782895, -0.8663491837426365, -0.8716693187427307, -0.8759522622781646, -0.8791607881603853, -0.8812632673821863, -0.8822341031303425, -0.8820541041584125, -0.8807107886559582, -0.8781986120101906, -0.874519113320755, -0.8696809771521827, -0.8637000087393212, -0.8565990226425448, -0.8484076466227932, -0.8391620442159462, -0.8289045610775614, -0.8176833015973577, -0.8055516435088867, -0.7925676992158304, -0.7787937333027342, -0.7642955461878198, -0.749141834109393, -0.7334035356263446, -0.7171531745752693, -0.7004642089856234, -0.683410394838357, -0.6660651727938525, -0.6485010851428736, -0.6307892292821387, -0.6129987530129948, -0.5951963959364206, -0.5774460801936965, -0.5598085528022576, -0.5423410808776161, -0.5250972001304228, -0.5081265161939923, -0.49147455758135394, -0.47518267839825956, -0.4592880083543376, -0.443823447120822, -0.4288176996809556, -0.414295349007302, -0.4002769621767064, -0.3867792258946632, -0.3738151073417584, -0.3613940362695671, -0.3495221043549228, -0.33820227796182145, -0.8166046290407352, -0.8232017068953323, -0.8289076848571693, -0.8336799458713486, -0.8374801401137442, -0.8402746607208342, -0.8420350799112324, -0.8427385370645837, -0.8423680709981616, -0.8409128895827915, -0.8383685709442601, -0.8347371917743931, -0.8300273796883537, -0.8242542880681167, -0.8174394933786078, -0.809610816484353, -0.8008020709827213, -0.7910527429606085, -0.780407607835558, -0.7689162910269709, -0.7566327800933506, -0.7436148966514549, -0.7299237368537002, -0.7156230894426261, -0.7007788404315443, -0.685458373294221, -0.6697299732007937, -0.6536622433362897, -0.6373235407061029, -0.6207814380966827, -0.6041022180453601, -0.587350403806026, -0.5705883314014719, -0.5538757659492821, -0.5372695645563441, -0.5208233872127499, -0.5045874562938681, -0.4886083645106003, -0.47292893044182804, -0.457588100147039, -0.4426208927961848, -0.42805838777213134, -0.4139277503002521, -0.4002522923409233, -0.38705156524255147, -0.37434148049383786, -0.36213445483010687, -0.35043957593534714, -0.3392627850331935, -0.32860707276946344, -0.781987007529565, -0.7879630572931209, -0.7931019573205951, -0.797365035966205, -0.8007175966903057, -0.8031293442837926, -0.8045747747345788, -0.8050335213486808, -0.8044906503432125, -0.802936899925272, -0.8003688578403039, -0.7967890734892338, -0.7922061019437243, -0.7866344784959078, -0.7800946237233404, -0.7726126803906959, -0.7642202848069697, -0.7549542764730448, -0.7448563509563975, -0.7339726618892783, -0.7223533787825895, -0.710052207965064, -0.6971258843885486, -0.6836336422839431, -0.6696366727141769, -0.6551975759606337, -0.6403798164125136, -0.6252471872234073, -0.6098632914754469, -0.5942910459712334, -0.5785922130783716, -0.5628269653028901, -0.5470534864856098, -0.5313276127190136, -0.5157025152874164, -0.5002284271557076, -0.48495241378424403, -0.4699181883406156, -0.45516597072252973, -0.44073238920710645, -0.42665042300706113, -0.4129493835478306, -0.3996549318849383, -0.3867891293598835, -0.374370518345684, -0.3624142297591293, -0.3509321139135515, -0.3399328912496542, -0.3294223195080277, -0.3194033739892792];\n",
       "const lower_is_better = false;\n",
       "const metric = \"hartmann6\";\n",
       "const rel = false;\n",
       "const sd = [0.1716281365677505, 0.1593612628270566, 0.14887385129070257, 0.14021420034285384, 0.13334120263189336, 0.1281294952751873, 0.12439311624954599, 0.12192032817126229, 0.12050659339242786, 0.1199742964833428, 0.12017508389857176, 0.1209785185159578, 0.12225520087067669, 0.12386274769222412, 0.12564036950020258, 0.12741419965884973, 0.12901251171255304, 0.13028820523794796, 0.13114538925783617, 0.1315670128677643, 0.13164049591461208, 0.13157738271336095, 0.1317207439555282, 0.13253115333462814, 0.13454169733637075, 0.13827994352777315, 0.1441723874152462, 0.15246492999225061, 0.1631921050289467, 0.17620235272179732, 0.19121790328379168, 0.20789924877534724, 0.2258949792186545, 0.24487229292172388, 0.2645318418103352, 0.2846125703612187, 0.30489115395289745, 0.325178978397602, 0.3453182855013398, 0.3651782822570505, 0.38465155356466013, 0.403650887460707, 0.4221065157610286, 0.43996373072524186, 0.4571808264926623, 0.47372731545805774, 0.4895823760678502, 0.5047334958704841, 0.5191752804476722, 0.5329084045560645, 0.16473880580249406, 0.15190413007509612, 0.14083846115375495, 0.13161194303747664, 0.12420891795642927, 0.11852984418124538, 0.1144122655003662, 0.11166448659331231, 0.11009842130540252, 0.1095487747657898, 0.10987364071670812, 0.1109409251306861, 0.1126103689579542, 0.1147207419962221, 0.11708779739360961, 0.11951384975537745, 0.12180660949461694, 0.12380373363170445, 0.12539977142041733, 0.12657277114071158, 0.1274078842812389, 0.12811422908112083, 0.12902893281641853, 0.13059974733056057, 0.13333814144077594, 0.1377429358092074, 0.14421109087681724, 0.15296694428837895, 0.1640376211842908, 0.1772784982638388, 0.1924283863434871, 0.20916807187214326, 0.22716573550193805, 0.24610523175141105, 0.26570033948892174, 0.2856998710311605, 0.3058876966955479, 0.3260803388451793, 0.34612364533826967, 0.3658893131905576, 0.385271611904827, 0.40418443576366014, 0.4225587083707166, 0.440340116979725, 0.4574871383210812, 0.4739693156153565, 0.4897657500995084, 0.504863775767681, 0.5192577913993163, 0.532948228641036, 0.1598494286156886, 0.14647366052208885, 0.13481534709981643, 0.12496092473765744, 0.11692059455534401, 0.11062851217460394, 0.10596034283901781, 0.10276299855147016, 0.10088371358493031, 0.10018541931267043, 0.10054338313561584, 0.10182855817730946, 0.10388921269608642, 0.10654135002069509, 0.10957251301482318, 0.11275751777484479, 0.115881655559819, 0.11876694024619414, 0.12129829941010907, 0.12344763680996741, 0.12529368320321002, 0.12703432674229112, 0.12898600507843758, 0.13156307592493025, 0.13523166941925352, 0.14044045620251186, 0.14754407355458876, 0.15674472184502738, 0.16807253226082408, 0.18140645676861045, 0.19651957611477294, 0.2131283013462925, 0.2309320540911676, 0.2496393878755782, 0.26898232467986316, 0.28872252498895534, 0.3086525780491912, 0.3285947215834137, 0.34839840037462333, 0.3679374429714158, 0.3871072500853424, 0.4058221715645795, 0.4240131351545931, 0.44162553481270295, 0.45861736202506587, 0.47495755502474307, 0.4906245397232132, 0.5056049382360049, 0.5198924239765381, 0.5334867054312888, 0.15695198537561092, 0.14308125693876586, 0.13083952817944597, 0.1203208343605239, 0.11155694703842185, 0.10451870721574062, 0.09913139085039252, 0.09529916403838312, 0.09292677481155955, 0.09192641254771589, 0.09220600170176205, 0.09364686886891492, 0.09608521518081826, 0.09930860108249594, 0.10306933126942208, 0.10710904387839312, 0.11118712757673863, 0.11510801450987665, 0.11874523491696837, 0.12206140868473381, 0.12512299333536622, 0.1281071824032384, 0.13129662776591106, 0.13505693953564601, 0.1397941724285773, 0.1458961839265718, 0.15367100337335812, 0.16330079283540982, 0.17482537732398826, 0.18815632999891713, 0.2031106101914338, 0.21944922292931981, 0.2369104698832839, 0.25523363998916543, 0.2741734668248249, 0.29350757120606824, 0.31303929336228575, 0.33259780732481076, 0.35203679267524757, 0.3712324426122904, 0.39008124991599724, 0.4084978037606945, 0.4264127094296916, 0.4437706765927412, 0.46052878732624136, 0.4766549384263751, 0.49212644550256646, 0.5069287941538048, 0.5210545236613288, 0.5345022297311219, 0.15595815669626575, 0.14165243321282822, 0.128859872446025, 0.11767270914117385, 0.10813643350054805, 0.10025531095190378, 0.09400859958024828, 0.08937130692899267, 0.08632725943629199, 0.08486281833460196, 0.08493987439783875, 0.08646173356919341, 0.08925283169481775, 0.09306485923266584, 0.09760532374617584, 0.10257490148974692, 0.10770204072445898, 0.11277028855656902, 0.11763860418964683, 0.12225593933070701, 0.12667017156107382, 0.13102967990664177, 0.135574463611514, 0.14061365238272483, 0.146488560203951, 0.153525380779538, 0.16198739088144795, 0.17203920484858737, 0.1837321702676129, 0.19701183458554059, 0.21174078514898592, 0.22772728275613977, 0.24475194905459588, 0.2625885394998043, 0.2810180403850587, 0.29983707961934525, 0.31886218210971523, 0.33793128784676657, 0.3569036117429078, 0.3756585804419735, 0.39409431146868984, 0.4121259129807147, 0.429683761985603, 0.44671184530468694, 0.4631662043900229, 0.4790135006924576, 0.4942297050283349, 0.5087989075694829, 0.5227122418498729, 0.5359669148920398, 0.15671949172155014, 0.1420460770180322, 0.12875526230854642, 0.11693023961495035, 0.10662171008244367, 0.0978592772571257, 0.09067173077378601, 0.08510827272486757, 0.08124603936866748, 0.07916937732896835, 0.07891990834146764, 0.08044007976079054, 0.08354556446798658, 0.0879443982528815, 0.09328838886461388, 0.09922854773819313, 0.10545691151118344, 0.11173251285345727, 0.11789626912052367, 0.12387918132020971, 0.1297054154212533, 0.1354893879754263, 0.14142474292685467, 0.14776336883394448, 0.15478457202317064, 0.1627578963944279, 0.17190648381848656, 0.18237913235512293, 0.19423694878110864, 0.20745562159792688, 0.22193960063224077, 0.23754218868653493, 0.25408605350491936, 0.2713806976425133, 0.2892355405084433, 0.30746870942133775, 0.3259123203893948, 0.34441518677693966, 0.36284378694510006, 0.3810821288421815, 0.3990309610371967, 0.4166066289876795, 0.4337397666281797, 0.4503739397475612, 0.46646430984100623, 0.4819763570494288, 0.49688468231952626, 0.5111718977921379, 0.5248276078596916, 0.5378474795445045, 0.15905820669522996, 0.1440873100330293, 0.1303668264184183, 0.1179677604690213, 0.10694007864245245, 0.0973296401568418, 0.0892039372691207, 0.08267786576424486, 0.07792195894298794, 0.07513184216624676, 0.07445209196255104, 0.0758853703957325, 0.07924684800490554, 0.08419696348326489, 0.09032369149695511, 0.0972219543900202, 0.1045436017442007, 0.11202058606312774, 0.11947310312890001, 0.1268110403622968, 0.1340317335369098, 0.14121367998252882, 0.14850463551061463, 0.1561028904638226, 0.16423208235791378, 0.17311215536681404, 0.1829310951443698, 0.19382270593423165, 0.20585433227794206, 0.2190255775307146, 0.23327613892399254, 0.24849915215380836, 0.2645562963092396, 0.28129186492284036, 0.2985442949982903, 0.316154716360855, 0.33397274326631005, 0.35186002227474666, 0.3696921035324998, 0.38735913637032005, 0.40476578373974365, 0.4218306450023524, 0.43848538955326893, 0.45467373797642024, 0.4703503804248145, 0.4854798895437009, 0.5000356634992936, 0.5139989203017337, 0.5273577552245724, 0.5401062670468407, 0.1627984202716089, 0.14760202890031246, 0.1335336394141239, 0.12065334747157294, 0.10900885485978859, 0.09865616519991924, 0.08968971067274581, 0.08227376880048383, 0.07665636550882218, 0.0731372743546818, 0.07197137316424804, 0.0732385602283437, 0.07676850187051014, 0.08218131590799894, 0.08900343900368098, 0.09677458413485361, 0.10510672226101564, 0.11370408828018504, 0.12236452157792871, 0.13097474051361463, 0.13950376346916757, 0.14799434735466965, 0.15655104277582896, 0.16532385833953003, 0.17448777178971453, 0.18421987728263292, 0.19467722366636767, 0.20597878151516738, 0.2181941933201717, 0.23134029413218654, 0.24538456488408295, 0.260253418600303, 0.2758428384068444, 0.2920292421024829, 0.3086791636762632, 0.3256570687979444, 0.342831167097697, 0.36007740644644703, 0.377281974816217, 0.3943426589904681, 0.4111693730053746, 0.42768411060436495, 0.4438205161021092, 0.45952321619669556, 0.4747470141144042, 0.4894560164866781, 0.5036227408042169, 0.5172272352327392, 0.5302562313026533, 0.5427023421480677, 0.16778908456080913, 0.15244222450237493, 0.1381191605231668, 0.12487369059408937, 0.11275389413326524, 0.10182446466256721, 0.09219865807572385, 0.08407300063003724, 0.07774676310285217, 0.07359428409283096, 0.07196044515146534, 0.07300240511670493, 0.07658273763415345, 0.08230584747942166, 0.08965717545983742, 0.09813416105223526, 0.10731498238986059, 0.11687758882474712, 0.12659647061310117, 0.1363335849695238, 0.14602883068669975, 0.15569017975456018, 0.16538214690613828, 0.17521161407739724, 0.1853110312348007, 0.19582014143330864, 0.2068682370983057, 0.21855923258935808, 0.2309614065308218, 0.24410268393666723, 0.25797117969221683, 0.2725198231272053, 0.2876734625707082, 0.30333690150877923, 0.3194026740569601, 0.33575782283911143, 0.35228934912296267, 0.368888296132053, 0.38545259675732696, 0.4018888925268403, 0.4181135450117525, 0.43405304205009515, 0.44964396861548106, 0.46483267718734944, 0.47957476070545835, 0.4938344047196365, 0.5075836744065454, 0.5208017761029305, 0.5334743210105883, 0.5455926098814177, 0.17391472883041773, 0.15849711521062027, 0.14402219968266936, 0.13054359026985923, 0.11811466269638927, 0.10681072033637977, 0.09676000121068797, 0.08817763119303329, 0.08138624985529505, 0.07679251780763488, 0.07478678063048871, 0.07558026601424751, 0.07908130348085597, 0.08491599587424235, 0.09256718626617498, 0.10151584530345303, 0.1113189325390812, 0.12163206615834762, 0.1322062363534021, 0.14287740561366793, 0.15355578916574106, 0.16421557055099686, 0.17488402706833214, 0.18562916335225207, 0.1965457145148941, 0.20774021842238774, 0.21931647825601716, 0.2313629638144168, 0.2439434743300723, 0.2570917993687495, 0.27081038240452765, 0.2850723548408498, 0.2998259298022374, 0.31500006205188663, 0.3305104259128992, 0.34626502591043445, 0.36216903447830234, 0.37812868477805756, 0.39405421061829693, 0.4098619223220454, 0.42547555230734513, 0.4408270146495116, 0.4558567137705114, 0.47051351913715295, 0.48475450195854514, 0.4985445098999903, 0.5118556383832495, 0.5246666425982921, 0.53696232279956, 0.5487329064359134, 0.18109494573990317, 0.16569132087702182, 0.15117373698834655, 0.137601338471249, 0.1250375560236888, 0.11357069782177583, 0.10334174134657255, 0.09457380795342801, 0.08758892998296919, 0.0827858000412535, 0.08055097311617831, 0.08111404533271205, 0.08442929717401754, 0.09017797312495633, 0.09788317854763309, 0.10704230005922054, 0.11720947148131085, 0.1280257416063411, 0.1392207723494489, 0.15060470164282905, 0.16205826967033735, 0.1735230811270695, 0.1849916301351355, 0.19649645901369803, 0.2080982876534899, 0.2198735432184965, 0.2319021734956305, 0.24425681584889905, 0.256994284059746, 0.2701499822127045, 0.2837353819683814, 0.29773825171722096, 0.31212501410302435, 0.3268444771633404, 0.3418322150051506, 0.3570150102070554, 0.3723149490583578, 0.3876529335957183, 0.40295151387491024, 0.4181370414012948, 0.43314120344017754, 0.4479020267097458, 0.4623644472824162, 0.4764805395238508, 0.4902094865583869, 0.5035173619893005, 0.5163767797413932, 0.5287664571391409, 0.5406707261916054, 0.5520790196263199, 0.18927629476166752, 0.1739747831943809, 0.15952526825531238, 0.1459963905086899, 0.13346436421343982, 0.12203093030340129, 0.11184638271223929, 0.10313233074464051, 0.09619194202446578, 0.0913874947047384, 0.08906657852365713, 0.08944681538326242, 0.09251815493259168, 0.09803215636735939, 0.10558221963593074, 0.11471167145176604, 0.12499269336878589, 0.1360637124205246, 0.1476390384490436, 0.15950596745725767, 0.17151777243406624, 0.18358560167204116, 0.1956698021465832, 0.2077705134042824, 0.21991750288840806, 0.2321595634345866, 0.24455409855752785, 0.2571576641163673, 0.2700181835058309, 0.28316933642325093, 0.296627310583032, 0.3103897898562257, 0.32443680562234517, 0.3387329405072891, 0.3532303468164369, 0.36787209999649817, 0.3825955133812912, 0.39733516008031544, 0.41202545719613537, 0.42660275424973254, 0.4410069286208353, 0.45518252850314517, 0.46907952336861114, 0.4826537286500096, 0.4958669699748325, 0.5086870463810254, 0.5210875439783074, 0.5330475430477352, 0.5445512534952782, 0.5555876063453329, 0.19842087237368394, 0.183309689399449, 0.16903489620852782, 0.1556762064368817, 0.14332261021466478, 0.13208697763904054, 0.12212363352159487, 0.11364397379150841, 0.10692037617513657, 0.10226446197719534, 0.09996916721785473, 0.10022378963010933, 0.10304064203536208, 0.10823842726319151, 0.11549076734761084, 0.1244046812614233, 0.1345883301691298, 0.14569143312985086, 0.15742239092990407, 0.1695518727835658, 0.18191009446857873, 0.19438137171151534, 0.20689727074951048, 0.21942875549739127, 0.2319775556649733, 0.24456709876729302, 0.25723351012475926, 0.2700172699932224, 0.282956084731295, 0.29607938767186615, 0.3094046750600354, 0.3229356567391886, 0.33666200947428765, 0.3505603943579805, 0.36459634760308957, 0.3787266662752034, 0.39290196668460853, 0.4070691707489175, 0.42117375607998503, 0.4351616767002838, 0.44898091730556017, 0.4625826837479272, 0.4759222576521774, 0.48895955679766184, 0.5016594482961294, 0.5139918614908184, 0.5259317441089598, 0.5374589001179574, 0.5485577420375463, 0.5592169848128219, 0.2084950195559654, 0.19365843558171503, 0.17965561793798565, 0.1665766826775627, 0.15452104576032824, 0.14360842673005994, 0.13399116176663195, 0.12586366047999523, 0.11946186914614962, 0.11504394246643364, 0.11284703376539373, 0.11302766408355831, 0.11560941829648576, 0.12046533600415354, 0.12734353790784914, 0.13591916449223318, 0.1458472310209166, 0.15680100140927497, 0.1684936645879361, 0.1806876705763216, 0.19319666210696176, 0.20588329779818945, 0.21865470166102968, 0.2314563876418917, 0.24426516332082265, 0.25708145660512366, 0.2699215433268728, 0.2828101750741684, 0.2957740687588708, 0.30883661592312706, 0.3220140195298222, 0.33531290025770544, 0.34872926486920236, 0.3622486191639247, 0.375846947561761, 0.389492268310803, 0.4031464970877781, 0.416767398281632, 0.43031045913015187, 0.4437305768419888, 0.4569834964942105, 0.4700269749470021, 0.4828216729000098, 0.4953317946876806, 0.5075255053163283, 0.5193751585456807, 0.530857370274133, 0.5419529695264457, 0.5526468560345557, 0.5629277894973836, 0.21946034410772544, 0.20497487526500333, 0.19132787520581102, 0.17861758177519949, 0.16695013903411884, 0.1564472203117711, 0.14725391919950503, 0.13954370927872187, 0.13351562952829543, 0.12937849862082804, 0.12731998897857252, 0.1274658862129464, 0.12984356386115817, 0.13436582602998362, 0.14084220382526783, 0.14901086703795807, 0.1585768793658273, 0.16924508799591917, 0.18074287485991591, 0.1928332582276644, 0.20532080746733555, 0.21805274739047578, 0.2309169212376892, 0.2438376716963324, 0.25677034964440026, 0.269695008068779, 0.2826097831850049, 0.2955244305132623, 0.30845442903011, 0.32141597808545447, 0.33442209555293584, 0.3474798984415272, 0.36058902848379465, 0.3737410910544939, 0.3869199150664485, 0.40010241536564384, 0.41325984257633663, 0.42635922986416874, 0.4393648824761274, 0.4522397961605414, 0.4649469288254518, 0.4774502825607916, 0.48971577892268087, 0.5017119290776146, 0.5134103128058517, 0.5247858876379794, 0.5358171527944269, 0.5464861932555756, 0.5567786281568416, 0.5666834855110803, 0.23126797805025703, 0.2171995028198782, 0.20397651160197622, 0.19170228022573865, 0.18048567934257212, 0.17044597269961206, 0.16171740919857466, 0.1544513483194249, 0.14881280889614004, 0.14496845413552178, 0.14306512174291922, 0.1432023143802313, 0.14540675564453898, 0.1496185466466802, 0.15569435575857565, 0.16342573785839024, 0.17256528796109782, 0.18285278276420458, 0.19403636542741107, 0.20588719132966002, 0.21820804863875012, 0.23083721625171483, 0.24364881569948604, 0.25655066989640607, 0.26948045094400713, 0.28240074499136647, 0.29529356752463287, 0.30815479313052313, 0.32098889332855574, 0.333804292034536, 0.3466095505543539, 0.3594104908167834, 0.37220826824930126, 0.38499832479637175, 0.3977700949193764, 0.4105073051445297, 0.42318869874933396, 0.4357890265596731, 0.44828016641900487, 0.46063226172099275, 0.47281479857988185, 0.48479756831908843, 0.4965514849950261, 0.5080492458277418, 0.5192658357064828, 0.5301788859059078, 0.540768902555241, 0.5510193830689302, 0.5609168394340099, 0.5704507466011439, 0.2438560405350749, 0.23025815046448103, 0.21751119828667964, 0.20572031829221518, 0.19499355461496518, 0.18544453059115482, 0.17719482678437143, 0.17037456698729345, 0.16511926396957083, 0.16156116750916702, 0.15981466610949535, 0.1599577423237624, 0.16201411971811697, 0.16594182554329232, 0.17163220250464795, 0.17891962610932724, 0.18759860616631915, 0.1974434719434349, 0.20822657396373068, 0.21973269964549352, 0.2317690213816872, 0.2441708815215705, 0.25680412699128113, 0.2695647785644792, 0.28237675637079745, 0.2951882898518233, 0.30796755326822184, 0.32069798951588, 0.3333737080298596, 0.3459952610911569, 0.35856601619115575, 0.37108925423818157, 0.38356604085192864, 0.3959938474462068, 0.40836584512863694, 0.4206707597758441, 0.43289316030956826, 0.4450140513809606, 0.4570116523330283, 0.4688622621414942, 0.4805411311480702, 0.4920232817507491, 0.503284239726141, 0.5143006543539018, 0.5250507985409626, 0.5355149497621271, 0.5456756592119708, 0.5555179206193841, 0.5650292522652348, 0.5741997063854096, 0.2571497121265598, 0.24406326291765829, 0.23182905635410575, 0.2205512845581996, 0.2103344340345833, 0.20128449481403596, 0.1935099927327467, 0.1871218830987394, 0.18223107186811838, 0.17894245121443317, 0.1773451038557239, 0.17749974545603553, 0.17942605755142454, 0.18309343540013254, 0.18841811079881793, 0.1952677040081478, 0.20347198934400287, 0.21283715936457234, 0.2231606263043852, 0.23424410409680788, 0.24590374411878108, 0.2579769782986042, 0.27032628168489087, 0.2828403375120575, 0.29543317418165616, 0.3080418352189379, 0.3206230943071673, 0.33314966295477794, 0.3456062670236673, 0.35798589286426813, 0.3702864260583426, 0.382507828867487, 0.3946499306355631, 0.40671084293480153, 0.41868596158514976, 0.4305674825963691, 0.4423443385499639, 0.4540024543631367, 0.4655252241320663, 0.4768941207683843, 0.48808936442707807, 0.4990905917173325, 0.509877483446614, 0.5204303228790125, 0.5307304684770372, 0.5407607345857941, 0.5505056805744313, 0.55995181383393, 0.5690877151011489, 0.5779040962198807, 0.27106310518240756, 0.2585167240411293, 0.246818333172744, 0.23606899106083107, 0.22636778695988027, 0.21781213673356692, 0.210498076889359, 0.20451994234019574, 0.19996861073364755, 0.19692753460963858, 0.1954662188791627, 0.19563165058245596, 0.19743920577111715, 0.20086526550643213, 0.20584370759765772, 0.21226750503616393, 0.21999525581144064, 0.22886123894639998, 0.2386870044585069, 0.2492926135477876, 0.2605061873175687, 0.27217107015465736, 0.28415045055354055, 0.29632963387888955, 0.30861634672473304, 0.3209395216984002, 0.3332470116948348, 0.3455026460394429, 0.35768298553118183, 0.36977406905264626, 0.38176837654282525, 0.39366216579790936, 0.4054532773993935, 0.41713944632091693, 0.42871711296790105, 0.44018069201839566, 0.4515222347042836, 0.46273140822538844, 0.4737957131211552, 0.4847008634699731, 0.4954312634814203, 0.5059705253142671, 0.5163019850828614, 0.5264091857404853, 0.5362763060245711, 0.5458885234705496, 0.5552323065014084, 0.5642956358396379, 0.5730681591558201, 0.5815412852163507, 0.2855021363254574, 0.27351336568759044, 0.26236230583264236, 0.2521453425876554, 0.24295511042111556, 0.2348802727361748, 0.22800545864141367, 0.22241095106987865, 0.21817154880866244, 0.21535400797657636, 0.21401271619087478, 0.2141837895100823, 0.2158784763381336, 0.21907732093427323, 0.22372667405465152, 0.22973870113716285, 0.2369951780561546, 0.24535444230694847, 0.25466023845702007, 0.26475102041958365, 0.27546848414687414, 0.2866645168984251, 0.29820618318135406, 0.3099787152736815, 0.32188670501164457, 0.3338538159133203, 0.34582137966452775, 0.35774623638273734, 0.3695981445325689, 0.38135703734130105, 0.3930103464939794, 0.40455055631470044, 0.4159730965417986, 0.42727463219110307, 0.4384517670545415, 0.4495001444087071, 0.4604139049162422, 0.47118544706407633, 0.4818054287079116, 0.4922629478678677, 0.5025458451573959, 0.5126410774783055, 0.522535121431617, 0.5322143741174634, 0.5416655277876165, 0.5508759026326632, 0.5598337285498268, 0.5685283719617245, 0.5769505076934254, 0.5850922387026708, 0.3003677595520579, 0.2889445367995735, 0.27834290833270714, 0.26865363235567497, 0.2599624326709524, 0.25234952622343587, 0.24588941839218395, 0.24065068261844255, 0.23669528927915937, 0.23407700496628975, 0.23283852823743723, 0.23300738589307757, 0.23459110770157227, 0.23757264836966965, 0.24190722267019485, 0.24752153568822552, 0.25431586789040517, 0.2621688139872383, 0.2709439215516558, 0.28049719471955104, 0.290684444173762, 0.3013676905646171, 0.3124201407304505, 0.323729553908109, 0.33520004463628955, 0.3467525170400704, 0.35832400193623537, 0.3698661922284764, 0.38134346124477964, 0.39273061694458555, 0.40401060212324424, 0.41517230356553225, 0.42620858614498813, 0.43711462433444703, 0.44788656566727053, 0.4585205296973403, 0.4690119225119482, 0.47935503074327857, 0.4895428496453697, 0.4995670961169669, 0.5094183583158708, 0.519086337445278, 0.5285601432045921, 0.5378286112703843, 0.5468806182122514, 0.5557053758863042, 0.5642926932281791, 0.5726331983045732, 0.5807185174274768, 0.5885414111317467, 0.3155591127513305, 0.3047013525109281, 0.2946438313726937, 0.2854711922107457, 0.2772622107233259, 0.2700892291262123, 0.264017919112879, 0.2591071616199735, 0.25540869951069445, 0.25296616851993836, 0.251813201616858, 0.2519705521350724, 0.2534425421462162, 0.2562134957075802, 0.2602450154623816, 0.2654749028592466, 0.27181820743015606, 0.2791704288282785, 0.28741245009787725, 0.29641648844429996, 0.3060522660952331, 0.3161927010344329, 0.3267186209313869, 0.33752223515248037, 0.3485093039689548, 0.35960009481903754, 0.3707293090726254, 0.38184520776273967, 0.3929081738001522, 0.4038889332851992, 0.4147666293129765, 0.4255269052424042, 0.43616011579736624, 0.44665974707655953, 0.4570210929138577, 0.46724020651404813, 0.4773131236315808, 0.4872353369077211, 0.4970014900049864, 0.5066052542011179, 0.5160393482398189, 0.5252956635050773, 0.5343654600315423, 0.5432396036224493, 0.5519088197014282, 0.5603639449226347, 0.5685961626166679, 0.5765972126155504, 0.584359569757315, 0.5918765883895765, 0.3309763102555225, 0.3206774334658469, 0.31115301036162196, 0.3024814243920013, 0.2947347306732587, 0.28797808313864676, 0.28226951216023344, 0.2776598836963872, 0.2741927605668043, 0.27190383928151945, 0.27081969580837856, 0.2709557548835061, 0.27231366583237354, 0.274878541694682, 0.2786166952994512, 0.28347450746624847, 0.2893788743523711, 0.29623936287991376, 0.30395186123501605, 0.3124032488880576, 0.3214764867470119, 0.331055545508897, 0.34102970972795565, 0.35129696216337214, 0.36176632041487583, 0.3723591362143313, 0.3830094652353298, 0.39366367253058226, 0.4042794626862254, 0.4148245233548453, 0.42527495427345463, 0.4356136279225955, 0.44582859771455574, 0.4559116386599078, 0.4658569763641704, 0.47566023457571605, 0.4853176102676189, 0.4948252687588228, 0.5041789395962594, 0.5133736864385873, 0.5224038203973594, 0.5312629254803237, 0.5399439661927818, 0.5484394502746157, 0.5567416233578772, 0.5648426765116201, 0.5727349518086973, 0.5804111349331389, 0.5878644272793254, 0.5950886928929872, 0.34652275409309996, 0.33677107546512797, 0.32776451361307635, 0.31957528327462437, 0.3122690968288454, 0.30590462708438787, 0.3005333138980158, 0.29619937503805627, 0.2929397916572989, 0.29078399949743494, 0.28975305999693146, 0.2898582199809875, 0.29109896984924294, 0.29346092087713055, 0.29691397032491873, 0.30141125040924704, 0.3068892461678435, 0.31326924996651384, 0.3204600649340337, 0.3283616504665797, 0.33686927222644425, 0.34587769237038124, 0.35528499606885033, 0.3649957631136786, 0.37492342245566196, 0.38499174565127137, 0.39513552739016533, 0.4053005629633064, 0.41544306595902625, 0.4255286801538186, 0.4355312338133282, 0.44543136821799434, 0.4552151498961079, 0.464872751372016, 0.4743972607993118, 0.48378365839902326, 0.4930279782458369, 0.5021266581996559, 0.5110760688125034, 0.5198722036911179, 0.5285105086866334, 0.5369858249044939, 0.5452924203105297, 0.553424086081912, 0.5613742762875169, 0.5691362725262428, 0.5767033584369107, 0.5840689922429454, 0.5912269685172508, 0.5981715630298108, 0.36210693238018865, 0.3528868675193438, 0.3443798906647212, 0.33665228732979896, 0.3297638765754419, 0.323767525456832, 0.3187089839722044, 0.3146269230405245, 0.3115529864770606, 0.3095116374155011, 0.3085196123331798, 0.30858489721283816, 0.3097052920068976, 0.31186679080434426, 0.31504212499971107, 0.31918985286073487, 0.32425431467349414, 0.33016662498523325, 0.3368466858114664, 0.34420602939190964, 0.3521511780603737, 0.36058716135819774, 0.3694208524114771, 0.37856385659503233, 0.38793478001759896, 0.39746080090690433, 0.40707854848291497, 0.41673435417765003, 0.42638397798505717, 0.4359919309080431, 0.44553051716455216, 0.454978711548928, 0.46432097218045626, 0.4735460701142183, 0.4826459974527551, 0.4916149964755777, 0.5004487350909295, 0.5091436393150655, 0.5176963818180667, 0.5261035168672403, 0.534361246060182, 0.5424652957382656, 0.5504108854946586, 0.5581927672972028, 0.565805316004498, 0.5732426540723538, 0.5804987956943157, 0.5875677982272737, 0.5944439113208474, 0.6011217165585998, 0.3776437311192231, 0.36893681665427985, 0.3609090591349632, 0.3536211399487862, 0.3471274555000721, 0.34147568553666563, 0.33670665037726677, 0.33285435772245553, 0.3299460840082173, 0.3280023125768145, 0.32703637669215313, 0.32705373251692244, 0.32805090170883205, 0.3300142461983589, 0.3329188328527309, 0.3367276822836043, 0.34139166008078936, 0.34685016874578695, 0.35303266220968005, 0.3598608683100408, 0.36725150005565715, 0.3751191824943081, 0.38337932081157855, 0.3919506762996076, 0.40075748296672686, 0.40973101156774444, 0.4188105563776341, 0.42794387512178605, 0.4370871510184017, 0.4462045682986024, 0.4552676012653385, 0.4642541151575901, 0.47314736805026003, 0.4819349896044375, 0.4906079970001118, 0.49915989258156823, 0.5075858728600582, 0.5158821653499537, 0.5240454987117308, 0.5320727030093166, 0.5399604305241463, 0.5477049833202153, 0.5553022313459303, 0.5627476039625254, 0.5700361380657344, 0.5771625670916563, 0.5841214368779449, 0.5909072363408469, 0.5975145330299929, 0.6039381056883538, 0.39305531552177475, 0.3848410537284224, 0.37727081076753105, 0.37040003087986334, 0.3642781498547718, 0.358948213102824, 0.354446748414958, 0.3508038097228047, 0.34804306544089153, 0.34618178865310506, 0.3452306270500668, 0.3451930894200402, 0.3460647721237589, 0.3478324424232318, 0.35047317007060835, 0.35395373188096657, 0.3582304949169384, 0.3632499163411644, 0.36894969952259843, 0.3752605415054945, 0.3821083203418381, 0.3894165180654718, 0.3971086613837459, 0.4051105828065443, 0.4133523491630925, 0.4217697597525231, 0.4303053718030014, 0.43890905887025466, 0.44753814429022754, 0.45615717578688536, 0.46473741980021793, 0.47325615708637614, 0.481695857061949, 0.49004329954873255, 0.49828870104130246, 0.5064248899835151, 0.5144465630128308, 0.5223496425570793, 0.5301307460806879, 0.5377867689563717, 0.5453145764679681, 0.5527107957679015, 0.5599716955555527, 0.567093139584683, 0.5740705995929235, 0.5808992136133719, 0.5875738766306109, 0.5940893519612993, 0.6004403933871897, 0.6066218697976452, 0.4082716483455116, 0.40052819625422076, 0.3933930115659647, 0.3869166815079479, 0.38114411857001745, 0.3761142219765466, 0.37185976045756564, 0.3684074063117935, 0.365777818344777, 0.3639856598096012, 0.3630394541260938, 0.36294122624106273, 0.3636859430447022, 0.36526083716968444, 0.3676447564004126, 0.37080770966305493, 0.37471077140179765, 0.3793064605833544, 0.38453963977110184, 0.39034890067898254, 0.39666833280360436, 0.40342952417096645, 0.410563623842486, 0.41800330338068964, 0.4256844826096485, 0.43354772502530214, 0.44153925164087854, 0.4496115622643167, 0.4577236860404997, 0.465841106724235, 0.4739354225346266, 0.4819838066625486, 0.4899683342029782, 0.4978752362486229, 0.505694133781467, 0.5134172942585772, 0.5210389435374473, 0.5285546558627956, 0.5359608356174907, 0.5432542967789922, 0.5504319396929458, 0.5574905199116149, 0.5644265003776195, 0.5712359760245508, 0.5779146587341805, 0.5844579103350162, 0.5908608117473959, 0.5971182572866746, 0.6032250643598553, 0.6091760901898288, 0.4232307131007594, 0.4159354386080748, 0.409212561902025, 0.40310818860955056, 0.397663113120574, 0.3929125169912327, 0.3888858579374156, 0.38560689135996606, 0.383093741949159, 0.38135893502046253, 0.38040931064290584, 0.38024577814877214, 0.3808629182238049, 0.3822484935261452, 0.38438297350041584, 0.38723920304398735, 0.39078234121417454, 0.39497016550107217, 0.39975378640792886, 0.40507875777085084, 0.41088651302116513, 0.4171160166772622, 0.42370549941848884, 0.43059414475606883, 0.4377236121038146, 0.4450393091690752, 0.4524913597315468, 0.46003524561362175, 0.46763213010269505, 0.475248892109163, 0.48285791524591093, 0.49043668416504305, 0.4979672428849956, 0.5054355677660155, 0.512830902558965, 0.520145095759576, 0.5273719723553085, 0.5345067637469445, 0.5415456117448125, 0.5484851554749917, 0.5553222040200714, 0.5620534927691835, 0.5686755177705037, 0.5751844398004325, 0.5815760482721016, 0.5878457743566128, 0.5939887426258695, 0.5999998509881144, 0.6058738695281517, 0.6116055499517099, 0.4378785045379975, 0.43100843126883465, 0.4246751726990373, 0.41892071314427487, 0.41378209979540287, 0.4092911723685035, 0.4054744561230234, 0.40235317052673936, 0.39994328756880215, 0.39825556835103576, 0.39729551733150886, 0.39706322001553235, 0.39755306742764707, 0.3987534114016432, 0.4006462291182668, 0.4032068949141941, 0.4064041570516321, 0.4102003965427288, 0.4145522087429345, 0.41941130415692446, 0.4247256817834952, 0.4304409942124794, 0.4365020035483462, 0.44285402253924294, 0.4494442443876124, 0.45622288389964333, 0.4631440773720777, 0.4701665146394235, 0.4772538006572673, 0.48437456370985765, 0.4915023417728504, 0.4986152876164168, 0.5056957373996386, 0.5127296876319039, 0.5197062224401152, 0.5266169280467755, 0.5334553250950537, 0.5402163426695229, 0.546895851115057, 0.553490264459582, 0.5599962176732026, 0.5664103193055952, 0.5727289763019654, 0.578948284999082, 0.5850639803877624, 0.5910714346008351, 0.5969656951291827, 0.6027415533560193, 0.6083936345048554, 0.613916500900779, 0.4521688408737163, 0.44570100121348977, 0.43973500446354763, 0.434309053315899, 0.4294567850805458, 0.42520702794930615, 0.42158369706669985, 0.4186057915201378, 0.4162874396924293, 0.4146379367926025, 0.4136617269247803, 0.41335830224170744, 0.41372202011917286, 0.41474187008673014, 0.4164012486162391, 0.4186778156290507, 0.42154350784947847, 0.42496477032907864, 0.4289030414133906, 0.4333154934968552, 0.4381559985706907, 0.4433762597433473, 0.4489270317482285, 0.4547593466986928, 0.46082566544797676, 0.46708088759289423, 0.47348317127394385, 0.4799945342209086, 0.48658122719859254, 0.49321388812452593, 0.49986749850262246, 0.5065211730254532, 0.5131578183831569, 0.5197636989786087, 0.5263279460735828, 0.532842043620921, 0.5392993193824611, 0.5456944645149151, 0.5520230991413738, 0.5582813959144733, 0.5644657685092561, 0.5705726275525707, 0.5765982028106128, 0.5825384275581404, 0.5883888789287103, 0.5941447666422953, 0.5998009617440481, 0.6053520567687583, 0.6107924489651434, 0.6161164387683398, 0.4660630436729236, 0.45997475653892506, 0.45435420758678524, 0.4492361346150338, 0.4446510709584784, 0.4406251247445316, 0.43717987787844376, 0.43433237332499947, 0.4320951490252056, 0.43047627433705377, 0.42947935162342504, 0.4291034609991369, 0.4293430477008761, 0.43018777482739096, 0.43162238435445627, 0.433626621858019, 0.43617528234715564, 0.4392384253767038, 0.4427817889457732, 0.4467674072562263, 0.451154411804523, 0.45589997294465073, 0.46096032333401726, 0.4662917972871621, 0.47185182106686857, 0.47759979723163126, 0.48349783919862654, 0.4895113277696537, 0.49560927729157117, 0.5017645136458023, 0.5079536782376117, 0.5141570810123443, 0.5203584311606578, 0.5265444768264028, 0.5327045852446965, 0.5388302928575311, 0.5449148516410077, 0.5509527936561207, 0.5569395311605925, 0.5628710048683542, 0.5687433884069635, 0.5745528529128473, 0.5802953921583981, 0.5859667057001336, 0.5915621352974755, 0.5970766482601568, 0.6025048603902945, 0.6078410907226001, 0.6130794402495637, 0.6182138871585905, 0.4795295231993621, 0.47379861030804465, 0.4685023951165567, 0.46367244383808603, 0.45933646308857284, 0.4555180993620121, 0.45223684129004116, 0.44950799947356007, 0.4473427309972296, 0.4457480740660112, 0.4447269634576695, 0.4442782091812992, 0.4443964369194283, 0.44507200641168715, 0.4462909393076773, 0.4480348978838996, 0.4502812581764204, 0.453003314917896, 0.4561706422836924, 0.4597496163467447, 0.4637040855858881, 0.4679961580786312, 0.47258706077761753, 0.4774380190823815, 0.482511104136679, 0.4877700002196656, 0.4931806538514606, 0.4987117780651929, 0.5043351979912243, 0.5100260360048571, 0.5157627451527896, 0.5215270077678431, 0.5273035218587845, 0.5330797010742016, 0.5388453150433228, 0.544592096069062, 0.5503133359157579, 0.5560034932220891, 0.5616578282714739, 0.5672720778079702, 0.5728421785753637, 0.578364044497339, 0.5838333990640168, 0.5892456616464938, 0.5945958841790515, 0.599878732940811, 0.6050885090134862, 0.6102192003434068, 0.6152645581299931, 0.6202181904250372, 0.49254329983051165, 0.48714825170101883, 0.48215607308896774, 0.4775954291277162, 0.47349145119364205, 0.4698655544822783, 0.4667353441467742, 0.46411458992352034, 0.46201324337826405, 0.46043747073682134, 0.4593896783189015, 0.45886851644867893, 0.45886885990618953, 0.4593817762352923, 0.4603945049093735, 0.46189047806274014, 0.4638494155638919, 0.4662475230957615, 0.46905781229427823, 0.4722505485875308, 0.47579381749960376, 0.47965418626644574, 0.4837974267097143, 0.48818925876803443, 0.4927960723836805, 0.4975855882842049, 0.5025274246859344, 0.5075935458516482, 0.5127585784545449, 0.5179999916594026, 0.5232981458070792, 0.5286362219615556, 0.5340000500274493, 0.5393778565981179, 0.5447599552674329, 0.5501384020735807, 0.555506637351604, 0.5608591328881314, 0.5661910602249383, 0.5714979925478743, 0.5767756490839131, 0.5820196875249561, 0.5872255468677351, 0.5923883403226963, 0.5975027956756108, 0.6025632387189203, 0.6075636141072425, 0.6124975372071829, 0.6173583701592646, 0.6221393153885025, 0.5050854859581209, 0.5000055867617318, 0.49529804840726016, 0.4909888838417759, 0.4871008776353836, 0.483653420018636, 0.4806624175731095, 0.47814026470456544, 0.47609585562655915, 0.4745346157301656, 0.4734585343028648, 0.47286618723053747, 0.4727527474704443, 0.473109991047427, 0.47392631517970785, 0.4751867911124053, 0.47687327607962393, 0.4789646060706399, 0.48143688415296104, 0.4842638691729284, 0.4874174583682576, 0.4908682465758201, 0.49458613588193656, 0.4985409638525369, 0.5027031164117995, 0.5070440929349442, 0.511536995632651, 0.516156921977367, 0.520881246783094, 0.5256897886691779, 0.5305648632338454, 0.535491231763908, 0.5404559593637858, 0.5454481998532914, 0.5504589266776283, 0.555480629532556, 0.5605069956479187, 0.565532592949012, 0.5705525698949672, 0.5755623839346348, 0.5805575674586207, 0.5855335370643889, 0.5904854490561423, 0.5954081015003102, 0.6002958809399231, 0.6051427500900289, 0.6099422715112144, 0.6146876613810621, 0.6193718670225464, 0.6239876617556078, 0.5171427476338837, 0.5123581662542249, 0.5079168300342564, 0.5038423284640645, 0.5001553071723115, 0.4968733171197097, 0.4940107304718971, 0.4915787106954246, 0.4895852210434051, 0.4880350549397932, 0.4869298740853346, 0.48626824510126043, 0.4860456723727797, 0.4862546322212675, 0.48688462021409284, 0.48792222801029456, 0.48935126770311976, 0.49115295977840967, 0.4933061958054079, 0.4957878796147436, 0.4985733421761625, 0.5016368169810355, 0.5049519556673782, 0.5084923587990007, 0.5122320946101261, 0.5161461792027292, 0.5202109948135071, 0.524404627767082, 0.5287071138868452, 0.5331005857192277, 0.5375693222964013, 0.5420997078105634, 0.5466801101554833, 0.5513006936221572, 0.5559531820674499, 0.5606305896691866, 0.5653269360769215, 0.5700369615531018, 0.5747558557869799, 0.5794790116712258, 0.5842018126678679, 0.5889194596449051, 0.5936268404005322, 0.598318442640199, 0.6029883090313936, 0.6076300311977813, 0.612236778162312, 0.6168013538137613, 0.6213162774344945, 0.6257738811515149, 0.5287067609742212, 0.5241986142433519, 0.5200060357953706, 0.5161504017483279, 0.5126504082760861, 0.5095219348774966, 0.5067779659551637, 0.5044285610008765, 0.5024808610632113, 0.5009391186312703, 0.49980473976848894, 0.49907633103590815, 0.4987497488356519, 0.4988181543737864, 0.49927208245354937, 0.5000995358040647, 0.5012861179248398, 0.502815216176849, 0.5046682432188783, 0.5068249394240963, 0.5092637324576056, 0.5119621437169779, 0.5148972257495155, 0.5180460107804286, 0.521385948544882, 0.5248953118260091, 0.528553550285049, 0.5323415769362008, 0.536241976447337, 0.5402391297801937, 0.544319254997217, 0.548470368921355, 0.5526821784181758, 0.5569459131761593, 0.5612541139031161, 0.5656003908413256, 0.5699791675126282, 0.5743854237702225, 0.5788144507221594, 0.5832616280833401, 0.5877222321910074, 0.5921912804564861, 0.5966634155789462, 0.601132830547044, 0.6055932334056906, 0.6100378490421962, 0.6144594538937218, 0.6188504385129986, 0.6232028923439108, 0.6275087048244352, 0.5397736748810286, 0.53552406784723, 0.5315638142495435, 0.5279122697638287, 0.5245863541277208, 0.5216004275514445, 0.5189662183900898, 0.516692794580685, 0.5147865692848579, 0.5132513307030969, 0.5120882872423065, 0.5112961219371124, 0.5108710537827061, 0.5108069077619597, 0.511095199082099, 0.51172523976708, 0.5126842767563252, 0.5139576697956936, 0.5155291147523459, 0.5173809139220501, 0.5194942900273527, 0.5218497356373764, 0.524427385366699, 0.5272073949978472, 0.5301703099853712, 0.5332974057748163, 0.5365709839231839, 0.5399746108785485, 0.5434932900895769, 0.5471135624449882, 0.550823534469538, 0.5546128378593238, 0.5584725275353513, 0.5623949282310888, 0.5663734415971188, 0.5704023268750769, 0.5744764684020545, 0.5785911426455005, 0.5827417962639684, 0.5869238449894079, 0.5911325010903017, 0.5953626349587604, 0.5996086741153748, 0.6038645407723157, 0.6081236271441564, 0.6123788060273989, 0.6166224728360986, 0.6208466143078144, 0.625042898481965, 0.6292027802808775, 0.5503435888383629, 0.546335636047812, 0.5425922887690687, 0.5391310594166946, 0.5359672494987605, 0.5331138383280548, 0.5305814170324821, 0.528378162125507, 0.5265098412503142, 0.5249798432735376, 0.5237892257410852, 0.5229367746722496, 0.5224190744119085, 0.5222305882879212, 0.5223637535730221, 0.5228090962038089, 0.52355537147206, 0.5245897362852413, 0.5258979566368948, 0.5274646508976897, 0.5292735658667554, 0.5313078787320099, 0.533550514699752, 0.5359844675096846, 0.5385931086557444, 0.5413604710223312, 0.5442714937904128, 0.5473122176983709, 0.5504699227880336, 0.5537332043035574, 0.5570919861063716, 0.5605374745170432, 0.5640620586397082, 0.5676591657775941, 0.5713230823901759, 0.5750487521217202, 0.5788315627553717, 0.582667133573416, 0.5865511136280523, 0.59047899996895, 0.5944459830704626, 0.598446824693891, 0.6024757713454204, 0.6065265044731909, 0.6105921266933761, 0.6146651817286266, 0.6187377044403233, 0.62280129637061, 0.6268472215883334, 0.6308665173402582, 0.5604200522916295, 0.5566378833791171, 0.5530970290837233, 0.5498133212912363, 0.5468005881101372, 0.5440705541001669, 0.5416327807294192, 0.5394946427128355, 0.5376613345483635, 0.5361359011492435, 0.534919287012808, 0.5340103997537724, 0.5334061858033071, 0.5331017182686069, 0.5330902989490348, 0.5333635779286173, 0.5339116947183634, 0.5347234444587554, 0.5357864712349879, 0.5370874882898286, 0.5386125221536024, 0.540347174831944, 0.5422768955933192, 0.5443872519227765, 0.5466641881034612, 0.5490942597795537, 0.5516648337446279, 0.5543642439777439, 0.5571818974215335, 0.5601083259158308, 0.5631351838029659, 0.5662551937530403, 0.5694620460983254, 0.5727502592415177, 0.5761150103930627, 0.5795519469332332, 0.5830569890724261, 0.5866261342307696, 0.5902552727459593, 0.5939400232447031, 0.5976755943958885, 0.6014566779292079, 0.6052773758789133, 0.6091311631177483, 0.613010884485632, 0.6169087842757357, 0.6208165645782078, 0.6247254680351639, 0.6286263799417817, 0.6325099443277049, 0.570009590304382, 0.566438342646689, 0.5630865540123533, 0.5599685252320377, 0.5570967437152423, 0.5544817944505934, 0.5521323068967674, 0.5500549345132236, 0.5482543625774214, 0.5467333395281425, 0.5454927273896423, 0.5445315677800969, 0.543847161397252, 0.5434351604340596, 0.5432896748047142, 0.5434033940725922, 0.5437677273494229, 0.5443729630676383, 0.5452084494261843, 0.5462627946048417, 0.5475240837600617, 0.5489801076405431, 0.550618595690125, 0.552427445003801, 0.5543949356687106, 0.5565099229666159, 0.5587619976539505, 0.5611416069993702, 0.5636401313055712, 0.5662499130843486, 0.5689642386811382, 0.5717772747483312, 0.5746839643552992, 0.5776798895404182, 0.5807611086405027, 0.5839239777052271, 0.5871649656919339, 0.5904804729551444, 0.5938666618462478, 0.597319307102817, 0.6008336722353002, 0.6044044164256702, 0.6080255346559271, 0.6116903319977999, 0.6153914313205308, 0.6191208121955784, 0.6228698775581663, 0.6266295437650631, 0.6303903490812873, 0.6341425753297372, 0.5791212587338525, 0.575747059490205, 0.5725718678615951, 0.5696085909201163, 0.5668684970372023, 0.5643611369357907, 0.5620942968990084, 0.5600739817429006, 0.5583044242361005, 0.5567881172493226, 0.5555258650592096, 0.5545168508472735, 0.5537587183820363, 0.5532476669521572, 0.5529785596082054, 0.5529450454618645, 0.553139697024104, 0.5535541632539418, 0.5541793381426001, 0.5550055433679464, 0.5560227219869918, 0.5572206385012858, 0.5585890791549102, 0.5601180452118955, 0.5617979313669725, 0.5636196814645126, 0.5655749143576293, 0.5676560139869906, 0.5698561794931621, 0.572169433252548, 0.5745905869770157, 0.5771151682675449, 0.5797393120999548, 0.5824596235052524, 0.5852730190798516, 0.5881765558490294, 0.5911672563765088, 0.5942419388671274, 0.5973970603852626, 0.6006285802755625, 0.603931849512854, 0.6073015301282946, 0.6107315471684779, 0.6142150739513095, 0.6177445497858047, 0.6213117279058332, 0.6249077501936343, 0.6285232443785677, 0.6321484388080422, 0.6357732895975898, 0.5877662310003396, 0.5845761705211878, 0.5815660319633358, 0.5787474547416548, 0.5761305997686258, 0.5737240798589504, 0.5715349190558435, 0.5695685391542176, 0.5678287709080235, 0.5663178870149701, 0.5650366539825913, 0.5639844003448611, 0.5631590993124297, 0.5625574646561586, 0.5621750592803808, 0.5620064163867546, 0.5620451732445894, 0.5622842173071125, 0.5627158437492202, 0.5633319225191888, 0.5641240718177363, 0.5650838337003498, 0.5662028464124956, 0.5674730072693768, 0.5688866195066081, 0.5704365166328352, 0.572116158433191, 0.5739196938727402, 0.5758419876544996, 0.5778786089833431, 0.5800257830394745, 0.5822803076282405, 0.5846394393070294, 0.5871007548698343, 0.5896619952948324, 0.5923209000589663, 0.5950750400573246, 0.5979216572294713, 0.6008575184166951, 0.6038787900087719, 0.6069809386643513, 0.6101586618995072, 0.6134058507366846, 0.6167155849937697, 0.6200801602657552, 0.6234911442911504, 0.6269394592650782, 0.6304154858026858, 0.6339091836896663, 0.6374102242798689, 0.595957417591406, 0.5929395158993289, 0.590083772006898, 0.5874006734692117, 0.5848993760849133, 0.5825876429726793, 0.5804718097492851, 0.5785567745998578, 0.5768460113496354, 0.5753416032588168, 0.5740442951753811, 0.57295356185802, 0.5720676906445776, 0.5713838770844977, 0.5708983325582384, 0.5706064031618575, 0.5705026991561309, 0.5705812340222034, 0.5708355716334581, 0.571258979297592, 0.5718445835357938, 0.5725855245665523, 0.5734751046784978, 0.5745069251309968, 0.575675006010245, 0.5769738836547302, 0.5783986808681214, 0.5799451461383652, 0.581609659419324, 0.58338920361488, 0.5852813026234259, 0.5872839285314202, 0.5893953821668594, 0.5916141526262508, 0.5939387624791884, 0.5963676060644582, 0.5988987885807646, 0.6015299735337138, 0.6042582455483805, 0.607079994640769, 0.6099908268313614, 0.6129855045662362, 0.6160579188818008, 0.6192010937056159, 0.6224072212201169, 0.6256677259079659, 0.6289733538097267, 0.6323142826985324, 0.6356802483328907, 0.6390606816875508, 0.6037091186946831, 0.6008522865137104, 0.5981411211634085, 0.5955850646427219, 0.5931923615029743, 0.5909700059351319, 0.5889237124847246, 0.5870579095794458, 0.5853757544574757, 0.5838791677043518, 0.5825688854483994, 0.581444527302248, 0.5805046783142847, 0.579746983431939, 0.5791682531932145, 0.5787645794741931, 0.5785314600679532, 0.5784639306236179, 0.5785567020373935, 0.5788043008005532, 0.5792012091422197, 0.5797420011482141, 0.5804214704894103, 0.5812347450473836, 0.5821773836573826, 0.5832454504484927, 0.5844355628653488, 0.585744910388895, 0.5871712421873716, 0.5887128233489785, 0.5903683608810654, 0.5921369022035279, 0.5940177103106336, 0.5960101210267522, 0.5981133887524971, 0.6003265277239085, 0.6026481560484158, 0.6050763496246043, 0.6076085125130836, 0.610241269443781, 0.6129703849840549, 0.6157907125321219, 0.6186961748317852, 0.6216797762204683, 0.6247336454116832, 0.627849106352843, 0.6310167736511134, 0.6342266682654424, 0.6374683486429158, 0.6407310522328576, 0.6110367097573267, 0.6083307053775473, 0.6057550984703355, 0.6033183830260026, 0.6010279784137894, 0.5988901838399576, 0.5969101542501882, 0.595091897159889, 0.593438289366757, 0.5919511121286749, 0.5906311031816861, 0.5894780239076938, 0.588490739999538, 0.5876673140566899, 0.5870051086173864, 0.5865008981360454, 0.586150988306189, 0.5859513408886441, 0.5858977018378895, 0.5859857300583269, 0.5862111236209987, 0.5865697397996711, 0.5870577049190762, 0.5876715098194316, 0.5884080867891648, 0.5892648641406509, 0.5902397952151149, 0.5913313594889198, 0.5925385345745007, 0.5938607392030241, 0.5952977486628941, 0.5968495855587651, 0.5985163900566498, 0.6002982749032068, 0.6021951713737009, 0.6042066728526199, 0.6063318829445618, 0.6085692748364441, 0.6109165680967579, 0.6133706282397007, 0.6159273932596089, 0.6185818300289693, 0.6213279220368835, 0.6241586885132396, 0.627066233622297, 0.6300418231932305, 0.6330759854442954, 0.6361586313927639, 0.6392791901456756, 0.642426754037855, 0.6179563592975749, 0.6153917424012955, 0.612943421521279, 0.6106190321038809, 0.6084252472109919, 0.6063677387321936, 0.6044511581031828, 0.602679136237043, 0.6010543019008943, 0.5995783174097623, 0.5982519302663797, 0.5970750392366846, 0.5960467732875293, 0.5951655817866647, 0.5944293343327027, 0.5938354285054744, 0.5933809036765795, 0.5930625587837397, 0.5928770716578814, 0.5928211171249897, 0.5928914807287731, 0.5930851645893528, 0.5933994816865725, 0.5938321347898979, 0.594381276396064, 0.595045546410255, 0.595824084926142, 0.5967165183119577, 0.5977229178596976, 0.5988437314487752, 0.6000796899451158, 0.6014316913227642, 0.6029006666749197, 0.6044874332945572, 0.6061925407802873, 0.6080161166040677, 0.6099577177264569, 0.6120161946474643, 0.6141895737459722, 0.6164749629208842, 0.6188684844565483, 0.6213652377638773, 0.6239592932782752, 0.6266437174110695, 0.6294106271349299, 0.632251271608535, 0.6351561372699652, 0.6381150720922261, 0.6411174242187302, 0.6441521899830488, 0.6244847779222356, 0.6220528613594412, 0.6197242521716513, 0.6175058092589208, 0.6154035316135823, 0.6134225256948761, 0.6115669905801491, 0.6098402207627592, 0.6082446260385673, 0.606781767574059, 0.6054524089836125, 0.6042565810524212, 0.6031936586056829, 0.6022624479169708, 0.6014612829400763, 0.6007881285129671, 0.6002406885015628, 0.5998165166189328, 0.5995131273804102, 0.5993281043595188, 0.5992592026283442, 0.5993044420422117, 0.5994621879084042, 0.5997312156059337, 0.6001107559333658, 0.6006005183768537, 0.601200690116767, 0.6019119094163335, 0.6027352130289078, 0.6036719583744111, 0.604723722409251, 0.6058921802771788, 0.6071789679068077, 0.6085855336417403, 0.6101129846861169, 0.6117619345688983, 0.6135323579389876, 0.6154234587856744, 0.6174335576426773, 0.6195600025094843, 0.621799107161107, 0.6241461192834359, 0.6265952195434374, 0.6291395513630736, 0.631771279892185, 0.6344816775391714, 0.6372612324757453, 0.6400997758227486, 0.6429866227684364, 0.6459107226705706, 0.6306389972157407, 0.6283317975949009, 0.6261159737107382, 0.6239976830121263, 0.6219823165266553, 0.6200744718329907, 0.6182779422581386, 0.6165957222868164, 0.615030028780478, 0.6135823372676249, 0.6122534322885604, 0.6110434705514826, 0.6099520554700033, 0.6089783214869329, 0.6081210264264112, 0.6073786499395559, 0.6067494959072388, 0.6062317964361493, 0.605823814840065, 0.6055239447571367, 0.6053308023447633, 0.6052433083510362, 0.6052607568225633, 0.6053828673070258, 0.6056098176723691, 0.605942255109816, 0.6063812835176386, 0.6069284262645457, 0.6075855642773738, 0.6083548504449026, 0.6092386024231908, 0.6102391770043137, 0.611358830202303, 0.6125995680506041, 0.613962993734082, 0.6154501570462855, 0.6170614122360432, 0.6187962900723072, 0.6206533894194803, 0.6226302928054404, 0.6247235094285947, 0.6269284478518571, 0.6292394193441317, 0.6316496715319923, 0.634151450791754, 0.636736090713173, 0.6393941230553459, 0.6421154069314411, 0.6448892715216551, 0.6477046674253111, 0.6364361769477609, 0.6342463647993697, 0.632136997753273, 0.6301136005182878, 0.6281810165897216, 0.626343386282862, 0.6246041395927824, 0.6229660039485376, 0.6214310265732472, 0.6200006108393472, 0.6186755657241261, 0.6174561672219134, 0.6163422303482246, 0.6153331901664697, 0.6144281900680184, 0.6136261753316095, 0.6129259897738166, 0.612326473080417, 0.6118265561892664, 0.6114253518963166, 0.6111222377022513, 0.6109169278361827, 0.6108095314147466, 0.6108005938467257, 0.6108911188962582, 0.6110825692836552, 0.6113768443322886, 0.6117762339500233, 0.6122833491380086, 0.6129010302091575, 0.6136322349232748, 0.6144799097477694, 0.6154468483701849, 0.6165355423601515, 0.6177480294477747, 0.6190857452072062, 0.6205493839769868, 0.6221387745992892, 0.6238527760249556, 0.6256891970366243, 0.6276447433334249, 0.6297149940576693, 0.6318944085971576, 0.6341763632409438, 0.6365532160746972, 0.6390163974396689, 0.6415565223997398, 0.6441635210012132, 0.6468267816896222, 0.649535303068981];\n",
       "const xvar = \"x1\";\n",
       "const yvar = \"x2\";\n",
       "const x_is_log = false;\n",
       "const y_is_log = false;\n",
       "\n",
       "const GREEN_SCALE = [[247, 252, 253], [229, 245, 249], [204, 236, 230], [153, 216, 201], [102, 194, 164], [65, 174, 118], [35, 139, 69], [0, 109, 44], [0, 68, 27]];\n",
       "const GREEN_PINK_SCALE = [[142, 1, 82], [197, 27, 125], [222, 119, 174], [241, 182, 218], [253, 224, 239], [247, 247, 247], [230, 245, 208], [184, 225, 134], [127, 188, 65], [77, 146, 33], [39, 100, 25]];\n",
       "const BLUE_SCALE = [[255, 247, 251], [236, 231, 242], [208, 209, 230], [166, 189, 219], [116, 169, 207], [54, 144, 192], [5, 112, 176], [3, 78, 123]];\n",
       "\n",
       "// format data\n",
       "const res = relativize_data(f, sd, rel, arm_data, metric);\n",
       "const f_final = res[0];\n",
       "const sd_final = res[1];\n",
       "\n",
       "// calculate max of abs(outcome), used for colorscale\n",
       "const f_absmax = Math.max(Math.abs(Math.min(...f_final)), Math.max(...f_final));\n",
       "\n",
       "// transform to nested array\n",
       "var f_plt = [];\n",
       "while(f_final.length) f_plt.push(f_final.splice(0, density));\n",
       "var sd_plt = [];\n",
       "while(sd_final.length) sd_plt.push(sd_final.splice(0, density));\n",
       "\n",
       "// create traces\n",
       "const CONTOUR_CONFIG = {\n",
       "  autocolorscale: false,\n",
       "  autocontour: true,\n",
       "  contours: {\n",
       "    coloring: 'heatmap',\n",
       "  },\n",
       "  hoverinfo: 'x+y+z',\n",
       "  ncontours: density / 2,\n",
       "  type: 'contour',\n",
       "  x: grid_x,\n",
       "  y: grid_y,\n",
       "};\n",
       "\n",
       "let f_scale;\n",
       "if (rel === true) {\n",
       "  f_scale = lower_is_better === true\n",
       "    ? GREEN_PINK_SCALE.reverse()\n",
       "    : GREEN_PINK_SCALE;\n",
       "} else {\n",
       "  f_scale = GREEN_SCALE;\n",
       "}\n",
       "\n",
       "const f_trace = {\n",
       "  colorbar: {\n",
       "    x: 0.45,\n",
       "    y: 0.5,\n",
       "    ticksuffix: rel === true ? '%' : '',\n",
       "    tickfont: {\n",
       "      size: 8,\n",
       "    },\n",
       "  },\n",
       "  colorscale: f_scale.map(\n",
       "    (v, i) => [i / (f_scale.length - 1), rgb(v)]\n",
       "  ),\n",
       "  xaxis: 'x',\n",
       "  yaxis: 'y',\n",
       "  z: f_plt,\n",
       "  // zmax and zmin are ignored if zauto is true\n",
       "  zauto: !rel,\n",
       "  zmax: f_absmax,\n",
       "  zmin: -f_absmax,\n",
       "};\n",
       "\n",
       "const sd_trace = {\n",
       "  colorbar: {\n",
       "      x: 1,\n",
       "      y: 0.5,\n",
       "      ticksuffix: rel === true ? '%' : '',\n",
       "      tickfont: {\n",
       "        size: 8,\n",
       "      },\n",
       "  },\n",
       "  colorscale: BLUE_SCALE.map(\n",
       "    (v, i) => [i / (BLUE_SCALE.length - 1), rgb(v)]\n",
       "  ),\n",
       "  xaxis: 'x2',\n",
       "  yaxis: 'y2',\n",
       "  z: sd_plt,\n",
       "};\n",
       "\n",
       "Object.keys(CONTOUR_CONFIG).forEach(key => {\n",
       "  f_trace[key] = CONTOUR_CONFIG[key];\n",
       "  sd_trace[key] = CONTOUR_CONFIG[key];\n",
       "});\n",
       "\n",
       "// get in-sample arms\n",
       "const arm_x = [];\n",
       "const arm_y = [];\n",
       "const arm_text = [];\n",
       "\n",
       "Object.keys(arm_data['in_sample']).forEach(arm_name => {\n",
       "  arm_x.push(arm_data['in_sample'][arm_name]['parameters'][xvar]);\n",
       "  arm_y.push(arm_data['in_sample'][arm_name]['parameters'][yvar]);\n",
       "  arm_text.push(arm_name);\n",
       "});\n",
       "\n",
       "// configs for in-sample arms\n",
       "const base_in_sample_arm_config = {\n",
       "  hoverinfo: 'text',\n",
       "  legendgroup: 'In-sample',\n",
       "  marker: {color: 'black', symbol: 1, opacity: 0.5},\n",
       "  mode: 'markers',\n",
       "  name: 'In-sample',\n",
       "  text: arm_text,\n",
       "  type: 'scatter',\n",
       "  x: arm_x,\n",
       "  y: arm_y,\n",
       "};\n",
       "\n",
       "const f_in_sample_arm_trace = {\n",
       "  xaxis: 'x',\n",
       "  yaxis: 'y',\n",
       "};\n",
       "\n",
       "const sd_in_sample_arm_trace = {\n",
       "  showlegend: false,\n",
       "  xaxis: 'x2',\n",
       "  yaxis: 'y2',\n",
       "};\n",
       "\n",
       "Object.keys(base_in_sample_arm_config).forEach(key => {\n",
       "  f_in_sample_arm_trace[key] = base_in_sample_arm_config[key];\n",
       "  sd_in_sample_arm_trace[key] = base_in_sample_arm_config[key];\n",
       "});\n",
       "\n",
       "const traces = [\n",
       "  f_trace,\n",
       "  sd_trace,\n",
       "  f_in_sample_arm_trace,\n",
       "  sd_in_sample_arm_trace,\n",
       "];\n",
       "\n",
       "// start symbol at 2 for candidate markers\n",
       "let i = 2;\n",
       "\n",
       "// iterate over out-of-sample arms\n",
       "Object.keys(arm_data['out_of_sample']).forEach(generator_run_name => {\n",
       "  const ax = [];\n",
       "  const ay = [];\n",
       "  const atext = [];\n",
       "\n",
       "  Object.keys(arm_data['out_of_sample'][generator_run_name]).forEach(arm_name => {\n",
       "    ax.push(\n",
       "      arm_data['out_of_sample'][generator_run_name][arm_name]['parameters'][xvar]\n",
       "    );\n",
       "    ay.push(\n",
       "      arm_data['out_of_sample'][generator_run_name][arm_name]['parameters'][yvar]\n",
       "    );\n",
       "    atext.push('<em>Candidate ' + arm_name + '</em>');\n",
       "  });\n",
       "\n",
       "  traces.push({\n",
       "    hoverinfo: 'text',\n",
       "    legendgroup: generator_run_name,\n",
       "    marker: {color: 'black', symbol: i, opacity: 0.5},\n",
       "    mode: 'markers',\n",
       "    name: generator_run_name,\n",
       "    text: atext,\n",
       "    type: 'scatter',\n",
       "    xaxis: 'x',\n",
       "    x: ax,\n",
       "    yaxis: 'y',\n",
       "    y: ay,\n",
       "  });\n",
       "  traces.push({\n",
       "    hoverinfo: 'text',\n",
       "    legendgroup: generator_run_name,\n",
       "    marker: {color: 'black', symbol: i, opacity: 0.5},\n",
       "    mode: 'markers',\n",
       "    name: 'In-sample',\n",
       "    showlegend: false,\n",
       "    text: atext,\n",
       "    type: 'scatter',\n",
       "    x: ax,\n",
       "    xaxis: 'x2',\n",
       "    y: ay,\n",
       "    yaxis: 'y2',\n",
       "  });\n",
       "  i += 1;\n",
       "});\n",
       "\n",
       "// layout\n",
       "const xrange = axis_range(grid_x, x_is_log);\n",
       "const yrange = axis_range(grid_y, y_is_log);\n",
       "\n",
       "const xtype = x_is_log ? 'log' : 'linear';\n",
       "const ytype = y_is_log ? 'log' : 'linear';\n",
       "\n",
       "const layout = {\n",
       "  autosize: false,\n",
       "    margin: {\n",
       "      l: 35,\n",
       "      r: 35,\n",
       "      t: 35,\n",
       "      b: 100,\n",
       "      pad: 0,\n",
       "  },\n",
       "  annotations: [\n",
       "    {\n",
       "      font: {size: 14},\n",
       "      showarrow: false,\n",
       "      text: 'Mean',\n",
       "      x: 0.25,\n",
       "      xanchor: 'center',\n",
       "      xref: 'paper',\n",
       "      y: 1,\n",
       "      yanchor: 'bottom',\n",
       "      yref: 'paper',\n",
       "    },\n",
       "    {\n",
       "      font: {size: 14},\n",
       "      showarrow: false,\n",
       "      text: 'Standard Error',\n",
       "      x: 0.8,\n",
       "      xanchor: 'center',\n",
       "      xref: 'paper',\n",
       "      y: 1,\n",
       "      yanchor: 'bottom',\n",
       "      yref: 'paper',\n",
       "    },\n",
       "  ],\n",
       "  hovermode: 'closest',\n",
       "  legend: {orientation: 'h', x: 0, y: -0.25},\n",
       "  height: 450,\n",
       "  width: 950,\n",
       "  xaxis: {\n",
       "    anchor: 'y',\n",
       "    autorange: false,\n",
       "    domain: [0.05, 0.45],\n",
       "    exponentformat: 'e',\n",
       "    range: xrange,\n",
       "    tickfont: {size: 11},\n",
       "    tickmode: 'auto',\n",
       "    title: xvar,\n",
       "    type: xtype,\n",
       "  },\n",
       "  xaxis2: {\n",
       "    anchor: 'y2',\n",
       "    autorange: false,\n",
       "    domain: [0.60, 1],\n",
       "    exponentformat: 'e',\n",
       "    range: xrange,\n",
       "    tickfont: {size: 11},\n",
       "    tickmode: 'auto',\n",
       "    title: xvar,\n",
       "    type: xtype,\n",
       "  },\n",
       "  yaxis: {\n",
       "    anchor: 'x',\n",
       "    autorange: false,\n",
       "    domain: [0, 1],\n",
       "    exponentformat: 'e',\n",
       "    range: yrange,\n",
       "    tickfont: {size: 11},\n",
       "    tickmode: 'auto',\n",
       "    title: yvar,\n",
       "    type: ytype,\n",
       "  },\n",
       "  yaxis2: {\n",
       "    anchor: 'x2',\n",
       "    autorange: false,\n",
       "    domain: [0, 1],\n",
       "    exponentformat: 'e',\n",
       "    range: yrange,\n",
       "    tickfont: {size: 11},\n",
       "    tickmode: 'auto',\n",
       "    type: ytype,\n",
       "  },\n",
       "};\n",
       "\n",
       "Plotly.newPlot(\"5804b7c3bf13446b8338d7f9c0c04bbe\", traces, layout, {showLink: false});\n",
       "});</script>"
      ]
     },
     "metadata": {},
     "output_type": "display_data"
    }
   ],
   "source": [
    "render(\n",
    "    plot_contour(\n",
    "        model=ax.generation_strategy.model, param_x='x1', param_y='x2', metric_name='hartmann6'\n",
    "    )\n",
    ")"
   ]
  },
  {
   "cell_type": "markdown",
   "metadata": {},
   "source": [
    "We can also plot the optimization trace, showing the progression of finding the point with the optimal objective:"
   ]
  },
  {
   "cell_type": "code",
   "execution_count": 10,
   "metadata": {},
   "outputs": [
    {
     "data": {
      "text/html": [
       "<div id=\"77dc2f8e3c74468b8f178b2628fab52f\" style=\"width: 100%;\" class=\"plotly-graph-div\"></div><script type='text/javascript'>/*\n",
       " * Copyright (c) Facebook, Inc. and its affiliates. All Rights Reserved.\n",
       " */\n",
       "\n",
       "require(['plotly'], function(Plotly) {\n",
       "  window.PLOTLYENV = window.PLOTLYENV || {};\n",
       "  window.PLOTLYENV.BASE_URL = 'https://plot.ly';\n",
       "  /*\n",
       " * Copyright (c) Facebook, Inc. and its affiliates. All Rights Reserved.\n",
       " */\n",
       "\n",
       "Plotly.newPlot(\n",
       "  \"77dc2f8e3c74468b8f178b2628fab52f\",\n",
       "  [{\"hoverinfo\": \"none\", \"legendgroup\": \"\", \"line\": {\"width\": 0}, \"mode\": \"lines\", \"showlegend\": false, \"x\": [1, 2, 3, 4, 5, 6, 7, 8, 9, 10, 11, 12, 13, 14, 15, 16, 17, 18, 19, 20, 21, 22, 23, 24, 25, 26, 27, 28, 29, 30], \"y\": [-1.947283077894468, -1.947283077894468, -1.947283077894468, -1.947283077894468, -1.947283077894468, -1.947283077894468, -1.947283077894468, -2.265554295872256, -2.3277970983692065, -2.3277970983692065, -2.6442578378453216, -2.938359704699817, -3.0910901678081526, -3.0910901678081526, -3.0910901678081526, -3.0910901678081526, -3.2244312396647743, -3.2244312396647743, -3.2244312396647743, -3.291156897664622, -3.291156897664622, -3.3184537163411894, -3.3184537163411894, -3.3184537163411894, -3.3184537163411894, -3.3184537163411894, -3.3184537163411894, -3.3184537163411894, -3.3184537163411894, -3.3184537163411894], \"type\": \"scatter\"}, {\"fill\": \"tonexty\", \"fillcolor\": \"rgba(128,177,211,0.3)\", \"legendgroup\": \"mean\", \"line\": {\"color\": \"rgba(128,177,211,1)\"}, \"mode\": \"lines\", \"name\": \"mean\", \"x\": [1, 2, 3, 4, 5, 6, 7, 8, 9, 10, 11, 12, 13, 14, 15, 16, 17, 18, 19, 20, 21, 22, 23, 24, 25, 26, 27, 28, 29, 30], \"y\": [-1.947283077894468, -1.947283077894468, -1.947283077894468, -1.947283077894468, -1.947283077894468, -1.947283077894468, -1.947283077894468, -2.265554295872256, -2.3277970983692065, -2.3277970983692065, -2.6442578378453216, -2.938359704699817, -3.0910901678081526, -3.0910901678081526, -3.0910901678081526, -3.0910901678081526, -3.2244312396647743, -3.2244312396647743, -3.2244312396647743, -3.291156897664622, -3.291156897664622, -3.3184537163411894, -3.3184537163411894, -3.3184537163411894, -3.3184537163411894, -3.3184537163411894, -3.3184537163411894, -3.3184537163411894, -3.3184537163411894, -3.3184537163411894], \"type\": \"scatter\"}, {\"fill\": \"tonexty\", \"fillcolor\": \"rgba(128,177,211,0.3)\", \"hoverinfo\": \"none\", \"legendgroup\": \"\", \"line\": {\"width\": 0}, \"mode\": \"lines\", \"showlegend\": false, \"x\": [1, 2, 3, 4, 5, 6, 7, 8, 9, 10, 11, 12, 13, 14, 15, 16, 17, 18, 19, 20, 21, 22, 23, 24, 25, 26, 27, 28, 29, 30], \"y\": [-1.947283077894468, -1.947283077894468, -1.947283077894468, -1.947283077894468, -1.947283077894468, -1.947283077894468, -1.947283077894468, -2.265554295872256, -2.3277970983692065, -2.3277970983692065, -2.6442578378453216, -2.938359704699817, -3.0910901678081526, -3.0910901678081526, -3.0910901678081526, -3.0910901678081526, -3.2244312396647743, -3.2244312396647743, -3.2244312396647743, -3.291156897664622, -3.291156897664622, -3.3184537163411894, -3.3184537163411894, -3.3184537163411894, -3.3184537163411894, -3.3184537163411894, -3.3184537163411894, -3.3184537163411894, -3.3184537163411894, -3.3184537163411894], \"type\": \"scatter\"}, {\"line\": {\"color\": \"rgba(253,180,98,1)\", \"dash\": \"dash\"}, \"mode\": \"lines\", \"name\": \"Optimum\", \"x\": [1, 30], \"y\": [-3.32237, -3.32237], \"type\": \"scatter\"}],\n",
       "  {\"showlegend\": true, \"title\": {\"text\": \"Model performance vs. # of iterations\"}, \"xaxis\": {\"title\": {\"text\": \"Iteration\"}}, \"yaxis\": {\"title\": {\"text\": \"Hartmann6\"}}, \"template\": {\"data\": {\"barpolar\": [{\"marker\": {\"line\": {\"color\": \"#E5ECF6\", \"width\": 0.5}}, \"type\": \"barpolar\"}], \"bar\": [{\"error_x\": {\"color\": \"#2a3f5f\"}, \"error_y\": {\"color\": \"#2a3f5f\"}, \"marker\": {\"line\": {\"color\": \"#E5ECF6\", \"width\": 0.5}}, \"type\": \"bar\"}], \"carpet\": [{\"aaxis\": {\"endlinecolor\": \"#2a3f5f\", \"gridcolor\": \"white\", \"linecolor\": \"white\", \"minorgridcolor\": \"white\", \"startlinecolor\": \"#2a3f5f\"}, \"baxis\": {\"endlinecolor\": \"#2a3f5f\", \"gridcolor\": \"white\", \"linecolor\": \"white\", \"minorgridcolor\": \"white\", \"startlinecolor\": \"#2a3f5f\"}, \"type\": \"carpet\"}], \"choropleth\": [{\"colorbar\": {\"outlinewidth\": 0, \"ticks\": \"\"}, \"type\": \"choropleth\"}], \"contourcarpet\": [{\"colorbar\": {\"outlinewidth\": 0, \"ticks\": \"\"}, \"type\": \"contourcarpet\"}], \"contour\": [{\"colorbar\": {\"outlinewidth\": 0, \"ticks\": \"\"}, \"colorscale\": [[0.0, \"#0d0887\"], [0.1111111111111111, \"#46039f\"], [0.2222222222222222, \"#7201a8\"], [0.3333333333333333, \"#9c179e\"], [0.4444444444444444, \"#bd3786\"], [0.5555555555555556, \"#d8576b\"], [0.6666666666666666, \"#ed7953\"], [0.7777777777777778, \"#fb9f3a\"], [0.8888888888888888, \"#fdca26\"], [1.0, \"#f0f921\"]], \"type\": \"contour\"}], \"heatmapgl\": [{\"colorbar\": {\"outlinewidth\": 0, \"ticks\": \"\"}, \"colorscale\": [[0.0, \"#0d0887\"], [0.1111111111111111, \"#46039f\"], [0.2222222222222222, \"#7201a8\"], [0.3333333333333333, \"#9c179e\"], [0.4444444444444444, \"#bd3786\"], [0.5555555555555556, \"#d8576b\"], [0.6666666666666666, \"#ed7953\"], [0.7777777777777778, \"#fb9f3a\"], [0.8888888888888888, \"#fdca26\"], [1.0, \"#f0f921\"]], \"type\": \"heatmapgl\"}], \"heatmap\": [{\"colorbar\": {\"outlinewidth\": 0, \"ticks\": \"\"}, \"colorscale\": [[0.0, \"#0d0887\"], [0.1111111111111111, \"#46039f\"], [0.2222222222222222, \"#7201a8\"], [0.3333333333333333, \"#9c179e\"], [0.4444444444444444, \"#bd3786\"], [0.5555555555555556, \"#d8576b\"], [0.6666666666666666, \"#ed7953\"], [0.7777777777777778, \"#fb9f3a\"], [0.8888888888888888, \"#fdca26\"], [1.0, \"#f0f921\"]], \"type\": \"heatmap\"}], \"histogram2dcontour\": [{\"colorbar\": {\"outlinewidth\": 0, \"ticks\": \"\"}, \"colorscale\": [[0.0, \"#0d0887\"], [0.1111111111111111, \"#46039f\"], [0.2222222222222222, \"#7201a8\"], [0.3333333333333333, \"#9c179e\"], [0.4444444444444444, \"#bd3786\"], [0.5555555555555556, \"#d8576b\"], [0.6666666666666666, \"#ed7953\"], [0.7777777777777778, \"#fb9f3a\"], [0.8888888888888888, \"#fdca26\"], [1.0, \"#f0f921\"]], \"type\": \"histogram2dcontour\"}], \"histogram2d\": [{\"colorbar\": {\"outlinewidth\": 0, \"ticks\": \"\"}, \"colorscale\": [[0.0, \"#0d0887\"], [0.1111111111111111, \"#46039f\"], [0.2222222222222222, \"#7201a8\"], [0.3333333333333333, \"#9c179e\"], [0.4444444444444444, \"#bd3786\"], [0.5555555555555556, \"#d8576b\"], [0.6666666666666666, \"#ed7953\"], [0.7777777777777778, \"#fb9f3a\"], [0.8888888888888888, \"#fdca26\"], [1.0, \"#f0f921\"]], \"type\": \"histogram2d\"}], \"histogram\": [{\"marker\": {\"colorbar\": {\"outlinewidth\": 0, \"ticks\": \"\"}}, \"type\": \"histogram\"}], \"mesh3d\": [{\"colorbar\": {\"outlinewidth\": 0, \"ticks\": \"\"}, \"type\": \"mesh3d\"}], \"parcoords\": [{\"line\": {\"colorbar\": {\"outlinewidth\": 0, \"ticks\": \"\"}}, \"type\": \"parcoords\"}], \"scatter3d\": [{\"line\": {\"colorbar\": {\"outlinewidth\": 0, \"ticks\": \"\"}}, \"marker\": {\"colorbar\": {\"outlinewidth\": 0, \"ticks\": \"\"}}, \"type\": \"scatter3d\"}], \"scattercarpet\": [{\"marker\": {\"colorbar\": {\"outlinewidth\": 0, \"ticks\": \"\"}}, \"type\": \"scattercarpet\"}], \"scattergeo\": [{\"marker\": {\"colorbar\": {\"outlinewidth\": 0, \"ticks\": \"\"}}, \"type\": \"scattergeo\"}], \"scattergl\": [{\"marker\": {\"colorbar\": {\"outlinewidth\": 0, \"ticks\": \"\"}}, \"type\": \"scattergl\"}], \"scattermapbox\": [{\"marker\": {\"colorbar\": {\"outlinewidth\": 0, \"ticks\": \"\"}}, \"type\": \"scattermapbox\"}], \"scatterpolargl\": [{\"marker\": {\"colorbar\": {\"outlinewidth\": 0, \"ticks\": \"\"}}, \"type\": \"scatterpolargl\"}], \"scatterpolar\": [{\"marker\": {\"colorbar\": {\"outlinewidth\": 0, \"ticks\": \"\"}}, \"type\": \"scatterpolar\"}], \"scatter\": [{\"marker\": {\"colorbar\": {\"outlinewidth\": 0, \"ticks\": \"\"}}, \"type\": \"scatter\"}], \"scatterternary\": [{\"marker\": {\"colorbar\": {\"outlinewidth\": 0, \"ticks\": \"\"}}, \"type\": \"scatterternary\"}], \"surface\": [{\"colorbar\": {\"outlinewidth\": 0, \"ticks\": \"\"}, \"colorscale\": [[0.0, \"#0d0887\"], [0.1111111111111111, \"#46039f\"], [0.2222222222222222, \"#7201a8\"], [0.3333333333333333, \"#9c179e\"], [0.4444444444444444, \"#bd3786\"], [0.5555555555555556, \"#d8576b\"], [0.6666666666666666, \"#ed7953\"], [0.7777777777777778, \"#fb9f3a\"], [0.8888888888888888, \"#fdca26\"], [1.0, \"#f0f921\"]], \"type\": \"surface\"}], \"table\": [{\"cells\": {\"fill\": {\"color\": \"#EBF0F8\"}, \"line\": {\"color\": \"white\"}}, \"header\": {\"fill\": {\"color\": \"#C8D4E3\"}, \"line\": {\"color\": \"white\"}}, \"type\": \"table\"}]}, \"layout\": {\"annotationdefaults\": {\"arrowcolor\": \"#2a3f5f\", \"arrowhead\": 0, \"arrowwidth\": 1}, \"colorscale\": {\"diverging\": [[0, \"#8e0152\"], [0.1, \"#c51b7d\"], [0.2, \"#de77ae\"], [0.3, \"#f1b6da\"], [0.4, \"#fde0ef\"], [0.5, \"#f7f7f7\"], [0.6, \"#e6f5d0\"], [0.7, \"#b8e186\"], [0.8, \"#7fbc41\"], [0.9, \"#4d9221\"], [1, \"#276419\"]], \"sequential\": [[0.0, \"#0d0887\"], [0.1111111111111111, \"#46039f\"], [0.2222222222222222, \"#7201a8\"], [0.3333333333333333, \"#9c179e\"], [0.4444444444444444, \"#bd3786\"], [0.5555555555555556, \"#d8576b\"], [0.6666666666666666, \"#ed7953\"], [0.7777777777777778, \"#fb9f3a\"], [0.8888888888888888, \"#fdca26\"], [1.0, \"#f0f921\"]], \"sequentialminus\": [[0.0, \"#0d0887\"], [0.1111111111111111, \"#46039f\"], [0.2222222222222222, \"#7201a8\"], [0.3333333333333333, \"#9c179e\"], [0.4444444444444444, \"#bd3786\"], [0.5555555555555556, \"#d8576b\"], [0.6666666666666666, \"#ed7953\"], [0.7777777777777778, \"#fb9f3a\"], [0.8888888888888888, \"#fdca26\"], [1.0, \"#f0f921\"]]}, \"colorway\": [\"#636efa\", \"#EF553B\", \"#00cc96\", \"#ab63fa\", \"#FFA15A\", \"#19d3f3\", \"#FF6692\", \"#B6E880\", \"#FF97FF\", \"#FECB52\"], \"font\": {\"color\": \"#2a3f5f\"}, \"geo\": {\"bgcolor\": \"white\", \"lakecolor\": \"white\", \"landcolor\": \"#E5ECF6\", \"showlakes\": true, \"showland\": true, \"subunitcolor\": \"white\"}, \"hoverlabel\": {\"align\": \"left\"}, \"hovermode\": \"closest\", \"mapbox\": {\"style\": \"light\"}, \"paper_bgcolor\": \"white\", \"plot_bgcolor\": \"#E5ECF6\", \"polar\": {\"angularaxis\": {\"gridcolor\": \"white\", \"linecolor\": \"white\", \"ticks\": \"\"}, \"bgcolor\": \"#E5ECF6\", \"radialaxis\": {\"gridcolor\": \"white\", \"linecolor\": \"white\", \"ticks\": \"\"}}, \"scene\": {\"xaxis\": {\"backgroundcolor\": \"#E5ECF6\", \"gridcolor\": \"white\", \"gridwidth\": 2, \"linecolor\": \"white\", \"showbackground\": true, \"ticks\": \"\", \"zerolinecolor\": \"white\"}, \"yaxis\": {\"backgroundcolor\": \"#E5ECF6\", \"gridcolor\": \"white\", \"gridwidth\": 2, \"linecolor\": \"white\", \"showbackground\": true, \"ticks\": \"\", \"zerolinecolor\": \"white\"}, \"zaxis\": {\"backgroundcolor\": \"#E5ECF6\", \"gridcolor\": \"white\", \"gridwidth\": 2, \"linecolor\": \"white\", \"showbackground\": true, \"ticks\": \"\", \"zerolinecolor\": \"white\"}}, \"shapedefaults\": {\"line\": {\"color\": \"#2a3f5f\"}}, \"ternary\": {\"aaxis\": {\"gridcolor\": \"white\", \"linecolor\": \"white\", \"ticks\": \"\"}, \"baxis\": {\"gridcolor\": \"white\", \"linecolor\": \"white\", \"ticks\": \"\"}, \"bgcolor\": \"#E5ECF6\", \"caxis\": {\"gridcolor\": \"white\", \"linecolor\": \"white\", \"ticks\": \"\"}}, \"title\": {\"x\": 0.05}, \"xaxis\": {\"automargin\": true, \"gridcolor\": \"white\", \"linecolor\": \"white\", \"ticks\": \"\", \"zerolinecolor\": \"white\", \"zerolinewidth\": 2}, \"yaxis\": {\"automargin\": true, \"gridcolor\": \"white\", \"linecolor\": \"white\", \"ticks\": \"\", \"zerolinecolor\": \"white\", \"zerolinewidth\": 2}}}},\n",
       "  {\"showLink\": false}\n",
       ");\n",
       "});</script>"
      ]
     },
     "metadata": {},
     "output_type": "display_data"
    }
   ],
   "source": [
    "# `plot_single_method` expects a 2-d array of means, because it expects to average means from multiple \n",
    "# optimization runs, so we wrap out best objectives array in another array.\n",
    "best_objectives = np.array([[trial.objective_mean for trial in ax.experiment.trials.values()]])\n",
    "best_objective_plot = optimization_trace_single_method(\n",
    "    y=np.minimum.accumulate(best_objectives, axis=1),\n",
    "    optimum=hartmann6.fmin,\n",
    "    title=\"Model performance vs. # of iterations\",\n",
    "    ylabel=\"Hartmann6\",\n",
    ")\n",
    "render(best_objective_plot)"
   ]
  },
  {
   "cell_type": "markdown",
   "metadata": {},
   "source": [
    "# Special Cases"
   ]
  },
  {
   "cell_type": "markdown",
   "metadata": {},
   "source": [
    "**Evaluation failure**: should any optimization iterations fail during evaluation, `log_trial_failure` will ensure that the same trial is not proposed again."
   ]
  },
  {
   "cell_type": "code",
   "execution_count": 11,
   "metadata": {},
   "outputs": [
    {
     "name": "stderr",
     "output_type": "stream",
     "text": [
      "/home/travis/virtualenv/python3.6.7/lib/python3.6/site-packages/botorch/optim/optimize.py:275: BadInitialCandidatesWarning:\n",
      "\n",
      "Unable to find non-zero acquisition function values - initial conditions are being selected randomly.\n",
      "\n"
     ]
    }
   ],
   "source": [
    "_, trial_index = ax.get_next_trial()\n",
    "ax.log_trial_failure(trial_index=trial_index)"
   ]
  },
  {
   "cell_type": "markdown",
   "metadata": {},
   "source": [
    "**Adding custom trials**: should there be need to evaluate a specific parameterization, `attach_trial` will add it to the experiment."
   ]
  },
  {
   "cell_type": "code",
   "execution_count": 12,
   "metadata": {},
   "outputs": [
    {
     "data": {
      "text/plain": [
       "({'x1': 9.0, 'x2': 9.0, 'x3': 9.0, 'x4': 9.0, 'x5': 9.0, 'x6': 9.0}, 31)"
      ]
     },
     "execution_count": 12,
     "metadata": {},
     "output_type": "execute_result"
    }
   ],
   "source": [
    "ax.attach_trial(parameters={\"x1\": 9.0, \"x2\": 9.0, \"x3\": 9.0, \"x4\": 9.0, \"x5\": 9.0, \"x6\": 9.0})"
   ]
  },
  {
   "cell_type": "markdown",
   "metadata": {},
   "source": [
    "**Need to run many trials in parallel**: for optimal results and optimization efficiency, we strongly recommend sequential optimization (generating a few trials, then waiting for them to be completed with evaluation data). However, if your use case needs to dispatch many trials in parallel before they are updated with data and you are running into the *\"All trials for current model have been generated, but not enough data has been observed to fit next model\"* error, instantiate `AxClient` as `AxClient(enforce_sequential_optimization=False)`."
   ]
  }
 ],
 "metadata": {
  "kernelspec": {
   "display_name": "python3",
   "language": "python",
   "name": "python3"
  },
  "language_info": {
   "codemirror_mode": {
    "name": "ipython",
    "version": 3
   },
   "file_extension": ".py",
   "mimetype": "text/x-python",
   "name": "python",
   "nbconvert_exporter": "python",
   "pygments_lexer": "ipython3",
   "version": "3.6.7"
  }
 },
 "nbformat": 4,
 "nbformat_minor": 2
}
