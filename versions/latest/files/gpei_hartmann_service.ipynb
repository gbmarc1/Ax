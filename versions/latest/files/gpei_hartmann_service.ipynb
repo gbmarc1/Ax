{
 "cells": [
  {
   "cell_type": "markdown",
   "metadata": {},
   "source": [
    "#  Service API Example on Hartmann6\n",
    "\n",
    "The Ax Service API is designed to allow the user to control scheduling of trials and data computation while having an easy to use interface with Ax.\n",
    "\n",
    "The user iteratively:\n",
    "- Queries Ax for candidates\n",
    "- Schedules / deploys them however they choose\n",
    "- Computes data and logs to Ax\n",
    "- Repeat"
   ]
  },
  {
   "cell_type": "code",
   "execution_count": 1,
   "metadata": {},
   "outputs": [
    {
     "data": {
      "text/html": [
       "<script type='text/javascript'>/*\n",
       " * Copyright (c) Facebook, Inc. and its affiliates. All Rights Reserved.\n",
       " */\n",
       "\n",
       "requirejs.config({\n",
       "  paths: {\n",
       "    plotly: ['https://cdn.plot.ly/plotly-latest.min'],\n",
       "  },\n",
       "});\n",
       "if (!window.Plotly) {\n",
       "  require(['plotly'], function(plotly) {\n",
       "    window.Plotly = plotly;\n",
       "  });\n",
       "}\n",
       "/*\n",
       " * Copyright (c) Facebook, Inc. and its affiliates. All Rights Reserved.\n",
       " */\n",
       "\n",
       "// helper functions used across multiple plots\n",
       "function rgb(rgb_array) {\n",
       "  return 'rgb(' + rgb_array.join() + ')';\n",
       "}\n",
       "\n",
       "function copy_and_reverse(arr) {\n",
       "  const copy = arr.slice();\n",
       "  copy.reverse();\n",
       "  return copy;\n",
       "}\n",
       "\n",
       "function axis_range(grid, is_log) {\n",
       "  return is_log ?\n",
       "    [Math.log10(Math.min(...grid)), Math.log10(Math.max(...grid))]:\n",
       "    [Math.min(...grid), Math.max(...grid)];\n",
       "}\n",
       "\n",
       "function relativize_data(f, sd, rel, arm_data, metric) {\n",
       "  // if relative, extract status quo & compute ratio\n",
       "  const f_final = rel === true ? [] : f;\n",
       "  const sd_final = rel === true ? []: sd;\n",
       "\n",
       "  if (rel === true) {\n",
       "    const f_sq = (\n",
       "      arm_data['in_sample'][arm_data['status_quo_name']]['y'][metric]\n",
       "    );\n",
       "    const sd_sq = (\n",
       "      arm_data['in_sample'][arm_data['status_quo_name']]['se'][metric]\n",
       "    );\n",
       "\n",
       "    for (let i = 0; i < f.length; i++) {\n",
       "      res = relativize(f[i], sd[i], f_sq, sd_sq);\n",
       "      f_final.push(100 * res[0]);\n",
       "      sd_final.push(100 * res[1]);\n",
       "    }\n",
       "  }\n",
       "\n",
       "  return [f_final, sd_final];\n",
       "}\n",
       "\n",
       "function relativize(m_t, sem_t, m_c, sem_c) {\n",
       "  r_hat = (\n",
       "    (m_t - m_c) / Math.abs(m_c) -\n",
       "    Math.pow(sem_c, 2) * m_t / Math.pow(Math.abs(m_c), 3)\n",
       "  );\n",
       "  variance = (\n",
       "    (Math.pow(sem_t, 2) + Math.pow((m_t / m_c * sem_c), 2)) /\n",
       "    Math.pow(m_c, 2)\n",
       "   )\n",
       "   return [r_hat, Math.sqrt(variance)];\n",
       "}\n",
       "</script>"
      ]
     },
     "metadata": {},
     "output_type": "display_data"
    },
    {
     "name": "stderr",
     "output_type": "stream",
     "text": [
      "[INFO 08-09 15:45:12] ipy_plotting: Injecting Plotly library into cell. Do not overwrite or delete cell.\n"
     ]
    }
   ],
   "source": [
    "import numpy as np\n",
    "\n",
    "from ax.plot.contour import plot_contour\n",
    "from ax.plot.trace import optimization_trace_single_method\n",
    "from ax.service.ax_client import AxClient\n",
    "from ax.metrics.branin import branin\n",
    "from ax.utils.measurement.synthetic_functions import hartmann6\n",
    "from ax.utils.notebook.plotting import render, init_notebook_plotting\n",
    "\n",
    "init_notebook_plotting()"
   ]
  },
  {
   "cell_type": "markdown",
   "metadata": {},
   "source": [
    "## 1. Initialize client\n",
    "\n",
    "Create a client object to interface with Ax APIs. By default this runs locally without storage."
   ]
  },
  {
   "cell_type": "code",
   "execution_count": 2,
   "metadata": {
    "collapsed": true
   },
   "outputs": [],
   "source": [
    "ax = AxClient()"
   ]
  },
  {
   "cell_type": "markdown",
   "metadata": {},
   "source": [
    "## 2. Set up experiment\n",
    "An experiment consists of a **search space** (parameters and parameter constraints) and **optimization configuration** (objective name, minimization setting, and outcome constraints). Note that:\n",
    "- Only `name`, `parameters`, and `objective_name` arguments are required.\n",
    "- Dictionaries in `parameters` have the following required keys: \"name\" - parameter name, \"type\" - parameter type (\"range\", \"choice\" or \"fixed\"), \"bounds\" for range parameters, \"values\" for choice parameters, and \"value\" for fixed parameters.\n",
    "- Dictionaries in `parameters` can optionally include \"value_type\" (\"int\", \"float\", \"bool\" or \"str\"), \"log_scale\" flag for range parameters, and \"is_ordered\" flag for choice parameters.\n",
    "- `parameter_constraints` should be a list of strings of form \"p1 >= p2\" or \"p1 + p2 <= some_bound\".\n",
    "- `outcome_constraints` should be a list of strings of form \"constrained_metric <= some_bound\"."
   ]
  },
  {
   "cell_type": "code",
   "execution_count": 3,
   "metadata": {},
   "outputs": [
    {
     "name": "stderr",
     "output_type": "stream",
     "text": [
      "[INFO 08-09 15:45:12] ax.service.utils.dispatch: Using Bayesian Optimization generation strategy. Iterations after 6 will take longer to generate due to model-fitting.\n"
     ]
    }
   ],
   "source": [
    "ax.create_experiment(\n",
    "    name=\"hartmann_test_experiment\",\n",
    "    parameters=[\n",
    "        {\n",
    "            \"name\": \"x1\",\n",
    "            \"type\": \"range\",\n",
    "            \"bounds\": [0.0, 1.0],\n",
    "            \"value_type\": \"float\",  # Optional, defaults to inference from type of \"bounds\".\n",
    "            \"log_scale\": False,  # Optional, defaults to False.\n",
    "        },\n",
    "        {\n",
    "            \"name\": \"x2\",\n",
    "            \"type\": \"range\",\n",
    "            \"bounds\": [0.0, 1.0],\n",
    "        },\n",
    "        {\n",
    "            \"name\": \"x3\",\n",
    "            \"type\": \"range\",\n",
    "            \"bounds\": [0.0, 1.0],\n",
    "        },\n",
    "        {\n",
    "            \"name\": \"x4\",\n",
    "            \"type\": \"range\",\n",
    "            \"bounds\": [0.0, 1.0],\n",
    "        },\n",
    "        {\n",
    "            \"name\": \"x5\",\n",
    "            \"type\": \"range\",\n",
    "            \"bounds\": [0.0, 1.0],\n",
    "        },\n",
    "        {\n",
    "            \"name\": \"x6\",\n",
    "            \"type\": \"range\",\n",
    "            \"bounds\": [0.0, 1.0],\n",
    "        },\n",
    "    ],\n",
    "    objective_name=\"hartmann6\",\n",
    "    minimize=True,  # Optional, defaults to False.\n",
    "    parameter_constraints=[\"x1 + x2 <= 2.0\"],  # Optional.\n",
    "    outcome_constraints=[\"l2norm <= 1.25\"],  # Optional.\n",
    ")"
   ]
  },
  {
   "cell_type": "markdown",
   "metadata": {},
   "source": [
    "## 3. Define how to evaluate trials\n",
    "When using Ax a service, evaluation of parameterizations suggested by Ax is done either locally or, more commonly, using an external scheduler. Below is a dummy evaluation function that outputs data for two metrics \"hartmann6\" and \"l2norm\". Note that all returned metrics correspond to either the `objective_name` set on experiment creation or the metric names mentioned in `outcome_constraints`."
   ]
  },
  {
   "cell_type": "code",
   "execution_count": 4,
   "metadata": {
    "collapsed": true
   },
   "outputs": [],
   "source": [
    "def evaluate(parameters):\n",
    "    x = np.array([parameters.get(f\"x{i+1}\") for i in range(6)])\n",
    "    # In our case, standard error is 0, since we are computing a synthetic function.\n",
    "    return {\"hartmann6\": (hartmann6(x), 0.0), \"l2norm\": (np.sqrt((x ** 2).sum()), 0.0)}"
   ]
  },
  {
   "cell_type": "markdown",
   "metadata": {},
   "source": [
    "Result of the evaluation should generally be a mapping of the format: `{metric_name -> (mean, SEM)}`. If there is only one metric in the experiment – the objective – then evaluation function can return a single tuple of mean and SEM, in which case Ax will assume that evaluation corresponds to the objective. It can also return only the mean as a float, in which case Ax will assume that SEM is 0.0. For more details on evaluation function, refer to the \"Trial Evaluation\" section in the docs."
   ]
  },
  {
   "cell_type": "markdown",
   "metadata": {},
   "source": [
    "## 4. Run optimization loop\n",
    "With the experiment set up, we can start the optimization loop.\n",
    "\n",
    "At each step, the user queries the client for a new trial then submits the evaluation of that trial back to the client.\n",
    "\n",
    "Note that Ax auto-selects an appropriate optimization algorithm based on the search space. For more advance use cases that require a specific optimization algorithm, pass a `generation_strategy` argument into the `AxClient` constructor. Note that when Bayesian Optimization is used, generating new trials may take a few minutes."
   ]
  },
  {
   "cell_type": "code",
   "execution_count": 5,
   "metadata": {},
   "outputs": [
    {
     "name": "stdout",
     "output_type": "stream",
     "text": [
      "Running trial 1/30...\n",
      "Running trial 2/30...\n",
      "Running trial 3/30...\n",
      "Running trial 4/30...\n",
      "Running trial 5/30...\n",
      "Running trial 6/30...\n",
      "Running trial 7/30...\n"
     ]
    },
    {
     "name": "stdout",
     "output_type": "stream",
     "text": [
      "Running trial 8/30...\n"
     ]
    },
    {
     "name": "stdout",
     "output_type": "stream",
     "text": [
      "Running trial 9/30...\n"
     ]
    },
    {
     "name": "stdout",
     "output_type": "stream",
     "text": [
      "Running trial 10/30...\n"
     ]
    },
    {
     "name": "stdout",
     "output_type": "stream",
     "text": [
      "Running trial 11/30...\n"
     ]
    },
    {
     "name": "stdout",
     "output_type": "stream",
     "text": [
      "Running trial 12/30...\n"
     ]
    },
    {
     "name": "stdout",
     "output_type": "stream",
     "text": [
      "Running trial 13/30...\n"
     ]
    },
    {
     "name": "stdout",
     "output_type": "stream",
     "text": [
      "Running trial 14/30...\n"
     ]
    },
    {
     "name": "stdout",
     "output_type": "stream",
     "text": [
      "Running trial 15/30...\n"
     ]
    },
    {
     "name": "stdout",
     "output_type": "stream",
     "text": [
      "Running trial 16/30...\n"
     ]
    },
    {
     "name": "stdout",
     "output_type": "stream",
     "text": [
      "Running trial 17/30...\n"
     ]
    },
    {
     "name": "stdout",
     "output_type": "stream",
     "text": [
      "Running trial 18/30...\n"
     ]
    },
    {
     "name": "stdout",
     "output_type": "stream",
     "text": [
      "Running trial 19/30...\n"
     ]
    },
    {
     "name": "stdout",
     "output_type": "stream",
     "text": [
      "Running trial 20/30...\n"
     ]
    },
    {
     "name": "stdout",
     "output_type": "stream",
     "text": [
      "Running trial 21/30...\n"
     ]
    },
    {
     "name": "stdout",
     "output_type": "stream",
     "text": [
      "Running trial 22/30...\n"
     ]
    },
    {
     "name": "stdout",
     "output_type": "stream",
     "text": [
      "Running trial 23/30...\n"
     ]
    },
    {
     "name": "stdout",
     "output_type": "stream",
     "text": [
      "Running trial 24/30...\n"
     ]
    },
    {
     "name": "stdout",
     "output_type": "stream",
     "text": [
      "Running trial 25/30...\n"
     ]
    },
    {
     "name": "stdout",
     "output_type": "stream",
     "text": [
      "Running trial 26/30...\n"
     ]
    },
    {
     "name": "stderr",
     "output_type": "stream",
     "text": [
      "/home/travis/virtualenv/python3.6.7/lib/python3.6/site-packages/botorch/optim/optimize.py:275: BadInitialCandidatesWarning:\n",
      "\n",
      "Unable to find non-zero acquisition function values - initial conditions are being selected randomly.\n",
      "\n"
     ]
    },
    {
     "name": "stdout",
     "output_type": "stream",
     "text": [
      "Running trial 27/30...\n"
     ]
    },
    {
     "name": "stderr",
     "output_type": "stream",
     "text": [
      "/home/travis/virtualenv/python3.6.7/lib/python3.6/site-packages/botorch/optim/optimize.py:275: BadInitialCandidatesWarning:\n",
      "\n",
      "Unable to find non-zero acquisition function values - initial conditions are being selected randomly.\n",
      "\n"
     ]
    },
    {
     "name": "stdout",
     "output_type": "stream",
     "text": [
      "Running trial 28/30...\n"
     ]
    },
    {
     "name": "stderr",
     "output_type": "stream",
     "text": [
      "/home/travis/virtualenv/python3.6.7/lib/python3.6/site-packages/botorch/optim/optimize.py:275: BadInitialCandidatesWarning:\n",
      "\n",
      "Unable to find non-zero acquisition function values - initial conditions are being selected randomly.\n",
      "\n"
     ]
    },
    {
     "name": "stdout",
     "output_type": "stream",
     "text": [
      "Running trial 29/30...\n"
     ]
    },
    {
     "name": "stderr",
     "output_type": "stream",
     "text": [
      "/home/travis/virtualenv/python3.6.7/lib/python3.6/site-packages/botorch/optim/optimize.py:275: BadInitialCandidatesWarning:\n",
      "\n",
      "Unable to find non-zero acquisition function values - initial conditions are being selected randomly.\n",
      "\n"
     ]
    },
    {
     "name": "stdout",
     "output_type": "stream",
     "text": [
      "Running trial 30/30...\n"
     ]
    },
    {
     "name": "stderr",
     "output_type": "stream",
     "text": [
      "/home/travis/virtualenv/python3.6.7/lib/python3.6/site-packages/botorch/optim/optimize.py:275: BadInitialCandidatesWarning:\n",
      "\n",
      "Unable to find non-zero acquisition function values - initial conditions are being selected randomly.\n",
      "\n"
     ]
    }
   ],
   "source": [
    "for i in range(30):\n",
    "    print(f\"Running trial {i+1}/30...\")\n",
    "    parameters, trial_index = ax.get_next_trial()\n",
    "     # Local evaluation here can be replaced with deployment to external system.\n",
    "    ax.complete_trial(trial_index=trial_index, raw_data=evaluate(parameters))"
   ]
  },
  {
   "cell_type": "markdown",
   "metadata": {},
   "source": [
    "## 5. Retrieve best parameters\n",
    "\n",
    "Once it's complete, we can access the best parameters found, as well as the corresponding metric values."
   ]
  },
  {
   "cell_type": "code",
   "execution_count": 6,
   "metadata": {},
   "outputs": [
    {
     "data": {
      "text/plain": [
       "{'x1': 0.39778277371142096,\n",
       " 'x2': 0.853944643861868,\n",
       " 'x3': 1.0846179375970257e-19,\n",
       " 'x4': 0.5578962364897352,\n",
       " 'x5': 0.5871045549608517,\n",
       " 'x6': 0.0}"
      ]
     },
     "execution_count": 6,
     "metadata": {},
     "output_type": "execute_result"
    }
   ],
   "source": [
    "best_parameters, values = ax.get_best_parameters()\n",
    "best_parameters"
   ]
  },
  {
   "cell_type": "code",
   "execution_count": 7,
   "metadata": {},
   "outputs": [
    {
     "data": {
      "text/plain": [
       "{'hartmann6': -2.9217229105790943, 'l2norm': 1.242333139951093}"
      ]
     },
     "execution_count": 7,
     "metadata": {},
     "output_type": "execute_result"
    }
   ],
   "source": [
    "means, covariances = values\n",
    "means"
   ]
  },
  {
   "cell_type": "markdown",
   "metadata": {},
   "source": [
    "For comparison, Hartmann6 minimum:"
   ]
  },
  {
   "cell_type": "code",
   "execution_count": 8,
   "metadata": {},
   "outputs": [
    {
     "data": {
      "text/plain": [
       "-3.32237"
      ]
     },
     "execution_count": 8,
     "metadata": {},
     "output_type": "execute_result"
    }
   ],
   "source": [
    "hartmann6.fmin"
   ]
  },
  {
   "cell_type": "markdown",
   "metadata": {},
   "source": [
    "## 6. Plot the response surface and optimization trace\n",
    "Here we arbitrarily select \"x1\" and \"x2\" as the two parameters to plot for both metrics, \"hartmann6\" and \"l2norm\"."
   ]
  },
  {
   "cell_type": "code",
   "execution_count": 9,
   "metadata": {},
   "outputs": [
    {
     "data": {
      "text/html": [
       "<div id=\"c13a494679784dc1b2bdbfb721e8f939\" style=\"width: 100%;\" class=\"plotly-graph-div\"></div><script type='text/javascript'>/*\n",
       " * Copyright (c) Facebook, Inc. and its affiliates. All Rights Reserved.\n",
       " */\n",
       "\n",
       "require(['plotly'], function(Plotly) {\n",
       "  window.PLOTLYENV = window.PLOTLYENV || {};\n",
       "  window.PLOTLYENV.BASE_URL = 'https://plot.ly';\n",
       "  /*\n",
       " * Copyright (c) Facebook, Inc. and its affiliates. All Rights Reserved.\n",
       " */\n",
       "\n",
       "const arm_data = {\"metrics\": [\"hartmann6\"], \"in_sample\": {\"0_0\": {\"name\": \"0_0\", \"parameters\": {\"x1\": 0.03326684609055519, \"x2\": 0.2903629243373871, \"x3\": 0.6765574812889099, \"x4\": 0.7602460980415344, \"x5\": 0.6944160461425781, \"x6\": 0.4932304918766022}, \"y\": {\"hartmann6\": -0.10193053405918145}, \"y_hat\": {\"hartmann6\": -0.10193056976798875}, \"se\": {\"hartmann6\": 0.0}, \"se_hat\": {\"hartmann6\": 0.0003102593887936762}, \"context_stratum\": null}, \"1_0\": {\"name\": \"1_0\", \"parameters\": {\"x1\": 0.37199026346206665, \"x2\": 0.8380742073059082, \"x3\": 0.9351519346237183, \"x4\": 0.3281303644180298, \"x5\": 0.86921226978302, \"x6\": 0.518917977809906}, \"y\": {\"hartmann6\": -0.0724206339952578}, \"y_hat\": {\"hartmann6\": -0.07242067029387367}, \"se\": {\"hartmann6\": 0.0}, \"se_hat\": {\"hartmann6\": 0.00031025938853533326}, \"context_stratum\": null}, \"2_0\": {\"name\": \"2_0\", \"parameters\": {\"x1\": 0.8660455346107483, \"x2\": 0.012138061225414276, \"x3\": 0.17897899448871613, \"x4\": 0.5037329792976379, \"x5\": 0.20125848054885864, \"x6\": 0.12208614498376846}, \"y\": {\"hartmann6\": -0.040387760691585665}, \"y_hat\": {\"hartmann6\": -0.040387804239745195}, \"se\": {\"hartmann6\": 0.0}, \"se_hat\": {\"hartmann6\": 0.00031025938801864744}, \"context_stratum\": null}, \"3_0\": {\"name\": \"3_0\", \"parameters\": {\"x1\": 0.9824963808059692, \"x2\": 0.9708600640296936, \"x3\": 0.5537922978401184, \"x4\": 0.1384344846010208, \"x5\": 0.9532292485237122, \"x6\": 0.2156907320022583}, \"y\": {\"hartmann6\": -0.0009566430007239527}, \"y_hat\": {\"hartmann6\": -0.0009566907481541875}, \"se\": {\"hartmann6\": 0.0}, \"se_hat\": {\"hartmann6\": 0.000310259390774305}, \"context_stratum\": null}, \"4_0\": {\"name\": \"4_0\", \"parameters\": {\"x1\": 0.47282469272613525, \"x2\": 0.17622686922550201, \"x3\": 0.3103462755680084, \"x4\": 0.9668663740158081, \"x5\": 0.09777507930994034, \"x6\": 0.6743358969688416}, \"y\": {\"hartmann6\": -0.015428072988504899}, \"y_hat\": {\"hartmann6\": -0.015428112765041746}, \"se\": {\"hartmann6\": 0.0}, \"se_hat\": {\"hartmann6\": 0.00031025938887979047}, \"context_stratum\": null}, \"5_0\": {\"name\": \"5_0\", \"parameters\": {\"x1\": 0.18246302008628845, \"x2\": 0.6943975687026978, \"x3\": 0.05136267468333244, \"x4\": 0.37932834029197693, \"x5\": 0.4620089530944824, \"x6\": 0.33671295642852783}, \"y\": {\"hartmann6\": -0.423023558261321}, \"y_hat\": {\"hartmann6\": -0.4230235279057104}, \"se\": {\"hartmann6\": 0.0}, \"se_hat\": {\"hartmann6\": 0.00031025763593215674}, \"context_stratum\": null}, \"6_0\": {\"name\": \"6_0\", \"parameters\": {\"x1\": 0.05214465733631768, \"x2\": 0.7609467503075047, \"x3\": 0.0469581158489317, \"x4\": 0.36075509379439075, \"x5\": 0.4656273932147957, \"x6\": 0.3518259647882483}, \"y\": {\"hartmann6\": -0.22493041736344782}, \"y_hat\": {\"hartmann6\": -0.2249304780132101}, \"se\": {\"hartmann6\": 0.0}, \"se_hat\": {\"hartmann6\": 0.00031025920864250915}, \"context_stratum\": null}, \"7_0\": {\"name\": \"7_0\", \"parameters\": {\"x1\": 0.25939649295280914, \"x2\": 0.6650090349516362, \"x3\": 0.03995907831722094, \"x4\": 0.3801208729537162, \"x5\": 0.4627599401115063, \"x6\": 0.3234259970272439}, \"y\": {\"hartmann6\": -0.5541142929386398}, \"y_hat\": {\"hartmann6\": -0.5541142934233291}, \"se\": {\"hartmann6\": 0.0}, \"se_hat\": {\"hartmann6\": 0.0003102562755738985}, \"context_stratum\": null}, \"8_0\": {\"name\": \"8_0\", \"parameters\": {\"x1\": 0.35513690549249927, \"x2\": 0.6315906931126871, \"x3\": 0.02006699810647629, \"x4\": 0.37615078140985725, \"x5\": 0.4664553415363284, \"x6\": 0.2999632633077736}, \"y\": {\"hartmann6\": -0.6691359497677735}, \"y_hat\": {\"hartmann6\": -0.6691361590167659}, \"se\": {\"hartmann6\": 0.0}, \"se_hat\": {\"hartmann6\": 0.0003102549872022597}, \"context_stratum\": null}, \"9_0\": {\"name\": \"9_0\", \"parameters\": {\"x1\": 0.4745059533687322, \"x2\": 0.5917106342302237, \"x3\": 5.9607934891295075e-18, \"x4\": 0.40046364431433434, \"x5\": 0.46297470942014396, \"x6\": 0.34403838608651294}, \"y\": {\"hartmann6\": -0.5407380507569726}, \"y_hat\": {\"hartmann6\": -0.5407381170641558}, \"se\": {\"hartmann6\": 0.0}, \"se_hat\": {\"hartmann6\": 0.0003102591660159032}, \"context_stratum\": null}, \"10_0\": {\"name\": \"10_0\", \"parameters\": {\"x1\": 0.3758055525513225, \"x2\": 0.6292589219909257, \"x3\": 0.016705490825713567, \"x4\": 0.3538266662912437, \"x5\": 0.4750460810045982, \"x6\": 0.1999987794130002}, \"y\": {\"hartmann6\": -0.8714946980672127}, \"y_hat\": {\"hartmann6\": -0.8714950264371109}, \"se\": {\"hartmann6\": 0.0}, \"se_hat\": {\"hartmann6\": 0.00031024953431953373}, \"context_stratum\": null}, \"11_0\": {\"name\": \"11_0\", \"parameters\": {\"x1\": 0.3858161299108635, \"x2\": 0.6221951752663946, \"x3\": 0.013252742338442983, \"x4\": 0.33463748422979206, \"x5\": 0.477468216633848, \"x6\": 0.10913754299927096}, \"y\": {\"hartmann6\": -0.9733052956750419}, \"y_hat\": {\"hartmann6\": -0.973304115761075}, \"se\": {\"hartmann6\": 0.0}, \"se_hat\": {\"hartmann6\": 0.0003102469532951469}, \"context_stratum\": null}, \"12_0\": {\"name\": \"12_0\", \"parameters\": {\"x1\": 0.4218629118129061, \"x2\": 0.655538991254875, \"x3\": 0.036285664422630697, \"x4\": 0.28075902550272175, \"x5\": 0.5404996630469717, \"x6\": 0.05351264818777901}, \"y\": {\"hartmann6\": -0.8585906904816648}, \"y_hat\": {\"hartmann6\": -0.8585914235166148}, \"se\": {\"hartmann6\": 0.0}, \"se_hat\": {\"hartmann6\": 0.0003102586948838742}, \"context_stratum\": null}, \"13_0\": {\"name\": \"13_0\", \"parameters\": {\"x1\": 0.37652227988450665, \"x2\": 0.6170340050217817, \"x3\": 6.677685543572353e-16, \"x4\": 0.34200498262442514, \"x5\": 0.40533177747665416, \"x6\": 0.048844902776396706}, \"y\": {\"hartmann6\": -1.0377199000519848}, \"y_hat\": {\"hartmann6\": -1.0377198735746633}, \"se\": {\"hartmann6\": 0.0}, \"se_hat\": {\"hartmann6\": 0.0003102558965808317}, \"context_stratum\": null}, \"14_0\": {\"name\": \"14_0\", \"parameters\": {\"x1\": 0.34543344776808416, \"x2\": 0.6009059826833945, \"x3\": 3.576355215013057e-18, \"x4\": 0.4381034764501569, \"x5\": 0.42007780280627766, \"x6\": 0.0035051798207886885}, \"y\": {\"hartmann6\": -1.2650010048474443}, \"y_hat\": {\"hartmann6\": -1.2650013198239904}, \"se\": {\"hartmann6\": 0.0}, \"se_hat\": {\"hartmann6\": 0.0003102538572784475}, \"context_stratum\": null}, \"15_0\": {\"name\": \"15_0\", \"parameters\": {\"x1\": 0.34144943957433055, \"x2\": 0.6129405103336915, \"x3\": 0.0, \"x4\": 0.5160414792934986, \"x5\": 0.46561597326867504, \"x6\": 0.0}, \"y\": {\"hartmann6\": -1.515183268794803}, \"y_hat\": {\"hartmann6\": -1.5151835015371873}, \"se\": {\"hartmann6\": 0.0}, \"se_hat\": {\"hartmann6\": 0.0003102515773533412}, \"context_stratum\": null}, \"16_0\": {\"name\": \"16_0\", \"parameters\": {\"x1\": 0.35266297724404255, \"x2\": 0.6461211322149998, \"x3\": 4.544598349854026e-13, \"x4\": 0.6117809871035713, \"x5\": 0.5130650995840186, \"x6\": 9.863102508085523e-13}, \"y\": {\"hartmann6\": -1.7910892345185978}, \"y_hat\": {\"hartmann6\": -1.7910889146733457}, \"se\": {\"hartmann6\": 0.0}, \"se_hat\": {\"hartmann6\": 0.0003102527220113188}, \"context_stratum\": null}, \"17_0\": {\"name\": \"17_0\", \"parameters\": {\"x1\": 0.3658368135358754, \"x2\": 0.6810866441387996, \"x3\": 5.423839054719801e-07, \"x4\": 0.7265412038082919, \"x5\": 0.5424949242736299, \"x6\": 2.3812729105539146e-08}, \"y\": {\"hartmann6\": -1.6550054369578244}, \"y_hat\": {\"hartmann6\": -1.6550058588376313}, \"se\": {\"hartmann6\": 0.0}, \"se_hat\": {\"hartmann6\": 0.00031025883869504283}, \"context_stratum\": null}, \"18_0\": {\"name\": \"18_0\", \"parameters\": {\"x1\": 0.3971516152099476, \"x2\": 0.7084578269679787, \"x3\": 1.9355618772398758e-15, \"x4\": 0.6147446231801958, \"x5\": 0.5799617395527042, \"x6\": 1.5964558404617614e-15}, \"y\": {\"hartmann6\": -2.2772077988620185}, \"y_hat\": {\"hartmann6\": -2.2772076224900455}, \"se\": {\"hartmann6\": 0.0}, \"se_hat\": {\"hartmann6\": 0.00031024291822167156}, \"context_stratum\": null}, \"19_0\": {\"name\": \"19_0\", \"parameters\": {\"x1\": 0.43702522757105616, \"x2\": 0.7618775655575679, \"x3\": 3.9846727288364274e-15, \"x4\": 0.5867533545152787, \"x5\": 0.6241433608017815, \"x6\": 7.575358759279295e-15}, \"y\": {\"hartmann6\": -2.5660193603231454}, \"y_hat\": {\"hartmann6\": -2.5660193288184203}, \"se\": {\"hartmann6\": 0.0}, \"se_hat\": {\"hartmann6\": 0.00031019293950109084}, \"context_stratum\": null}, \"20_0\": {\"name\": \"20_0\", \"parameters\": {\"x1\": 0.4496373444596398, \"x2\": 0.783785514128978, \"x3\": 3.7265444498310665e-13, \"x4\": 0.5733069652080475, \"x5\": 0.6372518447603837, \"x6\": 3.023627344177197e-13}, \"y\": {\"hartmann6\": -2.623279742649941}, \"y_hat\": {\"hartmann6\": -2.6232800609427946}, \"se\": {\"hartmann6\": 0.0}, \"se_hat\": {\"hartmann6\": 0.0003102204769851404}, \"context_stratum\": null}, \"21_0\": {\"name\": \"21_0\", \"parameters\": {\"x1\": 0.4867600090756532, \"x2\": 0.861088986271712, \"x3\": 0.0, \"x4\": 0.5768172349609397, \"x5\": 0.5721337738053556, \"x6\": 0.0}, \"y\": {\"hartmann6\": -2.6259269481822933}, \"y_hat\": {\"hartmann6\": -2.6259272436722334}, \"se\": {\"hartmann6\": 0.0}, \"se_hat\": {\"hartmann6\": 0.0003102581572706338}, \"context_stratum\": null}, \"22_0\": {\"name\": \"22_0\", \"parameters\": {\"x1\": 0.36247395439506386, \"x2\": 0.8337986469028402, \"x3\": 1.2442282687308705e-16, \"x4\": 0.5723964481863771, \"x5\": 0.6266594966490039, \"x6\": 1.0717182645042238e-16}, \"y\": {\"hartmann6\": -2.7974728013666086}, \"y_hat\": {\"hartmann6\": -2.797471570762884}, \"se\": {\"hartmann6\": 0.0}, \"se_hat\": {\"hartmann6\": 0.0003102493773281395}, \"context_stratum\": null}, \"23_0\": {\"name\": \"23_0\", \"parameters\": {\"x1\": 0.3006965994548677, \"x2\": 0.8532586468547312, \"x3\": 5.100394969270315e-16, \"x4\": 0.5755937450776992, \"x5\": 0.634330358177849, \"x6\": 5.764054539478712e-16}, \"y\": {\"hartmann6\": -2.426830547231133}, \"y_hat\": {\"hartmann6\": -2.4268315480418794}, \"se\": {\"hartmann6\": 0.0}, \"se_hat\": {\"hartmann6\": 0.0003102578091089433}, \"context_stratum\": null}, \"24_0\": {\"name\": \"24_0\", \"parameters\": {\"x1\": 0.39778277371142096, \"x2\": 0.853944643861868, \"x3\": 1.0846179375970257e-19, \"x4\": 0.5578962364897352, \"x5\": 0.5871045549608517, \"x6\": 0.0}, \"y\": {\"hartmann6\": -2.921724097044612}, \"y_hat\": {\"hartmann6\": -2.9217229105790943}, \"se\": {\"hartmann6\": 0.0}, \"se_hat\": {\"hartmann6\": 0.00031025407807936956}, \"context_stratum\": null}, \"25_0\": {\"name\": \"25_0\", \"parameters\": {\"x1\": 0.3374331332743168, \"x2\": 0.38121172320097685, \"x3\": 0.7387926150113344, \"x4\": 0.5054640779271722, \"x5\": 0.011916056275367737, \"x6\": 0.672666747123003}, \"y\": {\"hartmann6\": -0.5299392331685306}, \"y_hat\": {\"hartmann6\": -0.5299391272006296}, \"se\": {\"hartmann6\": 0.0}, \"se_hat\": {\"hartmann6\": 0.0003102593841435039}, \"context_stratum\": null}, \"26_0\": {\"name\": \"26_0\", \"parameters\": {\"x1\": 0.518595521338284, \"x2\": 0.2342722751200199, \"x3\": 0.8522600019350648, \"x4\": 0.41509544663131237, \"x5\": 0.6968469293788075, \"x6\": 0.6080916002392769}, \"y\": {\"hartmann6\": -0.12500355777111116}, \"y_hat\": {\"hartmann6\": -0.1250035949111271}, \"se\": {\"hartmann6\": 0.0}, \"se_hat\": {\"hartmann6\": 0.0003102593846601897}, \"context_stratum\": null}, \"27_0\": {\"name\": \"27_0\", \"parameters\": {\"x1\": 0.4826656198129058, \"x2\": 0.024052641354501247, \"x3\": 0.007994691841304302, \"x4\": 0.4821160612627864, \"x5\": 0.4088744353502989, \"x6\": 0.24933632276952267}, \"y\": {\"hartmann6\": -0.2817665345367453}, \"y_hat\": {\"hartmann6\": -0.2817664830121732}, \"se\": {\"hartmann6\": 0.0}, \"se_hat\": {\"hartmann6\": 0.0003102593817323035}, \"context_stratum\": null}, \"28_0\": {\"name\": \"28_0\", \"parameters\": {\"x1\": 0.6287593906745315, \"x2\": 0.7564497608691454, \"x3\": 0.2484214697033167, \"x4\": 0.7907362896949053, \"x5\": 0.7526746476069093, \"x6\": 0.5020846230909228}, \"y\": {\"hartmann6\": -0.036422803700223425}, \"y_hat\": {\"hartmann6\": -0.036422920232699996}, \"se\": {\"hartmann6\": 0.0}, \"se_hat\": {\"hartmann6\": 0.0003102593854352185}, \"context_stratum\": null}}, \"out_of_sample\": {}, \"status_quo_name\": null};\n",
       "const density = 50;\n",
       "const grid_x = [0.0, 0.02040816326530612, 0.04081632653061224, 0.061224489795918366, 0.08163265306122448, 0.1020408163265306, 0.12244897959183673, 0.14285714285714285, 0.16326530612244897, 0.18367346938775508, 0.2040816326530612, 0.22448979591836732, 0.24489795918367346, 0.26530612244897955, 0.2857142857142857, 0.3061224489795918, 0.32653061224489793, 0.3469387755102041, 0.36734693877551017, 0.3877551020408163, 0.4081632653061224, 0.42857142857142855, 0.44897959183673464, 0.4693877551020408, 0.4897959183673469, 0.5102040816326531, 0.5306122448979591, 0.5510204081632653, 0.5714285714285714, 0.5918367346938775, 0.6122448979591836, 0.6326530612244897, 0.6530612244897959, 0.673469387755102, 0.6938775510204082, 0.7142857142857142, 0.7346938775510203, 0.7551020408163265, 0.7755102040816326, 0.7959183673469387, 0.8163265306122448, 0.836734693877551, 0.8571428571428571, 0.8775510204081632, 0.8979591836734693, 0.9183673469387754, 0.9387755102040816, 0.9591836734693877, 0.9795918367346939, 1.0];\n",
       "const grid_y = [0.0, 0.02040816326530612, 0.04081632653061224, 0.061224489795918366, 0.08163265306122448, 0.1020408163265306, 0.12244897959183673, 0.14285714285714285, 0.16326530612244897, 0.18367346938775508, 0.2040816326530612, 0.22448979591836732, 0.24489795918367346, 0.26530612244897955, 0.2857142857142857, 0.3061224489795918, 0.32653061224489793, 0.3469387755102041, 0.36734693877551017, 0.3877551020408163, 0.4081632653061224, 0.42857142857142855, 0.44897959183673464, 0.4693877551020408, 0.4897959183673469, 0.5102040816326531, 0.5306122448979591, 0.5510204081632653, 0.5714285714285714, 0.5918367346938775, 0.6122448979591836, 0.6326530612244897, 0.6530612244897959, 0.673469387755102, 0.6938775510204082, 0.7142857142857142, 0.7346938775510203, 0.7551020408163265, 0.7755102040816326, 0.7959183673469387, 0.8163265306122448, 0.836734693877551, 0.8571428571428571, 0.8775510204081632, 0.8979591836734693, 0.9183673469387754, 0.9387755102040816, 0.9591836734693877, 0.9795918367346939, 1.0];\n",
       "const f = [-0.17337898550780695, -0.1735781251444336, -0.17418852564104237, -0.17522759536110322, -0.1767069581451134, -0.17863129765153019, -0.1809971119026199, -0.18379138959704688, -0.18699023168803397, -0.19055745743215657, -0.19444325354228076, -0.1985829479456449, -0.20289601547647496, -0.20728545096894813, -0.2116376747283112, -0.2158231646303045, -0.2196980348928842, -0.22310679727535998, -0.22588653346926035, -0.22787265609366014, -0.228906308131537, -0.22884321098627347, -0.22756340237006878, -0.2249808527287297, -0.2210515678833458, -0.21577872316842295, -0.20921382279077272, -0.2014537647051281, -0.1926346390321464, -0.18292366864683263, -0.1725107424579797, -0.1616006310615764, -0.1504064677369299, -0.139144619685712, -0.12803074464258557, -0.1172766278300551, -0.10708729733473499, -0.0976579004178969, -0.08916988515529733, -0.08178618733505671, -0.07564539918096558, -0.07085530588471634, -0.0674866632601383, -0.06556848306331875, -0.06508612984088846, -0.06598303888819212, -0.06816597058973617, -0.07151284919626621, -0.07588179670465545, -0.08112005057763727, -0.16933662683438977, -0.16947255059458122, -0.1700361526157571, -0.17104545548202388, -0.1725124227959035, -0.17444177903409042, -0.17682974199437296, -0.17966267946325643, -0.1829157142607184, -0.186551318386597, -0.190517957429571, -0.19474887020834786, -0.19916109504366575, -0.20365488217607808, -0.20811366050857805, -0.21240475440596396, -0.2163810696759214, -0.21988398092565464, -0.22274764321506102, -0.22480489819420146, -0.22589481696769442, -0.22587168221128395, -0.22461484179841862, -0.22203840977564215, -0.21809940412417572, -0.21280284688524298, -0.20620280971256022, -0.19839929392267563, -0.189531801521017, -0.17977104249048725, -0.16931025981993997, -0.1583572800273595, -0.14712787792621995, -0.13584057820626305, -0.12471268258294221, -0.1139571096850528, -0.10377953785494165, -0.09437532593639464, -0.08592574968925559, -0.07859324781697885, -0.07251564927211396, -0.06779976439379087, -0.06451521178623887, -0.0626897483112081, -0.06230740830247572, -0.06331026336491496, -0.06560371766512296, -0.06906438429037198, -0.07354915037365806, -0.07890411787681972, -0.16526445817926627, -0.16534412166074397, -0.16586884339411379, -0.16685713432356797, -0.1683211258445505, -0.17026536547018833, -0.17268552919055624, -0.17556706235816422, -0.1788837741418018, -0.18259642818676236, -0.18665139378060114, -0.1909794467847883, -0.19549483673478185, -0.2000947644949801, -0.20465944219119592, -0.2090529319925013, -0.2131249797247109, -0.21671406753816302, -0.21965189566694276, -0.2217694465916087, -0.22290465502743118, -0.2229114686469389, -0.2216697193744358, -0.21909477787640363, -0.2151455888872642, -0.2098296306462164, -0.20320380214615674, -0.19537114326550076, -0.1864742524561397, -0.17668685028456088, -0.16620497257524436, -0.15523890459164058, -0.14400644947226615, -0.13272765722341118, -0.1216208051142218, -0.11089921720581952, -0.10076841304028528, -0.09142306076825779, -0.08304327372293807, -0.07578994688141139, -0.06979910657846, -0.06517565270710524, -0.061987351297882354, -0.06026031752605121, -0.05997726146850901, -0.06107928439356769, -0.06347114182102143, -0.0670290438770973, -0.07160963314000313, -0.0770588509247836, -0.16118941747535231, -0.16122305002228932, -0.16172039162565943, -0.1627003100365827, -0.16417491870408685, -0.16614834796609534, -0.1686154389305896, -0.17156037219062348, -0.17495525749325758, -0.17875872928625225, -0.1829146162077553, -0.18735077896906693, -0.19197823911697565, -0.1966907489577181, -0.20136497846898793, -0.2058615161404036, -0.2100268944059578, -0.2136968513762305, -0.21670101865393632, -0.21886916155180713, -0.22003896460462335, -0.22006511933807638, -0.21882911802712568, -0.21624873227439834, -0.21228580819605425, -0.20695097582716382, -0.20030432792301833, -0.1924519970115136, -0.18353948490242444, -0.173743164112933, -0.16326140969896275, -0.15230646250658597, -0.14109761994226855, -0.12985588988035457, -0.11879990866263257, -0.10814271948629006, -0.09808890850093321, -0.08883158139113645, -0.08054872843823113, -0.07339868457063914, -0.06751466503084536, -0.06299875177401315, -0.059916161966932835, -0.058290985180381005, -0.05810459535487489, -0.05929747925589024, -0.06177440047553162, -0.06541201879072656, -0.0700676695967346, -0.07558806258674045, -0.15714132363405708, -0.15714284315625504, -0.15762835716420065, -0.1586169560438183, -0.16012053796565973, -0.16214255459888083, -0.16467668762136212, -0.1677054685475753, -0.17119886920973848, -0.1751129104267778, -0.17938836130849034, -0.18394962978504348, -0.18870397414139883, -0.19354119295541472, -0.19833397415441867, -0.20293910021042316, -0.20719971270782966, -0.21094883083714666, -0.21401428575748638, -0.2162251598484085, -0.21741968157187874, -0.21745429508195802, -0.21621328906239834, -0.21361797894126766, -0.20963413210580906, -0.20427632065333157, -0.1976083357374394, -0.1897396241673125, -0.18081857663178846, -0.1710240318231604, -0.16055640574734753, -0.14962952351280523, -0.1384637499949749, -0.12728056839533752, -0.1162984244963372, -0.10572944858778821, -0.0957765664952992, -0.08663049665478573, -0.0784661969181557, -0.07143848385142482, -0.06567681610316001, -0.06127961049873387, -0.058308883645560305, -0.0567863300367808, -0.05669195075056055, -0.05796591119420191, -0.06051355088036825, -0.06421273297709829, -0.06892232842290613, -0.07449066271900717, -0.15315283394788504, -0.1531402632881519, -0.1536340293085473, -0.15465331167009955, -0.15620958673043717, -0.15830534588584078, -0.160932755176747, -0.16407226907840478, -0.16769122709279405, -0.17174248353736987, -0.17616314793391186, -0.18087354370256647, -0.18577652355772467, -0.19075730754441833, -0.1956840303529015, -0.20040919494686515, -0.20477222631705605, -0.20860329809534606, -0.21172855844667426, -0.21397679669887082, -0.21518744808580514, -0.21521960900796255, -0.2139614257923197, -0.21133887490404357, -0.20732270205777348, -0.2019323179342487, -0.19523588552776938, -0.18734659972277623, -0.17841595543021604, -0.1686252951512922, -0.15817697760535854, -0.14728620909191392, -0.1361741303181918, -0.1250623229346116, -0.11416857517514101, -0.10370353996916648, -0.09386781688900925, -0.08484897477061737, -0.07681809979541576, -0.06992561232116135, -0.06429635634088382, -0.06002431975254341, -0.05716772859986907, -0.05574553387436598, -0.05573629565628435, -0.05708006899895546, -0.05968321913867314, -0.06342543343877272, -0.06816783234369916, -0.07376109242022899, -0.14925935675211732, -0.14925523429130616, -0.14978233006010266, -0.15085978426795754, -0.15249843834520727, -0.15469952288932354, -0.157453300002105, -0.16073767331349076, -0.16451679556599474, -0.16873972716600494, -0.17333922856099915, -0.17823080223537113, -0.18331213276728553, -0.1884631010683494, -0.1935465667020534, -0.19841011557348176, -0.20288895560795395, -0.20681010675965572, -0.20999796858636155, -0.2122812492187961, -0.21350108920726518, -0.21351999806747912, -0.21223094350640748, -0.2095656423689336, -0.20550091394027115, -0.20006202547102858, -0.1933223821971235, -0.18539961080359002, -0.17644879833497518, -0.16665409506801054, -0.15621994349988277, -0.14536292964336262, -0.134304840397778, -0.12326710566340982, -0.1124664884573151, -0.10211168163161422, -0.09240036693084885, -0.0835162775509295, -0.07562587388092301, -0.06887439835740672, -0.06338132460564627, -0.05923554325904434, -0.056490968669494324, -0.055163481888660604, -0.055230096596656564, -0.05663087383164234, -0.05927351795036162, -0.06304000589231173, -0.06779426860002125, -0.07338993333837118, -0.14549891545524551, -0.14553069159726595, -0.1461216512907294, -0.14729077547129676, -0.1490480538649147, -0.15139313807893784, -0.15431396522175156, -0.15778536564950496, -0.16176768585060297, -0.16620548291052806, -0.171026379267869, -0.17614020258688812, -0.1814385707633318, -0.18679511026333728, -0.1920665106653543, -0.19709461362755243, -0.20170970630628282, -0.2057351348373485, -0.20899327041813942, -0.21131274433031377, -0.2125367114373954, -0.21253169823124396, -0.21119635100632494, -0.20846916967484208, -0.20433419148686516, -0.19882369885642281, -0.19201743209894306, -0.18403841345994876, -0.17504611552335148, -0.16522810026143286, -0.15479130641653738, -0.14395392865647472, -0.13293845707741037, -0.12196606677513344, -0.11125224415031298, -0.10100333539711226, -0.09141359996007736, -0.08266233724873007, -0.07491072312720437, -0.06829814470605355, -0.06293805690408694, -0.05891368145525644, -0.05627416664075069, -0.055032014953328545, -0.05516254599027537, -0.05660584259072454, -0.059271117440078624, -0.06304293629609425, -0.06778843503041743, -0.07336464030299084, -0.14191196037787468, -0.142012370454473, -0.14270361990384284, -0.1440044242861207, -0.1459237045067091, -0.148459198767513, -0.15159606459848596, -0.15530548476593076, -0.15954330898231983, -0.1642487907812803, -0.16934351438698125, -0.174730646331404, -0.1802946850393622, -0.18590191085039198, -0.19140175052209596, -0.19662925663542674, -0.20140885850784407, -0.2055594655739641, -0.2089008977618233, -0.21126148193170047, -0.21248648995675457, -0.21244690550688872, -0.21104780845748794, -0.2082355017551124, -0.204002454493441, -0.19838928654924037, -0.19148341208440478, -0.18341451604477188, -0.17434757911018206, -0.1644745030218533, -0.15400543084940643, -0.1431606484794543, -0.13216361408745214, -0.12123531077421434, -0.11058982929384542, -0.10043089234699598, -0.09094893088698486, -0.08231830876858881, -0.07469435909958011, -0.06821004143938247, -0.06297224721422001, -0.059058046559556265, -0.05651142465341752, -0.055341206733272585, -0.0555208242226084, -0.05699029662488808, -0.05966037096804744, -0.06341833447741507, -0.06813475211172237, -0.07367034055931931, -0.13854112530480933, -0.1387485282906441, -0.13958278540259295, -0.14106225992783628, -0.14319459038839, -0.14597525275781809, -0.1493861361821851, -0.15339414608196356, -0.15794986715811554, -0.16298634832462888, -0.1684181106353434, -0.17414052371661015, -0.18002973886378137, -0.18594339808044202, -0.19172234708686642, -0.19719355696973973, -0.20217439762444522, -0.2064783059560028, -0.20992175824388504, -0.212332298437368, -0.21355720333093453, -0.2134721942464628, -0.21198945331418984, -0.20906410839854572, -0.20469837204777863, -0.19894271446284473, -0.19189383100266832, -0.1836896583323242, -0.17450215313219897, -0.16452882498893606, -0.15398404145832367, -0.14309093277883467, -0.1320744146706906, -0.12115552254948347, -0.11054697873710206, -0.1004497268771003, -0.09105007005633525, -0.0825170358982461, -0.07499965696438227, -0.06862399269079411, -0.06348991902602852, -0.05966794660529673, -0.05719654375161731, -0.05608055967937697, -0.05629129388391596, -0.057768519824037634, -0.06042440895680934, -0.06414894338644017, -0.06881617548048058, -0.07429064477881298, -0.1354309262860388, -0.13578959753863207, -0.13681622480506328, -0.1385287577038038, -0.14093334703373384, -0.14402284576426183, -0.1477753513314246, -0.15215280310053414, -0.15709966773152562, -0.1625417767278019, -0.16838542344608665, -0.17451687659527726, -0.18080251517169033, -0.18708982386400397, -0.19320949447502334, -0.19897884532085697, -0.20420668928585428, -0.20869965289100267, -0.2122697836522064, -0.21474309944639047, -0.21596855394628578, -0.21582673954628928, -0.21423754795790495, -0.2111659885492182, -0.20662546104766844, -0.20067801964886023, -0.1934315397967643, -0.185034136547093, -0.17566656684231885, -0.16553356539053443, -0.15485506595085896, -0.14385807736693956, -0.1327696983093407, -0.12181145365962398, -0.11119488107116449, -0.10111811902887757, -0.09176315513898081, -0.08329338175310608, -0.07585116869973896, -0.06955529179342435, -0.0644982368774576, -0.06074360419492053, -0.058324018504356756, -0.057240043541994856, -0.05746055103902492, -0.058924793797657804, -0.061546132926300956, -0.06521707208363914, -0.06981505393549003, -0.07520842215445, -0.132627401053785, -0.13318776612544347, -0.1344630606348719, -0.13647079190311662, -0.13921543158102523, -0.14268684032752632, -0.1468587665130191, -0.15168743276404706, -0.1571102428841158, -0.1630446751834581, -0.16938747554511957, -0.17601431946820256, -0.18278016680802778, -0.1895205713988135, -0.19605421300842074, -0.2021868750756851, -0.20771698863846932, -0.21244270241711516, -0.216170237132297, -0.21872306766069227, -0.21995128533077812, -0.21974035926272883, -0.2180184681880949, -0.21476163272202353, -0.20999605440049818, -0.20379735902309293, -0.19628681658073333, -0.18762499962128432, -0.17800365385096661, -0.16763670988946933, -0.15675133454715684, -0.145579735058611, -0.13435215996301686, -0.12329125975684618, -0.11260773340165853, -0.10249702145190687, -0.09313672089002445, -0.0846843876989547, -0.07727545346360598, -0.07102110181668686, -0.06600611321148642, -0.06228686450888499, -0.05988982080145688, -0.05881093008276461, -0.059016286785081196, -0.06044426331904984, -0.0630090636416285, -0.06660540819833849, -0.07111389161355675, -0.07640650210567435, -0.13017768848828637, -0.13099648395348673, -0.13258388884309436, -0.13495698069599216, -0.1381183814808592, -0.14205458648087865, -0.1467344053887203, -0.15210752948290696, -0.15810325683818394, -0.1646294428002235, -0.17157179485939156, -0.17879369404522216, -0.18613678747345674, -0.19342264127178554, -0.20045574854169212, -0.20702813280257415, -0.212925660638014, -0.21793598021852334, -0.22185775722258705, -0.22451062760303409, -0.22574507920882902, -0.22545135966200336, -0.22356651795605187, -0.22007883089507163, -0.21502912905404759, -0.20850888673913925, -0.20065532389819762, -0.1916441169032198, -0.18168055916628434, -0.17099010239384915, -0.15980913715405076, -0.14837667316088377, -0.13692731697511906, -0.1256856803498424, -0.11486213211047691, -0.10464965440153906, -0.09522148711696721, -0.08672923903074614, -0.07930120248694394, -0.07304071903058507, -0.06802458894143881, -0.064301671908777, -0.06189195258866054, -0.06078640325476736, -0.06094793696902001, -0.062313608009464394, -0.06479801755740011, -0.06829768291467708, -0.07269598724886661, -0.07786827637707372, -0.12812954889374306, -0.12926989517424514, -0.13124011506598898, -0.13405691957918187, -0.13772093987021738, -0.14221493555277132, -0.1475021593887863, -0.1535248925818925, -0.1602031817786601, -0.16743384569382314, -0.17508987606473547, -0.18302042864735812, -0.19105167213794483, -0.19898881569066373, -0.2066196431607824, -0.21371981839625276, -0.22006007366127345, -0.225415154568273, -0.2295740985719893, -0.23235112563445914, -0.23359618956609407, -0.2332041412590279, -0.23112152718544465, -0.22735028448320105, -0.22194795590167438, -0.21502446718108204, -0.2067359109744853, -0.19727609608244878, -0.18686679818539853, -0.17574766794863061, -0.16416662897922718, -0.15237137555555147, -0.14060231573507187, -0.12908705241951024, -0.11803629028835849, -0.10764091879634585, -0.09806995476898672, -0.08946902798986356, -0.0819591505705779, -0.07563561348189451, -0.07056698416395957, -0.06679431338230057, -0.06433076659860304, -0.06316194339655712, -0.06324711680107664, -0.06452151424957275, -0.06689960243042092, -0.0702791764748425, -0.07454593631500162, -0.0795781860569329, -0.1265308274557958, -0.1280621979117832, -0.13049319967105766, -0.13384030205251107, -0.13810204393378167, -0.14325709042998025, -0.1492624965392524, -0.1560521928961799, -0.1635357238424573, -0.17159730607448664, -0.1800953380513738, -0.18886257034291476, -0.19770723067491947, -0.20641546072706274, -0.21475543348877402, -0.2224834476092652, -0.22935211570296477, -0.23512047750911036, -0.23956551175623786, -0.2424941645552724, -0.24375475049810846, -0.24324650021209926, -0.2409261682397995, -0.2368109601095838, -0.23097751349188522, -0.22355717152884524, -0.21472821619514837, -0.20470601435401858, -0.19373213819672586, -0.1820634639437363, -0.16996206728312335, -0.15768647625216747, -0.145484568034995, -0.13358815008555214, -0.12220907588251262, -0.11153662319426094, -0.101735808094781, -0.09294631459015679, -0.08528177757464417, -0.07882925313312561, -0.07364882825645713, -0.06977344009789666, -0.0672090672173431, -0.06593549707513224, -0.0659078501461996, -0.06705895417038832, -0.069302535401075, -0.07253706385145953, -0.07664999242521287, -0.0815220873042315, -0.12542886514232188, -0.12742693536313965, -0.13040381465584516, -0.134375929089257, -0.13933967558553395, -0.14526928860561206, -0.1521149710800742, -0.15980130655023217, -0.16822598211109674, -0.17725889074785228, -0.18674174897958817, -0.19648845570132667, -0.20628651490110905, -0.21589992121108492, -0.22507392584729569, -0.23354202094552334, -0.24103527196766827, -0.24729378809209412, -0.25207969139132014, -0.25519051806635507, -0.25647168033344037, -0.25582654657375625, -0.25322291311667244, -0.24869511019038737, -0.2423415955880034, -0.2343184947615753, -0.22483001477769526, -0.21411691654261666, -0.20244426487157097, -0.1900895303205088, -0.17733185722289047, -0.1644430085512404, -0.15168020641040103, -0.13928084393347417, -0.12745886794495354, -0.1164025255955603, -0.1062731272660713, -0.09720449319595548, -0.08930281137629126, -0.08264672633625936, -0.07728758687473314, -0.07324988645216379, -0.07053201161290668, -0.06910745220426517, -0.06892661140872725, -0.06991928690286775, -0.07199779528125028, -0.07506060858300123, -0.07899629234388872, -0.08368749692782917, -0.12486986345259987, -0.12741622488208804, -0.1310309186753592, -0.13573061265860853, -0.14150957788327923, -0.14833731864246558, -0.1561565307300179, -0.1648814080226252, -0.17439632707259167, -0.18455497914317498, -0.1951800921941662, -0.20606398633194034, -0.21697031803952826, -0.22763746024460063, -0.23778399337240708, -0.24711669737985964, -0.2553411959969958, -0.26217500396634597, -0.2673622137542615, -0.27068854237247064, -0.27199509696599566, -0.27118915392842735, -0.2682505476391822, -0.2632328804772982, -0.256259538519261, -0.2475152263971393, -0.23723425339670934, -0.22568703101405074, -0.2131661937432755, -0.19997350759881827, -0.18640838374630675, -0.17275845403110623, -0.15929234902115563, -0.1462545760864683, -0.13386223195698344, -0.12230319549125035, -0.11173542102057166, -0.10228697827723121, -0.09405654926046125, -0.08711418265576332, -0.08150220822704068, -0.07723631048124902, -0.07430683550645623, -0.07268044229991544, -0.0723022023596791, -0.07309820204604689, -0.07497862594510574, -0.07784121820839629, -0.08157495450133911, -0.08606372437292342, -0.12489821175153515, -0.12807993469680645, -0.13243076027501433, -0.13796798311638825, -0.1446838458454206, -0.15254287651127518, -0.1614796246558895, -0.17139682090636799, -0.18216399111129866, -0.19361659652354601, -0.2055558509391906, -0.2177494789306006, -0.22993380791587736, -0.24181769630835892, -0.2530888400109923, -0.26342291023023634, -0.2724957046795832, -0.2799980255442558, -0.28565238319302255, -0.2892300008294394, -0.2905661588332886, -0.28957185552271725, -0.286240160569621, -0.28064642725997613, -0.27294249742322363, -0.2633459116847394, -0.2521257169140174, -0.2395866573983506, -0.22605338965167987, -0.21185599440854241, -0.1973176094027851, -0.18274457869763494, -0.1684191680896454, -0.15459465094054825, -0.1414924193586249, -0.12930070591177656, -0.11817449320082085, -0.1082362268561623, -0.09957701836871458, -0.09225811516265403, -0.08631251353640135, -0.08174668156484333, -0.07854242973109726, -0.07665900544097126, -0.07603548813912142, -0.07659352755779891, -0.0782404104199006, -0.08087237788462542, -0.08437806439386608, -0.08864190033687835, -0.125555788336688, -0.12946482122014868, -0.13465582372130291, -0.1411472156724356, -0.1489294068195839, -0.15796177576580606, -0.1681701235728048, -0.17944463376115294, -0.19163837285883767, -0.20456640721465125, -0.21800569852517815, -0.2316960674797235, -0.24534266213946254, -0.25862049686324595, -0.27118168136820797, -0.2826658669514953, -0.2927141317070666, -0.3009859813717758, -0.3071784116020728, -0.31104522344620833, -0.3124142529971885, -0.3112001101527635, -0.30741053471808943, -0.30114547677049763, -0.29258921062585186, -0.2819968500245281, -0.26967728199692054, -0.2559746891273724, -0.24125056535563005, -0.22586762369152036, -0.21017642476356146, -0.19450504991491746, -0.17915176174133018, -0.16438034690736303, -0.15041770142664113, -0.13745316977142152, -0.12563916103379613, -0.11509261845474572, -0.10589699838385336, -0.09810450912448399, -0.09173845772728773, -0.08679564194213274, -0.08324879398071472, -0.08104912365398897, -0.08012901693174501, -0.08040492484021788, -0.08178043626886522, -0.08414948023719826, -0.0873995621511876, -0.0914149144685148, -0.12688124871602546, -0.13161364331474656, -0.13775373649209655, -0.1453216972423479, -0.1543064131920624, -0.16466203472847118, -0.17630507411532226, -0.1891121004777998, -0.20291807026292652, -0.2175153763057024, -0.23265379436123768, -0.24804164873695345, -0.2633486864424318, -0.2782112995936693, -0.2922408040525809, -0.3050353860132512, -0.3161959855542641, -0.3253457553958513, -0.33215186820869835, -0.33634753714960697, -0.3377514670527726, -0.33628187737077087, -0.3319628841395341, -0.32492227666300666, -0.31538120859942365, -0.30363759402640533, -0.2900457281482217, -0.27499474839132376, -0.2588881438404881, -0.24212584873988785, -0.22508974883931232, -0.20813283718821962, -0.19157183737511652, -0.175682861683497, -0.1606995537522935, -0.14681313986380085, -0.13417384701774515, -0.1228932163532247, -0.11304693165323731, -0.10467788315670423, -0.09779928676690586, -0.09239776838420855, -0.08843639360847333, -0.0858576677383649, -0.0845865471512226, -0.08453349334274463, -0.0855975727548004, -0.08766956981013241, -0.0906350483004752, -0.09437727573405241, -0.12890931661049942, -0.13456427312963481, -0.1417661622504912, -0.15053766154098858, -0.16086657880784383, -0.17270187464481768, -0.1859503226728766, -0.2004738598208653, -0.21608767442872057, -0.23255912702875658, -0.24960770606346094, -0.2669063824559733, -0.2840849177179703, -0.3007358526043119, -0.3164239851138807, -0.3307000439851274, -0.34311887841457667, -0.3532617579710049, -0.36076135916438845, -0.3653269261760982, -0.3667663061326498, -0.3650014668702226, -0.3600749070942736, -0.3521459147810322, -0.34147744853435513, -0.32841593605111796, -0.31336709861695655, -0.2967709313527296, -0.2790783872266046, -0.260731446685052, -0.24214739138374164, -0.2237074124538624, -0.20574922542599205, -0.1885631125432975, -0.1723907148951549, -0.1574258976455738, -0.14381707063641713, -0.13167043702308445, -0.12105374785503253, -0.1120002498189906, -0.10451261821417024, -0.09856675989286978, -0.09411544446045594, -0.09109177146403846, -0.08941250485015662, -0.0889813060088569, -0.0896918795241406, -0.09143102006926784, -0.09408152371977785, -0.09752490936422453, -0.13167009467751567, -0.13834882590889364, -0.14672770760653442, -0.15683282686669853, -0.16865149958014414, -0.18212767475043112, -0.1971580590048574, -0.21358902718173534, -0.23121437780451848, -0.2497740453717805, -0.2689540045066242, -0.2883877860927607, -0.30766024261070224, -0.32631439469660994, -0.34386228325090384, -0.35980063635922266, -0.373631723526218, -0.3848889343822941, -0.3931654295200212, -0.3981429161678818, -0.39961665131902335, -0.3975126622623688, -0.39189415946606965, -0.3829560144709213, -0.3710083880898505, -0.3564523996785798, -0.3397516320474364, -0.3214031874381066, -0.30191121862917836, -0.2817647678793085, -0.2614207071579612, -0.24129178111121896, -0.22173925545280215, -0.2030694238602424, -0.18553315131978876, -0.16932766250626274, -0.15459987093348682, -0.14145065789128408, -0.12993963231746586, -0.12009002359074106, -0.11189347164998587, -0.10531457679731548, -0.10029514980529353, -0.09675815789633746, -0.09461139279709219, -0.09375089565604156, -0.09406416547116558, -0.09543316007845659, -0.09773707924104469, -0.10085490408472209, -0.13518841258734215, -0.14299283309901034, -0.15266487468554568, -0.16423507708564533, -0.17769100776589974, -0.19297194271154716, -0.20996434650474716, -0.22849823253913304, -0.24834447581081354, -0.26921321343337046, -0.2907536126145087, -0.31255550093767837, -0.3341536021016779, -0.35503533803022613, -0.3746532556483163, -0.3924429985627783, -0.40784724201751565, -0.4203450492826537, -0.4294847257894928, -0.4349167220103748, -0.43642200259424146, -0.4339311659250199, -0.427530798654258, -0.4174558591445249, -0.40406955288438196, -0.3878342917047791, -0.36927832079222245, -0.3489623883458618, -0.3274497917793189, -0.30528178465262756, -0.28295909385511775, -0.2609293933237614, -0.2395800416094952, -0.21923514625914298, -0.20015597027995846, -0.182543760457353, -0.16654419621703043, -0.15225279714993156, -0.1397207692818211, -0.12896090524317783, -0.11995327589863414, -0.11265055622808129, -0.10698291258700221, -0.10286243948656537, -0.10018717140063438, -0.09884471109188331, -0.09871551523351818, -0.09967586692355546, -0.10160054954421238, -0.10436522277313176, -0.13948322958141968, -0.14851448372568166, -0.15959509389843862, -0.17276123112722497, -0.18800161739070287, -0.2052513709442596, -0.2243867228823211, -0.2452207010994928, -0.2674998695724825, -0.2909022878572992, -0.315037029555441, -0.3394458528688161, -0.3636079031697954, -0.3869485693489638, -0.40885371035190476, -0.4286902910699152, -0.4458338788355496, -0.4597023446660402, -0.4697935171379294, -0.4757227595158654, -0.47725510911814595, -0.47432646999734307, -0.4670498041844273, -0.4557050520770005, -0.4407147020522566, -0.42260941614808567, -0.40198919358391105, -0.37948517992748065, -0.3557258964014801, -0.3313100217634519, -0.306786409948569, -0.2826410055908898, -0.2592897412307371, -0.23707626503952528, -0.21627333253476588, -0.19708679880754887, -0.17966130263444446, -0.16408690302813866, -0.15040609369063196, -0.13862077281586382, -0.12869888030468035, -0.12058052868498437, -0.1141835455265624, -0.10940841257120804, -0.10614263049170136, -0.10426456053003152, -0.10364679955144696, -0.10415913883795602, -0.10567114502132957, -0.10805438892320163, -0.1445671067509583, -0.1549239579600552, -0.16752587173708722, -0.18241594900389313, -0.19958512423137198, -0.2189650595365683, -0.24042197068928783, -0.2637514953036232, -0.2886747071553035, -0.3148354776135668, -0.3417995983153842, -0.369056385214234, -0.3960238199163608, -0.422058552851553, -0.4464721749964975, -0.46855492595878356, -0.4876073021426123, -0.502978744385339, -0.5141107485473675, -0.520579695637831, -0.5221331626484814, -0.518713329139214, -0.5104628484309257, -0.4977118804213162, -0.480948754493159, -0.46077960500071635, -0.4378834682495514, -0.41296875268990385, -0.38673532449057835, -0.3598444826371141, -0.33289741533413975, -0.3064215843771174, -0.2808638676839831, -0.2565890690992384, -0.2338824270960953, -0.21295490097951597, -0.19395020872842395, -0.17695279354717064, -0.16199608731083592, -0.14907061058306237, -0.1381315977208425, -0.12910596023023413, -0.12189850099956878, -0.11639736604048911, -0.11247876991238515, -0.11001105871425843, -0.10885818455072238, -0.1088826628606947, -0.1099480742729898, -0.11192116042889633, -0.15044576085530859, -0.16222287372283128, -0.1764540863289551, -0.19319082210384275, -0.21242742638028922, -0.23409299325804533, -0.2580441694523169, -0.2840590563289104, -0.31183232874536293, -0.3409718132945071, -0.37099703321100597, -0.4013406006447806, -0.4313537361592146, -0.4603174961337285, -0.48746134771945904, -0.5119904016630836, -0.5331217521997326, -0.5501288703071148, -0.5623908904489126, -0.5694413009542276, -0.5710088158823654, -0.5670430926123761, -0.5577200679475997, -0.5434256240431999, -0.5247207041103981, -0.5022942798400599, -0.4769117730092831, -0.44936571288422233, -0.42043336223797667, -0.390843718693746, -0.36125436485290197, -0.33223736537420057, -0.30427275567320633, -0.2777479645774469, -0.2529615798524001, -0.23013006256985213, -0.20939625789955263, -0.1908387909456949, -0.17448165691429762, -0.16030350837187834, -0.1482463071501664, -0.138223144625649, -0.13012514204745007, -0.12382742311781003, -0.11919420587615814, -0.11608309308018039, -0.11434865389658733, -0.11384538976651304, -0.1144301688765973, -0.11596420128652363, -0.1571177065974123, -0.1704038619415118, -0.18636545847489439, -0.2050636915134214, -0.22649762950859975, -0.2505948616697288, -0.2772031477654875, -0.30608319672017226, -0.3369027036146274, -0.369231933340306, -0.4025414696267813, -0.43620320822005654, -0.4694961542344862, -0.5016189257877404, -0.5317108914579047, -0.5588834152106334, -0.5822616121623552, -0.6010352423776033, -0.6145149547486324, -0.6221874699814418, -0.6237613843926704, -0.6191952443093431, -0.6087020705239444, -0.5927291275030625, -0.5719168227951776, -0.5470443213062544, -0.518970689999266, -0.4885792833895123, -0.45673061191924, -0.4242262213899305, -0.39178391053319006, -0.3600232019832488, -0.32945929234536164, -0.3005035286369123, -0.27346857595776053, -0.24857669534308435, -0.22596984442086177, -0.20572059728385983, -0.1878431335313837, -0.17230376414075355, -0.1590306439957303, -0.14792246936027775, -0.13885607523612564, -0.13169293435868168, -0.1262846191039878, -0.12247732324789862, -0.12011555669847274, -0.11904512794959599, -0.11911552105672374, -0.12018176088563659, -0.16457398820312208, -0.17945027884139708, -0.19723421787116158, -0.2179982299453117, -0.24174749353759883, -0.26840930598323276, -0.29782345201277083, -0.3297336997895035, -0.3637805587453916, -0.39949563519773834, -0.43629833390979944, -0.47349622249937295, -0.5102909618464051, -0.5457921024582684, -0.5790410303090542, -0.6090467296273286, -0.6348336881563332, -0.6555001518424285, -0.6702821622053263, -0.6786158850363684, -0.6801886942733475, -0.6749695951187582, -0.6632126007388024, -0.6454320328331216, -0.6223545206874386, -0.5948565854478046, -0.5638979277405051, -0.5304591078691386, -0.4954893839385769, -0.45986734484104297, -0.42437448997497584, -0.3896803526206476, -0.3563370390846171, -0.32478090684809446, -0.29533928127567566, -0.2682404293016477, -0.24362536069332474, -0.221560358781276, -0.2020494321442059, -0.1850461225984995, -0.17046430541511592, -0.15818777883479673, -0.14807856524291918, -0.13998393904047612, -0.13374225973566922, -0.12918772709485937, -0.12615419298982722, -0.12447816690302116, -0.1240011438906975, -0.12457136963045656, -0.17279799457077671, -0.18933605499331096, -0.2090229735707947, -0.23194381053743973, -0.25811126406733365, -0.2874536628809725, -0.3198039362709052, -0.3548896724979733, -0.39232439564673594, -0.43160044455176394, -0.4720843481865873, -0.5130162933449643, -0.5535159979812517, -0.5925977730345238, -0.629197492503033, -0.6622133751219405, -0.690560797238233, -0.7132388127091778, -0.7294028611310509, -0.7384349092794426, -0.7400001397356404, -0.734079665061343, -0.7209723703279497, -0.7012651447211544, -0.6757772975725425, -0.6454894605770218, -0.6114684743243448, -0.5747979675518187, -0.5365209267212774, -0.4975969871169903, -0.45887439253075646, -0.4210748659761251, -0.38478887487254787, -0.3504786610923263, -0.31848664987035324, -0.2890472435160405, -0.2623004232353541, -0.23830596580014662, -0.21705741028492787, -0.19849518160538115, -0.18251849717174906, -0.1689958568371962, -0.1577740499143222, -0.14868571097993355, -0.14155552289093165, -0.1362052055492955, -0.1324574475226612, -0.130138939887122, -0.12908266268425483, -0.12912955870179044, -0.18176534620633655, -0.20002567184071873, -0.22168278548898213, -0.24683567015414842, -0.27550591299710014, -0.30762425373381463, -0.3430180541463954, -0.3813997740971027, -0.42235656887626594, -0.4653414369805011, -0.5096669738593455, -0.5545036458528673, -0.5988853754773475, -0.6417257930211469, -0.6818483998263019, -0.7180328364520319, -0.7490773500768473, -0.7738744933231856, -0.791493396317208, -0.8012583901366395, -0.8028116032878556, -0.7961478718018331, -0.7816146288393782, -0.7598764586824771, -0.73185126811202, -0.6986298972070257, -0.661392112612297, -0.6213297409999063, -0.5795837758780005, -0.5371982662076495, -0.49509069848451437, -0.45403672387932403, -0.4146662907075124, -0.37746817244392983, -0.3428002015987619, -0.31090299335918103, -0.28191543198077573, -0.25589063269805756, -0.23281146158791288, -0.21260499594609483, -0.19515554646118494, -0.18031604873132978, -0.1679177729880159, -0.15777840339655413, -0.14970860743963277, -0.14351725701362716, -0.13901548145819542, -0.13601973429016467, -0.13435404513232407, -0.13385161082546315, -0.19144383801649956, -0.21147424867385267, -0.23515342161784947, -0.26259535758166064, -0.293831789834783, -0.32879723863280197, -0.3673148981685743, -0.4090834020694444, -0.45366455468894784, -0.5004724991494947, -0.5487655514498814, -0.5976429691906453, -0.6460499874935414, -0.6927951367581826, -0.7365837063331837, -0.7760699013086858, -0.8099276552205796, -0.8369363830370915, -0.8560736872329344, -0.8666031154079725, -0.8681429483467245, -0.860703192292747, -0.8446830914523882, -0.8208294147924591, -0.7901637661896491, -0.7538923573497998, -0.7133126846002407, -0.6697289366481312, -0.6243834987052495, -0.5784074181734342, -0.5327892763018682, -0.48835989082574516, -0.4457894543211469, -0.40559369409632473, -0.3681460455746022, -0.333693394685164, -0.30237351148000924, -0.27423279679940893, -0.24924337622541215, -0.22731890465201854, -0.20832870234614664, -0.1921100413840532, -0.17847854962600007, -0.16723680566340438, -0.1581812689726706, -0.15110773092301488, -0.14581549026238783, -0.1421104570229602, -0.13980737681724031, -0.13873134794415953, -0.20179342135386957, -0.22362771846432472, -0.24936377591257985, -0.27913144078143437, -0.3129736610121967, -0.3508300211444543, -0.39252098837046845, -0.4377328617353735, -0.4860034719197208, -0.5367091402723285, -0.589054310341227, -0.642066504994203, -0.6946005379257923, -0.7453567325463274, -0.7929177205937323, -0.8358067920914454, -0.8725676371614526, -0.9018609308940392, -0.9225682693205558, -0.9338896668246788, -0.9354187990285294, -0.9271819673377497, -0.9096328390403505, -0.8836039313623514, -0.8502245187635531, -0.8108201085939769, -0.7668094667373031, -0.7196120998878321, -0.6705740813032758, -0.6209151170557603, -0.5716959971281781, -0.5238033961044134, -0.47794814443926603, -0.4346731325315809, -0.39436751132334824, -0.35728451411927276, -0.3235608734201718, -0.2932363683667719, -0.26627249424977184, -0.2425696033007414, -0.22198214158977336, -0.20433181571350412, -0.1894186773026727, -0.17703022259950607, -0.16694867609834885, -0.15895666832670952, -0.15284153469476736, -0.14839846102879906, -0.14543268747118987, -0.14376096068259692, -0.2127662129033261, -0.2364230715993758, -0.26423241713501233, -0.2963404353685678, -0.332802092933587, -0.3735631560886218, -0.41844276366805977, -0.4671164813823231, -0.519099834760121, -0.5737328636988709, -0.6301673034655318, -0.6873594521444706, -0.7440732906216981, -0.798899408698269, -0.8502950955084848, -0.8966490609147262, -0.9363705313893098, -0.9679972812657964, -0.9903114577776732, -1.002447336568273, -1.0039732535513803, -0.9949324566724849, -0.9758347453802627, -0.94760071217236, -0.9114698174199096, -0.8688892254484007, -0.8214009559603246, -0.770541337294611, -0.7177611510044637, -0.6643693673455938, -0.6114992833612489, -0.5600935386079388, -0.5109036241031158, -0.4644996109056021, -0.4212864299687813, -0.3815237991157052, -0.34534762760306237, -0.3127913537604228, -0.2838061702056972, -0.2582794766448985, -0.23605119282455755, -0.21692778283165592, -0.20069400140749594, -0.18712248433251166, -0.1759813769959626, -0.1670402355240843, -0.1600744501890794, -0.1548684376133178, -0.15121783222781715, -0.14893088344150252, -0.22430652783662552, -0.2497886537840619, -0.27966824150645786, -0.3141079118584723, -0.3531751196952112, -0.3968226843478265, -0.4448696843502211, -0.49698256906399163, -0.5526564279907544, -0.6111969937624961, -0.6717051804356535, -0.7330676365899325, -0.7939585395304642, -0.852859023533939, -0.9081004430565849, -0.9579354959510935, -1.0006368922367344, -1.034617216845492, -1.0585570973357759, -1.0715235970723012, -1.073059021571165, -1.0632236112409472, -1.0425838563715313, -1.0121491985604962, -0.9732699999515054, -0.9275155514180832, -0.8765512654200567, -0.8220301095903251, -0.7655071466946466, -0.7083800510171342, -0.6518540503765635, -0.5969272568731578, -0.5443914840803179, -0.4948438378623776, -0.4487050834439521, -0.40624166228815073, -0.3675890535036418, -0.33277486220336794, -0.30174055812761347, -0.27436119962244365, -0.25046278619569895, -0.22983711011153307, -0.21225414117118158, -0.1974720917006445, -0.18524538063666163, -0.17533075468711745, -0.16749183815745994, -0.16150237779841148, -0.15714843080324625, -0.15422971784948214, -0.23635094968875192, -0.26364451833267977, -0.295571212756635, -0.33230974398306434, -0.3739401318451746, -0.42042280095726836, -0.4715778188077535, -0.5270640502173164, -0.5863581121096737, -0.6487337398081912, -0.7132435659983837, -0.7787072126254728, -0.8437115835782916, -0.9066306000272236, -0.9656714504583134, -1.0189519865287773, -1.0646089401928662, -1.1009297140011578, -1.1264930704390816, -1.140298344486782, -1.1418612294335053, -1.1312583054929466, -1.1091119420428264, -1.0765193509095194, -1.034940383688142, -0.9860647209266762, -0.9316791914648319, -0.8735513250485083, -0.8133384472448457, -0.7525251255235853, -0.6923870302154058, -0.6339766501397868, -0.5781254421299247, -0.5254572692378827, -0.47640881166083426, -0.43125361257361816, -0.3901273273813062, -0.35305249314430587, -0.31996171549165453, -0.29071860647538417, -0.2651361290051991, -0.24299223822188232, -0.22404287726541694, -0.20803249870678608, -0.19470235425543903, -0.18379683307205275, -0.17506814081554856, -0.16827960428582545, -0.1632078661831966, -0.15964420614629116, -0.24882846745558074, -0.27790285186044816, -0.3118331907677738, -0.3508134742150302, -0.3949359293856003, -0.44416875874900563, -0.4983337685199911, -0.5570835862068217, -0.6198783016480721, -0.6859621846467028, -0.7543426801397028, -0.8237759909301275, -0.8927657752529177, -0.9595830268236284, -1.0223150742390106, -1.078948960728113, -1.1274889190920385, -1.1660998499720585, -1.1932603747531483, -1.2079027896627397, -1.2095158128627888, -1.1981909735524272, -1.174604169616522, -1.1399371980205473, -1.0957555726002766, -1.0438651468029003, -0.9861698461028862, -0.9245476229350869, -0.8607543498217533, -0.7963583721396106, -0.7327033877915529, -0.6708945738676722, -0.611802034671799, -0.5560760115054592, -0.5041692373821285, -0.45636290219701936, -0.41279368145140327, -0.37348008671350685, -0.3383470132592318, -0.30724781864212103, -0.27998360066114536, -0.25631958438438496, -0.2359986977624361, -0.21875252975935133, -0.20430993558095634, -0.1924035899035197, -0.18277479905191074, -0.17517687389930492, -0.1693773429642068, -0.1651592548762384, -0.2616607275052454, -0.2924685118377146, -0.3283388704763338, -0.36947979214633764, -0.4159948982452145, -0.46785991930826143, -0.5248987845844899, -0.5867589584909118, -0.6528858244561377, -0.7224968227335911, -0.7945577408358425, -0.8677658530858414, -0.9405470303570493, -1.0110756565666803, -1.077326108836439, -1.137161684712684, -1.1884607729923096, -1.2292714166126926, -1.2579761855759548, -1.2734424779937112, -1.2751320385568987, -1.263149238516962, -1.238219521032231, -1.2016038015632355, -1.1549668043056263, -1.1002236587053287, -1.0393885630689763, -0.9744435822552803, -0.9072376639812069, -0.8394184928355198, -0.7723944597295268, -0.7073211697402705, -0.6451060876813861, -0.5864253769050827, -0.5317480380880786, -0.4813636345205783, -0.435410952824026, -0.39390580490104354, -0.356766827338199, -0.32383861265952085, -0.29491185267495035, -0.26974042101961526, -0.24805549421972228, -0.22957692544411923, -0.2140221550839414, -0.20111297736563927, -0.19058049069685867, -0.18216854859296439, -0.17563600402830082, -0.1707580080548371, -0.27476245887934303, -0.30723972868945915, -0.344966869703214, -0.3881641402783682, -0.4369452889881077, -0.4912928814561096, -0.5510329440793468, -0.6158085112249303, -0.6850518660956049, -0.7579562514807199, -0.8334496425136246, -0.9101756299451956, -0.9864890616872422, -1.0604759591487098, -1.1300072009858402, -1.192832435769181, -1.2467141278583367, -1.2895922318184043, -1.3197599284331396, -1.3360235170538441, -1.3378182971279893, -1.3252587429779914, -1.2991142268460778, -1.2607169690816518, -1.2118217312356905, -1.154443248283545, -1.0906965960395894, -1.0226594374044722, -0.9522665647046196, -0.8812392568842021, -0.8110463698496084, -0.7428911306711595, -0.6777168070981584, -0.6162249637269483, -0.5589011654251789, -0.5060442551513128, -0.4577964618503776, -0.4141724966387862, -0.37508647517925764, -0.34037599994745815, -0.30982309187358004, -0.28317191280422827, -0.2601433946641236, -0.24044700651150663, -0.22378996019902586, -0.20988418943985254, -0.1984514443459402, -0.18922683131478402, -0.1819611027564274, -0.17642196776079366, -0.28804213054096817, -0.32210902813694386, -0.3615910112789247, -0.40671847267339556, -0.4576135919508032, -0.5142646374367318, -0.5764992783681014, -0.643956470906863, -0.7160567276278247, -0.7919716360057947, -0.8705954054122605, -0.9505237996590814, -1.0300485446274568, -1.1071772903965578, -1.1796892341184007, -1.245233359431483, -1.301469306339988, -1.3462408321640267, -1.3777610387100667, -1.394780716669201, -1.3967099278616204, -1.3836700179008619, -1.3564671446247007, -1.3164947437395198, -1.2655857691477348, -1.2058421606340535, -1.1394679529744867, -1.0686257440803295, -0.9953272394578744, -0.9213603144628215, -0.8482492102001449, -0.7772414506487992, -0.7093142893292068, -0.6451941038509601, -0.5853833878240414, -0.5301913285934049, -0.47976514326740083, -0.43412028675250314, -0.3931683504389867, -0.35674198152565006, -0.3246165177695882, -0.2965282892461035, -0.2721897154079873, -0.25130144180435554, -0.23356183024013566, -0.21867414968828658, -0.20635182173836497, -0.19632206125540996, -0.18832822654951564, -0.1821311589305492, -0.3014028853862125, -0.3369644175561658, -0.37808183645615256, -0.4249931890489662, -0.4778270076261314, -0.5365757208291143, -0.6010677695591972, -0.6709379959203023, -0.7455961677348552, -0.8241946149240177, -0.905597937044952, -0.9883603977748961, -1.0707194398300404, -1.1506158232297212, -1.2257509516136385, -1.2936887142342883, -1.3520019400533023, -1.398453009640132, -1.4311868151888512, -1.448906041025985, -1.450997514760075, -1.4375859103910227, -1.4095057156034234, -1.3681994394633772, -1.315563927655703, -1.2537733945411391, -1.1851065712625641, -1.1117983314080082, -1.035926782377611, -0.9593382319801511, -0.8836064284651837, -0.8100193717868932, -0.7395862227380139, -0.6730574957247422, -0.6109530123317053, -0.5535934865970662, -0.5011328401178209, -0.453589317560501, -0.41087419929749136, -0.37281743291848823, -0.33918987854447924, -0.30972212450041237, -0.2841200091763578, -0.26207710217944336, -0.2432844677113234, -0.22743806660738564, -0.21424415966667842, -0.20342306135890598, -0.19471156607595996, -0.18786433402978042, -0.31474376937984516, -0.3516908537971718, -0.3943083629194577, -0.4428392489348574, -0.4974160021469831, -0.558033313304711, -0.6245191489906541, -0.6965038426449011, -0.7733871504939259, -0.8543043805818382, -0.9380947249474312, -1.023277616164735, -1.1080457800679244, -1.1902857562346916, -1.267636728399321, -1.3375952082114557, -1.397665694659667, -1.445546552983294, -1.4793286227980649, -1.4976755833004698, -1.4999538835167758, -1.4862878787942564, -1.4575309352543413, -1.4151608172478092, -1.3611218951537678, -1.2976435624061287, -1.2270629539858597, -1.151672813843586, -1.0736057427913854, -0.9947572696525077, -0.9167440363439312, -0.840890220071772, -0.7682345337732039, -0.6995508263120546, -0.6353766290162319, -0.5760454232720535, -0.5217196607278117, -0.4724225634441267, -0.4280674746974158, -0.38848406820840164, -0.35344110473022927, -0.32266569160245195, -0.29585918320201954, -0.2727099792836978, -0.2529035490641748, -0.23613004298593088, -0.2220898605907916, -0.2104975294921695, -0.20108422345158505, -0.19359921228307808, -0.32796123996183424, -0.3661719744104369, -0.41014006671494285, -0.4601104415534877, -0.5162169176386386, -0.5784542699084496, -0.6466484402365378, -0.7204245625041432, -0.7991728693952511, -0.8820137396519302, -0.967765175859553, -1.0549186847006669, -1.141632361151483, -1.2257520538788982, -1.3048715339866512, -1.376439245887511, -1.4379117070863896, -1.4869426004495199, -1.5215847078219271, -1.5404732485639612, -1.5429579820822172, -1.529159406494909, -1.4999397171563276, -1.456796950595964, -1.4017051147992865, -1.3369300372557262, -1.264849374110186, -1.1877979297809158, -1.107949732454247, -1.0272394204747175, -0.9473192520525853, -0.8695448190228499, -0.7949817280742646, -0.7244261813005297, -0.6584337164059746, -0.5973518067971224, -0.5413532937295298, -0.490468633587261, -0.44461569996821126, -0.40362642781864444, -0.36726997576516596, -0.3352723548658404, -0.3073326579832454, -0.2831361455168834, -0.26236451581449327, -0.24470372390801165, -0.22984971963468248, -0.2175124634296266, -0.20741855153272282, -0.19931274729629822, -0.34095090332920663, -0.38029203785745513, -0.4254490316894386, -0.47666575514129084, -0.5340745826070882, -0.5976680089742078, -0.667268190352843, -0.7424941642354344, -0.8227269609490917, -0.9070740298120693, -0.9943364169955513, -1.0829847629328313, -1.1711529424637779, -1.2566601666304862, -1.3370723449829556, -1.4098101302342523, -1.472303559641447, -1.5221822260414006, -1.5574780866405622, -1.5768095076735562, -1.5795139832161786, -1.5657049219848345, -1.5362431486953387, -1.492631432336779, -1.436854679094099, -1.3711953924562197, -1.2980528193902972, -1.219787027904123, -1.1385995388220402, -1.0564532625441938, -0.9750282141346986, -0.8957061872387113, -0.8195766878598855, -0.7474570494077883, -0.6799209497387341, -0.6173309786010636, -0.5598721756521537, -0.5075844766848923, -0.4603927713870325, -0.4181338324703787, -0.38057977243598995, -0.34745796212427427, -0.3184675354931308, -0.29329272980498566, -0.2716133854315429, -0.25311296674475703, -0.23748447453517108, -0.22443460886941713, -0.2136865157097535, -0.20498141623891042, -0.3536094026388046, -0.3939379893181646, -0.4401121813101845, -0.49237176309404784, -0.5508448461337596, -0.6155191992845287, -0.6862113309482643, -0.7625331890992497, -0.8438568553222547, -0.9292788289811051, -1.0175874690238973, -1.1072397026441119, -1.1963557412846153, -1.2827424060124835, -1.3639555399572805, -1.4374085829825407, -1.500526970750285, -1.55093726069905, -1.5866683592119175, -1.6063339709792923, -1.6092643157959734, -1.5955629521133106, -1.5660794395521607, -1.522305836444566, -1.4662190902260852, -1.400098319590863, -1.3263449945835322, -1.2473271348455799, -1.1652592779451354, -1.082121241563458, -0.999612451626058, -0.9191352604324101, -0.8417997114422627, -0.7684427435983796, -0.6996560651984888, -0.635818318263429, -0.577128410118826, -0.5236379039511796, -0.47528113041818454, -0.43190224607500793, -0.39327886798898515, -0.35914219795036795, -0.32919374492355236, -0.30311888304285317, -0.2805975606511849, -0.2613125157573526, -0.24495536445106492, -0.23123091910400462, -0.21986006906347966, -0.21058152329304858, -0.3658363633902648, -0.40700155253271453, -0.454013491815654, -0.5071049295115629, -0.5663969471919637, -0.6318701688399295, -0.703333609373499, -0.7803911562919141, -0.8624062370970955, -0.9484664421581672, -1.037351780276476, -1.127512663169864, -1.2170661777604552, -1.3038208841071228, -1.385340113692449, -1.4590503238421682, -1.5223938288112788, -1.5730148548970848, -1.608956842456332, -1.628841089079705, -1.6319958782864044, -1.6185127466109734, -1.5892208218543955, -1.5455867428903676, -1.4895612613862061, -1.423400474749998, -1.3494889060089017, -1.2701851985007067, -1.187702242625454, -1.1040250918395849, -1.0208638635053582, -0.9396354284873041, -0.8614666171273341, -0.787212088357579, -0.7174811521777782, -0.6526691657412216, -0.5929903470222949, -0.5385098531757117, -0.48917374069537023, -0.4448359931550476, -0.4052822124800006, -0.3702498600484089, -0.3394451346186733, -0.3125567073100207, -0.2892666158986501, -0.2692586638374155, -0.25222468336769044, -0.23786901475391198, -0.2259115315145851, -0.2160895098402993, -0.377536299410426, -0.4193812459574475, -0.4670460839196511, -0.5207537351552217, -0.5806156290571023, -0.646602959233266, -0.7185155327346624, -0.7959483441674482, -0.8782566082694923, -0.9645211872938967, -1.0535181743998658, -1.1436986618197973, -1.2331869792832633, -1.3198071452448679, -1.4011468461393273, -1.474664836850064, -1.5378406739359118, -1.5883558483177767, -1.6242850378955054, -1.6442689371335106, -1.647639333338136, -1.6344742220420367, -1.605574210704022, -1.5623671082766493, -1.5067605290014028, -1.4409690214486666, -1.3673418031880367, -1.2882112937012493, -1.2057742476449702, -1.1220092141748108, -1.03862804279824, -0.9570557395918825, -0.8784317795734943, -0.8036262562052503, -0.7332652708268436, -0.6677612111568214, -0.6073447437525757, -0.5520963265991647, -0.5019758120961237, -0.45684928164203864, -0.41651266868916903, -0.3807120236731357, -0.3491604807040345, -0.3215521242307602, -0.297573040352647, -0.27690988445483533, -0.2592563141611205, -0.24431763215101576, -0.23181396366807128, -0.2214822638553844, -0.3886203910058791, -0.430984231068962, -0.47911410043143365, -0.5332205346087289, -0.5934029174815802, -0.6596209571793705, -0.731663774787626, -0.8091168822531727, -0.8913279608167518, -0.9773735284365557, -1.0660303102833115, -1.155757219245383, -1.2446958753682638, -1.330698800644963, -1.4113938207644798, -1.4842897997356213, -1.5469221725691742, -1.597027538412036, -1.6327270413561226, -1.652691671483311, -1.6562620198074445, -1.6435016828979037, -1.6151759890400532, -1.5726622489986586, -1.5178098518183367, -1.452774968222157, -1.3798545135887434, -1.3013387801322214, -1.2193944299366999, -1.1359819480490299, -1.0528058711412058, -0.9712926921722006, -0.8925900188182436, -0.8175806762415575, -0.7469063222446592, -0.6809962852338698, -0.6200984478767533, -0.564309948487579, -0.5136062241435388, -0.467867489326807, -0.4269021634801504, -0.3904670630573063, -0.35828438596945633, -0.3300556600871204, -0.30547291880679905, -0.2842274180471497, -0.2660162302058725, -0.2505470495202181, -0.23754152642574833, -0.22673742120539775, -0.3990080623102483, -0.44172791780067855, -0.49013429498357797, -0.5444230727886444, -0.6046794972048688, -0.6708500487113078, -0.7427120081134935, -0.8198411411462649, -0.901578580721713, -0.9869991257516518, -1.0748847876742533, -1.1637093162428072, -1.2516412041361138, -1.3365736132128276, -1.4161888829817861, -1.4880619183495851, -1.549800471281404, -1.5992118528481216, -1.63447697505796, -1.6543067583657018, -1.658055542166309, -1.6457722874360237, -1.6181817542199008, -1.576601124740511, -1.5228087334474982, -1.4588876983187906, -1.3870674488488175, -1.309581594993202, -1.2285536127571033, -1.1459147932893423, -1.0633534010591872, -0.9822906062573427, -0.9038773171920493, -0.8290059802160399, -0.758332131826368, -0.6923015092145642, -0.6311795606440087, -0.5750811037519398, -0.5239986129196412, -0.477828181440063, -0.4363926255447931, -0.39946150422520366, -0.36676804666431406, -0.3380231283919113, -0.31292653380875557, -0.29117579881278477, -0.2724729526802905, -0.25652948102818607, -0.24306981809209272, -0.23183365200179384, -0.4086283037643801, -0.45154127265305255, -0.5000372783661301, -0.5542956100300666, -0.6143856413570428, -0.680239259917298, -0.7516211407080498, -0.8280974231890054, -0.9090040218279678, -0.9934168918677958, -1.0801280590751179, -1.1676329183460459, -1.2541358106923755, -1.337581565694811, -1.4157197496351683, -1.4862050690166608, -1.5467315210485262, -1.5951901799526256, -1.6298328108884559, -1.6494183930801687, -1.6533194331017596, -1.6415705641915554, -1.6148521901287936, -1.5744139126439554, -1.52195267536622, -1.4594663230694664, -1.3891037584033867, -1.3130290261600452, -1.2333104757938054, -1.1518397434397745, -1.0702801288307584, -0.9900406341498624, -0.912270393607502, -0.8378679947200248, -0.7675007404913066, -0.7016297902072133, -0.6405380621455514, -0.5843586359008133, -0.533102099013052, -0.48668183730789805, -0.444936688655551, -0.4076506899365626, -0.37456986979491413, -0.34541619442599136, -0.3198988754626032, -0.2977233100761155, -0.2785979533824017, -0.26223943000003247, -0.24837618159975938, -0.236750925797253, -0.41742070496483474, -0.460365795776152, -0.5087683905804418, -0.5627896268297286, -0.622481669876747, -0.6877608689915069, -0.758378956239805, -0.8338929763845806, -0.9136353075113604, -0.9966861646371555, -1.081852331445701, -1.1676573511758548, -1.2523496492732837, -1.3339354829584713, -1.4102425248688082, -1.4790167037489352, -1.5380495245840289, -1.5853261839606074, -1.619178040723353, -1.6384186319663083, -1.6424424070395984, -1.6312704235019884, -1.605536379285856, -1.566417019100562, -1.5155201228853752, -1.4547486384634738, -1.3861602419810441, -1.3118384318829643, -1.2337858771703316, -1.1538449812488465, -1.0736458345120488, -0.9945785312029771, -0.91778521471128, -0.8441668289110742, -0.7743999316841194, -0.7089596747740332, -0.6481459006370984, -0.5921101000459781, -0.5408816479878975, -0.4943922751667882, -0.4524981483952616, -0.41499924449775416, -0.3816559290107976, -0.3522028105409315, -0.3263600486166994, -0.3038423589636612, -0.2843659948331677, -0.26765399408904766, -0.25343997558766895, -0.2414707502302068];\n",
       "const lower_is_better = false;\n",
       "const metric = \"hartmann6\";\n",
       "const rel = false;\n",
       "const sd = [0.6313023735513609, 0.6279383189762646, 0.6241081808018207, 0.6197418032339059, 0.6147618549655005, 0.6090845416326855, 0.6026209318335805, 0.5952790944782864, 0.5869672872021164, 0.5775984786799061, 0.5670965265829682, 0.5554043574116354, 0.5424944858005225, 0.5283821358650468, 0.5131410283657634, 0.49692148004067904, 0.4799696794240625, 0.4626456619103984, 0.44543542473351594, 0.428949849975071, 0.41390041202996214, 0.40104123364201616, 0.39107270914287645, 0.3845167908933224, 0.3815949757709137, 0.3821532962965803, 0.38566793743414945, 0.3913311335847376, 0.3981832009704051, 0.4052463884684355, 0.4116301990926653, 0.41659928991690903, 0.4196100044760113, 0.42032690030831393, 0.4186295855243966, 0.4146165446550902, 0.40860839294228435, 0.4011485678853273, 0.3929946540724711, 0.3850886255368198, 0.3784913504177813, 0.3742705687858154, 0.37334794394222887, 0.3763385647593664, 0.3834386089791862, 0.39440876141001746, 0.4086583671052264, 0.42538914957852203, 0.4437421588627811, 0.4629093323551225, 0.6295851201202498, 0.6261131671312333, 0.6221758909042919, 0.6177043099392211, 0.6126224130248891, 0.6068478472187167, 0.6002932027078901, 0.5928680914717492, 0.5844822600217575, 0.5750500214883197, 0.5644963337605124, 0.5527648781555919, 0.5398284884636847, 0.5257022096957413, 0.5104590715586972, 0.49424824760990554, 0.4773144889438629, 0.4600163716814071, 0.4428387915473727, 0.4263923161519624, 0.41138923346819, 0.3985856375304126, 0.38868454202831354, 0.3822100884393634, 0.37938426662325087, 0.3800511604701496, 0.38368285920119954, 0.38946652644061186, 0.3964377728570994, 0.40361537431191613, 0.4101068114493973, 0.41517593532139385, 0.4182791001361054, 0.4190813267145742, 0.4174628967137891, 0.41352306730589916, 0.40758331840080736, 0.4001880987544314, 0.392096212875733, 0.3842510638498711, 0.3777150196114159, 0.37355706813263206, 0.3726994244478357, 0.3757566831980699, 0.38292349194265446, 0.39395841349688043, 0.4082687255816753, 0.4250546431755105, 0.44345645084291097, 0.46266597951129645, 0.6277377669041918, 0.6241554853046158, 0.6201108739760158, 0.6155368219590523, 0.6103594815647013, 0.6044989472070805, 0.5978705114021889, 0.5903866922678246, 0.581960270814037, 0.5725086220132778, 0.5619596659312607, 0.5502597938887892, 0.5373841206780224, 0.523349343279732, 0.5082292908771162, 0.492172834176148, 0.47542303726718166, 0.458335087711073, 0.44138845157941353, 0.42518592623053353, 0.41042958706447286, 0.39786325373791936, 0.38817681046794394, 0.3818825912994304, 0.37919481773198066, 0.37995601443729066, 0.38364340756960524, 0.3894545272041149, 0.39643798303615974, 0.4036256549860103, 0.4101365309018806, 0.41524359861702925, 0.4184098522020986, 0.41930462203769964, 0.41781035220263407, 0.41402633660932686, 0.4082717251205091, 0.40108573936265945, 0.39321833233003206, 0.3855998133662213, 0.3792753128839232, 0.3752940522220138, 0.3745595326488359, 0.37767348552697005, 0.3848273780811673, 0.3957868893061867, 0.4099737729633958, 0.42660547037692487, 0.44483828656342406, 0.46387671009168757, 0.6257434626410932, 0.622046743858064, 0.6178927404721115, 0.6132168885050756, 0.6079483285017839, 0.6020105906025293, 0.5953228336934442, 0.5878018286219173, 0.57936491917246, 0.5699342396631892, 0.5594425094655398, 0.547840752071685, 0.535108280002462, 0.5212652121431435, 0.5063875881005327, 0.49062471987430173, 0.47421763280802653, 0.4575161142588616, 0.4409898583891103, 0.42522656587719065, 0.41090743917328326, 0.39875045349950683, 0.3894175826495918, 0.3833964363363521, 0.3808860661340938, 0.38172813821086055, 0.3854138936320737, 0.3911658086378085, 0.39806214757972863, 0.40516349955574893, 0.41161312486770013, 0.41670254419188446, 0.4199076410798402, 0.42090562851127755, 0.4195823905937403, 0.4160363572628319, 0.41058105705292924, 0.4037442861854644, 0.3962573716811715, 0.3890237137803165, 0.38305369940568795, 0.37935745560194745, 0.3788022622207446, 0.38196580577374856, 0.3890348005767714, 0.39979021712719864, 0.4136831307215235, 0.4299652678700602, 0.4478245099570529, 0.4664900817062323, 0.6235838697454171, 0.6197667251836785, 0.6154991586706933, 0.6107197935602375, 0.605361544558225, 0.5993523235011371, 0.5926162721579343, 0.5850757058933177, 0.5766539945901776, 0.5672796505408515, 0.5568919318957101, 0.5454482941047245, 0.5329340105226019, 0.519374201498149, 0.5048482997535336, 0.4895065460704983, 0.4735873204363296, 0.4574328104385182, 0.4414985906442811, 0.4263502873102787, 0.41263847203916476, 0.40104329616294865, 0.3921862279135481, 0.38651955728064746, 0.38422146662258855, 0.3851338725045154, 0.3887698669948304, 0.3943894114919346, 0.4011147592269808, 0.4080487787301142, 0.4143702599170036, 0.4193976500692899, 0.4226253371617257, 0.4237415765554618, 0.4226366778416682, 0.4194071019898461, 0.4143573945165304, 0.4079979289681481, 0.40103233514682846, 0.3943247727379867, 0.38883582392616384, 0.3855204250024035, 0.3851954002610565, 0.3884053574678893, 0.3953307661651967, 0.4057740574603376, 0.4192273030059761, 0.43499042577081487, 0.45229609437103957, 0.4704090034580119, 0.6212392827144313, 0.6172936838686941, 0.6129060660054062, 0.6080188294664292, 0.6025693923537982, 0.5964909297154233, 0.5897136079371611, 0.5821664902329543, 0.5737803295718291, 0.5644915054328608, 0.5542473953840097, 0.5430134910215733, 0.5307825498367402, 0.517585984114703, 0.5035074663857367, 0.4886982896580622, 0.4733932394038634, 0.4579244819024421, 0.44272918971843556, 0.42834452438789444, 0.4153820326283011, 0.4044743420221105, 0.39619283129024163, 0.39094695974135363, 0.38889050214005855, 0.3898671343724154, 0.3934181269977356, 0.39885066447208817, 0.4053421686370696, 0.4120485903359544, 0.41819344658479773, 0.4231291332777123, 0.4263732965152428, 0.4276278515980069, 0.426788164518197, 0.42394741467293917, 0.4193978071440082, 0.41362669291757337, 0.40730201212162326, 0.4012384355165766, 0.3963349345668066, 0.3934793030267929, 0.3934277656437391, 0.39668546456561493, 0.40342525266080254, 0.4134747619758607, 0.426374819871778, 0.44148346177728814, 0.4580882613877888, 0.475498238010956, 0.6186887877168683, 0.6146045571761897, 0.6100879423194379, 0.6050856471735538, 0.5995402509089638, 0.5933909907040726, 0.5865750023047099, 0.5790291845404187, 0.570692891378463, 0.5615116903825247, 0.551442455069956, 0.5404600704171606, 0.5285660053047911, 0.5157989070915889, 0.5022471444596197, 0.48806278233781974, 0.47347571234939173, 0.4588054849992637, 0.4444667875230069, 0.43096275285421953, 0.41885921035372214, 0.4087342288118946, 0.40110286612272766, 0.39632753277576643, 0.3945362597372774, 0.39557629354683554, 0.39902170924653435, 0.4042335866557086, 0.4104522230817182, 0.4168943489917478, 0.4228350323100244, 0.42766601161084783, 0.43093189946844124, 0.4323502349723395, 0.4318216758162992, 0.4294346321136529, 0.4254657320464156, 0.4203743141521123, 0.4147860211784101, 0.40945823158159145, 0.405220093778921, 0.40288467877962364, 0.4031416492076745, 0.4064529730960533, 0.41298270118409786, 0.42258506918484645, 0.4348535075620054, 0.44920991798487564, 0.4650034963301273, 0.48159421463708285, 0.6159104640465114, 0.6116752252806893, 0.607018142775053, 0.6018906785594137, 0.5962411478104723, 0.5900155527670394, 0.583158830124617, 0.5756166671584916, 0.5673380749768346, 0.558278936200547, 0.5484067652934018, 0.5377069236383046, 0.5261904988449575, 0.5139039536511978, 0.5009404192223598, 0.4874520750052038, 0.47366233512209605, 0.4598754837468101, 0.44648000849459296, 0.43394047810950853, 0.422772190929101, 0.41349435485465763, 0.406562720755516, 0.40229146326937576, 0.4007834530141755, 0.4018914786259557, 0.40522539774262484, 0.41020395465157183, 0.41613469028234157, 0.4222997332874663, 0.42803007703372753, 0.43276044184552975, 0.4360649455483184, 0.43767797846260587, 0.43750531122439146, 0.43562897918126575, 0.4323070517392493, 0.42796666631083463, 0.42318614162258755, 0.4186603130275941, 0.41514379695920445, 0.41337140075570894, 0.4139639861160738, 0.4173390038064658, 0.42365077308575927, 0.4327796407108007, 0.44437213350690596, 0.4579160017918783, 0.472825486633402, 0.48851579097892683, 0.6128816280457297, 0.6084808203470395, 0.6036692874302088, 0.5984036250074926, 0.5926383694109978, 0.5863268867376754, 0.5794226234887412, 0.5718808621287669, 0.56366115295853, 0.5547306144219138, 0.5450683053746883, 0.5346708680555293, 0.5235596021889404, 0.5117890257858912, 0.4994567552276413, 0.4867141284777542, 0.47377633063580193, 0.4609298246592401, 0.44853371876249554, 0.4370106373789692, 0.42682241844898944, 0.41842763736083666, 0.4122225632819025, 0.40847442174328663, 0.4072629710353574, 0.40844853438909834, 0.41167830635334834, 0.4164300033712688, 0.4220798834782767, 0.42797731355329566, 0.43351126408221424, 0.4381613227699582, 0.44153243074807946, 0.4433762776264509, 0.44360315804829276, 0.4422870759139262, 0.439664934920361, 0.4361284169350247, 0.43220513530923504, 0.4285245652025129, 0.4257651842797379, 0.4245833594732273, 0.42553188409898823, 0.4289842244401828, 0.4350843452528949, 0.4437369031289194, 0.45463949699623124, 0.4673446682366284, 0.4813322508261365, 0.49607470401004317, 0.6095791203282712, 0.6049960835961562, 0.6000137043182551, 0.5945940059466258, 0.5886981385598062, 0.5822873240617756, 0.5753241019650392, 0.5677740074764888, 0.5596078354609016, 0.5508046544171799, 0.5413557344134508, 0.5312695388450303, 0.5205778882809536, 0.5093433057885342, 0.4976673494538441, 0.4856993695156554, 0.4736445396548043, 0.4617691921394924, 0.45040053432607896, 0.43991705249857355, 0.43072593186950475, 0.42322548576121904, 0.4177545324552938, 0.41453643987355393, 0.41363087956595573, 0.41490761960804184, 0.41805163060585554, 0.4225990126649568, 0.4279939159048998, 0.43365246727573664, 0.4390216130906744, 0.44362605322465815, 0.447101673982486, 0.4492171352922369, 0.4498862808737998, 0.44917343726773756, 0.4472921945017795, 0.4445965128429614, 0.44156150048969134, 0.43875060380051384, 0.4367670853565042, 0.43619125374296935, 0.4375107150488469, 0.4410568366773821, 0.44696293167483025, 0.4551554238378756, 0.46537931658820375, 0.4772486967588643, 0.49030725857214924, 0.5040847627202615, 0.6059796376823388, 0.6011957699997279, 0.5960239232894922, 0.5904317613769584, 0.584387349564083, 0.5778601532621843, 0.5708222660094715, 0.5632499883743435, 0.5551258942458703, 0.5464415190884739, 0.537200790347786, 0.5274242959921898, 0.5171544453394078, 0.506461491729739, 0.49545021595190114, 0.48426675906784356, 0.47310459936976634, 0.46220799243925864, 0.45187044167253454, 0.4424252229170923, 0.4342251556467845, 0.42761032410914995, 0.4228656901115457, 0.4201750197201914, 0.41958147550978103, 0.42096604300934376, 0.42405111653708266, 0.42842926364211964, 0.4336100231989761, 0.43907400379974415, 0.4443244229460701, 0.44892989051899895, 0.4525562548626767, 0.4549880862081273, 0.456141457449184, 0.4560694315746725, 0.4549606338093584, 0.4531300000316508, 0.45099975026859435, 0.44906840223268524, 0.44786683824284534, 0.4479034689200865, 0.4496049954577393, 0.45326345651803546, 0.45900153119286696, 0.4667645835265507, 0.4763404694051675, 0.48740019553141883, 0.49954794639519096, 0.5123692284905232, 0.6020601119152561, 0.5970551011927169, 0.5916732189028282, 0.5858879035369355, 0.5796743513506317, 0.5730105622936602, 0.5658785320460555, 0.5582657048351934, 0.5501668094489663, 0.5415861836706809, 0.5325406602384621, 0.5230630515871603, 0.5132062317758841, 0.5030477531159602, 0.4926948123994338, 0.4822891470379769, 0.4720110554673558, 0.4620812038976277, 0.4527582993082074, 0.44433031575722093, 0.43709715689427675, 0.4313438847460347, 0.4273061795022295, 0.4251330932242933, 0.42485508783419895, 0.42636599031038414, 0.42942476967133514, 0.4336777170874927, 0.43869614077655306, 0.44402155301312596, 0.44921040817385227, 0.45387281816935743, 0.4577026458790027, 0.4604986625993847, 0.4621775591778366, 0.462779642098378, 0.4624674118161388, 0.46151635162466476, 0.46029659926807037, 0.4592442037485692, 0.4588218314556273, 0.4594712645671239, 0.4615633776787237, 0.46535415973586536, 0.47095595476480506, 0.47833027598326094, 0.48730297426849584, 0.49759664251901836, 0.50887154544292, 0.5207661950651328, 0.5977981390821756, 0.5925502685550497, 0.5869362022533168, 0.5809352147544133, 0.5745297720521031, 0.5677066150467698, 0.5604578912268325, 0.5527824483030758, 0.5446874042208623, 0.5361900721128854, 0.5273202638914546, 0.5181229457736732, 0.5086611859445239, 0.4990193074488752, 0.4893061006911475, 0.4796578080069898, 0.4702403251327318, 0.46124966791350314, 0.45290930023686465, 0.4454625970623883, 0.43915883225729935, 0.43423198575845595, 0.43087353653438465, 0.42920294657598246, 0.4292418023958772, 0.4308982696499408, 0.43396679139612204, 0.4381442127263515, 0.4430593404676013, 0.4483101525459262, 0.4535023333544059, 0.458284140422766, 0.46237470934535096, 0.4655847607460413, 0.4678297629734297, 0.46913588647106974, 0.4696387996345463, 0.4695748504895709, 0.46926383618131373, 0.46908276664438087, 0.4694310886781399, 0.47068980759128903, 0.4731793943530006, 0.47712329697730244, 0.4826240568997867, 0.48965677643396976, 0.4980805341378222, 0.5076639717003784, 0.5181184823056962, 0.529132055695526, 0.593172463961838, 0.5876589901167404, 0.5817894636962649, 0.575548991059524, 0.5689273813308774, 0.5619202540389246, 0.5545300785896703, 0.5467672675629418, 0.5386514405806875, 0.5302129167667848, 0.5214944090109656, 0.5125528230400782, 0.5034610386279937, 0.49430956734622195, 0.48520800298030836, 0.4762861476861557, 0.4676945545374008, 0.4596039533566665, 0.4522026606746442, 0.4456907465703001, 0.44026967687012747, 0.4361266615413641, 0.4334142115176626, 0.43222729274084454, 0.432582336158775, 0.43440325755034914, 0.4375188115641765, 0.4416731020962957, 0.446547870579818, 0.4517926219830581, 0.4570576076745705, 0.4620251761195473, 0.46643638081831706, 0.4701112180559212, 0.4729619309388692, 0.474999299005791, 0.47633184620390073, 0.4771577018188115, 0.4777487515552857, 0.4784270232556016, 0.47953417506989665, 0.4813964800912343, 0.48428945807702284, 0.4884075588884128, 0.4938442341859297, 0.500585944111463, 0.5085205582115093, 0.5174573706209777, 0.527153790672497, 0.5373433134174818, 0.5881635262018345, 0.5823611268580821, 0.576212270830277, 0.5697078341399991, 0.5628449904612595, 0.5556283258532655, 0.5480707448374871, 0.540194311173795, 0.5320311583662524, 0.5236245182515333, 0.5150297909676671, 0.5063154808045067, 0.49756380387110904, 0.48887084539393555, 0.48034626408861053, 0.47211263244961016, 0.46430448848044015, 0.45706700671690087, 0.4505538731753823, 0.4449235464166201, 0.44033279066004793, 0.4369264583185087, 0.4348232392763369, 0.4340985085729681, 0.4347671006878348, 0.43677005483609127, 0.43996935071503745, 0.44415314079665846, 0.4490515034091913, 0.4543603096765325, 0.4597693241232727, 0.4649904617201738, 0.4697829051678682, 0.4739729561804128, 0.47746753672726205, 0.4802609123854015, 0.4824344805919216, 0.4841495226349242, 0.4856329054924878, 0.48715607685761597, 0.48900847109209084, 0.49146759510866217, 0.4947692915203224, 0.4990824577657143, 0.5044922955878097, 0.5109947506587095, 0.5185025009746206, 0.5268604501326805, 0.5358670192804798, 0.545297065014552, 0.5827540761081275, 0.5766393659229656, 0.570187328606654, 0.563394497433673, 0.5562653942232647, 0.5488136308077685, 0.5410626288382911, 0.5330461405754775, 0.5248087474063682, 0.5164063922793038, 0.5079068224181658, 0.49938967736297013, 0.4909459426473296, 0.482676627097154, 0.47469075848784703, 0.46710302370951273, 0.46003149652632896, 0.45359581539003097, 0.44791585288853375, 0.44311038478708276, 0.4392946742965084, 0.4365755435599325, 0.4350427778179904, 0.4347567975602073, 0.43573422641858167, 0.4379346063227196, 0.44125222300380373, 0.4455162883008071, 0.4505007631108013, 0.45594270755484123, 0.46156616922596677, 0.4671078361960189, 0.4723409665693006, 0.4770950246513868, 0.4812694918025415, 0.4848411353225389, 0.4878645123177627, 0.4904657494832332, 0.49282986162614734, 0.49518224156129825, 0.49776558142748456, 0.5008143291748078, 0.5045296168997777, 0.5090580541256063, 0.5144775095948811, 0.5207918886444446, 0.5279351921650977, 0.535783355685558, 0.5441710887198962, 0.5529104965759725, 0.5769298694002203, 0.5704799799819013, 0.5637016107267552, 0.556596795215562, 0.5491773626193406, 0.5414660032229309, 0.5334967347091171, 0.5253150145683719, 0.516977750282834, 0.5085532980898316, 0.5001212864319432, 0.49177189513089165, 0.4836042028493384, 0.4757234306892243, 0.4682372861225543, 0.46125199928488375, 0.45486888900027966, 0.4491822808192394, 0.44427924501872296, 0.44024091479846844, 0.4371442195812106, 0.4350620838638085, 0.43406000225706726, 0.4341877808678841, 0.4354670534838008, 0.4378772824186466, 0.44134435964634716, 0.4457358659088722, 0.4508654462584404, 0.45650630374779216, 0.4624115328801363, 0.46833770574806544, 0.4740679923122749, 0.47943182316242705, 0.4843191648591668, 0.4886884499540193, 0.49256789548768437, 0.496050377523426, 0.4992823458376477, 0.5024476199310094, 0.5057473976137418, 0.5093784032788686, 0.5135116431228343, 0.5182744701506763, 0.5237383691003884, 0.5299139888399791, 0.5367536560086157, 0.5441602677267652, 0.5520004773981849, 0.5601196958376944, 0.570680451136102, 0.5638736731304065, 0.5567472731437125, 0.549308585945474, 0.5415766937544851, 0.5335834329227407, 0.52537352239685, 0.5170041513998707, 0.5085443986611982, 0.5000746483237598, 0.49168581089730945, 0.48347785732960313, 0.47555713830375596, 0.46803226717475116, 0.46100888903685294, 0.4545842212292828, 0.4488426182763662, 0.4438534389360088, 0.4396720745001551, 0.43634408903044625, 0.43391114480814363, 0.43241616023566765, 0.431904631042555, 0.432419795679235, 0.43399136793002047, 0.43662020074123853, 0.44026332839444704, 0.4448243415525818, 0.4501526916920437, 0.45605291358578004, 0.4623020423485568, 0.4686716996274941, 0.47495083616812395, 0.48096571198679966, 0.48659481712390623, 0.4917775726836021, 0.4965165256777891, 0.5008733245570202, 0.5049591422937962, 0.5089205412485063, 0.5129221393916185, 0.517127835245422, 0.5216826732489077, 0.5266975177615331, 0.5322384112548754, 0.5383217915362235, 0.5449157638484048, 0.5519466194503359, 0.5593090335481674, 0.5668780352509373, 0.5640000391054557, 0.5568165238502233, 0.5493226609324977, 0.5415308422083187, 0.5334673411439776, 0.5251732414271435, 0.516704124172392, 0.5081289783993853, 0.49952888939225953, 0.49099580202022186, 0.48263116136621176, 0.4745437918250423, 0.4668462995704514, 0.4596496965703476, 0.4530566935504766, 0.44715486979667646, 0.4420114052427319, 0.4376710906610608, 0.4341588222501053, 0.43148667026395626, 0.4296639837590501, 0.4287073296466237, 0.428646188845982, 0.4295210005146665, 0.4313724818799767, 0.43422438984235867, 0.43806465781516024, 0.44283085727438226, 0.4484047206864402, 0.45461761287634467, 0.46126564603334347, 0.468130845317116, 0.4750039750477715, 0.481705153602555, 0.48809960956620946, 0.49410724947527007, 0.4997057548223799, 0.5049276155341366, 0.5098519260285951, 0.5145920560989369, 0.5192805619470584, 0.524052942025973, 0.5290320072702311, 0.534314621325105, 0.5399622852990134, 0.54599648136807, 0.5523989428708863, 0.5591162585698483, 0.566067631660468, 0.5731543243544324, 0.5568885158999317, 0.5493110341537468, 0.5414334183049221, 0.5332728183836905, 0.5248626281533576, 0.5162533264972101, 0.507511600197511, 0.49871837979134775, 0.489966606309795, 0.4813592400203747, 0.47300734355378576, 0.46502742465200136, 0.45753707094355595, 0.4506484487385255, 0.44446024396796935, 0.4390496115713804, 0.43446626497081525, 0.4307308243711838, 0.427838916483326, 0.4257712091194404, 0.42450761541454174, 0.4240418115883478, 0.42439097504914913, 0.4255962494271347, 0.4277121184178564, 0.4307867616933765, 0.43483894482486063, 0.4398384932482961, 0.44569625798688717, 0.4522663004079418, 0.4593592896113032, 0.46676332070716564, 0.4742672914004298, 0.4816824725646552, 0.48885928281434166, 0.4956977980313597, 0.5021517442839732, 0.5082265098319091, 0.5139721500104139, 0.5194725952957754, 0.5248324245221856, 0.5301626766106549, 0.5355672202825056, 0.5411311192234836, 0.5469121653548659, 0.5529363008213245, 0.5591970746063407, 0.5656587003026079, 0.5722618253950007, 0.5789308787185764, 0.5493525361252426, 0.5413672904336791, 0.533093707229999, 0.5245533225402258, 0.5157865577781707, 0.5068534846206135, 0.49783224253833724, 0.4888159491916772, 0.47990928814947315, 0.47122561386557815, 0.46288449429652473, 0.4550086673838686, 0.4477191018215289, 0.4411275412219951, 0.43532724666565625, 0.4303839109179796, 0.4263293354281293, 0.423160332015495, 0.42084453917726794, 0.41933338486896604, 0.4185802231333315, 0.4185591778788734, 0.41927860534417466, 0.42078359518293224, 0.4231449602734854, 0.426436758880098, 0.43070862603075016, 0.43596116970692034, 0.4421315599033282, 0.4490928424811474, 0.4566661638331954, 0.4646417875380125, 0.4728034680164927, 0.48095127926841785, 0.48891957020936566, 0.4965884670535898, 0.5038887302530123, 0.5108006431527793, 0.5173480504246273, 0.5235888446566161, 0.5296032585849687, 0.535481326988799, 0.5413108385944976, 0.5471669698131147, 0.5531045445511699, 0.5591534954358839, 0.5653176549961811, 0.5715765600922356, 0.5778895967435365, 0.584201609207712, 0.541406750273352, 0.5330042350247582, 0.524327531939944, 0.5154020895223408, 0.5062752156687822, 0.49701681044570634, 0.48771692621347335, 0.47848124177221646, 0.4694261297218332, 0.46067464291662963, 0.452353518966979, 0.44458993583757894, 0.4375062466037368, 0.4312117838000944, 0.4257925913160948, 0.4213015328286175, 0.4177518447136686, 0.41511684757806877, 0.4133375730289773, 0.41233853150533023, 0.412049499712615, 0.4124283536418523, 0.41347792492041047, 0.4152502127854613, 0.4178346523309282, 0.42133247351216435, 0.42582422614192245, 0.431340024849305, 0.43784091877854925, 0.44521570347713263, 0.4532924629710049, 0.4618602775267197, 0.4706949944155897, 0.4795835785296861, 0.48834337995170607, 0.4968346566263861, 0.5049662467972331, 0.5126952244383053, 0.5200218007101914, 0.5269808534586812, 0.5336314405562815, 0.5400455720998775, 0.546297403850107, 0.5524538535732577, 0.5585674106857479, 0.5646716046900264, 0.5707792466959253, 0.5768832132352282, 0.5829592620230645, 0.5889702005241032, 0.533075138991313, 0.5242510372817009, 0.5151701534557852, 0.5058612361666683, 0.4963782459740581, 0.48680115228867304, 0.4772324848510143, 0.46779099870125507, 0.45860477890347195, 0.44980580661761904, 0.4415264014425342, 0.4338960010306617, 0.4270358856093078, 0.4210505124507447, 0.4160164637633083, 0.4119720289287224, 0.4089109942211366, 0.40678347979922724, 0.40550546159713263, 0.40497712435825045, 0.4051078739048126, 0.4058427011159674, 0.4071820578188053, 0.4091875011018215, 0.4119690135852628, 0.4156559999450856, 0.42035986284075433, 0.4261390761038181, 0.4329764875056589, 0.44077394684321297, 0.4493635789783939, 0.4585305929800626, 0.468040776634126, 0.4776665766445181, 0.4872077733955847, 0.49650503220783043, 0.5054463374996381, 0.5139673115783336, 0.5220468271135955, 0.529699376595356, 0.5369655569743566, 0.5439018732960522, 0.5505708987882673, 0.557032645575027, 0.5633377835503707, 0.569523089371437, 0.5756092281595222, 0.5816007005676054, 0.5874875670675699, 0.593248421413301, 0.5243924401322226, 0.5151485383301145, 0.5056695591313275, 0.4959867554790499, 0.486160350877344, 0.4762805705056768, 0.46646305350316475, 0.4568402791155546, 0.4475521520557556, 0.43873873585779155, 0.4305360668673277, 0.42307322551948445, 0.41646745129997176, 0.4108153483098697, 0.4061813205054117, 0.40258695788930626, 0.40000550050795713, 0.39836418430135256, 0.3975557378877268, 0.397458994720899, 0.3979665345041554, 0.3990139643330571, 0.4006023662114029, 0.4028051297324388, 0.40575422241729864, 0.4096077906900204, 0.4145077950772786, 0.4205399815169299, 0.427707279941591, 0.43592250569898655, 0.44501967272510884, 0.4547781996383402, 0.46495235591220185, 0.47529921053210417, 0.48560077195671736, 0.4956785655860457, 0.5054007836408004, 0.5146831840111796, 0.5234852914583765, 0.5318034431456844, 0.5396620430765817, 0.5471041733619122, 0.5541825016331148, 0.5609512246516899, 0.5674595841611549, 0.5737472735077084, 0.5798418283188622, 0.5857578811662508, 0.5914979844091885, 0.5970545893297284, 0.5154056351870578, 0.5057507238880042, 0.4958879263837026, 0.48584997329876706, 0.4757027237246345, 0.4655466978837911, 0.45551126847501733, 0.445743378550883, 0.4363949313962755, 0.4276131463766149, 0.4195356162729112, 0.4122879801937947, 0.40597993356076606, 0.40069673854942134, 0.3964874710084528, 0.3933545840362613, 0.3912495472727198, 0.3900771437717417, 0.38970901325920737, 0.3900060875232016, 0.3908480841182709, 0.3921649142867537, 0.39396115765486767, 0.39632386288112825, 0.39940780257993835, 0.40339984694142245, 0.4084718625678331, 0.41473577773195475, 0.42221326102180246, 0.430826677024947, 0.4404106132541583, 0.4507376320345068, 0.4615497760174736, 0.47258844813802864, 0.48361804253150675, 0.49444154666757334, 0.5049083821025442, 0.5149158320122116, 0.5244057466319817, 0.5333581432096135, 0.5417830749471871, 0.5497118744395109, 0.5571886351517785, 0.5642625837292287, 0.5709818024532823, 0.5773885728401832, 0.5835164268995254, 0.5893888217639441, 0.5950192121612927, 0.6004121984212958, 0.5061754404374601, 0.49612615419627415, 0.48590298719500974, 0.47553884846778305, 0.4651042719354477, 0.45470983698833567, 0.44449914166572496, 0.43463433534496787, 0.4252795283939547, 0.4165880787533765, 0.40869667900236367, 0.40172397507551855, 0.39576809586445616, 0.39089902149646033, 0.3871470316703194, 0.38449284799635164, 0.3828649770924842, 0.38214642434664203, 0.3821903320709463, 0.38284369911002575, 0.38397778177076963, 0.3855206643463058, 0.3874831103618399, 0.38996712464900646, 0.39315036926688385, 0.3972477048641564, 0.4024597898242203, 0.40892359002855966, 0.41667855004787074, 0.42565589086946165, 0.4356903590035466, 0.4465474989910145, 0.4579571908013236, 0.4696454470426236, 0.4813595372311104, 0.49288462663127597, 0.5040523162375443, 0.5147425883070992, 0.5248809738145069, 0.5344326274117396, 0.5433946977002465, 0.5517880684949725, 0.5596492784409981, 0.5670232070329877, 0.5739569298832851, 0.5804949797977109, 0.5866760961552291, 0.5925314060950884, 0.5980838659692799, 0.6033487101146755, 0.49677772022801986, 0.48635924893008614, 0.475809161632332, 0.4651589478378359, 0.4544824219865503, 0.44389955113402924, 0.4335683373131126, 0.4236667310393513, 0.4143712024206201, 0.4058401222052523, 0.39820655680763056, 0.39157819039271086, 0.38603712285842356, 0.38163379341186426, 0.3783761023628318, 0.37622054001471045, 0.37507172868036254, 0.37479197687093946, 0.37521900826294236, 0.37619034371997556, 0.37757354213512156, 0.379298831998315, 0.3813855925669374, 0.3839514770255726, 0.38719630121958193, 0.39136138169903734, 0.39667452220583144, 0.40329648955303615, 0.41128392044915585, 0.42057694212369795, 0.4310109655583774, 0.44234526251353434, 0.4542983666540684, 0.466581702378566, 0.4789261926181616, 0.49109997160748525, 0.5029176743318131, 0.5142429346101368, 0.5249860151024209, 0.5350983171369011, 0.5445651755955527, 0.5533979973843847, 0.5616265127765221, 0.5692916826406156, 0.5764396251488106, 0.5831167752553829, 0.5893663583733257, 0.5952261440991563, 0.6007273504030519, 0.6058944992797424, 0.48730470388193525, 0.47655128821837955, 0.4657182870398255, 0.4548338757330122, 0.44397323227180363, 0.4332644228218667, 0.4228794832150046, 0.4130123903232104, 0.4038519302848848, 0.39556022514291656, 0.3882637906685118, 0.38205509473725563, 0.37699547552655976, 0.37311147457717087, 0.3703852044859424, 0.36874685524309125, 0.36807681729865, 0.3682183640568971, 0.3689973724508128, 0.37024669744424527, 0.37183514450828736, 0.37369899764874265, 0.37586832245192947, 0.3784764521942912, 0.3817437746644279, 0.3859357097274984, 0.39130501104427073, 0.3980348987619462, 0.4061989740739061, 0.41574703191350704, 0.4265165284434644, 0.4382620546965217, 0.4506922983806242, 0.46350535746536115, 0.47641682018648807, 0.48917862187481853, 0.501589179400785, 0.5134965210344691, 0.524796418768343, 0.5354273266132454, 0.545363553108647, 0.5546077229303281, 0.5631832763027429, 0.5711275220693979, 0.5784855838340415, 0.5853054389513572, 0.5916341337715288, 0.5975151596950924, 0.6029868934983394, 0.6080819450481786, 0.4778658431695721, 0.46682094956653003, 0.45575972911202567, 0.4447048929581862, 0.4337304852955934, 0.4229705861583285, 0.4126100712118721, 0.4028585097426727, 0.3939165641411444, 0.38594867460012466, 0.3790718142850072, 0.37335893517970004, 0.36884589971012555, 0.36553121497963525, 0.3633683298799708, 0.36225987429319517, 0.36206255099838963, 0.3626029948883773, 0.36369924227480577, 0.365184424997538, 0.3669334333834323, 0.3688922199889878, 0.37110311411171293, 0.3737144771267954, 0.3769648890862372, 0.3811407717992849, 0.38651713115043124, 0.39329818159317453, 0.401574564496142, 0.4113071197664026, 0.42233748304192026, 0.4344178757683933, 0.44724920775582677, 0.4605178809954847, 0.47392533652135366, 0.48720815975950804, 0.5001491975656417, 0.5125814377229135, 0.5243867152899301, 0.5354910991931787, 0.5458584178817711, 0.5554829899788596, 0.5643823053268168, 0.5725901616687843, 0.580150585595002, 0.5871127326032503, 0.593526854635638, 0.5994413359365948, 0.6049007270649982, 0.6099446531830046, 0.46858809466620116, 0.45730415703588845, 0.4460796284243237, 0.43492943671550405, 0.42392341124196775, 0.413198620783078, 0.40295048506154735, 0.39340274177392154, 0.38476684756848073, 0.3772079177388832, 0.3708305259254251, 0.36568413408379885, 0.361774858393338, 0.35906966302491317, 0.3574913711593402, 0.3569149499806752, 0.35717510849122147, 0.35808505840835747, 0.35945930508340507, 0.3611360321643704, 0.3630005947774526, 0.36501164384404305, 0.36722471660635025, 0.3698018831749921, 0.372996864335808, 0.377113390886725, 0.3824456319327867, 0.38921724149135317, 0.3975361922322154, 0.4073761964897281, 0.4185857565137245, 0.43091756003555665, 0.444067216366533, 0.4577113229649396, 0.4715384818149011, 0.48527078577827365, 0.49867608751136916, 0.51157277383435, 0.5238291394050293, 0.5353592588949052, 0.5461168566864756, 0.556088266812291, 0.5652852422099205, 0.5737381232374511, 0.5814896951770906, 0.5885899321179671, 0.5950917232781057, 0.6010475972547908, 0.6065073953416292, 0.6115167959385922, 0.45961535529271064, 0.44815297889590106, 0.4368390204121899, 0.42567826686960053, 0.4147327392721188, 0.40413846725633656, 0.39409779460486133, 0.3848458982159515, 0.3766030511954137, 0.36953316499028116, 0.36372596277310215, 0.3592042577790256, 0.35594113783381176, 0.3538696095110467, 0.3528811641698528, 0.3528243881148538, 0.35351495022524865, 0.3547566381444865, 0.356364844201517, 0.35818709151336614, 0.36012276760851236, 0.36214538900810894, 0.3643238898919808, 0.36683211958557593, 0.3699354062820191, 0.3739507331451411, 0.37918811438803696, 0.385889019892653, 0.3941791396781568, 0.4040471089455679, 0.4153512684211452, 0.4278478848615661, 0.4412299652417382, 0.45516633983686583, 0.46933415450406796, 0.4834418844477883, 0.4972429391014725, 0.5105414884440718, 0.5231926064310384, 0.5350986742759314, 0.5462035939439455, 0.5564859474935274, 0.5659518912623771, 0.5746283134108615, 0.5825565959669027, 0.5897871876197112, 0.5963750933551835, 0.6023763098622701, 0.6078451752241609, 0.6128325552467379, 0.4511067311367258, 0.4395332837982616, 0.4282105804019311, 0.41713103335829027, 0.4063449085792857, 0.3959822293257343, 0.3862472287317709, 0.3773822767771315, 0.36961339688374373, 0.36310119113451017, 0.35791879901343643, 0.35406059087942576, 0.3514649283115204, 0.35002999431736276, 0.34961672791080317, 0.3500500284701187, 0.35113063272152994, 0.3526575038349553, 0.3544512106586931, 0.35637214114807, 0.3583361943921401, 0.36033284728435216, 0.36244379134342575, 0.3648522095830826, 0.36783124870283757, 0.37170698764234666, 0.3768019258283727, 0.38337368588841836, 0.39156601292680976, 0.40138447155295154, 0.41270018784808865, 0.42527611896262374, 0.4388053866135734, 0.45295112444570745, 0.4673804464833456, 0.4817891283502308, 0.49591672534118475, 0.5095536013641337, 0.5225419403232264, 0.5347727253631644, 0.5461802992526077, 0.5567356999158732, 0.5664396047801802, 0.5753154430307039, 0.5834030369122496, 0.5907529922506675, 0.5974219561200296, 0.603468783027551, 0.6089515923874991, 0.613925655550802, 0.443233300710102, 0.43162087191752246, 0.42037380328805785, 0.4094701970546188, 0.39894451162942074, 0.3889150838110701, 0.379581706076437, 0.3711881728592576, 0.3639620587794424, 0.3580583938888805, 0.3535330133785459, 0.35035190618020245, 0.34841911361126127, 0.3475990243726044, 0.34772434863424406, 0.3486002022361503, 0.3500173196191135, 0.3517747174060196, 0.35370205878839595, 0.35567518686879773, 0.3576277724721538, 0.35956519207458865, 0.3615804308751312, 0.36386316912772987, 0.3666905557917806, 0.3703937639315502, 0.3753045543818436, 0.38169502145968853, 0.3897271034908921, 0.39942498211762567, 0.4106751753423718, 0.423250162562881, 0.43684572125841625, 0.45112129136298496, 0.4657354007835085, 0.4803721241421816, 0.49475786063434385, 0.5086696909488294, 0.5219373376059164, 0.5344407564984163, 0.5461050463515791, 0.556893941930813, 0.5668027816729944, 0.5758515490707837, 0.5840783755710403, 0.5915337428267646, 0.5982755152456278, 0.6043648557128759, 0.6098630189938876, 0.6148289735016117, 0.43617307666917393, 0.4245958639722856, 0.413508546939187, 0.40287344374374795, 0.3927053698203167, 0.383104985842573, 0.3742604010036927, 0.366409827598889, 0.35977723798849814, 0.3545098123584664, 0.3506465706300397, 0.34812731853045265, 0.3468245721416195, 0.3465719861898419, 0.3471777745354782, 0.34843198893995164, 0.3501206168209671, 0.35204747779625345, 0.35405466245752765, 0.3560350824987108, 0.357940267349297, 0.35979035115028796, 0.3616874259829904, 0.3638245926315334, 0.3664793590674452, 0.3699843499840966, 0.37467763379146696, 0.3808440793742101, 0.388663612785018, 0.3981801523362482, 0.40929759254591236, 0.4218002422765282, 0.43538873251483823, 0.44972066439318564, 0.46444743944118483, 0.47924255267289406, 0.4938201234955062, 0.5079446632681607, 0.5214340371980032, 0.5341576897901559, 0.5460319018137226, 0.557013426458635, 0.5670924613716406, 0.576285602966384, 0.5846292018870264, 0.592173377498971, 0.598976835907199, 0.6051025549345305, 0.6106143402351181, 0.6155742128959125, 0.4301040132512391, 0.4186352895570113, 0.4077870638466191, 0.39750499196775585, 0.38778099730486765, 0.3786923228386655, 0.3704078837109178, 0.36315266202905944, 0.35714134522899155, 0.3525111703281891, 0.3492860594889481, 0.3473839094878759, 0.3466508155142587, 0.3468946472894956, 0.3479039618877059, 0.349458800374729, 0.3513454445971398, 0.35337673245604345, 0.355409776168352, 0.3573552713046017, 0.35918172283810385, 0.3609220233093698, 0.3626846590369251, 0.3646630060959148, 0.3671316161176527, 0.37042140816592106, 0.37487413950445253, 0.3807857138165837, 0.3883533715331008, 0.39764112529032897, 0.4085713954185423, 0.42094192033598715, 0.43445991824829266, 0.4487828055891666, 0.46355633455311207, 0.4784447047446612, 0.4931508686015306, 0.5074277359554914, 0.5210821534646053, 0.5339737668145127, 0.546010618425636, 0.5571429155317285, 0.5673559962285009, 0.5766631905958849, 0.5850990291624754, 0.5927130776347046, 0.5995645558730947, 0.605717814116859, 0.6112386786190335, 0.6161916345879939, 0.4251951793534177, 0.4139040890640349, 0.40336491806451424, 0.393506471896794, 0.38429549426088894, 0.37578096288994106, 0.3681056488648823, 0.3614738501707195, 0.35608537059714285, 0.3520658069300165, 0.349426727358189, 0.3480700216153423, 0.34782229618489857, 0.34847205395410275, 0.3497937382925621, 0.35156231908675095, 0.35356875179317504, 0.3556382555538853, 0.3576447386782438, 0.35951665479328976, 0.36123793279536476, 0.36285169456226685, 0.3644698539535886, 0.3662830350159267, 0.3685599516816335, 0.37162718665322686, 0.3758278911440728, 0.3814671642325627, 0.3887583239822887, 0.39778495324478125, 0.40848819082919907, 0.4206799987870887, 0.4340753913334707, 0.4483330329962495, 0.46309453262201167, 0.4780162725744595, 0.4927914267256764, 0.507162564073874, 0.520926620793308, 0.533934381681533, 0.5460864065403923, 0.5573269233073632, 0.5676367867560157, 0.5770262508817233, 0.5855280407079825, 0.5931910232412659, 0.6000746484224951, 0.6062442416436968, 0.611767166633684, 0.6167098325683051, 0.42159661325038206, 0.41054511918357184, 0.40037150575338476, 0.39098828388323936, 0.38233601893413754, 0.37443209758053764, 0.367387621130591, 0.3613798535710566, 0.35658886732728323, 0.3531274815942411, 0.3509982822558019, 0.3500939245900572, 0.3502294910571849, 0.35118138570561874, 0.35271575883678374, 0.3546070148472414, 0.3566542352104648, 0.35869735893925986, 0.3606280367303921, 0.36239189504634756, 0.3639863886919633, 0.3654621732803407, 0.3669316754392639, 0.3685800471614199, 0.37066778116989973, 0.3735149889946522, 0.377464168383611, 0.38282759533936345, 0.3898328052397239, 0.3985815077168375, 0.4090327762502607, 0.4210127780620116, 0.43424501166470814, 0.448390613948435, 0.4630886025701702, 0.4779892321822979, 0.49277757652276033, 0.5071874275464818, 0.5210071944955745, 0.5340799677096894, 0.546299757351016, 0.55760550960207, 0.5679740660043683, 0.5774128621310162, 0.5859528828566954, 0.5936421934249595, 0.6005402289825043, 0.6067129317385389, 0.6122287601623881, 0.617155548922876, 0.41942882699880885, 0.4086691609356515, 0.3989011959508094, 0.39002245892913473, 0.3819478471428649, 0.37466183443946033, 0.36824046291048074, 0.3628294927117484, 0.3585857267881078, 0.35560869894009284, 0.353895512095474, 0.353336348167488, 0.3537428383825223, 0.35488671289431223, 0.356531543241288, 0.3584550805503625, 0.360467000806926, 0.36242326472152053, 0.36423343639804034, 0.3658593328063073, 0.3673099654873013, 0.3686409912190553, 0.3699627773155319, 0.3714527646373964, 0.37336136997511715, 0.3760005174628584, 0.37971013667905723, 0.3848073990416297, 0.3915315552189384, 0.4000001223064898, 0.4101884254954057, 0.42193608747900757, 0.4349753244985687, 0.4489708037602024, 0.4635605691706154, 0.4783906489548981, 0.4931399726143455, 0.5075354020507521, 0.5213584560273586, 0.5344459033737764, 0.5466862953655578, 0.5580141086083421, 0.5684027222313986, 0.5778570678477164, 0.5864064974326605, 0.594098205600318, 0.6009913994313382, 0.6071523116935104, 0.6126500867371989, 0.6175535219131192, 0.41877330177288863, 0.4083462400577327, 0.3990062735105627, 0.390637973647814, 0.3831326455303227, 0.3764427561134703, 0.3706084324795213, 0.3657418061779628, 0.3619745064525899, 0.35939287158171757, 0.3579916757421377, 0.35766458461877476, 0.3582271147489093, 0.35945326903871183, 0.36110934307830617, 0.3629797283539171, 0.3648862890109347, 0.36670139150596204, 0.36835200696998466, 0.3698148839880198, 0.37110873868353744, 0.3722921030063945, 0.37347128468792445, 0.37481439017565166, 0.37656043877565304, 0.3790117736162903, 0.38250385464875875, 0.3873561398880643, 0.39381648293236676, 0.40201513016008605, 0.4119412355237511, 0.4234465490248446, 0.4362718967413652, 0.45008643046350794, 0.46452891914479233, 0.47924325938570883, 0.49390443099021036, 0.508234448264956, 0.5220097805650766, 0.535062410896902, 0.5472766432832201, 0.5585833820513127, 0.568953152666503, 0.5783887367338716, 0.586917989292443, 0.5945871893775722, 0.6014551259996848, 0.6075880212713229, 0.6130553243601229, 0.6179263628972315, 0.4196654430966353, 0.40959962737821615, 0.40069278766103017, 0.39281919182179476, 0.38585005545837325, 0.3797088773724564, 0.3744015477877588, 0.3700068613253414, 0.366631048149769, 0.36434783337986787, 0.36315213713666444, 0.3629457227870621, 0.36355398613685747, 0.36475919005948937, 0.36633502942996743, 0.36807526385808037, 0.3698148640305575, 0.3714422669705963, 0.372900792893884, 0.37418066501967084, 0.37530866182388883, 0.3763446029039382, 0.3773894423713099, 0.37860101887402764, 0.3802061452302342, 0.3824964213546731, 0.3858008571441622, 0.390438240822964, 0.3966613936582149, 0.4046096333110987, 0.4142829978574356, 0.4255436573618797, 0.43814073955113536, 0.45174880137778944, 0.4660091242564865, 0.4805657244929556, 0.4950920038208205, 0.5093073767349224, 0.5229852409006467, 0.5359544321200791, 0.5480962904419959, 0.5593390917456718, 0.5696511453462911, 0.579033454769847, 0.587512527084855, 0.5951336931699714, 0.6019551485488611, 0.6080428217664507, 0.6134661081390689, 0.6182944592012614, 0.4220912263004385, 0.4124035905421472, 0.40392003859908315, 0.39650765045013314, 0.3900221565415451, 0.3843628638069656, 0.3795052651491636, 0.37549723465601614, 0.37242085985638584, 0.3703381931690083, 0.3692459527478336, 0.36905704818280216, 0.3696111040026711, 0.37070338714469625, 0.372118906310438, 0.3736630251906645, 0.37518427830581796, 0.3765863418449032, 0.37782741449102497, 0.378909589471884, 0.3798662897205834, 0.3807575948466737, 0.381678543534893, 0.3827764620375527, 0.3842656132346479, 0.3864258515042048, 0.3895776352287404, 0.3940358201923284, 0.4000541828198301, 0.40777710013618773, 0.4172122787932307, 0.4282304395488938, 0.4405886480931607, 0.4539678161511538, 0.4680136065617762, 0.4823725089594252, 0.4967188172656261, 0.5107716744983418, 0.5243034414148913, 0.5371414797213917, 0.5491654650992938, 0.5603019927001038, 0.5705177902930432, 0.5798124503526559, 0.5882112777173903, 0.5957586234553978, 0.6025119206267867, 0.6085365336664157, 0.6139014633237057, 0.6186759012889208, 0.42598816429432557, 0.416685347193961, 0.40860383504416736, 0.40160688563643415, 0.3955399931364262, 0.3902841826180707, 0.38578991912278493, 0.3820781571285039, 0.3792092279279332, 0.37723468238064467, 0.3761539012412451, 0.3758924858113123, 0.37630697556200143, 0.37720904979616565, 0.37839812157428915, 0.37969296088225446, 0.38095583765854796, 0.3821045441716139, 0.3831104145900628, 0.3839857007706842, 0.3847692421522548, 0.3855208429750599, 0.38632972090631146, 0.38733305547672015, 0.388732607872656, 0.39079559896989535, 0.3938317311724861, 0.39814846731434794, 0.40399634707996185, 0.4115206945896345, 0.42073365401300244, 0.43151267112522484, 0.4436224563520753, 0.4567512972313604, 0.47055116349471016, 0.4846734059356931, 0.4987956916711317, 0.5126392107876944, 0.5259772967454747, 0.5386374756169663, 0.550499019811438, 0.5614877538118986, 0.5715694252226076, 0.5807425561631904, 0.5890313769784898, 0.5964792181671988, 0.6031425810107279, 0.6090860030343738, 0.6143777644304336, 0.6190864336251376, 0.4312504328744408, 0.4223308978397449, 0.41462299832603644, 0.4079895435923877, 0.40227118235184117, 0.39733702156518574, 0.3931186631253524, 0.38961508443667797, 0.3868679661403335, 0.38491965586898275, 0.38377242964528363, 0.38336487832756205, 0.3835716673666441, 0.38422301971431877, 0.38513501099328323, 0.3861412139802414, 0.38711763254722237, 0.3879949218037191, 0.38875566927655825, 0.38942051351067103, 0.39003262010973294, 0.3906513504729448, 0.39136069694929715, 0.39228852403260117, 0.39362443421684085, 0.3956222214228051, 0.39857859913681176, 0.4027901455716958, 0.408500026333878, 0.4158505581126476, 0.42485530955809087, 0.43539683987252736, 0.4472473711736311, 0.4601036728664071, 0.4736259601405032, 0.48747279034517105, 0.5013276065312338, 0.5149158678235919, 0.5280137885230242, 0.5404506004183764, 0.5521063468002109, 0.5629069179858234, 0.5728176240017259, 0.5818362134148666, 0.5899859401476526, 0.5973090567534755, 0.6038609583562566, 0.6097050975797604, 0.6149087209666066, 0.6195394294352453, 0.437737246053484, 0.4291937415363901, 0.42182807709565096, 0.4155057627302277, 0.41006767577813685, 0.4053771951580211, 0.40135332670915624, 0.39797833808124994, 0.39527869100406854, 0.39328887636925264, 0.3920138720406334, 0.3914046520628514, 0.39135404517516437, 0.3917118295457722, 0.39231220207436435, 0.39300453094461985, 0.3936784302290311, 0.39427614566061414, 0.39478961659345135, 0.3952460939590491, 0.39569207025816244, 0.39618651779803304, 0.39680910052398544, 0.39767947934830944, 0.3989756252799794, 0.4009372078332167, 0.4038458061781419, 0.40798379419693126, 0.413583125416019, 0.42077954949979135, 0.42958545381677044, 0.4398872318418742, 0.45146468874994766, 0.4640242495430794, 0.47723626819264153, 0.4907687331373991, 0.504313105751063, 0.5176011643008288, 0.5304137472352958, 0.5425831862668004, 0.5539913452675929, 0.564564916484792, 0.5742692377944283, 0.5831015251492402, 0.5910841170749419, 0.5982581099362224, 0.6046776110222649, 0.6104047338492739, 0.6155053907647463, 0.6200458900952928, 0.44528311000922066, 0.4371051001745929, 0.4300510110528785, 0.4239917907390407, 0.41877295401987447, 0.4142576837011446, 0.410358207339351, 0.4070451698703098, 0.40433324416310684, 0.40225039783445554, 0.4008038890868195, 0.3999559093375975, 0.3996166469095048, 0.39965553236393764, 0.3999256054617398, 0.40029260767134456, 0.40065952260526516, 0.4009789609369699, 0.4012503939324967, 0.40150597621338907, 0.4017945910295854, 0.4021749571534681, 0.4027234003078471, 0.40355257187070076, 0.4048294125875158, 0.40677888259433437, 0.40966550389263096, 0.4137545073454405, 0.4192633211061328, 0.42631815523881844, 0.4349281467319209, 0.4449826358929486, 0.4562692853062395, 0.4685053731143401, 0.48137317358574916, 0.4945521369742135, 0.507743756626036, 0.5206879501173448, 0.5331717126618729, 0.5450316888375767, 0.5561524643141251, 0.5664621529862192, 0.5759264989609958, 0.5845423651290134, 0.5923311960385175, 0.5993328320711867, 0.6055999041012041, 0.6111929370336344, 0.6161762220979622, 0.6206144701287833, 0.4537084957927575, 0.44588426387801383, 0.43911456157562156, 0.4332779792733288, 0.42822820410733436, 0.42383279367239823, 0.42000219875811523, 0.4166999935134157, 0.4139322484652009, 0.4117216791122295, 0.41007733020097803, 0.40897117664876675, 0.4083294283430385, 0.40804056533011535, 0.40797653760542174, 0.40801961533534076, 0.40808577607622326, 0.4081368470738755, 0.4081781711147918, 0.4082452322318081, 0.4083884241589142, 0.4086663182284155, 0.4091528033116842, 0.4099546214044791, 0.4112282635891994, 0.4131835325583968, 0.41606632184555015, 0.42012234419986033, 0.42555189082922146, 0.4324693750418648, 0.4408792138722471, 0.45067320166030606, 0.4616472965872991, 0.47353079027777045, 0.48601948065659806, 0.498806055767821, 0.5116037756550426, 0.5241622494396413, 0.5362759243489421, 0.5477867722035824, 0.5585828430986659, 0.568594171006134, 0.5777871962228556, 0.586158547607724, 0.5937287596903886, 0.6005362982630461, 0.606632125160753, 0.6120749345526331, 0.6169271255701116, 0.6212515287283322, 0.46282970618716995, 0.4553479478401811, 0.448840624337408, 0.4431955886420336, 0.43827728737872795, 0.43396113482249676, 0.43015980497698436, 0.42683361419651866, 0.4239828193647831, 0.4216260528680956, 0.419773681770698, 0.41840597690870507, 0.41746354737104446, 0.41685281809815816, 0.416464159388116, 0.4161961114851655, 0.41597711466834236, 0.41577715013242306, 0.41560598313546704, 0.4155010454842603, 0.4155134251469602, 0.41570155027686745, 0.41613755368072086, 0.4169231437675526, 0.4182048552168935, 0.4201770475868899, 0.4230658669327367, 0.42709582531054846, 0.4324482745175426, 0.4392243448702018, 0.44742286260994946, 0.4569379352545194, 0.4675743549619001, 0.4790744835092369, 0.4911490098041601, 0.503505336606008, 0.5158699162546312, 0.5280033157362485, 0.5397084836144793, 0.5508335328517079, 0.5612705643817063, 0.5709519142498823, 0.5798449265303283, 0.5879460609440862, 0.5952748946666067, 0.6018683870973677, 0.6077756392494762, 0.6130532838895817, 0.6177615762844569, 0.6219612083840372, 0.4724671271442505, 0.4653179712230058, 0.45905692108490004, 0.453582138577295, 0.44877050251463635, 0.4445076886207455, 0.4407115566928425, 0.4373421638781558, 0.4343962672831052, 0.4318894529748124, 0.42983302778572163, 0.42821415381266353, 0.42698611662215724, 0.4260718499402344, 0.4253792028508209, 0.42482234486387677, 0.4243414833505844, 0.42391377339628306, 0.4235521901131154, 0.42329496215534435, 0.42319313451668716, 0.423304862553638, 0.4237009134160247, 0.42447854283600767, 0.42577470247631494, 0.42776820593025555, 0.43066484232842506, 0.4346669920901664, 0.4399361029493938, 0.4465592912872697, 0.4545294670709673, 0.463743189325866, 0.4740146496158577, 0.48510017212555134, 0.4967264249885139, 0.5086166780115087, 0.5205116812384027, 0.5321839394286974, 0.5434457122746074, 0.5541518775996078, 0.5641990293866721, 0.5735220835731047, 0.5820894248239176, 0.5898973649257118, 0.5969644541442322, 0.6033260081370275, 0.6090290824266964, 0.6141280341640062, 0.6186807460427431, 0.6227455406206857, 0.4824514947835917, 0.47562698672590586, 0.4696019194365771, 0.46428528947432235, 0.45956727028984645, 0.4553452328962624, 0.4515442176605045, 0.44812622654430545, 0.44508633995868613, 0.4424379830442138, 0.44019311600704153, 0.438344541981892, 0.43685652271268627, 0.4356668716236234, 0.4346996331573376, 0.43388363888816434, 0.4331700131337041, 0.4325421802137968, 0.4320153495559057, 0.43162763972012536, 0.43142940869473395, 0.4314782781427305, 0.4318437403235116, 0.432618874349831, 0.4339313029718102, 0.4359443849536656, 0.438843460791496, 0.44280858680485896, 0.4479811341849603, 0.45443415463394926, 0.4621547720047752, 0.47104232812688523, 0.480920937204262, 0.4915615670788968, 0.5027076495257551, 0.5140991419640017, 0.525491882578082, 0.5366710203413647, 0.5474587133381047, 0.5577170562231859, 0.5673474521543609, 0.5762875873570478, 0.5845069679764242, 0.5920017481195478, 0.598789370014377, 0.6049033713670862, 0.6103885915699581, 0.6152969197509978, 0.6196836643834708, 0.6236045780783793, 0.4926281679840268, 0.4861223131549111, 0.48032808590019493, 0.47516540165031634, 0.47053792146100226, 0.4663553319240769, 0.46255101296073187, 0.4590904020173623, 0.45596826236393373, 0.453196584218189, 0.4507877817192859, 0.44873922746087164, 0.44702455494627436, 0.44559474390493725, 0.4443885172434798, 0.44334814951434953, 0.44243470548685654, 0.4416370426464572, 0.4409718474843717, 0.44047645511742006, 0.4401999940485652, 0.4401991874352511, 0.4405420830899777, 0.4413175944661334, 0.4426441766231394, 0.4446700180973201, 0.44756039969548544, 0.45147352438154, 0.4565312019350498, 0.4627929324752493, 0.47024053120500825, 0.4787765617476317, 0.48823548618357804, 0.49840335839978595, 0.5090408484503982, 0.5199050990312237, 0.5307675295164465, 0.5414263878933362, 0.5517141184491461, 0.5615003353309532, 0.5706914616014997, 0.579228075105026, 0.5870808442321521, 0.5942457379730601, 0.6007390086836731, 0.6065922937541824, 0.6118480666359223, 0.6165555829864304, 0.620767406219659, 0.6245365512851616];\n",
       "const xvar = \"x1\";\n",
       "const yvar = \"x2\";\n",
       "const x_is_log = false;\n",
       "const y_is_log = false;\n",
       "\n",
       "const GREEN_SCALE = [[247, 252, 253], [229, 245, 249], [204, 236, 230], [153, 216, 201], [102, 194, 164], [65, 174, 118], [35, 139, 69], [0, 109, 44], [0, 68, 27]];\n",
       "const GREEN_PINK_SCALE = [[142, 1, 82], [197, 27, 125], [222, 119, 174], [241, 182, 218], [253, 224, 239], [247, 247, 247], [230, 245, 208], [184, 225, 134], [127, 188, 65], [77, 146, 33], [39, 100, 25]];\n",
       "const BLUE_SCALE = [[255, 247, 251], [236, 231, 242], [208, 209, 230], [166, 189, 219], [116, 169, 207], [54, 144, 192], [5, 112, 176], [3, 78, 123]];\n",
       "\n",
       "// format data\n",
       "const res = relativize_data(f, sd, rel, arm_data, metric);\n",
       "const f_final = res[0];\n",
       "const sd_final = res[1];\n",
       "\n",
       "// calculate max of abs(outcome), used for colorscale\n",
       "const f_absmax = Math.max(Math.abs(Math.min(...f_final)), Math.max(...f_final));\n",
       "\n",
       "// transform to nested array\n",
       "var f_plt = [];\n",
       "while(f_final.length) f_plt.push(f_final.splice(0, density));\n",
       "var sd_plt = [];\n",
       "while(sd_final.length) sd_plt.push(sd_final.splice(0, density));\n",
       "\n",
       "// create traces\n",
       "const CONTOUR_CONFIG = {\n",
       "  autocolorscale: false,\n",
       "  autocontour: true,\n",
       "  contours: {\n",
       "    coloring: 'heatmap',\n",
       "  },\n",
       "  hoverinfo: 'x+y+z',\n",
       "  ncontours: density / 2,\n",
       "  type: 'contour',\n",
       "  x: grid_x,\n",
       "  y: grid_y,\n",
       "};\n",
       "\n",
       "let f_scale;\n",
       "if (rel === true) {\n",
       "  f_scale = lower_is_better === true\n",
       "    ? GREEN_PINK_SCALE.reverse()\n",
       "    : GREEN_PINK_SCALE;\n",
       "} else {\n",
       "  f_scale = GREEN_SCALE;\n",
       "}\n",
       "\n",
       "const f_trace = {\n",
       "  colorbar: {\n",
       "    x: 0.45,\n",
       "    y: 0.5,\n",
       "    ticksuffix: rel === true ? '%' : '',\n",
       "    tickfont: {\n",
       "      size: 8,\n",
       "    },\n",
       "  },\n",
       "  colorscale: f_scale.map(\n",
       "    (v, i) => [i / (f_scale.length - 1), rgb(v)]\n",
       "  ),\n",
       "  xaxis: 'x',\n",
       "  yaxis: 'y',\n",
       "  z: f_plt,\n",
       "  // zmax and zmin are ignored if zauto is true\n",
       "  zauto: !rel,\n",
       "  zmax: f_absmax,\n",
       "  zmin: -f_absmax,\n",
       "};\n",
       "\n",
       "const sd_trace = {\n",
       "  colorbar: {\n",
       "      x: 1,\n",
       "      y: 0.5,\n",
       "      ticksuffix: rel === true ? '%' : '',\n",
       "      tickfont: {\n",
       "        size: 8,\n",
       "      },\n",
       "  },\n",
       "  colorscale: BLUE_SCALE.map(\n",
       "    (v, i) => [i / (BLUE_SCALE.length - 1), rgb(v)]\n",
       "  ),\n",
       "  xaxis: 'x2',\n",
       "  yaxis: 'y2',\n",
       "  z: sd_plt,\n",
       "};\n",
       "\n",
       "Object.keys(CONTOUR_CONFIG).forEach(key => {\n",
       "  f_trace[key] = CONTOUR_CONFIG[key];\n",
       "  sd_trace[key] = CONTOUR_CONFIG[key];\n",
       "});\n",
       "\n",
       "// get in-sample arms\n",
       "const arm_x = [];\n",
       "const arm_y = [];\n",
       "const arm_text = [];\n",
       "\n",
       "Object.keys(arm_data['in_sample']).forEach(arm_name => {\n",
       "  arm_x.push(arm_data['in_sample'][arm_name]['parameters'][xvar]);\n",
       "  arm_y.push(arm_data['in_sample'][arm_name]['parameters'][yvar]);\n",
       "  arm_text.push(arm_name);\n",
       "});\n",
       "\n",
       "// configs for in-sample arms\n",
       "const base_in_sample_arm_config = {\n",
       "  hoverinfo: 'text',\n",
       "  legendgroup: 'In-sample',\n",
       "  marker: {color: 'black', symbol: 1, opacity: 0.5},\n",
       "  mode: 'markers',\n",
       "  name: 'In-sample',\n",
       "  text: arm_text,\n",
       "  type: 'scatter',\n",
       "  x: arm_x,\n",
       "  y: arm_y,\n",
       "};\n",
       "\n",
       "const f_in_sample_arm_trace = {\n",
       "  xaxis: 'x',\n",
       "  yaxis: 'y',\n",
       "};\n",
       "\n",
       "const sd_in_sample_arm_trace = {\n",
       "  showlegend: false,\n",
       "  xaxis: 'x2',\n",
       "  yaxis: 'y2',\n",
       "};\n",
       "\n",
       "Object.keys(base_in_sample_arm_config).forEach(key => {\n",
       "  f_in_sample_arm_trace[key] = base_in_sample_arm_config[key];\n",
       "  sd_in_sample_arm_trace[key] = base_in_sample_arm_config[key];\n",
       "});\n",
       "\n",
       "const traces = [\n",
       "  f_trace,\n",
       "  sd_trace,\n",
       "  f_in_sample_arm_trace,\n",
       "  sd_in_sample_arm_trace,\n",
       "];\n",
       "\n",
       "// start symbol at 2 for candidate markers\n",
       "let i = 2;\n",
       "\n",
       "// iterate over out-of-sample arms\n",
       "Object.keys(arm_data['out_of_sample']).forEach(generator_run_name => {\n",
       "  const ax = [];\n",
       "  const ay = [];\n",
       "  const atext = [];\n",
       "\n",
       "  Object.keys(arm_data['out_of_sample'][generator_run_name]).forEach(arm_name => {\n",
       "    ax.push(\n",
       "      arm_data['out_of_sample'][generator_run_name][arm_name]['parameters'][xvar]\n",
       "    );\n",
       "    ay.push(\n",
       "      arm_data['out_of_sample'][generator_run_name][arm_name]['parameters'][yvar]\n",
       "    );\n",
       "    atext.push('<em>Candidate ' + arm_name + '</em>');\n",
       "  });\n",
       "\n",
       "  traces.push({\n",
       "    hoverinfo: 'text',\n",
       "    legendgroup: generator_run_name,\n",
       "    marker: {color: 'black', symbol: i, opacity: 0.5},\n",
       "    mode: 'markers',\n",
       "    name: generator_run_name,\n",
       "    text: atext,\n",
       "    type: 'scatter',\n",
       "    xaxis: 'x',\n",
       "    x: ax,\n",
       "    yaxis: 'y',\n",
       "    y: ay,\n",
       "  });\n",
       "  traces.push({\n",
       "    hoverinfo: 'text',\n",
       "    legendgroup: generator_run_name,\n",
       "    marker: {color: 'black', symbol: i, opacity: 0.5},\n",
       "    mode: 'markers',\n",
       "    name: 'In-sample',\n",
       "    showlegend: false,\n",
       "    text: atext,\n",
       "    type: 'scatter',\n",
       "    x: ax,\n",
       "    xaxis: 'x2',\n",
       "    y: ay,\n",
       "    yaxis: 'y2',\n",
       "  });\n",
       "  i += 1;\n",
       "});\n",
       "\n",
       "// layout\n",
       "const xrange = axis_range(grid_x, x_is_log);\n",
       "const yrange = axis_range(grid_y, y_is_log);\n",
       "\n",
       "const xtype = x_is_log ? 'log' : 'linear';\n",
       "const ytype = y_is_log ? 'log' : 'linear';\n",
       "\n",
       "const layout = {\n",
       "  autosize: false,\n",
       "    margin: {\n",
       "      l: 35,\n",
       "      r: 35,\n",
       "      t: 35,\n",
       "      b: 100,\n",
       "      pad: 0,\n",
       "  },\n",
       "  annotations: [\n",
       "    {\n",
       "      font: {size: 14},\n",
       "      showarrow: false,\n",
       "      text: 'Mean',\n",
       "      x: 0.25,\n",
       "      xanchor: 'center',\n",
       "      xref: 'paper',\n",
       "      y: 1,\n",
       "      yanchor: 'bottom',\n",
       "      yref: 'paper',\n",
       "    },\n",
       "    {\n",
       "      font: {size: 14},\n",
       "      showarrow: false,\n",
       "      text: 'Standard Error',\n",
       "      x: 0.8,\n",
       "      xanchor: 'center',\n",
       "      xref: 'paper',\n",
       "      y: 1,\n",
       "      yanchor: 'bottom',\n",
       "      yref: 'paper',\n",
       "    },\n",
       "  ],\n",
       "  hovermode: 'closest',\n",
       "  legend: {orientation: 'h', x: 0, y: -0.25},\n",
       "  height: 450,\n",
       "  width: 950,\n",
       "  xaxis: {\n",
       "    anchor: 'y',\n",
       "    autorange: false,\n",
       "    domain: [0.05, 0.45],\n",
       "    exponentformat: 'e',\n",
       "    range: xrange,\n",
       "    tickfont: {size: 11},\n",
       "    tickmode: 'auto',\n",
       "    title: xvar,\n",
       "    type: xtype,\n",
       "  },\n",
       "  xaxis2: {\n",
       "    anchor: 'y2',\n",
       "    autorange: false,\n",
       "    domain: [0.60, 1],\n",
       "    exponentformat: 'e',\n",
       "    range: xrange,\n",
       "    tickfont: {size: 11},\n",
       "    tickmode: 'auto',\n",
       "    title: xvar,\n",
       "    type: xtype,\n",
       "  },\n",
       "  yaxis: {\n",
       "    anchor: 'x',\n",
       "    autorange: false,\n",
       "    domain: [0, 1],\n",
       "    exponentformat: 'e',\n",
       "    range: yrange,\n",
       "    tickfont: {size: 11},\n",
       "    tickmode: 'auto',\n",
       "    title: yvar,\n",
       "    type: ytype,\n",
       "  },\n",
       "  yaxis2: {\n",
       "    anchor: 'x2',\n",
       "    autorange: false,\n",
       "    domain: [0, 1],\n",
       "    exponentformat: 'e',\n",
       "    range: yrange,\n",
       "    tickfont: {size: 11},\n",
       "    tickmode: 'auto',\n",
       "    type: ytype,\n",
       "  },\n",
       "};\n",
       "\n",
       "Plotly.newPlot(\"c13a494679784dc1b2bdbfb721e8f939\", traces, layout, {showLink: false});\n",
       "});</script>"
      ]
     },
     "metadata": {},
     "output_type": "display_data"
    }
   ],
   "source": [
    "render(\n",
    "    plot_contour(\n",
    "        model=ax.generation_strategy.model, param_x='x1', param_y='x2', metric_name='hartmann6'\n",
    "    )\n",
    ")"
   ]
  },
  {
   "cell_type": "markdown",
   "metadata": {},
   "source": [
    "We can also plot the optimization trace, showing the progression of finding the point with the optimal objective:"
   ]
  },
  {
   "cell_type": "code",
   "execution_count": 10,
   "metadata": {},
   "outputs": [
    {
     "data": {
      "text/html": [
       "<div id=\"86fbb67fc9344e8096be3c2fd9e0b286\" style=\"width: 100%;\" class=\"plotly-graph-div\"></div><script type='text/javascript'>/*\n",
       " * Copyright (c) Facebook, Inc. and its affiliates. All Rights Reserved.\n",
       " */\n",
       "\n",
       "require(['plotly'], function(Plotly) {\n",
       "  window.PLOTLYENV = window.PLOTLYENV || {};\n",
       "  window.PLOTLYENV.BASE_URL = 'https://plot.ly';\n",
       "  /*\n",
       " * Copyright (c) Facebook, Inc. and its affiliates. All Rights Reserved.\n",
       " */\n",
       "\n",
       "Plotly.newPlot(\n",
       "  \"86fbb67fc9344e8096be3c2fd9e0b286\",\n",
       "  [{\"hoverinfo\": \"none\", \"legendgroup\": \"\", \"line\": {\"width\": 0}, \"mode\": \"lines\", \"showlegend\": false, \"x\": [1, 2, 3, 4, 5, 6, 7, 8, 9, 10, 11, 12, 13, 14, 15, 16, 17, 18, 19, 20, 21, 22, 23, 24, 25, 26, 27, 28, 29, 30], \"y\": [-0.10193053405918145, -0.10193053405918145, -0.10193053405918145, -0.10193053405918145, -0.10193053405918145, -0.423023558261321, -0.423023558261321, -0.5541142929386398, -0.6691359497677735, -0.6691359497677735, -0.8714946980672127, -0.9733052956750419, -0.9733052956750419, -1.0377199000519848, -1.2650010048474443, -1.515183268794803, -1.7910892345185978, -1.7910892345185978, -2.2772077988620185, -2.5660193603231454, -2.623279742649941, -2.6259269481822933, -2.7974728013666086, -2.7974728013666086, -2.921724097044612, -2.921724097044612, -2.921724097044612, -2.921724097044612, -2.921724097044612, -2.921724097044612], \"type\": \"scatter\"}, {\"fill\": \"tonexty\", \"fillcolor\": \"rgba(128,177,211,0.3)\", \"legendgroup\": \"mean\", \"line\": {\"color\": \"rgba(128,177,211,1)\"}, \"mode\": \"lines\", \"name\": \"mean\", \"x\": [1, 2, 3, 4, 5, 6, 7, 8, 9, 10, 11, 12, 13, 14, 15, 16, 17, 18, 19, 20, 21, 22, 23, 24, 25, 26, 27, 28, 29, 30], \"y\": [-0.10193053405918145, -0.10193053405918145, -0.10193053405918145, -0.10193053405918145, -0.10193053405918145, -0.423023558261321, -0.423023558261321, -0.5541142929386398, -0.6691359497677735, -0.6691359497677735, -0.8714946980672127, -0.9733052956750419, -0.9733052956750419, -1.0377199000519848, -1.2650010048474443, -1.515183268794803, -1.7910892345185978, -1.7910892345185978, -2.2772077988620185, -2.5660193603231454, -2.623279742649941, -2.6259269481822933, -2.7974728013666086, -2.7974728013666086, -2.921724097044612, -2.921724097044612, -2.921724097044612, -2.921724097044612, -2.921724097044612, -2.921724097044612], \"type\": \"scatter\"}, {\"fill\": \"tonexty\", \"fillcolor\": \"rgba(128,177,211,0.3)\", \"hoverinfo\": \"none\", \"legendgroup\": \"\", \"line\": {\"width\": 0}, \"mode\": \"lines\", \"showlegend\": false, \"x\": [1, 2, 3, 4, 5, 6, 7, 8, 9, 10, 11, 12, 13, 14, 15, 16, 17, 18, 19, 20, 21, 22, 23, 24, 25, 26, 27, 28, 29, 30], \"y\": [-0.10193053405918145, -0.10193053405918145, -0.10193053405918145, -0.10193053405918145, -0.10193053405918145, -0.423023558261321, -0.423023558261321, -0.5541142929386398, -0.6691359497677735, -0.6691359497677735, -0.8714946980672127, -0.9733052956750419, -0.9733052956750419, -1.0377199000519848, -1.2650010048474443, -1.515183268794803, -1.7910892345185978, -1.7910892345185978, -2.2772077988620185, -2.5660193603231454, -2.623279742649941, -2.6259269481822933, -2.7974728013666086, -2.7974728013666086, -2.921724097044612, -2.921724097044612, -2.921724097044612, -2.921724097044612, -2.921724097044612, -2.921724097044612], \"type\": \"scatter\"}, {\"line\": {\"color\": \"rgba(253,180,98,1)\", \"dash\": \"dash\"}, \"mode\": \"lines\", \"name\": \"Optimum\", \"x\": [1, 30], \"y\": [-3.32237, -3.32237], \"type\": \"scatter\"}],\n",
       "  {\"showlegend\": true, \"title\": {\"text\": \"Model performance vs. # of iterations\"}, \"xaxis\": {\"title\": {\"text\": \"Iteration\"}}, \"yaxis\": {\"title\": {\"text\": \"Hartmann6\"}}, \"template\": {\"data\": {\"barpolar\": [{\"marker\": {\"line\": {\"color\": \"#E5ECF6\", \"width\": 0.5}}, \"type\": \"barpolar\"}], \"bar\": [{\"error_x\": {\"color\": \"#2a3f5f\"}, \"error_y\": {\"color\": \"#2a3f5f\"}, \"marker\": {\"line\": {\"color\": \"#E5ECF6\", \"width\": 0.5}}, \"type\": \"bar\"}], \"carpet\": [{\"aaxis\": {\"endlinecolor\": \"#2a3f5f\", \"gridcolor\": \"white\", \"linecolor\": \"white\", \"minorgridcolor\": \"white\", \"startlinecolor\": \"#2a3f5f\"}, \"baxis\": {\"endlinecolor\": \"#2a3f5f\", \"gridcolor\": \"white\", \"linecolor\": \"white\", \"minorgridcolor\": \"white\", \"startlinecolor\": \"#2a3f5f\"}, \"type\": \"carpet\"}], \"choropleth\": [{\"colorbar\": {\"outlinewidth\": 0, \"ticks\": \"\"}, \"type\": \"choropleth\"}], \"contourcarpet\": [{\"colorbar\": {\"outlinewidth\": 0, \"ticks\": \"\"}, \"type\": \"contourcarpet\"}], \"contour\": [{\"colorbar\": {\"outlinewidth\": 0, \"ticks\": \"\"}, \"colorscale\": [[0.0, \"#0d0887\"], [0.1111111111111111, \"#46039f\"], [0.2222222222222222, \"#7201a8\"], [0.3333333333333333, \"#9c179e\"], [0.4444444444444444, \"#bd3786\"], [0.5555555555555556, \"#d8576b\"], [0.6666666666666666, \"#ed7953\"], [0.7777777777777778, \"#fb9f3a\"], [0.8888888888888888, \"#fdca26\"], [1.0, \"#f0f921\"]], \"type\": \"contour\"}], \"heatmapgl\": [{\"colorbar\": {\"outlinewidth\": 0, \"ticks\": \"\"}, \"colorscale\": [[0.0, \"#0d0887\"], [0.1111111111111111, \"#46039f\"], [0.2222222222222222, \"#7201a8\"], [0.3333333333333333, \"#9c179e\"], [0.4444444444444444, \"#bd3786\"], [0.5555555555555556, \"#d8576b\"], [0.6666666666666666, \"#ed7953\"], [0.7777777777777778, \"#fb9f3a\"], [0.8888888888888888, \"#fdca26\"], [1.0, \"#f0f921\"]], \"type\": \"heatmapgl\"}], \"heatmap\": [{\"colorbar\": {\"outlinewidth\": 0, \"ticks\": \"\"}, \"colorscale\": [[0.0, \"#0d0887\"], [0.1111111111111111, \"#46039f\"], [0.2222222222222222, \"#7201a8\"], [0.3333333333333333, \"#9c179e\"], [0.4444444444444444, \"#bd3786\"], [0.5555555555555556, \"#d8576b\"], [0.6666666666666666, \"#ed7953\"], [0.7777777777777778, \"#fb9f3a\"], [0.8888888888888888, \"#fdca26\"], [1.0, \"#f0f921\"]], \"type\": \"heatmap\"}], \"histogram2dcontour\": [{\"colorbar\": {\"outlinewidth\": 0, \"ticks\": \"\"}, \"colorscale\": [[0.0, \"#0d0887\"], [0.1111111111111111, \"#46039f\"], [0.2222222222222222, \"#7201a8\"], [0.3333333333333333, \"#9c179e\"], [0.4444444444444444, \"#bd3786\"], [0.5555555555555556, \"#d8576b\"], [0.6666666666666666, \"#ed7953\"], [0.7777777777777778, \"#fb9f3a\"], [0.8888888888888888, \"#fdca26\"], [1.0, \"#f0f921\"]], \"type\": \"histogram2dcontour\"}], \"histogram2d\": [{\"colorbar\": {\"outlinewidth\": 0, \"ticks\": \"\"}, \"colorscale\": [[0.0, \"#0d0887\"], [0.1111111111111111, \"#46039f\"], [0.2222222222222222, \"#7201a8\"], [0.3333333333333333, \"#9c179e\"], [0.4444444444444444, \"#bd3786\"], [0.5555555555555556, \"#d8576b\"], [0.6666666666666666, \"#ed7953\"], [0.7777777777777778, \"#fb9f3a\"], [0.8888888888888888, \"#fdca26\"], [1.0, \"#f0f921\"]], \"type\": \"histogram2d\"}], \"histogram\": [{\"marker\": {\"colorbar\": {\"outlinewidth\": 0, \"ticks\": \"\"}}, \"type\": \"histogram\"}], \"mesh3d\": [{\"colorbar\": {\"outlinewidth\": 0, \"ticks\": \"\"}, \"type\": \"mesh3d\"}], \"parcoords\": [{\"line\": {\"colorbar\": {\"outlinewidth\": 0, \"ticks\": \"\"}}, \"type\": \"parcoords\"}], \"scatter3d\": [{\"line\": {\"colorbar\": {\"outlinewidth\": 0, \"ticks\": \"\"}}, \"marker\": {\"colorbar\": {\"outlinewidth\": 0, \"ticks\": \"\"}}, \"type\": \"scatter3d\"}], \"scattercarpet\": [{\"marker\": {\"colorbar\": {\"outlinewidth\": 0, \"ticks\": \"\"}}, \"type\": \"scattercarpet\"}], \"scattergeo\": [{\"marker\": {\"colorbar\": {\"outlinewidth\": 0, \"ticks\": \"\"}}, \"type\": \"scattergeo\"}], \"scattergl\": [{\"marker\": {\"colorbar\": {\"outlinewidth\": 0, \"ticks\": \"\"}}, \"type\": \"scattergl\"}], \"scattermapbox\": [{\"marker\": {\"colorbar\": {\"outlinewidth\": 0, \"ticks\": \"\"}}, \"type\": \"scattermapbox\"}], \"scatterpolargl\": [{\"marker\": {\"colorbar\": {\"outlinewidth\": 0, \"ticks\": \"\"}}, \"type\": \"scatterpolargl\"}], \"scatterpolar\": [{\"marker\": {\"colorbar\": {\"outlinewidth\": 0, \"ticks\": \"\"}}, \"type\": \"scatterpolar\"}], \"scatter\": [{\"marker\": {\"colorbar\": {\"outlinewidth\": 0, \"ticks\": \"\"}}, \"type\": \"scatter\"}], \"scatterternary\": [{\"marker\": {\"colorbar\": {\"outlinewidth\": 0, \"ticks\": \"\"}}, \"type\": \"scatterternary\"}], \"surface\": [{\"colorbar\": {\"outlinewidth\": 0, \"ticks\": \"\"}, \"colorscale\": [[0.0, \"#0d0887\"], [0.1111111111111111, \"#46039f\"], [0.2222222222222222, \"#7201a8\"], [0.3333333333333333, \"#9c179e\"], [0.4444444444444444, \"#bd3786\"], [0.5555555555555556, \"#d8576b\"], [0.6666666666666666, \"#ed7953\"], [0.7777777777777778, \"#fb9f3a\"], [0.8888888888888888, \"#fdca26\"], [1.0, \"#f0f921\"]], \"type\": \"surface\"}], \"table\": [{\"cells\": {\"fill\": {\"color\": \"#EBF0F8\"}, \"line\": {\"color\": \"white\"}}, \"header\": {\"fill\": {\"color\": \"#C8D4E3\"}, \"line\": {\"color\": \"white\"}}, \"type\": \"table\"}]}, \"layout\": {\"annotationdefaults\": {\"arrowcolor\": \"#2a3f5f\", \"arrowhead\": 0, \"arrowwidth\": 1}, \"colorscale\": {\"diverging\": [[0, \"#8e0152\"], [0.1, \"#c51b7d\"], [0.2, \"#de77ae\"], [0.3, \"#f1b6da\"], [0.4, \"#fde0ef\"], [0.5, \"#f7f7f7\"], [0.6, \"#e6f5d0\"], [0.7, \"#b8e186\"], [0.8, \"#7fbc41\"], [0.9, \"#4d9221\"], [1, \"#276419\"]], \"sequential\": [[0.0, \"#0d0887\"], [0.1111111111111111, \"#46039f\"], [0.2222222222222222, \"#7201a8\"], [0.3333333333333333, \"#9c179e\"], [0.4444444444444444, \"#bd3786\"], [0.5555555555555556, \"#d8576b\"], [0.6666666666666666, \"#ed7953\"], [0.7777777777777778, \"#fb9f3a\"], [0.8888888888888888, \"#fdca26\"], [1.0, \"#f0f921\"]], \"sequentialminus\": [[0.0, \"#0d0887\"], [0.1111111111111111, \"#46039f\"], [0.2222222222222222, \"#7201a8\"], [0.3333333333333333, \"#9c179e\"], [0.4444444444444444, \"#bd3786\"], [0.5555555555555556, \"#d8576b\"], [0.6666666666666666, \"#ed7953\"], [0.7777777777777778, \"#fb9f3a\"], [0.8888888888888888, \"#fdca26\"], [1.0, \"#f0f921\"]]}, \"colorway\": [\"#636efa\", \"#EF553B\", \"#00cc96\", \"#ab63fa\", \"#FFA15A\", \"#19d3f3\", \"#FF6692\", \"#B6E880\", \"#FF97FF\", \"#FECB52\"], \"font\": {\"color\": \"#2a3f5f\"}, \"geo\": {\"bgcolor\": \"white\", \"lakecolor\": \"white\", \"landcolor\": \"#E5ECF6\", \"showlakes\": true, \"showland\": true, \"subunitcolor\": \"white\"}, \"hoverlabel\": {\"align\": \"left\"}, \"hovermode\": \"closest\", \"mapbox\": {\"style\": \"light\"}, \"paper_bgcolor\": \"white\", \"plot_bgcolor\": \"#E5ECF6\", \"polar\": {\"angularaxis\": {\"gridcolor\": \"white\", \"linecolor\": \"white\", \"ticks\": \"\"}, \"bgcolor\": \"#E5ECF6\", \"radialaxis\": {\"gridcolor\": \"white\", \"linecolor\": \"white\", \"ticks\": \"\"}}, \"scene\": {\"xaxis\": {\"backgroundcolor\": \"#E5ECF6\", \"gridcolor\": \"white\", \"gridwidth\": 2, \"linecolor\": \"white\", \"showbackground\": true, \"ticks\": \"\", \"zerolinecolor\": \"white\"}, \"yaxis\": {\"backgroundcolor\": \"#E5ECF6\", \"gridcolor\": \"white\", \"gridwidth\": 2, \"linecolor\": \"white\", \"showbackground\": true, \"ticks\": \"\", \"zerolinecolor\": \"white\"}, \"zaxis\": {\"backgroundcolor\": \"#E5ECF6\", \"gridcolor\": \"white\", \"gridwidth\": 2, \"linecolor\": \"white\", \"showbackground\": true, \"ticks\": \"\", \"zerolinecolor\": \"white\"}}, \"shapedefaults\": {\"line\": {\"color\": \"#2a3f5f\"}}, \"ternary\": {\"aaxis\": {\"gridcolor\": \"white\", \"linecolor\": \"white\", \"ticks\": \"\"}, \"baxis\": {\"gridcolor\": \"white\", \"linecolor\": \"white\", \"ticks\": \"\"}, \"bgcolor\": \"#E5ECF6\", \"caxis\": {\"gridcolor\": \"white\", \"linecolor\": \"white\", \"ticks\": \"\"}}, \"title\": {\"x\": 0.05}, \"xaxis\": {\"automargin\": true, \"gridcolor\": \"white\", \"linecolor\": \"white\", \"ticks\": \"\", \"zerolinecolor\": \"white\", \"zerolinewidth\": 2}, \"yaxis\": {\"automargin\": true, \"gridcolor\": \"white\", \"linecolor\": \"white\", \"ticks\": \"\", \"zerolinecolor\": \"white\", \"zerolinewidth\": 2}}}},\n",
       "  {\"showLink\": false}\n",
       ");\n",
       "});</script>"
      ]
     },
     "metadata": {},
     "output_type": "display_data"
    }
   ],
   "source": [
    "# `plot_single_method` expects a 2-d array of means, because it expects to average means from multiple \n",
    "# optimization runs, so we wrap out best objectives array in another array.\n",
    "best_objectives = np.array([[trial.objective_mean for trial in ax.experiment.trials.values()]])\n",
    "best_objective_plot = optimization_trace_single_method(\n",
    "    y=np.minimum.accumulate(best_objectives, axis=1),\n",
    "    optimum=hartmann6.fmin,\n",
    "    title=\"Model performance vs. # of iterations\",\n",
    "    ylabel=\"Hartmann6\",\n",
    ")\n",
    "render(best_objective_plot)"
   ]
  },
  {
   "cell_type": "markdown",
   "metadata": {},
   "source": [
    "# Special Cases"
   ]
  },
  {
   "cell_type": "markdown",
   "metadata": {},
   "source": [
    "**Evaluation failure**: should any optimization iterations fail during evaluation, `log_trial_failure` will ensure that the same trial is not proposed again."
   ]
  },
  {
   "cell_type": "code",
   "execution_count": 11,
   "metadata": {},
   "outputs": [
    {
     "name": "stderr",
     "output_type": "stream",
     "text": [
      "/home/travis/virtualenv/python3.6.7/lib/python3.6/site-packages/botorch/optim/optimize.py:275: BadInitialCandidatesWarning:\n",
      "\n",
      "Unable to find non-zero acquisition function values - initial conditions are being selected randomly.\n",
      "\n"
     ]
    }
   ],
   "source": [
    "_, trial_index = ax.get_next_trial()\n",
    "ax.log_trial_failure(trial_index=trial_index)"
   ]
  },
  {
   "cell_type": "markdown",
   "metadata": {},
   "source": [
    "**Adding custom trials**: should there be need to evaluate a specific parameterization, `attach_trial` will add it to the experiment."
   ]
  },
  {
   "cell_type": "code",
   "execution_count": 12,
   "metadata": {},
   "outputs": [
    {
     "data": {
      "text/plain": [
       "({'x1': 9.0, 'x2': 9.0, 'x3': 9.0, 'x4': 9.0, 'x5': 9.0, 'x6': 9.0}, 31)"
      ]
     },
     "execution_count": 12,
     "metadata": {},
     "output_type": "execute_result"
    }
   ],
   "source": [
    "ax.attach_trial(parameters={\"x1\": 9.0, \"x2\": 9.0, \"x3\": 9.0, \"x4\": 9.0, \"x5\": 9.0, \"x6\": 9.0})"
   ]
  },
  {
   "cell_type": "markdown",
   "metadata": {},
   "source": [
    "**Need to run many trials in parallel**: for optimal results and optimization efficiency, we strongly recommend sequential optimization (generating a few trials, then waiting for them to be completed with evaluation data). However, if your use case needs to dispatch many trials in parallel before they are updated with data and you are running into the *\"All trials for current model have been generated, but not enough data has been observed to fit next model\"* error, instantiate `AxClient` as `AxClient(enforce_sequential_optimization=False)`."
   ]
  }
 ],
 "metadata": {
  "kernelspec": {
   "display_name": "python3",
   "language": "python",
   "name": "python3"
  },
  "language_info": {
   "codemirror_mode": {
    "name": "ipython",
    "version": 3
   },
   "file_extension": ".py",
   "mimetype": "text/x-python",
   "name": "python",
   "nbconvert_exporter": "python",
   "pygments_lexer": "ipython3",
   "version": "3.6.7"
  }
 },
 "nbformat": 4,
 "nbformat_minor": 2
}
