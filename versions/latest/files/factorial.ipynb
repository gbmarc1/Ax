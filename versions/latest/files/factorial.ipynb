{
 "cells": [
  {
   "cell_type": "markdown",
   "metadata": {
    "collapsed": true
   },
   "source": [
    "# Factorial design with empirical Bayes and Thompson Sampling"
   ]
  },
  {
   "cell_type": "markdown",
   "metadata": {},
   "source": [
    "<markdowncell>\n",
    "This tutorial illustrates how to run a factorial experiment. In such an experiment, each parameter (factor) can be assigned one of multiple discrete values (levels). A full-factorial experiment design explores all possible combinations of factors and levels.\n",
    "\n",
    "For instance, consider a banner with a title and an image. We are considering two different titles and three different images. A full-factorial experiment will compare all 2*3=6 possible combinations of title and image, to see which version of the banner performs the best.\n",
    "\n",
    "In this example, we first run an exploratory batch to collect data on all possible combinations. Then we use empirical Bayes to model the data and shrink noisy estimates toward the mean. Next, we use Thompson Sampling to suggest a set of arms (combinations of factors and levels) on which to collect more data. We repeat the process until we have identified the best performing combination(s)."
   ]
  },
  {
   "cell_type": "code",
   "execution_count": 1,
   "metadata": {
    "ExecuteTime": {
     "end_time": "2019-04-01T16:59:07.844357Z",
     "start_time": "2019-04-01T09:59:06.377921-07:00"
    },
    "collapsed": true
   },
   "outputs": [],
   "source": [
    "import numpy as np\n",
    "import pandas as pd\n",
    "import sklearn as skl\n",
    "from typing import Dict, Optional, Tuple, Union\n",
    "from ax import Arm, ChoiceParameter, Models, ParameterType, SearchSpace, SimpleExperiment\n",
    "from ax.plot.scatter import plot_fitted\n",
    "from ax.utils.notebook.plotting import render, init_notebook_plotting\n",
    "from ax.utils.stats.statstools import agresti_coull_sem"
   ]
  },
  {
   "cell_type": "code",
   "execution_count": 2,
   "metadata": {
    "ExecuteTime": {
     "end_time": "2019-04-01T16:59:07.852360Z",
     "start_time": "2019-04-01T09:59:07.846655-07:00"
    }
   },
   "outputs": [
    {
     "data": {
      "text/html": [
       "<script type='text/javascript'>/*\n",
       " * Copyright (c) Facebook, Inc. and its affiliates. All Rights Reserved.\n",
       " */\n",
       "\n",
       "requirejs.config({\n",
       "  paths: {\n",
       "    plotly: ['https://cdn.plot.ly/plotly-latest.min'],\n",
       "  },\n",
       "});\n",
       "if (!window.Plotly) {\n",
       "  require(['plotly'], function(plotly) {\n",
       "    window.Plotly = plotly;\n",
       "  });\n",
       "}\n",
       "/*\n",
       " * Copyright (c) Facebook, Inc. and its affiliates. All Rights Reserved.\n",
       " */\n",
       "\n",
       "// helper functions used across multiple plots\n",
       "function rgb(rgb_array) {\n",
       "  return 'rgb(' + rgb_array.join() + ')';\n",
       "}\n",
       "\n",
       "function copy_and_reverse(arr) {\n",
       "  const copy = arr.slice();\n",
       "  copy.reverse();\n",
       "  return copy;\n",
       "}\n",
       "\n",
       "function axis_range(grid, is_log) {\n",
       "  return is_log ?\n",
       "    [Math.log10(Math.min(...grid)), Math.log10(Math.max(...grid))]:\n",
       "    [Math.min(...grid), Math.max(...grid)];\n",
       "}\n",
       "\n",
       "function relativize_data(f, sd, rel, arm_data, metric) {\n",
       "  // if relative, extract status quo & compute ratio\n",
       "  const f_final = rel === true ? [] : f;\n",
       "  const sd_final = rel === true ? []: sd;\n",
       "\n",
       "  if (rel === true) {\n",
       "    const f_sq = (\n",
       "      arm_data['in_sample'][arm_data['status_quo_name']]['y'][metric]\n",
       "    );\n",
       "    const sd_sq = (\n",
       "      arm_data['in_sample'][arm_data['status_quo_name']]['se'][metric]\n",
       "    );\n",
       "\n",
       "    for (let i = 0; i < f.length; i++) {\n",
       "      res = relativize(f[i], sd[i], f_sq, sd_sq);\n",
       "      f_final.push(100 * res[0]);\n",
       "      sd_final.push(100 * res[1]);\n",
       "    }\n",
       "  }\n",
       "\n",
       "  return [f_final, sd_final];\n",
       "}\n",
       "\n",
       "function relativize(m_t, sem_t, m_c, sem_c) {\n",
       "  r_hat = (\n",
       "    (m_t - m_c) / Math.abs(m_c) -\n",
       "    Math.pow(sem_c, 2) * m_t / Math.pow(Math.abs(m_c), 3)\n",
       "  );\n",
       "  variance = (\n",
       "    (Math.pow(sem_t, 2) + Math.pow((m_t / m_c * sem_c), 2)) /\n",
       "    Math.pow(m_c, 2)\n",
       "   )\n",
       "   return [r_hat, Math.sqrt(variance)];\n",
       "}\n",
       "</script>"
      ]
     },
     "metadata": {},
     "output_type": "display_data"
    },
    {
     "name": "stderr",
     "output_type": "stream",
     "text": [
      "[INFO 08-07 16:18:26] ipy_plotting: Injecting Plotly library into cell. Do not overwrite or delete cell.\n"
     ]
    }
   ],
   "source": [
    "init_notebook_plotting()"
   ]
  },
  {
   "cell_type": "markdown",
   "metadata": {},
   "source": [
    "## 1. Define the search space"
   ]
  },
  {
   "cell_type": "markdown",
   "metadata": {},
   "source": [
    "<markdowncell>\n",
    "First, we define our search space. A factorial search space contains a ChoiceParameter for each factor, where the values of the parameter are its levels."
   ]
  },
  {
   "cell_type": "code",
   "execution_count": 3,
   "metadata": {
    "ExecuteTime": {
     "end_time": "2019-04-01T16:59:07.861686Z",
     "start_time": "2019-04-01T09:59:07.854353-07:00"
    },
    "collapsed": true
   },
   "outputs": [],
   "source": [
    "search_space = SearchSpace(\n",
    "    parameters=[\n",
    "        ChoiceParameter(\n",
    "            name=\"factor1\",\n",
    "            parameter_type=ParameterType.STRING,\n",
    "            values=[\"level11\", \"level12\", \"level13\"],\n",
    "        ),\n",
    "        ChoiceParameter(\n",
    "            name=\"factor2\",\n",
    "            parameter_type=ParameterType.STRING,\n",
    "            values=[\"level21\", \"level22\"],\n",
    "        ),\n",
    "        ChoiceParameter(\n",
    "            name=\"factor3\",\n",
    "            parameter_type=ParameterType.STRING,\n",
    "            values=[\"level31\", \"level32\", \"level33\", \"level34\"],\n",
    "        ),\n",
    "    ]\n",
    ")"
   ]
  },
  {
   "cell_type": "markdown",
   "metadata": {},
   "source": [
    "## 2. Define the evaluation function"
   ]
  },
  {
   "cell_type": "markdown",
   "metadata": {},
   "source": [
    "<markdowncell>\n",
    "Second, we define an evaluation function, which is responsible for computing\n",
    "the mean and standard error of a given arm.\n",
    "\n",
    "In this example, each possible parameter value is given a coefficient. The higher the level, the higher the coefficient, and the higher the coefficients, the greater the mean.\n",
    "\n",
    "The standard error of each arm is determined by the weight passed into the evaluation function, which represents the size of the population on which this arm was evaluated. The higher the weight, the greater the sample size, and thus the lower the standard error."
   ]
  },
  {
   "cell_type": "code",
   "execution_count": 4,
   "metadata": {
    "ExecuteTime": {
     "end_time": "2019-04-01T16:59:07.871141Z",
     "start_time": "2019-04-01T09:59:07.863475-07:00"
    },
    "collapsed": true
   },
   "outputs": [],
   "source": [
    "one_hot_encoder = skl.preprocessing.OneHotEncoder(\n",
    "    categories=[par.values for par in search_space.parameters.values()], \n",
    ")\n",
    "\n",
    "def factorial_evaluation_function(\n",
    "    # `parameterization` is a dict of parameter names to values of those parameters.\n",
    "    parameterization: Dict[str, Optional[Union[str, bool, float]]],\n",
    "    # `weight` is the weight of the parameterization, \n",
    "    # which is used to determine the variance of the estimate.\n",
    "    weight: Optional[float] = None,\n",
    ") -> Dict[str, Tuple[float, float]]:  # Mapping of metric names to tuple of mean and standard error.\n",
    "    batch_size = 10000\n",
    "    noise_level = 0.0\n",
    "    weight = weight if weight is not None else 1.0\n",
    "    coefficients = np.array([\n",
    "        0.1, 0.2, 0.3,\n",
    "        0.1, 0.2,\n",
    "        0.1, 0.2, 0.3, 0.4\n",
    "    ])\n",
    "    features = np.array(list(parameterization.values())).reshape(1, -1)\n",
    "    encoded_features = one_hot_encoder.fit_transform(features)\n",
    "    z = coefficients @ encoded_features.T + np.sqrt(noise_level) * np.random.randn()\n",
    "    p = np.exp(z) / (1 + np.exp(z))\n",
    "    plays = np.random.binomial(batch_size, weight)\n",
    "    successes = np.random.binomial(plays, p)\n",
    "    mean = float(successes) / plays\n",
    "    sem = agresti_coull_sem(successes, plays)\n",
    "    return {\n",
    "        \"success_metric\": (mean, sem)\n",
    "    }"
   ]
  },
  {
   "cell_type": "markdown",
   "metadata": {},
   "source": [
    "## 3. Define the experiment"
   ]
  },
  {
   "cell_type": "markdown",
   "metadata": {},
   "source": [
    "<markdowncell>\n",
    "We now set up our experiment and define the status quo arm, in which each parameter is assigned to the lowest level."
   ]
  },
  {
   "cell_type": "code",
   "execution_count": 5,
   "metadata": {
    "ExecuteTime": {
     "end_time": "2019-04-01T16:59:07.876425Z",
     "start_time": "2019-04-01T09:59:07.872766-07:00"
    },
    "collapsed": true
   },
   "outputs": [],
   "source": [
    "exp = SimpleExperiment(\n",
    "    name=\"my_factorial_closed_loop_experiment\",\n",
    "    search_space=search_space,\n",
    "    evaluation_function=factorial_evaluation_function,\n",
    "    objective_name=\"success_metric\",\n",
    ")\n",
    "exp.status_quo = Arm(\n",
    "    parameters={\"factor1\": \"level11\", \"factor2\": \"level21\", \"factor3\": \"level31\"}\n",
    ")"
   ]
  },
  {
   "cell_type": "markdown",
   "metadata": {},
   "source": [
    "## 4. Run an exploratory batch"
   ]
  },
  {
   "cell_type": "markdown",
   "metadata": {},
   "source": [
    "<markdowncell>\n",
    "We then generate an a set of arms that covers the full space of the factorial design, including the status quo. There are three parameters, with two, three, and four values, respectively, so there are 24 possible arms."
   ]
  },
  {
   "cell_type": "code",
   "execution_count": 6,
   "metadata": {},
   "outputs": [
    {
     "name": "stdout",
     "output_type": "stream",
     "text": [
      "24\n"
     ]
    }
   ],
   "source": [
    "factorial = Models.FACTORIAL(search_space=exp.search_space)\n",
    "factorial_run = factorial.gen(n=-1)  # Number of arms to generate is derived from the search space.\n",
    "print(len(factorial_run.arms))"
   ]
  },
  {
   "cell_type": "markdown",
   "metadata": {},
   "source": [
    "Now we create a trial including all of these arms, so that we can collect data and evaluate the performance of each."
   ]
  },
  {
   "cell_type": "code",
   "execution_count": 7,
   "metadata": {
    "collapsed": true
   },
   "outputs": [],
   "source": [
    "trial = (\n",
    "    exp.new_batch_trial()\n",
    "    .add_generator_run(factorial_run, multiplier=1)\n",
    ")"
   ]
  },
  {
   "cell_type": "markdown",
   "metadata": {},
   "source": [
    "By default, the weight of each arm in `factorial_run` will be 1. However, to optimize for power on the contrasts of `k` groups against the status quo, the status quo should be `sqrt(k)` larger than any of the treatment groups. Since we have 24 different arms in our search space, the status quo should be roughly five times larger.\n",
    "\n",
    "Because the status quo is already present in `factorial_run` with a weight of 1, we need to add an additional weight of 4."
   ]
  },
  {
   "cell_type": "code",
   "execution_count": 8,
   "metadata": {
    "ExecuteTime": {
     "end_time": "2019-04-01T16:59:07.906856Z",
     "start_time": "2019-04-01T09:59:07.878299-07:00"
    }
   },
   "outputs": [
    {
     "name": "stdout",
     "output_type": "stream",
     "text": [
      "5.0\n"
     ]
    }
   ],
   "source": [
    "trial.reweight_status_quo(4)\n",
    "print(trial.arm_weights[trial.status_quo])"
   ]
  },
  {
   "cell_type": "markdown",
   "metadata": {},
   "source": [
    "## 5. Iterate using Thompson Sampling"
   ]
  },
  {
   "cell_type": "markdown",
   "metadata": {},
   "source": [
    "<markdowncell>\n",
    "Next, we run multiple trials (iterations of the experiment) to hone in on the optimal arm(s). \n",
    "\n",
    "In each iteration, we first collect data about all arms in that trial by calling `exp.eval_trial()`. Then we run Thompson Sampling, which assigns a weight to each arm that is proportional to the probability of that arm being the best. Arms whose weight exceed `min_weight` are added to the next trial, so that we can gather more data on their performance."
   ]
  },
  {
   "cell_type": "code",
   "execution_count": 9,
   "metadata": {
    "ExecuteTime": {
     "end_time": "2019-04-01T16:59:08.480646Z",
     "start_time": "2019-04-01T09:59:07.908822-07:00"
    }
   },
   "outputs": [
    {
     "name": "stdout",
     "output_type": "stream",
     "text": [
      "Running iteration 1...\n",
      "Running iteration 2...\n"
     ]
    },
    {
     "name": "stdout",
     "output_type": "stream",
     "text": [
      "Running iteration 3...\n",
      "Running iteration 4...\n"
     ]
    }
   ],
   "source": [
    "models = []\n",
    "for i in range(4):\n",
    "    print(\"Running iteration {}...\".format(i+1))\n",
    "    data = exp.eval_trial(trial)\n",
    "    thompson = Models.THOMPSON(\n",
    "        experiment=exp, data=data, min_weight=0.01\n",
    "    )\n",
    "    models.append(thompson)\n",
    "    thompson_run = thompson.gen(n=-1)\n",
    "    trial = exp.new_batch_trial().add_generator_run(thompson_run)"
   ]
  },
  {
   "cell_type": "markdown",
   "metadata": {},
   "source": [
    "## Plot 1: Predicted outcomes for each arm in initial trial"
   ]
  },
  {
   "cell_type": "markdown",
   "metadata": {},
   "source": [
    "<markdowncell>\n",
    "The plot below shows the mean and standard error for each arm in the first trial. We can see that the standard error for the status quo is the smallest, since this arm was assigned 5x weight."
   ]
  },
  {
   "cell_type": "code",
   "execution_count": 10,
   "metadata": {
    "ExecuteTime": {
     "end_time": "2019-04-01T16:59:08.534814Z",
     "start_time": "2019-04-01T09:59:08.482576-07:00"
    },
    "scrolled": false
   },
   "outputs": [
    {
     "data": {
      "text/html": [
       "<div id=\"b5e3a7fb38934584b6f93f173af85a41\" style=\"width: 100%;\" class=\"plotly-graph-div\"></div><script type='text/javascript'>/*\n",
       " * Copyright (c) Facebook, Inc. and its affiliates. All Rights Reserved.\n",
       " */\n",
       "\n",
       "require(['plotly'], function(Plotly) {\n",
       "  window.PLOTLYENV = window.PLOTLYENV || {};\n",
       "  window.PLOTLYENV.BASE_URL = 'https://plot.ly';\n",
       "  /*\n",
       " * Copyright (c) Facebook, Inc. and its affiliates. All Rights Reserved.\n",
       " */\n",
       "\n",
       "Plotly.newPlot(\n",
       "  \"b5e3a7fb38934584b6f93f173af85a41\",\n",
       "  [{\"error_y\": {\"array\": [0.05460567612900997, 0.05135952372950486, 0.04867609428386717, 0.05207349524806791, 0.05225891318325078, 0.04704782699489906, 0.046483800973045115, 0.050926325384052604, 0.050467204950444836, 0.04550653110923539, 0.049416684688100704, 0.04906405388274115, 0.04908272251211006, 0.049702155882427934, 0.04916000492973266, 0.04762426441018482, 0.05181950873757369, 0.053009619136878995, 0.05038930167264571, 0.05062395849660258, 0.048388913578437776, 0.04980333222613168, 0.04826305812503642, 0.02320164836537709], \"color\": \"rgba(128,177,211,0.4)\", \"type\": \"data\"}, \"hoverinfo\": \"text\", \"legendgroup\": \"In-sample\", \"marker\": {\"color\": \"rgba(128,177,211,1)\"}, \"mode\": \"markers\", \"name\": \"In-sample\", \"showlegend\": true, \"text\": [\"<b>Arm 0_0</b><br><br>success_metric: 0.57 [0.515, 0.624]<br><br><em>Parameterization:</em><br>factor1: level11<br>factor2: level21<br>factor3: level32\", \"<b>Arm 0_1</b><br><br>success_metric: 0.606 [0.555, 0.658]<br><br><em>Parameterization:</em><br>factor1: level11<br>factor2: level21<br>factor3: level33\", \"<b>Arm 0_10</b><br><br>success_metric: 0.724 [0.675, 0.773]<br><br><em>Parameterization:</em><br>factor1: level12<br>factor2: level21<br>factor3: level34\", \"<b>Arm 0_11</b><br><br>success_metric: 0.605 [0.553, 0.657]<br><br><em>Parameterization:</em><br>factor1: level12<br>factor2: level22<br>factor3: level31\", \"<b>Arm 0_12</b><br><br>success_metric: 0.642 [0.590, 0.694]<br><br><em>Parameterization:</em><br>factor1: level12<br>factor2: level22<br>factor3: level32\", \"<b>Arm 0_13</b><br><br>success_metric: 0.691 [0.644, 0.738]<br><br><em>Parameterization:</em><br>factor1: level12<br>factor2: level22<br>factor3: level33\", \"<b>Arm 0_14</b><br><br>success_metric: 0.694 [0.647, 0.740]<br><br><em>Parameterization:</em><br>factor1: level12<br>factor2: level22<br>factor3: level34\", \"<b>Arm 0_15</b><br><br>success_metric: 0.603 [0.552, 0.654]<br><br><em>Parameterization:</em><br>factor1: level13<br>factor2: level21<br>factor3: level31\", \"<b>Arm 0_16</b><br><br>success_metric: 0.661 [0.610, 0.711]<br><br><em>Parameterization:</em><br>factor1: level13<br>factor2: level21<br>factor3: level32\", \"<b>Arm 0_17</b><br><br>success_metric: 0.686 [0.640, 0.731]<br><br><em>Parameterization:</em><br>factor1: level13<br>factor2: level21<br>factor3: level33\", \"<b>Arm 0_18</b><br><br>success_metric: 0.691 [0.642, 0.741]<br><br><em>Parameterization:</em><br>factor1: level13<br>factor2: level21<br>factor3: level34\", \"<b>Arm 0_19</b><br><br>success_metric: 0.643 [0.594, 0.692]<br><br><em>Parameterization:</em><br>factor1: level13<br>factor2: level22<br>factor3: level31\", \"<b>Arm 0_2</b><br><br>success_metric: 0.626 [0.577, 0.675]<br><br><em>Parameterization:</em><br>factor1: level11<br>factor2: level21<br>factor3: level34\", \"<b>Arm 0_20</b><br><br>success_metric: 0.664 [0.614, 0.713]<br><br><em>Parameterization:</em><br>factor1: level13<br>factor2: level22<br>factor3: level32\", \"<b>Arm 0_21</b><br><br>success_metric: 0.68 [0.631, 0.729]<br><br><em>Parameterization:</em><br>factor1: level13<br>factor2: level22<br>factor3: level33\", \"<b>Arm 0_22</b><br><br>success_metric: 0.7 [0.653, 0.748]<br><br><em>Parameterization:</em><br>factor1: level13<br>factor2: level22<br>factor3: level34\", \"<b>Arm 0_3</b><br><br>success_metric: 0.599 [0.547, 0.651]<br><br><em>Parameterization:</em><br>factor1: level11<br>factor2: level22<br>factor3: level31\", \"<b>Arm 0_4</b><br><br>success_metric: 0.594 [0.541, 0.647]<br><br><em>Parameterization:</em><br>factor1: level11<br>factor2: level22<br>factor3: level32\", \"<b>Arm 0_5</b><br><br>success_metric: 0.625 [0.575, 0.676]<br><br><em>Parameterization:</em><br>factor1: level11<br>factor2: level22<br>factor3: level33\", \"<b>Arm 0_6</b><br><br>success_metric: 0.647 [0.597, 0.698]<br><br><em>Parameterization:</em><br>factor1: level11<br>factor2: level22<br>factor3: level34\", \"<b>Arm 0_7</b><br><br>success_metric: 0.628 [0.579, 0.676]<br><br><em>Parameterization:</em><br>factor1: level12<br>factor2: level21<br>factor3: level31\", \"<b>Arm 0_8</b><br><br>success_metric: 0.661 [0.611, 0.711]<br><br><em>Parameterization:</em><br>factor1: level12<br>factor2: level21<br>factor3: level32\", \"<b>Arm 0_9</b><br><br>success_metric: 0.669 [0.621, 0.718]<br><br><em>Parameterization:</em><br>factor1: level12<br>factor2: level21<br>factor3: level33\", \"<b>Arm status_quo</b><br><br>success_metric: 0.575 [0.552, 0.598]<br><br><em>Parameterization:</em><br>factor1: level11<br>factor2: level21<br>factor3: level31\"], \"visible\": true, \"x\": [\"0_0\", \"0_1\", \"0_10\", \"0_11\", \"0_12\", \"0_13\", \"0_14\", \"0_15\", \"0_16\", \"0_17\", \"0_18\", \"0_19\", \"0_2\", \"0_20\", \"0_21\", \"0_22\", \"0_3\", \"0_4\", \"0_5\", \"0_6\", \"0_7\", \"0_8\", \"0_9\", \"status_quo\"], \"y\": [0.569620253164557, 0.6063218390804598, 0.7239263803680982, 0.6047197640117994, 0.6419753086419753, 0.6908602150537635, 0.6939313984168866, 0.6028169014084507, 0.6607669616519174, 0.685785536159601, 0.6913946587537092, 0.6430517711171662, 0.6256684491978609, 0.6637931034482759, 0.6801152737752162, 0.7002801120448179, 0.5988372093023255, 0.593939393939394, 0.6253521126760564, 0.6472303206997084, 0.6276041666666666, 0.6609195402298851, 0.6693989071038251, 0.5751146788990825], \"type\": \"scatter\"}],\n",
       "  {\"annotations\": [{\"showarrow\": false, \"text\": \"Sort By\", \"x\": 1.18, \"xref\": \"paper\", \"y\": 0.72, \"yanchor\": \"middle\", \"yref\": \"paper\"}], \"font\": {\"size\": 10}, \"hovermode\": \"closest\", \"title\": {\"text\": \"Predicted Outcomes\"}, \"updatemenus\": [{\"buttons\": [{\"args\": [{\"xaxis.categoryorder\": \"array\", \"xaxis.categoryarray\": [\"status_quo\", \"0_0\", \"0_1\", \"0_2\", \"0_3\", \"0_4\", \"0_5\", \"0_6\", \"0_7\", \"0_8\", \"0_9\", \"0_10\", \"0_11\", \"0_12\", \"0_13\", \"0_14\", \"0_15\", \"0_16\", \"0_17\", \"0_18\", \"0_19\", \"0_20\", \"0_21\", \"0_22\"]}], \"label\": \"Name\", \"method\": \"relayout\"}, {\"args\": [{\"xaxis.categoryorder\": \"array\", \"xaxis.categoryarray\": [\"0_0\", \"status_quo\", \"0_4\", \"0_3\", \"0_15\", \"0_11\", \"0_1\", \"0_5\", \"0_2\", \"0_7\", \"0_12\", \"0_19\", \"0_6\", \"0_16\", \"0_8\", \"0_20\", \"0_9\", \"0_21\", \"0_17\", \"0_13\", \"0_18\", \"0_14\", \"0_22\", \"0_10\"]}], \"label\": \"Effect Size\", \"method\": \"relayout\"}], \"x\": 1.25, \"xanchor\": \"left\", \"y\": 0.67, \"yanchor\": \"middle\"}], \"xaxis\": {\"categoryarray\": [\"status_quo\", \"0_0\", \"0_1\", \"0_2\", \"0_3\", \"0_4\", \"0_5\", \"0_6\", \"0_7\", \"0_8\", \"0_9\", \"0_10\", \"0_11\", \"0_12\", \"0_13\", \"0_14\", \"0_15\", \"0_16\", \"0_17\", \"0_18\", \"0_19\", \"0_20\", \"0_21\", \"0_22\"], \"categoryorder\": \"array\", \"tickangle\": 45}, \"yaxis\": {\"title\": {\"text\": \"success_metric\"}, \"zerolinecolor\": \"red\"}, \"template\": {\"data\": {\"barpolar\": [{\"marker\": {\"line\": {\"color\": \"#E5ECF6\", \"width\": 0.5}}, \"type\": \"barpolar\"}], \"bar\": [{\"error_x\": {\"color\": \"#2a3f5f\"}, \"error_y\": {\"color\": \"#2a3f5f\"}, \"marker\": {\"line\": {\"color\": \"#E5ECF6\", \"width\": 0.5}}, \"type\": \"bar\"}], \"carpet\": [{\"aaxis\": {\"endlinecolor\": \"#2a3f5f\", \"gridcolor\": \"white\", \"linecolor\": \"white\", \"minorgridcolor\": \"white\", \"startlinecolor\": \"#2a3f5f\"}, \"baxis\": {\"endlinecolor\": \"#2a3f5f\", \"gridcolor\": \"white\", \"linecolor\": \"white\", \"minorgridcolor\": \"white\", \"startlinecolor\": \"#2a3f5f\"}, \"type\": \"carpet\"}], \"choropleth\": [{\"colorbar\": {\"outlinewidth\": 0, \"ticks\": \"\"}, \"type\": \"choropleth\"}], \"contourcarpet\": [{\"colorbar\": {\"outlinewidth\": 0, \"ticks\": \"\"}, \"type\": \"contourcarpet\"}], \"contour\": [{\"colorbar\": {\"outlinewidth\": 0, \"ticks\": \"\"}, \"colorscale\": [[0.0, \"#0d0887\"], [0.1111111111111111, \"#46039f\"], [0.2222222222222222, \"#7201a8\"], [0.3333333333333333, \"#9c179e\"], [0.4444444444444444, \"#bd3786\"], [0.5555555555555556, \"#d8576b\"], [0.6666666666666666, \"#ed7953\"], [0.7777777777777778, \"#fb9f3a\"], [0.8888888888888888, \"#fdca26\"], [1.0, \"#f0f921\"]], \"type\": \"contour\"}], \"heatmapgl\": [{\"colorbar\": {\"outlinewidth\": 0, \"ticks\": \"\"}, \"colorscale\": [[0.0, \"#0d0887\"], [0.1111111111111111, \"#46039f\"], [0.2222222222222222, \"#7201a8\"], [0.3333333333333333, \"#9c179e\"], [0.4444444444444444, \"#bd3786\"], [0.5555555555555556, \"#d8576b\"], [0.6666666666666666, \"#ed7953\"], [0.7777777777777778, \"#fb9f3a\"], [0.8888888888888888, \"#fdca26\"], [1.0, \"#f0f921\"]], \"type\": \"heatmapgl\"}], \"heatmap\": [{\"colorbar\": {\"outlinewidth\": 0, \"ticks\": \"\"}, \"colorscale\": [[0.0, \"#0d0887\"], [0.1111111111111111, \"#46039f\"], [0.2222222222222222, \"#7201a8\"], [0.3333333333333333, \"#9c179e\"], [0.4444444444444444, \"#bd3786\"], [0.5555555555555556, \"#d8576b\"], [0.6666666666666666, \"#ed7953\"], [0.7777777777777778, \"#fb9f3a\"], [0.8888888888888888, \"#fdca26\"], [1.0, \"#f0f921\"]], \"type\": \"heatmap\"}], \"histogram2dcontour\": [{\"colorbar\": {\"outlinewidth\": 0, \"ticks\": \"\"}, \"colorscale\": [[0.0, \"#0d0887\"], [0.1111111111111111, \"#46039f\"], [0.2222222222222222, \"#7201a8\"], [0.3333333333333333, \"#9c179e\"], [0.4444444444444444, \"#bd3786\"], [0.5555555555555556, \"#d8576b\"], [0.6666666666666666, \"#ed7953\"], [0.7777777777777778, \"#fb9f3a\"], [0.8888888888888888, \"#fdca26\"], [1.0, \"#f0f921\"]], \"type\": \"histogram2dcontour\"}], \"histogram2d\": [{\"colorbar\": {\"outlinewidth\": 0, \"ticks\": \"\"}, \"colorscale\": [[0.0, \"#0d0887\"], [0.1111111111111111, \"#46039f\"], [0.2222222222222222, \"#7201a8\"], [0.3333333333333333, \"#9c179e\"], [0.4444444444444444, \"#bd3786\"], [0.5555555555555556, \"#d8576b\"], [0.6666666666666666, \"#ed7953\"], [0.7777777777777778, \"#fb9f3a\"], [0.8888888888888888, \"#fdca26\"], [1.0, \"#f0f921\"]], \"type\": \"histogram2d\"}], \"histogram\": [{\"marker\": {\"colorbar\": {\"outlinewidth\": 0, \"ticks\": \"\"}}, \"type\": \"histogram\"}], \"mesh3d\": [{\"colorbar\": {\"outlinewidth\": 0, \"ticks\": \"\"}, \"type\": \"mesh3d\"}], \"parcoords\": [{\"line\": {\"colorbar\": {\"outlinewidth\": 0, \"ticks\": \"\"}}, \"type\": \"parcoords\"}], \"scatter3d\": [{\"line\": {\"colorbar\": {\"outlinewidth\": 0, \"ticks\": \"\"}}, \"marker\": {\"colorbar\": {\"outlinewidth\": 0, \"ticks\": \"\"}}, \"type\": \"scatter3d\"}], \"scattercarpet\": [{\"marker\": {\"colorbar\": {\"outlinewidth\": 0, \"ticks\": \"\"}}, \"type\": \"scattercarpet\"}], \"scattergeo\": [{\"marker\": {\"colorbar\": {\"outlinewidth\": 0, \"ticks\": \"\"}}, \"type\": \"scattergeo\"}], \"scattergl\": [{\"marker\": {\"colorbar\": {\"outlinewidth\": 0, \"ticks\": \"\"}}, \"type\": \"scattergl\"}], \"scattermapbox\": [{\"marker\": {\"colorbar\": {\"outlinewidth\": 0, \"ticks\": \"\"}}, \"type\": \"scattermapbox\"}], \"scatterpolargl\": [{\"marker\": {\"colorbar\": {\"outlinewidth\": 0, \"ticks\": \"\"}}, \"type\": \"scatterpolargl\"}], \"scatterpolar\": [{\"marker\": {\"colorbar\": {\"outlinewidth\": 0, \"ticks\": \"\"}}, \"type\": \"scatterpolar\"}], \"scatter\": [{\"marker\": {\"colorbar\": {\"outlinewidth\": 0, \"ticks\": \"\"}}, \"type\": \"scatter\"}], \"scatterternary\": [{\"marker\": {\"colorbar\": {\"outlinewidth\": 0, \"ticks\": \"\"}}, \"type\": \"scatterternary\"}], \"surface\": [{\"colorbar\": {\"outlinewidth\": 0, \"ticks\": \"\"}, \"colorscale\": [[0.0, \"#0d0887\"], [0.1111111111111111, \"#46039f\"], [0.2222222222222222, \"#7201a8\"], [0.3333333333333333, \"#9c179e\"], [0.4444444444444444, \"#bd3786\"], [0.5555555555555556, \"#d8576b\"], [0.6666666666666666, \"#ed7953\"], [0.7777777777777778, \"#fb9f3a\"], [0.8888888888888888, \"#fdca26\"], [1.0, \"#f0f921\"]], \"type\": \"surface\"}], \"table\": [{\"cells\": {\"fill\": {\"color\": \"#EBF0F8\"}, \"line\": {\"color\": \"white\"}}, \"header\": {\"fill\": {\"color\": \"#C8D4E3\"}, \"line\": {\"color\": \"white\"}}, \"type\": \"table\"}]}, \"layout\": {\"annotationdefaults\": {\"arrowcolor\": \"#2a3f5f\", \"arrowhead\": 0, \"arrowwidth\": 1}, \"colorscale\": {\"diverging\": [[0, \"#8e0152\"], [0.1, \"#c51b7d\"], [0.2, \"#de77ae\"], [0.3, \"#f1b6da\"], [0.4, \"#fde0ef\"], [0.5, \"#f7f7f7\"], [0.6, \"#e6f5d0\"], [0.7, \"#b8e186\"], [0.8, \"#7fbc41\"], [0.9, \"#4d9221\"], [1, \"#276419\"]], \"sequential\": [[0.0, \"#0d0887\"], [0.1111111111111111, \"#46039f\"], [0.2222222222222222, \"#7201a8\"], [0.3333333333333333, \"#9c179e\"], [0.4444444444444444, \"#bd3786\"], [0.5555555555555556, \"#d8576b\"], [0.6666666666666666, \"#ed7953\"], [0.7777777777777778, \"#fb9f3a\"], [0.8888888888888888, \"#fdca26\"], [1.0, \"#f0f921\"]], \"sequentialminus\": [[0.0, \"#0d0887\"], [0.1111111111111111, \"#46039f\"], [0.2222222222222222, \"#7201a8\"], [0.3333333333333333, \"#9c179e\"], [0.4444444444444444, \"#bd3786\"], [0.5555555555555556, \"#d8576b\"], [0.6666666666666666, \"#ed7953\"], [0.7777777777777778, \"#fb9f3a\"], [0.8888888888888888, \"#fdca26\"], [1.0, \"#f0f921\"]]}, \"colorway\": [\"#636efa\", \"#EF553B\", \"#00cc96\", \"#ab63fa\", \"#FFA15A\", \"#19d3f3\", \"#FF6692\", \"#B6E880\", \"#FF97FF\", \"#FECB52\"], \"font\": {\"color\": \"#2a3f5f\"}, \"geo\": {\"bgcolor\": \"white\", \"lakecolor\": \"white\", \"landcolor\": \"#E5ECF6\", \"showlakes\": true, \"showland\": true, \"subunitcolor\": \"white\"}, \"hoverlabel\": {\"align\": \"left\"}, \"hovermode\": \"closest\", \"mapbox\": {\"style\": \"light\"}, \"paper_bgcolor\": \"white\", \"plot_bgcolor\": \"#E5ECF6\", \"polar\": {\"angularaxis\": {\"gridcolor\": \"white\", \"linecolor\": \"white\", \"ticks\": \"\"}, \"bgcolor\": \"#E5ECF6\", \"radialaxis\": {\"gridcolor\": \"white\", \"linecolor\": \"white\", \"ticks\": \"\"}}, \"scene\": {\"xaxis\": {\"backgroundcolor\": \"#E5ECF6\", \"gridcolor\": \"white\", \"gridwidth\": 2, \"linecolor\": \"white\", \"showbackground\": true, \"ticks\": \"\", \"zerolinecolor\": \"white\"}, \"yaxis\": {\"backgroundcolor\": \"#E5ECF6\", \"gridcolor\": \"white\", \"gridwidth\": 2, \"linecolor\": \"white\", \"showbackground\": true, \"ticks\": \"\", \"zerolinecolor\": \"white\"}, \"zaxis\": {\"backgroundcolor\": \"#E5ECF6\", \"gridcolor\": \"white\", \"gridwidth\": 2, \"linecolor\": \"white\", \"showbackground\": true, \"ticks\": \"\", \"zerolinecolor\": \"white\"}}, \"shapedefaults\": {\"line\": {\"color\": \"#2a3f5f\"}}, \"ternary\": {\"aaxis\": {\"gridcolor\": \"white\", \"linecolor\": \"white\", \"ticks\": \"\"}, \"baxis\": {\"gridcolor\": \"white\", \"linecolor\": \"white\", \"ticks\": \"\"}, \"bgcolor\": \"#E5ECF6\", \"caxis\": {\"gridcolor\": \"white\", \"linecolor\": \"white\", \"ticks\": \"\"}}, \"title\": {\"x\": 0.05}, \"xaxis\": {\"automargin\": true, \"gridcolor\": \"white\", \"linecolor\": \"white\", \"ticks\": \"\", \"zerolinecolor\": \"white\", \"zerolinewidth\": 2}, \"yaxis\": {\"automargin\": true, \"gridcolor\": \"white\", \"linecolor\": \"white\", \"ticks\": \"\", \"zerolinecolor\": \"white\", \"zerolinewidth\": 2}}}},\n",
       "  {\"showLink\": false}\n",
       ");\n",
       "});</script>"
      ]
     },
     "metadata": {},
     "output_type": "display_data"
    }
   ],
   "source": [
    "render(plot_fitted(models[0], metric=\"success_metric\", rel=False))"
   ]
  },
  {
   "cell_type": "markdown",
   "metadata": {},
   "source": [
    "## Plot 2: Predicted outcomes for arms in last trial"
   ]
  },
  {
   "cell_type": "markdown",
   "metadata": {},
   "source": [
    "The following plot below shows the mean and standard error for each arm that made it to the last trial (as well as the status quo, which appears throughout). "
   ]
  },
  {
   "cell_type": "code",
   "execution_count": 11,
   "metadata": {},
   "outputs": [
    {
     "data": {
      "text/html": [
       "<div id=\"bf064e7c23a34faabca1f6239b48c8df\" style=\"width: 100%;\" class=\"plotly-graph-div\"></div><script type='text/javascript'>/*\n",
       " * Copyright (c) Facebook, Inc. and its affiliates. All Rights Reserved.\n",
       " */\n",
       "\n",
       "require(['plotly'], function(Plotly) {\n",
       "  window.PLOTLYENV = window.PLOTLYENV || {};\n",
       "  window.PLOTLYENV.BASE_URL = 'https://plot.ly';\n",
       "  /*\n",
       " * Copyright (c) Facebook, Inc. and its affiliates. All Rights Reserved.\n",
       " */\n",
       "\n",
       "Plotly.newPlot(\n",
       "  \"bf064e7c23a34faabca1f6239b48c8df\",\n",
       "  [{\"error_y\": {\"array\": [0.041291807618900445, 0.019234409049398594, 0.04613943583570738, 0.01263960166727488, 0.052186201046225796, 0.02373660359231607], \"color\": \"rgba(128,177,211,0.4)\", \"type\": \"data\"}, \"hoverinfo\": \"text\", \"legendgroup\": \"In-sample\", \"marker\": {\"color\": \"rgba(128,177,211,1)\"}, \"mode\": \"markers\", \"name\": \"In-sample\", \"showlegend\": true, \"text\": [\"<b>Arm 0_17</b><br><br>success_metric: 0.643 [0.602, 0.684]<br><br><em>Parameterization:</em><br>factor1: level13<br>factor2: level21<br>factor3: level33\", \"<b>Arm 0_18</b><br><br>success_metric: 0.667 [0.648, 0.686]<br><br><em>Parameterization:</em><br>factor1: level13<br>factor2: level21<br>factor3: level34\", \"<b>Arm 0_21</b><br><br>success_metric: 0.672 [0.626, 0.718]<br><br><em>Parameterization:</em><br>factor1: level13<br>factor2: level22<br>factor3: level33\", \"<b>Arm 0_22</b><br><br>success_metric: 0.722 [0.709, 0.735]<br><br><em>Parameterization:</em><br>factor1: level13<br>factor2: level22<br>factor3: level34\", \"<b>Arm 0_9</b><br><br>success_metric: 0.625 [0.573, 0.678]<br><br><em>Parameterization:</em><br>factor1: level12<br>factor2: level21<br>factor3: level33\", \"<b>Arm status_quo</b><br><br>success_metric: 0.563 [0.539, 0.586]<br><br><em>Parameterization:</em><br>factor1: level11<br>factor2: level21<br>factor3: level31\"], \"visible\": true, \"x\": [\"0_17\", \"0_18\", \"0_21\", \"0_22\", \"0_9\", \"status_quo\"], \"y\": [0.6428571428571429, 0.6668110918544194, 0.6716791979949874, 0.7220381110190555, 0.6253776435045317, 0.5625744934445769], \"type\": \"scatter\"}],\n",
       "  {\"annotations\": [{\"showarrow\": false, \"text\": \"Sort By\", \"x\": 1.18, \"xref\": \"paper\", \"y\": 0.72, \"yanchor\": \"middle\", \"yref\": \"paper\"}], \"font\": {\"size\": 10}, \"hovermode\": \"closest\", \"title\": {\"text\": \"Predicted Outcomes\"}, \"updatemenus\": [{\"buttons\": [{\"args\": [{\"xaxis.categoryorder\": \"array\", \"xaxis.categoryarray\": [\"status_quo\", \"0_9\", \"0_17\", \"0_18\", \"0_21\", \"0_22\"]}], \"label\": \"Name\", \"method\": \"relayout\"}, {\"args\": [{\"xaxis.categoryorder\": \"array\", \"xaxis.categoryarray\": [\"status_quo\", \"0_9\", \"0_17\", \"0_18\", \"0_21\", \"0_22\"]}], \"label\": \"Effect Size\", \"method\": \"relayout\"}], \"x\": 1.25, \"xanchor\": \"left\", \"y\": 0.67, \"yanchor\": \"middle\"}], \"xaxis\": {\"categoryarray\": [\"status_quo\", \"0_9\", \"0_17\", \"0_18\", \"0_21\", \"0_22\"], \"categoryorder\": \"array\", \"tickangle\": 45}, \"yaxis\": {\"title\": {\"text\": \"success_metric\"}, \"zerolinecolor\": \"red\"}, \"template\": {\"data\": {\"barpolar\": [{\"marker\": {\"line\": {\"color\": \"#E5ECF6\", \"width\": 0.5}}, \"type\": \"barpolar\"}], \"bar\": [{\"error_x\": {\"color\": \"#2a3f5f\"}, \"error_y\": {\"color\": \"#2a3f5f\"}, \"marker\": {\"line\": {\"color\": \"#E5ECF6\", \"width\": 0.5}}, \"type\": \"bar\"}], \"carpet\": [{\"aaxis\": {\"endlinecolor\": \"#2a3f5f\", \"gridcolor\": \"white\", \"linecolor\": \"white\", \"minorgridcolor\": \"white\", \"startlinecolor\": \"#2a3f5f\"}, \"baxis\": {\"endlinecolor\": \"#2a3f5f\", \"gridcolor\": \"white\", \"linecolor\": \"white\", \"minorgridcolor\": \"white\", \"startlinecolor\": \"#2a3f5f\"}, \"type\": \"carpet\"}], \"choropleth\": [{\"colorbar\": {\"outlinewidth\": 0, \"ticks\": \"\"}, \"type\": \"choropleth\"}], \"contourcarpet\": [{\"colorbar\": {\"outlinewidth\": 0, \"ticks\": \"\"}, \"type\": \"contourcarpet\"}], \"contour\": [{\"colorbar\": {\"outlinewidth\": 0, \"ticks\": \"\"}, \"colorscale\": [[0.0, \"#0d0887\"], [0.1111111111111111, \"#46039f\"], [0.2222222222222222, \"#7201a8\"], [0.3333333333333333, \"#9c179e\"], [0.4444444444444444, \"#bd3786\"], [0.5555555555555556, \"#d8576b\"], [0.6666666666666666, \"#ed7953\"], [0.7777777777777778, \"#fb9f3a\"], [0.8888888888888888, \"#fdca26\"], [1.0, \"#f0f921\"]], \"type\": \"contour\"}], \"heatmapgl\": [{\"colorbar\": {\"outlinewidth\": 0, \"ticks\": \"\"}, \"colorscale\": [[0.0, \"#0d0887\"], [0.1111111111111111, \"#46039f\"], [0.2222222222222222, \"#7201a8\"], [0.3333333333333333, \"#9c179e\"], [0.4444444444444444, \"#bd3786\"], [0.5555555555555556, \"#d8576b\"], [0.6666666666666666, \"#ed7953\"], [0.7777777777777778, \"#fb9f3a\"], [0.8888888888888888, \"#fdca26\"], [1.0, \"#f0f921\"]], \"type\": \"heatmapgl\"}], \"heatmap\": [{\"colorbar\": {\"outlinewidth\": 0, \"ticks\": \"\"}, \"colorscale\": [[0.0, \"#0d0887\"], [0.1111111111111111, \"#46039f\"], [0.2222222222222222, \"#7201a8\"], [0.3333333333333333, \"#9c179e\"], [0.4444444444444444, \"#bd3786\"], [0.5555555555555556, \"#d8576b\"], [0.6666666666666666, \"#ed7953\"], [0.7777777777777778, \"#fb9f3a\"], [0.8888888888888888, \"#fdca26\"], [1.0, \"#f0f921\"]], \"type\": \"heatmap\"}], \"histogram2dcontour\": [{\"colorbar\": {\"outlinewidth\": 0, \"ticks\": \"\"}, \"colorscale\": [[0.0, \"#0d0887\"], [0.1111111111111111, \"#46039f\"], [0.2222222222222222, \"#7201a8\"], [0.3333333333333333, \"#9c179e\"], [0.4444444444444444, \"#bd3786\"], [0.5555555555555556, \"#d8576b\"], [0.6666666666666666, \"#ed7953\"], [0.7777777777777778, \"#fb9f3a\"], [0.8888888888888888, \"#fdca26\"], [1.0, \"#f0f921\"]], \"type\": \"histogram2dcontour\"}], \"histogram2d\": [{\"colorbar\": {\"outlinewidth\": 0, \"ticks\": \"\"}, \"colorscale\": [[0.0, \"#0d0887\"], [0.1111111111111111, \"#46039f\"], [0.2222222222222222, \"#7201a8\"], [0.3333333333333333, \"#9c179e\"], [0.4444444444444444, \"#bd3786\"], [0.5555555555555556, \"#d8576b\"], [0.6666666666666666, \"#ed7953\"], [0.7777777777777778, \"#fb9f3a\"], [0.8888888888888888, \"#fdca26\"], [1.0, \"#f0f921\"]], \"type\": \"histogram2d\"}], \"histogram\": [{\"marker\": {\"colorbar\": {\"outlinewidth\": 0, \"ticks\": \"\"}}, \"type\": \"histogram\"}], \"mesh3d\": [{\"colorbar\": {\"outlinewidth\": 0, \"ticks\": \"\"}, \"type\": \"mesh3d\"}], \"parcoords\": [{\"line\": {\"colorbar\": {\"outlinewidth\": 0, \"ticks\": \"\"}}, \"type\": \"parcoords\"}], \"scatter3d\": [{\"line\": {\"colorbar\": {\"outlinewidth\": 0, \"ticks\": \"\"}}, \"marker\": {\"colorbar\": {\"outlinewidth\": 0, \"ticks\": \"\"}}, \"type\": \"scatter3d\"}], \"scattercarpet\": [{\"marker\": {\"colorbar\": {\"outlinewidth\": 0, \"ticks\": \"\"}}, \"type\": \"scattercarpet\"}], \"scattergeo\": [{\"marker\": {\"colorbar\": {\"outlinewidth\": 0, \"ticks\": \"\"}}, \"type\": \"scattergeo\"}], \"scattergl\": [{\"marker\": {\"colorbar\": {\"outlinewidth\": 0, \"ticks\": \"\"}}, \"type\": \"scattergl\"}], \"scattermapbox\": [{\"marker\": {\"colorbar\": {\"outlinewidth\": 0, \"ticks\": \"\"}}, \"type\": \"scattermapbox\"}], \"scatterpolargl\": [{\"marker\": {\"colorbar\": {\"outlinewidth\": 0, \"ticks\": \"\"}}, \"type\": \"scatterpolargl\"}], \"scatterpolar\": [{\"marker\": {\"colorbar\": {\"outlinewidth\": 0, \"ticks\": \"\"}}, \"type\": \"scatterpolar\"}], \"scatter\": [{\"marker\": {\"colorbar\": {\"outlinewidth\": 0, \"ticks\": \"\"}}, \"type\": \"scatter\"}], \"scatterternary\": [{\"marker\": {\"colorbar\": {\"outlinewidth\": 0, \"ticks\": \"\"}}, \"type\": \"scatterternary\"}], \"surface\": [{\"colorbar\": {\"outlinewidth\": 0, \"ticks\": \"\"}, \"colorscale\": [[0.0, \"#0d0887\"], [0.1111111111111111, \"#46039f\"], [0.2222222222222222, \"#7201a8\"], [0.3333333333333333, \"#9c179e\"], [0.4444444444444444, \"#bd3786\"], [0.5555555555555556, \"#d8576b\"], [0.6666666666666666, \"#ed7953\"], [0.7777777777777778, \"#fb9f3a\"], [0.8888888888888888, \"#fdca26\"], [1.0, \"#f0f921\"]], \"type\": \"surface\"}], \"table\": [{\"cells\": {\"fill\": {\"color\": \"#EBF0F8\"}, \"line\": {\"color\": \"white\"}}, \"header\": {\"fill\": {\"color\": \"#C8D4E3\"}, \"line\": {\"color\": \"white\"}}, \"type\": \"table\"}]}, \"layout\": {\"annotationdefaults\": {\"arrowcolor\": \"#2a3f5f\", \"arrowhead\": 0, \"arrowwidth\": 1}, \"colorscale\": {\"diverging\": [[0, \"#8e0152\"], [0.1, \"#c51b7d\"], [0.2, \"#de77ae\"], [0.3, \"#f1b6da\"], [0.4, \"#fde0ef\"], [0.5, \"#f7f7f7\"], [0.6, \"#e6f5d0\"], [0.7, \"#b8e186\"], [0.8, \"#7fbc41\"], [0.9, \"#4d9221\"], [1, \"#276419\"]], \"sequential\": [[0.0, \"#0d0887\"], [0.1111111111111111, \"#46039f\"], [0.2222222222222222, \"#7201a8\"], [0.3333333333333333, \"#9c179e\"], [0.4444444444444444, \"#bd3786\"], [0.5555555555555556, \"#d8576b\"], [0.6666666666666666, \"#ed7953\"], [0.7777777777777778, \"#fb9f3a\"], [0.8888888888888888, \"#fdca26\"], [1.0, \"#f0f921\"]], \"sequentialminus\": [[0.0, \"#0d0887\"], [0.1111111111111111, \"#46039f\"], [0.2222222222222222, \"#7201a8\"], [0.3333333333333333, \"#9c179e\"], [0.4444444444444444, \"#bd3786\"], [0.5555555555555556, \"#d8576b\"], [0.6666666666666666, \"#ed7953\"], [0.7777777777777778, \"#fb9f3a\"], [0.8888888888888888, \"#fdca26\"], [1.0, \"#f0f921\"]]}, \"colorway\": [\"#636efa\", \"#EF553B\", \"#00cc96\", \"#ab63fa\", \"#FFA15A\", \"#19d3f3\", \"#FF6692\", \"#B6E880\", \"#FF97FF\", \"#FECB52\"], \"font\": {\"color\": \"#2a3f5f\"}, \"geo\": {\"bgcolor\": \"white\", \"lakecolor\": \"white\", \"landcolor\": \"#E5ECF6\", \"showlakes\": true, \"showland\": true, \"subunitcolor\": \"white\"}, \"hoverlabel\": {\"align\": \"left\"}, \"hovermode\": \"closest\", \"mapbox\": {\"style\": \"light\"}, \"paper_bgcolor\": \"white\", \"plot_bgcolor\": \"#E5ECF6\", \"polar\": {\"angularaxis\": {\"gridcolor\": \"white\", \"linecolor\": \"white\", \"ticks\": \"\"}, \"bgcolor\": \"#E5ECF6\", \"radialaxis\": {\"gridcolor\": \"white\", \"linecolor\": \"white\", \"ticks\": \"\"}}, \"scene\": {\"xaxis\": {\"backgroundcolor\": \"#E5ECF6\", \"gridcolor\": \"white\", \"gridwidth\": 2, \"linecolor\": \"white\", \"showbackground\": true, \"ticks\": \"\", \"zerolinecolor\": \"white\"}, \"yaxis\": {\"backgroundcolor\": \"#E5ECF6\", \"gridcolor\": \"white\", \"gridwidth\": 2, \"linecolor\": \"white\", \"showbackground\": true, \"ticks\": \"\", \"zerolinecolor\": \"white\"}, \"zaxis\": {\"backgroundcolor\": \"#E5ECF6\", \"gridcolor\": \"white\", \"gridwidth\": 2, \"linecolor\": \"white\", \"showbackground\": true, \"ticks\": \"\", \"zerolinecolor\": \"white\"}}, \"shapedefaults\": {\"line\": {\"color\": \"#2a3f5f\"}}, \"ternary\": {\"aaxis\": {\"gridcolor\": \"white\", \"linecolor\": \"white\", \"ticks\": \"\"}, \"baxis\": {\"gridcolor\": \"white\", \"linecolor\": \"white\", \"ticks\": \"\"}, \"bgcolor\": \"#E5ECF6\", \"caxis\": {\"gridcolor\": \"white\", \"linecolor\": \"white\", \"ticks\": \"\"}}, \"title\": {\"x\": 0.05}, \"xaxis\": {\"automargin\": true, \"gridcolor\": \"white\", \"linecolor\": \"white\", \"ticks\": \"\", \"zerolinecolor\": \"white\", \"zerolinewidth\": 2}, \"yaxis\": {\"automargin\": true, \"gridcolor\": \"white\", \"linecolor\": \"white\", \"ticks\": \"\", \"zerolinecolor\": \"white\", \"zerolinewidth\": 2}}}},\n",
       "  {\"showLink\": false}\n",
       ");\n",
       "});</script>"
      ]
     },
     "metadata": {},
     "output_type": "display_data"
    }
   ],
   "source": [
    "render(plot_fitted(models[-1], metric=\"success_metric\", rel=False))"
   ]
  },
  {
   "cell_type": "markdown",
   "metadata": {},
   "source": [
    "<markdowncell>\n",
    "As expected given our evaluation function, arms with higher levels\n",
    "perform better and are given higher weight. Below we see the arms\n",
    "that made it to the final trial."
   ]
  },
  {
   "cell_type": "code",
   "execution_count": 12,
   "metadata": {
    "ExecuteTime": {
     "end_time": "2019-04-01T16:59:08.548754Z",
     "start_time": "2019-04-01T09:59:08.536758-07:00"
    }
   },
   "outputs": [
    {
     "name": "stdout",
     "output_type": "stream",
     "text": [
      "                    values    weight\n",
      "0  level13,level22,level34  0.654463\n",
      "1  level13,level22,level33  0.012204\n",
      "2  level11,level21,level31  0.333333\n"
     ]
    }
   ],
   "source": [
    "results = pd.DataFrame(\n",
    "    [\n",
    "        {\"values\": \",\".join(arm.parameters.values()), \"weight\": weight}\n",
    "        for arm, weight in trial.normalized_arm_weights().items()\n",
    "    ]\n",
    ")\n",
    "print(results)"
   ]
  },
  {
   "cell_type": "markdown",
   "metadata": {},
   "source": [
    "## Plot 3: Rollout Process"
   ]
  },
  {
   "cell_type": "markdown",
   "metadata": {},
   "source": [
    "We can also visualize the progression of the experience in the following rollout chart. Each bar represents a trial, and the width of the bands within a bar are proportional to the weight of the arms in that trial. \n",
    "\n",
    "In the first trial, all arms appear with equal weight, except for the status quo. By the last trial, we have narrowed our focus to only four arms, with arm 0_22 (the arm with the highest levels) having the greatest weight."
   ]
  },
  {
   "cell_type": "code",
   "execution_count": 13,
   "metadata": {
    "ExecuteTime": {
     "end_time": "2019-04-01T16:59:08.569844Z",
     "start_time": "2019-04-01T09:59:08.550440-07:00"
    }
   },
   "outputs": [
    {
     "data": {
      "text/html": [
       "<div id=\"1c47fe7f539a4a9dafa5c76323d8603a\" style=\"width: 100%;\" class=\"plotly-graph-div\"></div><script type='text/javascript'>/*\n",
       " * Copyright (c) Facebook, Inc. and its affiliates. All Rights Reserved.\n",
       " */\n",
       "\n",
       "require(['plotly'], function(Plotly) {\n",
       "  window.PLOTLYENV = window.PLOTLYENV || {};\n",
       "  window.PLOTLYENV.BASE_URL = 'https://plot.ly';\n",
       "  /*\n",
       " * Copyright (c) Facebook, Inc. and its affiliates. All Rights Reserved.\n",
       " */\n",
       "\n",
       "const data = [{\"index\": 0, \"name\": \"status_quo\", \"x\": [\"Round 0\", \"Round 1\", \"Round 2\", \"Round 3\", \"Round 4\"], \"y\": [17.857142857142858, 11.11111111111111, 12.499999999999996, 16.666666666666668, 33.333333333333336], \"text\": [\"17.86%\", \"11.11%\", \"12.50%\", \"16.67%\", \"33.33%\"]}, {\"index\": 1, \"name\": \"0_0\", \"x\": [\"Round 0\"], \"y\": [3.5714285714285716], \"text\": [\"3.57%\"]}, {\"index\": 2, \"name\": \"0_1\", \"x\": [\"Round 0\"], \"y\": [3.5714285714285716], \"text\": [\"3.57%\"]}, {\"index\": 3, \"name\": \"0_2\", \"x\": [\"Round 0\"], \"y\": [3.5714285714285716], \"text\": [\"3.57%\"]}, {\"index\": 4, \"name\": \"0_3\", \"x\": [\"Round 0\"], \"y\": [3.5714285714285716], \"text\": [\"3.57%\"]}, {\"index\": 5, \"name\": \"0_4\", \"x\": [\"Round 0\"], \"y\": [3.5714285714285716], \"text\": [\"3.57%\"]}, {\"index\": 6, \"name\": \"0_5\", \"x\": [\"Round 0\"], \"y\": [3.5714285714285716], \"text\": [\"3.57%\"]}, {\"index\": 7, \"name\": \"0_6\", \"x\": [\"Round 0\"], \"y\": [3.5714285714285716], \"text\": [\"3.57%\"]}, {\"index\": 8, \"name\": \"0_7\", \"x\": [\"Round 0\"], \"y\": [3.5714285714285716], \"text\": [\"3.57%\"]}, {\"index\": 9, \"name\": \"0_8\", \"x\": [\"Round 0\"], \"y\": [3.5714285714285716], \"text\": [\"3.57%\"]}, {\"index\": 10, \"name\": \"0_9\", \"x\": [\"Round 0\", \"Round 1\", \"Round 2\", \"Round 3\"], \"y\": [3.5714285714285716, 1.139951894030072, 6.614999999999998, 3.4600633650158414], \"text\": [\"3.57%\", \"1.14%\", \"6.61%\", \"3.46%\"]}, {\"index\": 11, \"name\": \"0_10\", \"x\": [\"Round 0\", \"Round 1\"], \"y\": [3.5714285714285716, 47.40375956134651], \"text\": [\"3.57%\", \"47.40%\"]}, {\"index\": 12, \"name\": \"0_11\", \"x\": [\"Round 0\"], \"y\": [3.5714285714285716], \"text\": [\"3.57%\"]}, {\"index\": 13, \"name\": \"0_12\", \"x\": [\"Round 0\"], \"y\": [3.5714285714285716], \"text\": [\"3.57%\"]}, {\"index\": 14, \"name\": \"0_13\", \"x\": [\"Round 0\", \"Round 1\", \"Round 2\"], \"y\": [3.5714285714285716, 6.3290129156549595, 7.892499999999999], \"text\": [\"3.57%\", \"6.33%\", \"7.89%\"]}, {\"index\": 15, \"name\": \"0_14\", \"x\": [\"Round 0\", \"Round 1\", \"Round 2\"], \"y\": [3.5714285714285716, 7.715194418795526, 22.163749999999997], \"text\": [\"3.57%\", \"7.72%\", \"22.16%\"]}, {\"index\": 16, \"name\": \"0_15\", \"x\": [\"Round 0\"], \"y\": [3.5714285714285716], \"text\": [\"3.57%\"]}, {\"index\": 17, \"name\": \"0_16\", \"x\": [\"Round 0\"], \"y\": [3.5714285714285716], \"text\": [\"3.57%\"]}, {\"index\": 18, \"name\": \"0_17\", \"x\": [\"Round 0\", \"Round 1\", \"Round 2\", \"Round 3\"], \"y\": [3.5714285714285716, 4.13118566396498, 2.6162499999999995, 5.127563781890945], \"text\": [\"3.57%\", \"4.13%\", \"2.62%\", \"5.13%\"]}, {\"index\": 19, \"name\": \"0_18\", \"x\": [\"Round 0\", \"Round 1\", \"Round 2\", \"Round 3\"], \"y\": [3.5714285714285716, 7.0768213581386865, 1.2687499999999998, 22.986493246623315], \"text\": [\"3.57%\", \"7.08%\", \"1.27%\", \"22.99%\"]}, {\"index\": 20, \"name\": \"0_19\", \"x\": [\"Round 0\"], \"y\": [3.5714285714285716], \"text\": [\"3.57%\"]}, {\"index\": 21, \"name\": \"0_20\", \"x\": [\"Round 0\"], \"y\": [3.5714285714285716], \"text\": [\"3.57%\"]}, {\"index\": 22, \"name\": \"0_21\", \"x\": [\"Round 0\", \"Round 1\", \"Round 2\", \"Round 3\", \"Round 4\"], \"y\": [3.5714285714285716, 2.982114154782668, 17.946249999999996, 4.010338502584625, 1.2203661098329501], \"text\": [\"3.57%\", \"2.98%\", \"17.95%\", \"4.01%\", \"1.22%\"]}, {\"index\": 23, \"name\": \"0_22\", \"x\": [\"Round 0\", \"Round 1\", \"Round 2\", \"Round 3\", \"Round 4\"], \"y\": [3.5714285714285716, 12.110848922175485, 28.99749999999999, 47.74887443721862, 65.44630055683372], \"text\": [\"3.57%\", \"12.11%\", \"29.00%\", \"47.75%\", \"65.45%\"]}];\n",
       "const categories = [\"Round 0\", \"Round 1\", \"Round 2\", \"Round 3\", \"Round 4\"];\n",
       "const colors = [\"rgba(2,63,165,1)\", \"rgba(125,135,185,1)\", \"rgba(190,193,212,1)\", \"rgba(214,188,192,1)\", \"rgba(187,119,132,1)\", \"rgba(142,6,59,1)\", \"rgba(74,111,227,1)\", \"rgba(133,149,225,1)\", \"rgba(181,187,227,1)\", \"rgba(230,175,185,1)\", \"rgba(224,123,145,1)\", \"rgba(211,63,106,1)\", \"rgba(17,198,56,1)\", \"rgba(141,213,147,1)\", \"rgba(198,222,199,1)\", \"rgba(234,211,198,1)\", \"rgba(240,185,141,1)\", \"rgba(239,151,8,1)\", \"rgba(15,207,192,1)\", \"rgba(156,222,214,1)\", \"rgba(213,234,231,1)\", \"rgba(243,225,235,1)\", \"rgba(246,196,225,1)\", \"rgba(247,156,212,1)\"];\n",
       "\n",
       "layout = {\n",
       "    title: \"Rollout Process<br>Bandit Weight Graph\",\n",
       "    xaxis: {\n",
       "      title: \"Rounds\",\n",
       "      zeroline: false,\n",
       "      categoryorder: \"array\",\n",
       "      categoryarray: categories\n",
       "    },\n",
       "    yaxis: {\n",
       "      title: \"Percent\",\n",
       "      showline: false\n",
       "    },\n",
       "    barmode: \"stack\",\n",
       "    showlegend: false,\n",
       "    margin: {\n",
       "      r: 40\n",
       "    }\n",
       "}\n",
       "\n",
       "bandit_config = {\n",
       "    type: \"bar\",\n",
       "    hoverinfo: \"name+text\",\n",
       "    width: 0.5\n",
       "}\n",
       "\n",
       "bandits = [];\n",
       "data.map(d => {\n",
       "  bandits.push({\n",
       "    ...bandit_config,\n",
       "    ...d,\n",
       "    marker: {\n",
       "      color: colors[d.index % colors.length]\n",
       "    }\n",
       "  })\n",
       "});\n",
       "\n",
       "Plotly.newPlot(\"1c47fe7f539a4a9dafa5c76323d8603a\", bandits, layout, {showLink: false});\n",
       "});</script>"
      ]
     },
     "metadata": {},
     "output_type": "display_data"
    }
   ],
   "source": [
    "from ax.plot.bandit_rollout import plot_bandit_rollout\n",
    "from ax.utils.notebook.plotting import render\n",
    "\n",
    "render(plot_bandit_rollout(exp))"
   ]
  },
  {
   "cell_type": "markdown",
   "metadata": {},
   "source": [
    "## Plot 4: Marginal Effects"
   ]
  },
  {
   "cell_type": "markdown",
   "metadata": {},
   "source": [
    "Finally, we can examine which parameter values had the greatest effect on the overall arm value. As we see in the diagram below, arms whose parameters were assigned the lower level values (such as `levell1`, `levell2`, `level31` and `level32`) performed worse than average, whereas arms with higher levels performed better than average."
   ]
  },
  {
   "cell_type": "code",
   "execution_count": 14,
   "metadata": {
    "ExecuteTime": {
     "end_time": "2019-04-01T17:03:56.645223Z",
     "start_time": "2019-04-01T10:03:56.563655-07:00"
    }
   },
   "outputs": [
    {
     "name": "stderr",
     "output_type": "stream",
     "text": [
      "/home/travis/virtualenv/python3.6.7/lib/python3.6/site-packages/plotly/tools.py:465: DeprecationWarning:\n",
      "\n",
      "plotly.tools.make_subplots is deprecated, please use plotly.subplots.make_subplots instead\n",
      "\n"
     ]
    },
    {
     "data": {
      "text/html": [
       "<div id=\"04ecbea1e0cc4d47883eabed9a28dad5\" style=\"width: 100%;\" class=\"plotly-graph-div\"></div><script type='text/javascript'>/*\n",
       " * Copyright (c) Facebook, Inc. and its affiliates. All Rights Reserved.\n",
       " */\n",
       "\n",
       "require(['plotly'], function(Plotly) {\n",
       "  window.PLOTLYENV = window.PLOTLYENV || {};\n",
       "  window.PLOTLYENV.BASE_URL = 'https://plot.ly';\n",
       "  /*\n",
       " * Copyright (c) Facebook, Inc. and its affiliates. All Rights Reserved.\n",
       " */\n",
       "\n",
       "Plotly.newPlot(\n",
       "  \"04ecbea1e0cc4d47883eabed9a28dad5\",\n",
       "  [{\"error_y\": {\"array\": [1.1917266162074485, 1.3850449669417997, 1.3820660808478147], \"type\": \"data\"}, \"name\": \"factor1\", \"x\": [\"level11\", \"level12\", \"level13\"], \"y\": [-6.6026608626619225, 4.35952260658067, 4.539426417457731], \"type\": \"bar\", \"xaxis\": \"x\", \"yaxis\": \"y\"}, {\"error_y\": {\"array\": [1.0040057695998361, 1.149433507460273], \"type\": \"data\"}, \"name\": \"factor2\", \"x\": [\"level21\", \"level22\"], \"y\": [-1.5708396513112448, 2.058865986010007], \"type\": \"bar\", \"xaxis\": \"x2\", \"yaxis\": \"y2\"}, {\"error_y\": {\"array\": [1.2922202822277957, 1.682272537961524, 1.5828098906523214, 1.5859717981992705], \"type\": \"data\"}, \"name\": \"factor3\", \"x\": [\"level31\", \"level32\", \"level33\", \"level34\"], \"y\": [-6.571647940368464, -0.6303223402649155, 3.7011320102221426, 6.743315787019348], \"type\": \"bar\", \"xaxis\": \"x3\", \"yaxis\": \"y3\"}],\n",
       "  {\"annotations\": [{\"font\": {\"size\": 16}, \"showarrow\": false, \"text\": \"factor1\", \"x\": 0.14444444444444446, \"xanchor\": \"center\", \"xref\": \"paper\", \"y\": 1.0, \"yanchor\": \"bottom\", \"yref\": \"paper\"}, {\"font\": {\"size\": 16}, \"showarrow\": false, \"text\": \"factor2\", \"x\": 0.5, \"xanchor\": \"center\", \"xref\": \"paper\", \"y\": 1.0, \"yanchor\": \"bottom\", \"yref\": \"paper\"}, {\"font\": {\"size\": 16}, \"showarrow\": false, \"text\": \"factor3\", \"x\": 0.8555555555555556, \"xanchor\": \"center\", \"xref\": \"paper\", \"y\": 1.0, \"yanchor\": \"bottom\", \"yref\": \"paper\"}], \"xaxis\": {\"anchor\": \"y\", \"domain\": [0.0, 0.2888888888888889]}, \"yaxis\": {\"hoverformat\": \".3f\", \"title\": {\"text\": \"% better than experiment average\"}}, \"xaxis2\": {\"anchor\": \"y2\", \"domain\": [0.35555555555555557, 0.6444444444444445]}, \"yaxis2\": {\"anchor\": \"x2\", \"domain\": [0.0, 1.0], \"matches\": \"y\", \"showticklabels\": false}, \"xaxis3\": {\"anchor\": \"y3\", \"domain\": [0.7111111111111111, 1.0]}, \"yaxis3\": {\"anchor\": \"x3\", \"domain\": [0.0, 1.0], \"matches\": \"y\", \"showticklabels\": false}, \"template\": {\"data\": {\"barpolar\": [{\"marker\": {\"line\": {\"color\": \"#E5ECF6\", \"width\": 0.5}}, \"type\": \"barpolar\"}], \"bar\": [{\"error_x\": {\"color\": \"#2a3f5f\"}, \"error_y\": {\"color\": \"#2a3f5f\"}, \"marker\": {\"line\": {\"color\": \"#E5ECF6\", \"width\": 0.5}}, \"type\": \"bar\"}], \"carpet\": [{\"aaxis\": {\"endlinecolor\": \"#2a3f5f\", \"gridcolor\": \"white\", \"linecolor\": \"white\", \"minorgridcolor\": \"white\", \"startlinecolor\": \"#2a3f5f\"}, \"baxis\": {\"endlinecolor\": \"#2a3f5f\", \"gridcolor\": \"white\", \"linecolor\": \"white\", \"minorgridcolor\": \"white\", \"startlinecolor\": \"#2a3f5f\"}, \"type\": \"carpet\"}], \"choropleth\": [{\"colorbar\": {\"outlinewidth\": 0, \"ticks\": \"\"}, \"type\": \"choropleth\"}], \"contourcarpet\": [{\"colorbar\": {\"outlinewidth\": 0, \"ticks\": \"\"}, \"type\": \"contourcarpet\"}], \"contour\": [{\"colorbar\": {\"outlinewidth\": 0, \"ticks\": \"\"}, \"colorscale\": [[0.0, \"#0d0887\"], [0.1111111111111111, \"#46039f\"], [0.2222222222222222, \"#7201a8\"], [0.3333333333333333, \"#9c179e\"], [0.4444444444444444, \"#bd3786\"], [0.5555555555555556, \"#d8576b\"], [0.6666666666666666, \"#ed7953\"], [0.7777777777777778, \"#fb9f3a\"], [0.8888888888888888, \"#fdca26\"], [1.0, \"#f0f921\"]], \"type\": \"contour\"}], \"heatmapgl\": [{\"colorbar\": {\"outlinewidth\": 0, \"ticks\": \"\"}, \"colorscale\": [[0.0, \"#0d0887\"], [0.1111111111111111, \"#46039f\"], [0.2222222222222222, \"#7201a8\"], [0.3333333333333333, \"#9c179e\"], [0.4444444444444444, \"#bd3786\"], [0.5555555555555556, \"#d8576b\"], [0.6666666666666666, \"#ed7953\"], [0.7777777777777778, \"#fb9f3a\"], [0.8888888888888888, \"#fdca26\"], [1.0, \"#f0f921\"]], \"type\": \"heatmapgl\"}], \"heatmap\": [{\"colorbar\": {\"outlinewidth\": 0, \"ticks\": \"\"}, \"colorscale\": [[0.0, \"#0d0887\"], [0.1111111111111111, \"#46039f\"], [0.2222222222222222, \"#7201a8\"], [0.3333333333333333, \"#9c179e\"], [0.4444444444444444, \"#bd3786\"], [0.5555555555555556, \"#d8576b\"], [0.6666666666666666, \"#ed7953\"], [0.7777777777777778, \"#fb9f3a\"], [0.8888888888888888, \"#fdca26\"], [1.0, \"#f0f921\"]], \"type\": \"heatmap\"}], \"histogram2dcontour\": [{\"colorbar\": {\"outlinewidth\": 0, \"ticks\": \"\"}, \"colorscale\": [[0.0, \"#0d0887\"], [0.1111111111111111, \"#46039f\"], [0.2222222222222222, \"#7201a8\"], [0.3333333333333333, \"#9c179e\"], [0.4444444444444444, \"#bd3786\"], [0.5555555555555556, \"#d8576b\"], [0.6666666666666666, \"#ed7953\"], [0.7777777777777778, \"#fb9f3a\"], [0.8888888888888888, \"#fdca26\"], [1.0, \"#f0f921\"]], \"type\": \"histogram2dcontour\"}], \"histogram2d\": [{\"colorbar\": {\"outlinewidth\": 0, \"ticks\": \"\"}, \"colorscale\": [[0.0, \"#0d0887\"], [0.1111111111111111, \"#46039f\"], [0.2222222222222222, \"#7201a8\"], [0.3333333333333333, \"#9c179e\"], [0.4444444444444444, \"#bd3786\"], [0.5555555555555556, \"#d8576b\"], [0.6666666666666666, \"#ed7953\"], [0.7777777777777778, \"#fb9f3a\"], [0.8888888888888888, \"#fdca26\"], [1.0, \"#f0f921\"]], \"type\": \"histogram2d\"}], \"histogram\": [{\"marker\": {\"colorbar\": {\"outlinewidth\": 0, \"ticks\": \"\"}}, \"type\": \"histogram\"}], \"mesh3d\": [{\"colorbar\": {\"outlinewidth\": 0, \"ticks\": \"\"}, \"type\": \"mesh3d\"}], \"parcoords\": [{\"line\": {\"colorbar\": {\"outlinewidth\": 0, \"ticks\": \"\"}}, \"type\": \"parcoords\"}], \"scatter3d\": [{\"line\": {\"colorbar\": {\"outlinewidth\": 0, \"ticks\": \"\"}}, \"marker\": {\"colorbar\": {\"outlinewidth\": 0, \"ticks\": \"\"}}, \"type\": \"scatter3d\"}], \"scattercarpet\": [{\"marker\": {\"colorbar\": {\"outlinewidth\": 0, \"ticks\": \"\"}}, \"type\": \"scattercarpet\"}], \"scattergeo\": [{\"marker\": {\"colorbar\": {\"outlinewidth\": 0, \"ticks\": \"\"}}, \"type\": \"scattergeo\"}], \"scattergl\": [{\"marker\": {\"colorbar\": {\"outlinewidth\": 0, \"ticks\": \"\"}}, \"type\": \"scattergl\"}], \"scattermapbox\": [{\"marker\": {\"colorbar\": {\"outlinewidth\": 0, \"ticks\": \"\"}}, \"type\": \"scattermapbox\"}], \"scatterpolargl\": [{\"marker\": {\"colorbar\": {\"outlinewidth\": 0, \"ticks\": \"\"}}, \"type\": \"scatterpolargl\"}], \"scatterpolar\": [{\"marker\": {\"colorbar\": {\"outlinewidth\": 0, \"ticks\": \"\"}}, \"type\": \"scatterpolar\"}], \"scatter\": [{\"marker\": {\"colorbar\": {\"outlinewidth\": 0, \"ticks\": \"\"}}, \"type\": \"scatter\"}], \"scatterternary\": [{\"marker\": {\"colorbar\": {\"outlinewidth\": 0, \"ticks\": \"\"}}, \"type\": \"scatterternary\"}], \"surface\": [{\"colorbar\": {\"outlinewidth\": 0, \"ticks\": \"\"}, \"colorscale\": [[0.0, \"#0d0887\"], [0.1111111111111111, \"#46039f\"], [0.2222222222222222, \"#7201a8\"], [0.3333333333333333, \"#9c179e\"], [0.4444444444444444, \"#bd3786\"], [0.5555555555555556, \"#d8576b\"], [0.6666666666666666, \"#ed7953\"], [0.7777777777777778, \"#fb9f3a\"], [0.8888888888888888, \"#fdca26\"], [1.0, \"#f0f921\"]], \"type\": \"surface\"}], \"table\": [{\"cells\": {\"fill\": {\"color\": \"#EBF0F8\"}, \"line\": {\"color\": \"white\"}}, \"header\": {\"fill\": {\"color\": \"#C8D4E3\"}, \"line\": {\"color\": \"white\"}}, \"type\": \"table\"}]}, \"layout\": {\"annotationdefaults\": {\"arrowcolor\": \"#2a3f5f\", \"arrowhead\": 0, \"arrowwidth\": 1}, \"colorscale\": {\"diverging\": [[0, \"#8e0152\"], [0.1, \"#c51b7d\"], [0.2, \"#de77ae\"], [0.3, \"#f1b6da\"], [0.4, \"#fde0ef\"], [0.5, \"#f7f7f7\"], [0.6, \"#e6f5d0\"], [0.7, \"#b8e186\"], [0.8, \"#7fbc41\"], [0.9, \"#4d9221\"], [1, \"#276419\"]], \"sequential\": [[0.0, \"#0d0887\"], [0.1111111111111111, \"#46039f\"], [0.2222222222222222, \"#7201a8\"], [0.3333333333333333, \"#9c179e\"], [0.4444444444444444, \"#bd3786\"], [0.5555555555555556, \"#d8576b\"], [0.6666666666666666, \"#ed7953\"], [0.7777777777777778, \"#fb9f3a\"], [0.8888888888888888, \"#fdca26\"], [1.0, \"#f0f921\"]], \"sequentialminus\": [[0.0, \"#0d0887\"], [0.1111111111111111, \"#46039f\"], [0.2222222222222222, \"#7201a8\"], [0.3333333333333333, \"#9c179e\"], [0.4444444444444444, \"#bd3786\"], [0.5555555555555556, \"#d8576b\"], [0.6666666666666666, \"#ed7953\"], [0.7777777777777778, \"#fb9f3a\"], [0.8888888888888888, \"#fdca26\"], [1.0, \"#f0f921\"]]}, \"colorway\": [\"#636efa\", \"#EF553B\", \"#00cc96\", \"#ab63fa\", \"#FFA15A\", \"#19d3f3\", \"#FF6692\", \"#B6E880\", \"#FF97FF\", \"#FECB52\"], \"font\": {\"color\": \"#2a3f5f\"}, \"geo\": {\"bgcolor\": \"white\", \"lakecolor\": \"white\", \"landcolor\": \"#E5ECF6\", \"showlakes\": true, \"showland\": true, \"subunitcolor\": \"white\"}, \"hoverlabel\": {\"align\": \"left\"}, \"hovermode\": \"closest\", \"mapbox\": {\"style\": \"light\"}, \"paper_bgcolor\": \"white\", \"plot_bgcolor\": \"#E5ECF6\", \"polar\": {\"angularaxis\": {\"gridcolor\": \"white\", \"linecolor\": \"white\", \"ticks\": \"\"}, \"bgcolor\": \"#E5ECF6\", \"radialaxis\": {\"gridcolor\": \"white\", \"linecolor\": \"white\", \"ticks\": \"\"}}, \"scene\": {\"xaxis\": {\"backgroundcolor\": \"#E5ECF6\", \"gridcolor\": \"white\", \"gridwidth\": 2, \"linecolor\": \"white\", \"showbackground\": true, \"ticks\": \"\", \"zerolinecolor\": \"white\"}, \"yaxis\": {\"backgroundcolor\": \"#E5ECF6\", \"gridcolor\": \"white\", \"gridwidth\": 2, \"linecolor\": \"white\", \"showbackground\": true, \"ticks\": \"\", \"zerolinecolor\": \"white\"}, \"zaxis\": {\"backgroundcolor\": \"#E5ECF6\", \"gridcolor\": \"white\", \"gridwidth\": 2, \"linecolor\": \"white\", \"showbackground\": true, \"ticks\": \"\", \"zerolinecolor\": \"white\"}}, \"shapedefaults\": {\"line\": {\"color\": \"#2a3f5f\"}}, \"ternary\": {\"aaxis\": {\"gridcolor\": \"white\", \"linecolor\": \"white\", \"ticks\": \"\"}, \"baxis\": {\"gridcolor\": \"white\", \"linecolor\": \"white\", \"ticks\": \"\"}, \"bgcolor\": \"#E5ECF6\", \"caxis\": {\"gridcolor\": \"white\", \"linecolor\": \"white\", \"ticks\": \"\"}}, \"title\": {\"x\": 0.05}, \"xaxis\": {\"automargin\": true, \"gridcolor\": \"white\", \"linecolor\": \"white\", \"ticks\": \"\", \"zerolinecolor\": \"white\", \"zerolinewidth\": 2}, \"yaxis\": {\"automargin\": true, \"gridcolor\": \"white\", \"linecolor\": \"white\", \"ticks\": \"\", \"zerolinecolor\": \"white\", \"zerolinewidth\": 2}}}, \"showlegend\": false, \"title\": {\"text\": \"Marginal Effects by Factor\"}},\n",
       "  {\"showLink\": false}\n",
       ");\n",
       "});</script>"
      ]
     },
     "metadata": {},
     "output_type": "display_data"
    }
   ],
   "source": [
    "from ax.plot.marginal_effects import plot_marginal_effects\n",
    "render(plot_marginal_effects(models[0], 'success_metric'))"
   ]
  }
 ],
 "metadata": {
  "kernelspec": {
   "display_name": "python3",
   "language": "python",
   "name": "python3"
  },
  "language_info": {
   "codemirror_mode": {
    "name": "ipython",
    "version": 3
   },
   "file_extension": ".py",
   "mimetype": "text/x-python",
   "name": "python",
   "nbconvert_exporter": "python",
   "pygments_lexer": "ipython3",
   "version": "3.6.7"
  }
 },
 "nbformat": 4,
 "nbformat_minor": 2
}
