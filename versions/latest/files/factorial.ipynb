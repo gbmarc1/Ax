{
 "cells": [
  {
   "cell_type": "markdown",
   "metadata": {
    "collapsed": true
   },
   "source": [
    "# Factorial design with empirical Bayes and Thompson Sampling"
   ]
  },
  {
   "cell_type": "markdown",
   "metadata": {},
   "source": [
    "<markdowncell>\n",
    "This tutorial illustrates how to run a factorial experiment. In such an experiment, each parameter (factor) can be assigned one of multiple discrete values (levels). A full-factorial experiment design explores all possible combinations of factors and levels.\n",
    "\n",
    "For instance, consider a banner with a title and an image. We are considering two different titles and three different images. A full-factorial experiment will compare all 2*3=6 possible combinations of title and image, to see which version of the banner performs the best.\n",
    "\n",
    "In this example, we first run an exploratory batch to collect data on all possible combinations. Then we use empirical Bayes to model the data and shrink noisy estimates toward the mean. Next, we use Thompson Sampling to suggest a set of arms (combinations of factors and levels) on which to collect more data. We repeat the process until we have identified the best performing combination(s)."
   ]
  },
  {
   "cell_type": "code",
   "execution_count": 1,
   "metadata": {
    "ExecuteTime": {
     "end_time": "2019-04-01T16:59:07.844357Z",
     "start_time": "2019-04-01T09:59:06.377921-07:00"
    },
    "collapsed": true
   },
   "outputs": [],
   "source": [
    "import numpy as np\n",
    "import pandas as pd\n",
    "import sklearn as skl\n",
    "from typing import Dict, Optional, Tuple, Union\n",
    "from ax import Arm, ChoiceParameter, Models, ParameterType, SearchSpace, SimpleExperiment\n",
    "from ax.plot.scatter import plot_fitted\n",
    "from ax.utils.notebook.plotting import render, init_notebook_plotting\n",
    "from ax.utils.stats.statstools import agresti_coull_sem"
   ]
  },
  {
   "cell_type": "code",
   "execution_count": 2,
   "metadata": {
    "ExecuteTime": {
     "end_time": "2019-04-01T16:59:07.852360Z",
     "start_time": "2019-04-01T09:59:07.846655-07:00"
    }
   },
   "outputs": [
    {
     "data": {
      "text/html": [
       "<script type='text/javascript'>/*\n",
       " * Copyright (c) Facebook, Inc. and its affiliates. All Rights Reserved.\n",
       " */\n",
       "\n",
       "requirejs.config({\n",
       "  paths: {\n",
       "    plotly: ['https://cdn.plot.ly/plotly-latest.min'],\n",
       "  },\n",
       "});\n",
       "if (!window.Plotly) {\n",
       "  require(['plotly'], function(plotly) {\n",
       "    window.Plotly = plotly;\n",
       "  });\n",
       "}\n",
       "/*\n",
       " * Copyright (c) Facebook, Inc. and its affiliates. All Rights Reserved.\n",
       " */\n",
       "\n",
       "// helper functions used across multiple plots\n",
       "function rgb(rgb_array) {\n",
       "  return 'rgb(' + rgb_array.join() + ')';\n",
       "}\n",
       "\n",
       "function copy_and_reverse(arr) {\n",
       "  const copy = arr.slice();\n",
       "  copy.reverse();\n",
       "  return copy;\n",
       "}\n",
       "\n",
       "function axis_range(grid, is_log) {\n",
       "  return is_log ?\n",
       "    [Math.log10(Math.min(...grid)), Math.log10(Math.max(...grid))]:\n",
       "    [Math.min(...grid), Math.max(...grid)];\n",
       "}\n",
       "\n",
       "function relativize_data(f, sd, rel, arm_data, metric) {\n",
       "  // if relative, extract status quo & compute ratio\n",
       "  const f_final = rel === true ? [] : f;\n",
       "  const sd_final = rel === true ? []: sd;\n",
       "\n",
       "  if (rel === true) {\n",
       "    const f_sq = (\n",
       "      arm_data['in_sample'][arm_data['status_quo_name']]['y'][metric]\n",
       "    );\n",
       "    const sd_sq = (\n",
       "      arm_data['in_sample'][arm_data['status_quo_name']]['se'][metric]\n",
       "    );\n",
       "\n",
       "    for (let i = 0; i < f.length; i++) {\n",
       "      res = relativize(f[i], sd[i], f_sq, sd_sq);\n",
       "      f_final.push(100 * res[0]);\n",
       "      sd_final.push(100 * res[1]);\n",
       "    }\n",
       "  }\n",
       "\n",
       "  return [f_final, sd_final];\n",
       "}\n",
       "\n",
       "function relativize(m_t, sem_t, m_c, sem_c) {\n",
       "  r_hat = (\n",
       "    (m_t - m_c) / Math.abs(m_c) -\n",
       "    Math.pow(sem_c, 2) * m_t / Math.pow(Math.abs(m_c), 3)\n",
       "  );\n",
       "  variance = (\n",
       "    (Math.pow(sem_t, 2) + Math.pow((m_t / m_c * sem_c), 2)) /\n",
       "    Math.pow(m_c, 2)\n",
       "   )\n",
       "   return [r_hat, Math.sqrt(variance)];\n",
       "}\n",
       "</script>"
      ]
     },
     "metadata": {},
     "output_type": "display_data"
    },
    {
     "name": "stderr",
     "output_type": "stream",
     "text": [
      "[INFO 08-07 03:33:17] ipy_plotting: Injecting Plotly library into cell. Do not overwrite or delete cell.\n"
     ]
    }
   ],
   "source": [
    "init_notebook_plotting()"
   ]
  },
  {
   "cell_type": "markdown",
   "metadata": {},
   "source": [
    "## 1. Define the search space"
   ]
  },
  {
   "cell_type": "markdown",
   "metadata": {},
   "source": [
    "<markdowncell>\n",
    "First, we define our search space. A factorial search space contains a ChoiceParameter for each factor, where the values of the parameter are its levels."
   ]
  },
  {
   "cell_type": "code",
   "execution_count": 3,
   "metadata": {
    "ExecuteTime": {
     "end_time": "2019-04-01T16:59:07.861686Z",
     "start_time": "2019-04-01T09:59:07.854353-07:00"
    },
    "collapsed": true
   },
   "outputs": [],
   "source": [
    "search_space = SearchSpace(\n",
    "    parameters=[\n",
    "        ChoiceParameter(\n",
    "            name=\"factor1\",\n",
    "            parameter_type=ParameterType.STRING,\n",
    "            values=[\"level11\", \"level12\", \"level13\"],\n",
    "        ),\n",
    "        ChoiceParameter(\n",
    "            name=\"factor2\",\n",
    "            parameter_type=ParameterType.STRING,\n",
    "            values=[\"level21\", \"level22\"],\n",
    "        ),\n",
    "        ChoiceParameter(\n",
    "            name=\"factor3\",\n",
    "            parameter_type=ParameterType.STRING,\n",
    "            values=[\"level31\", \"level32\", \"level33\", \"level34\"],\n",
    "        ),\n",
    "    ]\n",
    ")"
   ]
  },
  {
   "cell_type": "markdown",
   "metadata": {},
   "source": [
    "## 2. Define the evaluation function"
   ]
  },
  {
   "cell_type": "markdown",
   "metadata": {},
   "source": [
    "<markdowncell>\n",
    "Second, we define an evaluation function, which is responsible for computing\n",
    "the mean and standard error of a given arm.\n",
    "\n",
    "In this example, each possible parameter value is given a coefficient. The higher the level, the higher the coefficient, and the higher the coefficients, the greater the mean.\n",
    "\n",
    "The standard error of each arm is determined by the weight passed into the evaluation function, which represents the size of the population on which this arm was evaluated. The higher the weight, the greater the sample size, and thus the lower the standard error."
   ]
  },
  {
   "cell_type": "code",
   "execution_count": 4,
   "metadata": {
    "ExecuteTime": {
     "end_time": "2019-04-01T16:59:07.871141Z",
     "start_time": "2019-04-01T09:59:07.863475-07:00"
    },
    "collapsed": true
   },
   "outputs": [],
   "source": [
    "one_hot_encoder = skl.preprocessing.OneHotEncoder(\n",
    "    categories=[par.values for par in search_space.parameters.values()], \n",
    ")\n",
    "\n",
    "def factorial_evaluation_function(\n",
    "    # `parameterization` is a dict of parameter names to values of those parameters.\n",
    "    parameterization: Dict[str, Optional[Union[str, bool, float]]],\n",
    "    # `weight` is the weight of the parameterization, \n",
    "    # which is used to determine the variance of the estimate.\n",
    "    weight: Optional[float] = None,\n",
    ") -> Dict[str, Tuple[float, float]]:  # Mapping of metric names to tuple of mean and standard error.\n",
    "    batch_size = 10000\n",
    "    noise_level = 0.0\n",
    "    weight = weight if weight is not None else 1.0\n",
    "    coefficients = np.array([\n",
    "        0.1, 0.2, 0.3,\n",
    "        0.1, 0.2,\n",
    "        0.1, 0.2, 0.3, 0.4\n",
    "    ])\n",
    "    features = np.array(list(parameterization.values())).reshape(1, -1)\n",
    "    encoded_features = one_hot_encoder.fit_transform(features)\n",
    "    z = coefficients @ encoded_features.T + np.sqrt(noise_level) * np.random.randn()\n",
    "    p = np.exp(z) / (1 + np.exp(z))\n",
    "    plays = np.random.binomial(batch_size, weight)\n",
    "    successes = np.random.binomial(plays, p)\n",
    "    mean = float(successes) / plays\n",
    "    sem = agresti_coull_sem(successes, plays)\n",
    "    return {\n",
    "        \"success_metric\": (mean, sem)\n",
    "    }"
   ]
  },
  {
   "cell_type": "markdown",
   "metadata": {},
   "source": [
    "## 3. Define the experiment"
   ]
  },
  {
   "cell_type": "markdown",
   "metadata": {},
   "source": [
    "<markdowncell>\n",
    "We now set up our experiment and define the status quo arm, in which each parameter is assigned to the lowest level."
   ]
  },
  {
   "cell_type": "code",
   "execution_count": 5,
   "metadata": {
    "ExecuteTime": {
     "end_time": "2019-04-01T16:59:07.876425Z",
     "start_time": "2019-04-01T09:59:07.872766-07:00"
    },
    "collapsed": true
   },
   "outputs": [],
   "source": [
    "exp = SimpleExperiment(\n",
    "    name=\"my_factorial_closed_loop_experiment\",\n",
    "    search_space=search_space,\n",
    "    evaluation_function=factorial_evaluation_function,\n",
    "    objective_name=\"success_metric\",\n",
    ")\n",
    "exp.status_quo = Arm(\n",
    "    parameters={\"factor1\": \"level11\", \"factor2\": \"level21\", \"factor3\": \"level31\"}\n",
    ")"
   ]
  },
  {
   "cell_type": "markdown",
   "metadata": {},
   "source": [
    "## 4. Run an exploratory batch"
   ]
  },
  {
   "cell_type": "markdown",
   "metadata": {},
   "source": [
    "<markdowncell>\n",
    "We then generate an a set of arms that covers the full space of the factorial design, including the status quo. There are three parameters, with two, three, and four values, respectively, so there are 24 possible arms."
   ]
  },
  {
   "cell_type": "code",
   "execution_count": 6,
   "metadata": {},
   "outputs": [
    {
     "name": "stdout",
     "output_type": "stream",
     "text": [
      "24\n"
     ]
    }
   ],
   "source": [
    "factorial = Models.FACTORIAL(search_space=exp.search_space)\n",
    "factorial_run = factorial.gen(n=-1)  # Number of arms to generate is derived from the search space.\n",
    "print(len(factorial_run.arms))"
   ]
  },
  {
   "cell_type": "markdown",
   "metadata": {},
   "source": [
    "Now we create a trial including all of these arms, so that we can collect data and evaluate the performance of each."
   ]
  },
  {
   "cell_type": "code",
   "execution_count": 7,
   "metadata": {
    "collapsed": true
   },
   "outputs": [],
   "source": [
    "trial = (\n",
    "    exp.new_batch_trial()\n",
    "    .add_generator_run(factorial_run, multiplier=1)\n",
    ")"
   ]
  },
  {
   "cell_type": "markdown",
   "metadata": {},
   "source": [
    "By default, the weight of each arm in `factorial_run` will be 1. However, to optimize for power on the contrasts of `k` groups against the status quo, the status quo should be `sqrt(k)` larger than any of the treatment groups. Since we have 24 different arms in our search space, the status quo should be roughly five times larger.\n",
    "\n",
    "Because the status quo is already present in `factorial_run` with a weight of 1, we need to add an additional weight of 4."
   ]
  },
  {
   "cell_type": "code",
   "execution_count": 8,
   "metadata": {
    "ExecuteTime": {
     "end_time": "2019-04-01T16:59:07.906856Z",
     "start_time": "2019-04-01T09:59:07.878299-07:00"
    }
   },
   "outputs": [
    {
     "name": "stdout",
     "output_type": "stream",
     "text": [
      "5.0\n"
     ]
    }
   ],
   "source": [
    "trial.reweight_status_quo(4)\n",
    "print(trial.arm_weights[trial.status_quo])"
   ]
  },
  {
   "cell_type": "markdown",
   "metadata": {},
   "source": [
    "## 5. Iterate using Thompson Sampling"
   ]
  },
  {
   "cell_type": "markdown",
   "metadata": {},
   "source": [
    "<markdowncell>\n",
    "Next, we run multiple trials (iterations of the experiment) to hone in on the optimal arm(s). \n",
    "\n",
    "In each iteration, we first collect data about all arms in that trial by calling `exp.eval_trial()`. Then we run Thompson Sampling, which assigns a weight to each arm that is proportional to the probability of that arm being the best. Arms whose weight exceed `min_weight` are added to the next trial, so that we can gather more data on their performance."
   ]
  },
  {
   "cell_type": "code",
   "execution_count": 9,
   "metadata": {
    "ExecuteTime": {
     "end_time": "2019-04-01T16:59:08.480646Z",
     "start_time": "2019-04-01T09:59:07.908822-07:00"
    }
   },
   "outputs": [
    {
     "name": "stdout",
     "output_type": "stream",
     "text": [
      "Running iteration 1...\n",
      "Running iteration 2...\n"
     ]
    },
    {
     "name": "stdout",
     "output_type": "stream",
     "text": [
      "Running iteration 3...\n",
      "Running iteration 4...\n"
     ]
    }
   ],
   "source": [
    "models = []\n",
    "for i in range(4):\n",
    "    print(\"Running iteration {}...\".format(i+1))\n",
    "    data = exp.eval_trial(trial)\n",
    "    thompson = Models.THOMPSON(\n",
    "        experiment=exp, data=data, min_weight=0.01\n",
    "    )\n",
    "    models.append(thompson)\n",
    "    thompson_run = thompson.gen(n=-1)\n",
    "    trial = exp.new_batch_trial().add_generator_run(thompson_run)"
   ]
  },
  {
   "cell_type": "markdown",
   "metadata": {},
   "source": [
    "## Plot 1: Predicted outcomes for each arm in initial trial"
   ]
  },
  {
   "cell_type": "markdown",
   "metadata": {},
   "source": [
    "<markdowncell>\n",
    "The plot below shows the mean and standard error for each arm in the first trial. We can see that the standard error for the status quo is the smallest, since this arm was assigned 5x weight."
   ]
  },
  {
   "cell_type": "code",
   "execution_count": 10,
   "metadata": {
    "ExecuteTime": {
     "end_time": "2019-04-01T16:59:08.534814Z",
     "start_time": "2019-04-01T09:59:08.482576-07:00"
    },
    "scrolled": false
   },
   "outputs": [
    {
     "data": {
      "text/html": [
       "<div id=\"dabf3c0e70ef46db84ce4ba921fdbcac\" style=\"width: 100%;\" class=\"plotly-graph-div\"></div><script type='text/javascript'>/*\n",
       " * Copyright (c) Facebook, Inc. and its affiliates. All Rights Reserved.\n",
       " */\n",
       "\n",
       "require(['plotly'], function(Plotly) {\n",
       "  window.PLOTLYENV = window.PLOTLYENV || {};\n",
       "  window.PLOTLYENV.BASE_URL = 'https://plot.ly';\n",
       "  /*\n",
       " * Copyright (c) Facebook, Inc. and its affiliates. All Rights Reserved.\n",
       " */\n",
       "\n",
       "Plotly.newPlot(\n",
       "  \"dabf3c0e70ef46db84ce4ba921fdbcac\",\n",
       "  [{\"error_y\": {\"array\": [0.05179682852344056, 0.048684921456024044, 0.047476721486330344, 0.04907313968131482, 0.048416531914633236, 0.05017876752709327, 0.051265312870502296, 0.0490131031532962, 0.048653681091990114, 0.050813329405673485, 0.04855909854862195, 0.04948467918201506, 0.05235478088132826, 0.04755102115669184, 0.04896315080436235, 0.049672791631586166, 0.05195712360963994, 0.05132071826939549, 0.050368575202554715, 0.048653681091990114, 0.05046492239180602, 0.04898067639831086, 0.04870487602338813, 0.023307993643818165], \"color\": \"rgba(128,177,211,0.4)\", \"type\": \"data\"}, \"hoverinfo\": \"text\", \"legendgroup\": \"In-sample\", \"marker\": {\"color\": \"rgba(128,177,211,1)\"}, \"mode\": \"markers\", \"name\": \"In-sample\", \"showlegend\": true, \"text\": [\"<b>Arm 0_0</b><br><br>success_metric: 0.592 [0.541, 0.644]<br><br><em>Parameterization:</em><br>factor1: level11<br>factor2: level21<br>factor3: level32\", \"<b>Arm 0_1</b><br><br>success_metric: 0.636 [0.587, 0.684]<br><br><em>Parameterization:</em><br>factor1: level11<br>factor2: level21<br>factor3: level33\", \"<b>Arm 0_10</b><br><br>success_metric: 0.705 [0.658, 0.753]<br><br><em>Parameterization:</em><br>factor1: level12<br>factor2: level21<br>factor3: level34\", \"<b>Arm 0_11</b><br><br>success_metric: 0.669 [0.620, 0.719]<br><br><em>Parameterization:</em><br>factor1: level12<br>factor2: level22<br>factor3: level31\", \"<b>Arm 0_12</b><br><br>success_metric: 0.686 [0.638, 0.735]<br><br><em>Parameterization:</em><br>factor1: level12<br>factor2: level22<br>factor3: level32\", \"<b>Arm 0_13</b><br><br>success_metric: 0.636 [0.585, 0.686]<br><br><em>Parameterization:</em><br>factor1: level12<br>factor2: level22<br>factor3: level33\", \"<b>Arm 0_14</b><br><br>success_metric: 0.658 [0.606, 0.709]<br><br><em>Parameterization:</em><br>factor1: level12<br>factor2: level22<br>factor3: level34\", \"<b>Arm 0_15</b><br><br>success_metric: 0.628 [0.579, 0.677]<br><br><em>Parameterization:</em><br>factor1: level13<br>factor2: level21<br>factor3: level31\", \"<b>Arm 0_16</b><br><br>success_metric: 0.662 [0.613, 0.711]<br><br><em>Parameterization:</em><br>factor1: level13<br>factor2: level21<br>factor3: level32\", \"<b>Arm 0_17</b><br><br>success_metric: 0.678 [0.627, 0.729]<br><br><em>Parameterization:</em><br>factor1: level13<br>factor2: level21<br>factor3: level33\", \"<b>Arm 0_18</b><br><br>success_metric: 0.674 [0.626, 0.723]<br><br><em>Parameterization:</em><br>factor1: level13<br>factor2: level21<br>factor3: level34\", \"<b>Arm 0_19</b><br><br>success_metric: 0.677 [0.628, 0.727]<br><br><em>Parameterization:</em><br>factor1: level13<br>factor2: level22<br>factor3: level31\", \"<b>Arm 0_2</b><br><br>success_metric: 0.639 [0.587, 0.691]<br><br><em>Parameterization:</em><br>factor1: level11<br>factor2: level21<br>factor3: level34\", \"<b>Arm 0_20</b><br><br>success_metric: 0.655 [0.607, 0.702]<br><br><em>Parameterization:</em><br>factor1: level13<br>factor2: level22<br>factor3: level32\", \"<b>Arm 0_21</b><br><br>success_metric: 0.676 [0.627, 0.725]<br><br><em>Parameterization:</em><br>factor1: level13<br>factor2: level22<br>factor3: level33\", \"<b>Arm 0_22</b><br><br>success_metric: 0.699 [0.649, 0.749]<br><br><em>Parameterization:</em><br>factor1: level13<br>factor2: level22<br>factor3: level34\", \"<b>Arm 0_3</b><br><br>success_metric: 0.575 [0.523, 0.627]<br><br><em>Parameterization:</em><br>factor1: level11<br>factor2: level22<br>factor3: level31\", \"<b>Arm 0_4</b><br><br>success_metric: 0.617 [0.566, 0.669]<br><br><em>Parameterization:</em><br>factor1: level11<br>factor2: level22<br>factor3: level32\", \"<b>Arm 0_5</b><br><br>success_metric: 0.67 [0.619, 0.720]<br><br><em>Parameterization:</em><br>factor1: level11<br>factor2: level22<br>factor3: level33\", \"<b>Arm 0_6</b><br><br>success_metric: 0.662 [0.613, 0.711]<br><br><em>Parameterization:</em><br>factor1: level11<br>factor2: level22<br>factor3: level34\", \"<b>Arm 0_7</b><br><br>success_metric: 0.598 [0.547, 0.648]<br><br><em>Parameterization:</em><br>factor1: level12<br>factor2: level21<br>factor3: level31\", \"<b>Arm 0_8</b><br><br>success_metric: 0.634 [0.585, 0.683]<br><br><em>Parameterization:</em><br>factor1: level12<br>factor2: level21<br>factor3: level32\", \"<b>Arm 0_9</b><br><br>success_metric: 0.603 [0.554, 0.652]<br><br><em>Parameterization:</em><br>factor1: level12<br>factor2: level21<br>factor3: level33\", \"<b>Arm status_quo</b><br><br>success_metric: 0.575 [0.552, 0.599]<br><br><em>Parameterization:</em><br>factor1: level11<br>factor2: level21<br>factor3: level31\"], \"visible\": true, \"x\": [\"0_0\", \"0_1\", \"0_10\", \"0_11\", \"0_12\", \"0_13\", \"0_14\", \"0_15\", \"0_16\", \"0_17\", \"0_18\", \"0_19\", \"0_2\", \"0_20\", \"0_21\", \"0_22\", \"0_3\", \"0_4\", \"0_5\", \"0_6\", \"0_7\", \"0_8\", \"0_9\", \"status_quo\"], \"y\": [0.5924855491329479, 0.6356382978723404, 0.7050561797752809, 0.6694915254237288, 0.6864406779661016, 0.635593220338983, 0.6575757575757576, 0.6283422459893048, 0.6620879120879121, 0.6779141104294478, 0.6740947075208914, 0.6773255813953488, 0.6388888888888888, 0.6545454545454545, 0.6761363636363636, 0.6990881458966566, 0.5747126436781609, 0.6173913043478261, 0.6696428571428571, 0.6620879120879121, 0.5977961432506887, 0.6344086021505376, 0.6030927835051546, 0.5752314814814815], \"type\": \"scatter\"}],\n",
       "  {\"annotations\": [{\"showarrow\": false, \"text\": \"Sort By\", \"x\": 1.18, \"xref\": \"paper\", \"y\": 0.72, \"yanchor\": \"middle\", \"yref\": \"paper\"}], \"font\": {\"size\": 10}, \"hovermode\": \"closest\", \"title\": {\"text\": \"Predicted Outcomes\"}, \"updatemenus\": [{\"buttons\": [{\"args\": [{\"xaxis.categoryorder\": \"array\", \"xaxis.categoryarray\": [\"status_quo\", \"0_0\", \"0_1\", \"0_2\", \"0_3\", \"0_4\", \"0_5\", \"0_6\", \"0_7\", \"0_8\", \"0_9\", \"0_10\", \"0_11\", \"0_12\", \"0_13\", \"0_14\", \"0_15\", \"0_16\", \"0_17\", \"0_18\", \"0_19\", \"0_20\", \"0_21\", \"0_22\"]}], \"label\": \"Name\", \"method\": \"relayout\"}, {\"args\": [{\"xaxis.categoryorder\": \"array\", \"xaxis.categoryarray\": [\"0_3\", \"status_quo\", \"0_0\", \"0_7\", \"0_9\", \"0_4\", \"0_15\", \"0_8\", \"0_13\", \"0_1\", \"0_2\", \"0_20\", \"0_14\", \"0_16\", \"0_6\", \"0_11\", \"0_5\", \"0_18\", \"0_21\", \"0_19\", \"0_17\", \"0_12\", \"0_22\", \"0_10\"]}], \"label\": \"Effect Size\", \"method\": \"relayout\"}], \"x\": 1.25, \"xanchor\": \"left\", \"y\": 0.67, \"yanchor\": \"middle\"}], \"xaxis\": {\"categoryarray\": [\"status_quo\", \"0_0\", \"0_1\", \"0_2\", \"0_3\", \"0_4\", \"0_5\", \"0_6\", \"0_7\", \"0_8\", \"0_9\", \"0_10\", \"0_11\", \"0_12\", \"0_13\", \"0_14\", \"0_15\", \"0_16\", \"0_17\", \"0_18\", \"0_19\", \"0_20\", \"0_21\", \"0_22\"], \"categoryorder\": \"array\", \"tickangle\": 45}, \"yaxis\": {\"title\": {\"text\": \"success_metric\"}, \"zerolinecolor\": \"red\"}, \"template\": {\"data\": {\"barpolar\": [{\"marker\": {\"line\": {\"color\": \"#E5ECF6\", \"width\": 0.5}}, \"type\": \"barpolar\"}], \"bar\": [{\"error_x\": {\"color\": \"#2a3f5f\"}, \"error_y\": {\"color\": \"#2a3f5f\"}, \"marker\": {\"line\": {\"color\": \"#E5ECF6\", \"width\": 0.5}}, \"type\": \"bar\"}], \"carpet\": [{\"aaxis\": {\"endlinecolor\": \"#2a3f5f\", \"gridcolor\": \"white\", \"linecolor\": \"white\", \"minorgridcolor\": \"white\", \"startlinecolor\": \"#2a3f5f\"}, \"baxis\": {\"endlinecolor\": \"#2a3f5f\", \"gridcolor\": \"white\", \"linecolor\": \"white\", \"minorgridcolor\": \"white\", \"startlinecolor\": \"#2a3f5f\"}, \"type\": \"carpet\"}], \"choropleth\": [{\"colorbar\": {\"outlinewidth\": 0, \"ticks\": \"\"}, \"type\": \"choropleth\"}], \"contourcarpet\": [{\"colorbar\": {\"outlinewidth\": 0, \"ticks\": \"\"}, \"type\": \"contourcarpet\"}], \"contour\": [{\"colorbar\": {\"outlinewidth\": 0, \"ticks\": \"\"}, \"colorscale\": [[0.0, \"#0d0887\"], [0.1111111111111111, \"#46039f\"], [0.2222222222222222, \"#7201a8\"], [0.3333333333333333, \"#9c179e\"], [0.4444444444444444, \"#bd3786\"], [0.5555555555555556, \"#d8576b\"], [0.6666666666666666, \"#ed7953\"], [0.7777777777777778, \"#fb9f3a\"], [0.8888888888888888, \"#fdca26\"], [1.0, \"#f0f921\"]], \"type\": \"contour\"}], \"heatmapgl\": [{\"colorbar\": {\"outlinewidth\": 0, \"ticks\": \"\"}, \"colorscale\": [[0.0, \"#0d0887\"], [0.1111111111111111, \"#46039f\"], [0.2222222222222222, \"#7201a8\"], [0.3333333333333333, \"#9c179e\"], [0.4444444444444444, \"#bd3786\"], [0.5555555555555556, \"#d8576b\"], [0.6666666666666666, \"#ed7953\"], [0.7777777777777778, \"#fb9f3a\"], [0.8888888888888888, \"#fdca26\"], [1.0, \"#f0f921\"]], \"type\": \"heatmapgl\"}], \"heatmap\": [{\"colorbar\": {\"outlinewidth\": 0, \"ticks\": \"\"}, \"colorscale\": [[0.0, \"#0d0887\"], [0.1111111111111111, \"#46039f\"], [0.2222222222222222, \"#7201a8\"], [0.3333333333333333, \"#9c179e\"], [0.4444444444444444, \"#bd3786\"], [0.5555555555555556, \"#d8576b\"], [0.6666666666666666, \"#ed7953\"], [0.7777777777777778, \"#fb9f3a\"], [0.8888888888888888, \"#fdca26\"], [1.0, \"#f0f921\"]], \"type\": \"heatmap\"}], \"histogram2dcontour\": [{\"colorbar\": {\"outlinewidth\": 0, \"ticks\": \"\"}, \"colorscale\": [[0.0, \"#0d0887\"], [0.1111111111111111, \"#46039f\"], [0.2222222222222222, \"#7201a8\"], [0.3333333333333333, \"#9c179e\"], [0.4444444444444444, \"#bd3786\"], [0.5555555555555556, \"#d8576b\"], [0.6666666666666666, \"#ed7953\"], [0.7777777777777778, \"#fb9f3a\"], [0.8888888888888888, \"#fdca26\"], [1.0, \"#f0f921\"]], \"type\": \"histogram2dcontour\"}], \"histogram2d\": [{\"colorbar\": {\"outlinewidth\": 0, \"ticks\": \"\"}, \"colorscale\": [[0.0, \"#0d0887\"], [0.1111111111111111, \"#46039f\"], [0.2222222222222222, \"#7201a8\"], [0.3333333333333333, \"#9c179e\"], [0.4444444444444444, \"#bd3786\"], [0.5555555555555556, \"#d8576b\"], [0.6666666666666666, \"#ed7953\"], [0.7777777777777778, \"#fb9f3a\"], [0.8888888888888888, \"#fdca26\"], [1.0, \"#f0f921\"]], \"type\": \"histogram2d\"}], \"histogram\": [{\"marker\": {\"colorbar\": {\"outlinewidth\": 0, \"ticks\": \"\"}}, \"type\": \"histogram\"}], \"mesh3d\": [{\"colorbar\": {\"outlinewidth\": 0, \"ticks\": \"\"}, \"type\": \"mesh3d\"}], \"parcoords\": [{\"line\": {\"colorbar\": {\"outlinewidth\": 0, \"ticks\": \"\"}}, \"type\": \"parcoords\"}], \"scatter3d\": [{\"line\": {\"colorbar\": {\"outlinewidth\": 0, \"ticks\": \"\"}}, \"marker\": {\"colorbar\": {\"outlinewidth\": 0, \"ticks\": \"\"}}, \"type\": \"scatter3d\"}], \"scattercarpet\": [{\"marker\": {\"colorbar\": {\"outlinewidth\": 0, \"ticks\": \"\"}}, \"type\": \"scattercarpet\"}], \"scattergeo\": [{\"marker\": {\"colorbar\": {\"outlinewidth\": 0, \"ticks\": \"\"}}, \"type\": \"scattergeo\"}], \"scattergl\": [{\"marker\": {\"colorbar\": {\"outlinewidth\": 0, \"ticks\": \"\"}}, \"type\": \"scattergl\"}], \"scattermapbox\": [{\"marker\": {\"colorbar\": {\"outlinewidth\": 0, \"ticks\": \"\"}}, \"type\": \"scattermapbox\"}], \"scatterpolargl\": [{\"marker\": {\"colorbar\": {\"outlinewidth\": 0, \"ticks\": \"\"}}, \"type\": \"scatterpolargl\"}], \"scatterpolar\": [{\"marker\": {\"colorbar\": {\"outlinewidth\": 0, \"ticks\": \"\"}}, \"type\": \"scatterpolar\"}], \"scatter\": [{\"marker\": {\"colorbar\": {\"outlinewidth\": 0, \"ticks\": \"\"}}, \"type\": \"scatter\"}], \"scatterternary\": [{\"marker\": {\"colorbar\": {\"outlinewidth\": 0, \"ticks\": \"\"}}, \"type\": \"scatterternary\"}], \"surface\": [{\"colorbar\": {\"outlinewidth\": 0, \"ticks\": \"\"}, \"colorscale\": [[0.0, \"#0d0887\"], [0.1111111111111111, \"#46039f\"], [0.2222222222222222, \"#7201a8\"], [0.3333333333333333, \"#9c179e\"], [0.4444444444444444, \"#bd3786\"], [0.5555555555555556, \"#d8576b\"], [0.6666666666666666, \"#ed7953\"], [0.7777777777777778, \"#fb9f3a\"], [0.8888888888888888, \"#fdca26\"], [1.0, \"#f0f921\"]], \"type\": \"surface\"}], \"table\": [{\"cells\": {\"fill\": {\"color\": \"#EBF0F8\"}, \"line\": {\"color\": \"white\"}}, \"header\": {\"fill\": {\"color\": \"#C8D4E3\"}, \"line\": {\"color\": \"white\"}}, \"type\": \"table\"}]}, \"layout\": {\"annotationdefaults\": {\"arrowcolor\": \"#2a3f5f\", \"arrowhead\": 0, \"arrowwidth\": 1}, \"colorscale\": {\"diverging\": [[0, \"#8e0152\"], [0.1, \"#c51b7d\"], [0.2, \"#de77ae\"], [0.3, \"#f1b6da\"], [0.4, \"#fde0ef\"], [0.5, \"#f7f7f7\"], [0.6, \"#e6f5d0\"], [0.7, \"#b8e186\"], [0.8, \"#7fbc41\"], [0.9, \"#4d9221\"], [1, \"#276419\"]], \"sequential\": [[0.0, \"#0d0887\"], [0.1111111111111111, \"#46039f\"], [0.2222222222222222, \"#7201a8\"], [0.3333333333333333, \"#9c179e\"], [0.4444444444444444, \"#bd3786\"], [0.5555555555555556, \"#d8576b\"], [0.6666666666666666, \"#ed7953\"], [0.7777777777777778, \"#fb9f3a\"], [0.8888888888888888, \"#fdca26\"], [1.0, \"#f0f921\"]], \"sequentialminus\": [[0.0, \"#0d0887\"], [0.1111111111111111, \"#46039f\"], [0.2222222222222222, \"#7201a8\"], [0.3333333333333333, \"#9c179e\"], [0.4444444444444444, \"#bd3786\"], [0.5555555555555556, \"#d8576b\"], [0.6666666666666666, \"#ed7953\"], [0.7777777777777778, \"#fb9f3a\"], [0.8888888888888888, \"#fdca26\"], [1.0, \"#f0f921\"]]}, \"colorway\": [\"#636efa\", \"#EF553B\", \"#00cc96\", \"#ab63fa\", \"#FFA15A\", \"#19d3f3\", \"#FF6692\", \"#B6E880\", \"#FF97FF\", \"#FECB52\"], \"font\": {\"color\": \"#2a3f5f\"}, \"geo\": {\"bgcolor\": \"white\", \"lakecolor\": \"white\", \"landcolor\": \"#E5ECF6\", \"showlakes\": true, \"showland\": true, \"subunitcolor\": \"white\"}, \"hoverlabel\": {\"align\": \"left\"}, \"hovermode\": \"closest\", \"mapbox\": {\"style\": \"light\"}, \"paper_bgcolor\": \"white\", \"plot_bgcolor\": \"#E5ECF6\", \"polar\": {\"angularaxis\": {\"gridcolor\": \"white\", \"linecolor\": \"white\", \"ticks\": \"\"}, \"bgcolor\": \"#E5ECF6\", \"radialaxis\": {\"gridcolor\": \"white\", \"linecolor\": \"white\", \"ticks\": \"\"}}, \"scene\": {\"xaxis\": {\"backgroundcolor\": \"#E5ECF6\", \"gridcolor\": \"white\", \"gridwidth\": 2, \"linecolor\": \"white\", \"showbackground\": true, \"ticks\": \"\", \"zerolinecolor\": \"white\"}, \"yaxis\": {\"backgroundcolor\": \"#E5ECF6\", \"gridcolor\": \"white\", \"gridwidth\": 2, \"linecolor\": \"white\", \"showbackground\": true, \"ticks\": \"\", \"zerolinecolor\": \"white\"}, \"zaxis\": {\"backgroundcolor\": \"#E5ECF6\", \"gridcolor\": \"white\", \"gridwidth\": 2, \"linecolor\": \"white\", \"showbackground\": true, \"ticks\": \"\", \"zerolinecolor\": \"white\"}}, \"shapedefaults\": {\"line\": {\"color\": \"#2a3f5f\"}}, \"ternary\": {\"aaxis\": {\"gridcolor\": \"white\", \"linecolor\": \"white\", \"ticks\": \"\"}, \"baxis\": {\"gridcolor\": \"white\", \"linecolor\": \"white\", \"ticks\": \"\"}, \"bgcolor\": \"#E5ECF6\", \"caxis\": {\"gridcolor\": \"white\", \"linecolor\": \"white\", \"ticks\": \"\"}}, \"title\": {\"x\": 0.05}, \"xaxis\": {\"automargin\": true, \"gridcolor\": \"white\", \"linecolor\": \"white\", \"ticks\": \"\", \"zerolinecolor\": \"white\", \"zerolinewidth\": 2}, \"yaxis\": {\"automargin\": true, \"gridcolor\": \"white\", \"linecolor\": \"white\", \"ticks\": \"\", \"zerolinecolor\": \"white\", \"zerolinewidth\": 2}}}},\n",
       "  {\"showLink\": false}\n",
       ");\n",
       "});</script>"
      ]
     },
     "metadata": {},
     "output_type": "display_data"
    }
   ],
   "source": [
    "render(plot_fitted(models[0], metric=\"success_metric\", rel=False))"
   ]
  },
  {
   "cell_type": "markdown",
   "metadata": {},
   "source": [
    "## Plot 2: Predicted outcomes for arms in last trial"
   ]
  },
  {
   "cell_type": "markdown",
   "metadata": {},
   "source": [
    "The following plot below shows the mean and standard error for each arm that made it to the last trial (as well as the status quo, which appears throughout). "
   ]
  },
  {
   "cell_type": "code",
   "execution_count": 11,
   "metadata": {},
   "outputs": [
    {
     "data": {
      "text/html": [
       "<div id=\"9ec36ad528ba44c4a3a8c9e3d55a1f74\" style=\"width: 100%;\" class=\"plotly-graph-div\"></div><script type='text/javascript'>/*\n",
       " * Copyright (c) Facebook, Inc. and its affiliates. All Rights Reserved.\n",
       " */\n",
       "\n",
       "require(['plotly'], function(Plotly) {\n",
       "  window.PLOTLYENV = window.PLOTLYENV || {};\n",
       "  window.PLOTLYENV.BASE_URL = 'https://plot.ly';\n",
       "  /*\n",
       " * Copyright (c) Facebook, Inc. and its affiliates. All Rights Reserved.\n",
       " */\n",
       "\n",
       "Plotly.newPlot(\n",
       "  \"9ec36ad528ba44c4a3a8c9e3d55a1f74\",\n",
       "  [{\"error_y\": {\"array\": [0.014181705133323527, 0.06554040646927739, 0.0586534141997226, 0.014911571290524775, 0.02120527823501411], \"color\": \"rgba(128,177,211,0.4)\", \"type\": \"data\"}, \"hoverinfo\": \"text\", \"legendgroup\": \"In-sample\", \"marker\": {\"color\": \"rgba(128,177,211,1)\"}, \"mode\": \"markers\", \"name\": \"In-sample\", \"showlegend\": true, \"text\": [\"<b>Arm 0_14</b><br><br>success_metric: 0.678 [0.664, 0.692]<br><br><em>Parameterization:</em><br>factor1: level12<br>factor2: level22<br>factor3: level34\", \"<b>Arm 0_17</b><br><br>success_metric: 0.621 [0.555, 0.686]<br><br><em>Parameterization:</em><br>factor1: level13<br>factor2: level21<br>factor3: level33\", \"<b>Arm 0_18</b><br><br>success_metric: 0.661 [0.603, 0.720]<br><br><em>Parameterization:</em><br>factor1: level13<br>factor2: level21<br>factor3: level34\", \"<b>Arm 0_22</b><br><br>success_metric: 0.719 [0.704, 0.733]<br><br><em>Parameterization:</em><br>factor1: level13<br>factor2: level22<br>factor3: level34\", \"<b>Arm status_quo</b><br><br>success_metric: 0.609 [0.588, 0.630]<br><br><em>Parameterization:</em><br>factor1: level11<br>factor2: level21<br>factor3: level31\"], \"visible\": true, \"x\": [\"0_14\", \"0_17\", \"0_18\", \"0_22\", \"status_quo\"], \"y\": [0.6781774580335731, 0.6208530805687204, 0.6613545816733067, 0.7185354691075515, 0.6088452088452089], \"type\": \"scatter\"}],\n",
       "  {\"annotations\": [{\"showarrow\": false, \"text\": \"Sort By\", \"x\": 1.18, \"xref\": \"paper\", \"y\": 0.72, \"yanchor\": \"middle\", \"yref\": \"paper\"}], \"font\": {\"size\": 10}, \"hovermode\": \"closest\", \"title\": {\"text\": \"Predicted Outcomes\"}, \"updatemenus\": [{\"buttons\": [{\"args\": [{\"xaxis.categoryorder\": \"array\", \"xaxis.categoryarray\": [\"status_quo\", \"0_14\", \"0_17\", \"0_18\", \"0_22\"]}], \"label\": \"Name\", \"method\": \"relayout\"}, {\"args\": [{\"xaxis.categoryorder\": \"array\", \"xaxis.categoryarray\": [\"status_quo\", \"0_17\", \"0_18\", \"0_14\", \"0_22\"]}], \"label\": \"Effect Size\", \"method\": \"relayout\"}], \"x\": 1.25, \"xanchor\": \"left\", \"y\": 0.67, \"yanchor\": \"middle\"}], \"xaxis\": {\"categoryarray\": [\"status_quo\", \"0_14\", \"0_17\", \"0_18\", \"0_22\"], \"categoryorder\": \"array\", \"tickangle\": 45}, \"yaxis\": {\"title\": {\"text\": \"success_metric\"}, \"zerolinecolor\": \"red\"}, \"template\": {\"data\": {\"barpolar\": [{\"marker\": {\"line\": {\"color\": \"#E5ECF6\", \"width\": 0.5}}, \"type\": \"barpolar\"}], \"bar\": [{\"error_x\": {\"color\": \"#2a3f5f\"}, \"error_y\": {\"color\": \"#2a3f5f\"}, \"marker\": {\"line\": {\"color\": \"#E5ECF6\", \"width\": 0.5}}, \"type\": \"bar\"}], \"carpet\": [{\"aaxis\": {\"endlinecolor\": \"#2a3f5f\", \"gridcolor\": \"white\", \"linecolor\": \"white\", \"minorgridcolor\": \"white\", \"startlinecolor\": \"#2a3f5f\"}, \"baxis\": {\"endlinecolor\": \"#2a3f5f\", \"gridcolor\": \"white\", \"linecolor\": \"white\", \"minorgridcolor\": \"white\", \"startlinecolor\": \"#2a3f5f\"}, \"type\": \"carpet\"}], \"choropleth\": [{\"colorbar\": {\"outlinewidth\": 0, \"ticks\": \"\"}, \"type\": \"choropleth\"}], \"contourcarpet\": [{\"colorbar\": {\"outlinewidth\": 0, \"ticks\": \"\"}, \"type\": \"contourcarpet\"}], \"contour\": [{\"colorbar\": {\"outlinewidth\": 0, \"ticks\": \"\"}, \"colorscale\": [[0.0, \"#0d0887\"], [0.1111111111111111, \"#46039f\"], [0.2222222222222222, \"#7201a8\"], [0.3333333333333333, \"#9c179e\"], [0.4444444444444444, \"#bd3786\"], [0.5555555555555556, \"#d8576b\"], [0.6666666666666666, \"#ed7953\"], [0.7777777777777778, \"#fb9f3a\"], [0.8888888888888888, \"#fdca26\"], [1.0, \"#f0f921\"]], \"type\": \"contour\"}], \"heatmapgl\": [{\"colorbar\": {\"outlinewidth\": 0, \"ticks\": \"\"}, \"colorscale\": [[0.0, \"#0d0887\"], [0.1111111111111111, \"#46039f\"], [0.2222222222222222, \"#7201a8\"], [0.3333333333333333, \"#9c179e\"], [0.4444444444444444, \"#bd3786\"], [0.5555555555555556, \"#d8576b\"], [0.6666666666666666, \"#ed7953\"], [0.7777777777777778, \"#fb9f3a\"], [0.8888888888888888, \"#fdca26\"], [1.0, \"#f0f921\"]], \"type\": \"heatmapgl\"}], \"heatmap\": [{\"colorbar\": {\"outlinewidth\": 0, \"ticks\": \"\"}, \"colorscale\": [[0.0, \"#0d0887\"], [0.1111111111111111, \"#46039f\"], [0.2222222222222222, \"#7201a8\"], [0.3333333333333333, \"#9c179e\"], [0.4444444444444444, \"#bd3786\"], [0.5555555555555556, \"#d8576b\"], [0.6666666666666666, \"#ed7953\"], [0.7777777777777778, \"#fb9f3a\"], [0.8888888888888888, \"#fdca26\"], [1.0, \"#f0f921\"]], \"type\": \"heatmap\"}], \"histogram2dcontour\": [{\"colorbar\": {\"outlinewidth\": 0, \"ticks\": \"\"}, \"colorscale\": [[0.0, \"#0d0887\"], [0.1111111111111111, \"#46039f\"], [0.2222222222222222, \"#7201a8\"], [0.3333333333333333, \"#9c179e\"], [0.4444444444444444, \"#bd3786\"], [0.5555555555555556, \"#d8576b\"], [0.6666666666666666, \"#ed7953\"], [0.7777777777777778, \"#fb9f3a\"], [0.8888888888888888, \"#fdca26\"], [1.0, \"#f0f921\"]], \"type\": \"histogram2dcontour\"}], \"histogram2d\": [{\"colorbar\": {\"outlinewidth\": 0, \"ticks\": \"\"}, \"colorscale\": [[0.0, \"#0d0887\"], [0.1111111111111111, \"#46039f\"], [0.2222222222222222, \"#7201a8\"], [0.3333333333333333, \"#9c179e\"], [0.4444444444444444, \"#bd3786\"], [0.5555555555555556, \"#d8576b\"], [0.6666666666666666, \"#ed7953\"], [0.7777777777777778, \"#fb9f3a\"], [0.8888888888888888, \"#fdca26\"], [1.0, \"#f0f921\"]], \"type\": \"histogram2d\"}], \"histogram\": [{\"marker\": {\"colorbar\": {\"outlinewidth\": 0, \"ticks\": \"\"}}, \"type\": \"histogram\"}], \"mesh3d\": [{\"colorbar\": {\"outlinewidth\": 0, \"ticks\": \"\"}, \"type\": \"mesh3d\"}], \"parcoords\": [{\"line\": {\"colorbar\": {\"outlinewidth\": 0, \"ticks\": \"\"}}, \"type\": \"parcoords\"}], \"scatter3d\": [{\"line\": {\"colorbar\": {\"outlinewidth\": 0, \"ticks\": \"\"}}, \"marker\": {\"colorbar\": {\"outlinewidth\": 0, \"ticks\": \"\"}}, \"type\": \"scatter3d\"}], \"scattercarpet\": [{\"marker\": {\"colorbar\": {\"outlinewidth\": 0, \"ticks\": \"\"}}, \"type\": \"scattercarpet\"}], \"scattergeo\": [{\"marker\": {\"colorbar\": {\"outlinewidth\": 0, \"ticks\": \"\"}}, \"type\": \"scattergeo\"}], \"scattergl\": [{\"marker\": {\"colorbar\": {\"outlinewidth\": 0, \"ticks\": \"\"}}, \"type\": \"scattergl\"}], \"scattermapbox\": [{\"marker\": {\"colorbar\": {\"outlinewidth\": 0, \"ticks\": \"\"}}, \"type\": \"scattermapbox\"}], \"scatterpolargl\": [{\"marker\": {\"colorbar\": {\"outlinewidth\": 0, \"ticks\": \"\"}}, \"type\": \"scatterpolargl\"}], \"scatterpolar\": [{\"marker\": {\"colorbar\": {\"outlinewidth\": 0, \"ticks\": \"\"}}, \"type\": \"scatterpolar\"}], \"scatter\": [{\"marker\": {\"colorbar\": {\"outlinewidth\": 0, \"ticks\": \"\"}}, \"type\": \"scatter\"}], \"scatterternary\": [{\"marker\": {\"colorbar\": {\"outlinewidth\": 0, \"ticks\": \"\"}}, \"type\": \"scatterternary\"}], \"surface\": [{\"colorbar\": {\"outlinewidth\": 0, \"ticks\": \"\"}, \"colorscale\": [[0.0, \"#0d0887\"], [0.1111111111111111, \"#46039f\"], [0.2222222222222222, \"#7201a8\"], [0.3333333333333333, \"#9c179e\"], [0.4444444444444444, \"#bd3786\"], [0.5555555555555556, \"#d8576b\"], [0.6666666666666666, \"#ed7953\"], [0.7777777777777778, \"#fb9f3a\"], [0.8888888888888888, \"#fdca26\"], [1.0, \"#f0f921\"]], \"type\": \"surface\"}], \"table\": [{\"cells\": {\"fill\": {\"color\": \"#EBF0F8\"}, \"line\": {\"color\": \"white\"}}, \"header\": {\"fill\": {\"color\": \"#C8D4E3\"}, \"line\": {\"color\": \"white\"}}, \"type\": \"table\"}]}, \"layout\": {\"annotationdefaults\": {\"arrowcolor\": \"#2a3f5f\", \"arrowhead\": 0, \"arrowwidth\": 1}, \"colorscale\": {\"diverging\": [[0, \"#8e0152\"], [0.1, \"#c51b7d\"], [0.2, \"#de77ae\"], [0.3, \"#f1b6da\"], [0.4, \"#fde0ef\"], [0.5, \"#f7f7f7\"], [0.6, \"#e6f5d0\"], [0.7, \"#b8e186\"], [0.8, \"#7fbc41\"], [0.9, \"#4d9221\"], [1, \"#276419\"]], \"sequential\": [[0.0, \"#0d0887\"], [0.1111111111111111, \"#46039f\"], [0.2222222222222222, \"#7201a8\"], [0.3333333333333333, \"#9c179e\"], [0.4444444444444444, \"#bd3786\"], [0.5555555555555556, \"#d8576b\"], [0.6666666666666666, \"#ed7953\"], [0.7777777777777778, \"#fb9f3a\"], [0.8888888888888888, \"#fdca26\"], [1.0, \"#f0f921\"]], \"sequentialminus\": [[0.0, \"#0d0887\"], [0.1111111111111111, \"#46039f\"], [0.2222222222222222, \"#7201a8\"], [0.3333333333333333, \"#9c179e\"], [0.4444444444444444, \"#bd3786\"], [0.5555555555555556, \"#d8576b\"], [0.6666666666666666, \"#ed7953\"], [0.7777777777777778, \"#fb9f3a\"], [0.8888888888888888, \"#fdca26\"], [1.0, \"#f0f921\"]]}, \"colorway\": [\"#636efa\", \"#EF553B\", \"#00cc96\", \"#ab63fa\", \"#FFA15A\", \"#19d3f3\", \"#FF6692\", \"#B6E880\", \"#FF97FF\", \"#FECB52\"], \"font\": {\"color\": \"#2a3f5f\"}, \"geo\": {\"bgcolor\": \"white\", \"lakecolor\": \"white\", \"landcolor\": \"#E5ECF6\", \"showlakes\": true, \"showland\": true, \"subunitcolor\": \"white\"}, \"hoverlabel\": {\"align\": \"left\"}, \"hovermode\": \"closest\", \"mapbox\": {\"style\": \"light\"}, \"paper_bgcolor\": \"white\", \"plot_bgcolor\": \"#E5ECF6\", \"polar\": {\"angularaxis\": {\"gridcolor\": \"white\", \"linecolor\": \"white\", \"ticks\": \"\"}, \"bgcolor\": \"#E5ECF6\", \"radialaxis\": {\"gridcolor\": \"white\", \"linecolor\": \"white\", \"ticks\": \"\"}}, \"scene\": {\"xaxis\": {\"backgroundcolor\": \"#E5ECF6\", \"gridcolor\": \"white\", \"gridwidth\": 2, \"linecolor\": \"white\", \"showbackground\": true, \"ticks\": \"\", \"zerolinecolor\": \"white\"}, \"yaxis\": {\"backgroundcolor\": \"#E5ECF6\", \"gridcolor\": \"white\", \"gridwidth\": 2, \"linecolor\": \"white\", \"showbackground\": true, \"ticks\": \"\", \"zerolinecolor\": \"white\"}, \"zaxis\": {\"backgroundcolor\": \"#E5ECF6\", \"gridcolor\": \"white\", \"gridwidth\": 2, \"linecolor\": \"white\", \"showbackground\": true, \"ticks\": \"\", \"zerolinecolor\": \"white\"}}, \"shapedefaults\": {\"line\": {\"color\": \"#2a3f5f\"}}, \"ternary\": {\"aaxis\": {\"gridcolor\": \"white\", \"linecolor\": \"white\", \"ticks\": \"\"}, \"baxis\": {\"gridcolor\": \"white\", \"linecolor\": \"white\", \"ticks\": \"\"}, \"bgcolor\": \"#E5ECF6\", \"caxis\": {\"gridcolor\": \"white\", \"linecolor\": \"white\", \"ticks\": \"\"}}, \"title\": {\"x\": 0.05}, \"xaxis\": {\"automargin\": true, \"gridcolor\": \"white\", \"linecolor\": \"white\", \"ticks\": \"\", \"zerolinecolor\": \"white\", \"zerolinewidth\": 2}, \"yaxis\": {\"automargin\": true, \"gridcolor\": \"white\", \"linecolor\": \"white\", \"ticks\": \"\", \"zerolinecolor\": \"white\", \"zerolinewidth\": 2}}}},\n",
       "  {\"showLink\": false}\n",
       ");\n",
       "});</script>"
      ]
     },
     "metadata": {},
     "output_type": "display_data"
    }
   ],
   "source": [
    "render(plot_fitted(models[-1], metric=\"success_metric\", rel=False))"
   ]
  },
  {
   "cell_type": "markdown",
   "metadata": {},
   "source": [
    "<markdowncell>\n",
    "As expected given our evaluation function, arms with higher levels\n",
    "perform better and are given higher weight. Below we see the arms\n",
    "that made it to the final trial."
   ]
  },
  {
   "cell_type": "code",
   "execution_count": 12,
   "metadata": {
    "ExecuteTime": {
     "end_time": "2019-04-01T16:59:08.548754Z",
     "start_time": "2019-04-01T09:59:08.536758-07:00"
    }
   },
   "outputs": [
    {
     "name": "stdout",
     "output_type": "stream",
     "text": [
      "                    values    weight\n",
      "0  level13,level22,level34  0.642883\n",
      "1  level13,level21,level34  0.023783\n",
      "2  level11,level21,level31  0.333333\n"
     ]
    }
   ],
   "source": [
    "results = pd.DataFrame(\n",
    "    [\n",
    "        {\"values\": \",\".join(arm.parameters.values()), \"weight\": weight}\n",
    "        for arm, weight in trial.normalized_arm_weights().items()\n",
    "    ]\n",
    ")\n",
    "print(results)"
   ]
  },
  {
   "cell_type": "markdown",
   "metadata": {},
   "source": [
    "## Plot 3: Rollout Process"
   ]
  },
  {
   "cell_type": "markdown",
   "metadata": {},
   "source": [
    "We can also visualize the progression of the experience in the following rollout chart. Each bar represents a trial, and the width of the bands within a bar are proportional to the weight of the arms in that trial. \n",
    "\n",
    "In the first trial, all arms appear with equal weight, except for the status quo. By the last trial, we have narrowed our focus to only four arms, with arm 0_22 (the arm with the highest levels) having the greatest weight."
   ]
  },
  {
   "cell_type": "code",
   "execution_count": 13,
   "metadata": {
    "ExecuteTime": {
     "end_time": "2019-04-01T16:59:08.569844Z",
     "start_time": "2019-04-01T09:59:08.550440-07:00"
    }
   },
   "outputs": [
    {
     "data": {
      "text/html": [
       "<div id=\"c8834e146bd048b18fbddd40441f69e1\" style=\"width: 100%;\" class=\"plotly-graph-div\"></div><script type='text/javascript'>/*\n",
       " * Copyright (c) Facebook, Inc. and its affiliates. All Rights Reserved.\n",
       " */\n",
       "\n",
       "require(['plotly'], function(Plotly) {\n",
       "  window.PLOTLYENV = window.PLOTLYENV || {};\n",
       "  window.PLOTLYENV.BASE_URL = 'https://plot.ly';\n",
       "  /*\n",
       " * Copyright (c) Facebook, Inc. and its affiliates. All Rights Reserved.\n",
       " */\n",
       "\n",
       "const data = [{\"index\": 0, \"name\": \"status_quo\", \"x\": [\"Round 0\", \"Round 1\", \"Round 2\", \"Round 3\", \"Round 4\"], \"y\": [17.857142857142858, 7.692307692307693, 11.11111111111111, 20.0, 33.333333333333336], \"text\": [\"17.86%\", \"7.69%\", \"11.11%\", \"20.00%\", \"33.33%\"]}, {\"index\": 1, \"name\": \"0_0\", \"x\": [\"Round 0\"], \"y\": [3.5714285714285716], \"text\": [\"3.57%\"]}, {\"index\": 2, \"name\": \"0_1\", \"x\": [\"Round 0\"], \"y\": [3.5714285714285716], \"text\": [\"3.57%\"]}, {\"index\": 3, \"name\": \"0_2\", \"x\": [\"Round 0\"], \"y\": [3.5714285714285716], \"text\": [\"3.57%\"]}, {\"index\": 4, \"name\": \"0_3\", \"x\": [\"Round 0\"], \"y\": [3.5714285714285716], \"text\": [\"3.57%\"]}, {\"index\": 5, \"name\": \"0_4\", \"x\": [\"Round 0\"], \"y\": [3.5714285714285716], \"text\": [\"3.57%\"]}, {\"index\": 6, \"name\": \"0_5\", \"x\": [\"Round 0\", \"Round 1\", \"Round 2\"], \"y\": [3.5714285714285716, 3.1881671146466144, 12.500277833344446], \"text\": [\"3.57%\", \"3.19%\", \"12.50%\"]}, {\"index\": 7, \"name\": \"0_6\", \"x\": [\"Round 0\", \"Round 1\", \"Round 2\"], \"y\": [3.5714285714285716, 1.650016313720616, 17.825787379698163], \"text\": [\"3.57%\", \"1.65%\", \"17.83%\"]}, {\"index\": 8, \"name\": \"0_7\", \"x\": [\"Round 0\"], \"y\": [3.5714285714285716], \"text\": [\"3.57%\"]}, {\"index\": 9, \"name\": \"0_8\", \"x\": [\"Round 0\"], \"y\": [3.5714285714285716], \"text\": [\"3.57%\"]}, {\"index\": 10, \"name\": \"0_9\", \"x\": [\"Round 0\"], \"y\": [3.5714285714285716], \"text\": [\"3.57%\"]}, {\"index\": 11, \"name\": \"0_10\", \"x\": [\"Round 0\", \"Round 1\"], \"y\": [3.5714285714285716, 29.74690427730218], \"text\": [\"3.57%\", \"29.75%\"]}, {\"index\": 12, \"name\": \"0_11\", \"x\": [\"Round 0\", \"Round 1\"], \"y\": [3.5714285714285716, 2.470363407547815], \"text\": [\"3.57%\", \"2.47%\"]}, {\"index\": 13, \"name\": \"0_12\", \"x\": [\"Round 0\", \"Round 1\"], \"y\": [3.5714285714285716, 9.704333234933113], \"text\": [\"3.57%\", \"9.70%\"]}, {\"index\": 14, \"name\": \"0_13\", \"x\": [\"Round 0\"], \"y\": [3.5714285714285716], \"text\": [\"3.57%\"]}, {\"index\": 15, \"name\": \"0_14\", \"x\": [\"Round 0\", \"Round 1\", \"Round 2\", \"Round 3\"], \"y\": [3.5714285714285716, 1.1652657582772712, 3.8052054855415522, 40.81273145831248], \"text\": [\"3.57%\", \"1.17%\", \"3.81%\", \"40.81%\"]}, {\"index\": 16, \"name\": \"0_15\", \"x\": [\"Round 0\"], \"y\": [3.5714285714285716], \"text\": [\"3.57%\"]}, {\"index\": 17, \"name\": \"0_16\", \"x\": [\"Round 0\", \"Round 1\", \"Round 2\"], \"y\": [3.5714285714285716, 1.3703525317340708, 1.6536640661465627], \"text\": [\"3.57%\", \"1.37%\", \"1.65%\"]}, {\"index\": 18, \"name\": \"0_17\", \"x\": [\"Round 0\", \"Round 1\", \"Round 2\", \"Round 3\"], \"y\": [3.5714285714285716, 6.124636825505337, 1.102442710764375, 2.282053848463617], \"text\": [\"3.57%\", \"6.12%\", \"1.10%\", \"2.28%\"]}, {\"index\": 19, \"name\": \"0_18\", \"x\": [\"Round 0\", \"Round 1\", \"Round 2\", \"Round 3\", \"Round 4\"], \"y\": [3.5714285714285716, 3.9152929478116314, 1.4580693916561092, 2.410169152237013, 2.3783278217590276], \"text\": [\"3.57%\", \"3.92%\", \"1.46%\", \"2.41%\", \"2.38%\"]}, {\"index\": 20, \"name\": \"0_19\", \"x\": [\"Round 0\", \"Round 1\"], \"y\": [3.5714285714285716, 5.406833118406539], \"text\": [\"3.57%\", \"5.41%\"]}, {\"index\": 21, \"name\": \"0_20\", \"x\": [\"Round 0\"], \"y\": [3.5714285714285716], \"text\": [\"3.57%\"]}, {\"index\": 22, \"name\": \"0_21\", \"x\": [\"Round 0\", \"Round 1\", \"Round 2\"], \"y\": [3.5714285714285716, 4.903438310830757, 18.83043275321731], \"text\": [\"3.57%\", \"4.90%\", \"18.83%\"]}, {\"index\": 23, \"name\": \"0_22\", \"x\": [\"Round 0\", \"Round 1\", \"Round 2\", \"Round 3\", \"Round 4\"], \"y\": [3.5714285714285716, 22.66208846697637, 31.713009268520373, 34.49504554098689, 64.28833884490764], \"text\": [\"3.57%\", \"22.66%\", \"31.71%\", \"34.50%\", \"64.29%\"]}];\n",
       "const categories = [\"Round 0\", \"Round 1\", \"Round 2\", \"Round 3\", \"Round 4\"];\n",
       "const colors = [\"rgba(2,63,165,1)\", \"rgba(125,135,185,1)\", \"rgba(190,193,212,1)\", \"rgba(214,188,192,1)\", \"rgba(187,119,132,1)\", \"rgba(142,6,59,1)\", \"rgba(74,111,227,1)\", \"rgba(133,149,225,1)\", \"rgba(181,187,227,1)\", \"rgba(230,175,185,1)\", \"rgba(224,123,145,1)\", \"rgba(211,63,106,1)\", \"rgba(17,198,56,1)\", \"rgba(141,213,147,1)\", \"rgba(198,222,199,1)\", \"rgba(234,211,198,1)\", \"rgba(240,185,141,1)\", \"rgba(239,151,8,1)\", \"rgba(15,207,192,1)\", \"rgba(156,222,214,1)\", \"rgba(213,234,231,1)\", \"rgba(243,225,235,1)\", \"rgba(246,196,225,1)\", \"rgba(247,156,212,1)\"];\n",
       "\n",
       "layout = {\n",
       "    title: \"Rollout Process<br>Bandit Weight Graph\",\n",
       "    xaxis: {\n",
       "      title: \"Rounds\",\n",
       "      zeroline: false,\n",
       "      categoryorder: \"array\",\n",
       "      categoryarray: categories\n",
       "    },\n",
       "    yaxis: {\n",
       "      title: \"Percent\",\n",
       "      showline: false\n",
       "    },\n",
       "    barmode: \"stack\",\n",
       "    showlegend: false,\n",
       "    margin: {\n",
       "      r: 40\n",
       "    }\n",
       "}\n",
       "\n",
       "bandit_config = {\n",
       "    type: \"bar\",\n",
       "    hoverinfo: \"name+text\",\n",
       "    width: 0.5\n",
       "}\n",
       "\n",
       "bandits = [];\n",
       "data.map(d => {\n",
       "  bandits.push({\n",
       "    ...bandit_config,\n",
       "    ...d,\n",
       "    marker: {\n",
       "      color: colors[d.index % colors.length]\n",
       "    }\n",
       "  })\n",
       "});\n",
       "\n",
       "Plotly.newPlot(\"c8834e146bd048b18fbddd40441f69e1\", bandits, layout, {showLink: false});\n",
       "});</script>"
      ]
     },
     "metadata": {},
     "output_type": "display_data"
    }
   ],
   "source": [
    "from ax.plot.bandit_rollout import plot_bandit_rollout\n",
    "from ax.utils.notebook.plotting import render\n",
    "\n",
    "render(plot_bandit_rollout(exp))"
   ]
  },
  {
   "cell_type": "markdown",
   "metadata": {},
   "source": [
    "## Plot 4: Marginal Effects"
   ]
  },
  {
   "cell_type": "markdown",
   "metadata": {},
   "source": [
    "Finally, we can examine which parameter values had the greatest effect on the overall arm value. As we see in the diagram below, arms whose parameters were assigned the lower level values (such as `levell1`, `levell2`, `level31` and `level32`) performed worse than average, whereas arms with higher levels performed better than average."
   ]
  },
  {
   "cell_type": "code",
   "execution_count": 14,
   "metadata": {
    "ExecuteTime": {
     "end_time": "2019-04-01T17:03:56.645223Z",
     "start_time": "2019-04-01T10:03:56.563655-07:00"
    }
   },
   "outputs": [
    {
     "name": "stderr",
     "output_type": "stream",
     "text": [
      "/home/travis/virtualenv/python3.6.7/lib/python3.6/site-packages/plotly/tools.py:465: DeprecationWarning:\n",
      "\n",
      "plotly.tools.make_subplots is deprecated, please use plotly.subplots.make_subplots instead\n",
      "\n"
     ]
    },
    {
     "data": {
      "text/html": [
       "<div id=\"0b26cd8da000456498ec68ef532667f8\" style=\"width: 100%;\" class=\"plotly-graph-div\"></div><script type='text/javascript'>/*\n",
       " * Copyright (c) Facebook, Inc. and its affiliates. All Rights Reserved.\n",
       " */\n",
       "\n",
       "require(['plotly'], function(Plotly) {\n",
       "  window.PLOTLYENV = window.PLOTLYENV || {};\n",
       "  window.PLOTLYENV.BASE_URL = 'https://plot.ly';\n",
       "  /*\n",
       " * Copyright (c) Facebook, Inc. and its affiliates. All Rights Reserved.\n",
       " */\n",
       "\n",
       "Plotly.newPlot(\n",
       "  \"0b26cd8da000456498ec68ef532667f8\",\n",
       "  [{\"error_y\": {\"array\": [1.1838243413010254, 1.3938756162992678, 1.3877892304040538], \"type\": \"data\"}, \"name\": \"factor1\", \"x\": [\"level11\", \"level12\", \"level13\"], \"y\": [-4.828584210064602, 1.847976350215132, 4.80391899840588], \"type\": \"bar\", \"xaxis\": \"x\", \"yaxis\": \"y\"}, {\"error_y\": {\"array\": [1.00593461249795, 1.1476612750997204], \"type\": \"data\"}, \"name\": \"factor2\", \"x\": [\"level21\", \"level22\"], \"y\": [-2.402096840379448, 3.126649475486696], \"type\": \"bar\", \"xaxis\": \"x2\", \"yaxis\": \"y2\"}, {\"error_y\": {\"array\": [1.2903931097837757, 1.6128119013117874, 1.6198480624773888, 1.619318192247361], \"type\": \"data\"}, \"name\": \"factor3\", \"x\": [\"level31\", \"level32\", \"level33\", \"level34\"], \"y\": [-5.249228210077509, 0.7964592130922163, 1.7866026967428332, 5.678068469408607], \"type\": \"bar\", \"xaxis\": \"x3\", \"yaxis\": \"y3\"}],\n",
       "  {\"annotations\": [{\"font\": {\"size\": 16}, \"showarrow\": false, \"text\": \"factor1\", \"x\": 0.14444444444444446, \"xanchor\": \"center\", \"xref\": \"paper\", \"y\": 1.0, \"yanchor\": \"bottom\", \"yref\": \"paper\"}, {\"font\": {\"size\": 16}, \"showarrow\": false, \"text\": \"factor2\", \"x\": 0.5, \"xanchor\": \"center\", \"xref\": \"paper\", \"y\": 1.0, \"yanchor\": \"bottom\", \"yref\": \"paper\"}, {\"font\": {\"size\": 16}, \"showarrow\": false, \"text\": \"factor3\", \"x\": 0.8555555555555556, \"xanchor\": \"center\", \"xref\": \"paper\", \"y\": 1.0, \"yanchor\": \"bottom\", \"yref\": \"paper\"}], \"xaxis\": {\"anchor\": \"y\", \"domain\": [0.0, 0.2888888888888889]}, \"yaxis\": {\"hoverformat\": \".3f\", \"title\": {\"text\": \"% better than experiment average\"}}, \"xaxis2\": {\"anchor\": \"y2\", \"domain\": [0.35555555555555557, 0.6444444444444445]}, \"yaxis2\": {\"anchor\": \"x2\", \"domain\": [0.0, 1.0], \"matches\": \"y\", \"showticklabels\": false}, \"xaxis3\": {\"anchor\": \"y3\", \"domain\": [0.7111111111111111, 1.0]}, \"yaxis3\": {\"anchor\": \"x3\", \"domain\": [0.0, 1.0], \"matches\": \"y\", \"showticklabels\": false}, \"template\": {\"data\": {\"barpolar\": [{\"marker\": {\"line\": {\"color\": \"#E5ECF6\", \"width\": 0.5}}, \"type\": \"barpolar\"}], \"bar\": [{\"error_x\": {\"color\": \"#2a3f5f\"}, \"error_y\": {\"color\": \"#2a3f5f\"}, \"marker\": {\"line\": {\"color\": \"#E5ECF6\", \"width\": 0.5}}, \"type\": \"bar\"}], \"carpet\": [{\"aaxis\": {\"endlinecolor\": \"#2a3f5f\", \"gridcolor\": \"white\", \"linecolor\": \"white\", \"minorgridcolor\": \"white\", \"startlinecolor\": \"#2a3f5f\"}, \"baxis\": {\"endlinecolor\": \"#2a3f5f\", \"gridcolor\": \"white\", \"linecolor\": \"white\", \"minorgridcolor\": \"white\", \"startlinecolor\": \"#2a3f5f\"}, \"type\": \"carpet\"}], \"choropleth\": [{\"colorbar\": {\"outlinewidth\": 0, \"ticks\": \"\"}, \"type\": \"choropleth\"}], \"contourcarpet\": [{\"colorbar\": {\"outlinewidth\": 0, \"ticks\": \"\"}, \"type\": \"contourcarpet\"}], \"contour\": [{\"colorbar\": {\"outlinewidth\": 0, \"ticks\": \"\"}, \"colorscale\": [[0.0, \"#0d0887\"], [0.1111111111111111, \"#46039f\"], [0.2222222222222222, \"#7201a8\"], [0.3333333333333333, \"#9c179e\"], [0.4444444444444444, \"#bd3786\"], [0.5555555555555556, \"#d8576b\"], [0.6666666666666666, \"#ed7953\"], [0.7777777777777778, \"#fb9f3a\"], [0.8888888888888888, \"#fdca26\"], [1.0, \"#f0f921\"]], \"type\": \"contour\"}], \"heatmapgl\": [{\"colorbar\": {\"outlinewidth\": 0, \"ticks\": \"\"}, \"colorscale\": [[0.0, \"#0d0887\"], [0.1111111111111111, \"#46039f\"], [0.2222222222222222, \"#7201a8\"], [0.3333333333333333, \"#9c179e\"], [0.4444444444444444, \"#bd3786\"], [0.5555555555555556, \"#d8576b\"], [0.6666666666666666, \"#ed7953\"], [0.7777777777777778, \"#fb9f3a\"], [0.8888888888888888, \"#fdca26\"], [1.0, \"#f0f921\"]], \"type\": \"heatmapgl\"}], \"heatmap\": [{\"colorbar\": {\"outlinewidth\": 0, \"ticks\": \"\"}, \"colorscale\": [[0.0, \"#0d0887\"], [0.1111111111111111, \"#46039f\"], [0.2222222222222222, \"#7201a8\"], [0.3333333333333333, \"#9c179e\"], [0.4444444444444444, \"#bd3786\"], [0.5555555555555556, \"#d8576b\"], [0.6666666666666666, \"#ed7953\"], [0.7777777777777778, \"#fb9f3a\"], [0.8888888888888888, \"#fdca26\"], [1.0, \"#f0f921\"]], \"type\": \"heatmap\"}], \"histogram2dcontour\": [{\"colorbar\": {\"outlinewidth\": 0, \"ticks\": \"\"}, \"colorscale\": [[0.0, \"#0d0887\"], [0.1111111111111111, \"#46039f\"], [0.2222222222222222, \"#7201a8\"], [0.3333333333333333, \"#9c179e\"], [0.4444444444444444, \"#bd3786\"], [0.5555555555555556, \"#d8576b\"], [0.6666666666666666, \"#ed7953\"], [0.7777777777777778, \"#fb9f3a\"], [0.8888888888888888, \"#fdca26\"], [1.0, \"#f0f921\"]], \"type\": \"histogram2dcontour\"}], \"histogram2d\": [{\"colorbar\": {\"outlinewidth\": 0, \"ticks\": \"\"}, \"colorscale\": [[0.0, \"#0d0887\"], [0.1111111111111111, \"#46039f\"], [0.2222222222222222, \"#7201a8\"], [0.3333333333333333, \"#9c179e\"], [0.4444444444444444, \"#bd3786\"], [0.5555555555555556, \"#d8576b\"], [0.6666666666666666, \"#ed7953\"], [0.7777777777777778, \"#fb9f3a\"], [0.8888888888888888, \"#fdca26\"], [1.0, \"#f0f921\"]], \"type\": \"histogram2d\"}], \"histogram\": [{\"marker\": {\"colorbar\": {\"outlinewidth\": 0, \"ticks\": \"\"}}, \"type\": \"histogram\"}], \"mesh3d\": [{\"colorbar\": {\"outlinewidth\": 0, \"ticks\": \"\"}, \"type\": \"mesh3d\"}], \"parcoords\": [{\"line\": {\"colorbar\": {\"outlinewidth\": 0, \"ticks\": \"\"}}, \"type\": \"parcoords\"}], \"scatter3d\": [{\"line\": {\"colorbar\": {\"outlinewidth\": 0, \"ticks\": \"\"}}, \"marker\": {\"colorbar\": {\"outlinewidth\": 0, \"ticks\": \"\"}}, \"type\": \"scatter3d\"}], \"scattercarpet\": [{\"marker\": {\"colorbar\": {\"outlinewidth\": 0, \"ticks\": \"\"}}, \"type\": \"scattercarpet\"}], \"scattergeo\": [{\"marker\": {\"colorbar\": {\"outlinewidth\": 0, \"ticks\": \"\"}}, \"type\": \"scattergeo\"}], \"scattergl\": [{\"marker\": {\"colorbar\": {\"outlinewidth\": 0, \"ticks\": \"\"}}, \"type\": \"scattergl\"}], \"scattermapbox\": [{\"marker\": {\"colorbar\": {\"outlinewidth\": 0, \"ticks\": \"\"}}, \"type\": \"scattermapbox\"}], \"scatterpolargl\": [{\"marker\": {\"colorbar\": {\"outlinewidth\": 0, \"ticks\": \"\"}}, \"type\": \"scatterpolargl\"}], \"scatterpolar\": [{\"marker\": {\"colorbar\": {\"outlinewidth\": 0, \"ticks\": \"\"}}, \"type\": \"scatterpolar\"}], \"scatter\": [{\"marker\": {\"colorbar\": {\"outlinewidth\": 0, \"ticks\": \"\"}}, \"type\": \"scatter\"}], \"scatterternary\": [{\"marker\": {\"colorbar\": {\"outlinewidth\": 0, \"ticks\": \"\"}}, \"type\": \"scatterternary\"}], \"surface\": [{\"colorbar\": {\"outlinewidth\": 0, \"ticks\": \"\"}, \"colorscale\": [[0.0, \"#0d0887\"], [0.1111111111111111, \"#46039f\"], [0.2222222222222222, \"#7201a8\"], [0.3333333333333333, \"#9c179e\"], [0.4444444444444444, \"#bd3786\"], [0.5555555555555556, \"#d8576b\"], [0.6666666666666666, \"#ed7953\"], [0.7777777777777778, \"#fb9f3a\"], [0.8888888888888888, \"#fdca26\"], [1.0, \"#f0f921\"]], \"type\": \"surface\"}], \"table\": [{\"cells\": {\"fill\": {\"color\": \"#EBF0F8\"}, \"line\": {\"color\": \"white\"}}, \"header\": {\"fill\": {\"color\": \"#C8D4E3\"}, \"line\": {\"color\": \"white\"}}, \"type\": \"table\"}]}, \"layout\": {\"annotationdefaults\": {\"arrowcolor\": \"#2a3f5f\", \"arrowhead\": 0, \"arrowwidth\": 1}, \"colorscale\": {\"diverging\": [[0, \"#8e0152\"], [0.1, \"#c51b7d\"], [0.2, \"#de77ae\"], [0.3, \"#f1b6da\"], [0.4, \"#fde0ef\"], [0.5, \"#f7f7f7\"], [0.6, \"#e6f5d0\"], [0.7, \"#b8e186\"], [0.8, \"#7fbc41\"], [0.9, \"#4d9221\"], [1, \"#276419\"]], \"sequential\": [[0.0, \"#0d0887\"], [0.1111111111111111, \"#46039f\"], [0.2222222222222222, \"#7201a8\"], [0.3333333333333333, \"#9c179e\"], [0.4444444444444444, \"#bd3786\"], [0.5555555555555556, \"#d8576b\"], [0.6666666666666666, \"#ed7953\"], [0.7777777777777778, \"#fb9f3a\"], [0.8888888888888888, \"#fdca26\"], [1.0, \"#f0f921\"]], \"sequentialminus\": [[0.0, \"#0d0887\"], [0.1111111111111111, \"#46039f\"], [0.2222222222222222, \"#7201a8\"], [0.3333333333333333, \"#9c179e\"], [0.4444444444444444, \"#bd3786\"], [0.5555555555555556, \"#d8576b\"], [0.6666666666666666, \"#ed7953\"], [0.7777777777777778, \"#fb9f3a\"], [0.8888888888888888, \"#fdca26\"], [1.0, \"#f0f921\"]]}, \"colorway\": [\"#636efa\", \"#EF553B\", \"#00cc96\", \"#ab63fa\", \"#FFA15A\", \"#19d3f3\", \"#FF6692\", \"#B6E880\", \"#FF97FF\", \"#FECB52\"], \"font\": {\"color\": \"#2a3f5f\"}, \"geo\": {\"bgcolor\": \"white\", \"lakecolor\": \"white\", \"landcolor\": \"#E5ECF6\", \"showlakes\": true, \"showland\": true, \"subunitcolor\": \"white\"}, \"hoverlabel\": {\"align\": \"left\"}, \"hovermode\": \"closest\", \"mapbox\": {\"style\": \"light\"}, \"paper_bgcolor\": \"white\", \"plot_bgcolor\": \"#E5ECF6\", \"polar\": {\"angularaxis\": {\"gridcolor\": \"white\", \"linecolor\": \"white\", \"ticks\": \"\"}, \"bgcolor\": \"#E5ECF6\", \"radialaxis\": {\"gridcolor\": \"white\", \"linecolor\": \"white\", \"ticks\": \"\"}}, \"scene\": {\"xaxis\": {\"backgroundcolor\": \"#E5ECF6\", \"gridcolor\": \"white\", \"gridwidth\": 2, \"linecolor\": \"white\", \"showbackground\": true, \"ticks\": \"\", \"zerolinecolor\": \"white\"}, \"yaxis\": {\"backgroundcolor\": \"#E5ECF6\", \"gridcolor\": \"white\", \"gridwidth\": 2, \"linecolor\": \"white\", \"showbackground\": true, \"ticks\": \"\", \"zerolinecolor\": \"white\"}, \"zaxis\": {\"backgroundcolor\": \"#E5ECF6\", \"gridcolor\": \"white\", \"gridwidth\": 2, \"linecolor\": \"white\", \"showbackground\": true, \"ticks\": \"\", \"zerolinecolor\": \"white\"}}, \"shapedefaults\": {\"line\": {\"color\": \"#2a3f5f\"}}, \"ternary\": {\"aaxis\": {\"gridcolor\": \"white\", \"linecolor\": \"white\", \"ticks\": \"\"}, \"baxis\": {\"gridcolor\": \"white\", \"linecolor\": \"white\", \"ticks\": \"\"}, \"bgcolor\": \"#E5ECF6\", \"caxis\": {\"gridcolor\": \"white\", \"linecolor\": \"white\", \"ticks\": \"\"}}, \"title\": {\"x\": 0.05}, \"xaxis\": {\"automargin\": true, \"gridcolor\": \"white\", \"linecolor\": \"white\", \"ticks\": \"\", \"zerolinecolor\": \"white\", \"zerolinewidth\": 2}, \"yaxis\": {\"automargin\": true, \"gridcolor\": \"white\", \"linecolor\": \"white\", \"ticks\": \"\", \"zerolinecolor\": \"white\", \"zerolinewidth\": 2}}}, \"showlegend\": false, \"title\": {\"text\": \"Marginal Effects by Factor\"}},\n",
       "  {\"showLink\": false}\n",
       ");\n",
       "});</script>"
      ]
     },
     "metadata": {},
     "output_type": "display_data"
    }
   ],
   "source": [
    "from ax.plot.marginal_effects import plot_marginal_effects\n",
    "render(plot_marginal_effects(models[0], 'success_metric'))"
   ]
  }
 ],
 "metadata": {
  "kernelspec": {
   "display_name": "python3",
   "language": "python",
   "name": "python3"
  },
  "language_info": {
   "codemirror_mode": {
    "name": "ipython",
    "version": 3
   },
   "file_extension": ".py",
   "mimetype": "text/x-python",
   "name": "python",
   "nbconvert_exporter": "python",
   "pygments_lexer": "ipython3",
   "version": "3.6.7"
  }
 },
 "nbformat": 4,
 "nbformat_minor": 2
}
